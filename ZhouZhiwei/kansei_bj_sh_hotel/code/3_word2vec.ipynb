{
 "cells": [
  {
   "cell_type": "code",
   "execution_count": 1,
   "metadata": {
    "collapsed": true
   },
   "outputs": [],
   "source": [
    "\"\"\"\n",
    "生成word2vec词向量，min_count=5\n",
    "\"\"\"\n",
    "import logging\n",
    "\n",
    "logging.basicConfig(format='%(asctime)s : %(levelname)s : %(message)s', level=logging.INFO)"
   ]
  },
  {
   "cell_type": "code",
   "execution_count": 6,
   "outputs": [],
   "source": [
    "from gensim.test.utils import datapath\n",
    "from gensim import utils\n",
    "\n",
    "\n",
    "class MyCorpus:\n",
    "    def __iter__(self):\n",
    "        corpus_path = '../data/word2vec_corpus_with_stoped_punctuation.txt'\n",
    "        for line in open(corpus_path, encoding='utf-8'):\n",
    "            yield utils.simple_preprocess(line)"
   ],
   "metadata": {
    "collapsed": false
   }
  },
  {
   "cell_type": "code",
   "execution_count": 7,
   "outputs": [
    {
     "name": "stderr",
     "output_type": "stream",
     "text": [
      "2022-08-18 14:15:28,623 : INFO : collecting all words and their counts\n",
      "2022-08-18 14:15:28,625 : INFO : PROGRESS: at sentence #0, processed 0 words, keeping 0 word types\n",
      "2022-08-18 14:15:28,824 : INFO : PROGRESS: at sentence #10000, processed 116734 words, keeping 9693 word types\n",
      "2022-08-18 14:15:29,022 : INFO : PROGRESS: at sentence #20000, processed 232533 words, keeping 14815 word types\n",
      "2022-08-18 14:15:29,171 : INFO : PROGRESS: at sentence #30000, processed 323830 words, keeping 17625 word types\n",
      "2022-08-18 14:15:29,345 : INFO : PROGRESS: at sentence #40000, processed 430437 words, keeping 20890 word types\n",
      "2022-08-18 14:15:29,687 : INFO : PROGRESS: at sentence #50000, processed 645721 words, keeping 25445 word types\n",
      "2022-08-18 14:15:29,939 : INFO : PROGRESS: at sentence #60000, processed 766681 words, keeping 29457 word types\n",
      "2022-08-18 14:15:30,186 : INFO : PROGRESS: at sentence #70000, processed 913534 words, keeping 33864 word types\n",
      "2022-08-18 14:15:30,414 : INFO : PROGRESS: at sentence #80000, processed 1052967 words, keeping 37811 word types\n",
      "2022-08-18 14:15:30,636 : INFO : PROGRESS: at sentence #90000, processed 1188138 words, keeping 40991 word types\n",
      "2022-08-18 14:15:30,831 : INFO : PROGRESS: at sentence #100000, processed 1306187 words, keeping 43415 word types\n",
      "2022-08-18 14:15:31,012 : INFO : PROGRESS: at sentence #110000, processed 1416226 words, keeping 45552 word types\n",
      "2022-08-18 14:15:31,210 : INFO : PROGRESS: at sentence #120000, processed 1537330 words, keeping 47421 word types\n",
      "2022-08-18 14:15:31,396 : INFO : PROGRESS: at sentence #130000, processed 1648222 words, keeping 49615 word types\n",
      "2022-08-18 14:15:31,589 : INFO : PROGRESS: at sentence #140000, processed 1764326 words, keeping 51719 word types\n",
      "2022-08-18 14:15:31,756 : INFO : PROGRESS: at sentence #150000, processed 1862714 words, keeping 53403 word types\n",
      "2022-08-18 14:15:31,928 : INFO : PROGRESS: at sentence #160000, processed 1965695 words, keeping 55494 word types\n",
      "2022-08-18 14:15:32,090 : INFO : PROGRESS: at sentence #170000, processed 2063439 words, keeping 57219 word types\n",
      "2022-08-18 14:15:32,254 : INFO : PROGRESS: at sentence #180000, processed 2163553 words, keeping 58856 word types\n",
      "2022-08-18 14:15:32,432 : INFO : PROGRESS: at sentence #190000, processed 2267156 words, keeping 60704 word types\n",
      "2022-08-18 14:15:32,606 : INFO : PROGRESS: at sentence #200000, processed 2368385 words, keeping 62540 word types\n",
      "2022-08-18 14:15:32,788 : INFO : PROGRESS: at sentence #210000, processed 2478304 words, keeping 64177 word types\n",
      "2022-08-18 14:15:32,963 : INFO : PROGRESS: at sentence #220000, processed 2584787 words, keeping 65807 word types\n",
      "2022-08-18 14:15:33,161 : INFO : PROGRESS: at sentence #230000, processed 2705497 words, keeping 68013 word types\n",
      "2022-08-18 14:15:33,364 : INFO : PROGRESS: at sentence #240000, processed 2820810 words, keeping 70211 word types\n",
      "2022-08-18 14:15:33,534 : INFO : PROGRESS: at sentence #250000, processed 2919640 words, keeping 71577 word types\n",
      "2022-08-18 14:15:33,765 : INFO : PROGRESS: at sentence #260000, processed 3059245 words, keeping 73704 word types\n",
      "2022-08-18 14:15:33,957 : INFO : PROGRESS: at sentence #270000, processed 3170562 words, keeping 75077 word types\n",
      "2022-08-18 14:15:34,140 : INFO : PROGRESS: at sentence #280000, processed 3271041 words, keeping 76469 word types\n",
      "2022-08-18 14:15:34,340 : INFO : PROGRESS: at sentence #290000, processed 3385159 words, keeping 78320 word types\n",
      "2022-08-18 14:15:34,681 : INFO : PROGRESS: at sentence #300000, processed 3592209 words, keeping 81866 word types\n",
      "2022-08-18 14:15:34,872 : INFO : PROGRESS: at sentence #310000, processed 3706740 words, keeping 83917 word types\n",
      "2022-08-18 14:15:35,058 : INFO : collected 85482 word types from a corpus of 3802827 raw words and 317418 sentences\n",
      "2022-08-18 14:15:35,059 : INFO : Creating a fresh vocabulary\n",
      "2022-08-18 14:15:35,134 : INFO : Word2Vec lifecycle event {'msg': 'effective_min_count=5 retains 18913 unique words (22.13% of original 85482, drops 66569)', 'datetime': '2022-08-18T14:15:35.134802', 'gensim': '4.2.0', 'python': '3.9.12 (main, Apr  4 2022, 05:22:27) [MSC v.1916 64 bit (AMD64)]', 'platform': 'Windows-10-10.0.19044-SP0', 'event': 'prepare_vocab'}\n",
      "2022-08-18 14:15:35,135 : INFO : Word2Vec lifecycle event {'msg': 'effective_min_count=5 leaves 3707544 word corpus (97.49% of original 3802827, drops 95283)', 'datetime': '2022-08-18T14:15:35.135788', 'gensim': '4.2.0', 'python': '3.9.12 (main, Apr  4 2022, 05:22:27) [MSC v.1916 64 bit (AMD64)]', 'platform': 'Windows-10-10.0.19044-SP0', 'event': 'prepare_vocab'}\n",
      "2022-08-18 14:15:35,238 : INFO : deleting the raw counts dictionary of 85482 items\n",
      "2022-08-18 14:15:35,243 : INFO : sample=0.001 downsamples 55 most-common words\n",
      "2022-08-18 14:15:35,245 : INFO : Word2Vec lifecycle event {'msg': 'downsampling leaves estimated 2940779.839178709 word corpus (79.3%% of prior 3707544)', 'datetime': '2022-08-18T14:15:35.245786', 'gensim': '4.2.0', 'python': '3.9.12 (main, Apr  4 2022, 05:22:27) [MSC v.1916 64 bit (AMD64)]', 'platform': 'Windows-10-10.0.19044-SP0', 'event': 'prepare_vocab'}\n",
      "2022-08-18 14:15:35,381 : INFO : estimated required memory for 18913 words and 200 dimensions: 39717300 bytes\n",
      "2022-08-18 14:15:35,382 : INFO : resetting layer weights\n",
      "2022-08-18 14:15:35,397 : INFO : Word2Vec lifecycle event {'update': False, 'trim_rule': 'None', 'datetime': '2022-08-18T14:15:35.397793', 'gensim': '4.2.0', 'python': '3.9.12 (main, Apr  4 2022, 05:22:27) [MSC v.1916 64 bit (AMD64)]', 'platform': 'Windows-10-10.0.19044-SP0', 'event': 'build_vocab'}\n",
      "2022-08-18 14:15:35,398 : INFO : Word2Vec lifecycle event {'msg': 'training model with 3 workers on 18913 vocabulary and 200 features, using sg=0 hs=0 sample=0.001 negative=5 window=5 shrink_windows=True', 'datetime': '2022-08-18T14:15:35.398793', 'gensim': '4.2.0', 'python': '3.9.12 (main, Apr  4 2022, 05:22:27) [MSC v.1916 64 bit (AMD64)]', 'platform': 'Windows-10-10.0.19044-SP0', 'event': 'train'}\n",
      "2022-08-18 14:15:36,416 : INFO : EPOCH 0 - PROGRESS: at 12.88% examples, 346857 words/s, in_qsize 2, out_qsize 0\n",
      "2022-08-18 14:15:37,417 : INFO : EPOCH 0 - PROGRESS: at 24.45% examples, 392853 words/s, in_qsize 0, out_qsize 0\n",
      "2022-08-18 14:15:38,429 : INFO : EPOCH 0 - PROGRESS: at 36.06% examples, 378806 words/s, in_qsize 4, out_qsize 0\n",
      "2022-08-18 14:15:39,463 : INFO : EPOCH 0 - PROGRESS: at 50.67% examples, 376394 words/s, in_qsize 5, out_qsize 1\n",
      "2022-08-18 14:15:40,472 : INFO : EPOCH 0 - PROGRESS: at 65.81% examples, 375250 words/s, in_qsize 5, out_qsize 0\n",
      "2022-08-18 14:15:41,509 : INFO : EPOCH 0 - PROGRESS: at 80.47% examples, 377086 words/s, in_qsize 5, out_qsize 0\n",
      "2022-08-18 14:15:42,510 : INFO : EPOCH 0 - PROGRESS: at 93.85% examples, 386223 words/s, in_qsize 0, out_qsize 0\n",
      "2022-08-18 14:15:43,060 : INFO : EPOCH 0: training on 3802827 raw words (2939999 effective words) took 7.7s, 383924 effective words/s\n",
      "2022-08-18 14:15:44,069 : INFO : EPOCH 1 - PROGRESS: at 13.22% examples, 390337 words/s, in_qsize 0, out_qsize 0\n",
      "2022-08-18 14:15:45,092 : INFO : EPOCH 1 - PROGRESS: at 24.22% examples, 386637 words/s, in_qsize 1, out_qsize 1\n",
      "2022-08-18 14:15:46,121 : INFO : EPOCH 1 - PROGRESS: at 38.30% examples, 395151 words/s, in_qsize 0, out_qsize 0\n",
      "2022-08-18 14:15:47,135 : INFO : EPOCH 1 - PROGRESS: at 51.16% examples, 379356 words/s, in_qsize 3, out_qsize 2\n",
      "2022-08-18 14:15:48,154 : INFO : EPOCH 1 - PROGRESS: at 67.41% examples, 382867 words/s, in_qsize 5, out_qsize 0\n",
      "2022-08-18 14:15:49,188 : INFO : EPOCH 1 - PROGRESS: at 82.97% examples, 390061 words/s, in_qsize 1, out_qsize 0\n",
      "2022-08-18 14:15:50,210 : INFO : EPOCH 1 - PROGRESS: at 93.85% examples, 384202 words/s, in_qsize 6, out_qsize 0\n",
      "2022-08-18 14:15:50,575 : INFO : EPOCH 1: training on 3802827 raw words (2940439 effective words) took 7.5s, 391439 effective words/s\n",
      "2022-08-18 14:15:51,601 : INFO : EPOCH 2 - PROGRESS: at 12.82% examples, 336369 words/s, in_qsize 6, out_qsize 0\n",
      "2022-08-18 14:15:52,613 : INFO : EPOCH 2 - PROGRESS: at 25.11% examples, 400979 words/s, in_qsize 0, out_qsize 0\n",
      "2022-08-18 14:15:53,616 : INFO : EPOCH 2 - PROGRESS: at 37.81% examples, 392632 words/s, in_qsize 0, out_qsize 0\n",
      "2022-08-18 14:15:54,620 : INFO : EPOCH 2 - PROGRESS: at 52.32% examples, 387770 words/s, in_qsize 0, out_qsize 0\n",
      "2022-08-18 14:15:55,674 : INFO : EPOCH 2 - PROGRESS: at 67.08% examples, 379360 words/s, in_qsize 6, out_qsize 0\n",
      "2022-08-18 14:15:56,740 : INFO : EPOCH 2 - PROGRESS: at 81.22% examples, 377561 words/s, in_qsize 6, out_qsize 0\n",
      "2022-08-18 14:15:57,747 : INFO : EPOCH 2 - PROGRESS: at 93.77% examples, 381811 words/s, in_qsize 4, out_qsize 2\n",
      "2022-08-18 14:15:58,118 : INFO : EPOCH 2: training on 3802827 raw words (2940655 effective words) took 7.5s, 390015 effective words/s\n",
      "2022-08-18 14:15:59,127 : INFO : EPOCH 3 - PROGRESS: at 12.26% examples, 318412 words/s, in_qsize 5, out_qsize 0\n",
      "2022-08-18 14:16:00,132 : INFO : EPOCH 3 - PROGRESS: at 24.10% examples, 385766 words/s, in_qsize 0, out_qsize 1\n",
      "2022-08-18 14:16:01,154 : INFO : EPOCH 3 - PROGRESS: at 37.18% examples, 388280 words/s, in_qsize 0, out_qsize 0\n",
      "2022-08-18 14:16:02,240 : INFO : EPOCH 3 - PROGRESS: at 52.58% examples, 382408 words/s, in_qsize 1, out_qsize 0\n",
      "2022-08-18 14:16:03,266 : INFO : EPOCH 3 - PROGRESS: at 67.26% examples, 377370 words/s, in_qsize 5, out_qsize 0\n",
      "2022-08-18 14:16:04,295 : INFO : EPOCH 3 - PROGRESS: at 81.82% examples, 382071 words/s, in_qsize 4, out_qsize 1\n",
      "2022-08-18 14:16:05,337 : INFO : EPOCH 3 - PROGRESS: at 93.97% examples, 381672 words/s, in_qsize 5, out_qsize 0\n",
      "2022-08-18 14:16:05,674 : INFO : EPOCH 3: training on 3802827 raw words (2941044 effective words) took 7.6s, 389355 effective words/s\n",
      "2022-08-18 14:16:06,677 : INFO : EPOCH 4 - PROGRESS: at 12.95% examples, 360121 words/s, in_qsize 4, out_qsize 0\n",
      "2022-08-18 14:16:07,695 : INFO : EPOCH 4 - PROGRESS: at 24.10% examples, 384583 words/s, in_qsize 5, out_qsize 0\n",
      "2022-08-18 14:16:08,848 : INFO : EPOCH 4 - PROGRESS: at 38.30% examples, 381154 words/s, in_qsize 6, out_qsize 0\n",
      "2022-08-18 14:16:09,864 : INFO : EPOCH 4 - PROGRESS: at 56.55% examples, 397674 words/s, in_qsize 0, out_qsize 0\n",
      "2022-08-18 14:16:10,920 : INFO : EPOCH 4 - PROGRESS: at 70.83% examples, 387853 words/s, in_qsize 6, out_qsize 0\n",
      "2022-08-18 14:16:11,928 : INFO : EPOCH 4 - PROGRESS: at 85.54% examples, 393127 words/s, in_qsize 0, out_qsize 0\n",
      "2022-08-18 14:16:12,980 : INFO : EPOCH 4 - PROGRESS: at 97.73% examples, 393178 words/s, in_qsize 2, out_qsize 0\n",
      "2022-08-18 14:16:13,076 : INFO : EPOCH 4: training on 3802827 raw words (2940299 effective words) took 7.4s, 397395 effective words/s\n",
      "2022-08-18 14:16:13,076 : INFO : Word2Vec lifecycle event {'msg': 'training on 19014135 raw words (14702436 effective words) took 37.7s, 390223 effective words/s', 'datetime': '2022-08-18T14:16:13.076423', 'gensim': '4.2.0', 'python': '3.9.12 (main, Apr  4 2022, 05:22:27) [MSC v.1916 64 bit (AMD64)]', 'platform': 'Windows-10-10.0.19044-SP0', 'event': 'train'}\n",
      "2022-08-18 14:16:13,077 : INFO : Word2Vec lifecycle event {'params': 'Word2Vec<vocab=18913, vector_size=200, alpha=0.025>', 'datetime': '2022-08-18T14:16:13.077435', 'gensim': '4.2.0', 'python': '3.9.12 (main, Apr  4 2022, 05:22:27) [MSC v.1916 64 bit (AMD64)]', 'platform': 'Windows-10-10.0.19044-SP0', 'event': 'created'}\n"
     ]
    }
   ],
   "source": [
    "import gensim.models\n",
    "\n",
    "sentences = MyCorpus()\n",
    "# CBOW 200\n",
    "model = gensim.models.Word2Vec(sentences=sentences, vector_size=200)"
   ],
   "metadata": {
    "collapsed": false
   }
  },
  {
   "cell_type": "code",
   "execution_count": 18,
   "outputs": [
    {
     "name": "stderr",
     "output_type": "stream",
     "text": [
      "2022-08-18 14:39:36,102 : INFO : Word2Vec lifecycle event {'fname_or_handle': 'C:\\\\Users\\\\62774\\\\AppData\\\\Local\\\\Temp\\\\gensim-model-eugq3o39', 'separately': 'None', 'sep_limit': 10485760, 'ignore': frozenset(), 'datetime': '2022-08-18T14:39:36.102973', 'gensim': '4.2.0', 'python': '3.9.12 (main, Apr  4 2022, 05:22:27) [MSC v.1916 64 bit (AMD64)]', 'platform': 'Windows-10-10.0.19044-SP0', 'event': 'saving'}\n",
      "2022-08-18 14:39:36,103 : INFO : not storing attribute cum_table\n",
      "2022-08-18 14:39:36,138 : INFO : saved C:\\Users\\62774\\AppData\\Local\\Temp\\gensim-model-eugq3o39\n"
     ]
    }
   ],
   "source": [
    "import tempfile\n",
    "\n",
    "with tempfile.NamedTemporaryFile(prefix='gensim-model-', delete=False) as tmp:\n",
    "    temporary_filepath = tmp.name\n",
    "    model.save(temporary_filepath)"
   ],
   "metadata": {
    "collapsed": false
   }
  },
  {
   "cell_type": "code",
   "execution_count": 19,
   "outputs": [
    {
     "name": "stderr",
     "output_type": "stream",
     "text": [
      "2022-08-18 14:44:11,904 : INFO : collecting all words and their counts\n",
      "2022-08-18 14:44:11,906 : INFO : PROGRESS: at sentence #0, processed 0 words, keeping 0 word types\n",
      "2022-08-18 14:44:12,098 : INFO : PROGRESS: at sentence #10000, processed 116734 words, keeping 9693 word types\n",
      "2022-08-18 14:44:12,317 : INFO : PROGRESS: at sentence #20000, processed 232533 words, keeping 14815 word types\n",
      "2022-08-18 14:44:12,484 : INFO : PROGRESS: at sentence #30000, processed 323830 words, keeping 17625 word types\n",
      "2022-08-18 14:44:12,671 : INFO : PROGRESS: at sentence #40000, processed 430437 words, keeping 20890 word types\n",
      "2022-08-18 14:44:13,046 : INFO : PROGRESS: at sentence #50000, processed 645721 words, keeping 25445 word types\n",
      "2022-08-18 14:44:13,269 : INFO : PROGRESS: at sentence #60000, processed 766681 words, keeping 29457 word types\n",
      "2022-08-18 14:44:13,534 : INFO : PROGRESS: at sentence #70000, processed 913534 words, keeping 33864 word types\n",
      "2022-08-18 14:44:13,787 : INFO : PROGRESS: at sentence #80000, processed 1052967 words, keeping 37811 word types\n",
      "2022-08-18 14:44:14,021 : INFO : PROGRESS: at sentence #90000, processed 1188138 words, keeping 40991 word types\n",
      "2022-08-18 14:44:14,238 : INFO : PROGRESS: at sentence #100000, processed 1306187 words, keeping 43415 word types\n",
      "2022-08-18 14:44:14,436 : INFO : PROGRESS: at sentence #110000, processed 1416226 words, keeping 45552 word types\n",
      "2022-08-18 14:44:14,658 : INFO : PROGRESS: at sentence #120000, processed 1537330 words, keeping 47421 word types\n",
      "2022-08-18 14:44:14,879 : INFO : PROGRESS: at sentence #130000, processed 1648222 words, keeping 49615 word types\n",
      "2022-08-18 14:44:15,085 : INFO : PROGRESS: at sentence #140000, processed 1764326 words, keeping 51719 word types\n",
      "2022-08-18 14:44:15,259 : INFO : PROGRESS: at sentence #150000, processed 1862714 words, keeping 53403 word types\n",
      "2022-08-18 14:44:15,437 : INFO : PROGRESS: at sentence #160000, processed 1965695 words, keeping 55494 word types\n",
      "2022-08-18 14:44:15,606 : INFO : PROGRESS: at sentence #170000, processed 2063439 words, keeping 57219 word types\n",
      "2022-08-18 14:44:15,773 : INFO : PROGRESS: at sentence #180000, processed 2163553 words, keeping 58856 word types\n",
      "2022-08-18 14:44:15,961 : INFO : PROGRESS: at sentence #190000, processed 2267156 words, keeping 60704 word types\n",
      "2022-08-18 14:44:16,139 : INFO : PROGRESS: at sentence #200000, processed 2368385 words, keeping 62540 word types\n",
      "2022-08-18 14:44:16,332 : INFO : PROGRESS: at sentence #210000, processed 2478304 words, keeping 64177 word types\n",
      "2022-08-18 14:44:16,518 : INFO : PROGRESS: at sentence #220000, processed 2584787 words, keeping 65807 word types\n",
      "2022-08-18 14:44:16,724 : INFO : PROGRESS: at sentence #230000, processed 2705497 words, keeping 68013 word types\n",
      "2022-08-18 14:44:16,928 : INFO : PROGRESS: at sentence #240000, processed 2820810 words, keeping 70211 word types\n",
      "2022-08-18 14:44:17,100 : INFO : PROGRESS: at sentence #250000, processed 2919640 words, keeping 71577 word types\n",
      "2022-08-18 14:44:17,342 : INFO : PROGRESS: at sentence #260000, processed 3059245 words, keeping 73704 word types\n",
      "2022-08-18 14:44:17,536 : INFO : PROGRESS: at sentence #270000, processed 3170562 words, keeping 75077 word types\n",
      "2022-08-18 14:44:17,701 : INFO : PROGRESS: at sentence #280000, processed 3271041 words, keeping 76469 word types\n",
      "2022-08-18 14:44:17,907 : INFO : PROGRESS: at sentence #290000, processed 3385159 words, keeping 78320 word types\n",
      "2022-08-18 14:44:18,258 : INFO : PROGRESS: at sentence #300000, processed 3592209 words, keeping 81866 word types\n",
      "2022-08-18 14:44:18,457 : INFO : PROGRESS: at sentence #310000, processed 3706740 words, keeping 83917 word types\n",
      "2022-08-18 14:44:18,620 : INFO : collected 85482 word types from a corpus of 3802827 raw words and 317418 sentences\n",
      "2022-08-18 14:44:18,621 : INFO : Creating a fresh vocabulary\n",
      "2022-08-18 14:44:18,699 : INFO : Word2Vec lifecycle event {'msg': 'effective_min_count=5 retains 18913 unique words (22.13% of original 85482, drops 66569)', 'datetime': '2022-08-18T14:44:18.699933', 'gensim': '4.2.0', 'python': '3.9.12 (main, Apr  4 2022, 05:22:27) [MSC v.1916 64 bit (AMD64)]', 'platform': 'Windows-10-10.0.19044-SP0', 'event': 'prepare_vocab'}\n",
      "2022-08-18 14:44:18,700 : INFO : Word2Vec lifecycle event {'msg': 'effective_min_count=5 leaves 3707544 word corpus (97.49% of original 3802827, drops 95283)', 'datetime': '2022-08-18T14:44:18.700933', 'gensim': '4.2.0', 'python': '3.9.12 (main, Apr  4 2022, 05:22:27) [MSC v.1916 64 bit (AMD64)]', 'platform': 'Windows-10-10.0.19044-SP0', 'event': 'prepare_vocab'}\n",
      "2022-08-18 14:44:18,791 : INFO : deleting the raw counts dictionary of 85482 items\n",
      "2022-08-18 14:44:18,794 : INFO : sample=0.001 downsamples 55 most-common words\n",
      "2022-08-18 14:44:18,795 : INFO : Word2Vec lifecycle event {'msg': 'downsampling leaves estimated 2940779.839178709 word corpus (79.3%% of prior 3707544)', 'datetime': '2022-08-18T14:44:18.795957', 'gensim': '4.2.0', 'python': '3.9.12 (main, Apr  4 2022, 05:22:27) [MSC v.1916 64 bit (AMD64)]', 'platform': 'Windows-10-10.0.19044-SP0', 'event': 'prepare_vocab'}\n",
      "2022-08-18 14:44:18,942 : INFO : estimated required memory for 18913 words and 300 dimensions: 54847700 bytes\n",
      "2022-08-18 14:44:18,943 : INFO : resetting layer weights\n",
      "2022-08-18 14:44:18,968 : INFO : Word2Vec lifecycle event {'update': False, 'trim_rule': 'None', 'datetime': '2022-08-18T14:44:18.968978', 'gensim': '4.2.0', 'python': '3.9.12 (main, Apr  4 2022, 05:22:27) [MSC v.1916 64 bit (AMD64)]', 'platform': 'Windows-10-10.0.19044-SP0', 'event': 'build_vocab'}\n",
      "2022-08-18 14:44:18,970 : INFO : Word2Vec lifecycle event {'msg': 'training model with 3 workers on 18913 vocabulary and 300 features, using sg=0 hs=0 sample=0.001 negative=5 window=5 shrink_windows=True', 'datetime': '2022-08-18T14:44:18.970940', 'gensim': '4.2.0', 'python': '3.9.12 (main, Apr  4 2022, 05:22:27) [MSC v.1916 64 bit (AMD64)]', 'platform': 'Windows-10-10.0.19044-SP0', 'event': 'train'}\n",
      "2022-08-18 14:44:19,979 : INFO : EPOCH 0 - PROGRESS: at 11.87% examples, 302937 words/s, in_qsize 4, out_qsize 1\n",
      "2022-08-18 14:44:20,980 : INFO : EPOCH 0 - PROGRESS: at 22.67% examples, 363530 words/s, in_qsize 2, out_qsize 0\n",
      "2022-08-18 14:44:22,027 : INFO : EPOCH 0 - PROGRESS: at 36.12% examples, 375608 words/s, in_qsize 0, out_qsize 1\n",
      "2022-08-18 14:44:23,035 : INFO : EPOCH 0 - PROGRESS: at 50.97% examples, 378482 words/s, in_qsize 0, out_qsize 0\n",
      "2022-08-18 14:44:24,065 : INFO : EPOCH 0 - PROGRESS: at 64.62% examples, 366447 words/s, in_qsize 2, out_qsize 0\n",
      "2022-08-18 14:44:25,106 : INFO : EPOCH 0 - PROGRESS: at 78.44% examples, 365739 words/s, in_qsize 5, out_qsize 0\n",
      "2022-08-18 14:44:26,175 : INFO : EPOCH 0 - PROGRESS: at 93.32% examples, 373206 words/s, in_qsize 4, out_qsize 0\n",
      "2022-08-18 14:44:26,732 : INFO : EPOCH 0: training on 3802827 raw words (2940689 effective words) took 7.8s, 379083 effective words/s\n",
      "2022-08-18 14:44:27,759 : INFO : EPOCH 1 - PROGRESS: at 12.75% examples, 328234 words/s, in_qsize 3, out_qsize 0\n",
      "2022-08-18 14:44:28,761 : INFO : EPOCH 1 - PROGRESS: at 24.02% examples, 379060 words/s, in_qsize 0, out_qsize 1\n",
      "2022-08-18 14:44:29,776 : INFO : EPOCH 1 - PROGRESS: at 35.90% examples, 374842 words/s, in_qsize 3, out_qsize 0\n",
      "2022-08-18 14:44:30,807 : INFO : EPOCH 1 - PROGRESS: at 51.66% examples, 381232 words/s, in_qsize 0, out_qsize 0\n",
      "2022-08-18 14:44:31,825 : INFO : EPOCH 1 - PROGRESS: at 65.38% examples, 370844 words/s, in_qsize 4, out_qsize 0\n",
      "2022-08-18 14:44:32,831 : INFO : EPOCH 1 - PROGRESS: at 80.66% examples, 379127 words/s, in_qsize 0, out_qsize 0\n",
      "2022-08-18 14:44:33,846 : INFO : EPOCH 1 - PROGRESS: at 92.95% examples, 374578 words/s, in_qsize 5, out_qsize 0\n",
      "2022-08-18 14:44:34,427 : INFO : EPOCH 1: training on 3802827 raw words (2940684 effective words) took 7.7s, 382310 effective words/s\n",
      "2022-08-18 14:44:35,526 : INFO : EPOCH 2 - PROGRESS: at 12.88% examples, 320964 words/s, in_qsize 5, out_qsize 0\n",
      "2022-08-18 14:44:36,536 : INFO : EPOCH 2 - PROGRESS: at 23.55% examples, 356892 words/s, in_qsize 5, out_qsize 0\n",
      "2022-08-18 14:44:37,544 : INFO : EPOCH 2 - PROGRESS: at 37.81% examples, 382942 words/s, in_qsize 1, out_qsize 0\n",
      "2022-08-18 14:44:38,555 : INFO : EPOCH 2 - PROGRESS: at 53.01% examples, 383434 words/s, in_qsize 0, out_qsize 0\n",
      "2022-08-18 14:44:39,600 : INFO : EPOCH 2 - PROGRESS: at 67.08% examples, 373838 words/s, in_qsize 1, out_qsize 0\n",
      "2022-08-18 14:44:40,600 : INFO : EPOCH 2 - PROGRESS: at 81.50% examples, 379621 words/s, in_qsize 0, out_qsize 0\n",
      "2022-08-18 14:44:41,604 : INFO : EPOCH 2 - PROGRESS: at 93.74% examples, 381522 words/s, in_qsize 0, out_qsize 0\n",
      "2022-08-18 14:44:42,124 : INFO : EPOCH 2: training on 3802827 raw words (2940282 effective words) took 7.7s, 382127 effective words/s\n",
      "2022-08-18 14:44:43,141 : INFO : EPOCH 3 - PROGRESS: at 12.82% examples, 338636 words/s, in_qsize 4, out_qsize 2\n",
      "2022-08-18 14:44:44,148 : INFO : EPOCH 3 - PROGRESS: at 23.16% examples, 368099 words/s, in_qsize 2, out_qsize 0\n",
      "2022-08-18 14:44:45,186 : INFO : EPOCH 3 - PROGRESS: at 35.18% examples, 367291 words/s, in_qsize 5, out_qsize 0\n",
      "2022-08-18 14:44:46,189 : INFO : EPOCH 3 - PROGRESS: at 50.97% examples, 378072 words/s, in_qsize 0, out_qsize 0\n",
      "2022-08-18 14:44:47,193 : INFO : EPOCH 3 - PROGRESS: at 67.08% examples, 381310 words/s, in_qsize 0, out_qsize 0\n",
      "2022-08-18 14:44:48,218 : INFO : EPOCH 3 - PROGRESS: at 79.93% examples, 375489 words/s, in_qsize 0, out_qsize 0\n",
      "2022-08-18 14:44:49,221 : INFO : EPOCH 3 - PROGRESS: at 92.73% examples, 375369 words/s, in_qsize 0, out_qsize 0\n",
      "2022-08-18 14:44:49,907 : INFO : EPOCH 3: training on 3802827 raw words (2939691 effective words) took 7.8s, 377848 effective words/s\n",
      "2022-08-18 14:44:50,927 : INFO : EPOCH 4 - PROGRESS: at 13.22% examples, 385691 words/s, in_qsize 0, out_qsize 0\n",
      "2022-08-18 14:44:51,953 : INFO : EPOCH 4 - PROGRESS: at 24.10% examples, 379804 words/s, in_qsize 3, out_qsize 0\n",
      "2022-08-18 14:44:52,983 : INFO : EPOCH 4 - PROGRESS: at 35.61% examples, 368256 words/s, in_qsize 5, out_qsize 1\n",
      "2022-08-18 14:44:53,996 : INFO : EPOCH 4 - PROGRESS: at 50.45% examples, 372409 words/s, in_qsize 5, out_qsize 0\n",
      "2022-08-18 14:44:54,998 : INFO : EPOCH 4 - PROGRESS: at 65.56% examples, 372566 words/s, in_qsize 6, out_qsize 0\n",
      "2022-08-18 14:44:56,007 : INFO : EPOCH 4 - PROGRESS: at 79.47% examples, 372860 words/s, in_qsize 2, out_qsize 0\n",
      "2022-08-18 14:44:57,013 : INFO : EPOCH 4 - PROGRESS: at 93.38% examples, 379541 words/s, in_qsize 0, out_qsize 0\n",
      "2022-08-18 14:44:57,593 : INFO : EPOCH 4: training on 3802827 raw words (2941557 effective words) took 7.7s, 382798 effective words/s\n",
      "2022-08-18 14:44:57,594 : INFO : Word2Vec lifecycle event {'msg': 'training on 19014135 raw words (14702903 effective words) took 38.6s, 380684 effective words/s', 'datetime': '2022-08-18T14:44:57.594484', 'gensim': '4.2.0', 'python': '3.9.12 (main, Apr  4 2022, 05:22:27) [MSC v.1916 64 bit (AMD64)]', 'platform': 'Windows-10-10.0.19044-SP0', 'event': 'train'}\n",
      "2022-08-18 14:44:57,594 : INFO : Word2Vec lifecycle event {'params': 'Word2Vec<vocab=18913, vector_size=300, alpha=0.025>', 'datetime': '2022-08-18T14:44:57.594484', 'gensim': '4.2.0', 'python': '3.9.12 (main, Apr  4 2022, 05:22:27) [MSC v.1916 64 bit (AMD64)]', 'platform': 'Windows-10-10.0.19044-SP0', 'event': 'created'}\n"
     ]
    }
   ],
   "source": [
    "# CBOW 300\n",
    "cbow300 = gensim.models.Word2Vec(sentences=sentences, vector_size=300)"
   ],
   "metadata": {
    "collapsed": false
   }
  },
  {
   "cell_type": "code",
   "execution_count": 22,
   "outputs": [
    {
     "name": "stderr",
     "output_type": "stream",
     "text": [
      "2022-08-18 14:47:22,643 : INFO : Word2Vec lifecycle event {'fname_or_handle': 'C:\\\\Users\\\\62774\\\\AppData\\\\Local\\\\Temp\\\\gensim-model-k00bcm30', 'separately': 'None', 'sep_limit': 10485760, 'ignore': frozenset(), 'datetime': '2022-08-18T14:47:22.643254', 'gensim': '4.2.0', 'python': '3.9.12 (main, Apr  4 2022, 05:22:27) [MSC v.1916 64 bit (AMD64)]', 'platform': 'Windows-10-10.0.19044-SP0', 'event': 'saving'}\n",
      "2022-08-18 14:47:22,645 : INFO : not storing attribute cum_table\n",
      "2022-08-18 14:47:22,699 : INFO : saved C:\\Users\\62774\\AppData\\Local\\Temp\\gensim-model-k00bcm30\n"
     ]
    }
   ],
   "source": [
    "with tempfile.NamedTemporaryFile(prefix='gensim-model-', delete=False) as tmp:\n",
    "    temporary_filepath = tmp.name\n",
    "    cbow300.save(temporary_filepath)"
   ],
   "metadata": {
    "collapsed": false
   }
  },
  {
   "cell_type": "code",
   "execution_count": 23,
   "outputs": [
    {
     "name": "stderr",
     "output_type": "stream",
     "text": [
      "2022-08-18 14:48:57,865 : INFO : collecting all words and their counts\n",
      "2022-08-18 14:48:57,866 : INFO : PROGRESS: at sentence #0, processed 0 words, keeping 0 word types\n",
      "2022-08-18 14:48:58,076 : INFO : PROGRESS: at sentence #10000, processed 116734 words, keeping 9693 word types\n",
      "2022-08-18 14:48:58,263 : INFO : PROGRESS: at sentence #20000, processed 232533 words, keeping 14815 word types\n",
      "2022-08-18 14:48:58,414 : INFO : PROGRESS: at sentence #30000, processed 323830 words, keeping 17625 word types\n",
      "2022-08-18 14:48:58,591 : INFO : PROGRESS: at sentence #40000, processed 430437 words, keeping 20890 word types\n",
      "2022-08-18 14:48:58,954 : INFO : PROGRESS: at sentence #50000, processed 645721 words, keeping 25445 word types\n",
      "2022-08-18 14:48:59,176 : INFO : PROGRESS: at sentence #60000, processed 766681 words, keeping 29457 word types\n",
      "2022-08-18 14:48:59,420 : INFO : PROGRESS: at sentence #70000, processed 913534 words, keeping 33864 word types\n",
      "2022-08-18 14:48:59,664 : INFO : PROGRESS: at sentence #80000, processed 1052967 words, keeping 37811 word types\n",
      "2022-08-18 14:48:59,894 : INFO : PROGRESS: at sentence #90000, processed 1188138 words, keeping 40991 word types\n",
      "2022-08-18 14:49:00,099 : INFO : PROGRESS: at sentence #100000, processed 1306187 words, keeping 43415 word types\n",
      "2022-08-18 14:49:00,282 : INFO : PROGRESS: at sentence #110000, processed 1416226 words, keeping 45552 word types\n",
      "2022-08-18 14:49:00,486 : INFO : PROGRESS: at sentence #120000, processed 1537330 words, keeping 47421 word types\n",
      "2022-08-18 14:49:00,671 : INFO : PROGRESS: at sentence #130000, processed 1648222 words, keeping 49615 word types\n",
      "2022-08-18 14:49:00,863 : INFO : PROGRESS: at sentence #140000, processed 1764326 words, keeping 51719 word types\n",
      "2022-08-18 14:49:01,027 : INFO : PROGRESS: at sentence #150000, processed 1862714 words, keeping 53403 word types\n",
      "2022-08-18 14:49:01,200 : INFO : PROGRESS: at sentence #160000, processed 1965695 words, keeping 55494 word types\n",
      "2022-08-18 14:49:01,361 : INFO : PROGRESS: at sentence #170000, processed 2063439 words, keeping 57219 word types\n",
      "2022-08-18 14:49:01,530 : INFO : PROGRESS: at sentence #180000, processed 2163553 words, keeping 58856 word types\n",
      "2022-08-18 14:49:01,705 : INFO : PROGRESS: at sentence #190000, processed 2267156 words, keeping 60704 word types\n",
      "2022-08-18 14:49:01,880 : INFO : PROGRESS: at sentence #200000, processed 2368385 words, keeping 62540 word types\n",
      "2022-08-18 14:49:02,061 : INFO : PROGRESS: at sentence #210000, processed 2478304 words, keeping 64177 word types\n",
      "2022-08-18 14:49:02,242 : INFO : PROGRESS: at sentence #220000, processed 2584787 words, keeping 65807 word types\n",
      "2022-08-18 14:49:02,450 : INFO : PROGRESS: at sentence #230000, processed 2705497 words, keeping 68013 word types\n",
      "2022-08-18 14:49:02,645 : INFO : PROGRESS: at sentence #240000, processed 2820810 words, keeping 70211 word types\n",
      "2022-08-18 14:49:02,822 : INFO : PROGRESS: at sentence #250000, processed 2919640 words, keeping 71577 word types\n",
      "2022-08-18 14:49:03,082 : INFO : PROGRESS: at sentence #260000, processed 3059245 words, keeping 73704 word types\n",
      "2022-08-18 14:49:03,277 : INFO : PROGRESS: at sentence #270000, processed 3170562 words, keeping 75077 word types\n",
      "2022-08-18 14:49:03,457 : INFO : PROGRESS: at sentence #280000, processed 3271041 words, keeping 76469 word types\n",
      "2022-08-18 14:49:03,656 : INFO : PROGRESS: at sentence #290000, processed 3385159 words, keeping 78320 word types\n",
      "2022-08-18 14:49:04,000 : INFO : PROGRESS: at sentence #300000, processed 3592209 words, keeping 81866 word types\n",
      "2022-08-18 14:49:04,221 : INFO : PROGRESS: at sentence #310000, processed 3706740 words, keeping 83917 word types\n",
      "2022-08-18 14:49:04,381 : INFO : collected 85482 word types from a corpus of 3802827 raw words and 317418 sentences\n",
      "2022-08-18 14:49:04,382 : INFO : Creating a fresh vocabulary\n",
      "2022-08-18 14:49:04,461 : INFO : Word2Vec lifecycle event {'msg': 'effective_min_count=5 retains 18913 unique words (22.13% of original 85482, drops 66569)', 'datetime': '2022-08-18T14:49:04.461924', 'gensim': '4.2.0', 'python': '3.9.12 (main, Apr  4 2022, 05:22:27) [MSC v.1916 64 bit (AMD64)]', 'platform': 'Windows-10-10.0.19044-SP0', 'event': 'prepare_vocab'}\n",
      "2022-08-18 14:49:04,462 : INFO : Word2Vec lifecycle event {'msg': 'effective_min_count=5 leaves 3707544 word corpus (97.49% of original 3802827, drops 95283)', 'datetime': '2022-08-18T14:49:04.462937', 'gensim': '4.2.0', 'python': '3.9.12 (main, Apr  4 2022, 05:22:27) [MSC v.1916 64 bit (AMD64)]', 'platform': 'Windows-10-10.0.19044-SP0', 'event': 'prepare_vocab'}\n",
      "2022-08-18 14:49:04,555 : INFO : deleting the raw counts dictionary of 85482 items\n",
      "2022-08-18 14:49:04,558 : INFO : sample=0.001 downsamples 55 most-common words\n",
      "2022-08-18 14:49:04,559 : INFO : Word2Vec lifecycle event {'msg': 'downsampling leaves estimated 2940779.839178709 word corpus (79.3%% of prior 3707544)', 'datetime': '2022-08-18T14:49:04.559917', 'gensim': '4.2.0', 'python': '3.9.12 (main, Apr  4 2022, 05:22:27) [MSC v.1916 64 bit (AMD64)]', 'platform': 'Windows-10-10.0.19044-SP0', 'event': 'prepare_vocab'}\n",
      "2022-08-18 14:49:04,707 : INFO : estimated required memory for 18913 words and 200 dimensions: 39717300 bytes\n",
      "2022-08-18 14:49:04,707 : INFO : resetting layer weights\n",
      "2022-08-18 14:49:04,724 : INFO : Word2Vec lifecycle event {'update': False, 'trim_rule': 'None', 'datetime': '2022-08-18T14:49:04.724916', 'gensim': '4.2.0', 'python': '3.9.12 (main, Apr  4 2022, 05:22:27) [MSC v.1916 64 bit (AMD64)]', 'platform': 'Windows-10-10.0.19044-SP0', 'event': 'build_vocab'}\n",
      "2022-08-18 14:49:04,725 : INFO : Word2Vec lifecycle event {'msg': 'training model with 3 workers on 18913 vocabulary and 200 features, using sg=1 hs=0 sample=0.001 negative=5 window=5 shrink_windows=True', 'datetime': '2022-08-18T14:49:04.725914', 'gensim': '4.2.0', 'python': '3.9.12 (main, Apr  4 2022, 05:22:27) [MSC v.1916 64 bit (AMD64)]', 'platform': 'Windows-10-10.0.19044-SP0', 'event': 'train'}\n",
      "2022-08-18 14:49:05,747 : INFO : EPOCH 0 - PROGRESS: at 12.82% examples, 337853 words/s, in_qsize 0, out_qsize 0\n",
      "2022-08-18 14:49:06,753 : INFO : EPOCH 0 - PROGRESS: at 22.36% examples, 352595 words/s, in_qsize 0, out_qsize 0\n",
      "2022-08-18 14:49:07,765 : INFO : EPOCH 0 - PROGRESS: at 33.95% examples, 354845 words/s, in_qsize 0, out_qsize 1\n",
      "2022-08-18 14:49:08,777 : INFO : EPOCH 0 - PROGRESS: at 46.03% examples, 349434 words/s, in_qsize 0, out_qsize 1\n",
      "2022-08-18 14:49:09,797 : INFO : EPOCH 0 - PROGRESS: at 60.66% examples, 349874 words/s, in_qsize 1, out_qsize 1\n",
      "2022-08-18 14:49:10,807 : INFO : EPOCH 0 - PROGRESS: at 73.67% examples, 350182 words/s, in_qsize 6, out_qsize 1\n",
      "2022-08-18 14:49:11,853 : INFO : EPOCH 0 - PROGRESS: at 87.26% examples, 351400 words/s, in_qsize 4, out_qsize 1\n",
      "2022-08-18 14:49:12,863 : INFO : EPOCH 0 - PROGRESS: at 98.82% examples, 356882 words/s, in_qsize 4, out_qsize 1\n",
      "2022-08-18 14:49:12,937 : INFO : EPOCH 0: training on 3802827 raw words (2941030 effective words) took 8.2s, 358310 effective words/s\n",
      "2022-08-18 14:49:13,949 : INFO : EPOCH 1 - PROGRESS: at 12.82% examples, 341241 words/s, in_qsize 1, out_qsize 0\n",
      "2022-08-18 14:49:14,953 : INFO : EPOCH 1 - PROGRESS: at 22.95% examples, 366113 words/s, in_qsize 0, out_qsize 0\n",
      "2022-08-18 14:49:15,965 : INFO : EPOCH 1 - PROGRESS: at 34.68% examples, 363902 words/s, in_qsize 2, out_qsize 0\n",
      "2022-08-18 14:49:16,988 : INFO : EPOCH 1 - PROGRESS: at 47.13% examples, 355058 words/s, in_qsize 2, out_qsize 2\n",
      "2022-08-18 14:49:17,989 : INFO : EPOCH 1 - PROGRESS: at 62.86% examples, 361889 words/s, in_qsize 0, out_qsize 0\n",
      "2022-08-18 14:49:19,000 : INFO : EPOCH 1 - PROGRESS: at 76.69% examples, 362565 words/s, in_qsize 0, out_qsize 0\n",
      "2022-08-18 14:49:20,008 : INFO : EPOCH 1 - PROGRESS: at 89.34% examples, 361782 words/s, in_qsize 2, out_qsize 2\n",
      "2022-08-18 14:49:21,022 : INFO : EPOCH 1 - PROGRESS: at 100.00% examples, 363877 words/s, in_qsize 0, out_qsize 1\n",
      "2022-08-18 14:49:21,023 : INFO : EPOCH 1: training on 3802827 raw words (2940675 effective words) took 8.1s, 363830 effective words/s\n",
      "2022-08-18 14:49:22,042 : INFO : EPOCH 2 - PROGRESS: at 12.75% examples, 330856 words/s, in_qsize 5, out_qsize 0\n",
      "2022-08-18 14:49:23,094 : INFO : EPOCH 2 - PROGRESS: at 23.16% examples, 360211 words/s, in_qsize 1, out_qsize 2\n",
      "2022-08-18 14:49:24,113 : INFO : EPOCH 2 - PROGRESS: at 36.06% examples, 371722 words/s, in_qsize 1, out_qsize 0\n",
      "2022-08-18 14:49:25,113 : INFO : EPOCH 2 - PROGRESS: at 49.28% examples, 364852 words/s, in_qsize 0, out_qsize 0\n",
      "2022-08-18 14:49:26,123 : INFO : EPOCH 2 - PROGRESS: at 64.62% examples, 366079 words/s, in_qsize 0, out_qsize 0\n",
      "2022-08-18 14:49:27,125 : INFO : EPOCH 2 - PROGRESS: at 76.85% examples, 361572 words/s, in_qsize 0, out_qsize 0\n",
      "2022-08-18 14:49:28,139 : INFO : EPOCH 2 - PROGRESS: at 89.70% examples, 361776 words/s, in_qsize 1, out_qsize 0\n",
      "2022-08-18 14:49:29,029 : INFO : EPOCH 2: training on 3802827 raw words (2941506 effective words) took 8.0s, 367515 effective words/s\n",
      "2022-08-18 14:49:30,059 : INFO : EPOCH 3 - PROGRESS: at 12.75% examples, 327914 words/s, in_qsize 0, out_qsize 0\n",
      "2022-08-18 14:49:31,074 : INFO : EPOCH 3 - PROGRESS: at 22.36% examples, 349716 words/s, in_qsize 4, out_qsize 0\n",
      "2022-08-18 14:49:32,075 : INFO : EPOCH 3 - PROGRESS: at 35.44% examples, 369412 words/s, in_qsize 0, out_qsize 0\n",
      "2022-08-18 14:49:33,097 : INFO : EPOCH 3 - PROGRESS: at 48.90% examples, 364964 words/s, in_qsize 0, out_qsize 1\n",
      "2022-08-18 14:49:34,107 : INFO : EPOCH 3 - PROGRESS: at 64.12% examples, 366188 words/s, in_qsize 1, out_qsize 0\n",
      "2022-08-18 14:49:35,118 : INFO : EPOCH 3 - PROGRESS: at 78.44% examples, 368593 words/s, in_qsize 0, out_qsize 0\n",
      "2022-08-18 14:49:36,121 : INFO : EPOCH 3 - PROGRESS: at 90.19% examples, 364007 words/s, in_qsize 2, out_qsize 0\n",
      "2022-08-18 14:49:37,030 : INFO : EPOCH 3: training on 3802827 raw words (2941067 effective words) took 8.0s, 367783 effective words/s\n",
      "2022-08-18 14:49:38,043 : INFO : EPOCH 4 - PROGRESS: at 12.88% examples, 348860 words/s, in_qsize 1, out_qsize 0\n",
      "2022-08-18 14:49:39,061 : INFO : EPOCH 4 - PROGRESS: at 22.53% examples, 355878 words/s, in_qsize 5, out_qsize 1\n",
      "2022-08-18 14:49:40,079 : INFO : EPOCH 4 - PROGRESS: at 34.68% examples, 361351 words/s, in_qsize 2, out_qsize 0\n",
      "2022-08-18 14:49:41,086 : INFO : EPOCH 4 - PROGRESS: at 48.90% examples, 365960 words/s, in_qsize 0, out_qsize 0\n",
      "2022-08-18 14:49:42,087 : INFO : EPOCH 4 - PROGRESS: at 63.88% examples, 366095 words/s, in_qsize 0, out_qsize 0\n",
      "2022-08-18 14:49:43,133 : INFO : EPOCH 4 - PROGRESS: at 77.79% examples, 365117 words/s, in_qsize 0, out_qsize 0\n",
      "2022-08-18 14:49:44,134 : INFO : EPOCH 4 - PROGRESS: at 90.80% examples, 366636 words/s, in_qsize 1, out_qsize 0\n",
      "2022-08-18 14:49:45,001 : INFO : EPOCH 4: training on 3802827 raw words (2940574 effective words) took 8.0s, 369028 effective words/s\n",
      "2022-08-18 14:49:45,002 : INFO : Word2Vec lifecycle event {'msg': 'training on 19014135 raw words (14704852 effective words) took 40.3s, 365098 effective words/s', 'datetime': '2022-08-18T14:49:45.002953', 'gensim': '4.2.0', 'python': '3.9.12 (main, Apr  4 2022, 05:22:27) [MSC v.1916 64 bit (AMD64)]', 'platform': 'Windows-10-10.0.19044-SP0', 'event': 'train'}\n",
      "2022-08-18 14:49:45,003 : INFO : Word2Vec lifecycle event {'params': 'Word2Vec<vocab=18913, vector_size=200, alpha=0.025>', 'datetime': '2022-08-18T14:49:45.003951', 'gensim': '4.2.0', 'python': '3.9.12 (main, Apr  4 2022, 05:22:27) [MSC v.1916 64 bit (AMD64)]', 'platform': 'Windows-10-10.0.19044-SP0', 'event': 'created'}\n"
     ]
    }
   ],
   "source": [
    "# SG 200\n",
    "sg = gensim.models.Word2Vec(sentences=sentences, vector_size=200, sg=1)"
   ],
   "metadata": {
    "collapsed": false
   }
  },
  {
   "cell_type": "code",
   "execution_count": 24,
   "outputs": [
    {
     "name": "stderr",
     "output_type": "stream",
     "text": [
      "2022-08-18 14:50:06,636 : INFO : Word2Vec lifecycle event {'fname_or_handle': 'C:\\\\Users\\\\62774\\\\AppData\\\\Local\\\\Temp\\\\gensim-model-gk6yd140', 'separately': 'None', 'sep_limit': 10485760, 'ignore': frozenset(), 'datetime': '2022-08-18T14:50:06.636818', 'gensim': '4.2.0', 'python': '3.9.12 (main, Apr  4 2022, 05:22:27) [MSC v.1916 64 bit (AMD64)]', 'platform': 'Windows-10-10.0.19044-SP0', 'event': 'saving'}\n",
      "2022-08-18 14:50:06,637 : INFO : not storing attribute cum_table\n",
      "2022-08-18 14:50:06,671 : INFO : saved C:\\Users\\62774\\AppData\\Local\\Temp\\gensim-model-gk6yd140\n"
     ]
    }
   ],
   "source": [
    "with tempfile.NamedTemporaryFile(prefix='gensim-model-', delete=False) as tmp:\n",
    "    temporary_filepath = tmp.name\n",
    "    sg.save(temporary_filepath)"
   ],
   "metadata": {
    "collapsed": false
   }
  },
  {
   "cell_type": "code",
   "execution_count": 25,
   "outputs": [
    {
     "name": "stderr",
     "output_type": "stream",
     "text": [
      "2022-08-18 14:53:43,798 : INFO : collecting all words and their counts\n",
      "2022-08-18 14:53:43,800 : INFO : PROGRESS: at sentence #0, processed 0 words, keeping 0 word types\n",
      "2022-08-18 14:53:43,999 : INFO : PROGRESS: at sentence #10000, processed 116734 words, keeping 9693 word types\n",
      "2022-08-18 14:53:44,194 : INFO : PROGRESS: at sentence #20000, processed 232533 words, keeping 14815 word types\n",
      "2022-08-18 14:53:44,348 : INFO : PROGRESS: at sentence #30000, processed 323830 words, keeping 17625 word types\n",
      "2022-08-18 14:53:44,535 : INFO : PROGRESS: at sentence #40000, processed 430437 words, keeping 20890 word types\n",
      "2022-08-18 14:53:44,893 : INFO : PROGRESS: at sentence #50000, processed 645721 words, keeping 25445 word types\n",
      "2022-08-18 14:53:45,099 : INFO : PROGRESS: at sentence #60000, processed 766681 words, keeping 29457 word types\n",
      "2022-08-18 14:53:45,345 : INFO : PROGRESS: at sentence #70000, processed 913534 words, keeping 33864 word types\n",
      "2022-08-18 14:53:45,584 : INFO : PROGRESS: at sentence #80000, processed 1052967 words, keeping 37811 word types\n",
      "2022-08-18 14:53:45,813 : INFO : PROGRESS: at sentence #90000, processed 1188138 words, keeping 40991 word types\n",
      "2022-08-18 14:53:46,022 : INFO : PROGRESS: at sentence #100000, processed 1306187 words, keeping 43415 word types\n",
      "2022-08-18 14:53:46,202 : INFO : PROGRESS: at sentence #110000, processed 1416226 words, keeping 45552 word types\n",
      "2022-08-18 14:53:46,399 : INFO : PROGRESS: at sentence #120000, processed 1537330 words, keeping 47421 word types\n",
      "2022-08-18 14:53:46,587 : INFO : PROGRESS: at sentence #130000, processed 1648222 words, keeping 49615 word types\n",
      "2022-08-18 14:53:46,779 : INFO : PROGRESS: at sentence #140000, processed 1764326 words, keeping 51719 word types\n",
      "2022-08-18 14:53:46,944 : INFO : PROGRESS: at sentence #150000, processed 1862714 words, keeping 53403 word types\n",
      "2022-08-18 14:53:47,135 : INFO : PROGRESS: at sentence #160000, processed 1965695 words, keeping 55494 word types\n",
      "2022-08-18 14:53:47,307 : INFO : PROGRESS: at sentence #170000, processed 2063439 words, keeping 57219 word types\n",
      "2022-08-18 14:53:47,480 : INFO : PROGRESS: at sentence #180000, processed 2163553 words, keeping 58856 word types\n",
      "2022-08-18 14:53:47,661 : INFO : PROGRESS: at sentence #190000, processed 2267156 words, keeping 60704 word types\n",
      "2022-08-18 14:53:47,845 : INFO : PROGRESS: at sentence #200000, processed 2368385 words, keeping 62540 word types\n",
      "2022-08-18 14:53:48,025 : INFO : PROGRESS: at sentence #210000, processed 2478304 words, keeping 64177 word types\n",
      "2022-08-18 14:53:48,211 : INFO : PROGRESS: at sentence #220000, processed 2584787 words, keeping 65807 word types\n",
      "2022-08-18 14:53:48,409 : INFO : PROGRESS: at sentence #230000, processed 2705497 words, keeping 68013 word types\n",
      "2022-08-18 14:53:48,608 : INFO : PROGRESS: at sentence #240000, processed 2820810 words, keeping 70211 word types\n",
      "2022-08-18 14:53:48,772 : INFO : PROGRESS: at sentence #250000, processed 2919640 words, keeping 71577 word types\n",
      "2022-08-18 14:53:49,006 : INFO : PROGRESS: at sentence #260000, processed 3059245 words, keeping 73704 word types\n",
      "2022-08-18 14:53:49,190 : INFO : PROGRESS: at sentence #270000, processed 3170562 words, keeping 75077 word types\n",
      "2022-08-18 14:53:49,357 : INFO : PROGRESS: at sentence #280000, processed 3271041 words, keeping 76469 word types\n",
      "2022-08-18 14:53:49,551 : INFO : PROGRESS: at sentence #290000, processed 3385159 words, keeping 78320 word types\n",
      "2022-08-18 14:53:49,899 : INFO : PROGRESS: at sentence #300000, processed 3592209 words, keeping 81866 word types\n",
      "2022-08-18 14:53:50,110 : INFO : PROGRESS: at sentence #310000, processed 3706740 words, keeping 83917 word types\n",
      "2022-08-18 14:53:50,270 : INFO : collected 85482 word types from a corpus of 3802827 raw words and 317418 sentences\n",
      "2022-08-18 14:53:50,271 : INFO : Creating a fresh vocabulary\n",
      "2022-08-18 14:53:50,353 : INFO : Word2Vec lifecycle event {'msg': 'effective_min_count=5 retains 18913 unique words (22.13% of original 85482, drops 66569)', 'datetime': '2022-08-18T14:53:50.353852', 'gensim': '4.2.0', 'python': '3.9.12 (main, Apr  4 2022, 05:22:27) [MSC v.1916 64 bit (AMD64)]', 'platform': 'Windows-10-10.0.19044-SP0', 'event': 'prepare_vocab'}\n",
      "2022-08-18 14:53:50,354 : INFO : Word2Vec lifecycle event {'msg': 'effective_min_count=5 leaves 3707544 word corpus (97.49% of original 3802827, drops 95283)', 'datetime': '2022-08-18T14:53:50.354839', 'gensim': '4.2.0', 'python': '3.9.12 (main, Apr  4 2022, 05:22:27) [MSC v.1916 64 bit (AMD64)]', 'platform': 'Windows-10-10.0.19044-SP0', 'event': 'prepare_vocab'}\n",
      "2022-08-18 14:53:50,444 : INFO : deleting the raw counts dictionary of 85482 items\n",
      "2022-08-18 14:53:50,448 : INFO : sample=0.001 downsamples 55 most-common words\n",
      "2022-08-18 14:53:50,450 : INFO : Word2Vec lifecycle event {'msg': 'downsampling leaves estimated 2940779.839178709 word corpus (79.3%% of prior 3707544)', 'datetime': '2022-08-18T14:53:50.450842', 'gensim': '4.2.0', 'python': '3.9.12 (main, Apr  4 2022, 05:22:27) [MSC v.1916 64 bit (AMD64)]', 'platform': 'Windows-10-10.0.19044-SP0', 'event': 'prepare_vocab'}\n",
      "2022-08-18 14:53:50,590 : INFO : estimated required memory for 18913 words and 300 dimensions: 54847700 bytes\n",
      "2022-08-18 14:53:50,590 : INFO : resetting layer weights\n",
      "2022-08-18 14:53:50,613 : INFO : Word2Vec lifecycle event {'update': False, 'trim_rule': 'None', 'datetime': '2022-08-18T14:53:50.613896', 'gensim': '4.2.0', 'python': '3.9.12 (main, Apr  4 2022, 05:22:27) [MSC v.1916 64 bit (AMD64)]', 'platform': 'Windows-10-10.0.19044-SP0', 'event': 'build_vocab'}\n",
      "2022-08-18 14:53:50,615 : INFO : Word2Vec lifecycle event {'msg': 'training model with 3 workers on 18913 vocabulary and 300 features, using sg=1 hs=0 sample=0.001 negative=5 window=5 shrink_windows=True', 'datetime': '2022-08-18T14:53:50.614872', 'gensim': '4.2.0', 'python': '3.9.12 (main, Apr  4 2022, 05:22:27) [MSC v.1916 64 bit (AMD64)]', 'platform': 'Windows-10-10.0.19044-SP0', 'event': 'train'}\n",
      "2022-08-18 14:53:51,639 : INFO : EPOCH 0 - PROGRESS: at 11.16% examples, 283401 words/s, in_qsize 0, out_qsize 0\n",
      "2022-08-18 14:53:52,643 : INFO : EPOCH 0 - PROGRESS: at 17.98% examples, 282742 words/s, in_qsize 5, out_qsize 0\n",
      "2022-08-18 14:53:53,673 : INFO : EPOCH 0 - PROGRESS: at 27.03% examples, 290397 words/s, in_qsize 5, out_qsize 0\n",
      "2022-08-18 14:53:54,686 : INFO : EPOCH 0 - PROGRESS: at 38.53% examples, 299022 words/s, in_qsize 4, out_qsize 0\n",
      "2022-08-18 14:53:55,728 : INFO : EPOCH 0 - PROGRESS: at 51.66% examples, 303727 words/s, in_qsize 4, out_qsize 0\n",
      "2022-08-18 14:53:56,736 : INFO : EPOCH 0 - PROGRESS: at 65.38% examples, 308478 words/s, in_qsize 5, out_qsize 0\n",
      "2022-08-18 14:53:57,779 : INFO : EPOCH 0 - PROGRESS: at 78.65% examples, 314140 words/s, in_qsize 5, out_qsize 1\n",
      "2022-08-18 14:53:58,780 : INFO : EPOCH 0 - PROGRESS: at 91.32% examples, 319822 words/s, in_qsize 5, out_qsize 0\n",
      "2022-08-18 14:53:59,804 : INFO : EPOCH 0 - PROGRESS: at 100.00% examples, 320104 words/s, in_qsize 0, out_qsize 1\n",
      "2022-08-18 14:53:59,805 : INFO : EPOCH 0: training on 3802827 raw words (2940415 effective words) took 9.2s, 320065 effective words/s\n",
      "2022-08-18 14:54:00,839 : INFO : EPOCH 1 - PROGRESS: at 11.16% examples, 280443 words/s, in_qsize 2, out_qsize 1\n",
      "2022-08-18 14:54:01,842 : INFO : EPOCH 1 - PROGRESS: at 19.41% examples, 304306 words/s, in_qsize 5, out_qsize 0\n",
      "2022-08-18 14:54:02,861 : INFO : EPOCH 1 - PROGRESS: at 29.65% examples, 312859 words/s, in_qsize 5, out_qsize 0\n",
      "2022-08-18 14:54:03,862 : INFO : EPOCH 1 - PROGRESS: at 42.06% examples, 322741 words/s, in_qsize 5, out_qsize 0\n",
      "2022-08-18 14:54:04,893 : INFO : EPOCH 1 - PROGRESS: at 56.16% examples, 325913 words/s, in_qsize 4, out_qsize 0\n",
      "2022-08-18 14:54:05,939 : INFO : EPOCH 1 - PROGRESS: at 69.75% examples, 326698 words/s, in_qsize 6, out_qsize 0\n",
      "2022-08-18 14:54:06,957 : INFO : EPOCH 1 - PROGRESS: at 82.34% examples, 332080 words/s, in_qsize 5, out_qsize 0\n",
      "2022-08-18 14:54:07,984 : INFO : EPOCH 1 - PROGRESS: at 93.51% examples, 331730 words/s, in_qsize 6, out_qsize 0\n",
      "2022-08-18 14:54:08,654 : INFO : EPOCH 1: training on 3802827 raw words (2940142 effective words) took 8.8s, 332379 effective words/s\n",
      "2022-08-18 14:54:09,664 : INFO : EPOCH 2 - PROGRESS: at 12.51% examples, 326054 words/s, in_qsize 2, out_qsize 0\n",
      "2022-08-18 14:54:10,680 : INFO : EPOCH 2 - PROGRESS: at 20.17% examples, 317898 words/s, in_qsize 6, out_qsize 0\n",
      "2022-08-18 14:54:11,688 : INFO : EPOCH 2 - PROGRESS: at 30.56% examples, 325641 words/s, in_qsize 5, out_qsize 0\n",
      "2022-08-18 14:54:12,716 : INFO : EPOCH 2 - PROGRESS: at 42.42% examples, 324172 words/s, in_qsize 5, out_qsize 0\n",
      "2022-08-18 14:54:13,723 : INFO : EPOCH 2 - PROGRESS: at 56.81% examples, 330229 words/s, in_qsize 4, out_qsize 0\n",
      "2022-08-18 14:54:14,727 : INFO : EPOCH 2 - PROGRESS: at 70.24% examples, 332629 words/s, in_qsize 6, out_qsize 0\n",
      "2022-08-18 14:54:15,738 : INFO : EPOCH 2 - PROGRESS: at 82.17% examples, 334256 words/s, in_qsize 5, out_qsize 0\n",
      "2022-08-18 14:54:16,760 : INFO : EPOCH 2 - PROGRESS: at 93.51% examples, 334803 words/s, in_qsize 5, out_qsize 0\n",
      "2022-08-18 14:54:17,386 : INFO : EPOCH 2: training on 3802827 raw words (2940994 effective words) took 8.7s, 336928 effective words/s\n",
      "2022-08-18 14:54:18,390 : INFO : EPOCH 3 - PROGRESS: at 12.07% examples, 312384 words/s, in_qsize 2, out_qsize 0\n",
      "2022-08-18 14:54:19,394 : INFO : EPOCH 3 - PROGRESS: at 20.10% examples, 320899 words/s, in_qsize 5, out_qsize 0\n",
      "2022-08-18 14:54:20,403 : INFO : EPOCH 3 - PROGRESS: at 29.65% examples, 316976 words/s, in_qsize 5, out_qsize 0\n",
      "2022-08-18 14:54:21,448 : INFO : EPOCH 3 - PROGRESS: at 42.23% examples, 322248 words/s, in_qsize 5, out_qsize 0\n",
      "2022-08-18 14:54:22,451 : INFO : EPOCH 3 - PROGRESS: at 56.55% examples, 328905 words/s, in_qsize 5, out_qsize 0\n",
      "2022-08-18 14:54:23,465 : INFO : EPOCH 3 - PROGRESS: at 70.24% examples, 332218 words/s, in_qsize 5, out_qsize 0\n",
      "2022-08-18 14:54:24,475 : INFO : EPOCH 3 - PROGRESS: at 81.82% examples, 332861 words/s, in_qsize 5, out_qsize 0\n",
      "2022-08-18 14:54:25,501 : INFO : EPOCH 3 - PROGRESS: at 93.51% examples, 334378 words/s, in_qsize 5, out_qsize 0\n",
      "2022-08-18 14:54:26,116 : INFO : EPOCH 3: training on 3802827 raw words (2940892 effective words) took 8.7s, 336968 effective words/s\n",
      "2022-08-18 14:54:27,158 : INFO : EPOCH 4 - PROGRESS: at 12.75% examples, 323191 words/s, in_qsize 3, out_qsize 0\n",
      "2022-08-18 14:54:28,162 : INFO : EPOCH 4 - PROGRESS: at 20.46% examples, 318592 words/s, in_qsize 5, out_qsize 0\n",
      "2022-08-18 14:54:29,168 : INFO : EPOCH 4 - PROGRESS: at 29.65% examples, 313267 words/s, in_qsize 5, out_qsize 0\n",
      "2022-08-18 14:54:30,181 : INFO : EPOCH 4 - PROGRESS: at 41.88% examples, 320108 words/s, in_qsize 5, out_qsize 0\n",
      "2022-08-18 14:54:31,211 : INFO : EPOCH 4 - PROGRESS: at 56.16% examples, 325456 words/s, in_qsize 4, out_qsize 0\n",
      "2022-08-18 14:54:32,224 : INFO : EPOCH 4 - PROGRESS: at 69.31% examples, 326834 words/s, in_qsize 2, out_qsize 0\n",
      "2022-08-18 14:54:33,230 : INFO : EPOCH 4 - PROGRESS: at 81.50% examples, 329450 words/s, in_qsize 5, out_qsize 0\n",
      "2022-08-18 14:54:34,240 : INFO : EPOCH 4 - PROGRESS: at 93.44% examples, 332970 words/s, in_qsize 5, out_qsize 0\n",
      "2022-08-18 14:54:34,886 : INFO : EPOCH 4: training on 3802827 raw words (2940595 effective words) took 8.8s, 335427 effective words/s\n",
      "2022-08-18 14:54:34,886 : INFO : Word2Vec lifecycle event {'msg': 'training on 19014135 raw words (14703038 effective words) took 44.3s, 332116 effective words/s', 'datetime': '2022-08-18T14:54:34.886496', 'gensim': '4.2.0', 'python': '3.9.12 (main, Apr  4 2022, 05:22:27) [MSC v.1916 64 bit (AMD64)]', 'platform': 'Windows-10-10.0.19044-SP0', 'event': 'train'}\n",
      "2022-08-18 14:54:34,887 : INFO : Word2Vec lifecycle event {'params': 'Word2Vec<vocab=18913, vector_size=300, alpha=0.025>', 'datetime': '2022-08-18T14:54:34.887481', 'gensim': '4.2.0', 'python': '3.9.12 (main, Apr  4 2022, 05:22:27) [MSC v.1916 64 bit (AMD64)]', 'platform': 'Windows-10-10.0.19044-SP0', 'event': 'created'}\n"
     ]
    }
   ],
   "source": [
    "# SG 300\n",
    "sg300 = gensim.models.Word2Vec(sentences=sentences, vector_size=300, sg=1)"
   ],
   "metadata": {
    "collapsed": false
   }
  },
  {
   "cell_type": "code",
   "execution_count": 26,
   "outputs": [
    {
     "name": "stderr",
     "output_type": "stream",
     "text": [
      "2022-08-18 14:55:00,331 : INFO : Word2Vec lifecycle event {'fname_or_handle': 'C:\\\\Users\\\\62774\\\\AppData\\\\Local\\\\Temp\\\\gensim-model-k41hv7x5', 'separately': 'None', 'sep_limit': 10485760, 'ignore': frozenset(), 'datetime': '2022-08-18T14:55:00.331662', 'gensim': '4.2.0', 'python': '3.9.12 (main, Apr  4 2022, 05:22:27) [MSC v.1916 64 bit (AMD64)]', 'platform': 'Windows-10-10.0.19044-SP0', 'event': 'saving'}\n",
      "2022-08-18 14:55:00,332 : INFO : not storing attribute cum_table\n",
      "2022-08-18 14:55:00,383 : INFO : saved C:\\Users\\62774\\AppData\\Local\\Temp\\gensim-model-k41hv7x5\n"
     ]
    }
   ],
   "source": [
    "with tempfile.NamedTemporaryFile(prefix='gensim-model-', delete=False) as tmp:\n",
    "    temporary_filepath = tmp.name\n",
    "    sg300.save(temporary_filepath)"
   ],
   "metadata": {
    "collapsed": false
   }
  },
  {
   "cell_type": "code",
   "execution_count": 32,
   "outputs": [
    {
     "data": {
      "text/plain": "                                               Unnamed: 0\n0                                                     NaN\n1                                 交通 房间 房间 面积 布局 感觉 卫浴 花洒\n2                               酒店 服装 餐饮 好评 早餐 宵夜 关键 贼 建议\n3       好评 酒店 外观 装饰 绝绝子 房间 异味 酒店 房间 耳塞 行李 时候 小牌牌 夜宵 口味...\n4                 酒店 位置 地铁站 大悦城 酒店 前台 小姐姐 阿姨 行李 时 时 个人 酒店\n...                                                   ...\n317412                                                 孩子\n317413                                              房间 热水\n317414                                                  板\n317415                                                 位置\n317416                                                 商务\n\n[317417 rows x 1 columns]",
      "text/html": "<div>\n<style scoped>\n    .dataframe tbody tr th:only-of-type {\n        vertical-align: middle;\n    }\n\n    .dataframe tbody tr th {\n        vertical-align: top;\n    }\n\n    .dataframe thead th {\n        text-align: right;\n    }\n</style>\n<table border=\"1\" class=\"dataframe\">\n  <thead>\n    <tr style=\"text-align: right;\">\n      <th></th>\n      <th>Unnamed: 0</th>\n    </tr>\n  </thead>\n  <tbody>\n    <tr>\n      <th>0</th>\n      <td>NaN</td>\n    </tr>\n    <tr>\n      <th>1</th>\n      <td>交通 房间 房间 面积 布局 感觉 卫浴 花洒</td>\n    </tr>\n    <tr>\n      <th>2</th>\n      <td>酒店 服装 餐饮 好评 早餐 宵夜 关键 贼 建议</td>\n    </tr>\n    <tr>\n      <th>3</th>\n      <td>好评 酒店 外观 装饰 绝绝子 房间 异味 酒店 房间 耳塞 行李 时候 小牌牌 夜宵 口味...</td>\n    </tr>\n    <tr>\n      <th>4</th>\n      <td>酒店 位置 地铁站 大悦城 酒店 前台 小姐姐 阿姨 行李 时 时 个人 酒店</td>\n    </tr>\n    <tr>\n      <th>...</th>\n      <td>...</td>\n    </tr>\n    <tr>\n      <th>317412</th>\n      <td>孩子</td>\n    </tr>\n    <tr>\n      <th>317413</th>\n      <td>房间 热水</td>\n    </tr>\n    <tr>\n      <th>317414</th>\n      <td>板</td>\n    </tr>\n    <tr>\n      <th>317415</th>\n      <td>位置</td>\n    </tr>\n    <tr>\n      <th>317416</th>\n      <td>商务</td>\n    </tr>\n  </tbody>\n</table>\n<p>317417 rows × 1 columns</p>\n</div>"
     },
     "execution_count": 32,
     "metadata": {},
     "output_type": "execute_result"
    }
   ],
   "source": [
    "# 计算不同模型的名词词向量：model-CBOW200, cbow300-CBOW300 sg-SG200 sg300-SG300\n",
    "import pandas as pd\n",
    "\n",
    "nouns = pd.read_csv('../data/nouns.txt')\n",
    "nouns"
   ],
   "metadata": {
    "collapsed": false
   }
  },
  {
   "cell_type": "code",
   "execution_count": 33,
   "outputs": [
    {
     "data": {
      "text/plain": "                                                    nouns\n0                                                     NaN\n1                                 交通 房间 房间 面积 布局 感觉 卫浴 花洒\n2                               酒店 服装 餐饮 好评 早餐 宵夜 关键 贼 建议\n3       好评 酒店 外观 装饰 绝绝子 房间 异味 酒店 房间 耳塞 行李 时候 小牌牌 夜宵 口味...\n4                 酒店 位置 地铁站 大悦城 酒店 前台 小姐姐 阿姨 行李 时 时 个人 酒店\n...                                                   ...\n317412                                                 孩子\n317413                                              房间 热水\n317414                                                  板\n317415                                                 位置\n317416                                                 商务\n\n[317417 rows x 1 columns]",
      "text/html": "<div>\n<style scoped>\n    .dataframe tbody tr th:only-of-type {\n        vertical-align: middle;\n    }\n\n    .dataframe tbody tr th {\n        vertical-align: top;\n    }\n\n    .dataframe thead th {\n        text-align: right;\n    }\n</style>\n<table border=\"1\" class=\"dataframe\">\n  <thead>\n    <tr style=\"text-align: right;\">\n      <th></th>\n      <th>nouns</th>\n    </tr>\n  </thead>\n  <tbody>\n    <tr>\n      <th>0</th>\n      <td>NaN</td>\n    </tr>\n    <tr>\n      <th>1</th>\n      <td>交通 房间 房间 面积 布局 感觉 卫浴 花洒</td>\n    </tr>\n    <tr>\n      <th>2</th>\n      <td>酒店 服装 餐饮 好评 早餐 宵夜 关键 贼 建议</td>\n    </tr>\n    <tr>\n      <th>3</th>\n      <td>好评 酒店 外观 装饰 绝绝子 房间 异味 酒店 房间 耳塞 行李 时候 小牌牌 夜宵 口味...</td>\n    </tr>\n    <tr>\n      <th>4</th>\n      <td>酒店 位置 地铁站 大悦城 酒店 前台 小姐姐 阿姨 行李 时 时 个人 酒店</td>\n    </tr>\n    <tr>\n      <th>...</th>\n      <td>...</td>\n    </tr>\n    <tr>\n      <th>317412</th>\n      <td>孩子</td>\n    </tr>\n    <tr>\n      <th>317413</th>\n      <td>房间 热水</td>\n    </tr>\n    <tr>\n      <th>317414</th>\n      <td>板</td>\n    </tr>\n    <tr>\n      <th>317415</th>\n      <td>位置</td>\n    </tr>\n    <tr>\n      <th>317416</th>\n      <td>商务</td>\n    </tr>\n  </tbody>\n</table>\n<p>317417 rows × 1 columns</p>\n</div>"
     },
     "execution_count": 33,
     "metadata": {},
     "output_type": "execute_result"
    }
   ],
   "source": [
    "nouns.columns = ['nouns']\n",
    "nouns"
   ],
   "metadata": {
    "collapsed": false
   }
  },
  {
   "cell_type": "code",
   "execution_count": 34,
   "outputs": [
    {
     "data": {
      "text/plain": "                                                    nouns\n1                                 交通 房间 房间 面积 布局 感觉 卫浴 花洒\n2                               酒店 服装 餐饮 好评 早餐 宵夜 关键 贼 建议\n3       好评 酒店 外观 装饰 绝绝子 房间 异味 酒店 房间 耳塞 行李 时候 小牌牌 夜宵 口味...\n4                 酒店 位置 地铁站 大悦城 酒店 前台 小姐姐 阿姨 行李 时 时 个人 酒店\n5                房间 窗户 头 酒店 水 味道 阿姨 房间 老实说 价格 位置 地铁口 特点 图\n...                                                   ...\n317412                                                 孩子\n317413                                              房间 热水\n317414                                                  板\n317415                                                 位置\n317416                                                 商务\n\n[269156 rows x 1 columns]",
      "text/html": "<div>\n<style scoped>\n    .dataframe tbody tr th:only-of-type {\n        vertical-align: middle;\n    }\n\n    .dataframe tbody tr th {\n        vertical-align: top;\n    }\n\n    .dataframe thead th {\n        text-align: right;\n    }\n</style>\n<table border=\"1\" class=\"dataframe\">\n  <thead>\n    <tr style=\"text-align: right;\">\n      <th></th>\n      <th>nouns</th>\n    </tr>\n  </thead>\n  <tbody>\n    <tr>\n      <th>1</th>\n      <td>交通 房间 房间 面积 布局 感觉 卫浴 花洒</td>\n    </tr>\n    <tr>\n      <th>2</th>\n      <td>酒店 服装 餐饮 好评 早餐 宵夜 关键 贼 建议</td>\n    </tr>\n    <tr>\n      <th>3</th>\n      <td>好评 酒店 外观 装饰 绝绝子 房间 异味 酒店 房间 耳塞 行李 时候 小牌牌 夜宵 口味...</td>\n    </tr>\n    <tr>\n      <th>4</th>\n      <td>酒店 位置 地铁站 大悦城 酒店 前台 小姐姐 阿姨 行李 时 时 个人 酒店</td>\n    </tr>\n    <tr>\n      <th>5</th>\n      <td>房间 窗户 头 酒店 水 味道 阿姨 房间 老实说 价格 位置 地铁口 特点 图</td>\n    </tr>\n    <tr>\n      <th>...</th>\n      <td>...</td>\n    </tr>\n    <tr>\n      <th>317412</th>\n      <td>孩子</td>\n    </tr>\n    <tr>\n      <th>317413</th>\n      <td>房间 热水</td>\n    </tr>\n    <tr>\n      <th>317414</th>\n      <td>板</td>\n    </tr>\n    <tr>\n      <th>317415</th>\n      <td>位置</td>\n    </tr>\n    <tr>\n      <th>317416</th>\n      <td>商务</td>\n    </tr>\n  </tbody>\n</table>\n<p>269156 rows × 1 columns</p>\n</div>"
     },
     "execution_count": 34,
     "metadata": {},
     "output_type": "execute_result"
    }
   ],
   "source": [
    "nouns = nouns[~ nouns['nouns'].isna()]\n",
    "nouns"
   ],
   "metadata": {
    "collapsed": false
   }
  },
  {
   "cell_type": "code",
   "execution_count": 35,
   "outputs": [],
   "source": [
    "# 拆分函数\n",
    "import numpy as np\n",
    "\n",
    "\n",
    "def split_row(data, column):\n",
    "    \"\"\"拆分成行\n",
    "\n",
    "    :param data: 原始数据\n",
    "    :param column: 拆分的列名\n",
    "    :type data: pandas.core.frame.DataFrame\n",
    "    :type column: str\n",
    "    \"\"\"\n",
    "    row_len = list(map(len, data[column].values))\n",
    "    rows = []\n",
    "    for i in data.columns:\n",
    "        if i == column:\n",
    "            row = np.concatenate(data[i].values)\n",
    "        else:\n",
    "            row = np.repeat(data[i].values, row_len)\n",
    "        rows.append(row)\n",
    "    return pd.DataFrame(np.dstack(tuple(rows))[0], columns=data.columns)"
   ],
   "metadata": {
    "collapsed": false
   }
  },
  {
   "cell_type": "code",
   "execution_count": 37,
   "outputs": [
    {
     "name": "stderr",
     "output_type": "stream",
     "text": [
      "C:\\Users\\62774\\AppData\\Local\\Temp\\ipykernel_92996\\468032882.py:1: SettingWithCopyWarning: \n",
      "A value is trying to be set on a copy of a slice from a DataFrame.\n",
      "Try using .loc[row_indexer,col_indexer] = value instead\n",
      "\n",
      "See the caveats in the documentation: https://pandas.pydata.org/pandas-docs/stable/user_guide/indexing.html#returning-a-view-versus-a-copy\n",
      "  nouns['temp'] = '1'\n"
     ]
    },
    {
     "data": {
      "text/plain": "                                                    nouns temp\n1                                 交通 房间 房间 面积 布局 感觉 卫浴 花洒    1\n2                               酒店 服装 餐饮 好评 早餐 宵夜 关键 贼 建议    1\n3       好评 酒店 外观 装饰 绝绝子 房间 异味 酒店 房间 耳塞 行李 时候 小牌牌 夜宵 口味...    1\n4                 酒店 位置 地铁站 大悦城 酒店 前台 小姐姐 阿姨 行李 时 时 个人 酒店    1\n5                房间 窗户 头 酒店 水 味道 阿姨 房间 老实说 价格 位置 地铁口 特点 图    1\n...                                                   ...  ...\n317412                                                 孩子    1\n317413                                              房间 热水    1\n317414                                                  板    1\n317415                                                 位置    1\n317416                                                 商务    1\n\n[269156 rows x 2 columns]",
      "text/html": "<div>\n<style scoped>\n    .dataframe tbody tr th:only-of-type {\n        vertical-align: middle;\n    }\n\n    .dataframe tbody tr th {\n        vertical-align: top;\n    }\n\n    .dataframe thead th {\n        text-align: right;\n    }\n</style>\n<table border=\"1\" class=\"dataframe\">\n  <thead>\n    <tr style=\"text-align: right;\">\n      <th></th>\n      <th>nouns</th>\n      <th>temp</th>\n    </tr>\n  </thead>\n  <tbody>\n    <tr>\n      <th>1</th>\n      <td>交通 房间 房间 面积 布局 感觉 卫浴 花洒</td>\n      <td>1</td>\n    </tr>\n    <tr>\n      <th>2</th>\n      <td>酒店 服装 餐饮 好评 早餐 宵夜 关键 贼 建议</td>\n      <td>1</td>\n    </tr>\n    <tr>\n      <th>3</th>\n      <td>好评 酒店 外观 装饰 绝绝子 房间 异味 酒店 房间 耳塞 行李 时候 小牌牌 夜宵 口味...</td>\n      <td>1</td>\n    </tr>\n    <tr>\n      <th>4</th>\n      <td>酒店 位置 地铁站 大悦城 酒店 前台 小姐姐 阿姨 行李 时 时 个人 酒店</td>\n      <td>1</td>\n    </tr>\n    <tr>\n      <th>5</th>\n      <td>房间 窗户 头 酒店 水 味道 阿姨 房间 老实说 价格 位置 地铁口 特点 图</td>\n      <td>1</td>\n    </tr>\n    <tr>\n      <th>...</th>\n      <td>...</td>\n      <td>...</td>\n    </tr>\n    <tr>\n      <th>317412</th>\n      <td>孩子</td>\n      <td>1</td>\n    </tr>\n    <tr>\n      <th>317413</th>\n      <td>房间 热水</td>\n      <td>1</td>\n    </tr>\n    <tr>\n      <th>317414</th>\n      <td>板</td>\n      <td>1</td>\n    </tr>\n    <tr>\n      <th>317415</th>\n      <td>位置</td>\n      <td>1</td>\n    </tr>\n    <tr>\n      <th>317416</th>\n      <td>商务</td>\n      <td>1</td>\n    </tr>\n  </tbody>\n</table>\n<p>269156 rows × 2 columns</p>\n</div>"
     },
     "execution_count": 37,
     "metadata": {},
     "output_type": "execute_result"
    }
   ],
   "source": [
    "nouns['temp'] = '1'\n",
    "nouns"
   ],
   "metadata": {
    "collapsed": false
   }
  },
  {
   "cell_type": "code",
   "execution_count": 39,
   "outputs": [
    {
     "data": {
      "text/plain": "       temp noun\n1         1   交通\n1         1   房间\n1         1   房间\n1         1   面积\n1         1   布局\n...     ...  ...\n317413    1   房间\n317413    1   热水\n317414    1    板\n317415    1   位置\n317416    1   商务\n\n[1365335 rows x 2 columns]",
      "text/html": "<div>\n<style scoped>\n    .dataframe tbody tr th:only-of-type {\n        vertical-align: middle;\n    }\n\n    .dataframe tbody tr th {\n        vertical-align: top;\n    }\n\n    .dataframe thead th {\n        text-align: right;\n    }\n</style>\n<table border=\"1\" class=\"dataframe\">\n  <thead>\n    <tr style=\"text-align: right;\">\n      <th></th>\n      <th>temp</th>\n      <th>noun</th>\n    </tr>\n  </thead>\n  <tbody>\n    <tr>\n      <th>1</th>\n      <td>1</td>\n      <td>交通</td>\n    </tr>\n    <tr>\n      <th>1</th>\n      <td>1</td>\n      <td>房间</td>\n    </tr>\n    <tr>\n      <th>1</th>\n      <td>1</td>\n      <td>房间</td>\n    </tr>\n    <tr>\n      <th>1</th>\n      <td>1</td>\n      <td>面积</td>\n    </tr>\n    <tr>\n      <th>1</th>\n      <td>1</td>\n      <td>布局</td>\n    </tr>\n    <tr>\n      <th>...</th>\n      <td>...</td>\n      <td>...</td>\n    </tr>\n    <tr>\n      <th>317413</th>\n      <td>1</td>\n      <td>房间</td>\n    </tr>\n    <tr>\n      <th>317413</th>\n      <td>1</td>\n      <td>热水</td>\n    </tr>\n    <tr>\n      <th>317414</th>\n      <td>1</td>\n      <td>板</td>\n    </tr>\n    <tr>\n      <th>317415</th>\n      <td>1</td>\n      <td>位置</td>\n    </tr>\n    <tr>\n      <th>317416</th>\n      <td>1</td>\n      <td>商务</td>\n    </tr>\n  </tbody>\n</table>\n<p>1365335 rows × 2 columns</p>\n</div>"
     },
     "execution_count": 39,
     "metadata": {},
     "output_type": "execute_result"
    }
   ],
   "source": [
    "nouns_split = nouns.drop(\"nouns\", axis=1).join(\n",
    "    nouns[\"nouns\"].str.split(\" \", expand=True).stack().reset_index(level=1, drop=True).rename(\"noun\"))\n",
    "nouns_split"
   ],
   "metadata": {
    "collapsed": false
   }
  },
  {
   "cell_type": "code",
   "execution_count": 40,
   "outputs": [
    {
     "data": {
      "text/plain": "       noun\n1        交通\n1        房间\n1        房间\n1        面积\n1        布局\n...     ...\n317413   房间\n317413   热水\n317414    板\n317415   位置\n317416   商务\n\n[1365335 rows x 1 columns]",
      "text/html": "<div>\n<style scoped>\n    .dataframe tbody tr th:only-of-type {\n        vertical-align: middle;\n    }\n\n    .dataframe tbody tr th {\n        vertical-align: top;\n    }\n\n    .dataframe thead th {\n        text-align: right;\n    }\n</style>\n<table border=\"1\" class=\"dataframe\">\n  <thead>\n    <tr style=\"text-align: right;\">\n      <th></th>\n      <th>noun</th>\n    </tr>\n  </thead>\n  <tbody>\n    <tr>\n      <th>1</th>\n      <td>交通</td>\n    </tr>\n    <tr>\n      <th>1</th>\n      <td>房间</td>\n    </tr>\n    <tr>\n      <th>1</th>\n      <td>房间</td>\n    </tr>\n    <tr>\n      <th>1</th>\n      <td>面积</td>\n    </tr>\n    <tr>\n      <th>1</th>\n      <td>布局</td>\n    </tr>\n    <tr>\n      <th>...</th>\n      <td>...</td>\n    </tr>\n    <tr>\n      <th>317413</th>\n      <td>房间</td>\n    </tr>\n    <tr>\n      <th>317413</th>\n      <td>热水</td>\n    </tr>\n    <tr>\n      <th>317414</th>\n      <td>板</td>\n    </tr>\n    <tr>\n      <th>317415</th>\n      <td>位置</td>\n    </tr>\n    <tr>\n      <th>317416</th>\n      <td>商务</td>\n    </tr>\n  </tbody>\n</table>\n<p>1365335 rows × 1 columns</p>\n</div>"
     },
     "execution_count": 40,
     "metadata": {},
     "output_type": "execute_result"
    }
   ],
   "source": [
    "nouns_split = nouns_split.drop('temp', axis=1)\n",
    "nouns_split"
   ],
   "metadata": {
    "collapsed": false
   }
  },
  {
   "cell_type": "code",
   "execution_count": 41,
   "outputs": [
    {
     "data": {
      "text/plain": "             noun\n1              交通\n1              房间\n1              面积\n1              布局\n1              感觉\n...           ...\n317315        大方面\n317318  DorisFeng\n317322        热水浴\n317327        布草篓\n317327         草篓\n\n[35468 rows x 1 columns]",
      "text/html": "<div>\n<style scoped>\n    .dataframe tbody tr th:only-of-type {\n        vertical-align: middle;\n    }\n\n    .dataframe tbody tr th {\n        vertical-align: top;\n    }\n\n    .dataframe thead th {\n        text-align: right;\n    }\n</style>\n<table border=\"1\" class=\"dataframe\">\n  <thead>\n    <tr style=\"text-align: right;\">\n      <th></th>\n      <th>noun</th>\n    </tr>\n  </thead>\n  <tbody>\n    <tr>\n      <th>1</th>\n      <td>交通</td>\n    </tr>\n    <tr>\n      <th>1</th>\n      <td>房间</td>\n    </tr>\n    <tr>\n      <th>1</th>\n      <td>面积</td>\n    </tr>\n    <tr>\n      <th>1</th>\n      <td>布局</td>\n    </tr>\n    <tr>\n      <th>1</th>\n      <td>感觉</td>\n    </tr>\n    <tr>\n      <th>...</th>\n      <td>...</td>\n    </tr>\n    <tr>\n      <th>317315</th>\n      <td>大方面</td>\n    </tr>\n    <tr>\n      <th>317318</th>\n      <td>DorisFeng</td>\n    </tr>\n    <tr>\n      <th>317322</th>\n      <td>热水浴</td>\n    </tr>\n    <tr>\n      <th>317327</th>\n      <td>布草篓</td>\n    </tr>\n    <tr>\n      <th>317327</th>\n      <td>草篓</td>\n    </tr>\n  </tbody>\n</table>\n<p>35468 rows × 1 columns</p>\n</div>"
     },
     "execution_count": 41,
     "metadata": {},
     "output_type": "execute_result"
    }
   ],
   "source": [
    "nouns_split = nouns_split.drop_duplicates(subset='noun')\n",
    "nouns_split"
   ],
   "metadata": {
    "collapsed": false
   }
  },
  {
   "cell_type": "code",
   "execution_count": 48,
   "outputs": [
    {
     "data": {
      "text/plain": "         noun\n1          交通\n1          房间\n1          面积\n1          布局\n1          感觉\n...       ...\n315038  youmi\n315076     自助\n315101    超级美\n315179  jimmy\n316645     不错\n\n[8230 rows x 1 columns]",
      "text/html": "<div>\n<style scoped>\n    .dataframe tbody tr th:only-of-type {\n        vertical-align: middle;\n    }\n\n    .dataframe tbody tr th {\n        vertical-align: top;\n    }\n\n    .dataframe thead th {\n        text-align: right;\n    }\n</style>\n<table border=\"1\" class=\"dataframe\">\n  <thead>\n    <tr style=\"text-align: right;\">\n      <th></th>\n      <th>noun</th>\n    </tr>\n  </thead>\n  <tbody>\n    <tr>\n      <th>1</th>\n      <td>交通</td>\n    </tr>\n    <tr>\n      <th>1</th>\n      <td>房间</td>\n    </tr>\n    <tr>\n      <th>1</th>\n      <td>面积</td>\n    </tr>\n    <tr>\n      <th>1</th>\n      <td>布局</td>\n    </tr>\n    <tr>\n      <th>1</th>\n      <td>感觉</td>\n    </tr>\n    <tr>\n      <th>...</th>\n      <td>...</td>\n    </tr>\n    <tr>\n      <th>315038</th>\n      <td>youmi</td>\n    </tr>\n    <tr>\n      <th>315076</th>\n      <td>自助</td>\n    </tr>\n    <tr>\n      <th>315101</th>\n      <td>超级美</td>\n    </tr>\n    <tr>\n      <th>315179</th>\n      <td>jimmy</td>\n    </tr>\n    <tr>\n      <th>316645</th>\n      <td>不错</td>\n    </tr>\n  </tbody>\n</table>\n<p>8230 rows × 1 columns</p>\n</div>"
     },
     "execution_count": 48,
     "metadata": {},
     "output_type": "execute_result"
    }
   ],
   "source": [
    "nouns_split = nouns_split[nouns_split['noun'].apply(lambda x: x in model.wv.index_to_key)]\n",
    "nouns_split"
   ],
   "metadata": {
    "collapsed": false
   }
  },
  {
   "cell_type": "code",
   "execution_count": 49,
   "outputs": [
    {
     "name": "stderr",
     "output_type": "stream",
     "text": [
      "C:\\Users\\62774\\AppData\\Local\\Temp\\ipykernel_92996\\3325037510.py:1: SettingWithCopyWarning: \n",
      "A value is trying to be set on a copy of a slice from a DataFrame.\n",
      "Try using .loc[row_indexer,col_indexer] = value instead\n",
      "\n",
      "See the caveats in the documentation: https://pandas.pydata.org/pandas-docs/stable/user_guide/indexing.html#returning-a-view-versus-a-copy\n",
      "  nouns_split['CBOW200'], nouns_split['CBOW300'], nouns_split['SG200'], nouns_split['SG300'] = nouns_split['noun'].apply(\n",
      "C:\\Users\\62774\\AppData\\Local\\Temp\\ipykernel_92996\\3325037510.py:1: SettingWithCopyWarning: \n",
      "A value is trying to be set on a copy of a slice from a DataFrame.\n",
      "Try using .loc[row_indexer,col_indexer] = value instead\n",
      "\n",
      "See the caveats in the documentation: https://pandas.pydata.org/pandas-docs/stable/user_guide/indexing.html#returning-a-view-versus-a-copy\n",
      "  nouns_split['CBOW200'], nouns_split['CBOW300'], nouns_split['SG200'], nouns_split['SG300'] = nouns_split['noun'].apply(\n",
      "C:\\Users\\62774\\AppData\\Local\\Temp\\ipykernel_92996\\3325037510.py:1: SettingWithCopyWarning: \n",
      "A value is trying to be set on a copy of a slice from a DataFrame.\n",
      "Try using .loc[row_indexer,col_indexer] = value instead\n",
      "\n",
      "See the caveats in the documentation: https://pandas.pydata.org/pandas-docs/stable/user_guide/indexing.html#returning-a-view-versus-a-copy\n",
      "  nouns_split['CBOW200'], nouns_split['CBOW300'], nouns_split['SG200'], nouns_split['SG300'] = nouns_split['noun'].apply(\n",
      "C:\\Users\\62774\\AppData\\Local\\Temp\\ipykernel_92996\\3325037510.py:1: SettingWithCopyWarning: \n",
      "A value is trying to be set on a copy of a slice from a DataFrame.\n",
      "Try using .loc[row_indexer,col_indexer] = value instead\n",
      "\n",
      "See the caveats in the documentation: https://pandas.pydata.org/pandas-docs/stable/user_guide/indexing.html#returning-a-view-versus-a-copy\n",
      "  nouns_split['CBOW200'], nouns_split['CBOW300'], nouns_split['SG200'], nouns_split['SG300'] = nouns_split['noun'].apply(\n"
     ]
    },
    {
     "data": {
      "text/plain": "         noun                                            CBOW200  \\\n1          交通  [0.73554146, -1.6018428, -1.2404506, -1.291739...   \n1          房间  [0.21021058, -0.59635323, 0.47715834, -0.63653...   \n1          面积  [0.55572355, -0.5323286, 0.91498137, -2.066341...   \n1          布局  [0.25501794, -0.3466378, -0.47401792, -0.14116...   \n1          感觉  [-0.19078201, 1.6415222, -0.8261466, -0.152102...   \n...       ...                                                ...   \n315038  youmi  [0.11155239, 0.030835023, -0.14554875, 0.22515...   \n315076     自助  [-0.11359952, 1.1666644, 0.92102784, -0.431855...   \n315101    超级美  [-0.033927176, -0.07938691, -0.026228638, 0.08...   \n315179  jimmy  [0.22390273, 0.022045871, -0.037152126, 0.1171...   \n316645     不错  [0.18829997, -0.38158596, 0.07351275, -1.30795...   \n\n                                                  CBOW300  \\\n1       [0.13702658, 0.68759453, -0.50076807, -1.18228...   \n1       [-0.18851501, -1.4922299, 0.020221746, 0.11842...   \n1       [0.077284776, -0.6162267, -0.19647479, 0.87952...   \n1       [-1.1475303, 0.17562264, -0.1984455, 0.1160465...   \n1       [0.39326325, -0.04872533, -1.0128112, -0.79138...   \n...                                                   ...   \n315038  [0.042582456, 0.14201643, -0.031047368, 0.0246...   \n315076  [-0.86022395, 0.4241296, -0.049184985, 0.77648...   \n315101  [-0.005877178, 0.057249628, -0.0040396433, 0.0...   \n315179  [0.038666192, 0.08383971, -0.032438036, 0.0580...   \n316645  [0.19843362, -1.4397069, 0.07930169, 0.1948481...   \n\n                                                    SG200  \\\n1       [0.13643661, -0.65482014, -0.2879653, -0.05883...   \n1       [0.15201452, -0.08642149, -0.24797179, 0.12972...   \n1       [0.13158712, -0.17670391, 0.082463704, -0.1191...   \n1       [0.032230377, -0.116721846, 0.11293944, 0.1736...   \n1       [0.17164549, -0.051305518, -0.48092037, 0.1193...   \n...                                                   ...   \n315038  [0.35421535, -0.03280168, -0.115409225, 0.2332...   \n315076  [-0.36667868, 0.28605986, 0.23633607, 0.097034...   \n315101  [-0.0026171335, -0.12006193, -0.07763223, 0.20...   \n315179  [0.29591686, 0.042219613, -0.02176083, 0.21639...   \n316645  [0.035469998, -0.13442698, 0.09657107, 0.14248...   \n\n                                                    SG300  \n1       [0.25992107, 0.26327625, -0.2779082, -0.031378...  \n1       [0.039339744, 0.18192534, -0.12488792, 0.01688...  \n1       [0.21622764, 0.17590806, -0.30573595, 0.077383...  \n1       [0.1252207, 0.20172052, -0.04379249, 0.0163388...  \n1       [0.01354998, 0.41260666, -0.2904518, -0.207393...  \n...                                                   ...  \n315038  [0.053210694, 0.36708027, -0.009002105, 0.1543...  \n315076  [0.0005533775, 0.11464605, 0.08450587, 0.31537...  \n315101  [-0.012537354, 0.18040492, -0.04299096, 0.1510...  \n315179  [-0.026328592, 0.33016804, 0.014991377, 0.1277...  \n316645  [0.13261823, 0.15578552, -0.17663759, -0.00391...  \n\n[8230 rows x 5 columns]",
      "text/html": "<div>\n<style scoped>\n    .dataframe tbody tr th:only-of-type {\n        vertical-align: middle;\n    }\n\n    .dataframe tbody tr th {\n        vertical-align: top;\n    }\n\n    .dataframe thead th {\n        text-align: right;\n    }\n</style>\n<table border=\"1\" class=\"dataframe\">\n  <thead>\n    <tr style=\"text-align: right;\">\n      <th></th>\n      <th>noun</th>\n      <th>CBOW200</th>\n      <th>CBOW300</th>\n      <th>SG200</th>\n      <th>SG300</th>\n    </tr>\n  </thead>\n  <tbody>\n    <tr>\n      <th>1</th>\n      <td>交通</td>\n      <td>[0.73554146, -1.6018428, -1.2404506, -1.291739...</td>\n      <td>[0.13702658, 0.68759453, -0.50076807, -1.18228...</td>\n      <td>[0.13643661, -0.65482014, -0.2879653, -0.05883...</td>\n      <td>[0.25992107, 0.26327625, -0.2779082, -0.031378...</td>\n    </tr>\n    <tr>\n      <th>1</th>\n      <td>房间</td>\n      <td>[0.21021058, -0.59635323, 0.47715834, -0.63653...</td>\n      <td>[-0.18851501, -1.4922299, 0.020221746, 0.11842...</td>\n      <td>[0.15201452, -0.08642149, -0.24797179, 0.12972...</td>\n      <td>[0.039339744, 0.18192534, -0.12488792, 0.01688...</td>\n    </tr>\n    <tr>\n      <th>1</th>\n      <td>面积</td>\n      <td>[0.55572355, -0.5323286, 0.91498137, -2.066341...</td>\n      <td>[0.077284776, -0.6162267, -0.19647479, 0.87952...</td>\n      <td>[0.13158712, -0.17670391, 0.082463704, -0.1191...</td>\n      <td>[0.21622764, 0.17590806, -0.30573595, 0.077383...</td>\n    </tr>\n    <tr>\n      <th>1</th>\n      <td>布局</td>\n      <td>[0.25501794, -0.3466378, -0.47401792, -0.14116...</td>\n      <td>[-1.1475303, 0.17562264, -0.1984455, 0.1160465...</td>\n      <td>[0.032230377, -0.116721846, 0.11293944, 0.1736...</td>\n      <td>[0.1252207, 0.20172052, -0.04379249, 0.0163388...</td>\n    </tr>\n    <tr>\n      <th>1</th>\n      <td>感觉</td>\n      <td>[-0.19078201, 1.6415222, -0.8261466, -0.152102...</td>\n      <td>[0.39326325, -0.04872533, -1.0128112, -0.79138...</td>\n      <td>[0.17164549, -0.051305518, -0.48092037, 0.1193...</td>\n      <td>[0.01354998, 0.41260666, -0.2904518, -0.207393...</td>\n    </tr>\n    <tr>\n      <th>...</th>\n      <td>...</td>\n      <td>...</td>\n      <td>...</td>\n      <td>...</td>\n      <td>...</td>\n    </tr>\n    <tr>\n      <th>315038</th>\n      <td>youmi</td>\n      <td>[0.11155239, 0.030835023, -0.14554875, 0.22515...</td>\n      <td>[0.042582456, 0.14201643, -0.031047368, 0.0246...</td>\n      <td>[0.35421535, -0.03280168, -0.115409225, 0.2332...</td>\n      <td>[0.053210694, 0.36708027, -0.009002105, 0.1543...</td>\n    </tr>\n    <tr>\n      <th>315076</th>\n      <td>自助</td>\n      <td>[-0.11359952, 1.1666644, 0.92102784, -0.431855...</td>\n      <td>[-0.86022395, 0.4241296, -0.049184985, 0.77648...</td>\n      <td>[-0.36667868, 0.28605986, 0.23633607, 0.097034...</td>\n      <td>[0.0005533775, 0.11464605, 0.08450587, 0.31537...</td>\n    </tr>\n    <tr>\n      <th>315101</th>\n      <td>超级美</td>\n      <td>[-0.033927176, -0.07938691, -0.026228638, 0.08...</td>\n      <td>[-0.005877178, 0.057249628, -0.0040396433, 0.0...</td>\n      <td>[-0.0026171335, -0.12006193, -0.07763223, 0.20...</td>\n      <td>[-0.012537354, 0.18040492, -0.04299096, 0.1510...</td>\n    </tr>\n    <tr>\n      <th>315179</th>\n      <td>jimmy</td>\n      <td>[0.22390273, 0.022045871, -0.037152126, 0.1171...</td>\n      <td>[0.038666192, 0.08383971, -0.032438036, 0.0580...</td>\n      <td>[0.29591686, 0.042219613, -0.02176083, 0.21639...</td>\n      <td>[-0.026328592, 0.33016804, 0.014991377, 0.1277...</td>\n    </tr>\n    <tr>\n      <th>316645</th>\n      <td>不错</td>\n      <td>[0.18829997, -0.38158596, 0.07351275, -1.30795...</td>\n      <td>[0.19843362, -1.4397069, 0.07930169, 0.1948481...</td>\n      <td>[0.035469998, -0.13442698, 0.09657107, 0.14248...</td>\n      <td>[0.13261823, 0.15578552, -0.17663759, -0.00391...</td>\n    </tr>\n  </tbody>\n</table>\n<p>8230 rows × 5 columns</p>\n</div>"
     },
     "execution_count": 49,
     "metadata": {},
     "output_type": "execute_result"
    }
   ],
   "source": [
    "nouns_split['CBOW200'], nouns_split['CBOW300'], nouns_split['SG200'], nouns_split['SG300'] = nouns_split['noun'].apply(\n",
    "    lambda x: model.wv[x]), nouns_split['noun'].apply(lambda x: cbow300.wv[x]), nouns_split['noun'].apply(\n",
    "    lambda x: sg.wv[x]), nouns_split['noun'].apply(lambda x: sg300.wv[x])\n",
    "nouns_split"
   ],
   "metadata": {
    "collapsed": false
   }
  },
  {
   "cell_type": "code",
   "execution_count": 52,
   "outputs": [
    {
     "name": "stderr",
     "output_type": "stream",
     "text": [
      "C:\\Users\\62774\\AppData\\Local\\Temp\\ipykernel_92996\\939353274.py:1: SettingWithCopyWarning: \n",
      "A value is trying to be set on a copy of a slice from a DataFrame.\n",
      "Try using .loc[row_indexer,col_indexer] = value instead\n",
      "\n",
      "See the caveats in the documentation: https://pandas.pydata.org/pandas-docs/stable/user_guide/indexing.html#returning-a-view-versus-a-copy\n",
      "  nouns_split['CBOW200'], nouns_split['CBOW300'], nouns_split['SG200'], nouns_split['SG300'] = nouns_split[\n"
     ]
    },
    {
     "data": {
      "text/plain": "         noun                                            CBOW200  \\\n1          交通  0.73554146 -1.6018428 -1.2404506 -1.291739 -1....   \n1          房间  0.21021058 -0.59635323 0.47715834 -0.6365312 -...   \n1          面积  0.55572355 -0.5323286 0.91498137 -2.0663414 -1...   \n1          布局  0.25501794 -0.3466378 -0.47401792 -0.14116076 ...   \n1          感觉  -0.19078201 1.6415222 -0.8261466 -0.15210226 -...   \n...       ...                                                ...   \n315038  youmi  0.11155239 0.030835023 -0.14554875 0.22515017 ...   \n315076     自助  -0.11359952 1.1666644 0.92102784 -0.43185535 -...   \n315101    超级美  -0.033927176 -0.07938691 -0.026228638 0.083482...   \n315179  jimmy  0.22390273 0.022045871 -0.037152126 0.11712757...   \n316645     不错  0.18829997 -0.38158596 0.07351275 -1.3079574 0...   \n\n                                                  CBOW300  \\\n1       0.13702658 0.68759453 -0.50076807 -1.182281 1....   \n1       -0.18851501 -1.4922299 0.020221746 0.1184214 0...   \n1       0.077284776 -0.6162267 -0.19647479 0.8795282 0...   \n1       -1.1475303 0.17562264 -0.1984455 0.11604657 -0...   \n1       0.39326325 -0.04872533 -1.0128112 -0.79138595 ...   \n...                                                   ...   \n315038  0.042582456 0.14201643 -0.031047368 0.02465054...   \n315076  -0.86022395 0.4241296 -0.049184985 0.77648425 ...   \n315101  -0.005877178 0.057249628 -0.0040396433 0.04478...   \n315179  0.038666192 0.08383971 -0.032438036 0.05806949...   \n316645  0.19843362 -1.4397069 0.07930169 0.19484816 0....   \n\n                                                    SG200  \\\n1       0.13643661 -0.65482014 -0.2879653 -0.058837112...   \n1       0.15201452 -0.08642149 -0.24797179 0.12972212 ...   \n1       0.13158712 -0.17670391 0.082463704 -0.11915377...   \n1       0.032230377 -0.116721846 0.11293944 0.17366236...   \n1       0.17164549 -0.051305518 -0.48092037 0.11932772...   \n...                                                   ...   \n315038  0.35421535 -0.03280168 -0.115409225 0.233267 0...   \n315076  -0.36667868 0.28605986 0.23633607 0.097034104 ...   \n315101  -0.0026171335 -0.12006193 -0.07763223 0.206397...   \n315179  0.29591686 0.042219613 -0.02176083 0.21639612 ...   \n316645  0.035469998 -0.13442698 0.09657107 0.1424809 0...   \n\n                                                    SG300  \n1       0.25992107 0.26327625 -0.2779082 -0.03137875 -...  \n1       0.039339744 0.18192534 -0.12488792 0.016881194...  \n1       0.21622764 0.17590806 -0.30573595 0.07738382 -...  \n1       0.1252207 0.20172052 -0.04379249 0.016338833 -...  \n1       0.01354998 0.41260666 -0.2904518 -0.20739338 0...  \n...                                                   ...  \n315038  0.053210694 0.36708027 -0.009002105 0.15433264...  \n315076  0.0005533775 0.11464605 0.08450587 0.31537756 ...  \n315101  -0.012537354 0.18040492 -0.04299096 0.15100805...  \n315179  -0.026328592 0.33016804 0.014991377 0.12775822...  \n316645  0.13261823 0.15578552 -0.17663759 -0.003915232...  \n\n[8230 rows x 5 columns]",
      "text/html": "<div>\n<style scoped>\n    .dataframe tbody tr th:only-of-type {\n        vertical-align: middle;\n    }\n\n    .dataframe tbody tr th {\n        vertical-align: top;\n    }\n\n    .dataframe thead th {\n        text-align: right;\n    }\n</style>\n<table border=\"1\" class=\"dataframe\">\n  <thead>\n    <tr style=\"text-align: right;\">\n      <th></th>\n      <th>noun</th>\n      <th>CBOW200</th>\n      <th>CBOW300</th>\n      <th>SG200</th>\n      <th>SG300</th>\n    </tr>\n  </thead>\n  <tbody>\n    <tr>\n      <th>1</th>\n      <td>交通</td>\n      <td>0.73554146 -1.6018428 -1.2404506 -1.291739 -1....</td>\n      <td>0.13702658 0.68759453 -0.50076807 -1.182281 1....</td>\n      <td>0.13643661 -0.65482014 -0.2879653 -0.058837112...</td>\n      <td>0.25992107 0.26327625 -0.2779082 -0.03137875 -...</td>\n    </tr>\n    <tr>\n      <th>1</th>\n      <td>房间</td>\n      <td>0.21021058 -0.59635323 0.47715834 -0.6365312 -...</td>\n      <td>-0.18851501 -1.4922299 0.020221746 0.1184214 0...</td>\n      <td>0.15201452 -0.08642149 -0.24797179 0.12972212 ...</td>\n      <td>0.039339744 0.18192534 -0.12488792 0.016881194...</td>\n    </tr>\n    <tr>\n      <th>1</th>\n      <td>面积</td>\n      <td>0.55572355 -0.5323286 0.91498137 -2.0663414 -1...</td>\n      <td>0.077284776 -0.6162267 -0.19647479 0.8795282 0...</td>\n      <td>0.13158712 -0.17670391 0.082463704 -0.11915377...</td>\n      <td>0.21622764 0.17590806 -0.30573595 0.07738382 -...</td>\n    </tr>\n    <tr>\n      <th>1</th>\n      <td>布局</td>\n      <td>0.25501794 -0.3466378 -0.47401792 -0.14116076 ...</td>\n      <td>-1.1475303 0.17562264 -0.1984455 0.11604657 -0...</td>\n      <td>0.032230377 -0.116721846 0.11293944 0.17366236...</td>\n      <td>0.1252207 0.20172052 -0.04379249 0.016338833 -...</td>\n    </tr>\n    <tr>\n      <th>1</th>\n      <td>感觉</td>\n      <td>-0.19078201 1.6415222 -0.8261466 -0.15210226 -...</td>\n      <td>0.39326325 -0.04872533 -1.0128112 -0.79138595 ...</td>\n      <td>0.17164549 -0.051305518 -0.48092037 0.11932772...</td>\n      <td>0.01354998 0.41260666 -0.2904518 -0.20739338 0...</td>\n    </tr>\n    <tr>\n      <th>...</th>\n      <td>...</td>\n      <td>...</td>\n      <td>...</td>\n      <td>...</td>\n      <td>...</td>\n    </tr>\n    <tr>\n      <th>315038</th>\n      <td>youmi</td>\n      <td>0.11155239 0.030835023 -0.14554875 0.22515017 ...</td>\n      <td>0.042582456 0.14201643 -0.031047368 0.02465054...</td>\n      <td>0.35421535 -0.03280168 -0.115409225 0.233267 0...</td>\n      <td>0.053210694 0.36708027 -0.009002105 0.15433264...</td>\n    </tr>\n    <tr>\n      <th>315076</th>\n      <td>自助</td>\n      <td>-0.11359952 1.1666644 0.92102784 -0.43185535 -...</td>\n      <td>-0.86022395 0.4241296 -0.049184985 0.77648425 ...</td>\n      <td>-0.36667868 0.28605986 0.23633607 0.097034104 ...</td>\n      <td>0.0005533775 0.11464605 0.08450587 0.31537756 ...</td>\n    </tr>\n    <tr>\n      <th>315101</th>\n      <td>超级美</td>\n      <td>-0.033927176 -0.07938691 -0.026228638 0.083482...</td>\n      <td>-0.005877178 0.057249628 -0.0040396433 0.04478...</td>\n      <td>-0.0026171335 -0.12006193 -0.07763223 0.206397...</td>\n      <td>-0.012537354 0.18040492 -0.04299096 0.15100805...</td>\n    </tr>\n    <tr>\n      <th>315179</th>\n      <td>jimmy</td>\n      <td>0.22390273 0.022045871 -0.037152126 0.11712757...</td>\n      <td>0.038666192 0.08383971 -0.032438036 0.05806949...</td>\n      <td>0.29591686 0.042219613 -0.02176083 0.21639612 ...</td>\n      <td>-0.026328592 0.33016804 0.014991377 0.12775822...</td>\n    </tr>\n    <tr>\n      <th>316645</th>\n      <td>不错</td>\n      <td>0.18829997 -0.38158596 0.07351275 -1.3079574 0...</td>\n      <td>0.19843362 -1.4397069 0.07930169 0.19484816 0....</td>\n      <td>0.035469998 -0.13442698 0.09657107 0.1424809 0...</td>\n      <td>0.13261823 0.15578552 -0.17663759 -0.003915232...</td>\n    </tr>\n  </tbody>\n</table>\n<p>8230 rows × 5 columns</p>\n</div>"
     },
     "execution_count": 52,
     "metadata": {},
     "output_type": "execute_result"
    }
   ],
   "source": [
    "nouns_split['CBOW200'], nouns_split['CBOW300'], nouns_split['SG200'], nouns_split['SG300'] = nouns_split[\n",
    "                                                                                                 'CBOW200'].apply(\n",
    "    lambda x: ' '.join([str(number) for number in x])), nouns_split['CBOW300'].apply(\n",
    "    lambda x: ' '.join([str(number) for number in x])), nouns_split['SG200'].apply(\n",
    "    lambda x: ' '.join([str(number) for number in x])), nouns_split['SG300'].apply(\n",
    "    lambda x: ' '.join([str(number) for number in x]))\n",
    "nouns_split"
   ],
   "metadata": {
    "collapsed": false
   }
  },
  {
   "cell_type": "code",
   "execution_count": 53,
   "outputs": [],
   "source": [
    "nouns_split.to_excel('../data/word2vec_min_count_5.xlsx', index=False)"
   ],
   "metadata": {
    "collapsed": false
   }
  },
  {
   "cell_type": "code",
   "execution_count": 54,
   "outputs": [
    {
     "data": {
      "text/plain": "18913"
     },
     "execution_count": 54,
     "metadata": {},
     "output_type": "execute_result"
    }
   ],
   "source": [
    "len(model.wv.index_to_key)"
   ],
   "metadata": {
    "collapsed": false
   }
  },
  {
   "cell_type": "code",
   "execution_count": null,
   "outputs": [],
   "source": [],
   "metadata": {
    "collapsed": false
   }
  }
 ],
 "metadata": {
  "kernelspec": {
   "display_name": "Python 3",
   "language": "python",
   "name": "python3"
  },
  "language_info": {
   "codemirror_mode": {
    "name": "ipython",
    "version": 2
   },
   "file_extension": ".py",
   "mimetype": "text/x-python",
   "name": "python",
   "nbconvert_exporter": "python",
   "pygments_lexer": "ipython2",
   "version": "2.7.6"
  }
 },
 "nbformat": 4,
 "nbformat_minor": 0
}
