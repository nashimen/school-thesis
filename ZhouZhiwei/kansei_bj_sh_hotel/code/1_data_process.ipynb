{
 "cells": [
  {
   "cell_type": "code",
   "execution_count": 1,
   "metadata": {
    "collapsed": true
   },
   "outputs": [],
   "source": [
    "\"\"\"\n",
    "数据处理\n",
    "\"\"\"\n",
    "import pandas as pd"
   ]
  },
  {
   "cell_type": "code",
   "execution_count": 2,
   "outputs": [
    {
     "data": {
      "text/plain": "        地区  星级                 名称                作者     房型       入住日期  出行目的  \\\n0       上海   4  上海外滩大悦城CitiGO欢阁酒店             余觞一梦还    大床房 2021-09-01  情侣出游   \n1       上海   4  上海外滩大悦城CitiGO欢阁酒店            Zoey 7    大床房 2021-09-01  朋友出游   \n2       上海   4  上海外滩大悦城CitiGO欢阁酒店  _WeChat56211****  高级大床房 2021-09-01  情侣出游   \n3       上海   4  上海外滩大悦城CitiGO欢阁酒店        D39833****  豪华双床房 2021-07-01  家庭亲子   \n4       上海   4  上海外滩大悦城CitiGO欢阁酒店       1860517****  豪华双床房 2021-06-01    其他   \n...     ..  ..                ...               ...    ...        ...   ...   \n317513  北京   5         金茂北京威斯汀大饭店               NaN    NaN 2019-04-08    其他   \n317514  北京   5         金茂北京威斯汀大饭店               NaN    NaN 2018-08-01    其他   \n317515  北京   5         金茂北京威斯汀大饭店               NaN    NaN 2018-07-20    其他   \n317516  北京   5         金茂北京威斯汀大饭店               NaN    NaN 2018-07-25    其他   \n317517  北京   5         金茂北京威斯汀大饭店               NaN    NaN 2019-01-27    其他   \n\n        作者点评数   评分                                               评论文本  点赞数  \\\n0        17.0  5.0                                           很不错，服务很好    0   \n1         4.0  5.0                                             很好 很方便    0   \n2        12.0  5.0  交通很方便，房间很干净！虽然房间面积普遍都不大，但是布局合理，没有太拥挤的感觉。卫浴也很棒！...    0   \n3         1.0  5.0  来上海就住这个酒店 真的超级赞 我算老上海了 原来在七浦路做服装 现在的服务 餐饮都超级赞 ...    0   \n4         8.0  5.0  必须五星好评！ ◎酒店的装修真的非常好看，无论是外观还是内部装饰，都是绝绝子 ◎服务非常体贴...    1   \n...       ...  ...                                                ...  ...   \n317513    0.0  5.0                                             【适合孩子】    0   \n317514    0.0  3.0                                        就是房间漏水，没有热水    0   \n317515    0.0  5.0                                        巴适的板，非常干净整洁    0   \n317516    0.0  4.0                                         离三里屯近 位置不错    0   \n317517    0.0  5.0                                             【适合商务】    0   \n\n                                                     酒店回复       发布日期  \n0       尊敬的宾客:您好!感谢您选择CitiGo 酒店,再多的广告,不如大家的口口相传,我们向来重视... 2021-09-08  \n1       尊敬的宾客:您好!感谢您5 分的点评哦!每个城市总会有让人惦念的理由,每个季节都有我们难舍的... 2021-09-08  \n2       尊敬的宾客:您好!感谢您选择CitiGo 酒店,再多的广告,不如大家的口口相传,我们向来重视... 2021-09-06  \n3       看到客官简单而又深厚的好评真的是好激动呢,而且还这么认可我们的服务~酒店的我们求为每位客官提... 2021-07-30  \n4       非常感谢阁下的宝贵评论。在得到您对我们的肯定和赞许后，员工们都十分开心， 我们会将您的评论与... 2021-06-19  \n...                                                   ...        ...  \n317513                                                NaN 2019-04-08  \n317514                                                NaN 2018-08-01  \n317515                                                NaN 2018-07-20  \n317516                                                NaN 2018-07-25  \n317517                                                NaN 2019-01-27  \n\n[317518 rows x 13 columns]",
      "text/html": "<div>\n<style scoped>\n    .dataframe tbody tr th:only-of-type {\n        vertical-align: middle;\n    }\n\n    .dataframe tbody tr th {\n        vertical-align: top;\n    }\n\n    .dataframe thead th {\n        text-align: right;\n    }\n</style>\n<table border=\"1\" class=\"dataframe\">\n  <thead>\n    <tr style=\"text-align: right;\">\n      <th></th>\n      <th>地区</th>\n      <th>星级</th>\n      <th>名称</th>\n      <th>作者</th>\n      <th>房型</th>\n      <th>入住日期</th>\n      <th>出行目的</th>\n      <th>作者点评数</th>\n      <th>评分</th>\n      <th>评论文本</th>\n      <th>点赞数</th>\n      <th>酒店回复</th>\n      <th>发布日期</th>\n    </tr>\n  </thead>\n  <tbody>\n    <tr>\n      <th>0</th>\n      <td>上海</td>\n      <td>4</td>\n      <td>上海外滩大悦城CitiGO欢阁酒店</td>\n      <td>余觞一梦还</td>\n      <td>大床房</td>\n      <td>2021-09-01</td>\n      <td>情侣出游</td>\n      <td>17.0</td>\n      <td>5.0</td>\n      <td>很不错，服务很好</td>\n      <td>0</td>\n      <td>尊敬的宾客:您好!感谢您选择CitiGo 酒店,再多的广告,不如大家的口口相传,我们向来重视...</td>\n      <td>2021-09-08</td>\n    </tr>\n    <tr>\n      <th>1</th>\n      <td>上海</td>\n      <td>4</td>\n      <td>上海外滩大悦城CitiGO欢阁酒店</td>\n      <td>Zoey 7</td>\n      <td>大床房</td>\n      <td>2021-09-01</td>\n      <td>朋友出游</td>\n      <td>4.0</td>\n      <td>5.0</td>\n      <td>很好 很方便</td>\n      <td>0</td>\n      <td>尊敬的宾客:您好!感谢您5 分的点评哦!每个城市总会有让人惦念的理由,每个季节都有我们难舍的...</td>\n      <td>2021-09-08</td>\n    </tr>\n    <tr>\n      <th>2</th>\n      <td>上海</td>\n      <td>4</td>\n      <td>上海外滩大悦城CitiGO欢阁酒店</td>\n      <td>_WeChat56211****</td>\n      <td>高级大床房</td>\n      <td>2021-09-01</td>\n      <td>情侣出游</td>\n      <td>12.0</td>\n      <td>5.0</td>\n      <td>交通很方便，房间很干净！虽然房间面积普遍都不大，但是布局合理，没有太拥挤的感觉。卫浴也很棒！...</td>\n      <td>0</td>\n      <td>尊敬的宾客:您好!感谢您选择CitiGo 酒店,再多的广告,不如大家的口口相传,我们向来重视...</td>\n      <td>2021-09-06</td>\n    </tr>\n    <tr>\n      <th>3</th>\n      <td>上海</td>\n      <td>4</td>\n      <td>上海外滩大悦城CitiGO欢阁酒店</td>\n      <td>D39833****</td>\n      <td>豪华双床房</td>\n      <td>2021-07-01</td>\n      <td>家庭亲子</td>\n      <td>1.0</td>\n      <td>5.0</td>\n      <td>来上海就住这个酒店 真的超级赞 我算老上海了 原来在七浦路做服装 现在的服务 餐饮都超级赞 ...</td>\n      <td>0</td>\n      <td>看到客官简单而又深厚的好评真的是好激动呢,而且还这么认可我们的服务~酒店的我们求为每位客官提...</td>\n      <td>2021-07-30</td>\n    </tr>\n    <tr>\n      <th>4</th>\n      <td>上海</td>\n      <td>4</td>\n      <td>上海外滩大悦城CitiGO欢阁酒店</td>\n      <td>1860517****</td>\n      <td>豪华双床房</td>\n      <td>2021-06-01</td>\n      <td>其他</td>\n      <td>8.0</td>\n      <td>5.0</td>\n      <td>必须五星好评！ ◎酒店的装修真的非常好看，无论是外观还是内部装饰，都是绝绝子 ◎服务非常体贴...</td>\n      <td>1</td>\n      <td>非常感谢阁下的宝贵评论。在得到您对我们的肯定和赞许后，员工们都十分开心， 我们会将您的评论与...</td>\n      <td>2021-06-19</td>\n    </tr>\n    <tr>\n      <th>...</th>\n      <td>...</td>\n      <td>...</td>\n      <td>...</td>\n      <td>...</td>\n      <td>...</td>\n      <td>...</td>\n      <td>...</td>\n      <td>...</td>\n      <td>...</td>\n      <td>...</td>\n      <td>...</td>\n      <td>...</td>\n      <td>...</td>\n    </tr>\n    <tr>\n      <th>317513</th>\n      <td>北京</td>\n      <td>5</td>\n      <td>金茂北京威斯汀大饭店</td>\n      <td>NaN</td>\n      <td>NaN</td>\n      <td>2019-04-08</td>\n      <td>其他</td>\n      <td>0.0</td>\n      <td>5.0</td>\n      <td>【适合孩子】</td>\n      <td>0</td>\n      <td>NaN</td>\n      <td>2019-04-08</td>\n    </tr>\n    <tr>\n      <th>317514</th>\n      <td>北京</td>\n      <td>5</td>\n      <td>金茂北京威斯汀大饭店</td>\n      <td>NaN</td>\n      <td>NaN</td>\n      <td>2018-08-01</td>\n      <td>其他</td>\n      <td>0.0</td>\n      <td>3.0</td>\n      <td>就是房间漏水，没有热水</td>\n      <td>0</td>\n      <td>NaN</td>\n      <td>2018-08-01</td>\n    </tr>\n    <tr>\n      <th>317515</th>\n      <td>北京</td>\n      <td>5</td>\n      <td>金茂北京威斯汀大饭店</td>\n      <td>NaN</td>\n      <td>NaN</td>\n      <td>2018-07-20</td>\n      <td>其他</td>\n      <td>0.0</td>\n      <td>5.0</td>\n      <td>巴适的板，非常干净整洁</td>\n      <td>0</td>\n      <td>NaN</td>\n      <td>2018-07-20</td>\n    </tr>\n    <tr>\n      <th>317516</th>\n      <td>北京</td>\n      <td>5</td>\n      <td>金茂北京威斯汀大饭店</td>\n      <td>NaN</td>\n      <td>NaN</td>\n      <td>2018-07-25</td>\n      <td>其他</td>\n      <td>0.0</td>\n      <td>4.0</td>\n      <td>离三里屯近 位置不错</td>\n      <td>0</td>\n      <td>NaN</td>\n      <td>2018-07-25</td>\n    </tr>\n    <tr>\n      <th>317517</th>\n      <td>北京</td>\n      <td>5</td>\n      <td>金茂北京威斯汀大饭店</td>\n      <td>NaN</td>\n      <td>NaN</td>\n      <td>2019-01-27</td>\n      <td>其他</td>\n      <td>0.0</td>\n      <td>5.0</td>\n      <td>【适合商务】</td>\n      <td>0</td>\n      <td>NaN</td>\n      <td>2019-01-27</td>\n    </tr>\n  </tbody>\n</table>\n<p>317518 rows × 13 columns</p>\n</div>"
     },
     "execution_count": 2,
     "metadata": {},
     "output_type": "execute_result"
    }
   ],
   "source": [
    "data = pd.read_excel('../data/Beijing & Shanghai - 4&5 star.xlsx')\n",
    "data"
   ],
   "metadata": {
    "collapsed": false
   }
  },
  {
   "cell_type": "code",
   "execution_count": 3,
   "outputs": [
    {
     "data": {
      "text/plain": "(317507, 13)"
     },
     "execution_count": 3,
     "metadata": {},
     "output_type": "execute_result"
    }
   ],
   "source": [
    "data = data[~ data['评论文本'].isnull()]\n",
    "data.shape"
   ],
   "metadata": {
    "collapsed": false
   }
  },
  {
   "cell_type": "code",
   "execution_count": 4,
   "outputs": [
    {
     "name": "stderr",
     "output_type": "stream",
     "text": [
      "C:\\Users\\62774\\AppData\\Local\\Temp\\ipykernel_42284\\3777508273.py:3: SettingWithCopyWarning: \n",
      "A value is trying to be set on a copy of a slice from a DataFrame.\n",
      "Try using .loc[row_indexer,col_indexer] = value instead\n",
      "\n",
      "See the caveats in the documentation: https://pandas.pydata.org/pandas-docs/stable/user_guide/indexing.html#returning-a-view-versus-a-copy\n",
      "  data['评论文本'] = data['评论文本'].apply(lambda x: \"\".join(emoji.replace_emoji(x).split()))\n"
     ]
    },
    {
     "data": {
      "text/plain": "        地区  星级                 名称                作者     房型       入住日期  出行目的  \\\n0       上海   4  上海外滩大悦城CitiGO欢阁酒店             余觞一梦还    大床房 2021-09-01  情侣出游   \n1       上海   4  上海外滩大悦城CitiGO欢阁酒店            Zoey 7    大床房 2021-09-01  朋友出游   \n2       上海   4  上海外滩大悦城CitiGO欢阁酒店  _WeChat56211****  高级大床房 2021-09-01  情侣出游   \n3       上海   4  上海外滩大悦城CitiGO欢阁酒店        D39833****  豪华双床房 2021-07-01  家庭亲子   \n4       上海   4  上海外滩大悦城CitiGO欢阁酒店       1860517****  豪华双床房 2021-06-01    其他   \n...     ..  ..                ...               ...    ...        ...   ...   \n317513  北京   5         金茂北京威斯汀大饭店               NaN    NaN 2019-04-08    其他   \n317514  北京   5         金茂北京威斯汀大饭店               NaN    NaN 2018-08-01    其他   \n317515  北京   5         金茂北京威斯汀大饭店               NaN    NaN 2018-07-20    其他   \n317516  北京   5         金茂北京威斯汀大饭店               NaN    NaN 2018-07-25    其他   \n317517  北京   5         金茂北京威斯汀大饭店               NaN    NaN 2019-01-27    其他   \n\n        作者点评数   评分                                               评论文本  点赞数  \\\n0        17.0  5.0                                           很不错，服务很好    0   \n1         4.0  5.0                                              很好很方便    0   \n2        12.0  5.0  交通很方便，房间很干净！虽然房间面积普遍都不大，但是布局合理，没有太拥挤的感觉。卫浴也很棒！...    0   \n3         1.0  5.0  来上海就住这个酒店真的超级赞我算老上海了原来在七浦路做服装现在的服务餐饮都超级赞从来不评价的...    0   \n4         8.0  5.0  必须五星好评！◎酒店的装修真的非常好看，无论是外观还是内部装饰，都是绝绝子◎服务非常体贴，我...    1   \n...       ...  ...                                                ...  ...   \n317513    0.0  5.0                                             【适合孩子】    0   \n317514    0.0  3.0                                        就是房间漏水，没有热水    0   \n317515    0.0  5.0                                        巴适的板，非常干净整洁    0   \n317516    0.0  4.0                                          离三里屯近位置不错    0   \n317517    0.0  5.0                                             【适合商务】    0   \n\n                                                     酒店回复       发布日期  \n0       尊敬的宾客:您好!感谢您选择CitiGo 酒店,再多的广告,不如大家的口口相传,我们向来重视... 2021-09-08  \n1       尊敬的宾客:您好!感谢您5 分的点评哦!每个城市总会有让人惦念的理由,每个季节都有我们难舍的... 2021-09-08  \n2       尊敬的宾客:您好!感谢您选择CitiGo 酒店,再多的广告,不如大家的口口相传,我们向来重视... 2021-09-06  \n3       看到客官简单而又深厚的好评真的是好激动呢,而且还这么认可我们的服务~酒店的我们求为每位客官提... 2021-07-30  \n4       非常感谢阁下的宝贵评论。在得到您对我们的肯定和赞许后，员工们都十分开心， 我们会将您的评论与... 2021-06-19  \n...                                                   ...        ...  \n317513                                                NaN 2019-04-08  \n317514                                                NaN 2018-08-01  \n317515                                                NaN 2018-07-20  \n317516                                                NaN 2018-07-25  \n317517                                                NaN 2019-01-27  \n\n[317507 rows x 13 columns]",
      "text/html": "<div>\n<style scoped>\n    .dataframe tbody tr th:only-of-type {\n        vertical-align: middle;\n    }\n\n    .dataframe tbody tr th {\n        vertical-align: top;\n    }\n\n    .dataframe thead th {\n        text-align: right;\n    }\n</style>\n<table border=\"1\" class=\"dataframe\">\n  <thead>\n    <tr style=\"text-align: right;\">\n      <th></th>\n      <th>地区</th>\n      <th>星级</th>\n      <th>名称</th>\n      <th>作者</th>\n      <th>房型</th>\n      <th>入住日期</th>\n      <th>出行目的</th>\n      <th>作者点评数</th>\n      <th>评分</th>\n      <th>评论文本</th>\n      <th>点赞数</th>\n      <th>酒店回复</th>\n      <th>发布日期</th>\n    </tr>\n  </thead>\n  <tbody>\n    <tr>\n      <th>0</th>\n      <td>上海</td>\n      <td>4</td>\n      <td>上海外滩大悦城CitiGO欢阁酒店</td>\n      <td>余觞一梦还</td>\n      <td>大床房</td>\n      <td>2021-09-01</td>\n      <td>情侣出游</td>\n      <td>17.0</td>\n      <td>5.0</td>\n      <td>很不错，服务很好</td>\n      <td>0</td>\n      <td>尊敬的宾客:您好!感谢您选择CitiGo 酒店,再多的广告,不如大家的口口相传,我们向来重视...</td>\n      <td>2021-09-08</td>\n    </tr>\n    <tr>\n      <th>1</th>\n      <td>上海</td>\n      <td>4</td>\n      <td>上海外滩大悦城CitiGO欢阁酒店</td>\n      <td>Zoey 7</td>\n      <td>大床房</td>\n      <td>2021-09-01</td>\n      <td>朋友出游</td>\n      <td>4.0</td>\n      <td>5.0</td>\n      <td>很好很方便</td>\n      <td>0</td>\n      <td>尊敬的宾客:您好!感谢您5 分的点评哦!每个城市总会有让人惦念的理由,每个季节都有我们难舍的...</td>\n      <td>2021-09-08</td>\n    </tr>\n    <tr>\n      <th>2</th>\n      <td>上海</td>\n      <td>4</td>\n      <td>上海外滩大悦城CitiGO欢阁酒店</td>\n      <td>_WeChat56211****</td>\n      <td>高级大床房</td>\n      <td>2021-09-01</td>\n      <td>情侣出游</td>\n      <td>12.0</td>\n      <td>5.0</td>\n      <td>交通很方便，房间很干净！虽然房间面积普遍都不大，但是布局合理，没有太拥挤的感觉。卫浴也很棒！...</td>\n      <td>0</td>\n      <td>尊敬的宾客:您好!感谢您选择CitiGo 酒店,再多的广告,不如大家的口口相传,我们向来重视...</td>\n      <td>2021-09-06</td>\n    </tr>\n    <tr>\n      <th>3</th>\n      <td>上海</td>\n      <td>4</td>\n      <td>上海外滩大悦城CitiGO欢阁酒店</td>\n      <td>D39833****</td>\n      <td>豪华双床房</td>\n      <td>2021-07-01</td>\n      <td>家庭亲子</td>\n      <td>1.0</td>\n      <td>5.0</td>\n      <td>来上海就住这个酒店真的超级赞我算老上海了原来在七浦路做服装现在的服务餐饮都超级赞从来不评价的...</td>\n      <td>0</td>\n      <td>看到客官简单而又深厚的好评真的是好激动呢,而且还这么认可我们的服务~酒店的我们求为每位客官提...</td>\n      <td>2021-07-30</td>\n    </tr>\n    <tr>\n      <th>4</th>\n      <td>上海</td>\n      <td>4</td>\n      <td>上海外滩大悦城CitiGO欢阁酒店</td>\n      <td>1860517****</td>\n      <td>豪华双床房</td>\n      <td>2021-06-01</td>\n      <td>其他</td>\n      <td>8.0</td>\n      <td>5.0</td>\n      <td>必须五星好评！◎酒店的装修真的非常好看，无论是外观还是内部装饰，都是绝绝子◎服务非常体贴，我...</td>\n      <td>1</td>\n      <td>非常感谢阁下的宝贵评论。在得到您对我们的肯定和赞许后，员工们都十分开心， 我们会将您的评论与...</td>\n      <td>2021-06-19</td>\n    </tr>\n    <tr>\n      <th>...</th>\n      <td>...</td>\n      <td>...</td>\n      <td>...</td>\n      <td>...</td>\n      <td>...</td>\n      <td>...</td>\n      <td>...</td>\n      <td>...</td>\n      <td>...</td>\n      <td>...</td>\n      <td>...</td>\n      <td>...</td>\n      <td>...</td>\n    </tr>\n    <tr>\n      <th>317513</th>\n      <td>北京</td>\n      <td>5</td>\n      <td>金茂北京威斯汀大饭店</td>\n      <td>NaN</td>\n      <td>NaN</td>\n      <td>2019-04-08</td>\n      <td>其他</td>\n      <td>0.0</td>\n      <td>5.0</td>\n      <td>【适合孩子】</td>\n      <td>0</td>\n      <td>NaN</td>\n      <td>2019-04-08</td>\n    </tr>\n    <tr>\n      <th>317514</th>\n      <td>北京</td>\n      <td>5</td>\n      <td>金茂北京威斯汀大饭店</td>\n      <td>NaN</td>\n      <td>NaN</td>\n      <td>2018-08-01</td>\n      <td>其他</td>\n      <td>0.0</td>\n      <td>3.0</td>\n      <td>就是房间漏水，没有热水</td>\n      <td>0</td>\n      <td>NaN</td>\n      <td>2018-08-01</td>\n    </tr>\n    <tr>\n      <th>317515</th>\n      <td>北京</td>\n      <td>5</td>\n      <td>金茂北京威斯汀大饭店</td>\n      <td>NaN</td>\n      <td>NaN</td>\n      <td>2018-07-20</td>\n      <td>其他</td>\n      <td>0.0</td>\n      <td>5.0</td>\n      <td>巴适的板，非常干净整洁</td>\n      <td>0</td>\n      <td>NaN</td>\n      <td>2018-07-20</td>\n    </tr>\n    <tr>\n      <th>317516</th>\n      <td>北京</td>\n      <td>5</td>\n      <td>金茂北京威斯汀大饭店</td>\n      <td>NaN</td>\n      <td>NaN</td>\n      <td>2018-07-25</td>\n      <td>其他</td>\n      <td>0.0</td>\n      <td>4.0</td>\n      <td>离三里屯近位置不错</td>\n      <td>0</td>\n      <td>NaN</td>\n      <td>2018-07-25</td>\n    </tr>\n    <tr>\n      <th>317517</th>\n      <td>北京</td>\n      <td>5</td>\n      <td>金茂北京威斯汀大饭店</td>\n      <td>NaN</td>\n      <td>NaN</td>\n      <td>2019-01-27</td>\n      <td>其他</td>\n      <td>0.0</td>\n      <td>5.0</td>\n      <td>【适合商务】</td>\n      <td>0</td>\n      <td>NaN</td>\n      <td>2019-01-27</td>\n    </tr>\n  </tbody>\n</table>\n<p>317507 rows × 13 columns</p>\n</div>"
     },
     "execution_count": 4,
     "metadata": {},
     "output_type": "execute_result"
    }
   ],
   "source": [
    "import emoji\n",
    "\n",
    "data['评论文本'] = data['评论文本'].apply(lambda x: \"\".join(emoji.replace_emoji(x).split()))\n",
    "data"
   ],
   "metadata": {
    "collapsed": false
   }
  },
  {
   "cell_type": "code",
   "execution_count": 5,
   "outputs": [
    {
     "data": {
      "text/plain": "(317427, 13)"
     },
     "execution_count": 5,
     "metadata": {},
     "output_type": "execute_result"
    }
   ],
   "source": [
    "data = data[~ data['评论文本'].str.contains(r'[a-zA-z]+://[^\\s]*')]\n",
    "data.shape"
   ],
   "metadata": {
    "collapsed": false
   }
  },
  {
   "cell_type": "code",
   "execution_count": 6,
   "outputs": [
    {
     "data": {
      "text/plain": "(317427, 13)"
     },
     "execution_count": 6,
     "metadata": {},
     "output_type": "execute_result"
    }
   ],
   "source": [
    "data = data[~ data['评论文本'].isna()]\n",
    "data.shape"
   ],
   "metadata": {
    "collapsed": false
   }
  }
 ],
 "metadata": {
  "kernelspec": {
   "display_name": "Python 3",
   "language": "python",
   "name": "python3"
  },
  "language_info": {
   "codemirror_mode": {
    "name": "ipython",
    "version": 2
   },
   "file_extension": ".py",
   "mimetype": "text/x-python",
   "name": "python",
   "nbconvert_exporter": "python",
   "pygments_lexer": "ipython2",
   "version": "2.7.6"
  }
 },
 "nbformat": 4,
 "nbformat_minor": 0
}
