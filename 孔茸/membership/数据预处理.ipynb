{
 "cells": [
  {
   "cell_type": "code",
   "execution_count": 1,
   "metadata": {},
   "outputs": [],
   "source": [
    "import pandas as pd"
   ]
  },
  {
   "cell_type": "markdown",
   "metadata": {},
   "source": [
    "# 数据读取和数据分布"
   ]
  },
  {
   "cell_type": "code",
   "execution_count": 2,
   "metadata": {},
   "outputs": [],
   "source": [
    "#数据读取，数据分布\n",
    "data = pd.read_csv(\"./data/data_train.csv\",header=None,sep='\\t',encoding='gbk')"
   ]
  },
  {
   "cell_type": "code",
   "execution_count": 3,
   "metadata": {},
   "outputs": [
    {
     "data": {
      "text/plain": [
       "(82025, 4)"
      ]
     },
     "execution_count": 3,
     "metadata": {},
     "output_type": "execute_result"
    }
   ],
   "source": [
    "data.shape"
   ]
  },
  {
   "cell_type": "code",
   "execution_count": 4,
   "metadata": {},
   "outputs": [
    {
     "data": {
      "text/html": [
       "<div>\n",
       "<style scoped>\n",
       "    .dataframe tbody tr th:only-of-type {\n",
       "        vertical-align: middle;\n",
       "    }\n",
       "\n",
       "    .dataframe tbody tr th {\n",
       "        vertical-align: top;\n",
       "    }\n",
       "\n",
       "    .dataframe thead th {\n",
       "        text-align: right;\n",
       "    }\n",
       "</style>\n",
       "<table border=\"1\" class=\"dataframe\">\n",
       "  <thead>\n",
       "    <tr style=\"text-align: right;\">\n",
       "      <th></th>\n",
       "      <th>id</th>\n",
       "      <th>class</th>\n",
       "      <th>content</th>\n",
       "      <th>label</th>\n",
       "    </tr>\n",
       "  </thead>\n",
       "  <tbody>\n",
       "    <tr>\n",
       "      <th>0</th>\n",
       "      <td>1</td>\n",
       "      <td>食品餐饮</td>\n",
       "      <td>买这套系统本来是用来做我们公司的公众号第三方平台代运营的，没想到还有app，而且每个都很方便...</td>\n",
       "      <td>2</td>\n",
       "    </tr>\n",
       "    <tr>\n",
       "      <th>1</th>\n",
       "      <td>2</td>\n",
       "      <td>食品餐饮</td>\n",
       "      <td>烤鸭还是不错的，别的菜没什么特殊的</td>\n",
       "      <td>1</td>\n",
       "    </tr>\n",
       "    <tr>\n",
       "      <th>2</th>\n",
       "      <td>3</td>\n",
       "      <td>食品餐饮</td>\n",
       "      <td>使用说明看不懂！不会用，很多操作没详细标明！</td>\n",
       "      <td>0</td>\n",
       "    </tr>\n",
       "    <tr>\n",
       "      <th>3</th>\n",
       "      <td>4</td>\n",
       "      <td>食品餐饮</td>\n",
       "      <td>越来越不好了，菜品也少了，服务也不及时。</td>\n",
       "      <td>0</td>\n",
       "    </tr>\n",
       "    <tr>\n",
       "      <th>4</th>\n",
       "      <td>5</td>\n",
       "      <td>食品餐饮</td>\n",
       "      <td>是在是不知道该吃什么好、就来了</td>\n",
       "      <td>1</td>\n",
       "    </tr>\n",
       "  </tbody>\n",
       "</table>\n",
       "</div>"
      ],
      "text/plain": [
       "   id class                                            content  label\n",
       "0   1  食品餐饮  买这套系统本来是用来做我们公司的公众号第三方平台代运营的，没想到还有app，而且每个都很方便...      2\n",
       "1   2  食品餐饮                                  烤鸭还是不错的，别的菜没什么特殊的      1\n",
       "2   3  食品餐饮                             使用说明看不懂！不会用，很多操作没详细标明！      0\n",
       "3   4  食品餐饮                               越来越不好了，菜品也少了，服务也不及时。      0\n",
       "4   5  食品餐饮                                    是在是不知道该吃什么好、就来了      1"
      ]
     },
     "execution_count": 4,
     "metadata": {},
     "output_type": "execute_result"
    }
   ],
   "source": [
    "data.columns = ['id','class','content','label'] #标签含义： 0：负面、1：中性、2：正面\n",
    "data['content'] = data['content'].fillna('空') #填充空评论\n",
    "data.head()"
   ]
  },
  {
   "cell_type": "code",
   "execution_count": 5,
   "metadata": {
    "scrolled": true
   },
   "outputs": [
    {
     "data": {
      "text/plain": [
       "2    65598\n",
       "0    12240\n",
       "1     4187\n",
       "Name: label, dtype: int64"
      ]
     },
     "execution_count": 5,
     "metadata": {},
     "output_type": "execute_result"
    }
   ],
   "source": [
    "data['label'].value_counts() #积极评论65598，消极评论12240，中性评论4187"
   ]
  },
  {
   "cell_type": "code",
   "execution_count": 6,
   "metadata": {
    "scrolled": true
   },
   "outputs": [
    {
     "data": {
      "text/plain": [
       "医疗服务    20312\n",
       "旅游住宿    18935\n",
       "物流快递    14779\n",
       "金融服务    14344\n",
       "食品餐饮    13655\n",
       "Name: class, dtype: int64"
      ]
     },
     "execution_count": 6,
     "metadata": {},
     "output_type": "execute_result"
    }
   ],
   "source": [
    "data['class'].value_counts() "
   ]
  },
  {
   "cell_type": "markdown",
   "metadata": {},
   "source": [
    "# 分词，去停用词"
   ]
  },
  {
   "cell_type": "code",
   "execution_count": 7,
   "metadata": {},
   "outputs": [
    {
     "name": "stderr",
     "output_type": "stream",
     "text": [
      "Building prefix dict from the default dictionary ...\n",
      "Loading model from cache C:\\Users\\ADMINI~1\\AppData\\Local\\Temp\\jieba.cache\n",
      "Loading model cost 0.926 seconds.\n",
      "Prefix dict has been built succesfully.\n"
     ]
    },
    {
     "data": {
      "text/html": [
       "<div>\n",
       "<style scoped>\n",
       "    .dataframe tbody tr th:only-of-type {\n",
       "        vertical-align: middle;\n",
       "    }\n",
       "\n",
       "    .dataframe tbody tr th {\n",
       "        vertical-align: top;\n",
       "    }\n",
       "\n",
       "    .dataframe thead th {\n",
       "        text-align: right;\n",
       "    }\n",
       "</style>\n",
       "<table border=\"1\" class=\"dataframe\">\n",
       "  <thead>\n",
       "    <tr style=\"text-align: right;\">\n",
       "      <th></th>\n",
       "      <th>id</th>\n",
       "      <th>class</th>\n",
       "      <th>content</th>\n",
       "      <th>label</th>\n",
       "      <th>word</th>\n",
       "    </tr>\n",
       "  </thead>\n",
       "  <tbody>\n",
       "    <tr>\n",
       "      <th>0</th>\n",
       "      <td>1</td>\n",
       "      <td>食品餐饮</td>\n",
       "      <td>买这套系统本来是用来做我们公司的公众号第三方平台代运营的，没想到还有app，而且每个都很方便...</td>\n",
       "      <td>2</td>\n",
       "      <td>[买, 这套, 系统, 本来, 是, 用来, 做, 我们, 公司, 的, 公众, 号, 第三...</td>\n",
       "    </tr>\n",
       "    <tr>\n",
       "      <th>1</th>\n",
       "      <td>2</td>\n",
       "      <td>食品餐饮</td>\n",
       "      <td>烤鸭还是不错的，别的菜没什么特殊的</td>\n",
       "      <td>1</td>\n",
       "      <td>[烤鸭, 还是, 不错, 的, ，, 别的, 菜, 没什么, 特殊, 的]</td>\n",
       "    </tr>\n",
       "    <tr>\n",
       "      <th>2</th>\n",
       "      <td>3</td>\n",
       "      <td>食品餐饮</td>\n",
       "      <td>使用说明看不懂！不会用，很多操作没详细标明！</td>\n",
       "      <td>0</td>\n",
       "      <td>[使用, 说明, 看不懂, ！, 不会, 用, ，, 很多, 操作, 没, 详细, 标明, ！]</td>\n",
       "    </tr>\n",
       "    <tr>\n",
       "      <th>3</th>\n",
       "      <td>4</td>\n",
       "      <td>食品餐饮</td>\n",
       "      <td>越来越不好了，菜品也少了，服务也不及时。</td>\n",
       "      <td>0</td>\n",
       "      <td>[越来越, 不好, 了, ，, 菜品, 也, 少, 了, ，, 服务, 也, 不, 及时, 。]</td>\n",
       "    </tr>\n",
       "    <tr>\n",
       "      <th>4</th>\n",
       "      <td>5</td>\n",
       "      <td>食品餐饮</td>\n",
       "      <td>是在是不知道该吃什么好、就来了</td>\n",
       "      <td>1</td>\n",
       "      <td>[是, 在, 是, 不, 知道, 该, 吃, 什么, 好, 、, 就, 来, 了]</td>\n",
       "    </tr>\n",
       "  </tbody>\n",
       "</table>\n",
       "</div>"
      ],
      "text/plain": [
       "   id class                                            content  label  \\\n",
       "0   1  食品餐饮  买这套系统本来是用来做我们公司的公众号第三方平台代运营的，没想到还有app，而且每个都很方便...      2   \n",
       "1   2  食品餐饮                                  烤鸭还是不错的，别的菜没什么特殊的      1   \n",
       "2   3  食品餐饮                             使用说明看不懂！不会用，很多操作没详细标明！      0   \n",
       "3   4  食品餐饮                               越来越不好了，菜品也少了，服务也不及时。      0   \n",
       "4   5  食品餐饮                                    是在是不知道该吃什么好、就来了      1   \n",
       "\n",
       "                                                word  \n",
       "0  [买, 这套, 系统, 本来, 是, 用来, 做, 我们, 公司, 的, 公众, 号, 第三...  \n",
       "1              [烤鸭, 还是, 不错, 的, ，, 别的, 菜, 没什么, 特殊, 的]  \n",
       "2   [使用, 说明, 看不懂, ！, 不会, 用, ，, 很多, 操作, 没, 详细, 标明, ！]  \n",
       "3   [越来越, 不好, 了, ，, 菜品, 也, 少, 了, ，, 服务, 也, 不, 及时, 。]  \n",
       "4          [是, 在, 是, 不, 知道, 该, 吃, 什么, 好, 、, 就, 来, 了]  "
      ]
     },
     "execution_count": 7,
     "metadata": {},
     "output_type": "execute_result"
    }
   ],
   "source": [
    "#分词\n",
    "import jieba\n",
    "data['word'] = data['content'].apply(lambda x:jieba.lcut(x))\n",
    "data.head()"
   ]
  },
  {
   "cell_type": "code",
   "execution_count": 8,
   "metadata": {},
   "outputs": [],
   "source": [
    "#停用词表\n",
    "stopwords = []\n",
    "with open(\"./data/stopwords.txt\",encoding='utf-8') as f:\n",
    "    for line in f.readlines():\n",
    "        stopwords.append(line.strip())\n",
    "with open(\"./data/哈工大停用标点表.txt\",encoding='utf-8') as f:\n",
    "    for line in f.readlines():\n",
    "        stopwords.append(line.strip())\n",
    "with open(\"./data/哈工大停用词表扩展.txt\",encoding='utf-8') as f:\n",
    "    for line in f.readlines():\n",
    "        stopwords.append(line.strip())"
   ]
  },
  {
   "cell_type": "code",
   "execution_count": 9,
   "metadata": {},
   "outputs": [
    {
     "name": "stdout",
     "output_type": "stream",
     "text": [
      "1840\n"
     ]
    }
   ],
   "source": [
    "stopwords = set(stopwords)\n",
    "print(len(stopwords))"
   ]
  },
  {
   "cell_type": "code",
   "execution_count": 10,
   "metadata": {},
   "outputs": [],
   "source": [
    "#去停用词\n",
    "#arr 是一句话中分词后的词语构成的列表\n",
    "# stopwords 是停用词构成的list\n",
    "#返回 str,空格分隔\n",
    "def filter_map(arr):\n",
    "    res = ''\n",
    "    for c in arr:\n",
    "        if c and c not in stopwords and c != '\\xa0'and c != '\\n' and c != '\\ufeff' and c != '\\r':\n",
    "            res+=c\n",
    "            res+=' '\n",
    "    return res.strip()"
   ]
  },
  {
   "cell_type": "code",
   "execution_count": 11,
   "metadata": {
    "scrolled": true
   },
   "outputs": [
    {
     "data": {
      "text/html": [
       "<div>\n",
       "<style scoped>\n",
       "    .dataframe tbody tr th:only-of-type {\n",
       "        vertical-align: middle;\n",
       "    }\n",
       "\n",
       "    .dataframe tbody tr th {\n",
       "        vertical-align: top;\n",
       "    }\n",
       "\n",
       "    .dataframe thead th {\n",
       "        text-align: right;\n",
       "    }\n",
       "</style>\n",
       "<table border=\"1\" class=\"dataframe\">\n",
       "  <thead>\n",
       "    <tr style=\"text-align: right;\">\n",
       "      <th></th>\n",
       "      <th>id</th>\n",
       "      <th>class</th>\n",
       "      <th>content</th>\n",
       "      <th>label</th>\n",
       "      <th>word</th>\n",
       "    </tr>\n",
       "  </thead>\n",
       "  <tbody>\n",
       "    <tr>\n",
       "      <th>0</th>\n",
       "      <td>1</td>\n",
       "      <td>食品餐饮</td>\n",
       "      <td>买这套系统本来是用来做我们公司的公众号第三方平台代运营的，没想到还有app，而且每个都很方便...</td>\n",
       "      <td>2</td>\n",
       "      <td>买 这套 系统 本来 做 公司 公众 号 第三方 平台 代 运营 没想到 app 方便管理 ...</td>\n",
       "    </tr>\n",
       "    <tr>\n",
       "      <th>1</th>\n",
       "      <td>2</td>\n",
       "      <td>食品餐饮</td>\n",
       "      <td>烤鸭还是不错的，别的菜没什么特殊的</td>\n",
       "      <td>1</td>\n",
       "      <td>烤鸭 不错 菜 没什么</td>\n",
       "    </tr>\n",
       "    <tr>\n",
       "      <th>2</th>\n",
       "      <td>3</td>\n",
       "      <td>食品餐饮</td>\n",
       "      <td>使用说明看不懂！不会用，很多操作没详细标明！</td>\n",
       "      <td>0</td>\n",
       "      <td>看不懂 操作 详细 标明</td>\n",
       "    </tr>\n",
       "    <tr>\n",
       "      <th>3</th>\n",
       "      <td>4</td>\n",
       "      <td>食品餐饮</td>\n",
       "      <td>越来越不好了，菜品也少了，服务也不及时。</td>\n",
       "      <td>0</td>\n",
       "      <td>越来越 不好 菜品 少 服务</td>\n",
       "    </tr>\n",
       "    <tr>\n",
       "      <th>4</th>\n",
       "      <td>5</td>\n",
       "      <td>食品餐饮</td>\n",
       "      <td>是在是不知道该吃什么好、就来了</td>\n",
       "      <td>1</td>\n",
       "      <td>吃</td>\n",
       "    </tr>\n",
       "  </tbody>\n",
       "</table>\n",
       "</div>"
      ],
      "text/plain": [
       "   id class                                            content  label  \\\n",
       "0   1  食品餐饮  买这套系统本来是用来做我们公司的公众号第三方平台代运营的，没想到还有app，而且每个都很方便...      2   \n",
       "1   2  食品餐饮                                  烤鸭还是不错的，别的菜没什么特殊的      1   \n",
       "2   3  食品餐饮                             使用说明看不懂！不会用，很多操作没详细标明！      0   \n",
       "3   4  食品餐饮                               越来越不好了，菜品也少了，服务也不及时。      0   \n",
       "4   5  食品餐饮                                    是在是不知道该吃什么好、就来了      1   \n",
       "\n",
       "                                                word  \n",
       "0  买 这套 系统 本来 做 公司 公众 号 第三方 平台 代 运营 没想到 app 方便管理 ...  \n",
       "1                                        烤鸭 不错 菜 没什么  \n",
       "2                                       看不懂 操作 详细 标明  \n",
       "3                                     越来越 不好 菜品 少 服务  \n",
       "4                                                  吃  "
      ]
     },
     "execution_count": 11,
     "metadata": {},
     "output_type": "execute_result"
    }
   ],
   "source": [
    "data['word'] = data['word'].apply(filter_map)\n",
    "data.head()"
   ]
  },
  {
   "cell_type": "markdown",
   "metadata": {},
   "source": [
    "# 划分 训练集，验证集，测试集，保存数据，便于后面使用"
   ]
  },
  {
   "cell_type": "code",
   "execution_count": 12,
   "metadata": {},
   "outputs": [
    {
     "data": {
      "text/html": [
       "<div>\n",
       "<style scoped>\n",
       "    .dataframe tbody tr th:only-of-type {\n",
       "        vertical-align: middle;\n",
       "    }\n",
       "\n",
       "    .dataframe tbody tr th {\n",
       "        vertical-align: top;\n",
       "    }\n",
       "\n",
       "    .dataframe thead th {\n",
       "        text-align: right;\n",
       "    }\n",
       "</style>\n",
       "<table border=\"1\" class=\"dataframe\">\n",
       "  <thead>\n",
       "    <tr style=\"text-align: right;\">\n",
       "      <th></th>\n",
       "      <th>id</th>\n",
       "      <th>class</th>\n",
       "      <th>content</th>\n",
       "      <th>label</th>\n",
       "      <th>word</th>\n",
       "    </tr>\n",
       "  </thead>\n",
       "  <tbody>\n",
       "    <tr>\n",
       "      <th>80669</th>\n",
       "      <td>80670</td>\n",
       "      <td>物流快递</td>\n",
       "      <td>我们单位跟雄图物流公司合作好些日子了，这家物流公司很负责，服务态度一流，我们老板也非常看好这...</td>\n",
       "      <td>2</td>\n",
       "      <td>单位 雄图 物流 公司 合作 好些 日子 这家 物流 公司 负责 服务态度 一流 老板 看好...</td>\n",
       "    </tr>\n",
       "    <tr>\n",
       "      <th>72575</th>\n",
       "      <td>72576</td>\n",
       "      <td>物流快递</td>\n",
       "      <td>赞一个，确实解决了不少的麻烦，工作人员也特别好，一直教到我会用，有问题打电话给他们也及时能帮...</td>\n",
       "      <td>2</td>\n",
       "      <td>赞 确实 解决 麻烦 工作人员 特别 教到 我会 打电话 帮 解决</td>\n",
       "    </tr>\n",
       "    <tr>\n",
       "      <th>77190</th>\n",
       "      <td>77191</td>\n",
       "      <td>物流快递</td>\n",
       "      <td>雄图物流的保税区退运返修很专业，2小时通关,手续简单,还办理报关,商检,运输服务,提供返修场...</td>\n",
       "      <td>2</td>\n",
       "      <td>雄图 物流 保税区 退运 返修 专业 2 小时 通关 手续 简单 办理 报关 商检 运输 服...</td>\n",
       "    </tr>\n",
       "    <tr>\n",
       "      <th>58860</th>\n",
       "      <td>58861</td>\n",
       "      <td>医疗服务</td>\n",
       "      <td>里面的医疗设施很齐全，收费也标准，最关键是医生护士态度非常好，不错！</td>\n",
       "      <td>2</td>\n",
       "      <td>医疗 设施 齐全 收费 标准 关键 医生 护士 态度 不错</td>\n",
       "    </tr>\n",
       "    <tr>\n",
       "      <th>5584</th>\n",
       "      <td>5585</td>\n",
       "      <td>食品餐饮</td>\n",
       "      <td>点心、下午茶的出品还可以，只有点套餐内的披萨，真心让人失望，还不如回家自己烤</td>\n",
       "      <td>0</td>\n",
       "      <td>点心 下午茶 出品 套餐 披萨 真心 失望 回家 烤</td>\n",
       "    </tr>\n",
       "  </tbody>\n",
       "</table>\n",
       "</div>"
      ],
      "text/plain": [
       "          id class                                            content  label  \\\n",
       "80669  80670  物流快递  我们单位跟雄图物流公司合作好些日子了，这家物流公司很负责，服务态度一流，我们老板也非常看好这...      2   \n",
       "72575  72576  物流快递  赞一个，确实解决了不少的麻烦，工作人员也特别好，一直教到我会用，有问题打电话给他们也及时能帮...      2   \n",
       "77190  77191  物流快递  雄图物流的保税区退运返修很专业，2小时通关,手续简单,还办理报关,商检,运输服务,提供返修场...      2   \n",
       "58860  58861  医疗服务                 里面的医疗设施很齐全，收费也标准，最关键是医生护士态度非常好，不错！      2   \n",
       "5584    5585  食品餐饮             点心、下午茶的出品还可以，只有点套餐内的披萨，真心让人失望，还不如回家自己烤      0   \n",
       "\n",
       "                                                    word  \n",
       "80669  单位 雄图 物流 公司 合作 好些 日子 这家 物流 公司 负责 服务态度 一流 老板 看好...  \n",
       "72575                  赞 确实 解决 麻烦 工作人员 特别 教到 我会 打电话 帮 解决  \n",
       "77190  雄图 物流 保税区 退运 返修 专业 2 小时 通关 手续 简单 办理 报关 商检 运输 服...  \n",
       "58860                      医疗 设施 齐全 收费 标准 关键 医生 护士 态度 不错  \n",
       "5584                          点心 下午茶 出品 套餐 披萨 真心 失望 回家 烤  "
      ]
     },
     "execution_count": 12,
     "metadata": {},
     "output_type": "execute_result"
    }
   ],
   "source": [
    "#打乱数据\n",
    "from sklearn.utils import shuffle\n",
    "data = shuffle(data,random_state=2019)\n",
    "data.head()"
   ]
  },
  {
   "cell_type": "code",
   "execution_count": 13,
   "metadata": {},
   "outputs": [
    {
     "data": {
      "text/html": [
       "<div>\n",
       "<style scoped>\n",
       "    .dataframe tbody tr th:only-of-type {\n",
       "        vertical-align: middle;\n",
       "    }\n",
       "\n",
       "    .dataframe tbody tr th {\n",
       "        vertical-align: top;\n",
       "    }\n",
       "\n",
       "    .dataframe thead th {\n",
       "        text-align: right;\n",
       "    }\n",
       "</style>\n",
       "<table border=\"1\" class=\"dataframe\">\n",
       "  <thead>\n",
       "    <tr style=\"text-align: right;\">\n",
       "      <th></th>\n",
       "      <th>id</th>\n",
       "      <th>class</th>\n",
       "      <th>content</th>\n",
       "      <th>label</th>\n",
       "      <th>word</th>\n",
       "    </tr>\n",
       "  </thead>\n",
       "  <tbody>\n",
       "    <tr>\n",
       "      <th>12521</th>\n",
       "      <td>12522</td>\n",
       "      <td>食品餐饮</td>\n",
       "      <td>技术经理很专业，培训也很到位，不愧是大品牌</td>\n",
       "      <td>2</td>\n",
       "      <td>技术 经理 专业 培训 到位 不愧 品牌</td>\n",
       "    </tr>\n",
       "    <tr>\n",
       "      <th>67726</th>\n",
       "      <td>67727</td>\n",
       "      <td>物流快递</td>\n",
       "      <td>快递太慢了，而且这个物流也不急时更新、这是最后一次用韵达快递，</td>\n",
       "      <td>0</td>\n",
       "      <td>快递 太慢 物流 急时 更新 这是 用韵 达 快递</td>\n",
       "    </tr>\n",
       "    <tr>\n",
       "      <th>58361</th>\n",
       "      <td>58362</td>\n",
       "      <td>医疗服务</td>\n",
       "      <td>上海复大医院帮助预约挂号的医生服务态度都很好，让我们着急的就诊的患者给我们安排的补插号，没有...</td>\n",
       "      <td>2</td>\n",
       "      <td>上海 复大 医院 预约 挂号 医生 服务态度 着急 就诊 患者 安排 补 插 号 耽误 看诊</td>\n",
       "    </tr>\n",
       "    <tr>\n",
       "      <th>70426</th>\n",
       "      <td>70427</td>\n",
       "      <td>物流快递</td>\n",
       "      <td>合作了一段时间，感觉无论时效还是专业度，都不错，过年前还有一票货，还是会选择他们。</td>\n",
       "      <td>2</td>\n",
       "      <td>合作 一段时间 感觉 时效 专业 度 不错 过年 前 一票 货 选择</td>\n",
       "    </tr>\n",
       "    <tr>\n",
       "      <th>23206</th>\n",
       "      <td>23207</td>\n",
       "      <td>旅游住宿</td>\n",
       "      <td>新疆很美，新疆很累，值得一游，景美。能把南疆包含最好</td>\n",
       "      <td>2</td>\n",
       "      <td>新疆 美 新疆 很累 值得 一游 景美 南疆 包含</td>\n",
       "    </tr>\n",
       "  </tbody>\n",
       "</table>\n",
       "</div>"
      ],
      "text/plain": [
       "          id class                                            content  label  \\\n",
       "12521  12522  食品餐饮                              技术经理很专业，培训也很到位，不愧是大品牌      2   \n",
       "67726  67727  物流快递                    快递太慢了，而且这个物流也不急时更新、这是最后一次用韵达快递，      0   \n",
       "58361  58362  医疗服务  上海复大医院帮助预约挂号的医生服务态度都很好，让我们着急的就诊的患者给我们安排的补插号，没有...      2   \n",
       "70426  70427  物流快递          合作了一段时间，感觉无论时效还是专业度，都不错，过年前还有一票货，还是会选择他们。      2   \n",
       "23206  23207  旅游住宿                         新疆很美，新疆很累，值得一游，景美。能把南疆包含最好      2   \n",
       "\n",
       "                                                 word  \n",
       "12521                            技术 经理 专业 培训 到位 不愧 品牌  \n",
       "67726                       快递 太慢 物流 急时 更新 这是 用韵 达 快递  \n",
       "58361  上海 复大 医院 预约 挂号 医生 服务态度 着急 就诊 患者 安排 补 插 号 耽误 看诊  \n",
       "70426              合作 一段时间 感觉 时效 专业 度 不错 过年 前 一票 货 选择  \n",
       "23206                       新疆 美 新疆 很累 值得 一游 景美 南疆 包含  "
      ]
     },
     "execution_count": 13,
     "metadata": {},
     "output_type": "execute_result"
    }
   ],
   "source": [
    "#充分打乱\n",
    "from sklearn.utils import shuffle\n",
    "data = shuffle(data,random_state=0)\n",
    "data.head()"
   ]
  },
  {
   "cell_type": "code",
   "execution_count": 27,
   "metadata": {},
   "outputs": [],
   "source": [
    "#划分 训练集，验证集，测试集\n",
    "import math\n",
    "size = len(data)\n",
    "pos_size = len(data[data['label']==2])\n",
    "neu_size = len(data[data['label']==1])\n",
    "neg_size = len(data[data['label']==0])\n",
    "\n",
    "seg_pos1 = math.ceil(pos_size*0.8)\n",
    "seg_pos2 = math.ceil(pos_size*0.9)\n",
    "\n",
    "seg_neu1 = math.ceil(neu_size*0.8)\n",
    "seg_neu2 = math.ceil(neu_size*0.9)\n",
    "\n",
    "seg_neg1 = math.ceil(neg_size*0.8)\n",
    "seg_neg2 = math.ceil(neg_size*0.9)"
   ]
  },
  {
   "cell_type": "code",
   "execution_count": 29,
   "metadata": {},
   "outputs": [
    {
     "name": "stdout",
     "output_type": "stream",
     "text": [
      "65621\n"
     ]
    },
    {
     "data": {
      "text/plain": [
       "2    52479\n",
       "0     9792\n",
       "1     3350\n",
       "Name: label, dtype: int64"
      ]
     },
     "execution_count": 29,
     "metadata": {},
     "output_type": "execute_result"
    }
   ],
   "source": [
    "train = pd.concat([data[data['label']==2][:seg_pos1],data[data['label']==1][:seg_neu1],data[data['label']==0][:seg_neg1]],axis=0)\n",
    "print(len(train))\n",
    "train['label'].value_counts()"
   ]
  },
  {
   "cell_type": "code",
   "execution_count": 30,
   "metadata": {},
   "outputs": [
    {
     "name": "stdout",
     "output_type": "stream",
     "text": [
      "8203\n"
     ]
    },
    {
     "data": {
      "text/plain": [
       "2    6560\n",
       "0    1224\n",
       "1     419\n",
       "Name: label, dtype: int64"
      ]
     },
     "execution_count": 30,
     "metadata": {},
     "output_type": "execute_result"
    }
   ],
   "source": [
    "valid = pd.concat([data[data['label']==2][seg_pos1:seg_pos2],data[data['label']==1][seg_neu1:seg_neu2],data[data['label']==0][seg_neg1:seg_neg2]],axis=0)\n",
    "print(len(valid))\n",
    "valid['label'].value_counts()"
   ]
  },
  {
   "cell_type": "code",
   "execution_count": 31,
   "metadata": {},
   "outputs": [
    {
     "name": "stdout",
     "output_type": "stream",
     "text": [
      "8201\n"
     ]
    },
    {
     "data": {
      "text/plain": [
       "2    6559\n",
       "0    1224\n",
       "1     418\n",
       "Name: label, dtype: int64"
      ]
     },
     "execution_count": 31,
     "metadata": {},
     "output_type": "execute_result"
    }
   ],
   "source": [
    "test= pd.concat([data[data['label']==2][seg_pos2:],data[data['label']==1][seg_neu2:],data[data['label']==0][seg_neg2:]],axis=0)\n",
    "print(len(test))\n",
    "test['label'].value_counts()"
   ]
  },
  {
   "cell_type": "code",
   "execution_count": 38,
   "metadata": {},
   "outputs": [],
   "source": [
    "#取到全部数据，且无重复取数据\n",
    "assert len(train)+len(valid)+len(test)==size"
   ]
  },
  {
   "cell_type": "code",
   "execution_count": 37,
   "metadata": {
    "scrolled": true
   },
   "outputs": [
    {
     "name": "stdout",
     "output_type": "stream",
     "text": [
      "7.999634280141412\n",
      "8.001585172539935\n",
      "1.0002438726984515\n"
     ]
    }
   ],
   "source": [
    "#训练集:验证集:测试集= 8:1:1\n",
    "print(len(train)/len(valid))\n",
    "print(len(train)/len(test))\n",
    "print(len(valid)/len(test))"
   ]
  },
  {
   "cell_type": "code",
   "execution_count": 34,
   "metadata": {},
   "outputs": [],
   "source": [
    "from sklearn.utils import shuffle\n",
    "train = shuffle(train,random_state=2019)\n",
    "train = shuffle(train,random_state=0)\n",
    "\n",
    "valid = shuffle(valid,random_state=2019)\n",
    "valid = shuffle(valid,random_state=0)\n",
    "\n",
    "test = shuffle(test,random_state=2019)\n",
    "test = shuffle(test,random_state=0)"
   ]
  },
  {
   "cell_type": "code",
   "execution_count": 42,
   "metadata": {},
   "outputs": [],
   "source": [
    "#保存数据，便于后面使用\n",
    "train.to_csv('./data/train.csv')\n",
    "valid.to_csv('./data/valid.csv')\n",
    "test.to_csv('./data/test.csv')"
   ]
  },
  {
   "cell_type": "markdown",
   "metadata": {},
   "source": [
    "# 预训练词向量模型"
   ]
  },
  {
   "cell_type": "code",
   "execution_count": 43,
   "metadata": {},
   "outputs": [],
   "source": [
    "train = pd.read_csv('./data/train.csv')\n",
    "valid = pd.read_csv('./data/valid.csv')\n",
    "test = pd.read_csv('./data/test.csv')\n",
    "train['word'] =train['word'].fillna('')\n",
    "valid['word'] =valid['word'].fillna('')\n",
    "test['word'] =test['word'].fillna('')\n",
    "texts = train['word'].tolist() + valid['word'].tolist() + test['word'].tolist()"
   ]
  },
  {
   "cell_type": "code",
   "execution_count": 45,
   "metadata": {},
   "outputs": [],
   "source": [
    "texts = [t.strip().split() for t in texts]"
   ]
  },
  {
   "cell_type": "code",
   "execution_count": 47,
   "metadata": {},
   "outputs": [
    {
     "data": {
      "text/plain": [
       "82025"
      ]
     },
     "execution_count": 47,
     "metadata": {},
     "output_type": "execute_result"
    }
   ],
   "source": [
    "len(texts)"
   ]
  },
  {
   "cell_type": "code",
   "execution_count": 51,
   "metadata": {},
   "outputs": [],
   "source": [
    "from gensim.models import Word2Vec\n",
    "#sg=1,skip-gram模式\n",
    "# size 词向量维度300\n",
    "word_vec = Word2Vec(sentences =texts , sg=1, size=300, window=5,min_count=1, compute_loss=True,alpha=0.001)"
   ]
  },
  {
   "cell_type": "code",
   "execution_count": 52,
   "metadata": {},
   "outputs": [
    {
     "name": "stdout",
     "output_type": "stream",
     "text": [
      "22725236.0\n",
      "Word2Vec(vocab=60422, size=300, alpha=0.001)\n"
     ]
    }
   ],
   "source": [
    "print(word_vec.get_latest_training_loss())\n",
    "print(word_vec)"
   ]
  },
  {
   "cell_type": "code",
   "execution_count": 53,
   "metadata": {},
   "outputs": [],
   "source": [
    "word_vec.wv.save_word2vec_format('./data/word_vec_300_skip.txt',binary = False)"
   ]
  },
  {
   "cell_type": "code",
   "execution_count": 55,
   "metadata": {},
   "outputs": [],
   "source": [
    "import gensim\n",
    "model = gensim.models.KeyedVectors.load_word2vec_format('./data/word_vec_300_skip.txt', binary=False)"
   ]
  },
  {
   "cell_type": "markdown",
   "metadata": {},
   "source": [
    "# 检查词嵌入矩阵"
   ]
  },
  {
   "cell_type": "code",
   "execution_count": 56,
   "metadata": {},
   "outputs": [],
   "source": [
    "import pickle\n",
    "def save_file(obj,file):\n",
    "    with open(file,'wb') as f:\n",
    "        pickle.dump(obj, f)\n",
    "def load_file(file):\n",
    "    with open(file,'rb') as f:\n",
    "        return pickle.load(f)"
   ]
  },
  {
   "cell_type": "code",
   "execution_count": 57,
   "metadata": {},
   "outputs": [],
   "source": [
    "matrix = load_file('./data/emb_mtrix.pkl')"
   ]
  },
  {
   "cell_type": "code",
   "execution_count": 58,
   "metadata": {},
   "outputs": [
    {
     "data": {
      "text/plain": [
       "array([[ 0.00000000e+00,  0.00000000e+00,  0.00000000e+00, ...,\n",
       "         0.00000000e+00,  0.00000000e+00,  0.00000000e+00],\n",
       "       [ 1.25070931e-02,  1.02960162e-01, -9.43669956e-03, ...,\n",
       "        -2.24469870e-01,  2.86823250e-02,  9.79511738e-02],\n",
       "       [ 4.09110263e-02,  1.51528835e-01, -1.31611496e-01, ...,\n",
       "        -3.35956037e-01,  2.42104866e-02,  3.12138554e-02],\n",
       "       ...,\n",
       "       [ 7.30055675e-04,  9.25651984e-04,  9.01110063e-04, ...,\n",
       "         7.76498870e-04, -8.54802551e-04, -8.95730220e-04],\n",
       "       [-3.60838923e-04,  1.58436527e-03,  1.26347737e-03, ...,\n",
       "        -2.12685904e-03, -8.65597220e-04,  1.95989385e-03],\n",
       "       [ 4.31463763e-04, -1.31976369e-04,  4.24028869e-04, ...,\n",
       "        -3.44230706e-04, -5.99334482e-04,  1.50126638e-03]])"
      ]
     },
     "execution_count": 58,
     "metadata": {},
     "output_type": "execute_result"
    }
   ],
   "source": [
    "matrix"
   ]
  },
  {
   "cell_type": "code",
   "execution_count": 59,
   "metadata": {},
   "outputs": [
    {
     "data": {
      "text/plain": [
       "(59856, 300)"
      ]
     },
     "execution_count": 59,
     "metadata": {},
     "output_type": "execute_result"
    }
   ],
   "source": [
    "matrix.shape"
   ]
  }
 ],
 "metadata": {
  "kernelspec": {
   "display_name": "python3",
   "language": "python",
   "name": "python3"
  },
  "language_info": {
   "codemirror_mode": {
    "name": "ipython",
    "version": 3
   },
   "file_extension": ".py",
   "mimetype": "text/x-python",
   "name": "python",
   "nbconvert_exporter": "python",
   "pygments_lexer": "ipython3",
   "version": "3.6.4"
  }
 },
 "nbformat": 4,
 "nbformat_minor": 2
}
