{
 "cells": [
  {
   "cell_type": "code",
   "execution_count": 1,
   "metadata": {},
   "outputs": [],
   "source": [
    "# python 3.6\n",
    "# tensorflow 2.3.1 cpu\n",
    "# sklearn.__version__ == 0.23.2\n",
    "\n",
    "import pandas as pd\n",
    "import numpy as np\n",
    "import pickle \n",
    "from time import time\n",
    "\n",
    "from sklearn.utils import shuffle # shuffle打乱样本的顺序，它只会打乱样本的顺序，每个样本的数据维持不变。\n",
    "from sklearn.metrics import f1_score, precision_score, recall_score, accuracy_score\n",
    "from sklearn.svm import SVC\n",
    "from sklearn.ensemble import RandomForestClassifier\n",
    "from sklearn.linear_model import LogisticRegression\n",
    "\n",
    "from sklearn.preprocessing import StandardScaler\n",
    "from sklearn.model_selection import StratifiedShuffleSplit\n",
    "from sklearn.model_selection import GridSearchCV\n",
    "\n",
    "from sklearn.feature_extraction.text import TfidfVectorizer, CountVectorizer\n",
    "\n",
    "def save_obj(obj, file):\n",
    "    with open(file, 'wb') as f:\n",
    "        pickle.dump(obj, f, pickle.HIGHEST_PROTOCOL)\n",
    "\n",
    "def load_obj(file ):\n",
    "    with open(file, 'rb') as f:\n",
    "        return pickle.load(f)\n"
   ]
  },
  {
   "cell_type": "code",
   "execution_count": 2,
   "metadata": {},
   "outputs": [],
   "source": [
    "# 评价指标函数\n",
    "def f1_score_get(precision, recall):\n",
    "    # tf.keras.backend.epsilon() 的值为 1e-07\n",
    "    # 1.0e-7 == tf.keras.backend.epsilon() 得到 True\n",
    "    f1 = 2 * precision * recall/( precision + recall + 1.0e-7 )\n",
    "    return f1\n",
    "\n",
    "\n",
    "# valid_y:真实标签\n",
    "# predict_y:预测标签\n",
    "def eval_p_r_f1(valid_y, predict_y):\n",
    "    # precision 0 1 2 3\n",
    "    # setting labels=[pos_label] and average != 'binary' will report scores for that label only.\n",
    "    accuracy = accuracy_score(\n",
    "                    y_true = valid_y,\n",
    "                    y_pred = predict_y\n",
    "                              )\n",
    "    \n",
    "    precision_0 = precision_score(\n",
    "                    y_true = valid_y,\n",
    "                    y_pred = predict_y,\n",
    "                    labels = [0],\n",
    "                    pos_label = 0,\n",
    "                    average = 'micro'\n",
    "                    )\n",
    "\n",
    "    precision_1 = precision_score(\n",
    "                    y_true = valid_y,\n",
    "                    y_pred = predict_y,\n",
    "                    labels = [1],\n",
    "                    pos_label = 1,\n",
    "                    average = 'micro'\n",
    "                    )\n",
    "\n",
    "    precision_2 = precision_score(\n",
    "                    y_true = valid_y,\n",
    "                    y_pred = predict_y,\n",
    "                    labels = [2],\n",
    "                    pos_label = 2,\n",
    "                    average = 'micro'\n",
    "                    )\n",
    "\n",
    "    precision_3 = precision_score(\n",
    "                    y_true = valid_y,\n",
    "                    y_pred = predict_y,\n",
    "                    labels = [3],\n",
    "                    pos_label = 3,\n",
    "                    average = 'micro'\n",
    "                    )\n",
    "    # recall 0 1 2 3\n",
    "    recall_0 = recall_score(\n",
    "                    y_true = valid_y,\n",
    "                    y_pred = predict_y,\n",
    "                    labels = [0],\n",
    "                    pos_label = 0,\n",
    "                    average = 'micro'\n",
    "                    )\n",
    "\n",
    "    recall_1 = recall_score(\n",
    "                    y_true = valid_y,\n",
    "                    y_pred = predict_y,\n",
    "                    labels = [1],\n",
    "                    pos_label = 1,\n",
    "                    average = 'micro'\n",
    "                    )\n",
    "\n",
    "    recall_2 = recall_score(\n",
    "                    y_true = valid_y,\n",
    "                    y_pred = predict_y,\n",
    "                    labels = [2],\n",
    "                    pos_label = 2,\n",
    "                    average = 'micro'\n",
    "                    )\n",
    "\n",
    "    recall_3 = recall_score(\n",
    "                    y_true = valid_y,\n",
    "                    y_pred = predict_y,\n",
    "                    labels = [3],\n",
    "                    pos_label = 3,\n",
    "                    average = 'micro'\n",
    "                    )\n",
    "    \n",
    "    # f1_score 0 1 2 3\n",
    "    f1_score_0 = f1_score_get( precision_0, recall_0 )\n",
    "    f1_score_1 = f1_score_get( precision_1, recall_1 )\n",
    "    f1_score_2 = f1_score_get( precision_2, recall_2 )\n",
    "    f1_score_3 = f1_score_get( precision_3, recall_3 )\n",
    "    \n",
    "    #由y_true 计算各标签权重\n",
    "    num_0 = np.sum(valid_y==0)\n",
    "    num_1 = np.sum(valid_y==1)\n",
    "    num_2 = np.sum(valid_y==2)\n",
    "    num_3 = np.sum(valid_y==3)\n",
    "    \n",
    "    total = num_0 + num_1 + num_2 + num_3\n",
    "    p_0 = num_0/total\n",
    "    p_1 = num_1/total\n",
    "    p_2 = num_2/total\n",
    "    p_3 = num_3/total\n",
    "    \n",
    "    precision_avg = p_0 * precision_0 + p_1 * precision_1 + p_2 * precision_2 + p_3 * precision_3\n",
    "    recall_avg = p_0 * recall_0 + p_1 * recall_1 + p_2 * recall_2 + p_3 * recall_3\n",
    "    f1_score_avg = p_0 * f1_score_0 + p_1 * f1_score_1 + p_2 * f1_score_2 + p_3 * f1_score_3\n",
    "    \n",
    "    return accuracy, precision_avg, recall_avg, f1_score_avg\n"
   ]
  },
  {
   "cell_type": "raw",
   "metadata": {},
   "source": [
    "1 读取训练集，验证集"
   ]
  },
  {
   "cell_type": "code",
   "execution_count": 3,
   "metadata": {},
   "outputs": [
    {
     "name": "stdout",
     "output_type": "stream",
     "text": [
      "(105000, 2)\n",
      "(15000, 2)\n"
     ]
    }
   ],
   "source": [
    "# train = pd.read_csv('./data/train_location.csv', usecols=['content', 'label'])\n",
    "# valid = pd.read_csv('./data/valid_location.csv', usecols=['content', 'label'])\n",
    "\n",
    "# train = pd.read_csv('./data/train_service.csv', usecols=['content', 'label'])\n",
    "# valid = pd.read_csv('./data/valid_service.csv', usecols=['content', 'label'])\n",
    "\n",
    "# train = pd.read_csv('./data/train_price.csv', usecols=['content', 'label'])\n",
    "# valid = pd.read_csv('./data/valid_price.csv', usecols=['content', 'label'])\n",
    "\n",
    "# train = pd.read_csv('./data/train_environment.csv', usecols=['content', 'label'])\n",
    "# valid = pd.read_csv('./data/valid_environment.csv', usecols=['content', 'label'])\n",
    "\n",
    "train = pd.read_csv( './data/train_dish.csv', usecols=['content', 'label'])\n",
    "valid = pd.read_csv( './data/valid_dish.csv', usecols=['content', 'label'])\n",
    "\n",
    "train = shuffle(train, random_state = 2020)\n",
    "valid = shuffle(valid, random_state = 2020)\n",
    "\n",
    "train = shuffle(train, random_state = 42)\n",
    "valid = shuffle(valid, random_state = 42)\n",
    "\n",
    "print(train.shape)\n",
    "print(valid.shape)\n"
   ]
  },
  {
   "cell_type": "code",
   "execution_count": 4,
   "metadata": {
    "collapsed": true
   },
   "outputs": [
    {
     "name": "stdout",
     "output_type": "stream",
     "text": [
      "[' 大众点评 十月份 VIP 会员 聚餐 十几个 兴趣相投 吃货们 点评 聚在 周日 晚上 万家 一炉 划分 音乐餐厅 自助餐厅 两个 区域 装修 看图片 点评 菜品 十七个 菜 只说 我爱吃 先赞 农家 扒茄条 口感鲜香 入口微甜 老少咸宜 必点 菜品 鲍汁 一品豆腐 入味 不油腻 美味 金丝虾球 也很 不错 土豆丝 炸的 酥脆 小朋友 肯定 喜欢 我还 喜欢 七彩鱼 皮 越往 吃芥末 越冲 过瘾 米粉肉 甜而不腻 美味 田七 爽口凉菜 酸汤肥牛 … 量少 … 吃了 忘记 味道 … 说 的是 音乐餐厅 八点 点歌 爱唱歌 的你 千万不要错过 媲美 专业音响 … ', ' 第一次 抽中 同城 试吃活动 很开心 ✌ ️ 听说 小伙伴 都是 老会员 参加 活动 好有爱 ❤ ️ 这家店 位置 不是很好 找 到了 饭店 没什么 顾客 地理位置 劣势 原因 服务员态度 搞错 家的 菜名 尴尬 招牌菜 金椒脆鱼 锅 每个人 习惯 鱼 口感 可以接受 还有一个 猪脚 虾 很好吃 猪脚 炖 入味 凉拌 蕨根粉 入味 酸辣粉 味道 店里 凉拌菜 觉 居多 凉拌菜 各类 肉品 锅 火锅 会吃 过多 拒绝 店家 提议 火锅 榴莲飞饼 味道 很好 榴莲肉 多点 更好 说 点的 口水鸡 味道 也很 鸡肉 上夹 肥 油太多 腻味 桂花糖莲藕 江浙菜馆 做的好 凉拌菜 川菜馆 特别 感受 果汁 兑水 兑多 没什么味道 店家 可以增加 炒菜 顾客 多点 选择 ^ _ ^ ', ' 同事 阅兵 小长假 美好 广场 吃的 说是 好吃 下班 直奔 旗舰店 想着 肯定 好吃 点菜 妹纸 讲 不出 道道 问 好吃 说 没吃过 上个 点评 评价点 上菜 搞不清 桌球 错了 想着 价位 比某 底捞 便宜 算了 人也 不容易 锅底 开吃 刚涮 根干 吧吧 鸭肠 妹纸 加汤 可乐 来瓶 茶杯 喝了 上了 三 玻璃杯 华丽丽 的囧 饮料杯 干嘛 早上 服务 无力吐槽 菜品 鸭肠 挂 架子 上的 看着 甩 洋气 表面 干 一夹 长条 缠 架子 自己动手 放 盘子 里 夹 琥珀 肉 口感 还能 吃到 筋 原谅我 牙口 不好 鲜毛肚 也是醉了 黑黑白白 都有 安慰 极品毛肚 求 新鲜 就好 天下 宽粉 味道还行 QQ 弹弹 极品 五花肉 真的很 极品 白白的 肥肉 无从 下口 首相 丸子 姜 喜欢 吃姜 这是 不愉快 拔草 之旅 全程 一只苍蝇 飞啊飞 ~ ']\n"
     ]
    }
   ],
   "source": [
    "# 读取 X\n",
    "# 不同aspect，文本数据一样，不同体现在标签上\n",
    "\n",
    "train_x = train.content.values.tolist()\n",
    "valid_x = valid.content.values.tolist()\n",
    "\n",
    "print(train_x[0:3])"
   ]
  },
  {
   "cell_type": "code",
   "execution_count": 5,
   "metadata": {},
   "outputs": [],
   "source": [
    "# 读取 Y\n",
    "# 标签\n",
    "train_y = train.label.values+2\n",
    "valid_y = valid.label.values+2"
   ]
  },
  {
   "cell_type": "raw",
   "metadata": {},
   "source": [
    "tf-idf"
   ]
  },
  {
   "cell_type": "code",
   "execution_count": 6,
   "metadata": {
    "scrolled": true
   },
   "outputs": [
    {
     "name": "stdout",
     "output_type": "stream",
     "text": [
      "120000\n"
     ]
    }
   ],
   "source": [
    "n_features = 1000\n",
    "\n",
    "tfidf_vectorizer = TfidfVectorizer(\n",
    "                                        max_df=0.95, \n",
    "                                        min_df=2,\n",
    "                                        max_features=n_features,\n",
    "                                   )\n",
    "corpus = train_x + valid_x\n",
    "print(len(corpus))\n",
    "\n",
    "t0 = time()\n",
    "tfidf = tfidf_vectorizer.fit(corpus)"
   ]
  },
  {
   "cell_type": "code",
   "execution_count": 7,
   "metadata": {},
   "outputs": [
    {
     "name": "stdout",
     "output_type": "stream",
     "text": [
      "done in 9.081s.\n"
     ]
    }
   ],
   "source": [
    "print(\"done in %0.3fs.\" % (time() - t0))\n",
    "train_x = tfidf.transform(train_x)\n",
    "valid_x = tfidf.transform(valid_x)"
   ]
  },
  {
   "cell_type": "code",
   "execution_count": 8,
   "metadata": {},
   "outputs": [
    {
     "name": "stdout",
     "output_type": "stream",
     "text": [
      "(105000, 1000)\n",
      "(15000, 1000)\n"
     ]
    }
   ],
   "source": [
    "print(train_x.shape)\n",
    "print(valid_x.shape)"
   ]
  },
  {
   "cell_type": "raw",
   "metadata": {},
   "source": [
    "random forest, 先看下时间"
   ]
  },
  {
   "cell_type": "code",
   "execution_count": 9,
   "metadata": {},
   "outputs": [],
   "source": [
    "# 标准化\n",
    "scaler = StandardScaler(with_mean=False)\n",
    "train_x = scaler.fit_transform(train_x)\n",
    "valid_x = scaler.fit_transform(valid_x)"
   ]
  },
  {
   "cell_type": "raw",
   "metadata": {},
   "source": [
    "location 调参 训练、验证"
   ]
  },
  {
   "cell_type": "code",
   "execution_count": null,
   "metadata": {
    "jupyter": {
     "source_hidden": true
    }
   },
   "outputs": [],
   "source": [
    "'''\n",
    "class sklearn.ensemble.RandomForestClassifier(\n",
    "    n_estimators=100, \n",
    "    *, \n",
    "    criterion='gini', \n",
    "    max_depth=None, \n",
    "    min_samples_split=2, \n",
    "    min_samples_leaf=1, \n",
    "    min_weight_fraction_leaf=0.0, \n",
    "    max_features='auto',  #“sqrt”\n",
    "    max_leaf_nodes=None, \n",
    "    min_impurity_decrease=0.0, \n",
    "    min_impurity_split=None, \n",
    "    bootstrap=True, #True\n",
    "    oob_score=False, \n",
    "    n_jobs=None, \n",
    "    random_state=None, # 2020\n",
    "    verbose=0, # 1\n",
    "    warm_start=False, \n",
    "    class_weight=None, # “balanced”\n",
    "    ccp_alpha=0.0, # ?\n",
    "    max_samples=None\n",
    "    )\n",
    "'''\n"
   ]
  },
  {
   "cell_type": "code",
   "execution_count": 10,
   "metadata": {
    "jupyter": {
     "source_hidden": true
    }
   },
   "outputs": [],
   "source": [
    "n_estimators_range = [1000, 5000, 10000]\n",
    "max_depth_range = [10,20,50]\n",
    "min_samples_split_range = [2, 10, 50]\n",
    "min_samples_leaf_range = [1, 5, 10, 20, 50]"
   ]
  },
  {
   "cell_type": "raw",
   "metadata": {},
   "source": [
    "调参"
   ]
  },
  {
   "cell_type": "code",
   "execution_count": 11,
   "metadata": {
    "collapsed": true,
    "jupyter": {
     "outputs_hidden": true,
     "source_hidden": true
    }
   },
   "outputs": [
    {
     "name": "stdout",
     "output_type": "stream",
     "text": [
      "n_estimator = 1000\n",
      "max_depth = 10\n",
      "min_samples_split = 2\n",
      "min_samples_leaf = 1\n"
     ]
    },
    {
     "name": "stderr",
     "output_type": "stream",
     "text": [
      "[Parallel(n_jobs=-1)]: Using backend ThreadingBackend with 20 concurrent workers.\n",
      "[Parallel(n_jobs=-1)]: Done  10 tasks      | elapsed:    0.2s\n",
      "[Parallel(n_jobs=-1)]: Done 160 tasks      | elapsed:    1.4s\n",
      "[Parallel(n_jobs=-1)]: Done 410 tasks      | elapsed:    3.4s\n",
      "[Parallel(n_jobs=-1)]: Done 760 tasks      | elapsed:    6.1s\n",
      "[Parallel(n_jobs=-1)]: Done 1000 out of 1000 | elapsed:    8.0s finished\n",
      "[Parallel(n_jobs=20)]: Using backend ThreadingBackend with 20 concurrent workers.\n",
      "[Parallel(n_jobs=20)]: Done  10 tasks      | elapsed:    0.0s\n",
      "[Parallel(n_jobs=20)]: Done 160 tasks      | elapsed:    0.1s\n",
      "[Parallel(n_jobs=20)]: Done 410 tasks      | elapsed:    0.1s\n"
     ]
    },
    {
     "name": "stdout",
     "output_type": "stream",
     "text": [
      "done in 8.476s.\n"
     ]
    },
    {
     "name": "stderr",
     "output_type": "stream",
     "text": [
      "[Parallel(n_jobs=20)]: Done 760 tasks      | elapsed:    0.3s\n",
      "[Parallel(n_jobs=20)]: Done 1000 out of 1000 | elapsed:    0.3s finished\n"
     ]
    },
    {
     "name": "stdout",
     "output_type": "stream",
     "text": [
      "accuracy：0.74380\n",
      "precision_avg: 0.79753\n",
      "recall_avg: 0.74380\n",
      "f1_score_avg: 0.76212\n",
      "n_estimator = 1000\n",
      "max_depth = 10\n",
      "min_samples_split = 2\n",
      "min_samples_leaf = 5\n"
     ]
    },
    {
     "name": "stderr",
     "output_type": "stream",
     "text": [
      "[Parallel(n_jobs=-1)]: Using backend ThreadingBackend with 20 concurrent workers.\n",
      "[Parallel(n_jobs=-1)]: Done  10 tasks      | elapsed:    0.2s\n",
      "[Parallel(n_jobs=-1)]: Done 160 tasks      | elapsed:    1.3s\n",
      "[Parallel(n_jobs=-1)]: Done 410 tasks      | elapsed:    3.2s\n",
      "[Parallel(n_jobs=-1)]: Done 760 tasks      | elapsed:    5.8s\n",
      "[Parallel(n_jobs=-1)]: Done 1000 out of 1000 | elapsed:    7.6s finished\n",
      "[Parallel(n_jobs=20)]: Using backend ThreadingBackend with 20 concurrent workers.\n",
      "[Parallel(n_jobs=20)]: Done  10 tasks      | elapsed:    0.0s\n",
      "[Parallel(n_jobs=20)]: Done 160 tasks      | elapsed:    0.1s\n",
      "[Parallel(n_jobs=20)]: Done 410 tasks      | elapsed:    0.1s\n"
     ]
    },
    {
     "name": "stdout",
     "output_type": "stream",
     "text": [
      "done in 8.053s.\n"
     ]
    },
    {
     "name": "stderr",
     "output_type": "stream",
     "text": [
      "[Parallel(n_jobs=20)]: Done 760 tasks      | elapsed:    0.3s\n",
      "[Parallel(n_jobs=20)]: Done 1000 out of 1000 | elapsed:    0.3s finished\n"
     ]
    },
    {
     "name": "stdout",
     "output_type": "stream",
     "text": [
      "accuracy：0.73713\n",
      "precision_avg: 0.79836\n",
      "recall_avg: 0.73713\n",
      "f1_score_avg: 0.75827\n",
      "n_estimator = 1000\n",
      "max_depth = 10\n",
      "min_samples_split = 2\n",
      "min_samples_leaf = 10\n"
     ]
    },
    {
     "name": "stderr",
     "output_type": "stream",
     "text": [
      "[Parallel(n_jobs=-1)]: Using backend ThreadingBackend with 20 concurrent workers.\n",
      "[Parallel(n_jobs=-1)]: Done  10 tasks      | elapsed:    0.2s\n",
      "[Parallel(n_jobs=-1)]: Done 160 tasks      | elapsed:    1.3s\n",
      "[Parallel(n_jobs=-1)]: Done 410 tasks      | elapsed:    3.2s\n",
      "[Parallel(n_jobs=-1)]: Done 760 tasks      | elapsed:    5.7s\n",
      "[Parallel(n_jobs=-1)]: Done 1000 out of 1000 | elapsed:    7.5s finished\n",
      "[Parallel(n_jobs=20)]: Using backend ThreadingBackend with 20 concurrent workers.\n",
      "[Parallel(n_jobs=20)]: Done  10 tasks      | elapsed:    0.0s\n",
      "[Parallel(n_jobs=20)]: Done 160 tasks      | elapsed:    0.1s\n",
      "[Parallel(n_jobs=20)]: Done 410 tasks      | elapsed:    0.1s\n"
     ]
    },
    {
     "name": "stdout",
     "output_type": "stream",
     "text": [
      "done in 7.974s.\n"
     ]
    },
    {
     "name": "stderr",
     "output_type": "stream",
     "text": [
      "[Parallel(n_jobs=20)]: Done 760 tasks      | elapsed:    0.2s\n",
      "[Parallel(n_jobs=20)]: Done 1000 out of 1000 | elapsed:    0.3s finished\n"
     ]
    },
    {
     "name": "stdout",
     "output_type": "stream",
     "text": [
      "accuracy：0.73473\n",
      "precision_avg: 0.79930\n",
      "recall_avg: 0.73473\n",
      "f1_score_avg: 0.75690\n",
      "n_estimator = 1000\n",
      "max_depth = 10\n",
      "min_samples_split = 2\n",
      "min_samples_leaf = 20\n"
     ]
    },
    {
     "name": "stderr",
     "output_type": "stream",
     "text": [
      "[Parallel(n_jobs=-1)]: Using backend ThreadingBackend with 20 concurrent workers.\n",
      "[Parallel(n_jobs=-1)]: Done  10 tasks      | elapsed:    0.2s\n",
      "[Parallel(n_jobs=-1)]: Done 160 tasks      | elapsed:    1.2s\n",
      "[Parallel(n_jobs=-1)]: Done 410 tasks      | elapsed:    3.0s\n",
      "[Parallel(n_jobs=-1)]: Done 760 tasks      | elapsed:    5.4s\n",
      "[Parallel(n_jobs=-1)]: Done 1000 out of 1000 | elapsed:    7.2s finished\n",
      "[Parallel(n_jobs=20)]: Using backend ThreadingBackend with 20 concurrent workers.\n",
      "[Parallel(n_jobs=20)]: Done  10 tasks      | elapsed:    0.0s\n",
      "[Parallel(n_jobs=20)]: Done 160 tasks      | elapsed:    0.1s\n"
     ]
    },
    {
     "name": "stdout",
     "output_type": "stream",
     "text": [
      "done in 7.662s.\n"
     ]
    },
    {
     "name": "stderr",
     "output_type": "stream",
     "text": [
      "[Parallel(n_jobs=20)]: Done 410 tasks      | elapsed:    0.1s\n",
      "[Parallel(n_jobs=20)]: Done 760 tasks      | elapsed:    0.2s\n",
      "[Parallel(n_jobs=20)]: Done 1000 out of 1000 | elapsed:    0.3s finished\n"
     ]
    },
    {
     "name": "stdout",
     "output_type": "stream",
     "text": [
      "accuracy：0.73053\n",
      "precision_avg: 0.79995\n",
      "recall_avg: 0.73053\n",
      "f1_score_avg: 0.75436\n",
      "n_estimator = 1000\n",
      "max_depth = 10\n",
      "min_samples_split = 2\n",
      "min_samples_leaf = 50\n"
     ]
    },
    {
     "name": "stderr",
     "output_type": "stream",
     "text": [
      "[Parallel(n_jobs=-1)]: Using backend ThreadingBackend with 20 concurrent workers.\n",
      "[Parallel(n_jobs=-1)]: Done  10 tasks      | elapsed:    0.2s\n",
      "[Parallel(n_jobs=-1)]: Done 160 tasks      | elapsed:    1.2s\n",
      "[Parallel(n_jobs=-1)]: Done 410 tasks      | elapsed:    2.9s\n",
      "[Parallel(n_jobs=-1)]: Done 760 tasks      | elapsed:    5.3s\n",
      "[Parallel(n_jobs=-1)]: Done 1000 out of 1000 | elapsed:    6.9s finished\n",
      "[Parallel(n_jobs=20)]: Using backend ThreadingBackend with 20 concurrent workers.\n",
      "[Parallel(n_jobs=20)]: Done  10 tasks      | elapsed:    0.0s\n",
      "[Parallel(n_jobs=20)]: Done 160 tasks      | elapsed:    0.1s\n"
     ]
    },
    {
     "name": "stdout",
     "output_type": "stream",
     "text": [
      "done in 7.357s.\n"
     ]
    },
    {
     "name": "stderr",
     "output_type": "stream",
     "text": [
      "[Parallel(n_jobs=20)]: Done 410 tasks      | elapsed:    0.1s\n",
      "[Parallel(n_jobs=20)]: Done 760 tasks      | elapsed:    0.3s\n",
      "[Parallel(n_jobs=20)]: Done 1000 out of 1000 | elapsed:    0.3s finished\n"
     ]
    },
    {
     "name": "stdout",
     "output_type": "stream",
     "text": [
      "accuracy：0.72660\n",
      "precision_avg: 0.80024\n",
      "recall_avg: 0.72660\n",
      "f1_score_avg: 0.75166\n",
      "n_estimator = 1000\n",
      "max_depth = 10\n",
      "min_samples_split = 10\n",
      "min_samples_leaf = 1\n"
     ]
    },
    {
     "name": "stderr",
     "output_type": "stream",
     "text": [
      "[Parallel(n_jobs=-1)]: Using backend ThreadingBackend with 20 concurrent workers.\n",
      "[Parallel(n_jobs=-1)]: Done  10 tasks      | elapsed:    0.2s\n",
      "[Parallel(n_jobs=-1)]: Done 160 tasks      | elapsed:    1.4s\n",
      "[Parallel(n_jobs=-1)]: Done 410 tasks      | elapsed:    3.3s\n",
      "[Parallel(n_jobs=-1)]: Done 760 tasks      | elapsed:    5.9s\n",
      "[Parallel(n_jobs=-1)]: Done 1000 out of 1000 | elapsed:    7.8s finished\n",
      "[Parallel(n_jobs=20)]: Using backend ThreadingBackend with 20 concurrent workers.\n",
      "[Parallel(n_jobs=20)]: Done  10 tasks      | elapsed:    0.0s\n",
      "[Parallel(n_jobs=20)]: Done 160 tasks      | elapsed:    0.1s\n"
     ]
    },
    {
     "name": "stdout",
     "output_type": "stream",
     "text": [
      "done in 8.287s.\n"
     ]
    },
    {
     "name": "stderr",
     "output_type": "stream",
     "text": [
      "[Parallel(n_jobs=20)]: Done 410 tasks      | elapsed:    0.1s\n",
      "[Parallel(n_jobs=20)]: Done 760 tasks      | elapsed:    0.3s\n",
      "[Parallel(n_jobs=20)]: Done 1000 out of 1000 | elapsed:    0.3s finished\n"
     ]
    },
    {
     "name": "stdout",
     "output_type": "stream",
     "text": [
      "accuracy：0.74173\n",
      "precision_avg: 0.79845\n",
      "recall_avg: 0.74173\n",
      "f1_score_avg: 0.76118\n",
      "n_estimator = 1000\n",
      "max_depth = 10\n",
      "min_samples_split = 10\n",
      "min_samples_leaf = 5\n"
     ]
    },
    {
     "name": "stderr",
     "output_type": "stream",
     "text": [
      "[Parallel(n_jobs=-1)]: Using backend ThreadingBackend with 20 concurrent workers.\n",
      "[Parallel(n_jobs=-1)]: Done  10 tasks      | elapsed:    0.2s\n",
      "[Parallel(n_jobs=-1)]: Done 160 tasks      | elapsed:    1.4s\n",
      "[Parallel(n_jobs=-1)]: Done 410 tasks      | elapsed:    3.2s\n",
      "[Parallel(n_jobs=-1)]: Done 760 tasks      | elapsed:    5.9s\n",
      "[Parallel(n_jobs=-1)]: Done 1000 out of 1000 | elapsed:    7.7s finished\n",
      "[Parallel(n_jobs=20)]: Using backend ThreadingBackend with 20 concurrent workers.\n",
      "[Parallel(n_jobs=20)]: Done  10 tasks      | elapsed:    0.0s\n",
      "[Parallel(n_jobs=20)]: Done 160 tasks      | elapsed:    0.1s\n"
     ]
    },
    {
     "name": "stdout",
     "output_type": "stream",
     "text": [
      "done in 8.200s.\n"
     ]
    },
    {
     "name": "stderr",
     "output_type": "stream",
     "text": [
      "[Parallel(n_jobs=20)]: Done 410 tasks      | elapsed:    0.2s\n",
      "[Parallel(n_jobs=20)]: Done 760 tasks      | elapsed:    0.3s\n",
      "[Parallel(n_jobs=20)]: Done 1000 out of 1000 | elapsed:    0.4s finished\n"
     ]
    },
    {
     "name": "stdout",
     "output_type": "stream",
     "text": [
      "accuracy：0.73713\n",
      "precision_avg: 0.79836\n",
      "recall_avg: 0.73713\n",
      "f1_score_avg: 0.75827\n",
      "n_estimator = 1000\n",
      "max_depth = 10\n",
      "min_samples_split = 10\n",
      "min_samples_leaf = 10\n"
     ]
    },
    {
     "name": "stderr",
     "output_type": "stream",
     "text": [
      "[Parallel(n_jobs=-1)]: Using backend ThreadingBackend with 20 concurrent workers.\n",
      "[Parallel(n_jobs=-1)]: Done  10 tasks      | elapsed:    0.2s\n",
      "[Parallel(n_jobs=-1)]: Done 160 tasks      | elapsed:    1.3s\n",
      "[Parallel(n_jobs=-1)]: Done 410 tasks      | elapsed:    3.1s\n",
      "[Parallel(n_jobs=-1)]: Done 760 tasks      | elapsed:    5.6s\n",
      "[Parallel(n_jobs=-1)]: Done 1000 out of 1000 | elapsed:    7.4s finished\n",
      "[Parallel(n_jobs=20)]: Using backend ThreadingBackend with 20 concurrent workers.\n",
      "[Parallel(n_jobs=20)]: Done  10 tasks      | elapsed:    0.0s\n",
      "[Parallel(n_jobs=20)]: Done 160 tasks      | elapsed:    0.1s\n",
      "[Parallel(n_jobs=20)]: Done 410 tasks      | elapsed:    0.1s\n"
     ]
    },
    {
     "name": "stdout",
     "output_type": "stream",
     "text": [
      "done in 7.877s.\n"
     ]
    },
    {
     "name": "stderr",
     "output_type": "stream",
     "text": [
      "[Parallel(n_jobs=20)]: Done 760 tasks      | elapsed:    0.3s\n",
      "[Parallel(n_jobs=20)]: Done 1000 out of 1000 | elapsed:    0.3s finished\n"
     ]
    },
    {
     "name": "stdout",
     "output_type": "stream",
     "text": [
      "accuracy：0.73473\n",
      "precision_avg: 0.79930\n",
      "recall_avg: 0.73473\n",
      "f1_score_avg: 0.75690\n",
      "n_estimator = 1000\n",
      "max_depth = 10\n",
      "min_samples_split = 10\n",
      "min_samples_leaf = 20\n"
     ]
    },
    {
     "name": "stderr",
     "output_type": "stream",
     "text": [
      "[Parallel(n_jobs=-1)]: Using backend ThreadingBackend with 20 concurrent workers.\n",
      "[Parallel(n_jobs=-1)]: Done  10 tasks      | elapsed:    0.2s\n",
      "[Parallel(n_jobs=-1)]: Done 160 tasks      | elapsed:    1.3s\n",
      "[Parallel(n_jobs=-1)]: Done 410 tasks      | elapsed:    3.0s\n",
      "[Parallel(n_jobs=-1)]: Done 760 tasks      | elapsed:    5.5s\n",
      "[Parallel(n_jobs=-1)]: Done 1000 out of 1000 | elapsed:    7.2s finished\n",
      "[Parallel(n_jobs=20)]: Using backend ThreadingBackend with 20 concurrent workers.\n",
      "[Parallel(n_jobs=20)]: Done  10 tasks      | elapsed:    0.0s\n",
      "[Parallel(n_jobs=20)]: Done 160 tasks      | elapsed:    0.1s\n",
      "[Parallel(n_jobs=20)]: Done 410 tasks      | elapsed:    0.1s\n"
     ]
    },
    {
     "name": "stdout",
     "output_type": "stream",
     "text": [
      "done in 7.675s.\n"
     ]
    },
    {
     "name": "stderr",
     "output_type": "stream",
     "text": [
      "[Parallel(n_jobs=20)]: Done 760 tasks      | elapsed:    0.2s\n",
      "[Parallel(n_jobs=20)]: Done 1000 out of 1000 | elapsed:    0.3s finished\n"
     ]
    },
    {
     "name": "stdout",
     "output_type": "stream",
     "text": [
      "accuracy：0.73053\n",
      "precision_avg: 0.79995\n",
      "recall_avg: 0.73053\n",
      "f1_score_avg: 0.75436\n",
      "n_estimator = 1000\n",
      "max_depth = 10\n",
      "min_samples_split = 10\n",
      "min_samples_leaf = 50\n"
     ]
    },
    {
     "name": "stderr",
     "output_type": "stream",
     "text": [
      "[Parallel(n_jobs=-1)]: Using backend ThreadingBackend with 20 concurrent workers.\n",
      "[Parallel(n_jobs=-1)]: Done  10 tasks      | elapsed:    0.2s\n",
      "[Parallel(n_jobs=-1)]: Done 160 tasks      | elapsed:    1.2s\n",
      "[Parallel(n_jobs=-1)]: Done 410 tasks      | elapsed:    3.0s\n",
      "[Parallel(n_jobs=-1)]: Done 760 tasks      | elapsed:    5.5s\n",
      "[Parallel(n_jobs=-1)]: Done 1000 out of 1000 | elapsed:    7.2s finished\n",
      "[Parallel(n_jobs=20)]: Using backend ThreadingBackend with 20 concurrent workers.\n",
      "[Parallel(n_jobs=20)]: Done  10 tasks      | elapsed:    0.0s\n",
      "[Parallel(n_jobs=20)]: Done 160 tasks      | elapsed:    0.1s\n",
      "[Parallel(n_jobs=20)]: Done 410 tasks      | elapsed:    0.1s\n"
     ]
    },
    {
     "name": "stdout",
     "output_type": "stream",
     "text": [
      "done in 7.667s.\n"
     ]
    },
    {
     "name": "stderr",
     "output_type": "stream",
     "text": [
      "[Parallel(n_jobs=20)]: Done 760 tasks      | elapsed:    0.3s\n",
      "[Parallel(n_jobs=20)]: Done 1000 out of 1000 | elapsed:    0.3s finished\n"
     ]
    },
    {
     "name": "stdout",
     "output_type": "stream",
     "text": [
      "accuracy：0.72660\n",
      "precision_avg: 0.80024\n",
      "recall_avg: 0.72660\n",
      "f1_score_avg: 0.75166\n",
      "n_estimator = 1000\n",
      "max_depth = 10\n",
      "min_samples_split = 50\n",
      "min_samples_leaf = 1\n"
     ]
    },
    {
     "name": "stderr",
     "output_type": "stream",
     "text": [
      "[Parallel(n_jobs=-1)]: Using backend ThreadingBackend with 20 concurrent workers.\n",
      "[Parallel(n_jobs=-1)]: Done  10 tasks      | elapsed:    0.2s\n",
      "[Parallel(n_jobs=-1)]: Done 160 tasks      | elapsed:    1.3s\n",
      "[Parallel(n_jobs=-1)]: Done 410 tasks      | elapsed:    3.3s\n",
      "[Parallel(n_jobs=-1)]: Done 760 tasks      | elapsed:    6.0s\n",
      "[Parallel(n_jobs=-1)]: Done 1000 out of 1000 | elapsed:    7.8s finished\n",
      "[Parallel(n_jobs=20)]: Using backend ThreadingBackend with 20 concurrent workers.\n",
      "[Parallel(n_jobs=20)]: Done  10 tasks      | elapsed:    0.0s\n",
      "[Parallel(n_jobs=20)]: Done 160 tasks      | elapsed:    0.1s\n"
     ]
    },
    {
     "name": "stdout",
     "output_type": "stream",
     "text": [
      "done in 8.411s.\n"
     ]
    },
    {
     "name": "stderr",
     "output_type": "stream",
     "text": [
      "[Parallel(n_jobs=20)]: Done 410 tasks      | elapsed:    0.1s\n",
      "[Parallel(n_jobs=20)]: Done 760 tasks      | elapsed:    0.3s\n",
      "[Parallel(n_jobs=20)]: Done 1000 out of 1000 | elapsed:    0.3s finished\n"
     ]
    },
    {
     "name": "stdout",
     "output_type": "stream",
     "text": [
      "accuracy：0.73707\n",
      "precision_avg: 0.79846\n",
      "recall_avg: 0.73707\n",
      "f1_score_avg: 0.75821\n",
      "n_estimator = 1000\n",
      "max_depth = 10\n",
      "min_samples_split = 50\n",
      "min_samples_leaf = 5\n"
     ]
    },
    {
     "name": "stderr",
     "output_type": "stream",
     "text": [
      "[Parallel(n_jobs=-1)]: Using backend ThreadingBackend with 20 concurrent workers.\n",
      "[Parallel(n_jobs=-1)]: Done  10 tasks      | elapsed:    0.2s\n",
      "[Parallel(n_jobs=-1)]: Done 160 tasks      | elapsed:    1.2s\n",
      "[Parallel(n_jobs=-1)]: Done 410 tasks      | elapsed:    3.1s\n",
      "[Parallel(n_jobs=-1)]: Done 760 tasks      | elapsed:    5.7s\n",
      "[Parallel(n_jobs=-1)]: Done 1000 out of 1000 | elapsed:    7.6s finished\n",
      "[Parallel(n_jobs=20)]: Using backend ThreadingBackend with 20 concurrent workers.\n",
      "[Parallel(n_jobs=20)]: Done  10 tasks      | elapsed:    0.0s\n",
      "[Parallel(n_jobs=20)]: Done 160 tasks      | elapsed:    0.1s\n"
     ]
    },
    {
     "name": "stdout",
     "output_type": "stream",
     "text": [
      "done in 8.083s.\n"
     ]
    },
    {
     "name": "stderr",
     "output_type": "stream",
     "text": [
      "[Parallel(n_jobs=20)]: Done 410 tasks      | elapsed:    0.2s\n",
      "[Parallel(n_jobs=20)]: Done 760 tasks      | elapsed:    0.3s\n",
      "[Parallel(n_jobs=20)]: Done 1000 out of 1000 | elapsed:    0.4s finished\n"
     ]
    },
    {
     "name": "stdout",
     "output_type": "stream",
     "text": [
      "accuracy：0.73673\n",
      "precision_avg: 0.79965\n",
      "recall_avg: 0.73673\n",
      "f1_score_avg: 0.75835\n",
      "n_estimator = 1000\n",
      "max_depth = 10\n",
      "min_samples_split = 50\n",
      "min_samples_leaf = 10\n"
     ]
    },
    {
     "name": "stderr",
     "output_type": "stream",
     "text": [
      "[Parallel(n_jobs=-1)]: Using backend ThreadingBackend with 20 concurrent workers.\n",
      "[Parallel(n_jobs=-1)]: Done  10 tasks      | elapsed:    0.2s\n",
      "[Parallel(n_jobs=-1)]: Done 160 tasks      | elapsed:    1.4s\n",
      "[Parallel(n_jobs=-1)]: Done 410 tasks      | elapsed:    3.2s\n",
      "[Parallel(n_jobs=-1)]: Done 760 tasks      | elapsed:    5.9s\n",
      "[Parallel(n_jobs=-1)]: Done 1000 out of 1000 | elapsed:    7.6s finished\n",
      "[Parallel(n_jobs=20)]: Using backend ThreadingBackend with 20 concurrent workers.\n",
      "[Parallel(n_jobs=20)]: Done  10 tasks      | elapsed:    0.0s\n",
      "[Parallel(n_jobs=20)]: Done 160 tasks      | elapsed:    0.1s\n",
      "[Parallel(n_jobs=20)]: Done 410 tasks      | elapsed:    0.1s\n"
     ]
    },
    {
     "name": "stdout",
     "output_type": "stream",
     "text": [
      "done in 8.117s.\n"
     ]
    },
    {
     "name": "stderr",
     "output_type": "stream",
     "text": [
      "[Parallel(n_jobs=20)]: Done 760 tasks      | elapsed:    0.3s\n",
      "[Parallel(n_jobs=20)]: Done 1000 out of 1000 | elapsed:    0.3s finished\n"
     ]
    },
    {
     "name": "stdout",
     "output_type": "stream",
     "text": [
      "accuracy：0.73447\n",
      "precision_avg: 0.80049\n",
      "recall_avg: 0.73447\n",
      "f1_score_avg: 0.75687\n",
      "n_estimator = 1000\n",
      "max_depth = 10\n",
      "min_samples_split = 50\n",
      "min_samples_leaf = 20\n"
     ]
    },
    {
     "name": "stderr",
     "output_type": "stream",
     "text": [
      "[Parallel(n_jobs=-1)]: Using backend ThreadingBackend with 20 concurrent workers.\n",
      "[Parallel(n_jobs=-1)]: Done  10 tasks      | elapsed:    0.5s\n",
      "[Parallel(n_jobs=-1)]: Done 160 tasks      | elapsed:    1.7s\n",
      "[Parallel(n_jobs=-1)]: Done 410 tasks      | elapsed:    3.6s\n",
      "[Parallel(n_jobs=-1)]: Done 760 tasks      | elapsed:    6.2s\n",
      "[Parallel(n_jobs=-1)]: Done 1000 out of 1000 | elapsed:    8.0s finished\n",
      "[Parallel(n_jobs=20)]: Using backend ThreadingBackend with 20 concurrent workers.\n",
      "[Parallel(n_jobs=20)]: Done  10 tasks      | elapsed:    0.0s\n",
      "[Parallel(n_jobs=20)]: Done 160 tasks      | elapsed:    0.1s\n"
     ]
    },
    {
     "name": "stdout",
     "output_type": "stream",
     "text": [
      "done in 8.543s.\n"
     ]
    },
    {
     "name": "stderr",
     "output_type": "stream",
     "text": [
      "[Parallel(n_jobs=20)]: Done 410 tasks      | elapsed:    0.2s\n",
      "[Parallel(n_jobs=20)]: Done 760 tasks      | elapsed:    0.3s\n",
      "[Parallel(n_jobs=20)]: Done 1000 out of 1000 | elapsed:    0.4s finished\n"
     ]
    },
    {
     "name": "stdout",
     "output_type": "stream",
     "text": [
      "accuracy：0.73093\n",
      "precision_avg: 0.79965\n",
      "recall_avg: 0.73093\n",
      "f1_score_avg: 0.75465\n",
      "n_estimator = 1000\n",
      "max_depth = 10\n",
      "min_samples_split = 50\n",
      "min_samples_leaf = 50\n"
     ]
    },
    {
     "name": "stderr",
     "output_type": "stream",
     "text": [
      "[Parallel(n_jobs=-1)]: Using backend ThreadingBackend with 20 concurrent workers.\n",
      "[Parallel(n_jobs=-1)]: Done  10 tasks      | elapsed:    0.2s\n",
      "[Parallel(n_jobs=-1)]: Done 160 tasks      | elapsed:    1.3s\n",
      "[Parallel(n_jobs=-1)]: Done 410 tasks      | elapsed:    3.2s\n",
      "[Parallel(n_jobs=-1)]: Done 760 tasks      | elapsed:    5.6s\n",
      "[Parallel(n_jobs=-1)]: Done 1000 out of 1000 | elapsed:    7.3s finished\n",
      "[Parallel(n_jobs=20)]: Using backend ThreadingBackend with 20 concurrent workers.\n",
      "[Parallel(n_jobs=20)]: Done  10 tasks      | elapsed:    0.0s\n",
      "[Parallel(n_jobs=20)]: Done 160 tasks      | elapsed:    0.1s\n",
      "[Parallel(n_jobs=20)]: Done 410 tasks      | elapsed:    0.2s\n"
     ]
    },
    {
     "name": "stdout",
     "output_type": "stream",
     "text": [
      "done in 7.791s.\n"
     ]
    },
    {
     "name": "stderr",
     "output_type": "stream",
     "text": [
      "[Parallel(n_jobs=20)]: Done 760 tasks      | elapsed:    0.3s\n",
      "[Parallel(n_jobs=20)]: Done 1000 out of 1000 | elapsed:    0.4s finished\n"
     ]
    },
    {
     "name": "stdout",
     "output_type": "stream",
     "text": [
      "accuracy：0.72660\n",
      "precision_avg: 0.80024\n",
      "recall_avg: 0.72660\n",
      "f1_score_avg: 0.75166\n",
      "n_estimator = 1000\n",
      "max_depth = 20\n",
      "min_samples_split = 2\n",
      "min_samples_leaf = 1\n"
     ]
    },
    {
     "name": "stderr",
     "output_type": "stream",
     "text": [
      "[Parallel(n_jobs=-1)]: Using backend ThreadingBackend with 20 concurrent workers.\n",
      "[Parallel(n_jobs=-1)]: Done  10 tasks      | elapsed:    0.5s\n",
      "[Parallel(n_jobs=-1)]: Done 160 tasks      | elapsed:    4.2s\n",
      "[Parallel(n_jobs=-1)]: Done 410 tasks      | elapsed:   10.6s\n",
      "[Parallel(n_jobs=-1)]: Done 760 tasks      | elapsed:   19.4s\n",
      "[Parallel(n_jobs=-1)]: Done 1000 out of 1000 | elapsed:   25.3s finished\n",
      "[Parallel(n_jobs=20)]: Using backend ThreadingBackend with 20 concurrent workers.\n",
      "[Parallel(n_jobs=20)]: Done  10 tasks      | elapsed:    0.0s\n",
      "[Parallel(n_jobs=20)]: Done 160 tasks      | elapsed:    0.1s\n"
     ]
    },
    {
     "name": "stdout",
     "output_type": "stream",
     "text": [
      "done in 25.845s.\n"
     ]
    },
    {
     "name": "stderr",
     "output_type": "stream",
     "text": [
      "[Parallel(n_jobs=20)]: Done 410 tasks      | elapsed:    0.2s\n",
      "[Parallel(n_jobs=20)]: Done 760 tasks      | elapsed:    0.3s\n",
      "[Parallel(n_jobs=20)]: Done 1000 out of 1000 | elapsed:    0.4s finished\n"
     ]
    },
    {
     "name": "stdout",
     "output_type": "stream",
     "text": [
      "accuracy：0.77200\n",
      "precision_avg: 0.78445\n",
      "recall_avg: 0.77200\n",
      "f1_score_avg: 0.77527\n",
      "n_estimator = 1000\n",
      "max_depth = 20\n",
      "min_samples_split = 2\n",
      "min_samples_leaf = 5\n"
     ]
    },
    {
     "name": "stderr",
     "output_type": "stream",
     "text": [
      "[Parallel(n_jobs=-1)]: Using backend ThreadingBackend with 20 concurrent workers.\n",
      "[Parallel(n_jobs=-1)]: Done  10 tasks      | elapsed:    0.5s\n",
      "[Parallel(n_jobs=-1)]: Done 160 tasks      | elapsed:    3.7s\n",
      "[Parallel(n_jobs=-1)]: Done 410 tasks      | elapsed:    9.0s\n",
      "[Parallel(n_jobs=-1)]: Done 760 tasks      | elapsed:   16.3s\n",
      "[Parallel(n_jobs=-1)]: Done 1000 out of 1000 | elapsed:   21.3s finished\n",
      "[Parallel(n_jobs=20)]: Using backend ThreadingBackend with 20 concurrent workers.\n",
      "[Parallel(n_jobs=20)]: Done  10 tasks      | elapsed:    0.0s\n",
      "[Parallel(n_jobs=20)]: Done 160 tasks      | elapsed:    0.1s\n"
     ]
    },
    {
     "name": "stdout",
     "output_type": "stream",
     "text": [
      "done in 21.789s.\n"
     ]
    },
    {
     "name": "stderr",
     "output_type": "stream",
     "text": [
      "[Parallel(n_jobs=20)]: Done 410 tasks      | elapsed:    0.2s\n",
      "[Parallel(n_jobs=20)]: Done 760 tasks      | elapsed:    0.3s\n",
      "[Parallel(n_jobs=20)]: Done 1000 out of 1000 | elapsed:    0.4s finished\n"
     ]
    },
    {
     "name": "stdout",
     "output_type": "stream",
     "text": [
      "accuracy：0.75460\n",
      "precision_avg: 0.79303\n",
      "recall_avg: 0.75460\n",
      "f1_score_avg: 0.76874\n",
      "n_estimator = 1000\n",
      "max_depth = 20\n",
      "min_samples_split = 2\n",
      "min_samples_leaf = 10\n"
     ]
    },
    {
     "name": "stderr",
     "output_type": "stream",
     "text": [
      "[Parallel(n_jobs=-1)]: Using backend ThreadingBackend with 20 concurrent workers.\n",
      "[Parallel(n_jobs=-1)]: Done  10 tasks      | elapsed:    0.5s\n",
      "[Parallel(n_jobs=-1)]: Done 160 tasks      | elapsed:    3.4s\n",
      "[Parallel(n_jobs=-1)]: Done 410 tasks      | elapsed:    8.1s\n",
      "[Parallel(n_jobs=-1)]: Done 760 tasks      | elapsed:   14.4s\n",
      "[Parallel(n_jobs=-1)]: Done 1000 out of 1000 | elapsed:   18.7s finished\n",
      "[Parallel(n_jobs=20)]: Using backend ThreadingBackend with 20 concurrent workers.\n",
      "[Parallel(n_jobs=20)]: Done  10 tasks      | elapsed:    0.0s\n",
      "[Parallel(n_jobs=20)]: Done 160 tasks      | elapsed:    0.1s\n",
      "[Parallel(n_jobs=20)]: Done 410 tasks      | elapsed:    0.1s\n"
     ]
    },
    {
     "name": "stdout",
     "output_type": "stream",
     "text": [
      "done in 19.243s.\n"
     ]
    },
    {
     "name": "stderr",
     "output_type": "stream",
     "text": [
      "[Parallel(n_jobs=20)]: Done 760 tasks      | elapsed:    0.3s\n",
      "[Parallel(n_jobs=20)]: Done 1000 out of 1000 | elapsed:    0.3s finished\n"
     ]
    },
    {
     "name": "stdout",
     "output_type": "stream",
     "text": [
      "accuracy：0.74533\n",
      "precision_avg: 0.79824\n",
      "recall_avg: 0.74533\n",
      "f1_score_avg: 0.76500\n",
      "n_estimator = 1000\n",
      "max_depth = 20\n",
      "min_samples_split = 2\n",
      "min_samples_leaf = 20\n"
     ]
    },
    {
     "name": "stderr",
     "output_type": "stream",
     "text": [
      "[Parallel(n_jobs=-1)]: Using backend ThreadingBackend with 20 concurrent workers.\n",
      "[Parallel(n_jobs=-1)]: Done  10 tasks      | elapsed:    0.3s\n",
      "[Parallel(n_jobs=-1)]: Done 160 tasks      | elapsed:    2.7s\n",
      "[Parallel(n_jobs=-1)]: Done 410 tasks      | elapsed:    6.9s\n",
      "[Parallel(n_jobs=-1)]: Done 760 tasks      | elapsed:   12.7s\n",
      "[Parallel(n_jobs=-1)]: Done 1000 out of 1000 | elapsed:   16.8s finished\n",
      "[Parallel(n_jobs=20)]: Using backend ThreadingBackend with 20 concurrent workers.\n",
      "[Parallel(n_jobs=20)]: Done  10 tasks      | elapsed:    0.0s\n",
      "[Parallel(n_jobs=20)]: Done 160 tasks      | elapsed:    0.1s\n",
      "[Parallel(n_jobs=20)]: Done 410 tasks      | elapsed:    0.2s\n"
     ]
    },
    {
     "name": "stdout",
     "output_type": "stream",
     "text": [
      "done in 17.273s.\n"
     ]
    },
    {
     "name": "stderr",
     "output_type": "stream",
     "text": [
      "[Parallel(n_jobs=20)]: Done 760 tasks      | elapsed:    0.3s\n",
      "[Parallel(n_jobs=20)]: Done 1000 out of 1000 | elapsed:    0.4s finished\n"
     ]
    },
    {
     "name": "stdout",
     "output_type": "stream",
     "text": [
      "accuracy：0.73833\n",
      "precision_avg: 0.80173\n",
      "recall_avg: 0.73833\n",
      "f1_score_avg: 0.76187\n",
      "n_estimator = 1000\n",
      "max_depth = 20\n",
      "min_samples_split = 2\n",
      "min_samples_leaf = 50\n"
     ]
    },
    {
     "name": "stderr",
     "output_type": "stream",
     "text": [
      "[Parallel(n_jobs=-1)]: Using backend ThreadingBackend with 20 concurrent workers.\n",
      "[Parallel(n_jobs=-1)]: Done  10 tasks      | elapsed:    0.4s\n",
      "[Parallel(n_jobs=-1)]: Done 160 tasks      | elapsed:    2.6s\n",
      "[Parallel(n_jobs=-1)]: Done 410 tasks      | elapsed:    6.2s\n",
      "[Parallel(n_jobs=-1)]: Done 760 tasks      | elapsed:   11.2s\n",
      "[Parallel(n_jobs=-1)]: Done 1000 out of 1000 | elapsed:   14.8s finished\n",
      "[Parallel(n_jobs=20)]: Using backend ThreadingBackend with 20 concurrent workers.\n",
      "[Parallel(n_jobs=20)]: Done  10 tasks      | elapsed:    0.0s\n",
      "[Parallel(n_jobs=20)]: Done 160 tasks      | elapsed:    0.1s\n"
     ]
    },
    {
     "name": "stdout",
     "output_type": "stream",
     "text": [
      "done in 15.323s.\n"
     ]
    },
    {
     "name": "stderr",
     "output_type": "stream",
     "text": [
      "[Parallel(n_jobs=20)]: Done 410 tasks      | elapsed:    0.2s\n",
      "[Parallel(n_jobs=20)]: Done 760 tasks      | elapsed:    0.3s\n",
      "[Parallel(n_jobs=20)]: Done 1000 out of 1000 | elapsed:    0.4s finished\n"
     ]
    },
    {
     "name": "stdout",
     "output_type": "stream",
     "text": [
      "accuracy：0.72587\n",
      "precision_avg: 0.80445\n",
      "recall_avg: 0.72587\n",
      "f1_score_avg: 0.75448\n",
      "n_estimator = 1000\n",
      "max_depth = 20\n",
      "min_samples_split = 10\n",
      "min_samples_leaf = 1\n"
     ]
    },
    {
     "name": "stderr",
     "output_type": "stream",
     "text": [
      "[Parallel(n_jobs=-1)]: Using backend ThreadingBackend with 20 concurrent workers.\n",
      "[Parallel(n_jobs=-1)]: Done  10 tasks      | elapsed:    0.6s\n",
      "[Parallel(n_jobs=-1)]: Done 160 tasks      | elapsed:    4.1s\n",
      "[Parallel(n_jobs=-1)]: Done 410 tasks      | elapsed:    9.8s\n",
      "[Parallel(n_jobs=-1)]: Done 760 tasks      | elapsed:   17.7s\n",
      "[Parallel(n_jobs=-1)]: Done 1000 out of 1000 | elapsed:   23.3s finished\n",
      "[Parallel(n_jobs=20)]: Using backend ThreadingBackend with 20 concurrent workers.\n",
      "[Parallel(n_jobs=20)]: Done  10 tasks      | elapsed:    0.0s\n",
      "[Parallel(n_jobs=20)]: Done 160 tasks      | elapsed:    0.1s\n"
     ]
    },
    {
     "name": "stdout",
     "output_type": "stream",
     "text": [
      "done in 23.876s.\n"
     ]
    },
    {
     "name": "stderr",
     "output_type": "stream",
     "text": [
      "[Parallel(n_jobs=20)]: Done 410 tasks      | elapsed:    0.2s\n",
      "[Parallel(n_jobs=20)]: Done 760 tasks      | elapsed:    0.3s\n",
      "[Parallel(n_jobs=20)]: Done 1000 out of 1000 | elapsed:    0.4s finished\n"
     ]
    },
    {
     "name": "stdout",
     "output_type": "stream",
     "text": [
      "accuracy：0.76573\n",
      "precision_avg: 0.78706\n",
      "recall_avg: 0.76573\n",
      "f1_score_avg: 0.77271\n",
      "n_estimator = 1000\n",
      "max_depth = 20\n",
      "min_samples_split = 10\n",
      "min_samples_leaf = 5\n"
     ]
    },
    {
     "name": "stderr",
     "output_type": "stream",
     "text": [
      "[Parallel(n_jobs=-1)]: Using backend ThreadingBackend with 20 concurrent workers.\n",
      "[Parallel(n_jobs=-1)]: Done  10 tasks      | elapsed:    0.5s\n",
      "[Parallel(n_jobs=-1)]: Done 160 tasks      | elapsed:    3.7s\n",
      "[Parallel(n_jobs=-1)]: Done 410 tasks      | elapsed:    8.9s\n",
      "[Parallel(n_jobs=-1)]: Done 760 tasks      | elapsed:   16.4s\n",
      "[Parallel(n_jobs=-1)]: Done 1000 out of 1000 | elapsed:   21.6s finished\n",
      "[Parallel(n_jobs=20)]: Using backend ThreadingBackend with 20 concurrent workers.\n",
      "[Parallel(n_jobs=20)]: Done  10 tasks      | elapsed:    0.0s\n",
      "[Parallel(n_jobs=20)]: Done 160 tasks      | elapsed:    0.1s\n"
     ]
    },
    {
     "name": "stdout",
     "output_type": "stream",
     "text": [
      "done in 22.167s.\n"
     ]
    },
    {
     "name": "stderr",
     "output_type": "stream",
     "text": [
      "[Parallel(n_jobs=20)]: Done 410 tasks      | elapsed:    0.2s\n",
      "[Parallel(n_jobs=20)]: Done 760 tasks      | elapsed:    0.3s\n",
      "[Parallel(n_jobs=20)]: Done 1000 out of 1000 | elapsed:    0.4s finished\n"
     ]
    },
    {
     "name": "stdout",
     "output_type": "stream",
     "text": [
      "accuracy：0.75460\n",
      "precision_avg: 0.79303\n",
      "recall_avg: 0.75460\n",
      "f1_score_avg: 0.76874\n",
      "n_estimator = 1000\n",
      "max_depth = 20\n",
      "min_samples_split = 10\n",
      "min_samples_leaf = 10\n"
     ]
    },
    {
     "name": "stderr",
     "output_type": "stream",
     "text": [
      "[Parallel(n_jobs=-1)]: Using backend ThreadingBackend with 20 concurrent workers.\n",
      "[Parallel(n_jobs=-1)]: Done  10 tasks      | elapsed:    0.4s\n",
      "[Parallel(n_jobs=-1)]: Done 160 tasks      | elapsed:    3.2s\n",
      "[Parallel(n_jobs=-1)]: Done 410 tasks      | elapsed:    8.0s\n",
      "[Parallel(n_jobs=-1)]: Done 760 tasks      | elapsed:   14.6s\n",
      "[Parallel(n_jobs=-1)]: Done 1000 out of 1000 | elapsed:   19.2s finished\n",
      "[Parallel(n_jobs=20)]: Using backend ThreadingBackend with 20 concurrent workers.\n",
      "[Parallel(n_jobs=20)]: Done  10 tasks      | elapsed:    0.0s\n",
      "[Parallel(n_jobs=20)]: Done 160 tasks      | elapsed:    0.1s\n"
     ]
    },
    {
     "name": "stdout",
     "output_type": "stream",
     "text": [
      "done in 19.723s.\n"
     ]
    },
    {
     "name": "stderr",
     "output_type": "stream",
     "text": [
      "[Parallel(n_jobs=20)]: Done 410 tasks      | elapsed:    0.2s\n",
      "[Parallel(n_jobs=20)]: Done 760 tasks      | elapsed:    0.3s\n",
      "[Parallel(n_jobs=20)]: Done 1000 out of 1000 | elapsed:    0.4s finished\n"
     ]
    },
    {
     "name": "stdout",
     "output_type": "stream",
     "text": [
      "accuracy：0.74533\n",
      "precision_avg: 0.79824\n",
      "recall_avg: 0.74533\n",
      "f1_score_avg: 0.76500\n",
      "n_estimator = 1000\n",
      "max_depth = 20\n",
      "min_samples_split = 10\n",
      "min_samples_leaf = 20\n"
     ]
    },
    {
     "name": "stderr",
     "output_type": "stream",
     "text": [
      "[Parallel(n_jobs=-1)]: Using backend ThreadingBackend with 20 concurrent workers.\n",
      "[Parallel(n_jobs=-1)]: Done  10 tasks      | elapsed:    0.4s\n",
      "[Parallel(n_jobs=-1)]: Done 160 tasks      | elapsed:    3.1s\n",
      "[Parallel(n_jobs=-1)]: Done 410 tasks      | elapsed:    7.4s\n",
      "[Parallel(n_jobs=-1)]: Done 760 tasks      | elapsed:   13.3s\n",
      "[Parallel(n_jobs=-1)]: Done 1000 out of 1000 | elapsed:   17.5s finished\n",
      "[Parallel(n_jobs=20)]: Using backend ThreadingBackend with 20 concurrent workers.\n",
      "[Parallel(n_jobs=20)]: Done  10 tasks      | elapsed:    0.0s\n",
      "[Parallel(n_jobs=20)]: Done 160 tasks      | elapsed:    0.1s\n"
     ]
    },
    {
     "name": "stdout",
     "output_type": "stream",
     "text": [
      "done in 18.053s.\n"
     ]
    },
    {
     "name": "stderr",
     "output_type": "stream",
     "text": [
      "[Parallel(n_jobs=20)]: Done 410 tasks      | elapsed:    0.2s\n",
      "[Parallel(n_jobs=20)]: Done 760 tasks      | elapsed:    0.3s\n",
      "[Parallel(n_jobs=20)]: Done 1000 out of 1000 | elapsed:    0.4s finished\n"
     ]
    },
    {
     "name": "stdout",
     "output_type": "stream",
     "text": [
      "accuracy：0.73833\n",
      "precision_avg: 0.80173\n",
      "recall_avg: 0.73833\n",
      "f1_score_avg: 0.76187\n",
      "n_estimator = 1000\n",
      "max_depth = 20\n",
      "min_samples_split = 10\n",
      "min_samples_leaf = 50\n"
     ]
    },
    {
     "name": "stderr",
     "output_type": "stream",
     "text": [
      "[Parallel(n_jobs=-1)]: Using backend ThreadingBackend with 20 concurrent workers.\n",
      "[Parallel(n_jobs=-1)]: Done  10 tasks      | elapsed:    0.3s\n",
      "[Parallel(n_jobs=-1)]: Done 160 tasks      | elapsed:    2.4s\n",
      "[Parallel(n_jobs=-1)]: Done 410 tasks      | elapsed:    5.9s\n",
      "[Parallel(n_jobs=-1)]: Done 760 tasks      | elapsed:   10.9s\n",
      "[Parallel(n_jobs=-1)]: Done 1000 out of 1000 | elapsed:   14.4s finished\n",
      "[Parallel(n_jobs=20)]: Using backend ThreadingBackend with 20 concurrent workers.\n",
      "[Parallel(n_jobs=20)]: Done  10 tasks      | elapsed:    0.0s\n",
      "[Parallel(n_jobs=20)]: Done 160 tasks      | elapsed:    0.1s\n"
     ]
    },
    {
     "name": "stdout",
     "output_type": "stream",
     "text": [
      "done in 14.949s.\n"
     ]
    },
    {
     "name": "stderr",
     "output_type": "stream",
     "text": [
      "[Parallel(n_jobs=20)]: Done 410 tasks      | elapsed:    0.2s\n",
      "[Parallel(n_jobs=20)]: Done 760 tasks      | elapsed:    0.3s\n",
      "[Parallel(n_jobs=20)]: Done 1000 out of 1000 | elapsed:    0.4s finished\n"
     ]
    },
    {
     "name": "stdout",
     "output_type": "stream",
     "text": [
      "accuracy：0.72587\n",
      "precision_avg: 0.80445\n",
      "recall_avg: 0.72587\n",
      "f1_score_avg: 0.75448\n",
      "n_estimator = 1000\n",
      "max_depth = 20\n",
      "min_samples_split = 50\n",
      "min_samples_leaf = 1\n"
     ]
    },
    {
     "name": "stderr",
     "output_type": "stream",
     "text": [
      "[Parallel(n_jobs=-1)]: Using backend ThreadingBackend with 20 concurrent workers.\n",
      "[Parallel(n_jobs=-1)]: Done  10 tasks      | elapsed:    0.5s\n",
      "[Parallel(n_jobs=-1)]: Done 160 tasks      | elapsed:    3.4s\n",
      "[Parallel(n_jobs=-1)]: Done 410 tasks      | elapsed:    8.4s\n",
      "[Parallel(n_jobs=-1)]: Done 760 tasks      | elapsed:   15.1s\n",
      "[Parallel(n_jobs=-1)]: Done 1000 out of 1000 | elapsed:   19.8s finished\n",
      "[Parallel(n_jobs=20)]: Using backend ThreadingBackend with 20 concurrent workers.\n",
      "[Parallel(n_jobs=20)]: Done  10 tasks      | elapsed:    0.0s\n",
      "[Parallel(n_jobs=20)]: Done 160 tasks      | elapsed:    0.1s\n",
      "[Parallel(n_jobs=20)]: Done 410 tasks      | elapsed:    0.2s\n"
     ]
    },
    {
     "name": "stdout",
     "output_type": "stream",
     "text": [
      "done in 20.332s.\n"
     ]
    },
    {
     "name": "stderr",
     "output_type": "stream",
     "text": [
      "[Parallel(n_jobs=20)]: Done 760 tasks      | elapsed:    0.3s\n",
      "[Parallel(n_jobs=20)]: Done 1000 out of 1000 | elapsed:    0.4s finished\n"
     ]
    },
    {
     "name": "stdout",
     "output_type": "stream",
     "text": [
      "accuracy：0.75480\n",
      "precision_avg: 0.79284\n",
      "recall_avg: 0.75480\n",
      "f1_score_avg: 0.76870\n",
      "n_estimator = 1000\n",
      "max_depth = 20\n",
      "min_samples_split = 50\n",
      "min_samples_leaf = 5\n"
     ]
    },
    {
     "name": "stderr",
     "output_type": "stream",
     "text": [
      "[Parallel(n_jobs=-1)]: Using backend ThreadingBackend with 20 concurrent workers.\n",
      "[Parallel(n_jobs=-1)]: Done  10 tasks      | elapsed:    0.4s\n",
      "[Parallel(n_jobs=-1)]: Done 160 tasks      | elapsed:    3.3s\n",
      "[Parallel(n_jobs=-1)]: Done 410 tasks      | elapsed:    8.0s\n",
      "[Parallel(n_jobs=-1)]: Done 760 tasks      | elapsed:   14.6s\n",
      "[Parallel(n_jobs=-1)]: Done 1000 out of 1000 | elapsed:   19.2s finished\n",
      "[Parallel(n_jobs=20)]: Using backend ThreadingBackend with 20 concurrent workers.\n",
      "[Parallel(n_jobs=20)]: Done  10 tasks      | elapsed:    0.0s\n",
      "[Parallel(n_jobs=20)]: Done 160 tasks      | elapsed:    0.1s\n"
     ]
    },
    {
     "name": "stdout",
     "output_type": "stream",
     "text": [
      "done in 19.755s.\n"
     ]
    },
    {
     "name": "stderr",
     "output_type": "stream",
     "text": [
      "[Parallel(n_jobs=20)]: Done 410 tasks      | elapsed:    0.2s\n",
      "[Parallel(n_jobs=20)]: Done 760 tasks      | elapsed:    0.3s\n",
      "[Parallel(n_jobs=20)]: Done 1000 out of 1000 | elapsed:    0.4s finished\n"
     ]
    },
    {
     "name": "stdout",
     "output_type": "stream",
     "text": [
      "accuracy：0.75067\n",
      "precision_avg: 0.79589\n",
      "recall_avg: 0.75067\n",
      "f1_score_avg: 0.76752\n",
      "n_estimator = 1000\n",
      "max_depth = 20\n",
      "min_samples_split = 50\n",
      "min_samples_leaf = 10\n"
     ]
    },
    {
     "name": "stderr",
     "output_type": "stream",
     "text": [
      "[Parallel(n_jobs=-1)]: Using backend ThreadingBackend with 20 concurrent workers.\n",
      "[Parallel(n_jobs=-1)]: Done  10 tasks      | elapsed:    0.5s\n",
      "[Parallel(n_jobs=-1)]: Done 160 tasks      | elapsed:    3.3s\n",
      "[Parallel(n_jobs=-1)]: Done 410 tasks      | elapsed:    7.8s\n",
      "[Parallel(n_jobs=-1)]: Done 760 tasks      | elapsed:   14.1s\n",
      "[Parallel(n_jobs=-1)]: Done 1000 out of 1000 | elapsed:   18.6s finished\n",
      "[Parallel(n_jobs=20)]: Using backend ThreadingBackend with 20 concurrent workers.\n",
      "[Parallel(n_jobs=20)]: Done  10 tasks      | elapsed:    0.0s\n",
      "[Parallel(n_jobs=20)]: Done 160 tasks      | elapsed:    0.1s\n"
     ]
    },
    {
     "name": "stdout",
     "output_type": "stream",
     "text": [
      "done in 19.165s.\n"
     ]
    },
    {
     "name": "stderr",
     "output_type": "stream",
     "text": [
      "[Parallel(n_jobs=20)]: Done 410 tasks      | elapsed:    0.2s\n",
      "[Parallel(n_jobs=20)]: Done 760 tasks      | elapsed:    0.3s\n",
      "[Parallel(n_jobs=20)]: Done 1000 out of 1000 | elapsed:    0.4s finished\n"
     ]
    },
    {
     "name": "stdout",
     "output_type": "stream",
     "text": [
      "accuracy：0.74467\n",
      "precision_avg: 0.79801\n",
      "recall_avg: 0.74467\n",
      "f1_score_avg: 0.76456\n",
      "n_estimator = 1000\n",
      "max_depth = 20\n",
      "min_samples_split = 50\n",
      "min_samples_leaf = 20\n"
     ]
    },
    {
     "name": "stderr",
     "output_type": "stream",
     "text": [
      "[Parallel(n_jobs=-1)]: Using backend ThreadingBackend with 20 concurrent workers.\n",
      "[Parallel(n_jobs=-1)]: Done  10 tasks      | elapsed:    0.4s\n",
      "[Parallel(n_jobs=-1)]: Done 160 tasks      | elapsed:    2.9s\n",
      "[Parallel(n_jobs=-1)]: Done 410 tasks      | elapsed:    7.1s\n",
      "[Parallel(n_jobs=-1)]: Done 760 tasks      | elapsed:   13.0s\n",
      "[Parallel(n_jobs=-1)]: Done 1000 out of 1000 | elapsed:   17.1s finished\n",
      "[Parallel(n_jobs=20)]: Using backend ThreadingBackend with 20 concurrent workers.\n",
      "[Parallel(n_jobs=20)]: Done  10 tasks      | elapsed:    0.0s\n",
      "[Parallel(n_jobs=20)]: Done 160 tasks      | elapsed:    0.1s\n",
      "[Parallel(n_jobs=20)]: Done 410 tasks      | elapsed:    0.2s\n"
     ]
    },
    {
     "name": "stdout",
     "output_type": "stream",
     "text": [
      "done in 17.636s.\n"
     ]
    },
    {
     "name": "stderr",
     "output_type": "stream",
     "text": [
      "[Parallel(n_jobs=20)]: Done 760 tasks      | elapsed:    0.3s\n",
      "[Parallel(n_jobs=20)]: Done 1000 out of 1000 | elapsed:    0.4s finished\n"
     ]
    },
    {
     "name": "stdout",
     "output_type": "stream",
     "text": [
      "accuracy：0.73700\n",
      "precision_avg: 0.80140\n",
      "recall_avg: 0.73700\n",
      "f1_score_avg: 0.76100\n",
      "n_estimator = 1000\n",
      "max_depth = 20\n",
      "min_samples_split = 50\n",
      "min_samples_leaf = 50\n"
     ]
    },
    {
     "name": "stderr",
     "output_type": "stream",
     "text": [
      "[Parallel(n_jobs=-1)]: Using backend ThreadingBackend with 20 concurrent workers.\n",
      "[Parallel(n_jobs=-1)]: Done  10 tasks      | elapsed:    0.4s\n",
      "[Parallel(n_jobs=-1)]: Done 160 tasks      | elapsed:    2.6s\n",
      "[Parallel(n_jobs=-1)]: Done 410 tasks      | elapsed:    6.2s\n",
      "[Parallel(n_jobs=-1)]: Done 760 tasks      | elapsed:   11.2s\n",
      "[Parallel(n_jobs=-1)]: Done 1000 out of 1000 | elapsed:   14.7s finished\n",
      "[Parallel(n_jobs=20)]: Using backend ThreadingBackend with 20 concurrent workers.\n",
      "[Parallel(n_jobs=20)]: Done  10 tasks      | elapsed:    0.0s\n",
      "[Parallel(n_jobs=20)]: Done 160 tasks      | elapsed:    0.1s\n"
     ]
    },
    {
     "name": "stdout",
     "output_type": "stream",
     "text": [
      "done in 15.256s.\n"
     ]
    },
    {
     "name": "stderr",
     "output_type": "stream",
     "text": [
      "[Parallel(n_jobs=20)]: Done 410 tasks      | elapsed:    0.2s\n",
      "[Parallel(n_jobs=20)]: Done 760 tasks      | elapsed:    0.3s\n",
      "[Parallel(n_jobs=20)]: Done 1000 out of 1000 | elapsed:    0.4s finished\n"
     ]
    },
    {
     "name": "stdout",
     "output_type": "stream",
     "text": [
      "accuracy：0.72587\n",
      "precision_avg: 0.80445\n",
      "recall_avg: 0.72587\n",
      "f1_score_avg: 0.75448\n",
      "n_estimator = 1000\n",
      "max_depth = 50\n",
      "min_samples_split = 2\n",
      "min_samples_leaf = 1\n"
     ]
    },
    {
     "name": "stderr",
     "output_type": "stream",
     "text": [
      "[Parallel(n_jobs=-1)]: Using backend ThreadingBackend with 20 concurrent workers.\n",
      "[Parallel(n_jobs=-1)]: Done  10 tasks      | elapsed:    2.5s\n",
      "[Parallel(n_jobs=-1)]: Done 160 tasks      | elapsed:   20.2s\n",
      "[Parallel(n_jobs=-1)]: Done 410 tasks      | elapsed:   50.2s\n",
      "[Parallel(n_jobs=-1)]: Done 760 tasks      | elapsed:  1.5min\n",
      "[Parallel(n_jobs=-1)]: Done 1000 out of 1000 | elapsed:  2.0min finished\n",
      "[Parallel(n_jobs=20)]: Using backend ThreadingBackend with 20 concurrent workers.\n",
      "[Parallel(n_jobs=20)]: Done  10 tasks      | elapsed:    0.0s\n",
      "[Parallel(n_jobs=20)]: Done 160 tasks      | elapsed:    0.1s\n"
     ]
    },
    {
     "name": "stdout",
     "output_type": "stream",
     "text": [
      "done in 121.677s.\n"
     ]
    },
    {
     "name": "stderr",
     "output_type": "stream",
     "text": [
      "[Parallel(n_jobs=20)]: Done 410 tasks      | elapsed:    0.3s\n",
      "[Parallel(n_jobs=20)]: Done 760 tasks      | elapsed:    0.5s\n",
      "[Parallel(n_jobs=20)]: Done 1000 out of 1000 | elapsed:    0.7s finished\n"
     ]
    },
    {
     "name": "stdout",
     "output_type": "stream",
     "text": [
      "accuracy：0.80147\n",
      "precision_avg: 0.77636\n",
      "recall_avg: 0.80147\n",
      "f1_score_avg: 0.77772\n",
      "n_estimator = 1000\n",
      "max_depth = 50\n",
      "min_samples_split = 2\n",
      "min_samples_leaf = 5\n"
     ]
    },
    {
     "name": "stderr",
     "output_type": "stream",
     "text": [
      "[Parallel(n_jobs=-1)]: Using backend ThreadingBackend with 20 concurrent workers.\n",
      "[Parallel(n_jobs=-1)]: Done  10 tasks      | elapsed:    1.7s\n",
      "[Parallel(n_jobs=-1)]: Done 160 tasks      | elapsed:   13.7s\n",
      "[Parallel(n_jobs=-1)]: Done 410 tasks      | elapsed:   34.4s\n",
      "[Parallel(n_jobs=-1)]: Done 760 tasks      | elapsed:  1.0min\n",
      "[Parallel(n_jobs=-1)]: Done 1000 out of 1000 | elapsed:  1.4min finished\n",
      "[Parallel(n_jobs=20)]: Using backend ThreadingBackend with 20 concurrent workers.\n",
      "[Parallel(n_jobs=20)]: Done  10 tasks      | elapsed:    0.0s\n",
      "[Parallel(n_jobs=20)]: Done 160 tasks      | elapsed:    0.1s\n",
      "[Parallel(n_jobs=20)]: Done 410 tasks      | elapsed:    0.2s\n"
     ]
    },
    {
     "name": "stdout",
     "output_type": "stream",
     "text": [
      "done in 82.464s.\n"
     ]
    },
    {
     "name": "stderr",
     "output_type": "stream",
     "text": [
      "[Parallel(n_jobs=20)]: Done 760 tasks      | elapsed:    0.3s\n",
      "[Parallel(n_jobs=20)]: Done 1000 out of 1000 | elapsed:    0.4s finished\n"
     ]
    },
    {
     "name": "stdout",
     "output_type": "stream",
     "text": [
      "accuracy：0.78740\n",
      "precision_avg: 0.78042\n",
      "recall_avg: 0.78740\n",
      "f1_score_avg: 0.77930\n",
      "n_estimator = 1000\n",
      "max_depth = 50\n",
      "min_samples_split = 2\n",
      "min_samples_leaf = 10\n"
     ]
    },
    {
     "name": "stderr",
     "output_type": "stream",
     "text": [
      "[Parallel(n_jobs=-1)]: Using backend ThreadingBackend with 20 concurrent workers.\n",
      "[Parallel(n_jobs=-1)]: Done  10 tasks      | elapsed:    1.3s\n",
      "[Parallel(n_jobs=-1)]: Done 160 tasks      | elapsed:   10.6s\n",
      "[Parallel(n_jobs=-1)]: Done 410 tasks      | elapsed:   26.3s\n",
      "[Parallel(n_jobs=-1)]: Done 760 tasks      | elapsed:   47.7s\n",
      "[Parallel(n_jobs=-1)]: Done 1000 out of 1000 | elapsed:  1.0min finished\n",
      "[Parallel(n_jobs=20)]: Using backend ThreadingBackend with 20 concurrent workers.\n",
      "[Parallel(n_jobs=20)]: Done  10 tasks      | elapsed:    0.0s\n",
      "[Parallel(n_jobs=20)]: Done 160 tasks      | elapsed:    0.1s\n"
     ]
    },
    {
     "name": "stdout",
     "output_type": "stream",
     "text": [
      "done in 63.225s.\n"
     ]
    },
    {
     "name": "stderr",
     "output_type": "stream",
     "text": [
      "[Parallel(n_jobs=20)]: Done 410 tasks      | elapsed:    0.2s\n",
      "[Parallel(n_jobs=20)]: Done 760 tasks      | elapsed:    0.3s\n",
      "[Parallel(n_jobs=20)]: Done 1000 out of 1000 | elapsed:    0.4s finished\n"
     ]
    },
    {
     "name": "stdout",
     "output_type": "stream",
     "text": [
      "accuracy：0.76827\n",
      "precision_avg: 0.78190\n",
      "recall_avg: 0.76827\n",
      "f1_score_avg: 0.77265\n",
      "n_estimator = 1000\n",
      "max_depth = 50\n",
      "min_samples_split = 2\n",
      "min_samples_leaf = 20\n"
     ]
    },
    {
     "name": "stderr",
     "output_type": "stream",
     "text": [
      "[Parallel(n_jobs=-1)]: Using backend ThreadingBackend with 20 concurrent workers.\n",
      "[Parallel(n_jobs=-1)]: Done  10 tasks      | elapsed:    1.0s\n",
      "[Parallel(n_jobs=-1)]: Done 160 tasks      | elapsed:    7.7s\n",
      "[Parallel(n_jobs=-1)]: Done 410 tasks      | elapsed:   19.2s\n",
      "[Parallel(n_jobs=-1)]: Done 760 tasks      | elapsed:   35.3s\n",
      "[Parallel(n_jobs=-1)]: Done 1000 out of 1000 | elapsed:   46.2s finished\n",
      "[Parallel(n_jobs=20)]: Using backend ThreadingBackend with 20 concurrent workers.\n",
      "[Parallel(n_jobs=20)]: Done  10 tasks      | elapsed:    0.0s\n",
      "[Parallel(n_jobs=20)]: Done 160 tasks      | elapsed:    0.1s\n"
     ]
    },
    {
     "name": "stdout",
     "output_type": "stream",
     "text": [
      "done in 46.689s.\n"
     ]
    },
    {
     "name": "stderr",
     "output_type": "stream",
     "text": [
      "[Parallel(n_jobs=20)]: Done 410 tasks      | elapsed:    0.2s\n",
      "[Parallel(n_jobs=20)]: Done 760 tasks      | elapsed:    0.3s\n",
      "[Parallel(n_jobs=20)]: Done 1000 out of 1000 | elapsed:    0.4s finished\n"
     ]
    },
    {
     "name": "stdout",
     "output_type": "stream",
     "text": [
      "accuracy：0.74820\n",
      "precision_avg: 0.79159\n",
      "recall_avg: 0.74820\n",
      "f1_score_avg: 0.76528\n",
      "n_estimator = 1000\n",
      "max_depth = 50\n",
      "min_samples_split = 2\n",
      "min_samples_leaf = 50\n"
     ]
    },
    {
     "name": "stderr",
     "output_type": "stream",
     "text": [
      "[Parallel(n_jobs=-1)]: Using backend ThreadingBackend with 20 concurrent workers.\n",
      "[Parallel(n_jobs=-1)]: Done  10 tasks      | elapsed:    0.7s\n",
      "[Parallel(n_jobs=-1)]: Done 160 tasks      | elapsed:    4.9s\n",
      "[Parallel(n_jobs=-1)]: Done 410 tasks      | elapsed:   12.5s\n",
      "[Parallel(n_jobs=-1)]: Done 760 tasks      | elapsed:   22.5s\n",
      "[Parallel(n_jobs=-1)]: Done 1000 out of 1000 | elapsed:   29.6s finished\n",
      "[Parallel(n_jobs=20)]: Using backend ThreadingBackend with 20 concurrent workers.\n",
      "[Parallel(n_jobs=20)]: Done  10 tasks      | elapsed:    0.0s\n",
      "[Parallel(n_jobs=20)]: Done 160 tasks      | elapsed:    0.1s\n",
      "[Parallel(n_jobs=20)]: Done 410 tasks      | elapsed:    0.2s\n"
     ]
    },
    {
     "name": "stdout",
     "output_type": "stream",
     "text": [
      "done in 30.038s.\n"
     ]
    },
    {
     "name": "stderr",
     "output_type": "stream",
     "text": [
      "[Parallel(n_jobs=20)]: Done 760 tasks      | elapsed:    0.3s\n",
      "[Parallel(n_jobs=20)]: Done 1000 out of 1000 | elapsed:    0.4s finished\n"
     ]
    },
    {
     "name": "stdout",
     "output_type": "stream",
     "text": [
      "accuracy：0.72280\n",
      "precision_avg: 0.80171\n",
      "recall_avg: 0.72280\n",
      "f1_score_avg: 0.75357\n",
      "n_estimator = 1000\n",
      "max_depth = 50\n",
      "min_samples_split = 10\n",
      "min_samples_leaf = 1\n"
     ]
    },
    {
     "name": "stderr",
     "output_type": "stream",
     "text": [
      "[Parallel(n_jobs=-1)]: Using backend ThreadingBackend with 20 concurrent workers.\n",
      "[Parallel(n_jobs=-1)]: Done  10 tasks      | elapsed:    2.2s\n",
      "[Parallel(n_jobs=-1)]: Done 160 tasks      | elapsed:   18.1s\n",
      "[Parallel(n_jobs=-1)]: Done 410 tasks      | elapsed:   45.0s\n",
      "[Parallel(n_jobs=-1)]: Done 760 tasks      | elapsed:  1.4min\n",
      "[Parallel(n_jobs=-1)]: Done 1000 out of 1000 | elapsed:  1.8min finished\n",
      "[Parallel(n_jobs=20)]: Using backend ThreadingBackend with 20 concurrent workers.\n",
      "[Parallel(n_jobs=20)]: Done  10 tasks      | elapsed:    0.0s\n",
      "[Parallel(n_jobs=20)]: Done 160 tasks      | elapsed:    0.1s\n"
     ]
    },
    {
     "name": "stdout",
     "output_type": "stream",
     "text": [
      "done in 109.337s.\n"
     ]
    },
    {
     "name": "stderr",
     "output_type": "stream",
     "text": [
      "[Parallel(n_jobs=20)]: Done 410 tasks      | elapsed:    0.2s\n",
      "[Parallel(n_jobs=20)]: Done 760 tasks      | elapsed:    0.4s\n",
      "[Parallel(n_jobs=20)]: Done 1000 out of 1000 | elapsed:    0.5s finished\n"
     ]
    },
    {
     "name": "stdout",
     "output_type": "stream",
     "text": [
      "accuracy：0.79720\n",
      "precision_avg: 0.77625\n",
      "recall_avg: 0.79720\n",
      "f1_score_avg: 0.77774\n",
      "n_estimator = 1000\n",
      "max_depth = 50\n",
      "min_samples_split = 10\n",
      "min_samples_leaf = 5\n"
     ]
    },
    {
     "name": "stderr",
     "output_type": "stream",
     "text": [
      "[Parallel(n_jobs=-1)]: Using backend ThreadingBackend with 20 concurrent workers.\n",
      "[Parallel(n_jobs=-1)]: Done  10 tasks      | elapsed:    1.8s\n",
      "[Parallel(n_jobs=-1)]: Done 160 tasks      | elapsed:   13.9s\n",
      "[Parallel(n_jobs=-1)]: Done 410 tasks      | elapsed:   34.4s\n",
      "[Parallel(n_jobs=-1)]: Done 760 tasks      | elapsed:  1.0min\n",
      "[Parallel(n_jobs=-1)]: Done 1000 out of 1000 | elapsed:  1.4min finished\n",
      "[Parallel(n_jobs=20)]: Using backend ThreadingBackend with 20 concurrent workers.\n",
      "[Parallel(n_jobs=20)]: Done  10 tasks      | elapsed:    0.0s\n",
      "[Parallel(n_jobs=20)]: Done 160 tasks      | elapsed:    0.1s\n"
     ]
    },
    {
     "name": "stdout",
     "output_type": "stream",
     "text": [
      "done in 83.062s.\n"
     ]
    },
    {
     "name": "stderr",
     "output_type": "stream",
     "text": [
      "[Parallel(n_jobs=20)]: Done 410 tasks      | elapsed:    0.2s\n",
      "[Parallel(n_jobs=20)]: Done 760 tasks      | elapsed:    0.3s\n",
      "[Parallel(n_jobs=20)]: Done 1000 out of 1000 | elapsed:    0.4s finished\n"
     ]
    },
    {
     "name": "stdout",
     "output_type": "stream",
     "text": [
      "accuracy：0.78740\n",
      "precision_avg: 0.78042\n",
      "recall_avg: 0.78740\n",
      "f1_score_avg: 0.77930\n",
      "n_estimator = 1000\n",
      "max_depth = 50\n",
      "min_samples_split = 10\n",
      "min_samples_leaf = 10\n"
     ]
    },
    {
     "name": "stderr",
     "output_type": "stream",
     "text": [
      "[Parallel(n_jobs=-1)]: Using backend ThreadingBackend with 20 concurrent workers.\n",
      "[Parallel(n_jobs=-1)]: Done  10 tasks      | elapsed:    1.3s\n",
      "[Parallel(n_jobs=-1)]: Done 160 tasks      | elapsed:   10.5s\n",
      "[Parallel(n_jobs=-1)]: Done 410 tasks      | elapsed:   26.2s\n",
      "[Parallel(n_jobs=-1)]: Done 760 tasks      | elapsed:   47.5s\n",
      "[Parallel(n_jobs=-1)]: Done 1000 out of 1000 | elapsed:  1.0min finished\n",
      "[Parallel(n_jobs=20)]: Using backend ThreadingBackend with 20 concurrent workers.\n",
      "[Parallel(n_jobs=20)]: Done  10 tasks      | elapsed:    0.0s\n",
      "[Parallel(n_jobs=20)]: Done 160 tasks      | elapsed:    0.1s\n"
     ]
    },
    {
     "name": "stdout",
     "output_type": "stream",
     "text": [
      "done in 62.945s.\n"
     ]
    },
    {
     "name": "stderr",
     "output_type": "stream",
     "text": [
      "[Parallel(n_jobs=20)]: Done 410 tasks      | elapsed:    0.2s\n",
      "[Parallel(n_jobs=20)]: Done 760 tasks      | elapsed:    0.3s\n",
      "[Parallel(n_jobs=20)]: Done 1000 out of 1000 | elapsed:    0.4s finished\n"
     ]
    },
    {
     "name": "stdout",
     "output_type": "stream",
     "text": [
      "accuracy：0.76827\n",
      "precision_avg: 0.78190\n",
      "recall_avg: 0.76827\n",
      "f1_score_avg: 0.77265\n",
      "n_estimator = 1000\n",
      "max_depth = 50\n",
      "min_samples_split = 10\n",
      "min_samples_leaf = 20\n"
     ]
    },
    {
     "name": "stderr",
     "output_type": "stream",
     "text": [
      "[Parallel(n_jobs=-1)]: Using backend ThreadingBackend with 20 concurrent workers.\n",
      "[Parallel(n_jobs=-1)]: Done  10 tasks      | elapsed:    1.0s\n",
      "[Parallel(n_jobs=-1)]: Done 160 tasks      | elapsed:    7.8s\n",
      "[Parallel(n_jobs=-1)]: Done 410 tasks      | elapsed:   19.4s\n",
      "[Parallel(n_jobs=-1)]: Done 760 tasks      | elapsed:   35.2s\n",
      "[Parallel(n_jobs=-1)]: Done 1000 out of 1000 | elapsed:   46.3s finished\n",
      "[Parallel(n_jobs=20)]: Using backend ThreadingBackend with 20 concurrent workers.\n",
      "[Parallel(n_jobs=20)]: Done  10 tasks      | elapsed:    0.0s\n",
      "[Parallel(n_jobs=20)]: Done 160 tasks      | elapsed:    0.1s\n"
     ]
    },
    {
     "name": "stdout",
     "output_type": "stream",
     "text": [
      "done in 46.918s.\n"
     ]
    },
    {
     "name": "stderr",
     "output_type": "stream",
     "text": [
      "[Parallel(n_jobs=20)]: Done 410 tasks      | elapsed:    0.2s\n",
      "[Parallel(n_jobs=20)]: Done 760 tasks      | elapsed:    0.3s\n",
      "[Parallel(n_jobs=20)]: Done 1000 out of 1000 | elapsed:    0.4s finished\n"
     ]
    },
    {
     "name": "stdout",
     "output_type": "stream",
     "text": [
      "accuracy：0.74820\n",
      "precision_avg: 0.79159\n",
      "recall_avg: 0.74820\n",
      "f1_score_avg: 0.76528\n",
      "n_estimator = 1000\n",
      "max_depth = 50\n",
      "min_samples_split = 10\n",
      "min_samples_leaf = 50\n"
     ]
    },
    {
     "name": "stderr",
     "output_type": "stream",
     "text": [
      "[Parallel(n_jobs=-1)]: Using backend ThreadingBackend with 20 concurrent workers.\n",
      "[Parallel(n_jobs=-1)]: Done  10 tasks      | elapsed:    0.6s\n",
      "[Parallel(n_jobs=-1)]: Done 160 tasks      | elapsed:    4.9s\n",
      "[Parallel(n_jobs=-1)]: Done 410 tasks      | elapsed:   12.3s\n",
      "[Parallel(n_jobs=-1)]: Done 760 tasks      | elapsed:   22.5s\n",
      "[Parallel(n_jobs=-1)]: Done 1000 out of 1000 | elapsed:   29.5s finished\n",
      "[Parallel(n_jobs=20)]: Using backend ThreadingBackend with 20 concurrent workers.\n",
      "[Parallel(n_jobs=20)]: Done  10 tasks      | elapsed:    0.0s\n",
      "[Parallel(n_jobs=20)]: Done 160 tasks      | elapsed:    0.1s\n"
     ]
    },
    {
     "name": "stdout",
     "output_type": "stream",
     "text": [
      "done in 30.052s.\n"
     ]
    },
    {
     "name": "stderr",
     "output_type": "stream",
     "text": [
      "[Parallel(n_jobs=20)]: Done 410 tasks      | elapsed:    0.2s\n",
      "[Parallel(n_jobs=20)]: Done 760 tasks      | elapsed:    0.3s\n",
      "[Parallel(n_jobs=20)]: Done 1000 out of 1000 | elapsed:    0.4s finished\n"
     ]
    },
    {
     "name": "stdout",
     "output_type": "stream",
     "text": [
      "accuracy：0.72280\n",
      "precision_avg: 0.80171\n",
      "recall_avg: 0.72280\n",
      "f1_score_avg: 0.75357\n",
      "n_estimator = 1000\n",
      "max_depth = 50\n",
      "min_samples_split = 50\n",
      "min_samples_leaf = 1\n"
     ]
    },
    {
     "name": "stderr",
     "output_type": "stream",
     "text": [
      "[Parallel(n_jobs=-1)]: Using backend ThreadingBackend with 20 concurrent workers.\n",
      "[Parallel(n_jobs=-1)]: Done  10 tasks      | elapsed:    1.7s\n",
      "[Parallel(n_jobs=-1)]: Done 160 tasks      | elapsed:   13.6s\n",
      "[Parallel(n_jobs=-1)]: Done 410 tasks      | elapsed:   33.6s\n",
      "[Parallel(n_jobs=-1)]: Done 760 tasks      | elapsed:  1.0min\n",
      "[Parallel(n_jobs=-1)]: Done 1000 out of 1000 | elapsed:  1.4min finished\n",
      "[Parallel(n_jobs=20)]: Using backend ThreadingBackend with 20 concurrent workers.\n",
      "[Parallel(n_jobs=20)]: Done  10 tasks      | elapsed:    0.0s\n",
      "[Parallel(n_jobs=20)]: Done 160 tasks      | elapsed:    0.1s\n"
     ]
    },
    {
     "name": "stdout",
     "output_type": "stream",
     "text": [
      "done in 81.954s.\n"
     ]
    },
    {
     "name": "stderr",
     "output_type": "stream",
     "text": [
      "[Parallel(n_jobs=20)]: Done 410 tasks      | elapsed:    0.2s\n",
      "[Parallel(n_jobs=20)]: Done 760 tasks      | elapsed:    0.3s\n",
      "[Parallel(n_jobs=20)]: Done 1000 out of 1000 | elapsed:    0.4s finished\n"
     ]
    },
    {
     "name": "stdout",
     "output_type": "stream",
     "text": [
      "accuracy：0.79060\n",
      "precision_avg: 0.78013\n",
      "recall_avg: 0.79060\n",
      "f1_score_avg: 0.78037\n",
      "n_estimator = 1000\n",
      "max_depth = 50\n",
      "min_samples_split = 50\n",
      "min_samples_leaf = 5\n"
     ]
    },
    {
     "name": "stderr",
     "output_type": "stream",
     "text": [
      "[Parallel(n_jobs=-1)]: Using backend ThreadingBackend with 20 concurrent workers.\n",
      "[Parallel(n_jobs=-1)]: Done  10 tasks      | elapsed:    1.5s\n",
      "[Parallel(n_jobs=-1)]: Done 160 tasks      | elapsed:   11.6s\n",
      "[Parallel(n_jobs=-1)]: Done 410 tasks      | elapsed:   28.8s\n",
      "[Parallel(n_jobs=-1)]: Done 760 tasks      | elapsed:   52.8s\n",
      "[Parallel(n_jobs=-1)]: Done 1000 out of 1000 | elapsed:  1.2min finished\n",
      "[Parallel(n_jobs=20)]: Using backend ThreadingBackend with 20 concurrent workers.\n",
      "[Parallel(n_jobs=20)]: Done  10 tasks      | elapsed:    0.0s\n",
      "[Parallel(n_jobs=20)]: Done 160 tasks      | elapsed:    0.1s\n"
     ]
    },
    {
     "name": "stdout",
     "output_type": "stream",
     "text": [
      "done in 70.054s.\n"
     ]
    },
    {
     "name": "stderr",
     "output_type": "stream",
     "text": [
      "[Parallel(n_jobs=20)]: Done 410 tasks      | elapsed:    0.2s\n",
      "[Parallel(n_jobs=20)]: Done 760 tasks      | elapsed:    0.4s\n",
      "[Parallel(n_jobs=20)]: Done 1000 out of 1000 | elapsed:    0.5s finished\n"
     ]
    },
    {
     "name": "stdout",
     "output_type": "stream",
     "text": [
      "accuracy：0.78153\n",
      "precision_avg: 0.77864\n",
      "recall_avg: 0.78153\n",
      "f1_score_avg: 0.77740\n",
      "n_estimator = 1000\n",
      "max_depth = 50\n",
      "min_samples_split = 50\n",
      "min_samples_leaf = 10\n"
     ]
    },
    {
     "name": "stderr",
     "output_type": "stream",
     "text": [
      "[Parallel(n_jobs=-1)]: Using backend ThreadingBackend with 20 concurrent workers.\n",
      "[Parallel(n_jobs=-1)]: Done  10 tasks      | elapsed:    1.2s\n",
      "[Parallel(n_jobs=-1)]: Done 160 tasks      | elapsed:    9.6s\n",
      "[Parallel(n_jobs=-1)]: Done 410 tasks      | elapsed:   24.0s\n",
      "[Parallel(n_jobs=-1)]: Done 760 tasks      | elapsed:   43.8s\n",
      "[Parallel(n_jobs=-1)]: Done 1000 out of 1000 | elapsed:   57.7s finished\n",
      "[Parallel(n_jobs=20)]: Using backend ThreadingBackend with 20 concurrent workers.\n",
      "[Parallel(n_jobs=20)]: Done  10 tasks      | elapsed:    0.0s\n",
      "[Parallel(n_jobs=20)]: Done 160 tasks      | elapsed:    0.1s\n"
     ]
    },
    {
     "name": "stdout",
     "output_type": "stream",
     "text": [
      "done in 58.234s.\n"
     ]
    },
    {
     "name": "stderr",
     "output_type": "stream",
     "text": [
      "[Parallel(n_jobs=20)]: Done 410 tasks      | elapsed:    0.2s\n",
      "[Parallel(n_jobs=20)]: Done 760 tasks      | elapsed:    0.6s\n",
      "[Parallel(n_jobs=20)]: Done 1000 out of 1000 | elapsed:    0.7s finished\n"
     ]
    },
    {
     "name": "stdout",
     "output_type": "stream",
     "text": [
      "accuracy：0.76880\n",
      "precision_avg: 0.78383\n",
      "recall_avg: 0.76880\n",
      "f1_score_avg: 0.77376\n",
      "n_estimator = 1000\n",
      "max_depth = 50\n",
      "min_samples_split = 50\n",
      "min_samples_leaf = 20\n"
     ]
    },
    {
     "name": "stderr",
     "output_type": "stream",
     "text": [
      "[Parallel(n_jobs=-1)]: Using backend ThreadingBackend with 20 concurrent workers.\n",
      "[Parallel(n_jobs=-1)]: Done  10 tasks      | elapsed:    1.0s\n",
      "[Parallel(n_jobs=-1)]: Done 160 tasks      | elapsed:    7.6s\n",
      "[Parallel(n_jobs=-1)]: Done 410 tasks      | elapsed:   18.9s\n",
      "[Parallel(n_jobs=-1)]: Done 760 tasks      | elapsed:   34.4s\n",
      "[Parallel(n_jobs=-1)]: Done 1000 out of 1000 | elapsed:   44.9s finished\n",
      "[Parallel(n_jobs=20)]: Using backend ThreadingBackend with 20 concurrent workers.\n",
      "[Parallel(n_jobs=20)]: Done  10 tasks      | elapsed:    0.0s\n",
      "[Parallel(n_jobs=20)]: Done 160 tasks      | elapsed:    0.1s\n"
     ]
    },
    {
     "name": "stdout",
     "output_type": "stream",
     "text": [
      "done in 45.501s.\n"
     ]
    },
    {
     "name": "stderr",
     "output_type": "stream",
     "text": [
      "[Parallel(n_jobs=20)]: Done 410 tasks      | elapsed:    0.2s\n",
      "[Parallel(n_jobs=20)]: Done 760 tasks      | elapsed:    0.3s\n",
      "[Parallel(n_jobs=20)]: Done 1000 out of 1000 | elapsed:    0.4s finished\n"
     ]
    },
    {
     "name": "stdout",
     "output_type": "stream",
     "text": [
      "accuracy：0.74913\n",
      "precision_avg: 0.79270\n",
      "recall_avg: 0.74913\n",
      "f1_score_avg: 0.76615\n",
      "n_estimator = 1000\n",
      "max_depth = 50\n",
      "min_samples_split = 50\n",
      "min_samples_leaf = 50\n"
     ]
    },
    {
     "name": "stderr",
     "output_type": "stream",
     "text": [
      "[Parallel(n_jobs=-1)]: Using backend ThreadingBackend with 20 concurrent workers.\n",
      "[Parallel(n_jobs=-1)]: Done  10 tasks      | elapsed:    0.7s\n",
      "[Parallel(n_jobs=-1)]: Done 160 tasks      | elapsed:    4.9s\n",
      "[Parallel(n_jobs=-1)]: Done 410 tasks      | elapsed:   12.3s\n",
      "[Parallel(n_jobs=-1)]: Done 760 tasks      | elapsed:   22.3s\n",
      "[Parallel(n_jobs=-1)]: Done 1000 out of 1000 | elapsed:   29.3s finished\n",
      "[Parallel(n_jobs=20)]: Using backend ThreadingBackend with 20 concurrent workers.\n",
      "[Parallel(n_jobs=20)]: Done  10 tasks      | elapsed:    0.0s\n",
      "[Parallel(n_jobs=20)]: Done 160 tasks      | elapsed:    0.1s\n"
     ]
    },
    {
     "name": "stdout",
     "output_type": "stream",
     "text": [
      "done in 29.864s.\n"
     ]
    },
    {
     "name": "stderr",
     "output_type": "stream",
     "text": [
      "[Parallel(n_jobs=20)]: Done 410 tasks      | elapsed:    0.2s\n",
      "[Parallel(n_jobs=20)]: Done 760 tasks      | elapsed:    0.3s\n",
      "[Parallel(n_jobs=20)]: Done 1000 out of 1000 | elapsed:    0.4s finished\n"
     ]
    },
    {
     "name": "stdout",
     "output_type": "stream",
     "text": [
      "accuracy：0.72280\n",
      "precision_avg: 0.80171\n",
      "recall_avg: 0.72280\n",
      "f1_score_avg: 0.75357\n",
      "n_estimator = 5000\n",
      "max_depth = 10\n",
      "min_samples_split = 2\n",
      "min_samples_leaf = 1\n"
     ]
    },
    {
     "name": "stderr",
     "output_type": "stream",
     "text": [
      "[Parallel(n_jobs=-1)]: Using backend ThreadingBackend with 20 concurrent workers.\n",
      "[Parallel(n_jobs=-1)]: Done  10 tasks      | elapsed:    0.2s\n",
      "[Parallel(n_jobs=-1)]: Done 160 tasks      | elapsed:    1.5s\n",
      "[Parallel(n_jobs=-1)]: Done 410 tasks      | elapsed:    3.6s\n",
      "[Parallel(n_jobs=-1)]: Done 760 tasks      | elapsed:    6.5s\n",
      "[Parallel(n_jobs=-1)]: Done 1210 tasks      | elapsed:   10.1s\n",
      "[Parallel(n_jobs=-1)]: Done 1760 tasks      | elapsed:   14.5s\n",
      "[Parallel(n_jobs=-1)]: Done 2410 tasks      | elapsed:   19.9s\n",
      "[Parallel(n_jobs=-1)]: Done 3160 tasks      | elapsed:   25.9s\n",
      "[Parallel(n_jobs=-1)]: Done 4010 tasks      | elapsed:   32.9s\n",
      "[Parallel(n_jobs=-1)]: Done 4960 tasks      | elapsed:   40.5s\n",
      "[Parallel(n_jobs=-1)]: Done 5000 out of 5000 | elapsed:   40.8s finished\n",
      "[Parallel(n_jobs=20)]: Using backend ThreadingBackend with 20 concurrent workers.\n",
      "[Parallel(n_jobs=20)]: Done  10 tasks      | elapsed:    0.0s\n",
      "[Parallel(n_jobs=20)]: Done 160 tasks      | elapsed:    0.1s\n"
     ]
    },
    {
     "name": "stdout",
     "output_type": "stream",
     "text": [
      "done in 42.969s.\n"
     ]
    },
    {
     "name": "stderr",
     "output_type": "stream",
     "text": [
      "[Parallel(n_jobs=20)]: Done 410 tasks      | elapsed:    0.2s\n",
      "[Parallel(n_jobs=20)]: Done 760 tasks      | elapsed:    0.3s\n",
      "[Parallel(n_jobs=20)]: Done 1210 tasks      | elapsed:    0.5s\n",
      "[Parallel(n_jobs=20)]: Done 1760 tasks      | elapsed:    0.7s\n",
      "[Parallel(n_jobs=20)]: Done 2410 tasks      | elapsed:    0.9s\n",
      "[Parallel(n_jobs=20)]: Done 3160 tasks      | elapsed:    1.3s\n",
      "[Parallel(n_jobs=20)]: Done 4010 tasks      | elapsed:    1.6s\n",
      "[Parallel(n_jobs=20)]: Done 4960 tasks      | elapsed:    2.0s\n",
      "[Parallel(n_jobs=20)]: Done 5000 out of 5000 | elapsed:    2.0s finished\n"
     ]
    },
    {
     "name": "stdout",
     "output_type": "stream",
     "text": [
      "accuracy：0.73920\n",
      "precision_avg: 0.79758\n",
      "recall_avg: 0.73920\n",
      "f1_score_avg: 0.75956\n",
      "n_estimator = 5000\n",
      "max_depth = 10\n",
      "min_samples_split = 2\n",
      "min_samples_leaf = 5\n"
     ]
    },
    {
     "name": "stderr",
     "output_type": "stream",
     "text": [
      "[Parallel(n_jobs=-1)]: Using backend ThreadingBackend with 20 concurrent workers.\n",
      "[Parallel(n_jobs=-1)]: Done  10 tasks      | elapsed:    0.2s\n",
      "[Parallel(n_jobs=-1)]: Done 160 tasks      | elapsed:    1.5s\n",
      "[Parallel(n_jobs=-1)]: Done 410 tasks      | elapsed:    3.5s\n",
      "[Parallel(n_jobs=-1)]: Done 760 tasks      | elapsed:    6.3s\n",
      "[Parallel(n_jobs=-1)]: Done 1210 tasks      | elapsed:    9.8s\n",
      "[Parallel(n_jobs=-1)]: Done 1760 tasks      | elapsed:   14.1s\n",
      "[Parallel(n_jobs=-1)]: Done 2410 tasks      | elapsed:   19.2s\n",
      "[Parallel(n_jobs=-1)]: Done 3160 tasks      | elapsed:   25.1s\n",
      "[Parallel(n_jobs=-1)]: Done 4010 tasks      | elapsed:   31.8s\n",
      "[Parallel(n_jobs=-1)]: Done 4960 tasks      | elapsed:   39.2s\n",
      "[Parallel(n_jobs=-1)]: Done 5000 out of 5000 | elapsed:   39.5s finished\n",
      "[Parallel(n_jobs=20)]: Using backend ThreadingBackend with 20 concurrent workers.\n",
      "[Parallel(n_jobs=20)]: Done  10 tasks      | elapsed:    0.0s\n",
      "[Parallel(n_jobs=20)]: Done 160 tasks      | elapsed:    0.1s\n"
     ]
    },
    {
     "name": "stdout",
     "output_type": "stream",
     "text": [
      "done in 41.631s.\n"
     ]
    },
    {
     "name": "stderr",
     "output_type": "stream",
     "text": [
      "[Parallel(n_jobs=20)]: Done 410 tasks      | elapsed:    0.2s\n",
      "[Parallel(n_jobs=20)]: Done 760 tasks      | elapsed:    0.3s\n",
      "[Parallel(n_jobs=20)]: Done 1210 tasks      | elapsed:    0.5s\n",
      "[Parallel(n_jobs=20)]: Done 1760 tasks      | elapsed:    0.7s\n",
      "[Parallel(n_jobs=20)]: Done 2410 tasks      | elapsed:    1.0s\n",
      "[Parallel(n_jobs=20)]: Done 3160 tasks      | elapsed:    1.3s\n",
      "[Parallel(n_jobs=20)]: Done 4010 tasks      | elapsed:    1.6s\n",
      "[Parallel(n_jobs=20)]: Done 4960 tasks      | elapsed:    2.0s\n",
      "[Parallel(n_jobs=20)]: Done 5000 out of 5000 | elapsed:    2.0s finished\n"
     ]
    },
    {
     "name": "stdout",
     "output_type": "stream",
     "text": [
      "accuracy：0.73387\n",
      "precision_avg: 0.79842\n",
      "recall_avg: 0.73387\n",
      "f1_score_avg: 0.75620\n",
      "n_estimator = 5000\n",
      "max_depth = 10\n",
      "min_samples_split = 2\n",
      "min_samples_leaf = 10\n"
     ]
    },
    {
     "name": "stderr",
     "output_type": "stream",
     "text": [
      "[Parallel(n_jobs=-1)]: Using backend ThreadingBackend with 20 concurrent workers.\n",
      "[Parallel(n_jobs=-1)]: Done  10 tasks      | elapsed:    0.2s\n",
      "[Parallel(n_jobs=-1)]: Done 160 tasks      | elapsed:    1.4s\n",
      "[Parallel(n_jobs=-1)]: Done 410 tasks      | elapsed:    3.4s\n",
      "[Parallel(n_jobs=-1)]: Done 760 tasks      | elapsed:    6.0s\n",
      "[Parallel(n_jobs=-1)]: Done 1210 tasks      | elapsed:    9.4s\n",
      "[Parallel(n_jobs=-1)]: Done 1760 tasks      | elapsed:   13.6s\n",
      "[Parallel(n_jobs=-1)]: Done 2410 tasks      | elapsed:   18.6s\n",
      "[Parallel(n_jobs=-1)]: Done 3160 tasks      | elapsed:   24.3s\n",
      "[Parallel(n_jobs=-1)]: Done 4010 tasks      | elapsed:   30.8s\n",
      "[Parallel(n_jobs=-1)]: Done 4960 tasks      | elapsed:   38.1s\n",
      "[Parallel(n_jobs=-1)]: Done 5000 out of 5000 | elapsed:   38.4s finished\n",
      "[Parallel(n_jobs=20)]: Using backend ThreadingBackend with 20 concurrent workers.\n",
      "[Parallel(n_jobs=20)]: Done  10 tasks      | elapsed:    0.0s\n",
      "[Parallel(n_jobs=20)]: Done 160 tasks      | elapsed:    0.1s\n"
     ]
    },
    {
     "name": "stdout",
     "output_type": "stream",
     "text": [
      "done in 40.355s.\n"
     ]
    },
    {
     "name": "stderr",
     "output_type": "stream",
     "text": [
      "[Parallel(n_jobs=20)]: Done 410 tasks      | elapsed:    0.2s\n",
      "[Parallel(n_jobs=20)]: Done 760 tasks      | elapsed:    0.3s\n",
      "[Parallel(n_jobs=20)]: Done 1210 tasks      | elapsed:    0.5s\n",
      "[Parallel(n_jobs=20)]: Done 1760 tasks      | elapsed:    0.8s\n",
      "[Parallel(n_jobs=20)]: Done 2410 tasks      | elapsed:    1.0s\n",
      "[Parallel(n_jobs=20)]: Done 3160 tasks      | elapsed:    1.3s\n",
      "[Parallel(n_jobs=20)]: Done 4010 tasks      | elapsed:    1.7s\n",
      "[Parallel(n_jobs=20)]: Done 4960 tasks      | elapsed:    2.0s\n",
      "[Parallel(n_jobs=20)]: Done 5000 out of 5000 | elapsed:    2.1s finished\n"
     ]
    },
    {
     "name": "stdout",
     "output_type": "stream",
     "text": [
      "accuracy：0.73020\n",
      "precision_avg: 0.79957\n",
      "recall_avg: 0.73020\n",
      "f1_score_avg: 0.75402\n",
      "n_estimator = 5000\n",
      "max_depth = 10\n",
      "min_samples_split = 2\n",
      "min_samples_leaf = 20\n"
     ]
    },
    {
     "name": "stderr",
     "output_type": "stream",
     "text": [
      "[Parallel(n_jobs=-1)]: Using backend ThreadingBackend with 20 concurrent workers.\n",
      "[Parallel(n_jobs=-1)]: Done  10 tasks      | elapsed:    0.2s\n",
      "[Parallel(n_jobs=-1)]: Done 160 tasks      | elapsed:    1.4s\n",
      "[Parallel(n_jobs=-1)]: Done 410 tasks      | elapsed:    3.2s\n",
      "[Parallel(n_jobs=-1)]: Done 760 tasks      | elapsed:    5.9s\n",
      "[Parallel(n_jobs=-1)]: Done 1210 tasks      | elapsed:    9.3s\n",
      "[Parallel(n_jobs=-1)]: Done 1760 tasks      | elapsed:   13.3s\n",
      "[Parallel(n_jobs=-1)]: Done 2410 tasks      | elapsed:   18.1s\n",
      "[Parallel(n_jobs=-1)]: Done 3160 tasks      | elapsed:   23.6s\n",
      "[Parallel(n_jobs=-1)]: Done 4010 tasks      | elapsed:   29.9s\n",
      "[Parallel(n_jobs=-1)]: Done 4960 tasks      | elapsed:   37.1s\n",
      "[Parallel(n_jobs=-1)]: Done 5000 out of 5000 | elapsed:   37.4s finished\n",
      "[Parallel(n_jobs=20)]: Using backend ThreadingBackend with 20 concurrent workers.\n",
      "[Parallel(n_jobs=20)]: Done  10 tasks      | elapsed:    0.0s\n",
      "[Parallel(n_jobs=20)]: Done 160 tasks      | elapsed:    0.1s\n"
     ]
    },
    {
     "name": "stdout",
     "output_type": "stream",
     "text": [
      "done in 39.408s.\n"
     ]
    },
    {
     "name": "stderr",
     "output_type": "stream",
     "text": [
      "[Parallel(n_jobs=20)]: Done 410 tasks      | elapsed:    0.2s\n",
      "[Parallel(n_jobs=20)]: Done 760 tasks      | elapsed:    0.3s\n",
      "[Parallel(n_jobs=20)]: Done 1210 tasks      | elapsed:    0.5s\n",
      "[Parallel(n_jobs=20)]: Done 1760 tasks      | elapsed:    0.7s\n",
      "[Parallel(n_jobs=20)]: Done 2410 tasks      | elapsed:    1.0s\n",
      "[Parallel(n_jobs=20)]: Done 3160 tasks      | elapsed:    1.3s\n",
      "[Parallel(n_jobs=20)]: Done 4010 tasks      | elapsed:    1.7s\n",
      "[Parallel(n_jobs=20)]: Done 4960 tasks      | elapsed:    2.1s\n",
      "[Parallel(n_jobs=20)]: Done 5000 out of 5000 | elapsed:    2.1s finished\n"
     ]
    },
    {
     "name": "stdout",
     "output_type": "stream",
     "text": [
      "accuracy：0.72847\n",
      "precision_avg: 0.80036\n",
      "recall_avg: 0.72847\n",
      "f1_score_avg: 0.75298\n",
      "n_estimator = 5000\n",
      "max_depth = 10\n",
      "min_samples_split = 2\n",
      "min_samples_leaf = 50\n"
     ]
    },
    {
     "name": "stderr",
     "output_type": "stream",
     "text": [
      "[Parallel(n_jobs=-1)]: Using backend ThreadingBackend with 20 concurrent workers.\n",
      "[Parallel(n_jobs=-1)]: Done  10 tasks      | elapsed:    0.2s\n",
      "[Parallel(n_jobs=-1)]: Done 160 tasks      | elapsed:    1.3s\n",
      "[Parallel(n_jobs=-1)]: Done 410 tasks      | elapsed:    3.2s\n",
      "[Parallel(n_jobs=-1)]: Done 760 tasks      | elapsed:    5.7s\n",
      "[Parallel(n_jobs=-1)]: Done 1210 tasks      | elapsed:    9.0s\n",
      "[Parallel(n_jobs=-1)]: Done 1760 tasks      | elapsed:   12.9s\n",
      "[Parallel(n_jobs=-1)]: Done 2410 tasks      | elapsed:   17.6s\n",
      "[Parallel(n_jobs=-1)]: Done 3160 tasks      | elapsed:   22.9s\n",
      "[Parallel(n_jobs=-1)]: Done 4010 tasks      | elapsed:   29.0s\n",
      "[Parallel(n_jobs=-1)]: Done 4960 tasks      | elapsed:   35.7s\n",
      "[Parallel(n_jobs=-1)]: Done 5000 out of 5000 | elapsed:   36.0s finished\n",
      "[Parallel(n_jobs=20)]: Using backend ThreadingBackend with 20 concurrent workers.\n",
      "[Parallel(n_jobs=20)]: Done  10 tasks      | elapsed:    0.0s\n",
      "[Parallel(n_jobs=20)]: Done 160 tasks      | elapsed:    0.1s\n"
     ]
    },
    {
     "name": "stdout",
     "output_type": "stream",
     "text": [
      "done in 38.026s.\n"
     ]
    },
    {
     "name": "stderr",
     "output_type": "stream",
     "text": [
      "[Parallel(n_jobs=20)]: Done 410 tasks      | elapsed:    0.2s\n",
      "[Parallel(n_jobs=20)]: Done 760 tasks      | elapsed:    0.3s\n",
      "[Parallel(n_jobs=20)]: Done 1210 tasks      | elapsed:    0.5s\n",
      "[Parallel(n_jobs=20)]: Done 1760 tasks      | elapsed:    0.7s\n",
      "[Parallel(n_jobs=20)]: Done 2410 tasks      | elapsed:    1.0s\n",
      "[Parallel(n_jobs=20)]: Done 3160 tasks      | elapsed:    1.3s\n",
      "[Parallel(n_jobs=20)]: Done 4010 tasks      | elapsed:    1.6s\n",
      "[Parallel(n_jobs=20)]: Done 4960 tasks      | elapsed:    2.0s\n",
      "[Parallel(n_jobs=20)]: Done 5000 out of 5000 | elapsed:    2.0s finished\n"
     ]
    },
    {
     "name": "stdout",
     "output_type": "stream",
     "text": [
      "accuracy：0.72400\n",
      "precision_avg: 0.80098\n",
      "recall_avg: 0.72400\n",
      "f1_score_avg: 0.75017\n",
      "n_estimator = 5000\n",
      "max_depth = 10\n",
      "min_samples_split = 10\n",
      "min_samples_leaf = 1\n"
     ]
    },
    {
     "name": "stderr",
     "output_type": "stream",
     "text": [
      "[Parallel(n_jobs=-1)]: Using backend ThreadingBackend with 20 concurrent workers.\n",
      "[Parallel(n_jobs=-1)]: Done  10 tasks      | elapsed:    0.2s\n",
      "[Parallel(n_jobs=-1)]: Done 160 tasks      | elapsed:    1.5s\n",
      "[Parallel(n_jobs=-1)]: Done 410 tasks      | elapsed:    3.5s\n",
      "[Parallel(n_jobs=-1)]: Done 760 tasks      | elapsed:    6.4s\n",
      "[Parallel(n_jobs=-1)]: Done 1210 tasks      | elapsed:   10.0s\n",
      "[Parallel(n_jobs=-1)]: Done 1760 tasks      | elapsed:   14.4s\n",
      "[Parallel(n_jobs=-1)]: Done 2410 tasks      | elapsed:   19.5s\n",
      "[Parallel(n_jobs=-1)]: Done 3160 tasks      | elapsed:   25.5s\n",
      "[Parallel(n_jobs=-1)]: Done 4010 tasks      | elapsed:   32.3s\n",
      "[Parallel(n_jobs=-1)]: Done 4960 tasks      | elapsed:   40.0s\n",
      "[Parallel(n_jobs=-1)]: Done 5000 out of 5000 | elapsed:   40.3s finished\n",
      "[Parallel(n_jobs=20)]: Using backend ThreadingBackend with 20 concurrent workers.\n",
      "[Parallel(n_jobs=20)]: Done  10 tasks      | elapsed:    0.0s\n",
      "[Parallel(n_jobs=20)]: Done 160 tasks      | elapsed:    0.1s\n"
     ]
    },
    {
     "name": "stdout",
     "output_type": "stream",
     "text": [
      "done in 42.285s.\n"
     ]
    },
    {
     "name": "stderr",
     "output_type": "stream",
     "text": [
      "[Parallel(n_jobs=20)]: Done 410 tasks      | elapsed:    0.2s\n",
      "[Parallel(n_jobs=20)]: Done 760 tasks      | elapsed:    0.3s\n",
      "[Parallel(n_jobs=20)]: Done 1210 tasks      | elapsed:    0.5s\n",
      "[Parallel(n_jobs=20)]: Done 1760 tasks      | elapsed:    0.7s\n",
      "[Parallel(n_jobs=20)]: Done 2410 tasks      | elapsed:    1.0s\n",
      "[Parallel(n_jobs=20)]: Done 3160 tasks      | elapsed:    1.3s\n",
      "[Parallel(n_jobs=20)]: Done 4010 tasks      | elapsed:    1.6s\n",
      "[Parallel(n_jobs=20)]: Done 4960 tasks      | elapsed:    2.0s\n",
      "[Parallel(n_jobs=20)]: Done 5000 out of 5000 | elapsed:    2.0s finished\n"
     ]
    },
    {
     "name": "stdout",
     "output_type": "stream",
     "text": [
      "accuracy：0.73747\n",
      "precision_avg: 0.79823\n",
      "recall_avg: 0.73747\n",
      "f1_score_avg: 0.75857\n",
      "n_estimator = 5000\n",
      "max_depth = 10\n",
      "min_samples_split = 10\n",
      "min_samples_leaf = 5\n"
     ]
    },
    {
     "name": "stderr",
     "output_type": "stream",
     "text": [
      "[Parallel(n_jobs=-1)]: Using backend ThreadingBackend with 20 concurrent workers.\n",
      "[Parallel(n_jobs=-1)]: Done  10 tasks      | elapsed:    0.2s\n",
      "[Parallel(n_jobs=-1)]: Done 160 tasks      | elapsed:    1.5s\n",
      "[Parallel(n_jobs=-1)]: Done 410 tasks      | elapsed:    3.5s\n",
      "[Parallel(n_jobs=-1)]: Done 760 tasks      | elapsed:    6.2s\n",
      "[Parallel(n_jobs=-1)]: Done 1210 tasks      | elapsed:    9.8s\n",
      "[Parallel(n_jobs=-1)]: Done 1760 tasks      | elapsed:   14.0s\n",
      "[Parallel(n_jobs=-1)]: Done 2410 tasks      | elapsed:   19.1s\n",
      "[Parallel(n_jobs=-1)]: Done 3160 tasks      | elapsed:   25.0s\n",
      "[Parallel(n_jobs=-1)]: Done 4010 tasks      | elapsed:   31.6s\n",
      "[Parallel(n_jobs=-1)]: Done 4960 tasks      | elapsed:   39.0s\n",
      "[Parallel(n_jobs=-1)]: Done 5000 out of 5000 | elapsed:   39.3s finished\n",
      "[Parallel(n_jobs=20)]: Using backend ThreadingBackend with 20 concurrent workers.\n",
      "[Parallel(n_jobs=20)]: Done  10 tasks      | elapsed:    0.0s\n",
      "[Parallel(n_jobs=20)]: Done 160 tasks      | elapsed:    0.1s\n"
     ]
    },
    {
     "name": "stdout",
     "output_type": "stream",
     "text": [
      "done in 41.494s.\n"
     ]
    },
    {
     "name": "stderr",
     "output_type": "stream",
     "text": [
      "[Parallel(n_jobs=20)]: Done 410 tasks      | elapsed:    0.2s\n",
      "[Parallel(n_jobs=20)]: Done 760 tasks      | elapsed:    0.3s\n",
      "[Parallel(n_jobs=20)]: Done 1210 tasks      | elapsed:    0.5s\n",
      "[Parallel(n_jobs=20)]: Done 1760 tasks      | elapsed:    0.7s\n",
      "[Parallel(n_jobs=20)]: Done 2410 tasks      | elapsed:    1.0s\n",
      "[Parallel(n_jobs=20)]: Done 3160 tasks      | elapsed:    1.3s\n",
      "[Parallel(n_jobs=20)]: Done 4010 tasks      | elapsed:    1.6s\n",
      "[Parallel(n_jobs=20)]: Done 4960 tasks      | elapsed:    2.0s\n",
      "[Parallel(n_jobs=20)]: Done 5000 out of 5000 | elapsed:    2.0s finished\n"
     ]
    },
    {
     "name": "stdout",
     "output_type": "stream",
     "text": [
      "accuracy：0.73387\n",
      "precision_avg: 0.79842\n",
      "recall_avg: 0.73387\n",
      "f1_score_avg: 0.75620\n",
      "n_estimator = 5000\n",
      "max_depth = 10\n",
      "min_samples_split = 10\n",
      "min_samples_leaf = 10\n"
     ]
    },
    {
     "name": "stderr",
     "output_type": "stream",
     "text": [
      "[Parallel(n_jobs=-1)]: Using backend ThreadingBackend with 20 concurrent workers.\n",
      "[Parallel(n_jobs=-1)]: Done  10 tasks      | elapsed:    0.2s\n",
      "[Parallel(n_jobs=-1)]: Done 160 tasks      | elapsed:    1.4s\n",
      "[Parallel(n_jobs=-1)]: Done 410 tasks      | elapsed:    3.4s\n",
      "[Parallel(n_jobs=-1)]: Done 760 tasks      | elapsed:    6.1s\n",
      "[Parallel(n_jobs=-1)]: Done 1210 tasks      | elapsed:    9.6s\n",
      "[Parallel(n_jobs=-1)]: Done 1760 tasks      | elapsed:   13.8s\n",
      "[Parallel(n_jobs=-1)]: Done 2410 tasks      | elapsed:   18.7s\n",
      "[Parallel(n_jobs=-1)]: Done 3160 tasks      | elapsed:   24.4s\n",
      "[Parallel(n_jobs=-1)]: Done 4010 tasks      | elapsed:   30.8s\n",
      "[Parallel(n_jobs=-1)]: Done 4960 tasks      | elapsed:   38.0s\n",
      "[Parallel(n_jobs=-1)]: Done 5000 out of 5000 | elapsed:   38.3s finished\n",
      "[Parallel(n_jobs=20)]: Using backend ThreadingBackend with 20 concurrent workers.\n",
      "[Parallel(n_jobs=20)]: Done  10 tasks      | elapsed:    0.0s\n",
      "[Parallel(n_jobs=20)]: Done 160 tasks      | elapsed:    0.1s\n"
     ]
    },
    {
     "name": "stdout",
     "output_type": "stream",
     "text": [
      "done in 40.392s.\n"
     ]
    },
    {
     "name": "stderr",
     "output_type": "stream",
     "text": [
      "[Parallel(n_jobs=20)]: Done 410 tasks      | elapsed:    0.2s\n",
      "[Parallel(n_jobs=20)]: Done 760 tasks      | elapsed:    0.3s\n",
      "[Parallel(n_jobs=20)]: Done 1210 tasks      | elapsed:    0.5s\n",
      "[Parallel(n_jobs=20)]: Done 1760 tasks      | elapsed:    0.7s\n",
      "[Parallel(n_jobs=20)]: Done 2410 tasks      | elapsed:    0.9s\n",
      "[Parallel(n_jobs=20)]: Done 3160 tasks      | elapsed:    1.2s\n",
      "[Parallel(n_jobs=20)]: Done 4010 tasks      | elapsed:    1.6s\n",
      "[Parallel(n_jobs=20)]: Done 4960 tasks      | elapsed:    2.0s\n",
      "[Parallel(n_jobs=20)]: Done 5000 out of 5000 | elapsed:    2.0s finished\n"
     ]
    },
    {
     "name": "stdout",
     "output_type": "stream",
     "text": [
      "accuracy：0.73020\n",
      "precision_avg: 0.79957\n",
      "recall_avg: 0.73020\n",
      "f1_score_avg: 0.75402\n",
      "n_estimator = 5000\n",
      "max_depth = 10\n",
      "min_samples_split = 10\n",
      "min_samples_leaf = 20\n"
     ]
    },
    {
     "name": "stderr",
     "output_type": "stream",
     "text": [
      "[Parallel(n_jobs=-1)]: Using backend ThreadingBackend with 20 concurrent workers.\n",
      "[Parallel(n_jobs=-1)]: Done  10 tasks      | elapsed:    0.2s\n",
      "[Parallel(n_jobs=-1)]: Done 160 tasks      | elapsed:    1.4s\n",
      "[Parallel(n_jobs=-1)]: Done 410 tasks      | elapsed:    3.3s\n",
      "[Parallel(n_jobs=-1)]: Done 760 tasks      | elapsed:    5.9s\n",
      "[Parallel(n_jobs=-1)]: Done 1210 tasks      | elapsed:    9.3s\n",
      "[Parallel(n_jobs=-1)]: Done 1760 tasks      | elapsed:   13.4s\n",
      "[Parallel(n_jobs=-1)]: Done 2410 tasks      | elapsed:   18.3s\n",
      "[Parallel(n_jobs=-1)]: Done 3160 tasks      | elapsed:   23.8s\n",
      "[Parallel(n_jobs=-1)]: Done 4010 tasks      | elapsed:   30.1s\n",
      "[Parallel(n_jobs=-1)]: Done 4960 tasks      | elapsed:   37.3s\n",
      "[Parallel(n_jobs=-1)]: Done 5000 out of 5000 | elapsed:   37.6s finished\n",
      "[Parallel(n_jobs=20)]: Using backend ThreadingBackend with 20 concurrent workers.\n",
      "[Parallel(n_jobs=20)]: Done  10 tasks      | elapsed:    0.0s\n",
      "[Parallel(n_jobs=20)]: Done 160 tasks      | elapsed:    0.1s\n",
      "[Parallel(n_jobs=20)]: Done 410 tasks      | elapsed:    0.2s\n"
     ]
    },
    {
     "name": "stdout",
     "output_type": "stream",
     "text": [
      "done in 39.652s.\n"
     ]
    },
    {
     "name": "stderr",
     "output_type": "stream",
     "text": [
      "[Parallel(n_jobs=20)]: Done 760 tasks      | elapsed:    0.3s\n",
      "[Parallel(n_jobs=20)]: Done 1210 tasks      | elapsed:    0.5s\n",
      "[Parallel(n_jobs=20)]: Done 1760 tasks      | elapsed:    0.7s\n",
      "[Parallel(n_jobs=20)]: Done 2410 tasks      | elapsed:    1.0s\n",
      "[Parallel(n_jobs=20)]: Done 3160 tasks      | elapsed:    1.2s\n",
      "[Parallel(n_jobs=20)]: Done 4010 tasks      | elapsed:    1.6s\n",
      "[Parallel(n_jobs=20)]: Done 4960 tasks      | elapsed:    1.9s\n",
      "[Parallel(n_jobs=20)]: Done 5000 out of 5000 | elapsed:    2.0s finished\n"
     ]
    },
    {
     "name": "stdout",
     "output_type": "stream",
     "text": [
      "accuracy：0.72847\n",
      "precision_avg: 0.80036\n",
      "recall_avg: 0.72847\n",
      "f1_score_avg: 0.75298\n",
      "n_estimator = 5000\n",
      "max_depth = 10\n",
      "min_samples_split = 10\n",
      "min_samples_leaf = 50\n"
     ]
    },
    {
     "name": "stderr",
     "output_type": "stream",
     "text": [
      "[Parallel(n_jobs=-1)]: Using backend ThreadingBackend with 20 concurrent workers.\n",
      "[Parallel(n_jobs=-1)]: Done  10 tasks      | elapsed:    0.2s\n",
      "[Parallel(n_jobs=-1)]: Done 160 tasks      | elapsed:    1.4s\n",
      "[Parallel(n_jobs=-1)]: Done 410 tasks      | elapsed:    3.2s\n",
      "[Parallel(n_jobs=-1)]: Done 760 tasks      | elapsed:    5.7s\n",
      "[Parallel(n_jobs=-1)]: Done 1210 tasks      | elapsed:    8.9s\n",
      "[Parallel(n_jobs=-1)]: Done 1760 tasks      | elapsed:   12.9s\n",
      "[Parallel(n_jobs=-1)]: Done 2410 tasks      | elapsed:   17.4s\n",
      "[Parallel(n_jobs=-1)]: Done 3160 tasks      | elapsed:   22.8s\n",
      "[Parallel(n_jobs=-1)]: Done 4010 tasks      | elapsed:   28.9s\n",
      "[Parallel(n_jobs=-1)]: Done 4960 tasks      | elapsed:   35.6s\n",
      "[Parallel(n_jobs=-1)]: Done 5000 out of 5000 | elapsed:   35.9s finished\n",
      "[Parallel(n_jobs=20)]: Using backend ThreadingBackend with 20 concurrent workers.\n",
      "[Parallel(n_jobs=20)]: Done  10 tasks      | elapsed:    0.0s\n",
      "[Parallel(n_jobs=20)]: Done 160 tasks      | elapsed:    0.1s\n"
     ]
    },
    {
     "name": "stdout",
     "output_type": "stream",
     "text": [
      "done in 37.964s.\n"
     ]
    },
    {
     "name": "stderr",
     "output_type": "stream",
     "text": [
      "[Parallel(n_jobs=20)]: Done 410 tasks      | elapsed:    0.2s\n",
      "[Parallel(n_jobs=20)]: Done 760 tasks      | elapsed:    0.3s\n",
      "[Parallel(n_jobs=20)]: Done 1210 tasks      | elapsed:    0.5s\n",
      "[Parallel(n_jobs=20)]: Done 1760 tasks      | elapsed:    0.7s\n",
      "[Parallel(n_jobs=20)]: Done 2410 tasks      | elapsed:    1.0s\n",
      "[Parallel(n_jobs=20)]: Done 3160 tasks      | elapsed:    1.3s\n",
      "[Parallel(n_jobs=20)]: Done 4010 tasks      | elapsed:    1.6s\n",
      "[Parallel(n_jobs=20)]: Done 4960 tasks      | elapsed:    2.0s\n",
      "[Parallel(n_jobs=20)]: Done 5000 out of 5000 | elapsed:    2.0s finished\n"
     ]
    },
    {
     "name": "stdout",
     "output_type": "stream",
     "text": [
      "accuracy：0.72400\n",
      "precision_avg: 0.80098\n",
      "recall_avg: 0.72400\n",
      "f1_score_avg: 0.75017\n",
      "n_estimator = 5000\n",
      "max_depth = 10\n",
      "min_samples_split = 50\n",
      "min_samples_leaf = 1\n"
     ]
    },
    {
     "name": "stderr",
     "output_type": "stream",
     "text": [
      "[Parallel(n_jobs=-1)]: Using backend ThreadingBackend with 20 concurrent workers.\n",
      "[Parallel(n_jobs=-1)]: Done  10 tasks      | elapsed:    0.2s\n",
      "[Parallel(n_jobs=-1)]: Done 160 tasks      | elapsed:    1.4s\n",
      "[Parallel(n_jobs=-1)]: Done 410 tasks      | elapsed:    3.4s\n",
      "[Parallel(n_jobs=-1)]: Done 760 tasks      | elapsed:    6.1s\n",
      "[Parallel(n_jobs=-1)]: Done 1210 tasks      | elapsed:    9.5s\n",
      "[Parallel(n_jobs=-1)]: Done 1760 tasks      | elapsed:   13.7s\n",
      "[Parallel(n_jobs=-1)]: Done 2410 tasks      | elapsed:   18.6s\n",
      "[Parallel(n_jobs=-1)]: Done 3160 tasks      | elapsed:   24.2s\n",
      "[Parallel(n_jobs=-1)]: Done 4010 tasks      | elapsed:   30.7s\n",
      "[Parallel(n_jobs=-1)]: Done 4960 tasks      | elapsed:   38.0s\n",
      "[Parallel(n_jobs=-1)]: Done 5000 out of 5000 | elapsed:   38.3s finished\n",
      "[Parallel(n_jobs=20)]: Using backend ThreadingBackend with 20 concurrent workers.\n",
      "[Parallel(n_jobs=20)]: Done  10 tasks      | elapsed:    0.0s\n",
      "[Parallel(n_jobs=20)]: Done 160 tasks      | elapsed:    0.1s\n",
      "[Parallel(n_jobs=20)]: Done 410 tasks      | elapsed:    0.2s\n"
     ]
    },
    {
     "name": "stdout",
     "output_type": "stream",
     "text": [
      "done in 40.312s.\n"
     ]
    },
    {
     "name": "stderr",
     "output_type": "stream",
     "text": [
      "[Parallel(n_jobs=20)]: Done 760 tasks      | elapsed:    0.3s\n",
      "[Parallel(n_jobs=20)]: Done 1210 tasks      | elapsed:    0.5s\n",
      "[Parallel(n_jobs=20)]: Done 1760 tasks      | elapsed:    0.7s\n",
      "[Parallel(n_jobs=20)]: Done 2410 tasks      | elapsed:    1.0s\n",
      "[Parallel(n_jobs=20)]: Done 3160 tasks      | elapsed:    1.3s\n",
      "[Parallel(n_jobs=20)]: Done 4010 tasks      | elapsed:    1.6s\n",
      "[Parallel(n_jobs=20)]: Done 4960 tasks      | elapsed:    2.0s\n",
      "[Parallel(n_jobs=20)]: Done 5000 out of 5000 | elapsed:    2.0s finished\n"
     ]
    },
    {
     "name": "stdout",
     "output_type": "stream",
     "text": [
      "accuracy：0.73380\n",
      "precision_avg: 0.79903\n",
      "recall_avg: 0.73380\n",
      "f1_score_avg: 0.75647\n",
      "n_estimator = 5000\n",
      "max_depth = 10\n",
      "min_samples_split = 50\n",
      "min_samples_leaf = 5\n"
     ]
    },
    {
     "name": "stderr",
     "output_type": "stream",
     "text": [
      "[Parallel(n_jobs=-1)]: Using backend ThreadingBackend with 20 concurrent workers.\n",
      "[Parallel(n_jobs=-1)]: Done  10 tasks      | elapsed:    0.2s\n",
      "[Parallel(n_jobs=-1)]: Done 160 tasks      | elapsed:    1.4s\n",
      "[Parallel(n_jobs=-1)]: Done 410 tasks      | elapsed:    3.3s\n",
      "[Parallel(n_jobs=-1)]: Done 760 tasks      | elapsed:    6.0s\n",
      "[Parallel(n_jobs=-1)]: Done 1210 tasks      | elapsed:    9.3s\n",
      "[Parallel(n_jobs=-1)]: Done 1760 tasks      | elapsed:   13.4s\n",
      "[Parallel(n_jobs=-1)]: Done 2410 tasks      | elapsed:   18.3s\n",
      "[Parallel(n_jobs=-1)]: Done 3160 tasks      | elapsed:   24.0s\n",
      "[Parallel(n_jobs=-1)]: Done 4010 tasks      | elapsed:   30.5s\n",
      "[Parallel(n_jobs=-1)]: Done 4960 tasks      | elapsed:   37.6s\n",
      "[Parallel(n_jobs=-1)]: Done 5000 out of 5000 | elapsed:   37.8s finished\n",
      "[Parallel(n_jobs=20)]: Using backend ThreadingBackend with 20 concurrent workers.\n",
      "[Parallel(n_jobs=20)]: Done  10 tasks      | elapsed:    0.0s\n",
      "[Parallel(n_jobs=20)]: Done 160 tasks      | elapsed:    0.1s\n"
     ]
    },
    {
     "name": "stdout",
     "output_type": "stream",
     "text": [
      "done in 39.731s.\n"
     ]
    },
    {
     "name": "stderr",
     "output_type": "stream",
     "text": [
      "[Parallel(n_jobs=20)]: Done 410 tasks      | elapsed:    0.2s\n",
      "[Parallel(n_jobs=20)]: Done 760 tasks      | elapsed:    0.3s\n",
      "[Parallel(n_jobs=20)]: Done 1210 tasks      | elapsed:    0.5s\n",
      "[Parallel(n_jobs=20)]: Done 1760 tasks      | elapsed:    0.7s\n",
      "[Parallel(n_jobs=20)]: Done 2410 tasks      | elapsed:    1.0s\n",
      "[Parallel(n_jobs=20)]: Done 3160 tasks      | elapsed:    1.3s\n",
      "[Parallel(n_jobs=20)]: Done 4010 tasks      | elapsed:    1.7s\n",
      "[Parallel(n_jobs=20)]: Done 4960 tasks      | elapsed:    2.0s\n",
      "[Parallel(n_jobs=20)]: Done 5000 out of 5000 | elapsed:    2.0s finished\n"
     ]
    },
    {
     "name": "stdout",
     "output_type": "stream",
     "text": [
      "accuracy：0.73313\n",
      "precision_avg: 0.79988\n",
      "recall_avg: 0.73313\n",
      "f1_score_avg: 0.75626\n",
      "n_estimator = 5000\n",
      "max_depth = 10\n",
      "min_samples_split = 50\n",
      "min_samples_leaf = 10\n"
     ]
    },
    {
     "name": "stderr",
     "output_type": "stream",
     "text": [
      "[Parallel(n_jobs=-1)]: Using backend ThreadingBackend with 20 concurrent workers.\n",
      "[Parallel(n_jobs=-1)]: Done  10 tasks      | elapsed:    0.2s\n",
      "[Parallel(n_jobs=-1)]: Done 160 tasks      | elapsed:    1.4s\n",
      "[Parallel(n_jobs=-1)]: Done 410 tasks      | elapsed:    3.3s\n",
      "[Parallel(n_jobs=-1)]: Done 760 tasks      | elapsed:    6.0s\n",
      "[Parallel(n_jobs=-1)]: Done 1210 tasks      | elapsed:    9.4s\n",
      "[Parallel(n_jobs=-1)]: Done 1760 tasks      | elapsed:   13.6s\n",
      "[Parallel(n_jobs=-1)]: Done 2410 tasks      | elapsed:   18.5s\n",
      "[Parallel(n_jobs=-1)]: Done 3160 tasks      | elapsed:   24.1s\n",
      "[Parallel(n_jobs=-1)]: Done 4010 tasks      | elapsed:   30.5s\n",
      "[Parallel(n_jobs=-1)]: Done 4960 tasks      | elapsed:   37.7s\n",
      "[Parallel(n_jobs=-1)]: Done 5000 out of 5000 | elapsed:   38.0s finished\n",
      "[Parallel(n_jobs=20)]: Using backend ThreadingBackend with 20 concurrent workers.\n",
      "[Parallel(n_jobs=20)]: Done  10 tasks      | elapsed:    0.0s\n",
      "[Parallel(n_jobs=20)]: Done 160 tasks      | elapsed:    0.1s\n"
     ]
    },
    {
     "name": "stdout",
     "output_type": "stream",
     "text": [
      "done in 40.031s.\n"
     ]
    },
    {
     "name": "stderr",
     "output_type": "stream",
     "text": [
      "[Parallel(n_jobs=20)]: Done 410 tasks      | elapsed:    0.2s\n",
      "[Parallel(n_jobs=20)]: Done 760 tasks      | elapsed:    0.3s\n",
      "[Parallel(n_jobs=20)]: Done 1210 tasks      | elapsed:    0.5s\n",
      "[Parallel(n_jobs=20)]: Done 1760 tasks      | elapsed:    0.7s\n",
      "[Parallel(n_jobs=20)]: Done 2410 tasks      | elapsed:    1.0s\n",
      "[Parallel(n_jobs=20)]: Done 3160 tasks      | elapsed:    1.3s\n",
      "[Parallel(n_jobs=20)]: Done 4010 tasks      | elapsed:    1.6s\n",
      "[Parallel(n_jobs=20)]: Done 4960 tasks      | elapsed:    2.0s\n",
      "[Parallel(n_jobs=20)]: Done 5000 out of 5000 | elapsed:    2.0s finished\n"
     ]
    },
    {
     "name": "stdout",
     "output_type": "stream",
     "text": [
      "accuracy：0.73073\n",
      "precision_avg: 0.79990\n",
      "recall_avg: 0.73073\n",
      "f1_score_avg: 0.75466\n",
      "n_estimator = 5000\n",
      "max_depth = 10\n",
      "min_samples_split = 50\n",
      "min_samples_leaf = 20\n"
     ]
    },
    {
     "name": "stderr",
     "output_type": "stream",
     "text": [
      "[Parallel(n_jobs=-1)]: Using backend ThreadingBackend with 20 concurrent workers.\n",
      "[Parallel(n_jobs=-1)]: Done  10 tasks      | elapsed:    0.2s\n",
      "[Parallel(n_jobs=-1)]: Done 160 tasks      | elapsed:    1.4s\n",
      "[Parallel(n_jobs=-1)]: Done 410 tasks      | elapsed:    3.2s\n",
      "[Parallel(n_jobs=-1)]: Done 760 tasks      | elapsed:    5.8s\n",
      "[Parallel(n_jobs=-1)]: Done 1210 tasks      | elapsed:    9.1s\n",
      "[Parallel(n_jobs=-1)]: Done 1760 tasks      | elapsed:   13.2s\n",
      "[Parallel(n_jobs=-1)]: Done 2410 tasks      | elapsed:   18.0s\n",
      "[Parallel(n_jobs=-1)]: Done 3160 tasks      | elapsed:   23.5s\n",
      "[Parallel(n_jobs=-1)]: Done 4010 tasks      | elapsed:   29.7s\n",
      "[Parallel(n_jobs=-1)]: Done 4960 tasks      | elapsed:   36.7s\n",
      "[Parallel(n_jobs=-1)]: Done 5000 out of 5000 | elapsed:   37.0s finished\n",
      "[Parallel(n_jobs=20)]: Using backend ThreadingBackend with 20 concurrent workers.\n",
      "[Parallel(n_jobs=20)]: Done  10 tasks      | elapsed:    0.0s\n",
      "[Parallel(n_jobs=20)]: Done 160 tasks      | elapsed:    0.1s\n"
     ]
    },
    {
     "name": "stdout",
     "output_type": "stream",
     "text": [
      "done in 39.157s.\n"
     ]
    },
    {
     "name": "stderr",
     "output_type": "stream",
     "text": [
      "[Parallel(n_jobs=20)]: Done 410 tasks      | elapsed:    0.2s\n",
      "[Parallel(n_jobs=20)]: Done 760 tasks      | elapsed:    0.3s\n",
      "[Parallel(n_jobs=20)]: Done 1210 tasks      | elapsed:    0.5s\n",
      "[Parallel(n_jobs=20)]: Done 1760 tasks      | elapsed:    0.7s\n",
      "[Parallel(n_jobs=20)]: Done 2410 tasks      | elapsed:    1.0s\n",
      "[Parallel(n_jobs=20)]: Done 3160 tasks      | elapsed:    1.3s\n",
      "[Parallel(n_jobs=20)]: Done 4010 tasks      | elapsed:    1.6s\n",
      "[Parallel(n_jobs=20)]: Done 4960 tasks      | elapsed:    2.0s\n",
      "[Parallel(n_jobs=20)]: Done 5000 out of 5000 | elapsed:    2.0s finished\n"
     ]
    },
    {
     "name": "stdout",
     "output_type": "stream",
     "text": [
      "accuracy：0.72907\n",
      "precision_avg: 0.80021\n",
      "recall_avg: 0.72907\n",
      "f1_score_avg: 0.75336\n",
      "n_estimator = 5000\n",
      "max_depth = 10\n",
      "min_samples_split = 50\n",
      "min_samples_leaf = 50\n"
     ]
    },
    {
     "name": "stderr",
     "output_type": "stream",
     "text": [
      "[Parallel(n_jobs=-1)]: Using backend ThreadingBackend with 20 concurrent workers.\n",
      "[Parallel(n_jobs=-1)]: Done  10 tasks      | elapsed:    0.2s\n",
      "[Parallel(n_jobs=-1)]: Done 160 tasks      | elapsed:    1.3s\n",
      "[Parallel(n_jobs=-1)]: Done 410 tasks      | elapsed:    3.2s\n",
      "[Parallel(n_jobs=-1)]: Done 760 tasks      | elapsed:    5.6s\n",
      "[Parallel(n_jobs=-1)]: Done 1210 tasks      | elapsed:    8.8s\n",
      "[Parallel(n_jobs=-1)]: Done 1760 tasks      | elapsed:   12.8s\n",
      "[Parallel(n_jobs=-1)]: Done 2410 tasks      | elapsed:   17.5s\n",
      "[Parallel(n_jobs=-1)]: Done 3160 tasks      | elapsed:   22.8s\n",
      "[Parallel(n_jobs=-1)]: Done 4010 tasks      | elapsed:   28.8s\n",
      "[Parallel(n_jobs=-1)]: Done 4960 tasks      | elapsed:   35.6s\n",
      "[Parallel(n_jobs=-1)]: Done 5000 out of 5000 | elapsed:   35.9s finished\n",
      "[Parallel(n_jobs=20)]: Using backend ThreadingBackend with 20 concurrent workers.\n",
      "[Parallel(n_jobs=20)]: Done  10 tasks      | elapsed:    0.0s\n",
      "[Parallel(n_jobs=20)]: Done 160 tasks      | elapsed:    0.1s\n"
     ]
    },
    {
     "name": "stdout",
     "output_type": "stream",
     "text": [
      "done in 37.962s.\n"
     ]
    },
    {
     "name": "stderr",
     "output_type": "stream",
     "text": [
      "[Parallel(n_jobs=20)]: Done 410 tasks      | elapsed:    0.2s\n",
      "[Parallel(n_jobs=20)]: Done 760 tasks      | elapsed:    0.3s\n",
      "[Parallel(n_jobs=20)]: Done 1210 tasks      | elapsed:    0.5s\n",
      "[Parallel(n_jobs=20)]: Done 1760 tasks      | elapsed:    0.7s\n",
      "[Parallel(n_jobs=20)]: Done 2410 tasks      | elapsed:    0.9s\n",
      "[Parallel(n_jobs=20)]: Done 3160 tasks      | elapsed:    1.2s\n",
      "[Parallel(n_jobs=20)]: Done 4010 tasks      | elapsed:    1.6s\n",
      "[Parallel(n_jobs=20)]: Done 4960 tasks      | elapsed:    1.9s\n",
      "[Parallel(n_jobs=20)]: Done 5000 out of 5000 | elapsed:    1.9s finished\n"
     ]
    },
    {
     "name": "stdout",
     "output_type": "stream",
     "text": [
      "accuracy：0.72400\n",
      "precision_avg: 0.80098\n",
      "recall_avg: 0.72400\n",
      "f1_score_avg: 0.75017\n",
      "n_estimator = 5000\n",
      "max_depth = 20\n",
      "min_samples_split = 2\n",
      "min_samples_leaf = 1\n"
     ]
    },
    {
     "name": "stderr",
     "output_type": "stream",
     "text": [
      "[Parallel(n_jobs=-1)]: Using backend ThreadingBackend with 20 concurrent workers.\n",
      "[Parallel(n_jobs=-1)]: Done  10 tasks      | elapsed:    0.6s\n",
      "[Parallel(n_jobs=-1)]: Done 160 tasks      | elapsed:    4.3s\n",
      "[Parallel(n_jobs=-1)]: Done 410 tasks      | elapsed:   10.6s\n",
      "[Parallel(n_jobs=-1)]: Done 760 tasks      | elapsed:   19.4s\n",
      "[Parallel(n_jobs=-1)]: Done 1210 tasks      | elapsed:   30.7s\n",
      "[Parallel(n_jobs=-1)]: Done 1760 tasks      | elapsed:   44.6s\n",
      "[Parallel(n_jobs=-1)]: Done 2410 tasks      | elapsed:  1.0min\n",
      "[Parallel(n_jobs=-1)]: Done 3160 tasks      | elapsed:  1.3min\n",
      "[Parallel(n_jobs=-1)]: Done 4010 tasks      | elapsed:  1.7min\n",
      "[Parallel(n_jobs=-1)]: Done 4960 tasks      | elapsed:  2.1min\n",
      "[Parallel(n_jobs=-1)]: Done 5000 out of 5000 | elapsed:  2.1min finished\n",
      "[Parallel(n_jobs=20)]: Using backend ThreadingBackend with 20 concurrent workers.\n",
      "[Parallel(n_jobs=20)]: Done  10 tasks      | elapsed:    0.0s\n",
      "[Parallel(n_jobs=20)]: Done 160 tasks      | elapsed:    0.1s\n"
     ]
    },
    {
     "name": "stdout",
     "output_type": "stream",
     "text": [
      "done in 127.326s.\n"
     ]
    },
    {
     "name": "stderr",
     "output_type": "stream",
     "text": [
      "[Parallel(n_jobs=20)]: Done 410 tasks      | elapsed:    0.2s\n",
      "[Parallel(n_jobs=20)]: Done 760 tasks      | elapsed:    0.3s\n",
      "[Parallel(n_jobs=20)]: Done 1210 tasks      | elapsed:    0.5s\n",
      "[Parallel(n_jobs=20)]: Done 1760 tasks      | elapsed:    0.8s\n",
      "[Parallel(n_jobs=20)]: Done 2410 tasks      | elapsed:    1.1s\n",
      "[Parallel(n_jobs=20)]: Done 3160 tasks      | elapsed:    1.4s\n",
      "[Parallel(n_jobs=20)]: Done 4010 tasks      | elapsed:    1.8s\n",
      "[Parallel(n_jobs=20)]: Done 4960 tasks      | elapsed:    2.2s\n",
      "[Parallel(n_jobs=20)]: Done 5000 out of 5000 | elapsed:    2.3s finished\n"
     ]
    },
    {
     "name": "stdout",
     "output_type": "stream",
     "text": [
      "accuracy：0.77080\n",
      "precision_avg: 0.78384\n",
      "recall_avg: 0.77080\n",
      "f1_score_avg: 0.77431\n",
      "n_estimator = 5000\n",
      "max_depth = 20\n",
      "min_samples_split = 2\n",
      "min_samples_leaf = 5\n"
     ]
    },
    {
     "name": "stderr",
     "output_type": "stream",
     "text": [
      "[Parallel(n_jobs=-1)]: Using backend ThreadingBackend with 20 concurrent workers.\n",
      "[Parallel(n_jobs=-1)]: Done  10 tasks      | elapsed:    0.5s\n",
      "[Parallel(n_jobs=-1)]: Done 160 tasks      | elapsed:    3.7s\n",
      "[Parallel(n_jobs=-1)]: Done 410 tasks      | elapsed:    8.9s\n",
      "[Parallel(n_jobs=-1)]: Done 760 tasks      | elapsed:   16.1s\n",
      "[Parallel(n_jobs=-1)]: Done 1210 tasks      | elapsed:   25.4s\n",
      "[Parallel(n_jobs=-1)]: Done 1760 tasks      | elapsed:   36.9s\n",
      "[Parallel(n_jobs=-1)]: Done 2410 tasks      | elapsed:   50.4s\n",
      "[Parallel(n_jobs=-1)]: Done 3160 tasks      | elapsed:  1.1min\n",
      "[Parallel(n_jobs=-1)]: Done 4010 tasks      | elapsed:  1.4min\n",
      "[Parallel(n_jobs=-1)]: Done 4960 tasks      | elapsed:  1.7min\n",
      "[Parallel(n_jobs=-1)]: Done 5000 out of 5000 | elapsed:  1.7min finished\n",
      "[Parallel(n_jobs=20)]: Using backend ThreadingBackend with 20 concurrent workers.\n",
      "[Parallel(n_jobs=20)]: Done  10 tasks      | elapsed:    0.0s\n",
      "[Parallel(n_jobs=20)]: Done 160 tasks      | elapsed:    0.1s\n"
     ]
    },
    {
     "name": "stdout",
     "output_type": "stream",
     "text": [
      "done in 105.704s.\n"
     ]
    },
    {
     "name": "stderr",
     "output_type": "stream",
     "text": [
      "[Parallel(n_jobs=20)]: Done 410 tasks      | elapsed:    0.2s\n",
      "[Parallel(n_jobs=20)]: Done 760 tasks      | elapsed:    0.3s\n",
      "[Parallel(n_jobs=20)]: Done 1210 tasks      | elapsed:    0.5s\n",
      "[Parallel(n_jobs=20)]: Done 1760 tasks      | elapsed:    0.7s\n",
      "[Parallel(n_jobs=20)]: Done 2410 tasks      | elapsed:    1.0s\n",
      "[Parallel(n_jobs=20)]: Done 3160 tasks      | elapsed:    1.3s\n",
      "[Parallel(n_jobs=20)]: Done 4010 tasks      | elapsed:    1.6s\n",
      "[Parallel(n_jobs=20)]: Done 4960 tasks      | elapsed:    2.0s\n",
      "[Parallel(n_jobs=20)]: Done 5000 out of 5000 | elapsed:    2.0s finished\n"
     ]
    },
    {
     "name": "stdout",
     "output_type": "stream",
     "text": [
      "accuracy：0.75440\n",
      "precision_avg: 0.79334\n",
      "recall_avg: 0.75440\n",
      "f1_score_avg: 0.76874\n",
      "n_estimator = 5000\n",
      "max_depth = 20\n",
      "min_samples_split = 2\n",
      "min_samples_leaf = 10\n"
     ]
    },
    {
     "name": "stderr",
     "output_type": "stream",
     "text": [
      "[Parallel(n_jobs=-1)]: Using backend ThreadingBackend with 20 concurrent workers.\n",
      "[Parallel(n_jobs=-1)]: Done  10 tasks      | elapsed:    0.4s\n",
      "[Parallel(n_jobs=-1)]: Done 160 tasks      | elapsed:    3.3s\n",
      "[Parallel(n_jobs=-1)]: Done 410 tasks      | elapsed:    8.1s\n",
      "[Parallel(n_jobs=-1)]: Done 760 tasks      | elapsed:   14.6s\n",
      "[Parallel(n_jobs=-1)]: Done 1210 tasks      | elapsed:   23.1s\n",
      "[Parallel(n_jobs=-1)]: Done 1760 tasks      | elapsed:   33.4s\n",
      "[Parallel(n_jobs=-1)]: Done 2410 tasks      | elapsed:   45.9s\n",
      "[Parallel(n_jobs=-1)]: Done 3160 tasks      | elapsed:  1.0min\n",
      "[Parallel(n_jobs=-1)]: Done 4010 tasks      | elapsed:  1.3min\n",
      "[Parallel(n_jobs=-1)]: Done 4960 tasks      | elapsed:  1.6min\n",
      "[Parallel(n_jobs=-1)]: Done 5000 out of 5000 | elapsed:  1.6min finished\n",
      "[Parallel(n_jobs=20)]: Using backend ThreadingBackend with 20 concurrent workers.\n",
      "[Parallel(n_jobs=20)]: Done  10 tasks      | elapsed:    0.0s\n",
      "[Parallel(n_jobs=20)]: Done 160 tasks      | elapsed:    0.1s\n"
     ]
    },
    {
     "name": "stdout",
     "output_type": "stream",
     "text": [
      "done in 97.013s.\n"
     ]
    },
    {
     "name": "stderr",
     "output_type": "stream",
     "text": [
      "[Parallel(n_jobs=20)]: Done 410 tasks      | elapsed:    0.2s\n",
      "[Parallel(n_jobs=20)]: Done 760 tasks      | elapsed:    0.4s\n",
      "[Parallel(n_jobs=20)]: Done 1210 tasks      | elapsed:    0.6s\n",
      "[Parallel(n_jobs=20)]: Done 1760 tasks      | elapsed:    0.8s\n",
      "[Parallel(n_jobs=20)]: Done 2410 tasks      | elapsed:    1.1s\n",
      "[Parallel(n_jobs=20)]: Done 3160 tasks      | elapsed:    1.4s\n",
      "[Parallel(n_jobs=20)]: Done 4010 tasks      | elapsed:    1.8s\n",
      "[Parallel(n_jobs=20)]: Done 4960 tasks      | elapsed:    2.2s\n",
      "[Parallel(n_jobs=20)]: Done 5000 out of 5000 | elapsed:    2.2s finished\n"
     ]
    },
    {
     "name": "stdout",
     "output_type": "stream",
     "text": [
      "accuracy：0.74573\n",
      "precision_avg: 0.79793\n",
      "recall_avg: 0.74573\n",
      "f1_score_avg: 0.76515\n",
      "n_estimator = 5000\n",
      "max_depth = 20\n",
      "min_samples_split = 2\n",
      "min_samples_leaf = 20\n"
     ]
    },
    {
     "name": "stderr",
     "output_type": "stream",
     "text": [
      "[Parallel(n_jobs=-1)]: Using backend ThreadingBackend with 20 concurrent workers.\n",
      "[Parallel(n_jobs=-1)]: Done  10 tasks      | elapsed:    0.4s\n",
      "[Parallel(n_jobs=-1)]: Done 160 tasks      | elapsed:    3.0s\n",
      "[Parallel(n_jobs=-1)]: Done 410 tasks      | elapsed:    7.3s\n",
      "[Parallel(n_jobs=-1)]: Done 760 tasks      | elapsed:   13.2s\n",
      "[Parallel(n_jobs=-1)]: Done 1210 tasks      | elapsed:   20.9s\n",
      "[Parallel(n_jobs=-1)]: Done 1760 tasks      | elapsed:   30.3s\n",
      "[Parallel(n_jobs=-1)]: Done 2410 tasks      | elapsed:   41.4s\n",
      "[Parallel(n_jobs=-1)]: Done 3160 tasks      | elapsed:   54.7s\n",
      "[Parallel(n_jobs=-1)]: Done 4010 tasks      | elapsed:  1.2min\n",
      "[Parallel(n_jobs=-1)]: Done 4960 tasks      | elapsed:  1.4min\n",
      "[Parallel(n_jobs=-1)]: Done 5000 out of 5000 | elapsed:  1.4min finished\n",
      "[Parallel(n_jobs=20)]: Using backend ThreadingBackend with 20 concurrent workers.\n",
      "[Parallel(n_jobs=20)]: Done  10 tasks      | elapsed:    0.0s\n",
      "[Parallel(n_jobs=20)]: Done 160 tasks      | elapsed:    0.1s\n"
     ]
    },
    {
     "name": "stdout",
     "output_type": "stream",
     "text": [
      "done in 88.945s.\n"
     ]
    },
    {
     "name": "stderr",
     "output_type": "stream",
     "text": [
      "[Parallel(n_jobs=20)]: Done 410 tasks      | elapsed:    0.2s\n",
      "[Parallel(n_jobs=20)]: Done 760 tasks      | elapsed:    0.3s\n",
      "[Parallel(n_jobs=20)]: Done 1210 tasks      | elapsed:    0.5s\n",
      "[Parallel(n_jobs=20)]: Done 1760 tasks      | elapsed:    0.7s\n",
      "[Parallel(n_jobs=20)]: Done 2410 tasks      | elapsed:    1.0s\n",
      "[Parallel(n_jobs=20)]: Done 3160 tasks      | elapsed:    1.3s\n",
      "[Parallel(n_jobs=20)]: Done 4010 tasks      | elapsed:    1.7s\n",
      "[Parallel(n_jobs=20)]: Done 4960 tasks      | elapsed:    2.0s\n",
      "[Parallel(n_jobs=20)]: Done 5000 out of 5000 | elapsed:    2.1s finished\n"
     ]
    },
    {
     "name": "stdout",
     "output_type": "stream",
     "text": [
      "accuracy：0.73840\n",
      "precision_avg: 0.80162\n",
      "recall_avg: 0.73840\n",
      "f1_score_avg: 0.76180\n",
      "n_estimator = 5000\n",
      "max_depth = 20\n",
      "min_samples_split = 2\n",
      "min_samples_leaf = 50\n"
     ]
    },
    {
     "name": "stderr",
     "output_type": "stream",
     "text": [
      "[Parallel(n_jobs=-1)]: Using backend ThreadingBackend with 20 concurrent workers.\n",
      "[Parallel(n_jobs=-1)]: Done  10 tasks      | elapsed:    0.4s\n",
      "[Parallel(n_jobs=-1)]: Done 160 tasks      | elapsed:    2.6s\n",
      "[Parallel(n_jobs=-1)]: Done 410 tasks      | elapsed:    6.3s\n",
      "[Parallel(n_jobs=-1)]: Done 760 tasks      | elapsed:   11.3s\n",
      "[Parallel(n_jobs=-1)]: Done 1210 tasks      | elapsed:   17.8s\n",
      "[Parallel(n_jobs=-1)]: Done 1760 tasks      | elapsed:   25.9s\n",
      "[Parallel(n_jobs=-1)]: Done 2410 tasks      | elapsed:   35.4s\n",
      "[Parallel(n_jobs=-1)]: Done 3160 tasks      | elapsed:   46.5s\n",
      "[Parallel(n_jobs=-1)]: Done 4010 tasks      | elapsed:   58.8s\n",
      "[Parallel(n_jobs=-1)]: Done 4960 tasks      | elapsed:  1.2min\n",
      "[Parallel(n_jobs=-1)]: Done 5000 out of 5000 | elapsed:  1.2min finished\n",
      "[Parallel(n_jobs=20)]: Using backend ThreadingBackend with 20 concurrent workers.\n",
      "[Parallel(n_jobs=20)]: Done  10 tasks      | elapsed:    0.0s\n",
      "[Parallel(n_jobs=20)]: Done 160 tasks      | elapsed:    0.1s\n",
      "[Parallel(n_jobs=20)]: Done 410 tasks      | elapsed:    0.2s\n"
     ]
    },
    {
     "name": "stdout",
     "output_type": "stream",
     "text": [
      "done in 75.146s.\n"
     ]
    },
    {
     "name": "stderr",
     "output_type": "stream",
     "text": [
      "[Parallel(n_jobs=20)]: Done 760 tasks      | elapsed:    0.3s\n",
      "[Parallel(n_jobs=20)]: Done 1210 tasks      | elapsed:    0.5s\n",
      "[Parallel(n_jobs=20)]: Done 1760 tasks      | elapsed:    0.8s\n",
      "[Parallel(n_jobs=20)]: Done 2410 tasks      | elapsed:    1.0s\n",
      "[Parallel(n_jobs=20)]: Done 3160 tasks      | elapsed:    1.4s\n",
      "[Parallel(n_jobs=20)]: Done 4010 tasks      | elapsed:    1.7s\n",
      "[Parallel(n_jobs=20)]: Done 4960 tasks      | elapsed:    2.0s\n",
      "[Parallel(n_jobs=20)]: Done 5000 out of 5000 | elapsed:    2.1s finished\n"
     ]
    },
    {
     "name": "stdout",
     "output_type": "stream",
     "text": [
      "accuracy：0.72607\n",
      "precision_avg: 0.80348\n",
      "recall_avg: 0.72607\n",
      "f1_score_avg: 0.75427\n",
      "n_estimator = 5000\n",
      "max_depth = 20\n",
      "min_samples_split = 10\n",
      "min_samples_leaf = 1\n"
     ]
    },
    {
     "name": "stderr",
     "output_type": "stream",
     "text": [
      "[Parallel(n_jobs=-1)]: Using backend ThreadingBackend with 20 concurrent workers.\n",
      "[Parallel(n_jobs=-1)]: Done  10 tasks      | elapsed:    0.6s\n",
      "[Parallel(n_jobs=-1)]: Done 160 tasks      | elapsed:    4.2s\n",
      "[Parallel(n_jobs=-1)]: Done 410 tasks      | elapsed:   10.1s\n",
      "[Parallel(n_jobs=-1)]: Done 760 tasks      | elapsed:   18.4s\n",
      "[Parallel(n_jobs=-1)]: Done 1210 tasks      | elapsed:   29.2s\n",
      "[Parallel(n_jobs=-1)]: Done 1760 tasks      | elapsed:   42.1s\n",
      "[Parallel(n_jobs=-1)]: Done 2410 tasks      | elapsed:   57.3s\n",
      "[Parallel(n_jobs=-1)]: Done 3160 tasks      | elapsed:  1.2min\n",
      "[Parallel(n_jobs=-1)]: Done 4010 tasks      | elapsed:  1.6min\n",
      "[Parallel(n_jobs=-1)]: Done 4960 tasks      | elapsed:  2.0min\n",
      "[Parallel(n_jobs=-1)]: Done 5000 out of 5000 | elapsed:  2.0min finished\n",
      "[Parallel(n_jobs=20)]: Using backend ThreadingBackend with 20 concurrent workers.\n",
      "[Parallel(n_jobs=20)]: Done  10 tasks      | elapsed:    0.0s\n",
      "[Parallel(n_jobs=20)]: Done 160 tasks      | elapsed:    0.1s\n"
     ]
    },
    {
     "name": "stdout",
     "output_type": "stream",
     "text": [
      "done in 120.706s.\n"
     ]
    },
    {
     "name": "stderr",
     "output_type": "stream",
     "text": [
      "[Parallel(n_jobs=20)]: Done 410 tasks      | elapsed:    0.2s\n",
      "[Parallel(n_jobs=20)]: Done 760 tasks      | elapsed:    0.3s\n",
      "[Parallel(n_jobs=20)]: Done 1210 tasks      | elapsed:    0.5s\n",
      "[Parallel(n_jobs=20)]: Done 1760 tasks      | elapsed:    0.8s\n",
      "[Parallel(n_jobs=20)]: Done 2410 tasks      | elapsed:    1.0s\n",
      "[Parallel(n_jobs=20)]: Done 3160 tasks      | elapsed:    1.4s\n",
      "[Parallel(n_jobs=20)]: Done 4010 tasks      | elapsed:    1.7s\n",
      "[Parallel(n_jobs=20)]: Done 4960 tasks      | elapsed:    2.1s\n",
      "[Parallel(n_jobs=20)]: Done 5000 out of 5000 | elapsed:    2.1s finished\n"
     ]
    },
    {
     "name": "stdout",
     "output_type": "stream",
     "text": [
      "accuracy：0.76653\n",
      "precision_avg: 0.78734\n",
      "recall_avg: 0.76653\n",
      "f1_score_avg: 0.77335\n",
      "n_estimator = 5000\n",
      "max_depth = 20\n",
      "min_samples_split = 10\n",
      "min_samples_leaf = 5\n"
     ]
    },
    {
     "name": "stderr",
     "output_type": "stream",
     "text": [
      "[Parallel(n_jobs=-1)]: Using backend ThreadingBackend with 20 concurrent workers.\n",
      "[Parallel(n_jobs=-1)]: Done  10 tasks      | elapsed:    0.5s\n",
      "[Parallel(n_jobs=-1)]: Done 160 tasks      | elapsed:    3.7s\n",
      "[Parallel(n_jobs=-1)]: Done 410 tasks      | elapsed:    9.2s\n",
      "[Parallel(n_jobs=-1)]: Done 760 tasks      | elapsed:   16.7s\n",
      "[Parallel(n_jobs=-1)]: Done 1210 tasks      | elapsed:   26.3s\n",
      "[Parallel(n_jobs=-1)]: Done 1760 tasks      | elapsed:   38.2s\n",
      "[Parallel(n_jobs=-1)]: Done 2410 tasks      | elapsed:   52.2s\n",
      "[Parallel(n_jobs=-1)]: Done 3160 tasks      | elapsed:  1.1min\n",
      "[Parallel(n_jobs=-1)]: Done 4010 tasks      | elapsed:  1.4min\n",
      "[Parallel(n_jobs=-1)]: Done 4960 tasks      | elapsed:  1.8min\n",
      "[Parallel(n_jobs=-1)]: Done 5000 out of 5000 | elapsed:  1.8min finished\n",
      "[Parallel(n_jobs=20)]: Using backend ThreadingBackend with 20 concurrent workers.\n",
      "[Parallel(n_jobs=20)]: Done  10 tasks      | elapsed:    0.0s\n",
      "[Parallel(n_jobs=20)]: Done 160 tasks      | elapsed:    0.1s\n"
     ]
    },
    {
     "name": "stdout",
     "output_type": "stream",
     "text": [
      "done in 109.770s.\n"
     ]
    },
    {
     "name": "stderr",
     "output_type": "stream",
     "text": [
      "[Parallel(n_jobs=20)]: Done 410 tasks      | elapsed:    0.2s\n",
      "[Parallel(n_jobs=20)]: Done 760 tasks      | elapsed:    0.4s\n",
      "[Parallel(n_jobs=20)]: Done 1210 tasks      | elapsed:    0.6s\n",
      "[Parallel(n_jobs=20)]: Done 1760 tasks      | elapsed:    0.8s\n",
      "[Parallel(n_jobs=20)]: Done 2410 tasks      | elapsed:    1.1s\n",
      "[Parallel(n_jobs=20)]: Done 3160 tasks      | elapsed:    1.5s\n",
      "[Parallel(n_jobs=20)]: Done 4010 tasks      | elapsed:    1.8s\n",
      "[Parallel(n_jobs=20)]: Done 4960 tasks      | elapsed:    2.3s\n",
      "[Parallel(n_jobs=20)]: Done 5000 out of 5000 | elapsed:    2.3s finished\n"
     ]
    },
    {
     "name": "stdout",
     "output_type": "stream",
     "text": [
      "accuracy：0.75440\n",
      "precision_avg: 0.79334\n",
      "recall_avg: 0.75440\n",
      "f1_score_avg: 0.76874\n",
      "n_estimator = 5000\n",
      "max_depth = 20\n",
      "min_samples_split = 10\n",
      "min_samples_leaf = 10\n"
     ]
    },
    {
     "name": "stderr",
     "output_type": "stream",
     "text": [
      "[Parallel(n_jobs=-1)]: Using backend ThreadingBackend with 20 concurrent workers.\n",
      "[Parallel(n_jobs=-1)]: Done  10 tasks      | elapsed:    0.5s\n",
      "[Parallel(n_jobs=-1)]: Done 160 tasks      | elapsed:    3.4s\n",
      "[Parallel(n_jobs=-1)]: Done 410 tasks      | elapsed:    8.2s\n",
      "[Parallel(n_jobs=-1)]: Done 760 tasks      | elapsed:   14.9s\n",
      "[Parallel(n_jobs=-1)]: Done 1210 tasks      | elapsed:   23.8s\n",
      "[Parallel(n_jobs=-1)]: Done 1760 tasks      | elapsed:   34.5s\n",
      "[Parallel(n_jobs=-1)]: Done 2410 tasks      | elapsed:   47.2s\n",
      "[Parallel(n_jobs=-1)]: Done 3160 tasks      | elapsed:  1.0min\n",
      "[Parallel(n_jobs=-1)]: Done 4010 tasks      | elapsed:  1.3min\n",
      "[Parallel(n_jobs=-1)]: Done 4960 tasks      | elapsed:  1.6min\n",
      "[Parallel(n_jobs=-1)]: Done 5000 out of 5000 | elapsed:  1.6min finished\n",
      "[Parallel(n_jobs=20)]: Using backend ThreadingBackend with 20 concurrent workers.\n",
      "[Parallel(n_jobs=20)]: Done  10 tasks      | elapsed:    0.0s\n",
      "[Parallel(n_jobs=20)]: Done 160 tasks      | elapsed:    0.1s\n"
     ]
    },
    {
     "name": "stdout",
     "output_type": "stream",
     "text": [
      "done in 99.206s.\n"
     ]
    },
    {
     "name": "stderr",
     "output_type": "stream",
     "text": [
      "[Parallel(n_jobs=20)]: Done 410 tasks      | elapsed:    0.2s\n",
      "[Parallel(n_jobs=20)]: Done 760 tasks      | elapsed:    0.4s\n",
      "[Parallel(n_jobs=20)]: Done 1210 tasks      | elapsed:    0.6s\n",
      "[Parallel(n_jobs=20)]: Done 1760 tasks      | elapsed:    0.8s\n",
      "[Parallel(n_jobs=20)]: Done 2410 tasks      | elapsed:    1.1s\n",
      "[Parallel(n_jobs=20)]: Done 3160 tasks      | elapsed:    1.4s\n",
      "[Parallel(n_jobs=20)]: Done 4010 tasks      | elapsed:    1.8s\n",
      "[Parallel(n_jobs=20)]: Done 4960 tasks      | elapsed:    2.2s\n",
      "[Parallel(n_jobs=20)]: Done 5000 out of 5000 | elapsed:    2.2s finished\n"
     ]
    },
    {
     "name": "stdout",
     "output_type": "stream",
     "text": [
      "accuracy：0.74573\n",
      "precision_avg: 0.79793\n",
      "recall_avg: 0.74573\n",
      "f1_score_avg: 0.76515\n",
      "n_estimator = 5000\n",
      "max_depth = 20\n",
      "min_samples_split = 10\n",
      "min_samples_leaf = 20\n"
     ]
    },
    {
     "name": "stderr",
     "output_type": "stream",
     "text": [
      "[Parallel(n_jobs=-1)]: Using backend ThreadingBackend with 20 concurrent workers.\n",
      "[Parallel(n_jobs=-1)]: Done  10 tasks      | elapsed:    0.4s\n",
      "[Parallel(n_jobs=-1)]: Done 160 tasks      | elapsed:    3.1s\n",
      "[Parallel(n_jobs=-1)]: Done 410 tasks      | elapsed:    7.4s\n",
      "[Parallel(n_jobs=-1)]: Done 760 tasks      | elapsed:   13.5s\n",
      "[Parallel(n_jobs=-1)]: Done 1210 tasks      | elapsed:   21.4s\n",
      "[Parallel(n_jobs=-1)]: Done 1760 tasks      | elapsed:   30.9s\n",
      "[Parallel(n_jobs=-1)]: Done 2410 tasks      | elapsed:   42.3s\n",
      "[Parallel(n_jobs=-1)]: Done 3160 tasks      | elapsed:   55.2s\n",
      "[Parallel(n_jobs=-1)]: Done 4010 tasks      | elapsed:  1.2min\n",
      "[Parallel(n_jobs=-1)]: Done 4960 tasks      | elapsed:  1.4min\n",
      "[Parallel(n_jobs=-1)]: Done 5000 out of 5000 | elapsed:  1.5min finished\n",
      "[Parallel(n_jobs=20)]: Using backend ThreadingBackend with 20 concurrent workers.\n",
      "[Parallel(n_jobs=20)]: Done  10 tasks      | elapsed:    0.0s\n",
      "[Parallel(n_jobs=20)]: Done 160 tasks      | elapsed:    0.1s\n"
     ]
    },
    {
     "name": "stdout",
     "output_type": "stream",
     "text": [
      "done in 89.407s.\n"
     ]
    },
    {
     "name": "stderr",
     "output_type": "stream",
     "text": [
      "[Parallel(n_jobs=20)]: Done 410 tasks      | elapsed:    0.2s\n",
      "[Parallel(n_jobs=20)]: Done 760 tasks      | elapsed:    0.4s\n",
      "[Parallel(n_jobs=20)]: Done 1210 tasks      | elapsed:    0.5s\n",
      "[Parallel(n_jobs=20)]: Done 1760 tasks      | elapsed:    0.8s\n",
      "[Parallel(n_jobs=20)]: Done 2410 tasks      | elapsed:    1.1s\n",
      "[Parallel(n_jobs=20)]: Done 3160 tasks      | elapsed:    1.4s\n",
      "[Parallel(n_jobs=20)]: Done 4010 tasks      | elapsed:    1.7s\n",
      "[Parallel(n_jobs=20)]: Done 4960 tasks      | elapsed:    2.2s\n",
      "[Parallel(n_jobs=20)]: Done 5000 out of 5000 | elapsed:    2.2s finished\n"
     ]
    },
    {
     "name": "stdout",
     "output_type": "stream",
     "text": [
      "accuracy：0.73840\n",
      "precision_avg: 0.80162\n",
      "recall_avg: 0.73840\n",
      "f1_score_avg: 0.76180\n",
      "n_estimator = 5000\n",
      "max_depth = 20\n",
      "min_samples_split = 10\n",
      "min_samples_leaf = 50\n"
     ]
    },
    {
     "name": "stderr",
     "output_type": "stream",
     "text": [
      "[Parallel(n_jobs=-1)]: Using backend ThreadingBackend with 20 concurrent workers.\n",
      "[Parallel(n_jobs=-1)]: Done  10 tasks      | elapsed:    0.4s\n",
      "[Parallel(n_jobs=-1)]: Done 160 tasks      | elapsed:    2.7s\n",
      "[Parallel(n_jobs=-1)]: Done 410 tasks      | elapsed:    6.4s\n",
      "[Parallel(n_jobs=-1)]: Done 760 tasks      | elapsed:   11.6s\n",
      "[Parallel(n_jobs=-1)]: Done 1210 tasks      | elapsed:   18.2s\n",
      "[Parallel(n_jobs=-1)]: Done 1760 tasks      | elapsed:   26.1s\n",
      "[Parallel(n_jobs=-1)]: Done 2410 tasks      | elapsed:   35.6s\n",
      "[Parallel(n_jobs=-1)]: Done 3160 tasks      | elapsed:   46.6s\n",
      "[Parallel(n_jobs=-1)]: Done 4010 tasks      | elapsed:   58.8s\n",
      "[Parallel(n_jobs=-1)]: Done 4960 tasks      | elapsed:  1.2min\n",
      "[Parallel(n_jobs=-1)]: Done 5000 out of 5000 | elapsed:  1.2min finished\n",
      "[Parallel(n_jobs=20)]: Using backend ThreadingBackend with 20 concurrent workers.\n",
      "[Parallel(n_jobs=20)]: Done  10 tasks      | elapsed:    0.0s\n",
      "[Parallel(n_jobs=20)]: Done 160 tasks      | elapsed:    0.1s\n",
      "[Parallel(n_jobs=20)]: Done 410 tasks      | elapsed:    0.2s\n"
     ]
    },
    {
     "name": "stdout",
     "output_type": "stream",
     "text": [
      "done in 75.382s.\n"
     ]
    },
    {
     "name": "stderr",
     "output_type": "stream",
     "text": [
      "[Parallel(n_jobs=20)]: Done 760 tasks      | elapsed:    0.3s\n",
      "[Parallel(n_jobs=20)]: Done 1210 tasks      | elapsed:    0.5s\n",
      "[Parallel(n_jobs=20)]: Done 1760 tasks      | elapsed:    0.7s\n",
      "[Parallel(n_jobs=20)]: Done 2410 tasks      | elapsed:    1.0s\n",
      "[Parallel(n_jobs=20)]: Done 3160 tasks      | elapsed:    1.3s\n",
      "[Parallel(n_jobs=20)]: Done 4010 tasks      | elapsed:    1.7s\n",
      "[Parallel(n_jobs=20)]: Done 4960 tasks      | elapsed:    2.1s\n",
      "[Parallel(n_jobs=20)]: Done 5000 out of 5000 | elapsed:    2.1s finished\n"
     ]
    },
    {
     "name": "stdout",
     "output_type": "stream",
     "text": [
      "accuracy：0.72607\n",
      "precision_avg: 0.80348\n",
      "recall_avg: 0.72607\n",
      "f1_score_avg: 0.75427\n",
      "n_estimator = 5000\n",
      "max_depth = 20\n",
      "min_samples_split = 50\n",
      "min_samples_leaf = 1\n"
     ]
    },
    {
     "name": "stderr",
     "output_type": "stream",
     "text": [
      "[Parallel(n_jobs=-1)]: Using backend ThreadingBackend with 20 concurrent workers.\n",
      "[Parallel(n_jobs=-1)]: Done  10 tasks      | elapsed:    0.5s\n",
      "[Parallel(n_jobs=-1)]: Done 160 tasks      | elapsed:    3.7s\n",
      "[Parallel(n_jobs=-1)]: Done 410 tasks      | elapsed:    8.7s\n",
      "[Parallel(n_jobs=-1)]: Done 760 tasks      | elapsed:   15.6s\n",
      "[Parallel(n_jobs=-1)]: Done 1210 tasks      | elapsed:   24.7s\n",
      "[Parallel(n_jobs=-1)]: Done 1760 tasks      | elapsed:   35.7s\n",
      "[Parallel(n_jobs=-1)]: Done 2410 tasks      | elapsed:   48.9s\n",
      "[Parallel(n_jobs=-1)]: Done 3160 tasks      | elapsed:  1.1min\n",
      "[Parallel(n_jobs=-1)]: Done 4010 tasks      | elapsed:  1.4min\n",
      "[Parallel(n_jobs=-1)]: Done 4960 tasks      | elapsed:  1.7min\n",
      "[Parallel(n_jobs=-1)]: Done 5000 out of 5000 | elapsed:  1.7min finished\n",
      "[Parallel(n_jobs=20)]: Using backend ThreadingBackend with 20 concurrent workers.\n",
      "[Parallel(n_jobs=20)]: Done  10 tasks      | elapsed:    0.0s\n",
      "[Parallel(n_jobs=20)]: Done 160 tasks      | elapsed:    0.1s\n"
     ]
    },
    {
     "name": "stdout",
     "output_type": "stream",
     "text": [
      "done in 102.996s.\n"
     ]
    },
    {
     "name": "stderr",
     "output_type": "stream",
     "text": [
      "[Parallel(n_jobs=20)]: Done 410 tasks      | elapsed:    0.2s\n",
      "[Parallel(n_jobs=20)]: Done 760 tasks      | elapsed:    0.3s\n",
      "[Parallel(n_jobs=20)]: Done 1210 tasks      | elapsed:    0.5s\n",
      "[Parallel(n_jobs=20)]: Done 1760 tasks      | elapsed:    0.7s\n",
      "[Parallel(n_jobs=20)]: Done 2410 tasks      | elapsed:    1.0s\n",
      "[Parallel(n_jobs=20)]: Done 3160 tasks      | elapsed:    1.3s\n",
      "[Parallel(n_jobs=20)]: Done 4010 tasks      | elapsed:    1.7s\n",
      "[Parallel(n_jobs=20)]: Done 4960 tasks      | elapsed:    2.1s\n",
      "[Parallel(n_jobs=20)]: Done 5000 out of 5000 | elapsed:    2.1s finished\n"
     ]
    },
    {
     "name": "stdout",
     "output_type": "stream",
     "text": [
      "accuracy：0.75287\n",
      "precision_avg: 0.79283\n",
      "recall_avg: 0.75287\n",
      "f1_score_avg: 0.76768\n",
      "n_estimator = 5000\n",
      "max_depth = 20\n",
      "min_samples_split = 50\n",
      "min_samples_leaf = 5\n"
     ]
    },
    {
     "name": "stderr",
     "output_type": "stream",
     "text": [
      "[Parallel(n_jobs=-1)]: Using backend ThreadingBackend with 20 concurrent workers.\n",
      "[Parallel(n_jobs=-1)]: Done  10 tasks      | elapsed:    0.5s\n",
      "[Parallel(n_jobs=-1)]: Done 160 tasks      | elapsed:    3.5s\n",
      "[Parallel(n_jobs=-1)]: Done 410 tasks      | elapsed:    8.4s\n",
      "[Parallel(n_jobs=-1)]: Done 760 tasks      | elapsed:   15.2s\n",
      "[Parallel(n_jobs=-1)]: Done 1210 tasks      | elapsed:   23.9s\n",
      "[Parallel(n_jobs=-1)]: Done 1760 tasks      | elapsed:   34.3s\n",
      "[Parallel(n_jobs=-1)]: Done 2410 tasks      | elapsed:   46.9s\n",
      "[Parallel(n_jobs=-1)]: Done 3160 tasks      | elapsed:  1.0min\n",
      "[Parallel(n_jobs=-1)]: Done 4010 tasks      | elapsed:  1.3min\n",
      "[Parallel(n_jobs=-1)]: Done 4960 tasks      | elapsed:  1.6min\n",
      "[Parallel(n_jobs=-1)]: Done 5000 out of 5000 | elapsed:  1.6min finished\n",
      "[Parallel(n_jobs=20)]: Using backend ThreadingBackend with 20 concurrent workers.\n",
      "[Parallel(n_jobs=20)]: Done  10 tasks      | elapsed:    0.0s\n",
      "[Parallel(n_jobs=20)]: Done 160 tasks      | elapsed:    0.1s\n"
     ]
    },
    {
     "name": "stdout",
     "output_type": "stream",
     "text": [
      "done in 98.739s.\n"
     ]
    },
    {
     "name": "stderr",
     "output_type": "stream",
     "text": [
      "[Parallel(n_jobs=20)]: Done 410 tasks      | elapsed:    0.2s\n",
      "[Parallel(n_jobs=20)]: Done 760 tasks      | elapsed:    0.3s\n",
      "[Parallel(n_jobs=20)]: Done 1210 tasks      | elapsed:    0.5s\n",
      "[Parallel(n_jobs=20)]: Done 1760 tasks      | elapsed:    0.8s\n",
      "[Parallel(n_jobs=20)]: Done 2410 tasks      | elapsed:    1.1s\n",
      "[Parallel(n_jobs=20)]: Done 3160 tasks      | elapsed:    1.4s\n",
      "[Parallel(n_jobs=20)]: Done 4010 tasks      | elapsed:    1.8s\n",
      "[Parallel(n_jobs=20)]: Done 4960 tasks      | elapsed:    2.2s\n",
      "[Parallel(n_jobs=20)]: Done 5000 out of 5000 | elapsed:    2.2s finished\n"
     ]
    },
    {
     "name": "stdout",
     "output_type": "stream",
     "text": [
      "accuracy：0.75000\n",
      "precision_avg: 0.79594\n",
      "recall_avg: 0.75000\n",
      "f1_score_avg: 0.76711\n",
      "n_estimator = 5000\n",
      "max_depth = 20\n",
      "min_samples_split = 50\n",
      "min_samples_leaf = 10\n"
     ]
    },
    {
     "name": "stderr",
     "output_type": "stream",
     "text": [
      "[Parallel(n_jobs=-1)]: Using backend ThreadingBackend with 20 concurrent workers.\n",
      "[Parallel(n_jobs=-1)]: Done  10 tasks      | elapsed:    0.5s\n",
      "[Parallel(n_jobs=-1)]: Done 160 tasks      | elapsed:    3.4s\n",
      "[Parallel(n_jobs=-1)]: Done 410 tasks      | elapsed:    8.0s\n",
      "[Parallel(n_jobs=-1)]: Done 760 tasks      | elapsed:   14.5s\n",
      "[Parallel(n_jobs=-1)]: Done 1210 tasks      | elapsed:   22.8s\n",
      "[Parallel(n_jobs=-1)]: Done 1760 tasks      | elapsed:   32.8s\n",
      "[Parallel(n_jobs=-1)]: Done 2410 tasks      | elapsed:   44.7s\n",
      "[Parallel(n_jobs=-1)]: Done 3160 tasks      | elapsed:   58.4s\n",
      "[Parallel(n_jobs=-1)]: Done 4010 tasks      | elapsed:  1.2min\n",
      "[Parallel(n_jobs=-1)]: Done 4960 tasks      | elapsed:  1.5min\n",
      "[Parallel(n_jobs=-1)]: Done 5000 out of 5000 | elapsed:  1.5min finished\n",
      "[Parallel(n_jobs=20)]: Using backend ThreadingBackend with 20 concurrent workers.\n",
      "[Parallel(n_jobs=20)]: Done  10 tasks      | elapsed:    0.0s\n",
      "[Parallel(n_jobs=20)]: Done 160 tasks      | elapsed:    0.1s\n"
     ]
    },
    {
     "name": "stdout",
     "output_type": "stream",
     "text": [
      "done in 94.275s.\n"
     ]
    },
    {
     "name": "stderr",
     "output_type": "stream",
     "text": [
      "[Parallel(n_jobs=20)]: Done 410 tasks      | elapsed:    0.2s\n",
      "[Parallel(n_jobs=20)]: Done 760 tasks      | elapsed:    0.3s\n",
      "[Parallel(n_jobs=20)]: Done 1210 tasks      | elapsed:    0.5s\n",
      "[Parallel(n_jobs=20)]: Done 1760 tasks      | elapsed:    0.7s\n",
      "[Parallel(n_jobs=20)]: Done 2410 tasks      | elapsed:    1.0s\n",
      "[Parallel(n_jobs=20)]: Done 3160 tasks      | elapsed:    1.3s\n",
      "[Parallel(n_jobs=20)]: Done 4010 tasks      | elapsed:    1.7s\n",
      "[Parallel(n_jobs=20)]: Done 4960 tasks      | elapsed:    2.1s\n",
      "[Parallel(n_jobs=20)]: Done 5000 out of 5000 | elapsed:    2.1s finished\n"
     ]
    },
    {
     "name": "stdout",
     "output_type": "stream",
     "text": [
      "accuracy：0.74487\n",
      "precision_avg: 0.79866\n",
      "recall_avg: 0.74487\n",
      "f1_score_avg: 0.76492\n",
      "n_estimator = 5000\n",
      "max_depth = 20\n",
      "min_samples_split = 50\n",
      "min_samples_leaf = 20\n"
     ]
    },
    {
     "name": "stderr",
     "output_type": "stream",
     "text": [
      "[Parallel(n_jobs=-1)]: Using backend ThreadingBackend with 20 concurrent workers.\n",
      "[Parallel(n_jobs=-1)]: Done  10 tasks      | elapsed:    0.4s\n",
      "[Parallel(n_jobs=-1)]: Done 160 tasks      | elapsed:    3.0s\n",
      "[Parallel(n_jobs=-1)]: Done 410 tasks      | elapsed:    7.3s\n",
      "[Parallel(n_jobs=-1)]: Done 760 tasks      | elapsed:   13.3s\n",
      "[Parallel(n_jobs=-1)]: Done 1210 tasks      | elapsed:   21.0s\n",
      "[Parallel(n_jobs=-1)]: Done 1760 tasks      | elapsed:   30.5s\n",
      "[Parallel(n_jobs=-1)]: Done 2410 tasks      | elapsed:   41.7s\n",
      "[Parallel(n_jobs=-1)]: Done 3160 tasks      | elapsed:   54.6s\n",
      "[Parallel(n_jobs=-1)]: Done 4010 tasks      | elapsed:  1.2min\n",
      "[Parallel(n_jobs=-1)]: Done 4960 tasks      | elapsed:  1.4min\n",
      "[Parallel(n_jobs=-1)]: Done 5000 out of 5000 | elapsed:  1.4min finished\n",
      "[Parallel(n_jobs=20)]: Using backend ThreadingBackend with 20 concurrent workers.\n",
      "[Parallel(n_jobs=20)]: Done  10 tasks      | elapsed:    0.0s\n",
      "[Parallel(n_jobs=20)]: Done 160 tasks      | elapsed:    0.1s\n"
     ]
    },
    {
     "name": "stdout",
     "output_type": "stream",
     "text": [
      "done in 88.211s.\n"
     ]
    },
    {
     "name": "stderr",
     "output_type": "stream",
     "text": [
      "[Parallel(n_jobs=20)]: Done 410 tasks      | elapsed:    0.2s\n",
      "[Parallel(n_jobs=20)]: Done 760 tasks      | elapsed:    0.3s\n",
      "[Parallel(n_jobs=20)]: Done 1210 tasks      | elapsed:    0.5s\n",
      "[Parallel(n_jobs=20)]: Done 1760 tasks      | elapsed:    0.7s\n",
      "[Parallel(n_jobs=20)]: Done 2410 tasks      | elapsed:    1.0s\n",
      "[Parallel(n_jobs=20)]: Done 3160 tasks      | elapsed:    1.3s\n",
      "[Parallel(n_jobs=20)]: Done 4010 tasks      | elapsed:    1.7s\n",
      "[Parallel(n_jobs=20)]: Done 4960 tasks      | elapsed:    2.1s\n",
      "[Parallel(n_jobs=20)]: Done 5000 out of 5000 | elapsed:    2.1s finished\n"
     ]
    },
    {
     "name": "stdout",
     "output_type": "stream",
     "text": [
      "accuracy：0.73793\n",
      "precision_avg: 0.80144\n",
      "recall_avg: 0.73793\n",
      "f1_score_avg: 0.76149\n",
      "n_estimator = 5000\n",
      "max_depth = 20\n",
      "min_samples_split = 50\n",
      "min_samples_leaf = 50\n"
     ]
    },
    {
     "name": "stderr",
     "output_type": "stream",
     "text": [
      "[Parallel(n_jobs=-1)]: Using backend ThreadingBackend with 20 concurrent workers.\n",
      "[Parallel(n_jobs=-1)]: Done  10 tasks      | elapsed:    0.4s\n",
      "[Parallel(n_jobs=-1)]: Done 160 tasks      | elapsed:    2.6s\n",
      "[Parallel(n_jobs=-1)]: Done 410 tasks      | elapsed:    6.2s\n",
      "[Parallel(n_jobs=-1)]: Done 760 tasks      | elapsed:   11.3s\n",
      "[Parallel(n_jobs=-1)]: Done 1210 tasks      | elapsed:   17.9s\n",
      "[Parallel(n_jobs=-1)]: Done 1760 tasks      | elapsed:   25.8s\n",
      "[Parallel(n_jobs=-1)]: Done 2410 tasks      | elapsed:   35.3s\n",
      "[Parallel(n_jobs=-1)]: Done 3160 tasks      | elapsed:   46.2s\n",
      "[Parallel(n_jobs=-1)]: Done 4010 tasks      | elapsed:   58.6s\n",
      "[Parallel(n_jobs=-1)]: Done 4960 tasks      | elapsed:  1.2min\n",
      "[Parallel(n_jobs=-1)]: Done 5000 out of 5000 | elapsed:  1.2min finished\n",
      "[Parallel(n_jobs=20)]: Using backend ThreadingBackend with 20 concurrent workers.\n",
      "[Parallel(n_jobs=20)]: Done  10 tasks      | elapsed:    0.0s\n",
      "[Parallel(n_jobs=20)]: Done 160 tasks      | elapsed:    0.1s\n"
     ]
    },
    {
     "name": "stdout",
     "output_type": "stream",
     "text": [
      "done in 75.116s.\n"
     ]
    },
    {
     "name": "stderr",
     "output_type": "stream",
     "text": [
      "[Parallel(n_jobs=20)]: Done 410 tasks      | elapsed:    0.2s\n",
      "[Parallel(n_jobs=20)]: Done 760 tasks      | elapsed:    0.3s\n",
      "[Parallel(n_jobs=20)]: Done 1210 tasks      | elapsed:    0.5s\n",
      "[Parallel(n_jobs=20)]: Done 1760 tasks      | elapsed:    0.7s\n",
      "[Parallel(n_jobs=20)]: Done 2410 tasks      | elapsed:    1.0s\n",
      "[Parallel(n_jobs=20)]: Done 3160 tasks      | elapsed:    1.3s\n",
      "[Parallel(n_jobs=20)]: Done 4010 tasks      | elapsed:    1.7s\n",
      "[Parallel(n_jobs=20)]: Done 4960 tasks      | elapsed:    2.1s\n",
      "[Parallel(n_jobs=20)]: Done 5000 out of 5000 | elapsed:    2.1s finished\n"
     ]
    },
    {
     "name": "stdout",
     "output_type": "stream",
     "text": [
      "accuracy：0.72607\n",
      "precision_avg: 0.80348\n",
      "recall_avg: 0.72607\n",
      "f1_score_avg: 0.75427\n",
      "n_estimator = 5000\n",
      "max_depth = 50\n",
      "min_samples_split = 2\n",
      "min_samples_leaf = 1\n"
     ]
    },
    {
     "name": "stderr",
     "output_type": "stream",
     "text": [
      "[Parallel(n_jobs=-1)]: Using backend ThreadingBackend with 20 concurrent workers.\n",
      "[Parallel(n_jobs=-1)]: Done  10 tasks      | elapsed:    2.5s\n",
      "[Parallel(n_jobs=-1)]: Done 160 tasks      | elapsed:   21.0s\n",
      "[Parallel(n_jobs=-1)]: Done 410 tasks      | elapsed:   51.2s\n",
      "[Parallel(n_jobs=-1)]: Done 760 tasks      | elapsed:  1.6min\n",
      "[Parallel(n_jobs=-1)]: Done 1210 tasks      | elapsed:  2.5min\n",
      "[Parallel(n_jobs=-1)]: Done 1760 tasks      | elapsed:  3.6min\n",
      "[Parallel(n_jobs=-1)]: Done 2410 tasks      | elapsed:  5.0min\n",
      "[Parallel(n_jobs=-1)]: Done 3160 tasks      | elapsed:  6.5min\n",
      "[Parallel(n_jobs=-1)]: Done 4010 tasks      | elapsed:  8.2min\n",
      "[Parallel(n_jobs=-1)]: Done 4960 tasks      | elapsed: 10.1min\n",
      "[Parallel(n_jobs=-1)]: Done 5000 out of 5000 | elapsed: 10.2min finished\n",
      "[Parallel(n_jobs=20)]: Using backend ThreadingBackend with 20 concurrent workers.\n",
      "[Parallel(n_jobs=20)]: Done  10 tasks      | elapsed:    0.0s\n",
      "[Parallel(n_jobs=20)]: Done 160 tasks      | elapsed:    0.1s\n"
     ]
    },
    {
     "name": "stdout",
     "output_type": "stream",
     "text": [
      "done in 613.520s.\n"
     ]
    },
    {
     "name": "stderr",
     "output_type": "stream",
     "text": [
      "[Parallel(n_jobs=20)]: Done 410 tasks      | elapsed:    0.2s\n",
      "[Parallel(n_jobs=20)]: Done 760 tasks      | elapsed:    0.4s\n",
      "[Parallel(n_jobs=20)]: Done 1210 tasks      | elapsed:    0.6s\n",
      "[Parallel(n_jobs=20)]: Done 1760 tasks      | elapsed:    0.9s\n",
      "[Parallel(n_jobs=20)]: Done 2410 tasks      | elapsed:    1.3s\n",
      "[Parallel(n_jobs=20)]: Done 3160 tasks      | elapsed:    1.8s\n",
      "[Parallel(n_jobs=20)]: Done 4010 tasks      | elapsed:    2.2s\n",
      "[Parallel(n_jobs=20)]: Done 4960 tasks      | elapsed:    2.7s\n",
      "[Parallel(n_jobs=20)]: Done 5000 out of 5000 | elapsed:    2.7s finished\n"
     ]
    },
    {
     "name": "stdout",
     "output_type": "stream",
     "text": [
      "accuracy：0.80080\n",
      "precision_avg: 0.77542\n",
      "recall_avg: 0.80080\n",
      "f1_score_avg: 0.77747\n",
      "n_estimator = 5000\n",
      "max_depth = 50\n",
      "min_samples_split = 2\n",
      "min_samples_leaf = 5\n"
     ]
    },
    {
     "name": "stderr",
     "output_type": "stream",
     "text": [
      "[Parallel(n_jobs=-1)]: Using backend ThreadingBackend with 20 concurrent workers.\n",
      "[Parallel(n_jobs=-1)]: Done  10 tasks      | elapsed:    1.6s\n",
      "[Parallel(n_jobs=-1)]: Done 160 tasks      | elapsed:   13.5s\n",
      "[Parallel(n_jobs=-1)]: Done 410 tasks      | elapsed:   33.6s\n",
      "[Parallel(n_jobs=-1)]: Done 760 tasks      | elapsed:  1.0min\n",
      "[Parallel(n_jobs=-1)]: Done 1210 tasks      | elapsed:  1.6min\n",
      "[Parallel(n_jobs=-1)]: Done 1760 tasks      | elapsed:  2.3min\n",
      "[Parallel(n_jobs=-1)]: Done 2410 tasks      | elapsed:  3.2min\n",
      "[Parallel(n_jobs=-1)]: Done 3160 tasks      | elapsed:  4.2min\n",
      "[Parallel(n_jobs=-1)]: Done 4010 tasks      | elapsed:  5.4min\n",
      "[Parallel(n_jobs=-1)]: Done 4960 tasks      | elapsed:  6.7min\n",
      "[Parallel(n_jobs=-1)]: Done 5000 out of 5000 | elapsed:  6.7min finished\n"
     ]
    },
    {
     "name": "stdout",
     "output_type": "stream",
     "text": [
      "done in 405.280s.\n"
     ]
    },
    {
     "name": "stderr",
     "output_type": "stream",
     "text": [
      "[Parallel(n_jobs=20)]: Using backend ThreadingBackend with 20 concurrent workers.\n",
      "[Parallel(n_jobs=20)]: Done  10 tasks      | elapsed:    0.0s\n",
      "[Parallel(n_jobs=20)]: Done 160 tasks      | elapsed:    0.1s\n",
      "[Parallel(n_jobs=20)]: Done 410 tasks      | elapsed:    0.2s\n",
      "[Parallel(n_jobs=20)]: Done 760 tasks      | elapsed:    0.4s\n",
      "[Parallel(n_jobs=20)]: Done 1210 tasks      | elapsed:    0.6s\n",
      "[Parallel(n_jobs=20)]: Done 1760 tasks      | elapsed:    0.8s\n",
      "[Parallel(n_jobs=20)]: Done 2410 tasks      | elapsed:    1.1s\n",
      "[Parallel(n_jobs=20)]: Done 3160 tasks      | elapsed:    1.5s\n",
      "[Parallel(n_jobs=20)]: Done 4010 tasks      | elapsed:    1.8s\n",
      "[Parallel(n_jobs=20)]: Done 4960 tasks      | elapsed:    2.2s\n",
      "[Parallel(n_jobs=20)]: Done 5000 out of 5000 | elapsed:    2.3s finished\n"
     ]
    },
    {
     "name": "stdout",
     "output_type": "stream",
     "text": [
      "accuracy：0.78627\n",
      "precision_avg: 0.78041\n",
      "recall_avg: 0.78627\n",
      "f1_score_avg: 0.77857\n",
      "n_estimator = 5000\n",
      "max_depth = 50\n",
      "min_samples_split = 2\n",
      "min_samples_leaf = 10\n"
     ]
    },
    {
     "name": "stderr",
     "output_type": "stream",
     "text": [
      "[Parallel(n_jobs=-1)]: Using backend ThreadingBackend with 20 concurrent workers.\n",
      "[Parallel(n_jobs=-1)]: Done  10 tasks      | elapsed:    1.3s\n",
      "[Parallel(n_jobs=-1)]: Done 160 tasks      | elapsed:   10.5s\n",
      "[Parallel(n_jobs=-1)]: Done 410 tasks      | elapsed:   26.5s\n",
      "[Parallel(n_jobs=-1)]: Done 760 tasks      | elapsed:   48.3s\n",
      "[Parallel(n_jobs=-1)]: Done 1210 tasks      | elapsed:  1.3min\n",
      "[Parallel(n_jobs=-1)]: Done 1760 tasks      | elapsed:  1.8min\n",
      "[Parallel(n_jobs=-1)]: Done 2410 tasks      | elapsed:  2.5min\n",
      "[Parallel(n_jobs=-1)]: Done 3160 tasks      | elapsed:  3.3min\n",
      "[Parallel(n_jobs=-1)]: Done 4010 tasks      | elapsed:  4.2min\n",
      "[Parallel(n_jobs=-1)]: Done 4960 tasks      | elapsed:  5.2min\n",
      "[Parallel(n_jobs=-1)]: Done 5000 out of 5000 | elapsed:  5.2min finished\n",
      "[Parallel(n_jobs=20)]: Using backend ThreadingBackend with 20 concurrent workers.\n",
      "[Parallel(n_jobs=20)]: Done  10 tasks      | elapsed:    0.0s\n",
      "[Parallel(n_jobs=20)]: Done 160 tasks      | elapsed:    0.1s\n"
     ]
    },
    {
     "name": "stdout",
     "output_type": "stream",
     "text": [
      "done in 314.718s.\n"
     ]
    },
    {
     "name": "stderr",
     "output_type": "stream",
     "text": [
      "[Parallel(n_jobs=20)]: Done 410 tasks      | elapsed:    0.2s\n",
      "[Parallel(n_jobs=20)]: Done 760 tasks      | elapsed:    0.3s\n",
      "[Parallel(n_jobs=20)]: Done 1210 tasks      | elapsed:    0.6s\n",
      "[Parallel(n_jobs=20)]: Done 1760 tasks      | elapsed:    0.8s\n",
      "[Parallel(n_jobs=20)]: Done 2410 tasks      | elapsed:    1.1s\n",
      "[Parallel(n_jobs=20)]: Done 3160 tasks      | elapsed:    1.4s\n",
      "[Parallel(n_jobs=20)]: Done 4010 tasks      | elapsed:    1.8s\n"
     ]
    },
    {
     "ename": "KeyboardInterrupt",
     "evalue": "",
     "output_type": "error",
     "traceback": [
      "\u001b[0;31m---------------------------------------------------------------------------\u001b[0m",
      "\u001b[0;31mKeyboardInterrupt\u001b[0m                         Traceback (most recent call last)",
      "\u001b[0;32m<ipython-input-11-86b509e1c2c0>\u001b[0m in \u001b[0;36m<module>\u001b[0;34m\u001b[0m\n\u001b[1;32m     23\u001b[0m                 \u001b[0mclf\u001b[0m\u001b[0;34m.\u001b[0m\u001b[0mfit\u001b[0m\u001b[0;34m(\u001b[0m\u001b[0mtrain_x\u001b[0m\u001b[0;34m,\u001b[0m \u001b[0mtrain_y\u001b[0m\u001b[0;34m)\u001b[0m\u001b[0;34m\u001b[0m\u001b[0;34m\u001b[0m\u001b[0m\n\u001b[1;32m     24\u001b[0m                 \u001b[0mprint\u001b[0m\u001b[0;34m(\u001b[0m\u001b[0;34m\"done in %0.3fs.\"\u001b[0m \u001b[0;34m%\u001b[0m \u001b[0;34m(\u001b[0m\u001b[0mtime\u001b[0m\u001b[0;34m(\u001b[0m\u001b[0;34m)\u001b[0m \u001b[0;34m-\u001b[0m \u001b[0mt0\u001b[0m\u001b[0;34m)\u001b[0m\u001b[0;34m)\u001b[0m\u001b[0;34m\u001b[0m\u001b[0;34m\u001b[0m\u001b[0m\n\u001b[0;32m---> 25\u001b[0;31m                 \u001b[0mpredict_y\u001b[0m \u001b[0;34m=\u001b[0m \u001b[0mclf\u001b[0m\u001b[0;34m.\u001b[0m\u001b[0mpredict\u001b[0m\u001b[0;34m(\u001b[0m\u001b[0mvalid_x\u001b[0m\u001b[0;34m)\u001b[0m\u001b[0;34m\u001b[0m\u001b[0;34m\u001b[0m\u001b[0m\n\u001b[0m\u001b[1;32m     26\u001b[0m                 \u001b[0;31m# predict_prob_y = clf.predict_proba(valid_x)\u001b[0m\u001b[0;34m\u001b[0m\u001b[0;34m\u001b[0m\u001b[0;34m\u001b[0m\u001b[0m\n\u001b[1;32m     27\u001b[0m                 \u001b[0;31m# 评价指标值\u001b[0m\u001b[0;34m\u001b[0m\u001b[0;34m\u001b[0m\u001b[0;34m\u001b[0m\u001b[0m\n",
      "\u001b[0;32m/usr/local/lib/python3.6/dist-packages/sklearn/ensemble/_forest.py\u001b[0m in \u001b[0;36mpredict\u001b[0;34m(self, X)\u001b[0m\n\u001b[1;32m    627\u001b[0m             \u001b[0mThe\u001b[0m \u001b[0mpredicted\u001b[0m \u001b[0mclasses\u001b[0m\u001b[0;34m.\u001b[0m\u001b[0;34m\u001b[0m\u001b[0;34m\u001b[0m\u001b[0m\n\u001b[1;32m    628\u001b[0m         \"\"\"\n\u001b[0;32m--> 629\u001b[0;31m         \u001b[0mproba\u001b[0m \u001b[0;34m=\u001b[0m \u001b[0mself\u001b[0m\u001b[0;34m.\u001b[0m\u001b[0mpredict_proba\u001b[0m\u001b[0;34m(\u001b[0m\u001b[0mX\u001b[0m\u001b[0;34m)\u001b[0m\u001b[0;34m\u001b[0m\u001b[0;34m\u001b[0m\u001b[0m\n\u001b[0m\u001b[1;32m    630\u001b[0m \u001b[0;34m\u001b[0m\u001b[0m\n\u001b[1;32m    631\u001b[0m         \u001b[0;32mif\u001b[0m \u001b[0mself\u001b[0m\u001b[0;34m.\u001b[0m\u001b[0mn_outputs_\u001b[0m \u001b[0;34m==\u001b[0m \u001b[0;36m1\u001b[0m\u001b[0;34m:\u001b[0m\u001b[0;34m\u001b[0m\u001b[0;34m\u001b[0m\u001b[0m\n",
      "\u001b[0;32m/usr/local/lib/python3.6/dist-packages/sklearn/ensemble/_forest.py\u001b[0m in \u001b[0;36mpredict_proba\u001b[0;34m(self, X)\u001b[0m\n\u001b[1;32m    684\u001b[0m             delayed(_accumulate_prediction)(e.predict_proba, X, all_proba,\n\u001b[1;32m    685\u001b[0m                                             lock)\n\u001b[0;32m--> 686\u001b[0;31m             for e in self.estimators_)\n\u001b[0m\u001b[1;32m    687\u001b[0m \u001b[0;34m\u001b[0m\u001b[0m\n\u001b[1;32m    688\u001b[0m         \u001b[0;32mfor\u001b[0m \u001b[0mproba\u001b[0m \u001b[0;32min\u001b[0m \u001b[0mall_proba\u001b[0m\u001b[0;34m:\u001b[0m\u001b[0;34m\u001b[0m\u001b[0;34m\u001b[0m\u001b[0m\n",
      "\u001b[0;32m/usr/local/lib/python3.6/dist-packages/joblib/parallel.py\u001b[0m in \u001b[0;36m__call__\u001b[0;34m(self, iterable)\u001b[0m\n\u001b[1;32m   1040\u001b[0m \u001b[0;34m\u001b[0m\u001b[0m\n\u001b[1;32m   1041\u001b[0m             \u001b[0;32mwith\u001b[0m \u001b[0mself\u001b[0m\u001b[0;34m.\u001b[0m\u001b[0m_backend\u001b[0m\u001b[0;34m.\u001b[0m\u001b[0mretrieval_context\u001b[0m\u001b[0;34m(\u001b[0m\u001b[0;34m)\u001b[0m\u001b[0;34m:\u001b[0m\u001b[0;34m\u001b[0m\u001b[0;34m\u001b[0m\u001b[0m\n\u001b[0;32m-> 1042\u001b[0;31m                 \u001b[0mself\u001b[0m\u001b[0;34m.\u001b[0m\u001b[0mretrieve\u001b[0m\u001b[0;34m(\u001b[0m\u001b[0;34m)\u001b[0m\u001b[0;34m\u001b[0m\u001b[0;34m\u001b[0m\u001b[0m\n\u001b[0m\u001b[1;32m   1043\u001b[0m             \u001b[0;31m# Make sure that we get a last message telling us we are done\u001b[0m\u001b[0;34m\u001b[0m\u001b[0;34m\u001b[0m\u001b[0;34m\u001b[0m\u001b[0m\n\u001b[1;32m   1044\u001b[0m             \u001b[0melapsed_time\u001b[0m \u001b[0;34m=\u001b[0m \u001b[0mtime\u001b[0m\u001b[0;34m.\u001b[0m\u001b[0mtime\u001b[0m\u001b[0;34m(\u001b[0m\u001b[0;34m)\u001b[0m \u001b[0;34m-\u001b[0m \u001b[0mself\u001b[0m\u001b[0;34m.\u001b[0m\u001b[0m_start_time\u001b[0m\u001b[0;34m\u001b[0m\u001b[0;34m\u001b[0m\u001b[0m\n",
      "\u001b[0;32m/usr/local/lib/python3.6/dist-packages/joblib/parallel.py\u001b[0m in \u001b[0;36mretrieve\u001b[0;34m(self)\u001b[0m\n\u001b[1;32m    919\u001b[0m             \u001b[0;32mtry\u001b[0m\u001b[0;34m:\u001b[0m\u001b[0;34m\u001b[0m\u001b[0;34m\u001b[0m\u001b[0m\n\u001b[1;32m    920\u001b[0m                 \u001b[0;32mif\u001b[0m \u001b[0mgetattr\u001b[0m\u001b[0;34m(\u001b[0m\u001b[0mself\u001b[0m\u001b[0;34m.\u001b[0m\u001b[0m_backend\u001b[0m\u001b[0;34m,\u001b[0m \u001b[0;34m'supports_timeout'\u001b[0m\u001b[0;34m,\u001b[0m \u001b[0;32mFalse\u001b[0m\u001b[0;34m)\u001b[0m\u001b[0;34m:\u001b[0m\u001b[0;34m\u001b[0m\u001b[0;34m\u001b[0m\u001b[0m\n\u001b[0;32m--> 921\u001b[0;31m                     \u001b[0mself\u001b[0m\u001b[0;34m.\u001b[0m\u001b[0m_output\u001b[0m\u001b[0;34m.\u001b[0m\u001b[0mextend\u001b[0m\u001b[0;34m(\u001b[0m\u001b[0mjob\u001b[0m\u001b[0;34m.\u001b[0m\u001b[0mget\u001b[0m\u001b[0;34m(\u001b[0m\u001b[0mtimeout\u001b[0m\u001b[0;34m=\u001b[0m\u001b[0mself\u001b[0m\u001b[0;34m.\u001b[0m\u001b[0mtimeout\u001b[0m\u001b[0;34m)\u001b[0m\u001b[0;34m)\u001b[0m\u001b[0;34m\u001b[0m\u001b[0;34m\u001b[0m\u001b[0m\n\u001b[0m\u001b[1;32m    922\u001b[0m                 \u001b[0;32melse\u001b[0m\u001b[0;34m:\u001b[0m\u001b[0;34m\u001b[0m\u001b[0;34m\u001b[0m\u001b[0m\n\u001b[1;32m    923\u001b[0m                     \u001b[0mself\u001b[0m\u001b[0;34m.\u001b[0m\u001b[0m_output\u001b[0m\u001b[0;34m.\u001b[0m\u001b[0mextend\u001b[0m\u001b[0;34m(\u001b[0m\u001b[0mjob\u001b[0m\u001b[0;34m.\u001b[0m\u001b[0mget\u001b[0m\u001b[0;34m(\u001b[0m\u001b[0;34m)\u001b[0m\u001b[0;34m)\u001b[0m\u001b[0;34m\u001b[0m\u001b[0;34m\u001b[0m\u001b[0m\n",
      "\u001b[0;32m/usr/lib/python3.6/multiprocessing/pool.py\u001b[0m in \u001b[0;36mget\u001b[0;34m(self, timeout)\u001b[0m\n\u001b[1;32m    640\u001b[0m             \u001b[0;32mraise\u001b[0m \u001b[0mTimeoutError\u001b[0m\u001b[0;34m\u001b[0m\u001b[0;34m\u001b[0m\u001b[0m\n\u001b[1;32m    641\u001b[0m         \u001b[0;32mif\u001b[0m \u001b[0mself\u001b[0m\u001b[0;34m.\u001b[0m\u001b[0m_success\u001b[0m\u001b[0;34m:\u001b[0m\u001b[0;34m\u001b[0m\u001b[0;34m\u001b[0m\u001b[0m\n\u001b[0;32m--> 642\u001b[0;31m             \u001b[0;32mreturn\u001b[0m \u001b[0mself\u001b[0m\u001b[0;34m.\u001b[0m\u001b[0m_value\u001b[0m\u001b[0;34m\u001b[0m\u001b[0;34m\u001b[0m\u001b[0m\n\u001b[0m\u001b[1;32m    643\u001b[0m         \u001b[0;32melse\u001b[0m\u001b[0;34m:\u001b[0m\u001b[0;34m\u001b[0m\u001b[0;34m\u001b[0m\u001b[0m\n\u001b[1;32m    644\u001b[0m             \u001b[0;32mraise\u001b[0m \u001b[0mself\u001b[0m\u001b[0;34m.\u001b[0m\u001b[0m_value\u001b[0m\u001b[0;34m\u001b[0m\u001b[0;34m\u001b[0m\u001b[0m\n",
      "\u001b[0;31mKeyboardInterrupt\u001b[0m: "
     ]
    }
   ],
   "source": [
    "for n_estimator in n_estimators_range:\n",
    "    for max_depth in max_depth_range:\n",
    "        for min_samples_split in min_samples_split_range:\n",
    "            for min_samples_leaf in min_samples_leaf_range:\n",
    "                print('n_estimator = %d' % n_estimator)\n",
    "                print('max_depth = %d' % max_depth)\n",
    "                print('min_samples_split = %d' % min_samples_split)\n",
    "                print('min_samples_leaf = %d' % min_samples_leaf)\n",
    "                clf = RandomForestClassifier(\n",
    "                                                n_estimators= n_estimator,\n",
    "                                                criterion='gini',\n",
    "                                                max_depth= max_depth,\n",
    "                                                min_samples_split = min_samples_split,\n",
    "                                                min_samples_leaf = min_samples_leaf,\n",
    "                                                max_features= 'sqrt',\n",
    "                                                bootstrap=True,\n",
    "                                                random_state= 2020,\n",
    "                                                verbose= 1,\n",
    "                                                class_weight= 'balanced',\n",
    "                                                n_jobs = -1\n",
    "                                            )\n",
    "                t0 = time()\n",
    "                clf.fit(train_x, train_y)\n",
    "                print(\"done in %0.3fs.\" % (time() - t0))\n",
    "                predict_y = clf.predict(valid_x)\n",
    "                # predict_prob_y = clf.predict_proba(valid_x)\n",
    "                # 评价指标值\n",
    "                accuracy, precision_avg, recall_avg, f1_score_avg = eval_p_r_f1(valid_y, predict_y)\n",
    "                print('accuracy：%0.5f' % accuracy)\n",
    "                print('precision_avg: %0.5f' % precision_avg)\n",
    "                print('recall_avg: %0.5f' % recall_avg)\n",
    "                print('f1_score_avg: %0.5f' % f1_score_avg)\n",
    "                \n",
    "                "
   ]
  },
  {
   "cell_type": "code",
   "execution_count": 11,
   "metadata": {
    "jupyter": {
     "source_hidden": true
    }
   },
   "outputs": [],
   "source": [
    "n_estimators_range = [5000, 10000]\n",
    "max_depth_range = [10,20,50]\n",
    "min_samples_split_range = [2, 10, 50]\n",
    "min_samples_leaf_range = [1, 5, 10, 20, 50]"
   ]
  },
  {
   "cell_type": "code",
   "execution_count": 12,
   "metadata": {
    "collapsed": true,
    "jupyter": {
     "outputs_hidden": true,
     "source_hidden": true
    }
   },
   "outputs": [
    {
     "name": "stdout",
     "output_type": "stream",
     "text": [
      "n_estimator = 5000\n",
      "max_depth = 10\n",
      "min_samples_split = 2\n",
      "min_samples_leaf = 1\n"
     ]
    },
    {
     "name": "stderr",
     "output_type": "stream",
     "text": [
      "[Parallel(n_jobs=-1)]: Using backend ThreadingBackend with 20 concurrent workers.\n",
      "[Parallel(n_jobs=-1)]: Done  10 tasks      | elapsed:    0.2s\n",
      "[Parallel(n_jobs=-1)]: Done 160 tasks      | elapsed:    1.5s\n",
      "[Parallel(n_jobs=-1)]: Done 410 tasks      | elapsed:    3.6s\n",
      "[Parallel(n_jobs=-1)]: Done 760 tasks      | elapsed:    6.6s\n",
      "[Parallel(n_jobs=-1)]: Done 1210 tasks      | elapsed:   10.3s\n",
      "[Parallel(n_jobs=-1)]: Done 1760 tasks      | elapsed:   14.8s\n",
      "[Parallel(n_jobs=-1)]: Done 2410 tasks      | elapsed:   20.2s\n",
      "[Parallel(n_jobs=-1)]: Done 3160 tasks      | elapsed:   26.3s\n",
      "[Parallel(n_jobs=-1)]: Done 4010 tasks      | elapsed:   33.3s\n",
      "[Parallel(n_jobs=-1)]: Done 4960 tasks      | elapsed:   41.1s\n",
      "[Parallel(n_jobs=-1)]: Done 5000 out of 5000 | elapsed:   41.4s finished\n",
      "[Parallel(n_jobs=20)]: Using backend ThreadingBackend with 20 concurrent workers.\n",
      "[Parallel(n_jobs=20)]: Done  10 tasks      | elapsed:    0.0s\n",
      "[Parallel(n_jobs=20)]: Done 160 tasks      | elapsed:    0.1s\n"
     ]
    },
    {
     "name": "stdout",
     "output_type": "stream",
     "text": [
      "done in 43.400s.\n"
     ]
    },
    {
     "name": "stderr",
     "output_type": "stream",
     "text": [
      "[Parallel(n_jobs=20)]: Done 410 tasks      | elapsed:    0.2s\n",
      "[Parallel(n_jobs=20)]: Done 760 tasks      | elapsed:    0.3s\n",
      "[Parallel(n_jobs=20)]: Done 1210 tasks      | elapsed:    0.5s\n",
      "[Parallel(n_jobs=20)]: Done 1760 tasks      | elapsed:    0.8s\n",
      "[Parallel(n_jobs=20)]: Done 2410 tasks      | elapsed:    1.0s\n",
      "[Parallel(n_jobs=20)]: Done 3160 tasks      | elapsed:    1.3s\n",
      "[Parallel(n_jobs=20)]: Done 4010 tasks      | elapsed:    1.7s\n",
      "[Parallel(n_jobs=20)]: Done 4960 tasks      | elapsed:    2.1s\n",
      "[Parallel(n_jobs=20)]: Done 5000 out of 5000 | elapsed:    2.1s finished\n"
     ]
    },
    {
     "name": "stdout",
     "output_type": "stream",
     "text": [
      "accuracy：0.73920\n",
      "precision_avg: 0.79758\n",
      "recall_avg: 0.73920\n",
      "f1_score_avg: 0.75956\n",
      "n_estimator = 5000\n",
      "max_depth = 10\n",
      "min_samples_split = 10\n",
      "min_samples_leaf = 1\n"
     ]
    },
    {
     "name": "stderr",
     "output_type": "stream",
     "text": [
      "[Parallel(n_jobs=-1)]: Using backend ThreadingBackend with 20 concurrent workers.\n",
      "[Parallel(n_jobs=-1)]: Done  10 tasks      | elapsed:    0.2s\n",
      "[Parallel(n_jobs=-1)]: Done 160 tasks      | elapsed:    1.5s\n",
      "[Parallel(n_jobs=-1)]: Done 410 tasks      | elapsed:    3.6s\n",
      "[Parallel(n_jobs=-1)]: Done 760 tasks      | elapsed:    6.5s\n",
      "[Parallel(n_jobs=-1)]: Done 1210 tasks      | elapsed:   10.1s\n",
      "[Parallel(n_jobs=-1)]: Done 1760 tasks      | elapsed:   14.5s\n",
      "[Parallel(n_jobs=-1)]: Done 2410 tasks      | elapsed:   19.7s\n",
      "[Parallel(n_jobs=-1)]: Done 3160 tasks      | elapsed:   25.6s\n",
      "[Parallel(n_jobs=-1)]: Done 4010 tasks      | elapsed:   32.4s\n",
      "[Parallel(n_jobs=-1)]: Done 4960 tasks      | elapsed:   39.9s\n",
      "[Parallel(n_jobs=-1)]: Done 5000 out of 5000 | elapsed:   40.2s finished\n",
      "[Parallel(n_jobs=20)]: Using backend ThreadingBackend with 20 concurrent workers.\n",
      "[Parallel(n_jobs=20)]: Done  10 tasks      | elapsed:    0.0s\n",
      "[Parallel(n_jobs=20)]: Done 160 tasks      | elapsed:    0.1s\n"
     ]
    },
    {
     "name": "stdout",
     "output_type": "stream",
     "text": [
      "done in 42.334s.\n"
     ]
    },
    {
     "name": "stderr",
     "output_type": "stream",
     "text": [
      "[Parallel(n_jobs=20)]: Done 410 tasks      | elapsed:    0.2s\n",
      "[Parallel(n_jobs=20)]: Done 760 tasks      | elapsed:    0.3s\n",
      "[Parallel(n_jobs=20)]: Done 1210 tasks      | elapsed:    0.5s\n",
      "[Parallel(n_jobs=20)]: Done 1760 tasks      | elapsed:    0.7s\n",
      "[Parallel(n_jobs=20)]: Done 2410 tasks      | elapsed:    1.0s\n",
      "[Parallel(n_jobs=20)]: Done 3160 tasks      | elapsed:    1.2s\n",
      "[Parallel(n_jobs=20)]: Done 4010 tasks      | elapsed:    1.6s\n",
      "[Parallel(n_jobs=20)]: Done 4960 tasks      | elapsed:    1.9s\n",
      "[Parallel(n_jobs=20)]: Done 5000 out of 5000 | elapsed:    2.0s finished\n"
     ]
    },
    {
     "name": "stdout",
     "output_type": "stream",
     "text": [
      "accuracy：0.73747\n",
      "precision_avg: 0.79823\n",
      "recall_avg: 0.73747\n",
      "f1_score_avg: 0.75857\n",
      "n_estimator = 5000\n",
      "max_depth = 10\n",
      "min_samples_split = 10\n",
      "min_samples_leaf = 5\n"
     ]
    },
    {
     "name": "stderr",
     "output_type": "stream",
     "text": [
      "[Parallel(n_jobs=-1)]: Using backend ThreadingBackend with 20 concurrent workers.\n",
      "[Parallel(n_jobs=-1)]: Done  10 tasks      | elapsed:    0.2s\n",
      "[Parallel(n_jobs=-1)]: Done 160 tasks      | elapsed:    1.5s\n",
      "[Parallel(n_jobs=-1)]: Done 410 tasks      | elapsed:    3.5s\n",
      "[Parallel(n_jobs=-1)]: Done 760 tasks      | elapsed:    6.3s\n",
      "[Parallel(n_jobs=-1)]: Done 1210 tasks      | elapsed:    9.9s\n",
      "[Parallel(n_jobs=-1)]: Done 1760 tasks      | elapsed:   14.2s\n",
      "[Parallel(n_jobs=-1)]: Done 2410 tasks      | elapsed:   19.4s\n",
      "[Parallel(n_jobs=-1)]: Done 3160 tasks      | elapsed:   25.3s\n",
      "[Parallel(n_jobs=-1)]: Done 4010 tasks      | elapsed:   31.9s\n",
      "[Parallel(n_jobs=-1)]: Done 4960 tasks      | elapsed:   39.3s\n",
      "[Parallel(n_jobs=-1)]: Done 5000 out of 5000 | elapsed:   39.6s finished\n",
      "[Parallel(n_jobs=20)]: Using backend ThreadingBackend with 20 concurrent workers.\n"
     ]
    },
    {
     "name": "stdout",
     "output_type": "stream",
     "text": [
      "done in 41.664s.\n"
     ]
    },
    {
     "name": "stderr",
     "output_type": "stream",
     "text": [
      "[Parallel(n_jobs=20)]: Done  10 tasks      | elapsed:    0.2s\n",
      "[Parallel(n_jobs=20)]: Done 160 tasks      | elapsed:    0.3s\n",
      "[Parallel(n_jobs=20)]: Done 410 tasks      | elapsed:    0.4s\n",
      "[Parallel(n_jobs=20)]: Done 760 tasks      | elapsed:    0.5s\n",
      "[Parallel(n_jobs=20)]: Done 1210 tasks      | elapsed:    0.7s\n",
      "[Parallel(n_jobs=20)]: Done 1760 tasks      | elapsed:    1.0s\n",
      "[Parallel(n_jobs=20)]: Done 2410 tasks      | elapsed:    1.2s\n",
      "[Parallel(n_jobs=20)]: Done 3160 tasks      | elapsed:    1.5s\n",
      "[Parallel(n_jobs=20)]: Done 4010 tasks      | elapsed:    1.9s\n",
      "[Parallel(n_jobs=20)]: Done 4960 tasks      | elapsed:    2.3s\n",
      "[Parallel(n_jobs=20)]: Done 5000 out of 5000 | elapsed:    2.3s finished\n"
     ]
    },
    {
     "name": "stdout",
     "output_type": "stream",
     "text": [
      "accuracy：0.73387\n",
      "precision_avg: 0.79842\n",
      "recall_avg: 0.73387\n",
      "f1_score_avg: 0.75620\n",
      "n_estimator = 5000\n",
      "max_depth = 10\n",
      "min_samples_split = 50\n",
      "min_samples_leaf = 1\n"
     ]
    },
    {
     "name": "stderr",
     "output_type": "stream",
     "text": [
      "[Parallel(n_jobs=-1)]: Using backend ThreadingBackend with 20 concurrent workers.\n",
      "[Parallel(n_jobs=-1)]: Done  10 tasks      | elapsed:    0.2s\n",
      "[Parallel(n_jobs=-1)]: Done 160 tasks      | elapsed:    1.4s\n",
      "[Parallel(n_jobs=-1)]: Done 410 tasks      | elapsed:    3.4s\n",
      "[Parallel(n_jobs=-1)]: Done 760 tasks      | elapsed:    6.1s\n",
      "[Parallel(n_jobs=-1)]: Done 1210 tasks      | elapsed:    9.6s\n",
      "[Parallel(n_jobs=-1)]: Done 1760 tasks      | elapsed:   13.9s\n",
      "[Parallel(n_jobs=-1)]: Done 2410 tasks      | elapsed:   18.9s\n",
      "[Parallel(n_jobs=-1)]: Done 3160 tasks      | elapsed:   24.6s\n",
      "[Parallel(n_jobs=-1)]: Done 4010 tasks      | elapsed:   31.0s\n",
      "[Parallel(n_jobs=-1)]: Done 4960 tasks      | elapsed:   38.2s\n",
      "[Parallel(n_jobs=-1)]: Done 5000 out of 5000 | elapsed:   38.6s finished\n",
      "[Parallel(n_jobs=20)]: Using backend ThreadingBackend with 20 concurrent workers.\n",
      "[Parallel(n_jobs=20)]: Done  10 tasks      | elapsed:    0.0s\n",
      "[Parallel(n_jobs=20)]: Done 160 tasks      | elapsed:    0.1s\n"
     ]
    },
    {
     "name": "stdout",
     "output_type": "stream",
     "text": [
      "done in 40.655s.\n"
     ]
    },
    {
     "name": "stderr",
     "output_type": "stream",
     "text": [
      "[Parallel(n_jobs=20)]: Done 410 tasks      | elapsed:    0.2s\n",
      "[Parallel(n_jobs=20)]: Done 760 tasks      | elapsed:    0.3s\n",
      "[Parallel(n_jobs=20)]: Done 1210 tasks      | elapsed:    0.5s\n",
      "[Parallel(n_jobs=20)]: Done 1760 tasks      | elapsed:    0.7s\n",
      "[Parallel(n_jobs=20)]: Done 2410 tasks      | elapsed:    1.0s\n",
      "[Parallel(n_jobs=20)]: Done 3160 tasks      | elapsed:    1.3s\n",
      "[Parallel(n_jobs=20)]: Done 4010 tasks      | elapsed:    1.6s\n",
      "[Parallel(n_jobs=20)]: Done 4960 tasks      | elapsed:    2.0s\n",
      "[Parallel(n_jobs=20)]: Done 5000 out of 5000 | elapsed:    2.1s finished\n"
     ]
    },
    {
     "name": "stdout",
     "output_type": "stream",
     "text": [
      "accuracy：0.73380\n",
      "precision_avg: 0.79903\n",
      "recall_avg: 0.73380\n",
      "f1_score_avg: 0.75647\n",
      "n_estimator = 5000\n",
      "max_depth = 10\n",
      "min_samples_split = 50\n",
      "min_samples_leaf = 5\n"
     ]
    },
    {
     "name": "stderr",
     "output_type": "stream",
     "text": [
      "[Parallel(n_jobs=-1)]: Using backend ThreadingBackend with 20 concurrent workers.\n",
      "[Parallel(n_jobs=-1)]: Done  10 tasks      | elapsed:    0.2s\n",
      "[Parallel(n_jobs=-1)]: Done 160 tasks      | elapsed:    1.4s\n",
      "[Parallel(n_jobs=-1)]: Done 410 tasks      | elapsed:    3.3s\n",
      "[Parallel(n_jobs=-1)]: Done 760 tasks      | elapsed:    5.9s\n",
      "[Parallel(n_jobs=-1)]: Done 1210 tasks      | elapsed:    9.3s\n",
      "[Parallel(n_jobs=-1)]: Done 1760 tasks      | elapsed:   13.4s\n",
      "[Parallel(n_jobs=-1)]: Done 2410 tasks      | elapsed:   18.4s\n",
      "[Parallel(n_jobs=-1)]: Done 3160 tasks      | elapsed:   24.1s\n",
      "[Parallel(n_jobs=-1)]: Done 4010 tasks      | elapsed:   30.4s\n",
      "[Parallel(n_jobs=-1)]: Done 4960 tasks      | elapsed:   37.6s\n",
      "[Parallel(n_jobs=-1)]: Done 5000 out of 5000 | elapsed:   37.8s finished\n",
      "[Parallel(n_jobs=20)]: Using backend ThreadingBackend with 20 concurrent workers.\n",
      "[Parallel(n_jobs=20)]: Done  10 tasks      | elapsed:    0.0s\n",
      "[Parallel(n_jobs=20)]: Done 160 tasks      | elapsed:    0.1s\n"
     ]
    },
    {
     "name": "stdout",
     "output_type": "stream",
     "text": [
      "done in 39.924s.\n"
     ]
    },
    {
     "name": "stderr",
     "output_type": "stream",
     "text": [
      "[Parallel(n_jobs=20)]: Done 410 tasks      | elapsed:    0.2s\n",
      "[Parallel(n_jobs=20)]: Done 760 tasks      | elapsed:    0.3s\n",
      "[Parallel(n_jobs=20)]: Done 1210 tasks      | elapsed:    0.5s\n",
      "[Parallel(n_jobs=20)]: Done 1760 tasks      | elapsed:    0.7s\n",
      "[Parallel(n_jobs=20)]: Done 2410 tasks      | elapsed:    1.0s\n",
      "[Parallel(n_jobs=20)]: Done 3160 tasks      | elapsed:    1.2s\n",
      "[Parallel(n_jobs=20)]: Done 4010 tasks      | elapsed:    1.6s\n",
      "[Parallel(n_jobs=20)]: Done 4960 tasks      | elapsed:    2.0s\n",
      "[Parallel(n_jobs=20)]: Done 5000 out of 5000 | elapsed:    2.0s finished\n"
     ]
    },
    {
     "name": "stdout",
     "output_type": "stream",
     "text": [
      "accuracy：0.73313\n",
      "precision_avg: 0.79988\n",
      "recall_avg: 0.73313\n",
      "f1_score_avg: 0.75626\n",
      "n_estimator = 5000\n",
      "max_depth = 10\n",
      "min_samples_split = 50\n",
      "min_samples_leaf = 10\n"
     ]
    },
    {
     "name": "stderr",
     "output_type": "stream",
     "text": [
      "[Parallel(n_jobs=-1)]: Using backend ThreadingBackend with 20 concurrent workers.\n",
      "[Parallel(n_jobs=-1)]: Done  10 tasks      | elapsed:    0.2s\n",
      "[Parallel(n_jobs=-1)]: Done 160 tasks      | elapsed:    1.4s\n",
      "[Parallel(n_jobs=-1)]: Done 410 tasks      | elapsed:    3.3s\n",
      "[Parallel(n_jobs=-1)]: Done 760 tasks      | elapsed:    5.9s\n",
      "[Parallel(n_jobs=-1)]: Done 1210 tasks      | elapsed:    9.4s\n",
      "[Parallel(n_jobs=-1)]: Done 1760 tasks      | elapsed:   13.6s\n",
      "[Parallel(n_jobs=-1)]: Done 2410 tasks      | elapsed:   18.5s\n",
      "[Parallel(n_jobs=-1)]: Done 3160 tasks      | elapsed:   24.2s\n",
      "[Parallel(n_jobs=-1)]: Done 4010 tasks      | elapsed:   30.5s\n",
      "[Parallel(n_jobs=-1)]: Done 4960 tasks      | elapsed:   37.8s\n",
      "[Parallel(n_jobs=-1)]: Done 5000 out of 5000 | elapsed:   38.1s finished\n",
      "[Parallel(n_jobs=20)]: Using backend ThreadingBackend with 20 concurrent workers.\n",
      "[Parallel(n_jobs=20)]: Done  10 tasks      | elapsed:    0.0s\n",
      "[Parallel(n_jobs=20)]: Done 160 tasks      | elapsed:    0.1s\n",
      "[Parallel(n_jobs=20)]: Done 410 tasks      | elapsed:    0.2s\n"
     ]
    },
    {
     "name": "stdout",
     "output_type": "stream",
     "text": [
      "done in 40.140s.\n"
     ]
    },
    {
     "name": "stderr",
     "output_type": "stream",
     "text": [
      "[Parallel(n_jobs=20)]: Done 760 tasks      | elapsed:    0.3s\n",
      "[Parallel(n_jobs=20)]: Done 1210 tasks      | elapsed:    0.5s\n",
      "[Parallel(n_jobs=20)]: Done 1760 tasks      | elapsed:    0.7s\n",
      "[Parallel(n_jobs=20)]: Done 2410 tasks      | elapsed:    1.0s\n",
      "[Parallel(n_jobs=20)]: Done 3160 tasks      | elapsed:    1.3s\n",
      "[Parallel(n_jobs=20)]: Done 4010 tasks      | elapsed:    1.7s\n",
      "[Parallel(n_jobs=20)]: Done 4960 tasks      | elapsed:    2.1s\n",
      "[Parallel(n_jobs=20)]: Done 5000 out of 5000 | elapsed:    2.1s finished\n"
     ]
    },
    {
     "name": "stdout",
     "output_type": "stream",
     "text": [
      "accuracy：0.73073\n",
      "precision_avg: 0.79990\n",
      "recall_avg: 0.73073\n",
      "f1_score_avg: 0.75466\n",
      "n_estimator = 5000\n",
      "max_depth = 10\n",
      "min_samples_split = 50\n",
      "min_samples_leaf = 20\n"
     ]
    },
    {
     "name": "stderr",
     "output_type": "stream",
     "text": [
      "[Parallel(n_jobs=-1)]: Using backend ThreadingBackend with 20 concurrent workers.\n",
      "[Parallel(n_jobs=-1)]: Done  10 tasks      | elapsed:    0.2s\n",
      "[Parallel(n_jobs=-1)]: Done 160 tasks      | elapsed:    1.3s\n",
      "[Parallel(n_jobs=-1)]: Done 410 tasks      | elapsed:    3.2s\n",
      "[Parallel(n_jobs=-1)]: Done 760 tasks      | elapsed:    5.8s\n",
      "[Parallel(n_jobs=-1)]: Done 1210 tasks      | elapsed:    9.1s\n",
      "[Parallel(n_jobs=-1)]: Done 1760 tasks      | elapsed:   13.2s\n",
      "[Parallel(n_jobs=-1)]: Done 2410 tasks      | elapsed:   18.0s\n",
      "[Parallel(n_jobs=-1)]: Done 3160 tasks      | elapsed:   23.5s\n",
      "[Parallel(n_jobs=-1)]: Done 4010 tasks      | elapsed:   29.8s\n",
      "[Parallel(n_jobs=-1)]: Done 4960 tasks      | elapsed:   36.7s\n",
      "[Parallel(n_jobs=-1)]: Done 5000 out of 5000 | elapsed:   37.0s finished\n",
      "[Parallel(n_jobs=20)]: Using backend ThreadingBackend with 20 concurrent workers.\n",
      "[Parallel(n_jobs=20)]: Done  10 tasks      | elapsed:    0.0s\n",
      "[Parallel(n_jobs=20)]: Done 160 tasks      | elapsed:    0.1s\n"
     ]
    },
    {
     "name": "stdout",
     "output_type": "stream",
     "text": [
      "done in 39.044s.\n"
     ]
    },
    {
     "name": "stderr",
     "output_type": "stream",
     "text": [
      "[Parallel(n_jobs=20)]: Done 410 tasks      | elapsed:    0.2s\n",
      "[Parallel(n_jobs=20)]: Done 760 tasks      | elapsed:    0.3s\n",
      "[Parallel(n_jobs=20)]: Done 1210 tasks      | elapsed:    0.5s\n",
      "[Parallel(n_jobs=20)]: Done 1760 tasks      | elapsed:    0.7s\n",
      "[Parallel(n_jobs=20)]: Done 2410 tasks      | elapsed:    1.0s\n",
      "[Parallel(n_jobs=20)]: Done 3160 tasks      | elapsed:    1.3s\n",
      "[Parallel(n_jobs=20)]: Done 4010 tasks      | elapsed:    1.6s\n",
      "[Parallel(n_jobs=20)]: Done 4960 tasks      | elapsed:    2.0s\n",
      "[Parallel(n_jobs=20)]: Done 5000 out of 5000 | elapsed:    2.0s finished\n"
     ]
    },
    {
     "name": "stdout",
     "output_type": "stream",
     "text": [
      "accuracy：0.72907\n",
      "precision_avg: 0.80021\n",
      "recall_avg: 0.72907\n",
      "f1_score_avg: 0.75336\n",
      "n_estimator = 5000\n",
      "max_depth = 20\n",
      "min_samples_split = 2\n",
      "min_samples_leaf = 1\n"
     ]
    },
    {
     "name": "stderr",
     "output_type": "stream",
     "text": [
      "[Parallel(n_jobs=-1)]: Using backend ThreadingBackend with 20 concurrent workers.\n",
      "[Parallel(n_jobs=-1)]: Done  10 tasks      | elapsed:    0.5s\n",
      "[Parallel(n_jobs=-1)]: Done 160 tasks      | elapsed:    4.3s\n",
      "[Parallel(n_jobs=-1)]: Done 410 tasks      | elapsed:   10.7s\n",
      "[Parallel(n_jobs=-1)]: Done 760 tasks      | elapsed:   19.6s\n",
      "[Parallel(n_jobs=-1)]: Done 1210 tasks      | elapsed:   31.1s\n",
      "[Parallel(n_jobs=-1)]: Done 1760 tasks      | elapsed:   45.1s\n",
      "[Parallel(n_jobs=-1)]: Done 2410 tasks      | elapsed:  1.0min\n",
      "[Parallel(n_jobs=-1)]: Done 3160 tasks      | elapsed:  1.3min\n",
      "[Parallel(n_jobs=-1)]: Done 4010 tasks      | elapsed:  1.7min\n",
      "[Parallel(n_jobs=-1)]: Done 4960 tasks      | elapsed:  2.1min\n",
      "[Parallel(n_jobs=-1)]: Done 5000 out of 5000 | elapsed:  2.1min finished\n",
      "[Parallel(n_jobs=20)]: Using backend ThreadingBackend with 20 concurrent workers.\n",
      "[Parallel(n_jobs=20)]: Done  10 tasks      | elapsed:    0.0s\n",
      "[Parallel(n_jobs=20)]: Done 160 tasks      | elapsed:    0.1s\n"
     ]
    },
    {
     "name": "stdout",
     "output_type": "stream",
     "text": [
      "done in 128.980s.\n"
     ]
    },
    {
     "name": "stderr",
     "output_type": "stream",
     "text": [
      "[Parallel(n_jobs=20)]: Done 410 tasks      | elapsed:    0.2s\n",
      "[Parallel(n_jobs=20)]: Done 760 tasks      | elapsed:    0.3s\n",
      "[Parallel(n_jobs=20)]: Done 1210 tasks      | elapsed:    0.5s\n",
      "[Parallel(n_jobs=20)]: Done 1760 tasks      | elapsed:    0.7s\n",
      "[Parallel(n_jobs=20)]: Done 2410 tasks      | elapsed:    1.0s\n",
      "[Parallel(n_jobs=20)]: Done 3160 tasks      | elapsed:    1.3s\n",
      "[Parallel(n_jobs=20)]: Done 4010 tasks      | elapsed:    1.6s\n",
      "[Parallel(n_jobs=20)]: Done 4960 tasks      | elapsed:    2.0s\n",
      "[Parallel(n_jobs=20)]: Done 5000 out of 5000 | elapsed:    2.0s finished\n"
     ]
    },
    {
     "name": "stdout",
     "output_type": "stream",
     "text": [
      "accuracy：0.77080\n",
      "precision_avg: 0.78384\n",
      "recall_avg: 0.77080\n",
      "f1_score_avg: 0.77431\n",
      "n_estimator = 5000\n",
      "max_depth = 20\n",
      "min_samples_split = 10\n",
      "min_samples_leaf = 1\n"
     ]
    },
    {
     "name": "stderr",
     "output_type": "stream",
     "text": [
      "[Parallel(n_jobs=-1)]: Using backend ThreadingBackend with 20 concurrent workers.\n",
      "[Parallel(n_jobs=-1)]: Done  10 tasks      | elapsed:    0.6s\n",
      "[Parallel(n_jobs=-1)]: Done 160 tasks      | elapsed:    4.1s\n",
      "[Parallel(n_jobs=-1)]: Done 410 tasks      | elapsed:   10.0s\n",
      "[Parallel(n_jobs=-1)]: Done 760 tasks      | elapsed:   18.2s\n",
      "[Parallel(n_jobs=-1)]: Done 1210 tasks      | elapsed:   28.9s\n",
      "[Parallel(n_jobs=-1)]: Done 1760 tasks      | elapsed:   41.8s\n",
      "[Parallel(n_jobs=-1)]: Done 2410 tasks      | elapsed:   56.9s\n",
      "[Parallel(n_jobs=-1)]: Done 3160 tasks      | elapsed:  1.2min\n",
      "[Parallel(n_jobs=-1)]: Done 4010 tasks      | elapsed:  1.6min\n",
      "[Parallel(n_jobs=-1)]: Done 4960 tasks      | elapsed:  1.9min\n",
      "[Parallel(n_jobs=-1)]: Done 5000 out of 5000 | elapsed:  1.9min finished\n",
      "[Parallel(n_jobs=20)]: Using backend ThreadingBackend with 20 concurrent workers.\n",
      "[Parallel(n_jobs=20)]: Done  10 tasks      | elapsed:    0.0s\n",
      "[Parallel(n_jobs=20)]: Done 160 tasks      | elapsed:    0.1s\n"
     ]
    },
    {
     "name": "stdout",
     "output_type": "stream",
     "text": [
      "done in 118.037s.\n"
     ]
    },
    {
     "name": "stderr",
     "output_type": "stream",
     "text": [
      "[Parallel(n_jobs=20)]: Done 410 tasks      | elapsed:    0.2s\n",
      "[Parallel(n_jobs=20)]: Done 760 tasks      | elapsed:    0.4s\n",
      "[Parallel(n_jobs=20)]: Done 1210 tasks      | elapsed:    0.6s\n",
      "[Parallel(n_jobs=20)]: Done 1760 tasks      | elapsed:    0.8s\n",
      "[Parallel(n_jobs=20)]: Done 2410 tasks      | elapsed:    1.1s\n",
      "[Parallel(n_jobs=20)]: Done 3160 tasks      | elapsed:    1.5s\n",
      "[Parallel(n_jobs=20)]: Done 4010 tasks      | elapsed:    1.9s\n",
      "[Parallel(n_jobs=20)]: Done 4960 tasks      | elapsed:    2.3s\n",
      "[Parallel(n_jobs=20)]: Done 5000 out of 5000 | elapsed:    2.3s finished\n"
     ]
    },
    {
     "name": "stdout",
     "output_type": "stream",
     "text": [
      "accuracy：0.76653\n",
      "precision_avg: 0.78734\n",
      "recall_avg: 0.76653\n",
      "f1_score_avg: 0.77335\n",
      "n_estimator = 5000\n",
      "max_depth = 20\n",
      "min_samples_split = 10\n",
      "min_samples_leaf = 5\n"
     ]
    },
    {
     "name": "stderr",
     "output_type": "stream",
     "text": [
      "[Parallel(n_jobs=-1)]: Using backend ThreadingBackend with 20 concurrent workers.\n",
      "[Parallel(n_jobs=-1)]: Done  10 tasks      | elapsed:    0.5s\n",
      "[Parallel(n_jobs=-1)]: Done 160 tasks      | elapsed:    3.8s\n",
      "[Parallel(n_jobs=-1)]: Done 410 tasks      | elapsed:    9.3s\n",
      "[Parallel(n_jobs=-1)]: Done 760 tasks      | elapsed:   16.9s\n",
      "[Parallel(n_jobs=-1)]: Done 1210 tasks      | elapsed:   26.6s\n",
      "[Parallel(n_jobs=-1)]: Done 1760 tasks      | elapsed:   38.2s\n",
      "[Parallel(n_jobs=-1)]: Done 2410 tasks      | elapsed:   51.6s\n",
      "[Parallel(n_jobs=-1)]: Done 3160 tasks      | elapsed:  1.1min\n",
      "[Parallel(n_jobs=-1)]: Done 4010 tasks      | elapsed:  1.4min\n",
      "[Parallel(n_jobs=-1)]: Done 4960 tasks      | elapsed:  1.7min\n",
      "[Parallel(n_jobs=-1)]: Done 5000 out of 5000 | elapsed:  1.8min finished\n",
      "[Parallel(n_jobs=20)]: Using backend ThreadingBackend with 20 concurrent workers.\n"
     ]
    },
    {
     "name": "stdout",
     "output_type": "stream",
     "text": [
      "done in 107.810s.\n"
     ]
    },
    {
     "name": "stderr",
     "output_type": "stream",
     "text": [
      "[Parallel(n_jobs=20)]: Done  10 tasks      | elapsed:    0.3s\n",
      "[Parallel(n_jobs=20)]: Done 160 tasks      | elapsed:    0.4s\n",
      "[Parallel(n_jobs=20)]: Done 410 tasks      | elapsed:    0.5s\n",
      "[Parallel(n_jobs=20)]: Done 760 tasks      | elapsed:    0.6s\n",
      "[Parallel(n_jobs=20)]: Done 1210 tasks      | elapsed:    0.8s\n",
      "[Parallel(n_jobs=20)]: Done 1760 tasks      | elapsed:    1.1s\n",
      "[Parallel(n_jobs=20)]: Done 2410 tasks      | elapsed:    1.4s\n",
      "[Parallel(n_jobs=20)]: Done 3160 tasks      | elapsed:    1.7s\n",
      "[Parallel(n_jobs=20)]: Done 4010 tasks      | elapsed:    2.0s\n",
      "[Parallel(n_jobs=20)]: Done 4960 tasks      | elapsed:    2.4s\n",
      "[Parallel(n_jobs=20)]: Done 5000 out of 5000 | elapsed:    2.5s finished\n"
     ]
    },
    {
     "name": "stdout",
     "output_type": "stream",
     "text": [
      "accuracy：0.75440\n",
      "precision_avg: 0.79334\n",
      "recall_avg: 0.75440\n",
      "f1_score_avg: 0.76874\n",
      "n_estimator = 5000\n",
      "max_depth = 20\n",
      "min_samples_split = 50\n",
      "min_samples_leaf = 1\n"
     ]
    },
    {
     "name": "stderr",
     "output_type": "stream",
     "text": [
      "[Parallel(n_jobs=-1)]: Using backend ThreadingBackend with 20 concurrent workers.\n",
      "[Parallel(n_jobs=-1)]: Done  10 tasks      | elapsed:    0.5s\n",
      "[Parallel(n_jobs=-1)]: Done 160 tasks      | elapsed:    3.5s\n",
      "[Parallel(n_jobs=-1)]: Done 410 tasks      | elapsed:    8.5s\n",
      "[Parallel(n_jobs=-1)]: Done 760 tasks      | elapsed:   15.2s\n",
      "[Parallel(n_jobs=-1)]: Done 1210 tasks      | elapsed:   24.3s\n",
      "[Parallel(n_jobs=-1)]: Done 1760 tasks      | elapsed:   35.0s\n",
      "[Parallel(n_jobs=-1)]: Done 2410 tasks      | elapsed:   47.7s\n",
      "[Parallel(n_jobs=-1)]: Done 3160 tasks      | elapsed:  1.0min\n",
      "[Parallel(n_jobs=-1)]: Done 4010 tasks      | elapsed:  1.3min\n",
      "[Parallel(n_jobs=-1)]: Done 4960 tasks      | elapsed:  1.6min\n",
      "[Parallel(n_jobs=-1)]: Done 5000 out of 5000 | elapsed:  1.6min finished\n",
      "[Parallel(n_jobs=20)]: Using backend ThreadingBackend with 20 concurrent workers.\n",
      "[Parallel(n_jobs=20)]: Done  10 tasks      | elapsed:    0.0s\n",
      "[Parallel(n_jobs=20)]: Done 160 tasks      | elapsed:    0.1s\n",
      "[Parallel(n_jobs=20)]: Done 410 tasks      | elapsed:    0.2s\n"
     ]
    },
    {
     "name": "stdout",
     "output_type": "stream",
     "text": [
      "done in 99.540s.\n"
     ]
    },
    {
     "name": "stderr",
     "output_type": "stream",
     "text": [
      "[Parallel(n_jobs=20)]: Done 760 tasks      | elapsed:    0.3s\n",
      "[Parallel(n_jobs=20)]: Done 1210 tasks      | elapsed:    0.5s\n",
      "[Parallel(n_jobs=20)]: Done 1760 tasks      | elapsed:    0.7s\n",
      "[Parallel(n_jobs=20)]: Done 2410 tasks      | elapsed:    1.0s\n",
      "[Parallel(n_jobs=20)]: Done 3160 tasks      | elapsed:    1.4s\n",
      "[Parallel(n_jobs=20)]: Done 4010 tasks      | elapsed:    1.7s\n",
      "[Parallel(n_jobs=20)]: Done 4960 tasks      | elapsed:    2.1s\n",
      "[Parallel(n_jobs=20)]: Done 5000 out of 5000 | elapsed:    2.1s finished\n"
     ]
    },
    {
     "name": "stdout",
     "output_type": "stream",
     "text": [
      "accuracy：0.75287\n",
      "precision_avg: 0.79283\n",
      "recall_avg: 0.75287\n",
      "f1_score_avg: 0.76768\n",
      "n_estimator = 5000\n",
      "max_depth = 20\n",
      "min_samples_split = 50\n",
      "min_samples_leaf = 5\n"
     ]
    },
    {
     "name": "stderr",
     "output_type": "stream",
     "text": [
      "[Parallel(n_jobs=-1)]: Using backend ThreadingBackend with 20 concurrent workers.\n",
      "[Parallel(n_jobs=-1)]: Done  10 tasks      | elapsed:    0.5s\n",
      "[Parallel(n_jobs=-1)]: Done 160 tasks      | elapsed:    3.4s\n",
      "[Parallel(n_jobs=-1)]: Done 410 tasks      | elapsed:    8.2s\n",
      "[Parallel(n_jobs=-1)]: Done 760 tasks      | elapsed:   14.9s\n",
      "[Parallel(n_jobs=-1)]: Done 1210 tasks      | elapsed:   23.3s\n",
      "[Parallel(n_jobs=-1)]: Done 1760 tasks      | elapsed:   33.8s\n",
      "[Parallel(n_jobs=-1)]: Done 2410 tasks      | elapsed:   45.5s\n",
      "[Parallel(n_jobs=-1)]: Done 3160 tasks      | elapsed:   59.6s\n",
      "[Parallel(n_jobs=-1)]: Done 4010 tasks      | elapsed:  1.3min\n",
      "[Parallel(n_jobs=-1)]: Done 4960 tasks      | elapsed:  1.5min\n",
      "[Parallel(n_jobs=-1)]: Done 5000 out of 5000 | elapsed:  1.6min finished\n",
      "[Parallel(n_jobs=20)]: Using backend ThreadingBackend with 20 concurrent workers.\n",
      "[Parallel(n_jobs=20)]: Done  10 tasks      | elapsed:    0.0s\n",
      "[Parallel(n_jobs=20)]: Done 160 tasks      | elapsed:    0.1s\n"
     ]
    },
    {
     "name": "stdout",
     "output_type": "stream",
     "text": [
      "done in 95.737s.\n"
     ]
    },
    {
     "name": "stderr",
     "output_type": "stream",
     "text": [
      "[Parallel(n_jobs=20)]: Done 410 tasks      | elapsed:    0.2s\n",
      "[Parallel(n_jobs=20)]: Done 760 tasks      | elapsed:    0.3s\n",
      "[Parallel(n_jobs=20)]: Done 1210 tasks      | elapsed:    0.5s\n",
      "[Parallel(n_jobs=20)]: Done 1760 tasks      | elapsed:    0.7s\n",
      "[Parallel(n_jobs=20)]: Done 2410 tasks      | elapsed:    1.0s\n",
      "[Parallel(n_jobs=20)]: Done 3160 tasks      | elapsed:    1.3s\n",
      "[Parallel(n_jobs=20)]: Done 4010 tasks      | elapsed:    1.7s\n",
      "[Parallel(n_jobs=20)]: Done 4960 tasks      | elapsed:    2.1s\n",
      "[Parallel(n_jobs=20)]: Done 5000 out of 5000 | elapsed:    2.1s finished\n"
     ]
    },
    {
     "name": "stdout",
     "output_type": "stream",
     "text": [
      "accuracy：0.75000\n",
      "precision_avg: 0.79594\n",
      "recall_avg: 0.75000\n",
      "f1_score_avg: 0.76711\n",
      "n_estimator = 5000\n",
      "max_depth = 20\n",
      "min_samples_split = 50\n",
      "min_samples_leaf = 10\n"
     ]
    },
    {
     "name": "stderr",
     "output_type": "stream",
     "text": [
      "[Parallel(n_jobs=-1)]: Using backend ThreadingBackend with 20 concurrent workers.\n",
      "[Parallel(n_jobs=-1)]: Done  10 tasks      | elapsed:    0.4s\n",
      "[Parallel(n_jobs=-1)]: Done 160 tasks      | elapsed:    3.2s\n",
      "[Parallel(n_jobs=-1)]: Done 410 tasks      | elapsed:    7.7s\n",
      "[Parallel(n_jobs=-1)]: Done 760 tasks      | elapsed:   13.8s\n",
      "[Parallel(n_jobs=-1)]: Done 1210 tasks      | elapsed:   21.6s\n",
      "[Parallel(n_jobs=-1)]: Done 1760 tasks      | elapsed:   31.0s\n",
      "[Parallel(n_jobs=-1)]: Done 2410 tasks      | elapsed:   42.4s\n",
      "[Parallel(n_jobs=-1)]: Done 3160 tasks      | elapsed:   55.4s\n",
      "[Parallel(n_jobs=-1)]: Done 4010 tasks      | elapsed:  1.2min\n",
      "[Parallel(n_jobs=-1)]: Done 4960 tasks      | elapsed:  1.4min\n",
      "[Parallel(n_jobs=-1)]: Done 5000 out of 5000 | elapsed:  1.5min finished\n",
      "[Parallel(n_jobs=20)]: Using backend ThreadingBackend with 20 concurrent workers.\n",
      "[Parallel(n_jobs=20)]: Done  10 tasks      | elapsed:    0.0s\n",
      "[Parallel(n_jobs=20)]: Done 160 tasks      | elapsed:    0.1s\n"
     ]
    },
    {
     "name": "stdout",
     "output_type": "stream",
     "text": [
      "done in 89.071s.\n"
     ]
    },
    {
     "name": "stderr",
     "output_type": "stream",
     "text": [
      "[Parallel(n_jobs=20)]: Done 410 tasks      | elapsed:    0.2s\n",
      "[Parallel(n_jobs=20)]: Done 760 tasks      | elapsed:    0.3s\n",
      "[Parallel(n_jobs=20)]: Done 1210 tasks      | elapsed:    0.4s\n",
      "[Parallel(n_jobs=20)]: Done 1760 tasks      | elapsed:    0.6s\n",
      "[Parallel(n_jobs=20)]: Done 2410 tasks      | elapsed:    0.9s\n",
      "[Parallel(n_jobs=20)]: Done 3160 tasks      | elapsed:    1.1s\n",
      "[Parallel(n_jobs=20)]: Done 4010 tasks      | elapsed:    1.5s\n",
      "[Parallel(n_jobs=20)]: Done 4960 tasks      | elapsed:    1.8s\n",
      "[Parallel(n_jobs=20)]: Done 5000 out of 5000 | elapsed:    1.8s finished\n"
     ]
    },
    {
     "name": "stdout",
     "output_type": "stream",
     "text": [
      "accuracy：0.74487\n",
      "precision_avg: 0.79866\n",
      "recall_avg: 0.74487\n",
      "f1_score_avg: 0.76492\n",
      "n_estimator = 5000\n",
      "max_depth = 20\n",
      "min_samples_split = 50\n",
      "min_samples_leaf = 20\n"
     ]
    },
    {
     "name": "stderr",
     "output_type": "stream",
     "text": [
      "[Parallel(n_jobs=-1)]: Using backend ThreadingBackend with 20 concurrent workers.\n",
      "[Parallel(n_jobs=-1)]: Done  10 tasks      | elapsed:    0.4s\n",
      "[Parallel(n_jobs=-1)]: Done 160 tasks      | elapsed:    2.8s\n",
      "[Parallel(n_jobs=-1)]: Done 410 tasks      | elapsed:    6.9s\n",
      "[Parallel(n_jobs=-1)]: Done 760 tasks      | elapsed:   12.5s\n",
      "[Parallel(n_jobs=-1)]: Done 1210 tasks      | elapsed:   19.9s\n",
      "[Parallel(n_jobs=-1)]: Done 1760 tasks      | elapsed:   29.1s\n",
      "[Parallel(n_jobs=-1)]: Done 2410 tasks      | elapsed:   39.7s\n",
      "[Parallel(n_jobs=-1)]: Done 3160 tasks      | elapsed:   51.7s\n",
      "[Parallel(n_jobs=-1)]: Done 4010 tasks      | elapsed:  1.1min\n",
      "[Parallel(n_jobs=-1)]: Done 4960 tasks      | elapsed:  1.3min\n",
      "[Parallel(n_jobs=-1)]: Done 5000 out of 5000 | elapsed:  1.4min finished\n",
      "[Parallel(n_jobs=20)]: Using backend ThreadingBackend with 20 concurrent workers.\n",
      "[Parallel(n_jobs=20)]: Done  10 tasks      | elapsed:    0.0s\n",
      "[Parallel(n_jobs=20)]: Done 160 tasks      | elapsed:    0.1s\n",
      "[Parallel(n_jobs=20)]: Done 410 tasks      | elapsed:    0.2s\n"
     ]
    },
    {
     "name": "stdout",
     "output_type": "stream",
     "text": [
      "done in 83.510s.\n"
     ]
    },
    {
     "name": "stderr",
     "output_type": "stream",
     "text": [
      "[Parallel(n_jobs=20)]: Done 760 tasks      | elapsed:    0.3s\n",
      "[Parallel(n_jobs=20)]: Done 1210 tasks      | elapsed:    0.4s\n",
      "[Parallel(n_jobs=20)]: Done 1760 tasks      | elapsed:    0.6s\n",
      "[Parallel(n_jobs=20)]: Done 2410 tasks      | elapsed:    0.8s\n",
      "[Parallel(n_jobs=20)]: Done 3160 tasks      | elapsed:    1.1s\n",
      "[Parallel(n_jobs=20)]: Done 4010 tasks      | elapsed:    1.4s\n",
      "[Parallel(n_jobs=20)]: Done 4960 tasks      | elapsed:    1.7s\n",
      "[Parallel(n_jobs=20)]: Done 5000 out of 5000 | elapsed:    1.8s finished\n"
     ]
    },
    {
     "name": "stdout",
     "output_type": "stream",
     "text": [
      "accuracy：0.73793\n",
      "precision_avg: 0.80144\n",
      "recall_avg: 0.73793\n",
      "f1_score_avg: 0.76149\n",
      "n_estimator = 5000\n",
      "max_depth = 50\n",
      "min_samples_split = 2\n",
      "min_samples_leaf = 1\n"
     ]
    },
    {
     "name": "stderr",
     "output_type": "stream",
     "text": [
      "[Parallel(n_jobs=-1)]: Using backend ThreadingBackend with 20 concurrent workers.\n",
      "[Parallel(n_jobs=-1)]: Done  10 tasks      | elapsed:    2.3s\n",
      "[Parallel(n_jobs=-1)]: Done 160 tasks      | elapsed:   19.9s\n",
      "[Parallel(n_jobs=-1)]: Done 410 tasks      | elapsed:   49.3s\n",
      "[Parallel(n_jobs=-1)]: Done 760 tasks      | elapsed:  1.5min\n",
      "[Parallel(n_jobs=-1)]: Done 1210 tasks      | elapsed:  2.4min\n",
      "[Parallel(n_jobs=-1)]: Done 1760 tasks      | elapsed:  3.5min\n",
      "[Parallel(n_jobs=-1)]: Done 2410 tasks      | elapsed:  4.9min\n",
      "[Parallel(n_jobs=-1)]: Done 3160 tasks      | elapsed:  6.4min\n",
      "[Parallel(n_jobs=-1)]: Done 4010 tasks      | elapsed:  8.0min\n",
      "[Parallel(n_jobs=-1)]: Done 4960 tasks      | elapsed: 10.0min\n",
      "[Parallel(n_jobs=-1)]: Done 5000 out of 5000 | elapsed: 10.0min finished\n",
      "[Parallel(n_jobs=20)]: Using backend ThreadingBackend with 20 concurrent workers.\n",
      "[Parallel(n_jobs=20)]: Done  10 tasks      | elapsed:    0.0s\n",
      "[Parallel(n_jobs=20)]: Done 160 tasks      | elapsed:    0.1s\n"
     ]
    },
    {
     "name": "stdout",
     "output_type": "stream",
     "text": [
      "done in 604.497s.\n"
     ]
    },
    {
     "name": "stderr",
     "output_type": "stream",
     "text": [
      "[Parallel(n_jobs=20)]: Done 410 tasks      | elapsed:    0.2s\n",
      "[Parallel(n_jobs=20)]: Done 760 tasks      | elapsed:    0.3s\n",
      "[Parallel(n_jobs=20)]: Done 1210 tasks      | elapsed:    0.5s\n",
      "[Parallel(n_jobs=20)]: Done 1760 tasks      | elapsed:    0.8s\n",
      "[Parallel(n_jobs=20)]: Done 2410 tasks      | elapsed:    1.0s\n",
      "[Parallel(n_jobs=20)]: Done 3160 tasks      | elapsed:    1.4s\n",
      "[Parallel(n_jobs=20)]: Done 4010 tasks      | elapsed:    1.7s\n",
      "[Parallel(n_jobs=20)]: Done 4960 tasks      | elapsed:    2.1s\n",
      "[Parallel(n_jobs=20)]: Done 5000 out of 5000 | elapsed:    2.2s finished\n"
     ]
    },
    {
     "name": "stdout",
     "output_type": "stream",
     "text": [
      "accuracy：0.80080\n",
      "precision_avg: 0.77542\n",
      "recall_avg: 0.80080\n",
      "f1_score_avg: 0.77747\n",
      "n_estimator = 5000\n",
      "max_depth = 50\n",
      "min_samples_split = 10\n",
      "min_samples_leaf = 1\n"
     ]
    },
    {
     "name": "stderr",
     "output_type": "stream",
     "text": [
      "[Parallel(n_jobs=-1)]: Using backend ThreadingBackend with 20 concurrent workers.\n",
      "[Parallel(n_jobs=-1)]: Done  10 tasks      | elapsed:    2.1s\n",
      "[Parallel(n_jobs=-1)]: Done 160 tasks      | elapsed:   17.6s\n",
      "[Parallel(n_jobs=-1)]: Done 410 tasks      | elapsed:   43.7s\n",
      "[Parallel(n_jobs=-1)]: Done 760 tasks      | elapsed:  1.4min\n",
      "[Parallel(n_jobs=-1)]: Done 1210 tasks      | elapsed:  2.2min\n",
      "[Parallel(n_jobs=-1)]: Done 1760 tasks      | elapsed:  3.2min\n",
      "[Parallel(n_jobs=-1)]: Done 2410 tasks      | elapsed:  4.4min\n",
      "[Parallel(n_jobs=-1)]: Done 3160 tasks      | elapsed:  5.7min\n",
      "[Parallel(n_jobs=-1)]: Done 4010 tasks      | elapsed:  7.3min\n",
      "[Parallel(n_jobs=-1)]: Done 4960 tasks      | elapsed:  9.0min\n",
      "[Parallel(n_jobs=-1)]: Done 5000 out of 5000 | elapsed:  9.1min finished\n",
      "[Parallel(n_jobs=20)]: Using backend ThreadingBackend with 20 concurrent workers.\n",
      "[Parallel(n_jobs=20)]: Done  10 tasks      | elapsed:    0.0s\n",
      "[Parallel(n_jobs=20)]: Done 160 tasks      | elapsed:    0.1s\n"
     ]
    },
    {
     "name": "stdout",
     "output_type": "stream",
     "text": [
      "done in 548.870s.\n"
     ]
    },
    {
     "name": "stderr",
     "output_type": "stream",
     "text": [
      "[Parallel(n_jobs=20)]: Done 410 tasks      | elapsed:    0.2s\n",
      "[Parallel(n_jobs=20)]: Done 760 tasks      | elapsed:    0.4s\n",
      "[Parallel(n_jobs=20)]: Done 1210 tasks      | elapsed:    0.7s\n",
      "[Parallel(n_jobs=20)]: Done 1760 tasks      | elapsed:    0.9s\n",
      "[Parallel(n_jobs=20)]: Done 2410 tasks      | elapsed:    1.2s\n",
      "[Parallel(n_jobs=20)]: Done 3160 tasks      | elapsed:    1.6s\n",
      "[Parallel(n_jobs=20)]: Done 4010 tasks      | elapsed:    1.9s\n",
      "[Parallel(n_jobs=20)]: Done 4960 tasks      | elapsed:    2.4s\n",
      "[Parallel(n_jobs=20)]: Done 5000 out of 5000 | elapsed:    2.4s finished\n"
     ]
    },
    {
     "name": "stdout",
     "output_type": "stream",
     "text": [
      "accuracy：0.79693\n",
      "precision_avg: 0.77102\n",
      "recall_avg: 0.79693\n",
      "f1_score_avg: 0.77735\n",
      "n_estimator = 5000\n",
      "max_depth = 50\n",
      "min_samples_split = 10\n",
      "min_samples_leaf = 5\n"
     ]
    },
    {
     "name": "stderr",
     "output_type": "stream",
     "text": [
      "[Parallel(n_jobs=-1)]: Using backend ThreadingBackend with 20 concurrent workers.\n",
      "[Parallel(n_jobs=-1)]: Done  10 tasks      | elapsed:    1.9s\n",
      "[Parallel(n_jobs=-1)]: Done 160 tasks      | elapsed:   14.0s\n",
      "[Parallel(n_jobs=-1)]: Done 410 tasks      | elapsed:   35.2s\n",
      "[Parallel(n_jobs=-1)]: Done 760 tasks      | elapsed:  1.1min\n",
      "[Parallel(n_jobs=-1)]: Done 1210 tasks      | elapsed:  1.7min\n",
      "[Parallel(n_jobs=-1)]: Done 1760 tasks      | elapsed:  2.5min\n",
      "[Parallel(n_jobs=-1)]: Done 2410 tasks      | elapsed:  3.4min\n",
      "[Parallel(n_jobs=-1)]: Done 3160 tasks      | elapsed:  4.4min\n",
      "[Parallel(n_jobs=-1)]: Done 4010 tasks      | elapsed:  5.6min\n",
      "[Parallel(n_jobs=-1)]: Done 4960 tasks      | elapsed:  6.9min\n",
      "[Parallel(n_jobs=-1)]: Done 5000 out of 5000 | elapsed:  7.0min finished\n",
      "[Parallel(n_jobs=20)]: Using backend ThreadingBackend with 20 concurrent workers.\n"
     ]
    },
    {
     "name": "stdout",
     "output_type": "stream",
     "text": [
      "done in 421.823s.\n"
     ]
    },
    {
     "name": "stderr",
     "output_type": "stream",
     "text": [
      "[Parallel(n_jobs=20)]: Done  10 tasks      | elapsed:    0.2s\n",
      "[Parallel(n_jobs=20)]: Done 160 tasks      | elapsed:    0.3s\n",
      "[Parallel(n_jobs=20)]: Done 410 tasks      | elapsed:    0.4s\n",
      "[Parallel(n_jobs=20)]: Done 760 tasks      | elapsed:    0.5s\n",
      "[Parallel(n_jobs=20)]: Done 1210 tasks      | elapsed:    0.7s\n",
      "[Parallel(n_jobs=20)]: Done 1760 tasks      | elapsed:    1.0s\n",
      "[Parallel(n_jobs=20)]: Done 2410 tasks      | elapsed:    1.3s\n",
      "[Parallel(n_jobs=20)]: Done 3160 tasks      | elapsed:    1.6s\n",
      "[Parallel(n_jobs=20)]: Done 4010 tasks      | elapsed:    2.0s\n",
      "[Parallel(n_jobs=20)]: Done 4960 tasks      | elapsed:    2.5s\n",
      "[Parallel(n_jobs=20)]: Done 5000 out of 5000 | elapsed:    2.5s finished\n"
     ]
    },
    {
     "name": "stdout",
     "output_type": "stream",
     "text": [
      "accuracy：0.78627\n",
      "precision_avg: 0.78041\n",
      "recall_avg: 0.78627\n",
      "f1_score_avg: 0.77857\n",
      "n_estimator = 5000\n",
      "max_depth = 50\n",
      "min_samples_split = 50\n",
      "min_samples_leaf = 1\n"
     ]
    },
    {
     "name": "stderr",
     "output_type": "stream",
     "text": [
      "[Parallel(n_jobs=-1)]: Using backend ThreadingBackend with 20 concurrent workers.\n",
      "[Parallel(n_jobs=-1)]: Done  10 tasks      | elapsed:    1.8s\n",
      "[Parallel(n_jobs=-1)]: Done 160 tasks      | elapsed:   14.2s\n",
      "[Parallel(n_jobs=-1)]: Done 410 tasks      | elapsed:   34.1s\n",
      "[Parallel(n_jobs=-1)]: Done 760 tasks      | elapsed:  1.0min\n",
      "[Parallel(n_jobs=-1)]: Done 1210 tasks      | elapsed:  1.7min\n",
      "[Parallel(n_jobs=-1)]: Done 1760 tasks      | elapsed:  2.4min\n",
      "[Parallel(n_jobs=-1)]: Done 2410 tasks      | elapsed:  3.3min\n",
      "[Parallel(n_jobs=-1)]: Done 3160 tasks      | elapsed:  4.3min\n",
      "[Parallel(n_jobs=-1)]: Done 4010 tasks      | elapsed:  5.5min\n",
      "[Parallel(n_jobs=-1)]: Done 4960 tasks      | elapsed:  6.8min\n",
      "[Parallel(n_jobs=-1)]: Done 5000 out of 5000 | elapsed:  6.8min finished\n",
      "[Parallel(n_jobs=20)]: Using backend ThreadingBackend with 20 concurrent workers.\n",
      "[Parallel(n_jobs=20)]: Done  10 tasks      | elapsed:    0.0s\n",
      "[Parallel(n_jobs=20)]: Done 160 tasks      | elapsed:    0.1s\n"
     ]
    },
    {
     "name": "stdout",
     "output_type": "stream",
     "text": [
      "done in 411.018s.\n"
     ]
    },
    {
     "name": "stderr",
     "output_type": "stream",
     "text": [
      "[Parallel(n_jobs=20)]: Done 410 tasks      | elapsed:    0.2s\n",
      "[Parallel(n_jobs=20)]: Done 760 tasks      | elapsed:    0.3s\n",
      "[Parallel(n_jobs=20)]: Done 1210 tasks      | elapsed:    0.5s\n",
      "[Parallel(n_jobs=20)]: Done 1760 tasks      | elapsed:    0.7s\n",
      "[Parallel(n_jobs=20)]: Done 2410 tasks      | elapsed:    1.0s\n",
      "[Parallel(n_jobs=20)]: Done 3160 tasks      | elapsed:    1.3s\n",
      "[Parallel(n_jobs=20)]: Done 4010 tasks      | elapsed:    1.7s\n",
      "[Parallel(n_jobs=20)]: Done 4960 tasks      | elapsed:    2.1s\n",
      "[Parallel(n_jobs=20)]: Done 5000 out of 5000 | elapsed:    2.2s finished\n"
     ]
    },
    {
     "name": "stdout",
     "output_type": "stream",
     "text": [
      "accuracy：0.79073\n",
      "precision_avg: 0.78384\n",
      "recall_avg: 0.79073\n",
      "f1_score_avg: 0.78047\n",
      "n_estimator = 5000\n",
      "max_depth = 50\n",
      "min_samples_split = 50\n",
      "min_samples_leaf = 5\n"
     ]
    },
    {
     "name": "stderr",
     "output_type": "stream",
     "text": [
      "[Parallel(n_jobs=-1)]: Using backend ThreadingBackend with 20 concurrent workers.\n",
      "[Parallel(n_jobs=-1)]: Done  10 tasks      | elapsed:    1.6s\n",
      "[Parallel(n_jobs=-1)]: Done 160 tasks      | elapsed:   12.1s\n",
      "[Parallel(n_jobs=-1)]: Done 410 tasks      | elapsed:   29.8s\n",
      "[Parallel(n_jobs=-1)]: Done 760 tasks      | elapsed:   54.8s\n",
      "[Parallel(n_jobs=-1)]: Done 1210 tasks      | elapsed:  1.4min\n",
      "[Parallel(n_jobs=-1)]: Done 1760 tasks      | elapsed:  2.1min\n",
      "[Parallel(n_jobs=-1)]: Done 2410 tasks      | elapsed:  2.9min\n",
      "[Parallel(n_jobs=-1)]: Done 3160 tasks      | elapsed:  3.7min\n",
      "[Parallel(n_jobs=-1)]: Done 4010 tasks      | elapsed:  4.7min\n",
      "[Parallel(n_jobs=-1)]: Done 4960 tasks      | elapsed:  5.8min\n",
      "[Parallel(n_jobs=-1)]: Done 5000 out of 5000 | elapsed:  5.9min finished\n",
      "[Parallel(n_jobs=20)]: Using backend ThreadingBackend with 20 concurrent workers.\n",
      "[Parallel(n_jobs=20)]: Done  10 tasks      | elapsed:    0.0s\n",
      "[Parallel(n_jobs=20)]: Done 160 tasks      | elapsed:    0.1s\n"
     ]
    },
    {
     "name": "stdout",
     "output_type": "stream",
     "text": [
      "done in 355.263s.\n"
     ]
    },
    {
     "name": "stderr",
     "output_type": "stream",
     "text": [
      "[Parallel(n_jobs=20)]: Done 410 tasks      | elapsed:    0.2s\n",
      "[Parallel(n_jobs=20)]: Done 760 tasks      | elapsed:    0.4s\n",
      "[Parallel(n_jobs=20)]: Done 1210 tasks      | elapsed:    0.6s\n",
      "[Parallel(n_jobs=20)]: Done 1760 tasks      | elapsed:    0.8s\n",
      "[Parallel(n_jobs=20)]: Done 2410 tasks      | elapsed:    1.1s\n",
      "[Parallel(n_jobs=20)]: Done 3160 tasks      | elapsed:    1.5s\n",
      "[Parallel(n_jobs=20)]: Done 4010 tasks      | elapsed:    1.8s\n",
      "[Parallel(n_jobs=20)]: Done 4960 tasks      | elapsed:    2.3s\n",
      "[Parallel(n_jobs=20)]: Done 5000 out of 5000 | elapsed:    2.3s finished\n"
     ]
    },
    {
     "name": "stdout",
     "output_type": "stream",
     "text": [
      "accuracy：0.78153\n",
      "precision_avg: 0.77856\n",
      "recall_avg: 0.78153\n",
      "f1_score_avg: 0.77741\n",
      "n_estimator = 5000\n",
      "max_depth = 50\n",
      "min_samples_split = 50\n",
      "min_samples_leaf = 10\n"
     ]
    },
    {
     "name": "stderr",
     "output_type": "stream",
     "text": [
      "[Parallel(n_jobs=-1)]: Using backend ThreadingBackend with 20 concurrent workers.\n",
      "[Parallel(n_jobs=-1)]: Done  10 tasks      | elapsed:    1.3s\n",
      "[Parallel(n_jobs=-1)]: Done 160 tasks      | elapsed:    9.8s\n",
      "[Parallel(n_jobs=-1)]: Done 410 tasks      | elapsed:   24.6s\n",
      "[Parallel(n_jobs=-1)]: Done 760 tasks      | elapsed:   45.2s\n",
      "[Parallel(n_jobs=-1)]: Done 1210 tasks      | elapsed:  1.2min\n",
      "[Parallel(n_jobs=-1)]: Done 1760 tasks      | elapsed:  1.7min\n",
      "[Parallel(n_jobs=-1)]: Done 2410 tasks      | elapsed:  2.4min\n",
      "[Parallel(n_jobs=-1)]: Done 3160 tasks      | elapsed:  3.1min\n",
      "[Parallel(n_jobs=-1)]: Done 4010 tasks      | elapsed:  3.9min\n",
      "[Parallel(n_jobs=-1)]: Done 4960 tasks      | elapsed:  4.8min\n",
      "[Parallel(n_jobs=-1)]: Done 5000 out of 5000 | elapsed:  4.9min finished\n",
      "[Parallel(n_jobs=20)]: Using backend ThreadingBackend with 20 concurrent workers.\n",
      "[Parallel(n_jobs=20)]: Done  10 tasks      | elapsed:    0.0s\n",
      "[Parallel(n_jobs=20)]: Done 160 tasks      | elapsed:    0.1s\n"
     ]
    },
    {
     "name": "stdout",
     "output_type": "stream",
     "text": [
      "done in 294.260s.\n"
     ]
    },
    {
     "name": "stderr",
     "output_type": "stream",
     "text": [
      "[Parallel(n_jobs=20)]: Done 410 tasks      | elapsed:    0.2s\n",
      "[Parallel(n_jobs=20)]: Done 760 tasks      | elapsed:    0.4s\n",
      "[Parallel(n_jobs=20)]: Done 1210 tasks      | elapsed:    0.6s\n",
      "[Parallel(n_jobs=20)]: Done 1760 tasks      | elapsed:    0.8s\n",
      "[Parallel(n_jobs=20)]: Done 2410 tasks      | elapsed:    1.1s\n",
      "[Parallel(n_jobs=20)]: Done 3160 tasks      | elapsed:    1.5s\n",
      "[Parallel(n_jobs=20)]: Done 4010 tasks      | elapsed:    1.8s\n",
      "[Parallel(n_jobs=20)]: Done 4960 tasks      | elapsed:    2.2s\n",
      "[Parallel(n_jobs=20)]: Done 5000 out of 5000 | elapsed:    2.2s finished\n"
     ]
    },
    {
     "name": "stdout",
     "output_type": "stream",
     "text": [
      "accuracy：0.76733\n",
      "precision_avg: 0.78163\n",
      "recall_avg: 0.76733\n",
      "f1_score_avg: 0.77209\n",
      "n_estimator = 5000\n",
      "max_depth = 50\n",
      "min_samples_split = 50\n",
      "min_samples_leaf = 20\n"
     ]
    },
    {
     "name": "stderr",
     "output_type": "stream",
     "text": [
      "[Parallel(n_jobs=-1)]: Using backend ThreadingBackend with 20 concurrent workers.\n",
      "[Parallel(n_jobs=-1)]: Done  10 tasks      | elapsed:    1.0s\n",
      "[Parallel(n_jobs=-1)]: Done 160 tasks      | elapsed:    7.8s\n",
      "[Parallel(n_jobs=-1)]: Done 410 tasks      | elapsed:   19.1s\n",
      "[Parallel(n_jobs=-1)]: Done 760 tasks      | elapsed:   35.1s\n",
      "[Parallel(n_jobs=-1)]: Done 1210 tasks      | elapsed:   55.5s\n",
      "[Parallel(n_jobs=-1)]: Done 1760 tasks      | elapsed:  1.3min\n",
      "[Parallel(n_jobs=-1)]: Done 2410 tasks      | elapsed:  1.8min\n",
      "[Parallel(n_jobs=-1)]: Done 3160 tasks      | elapsed:  2.4min\n",
      "[Parallel(n_jobs=-1)]: Done 4010 tasks      | elapsed:  3.1min\n",
      "[Parallel(n_jobs=-1)]: Done 4960 tasks      | elapsed:  3.8min\n",
      "[Parallel(n_jobs=-1)]: Done 5000 out of 5000 | elapsed:  3.8min finished\n",
      "[Parallel(n_jobs=20)]: Using backend ThreadingBackend with 20 concurrent workers.\n",
      "[Parallel(n_jobs=20)]: Done  10 tasks      | elapsed:    0.0s\n",
      "[Parallel(n_jobs=20)]: Done 160 tasks      | elapsed:    0.1s\n",
      "[Parallel(n_jobs=20)]: Done 410 tasks      | elapsed:    0.2s\n"
     ]
    },
    {
     "name": "stdout",
     "output_type": "stream",
     "text": [
      "done in 229.994s.\n"
     ]
    },
    {
     "name": "stderr",
     "output_type": "stream",
     "text": [
      "[Parallel(n_jobs=20)]: Done 760 tasks      | elapsed:    0.3s\n",
      "[Parallel(n_jobs=20)]: Done 1210 tasks      | elapsed:    0.5s\n",
      "[Parallel(n_jobs=20)]: Done 1760 tasks      | elapsed:    0.7s\n",
      "[Parallel(n_jobs=20)]: Done 2410 tasks      | elapsed:    0.9s\n",
      "[Parallel(n_jobs=20)]: Done 3160 tasks      | elapsed:    1.2s\n",
      "[Parallel(n_jobs=20)]: Done 4010 tasks      | elapsed:    1.6s\n",
      "[Parallel(n_jobs=20)]: Done 4960 tasks      | elapsed:    2.0s\n",
      "[Parallel(n_jobs=20)]: Done 5000 out of 5000 | elapsed:    2.1s finished\n"
     ]
    },
    {
     "name": "stdout",
     "output_type": "stream",
     "text": [
      "accuracy：0.74873\n",
      "precision_avg: 0.79174\n",
      "recall_avg: 0.74873\n",
      "f1_score_avg: 0.76568\n",
      "n_estimator = 10000\n",
      "max_depth = 10\n",
      "min_samples_split = 2\n",
      "min_samples_leaf = 1\n"
     ]
    },
    {
     "name": "stderr",
     "output_type": "stream",
     "text": [
      "[Parallel(n_jobs=-1)]: Using backend ThreadingBackend with 20 concurrent workers.\n",
      "[Parallel(n_jobs=-1)]: Done  10 tasks      | elapsed:    0.3s\n",
      "[Parallel(n_jobs=-1)]: Done 160 tasks      | elapsed:    1.6s\n",
      "[Parallel(n_jobs=-1)]: Done 410 tasks      | elapsed:    3.7s\n",
      "[Parallel(n_jobs=-1)]: Done 760 tasks      | elapsed:    6.8s\n",
      "[Parallel(n_jobs=-1)]: Done 1210 tasks      | elapsed:   10.7s\n",
      "[Parallel(n_jobs=-1)]: Done 1760 tasks      | elapsed:   15.4s\n",
      "[Parallel(n_jobs=-1)]: Done 2410 tasks      | elapsed:   20.8s\n",
      "[Parallel(n_jobs=-1)]: Done 3160 tasks      | elapsed:   27.3s\n",
      "[Parallel(n_jobs=-1)]: Done 4010 tasks      | elapsed:   34.4s\n",
      "[Parallel(n_jobs=-1)]: Done 4960 tasks      | elapsed:   42.5s\n",
      "[Parallel(n_jobs=-1)]: Done 6010 tasks      | elapsed:   51.5s\n",
      "[Parallel(n_jobs=-1)]: Done 7160 tasks      | elapsed:  1.0min\n",
      "[Parallel(n_jobs=-1)]: Done 8410 tasks      | elapsed:  1.2min\n",
      "[Parallel(n_jobs=-1)]: Done 9760 tasks      | elapsed:  1.4min\n",
      "[Parallel(n_jobs=-1)]: Done 10000 out of 10000 | elapsed:  1.4min finished\n",
      "[Parallel(n_jobs=20)]: Using backend ThreadingBackend with 20 concurrent workers.\n",
      "[Parallel(n_jobs=20)]: Done  10 tasks      | elapsed:    0.0s\n",
      "[Parallel(n_jobs=20)]: Done 160 tasks      | elapsed:    0.1s\n"
     ]
    },
    {
     "name": "stdout",
     "output_type": "stream",
     "text": [
      "done in 89.823s.\n"
     ]
    },
    {
     "name": "stderr",
     "output_type": "stream",
     "text": [
      "[Parallel(n_jobs=20)]: Done 410 tasks      | elapsed:    0.2s\n",
      "[Parallel(n_jobs=20)]: Done 760 tasks      | elapsed:    0.4s\n",
      "[Parallel(n_jobs=20)]: Done 1210 tasks      | elapsed:    0.6s\n",
      "[Parallel(n_jobs=20)]: Done 1760 tasks      | elapsed:    0.8s\n",
      "[Parallel(n_jobs=20)]: Done 2410 tasks      | elapsed:    1.1s\n",
      "[Parallel(n_jobs=20)]: Done 3160 tasks      | elapsed:    1.4s\n",
      "[Parallel(n_jobs=20)]: Done 4010 tasks      | elapsed:    1.8s\n",
      "[Parallel(n_jobs=20)]: Done 4960 tasks      | elapsed:    2.2s\n",
      "[Parallel(n_jobs=20)]: Done 6010 tasks      | elapsed:    2.6s\n",
      "[Parallel(n_jobs=20)]: Done 7160 tasks      | elapsed:    3.0s\n",
      "[Parallel(n_jobs=20)]: Done 8410 tasks      | elapsed:    3.5s\n",
      "[Parallel(n_jobs=20)]: Done 9760 tasks      | elapsed:    4.0s\n",
      "[Parallel(n_jobs=20)]: Done 10000 out of 10000 | elapsed:    4.1s finished\n"
     ]
    },
    {
     "name": "stdout",
     "output_type": "stream",
     "text": [
      "accuracy：0.73953\n",
      "precision_avg: 0.79796\n",
      "recall_avg: 0.73953\n",
      "f1_score_avg: 0.75994\n",
      "n_estimator = 10000\n",
      "max_depth = 10\n",
      "min_samples_split = 10\n",
      "min_samples_leaf = 1\n"
     ]
    },
    {
     "name": "stderr",
     "output_type": "stream",
     "text": [
      "[Parallel(n_jobs=-1)]: Using backend ThreadingBackend with 20 concurrent workers.\n",
      "[Parallel(n_jobs=-1)]: Done  10 tasks      | elapsed:    0.3s\n",
      "[Parallel(n_jobs=-1)]: Done 160 tasks      | elapsed:    1.6s\n",
      "[Parallel(n_jobs=-1)]: Done 410 tasks      | elapsed:    3.7s\n",
      "[Parallel(n_jobs=-1)]: Done 760 tasks      | elapsed:    6.6s\n",
      "[Parallel(n_jobs=-1)]: Done 1210 tasks      | elapsed:   10.4s\n",
      "[Parallel(n_jobs=-1)]: Done 1760 tasks      | elapsed:   15.0s\n",
      "[Parallel(n_jobs=-1)]: Done 2410 tasks      | elapsed:   20.4s\n",
      "[Parallel(n_jobs=-1)]: Done 3160 tasks      | elapsed:   26.6s\n",
      "[Parallel(n_jobs=-1)]: Done 4010 tasks      | elapsed:   33.6s\n",
      "[Parallel(n_jobs=-1)]: Done 4960 tasks      | elapsed:   41.5s\n",
      "[Parallel(n_jobs=-1)]: Done 6010 tasks      | elapsed:   50.0s\n",
      "[Parallel(n_jobs=-1)]: Done 7160 tasks      | elapsed:   59.5s\n",
      "[Parallel(n_jobs=-1)]: Done 8410 tasks      | elapsed:  1.2min\n",
      "[Parallel(n_jobs=-1)]: Done 9760 tasks      | elapsed:  1.4min\n",
      "[Parallel(n_jobs=-1)]: Done 10000 out of 10000 | elapsed:  1.4min finished\n",
      "[Parallel(n_jobs=20)]: Using backend ThreadingBackend with 20 concurrent workers.\n",
      "[Parallel(n_jobs=20)]: Done  10 tasks      | elapsed:    0.0s\n",
      "[Parallel(n_jobs=20)]: Done 160 tasks      | elapsed:    0.1s\n"
     ]
    },
    {
     "name": "stdout",
     "output_type": "stream",
     "text": [
      "done in 87.110s.\n"
     ]
    },
    {
     "name": "stderr",
     "output_type": "stream",
     "text": [
      "[Parallel(n_jobs=20)]: Done 410 tasks      | elapsed:    0.2s\n",
      "[Parallel(n_jobs=20)]: Done 760 tasks      | elapsed:    0.3s\n",
      "[Parallel(n_jobs=20)]: Done 1210 tasks      | elapsed:    0.5s\n",
      "[Parallel(n_jobs=20)]: Done 1760 tasks      | elapsed:    0.7s\n",
      "[Parallel(n_jobs=20)]: Done 2410 tasks      | elapsed:    1.0s\n",
      "[Parallel(n_jobs=20)]: Done 3160 tasks      | elapsed:    1.3s\n",
      "[Parallel(n_jobs=20)]: Done 4010 tasks      | elapsed:    1.7s\n",
      "[Parallel(n_jobs=20)]: Done 4960 tasks      | elapsed:    2.1s\n",
      "[Parallel(n_jobs=20)]: Done 6010 tasks      | elapsed:    2.6s\n",
      "[Parallel(n_jobs=20)]: Done 7160 tasks      | elapsed:    3.1s\n",
      "[Parallel(n_jobs=20)]: Done 8410 tasks      | elapsed:    3.5s\n",
      "[Parallel(n_jobs=20)]: Done 9760 tasks      | elapsed:    4.1s\n",
      "[Parallel(n_jobs=20)]: Done 10000 out of 10000 | elapsed:    4.2s finished\n"
     ]
    },
    {
     "name": "stdout",
     "output_type": "stream",
     "text": [
      "accuracy：0.73807\n",
      "precision_avg: 0.79852\n",
      "recall_avg: 0.73807\n",
      "f1_score_avg: 0.75918\n",
      "n_estimator = 10000\n",
      "max_depth = 10\n",
      "min_samples_split = 10\n",
      "min_samples_leaf = 5\n"
     ]
    },
    {
     "name": "stderr",
     "output_type": "stream",
     "text": [
      "[Parallel(n_jobs=-1)]: Using backend ThreadingBackend with 20 concurrent workers.\n",
      "[Parallel(n_jobs=-1)]: Done  10 tasks      | elapsed:    0.2s\n",
      "[Parallel(n_jobs=-1)]: Done 160 tasks      | elapsed:    1.6s\n",
      "[Parallel(n_jobs=-1)]: Done 410 tasks      | elapsed:    3.7s\n",
      "[Parallel(n_jobs=-1)]: Done 760 tasks      | elapsed:    6.6s\n",
      "[Parallel(n_jobs=-1)]: Done 1210 tasks      | elapsed:   10.3s\n",
      "[Parallel(n_jobs=-1)]: Done 1760 tasks      | elapsed:   14.8s\n",
      "[Parallel(n_jobs=-1)]: Done 2410 tasks      | elapsed:   20.2s\n",
      "[Parallel(n_jobs=-1)]: Done 3160 tasks      | elapsed:   26.2s\n",
      "[Parallel(n_jobs=-1)]: Done 4010 tasks      | elapsed:   33.1s\n",
      "[Parallel(n_jobs=-1)]: Done 4960 tasks      | elapsed:   40.7s\n",
      "[Parallel(n_jobs=-1)]: Done 6010 tasks      | elapsed:   49.1s\n",
      "[Parallel(n_jobs=-1)]: Done 7160 tasks      | elapsed:   58.3s\n",
      "[Parallel(n_jobs=-1)]: Done 8410 tasks      | elapsed:  1.1min\n",
      "[Parallel(n_jobs=-1)]: Done 9760 tasks      | elapsed:  1.3min\n",
      "[Parallel(n_jobs=-1)]: Done 10000 out of 10000 | elapsed:  1.4min finished\n",
      "[Parallel(n_jobs=20)]: Using backend ThreadingBackend with 20 concurrent workers.\n",
      "[Parallel(n_jobs=20)]: Done  10 tasks      | elapsed:    0.0s\n",
      "[Parallel(n_jobs=20)]: Done 160 tasks      | elapsed:    0.1s\n"
     ]
    },
    {
     "name": "stdout",
     "output_type": "stream",
     "text": [
      "done in 85.173s.\n"
     ]
    },
    {
     "name": "stderr",
     "output_type": "stream",
     "text": [
      "[Parallel(n_jobs=20)]: Done 410 tasks      | elapsed:    0.2s\n",
      "[Parallel(n_jobs=20)]: Done 760 tasks      | elapsed:    0.4s\n",
      "[Parallel(n_jobs=20)]: Done 1210 tasks      | elapsed:    0.6s\n",
      "[Parallel(n_jobs=20)]: Done 1760 tasks      | elapsed:    0.8s\n",
      "[Parallel(n_jobs=20)]: Done 2410 tasks      | elapsed:    1.1s\n",
      "[Parallel(n_jobs=20)]: Done 3160 tasks      | elapsed:    1.4s\n",
      "[Parallel(n_jobs=20)]: Done 4010 tasks      | elapsed:    1.7s\n",
      "[Parallel(n_jobs=20)]: Done 4960 tasks      | elapsed:    2.1s\n",
      "[Parallel(n_jobs=20)]: Done 6010 tasks      | elapsed:    2.6s\n",
      "[Parallel(n_jobs=20)]: Done 7160 tasks      | elapsed:    3.1s\n",
      "[Parallel(n_jobs=20)]: Done 8410 tasks      | elapsed:    3.6s\n",
      "[Parallel(n_jobs=20)]: Done 9760 tasks      | elapsed:    4.2s\n",
      "[Parallel(n_jobs=20)]: Done 10000 out of 10000 | elapsed:    4.3s finished\n"
     ]
    },
    {
     "name": "stdout",
     "output_type": "stream",
     "text": [
      "accuracy：0.73500\n",
      "precision_avg: 0.79899\n",
      "recall_avg: 0.73500\n",
      "f1_score_avg: 0.75714\n",
      "n_estimator = 10000\n",
      "max_depth = 10\n",
      "min_samples_split = 50\n",
      "min_samples_leaf = 1\n"
     ]
    },
    {
     "name": "stderr",
     "output_type": "stream",
     "text": [
      "[Parallel(n_jobs=-1)]: Using backend ThreadingBackend with 20 concurrent workers.\n",
      "[Parallel(n_jobs=-1)]: Done  10 tasks      | elapsed:    0.2s\n",
      "[Parallel(n_jobs=-1)]: Done 160 tasks      | elapsed:    1.4s\n",
      "[Parallel(n_jobs=-1)]: Done 410 tasks      | elapsed:    3.5s\n",
      "[Parallel(n_jobs=-1)]: Done 760 tasks      | elapsed:    6.3s\n",
      "[Parallel(n_jobs=-1)]: Done 1210 tasks      | elapsed:    9.8s\n",
      "[Parallel(n_jobs=-1)]: Done 1760 tasks      | elapsed:   14.2s\n",
      "[Parallel(n_jobs=-1)]: Done 2410 tasks      | elapsed:   19.3s\n",
      "[Parallel(n_jobs=-1)]: Done 3160 tasks      | elapsed:   25.1s\n",
      "[Parallel(n_jobs=-1)]: Done 4010 tasks      | elapsed:   31.7s\n",
      "[Parallel(n_jobs=-1)]: Done 4960 tasks      | elapsed:   39.1s\n",
      "[Parallel(n_jobs=-1)]: Done 6010 tasks      | elapsed:   47.3s\n",
      "[Parallel(n_jobs=-1)]: Done 7160 tasks      | elapsed:   56.4s\n",
      "[Parallel(n_jobs=-1)]: Done 8410 tasks      | elapsed:  1.1min\n",
      "[Parallel(n_jobs=-1)]: Done 9760 tasks      | elapsed:  1.3min\n",
      "[Parallel(n_jobs=-1)]: Done 10000 out of 10000 | elapsed:  1.3min finished\n",
      "[Parallel(n_jobs=20)]: Using backend ThreadingBackend with 20 concurrent workers.\n",
      "[Parallel(n_jobs=20)]: Done  10 tasks      | elapsed:    0.0s\n",
      "[Parallel(n_jobs=20)]: Done 160 tasks      | elapsed:    0.1s\n"
     ]
    },
    {
     "name": "stdout",
     "output_type": "stream",
     "text": [
      "done in 82.517s.\n"
     ]
    },
    {
     "name": "stderr",
     "output_type": "stream",
     "text": [
      "[Parallel(n_jobs=20)]: Done 410 tasks      | elapsed:    0.2s\n",
      "[Parallel(n_jobs=20)]: Done 760 tasks      | elapsed:    0.3s\n",
      "[Parallel(n_jobs=20)]: Done 1210 tasks      | elapsed:    0.5s\n",
      "[Parallel(n_jobs=20)]: Done 1760 tasks      | elapsed:    0.7s\n",
      "[Parallel(n_jobs=20)]: Done 2410 tasks      | elapsed:    1.0s\n",
      "[Parallel(n_jobs=20)]: Done 3160 tasks      | elapsed:    1.3s\n",
      "[Parallel(n_jobs=20)]: Done 4010 tasks      | elapsed:    1.7s\n",
      "[Parallel(n_jobs=20)]: Done 4960 tasks      | elapsed:    2.1s\n",
      "[Parallel(n_jobs=20)]: Done 6010 tasks      | elapsed:    2.5s\n",
      "[Parallel(n_jobs=20)]: Done 7160 tasks      | elapsed:    3.0s\n",
      "[Parallel(n_jobs=20)]: Done 8410 tasks      | elapsed:    3.5s\n",
      "[Parallel(n_jobs=20)]: Done 9760 tasks      | elapsed:    4.1s\n",
      "[Parallel(n_jobs=20)]: Done 10000 out of 10000 | elapsed:    4.2s finished\n"
     ]
    },
    {
     "name": "stdout",
     "output_type": "stream",
     "text": [
      "accuracy：0.73420\n",
      "precision_avg: 0.79943\n",
      "recall_avg: 0.73420\n",
      "f1_score_avg: 0.75690\n",
      "n_estimator = 10000\n",
      "max_depth = 10\n",
      "min_samples_split = 50\n",
      "min_samples_leaf = 5\n"
     ]
    },
    {
     "name": "stderr",
     "output_type": "stream",
     "text": [
      "[Parallel(n_jobs=-1)]: Using backend ThreadingBackend with 20 concurrent workers.\n",
      "[Parallel(n_jobs=-1)]: Done  10 tasks      | elapsed:    0.2s\n",
      "[Parallel(n_jobs=-1)]: Done 160 tasks      | elapsed:    1.5s\n",
      "[Parallel(n_jobs=-1)]: Done 410 tasks      | elapsed:    3.5s\n",
      "[Parallel(n_jobs=-1)]: Done 760 tasks      | elapsed:    6.3s\n",
      "[Parallel(n_jobs=-1)]: Done 1210 tasks      | elapsed:    9.7s\n",
      "[Parallel(n_jobs=-1)]: Done 1760 tasks      | elapsed:   14.1s\n",
      "[Parallel(n_jobs=-1)]: Done 2410 tasks      | elapsed:   19.0s\n",
      "[Parallel(n_jobs=-1)]: Done 3160 tasks      | elapsed:   24.8s\n",
      "[Parallel(n_jobs=-1)]: Done 4010 tasks      | elapsed:   31.4s\n",
      "[Parallel(n_jobs=-1)]: Done 4960 tasks      | elapsed:   38.9s\n",
      "[Parallel(n_jobs=-1)]: Done 6010 tasks      | elapsed:   47.1s\n",
      "[Parallel(n_jobs=-1)]: Done 7160 tasks      | elapsed:   56.1s\n",
      "[Parallel(n_jobs=-1)]: Done 8410 tasks      | elapsed:  1.1min\n",
      "[Parallel(n_jobs=-1)]: Done 9760 tasks      | elapsed:  1.3min\n",
      "[Parallel(n_jobs=-1)]: Done 10000 out of 10000 | elapsed:  1.3min finished\n",
      "[Parallel(n_jobs=20)]: Using backend ThreadingBackend with 20 concurrent workers.\n",
      "[Parallel(n_jobs=20)]: Done  10 tasks      | elapsed:    0.0s\n",
      "[Parallel(n_jobs=20)]: Done 160 tasks      | elapsed:    0.1s\n"
     ]
    },
    {
     "name": "stdout",
     "output_type": "stream",
     "text": [
      "done in 82.034s.\n"
     ]
    },
    {
     "name": "stderr",
     "output_type": "stream",
     "text": [
      "[Parallel(n_jobs=20)]: Done 410 tasks      | elapsed:    0.2s\n",
      "[Parallel(n_jobs=20)]: Done 760 tasks      | elapsed:    0.3s\n",
      "[Parallel(n_jobs=20)]: Done 1210 tasks      | elapsed:    0.5s\n",
      "[Parallel(n_jobs=20)]: Done 1760 tasks      | elapsed:    0.8s\n",
      "[Parallel(n_jobs=20)]: Done 2410 tasks      | elapsed:    1.0s\n",
      "[Parallel(n_jobs=20)]: Done 3160 tasks      | elapsed:    1.4s\n",
      "[Parallel(n_jobs=20)]: Done 4010 tasks      | elapsed:    1.7s\n",
      "[Parallel(n_jobs=20)]: Done 4960 tasks      | elapsed:    2.1s\n",
      "[Parallel(n_jobs=20)]: Done 6010 tasks      | elapsed:    2.6s\n",
      "[Parallel(n_jobs=20)]: Done 7160 tasks      | elapsed:    3.1s\n",
      "[Parallel(n_jobs=20)]: Done 8410 tasks      | elapsed:    3.6s\n",
      "[Parallel(n_jobs=20)]: Done 9760 tasks      | elapsed:    4.3s\n",
      "[Parallel(n_jobs=20)]: Done 10000 out of 10000 | elapsed:    4.4s finished\n"
     ]
    },
    {
     "name": "stdout",
     "output_type": "stream",
     "text": [
      "accuracy：0.73320\n",
      "precision_avg: 0.80025\n",
      "recall_avg: 0.73320\n",
      "f1_score_avg: 0.75653\n",
      "n_estimator = 10000\n",
      "max_depth = 10\n",
      "min_samples_split = 50\n",
      "min_samples_leaf = 10\n"
     ]
    },
    {
     "name": "stderr",
     "output_type": "stream",
     "text": [
      "[Parallel(n_jobs=-1)]: Using backend ThreadingBackend with 20 concurrent workers.\n",
      "[Parallel(n_jobs=-1)]: Done  10 tasks      | elapsed:    0.2s\n",
      "[Parallel(n_jobs=-1)]: Done 160 tasks      | elapsed:    1.4s\n",
      "[Parallel(n_jobs=-1)]: Done 410 tasks      | elapsed:    3.5s\n",
      "[Parallel(n_jobs=-1)]: Done 760 tasks      | elapsed:    6.2s\n",
      "[Parallel(n_jobs=-1)]: Done 1210 tasks      | elapsed:    9.7s\n",
      "[Parallel(n_jobs=-1)]: Done 1760 tasks      | elapsed:   14.0s\n",
      "[Parallel(n_jobs=-1)]: Done 2410 tasks      | elapsed:   19.0s\n",
      "[Parallel(n_jobs=-1)]: Done 3160 tasks      | elapsed:   24.7s\n",
      "[Parallel(n_jobs=-1)]: Done 4010 tasks      | elapsed:   31.3s\n",
      "[Parallel(n_jobs=-1)]: Done 4960 tasks      | elapsed:   38.2s\n",
      "[Parallel(n_jobs=-1)]: Done 6010 tasks      | elapsed:   46.4s\n",
      "[Parallel(n_jobs=-1)]: Done 7160 tasks      | elapsed:   55.5s\n",
      "[Parallel(n_jobs=-1)]: Done 8410 tasks      | elapsed:  1.1min\n",
      "[Parallel(n_jobs=-1)]: Done 9760 tasks      | elapsed:  1.3min\n",
      "[Parallel(n_jobs=-1)]: Done 10000 out of 10000 | elapsed:  1.3min finished\n",
      "[Parallel(n_jobs=20)]: Using backend ThreadingBackend with 20 concurrent workers.\n",
      "[Parallel(n_jobs=20)]: Done  10 tasks      | elapsed:    0.0s\n",
      "[Parallel(n_jobs=20)]: Done 160 tasks      | elapsed:    0.1s\n"
     ]
    },
    {
     "name": "stdout",
     "output_type": "stream",
     "text": [
      "done in 82.155s.\n"
     ]
    },
    {
     "name": "stderr",
     "output_type": "stream",
     "text": [
      "[Parallel(n_jobs=20)]: Done 410 tasks      | elapsed:    0.2s\n",
      "[Parallel(n_jobs=20)]: Done 760 tasks      | elapsed:    0.4s\n",
      "[Parallel(n_jobs=20)]: Done 1210 tasks      | elapsed:    0.6s\n",
      "[Parallel(n_jobs=20)]: Done 1760 tasks      | elapsed:    0.8s\n",
      "[Parallel(n_jobs=20)]: Done 2410 tasks      | elapsed:    1.1s\n",
      "[Parallel(n_jobs=20)]: Done 3160 tasks      | elapsed:    1.4s\n",
      "[Parallel(n_jobs=20)]: Done 4010 tasks      | elapsed:    1.8s\n",
      "[Parallel(n_jobs=20)]: Done 4960 tasks      | elapsed:    2.2s\n",
      "[Parallel(n_jobs=20)]: Done 6010 tasks      | elapsed:    2.7s\n",
      "[Parallel(n_jobs=20)]: Done 7160 tasks      | elapsed:    3.2s\n",
      "[Parallel(n_jobs=20)]: Done 8410 tasks      | elapsed:    3.7s\n",
      "[Parallel(n_jobs=20)]: Done 9760 tasks      | elapsed:    4.3s\n",
      "[Parallel(n_jobs=20)]: Done 10000 out of 10000 | elapsed:    4.4s finished\n"
     ]
    },
    {
     "name": "stdout",
     "output_type": "stream",
     "text": [
      "accuracy：0.73080\n",
      "precision_avg: 0.79993\n",
      "recall_avg: 0.73080\n",
      "f1_score_avg: 0.75472\n",
      "n_estimator = 10000\n",
      "max_depth = 10\n",
      "min_samples_split = 50\n",
      "min_samples_leaf = 20\n"
     ]
    },
    {
     "name": "stderr",
     "output_type": "stream",
     "text": [
      "[Parallel(n_jobs=-1)]: Using backend ThreadingBackend with 20 concurrent workers.\n",
      "[Parallel(n_jobs=-1)]: Done  10 tasks      | elapsed:    0.3s\n",
      "[Parallel(n_jobs=-1)]: Done 160 tasks      | elapsed:    1.5s\n",
      "[Parallel(n_jobs=-1)]: Done 410 tasks      | elapsed:    3.6s\n",
      "[Parallel(n_jobs=-1)]: Done 760 tasks      | elapsed:    6.4s\n",
      "[Parallel(n_jobs=-1)]: Done 1210 tasks      | elapsed:   10.0s\n",
      "[Parallel(n_jobs=-1)]: Done 1760 tasks      | elapsed:   14.2s\n",
      "[Parallel(n_jobs=-1)]: Done 2410 tasks      | elapsed:   19.1s\n",
      "[Parallel(n_jobs=-1)]: Done 3160 tasks      | elapsed:   25.0s\n",
      "[Parallel(n_jobs=-1)]: Done 4010 tasks      | elapsed:   31.4s\n",
      "[Parallel(n_jobs=-1)]: Done 4960 tasks      | elapsed:   38.5s\n",
      "[Parallel(n_jobs=-1)]: Done 6010 tasks      | elapsed:   46.7s\n",
      "[Parallel(n_jobs=-1)]: Done 7160 tasks      | elapsed:   55.4s\n",
      "[Parallel(n_jobs=-1)]: Done 8410 tasks      | elapsed:  1.1min\n",
      "[Parallel(n_jobs=-1)]: Done 9760 tasks      | elapsed:  1.3min\n",
      "[Parallel(n_jobs=-1)]: Done 10000 out of 10000 | elapsed:  1.3min finished\n",
      "[Parallel(n_jobs=20)]: Using backend ThreadingBackend with 20 concurrent workers.\n",
      "[Parallel(n_jobs=20)]: Done  10 tasks      | elapsed:    0.0s\n",
      "[Parallel(n_jobs=20)]: Done 160 tasks      | elapsed:    0.1s\n"
     ]
    },
    {
     "name": "stdout",
     "output_type": "stream",
     "text": [
      "done in 81.180s.\n"
     ]
    },
    {
     "name": "stderr",
     "output_type": "stream",
     "text": [
      "[Parallel(n_jobs=20)]: Done 410 tasks      | elapsed:    0.2s\n",
      "[Parallel(n_jobs=20)]: Done 760 tasks      | elapsed:    0.3s\n",
      "[Parallel(n_jobs=20)]: Done 1210 tasks      | elapsed:    0.5s\n",
      "[Parallel(n_jobs=20)]: Done 1760 tasks      | elapsed:    0.7s\n",
      "[Parallel(n_jobs=20)]: Done 2410 tasks      | elapsed:    1.0s\n",
      "[Parallel(n_jobs=20)]: Done 3160 tasks      | elapsed:    1.3s\n",
      "[Parallel(n_jobs=20)]: Done 4010 tasks      | elapsed:    1.7s\n",
      "[Parallel(n_jobs=20)]: Done 4960 tasks      | elapsed:    2.1s\n",
      "[Parallel(n_jobs=20)]: Done 6010 tasks      | elapsed:    2.5s\n",
      "[Parallel(n_jobs=20)]: Done 7160 tasks      | elapsed:    3.0s\n",
      "[Parallel(n_jobs=20)]: Done 8410 tasks      | elapsed:    3.6s\n",
      "[Parallel(n_jobs=20)]: Done 9760 tasks      | elapsed:    4.1s\n",
      "[Parallel(n_jobs=20)]: Done 10000 out of 10000 | elapsed:    4.2s finished\n"
     ]
    },
    {
     "name": "stdout",
     "output_type": "stream",
     "text": [
      "accuracy：0.72940\n",
      "precision_avg: 0.80081\n",
      "recall_avg: 0.72940\n",
      "f1_score_avg: 0.75392\n",
      "n_estimator = 10000\n",
      "max_depth = 20\n",
      "min_samples_split = 2\n",
      "min_samples_leaf = 1\n"
     ]
    },
    {
     "name": "stderr",
     "output_type": "stream",
     "text": [
      "[Parallel(n_jobs=-1)]: Using backend ThreadingBackend with 20 concurrent workers.\n",
      "[Parallel(n_jobs=-1)]: Done  10 tasks      | elapsed:    0.6s\n",
      "[Parallel(n_jobs=-1)]: Done 160 tasks      | elapsed:    4.7s\n",
      "[Parallel(n_jobs=-1)]: Done 410 tasks      | elapsed:   11.2s\n",
      "[Parallel(n_jobs=-1)]: Done 760 tasks      | elapsed:   20.6s\n",
      "[Parallel(n_jobs=-1)]: Done 1210 tasks      | elapsed:   32.4s\n",
      "[Parallel(n_jobs=-1)]: Done 1760 tasks      | elapsed:   46.8s\n",
      "[Parallel(n_jobs=-1)]: Done 2410 tasks      | elapsed:  1.1min\n",
      "[Parallel(n_jobs=-1)]: Done 3160 tasks      | elapsed:  1.4min\n",
      "[Parallel(n_jobs=-1)]: Done 4010 tasks      | elapsed:  1.8min\n",
      "[Parallel(n_jobs=-1)]: Done 4960 tasks      | elapsed:  2.2min\n",
      "[Parallel(n_jobs=-1)]: Done 6010 tasks      | elapsed:  2.6min\n",
      "[Parallel(n_jobs=-1)]: Done 7160 tasks      | elapsed:  3.1min\n",
      "[Parallel(n_jobs=-1)]: Done 8410 tasks      | elapsed:  3.6min\n",
      "[Parallel(n_jobs=-1)]: Done 9760 tasks      | elapsed:  4.1min\n",
      "[Parallel(n_jobs=-1)]: Done 10000 out of 10000 | elapsed:  4.2min finished\n",
      "[Parallel(n_jobs=20)]: Using backend ThreadingBackend with 20 concurrent workers.\n",
      "[Parallel(n_jobs=20)]: Done  10 tasks      | elapsed:    0.0s\n",
      "[Parallel(n_jobs=20)]: Done 160 tasks      | elapsed:    0.1s\n"
     ]
    },
    {
     "name": "stdout",
     "output_type": "stream",
     "text": [
      "done in 259.230s.\n"
     ]
    },
    {
     "name": "stderr",
     "output_type": "stream",
     "text": [
      "[Parallel(n_jobs=20)]: Done 410 tasks      | elapsed:    0.2s\n",
      "[Parallel(n_jobs=20)]: Done 760 tasks      | elapsed:    0.3s\n",
      "[Parallel(n_jobs=20)]: Done 1210 tasks      | elapsed:    0.5s\n",
      "[Parallel(n_jobs=20)]: Done 1760 tasks      | elapsed:    0.7s\n",
      "[Parallel(n_jobs=20)]: Done 2410 tasks      | elapsed:    0.9s\n",
      "[Parallel(n_jobs=20)]: Done 3160 tasks      | elapsed:    1.2s\n",
      "[Parallel(n_jobs=20)]: Done 4010 tasks      | elapsed:    1.5s\n",
      "[Parallel(n_jobs=20)]: Done 4960 tasks      | elapsed:    1.9s\n",
      "[Parallel(n_jobs=20)]: Done 6010 tasks      | elapsed:    2.2s\n",
      "[Parallel(n_jobs=20)]: Done 7160 tasks      | elapsed:    2.6s\n",
      "[Parallel(n_jobs=20)]: Done 8410 tasks      | elapsed:    3.1s\n",
      "[Parallel(n_jobs=20)]: Done 9760 tasks      | elapsed:    3.6s\n",
      "[Parallel(n_jobs=20)]: Done 10000 out of 10000 | elapsed:    3.7s finished\n"
     ]
    },
    {
     "name": "stdout",
     "output_type": "stream",
     "text": [
      "accuracy：0.77180\n",
      "precision_avg: 0.78471\n",
      "recall_avg: 0.77180\n",
      "f1_score_avg: 0.77524\n",
      "n_estimator = 10000\n",
      "max_depth = 20\n",
      "min_samples_split = 10\n",
      "min_samples_leaf = 1\n"
     ]
    },
    {
     "name": "stderr",
     "output_type": "stream",
     "text": [
      "[Parallel(n_jobs=-1)]: Using backend ThreadingBackend with 20 concurrent workers.\n",
      "[Parallel(n_jobs=-1)]: Done  10 tasks      | elapsed:    0.6s\n",
      "[Parallel(n_jobs=-1)]: Done 160 tasks      | elapsed:    4.0s\n",
      "[Parallel(n_jobs=-1)]: Done 410 tasks      | elapsed:    9.9s\n",
      "[Parallel(n_jobs=-1)]: Done 760 tasks      | elapsed:   17.9s\n",
      "[Parallel(n_jobs=-1)]: Done 1210 tasks      | elapsed:   28.2s\n",
      "[Parallel(n_jobs=-1)]: Done 1760 tasks      | elapsed:   40.9s\n",
      "[Parallel(n_jobs=-1)]: Done 2410 tasks      | elapsed:   55.7s\n",
      "[Parallel(n_jobs=-1)]: Done 3160 tasks      | elapsed:  1.2min\n",
      "[Parallel(n_jobs=-1)]: Done 4010 tasks      | elapsed:  1.5min\n",
      "[Parallel(n_jobs=-1)]: Done 4960 tasks      | elapsed:  1.9min\n",
      "[Parallel(n_jobs=-1)]: Done 6010 tasks      | elapsed:  2.3min\n",
      "[Parallel(n_jobs=-1)]: Done 7160 tasks      | elapsed:  2.7min\n",
      "[Parallel(n_jobs=-1)]: Done 8410 tasks      | elapsed:  3.2min\n",
      "[Parallel(n_jobs=-1)]: Done 9760 tasks      | elapsed:  3.7min\n",
      "[Parallel(n_jobs=-1)]: Done 10000 out of 10000 | elapsed:  3.8min finished\n",
      "[Parallel(n_jobs=20)]: Using backend ThreadingBackend with 20 concurrent workers.\n",
      "[Parallel(n_jobs=20)]: Done  10 tasks      | elapsed:    0.0s\n",
      "[Parallel(n_jobs=20)]: Done 160 tasks      | elapsed:    0.1s\n"
     ]
    },
    {
     "name": "stdout",
     "output_type": "stream",
     "text": [
      "done in 234.204s.\n"
     ]
    },
    {
     "name": "stderr",
     "output_type": "stream",
     "text": [
      "[Parallel(n_jobs=20)]: Done 410 tasks      | elapsed:    0.2s\n",
      "[Parallel(n_jobs=20)]: Done 760 tasks      | elapsed:    0.4s\n",
      "[Parallel(n_jobs=20)]: Done 1210 tasks      | elapsed:    0.5s\n",
      "[Parallel(n_jobs=20)]: Done 1760 tasks      | elapsed:    0.8s\n",
      "[Parallel(n_jobs=20)]: Done 2410 tasks      | elapsed:    1.1s\n",
      "[Parallel(n_jobs=20)]: Done 3160 tasks      | elapsed:    1.4s\n",
      "[Parallel(n_jobs=20)]: Done 4010 tasks      | elapsed:    1.7s\n",
      "[Parallel(n_jobs=20)]: Done 4960 tasks      | elapsed:    2.1s\n",
      "[Parallel(n_jobs=20)]: Done 6010 tasks      | elapsed:    2.6s\n",
      "[Parallel(n_jobs=20)]: Done 7160 tasks      | elapsed:    3.0s\n",
      "[Parallel(n_jobs=20)]: Done 8410 tasks      | elapsed:    3.6s\n",
      "[Parallel(n_jobs=20)]: Done 9760 tasks      | elapsed:    4.1s\n",
      "[Parallel(n_jobs=20)]: Done 10000 out of 10000 | elapsed:    4.2s finished\n"
     ]
    },
    {
     "name": "stdout",
     "output_type": "stream",
     "text": [
      "accuracy：0.76653\n",
      "precision_avg: 0.78769\n",
      "recall_avg: 0.76653\n",
      "f1_score_avg: 0.77349\n",
      "n_estimator = 10000\n",
      "max_depth = 20\n",
      "min_samples_split = 10\n",
      "min_samples_leaf = 5\n"
     ]
    },
    {
     "name": "stderr",
     "output_type": "stream",
     "text": [
      "[Parallel(n_jobs=-1)]: Using backend ThreadingBackend with 20 concurrent workers.\n",
      "[Parallel(n_jobs=-1)]: Done  10 tasks      | elapsed:    0.5s\n",
      "[Parallel(n_jobs=-1)]: Done 160 tasks      | elapsed:    3.7s\n",
      "[Parallel(n_jobs=-1)]: Done 410 tasks      | elapsed:    9.0s\n",
      "[Parallel(n_jobs=-1)]: Done 760 tasks      | elapsed:   16.3s\n",
      "[Parallel(n_jobs=-1)]: Done 1210 tasks      | elapsed:   25.7s\n",
      "[Parallel(n_jobs=-1)]: Done 1760 tasks      | elapsed:   37.4s\n",
      "[Parallel(n_jobs=-1)]: Done 2410 tasks      | elapsed:   51.1s\n",
      "[Parallel(n_jobs=-1)]: Done 3160 tasks      | elapsed:  1.1min\n",
      "[Parallel(n_jobs=-1)]: Done 4010 tasks      | elapsed:  1.4min\n",
      "[Parallel(n_jobs=-1)]: Done 4960 tasks      | elapsed:  1.7min\n",
      "[Parallel(n_jobs=-1)]: Done 6010 tasks      | elapsed:  2.1min\n",
      "[Parallel(n_jobs=-1)]: Done 7160 tasks      | elapsed:  2.5min\n",
      "[Parallel(n_jobs=-1)]: Done 8410 tasks      | elapsed:  3.0min\n",
      "[Parallel(n_jobs=-1)]: Done 9760 tasks      | elapsed:  3.4min\n",
      "[Parallel(n_jobs=-1)]: Done 10000 out of 10000 | elapsed:  3.5min finished\n",
      "[Parallel(n_jobs=20)]: Using backend ThreadingBackend with 20 concurrent workers.\n",
      "[Parallel(n_jobs=20)]: Done  10 tasks      | elapsed:    0.0s\n",
      "[Parallel(n_jobs=20)]: Done 160 tasks      | elapsed:    0.1s\n"
     ]
    },
    {
     "name": "stdout",
     "output_type": "stream",
     "text": [
      "done in 214.823s.\n"
     ]
    },
    {
     "name": "stderr",
     "output_type": "stream",
     "text": [
      "[Parallel(n_jobs=20)]: Done 410 tasks      | elapsed:    0.2s\n",
      "[Parallel(n_jobs=20)]: Done 760 tasks      | elapsed:    0.3s\n",
      "[Parallel(n_jobs=20)]: Done 1210 tasks      | elapsed:    0.5s\n",
      "[Parallel(n_jobs=20)]: Done 1760 tasks      | elapsed:    0.8s\n",
      "[Parallel(n_jobs=20)]: Done 2410 tasks      | elapsed:    1.1s\n",
      "[Parallel(n_jobs=20)]: Done 3160 tasks      | elapsed:    1.4s\n",
      "[Parallel(n_jobs=20)]: Done 4010 tasks      | elapsed:    1.7s\n",
      "[Parallel(n_jobs=20)]: Done 4960 tasks      | elapsed:    2.1s\n",
      "[Parallel(n_jobs=20)]: Done 6010 tasks      | elapsed:    2.5s\n",
      "[Parallel(n_jobs=20)]: Done 7160 tasks      | elapsed:    2.9s\n",
      "[Parallel(n_jobs=20)]: Done 8410 tasks      | elapsed:    3.4s\n",
      "[Parallel(n_jobs=20)]: Done 9760 tasks      | elapsed:    4.0s\n",
      "[Parallel(n_jobs=20)]: Done 10000 out of 10000 | elapsed:    4.1s finished\n"
     ]
    },
    {
     "name": "stdout",
     "output_type": "stream",
     "text": [
      "accuracy：0.75460\n",
      "precision_avg: 0.79344\n",
      "recall_avg: 0.75460\n",
      "f1_score_avg: 0.76894\n",
      "n_estimator = 10000\n",
      "max_depth = 20\n",
      "min_samples_split = 50\n",
      "min_samples_leaf = 1\n"
     ]
    },
    {
     "name": "stderr",
     "output_type": "stream",
     "text": [
      "[Parallel(n_jobs=-1)]: Using backend ThreadingBackend with 20 concurrent workers.\n",
      "[Parallel(n_jobs=-1)]: Done  10 tasks      | elapsed:    0.5s\n",
      "[Parallel(n_jobs=-1)]: Done 160 tasks      | elapsed:    3.4s\n",
      "[Parallel(n_jobs=-1)]: Done 410 tasks      | elapsed:    8.4s\n",
      "[Parallel(n_jobs=-1)]: Done 760 tasks      | elapsed:   15.3s\n",
      "[Parallel(n_jobs=-1)]: Done 1210 tasks      | elapsed:   24.1s\n",
      "[Parallel(n_jobs=-1)]: Done 1760 tasks      | elapsed:   34.8s\n",
      "[Parallel(n_jobs=-1)]: Done 2410 tasks      | elapsed:   47.5s\n",
      "[Parallel(n_jobs=-1)]: Done 3160 tasks      | elapsed:  1.0min\n",
      "[Parallel(n_jobs=-1)]: Done 4010 tasks      | elapsed:  1.3min\n",
      "[Parallel(n_jobs=-1)]: Done 4960 tasks      | elapsed:  1.6min\n",
      "[Parallel(n_jobs=-1)]: Done 6010 tasks      | elapsed:  2.0min\n",
      "[Parallel(n_jobs=-1)]: Done 7160 tasks      | elapsed:  2.3min\n",
      "[Parallel(n_jobs=-1)]: Done 8410 tasks      | elapsed:  2.7min\n",
      "[Parallel(n_jobs=-1)]: Done 9760 tasks      | elapsed:  3.2min\n",
      "[Parallel(n_jobs=-1)]: Done 10000 out of 10000 | elapsed:  3.3min finished\n",
      "[Parallel(n_jobs=20)]: Using backend ThreadingBackend with 20 concurrent workers.\n",
      "[Parallel(n_jobs=20)]: Done  10 tasks      | elapsed:    0.0s\n",
      "[Parallel(n_jobs=20)]: Done 160 tasks      | elapsed:    0.1s\n"
     ]
    },
    {
     "name": "stdout",
     "output_type": "stream",
     "text": [
      "done in 199.920s.\n"
     ]
    },
    {
     "name": "stderr",
     "output_type": "stream",
     "text": [
      "[Parallel(n_jobs=20)]: Done 410 tasks      | elapsed:    0.2s\n",
      "[Parallel(n_jobs=20)]: Done 760 tasks      | elapsed:    0.4s\n",
      "[Parallel(n_jobs=20)]: Done 1210 tasks      | elapsed:    0.5s\n",
      "[Parallel(n_jobs=20)]: Done 1760 tasks      | elapsed:    0.8s\n",
      "[Parallel(n_jobs=20)]: Done 2410 tasks      | elapsed:    1.1s\n",
      "[Parallel(n_jobs=20)]: Done 3160 tasks      | elapsed:    1.4s\n",
      "[Parallel(n_jobs=20)]: Done 4010 tasks      | elapsed:    1.8s\n",
      "[Parallel(n_jobs=20)]: Done 4960 tasks      | elapsed:    2.2s\n",
      "[Parallel(n_jobs=20)]: Done 6010 tasks      | elapsed:    2.6s\n",
      "[Parallel(n_jobs=20)]: Done 7160 tasks      | elapsed:    3.1s\n",
      "[Parallel(n_jobs=20)]: Done 8410 tasks      | elapsed:    3.6s\n",
      "[Parallel(n_jobs=20)]: Done 9760 tasks      | elapsed:    4.2s\n",
      "[Parallel(n_jobs=20)]: Done 10000 out of 10000 | elapsed:    4.3s finished\n"
     ]
    },
    {
     "name": "stdout",
     "output_type": "stream",
     "text": [
      "accuracy：0.75353\n",
      "precision_avg: 0.79301\n",
      "recall_avg: 0.75353\n",
      "f1_score_avg: 0.76815\n",
      "n_estimator = 10000\n",
      "max_depth = 20\n",
      "min_samples_split = 50\n",
      "min_samples_leaf = 5\n"
     ]
    },
    {
     "name": "stderr",
     "output_type": "stream",
     "text": [
      "[Parallel(n_jobs=-1)]: Using backend ThreadingBackend with 20 concurrent workers.\n",
      "[Parallel(n_jobs=-1)]: Done  10 tasks      | elapsed:    0.5s\n",
      "[Parallel(n_jobs=-1)]: Done 160 tasks      | elapsed:    3.4s\n",
      "[Parallel(n_jobs=-1)]: Done 410 tasks      | elapsed:    8.2s\n",
      "[Parallel(n_jobs=-1)]: Done 760 tasks      | elapsed:   14.8s\n",
      "[Parallel(n_jobs=-1)]: Done 1210 tasks      | elapsed:   23.3s\n",
      "[Parallel(n_jobs=-1)]: Done 1760 tasks      | elapsed:   33.7s\n",
      "[Parallel(n_jobs=-1)]: Done 2410 tasks      | elapsed:   45.9s\n",
      "[Parallel(n_jobs=-1)]: Done 3160 tasks      | elapsed:   59.9s\n",
      "[Parallel(n_jobs=-1)]: Done 4010 tasks      | elapsed:  1.3min\n",
      "[Parallel(n_jobs=-1)]: Done 4960 tasks      | elapsed:  1.6min\n",
      "[Parallel(n_jobs=-1)]: Done 6010 tasks      | elapsed:  1.9min\n",
      "[Parallel(n_jobs=-1)]: Done 7160 tasks      | elapsed:  2.3min\n",
      "[Parallel(n_jobs=-1)]: Done 8410 tasks      | elapsed:  2.6min\n",
      "[Parallel(n_jobs=-1)]: Done 9760 tasks      | elapsed:  3.1min\n",
      "[Parallel(n_jobs=-1)]: Done 10000 out of 10000 | elapsed:  3.2min finished\n",
      "[Parallel(n_jobs=20)]: Using backend ThreadingBackend with 20 concurrent workers.\n",
      "[Parallel(n_jobs=20)]: Done  10 tasks      | elapsed:    0.0s\n",
      "[Parallel(n_jobs=20)]: Done 160 tasks      | elapsed:    0.1s\n"
     ]
    },
    {
     "name": "stdout",
     "output_type": "stream",
     "text": [
      "done in 193.109s.\n"
     ]
    },
    {
     "name": "stderr",
     "output_type": "stream",
     "text": [
      "[Parallel(n_jobs=20)]: Done 410 tasks      | elapsed:    0.2s\n",
      "[Parallel(n_jobs=20)]: Done 760 tasks      | elapsed:    0.3s\n",
      "[Parallel(n_jobs=20)]: Done 1210 tasks      | elapsed:    0.5s\n",
      "[Parallel(n_jobs=20)]: Done 1760 tasks      | elapsed:    0.8s\n",
      "[Parallel(n_jobs=20)]: Done 2410 tasks      | elapsed:    1.1s\n",
      "[Parallel(n_jobs=20)]: Done 3160 tasks      | elapsed:    1.4s\n",
      "[Parallel(n_jobs=20)]: Done 4010 tasks      | elapsed:    1.8s\n",
      "[Parallel(n_jobs=20)]: Done 4960 tasks      | elapsed:    2.2s\n",
      "[Parallel(n_jobs=20)]: Done 6010 tasks      | elapsed:    2.7s\n",
      "[Parallel(n_jobs=20)]: Done 7160 tasks      | elapsed:    3.2s\n",
      "[Parallel(n_jobs=20)]: Done 8410 tasks      | elapsed:    3.7s\n",
      "[Parallel(n_jobs=20)]: Done 9760 tasks      | elapsed:    4.3s\n",
      "[Parallel(n_jobs=20)]: Done 10000 out of 10000 | elapsed:    4.4s finished\n"
     ]
    },
    {
     "name": "stdout",
     "output_type": "stream",
     "text": [
      "accuracy：0.74953\n",
      "precision_avg: 0.79531\n",
      "recall_avg: 0.74953\n",
      "f1_score_avg: 0.76660\n",
      "n_estimator = 10000\n",
      "max_depth = 20\n",
      "min_samples_split = 50\n",
      "min_samples_leaf = 10\n"
     ]
    },
    {
     "name": "stderr",
     "output_type": "stream",
     "text": [
      "[Parallel(n_jobs=-1)]: Using backend ThreadingBackend with 20 concurrent workers.\n",
      "[Parallel(n_jobs=-1)]: Done  10 tasks      | elapsed:    0.5s\n",
      "[Parallel(n_jobs=-1)]: Done 160 tasks      | elapsed:    3.3s\n",
      "[Parallel(n_jobs=-1)]: Done 410 tasks      | elapsed:    7.9s\n",
      "[Parallel(n_jobs=-1)]: Done 760 tasks      | elapsed:   14.3s\n",
      "[Parallel(n_jobs=-1)]: Done 1210 tasks      | elapsed:   22.5s\n",
      "[Parallel(n_jobs=-1)]: Done 1760 tasks      | elapsed:   32.5s\n",
      "[Parallel(n_jobs=-1)]: Done 2410 tasks      | elapsed:   44.2s\n",
      "[Parallel(n_jobs=-1)]: Done 3160 tasks      | elapsed:   57.7s\n",
      "[Parallel(n_jobs=-1)]: Done 4010 tasks      | elapsed:  1.2min\n",
      "[Parallel(n_jobs=-1)]: Done 4960 tasks      | elapsed:  1.5min\n",
      "[Parallel(n_jobs=-1)]: Done 6010 tasks      | elapsed:  1.8min\n",
      "[Parallel(n_jobs=-1)]: Done 7160 tasks      | elapsed:  2.2min\n",
      "[Parallel(n_jobs=-1)]: Done 8410 tasks      | elapsed:  2.5min\n",
      "[Parallel(n_jobs=-1)]: Done 9760 tasks      | elapsed:  2.9min\n",
      "[Parallel(n_jobs=-1)]: Done 10000 out of 10000 | elapsed:  3.0min finished\n",
      "[Parallel(n_jobs=20)]: Using backend ThreadingBackend with 20 concurrent workers.\n",
      "[Parallel(n_jobs=20)]: Done  10 tasks      | elapsed:    0.0s\n",
      "[Parallel(n_jobs=20)]: Done 160 tasks      | elapsed:    0.1s\n",
      "[Parallel(n_jobs=20)]: Done 410 tasks      | elapsed:    0.2s\n"
     ]
    },
    {
     "name": "stdout",
     "output_type": "stream",
     "text": [
      "done in 184.555s.\n"
     ]
    },
    {
     "name": "stderr",
     "output_type": "stream",
     "text": [
      "[Parallel(n_jobs=20)]: Done 760 tasks      | elapsed:    0.3s\n",
      "[Parallel(n_jobs=20)]: Done 1210 tasks      | elapsed:    0.5s\n",
      "[Parallel(n_jobs=20)]: Done 1760 tasks      | elapsed:    0.7s\n",
      "[Parallel(n_jobs=20)]: Done 2410 tasks      | elapsed:    1.0s\n",
      "[Parallel(n_jobs=20)]: Done 3160 tasks      | elapsed:    1.3s\n",
      "[Parallel(n_jobs=20)]: Done 4010 tasks      | elapsed:    1.7s\n",
      "[Parallel(n_jobs=20)]: Done 4960 tasks      | elapsed:    2.1s\n",
      "[Parallel(n_jobs=20)]: Done 6010 tasks      | elapsed:    2.5s\n",
      "[Parallel(n_jobs=20)]: Done 7160 tasks      | elapsed:    3.0s\n",
      "[Parallel(n_jobs=20)]: Done 8410 tasks      | elapsed:    3.6s\n",
      "[Parallel(n_jobs=20)]: Done 9760 tasks      | elapsed:    4.1s\n",
      "[Parallel(n_jobs=20)]: Done 10000 out of 10000 | elapsed:    4.2s finished\n"
     ]
    },
    {
     "name": "stdout",
     "output_type": "stream",
     "text": [
      "accuracy：0.74487\n",
      "precision_avg: 0.79866\n",
      "recall_avg: 0.74487\n",
      "f1_score_avg: 0.76492\n",
      "n_estimator = 10000\n",
      "max_depth = 20\n",
      "min_samples_split = 50\n",
      "min_samples_leaf = 20\n"
     ]
    },
    {
     "name": "stderr",
     "output_type": "stream",
     "text": [
      "[Parallel(n_jobs=-1)]: Using backend ThreadingBackend with 20 concurrent workers.\n",
      "[Parallel(n_jobs=-1)]: Done  10 tasks      | elapsed:    0.4s\n",
      "[Parallel(n_jobs=-1)]: Done 160 tasks      | elapsed:    3.0s\n",
      "[Parallel(n_jobs=-1)]: Done 410 tasks      | elapsed:    7.3s\n",
      "[Parallel(n_jobs=-1)]: Done 760 tasks      | elapsed:   13.2s\n",
      "[Parallel(n_jobs=-1)]: Done 1210 tasks      | elapsed:   20.8s\n",
      "[Parallel(n_jobs=-1)]: Done 1760 tasks      | elapsed:   30.1s\n",
      "[Parallel(n_jobs=-1)]: Done 2410 tasks      | elapsed:   41.1s\n",
      "[Parallel(n_jobs=-1)]: Done 3160 tasks      | elapsed:   53.3s\n",
      "[Parallel(n_jobs=-1)]: Done 4010 tasks      | elapsed:  1.1min\n",
      "[Parallel(n_jobs=-1)]: Done 4960 tasks      | elapsed:  1.4min\n",
      "[Parallel(n_jobs=-1)]: Done 6010 tasks      | elapsed:  1.7min\n",
      "[Parallel(n_jobs=-1)]: Done 7160 tasks      | elapsed:  2.0min\n",
      "[Parallel(n_jobs=-1)]: Done 8410 tasks      | elapsed:  2.3min\n",
      "[Parallel(n_jobs=-1)]: Done 9760 tasks      | elapsed:  2.7min\n",
      "[Parallel(n_jobs=-1)]: Done 10000 out of 10000 | elapsed:  2.8min finished\n",
      "[Parallel(n_jobs=20)]: Using backend ThreadingBackend with 20 concurrent workers.\n",
      "[Parallel(n_jobs=20)]: Done  10 tasks      | elapsed:    0.0s\n",
      "[Parallel(n_jobs=20)]: Done 160 tasks      | elapsed:    0.1s\n"
     ]
    },
    {
     "name": "stdout",
     "output_type": "stream",
     "text": [
      "done in 170.951s.\n"
     ]
    },
    {
     "name": "stderr",
     "output_type": "stream",
     "text": [
      "[Parallel(n_jobs=20)]: Done 410 tasks      | elapsed:    0.2s\n",
      "[Parallel(n_jobs=20)]: Done 760 tasks      | elapsed:    0.3s\n",
      "[Parallel(n_jobs=20)]: Done 1210 tasks      | elapsed:    0.5s\n",
      "[Parallel(n_jobs=20)]: Done 1760 tasks      | elapsed:    0.7s\n",
      "[Parallel(n_jobs=20)]: Done 2410 tasks      | elapsed:    1.0s\n",
      "[Parallel(n_jobs=20)]: Done 3160 tasks      | elapsed:    1.3s\n",
      "[Parallel(n_jobs=20)]: Done 4010 tasks      | elapsed:    1.7s\n",
      "[Parallel(n_jobs=20)]: Done 4960 tasks      | elapsed:    2.0s\n",
      "[Parallel(n_jobs=20)]: Done 6010 tasks      | elapsed:    2.5s\n",
      "[Parallel(n_jobs=20)]: Done 7160 tasks      | elapsed:    3.0s\n",
      "[Parallel(n_jobs=20)]: Done 8410 tasks      | elapsed:    3.5s\n",
      "[Parallel(n_jobs=20)]: Done 9760 tasks      | elapsed:    4.1s\n",
      "[Parallel(n_jobs=20)]: Done 10000 out of 10000 | elapsed:    4.2s finished\n"
     ]
    },
    {
     "name": "stdout",
     "output_type": "stream",
     "text": [
      "accuracy：0.73793\n",
      "precision_avg: 0.80131\n",
      "recall_avg: 0.73793\n",
      "f1_score_avg: 0.76145\n",
      "n_estimator = 10000\n",
      "max_depth = 50\n",
      "min_samples_split = 2\n",
      "min_samples_leaf = 1\n"
     ]
    },
    {
     "name": "stderr",
     "output_type": "stream",
     "text": [
      "[Parallel(n_jobs=-1)]: Using backend ThreadingBackend with 20 concurrent workers.\n",
      "[Parallel(n_jobs=-1)]: Done  10 tasks      | elapsed:    2.6s\n",
      "[Parallel(n_jobs=-1)]: Done 160 tasks      | elapsed:   20.6s\n",
      "[Parallel(n_jobs=-1)]: Done 410 tasks      | elapsed:   50.9s\n",
      "[Parallel(n_jobs=-1)]: Done 760 tasks      | elapsed:  1.5min\n",
      "[Parallel(n_jobs=-1)]: Done 1210 tasks      | elapsed:  2.4min\n",
      "[Parallel(n_jobs=-1)]: Done 1760 tasks      | elapsed:  3.5min\n",
      "[Parallel(n_jobs=-1)]: Done 2410 tasks      | elapsed:  4.8min\n",
      "[Parallel(n_jobs=-1)]: Done 3160 tasks      | elapsed:  6.3min\n",
      "[Parallel(n_jobs=-1)]: Done 4010 tasks      | elapsed:  8.0min\n",
      "[Parallel(n_jobs=-1)]: Done 4960 tasks      | elapsed:  9.9min\n",
      "[Parallel(n_jobs=-1)]: Done 6010 tasks      | elapsed: 12.0min\n",
      "[Parallel(n_jobs=-1)]: Done 7160 tasks      | elapsed: 14.3min\n",
      "[Parallel(n_jobs=-1)]: Done 8410 tasks      | elapsed: 16.8min\n",
      "[Parallel(n_jobs=-1)]: Done 9760 tasks      | elapsed: 19.5min\n",
      "[Parallel(n_jobs=-1)]: Done 10000 out of 10000 | elapsed: 20.0min finished\n",
      "[Parallel(n_jobs=20)]: Using backend ThreadingBackend with 20 concurrent workers.\n",
      "[Parallel(n_jobs=20)]: Done  10 tasks      | elapsed:    0.0s\n",
      "[Parallel(n_jobs=20)]: Done 160 tasks      | elapsed:    0.1s\n"
     ]
    },
    {
     "name": "stdout",
     "output_type": "stream",
     "text": [
      "done in 1205.816s.\n"
     ]
    },
    {
     "name": "stderr",
     "output_type": "stream",
     "text": [
      "[Parallel(n_jobs=20)]: Done 410 tasks      | elapsed:    0.2s\n",
      "[Parallel(n_jobs=20)]: Done 760 tasks      | elapsed:    0.5s\n",
      "[Parallel(n_jobs=20)]: Done 1210 tasks      | elapsed:    0.8s\n",
      "[Parallel(n_jobs=20)]: Done 1760 tasks      | elapsed:    1.1s\n",
      "[Parallel(n_jobs=20)]: Done 2410 tasks      | elapsed:    1.5s\n",
      "[Parallel(n_jobs=20)]: Done 3160 tasks      | elapsed:    1.9s\n",
      "[Parallel(n_jobs=20)]: Done 4010 tasks      | elapsed:    2.3s\n",
      "[Parallel(n_jobs=20)]: Done 4960 tasks      | elapsed:    2.9s\n",
      "[Parallel(n_jobs=20)]: Done 6010 tasks      | elapsed:    3.5s\n",
      "[Parallel(n_jobs=20)]: Done 7160 tasks      | elapsed:    4.1s\n",
      "[Parallel(n_jobs=20)]: Done 8410 tasks      | elapsed:    4.7s\n",
      "[Parallel(n_jobs=20)]: Done 9760 tasks      | elapsed:    5.4s\n",
      "[Parallel(n_jobs=20)]: Done 10000 out of 10000 | elapsed:    5.6s finished\n"
     ]
    },
    {
     "name": "stdout",
     "output_type": "stream",
     "text": [
      "accuracy：0.80067\n",
      "precision_avg: 0.77551\n",
      "recall_avg: 0.80067\n",
      "f1_score_avg: 0.77748\n",
      "n_estimator = 10000\n",
      "max_depth = 50\n",
      "min_samples_split = 10\n",
      "min_samples_leaf = 1\n"
     ]
    },
    {
     "name": "stderr",
     "output_type": "stream",
     "text": [
      "[Parallel(n_jobs=-1)]: Using backend ThreadingBackend with 20 concurrent workers.\n",
      "[Parallel(n_jobs=-1)]: Done  10 tasks      | elapsed:    2.3s\n",
      "[Parallel(n_jobs=-1)]: Done 160 tasks      | elapsed:   18.3s\n",
      "[Parallel(n_jobs=-1)]: Done 410 tasks      | elapsed:   45.3s\n",
      "[Parallel(n_jobs=-1)]: Done 760 tasks      | elapsed:  1.4min\n",
      "[Parallel(n_jobs=-1)]: Done 1210 tasks      | elapsed:  2.2min\n",
      "[Parallel(n_jobs=-1)]: Done 1760 tasks      | elapsed:  3.2min\n",
      "[Parallel(n_jobs=-1)]: Done 2410 tasks      | elapsed:  4.3min\n",
      "[Parallel(n_jobs=-1)]: Done 3160 tasks      | elapsed:  5.7min\n",
      "[Parallel(n_jobs=-1)]: Done 4010 tasks      | elapsed:  7.2min\n",
      "[Parallel(n_jobs=-1)]: Done 4960 tasks      | elapsed:  8.9min\n",
      "[Parallel(n_jobs=-1)]: Done 6010 tasks      | elapsed: 10.8min\n",
      "[Parallel(n_jobs=-1)]: Done 7160 tasks      | elapsed: 12.8min\n",
      "[Parallel(n_jobs=-1)]: Done 8410 tasks      | elapsed: 15.1min\n",
      "[Parallel(n_jobs=-1)]: Done 9760 tasks      | elapsed: 17.5min\n",
      "[Parallel(n_jobs=-1)]: Done 10000 out of 10000 | elapsed: 17.9min finished\n",
      "[Parallel(n_jobs=20)]: Using backend ThreadingBackend with 20 concurrent workers.\n",
      "[Parallel(n_jobs=20)]: Done  10 tasks      | elapsed:    0.0s\n",
      "[Parallel(n_jobs=20)]: Done 160 tasks      | elapsed:    0.1s\n"
     ]
    },
    {
     "name": "stdout",
     "output_type": "stream",
     "text": [
      "done in 1080.492s.\n"
     ]
    },
    {
     "name": "stderr",
     "output_type": "stream",
     "text": [
      "[Parallel(n_jobs=20)]: Done 410 tasks      | elapsed:    0.2s\n",
      "[Parallel(n_jobs=20)]: Done 760 tasks      | elapsed:    0.4s\n",
      "[Parallel(n_jobs=20)]: Done 1210 tasks      | elapsed:    0.7s\n",
      "[Parallel(n_jobs=20)]: Done 1760 tasks      | elapsed:    0.9s\n",
      "[Parallel(n_jobs=20)]: Done 2410 tasks      | elapsed:    1.3s\n",
      "[Parallel(n_jobs=20)]: Done 3160 tasks      | elapsed:    1.7s\n",
      "[Parallel(n_jobs=20)]: Done 4010 tasks      | elapsed:    2.1s\n",
      "[Parallel(n_jobs=20)]: Done 4960 tasks      | elapsed:    2.5s\n",
      "[Parallel(n_jobs=20)]: Done 6010 tasks      | elapsed:    3.0s\n",
      "[Parallel(n_jobs=20)]: Done 7160 tasks      | elapsed:    3.6s\n",
      "[Parallel(n_jobs=20)]: Done 8410 tasks      | elapsed:    4.2s\n",
      "[Parallel(n_jobs=20)]: Done 9760 tasks      | elapsed:    4.9s\n",
      "[Parallel(n_jobs=20)]: Done 10000 out of 10000 | elapsed:    5.0s finished\n"
     ]
    },
    {
     "name": "stdout",
     "output_type": "stream",
     "text": [
      "accuracy：0.79660\n",
      "precision_avg: 0.77079\n",
      "recall_avg: 0.79660\n",
      "f1_score_avg: 0.77720\n",
      "n_estimator = 10000\n",
      "max_depth = 50\n",
      "min_samples_split = 10\n",
      "min_samples_leaf = 5\n"
     ]
    },
    {
     "name": "stderr",
     "output_type": "stream",
     "text": [
      "[Parallel(n_jobs=-1)]: Using backend ThreadingBackend with 20 concurrent workers.\n",
      "[Parallel(n_jobs=-1)]: Done  10 tasks      | elapsed:    1.7s\n",
      "[Parallel(n_jobs=-1)]: Done 160 tasks      | elapsed:   13.9s\n",
      "[Parallel(n_jobs=-1)]: Done 410 tasks      | elapsed:   34.6s\n",
      "[Parallel(n_jobs=-1)]: Done 760 tasks      | elapsed:  1.1min\n",
      "[Parallel(n_jobs=-1)]: Done 1210 tasks      | elapsed:  1.7min\n",
      "[Parallel(n_jobs=-1)]: Done 1760 tasks      | elapsed:  2.4min\n",
      "[Parallel(n_jobs=-1)]: Done 2410 tasks      | elapsed:  3.3min\n",
      "[Parallel(n_jobs=-1)]: Done 3160 tasks      | elapsed:  4.3min\n",
      "[Parallel(n_jobs=-1)]: Done 4010 tasks      | elapsed:  5.4min\n",
      "[Parallel(n_jobs=-1)]: Done 4960 tasks      | elapsed:  6.7min\n",
      "[Parallel(n_jobs=-1)]: Done 6010 tasks      | elapsed:  8.2min\n",
      "[Parallel(n_jobs=-1)]: Done 7160 tasks      | elapsed:  9.7min\n",
      "[Parallel(n_jobs=-1)]: Done 8410 tasks      | elapsed: 11.4min\n",
      "[Parallel(n_jobs=-1)]: Done 9760 tasks      | elapsed: 13.3min\n",
      "[Parallel(n_jobs=-1)]: Done 10000 out of 10000 | elapsed: 13.6min finished\n",
      "[Parallel(n_jobs=20)]: Using backend ThreadingBackend with 20 concurrent workers.\n",
      "[Parallel(n_jobs=20)]: Done  10 tasks      | elapsed:    0.0s\n",
      "[Parallel(n_jobs=20)]: Done 160 tasks      | elapsed:    0.1s\n"
     ]
    },
    {
     "name": "stdout",
     "output_type": "stream",
     "text": [
      "done in 821.580s.\n"
     ]
    },
    {
     "name": "stderr",
     "output_type": "stream",
     "text": [
      "[Parallel(n_jobs=20)]: Done 410 tasks      | elapsed:    0.2s\n",
      "[Parallel(n_jobs=20)]: Done 760 tasks      | elapsed:    0.3s\n",
      "[Parallel(n_jobs=20)]: Done 1210 tasks      | elapsed:    0.5s\n",
      "[Parallel(n_jobs=20)]: Done 1760 tasks      | elapsed:    0.8s\n",
      "[Parallel(n_jobs=20)]: Done 2410 tasks      | elapsed:    1.1s\n",
      "[Parallel(n_jobs=20)]: Done 3160 tasks      | elapsed:    1.4s\n",
      "[Parallel(n_jobs=20)]: Done 4010 tasks      | elapsed:    1.8s\n",
      "[Parallel(n_jobs=20)]: Done 4960 tasks      | elapsed:    2.2s\n",
      "[Parallel(n_jobs=20)]: Done 6010 tasks      | elapsed:    2.7s\n",
      "[Parallel(n_jobs=20)]: Done 7160 tasks      | elapsed:    3.1s\n",
      "[Parallel(n_jobs=20)]: Done 8410 tasks      | elapsed:    3.7s\n",
      "[Parallel(n_jobs=20)]: Done 9760 tasks      | elapsed:    4.3s\n",
      "[Parallel(n_jobs=20)]: Done 10000 out of 10000 | elapsed:    4.3s finished\n"
     ]
    },
    {
     "name": "stdout",
     "output_type": "stream",
     "text": [
      "accuracy：0.78653\n",
      "precision_avg: 0.78058\n",
      "recall_avg: 0.78653\n",
      "f1_score_avg: 0.77880\n",
      "n_estimator = 10000\n",
      "max_depth = 50\n",
      "min_samples_split = 50\n",
      "min_samples_leaf = 1\n"
     ]
    },
    {
     "name": "stderr",
     "output_type": "stream",
     "text": [
      "[Parallel(n_jobs=-1)]: Using backend ThreadingBackend with 20 concurrent workers.\n",
      "[Parallel(n_jobs=-1)]: Done  10 tasks      | elapsed:    1.6s\n",
      "[Parallel(n_jobs=-1)]: Done 160 tasks      | elapsed:   13.2s\n",
      "[Parallel(n_jobs=-1)]: Done 410 tasks      | elapsed:   32.4s\n",
      "[Parallel(n_jobs=-1)]: Done 760 tasks      | elapsed:   59.1s\n",
      "[Parallel(n_jobs=-1)]: Done 1210 tasks      | elapsed:  1.6min\n",
      "[Parallel(n_jobs=-1)]: Done 1760 tasks      | elapsed:  2.3min\n",
      "[Parallel(n_jobs=-1)]: Done 2410 tasks      | elapsed:  3.1min\n",
      "[Parallel(n_jobs=-1)]: Done 3160 tasks      | elapsed:  4.1min\n",
      "[Parallel(n_jobs=-1)]: Done 4010 tasks      | elapsed:  5.2min\n",
      "[Parallel(n_jobs=-1)]: Done 4960 tasks      | elapsed:  6.5min\n",
      "[Parallel(n_jobs=-1)]: Done 6010 tasks      | elapsed:  7.9min\n",
      "[Parallel(n_jobs=-1)]: Done 7160 tasks      | elapsed:  9.4min\n",
      "[Parallel(n_jobs=-1)]: Done 8410 tasks      | elapsed: 11.1min\n",
      "[Parallel(n_jobs=-1)]: Done 9760 tasks      | elapsed: 12.9min\n",
      "[Parallel(n_jobs=-1)]: Done 10000 out of 10000 | elapsed: 13.2min finished\n",
      "[Parallel(n_jobs=20)]: Using backend ThreadingBackend with 20 concurrent workers.\n",
      "[Parallel(n_jobs=20)]: Done  10 tasks      | elapsed:    0.0s\n",
      "[Parallel(n_jobs=20)]: Done 160 tasks      | elapsed:    0.1s\n"
     ]
    },
    {
     "name": "stdout",
     "output_type": "stream",
     "text": [
      "done in 796.900s.\n"
     ]
    },
    {
     "name": "stderr",
     "output_type": "stream",
     "text": [
      "[Parallel(n_jobs=20)]: Done 410 tasks      | elapsed:    0.2s\n",
      "[Parallel(n_jobs=20)]: Done 760 tasks      | elapsed:    0.4s\n",
      "[Parallel(n_jobs=20)]: Done 1210 tasks      | elapsed:    0.6s\n",
      "[Parallel(n_jobs=20)]: Done 1760 tasks      | elapsed:    0.9s\n",
      "[Parallel(n_jobs=20)]: Done 2410 tasks      | elapsed:    1.2s\n",
      "[Parallel(n_jobs=20)]: Done 3160 tasks      | elapsed:    1.5s\n",
      "[Parallel(n_jobs=20)]: Done 4010 tasks      | elapsed:    1.9s\n",
      "[Parallel(n_jobs=20)]: Done 4960 tasks      | elapsed:    2.4s\n",
      "[Parallel(n_jobs=20)]: Done 6010 tasks      | elapsed:    2.9s\n",
      "[Parallel(n_jobs=20)]: Done 7160 tasks      | elapsed:    3.4s\n",
      "[Parallel(n_jobs=20)]: Done 8410 tasks      | elapsed:    3.9s\n",
      "[Parallel(n_jobs=20)]: Done 9760 tasks      | elapsed:    4.5s\n",
      "[Parallel(n_jobs=20)]: Done 10000 out of 10000 | elapsed:    4.6s finished\n"
     ]
    },
    {
     "name": "stdout",
     "output_type": "stream",
     "text": [
      "accuracy：0.78980\n",
      "precision_avg: 0.78314\n",
      "recall_avg: 0.78980\n",
      "f1_score_avg: 0.77967\n",
      "n_estimator = 10000\n",
      "max_depth = 50\n",
      "min_samples_split = 50\n",
      "min_samples_leaf = 5\n"
     ]
    },
    {
     "name": "stderr",
     "output_type": "stream",
     "text": [
      "[Parallel(n_jobs=-1)]: Using backend ThreadingBackend with 20 concurrent workers.\n",
      "[Parallel(n_jobs=-1)]: Done  10 tasks      | elapsed:    1.5s\n",
      "[Parallel(n_jobs=-1)]: Done 160 tasks      | elapsed:   11.8s\n",
      "[Parallel(n_jobs=-1)]: Done 410 tasks      | elapsed:   29.4s\n",
      "[Parallel(n_jobs=-1)]: Done 760 tasks      | elapsed:   53.0s\n",
      "[Parallel(n_jobs=-1)]: Done 1210 tasks      | elapsed:  1.4min\n",
      "[Parallel(n_jobs=-1)]: Done 1760 tasks      | elapsed:  2.0min\n",
      "[Parallel(n_jobs=-1)]: Done 2410 tasks      | elapsed:  2.8min\n",
      "[Parallel(n_jobs=-1)]: Done 3160 tasks      | elapsed:  3.6min\n",
      "[Parallel(n_jobs=-1)]: Done 4010 tasks      | elapsed:  4.6min\n",
      "[Parallel(n_jobs=-1)]: Done 4960 tasks      | elapsed:  5.7min\n",
      "[Parallel(n_jobs=-1)]: Done 6010 tasks      | elapsed:  6.9min\n",
      "[Parallel(n_jobs=-1)]: Done 7160 tasks      | elapsed:  8.3min\n",
      "[Parallel(n_jobs=-1)]: Done 8410 tasks      | elapsed:  9.7min\n",
      "[Parallel(n_jobs=-1)]: Done 9760 tasks      | elapsed: 11.3min\n",
      "[Parallel(n_jobs=-1)]: Done 10000 out of 10000 | elapsed: 11.6min finished\n",
      "[Parallel(n_jobs=20)]: Using backend ThreadingBackend with 20 concurrent workers.\n",
      "[Parallel(n_jobs=20)]: Done  10 tasks      | elapsed:    0.0s\n",
      "[Parallel(n_jobs=20)]: Done 160 tasks      | elapsed:    0.1s\n"
     ]
    },
    {
     "name": "stdout",
     "output_type": "stream",
     "text": [
      "done in 700.638s.\n"
     ]
    },
    {
     "name": "stderr",
     "output_type": "stream",
     "text": [
      "[Parallel(n_jobs=20)]: Done 410 tasks      | elapsed:    0.2s\n",
      "[Parallel(n_jobs=20)]: Done 760 tasks      | elapsed:    0.3s\n",
      "[Parallel(n_jobs=20)]: Done 1210 tasks      | elapsed:    0.5s\n",
      "[Parallel(n_jobs=20)]: Done 1760 tasks      | elapsed:    0.8s\n",
      "[Parallel(n_jobs=20)]: Done 2410 tasks      | elapsed:    1.1s\n",
      "[Parallel(n_jobs=20)]: Done 3160 tasks      | elapsed:    1.5s\n",
      "[Parallel(n_jobs=20)]: Done 4010 tasks      | elapsed:    1.9s\n",
      "[Parallel(n_jobs=20)]: Done 4960 tasks      | elapsed:    2.3s\n",
      "[Parallel(n_jobs=20)]: Done 6010 tasks      | elapsed:    2.7s\n",
      "[Parallel(n_jobs=20)]: Done 7160 tasks      | elapsed:    3.3s\n",
      "[Parallel(n_jobs=20)]: Done 8410 tasks      | elapsed:    3.8s\n",
      "[Parallel(n_jobs=20)]: Done 9760 tasks      | elapsed:    4.4s\n",
      "[Parallel(n_jobs=20)]: Done 10000 out of 10000 | elapsed:    4.5s finished\n"
     ]
    },
    {
     "name": "stdout",
     "output_type": "stream",
     "text": [
      "accuracy：0.78067\n",
      "precision_avg: 0.77856\n",
      "recall_avg: 0.78067\n",
      "f1_score_avg: 0.77694\n",
      "n_estimator = 10000\n",
      "max_depth = 50\n",
      "min_samples_split = 50\n",
      "min_samples_leaf = 10\n"
     ]
    },
    {
     "name": "stderr",
     "output_type": "stream",
     "text": [
      "[Parallel(n_jobs=-1)]: Using backend ThreadingBackend with 20 concurrent workers.\n",
      "[Parallel(n_jobs=-1)]: Done  10 tasks      | elapsed:    1.3s\n",
      "[Parallel(n_jobs=-1)]: Done 160 tasks      | elapsed:    9.9s\n",
      "[Parallel(n_jobs=-1)]: Done 410 tasks      | elapsed:   24.6s\n",
      "[Parallel(n_jobs=-1)]: Done 760 tasks      | elapsed:   45.0s\n",
      "[Parallel(n_jobs=-1)]: Done 1210 tasks      | elapsed:  1.2min\n",
      "[Parallel(n_jobs=-1)]: Done 1760 tasks      | elapsed:  1.7min\n",
      "[Parallel(n_jobs=-1)]: Done 2410 tasks      | elapsed:  2.4min\n",
      "[Parallel(n_jobs=-1)]: Done 3160 tasks      | elapsed:  3.1min\n",
      "[Parallel(n_jobs=-1)]: Done 4010 tasks      | elapsed:  3.9min\n",
      "[Parallel(n_jobs=-1)]: Done 4960 tasks      | elapsed:  4.8min\n",
      "[Parallel(n_jobs=-1)]: Done 6010 tasks      | elapsed:  5.8min\n",
      "[Parallel(n_jobs=-1)]: Done 7160 tasks      | elapsed:  7.0min\n",
      "[Parallel(n_jobs=-1)]: Done 8410 tasks      | elapsed:  8.2min\n",
      "[Parallel(n_jobs=-1)]: Done 9760 tasks      | elapsed:  9.5min\n",
      "[Parallel(n_jobs=-1)]: Done 10000 out of 10000 | elapsed:  9.7min finished\n",
      "[Parallel(n_jobs=20)]: Using backend ThreadingBackend with 20 concurrent workers.\n",
      "[Parallel(n_jobs=20)]: Done  10 tasks      | elapsed:    0.0s\n",
      "[Parallel(n_jobs=20)]: Done 160 tasks      | elapsed:    0.1s\n"
     ]
    },
    {
     "name": "stdout",
     "output_type": "stream",
     "text": [
      "done in 587.059s.\n"
     ]
    },
    {
     "name": "stderr",
     "output_type": "stream",
     "text": [
      "[Parallel(n_jobs=20)]: Done 410 tasks      | elapsed:    0.2s\n",
      "[Parallel(n_jobs=20)]: Done 760 tasks      | elapsed:    0.3s\n",
      "[Parallel(n_jobs=20)]: Done 1210 tasks      | elapsed:    0.5s\n",
      "[Parallel(n_jobs=20)]: Done 1760 tasks      | elapsed:    0.8s\n",
      "[Parallel(n_jobs=20)]: Done 2410 tasks      | elapsed:    1.0s\n",
      "[Parallel(n_jobs=20)]: Done 3160 tasks      | elapsed:    1.4s\n",
      "[Parallel(n_jobs=20)]: Done 4010 tasks      | elapsed:    1.7s\n",
      "[Parallel(n_jobs=20)]: Done 4960 tasks      | elapsed:    2.2s\n",
      "[Parallel(n_jobs=20)]: Done 6010 tasks      | elapsed:    2.7s\n",
      "[Parallel(n_jobs=20)]: Done 7160 tasks      | elapsed:    3.2s\n",
      "[Parallel(n_jobs=20)]: Done 8410 tasks      | elapsed:    3.8s\n",
      "[Parallel(n_jobs=20)]: Done 9760 tasks      | elapsed:    4.4s\n",
      "[Parallel(n_jobs=20)]: Done 10000 out of 10000 | elapsed:    4.5s finished\n"
     ]
    },
    {
     "name": "stdout",
     "output_type": "stream",
     "text": [
      "accuracy：0.76787\n",
      "precision_avg: 0.78259\n",
      "recall_avg: 0.76787\n",
      "f1_score_avg: 0.77279\n",
      "n_estimator = 10000\n",
      "max_depth = 50\n",
      "min_samples_split = 50\n",
      "min_samples_leaf = 20\n"
     ]
    },
    {
     "name": "stderr",
     "output_type": "stream",
     "text": [
      "[Parallel(n_jobs=-1)]: Using backend ThreadingBackend with 20 concurrent workers.\n",
      "[Parallel(n_jobs=-1)]: Done  10 tasks      | elapsed:    1.0s\n",
      "[Parallel(n_jobs=-1)]: Done 160 tasks      | elapsed:    7.7s\n",
      "[Parallel(n_jobs=-1)]: Done 410 tasks      | elapsed:   19.0s\n",
      "[Parallel(n_jobs=-1)]: Done 760 tasks      | elapsed:   34.8s\n",
      "[Parallel(n_jobs=-1)]: Done 1210 tasks      | elapsed:   55.2s\n",
      "[Parallel(n_jobs=-1)]: Done 1760 tasks      | elapsed:  1.3min\n",
      "[Parallel(n_jobs=-1)]: Done 2410 tasks      | elapsed:  1.8min\n",
      "[Parallel(n_jobs=-1)]: Done 3160 tasks      | elapsed:  2.4min\n",
      "[Parallel(n_jobs=-1)]: Done 4010 tasks      | elapsed:  3.0min\n",
      "[Parallel(n_jobs=-1)]: Done 4960 tasks      | elapsed:  3.7min\n",
      "[Parallel(n_jobs=-1)]: Done 6010 tasks      | elapsed:  4.5min\n",
      "[Parallel(n_jobs=-1)]: Done 7160 tasks      | elapsed:  5.4min\n",
      "[Parallel(n_jobs=-1)]: Done 8410 tasks      | elapsed:  6.3min\n",
      "[Parallel(n_jobs=-1)]: Done 9760 tasks      | elapsed:  7.3min\n",
      "[Parallel(n_jobs=-1)]: Done 10000 out of 10000 | elapsed:  7.5min finished\n",
      "[Parallel(n_jobs=20)]: Using backend ThreadingBackend with 20 concurrent workers.\n",
      "[Parallel(n_jobs=20)]: Done  10 tasks      | elapsed:    0.0s\n",
      "[Parallel(n_jobs=20)]: Done 160 tasks      | elapsed:    0.1s\n"
     ]
    },
    {
     "name": "stdout",
     "output_type": "stream",
     "text": [
      "done in 454.547s.\n"
     ]
    },
    {
     "name": "stderr",
     "output_type": "stream",
     "text": [
      "[Parallel(n_jobs=20)]: Done 410 tasks      | elapsed:    0.2s\n",
      "[Parallel(n_jobs=20)]: Done 760 tasks      | elapsed:    0.3s\n",
      "[Parallel(n_jobs=20)]: Done 1210 tasks      | elapsed:    0.5s\n",
      "[Parallel(n_jobs=20)]: Done 1760 tasks      | elapsed:    0.8s\n",
      "[Parallel(n_jobs=20)]: Done 2410 tasks      | elapsed:    1.1s\n",
      "[Parallel(n_jobs=20)]: Done 3160 tasks      | elapsed:    1.4s\n",
      "[Parallel(n_jobs=20)]: Done 4010 tasks      | elapsed:    1.8s\n",
      "[Parallel(n_jobs=20)]: Done 4960 tasks      | elapsed:    2.3s\n",
      "[Parallel(n_jobs=20)]: Done 6010 tasks      | elapsed:    2.7s\n",
      "[Parallel(n_jobs=20)]: Done 7160 tasks      | elapsed:    3.3s\n",
      "[Parallel(n_jobs=20)]: Done 8410 tasks      | elapsed:    3.8s\n",
      "[Parallel(n_jobs=20)]: Done 9760 tasks      | elapsed:    4.4s\n",
      "[Parallel(n_jobs=20)]: Done 10000 out of 10000 | elapsed:    4.5s finished\n"
     ]
    },
    {
     "name": "stdout",
     "output_type": "stream",
     "text": [
      "accuracy：0.74880\n",
      "precision_avg: 0.79181\n",
      "recall_avg: 0.74880\n",
      "f1_score_avg: 0.76576\n"
     ]
    }
   ],
   "source": [
    "##### 之前参数设置不合理，改一下\n",
    "\n",
    "\n",
    "for n_estimator in n_estimators_range:\n",
    "    for max_depth in max_depth_range:\n",
    "        for min_samples_split in min_samples_split_range:\n",
    "            for min_samples_leaf in min_samples_leaf_range:\n",
    "                # 设置这个条件才合理\n",
    "                if min_samples_split > min_samples_leaf:\n",
    "                        print('n_estimator = %d' % n_estimator)\n",
    "                        print('max_depth = %d' % max_depth)\n",
    "                        print('min_samples_split = %d' % min_samples_split)\n",
    "                        print('min_samples_leaf = %d' % min_samples_leaf)\n",
    "                        clf = RandomForestClassifier(\n",
    "                                                        n_estimators= n_estimator,\n",
    "                                                        criterion='gini',\n",
    "                                                        max_depth= max_depth,\n",
    "                                                        min_samples_split = min_samples_split,\n",
    "                                                        min_samples_leaf = min_samples_leaf,\n",
    "                                                        max_features= 'sqrt',\n",
    "                                                        bootstrap=True,\n",
    "                                                        random_state= 2020,\n",
    "                                                        verbose= 1,\n",
    "                                                        class_weight= 'balanced',\n",
    "                                                        n_jobs = -1\n",
    "                                                    )\n",
    "                        t0 = time()\n",
    "                        clf.fit(train_x, train_y)\n",
    "                        print(\"done in %0.3fs.\" % (time() - t0))\n",
    "                        predict_y = clf.predict(valid_x)\n",
    "                        # predict_prob_y = clf.predict_proba(valid_x)\n",
    "                        # 评价指标值\n",
    "                        accuracy, precision_avg, recall_avg, f1_score_avg = eval_p_r_f1(valid_y, predict_y)\n",
    "                        print('accuracy：%0.5f' % accuracy)\n",
    "                        print('precision_avg: %0.5f' % precision_avg)\n",
    "                        print('recall_avg: %0.5f' % recall_avg)\n",
    "                        print('f1_score_avg: %0.5f' % f1_score_avg)\n",
    "                \n",
    "                "
   ]
  },
  {
   "cell_type": "code",
   "execution_count": 20,
   "metadata": {},
   "outputs": [],
   "source": [
    "predict_y = clf.predict(valid_x)\n",
    "predict_prob_y = clf.predict_proba(valid_x)"
   ]
  },
  {
   "cell_type": "code",
   "execution_count": 23,
   "metadata": {
    "collapsed": true,
    "jupyter": {
     "outputs_hidden": true,
     "source_hidden": true
    }
   },
   "outputs": [
    {
     "name": "stdout",
     "output_type": "stream",
     "text": [
      "precision_avg: 0.81552\n",
      "recall_avg: 0.69727\n",
      "f1_score_avg: 0.73461\n"
     ]
    },
    {
     "name": "stderr",
     "output_type": "stream",
     "text": [
      "/usr/local/lib/python3.6/dist-packages/sklearn/metrics/_classification.py:1270: UserWarning: Note that pos_label (set to 0) is ignored when average != 'binary' (got 'micro'). You may use labels=[pos_label] to specify a single positive class.\n",
      "  % (pos_label, average), UserWarning)\n",
      "/usr/local/lib/python3.6/dist-packages/sklearn/metrics/_classification.py:1270: UserWarning: Note that pos_label (set to 2) is ignored when average != 'binary' (got 'micro'). You may use labels=[pos_label] to specify a single positive class.\n",
      "  % (pos_label, average), UserWarning)\n",
      "/usr/local/lib/python3.6/dist-packages/sklearn/metrics/_classification.py:1270: UserWarning: Note that pos_label (set to 3) is ignored when average != 'binary' (got 'micro'). You may use labels=[pos_label] to specify a single positive class.\n",
      "  % (pos_label, average), UserWarning)\n"
     ]
    }
   ],
   "source": [
    "# 评价指标值\n",
    "precision_avg, recall_avg, f1_score_avg = eval_p_r_f1(valid_y, predict_y)\n",
    "\n",
    "print('precision_avg: %0.5f' % precision_avg)\n",
    "print('recall_avg: %0.5f' % recall_avg)\n",
    "print('f1_score_avg: %0.5f' % f1_score_avg)"
   ]
  },
  {
   "cell_type": "raw",
   "metadata": {},
   "source": [
    "service 训练、验证"
   ]
  },
  {
   "cell_type": "code",
   "execution_count": 10,
   "metadata": {
    "collapsed": true,
    "jupyter": {
     "outputs_hidden": true,
     "source_hidden": true
    }
   },
   "outputs": [
    {
     "name": "stderr",
     "output_type": "stream",
     "text": [
      "[Parallel(n_jobs=-1)]: Using backend ThreadingBackend with 30 concurrent workers.\n",
      "[Parallel(n_jobs=-1)]: Done 140 tasks      | elapsed:    9.3s\n",
      "[Parallel(n_jobs=-1)]: Done 390 tasks      | elapsed:   24.5s\n",
      "[Parallel(n_jobs=-1)]: Done 740 tasks      | elapsed:   45.3s\n",
      "[Parallel(n_jobs=-1)]: Done 1190 tasks      | elapsed:  1.2min\n",
      "[Parallel(n_jobs=-1)]: Done 1740 tasks      | elapsed:  1.8min\n",
      "[Parallel(n_jobs=-1)]: Done 2390 tasks      | elapsed:  2.4min\n",
      "[Parallel(n_jobs=-1)]: Done 3140 tasks      | elapsed:  3.2min\n",
      "[Parallel(n_jobs=-1)]: Done 3990 tasks      | elapsed:  4.0min\n",
      "[Parallel(n_jobs=-1)]: Done 4940 tasks      | elapsed:  5.0min\n",
      "[Parallel(n_jobs=-1)]: Done 5000 out of 5000 | elapsed:  5.0min finished\n",
      "[Parallel(n_jobs=30)]: Using backend ThreadingBackend with 30 concurrent workers.\n",
      "[Parallel(n_jobs=30)]: Done 140 tasks      | elapsed:    0.1s\n",
      "[Parallel(n_jobs=30)]: Done 390 tasks      | elapsed:    0.2s\n"
     ]
    },
    {
     "name": "stdout",
     "output_type": "stream",
     "text": [
      "done in 302.388s.\n"
     ]
    },
    {
     "name": "stderr",
     "output_type": "stream",
     "text": [
      "[Parallel(n_jobs=30)]: Done 740 tasks      | elapsed:    0.3s\n",
      "[Parallel(n_jobs=30)]: Done 1190 tasks      | elapsed:    0.5s\n",
      "[Parallel(n_jobs=30)]: Done 1740 tasks      | elapsed:    0.7s\n",
      "[Parallel(n_jobs=30)]: Done 2390 tasks      | elapsed:    0.9s\n",
      "[Parallel(n_jobs=30)]: Done 3140 tasks      | elapsed:    1.2s\n",
      "[Parallel(n_jobs=30)]: Done 3990 tasks      | elapsed:    1.5s\n"
     ]
    },
    {
     "name": "stdout",
     "output_type": "stream",
     "text": [
      "accuracy：0.63520\n",
      "precision_avg: 0.62039\n",
      "recall_avg: 0.63520\n",
      "f1_score_avg: 0.62224\n"
     ]
    },
    {
     "name": "stderr",
     "output_type": "stream",
     "text": [
      "[Parallel(n_jobs=30)]: Done 4940 tasks      | elapsed:    1.9s\n",
      "[Parallel(n_jobs=30)]: Done 5000 out of 5000 | elapsed:    1.9s finished\n"
     ]
    }
   ],
   "source": [
    "clf = RandomForestClassifier(\n",
    "                                n_estimators= 5000,\n",
    "                                criterion='gini',\n",
    "                                max_depth= 50,\n",
    "                                min_samples_split = 50,\n",
    "                                min_samples_leaf = 1,\n",
    "                                max_features= 'sqrt',\n",
    "                                bootstrap=True,\n",
    "                                random_state= 2020,\n",
    "                                verbose= 1,\n",
    "                                class_weight= 'balanced',\n",
    "                                n_jobs = -1\n",
    "                            )\n",
    "t0 = time()\n",
    "clf.fit(train_x, train_y)\n",
    "print(\"done in %0.3fs.\" % (time() - t0))\n",
    "predict_y = clf.predict(valid_x)\n",
    "# predict_prob_y = clf.predict_proba(valid_x)\n",
    "# 评价指标值\n",
    "accuracy, precision_avg, recall_avg, f1_score_avg = eval_p_r_f1(valid_y, predict_y)\n",
    "print('accuracy：%0.5f' % accuracy )\n",
    "print('precision_avg: %0.5f' % precision_avg )\n",
    "print('recall_avg: %0.5f' % recall_avg )\n",
    "print('f1_score_avg: %0.5f' % f1_score_avg )\n"
   ]
  },
  {
   "cell_type": "raw",
   "metadata": {},
   "source": [
    "price 训练、验证"
   ]
  },
  {
   "cell_type": "code",
   "execution_count": 28,
   "metadata": {
    "collapsed": true,
    "jupyter": {
     "outputs_hidden": true,
     "source_hidden": true
    }
   },
   "outputs": [
    {
     "name": "stderr",
     "output_type": "stream",
     "text": [
      "[Parallel(n_jobs=-1)]: Using backend ThreadingBackend with 20 concurrent workers.\n",
      "[Parallel(n_jobs=-1)]: Done  10 tasks      | elapsed:    1.7s\n",
      "[Parallel(n_jobs=-1)]: Done 160 tasks      | elapsed:   13.5s\n",
      "[Parallel(n_jobs=-1)]: Done 410 tasks      | elapsed:   33.8s\n",
      "[Parallel(n_jobs=-1)]: Done 760 tasks      | elapsed:  1.0min\n",
      "[Parallel(n_jobs=-1)]: Done 1210 tasks      | elapsed:  1.6min\n",
      "[Parallel(n_jobs=-1)]: Done 1760 tasks      | elapsed:  2.4min\n",
      "[Parallel(n_jobs=-1)]: Done 2410 tasks      | elapsed:  3.2min\n",
      "[Parallel(n_jobs=-1)]: Done 3160 tasks      | elapsed:  4.2min\n",
      "[Parallel(n_jobs=-1)]: Done 4010 tasks      | elapsed:  5.4min\n",
      "[Parallel(n_jobs=-1)]: Done 4960 tasks      | elapsed:  6.6min\n",
      "[Parallel(n_jobs=-1)]: Done 5000 out of 5000 | elapsed:  6.7min finished\n",
      "[Parallel(n_jobs=20)]: Using backend ThreadingBackend with 20 concurrent workers.\n",
      "[Parallel(n_jobs=20)]: Done  10 tasks      | elapsed:    0.0s\n",
      "[Parallel(n_jobs=20)]: Done 160 tasks      | elapsed:    0.1s\n",
      "[Parallel(n_jobs=20)]: Done 410 tasks      | elapsed:    0.1s\n"
     ]
    },
    {
     "name": "stdout",
     "output_type": "stream",
     "text": [
      "done in 402.268s.\n"
     ]
    },
    {
     "name": "stderr",
     "output_type": "stream",
     "text": [
      "[Parallel(n_jobs=20)]: Done 760 tasks      | elapsed:    0.2s\n",
      "[Parallel(n_jobs=20)]: Done 1210 tasks      | elapsed:    0.4s\n",
      "[Parallel(n_jobs=20)]: Done 1760 tasks      | elapsed:    0.5s\n",
      "[Parallel(n_jobs=20)]: Done 2410 tasks      | elapsed:    0.7s\n",
      "[Parallel(n_jobs=20)]: Done 3160 tasks      | elapsed:    1.0s\n",
      "[Parallel(n_jobs=20)]: Done 4010 tasks      | elapsed:    1.3s\n"
     ]
    },
    {
     "name": "stdout",
     "output_type": "stream",
     "text": [
      "accuracy：0.60747\n",
      "precision_avg: 0.60396\n",
      "recall_avg: 0.60747\n",
      "f1_score_avg: 0.59642\n"
     ]
    },
    {
     "name": "stderr",
     "output_type": "stream",
     "text": [
      "[Parallel(n_jobs=20)]: Done 4960 tasks      | elapsed:    1.5s\n",
      "[Parallel(n_jobs=20)]: Done 5000 out of 5000 | elapsed:    1.5s finished\n"
     ]
    }
   ],
   "source": [
    "clf = RandomForestClassifier(\n",
    "                                n_estimators= 5000,\n",
    "                                criterion='gini',\n",
    "                                max_depth= 50,\n",
    "                                min_samples_split = 50,\n",
    "                                min_samples_leaf = 1,\n",
    "                                max_features= 'sqrt',\n",
    "                                bootstrap=True,\n",
    "                                random_state= 2020,\n",
    "                                verbose= 1,\n",
    "                                class_weight= 'balanced',\n",
    "                                n_jobs = -1\n",
    "                            )\n",
    "t0 = time()\n",
    "clf.fit(train_x, train_y)\n",
    "print(\"done in %0.3fs.\" % (time() - t0))\n",
    "predict_y = clf.predict(valid_x)\n",
    "# predict_prob_y = clf.predict_proba(valid_x)\n",
    "# 评价指标值\n",
    "accuracy, precision_avg, recall_avg, f1_score_avg = eval_p_r_f1(valid_y, predict_y)\n",
    "print('accuracy：%0.5f' % accuracy)\n",
    "print('precision_avg: %0.5f' % precision_avg)\n",
    "print('recall_avg: %0.5f' % recall_avg)\n",
    "print('f1_score_avg: %0.5f' % f1_score_avg)\n"
   ]
  },
  {
   "cell_type": "raw",
   "metadata": {},
   "source": [
    "env 训练、验证"
   ]
  },
  {
   "cell_type": "code",
   "execution_count": 10,
   "metadata": {
    "collapsed": true,
    "jupyter": {
     "outputs_hidden": true,
     "source_hidden": true
    }
   },
   "outputs": [
    {
     "name": "stderr",
     "output_type": "stream",
     "text": [
      "[Parallel(n_jobs=-1)]: Using backend ThreadingBackend with 20 concurrent workers.\n",
      "[Parallel(n_jobs=-1)]: Done  10 tasks      | elapsed:    1.8s\n",
      "[Parallel(n_jobs=-1)]: Done 160 tasks      | elapsed:   14.5s\n",
      "[Parallel(n_jobs=-1)]: Done 410 tasks      | elapsed:   36.3s\n",
      "[Parallel(n_jobs=-1)]: Done 760 tasks      | elapsed:  1.1min\n",
      "[Parallel(n_jobs=-1)]: Done 1210 tasks      | elapsed:  1.8min\n",
      "[Parallel(n_jobs=-1)]: Done 1760 tasks      | elapsed:  2.5min\n",
      "[Parallel(n_jobs=-1)]: Done 2410 tasks      | elapsed:  3.5min\n",
      "[Parallel(n_jobs=-1)]: Done 3160 tasks      | elapsed:  4.6min\n",
      "[Parallel(n_jobs=-1)]: Done 4010 tasks      | elapsed:  5.8min\n",
      "[Parallel(n_jobs=-1)]: Done 4960 tasks      | elapsed:  7.1min\n",
      "[Parallel(n_jobs=-1)]: Done 5000 out of 5000 | elapsed:  7.2min finished\n",
      "[Parallel(n_jobs=20)]: Using backend ThreadingBackend with 20 concurrent workers.\n",
      "[Parallel(n_jobs=20)]: Done  10 tasks      | elapsed:    0.0s\n",
      "[Parallel(n_jobs=20)]: Done 160 tasks      | elapsed:    0.1s\n",
      "[Parallel(n_jobs=20)]: Done 410 tasks      | elapsed:    0.2s\n"
     ]
    },
    {
     "name": "stdout",
     "output_type": "stream",
     "text": [
      "done in 433.064s.\n"
     ]
    },
    {
     "name": "stderr",
     "output_type": "stream",
     "text": [
      "[Parallel(n_jobs=20)]: Done 760 tasks      | elapsed:    0.3s\n",
      "[Parallel(n_jobs=20)]: Done 1210 tasks      | elapsed:    0.5s\n",
      "[Parallel(n_jobs=20)]: Done 1760 tasks      | elapsed:    0.7s\n",
      "[Parallel(n_jobs=20)]: Done 2410 tasks      | elapsed:    0.9s\n",
      "[Parallel(n_jobs=20)]: Done 3160 tasks      | elapsed:    1.2s\n",
      "[Parallel(n_jobs=20)]: Done 4010 tasks      | elapsed:    1.5s\n"
     ]
    },
    {
     "name": "stdout",
     "output_type": "stream",
     "text": [
      "accuracy：0.68453\n",
      "precision_avg: 0.65330\n",
      "recall_avg: 0.68453\n",
      "f1_score_avg: 0.65628\n"
     ]
    },
    {
     "name": "stderr",
     "output_type": "stream",
     "text": [
      "[Parallel(n_jobs=20)]: Done 4960 tasks      | elapsed:    1.9s\n",
      "[Parallel(n_jobs=20)]: Done 5000 out of 5000 | elapsed:    1.9s finished\n"
     ]
    }
   ],
   "source": [
    "clf = RandomForestClassifier(\n",
    "                                n_estimators= 5000,\n",
    "                                criterion='gini',\n",
    "                                max_depth= 50,\n",
    "                                min_samples_split = 50,\n",
    "                                min_samples_leaf = 1,\n",
    "                                max_features= 'sqrt',\n",
    "                                bootstrap=True,\n",
    "                                random_state= 2020,\n",
    "                                verbose= 1,\n",
    "                                class_weight= 'balanced',\n",
    "                                n_jobs = -1\n",
    "                            )\n",
    "t0 = time()\n",
    "clf.fit(train_x, train_y)\n",
    "print(\"done in %0.3fs.\" % (time() - t0))\n",
    "predict_y = clf.predict(valid_x)\n",
    "# predict_prob_y = clf.predict_proba(valid_x)\n",
    "# 评价指标值\n",
    "accuracy, precision_avg, recall_avg, f1_score_avg = eval_p_r_f1(valid_y, predict_y)\n",
    "print('accuracy：%0.5f' % accuracy)\n",
    "print('precision_avg: %0.5f' % precision_avg)\n",
    "print('recall_avg: %0.5f' % recall_avg)\n",
    "print('f1_score_avg: %0.5f' % f1_score_avg)\n"
   ]
  },
  {
   "cell_type": "raw",
   "metadata": {},
   "source": [
    "dish 训练、验证"
   ]
  },
  {
   "cell_type": "code",
   "execution_count": 18,
   "metadata": {
    "collapsed": true,
    "jupyter": {
     "outputs_hidden": true,
     "source_hidden": true
    }
   },
   "outputs": [
    {
     "name": "stderr",
     "output_type": "stream",
     "text": [
      "[Parallel(n_jobs=-1)]: Using backend ThreadingBackend with 20 concurrent workers.\n",
      "[Parallel(n_jobs=-1)]: Done  10 tasks      | elapsed:    2.0s\n",
      "[Parallel(n_jobs=-1)]: Done 160 tasks      | elapsed:   16.7s\n",
      "[Parallel(n_jobs=-1)]: Done 410 tasks      | elapsed:   41.9s\n",
      "[Parallel(n_jobs=-1)]: Done 760 tasks      | elapsed:  1.3min\n",
      "[Parallel(n_jobs=-1)]: Done 1210 tasks      | elapsed:  2.0min\n",
      "[Parallel(n_jobs=-1)]: Done 1760 tasks      | elapsed:  2.9min\n",
      "[Parallel(n_jobs=-1)]: Done 2410 tasks      | elapsed:  4.0min\n",
      "[Parallel(n_jobs=-1)]: Done 3160 tasks      | elapsed:  5.3min\n",
      "[Parallel(n_jobs=-1)]: Done 4010 tasks      | elapsed:  6.7min\n",
      "[Parallel(n_jobs=-1)]: Done 4960 tasks      | elapsed:  8.2min\n",
      "[Parallel(n_jobs=-1)]: Done 5000 out of 5000 | elapsed:  8.3min finished\n",
      "[Parallel(n_jobs=20)]: Using backend ThreadingBackend with 20 concurrent workers.\n",
      "[Parallel(n_jobs=20)]: Done  10 tasks      | elapsed:    0.0s\n",
      "[Parallel(n_jobs=20)]: Done 160 tasks      | elapsed:    0.1s\n"
     ]
    },
    {
     "name": "stdout",
     "output_type": "stream",
     "text": [
      "done in 499.574s.\n"
     ]
    },
    {
     "name": "stderr",
     "output_type": "stream",
     "text": [
      "[Parallel(n_jobs=20)]: Done 410 tasks      | elapsed:    0.2s\n",
      "[Parallel(n_jobs=20)]: Done 760 tasks      | elapsed:    0.3s\n",
      "[Parallel(n_jobs=20)]: Done 1210 tasks      | elapsed:    0.4s\n",
      "[Parallel(n_jobs=20)]: Done 1760 tasks      | elapsed:    0.6s\n",
      "[Parallel(n_jobs=20)]: Done 2410 tasks      | elapsed:    0.8s\n",
      "[Parallel(n_jobs=20)]: Done 3160 tasks      | elapsed:    1.1s\n",
      "[Parallel(n_jobs=20)]: Done 4010 tasks      | elapsed:    1.4s\n"
     ]
    },
    {
     "name": "stdout",
     "output_type": "stream",
     "text": [
      "accuracy：0.65360\n",
      "precision_avg: 0.65305\n",
      "recall_avg: 0.65360\n",
      "f1_score_avg: 0.64858\n"
     ]
    },
    {
     "name": "stderr",
     "output_type": "stream",
     "text": [
      "[Parallel(n_jobs=20)]: Done 4960 tasks      | elapsed:    1.8s\n",
      "[Parallel(n_jobs=20)]: Done 5000 out of 5000 | elapsed:    1.8s finished\n"
     ]
    }
   ],
   "source": [
    "clf = RandomForestClassifier(\n",
    "                                n_estimators= 5000,\n",
    "                                criterion='gini',\n",
    "                                max_depth= 50,\n",
    "                                min_samples_split = 50,\n",
    "                                min_samples_leaf = 1,\n",
    "                                max_features= 'sqrt',\n",
    "                                bootstrap=True,\n",
    "                                random_state= 2020,\n",
    "                                verbose= 1,\n",
    "                                class_weight= 'balanced',\n",
    "                                n_jobs = -1\n",
    "                            )\n",
    "t0 = time()\n",
    "clf.fit(train_x, train_y)\n",
    "print(\"done in %0.3fs.\" % (time() - t0))\n",
    "predict_y = clf.predict(valid_x)\n",
    "# predict_prob_y = clf.predict_proba(valid_x)\n",
    "# 评价指标值\n",
    "accuracy, precision_avg, recall_avg, f1_score_avg = eval_p_r_f1(valid_y, predict_y)\n",
    "print('accuracy：%0.5f' % accuracy)\n",
    "print('precision_avg: %0.5f' % precision_avg)\n",
    "print('recall_avg: %0.5f' % recall_avg)\n",
    "print('f1_score_avg: %0.5f' % f1_score_avg)\n"
   ]
  },
  {
   "cell_type": "raw",
   "metadata": {},
   "source": [
    "service 调参 "
   ]
  },
  {
   "cell_type": "code",
   "execution_count": 10,
   "metadata": {
    "collapsed": true,
    "jupyter": {
     "outputs_hidden": true,
     "source_hidden": true
    }
   },
   "outputs": [
    {
     "name": "stdout",
     "output_type": "stream",
     "text": [
      "n_estimator = 1000\n",
      "max_depth = 10\n",
      "min_samples_split = 2\n",
      "min_samples_leaf = 1\n"
     ]
    },
    {
     "name": "stderr",
     "output_type": "stream",
     "text": [
      "[Parallel(n_jobs=-1)]: Using backend ThreadingBackend with 20 concurrent workers.\n",
      "[Parallel(n_jobs=-1)]: Done  10 tasks      | elapsed:    0.2s\n",
      "[Parallel(n_jobs=-1)]: Done 160 tasks      | elapsed:    1.3s\n",
      "[Parallel(n_jobs=-1)]: Done 410 tasks      | elapsed:    3.3s\n",
      "[Parallel(n_jobs=-1)]: Done 760 tasks      | elapsed:    5.9s\n",
      "[Parallel(n_jobs=-1)]: Done 1000 out of 1000 | elapsed:    7.7s finished\n",
      "[Parallel(n_jobs=20)]: Using backend ThreadingBackend with 20 concurrent workers.\n",
      "[Parallel(n_jobs=20)]: Done  10 tasks      | elapsed:    0.0s\n",
      "[Parallel(n_jobs=20)]: Done 160 tasks      | elapsed:    0.1s\n"
     ]
    },
    {
     "name": "stdout",
     "output_type": "stream",
     "text": [
      "done in 8.236s.\n"
     ]
    },
    {
     "name": "stderr",
     "output_type": "stream",
     "text": [
      "[Parallel(n_jobs=20)]: Done 410 tasks      | elapsed:    0.2s\n",
      "[Parallel(n_jobs=20)]: Done 760 tasks      | elapsed:    0.3s\n",
      "[Parallel(n_jobs=20)]: Done 1000 out of 1000 | elapsed:    0.4s finished\n"
     ]
    },
    {
     "name": "stdout",
     "output_type": "stream",
     "text": [
      "accuracy：0.58093\n",
      "precision_avg: 0.60521\n",
      "recall_avg: 0.58093\n",
      "f1_score_avg: 0.56988\n",
      "n_estimator = 1000\n",
      "max_depth = 10\n",
      "min_samples_split = 10\n",
      "min_samples_leaf = 1\n"
     ]
    },
    {
     "name": "stderr",
     "output_type": "stream",
     "text": [
      "[Parallel(n_jobs=-1)]: Using backend ThreadingBackend with 20 concurrent workers.\n",
      "[Parallel(n_jobs=-1)]: Done  10 tasks      | elapsed:    0.2s\n",
      "[Parallel(n_jobs=-1)]: Done 160 tasks      | elapsed:    1.3s\n",
      "[Parallel(n_jobs=-1)]: Done 410 tasks      | elapsed:    3.1s\n",
      "[Parallel(n_jobs=-1)]: Done 760 tasks      | elapsed:    5.7s\n",
      "[Parallel(n_jobs=-1)]: Done 1000 out of 1000 | elapsed:    7.5s finished\n",
      "[Parallel(n_jobs=20)]: Using backend ThreadingBackend with 20 concurrent workers.\n",
      "[Parallel(n_jobs=20)]: Done  10 tasks      | elapsed:    0.0s\n",
      "[Parallel(n_jobs=20)]: Done 160 tasks      | elapsed:    0.1s\n"
     ]
    },
    {
     "name": "stdout",
     "output_type": "stream",
     "text": [
      "done in 8.030s.\n"
     ]
    },
    {
     "name": "stderr",
     "output_type": "stream",
     "text": [
      "[Parallel(n_jobs=20)]: Done 410 tasks      | elapsed:    0.2s\n",
      "[Parallel(n_jobs=20)]: Done 760 tasks      | elapsed:    0.3s\n",
      "[Parallel(n_jobs=20)]: Done 1000 out of 1000 | elapsed:    0.3s finished\n"
     ]
    },
    {
     "name": "stdout",
     "output_type": "stream",
     "text": [
      "accuracy：0.57980\n",
      "precision_avg: 0.60521\n",
      "recall_avg: 0.57980\n",
      "f1_score_avg: 0.56892\n",
      "n_estimator = 1000\n",
      "max_depth = 10\n",
      "min_samples_split = 10\n",
      "min_samples_leaf = 5\n"
     ]
    },
    {
     "name": "stderr",
     "output_type": "stream",
     "text": [
      "[Parallel(n_jobs=-1)]: Using backend ThreadingBackend with 20 concurrent workers.\n",
      "[Parallel(n_jobs=-1)]: Done  10 tasks      | elapsed:    0.2s\n",
      "[Parallel(n_jobs=-1)]: Done 160 tasks      | elapsed:    1.3s\n",
      "[Parallel(n_jobs=-1)]: Done 410 tasks      | elapsed:    3.1s\n",
      "[Parallel(n_jobs=-1)]: Done 760 tasks      | elapsed:    5.6s\n",
      "[Parallel(n_jobs=-1)]: Done 1000 out of 1000 | elapsed:    7.3s finished\n",
      "[Parallel(n_jobs=20)]: Using backend ThreadingBackend with 20 concurrent workers.\n",
      "[Parallel(n_jobs=20)]: Done  10 tasks      | elapsed:    0.0s\n",
      "[Parallel(n_jobs=20)]: Done 160 tasks      | elapsed:    0.1s\n",
      "[Parallel(n_jobs=20)]: Done 410 tasks      | elapsed:    0.2s\n"
     ]
    },
    {
     "name": "stdout",
     "output_type": "stream",
     "text": [
      "done in 7.744s.\n"
     ]
    },
    {
     "name": "stderr",
     "output_type": "stream",
     "text": [
      "[Parallel(n_jobs=20)]: Done 760 tasks      | elapsed:    0.3s\n",
      "[Parallel(n_jobs=20)]: Done 1000 out of 1000 | elapsed:    0.4s finished\n"
     ]
    },
    {
     "name": "stdout",
     "output_type": "stream",
     "text": [
      "accuracy：0.58020\n",
      "precision_avg: 0.60601\n",
      "recall_avg: 0.58020\n",
      "f1_score_avg: 0.56927\n",
      "n_estimator = 1000\n",
      "max_depth = 10\n",
      "min_samples_split = 50\n",
      "min_samples_leaf = 1\n"
     ]
    },
    {
     "name": "stderr",
     "output_type": "stream",
     "text": [
      "[Parallel(n_jobs=-1)]: Using backend ThreadingBackend with 20 concurrent workers.\n",
      "[Parallel(n_jobs=-1)]: Done  10 tasks      | elapsed:    0.2s\n",
      "[Parallel(n_jobs=-1)]: Done 160 tasks      | elapsed:    1.3s\n",
      "[Parallel(n_jobs=-1)]: Done 410 tasks      | elapsed:    3.0s\n",
      "[Parallel(n_jobs=-1)]: Done 760 tasks      | elapsed:    5.4s\n",
      "[Parallel(n_jobs=-1)]: Done 1000 out of 1000 | elapsed:    7.1s finished\n",
      "[Parallel(n_jobs=20)]: Using backend ThreadingBackend with 20 concurrent workers.\n",
      "[Parallel(n_jobs=20)]: Done  10 tasks      | elapsed:    0.0s\n",
      "[Parallel(n_jobs=20)]: Done 160 tasks      | elapsed:    0.1s\n",
      "[Parallel(n_jobs=20)]: Done 410 tasks      | elapsed:    0.2s\n"
     ]
    },
    {
     "name": "stdout",
     "output_type": "stream",
     "text": [
      "done in 7.546s.\n"
     ]
    },
    {
     "name": "stderr",
     "output_type": "stream",
     "text": [
      "[Parallel(n_jobs=20)]: Done 760 tasks      | elapsed:    0.3s\n",
      "[Parallel(n_jobs=20)]: Done 1000 out of 1000 | elapsed:    0.4s finished\n"
     ]
    },
    {
     "name": "stdout",
     "output_type": "stream",
     "text": [
      "accuracy：0.58040\n",
      "precision_avg: 0.60649\n",
      "recall_avg: 0.58040\n",
      "f1_score_avg: 0.56965\n",
      "n_estimator = 1000\n",
      "max_depth = 10\n",
      "min_samples_split = 50\n",
      "min_samples_leaf = 5\n"
     ]
    },
    {
     "name": "stderr",
     "output_type": "stream",
     "text": [
      "[Parallel(n_jobs=-1)]: Using backend ThreadingBackend with 20 concurrent workers.\n",
      "[Parallel(n_jobs=-1)]: Done  10 tasks      | elapsed:    0.2s\n",
      "[Parallel(n_jobs=-1)]: Done 160 tasks      | elapsed:    1.3s\n",
      "[Parallel(n_jobs=-1)]: Done 410 tasks      | elapsed:    3.0s\n",
      "[Parallel(n_jobs=-1)]: Done 760 tasks      | elapsed:    5.4s\n",
      "[Parallel(n_jobs=-1)]: Done 1000 out of 1000 | elapsed:    7.1s finished\n",
      "[Parallel(n_jobs=20)]: Using backend ThreadingBackend with 20 concurrent workers.\n",
      "[Parallel(n_jobs=20)]: Done  10 tasks      | elapsed:    0.0s\n",
      "[Parallel(n_jobs=20)]: Done 160 tasks      | elapsed:    0.1s\n"
     ]
    },
    {
     "name": "stdout",
     "output_type": "stream",
     "text": [
      "done in 7.537s.\n"
     ]
    },
    {
     "name": "stderr",
     "output_type": "stream",
     "text": [
      "[Parallel(n_jobs=20)]: Done 410 tasks      | elapsed:    0.2s\n",
      "[Parallel(n_jobs=20)]: Done 760 tasks      | elapsed:    0.3s\n",
      "[Parallel(n_jobs=20)]: Done 1000 out of 1000 | elapsed:    0.4s finished\n"
     ]
    },
    {
     "name": "stdout",
     "output_type": "stream",
     "text": [
      "accuracy：0.57827\n",
      "precision_avg: 0.60470\n",
      "recall_avg: 0.57827\n",
      "f1_score_avg: 0.56733\n",
      "n_estimator = 1000\n",
      "max_depth = 10\n",
      "min_samples_split = 50\n",
      "min_samples_leaf = 10\n"
     ]
    },
    {
     "name": "stderr",
     "output_type": "stream",
     "text": [
      "[Parallel(n_jobs=-1)]: Using backend ThreadingBackend with 20 concurrent workers.\n",
      "[Parallel(n_jobs=-1)]: Done  10 tasks      | elapsed:    0.2s\n",
      "[Parallel(n_jobs=-1)]: Done 160 tasks      | elapsed:    1.3s\n",
      "[Parallel(n_jobs=-1)]: Done 410 tasks      | elapsed:    3.1s\n",
      "[Parallel(n_jobs=-1)]: Done 760 tasks      | elapsed:    5.5s\n",
      "[Parallel(n_jobs=-1)]: Done 1000 out of 1000 | elapsed:    7.1s finished\n",
      "[Parallel(n_jobs=20)]: Using backend ThreadingBackend with 20 concurrent workers.\n",
      "[Parallel(n_jobs=20)]: Done  10 tasks      | elapsed:    0.0s\n",
      "[Parallel(n_jobs=20)]: Done 160 tasks      | elapsed:    0.1s\n"
     ]
    },
    {
     "name": "stdout",
     "output_type": "stream",
     "text": [
      "done in 7.522s.\n"
     ]
    },
    {
     "name": "stderr",
     "output_type": "stream",
     "text": [
      "[Parallel(n_jobs=20)]: Done 410 tasks      | elapsed:    0.1s\n",
      "[Parallel(n_jobs=20)]: Done 760 tasks      | elapsed:    0.3s\n",
      "[Parallel(n_jobs=20)]: Done 1000 out of 1000 | elapsed:    0.3s finished\n"
     ]
    },
    {
     "name": "stdout",
     "output_type": "stream",
     "text": [
      "accuracy：0.57893\n",
      "precision_avg: 0.60638\n",
      "recall_avg: 0.57893\n",
      "f1_score_avg: 0.56828\n",
      "n_estimator = 1000\n",
      "max_depth = 10\n",
      "min_samples_split = 50\n",
      "min_samples_leaf = 20\n"
     ]
    },
    {
     "name": "stderr",
     "output_type": "stream",
     "text": [
      "[Parallel(n_jobs=-1)]: Using backend ThreadingBackend with 20 concurrent workers.\n",
      "[Parallel(n_jobs=-1)]: Done  10 tasks      | elapsed:    0.2s\n",
      "[Parallel(n_jobs=-1)]: Done 160 tasks      | elapsed:    1.2s\n",
      "[Parallel(n_jobs=-1)]: Done 410 tasks      | elapsed:    3.0s\n",
      "[Parallel(n_jobs=-1)]: Done 760 tasks      | elapsed:    5.3s\n",
      "[Parallel(n_jobs=-1)]: Done 1000 out of 1000 | elapsed:    6.9s finished\n",
      "[Parallel(n_jobs=20)]: Using backend ThreadingBackend with 20 concurrent workers.\n",
      "[Parallel(n_jobs=20)]: Done  10 tasks      | elapsed:    0.0s\n",
      "[Parallel(n_jobs=20)]: Done 160 tasks      | elapsed:    0.1s\n",
      "[Parallel(n_jobs=20)]: Done 410 tasks      | elapsed:    0.1s\n"
     ]
    },
    {
     "name": "stdout",
     "output_type": "stream",
     "text": [
      "done in 7.341s.\n"
     ]
    },
    {
     "name": "stderr",
     "output_type": "stream",
     "text": [
      "[Parallel(n_jobs=20)]: Done 760 tasks      | elapsed:    0.3s\n",
      "[Parallel(n_jobs=20)]: Done 1000 out of 1000 | elapsed:    0.3s finished\n"
     ]
    },
    {
     "name": "stdout",
     "output_type": "stream",
     "text": [
      "accuracy：0.57733\n",
      "precision_avg: 0.60514\n",
      "recall_avg: 0.57733\n",
      "f1_score_avg: 0.56650\n",
      "n_estimator = 1000\n",
      "max_depth = 20\n",
      "min_samples_split = 2\n",
      "min_samples_leaf = 1\n"
     ]
    },
    {
     "name": "stderr",
     "output_type": "stream",
     "text": [
      "[Parallel(n_jobs=-1)]: Using backend ThreadingBackend with 20 concurrent workers.\n",
      "[Parallel(n_jobs=-1)]: Done  10 tasks      | elapsed:    0.6s\n",
      "[Parallel(n_jobs=-1)]: Done 160 tasks      | elapsed:    4.7s\n",
      "[Parallel(n_jobs=-1)]: Done 410 tasks      | elapsed:   11.3s\n",
      "[Parallel(n_jobs=-1)]: Done 760 tasks      | elapsed:   20.5s\n",
      "[Parallel(n_jobs=-1)]: Done 1000 out of 1000 | elapsed:   26.8s finished\n",
      "[Parallel(n_jobs=20)]: Using backend ThreadingBackend with 20 concurrent workers.\n",
      "[Parallel(n_jobs=20)]: Done  10 tasks      | elapsed:    0.0s\n",
      "[Parallel(n_jobs=20)]: Done 160 tasks      | elapsed:    0.1s\n",
      "[Parallel(n_jobs=20)]: Done 410 tasks      | elapsed:    0.2s\n"
     ]
    },
    {
     "name": "stdout",
     "output_type": "stream",
     "text": [
      "done in 27.195s.\n"
     ]
    },
    {
     "name": "stderr",
     "output_type": "stream",
     "text": [
      "[Parallel(n_jobs=20)]: Done 760 tasks      | elapsed:    0.3s\n",
      "[Parallel(n_jobs=20)]: Done 1000 out of 1000 | elapsed:    0.4s finished\n"
     ]
    },
    {
     "name": "stdout",
     "output_type": "stream",
     "text": [
      "accuracy：0.60720\n",
      "precision_avg: 0.61011\n",
      "recall_avg: 0.60720\n",
      "f1_score_avg: 0.59528\n",
      "n_estimator = 1000\n",
      "max_depth = 20\n",
      "min_samples_split = 10\n",
      "min_samples_leaf = 1\n"
     ]
    },
    {
     "name": "stderr",
     "output_type": "stream",
     "text": [
      "[Parallel(n_jobs=-1)]: Using backend ThreadingBackend with 20 concurrent workers.\n",
      "[Parallel(n_jobs=-1)]: Done  10 tasks      | elapsed:    0.5s\n",
      "[Parallel(n_jobs=-1)]: Done 160 tasks      | elapsed:    4.1s\n",
      "[Parallel(n_jobs=-1)]: Done 410 tasks      | elapsed:    9.9s\n",
      "[Parallel(n_jobs=-1)]: Done 760 tasks      | elapsed:   18.1s\n",
      "[Parallel(n_jobs=-1)]: Done 1000 out of 1000 | elapsed:   23.7s finished\n",
      "[Parallel(n_jobs=20)]: Using backend ThreadingBackend with 20 concurrent workers.\n",
      "[Parallel(n_jobs=20)]: Done  10 tasks      | elapsed:    0.0s\n",
      "[Parallel(n_jobs=20)]: Done 160 tasks      | elapsed:    0.1s\n"
     ]
    },
    {
     "name": "stdout",
     "output_type": "stream",
     "text": [
      "done in 24.174s.\n"
     ]
    },
    {
     "name": "stderr",
     "output_type": "stream",
     "text": [
      "[Parallel(n_jobs=20)]: Done 410 tasks      | elapsed:    0.2s\n",
      "[Parallel(n_jobs=20)]: Done 760 tasks      | elapsed:    0.3s\n",
      "[Parallel(n_jobs=20)]: Done 1000 out of 1000 | elapsed:    0.4s finished\n"
     ]
    },
    {
     "name": "stdout",
     "output_type": "stream",
     "text": [
      "accuracy：0.60420\n",
      "precision_avg: 0.61150\n",
      "recall_avg: 0.60420\n",
      "f1_score_avg: 0.59374\n",
      "n_estimator = 1000\n",
      "max_depth = 20\n",
      "min_samples_split = 10\n",
      "min_samples_leaf = 5\n"
     ]
    },
    {
     "name": "stderr",
     "output_type": "stream",
     "text": [
      "[Parallel(n_jobs=-1)]: Using backend ThreadingBackend with 20 concurrent workers.\n",
      "[Parallel(n_jobs=-1)]: Done  10 tasks      | elapsed:    0.5s\n",
      "[Parallel(n_jobs=-1)]: Done 160 tasks      | elapsed:    3.8s\n",
      "[Parallel(n_jobs=-1)]: Done 410 tasks      | elapsed:    9.0s\n",
      "[Parallel(n_jobs=-1)]: Done 760 tasks      | elapsed:   16.3s\n",
      "[Parallel(n_jobs=-1)]: Done 1000 out of 1000 | elapsed:   21.4s finished\n",
      "[Parallel(n_jobs=20)]: Using backend ThreadingBackend with 20 concurrent workers.\n",
      "[Parallel(n_jobs=20)]: Done  10 tasks      | elapsed:    0.0s\n",
      "[Parallel(n_jobs=20)]: Done 160 tasks      | elapsed:    0.1s\n"
     ]
    },
    {
     "name": "stdout",
     "output_type": "stream",
     "text": [
      "done in 21.864s.\n"
     ]
    },
    {
     "name": "stderr",
     "output_type": "stream",
     "text": [
      "[Parallel(n_jobs=20)]: Done 410 tasks      | elapsed:    0.2s\n",
      "[Parallel(n_jobs=20)]: Done 760 tasks      | elapsed:    0.3s\n",
      "[Parallel(n_jobs=20)]: Done 1000 out of 1000 | elapsed:    0.4s finished\n"
     ]
    },
    {
     "name": "stdout",
     "output_type": "stream",
     "text": [
      "accuracy：0.60040\n",
      "precision_avg: 0.61560\n",
      "recall_avg: 0.60040\n",
      "f1_score_avg: 0.59188\n",
      "n_estimator = 1000\n",
      "max_depth = 20\n",
      "min_samples_split = 50\n",
      "min_samples_leaf = 1\n"
     ]
    },
    {
     "name": "stderr",
     "output_type": "stream",
     "text": [
      "[Parallel(n_jobs=-1)]: Using backend ThreadingBackend with 20 concurrent workers.\n",
      "[Parallel(n_jobs=-1)]: Done  10 tasks      | elapsed:    0.4s\n",
      "[Parallel(n_jobs=-1)]: Done 160 tasks      | elapsed:    3.5s\n",
      "[Parallel(n_jobs=-1)]: Done 410 tasks      | elapsed:    8.3s\n",
      "[Parallel(n_jobs=-1)]: Done 760 tasks      | elapsed:   15.1s\n",
      "[Parallel(n_jobs=-1)]: Done 1000 out of 1000 | elapsed:   19.8s finished\n",
      "[Parallel(n_jobs=20)]: Using backend ThreadingBackend with 20 concurrent workers.\n",
      "[Parallel(n_jobs=20)]: Done  10 tasks      | elapsed:    0.0s\n",
      "[Parallel(n_jobs=20)]: Done 160 tasks      | elapsed:    0.1s\n",
      "[Parallel(n_jobs=20)]: Done 410 tasks      | elapsed:    0.1s\n"
     ]
    },
    {
     "name": "stdout",
     "output_type": "stream",
     "text": [
      "done in 20.304s.\n"
     ]
    },
    {
     "name": "stderr",
     "output_type": "stream",
     "text": [
      "[Parallel(n_jobs=20)]: Done 760 tasks      | elapsed:    0.2s\n",
      "[Parallel(n_jobs=20)]: Done 1000 out of 1000 | elapsed:    0.3s finished\n"
     ]
    },
    {
     "name": "stdout",
     "output_type": "stream",
     "text": [
      "accuracy：0.60167\n",
      "precision_avg: 0.61478\n",
      "recall_avg: 0.60167\n",
      "f1_score_avg: 0.59270\n",
      "n_estimator = 1000\n",
      "max_depth = 20\n",
      "min_samples_split = 50\n",
      "min_samples_leaf = 5\n"
     ]
    },
    {
     "name": "stderr",
     "output_type": "stream",
     "text": [
      "[Parallel(n_jobs=-1)]: Using backend ThreadingBackend with 20 concurrent workers.\n",
      "[Parallel(n_jobs=-1)]: Done  10 tasks      | elapsed:    0.4s\n",
      "[Parallel(n_jobs=-1)]: Done 160 tasks      | elapsed:    3.3s\n",
      "[Parallel(n_jobs=-1)]: Done 410 tasks      | elapsed:    7.9s\n",
      "[Parallel(n_jobs=-1)]: Done 760 tasks      | elapsed:   14.4s\n",
      "[Parallel(n_jobs=-1)]: Done 1000 out of 1000 | elapsed:   18.9s finished\n",
      "[Parallel(n_jobs=20)]: Using backend ThreadingBackend with 20 concurrent workers.\n",
      "[Parallel(n_jobs=20)]: Done  10 tasks      | elapsed:    0.0s\n",
      "[Parallel(n_jobs=20)]: Done 160 tasks      | elapsed:    0.1s\n"
     ]
    },
    {
     "name": "stdout",
     "output_type": "stream",
     "text": [
      "done in 19.351s.\n"
     ]
    },
    {
     "name": "stderr",
     "output_type": "stream",
     "text": [
      "[Parallel(n_jobs=20)]: Done 410 tasks      | elapsed:    0.2s\n",
      "[Parallel(n_jobs=20)]: Done 760 tasks      | elapsed:    0.3s\n",
      "[Parallel(n_jobs=20)]: Done 1000 out of 1000 | elapsed:    0.4s finished\n"
     ]
    },
    {
     "name": "stdout",
     "output_type": "stream",
     "text": [
      "accuracy：0.60100\n",
      "precision_avg: 0.61696\n",
      "recall_avg: 0.60100\n",
      "f1_score_avg: 0.59266\n",
      "n_estimator = 1000\n",
      "max_depth = 20\n",
      "min_samples_split = 50\n",
      "min_samples_leaf = 10\n"
     ]
    },
    {
     "name": "stderr",
     "output_type": "stream",
     "text": [
      "[Parallel(n_jobs=-1)]: Using backend ThreadingBackend with 20 concurrent workers.\n",
      "[Parallel(n_jobs=-1)]: Done  10 tasks      | elapsed:    0.4s\n",
      "[Parallel(n_jobs=-1)]: Done 160 tasks      | elapsed:    3.0s\n",
      "[Parallel(n_jobs=-1)]: Done 410 tasks      | elapsed:    7.4s\n",
      "[Parallel(n_jobs=-1)]: Done 760 tasks      | elapsed:   13.5s\n",
      "[Parallel(n_jobs=-1)]: Done 1000 out of 1000 | elapsed:   17.7s finished\n",
      "[Parallel(n_jobs=20)]: Using backend ThreadingBackend with 20 concurrent workers.\n",
      "[Parallel(n_jobs=20)]: Done  10 tasks      | elapsed:    0.0s\n",
      "[Parallel(n_jobs=20)]: Done 160 tasks      | elapsed:    0.1s\n"
     ]
    },
    {
     "name": "stdout",
     "output_type": "stream",
     "text": [
      "done in 18.153s.\n"
     ]
    },
    {
     "name": "stderr",
     "output_type": "stream",
     "text": [
      "[Parallel(n_jobs=20)]: Done 410 tasks      | elapsed:    0.2s\n",
      "[Parallel(n_jobs=20)]: Done 760 tasks      | elapsed:    0.3s\n",
      "[Parallel(n_jobs=20)]: Done 1000 out of 1000 | elapsed:    0.4s finished\n"
     ]
    },
    {
     "name": "stdout",
     "output_type": "stream",
     "text": [
      "accuracy：0.59780\n",
      "precision_avg: 0.61754\n",
      "recall_avg: 0.59780\n",
      "f1_score_avg: 0.59021\n",
      "n_estimator = 1000\n",
      "max_depth = 20\n",
      "min_samples_split = 50\n",
      "min_samples_leaf = 20\n"
     ]
    },
    {
     "name": "stderr",
     "output_type": "stream",
     "text": [
      "[Parallel(n_jobs=-1)]: Using backend ThreadingBackend with 20 concurrent workers.\n",
      "[Parallel(n_jobs=-1)]: Done  10 tasks      | elapsed:    0.4s\n",
      "[Parallel(n_jobs=-1)]: Done 160 tasks      | elapsed:    2.8s\n",
      "[Parallel(n_jobs=-1)]: Done 410 tasks      | elapsed:    6.7s\n",
      "[Parallel(n_jobs=-1)]: Done 760 tasks      | elapsed:   12.2s\n",
      "[Parallel(n_jobs=-1)]: Done 1000 out of 1000 | elapsed:   16.0s finished\n",
      "[Parallel(n_jobs=20)]: Using backend ThreadingBackend with 20 concurrent workers.\n",
      "[Parallel(n_jobs=20)]: Done  10 tasks      | elapsed:    0.0s\n",
      "[Parallel(n_jobs=20)]: Done 160 tasks      | elapsed:    0.1s\n",
      "[Parallel(n_jobs=20)]: Done 410 tasks      | elapsed:    0.2s\n"
     ]
    },
    {
     "name": "stdout",
     "output_type": "stream",
     "text": [
      "done in 16.471s.\n"
     ]
    },
    {
     "name": "stderr",
     "output_type": "stream",
     "text": [
      "[Parallel(n_jobs=20)]: Done 760 tasks      | elapsed:    0.3s\n",
      "[Parallel(n_jobs=20)]: Done 1000 out of 1000 | elapsed:    0.4s finished\n"
     ]
    },
    {
     "name": "stdout",
     "output_type": "stream",
     "text": [
      "accuracy：0.59473\n",
      "precision_avg: 0.61701\n",
      "recall_avg: 0.59473\n",
      "f1_score_avg: 0.58755\n",
      "n_estimator = 1000\n",
      "max_depth = 50\n",
      "min_samples_split = 2\n",
      "min_samples_leaf = 1\n"
     ]
    },
    {
     "name": "stderr",
     "output_type": "stream",
     "text": [
      "[Parallel(n_jobs=-1)]: Using backend ThreadingBackend with 20 concurrent workers.\n",
      "[Parallel(n_jobs=-1)]: Done  10 tasks      | elapsed:    2.8s\n",
      "[Parallel(n_jobs=-1)]: Done 160 tasks      | elapsed:   23.2s\n",
      "[Parallel(n_jobs=-1)]: Done 410 tasks      | elapsed:   57.8s\n",
      "[Parallel(n_jobs=-1)]: Done 760 tasks      | elapsed:  1.8min\n",
      "[Parallel(n_jobs=-1)]: Done 1000 out of 1000 | elapsed:  2.3min finished\n",
      "[Parallel(n_jobs=20)]: Using backend ThreadingBackend with 20 concurrent workers.\n",
      "[Parallel(n_jobs=20)]: Done  10 tasks      | elapsed:    0.0s\n",
      "[Parallel(n_jobs=20)]: Done 160 tasks      | elapsed:    0.1s\n"
     ]
    },
    {
     "name": "stdout",
     "output_type": "stream",
     "text": [
      "done in 138.241s.\n"
     ]
    },
    {
     "name": "stderr",
     "output_type": "stream",
     "text": [
      "[Parallel(n_jobs=20)]: Done 410 tasks      | elapsed:    0.2s\n",
      "[Parallel(n_jobs=20)]: Done 760 tasks      | elapsed:    0.4s\n",
      "[Parallel(n_jobs=20)]: Done 1000 out of 1000 | elapsed:    0.6s finished\n"
     ]
    },
    {
     "name": "stdout",
     "output_type": "stream",
     "text": [
      "accuracy：0.64740\n",
      "precision_avg: 0.60768\n",
      "recall_avg: 0.64740\n",
      "f1_score_avg: 0.61327\n",
      "n_estimator = 1000\n",
      "max_depth = 50\n",
      "min_samples_split = 10\n",
      "min_samples_leaf = 1\n"
     ]
    },
    {
     "name": "stderr",
     "output_type": "stream",
     "text": [
      "[Parallel(n_jobs=-1)]: Using backend ThreadingBackend with 20 concurrent workers.\n",
      "[Parallel(n_jobs=-1)]: Done  10 tasks      | elapsed:    2.5s\n",
      "[Parallel(n_jobs=-1)]: Done 160 tasks      | elapsed:   20.7s\n",
      "[Parallel(n_jobs=-1)]: Done 410 tasks      | elapsed:   50.1s\n",
      "[Parallel(n_jobs=-1)]: Done 760 tasks      | elapsed:  1.5min\n",
      "[Parallel(n_jobs=-1)]: Done 1000 out of 1000 | elapsed:  2.0min finished\n",
      "[Parallel(n_jobs=20)]: Using backend ThreadingBackend with 20 concurrent workers.\n",
      "[Parallel(n_jobs=20)]: Done  10 tasks      | elapsed:    0.0s\n",
      "[Parallel(n_jobs=20)]: Done 160 tasks      | elapsed:    0.1s\n"
     ]
    },
    {
     "name": "stdout",
     "output_type": "stream",
     "text": [
      "done in 121.369s.\n"
     ]
    },
    {
     "name": "stderr",
     "output_type": "stream",
     "text": [
      "[Parallel(n_jobs=20)]: Done 410 tasks      | elapsed:    0.2s\n",
      "[Parallel(n_jobs=20)]: Done 760 tasks      | elapsed:    0.3s\n",
      "[Parallel(n_jobs=20)]: Done 1000 out of 1000 | elapsed:    0.4s finished\n"
     ]
    },
    {
     "name": "stdout",
     "output_type": "stream",
     "text": [
      "accuracy：0.64580\n",
      "precision_avg: 0.61368\n",
      "recall_avg: 0.64580\n",
      "f1_score_avg: 0.62090\n",
      "n_estimator = 1000\n",
      "max_depth = 50\n",
      "min_samples_split = 10\n",
      "min_samples_leaf = 5\n"
     ]
    },
    {
     "name": "stderr",
     "output_type": "stream",
     "text": [
      "[Parallel(n_jobs=-1)]: Using backend ThreadingBackend with 20 concurrent workers.\n",
      "[Parallel(n_jobs=-1)]: Done  10 tasks      | elapsed:    1.8s\n",
      "[Parallel(n_jobs=-1)]: Done 160 tasks      | elapsed:   14.5s\n",
      "[Parallel(n_jobs=-1)]: Done 410 tasks      | elapsed:   36.0s\n",
      "[Parallel(n_jobs=-1)]: Done 760 tasks      | elapsed:  1.1min\n",
      "[Parallel(n_jobs=-1)]: Done 1000 out of 1000 | elapsed:  1.4min finished\n",
      "[Parallel(n_jobs=20)]: Using backend ThreadingBackend with 20 concurrent workers.\n",
      "[Parallel(n_jobs=20)]: Done  10 tasks      | elapsed:    0.0s\n",
      "[Parallel(n_jobs=20)]: Done 160 tasks      | elapsed:    0.1s\n"
     ]
    },
    {
     "name": "stdout",
     "output_type": "stream",
     "text": [
      "done in 87.201s.\n"
     ]
    },
    {
     "name": "stderr",
     "output_type": "stream",
     "text": [
      "[Parallel(n_jobs=20)]: Done 410 tasks      | elapsed:    0.2s\n",
      "[Parallel(n_jobs=20)]: Done 760 tasks      | elapsed:    0.3s\n",
      "[Parallel(n_jobs=20)]: Done 1000 out of 1000 | elapsed:    0.4s finished\n"
     ]
    },
    {
     "name": "stdout",
     "output_type": "stream",
     "text": [
      "accuracy：0.63087\n",
      "precision_avg: 0.62225\n",
      "recall_avg: 0.63087\n",
      "f1_score_avg: 0.62076\n",
      "n_estimator = 1000\n",
      "max_depth = 50\n",
      "min_samples_split = 50\n",
      "min_samples_leaf = 1\n"
     ]
    },
    {
     "name": "stderr",
     "output_type": "stream",
     "text": [
      "[Parallel(n_jobs=-1)]: Using backend ThreadingBackend with 20 concurrent workers.\n",
      "[Parallel(n_jobs=-1)]: Done  10 tasks      | elapsed:    1.9s\n",
      "[Parallel(n_jobs=-1)]: Done 160 tasks      | elapsed:   14.9s\n",
      "[Parallel(n_jobs=-1)]: Done 410 tasks      | elapsed:   36.8s\n",
      "[Parallel(n_jobs=-1)]: Done 760 tasks      | elapsed:  1.1min\n",
      "[Parallel(n_jobs=-1)]: Done 1000 out of 1000 | elapsed:  1.5min finished\n",
      "[Parallel(n_jobs=20)]: Using backend ThreadingBackend with 20 concurrent workers.\n",
      "[Parallel(n_jobs=20)]: Done  10 tasks      | elapsed:    0.0s\n",
      "[Parallel(n_jobs=20)]: Done 160 tasks      | elapsed:    0.1s\n"
     ]
    },
    {
     "name": "stdout",
     "output_type": "stream",
     "text": [
      "done in 89.021s.\n"
     ]
    },
    {
     "name": "stderr",
     "output_type": "stream",
     "text": [
      "[Parallel(n_jobs=20)]: Done 410 tasks      | elapsed:    0.2s\n",
      "[Parallel(n_jobs=20)]: Done 760 tasks      | elapsed:    0.3s\n",
      "[Parallel(n_jobs=20)]: Done 1000 out of 1000 | elapsed:    0.4s finished\n"
     ]
    },
    {
     "name": "stdout",
     "output_type": "stream",
     "text": [
      "accuracy：0.63680\n",
      "precision_avg: 0.62241\n",
      "recall_avg: 0.63680\n",
      "f1_score_avg: 0.62402\n",
      "n_estimator = 1000\n",
      "max_depth = 50\n",
      "min_samples_split = 50\n",
      "min_samples_leaf = 5\n"
     ]
    },
    {
     "name": "stderr",
     "output_type": "stream",
     "text": [
      "[Parallel(n_jobs=-1)]: Using backend ThreadingBackend with 20 concurrent workers.\n",
      "[Parallel(n_jobs=-1)]: Done  10 tasks      | elapsed:    1.5s\n",
      "[Parallel(n_jobs=-1)]: Done 160 tasks      | elapsed:   12.3s\n",
      "[Parallel(n_jobs=-1)]: Done 410 tasks      | elapsed:   30.4s\n",
      "[Parallel(n_jobs=-1)]: Done 760 tasks      | elapsed:   55.6s\n",
      "[Parallel(n_jobs=-1)]: Done 1000 out of 1000 | elapsed:  1.2min finished\n",
      "[Parallel(n_jobs=20)]: Using backend ThreadingBackend with 20 concurrent workers.\n",
      "[Parallel(n_jobs=20)]: Done  10 tasks      | elapsed:    0.0s\n",
      "[Parallel(n_jobs=20)]: Done 160 tasks      | elapsed:    0.1s\n"
     ]
    },
    {
     "name": "stdout",
     "output_type": "stream",
     "text": [
      "done in 73.592s.\n"
     ]
    },
    {
     "name": "stderr",
     "output_type": "stream",
     "text": [
      "[Parallel(n_jobs=20)]: Done 410 tasks      | elapsed:    0.2s\n",
      "[Parallel(n_jobs=20)]: Done 760 tasks      | elapsed:    0.3s\n",
      "[Parallel(n_jobs=20)]: Done 1000 out of 1000 | elapsed:    0.4s finished\n"
     ]
    },
    {
     "name": "stdout",
     "output_type": "stream",
     "text": [
      "accuracy：0.62753\n",
      "precision_avg: 0.62282\n",
      "recall_avg: 0.62753\n",
      "f1_score_avg: 0.61888\n",
      "n_estimator = 1000\n",
      "max_depth = 50\n",
      "min_samples_split = 50\n",
      "min_samples_leaf = 10\n"
     ]
    },
    {
     "name": "stderr",
     "output_type": "stream",
     "text": [
      "[Parallel(n_jobs=-1)]: Using backend ThreadingBackend with 20 concurrent workers.\n",
      "[Parallel(n_jobs=-1)]: Done  10 tasks      | elapsed:    1.2s\n",
      "[Parallel(n_jobs=-1)]: Done 160 tasks      | elapsed:    9.4s\n",
      "[Parallel(n_jobs=-1)]: Done 410 tasks      | elapsed:   23.9s\n",
      "[Parallel(n_jobs=-1)]: Done 760 tasks      | elapsed:   43.6s\n",
      "[Parallel(n_jobs=-1)]: Done 1000 out of 1000 | elapsed:   57.4s finished\n",
      "[Parallel(n_jobs=20)]: Using backend ThreadingBackend with 20 concurrent workers.\n",
      "[Parallel(n_jobs=20)]: Done  10 tasks      | elapsed:    0.0s\n",
      "[Parallel(n_jobs=20)]: Done 160 tasks      | elapsed:    0.1s\n"
     ]
    },
    {
     "name": "stdout",
     "output_type": "stream",
     "text": [
      "done in 57.843s.\n"
     ]
    },
    {
     "name": "stderr",
     "output_type": "stream",
     "text": [
      "[Parallel(n_jobs=20)]: Done 410 tasks      | elapsed:    0.2s\n",
      "[Parallel(n_jobs=20)]: Done 760 tasks      | elapsed:    0.3s\n",
      "[Parallel(n_jobs=20)]: Done 1000 out of 1000 | elapsed:    0.4s finished\n"
     ]
    },
    {
     "name": "stdout",
     "output_type": "stream",
     "text": [
      "accuracy：0.61740\n",
      "precision_avg: 0.62427\n",
      "recall_avg: 0.61740\n",
      "f1_score_avg: 0.61265\n",
      "n_estimator = 1000\n",
      "max_depth = 50\n",
      "min_samples_split = 50\n",
      "min_samples_leaf = 20\n"
     ]
    },
    {
     "name": "stderr",
     "output_type": "stream",
     "text": [
      "[Parallel(n_jobs=-1)]: Using backend ThreadingBackend with 20 concurrent workers.\n",
      "[Parallel(n_jobs=-1)]: Done  10 tasks      | elapsed:    0.9s\n",
      "[Parallel(n_jobs=-1)]: Done 160 tasks      | elapsed:    6.9s\n",
      "[Parallel(n_jobs=-1)]: Done 410 tasks      | elapsed:   17.4s\n",
      "[Parallel(n_jobs=-1)]: Done 760 tasks      | elapsed:   31.7s\n",
      "[Parallel(n_jobs=-1)]: Done 1000 out of 1000 | elapsed:   41.6s finished\n",
      "[Parallel(n_jobs=20)]: Using backend ThreadingBackend with 20 concurrent workers.\n",
      "[Parallel(n_jobs=20)]: Done  10 tasks      | elapsed:    0.0s\n",
      "[Parallel(n_jobs=20)]: Done 160 tasks      | elapsed:    0.1s\n"
     ]
    },
    {
     "name": "stdout",
     "output_type": "stream",
     "text": [
      "done in 42.096s.\n"
     ]
    },
    {
     "name": "stderr",
     "output_type": "stream",
     "text": [
      "[Parallel(n_jobs=20)]: Done 410 tasks      | elapsed:    0.2s\n",
      "[Parallel(n_jobs=20)]: Done 760 tasks      | elapsed:    0.3s\n",
      "[Parallel(n_jobs=20)]: Done 1000 out of 1000 | elapsed:    0.4s finished\n"
     ]
    },
    {
     "name": "stdout",
     "output_type": "stream",
     "text": [
      "accuracy：0.61127\n",
      "precision_avg: 0.62773\n",
      "recall_avg: 0.61127\n",
      "f1_score_avg: 0.60865\n",
      "n_estimator = 5000\n",
      "max_depth = 10\n",
      "min_samples_split = 2\n",
      "min_samples_leaf = 1\n"
     ]
    },
    {
     "name": "stderr",
     "output_type": "stream",
     "text": [
      "[Parallel(n_jobs=-1)]: Using backend ThreadingBackend with 20 concurrent workers.\n",
      "[Parallel(n_jobs=-1)]: Done  10 tasks      | elapsed:    0.2s\n",
      "[Parallel(n_jobs=-1)]: Done 160 tasks      | elapsed:    1.4s\n",
      "[Parallel(n_jobs=-1)]: Done 410 tasks      | elapsed:    3.3s\n",
      "[Parallel(n_jobs=-1)]: Done 760 tasks      | elapsed:    6.0s\n",
      "[Parallel(n_jobs=-1)]: Done 1210 tasks      | elapsed:    9.5s\n",
      "[Parallel(n_jobs=-1)]: Done 1760 tasks      | elapsed:   13.6s\n",
      "[Parallel(n_jobs=-1)]: Done 2410 tasks      | elapsed:   18.5s\n",
      "[Parallel(n_jobs=-1)]: Done 3160 tasks      | elapsed:   24.0s\n",
      "[Parallel(n_jobs=-1)]: Done 4010 tasks      | elapsed:   30.5s\n",
      "[Parallel(n_jobs=-1)]: Done 4960 tasks      | elapsed:   37.4s\n",
      "[Parallel(n_jobs=-1)]: Done 5000 out of 5000 | elapsed:   37.7s finished\n",
      "[Parallel(n_jobs=20)]: Using backend ThreadingBackend with 20 concurrent workers.\n",
      "[Parallel(n_jobs=20)]: Done  10 tasks      | elapsed:    0.0s\n",
      "[Parallel(n_jobs=20)]: Done 160 tasks      | elapsed:    0.1s\n",
      "[Parallel(n_jobs=20)]: Done 410 tasks      | elapsed:    0.2s\n"
     ]
    },
    {
     "name": "stdout",
     "output_type": "stream",
     "text": [
      "done in 39.458s.\n"
     ]
    },
    {
     "name": "stderr",
     "output_type": "stream",
     "text": [
      "[Parallel(n_jobs=20)]: Done 760 tasks      | elapsed:    0.3s\n",
      "[Parallel(n_jobs=20)]: Done 1210 tasks      | elapsed:    0.5s\n",
      "[Parallel(n_jobs=20)]: Done 1760 tasks      | elapsed:    0.6s\n",
      "[Parallel(n_jobs=20)]: Done 2410 tasks      | elapsed:    0.9s\n",
      "[Parallel(n_jobs=20)]: Done 3160 tasks      | elapsed:    1.1s\n",
      "[Parallel(n_jobs=20)]: Done 4010 tasks      | elapsed:    1.4s\n",
      "[Parallel(n_jobs=20)]: Done 4960 tasks      | elapsed:    1.7s\n",
      "[Parallel(n_jobs=20)]: Done 5000 out of 5000 | elapsed:    1.7s finished\n"
     ]
    },
    {
     "name": "stdout",
     "output_type": "stream",
     "text": [
      "accuracy：0.58067\n",
      "precision_avg: 0.60548\n",
      "recall_avg: 0.58067\n",
      "f1_score_avg: 0.56953\n",
      "n_estimator = 5000\n",
      "max_depth = 10\n",
      "min_samples_split = 10\n",
      "min_samples_leaf = 1\n"
     ]
    },
    {
     "name": "stderr",
     "output_type": "stream",
     "text": [
      "[Parallel(n_jobs=-1)]: Using backend ThreadingBackend with 20 concurrent workers.\n",
      "[Parallel(n_jobs=-1)]: Done  10 tasks      | elapsed:    0.2s\n",
      "[Parallel(n_jobs=-1)]: Done 160 tasks      | elapsed:    1.3s\n",
      "[Parallel(n_jobs=-1)]: Done 410 tasks      | elapsed:    3.2s\n",
      "[Parallel(n_jobs=-1)]: Done 760 tasks      | elapsed:    5.8s\n",
      "[Parallel(n_jobs=-1)]: Done 1210 tasks      | elapsed:    9.4s\n",
      "[Parallel(n_jobs=-1)]: Done 1760 tasks      | elapsed:   13.5s\n",
      "[Parallel(n_jobs=-1)]: Done 2410 tasks      | elapsed:   18.3s\n",
      "[Parallel(n_jobs=-1)]: Done 3160 tasks      | elapsed:   23.7s\n",
      "[Parallel(n_jobs=-1)]: Done 4010 tasks      | elapsed:   30.1s\n",
      "[Parallel(n_jobs=-1)]: Done 4960 tasks      | elapsed:   37.3s\n",
      "[Parallel(n_jobs=-1)]: Done 5000 out of 5000 | elapsed:   37.6s finished\n",
      "[Parallel(n_jobs=20)]: Using backend ThreadingBackend with 20 concurrent workers.\n",
      "[Parallel(n_jobs=20)]: Done  10 tasks      | elapsed:    0.0s\n",
      "[Parallel(n_jobs=20)]: Done 160 tasks      | elapsed:    0.1s\n"
     ]
    },
    {
     "name": "stdout",
     "output_type": "stream",
     "text": [
      "done in 39.274s.\n"
     ]
    },
    {
     "name": "stderr",
     "output_type": "stream",
     "text": [
      "[Parallel(n_jobs=20)]: Done 410 tasks      | elapsed:    0.1s\n",
      "[Parallel(n_jobs=20)]: Done 760 tasks      | elapsed:    0.2s\n",
      "[Parallel(n_jobs=20)]: Done 1210 tasks      | elapsed:    0.4s\n",
      "[Parallel(n_jobs=20)]: Done 1760 tasks      | elapsed:    0.5s\n",
      "[Parallel(n_jobs=20)]: Done 2410 tasks      | elapsed:    0.7s\n",
      "[Parallel(n_jobs=20)]: Done 3160 tasks      | elapsed:    0.9s\n",
      "[Parallel(n_jobs=20)]: Done 4010 tasks      | elapsed:    1.2s\n",
      "[Parallel(n_jobs=20)]: Done 4960 tasks      | elapsed:    1.4s\n",
      "[Parallel(n_jobs=20)]: Done 5000 out of 5000 | elapsed:    1.4s finished\n"
     ]
    },
    {
     "name": "stdout",
     "output_type": "stream",
     "text": [
      "accuracy：0.58007\n",
      "precision_avg: 0.60567\n",
      "recall_avg: 0.58007\n",
      "f1_score_avg: 0.56916\n",
      "n_estimator = 5000\n",
      "max_depth = 10\n",
      "min_samples_split = 10\n",
      "min_samples_leaf = 5\n"
     ]
    },
    {
     "name": "stderr",
     "output_type": "stream",
     "text": [
      "[Parallel(n_jobs=-1)]: Using backend ThreadingBackend with 20 concurrent workers.\n",
      "[Parallel(n_jobs=-1)]: Done  10 tasks      | elapsed:    0.2s\n",
      "[Parallel(n_jobs=-1)]: Done 160 tasks      | elapsed:    1.3s\n",
      "[Parallel(n_jobs=-1)]: Done 410 tasks      | elapsed:    3.1s\n",
      "[Parallel(n_jobs=-1)]: Done 760 tasks      | elapsed:    5.6s\n",
      "[Parallel(n_jobs=-1)]: Done 1210 tasks      | elapsed:    8.9s\n",
      "[Parallel(n_jobs=-1)]: Done 1760 tasks      | elapsed:   12.8s\n",
      "[Parallel(n_jobs=-1)]: Done 2410 tasks      | elapsed:   17.4s\n",
      "[Parallel(n_jobs=-1)]: Done 3160 tasks      | elapsed:   22.7s\n",
      "[Parallel(n_jobs=-1)]: Done 4010 tasks      | elapsed:   28.7s\n",
      "[Parallel(n_jobs=-1)]: Done 4960 tasks      | elapsed:   35.4s\n",
      "[Parallel(n_jobs=-1)]: Done 5000 out of 5000 | elapsed:   35.7s finished\n",
      "[Parallel(n_jobs=20)]: Using backend ThreadingBackend with 20 concurrent workers.\n",
      "[Parallel(n_jobs=20)]: Done  10 tasks      | elapsed:    0.0s\n",
      "[Parallel(n_jobs=20)]: Done 160 tasks      | elapsed:    0.1s\n"
     ]
    },
    {
     "name": "stdout",
     "output_type": "stream",
     "text": [
      "done in 37.359s.\n"
     ]
    },
    {
     "name": "stderr",
     "output_type": "stream",
     "text": [
      "[Parallel(n_jobs=20)]: Done 410 tasks      | elapsed:    0.2s\n",
      "[Parallel(n_jobs=20)]: Done 760 tasks      | elapsed:    0.3s\n",
      "[Parallel(n_jobs=20)]: Done 1210 tasks      | elapsed:    0.4s\n",
      "[Parallel(n_jobs=20)]: Done 1760 tasks      | elapsed:    0.7s\n",
      "[Parallel(n_jobs=20)]: Done 2410 tasks      | elapsed:    0.9s\n",
      "[Parallel(n_jobs=20)]: Done 3160 tasks      | elapsed:    1.1s\n",
      "[Parallel(n_jobs=20)]: Done 4010 tasks      | elapsed:    1.4s\n",
      "[Parallel(n_jobs=20)]: Done 4960 tasks      | elapsed:    1.7s\n",
      "[Parallel(n_jobs=20)]: Done 5000 out of 5000 | elapsed:    1.7s finished\n"
     ]
    },
    {
     "name": "stdout",
     "output_type": "stream",
     "text": [
      "accuracy：0.57993\n",
      "precision_avg: 0.60660\n",
      "recall_avg: 0.57993\n",
      "f1_score_avg: 0.56910\n",
      "n_estimator = 5000\n",
      "max_depth = 10\n",
      "min_samples_split = 50\n",
      "min_samples_leaf = 1\n"
     ]
    },
    {
     "name": "stderr",
     "output_type": "stream",
     "text": [
      "[Parallel(n_jobs=-1)]: Using backend ThreadingBackend with 20 concurrent workers.\n",
      "[Parallel(n_jobs=-1)]: Done  10 tasks      | elapsed:    0.2s\n",
      "[Parallel(n_jobs=-1)]: Done 160 tasks      | elapsed:    1.2s\n",
      "[Parallel(n_jobs=-1)]: Done 410 tasks      | elapsed:    2.9s\n",
      "[Parallel(n_jobs=-1)]: Done 760 tasks      | elapsed:    5.3s\n",
      "[Parallel(n_jobs=-1)]: Done 1210 tasks      | elapsed:    8.4s\n",
      "[Parallel(n_jobs=-1)]: Done 1760 tasks      | elapsed:   12.2s\n",
      "[Parallel(n_jobs=-1)]: Done 2410 tasks      | elapsed:   16.8s\n",
      "[Parallel(n_jobs=-1)]: Done 3160 tasks      | elapsed:   21.9s\n",
      "[Parallel(n_jobs=-1)]: Done 4010 tasks      | elapsed:   27.7s\n",
      "[Parallel(n_jobs=-1)]: Done 4960 tasks      | elapsed:   34.1s\n",
      "[Parallel(n_jobs=-1)]: Done 5000 out of 5000 | elapsed:   34.3s finished\n",
      "[Parallel(n_jobs=20)]: Using backend ThreadingBackend with 20 concurrent workers.\n",
      "[Parallel(n_jobs=20)]: Done  10 tasks      | elapsed:    0.0s\n",
      "[Parallel(n_jobs=20)]: Done 160 tasks      | elapsed:    0.1s\n",
      "[Parallel(n_jobs=20)]: Done 410 tasks      | elapsed:    0.2s\n"
     ]
    },
    {
     "name": "stdout",
     "output_type": "stream",
     "text": [
      "done in 35.898s.\n"
     ]
    },
    {
     "name": "stderr",
     "output_type": "stream",
     "text": [
      "[Parallel(n_jobs=20)]: Done 760 tasks      | elapsed:    0.3s\n",
      "[Parallel(n_jobs=20)]: Done 1210 tasks      | elapsed:    0.4s\n",
      "[Parallel(n_jobs=20)]: Done 1760 tasks      | elapsed:    0.6s\n",
      "[Parallel(n_jobs=20)]: Done 2410 tasks      | elapsed:    0.8s\n",
      "[Parallel(n_jobs=20)]: Done 3160 tasks      | elapsed:    1.0s\n",
      "[Parallel(n_jobs=20)]: Done 4010 tasks      | elapsed:    1.3s\n",
      "[Parallel(n_jobs=20)]: Done 4960 tasks      | elapsed:    1.6s\n",
      "[Parallel(n_jobs=20)]: Done 5000 out of 5000 | elapsed:    1.6s finished\n"
     ]
    },
    {
     "name": "stdout",
     "output_type": "stream",
     "text": [
      "accuracy：0.57873\n",
      "precision_avg: 0.60560\n",
      "recall_avg: 0.57873\n",
      "f1_score_avg: 0.56805\n",
      "n_estimator = 5000\n",
      "max_depth = 10\n",
      "min_samples_split = 50\n",
      "min_samples_leaf = 5\n"
     ]
    },
    {
     "name": "stderr",
     "output_type": "stream",
     "text": [
      "[Parallel(n_jobs=-1)]: Using backend ThreadingBackend with 20 concurrent workers.\n",
      "[Parallel(n_jobs=-1)]: Done  10 tasks      | elapsed:    0.3s\n",
      "[Parallel(n_jobs=-1)]: Done 160 tasks      | elapsed:    1.4s\n",
      "[Parallel(n_jobs=-1)]: Done 410 tasks      | elapsed:    3.2s\n",
      "[Parallel(n_jobs=-1)]: Done 760 tasks      | elapsed:    5.5s\n",
      "[Parallel(n_jobs=-1)]: Done 1210 tasks      | elapsed:    8.7s\n",
      "[Parallel(n_jobs=-1)]: Done 1760 tasks      | elapsed:   12.6s\n",
      "[Parallel(n_jobs=-1)]: Done 2410 tasks      | elapsed:   17.2s\n",
      "[Parallel(n_jobs=-1)]: Done 3160 tasks      | elapsed:   22.6s\n",
      "[Parallel(n_jobs=-1)]: Done 4010 tasks      | elapsed:   28.5s\n",
      "[Parallel(n_jobs=-1)]: Done 4960 tasks      | elapsed:   35.3s\n",
      "[Parallel(n_jobs=-1)]: Done 5000 out of 5000 | elapsed:   35.5s finished\n",
      "[Parallel(n_jobs=20)]: Using backend ThreadingBackend with 20 concurrent workers.\n",
      "[Parallel(n_jobs=20)]: Done  10 tasks      | elapsed:    0.0s\n",
      "[Parallel(n_jobs=20)]: Done 160 tasks      | elapsed:    0.1s\n"
     ]
    },
    {
     "name": "stdout",
     "output_type": "stream",
     "text": [
      "done in 37.199s.\n"
     ]
    },
    {
     "name": "stderr",
     "output_type": "stream",
     "text": [
      "[Parallel(n_jobs=20)]: Done 410 tasks      | elapsed:    0.2s\n",
      "[Parallel(n_jobs=20)]: Done 760 tasks      | elapsed:    0.3s\n",
      "[Parallel(n_jobs=20)]: Done 1210 tasks      | elapsed:    0.4s\n",
      "[Parallel(n_jobs=20)]: Done 1760 tasks      | elapsed:    0.6s\n",
      "[Parallel(n_jobs=20)]: Done 2410 tasks      | elapsed:    0.8s\n",
      "[Parallel(n_jobs=20)]: Done 3160 tasks      | elapsed:    1.1s\n",
      "[Parallel(n_jobs=20)]: Done 4010 tasks      | elapsed:    1.4s\n",
      "[Parallel(n_jobs=20)]: Done 4960 tasks      | elapsed:    1.7s\n",
      "[Parallel(n_jobs=20)]: Done 5000 out of 5000 | elapsed:    1.7s finished\n"
     ]
    },
    {
     "name": "stdout",
     "output_type": "stream",
     "text": [
      "accuracy：0.57873\n",
      "precision_avg: 0.60644\n",
      "recall_avg: 0.57873\n",
      "f1_score_avg: 0.56820\n",
      "n_estimator = 5000\n",
      "max_depth = 10\n",
      "min_samples_split = 50\n",
      "min_samples_leaf = 10\n"
     ]
    },
    {
     "name": "stderr",
     "output_type": "stream",
     "text": [
      "[Parallel(n_jobs=-1)]: Using backend ThreadingBackend with 20 concurrent workers.\n",
      "[Parallel(n_jobs=-1)]: Done  10 tasks      | elapsed:    0.2s\n",
      "[Parallel(n_jobs=-1)]: Done 160 tasks      | elapsed:    1.3s\n",
      "[Parallel(n_jobs=-1)]: Done 410 tasks      | elapsed:    3.1s\n",
      "[Parallel(n_jobs=-1)]: Done 760 tasks      | elapsed:    5.6s\n",
      "[Parallel(n_jobs=-1)]: Done 1210 tasks      | elapsed:    8.8s\n",
      "[Parallel(n_jobs=-1)]: Done 1760 tasks      | elapsed:   12.8s\n",
      "[Parallel(n_jobs=-1)]: Done 2410 tasks      | elapsed:   17.4s\n",
      "[Parallel(n_jobs=-1)]: Done 3160 tasks      | elapsed:   22.7s\n",
      "[Parallel(n_jobs=-1)]: Done 4010 tasks      | elapsed:   28.7s\n",
      "[Parallel(n_jobs=-1)]: Done 4960 tasks      | elapsed:   35.4s\n",
      "[Parallel(n_jobs=-1)]: Done 5000 out of 5000 | elapsed:   35.7s finished\n",
      "[Parallel(n_jobs=20)]: Using backend ThreadingBackend with 20 concurrent workers.\n",
      "[Parallel(n_jobs=20)]: Done  10 tasks      | elapsed:    0.0s\n",
      "[Parallel(n_jobs=20)]: Done 160 tasks      | elapsed:    0.1s\n"
     ]
    },
    {
     "name": "stdout",
     "output_type": "stream",
     "text": [
      "done in 37.317s.\n"
     ]
    },
    {
     "name": "stderr",
     "output_type": "stream",
     "text": [
      "[Parallel(n_jobs=20)]: Done 410 tasks      | elapsed:    0.2s\n",
      "[Parallel(n_jobs=20)]: Done 760 tasks      | elapsed:    0.3s\n",
      "[Parallel(n_jobs=20)]: Done 1210 tasks      | elapsed:    0.4s\n",
      "[Parallel(n_jobs=20)]: Done 1760 tasks      | elapsed:    0.6s\n",
      "[Parallel(n_jobs=20)]: Done 2410 tasks      | elapsed:    0.8s\n",
      "[Parallel(n_jobs=20)]: Done 3160 tasks      | elapsed:    1.0s\n",
      "[Parallel(n_jobs=20)]: Done 4010 tasks      | elapsed:    1.2s\n",
      "[Parallel(n_jobs=20)]: Done 4960 tasks      | elapsed:    1.5s\n",
      "[Parallel(n_jobs=20)]: Done 5000 out of 5000 | elapsed:    1.5s finished\n"
     ]
    },
    {
     "name": "stdout",
     "output_type": "stream",
     "text": [
      "accuracy：0.57940\n",
      "precision_avg: 0.60791\n",
      "recall_avg: 0.57940\n",
      "f1_score_avg: 0.56910\n",
      "n_estimator = 5000\n",
      "max_depth = 10\n",
      "min_samples_split = 50\n",
      "min_samples_leaf = 20\n"
     ]
    },
    {
     "name": "stderr",
     "output_type": "stream",
     "text": [
      "[Parallel(n_jobs=-1)]: Using backend ThreadingBackend with 20 concurrent workers.\n",
      "[Parallel(n_jobs=-1)]: Done  10 tasks      | elapsed:    0.2s\n",
      "[Parallel(n_jobs=-1)]: Done 160 tasks      | elapsed:    1.2s\n",
      "[Parallel(n_jobs=-1)]: Done 410 tasks      | elapsed:    3.0s\n",
      "[Parallel(n_jobs=-1)]: Done 760 tasks      | elapsed:    5.4s\n",
      "[Parallel(n_jobs=-1)]: Done 1210 tasks      | elapsed:    8.6s\n",
      "[Parallel(n_jobs=-1)]: Done 1760 tasks      | elapsed:   12.4s\n",
      "[Parallel(n_jobs=-1)]: Done 2410 tasks      | elapsed:   17.0s\n",
      "[Parallel(n_jobs=-1)]: Done 3160 tasks      | elapsed:   22.2s\n",
      "[Parallel(n_jobs=-1)]: Done 4010 tasks      | elapsed:   28.2s\n",
      "[Parallel(n_jobs=-1)]: Done 4960 tasks      | elapsed:   34.6s\n",
      "[Parallel(n_jobs=-1)]: Done 5000 out of 5000 | elapsed:   34.9s finished\n",
      "[Parallel(n_jobs=20)]: Using backend ThreadingBackend with 20 concurrent workers.\n",
      "[Parallel(n_jobs=20)]: Done  10 tasks      | elapsed:    0.0s\n",
      "[Parallel(n_jobs=20)]: Done 160 tasks      | elapsed:    0.1s\n"
     ]
    },
    {
     "name": "stdout",
     "output_type": "stream",
     "text": [
      "done in 36.573s.\n"
     ]
    },
    {
     "name": "stderr",
     "output_type": "stream",
     "text": [
      "[Parallel(n_jobs=20)]: Done 410 tasks      | elapsed:    0.2s\n",
      "[Parallel(n_jobs=20)]: Done 760 tasks      | elapsed:    0.3s\n",
      "[Parallel(n_jobs=20)]: Done 1210 tasks      | elapsed:    0.4s\n",
      "[Parallel(n_jobs=20)]: Done 1760 tasks      | elapsed:    0.6s\n",
      "[Parallel(n_jobs=20)]: Done 2410 tasks      | elapsed:    0.9s\n",
      "[Parallel(n_jobs=20)]: Done 3160 tasks      | elapsed:    1.1s\n",
      "[Parallel(n_jobs=20)]: Done 4010 tasks      | elapsed:    1.4s\n",
      "[Parallel(n_jobs=20)]: Done 4960 tasks      | elapsed:    1.7s\n",
      "[Parallel(n_jobs=20)]: Done 5000 out of 5000 | elapsed:    1.7s finished\n"
     ]
    },
    {
     "name": "stdout",
     "output_type": "stream",
     "text": [
      "accuracy：0.57780\n",
      "precision_avg: 0.60651\n",
      "recall_avg: 0.57780\n",
      "f1_score_avg: 0.56718\n",
      "n_estimator = 5000\n",
      "max_depth = 20\n",
      "min_samples_split = 2\n",
      "min_samples_leaf = 1\n"
     ]
    },
    {
     "name": "stderr",
     "output_type": "stream",
     "text": [
      "[Parallel(n_jobs=-1)]: Using backend ThreadingBackend with 20 concurrent workers.\n",
      "[Parallel(n_jobs=-1)]: Done  10 tasks      | elapsed:    0.6s\n",
      "[Parallel(n_jobs=-1)]: Done 160 tasks      | elapsed:    4.5s\n",
      "[Parallel(n_jobs=-1)]: Done 410 tasks      | elapsed:   11.0s\n",
      "[Parallel(n_jobs=-1)]: Done 760 tasks      | elapsed:   20.0s\n",
      "[Parallel(n_jobs=-1)]: Done 1210 tasks      | elapsed:   31.6s\n",
      "[Parallel(n_jobs=-1)]: Done 1760 tasks      | elapsed:   45.8s\n",
      "[Parallel(n_jobs=-1)]: Done 2410 tasks      | elapsed:  1.0min\n",
      "[Parallel(n_jobs=-1)]: Done 3160 tasks      | elapsed:  1.4min\n",
      "[Parallel(n_jobs=-1)]: Done 4010 tasks      | elapsed:  1.7min\n",
      "[Parallel(n_jobs=-1)]: Done 4960 tasks      | elapsed:  2.1min\n",
      "[Parallel(n_jobs=-1)]: Done 5000 out of 5000 | elapsed:  2.2min finished\n",
      "[Parallel(n_jobs=20)]: Using backend ThreadingBackend with 20 concurrent workers.\n",
      "[Parallel(n_jobs=20)]: Done  10 tasks      | elapsed:    0.0s\n",
      "[Parallel(n_jobs=20)]: Done 160 tasks      | elapsed:    0.1s\n"
     ]
    },
    {
     "name": "stdout",
     "output_type": "stream",
     "text": [
      "done in 130.974s.\n"
     ]
    },
    {
     "name": "stderr",
     "output_type": "stream",
     "text": [
      "[Parallel(n_jobs=20)]: Done 410 tasks      | elapsed:    0.2s\n",
      "[Parallel(n_jobs=20)]: Done 760 tasks      | elapsed:    0.3s\n",
      "[Parallel(n_jobs=20)]: Done 1210 tasks      | elapsed:    0.5s\n",
      "[Parallel(n_jobs=20)]: Done 1760 tasks      | elapsed:    0.7s\n",
      "[Parallel(n_jobs=20)]: Done 2410 tasks      | elapsed:    0.9s\n",
      "[Parallel(n_jobs=20)]: Done 3160 tasks      | elapsed:    1.1s\n",
      "[Parallel(n_jobs=20)]: Done 4010 tasks      | elapsed:    1.4s\n",
      "[Parallel(n_jobs=20)]: Done 4960 tasks      | elapsed:    1.7s\n",
      "[Parallel(n_jobs=20)]: Done 5000 out of 5000 | elapsed:    1.7s finished\n"
     ]
    },
    {
     "name": "stdout",
     "output_type": "stream",
     "text": [
      "accuracy：0.60720\n",
      "precision_avg: 0.61001\n",
      "recall_avg: 0.60720\n",
      "f1_score_avg: 0.59599\n",
      "n_estimator = 5000\n",
      "max_depth = 20\n",
      "min_samples_split = 10\n",
      "min_samples_leaf = 1\n"
     ]
    },
    {
     "name": "stderr",
     "output_type": "stream",
     "text": [
      "[Parallel(n_jobs=-1)]: Using backend ThreadingBackend with 20 concurrent workers.\n",
      "[Parallel(n_jobs=-1)]: Done  10 tasks      | elapsed:    0.5s\n",
      "[Parallel(n_jobs=-1)]: Done 160 tasks      | elapsed:    4.0s\n",
      "[Parallel(n_jobs=-1)]: Done 410 tasks      | elapsed:   10.0s\n",
      "[Parallel(n_jobs=-1)]: Done 760 tasks      | elapsed:   18.2s\n",
      "[Parallel(n_jobs=-1)]: Done 1210 tasks      | elapsed:   29.1s\n",
      "[Parallel(n_jobs=-1)]: Done 1760 tasks      | elapsed:   42.1s\n",
      "[Parallel(n_jobs=-1)]: Done 2410 tasks      | elapsed:   57.8s\n",
      "[Parallel(n_jobs=-1)]: Done 3160 tasks      | elapsed:  1.3min\n",
      "[Parallel(n_jobs=-1)]: Done 4010 tasks      | elapsed:  1.6min\n",
      "[Parallel(n_jobs=-1)]: Done 4960 tasks      | elapsed:  2.0min\n",
      "[Parallel(n_jobs=-1)]: Done 5000 out of 5000 | elapsed:  2.0min finished\n",
      "[Parallel(n_jobs=20)]: Using backend ThreadingBackend with 20 concurrent workers.\n",
      "[Parallel(n_jobs=20)]: Done  10 tasks      | elapsed:    0.0s\n",
      "[Parallel(n_jobs=20)]: Done 160 tasks      | elapsed:    0.1s\n"
     ]
    },
    {
     "name": "stdout",
     "output_type": "stream",
     "text": [
      "done in 120.357s.\n"
     ]
    },
    {
     "name": "stderr",
     "output_type": "stream",
     "text": [
      "[Parallel(n_jobs=20)]: Done 410 tasks      | elapsed:    0.2s\n",
      "[Parallel(n_jobs=20)]: Done 760 tasks      | elapsed:    0.3s\n",
      "[Parallel(n_jobs=20)]: Done 1210 tasks      | elapsed:    0.4s\n",
      "[Parallel(n_jobs=20)]: Done 1760 tasks      | elapsed:    0.6s\n",
      "[Parallel(n_jobs=20)]: Done 2410 tasks      | elapsed:    0.8s\n",
      "[Parallel(n_jobs=20)]: Done 3160 tasks      | elapsed:    1.0s\n",
      "[Parallel(n_jobs=20)]: Done 4010 tasks      | elapsed:    1.3s\n",
      "[Parallel(n_jobs=20)]: Done 4960 tasks      | elapsed:    1.5s\n",
      "[Parallel(n_jobs=20)]: Done 5000 out of 5000 | elapsed:    1.6s finished\n"
     ]
    },
    {
     "name": "stdout",
     "output_type": "stream",
     "text": [
      "accuracy：0.60573\n",
      "precision_avg: 0.61281\n",
      "recall_avg: 0.60573\n",
      "f1_score_avg: 0.59588\n",
      "n_estimator = 5000\n",
      "max_depth = 20\n",
      "min_samples_split = 10\n",
      "min_samples_leaf = 5\n"
     ]
    },
    {
     "name": "stderr",
     "output_type": "stream",
     "text": [
      "[Parallel(n_jobs=-1)]: Using backend ThreadingBackend with 20 concurrent workers.\n",
      "[Parallel(n_jobs=-1)]: Done  10 tasks      | elapsed:    0.5s\n",
      "[Parallel(n_jobs=-1)]: Done 160 tasks      | elapsed:    3.7s\n",
      "[Parallel(n_jobs=-1)]: Done 410 tasks      | elapsed:    8.9s\n",
      "[Parallel(n_jobs=-1)]: Done 760 tasks      | elapsed:   16.4s\n",
      "[Parallel(n_jobs=-1)]: Done 1210 tasks      | elapsed:   26.0s\n",
      "[Parallel(n_jobs=-1)]: Done 1760 tasks      | elapsed:   37.5s\n",
      "[Parallel(n_jobs=-1)]: Done 2410 tasks      | elapsed:   51.0s\n",
      "[Parallel(n_jobs=-1)]: Done 3160 tasks      | elapsed:  1.1min\n",
      "[Parallel(n_jobs=-1)]: Done 4010 tasks      | elapsed:  1.4min\n",
      "[Parallel(n_jobs=-1)]: Done 4960 tasks      | elapsed:  1.7min\n",
      "[Parallel(n_jobs=-1)]: Done 5000 out of 5000 | elapsed:  1.8min finished\n",
      "[Parallel(n_jobs=20)]: Using backend ThreadingBackend with 20 concurrent workers.\n",
      "[Parallel(n_jobs=20)]: Done  10 tasks      | elapsed:    0.0s\n",
      "[Parallel(n_jobs=20)]: Done 160 tasks      | elapsed:    0.1s\n"
     ]
    },
    {
     "name": "stdout",
     "output_type": "stream",
     "text": [
      "done in 107.170s.\n"
     ]
    },
    {
     "name": "stderr",
     "output_type": "stream",
     "text": [
      "[Parallel(n_jobs=20)]: Done 410 tasks      | elapsed:    0.1s\n",
      "[Parallel(n_jobs=20)]: Done 760 tasks      | elapsed:    0.3s\n",
      "[Parallel(n_jobs=20)]: Done 1210 tasks      | elapsed:    0.4s\n",
      "[Parallel(n_jobs=20)]: Done 1760 tasks      | elapsed:    0.5s\n",
      "[Parallel(n_jobs=20)]: Done 2410 tasks      | elapsed:    0.7s\n",
      "[Parallel(n_jobs=20)]: Done 3160 tasks      | elapsed:    1.0s\n",
      "[Parallel(n_jobs=20)]: Done 4010 tasks      | elapsed:    1.2s\n",
      "[Parallel(n_jobs=20)]: Done 4960 tasks      | elapsed:    1.5s\n",
      "[Parallel(n_jobs=20)]: Done 5000 out of 5000 | elapsed:    1.5s finished\n"
     ]
    },
    {
     "name": "stdout",
     "output_type": "stream",
     "text": [
      "accuracy：0.60153\n",
      "precision_avg: 0.61652\n",
      "recall_avg: 0.60153\n",
      "f1_score_avg: 0.59375\n",
      "n_estimator = 5000\n",
      "max_depth = 20\n",
      "min_samples_split = 50\n",
      "min_samples_leaf = 1\n"
     ]
    },
    {
     "name": "stderr",
     "output_type": "stream",
     "text": [
      "[Parallel(n_jobs=-1)]: Using backend ThreadingBackend with 20 concurrent workers.\n",
      "[Parallel(n_jobs=-1)]: Done  10 tasks      | elapsed:    0.4s\n",
      "[Parallel(n_jobs=-1)]: Done 160 tasks      | elapsed:    3.4s\n",
      "[Parallel(n_jobs=-1)]: Done 410 tasks      | elapsed:    8.2s\n",
      "[Parallel(n_jobs=-1)]: Done 760 tasks      | elapsed:   15.0s\n",
      "[Parallel(n_jobs=-1)]: Done 1210 tasks      | elapsed:   23.7s\n",
      "[Parallel(n_jobs=-1)]: Done 1760 tasks      | elapsed:   34.4s\n",
      "[Parallel(n_jobs=-1)]: Done 2410 tasks      | elapsed:   47.4s\n",
      "[Parallel(n_jobs=-1)]: Done 3160 tasks      | elapsed:  1.0min\n",
      "[Parallel(n_jobs=-1)]: Done 4010 tasks      | elapsed:  1.3min\n",
      "[Parallel(n_jobs=-1)]: Done 4960 tasks      | elapsed:  1.6min\n",
      "[Parallel(n_jobs=-1)]: Done 5000 out of 5000 | elapsed:  1.6min finished\n",
      "[Parallel(n_jobs=20)]: Using backend ThreadingBackend with 20 concurrent workers.\n",
      "[Parallel(n_jobs=20)]: Done  10 tasks      | elapsed:    0.0s\n",
      "[Parallel(n_jobs=20)]: Done 160 tasks      | elapsed:    0.1s\n"
     ]
    },
    {
     "name": "stdout",
     "output_type": "stream",
     "text": [
      "done in 100.527s.\n"
     ]
    },
    {
     "name": "stderr",
     "output_type": "stream",
     "text": [
      "[Parallel(n_jobs=20)]: Done 410 tasks      | elapsed:    0.2s\n",
      "[Parallel(n_jobs=20)]: Done 760 tasks      | elapsed:    0.3s\n",
      "[Parallel(n_jobs=20)]: Done 1210 tasks      | elapsed:    0.5s\n",
      "[Parallel(n_jobs=20)]: Done 1760 tasks      | elapsed:    0.6s\n",
      "[Parallel(n_jobs=20)]: Done 2410 tasks      | elapsed:    0.9s\n",
      "[Parallel(n_jobs=20)]: Done 3160 tasks      | elapsed:    1.1s\n",
      "[Parallel(n_jobs=20)]: Done 4010 tasks      | elapsed:    1.4s\n",
      "[Parallel(n_jobs=20)]: Done 4960 tasks      | elapsed:    1.7s\n",
      "[Parallel(n_jobs=20)]: Done 5000 out of 5000 | elapsed:    1.7s finished\n"
     ]
    },
    {
     "name": "stdout",
     "output_type": "stream",
     "text": [
      "accuracy：0.60280\n",
      "precision_avg: 0.61695\n",
      "recall_avg: 0.60280\n",
      "f1_score_avg: 0.59487\n",
      "n_estimator = 5000\n",
      "max_depth = 20\n",
      "min_samples_split = 50\n",
      "min_samples_leaf = 5\n"
     ]
    },
    {
     "name": "stderr",
     "output_type": "stream",
     "text": [
      "[Parallel(n_jobs=-1)]: Using backend ThreadingBackend with 20 concurrent workers.\n",
      "[Parallel(n_jobs=-1)]: Done  10 tasks      | elapsed:    0.4s\n",
      "[Parallel(n_jobs=-1)]: Done 160 tasks      | elapsed:    3.3s\n",
      "[Parallel(n_jobs=-1)]: Done 410 tasks      | elapsed:    8.1s\n",
      "[Parallel(n_jobs=-1)]: Done 760 tasks      | elapsed:   14.7s\n",
      "[Parallel(n_jobs=-1)]: Done 1210 tasks      | elapsed:   23.3s\n",
      "[Parallel(n_jobs=-1)]: Done 1760 tasks      | elapsed:   33.6s\n",
      "[Parallel(n_jobs=-1)]: Done 2410 tasks      | elapsed:   45.8s\n",
      "[Parallel(n_jobs=-1)]: Done 3160 tasks      | elapsed:   59.7s\n",
      "[Parallel(n_jobs=-1)]: Done 4010 tasks      | elapsed:  1.3min\n",
      "[Parallel(n_jobs=-1)]: Done 4960 tasks      | elapsed:  1.5min\n",
      "[Parallel(n_jobs=-1)]: Done 5000 out of 5000 | elapsed:  1.6min finished\n",
      "[Parallel(n_jobs=20)]: Using backend ThreadingBackend with 20 concurrent workers.\n",
      "[Parallel(n_jobs=20)]: Done  10 tasks      | elapsed:    0.0s\n",
      "[Parallel(n_jobs=20)]: Done 160 tasks      | elapsed:    0.1s\n",
      "[Parallel(n_jobs=20)]: Done 410 tasks      | elapsed:    0.1s\n"
     ]
    },
    {
     "name": "stdout",
     "output_type": "stream",
     "text": [
      "done in 95.453s.\n"
     ]
    },
    {
     "name": "stderr",
     "output_type": "stream",
     "text": [
      "[Parallel(n_jobs=20)]: Done 760 tasks      | elapsed:    0.3s\n",
      "[Parallel(n_jobs=20)]: Done 1210 tasks      | elapsed:    0.4s\n",
      "[Parallel(n_jobs=20)]: Done 1760 tasks      | elapsed:    0.6s\n",
      "[Parallel(n_jobs=20)]: Done 2410 tasks      | elapsed:    0.8s\n",
      "[Parallel(n_jobs=20)]: Done 3160 tasks      | elapsed:    1.0s\n",
      "[Parallel(n_jobs=20)]: Done 4010 tasks      | elapsed:    1.2s\n",
      "[Parallel(n_jobs=20)]: Done 4960 tasks      | elapsed:    1.5s\n",
      "[Parallel(n_jobs=20)]: Done 5000 out of 5000 | elapsed:    1.5s finished\n"
     ]
    },
    {
     "name": "stdout",
     "output_type": "stream",
     "text": [
      "accuracy：0.60047\n",
      "precision_avg: 0.61713\n",
      "recall_avg: 0.60047\n",
      "f1_score_avg: 0.59308\n",
      "n_estimator = 5000\n",
      "max_depth = 20\n",
      "min_samples_split = 50\n",
      "min_samples_leaf = 10\n"
     ]
    },
    {
     "name": "stderr",
     "output_type": "stream",
     "text": [
      "[Parallel(n_jobs=-1)]: Using backend ThreadingBackend with 20 concurrent workers.\n",
      "[Parallel(n_jobs=-1)]: Done  10 tasks      | elapsed:    0.4s\n",
      "[Parallel(n_jobs=-1)]: Done 160 tasks      | elapsed:    3.0s\n",
      "[Parallel(n_jobs=-1)]: Done 410 tasks      | elapsed:    7.4s\n",
      "[Parallel(n_jobs=-1)]: Done 760 tasks      | elapsed:   13.4s\n",
      "[Parallel(n_jobs=-1)]: Done 1210 tasks      | elapsed:   21.4s\n",
      "[Parallel(n_jobs=-1)]: Done 1760 tasks      | elapsed:   30.9s\n",
      "[Parallel(n_jobs=-1)]: Done 2410 tasks      | elapsed:   42.4s\n",
      "[Parallel(n_jobs=-1)]: Done 3160 tasks      | elapsed:   55.4s\n",
      "[Parallel(n_jobs=-1)]: Done 4010 tasks      | elapsed:  1.2min\n",
      "[Parallel(n_jobs=-1)]: Done 4960 tasks      | elapsed:  1.4min\n",
      "[Parallel(n_jobs=-1)]: Done 5000 out of 5000 | elapsed:  1.5min finished\n",
      "[Parallel(n_jobs=20)]: Using backend ThreadingBackend with 20 concurrent workers.\n",
      "[Parallel(n_jobs=20)]: Done  10 tasks      | elapsed:    0.0s\n",
      "[Parallel(n_jobs=20)]: Done 160 tasks      | elapsed:    0.1s\n",
      "[Parallel(n_jobs=20)]: Done 410 tasks      | elapsed:    0.2s\n"
     ]
    },
    {
     "name": "stdout",
     "output_type": "stream",
     "text": [
      "done in 89.273s.\n"
     ]
    },
    {
     "name": "stderr",
     "output_type": "stream",
     "text": [
      "[Parallel(n_jobs=20)]: Done 760 tasks      | elapsed:    0.3s\n",
      "[Parallel(n_jobs=20)]: Done 1210 tasks      | elapsed:    0.4s\n",
      "[Parallel(n_jobs=20)]: Done 1760 tasks      | elapsed:    0.6s\n",
      "[Parallel(n_jobs=20)]: Done 2410 tasks      | elapsed:    0.8s\n",
      "[Parallel(n_jobs=20)]: Done 3160 tasks      | elapsed:    1.0s\n",
      "[Parallel(n_jobs=20)]: Done 4010 tasks      | elapsed:    1.3s\n",
      "[Parallel(n_jobs=20)]: Done 4960 tasks      | elapsed:    1.5s\n",
      "[Parallel(n_jobs=20)]: Done 5000 out of 5000 | elapsed:    1.5s finished\n"
     ]
    },
    {
     "name": "stdout",
     "output_type": "stream",
     "text": [
      "accuracy：0.59787\n",
      "precision_avg: 0.61819\n",
      "recall_avg: 0.59787\n",
      "f1_score_avg: 0.59131\n",
      "n_estimator = 5000\n",
      "max_depth = 20\n",
      "min_samples_split = 50\n",
      "min_samples_leaf = 20\n"
     ]
    },
    {
     "name": "stderr",
     "output_type": "stream",
     "text": [
      "[Parallel(n_jobs=-1)]: Using backend ThreadingBackend with 20 concurrent workers.\n",
      "[Parallel(n_jobs=-1)]: Done  10 tasks      | elapsed:    0.3s\n",
      "[Parallel(n_jobs=-1)]: Done 160 tasks      | elapsed:    2.8s\n",
      "[Parallel(n_jobs=-1)]: Done 410 tasks      | elapsed:    6.9s\n",
      "[Parallel(n_jobs=-1)]: Done 760 tasks      | elapsed:   12.5s\n",
      "[Parallel(n_jobs=-1)]: Done 1210 tasks      | elapsed:   19.9s\n",
      "[Parallel(n_jobs=-1)]: Done 1760 tasks      | elapsed:   28.9s\n",
      "[Parallel(n_jobs=-1)]: Done 2410 tasks      | elapsed:   39.2s\n",
      "[Parallel(n_jobs=-1)]: Done 3160 tasks      | elapsed:   51.2s\n",
      "[Parallel(n_jobs=-1)]: Done 4010 tasks      | elapsed:  1.1min\n",
      "[Parallel(n_jobs=-1)]: Done 4960 tasks      | elapsed:  1.3min\n",
      "[Parallel(n_jobs=-1)]: Done 5000 out of 5000 | elapsed:  1.4min finished\n",
      "[Parallel(n_jobs=20)]: Using backend ThreadingBackend with 20 concurrent workers.\n",
      "[Parallel(n_jobs=20)]: Done  10 tasks      | elapsed:    0.0s\n",
      "[Parallel(n_jobs=20)]: Done 160 tasks      | elapsed:    0.1s\n"
     ]
    },
    {
     "name": "stdout",
     "output_type": "stream",
     "text": [
      "done in 82.766s.\n"
     ]
    },
    {
     "name": "stderr",
     "output_type": "stream",
     "text": [
      "[Parallel(n_jobs=20)]: Done 410 tasks      | elapsed:    0.2s\n",
      "[Parallel(n_jobs=20)]: Done 760 tasks      | elapsed:    0.3s\n",
      "[Parallel(n_jobs=20)]: Done 1210 tasks      | elapsed:    0.5s\n",
      "[Parallel(n_jobs=20)]: Done 1760 tasks      | elapsed:    0.7s\n",
      "[Parallel(n_jobs=20)]: Done 2410 tasks      | elapsed:    0.9s\n",
      "[Parallel(n_jobs=20)]: Done 3160 tasks      | elapsed:    1.1s\n",
      "[Parallel(n_jobs=20)]: Done 4010 tasks      | elapsed:    1.4s\n",
      "[Parallel(n_jobs=20)]: Done 4960 tasks      | elapsed:    1.7s\n",
      "[Parallel(n_jobs=20)]: Done 5000 out of 5000 | elapsed:    1.7s finished\n"
     ]
    },
    {
     "name": "stdout",
     "output_type": "stream",
     "text": [
      "accuracy：0.59520\n",
      "precision_avg: 0.61862\n",
      "recall_avg: 0.59520\n",
      "f1_score_avg: 0.58922\n",
      "n_estimator = 5000\n",
      "max_depth = 50\n",
      "min_samples_split = 2\n",
      "min_samples_leaf = 1\n"
     ]
    },
    {
     "name": "stderr",
     "output_type": "stream",
     "text": [
      "[Parallel(n_jobs=-1)]: Using backend ThreadingBackend with 20 concurrent workers.\n",
      "[Parallel(n_jobs=-1)]: Done  10 tasks      | elapsed:    2.7s\n",
      "[Parallel(n_jobs=-1)]: Done 160 tasks      | elapsed:   22.8s\n",
      "[Parallel(n_jobs=-1)]: Done 410 tasks      | elapsed:   56.7s\n",
      "[Parallel(n_jobs=-1)]: Done 760 tasks      | elapsed:  1.7min\n",
      "[Parallel(n_jobs=-1)]: Done 1210 tasks      | elapsed:  2.8min\n",
      "[Parallel(n_jobs=-1)]: Done 1760 tasks      | elapsed:  4.0min\n",
      "[Parallel(n_jobs=-1)]: Done 2410 tasks      | elapsed:  5.4min\n",
      "[Parallel(n_jobs=-1)]: Done 3160 tasks      | elapsed:  7.1min\n",
      "[Parallel(n_jobs=-1)]: Done 4010 tasks      | elapsed:  9.0min\n",
      "[Parallel(n_jobs=-1)]: Done 4960 tasks      | elapsed: 11.1min\n",
      "[Parallel(n_jobs=-1)]: Done 5000 out of 5000 | elapsed: 11.2min finished\n",
      "[Parallel(n_jobs=20)]: Using backend ThreadingBackend with 20 concurrent workers.\n",
      "[Parallel(n_jobs=20)]: Done  10 tasks      | elapsed:    0.0s\n",
      "[Parallel(n_jobs=20)]: Done 160 tasks      | elapsed:    0.1s\n"
     ]
    },
    {
     "name": "stdout",
     "output_type": "stream",
     "text": [
      "done in 675.278s.\n"
     ]
    },
    {
     "name": "stderr",
     "output_type": "stream",
     "text": [
      "[Parallel(n_jobs=20)]: Done 410 tasks      | elapsed:    0.2s\n",
      "[Parallel(n_jobs=20)]: Done 760 tasks      | elapsed:    0.5s\n",
      "[Parallel(n_jobs=20)]: Done 1210 tasks      | elapsed:    0.8s\n",
      "[Parallel(n_jobs=20)]: Done 1760 tasks      | elapsed:    1.1s\n",
      "[Parallel(n_jobs=20)]: Done 2410 tasks      | elapsed:    1.5s\n",
      "[Parallel(n_jobs=20)]: Done 3160 tasks      | elapsed:    1.9s\n",
      "[Parallel(n_jobs=20)]: Done 4010 tasks      | elapsed:    2.2s\n",
      "[Parallel(n_jobs=20)]: Done 4960 tasks      | elapsed:    2.6s\n",
      "[Parallel(n_jobs=20)]: Done 5000 out of 5000 | elapsed:    2.6s finished\n"
     ]
    },
    {
     "name": "stdout",
     "output_type": "stream",
     "text": [
      "accuracy：0.64773\n",
      "precision_avg: 0.60740\n",
      "recall_avg: 0.64773\n",
      "f1_score_avg: 0.61357\n",
      "n_estimator = 5000\n",
      "max_depth = 50\n",
      "min_samples_split = 10\n",
      "min_samples_leaf = 1\n"
     ]
    },
    {
     "name": "stderr",
     "output_type": "stream",
     "text": [
      "[Parallel(n_jobs=-1)]: Using backend ThreadingBackend with 20 concurrent workers.\n",
      "[Parallel(n_jobs=-1)]: Done  10 tasks      | elapsed:    2.5s\n",
      "[Parallel(n_jobs=-1)]: Done 160 tasks      | elapsed:   20.4s\n",
      "[Parallel(n_jobs=-1)]: Done 410 tasks      | elapsed:   49.8s\n",
      "[Parallel(n_jobs=-1)]: Done 760 tasks      | elapsed:  1.5min\n",
      "[Parallel(n_jobs=-1)]: Done 1210 tasks      | elapsed:  2.4min\n",
      "[Parallel(n_jobs=-1)]: Done 1760 tasks      | elapsed:  3.5min\n",
      "[Parallel(n_jobs=-1)]: Done 2410 tasks      | elapsed:  4.8min\n",
      "[Parallel(n_jobs=-1)]: Done 3160 tasks      | elapsed:  6.3min\n",
      "[Parallel(n_jobs=-1)]: Done 4010 tasks      | elapsed:  8.0min\n",
      "[Parallel(n_jobs=-1)]: Done 4960 tasks      | elapsed:  9.8min\n",
      "[Parallel(n_jobs=-1)]: Done 5000 out of 5000 | elapsed:  9.9min finished\n",
      "[Parallel(n_jobs=20)]: Using backend ThreadingBackend with 20 concurrent workers.\n",
      "[Parallel(n_jobs=20)]: Done  10 tasks      | elapsed:    0.0s\n",
      "[Parallel(n_jobs=20)]: Done 160 tasks      | elapsed:    0.1s\n"
     ]
    },
    {
     "name": "stdout",
     "output_type": "stream",
     "text": [
      "done in 595.431s.\n"
     ]
    },
    {
     "name": "stderr",
     "output_type": "stream",
     "text": [
      "[Parallel(n_jobs=20)]: Done 410 tasks      | elapsed:    0.2s\n",
      "[Parallel(n_jobs=20)]: Done 760 tasks      | elapsed:    0.3s\n",
      "[Parallel(n_jobs=20)]: Done 1210 tasks      | elapsed:    0.4s\n",
      "[Parallel(n_jobs=20)]: Done 1760 tasks      | elapsed:    0.6s\n",
      "[Parallel(n_jobs=20)]: Done 2410 tasks      | elapsed:    0.9s\n",
      "[Parallel(n_jobs=20)]: Done 3160 tasks      | elapsed:    1.1s\n",
      "[Parallel(n_jobs=20)]: Done 4010 tasks      | elapsed:    1.4s\n",
      "[Parallel(n_jobs=20)]: Done 4960 tasks      | elapsed:    1.8s\n",
      "[Parallel(n_jobs=20)]: Done 5000 out of 5000 | elapsed:    1.8s finished\n"
     ]
    },
    {
     "name": "stdout",
     "output_type": "stream",
     "text": [
      "accuracy：0.64620\n",
      "precision_avg: 0.61409\n",
      "recall_avg: 0.64620\n",
      "f1_score_avg: 0.62134\n",
      "n_estimator = 5000\n",
      "max_depth = 50\n",
      "min_samples_split = 10\n",
      "min_samples_leaf = 5\n"
     ]
    },
    {
     "name": "stderr",
     "output_type": "stream",
     "text": [
      "[Parallel(n_jobs=-1)]: Using backend ThreadingBackend with 20 concurrent workers.\n",
      "[Parallel(n_jobs=-1)]: Done  10 tasks      | elapsed:    1.7s\n",
      "[Parallel(n_jobs=-1)]: Done 160 tasks      | elapsed:   14.3s\n",
      "[Parallel(n_jobs=-1)]: Done 410 tasks      | elapsed:   35.9s\n",
      "[Parallel(n_jobs=-1)]: Done 760 tasks      | elapsed:  1.1min\n",
      "[Parallel(n_jobs=-1)]: Done 1210 tasks      | elapsed:  1.7min\n",
      "[Parallel(n_jobs=-1)]: Done 1760 tasks      | elapsed:  2.5min\n",
      "[Parallel(n_jobs=-1)]: Done 2410 tasks      | elapsed:  3.4min\n",
      "[Parallel(n_jobs=-1)]: Done 3160 tasks      | elapsed:  4.5min\n",
      "[Parallel(n_jobs=-1)]: Done 4010 tasks      | elapsed:  5.7min\n",
      "[Parallel(n_jobs=-1)]: Done 4960 tasks      | elapsed:  7.1min\n",
      "[Parallel(n_jobs=-1)]: Done 5000 out of 5000 | elapsed:  7.1min finished\n",
      "[Parallel(n_jobs=20)]: Using backend ThreadingBackend with 20 concurrent workers.\n",
      "[Parallel(n_jobs=20)]: Done  10 tasks      | elapsed:    0.0s\n",
      "[Parallel(n_jobs=20)]: Done 160 tasks      | elapsed:    0.1s\n"
     ]
    },
    {
     "name": "stdout",
     "output_type": "stream",
     "text": [
      "done in 428.873s.\n"
     ]
    },
    {
     "name": "stderr",
     "output_type": "stream",
     "text": [
      "[Parallel(n_jobs=20)]: Done 410 tasks      | elapsed:    0.2s\n",
      "[Parallel(n_jobs=20)]: Done 760 tasks      | elapsed:    0.3s\n",
      "[Parallel(n_jobs=20)]: Done 1210 tasks      | elapsed:    0.5s\n",
      "[Parallel(n_jobs=20)]: Done 1760 tasks      | elapsed:    0.6s\n",
      "[Parallel(n_jobs=20)]: Done 2410 tasks      | elapsed:    0.8s\n",
      "[Parallel(n_jobs=20)]: Done 3160 tasks      | elapsed:    1.1s\n",
      "[Parallel(n_jobs=20)]: Done 4010 tasks      | elapsed:    1.3s\n",
      "[Parallel(n_jobs=20)]: Done 4960 tasks      | elapsed:    1.5s\n",
      "[Parallel(n_jobs=20)]: Done 5000 out of 5000 | elapsed:    1.6s finished\n"
     ]
    },
    {
     "name": "stdout",
     "output_type": "stream",
     "text": [
      "accuracy：0.62947\n",
      "precision_avg: 0.62081\n",
      "recall_avg: 0.62947\n",
      "f1_score_avg: 0.61923\n",
      "n_estimator = 5000\n",
      "max_depth = 50\n",
      "min_samples_split = 50\n",
      "min_samples_leaf = 1\n"
     ]
    },
    {
     "name": "stderr",
     "output_type": "stream",
     "text": [
      "[Parallel(n_jobs=-1)]: Using backend ThreadingBackend with 20 concurrent workers.\n",
      "[Parallel(n_jobs=-1)]: Done  10 tasks      | elapsed:    1.8s\n",
      "[Parallel(n_jobs=-1)]: Done 160 tasks      | elapsed:   14.8s\n",
      "[Parallel(n_jobs=-1)]: Done 410 tasks      | elapsed:   36.7s\n",
      "[Parallel(n_jobs=-1)]: Done 760 tasks      | elapsed:  1.1min\n",
      "[Parallel(n_jobs=-1)]: Done 1210 tasks      | elapsed:  1.8min\n",
      "[Parallel(n_jobs=-1)]: Done 1760 tasks      | elapsed:  2.6min\n",
      "[Parallel(n_jobs=-1)]: Done 2410 tasks      | elapsed:  3.5min\n",
      "[Parallel(n_jobs=-1)]: Done 3160 tasks      | elapsed:  4.6min\n",
      "[Parallel(n_jobs=-1)]: Done 4010 tasks      | elapsed:  5.8min\n",
      "[Parallel(n_jobs=-1)]: Done 4960 tasks      | elapsed:  7.2min\n",
      "[Parallel(n_jobs=-1)]: Done 5000 out of 5000 | elapsed:  7.3min finished\n",
      "[Parallel(n_jobs=20)]: Using backend ThreadingBackend with 20 concurrent workers.\n",
      "[Parallel(n_jobs=20)]: Done  10 tasks      | elapsed:    0.0s\n",
      "[Parallel(n_jobs=20)]: Done 160 tasks      | elapsed:    0.1s\n"
     ]
    },
    {
     "name": "stdout",
     "output_type": "stream",
     "text": [
      "done in 438.584s.\n"
     ]
    },
    {
     "name": "stderr",
     "output_type": "stream",
     "text": [
      "[Parallel(n_jobs=20)]: Done 410 tasks      | elapsed:    0.2s\n",
      "[Parallel(n_jobs=20)]: Done 760 tasks      | elapsed:    0.3s\n",
      "[Parallel(n_jobs=20)]: Done 1210 tasks      | elapsed:    0.5s\n",
      "[Parallel(n_jobs=20)]: Done 1760 tasks      | elapsed:    0.6s\n",
      "[Parallel(n_jobs=20)]: Done 2410 tasks      | elapsed:    0.8s\n",
      "[Parallel(n_jobs=20)]: Done 3160 tasks      | elapsed:    1.0s\n",
      "[Parallel(n_jobs=20)]: Done 4010 tasks      | elapsed:    1.2s\n",
      "[Parallel(n_jobs=20)]: Done 4960 tasks      | elapsed:    1.5s\n",
      "[Parallel(n_jobs=20)]: Done 5000 out of 5000 | elapsed:    1.5s finished\n"
     ]
    },
    {
     "name": "stdout",
     "output_type": "stream",
     "text": [
      "accuracy：0.63520\n",
      "precision_avg: 0.62039\n",
      "recall_avg: 0.63520\n",
      "f1_score_avg: 0.62224\n",
      "n_estimator = 5000\n",
      "max_depth = 50\n",
      "min_samples_split = 50\n",
      "min_samples_leaf = 5\n"
     ]
    },
    {
     "name": "stderr",
     "output_type": "stream",
     "text": [
      "[Parallel(n_jobs=-1)]: Using backend ThreadingBackend with 20 concurrent workers.\n",
      "[Parallel(n_jobs=-1)]: Done  10 tasks      | elapsed:    1.5s\n",
      "[Parallel(n_jobs=-1)]: Done 160 tasks      | elapsed:   12.0s\n",
      "[Parallel(n_jobs=-1)]: Done 410 tasks      | elapsed:   29.9s\n",
      "[Parallel(n_jobs=-1)]: Done 760 tasks      | elapsed:   54.7s\n",
      "[Parallel(n_jobs=-1)]: Done 1210 tasks      | elapsed:  1.4min\n",
      "[Parallel(n_jobs=-1)]: Done 1760 tasks      | elapsed:  2.1min\n",
      "[Parallel(n_jobs=-1)]: Done 2410 tasks      | elapsed:  2.9min\n",
      "[Parallel(n_jobs=-1)]: Done 3160 tasks      | elapsed:  3.8min\n",
      "[Parallel(n_jobs=-1)]: Done 4010 tasks      | elapsed:  4.8min\n",
      "[Parallel(n_jobs=-1)]: Done 4960 tasks      | elapsed:  5.9min\n",
      "[Parallel(n_jobs=-1)]: Done 5000 out of 5000 | elapsed:  5.9min finished\n",
      "[Parallel(n_jobs=20)]: Using backend ThreadingBackend with 20 concurrent workers.\n",
      "[Parallel(n_jobs=20)]: Done  10 tasks      | elapsed:    0.0s\n",
      "[Parallel(n_jobs=20)]: Done 160 tasks      | elapsed:    0.1s\n",
      "[Parallel(n_jobs=20)]: Done 410 tasks      | elapsed:    0.2s\n"
     ]
    },
    {
     "name": "stdout",
     "output_type": "stream",
     "text": [
      "done in 357.608s.\n"
     ]
    },
    {
     "name": "stderr",
     "output_type": "stream",
     "text": [
      "[Parallel(n_jobs=20)]: Done 760 tasks      | elapsed:    0.3s\n",
      "[Parallel(n_jobs=20)]: Done 1210 tasks      | elapsed:    0.5s\n",
      "[Parallel(n_jobs=20)]: Done 1760 tasks      | elapsed:    0.7s\n",
      "[Parallel(n_jobs=20)]: Done 2410 tasks      | elapsed:    0.9s\n",
      "[Parallel(n_jobs=20)]: Done 3160 tasks      | elapsed:    1.1s\n",
      "[Parallel(n_jobs=20)]: Done 4010 tasks      | elapsed:    1.3s\n",
      "[Parallel(n_jobs=20)]: Done 4960 tasks      | elapsed:    1.6s\n",
      "[Parallel(n_jobs=20)]: Done 5000 out of 5000 | elapsed:    1.6s finished\n"
     ]
    },
    {
     "name": "stdout",
     "output_type": "stream",
     "text": [
      "accuracy：0.62733\n",
      "precision_avg: 0.62268\n",
      "recall_avg: 0.62733\n",
      "f1_score_avg: 0.61871\n",
      "n_estimator = 5000\n",
      "max_depth = 50\n",
      "min_samples_split = 50\n",
      "min_samples_leaf = 10\n"
     ]
    },
    {
     "name": "stderr",
     "output_type": "stream",
     "text": [
      "[Parallel(n_jobs=-1)]: Using backend ThreadingBackend with 20 concurrent workers.\n",
      "[Parallel(n_jobs=-1)]: Done  10 tasks      | elapsed:    1.2s\n",
      "[Parallel(n_jobs=-1)]: Done 160 tasks      | elapsed:    9.7s\n",
      "[Parallel(n_jobs=-1)]: Done 410 tasks      | elapsed:   23.9s\n",
      "[Parallel(n_jobs=-1)]: Done 760 tasks      | elapsed:   43.6s\n",
      "[Parallel(n_jobs=-1)]: Done 1210 tasks      | elapsed:  1.2min\n",
      "[Parallel(n_jobs=-1)]: Done 1760 tasks      | elapsed:  1.7min\n",
      "[Parallel(n_jobs=-1)]: Done 2410 tasks      | elapsed:  2.3min\n",
      "[Parallel(n_jobs=-1)]: Done 3160 tasks      | elapsed:  3.0min\n",
      "[Parallel(n_jobs=-1)]: Done 4010 tasks      | elapsed:  3.8min\n",
      "[Parallel(n_jobs=-1)]: Done 4960 tasks      | elapsed:  4.7min\n",
      "[Parallel(n_jobs=-1)]: Done 5000 out of 5000 | elapsed:  4.7min finished\n",
      "[Parallel(n_jobs=20)]: Using backend ThreadingBackend with 20 concurrent workers.\n",
      "[Parallel(n_jobs=20)]: Done  10 tasks      | elapsed:    0.0s\n",
      "[Parallel(n_jobs=20)]: Done 160 tasks      | elapsed:    0.1s\n"
     ]
    },
    {
     "name": "stdout",
     "output_type": "stream",
     "text": [
      "done in 284.783s.\n"
     ]
    },
    {
     "name": "stderr",
     "output_type": "stream",
     "text": [
      "[Parallel(n_jobs=20)]: Done 410 tasks      | elapsed:    0.2s\n",
      "[Parallel(n_jobs=20)]: Done 760 tasks      | elapsed:    0.3s\n",
      "[Parallel(n_jobs=20)]: Done 1210 tasks      | elapsed:    0.5s\n",
      "[Parallel(n_jobs=20)]: Done 1760 tasks      | elapsed:    0.7s\n",
      "[Parallel(n_jobs=20)]: Done 2410 tasks      | elapsed:    0.9s\n",
      "[Parallel(n_jobs=20)]: Done 3160 tasks      | elapsed:    1.1s\n",
      "[Parallel(n_jobs=20)]: Done 4010 tasks      | elapsed:    1.4s\n",
      "[Parallel(n_jobs=20)]: Done 4960 tasks      | elapsed:    1.6s\n",
      "[Parallel(n_jobs=20)]: Done 5000 out of 5000 | elapsed:    1.7s finished\n"
     ]
    },
    {
     "name": "stdout",
     "output_type": "stream",
     "text": [
      "accuracy：0.61847\n",
      "precision_avg: 0.62511\n",
      "recall_avg: 0.61847\n",
      "f1_score_avg: 0.61369\n",
      "n_estimator = 5000\n",
      "max_depth = 50\n",
      "min_samples_split = 50\n",
      "min_samples_leaf = 20\n"
     ]
    },
    {
     "name": "stderr",
     "output_type": "stream",
     "text": [
      "[Parallel(n_jobs=-1)]: Using backend ThreadingBackend with 20 concurrent workers.\n",
      "[Parallel(n_jobs=-1)]: Done  10 tasks      | elapsed:    0.9s\n",
      "[Parallel(n_jobs=-1)]: Done 160 tasks      | elapsed:    7.0s\n",
      "[Parallel(n_jobs=-1)]: Done 410 tasks      | elapsed:   17.3s\n",
      "[Parallel(n_jobs=-1)]: Done 760 tasks      | elapsed:   31.8s\n",
      "[Parallel(n_jobs=-1)]: Done 1210 tasks      | elapsed:   50.3s\n",
      "[Parallel(n_jobs=-1)]: Done 1760 tasks      | elapsed:  1.2min\n",
      "[Parallel(n_jobs=-1)]: Done 2410 tasks      | elapsed:  1.7min\n",
      "[Parallel(n_jobs=-1)]: Done 3160 tasks      | elapsed:  2.2min\n",
      "[Parallel(n_jobs=-1)]: Done 4010 tasks      | elapsed:  2.7min\n",
      "[Parallel(n_jobs=-1)]: Done 4960 tasks      | elapsed:  3.4min\n",
      "[Parallel(n_jobs=-1)]: Done 5000 out of 5000 | elapsed:  3.4min finished\n",
      "[Parallel(n_jobs=20)]: Using backend ThreadingBackend with 20 concurrent workers.\n",
      "[Parallel(n_jobs=20)]: Done  10 tasks      | elapsed:    0.0s\n",
      "[Parallel(n_jobs=20)]: Done 160 tasks      | elapsed:    0.1s\n"
     ]
    },
    {
     "name": "stdout",
     "output_type": "stream",
     "text": [
      "done in 206.995s.\n"
     ]
    },
    {
     "name": "stderr",
     "output_type": "stream",
     "text": [
      "[Parallel(n_jobs=20)]: Done 410 tasks      | elapsed:    0.2s\n",
      "[Parallel(n_jobs=20)]: Done 760 tasks      | elapsed:    0.3s\n",
      "[Parallel(n_jobs=20)]: Done 1210 tasks      | elapsed:    0.4s\n",
      "[Parallel(n_jobs=20)]: Done 1760 tasks      | elapsed:    0.6s\n",
      "[Parallel(n_jobs=20)]: Done 2410 tasks      | elapsed:    0.8s\n",
      "[Parallel(n_jobs=20)]: Done 3160 tasks      | elapsed:    1.1s\n",
      "[Parallel(n_jobs=20)]: Done 4010 tasks      | elapsed:    1.3s\n",
      "[Parallel(n_jobs=20)]: Done 4960 tasks      | elapsed:    1.6s\n",
      "[Parallel(n_jobs=20)]: Done 5000 out of 5000 | elapsed:    1.6s finished\n"
     ]
    },
    {
     "name": "stdout",
     "output_type": "stream",
     "text": [
      "accuracy：0.61060\n",
      "precision_avg: 0.62723\n",
      "recall_avg: 0.61060\n",
      "f1_score_avg: 0.60813\n",
      "n_estimator = 10000\n",
      "max_depth = 10\n",
      "min_samples_split = 2\n",
      "min_samples_leaf = 1\n"
     ]
    },
    {
     "name": "stderr",
     "output_type": "stream",
     "text": [
      "[Parallel(n_jobs=-1)]: Using backend ThreadingBackend with 20 concurrent workers.\n",
      "[Parallel(n_jobs=-1)]: Done  10 tasks      | elapsed:    0.2s\n",
      "[Parallel(n_jobs=-1)]: Done 160 tasks      | elapsed:    1.3s\n",
      "[Parallel(n_jobs=-1)]: Done 410 tasks      | elapsed:    3.2s\n",
      "[Parallel(n_jobs=-1)]: Done 760 tasks      | elapsed:    5.8s\n",
      "[Parallel(n_jobs=-1)]: Done 1210 tasks      | elapsed:    9.2s\n",
      "[Parallel(n_jobs=-1)]: Done 1760 tasks      | elapsed:   13.3s\n",
      "[Parallel(n_jobs=-1)]: Done 2410 tasks      | elapsed:   18.2s\n",
      "[Parallel(n_jobs=-1)]: Done 3160 tasks      | elapsed:   23.8s\n",
      "[Parallel(n_jobs=-1)]: Done 4010 tasks      | elapsed:   30.1s\n",
      "[Parallel(n_jobs=-1)]: Done 4960 tasks      | elapsed:   37.2s\n",
      "[Parallel(n_jobs=-1)]: Done 6010 tasks      | elapsed:   45.1s\n",
      "[Parallel(n_jobs=-1)]: Done 7160 tasks      | elapsed:   53.9s\n",
      "[Parallel(n_jobs=-1)]: Done 8410 tasks      | elapsed:  1.1min\n",
      "[Parallel(n_jobs=-1)]: Done 9760 tasks      | elapsed:  1.2min\n",
      "[Parallel(n_jobs=-1)]: Done 10000 out of 10000 | elapsed:  1.3min finished\n",
      "[Parallel(n_jobs=20)]: Using backend ThreadingBackend with 20 concurrent workers.\n",
      "[Parallel(n_jobs=20)]: Done  10 tasks      | elapsed:    0.0s\n",
      "[Parallel(n_jobs=20)]: Done 160 tasks      | elapsed:    0.1s\n"
     ]
    },
    {
     "name": "stdout",
     "output_type": "stream",
     "text": [
      "done in 79.243s.\n"
     ]
    },
    {
     "name": "stderr",
     "output_type": "stream",
     "text": [
      "[Parallel(n_jobs=20)]: Done 410 tasks      | elapsed:    0.1s\n",
      "[Parallel(n_jobs=20)]: Done 760 tasks      | elapsed:    0.3s\n",
      "[Parallel(n_jobs=20)]: Done 1210 tasks      | elapsed:    0.4s\n",
      "[Parallel(n_jobs=20)]: Done 1760 tasks      | elapsed:    0.6s\n",
      "[Parallel(n_jobs=20)]: Done 2410 tasks      | elapsed:    0.8s\n",
      "[Parallel(n_jobs=20)]: Done 3160 tasks      | elapsed:    1.0s\n",
      "[Parallel(n_jobs=20)]: Done 4010 tasks      | elapsed:    1.2s\n",
      "[Parallel(n_jobs=20)]: Done 4960 tasks      | elapsed:    1.5s\n",
      "[Parallel(n_jobs=20)]: Done 6010 tasks      | elapsed:    1.8s\n",
      "[Parallel(n_jobs=20)]: Done 7160 tasks      | elapsed:    2.2s\n",
      "[Parallel(n_jobs=20)]: Done 8410 tasks      | elapsed:    2.5s\n",
      "[Parallel(n_jobs=20)]: Done 9760 tasks      | elapsed:    2.9s\n",
      "[Parallel(n_jobs=20)]: Done 10000 out of 10000 | elapsed:    2.9s finished\n"
     ]
    },
    {
     "name": "stdout",
     "output_type": "stream",
     "text": [
      "accuracy：0.58040\n",
      "precision_avg: 0.60542\n",
      "recall_avg: 0.58040\n",
      "f1_score_avg: 0.56936\n",
      "n_estimator = 10000\n",
      "max_depth = 10\n",
      "min_samples_split = 10\n",
      "min_samples_leaf = 1\n"
     ]
    },
    {
     "name": "stderr",
     "output_type": "stream",
     "text": [
      "[Parallel(n_jobs=-1)]: Using backend ThreadingBackend with 20 concurrent workers.\n",
      "[Parallel(n_jobs=-1)]: Done  10 tasks      | elapsed:    0.2s\n",
      "[Parallel(n_jobs=-1)]: Done 160 tasks      | elapsed:    1.3s\n",
      "[Parallel(n_jobs=-1)]: Done 410 tasks      | elapsed:    3.1s\n",
      "[Parallel(n_jobs=-1)]: Done 760 tasks      | elapsed:    5.7s\n",
      "[Parallel(n_jobs=-1)]: Done 1210 tasks      | elapsed:    9.0s\n",
      "[Parallel(n_jobs=-1)]: Done 1760 tasks      | elapsed:   13.1s\n",
      "[Parallel(n_jobs=-1)]: Done 2410 tasks      | elapsed:   18.0s\n",
      "[Parallel(n_jobs=-1)]: Done 3160 tasks      | elapsed:   23.6s\n",
      "[Parallel(n_jobs=-1)]: Done 4010 tasks      | elapsed:   30.1s\n",
      "[Parallel(n_jobs=-1)]: Done 4960 tasks      | elapsed:   37.3s\n",
      "[Parallel(n_jobs=-1)]: Done 6010 tasks      | elapsed:   45.4s\n",
      "[Parallel(n_jobs=-1)]: Done 7160 tasks      | elapsed:   54.2s\n",
      "[Parallel(n_jobs=-1)]: Done 8410 tasks      | elapsed:  1.1min\n",
      "[Parallel(n_jobs=-1)]: Done 9760 tasks      | elapsed:  1.2min\n",
      "[Parallel(n_jobs=-1)]: Done 10000 out of 10000 | elapsed:  1.3min finished\n",
      "[Parallel(n_jobs=20)]: Using backend ThreadingBackend with 20 concurrent workers.\n",
      "[Parallel(n_jobs=20)]: Done  10 tasks      | elapsed:    0.0s\n",
      "[Parallel(n_jobs=20)]: Done 160 tasks      | elapsed:    0.1s\n"
     ]
    },
    {
     "name": "stdout",
     "output_type": "stream",
     "text": [
      "done in 79.092s.\n"
     ]
    },
    {
     "name": "stderr",
     "output_type": "stream",
     "text": [
      "[Parallel(n_jobs=20)]: Done 410 tasks      | elapsed:    0.2s\n",
      "[Parallel(n_jobs=20)]: Done 760 tasks      | elapsed:    0.3s\n",
      "[Parallel(n_jobs=20)]: Done 1210 tasks      | elapsed:    0.4s\n",
      "[Parallel(n_jobs=20)]: Done 1760 tasks      | elapsed:    0.6s\n",
      "[Parallel(n_jobs=20)]: Done 2410 tasks      | elapsed:    0.8s\n",
      "[Parallel(n_jobs=20)]: Done 3160 tasks      | elapsed:    1.0s\n",
      "[Parallel(n_jobs=20)]: Done 4010 tasks      | elapsed:    1.2s\n",
      "[Parallel(n_jobs=20)]: Done 4960 tasks      | elapsed:    1.5s\n",
      "[Parallel(n_jobs=20)]: Done 6010 tasks      | elapsed:    1.8s\n",
      "[Parallel(n_jobs=20)]: Done 7160 tasks      | elapsed:    2.1s\n",
      "[Parallel(n_jobs=20)]: Done 8410 tasks      | elapsed:    2.5s\n",
      "[Parallel(n_jobs=20)]: Done 9760 tasks      | elapsed:    2.9s\n",
      "[Parallel(n_jobs=20)]: Done 10000 out of 10000 | elapsed:    3.0s finished\n"
     ]
    },
    {
     "name": "stdout",
     "output_type": "stream",
     "text": [
      "accuracy：0.58080\n",
      "precision_avg: 0.60620\n",
      "recall_avg: 0.58080\n",
      "f1_score_avg: 0.56985\n",
      "n_estimator = 10000\n",
      "max_depth = 10\n",
      "min_samples_split = 10\n",
      "min_samples_leaf = 5\n"
     ]
    },
    {
     "name": "stderr",
     "output_type": "stream",
     "text": [
      "[Parallel(n_jobs=-1)]: Using backend ThreadingBackend with 20 concurrent workers.\n",
      "[Parallel(n_jobs=-1)]: Done  10 tasks      | elapsed:    0.3s\n",
      "[Parallel(n_jobs=-1)]: Done 160 tasks      | elapsed:    1.4s\n",
      "[Parallel(n_jobs=-1)]: Done 410 tasks      | elapsed:    3.3s\n",
      "[Parallel(n_jobs=-1)]: Done 760 tasks      | elapsed:    6.0s\n",
      "[Parallel(n_jobs=-1)]: Done 1210 tasks      | elapsed:    9.4s\n",
      "[Parallel(n_jobs=-1)]: Done 1760 tasks      | elapsed:   13.5s\n",
      "[Parallel(n_jobs=-1)]: Done 2410 tasks      | elapsed:   18.3s\n",
      "[Parallel(n_jobs=-1)]: Done 3160 tasks      | elapsed:   24.0s\n",
      "[Parallel(n_jobs=-1)]: Done 4010 tasks      | elapsed:   30.3s\n",
      "[Parallel(n_jobs=-1)]: Done 4960 tasks      | elapsed:   37.3s\n",
      "[Parallel(n_jobs=-1)]: Done 6010 tasks      | elapsed:   44.9s\n",
      "[Parallel(n_jobs=-1)]: Done 7160 tasks      | elapsed:   53.1s\n",
      "[Parallel(n_jobs=-1)]: Done 8410 tasks      | elapsed:  1.0min\n",
      "[Parallel(n_jobs=-1)]: Done 9760 tasks      | elapsed:  1.2min\n",
      "[Parallel(n_jobs=-1)]: Done 10000 out of 10000 | elapsed:  1.2min finished\n",
      "[Parallel(n_jobs=20)]: Using backend ThreadingBackend with 20 concurrent workers.\n",
      "[Parallel(n_jobs=20)]: Done  10 tasks      | elapsed:    0.0s\n",
      "[Parallel(n_jobs=20)]: Done 160 tasks      | elapsed:    0.1s\n",
      "[Parallel(n_jobs=20)]: Done 410 tasks      | elapsed:    0.2s\n"
     ]
    },
    {
     "name": "stdout",
     "output_type": "stream",
     "text": [
      "done in 76.333s.\n"
     ]
    },
    {
     "name": "stderr",
     "output_type": "stream",
     "text": [
      "[Parallel(n_jobs=20)]: Done 760 tasks      | elapsed:    0.3s\n",
      "[Parallel(n_jobs=20)]: Done 1210 tasks      | elapsed:    0.4s\n",
      "[Parallel(n_jobs=20)]: Done 1760 tasks      | elapsed:    0.6s\n",
      "[Parallel(n_jobs=20)]: Done 2410 tasks      | elapsed:    0.8s\n",
      "[Parallel(n_jobs=20)]: Done 3160 tasks      | elapsed:    1.1s\n",
      "[Parallel(n_jobs=20)]: Done 4010 tasks      | elapsed:    1.3s\n",
      "[Parallel(n_jobs=20)]: Done 4960 tasks      | elapsed:    1.6s\n",
      "[Parallel(n_jobs=20)]: Done 6010 tasks      | elapsed:    2.0s\n",
      "[Parallel(n_jobs=20)]: Done 7160 tasks      | elapsed:    2.3s\n",
      "[Parallel(n_jobs=20)]: Done 8410 tasks      | elapsed:    2.7s\n",
      "[Parallel(n_jobs=20)]: Done 9760 tasks      | elapsed:    3.1s\n",
      "[Parallel(n_jobs=20)]: Done 10000 out of 10000 | elapsed:    3.1s finished\n"
     ]
    },
    {
     "name": "stdout",
     "output_type": "stream",
     "text": [
      "accuracy：0.58013\n",
      "precision_avg: 0.60696\n",
      "recall_avg: 0.58013\n",
      "f1_score_avg: 0.56938\n",
      "n_estimator = 10000\n",
      "max_depth = 10\n",
      "min_samples_split = 50\n",
      "min_samples_leaf = 1\n"
     ]
    },
    {
     "name": "stderr",
     "output_type": "stream",
     "text": [
      "[Parallel(n_jobs=-1)]: Using backend ThreadingBackend with 20 concurrent workers.\n",
      "[Parallel(n_jobs=-1)]: Done  10 tasks      | elapsed:    0.2s\n",
      "[Parallel(n_jobs=-1)]: Done 160 tasks      | elapsed:    1.2s\n",
      "[Parallel(n_jobs=-1)]: Done 410 tasks      | elapsed:    3.0s\n",
      "[Parallel(n_jobs=-1)]: Done 760 tasks      | elapsed:    5.5s\n",
      "[Parallel(n_jobs=-1)]: Done 1210 tasks      | elapsed:    8.7s\n",
      "[Parallel(n_jobs=-1)]: Done 1760 tasks      | elapsed:   12.7s\n",
      "[Parallel(n_jobs=-1)]: Done 2410 tasks      | elapsed:   17.3s\n",
      "[Parallel(n_jobs=-1)]: Done 3160 tasks      | elapsed:   22.5s\n",
      "[Parallel(n_jobs=-1)]: Done 4010 tasks      | elapsed:   28.4s\n",
      "[Parallel(n_jobs=-1)]: Done 4960 tasks      | elapsed:   35.2s\n",
      "[Parallel(n_jobs=-1)]: Done 6010 tasks      | elapsed:   42.6s\n",
      "[Parallel(n_jobs=-1)]: Done 7160 tasks      | elapsed:   50.5s\n",
      "[Parallel(n_jobs=-1)]: Done 8410 tasks      | elapsed:   59.1s\n",
      "[Parallel(n_jobs=-1)]: Done 9760 tasks      | elapsed:  1.1min\n",
      "[Parallel(n_jobs=-1)]: Done 10000 out of 10000 | elapsed:  1.2min finished\n",
      "[Parallel(n_jobs=20)]: Using backend ThreadingBackend with 20 concurrent workers.\n",
      "[Parallel(n_jobs=20)]: Done  10 tasks      | elapsed:    0.0s\n",
      "[Parallel(n_jobs=20)]: Done 160 tasks      | elapsed:    0.1s\n",
      "[Parallel(n_jobs=20)]: Done 410 tasks      | elapsed:    0.2s\n"
     ]
    },
    {
     "name": "stdout",
     "output_type": "stream",
     "text": [
      "done in 73.112s.\n"
     ]
    },
    {
     "name": "stderr",
     "output_type": "stream",
     "text": [
      "[Parallel(n_jobs=20)]: Done 760 tasks      | elapsed:    0.3s\n",
      "[Parallel(n_jobs=20)]: Done 1210 tasks      | elapsed:    0.4s\n",
      "[Parallel(n_jobs=20)]: Done 1760 tasks      | elapsed:    0.6s\n",
      "[Parallel(n_jobs=20)]: Done 2410 tasks      | elapsed:    0.8s\n",
      "[Parallel(n_jobs=20)]: Done 3160 tasks      | elapsed:    1.0s\n",
      "[Parallel(n_jobs=20)]: Done 4010 tasks      | elapsed:    1.2s\n",
      "[Parallel(n_jobs=20)]: Done 4960 tasks      | elapsed:    1.5s\n",
      "[Parallel(n_jobs=20)]: Done 6010 tasks      | elapsed:    1.8s\n",
      "[Parallel(n_jobs=20)]: Done 7160 tasks      | elapsed:    2.1s\n",
      "[Parallel(n_jobs=20)]: Done 8410 tasks      | elapsed:    2.4s\n",
      "[Parallel(n_jobs=20)]: Done 9760 tasks      | elapsed:    2.8s\n",
      "[Parallel(n_jobs=20)]: Done 10000 out of 10000 | elapsed:    2.9s finished\n"
     ]
    },
    {
     "name": "stdout",
     "output_type": "stream",
     "text": [
      "accuracy：0.57980\n",
      "precision_avg: 0.60616\n",
      "recall_avg: 0.57980\n",
      "f1_score_avg: 0.56903\n",
      "n_estimator = 10000\n",
      "max_depth = 10\n",
      "min_samples_split = 50\n",
      "min_samples_leaf = 5\n"
     ]
    },
    {
     "name": "stderr",
     "output_type": "stream",
     "text": [
      "[Parallel(n_jobs=-1)]: Using backend ThreadingBackend with 20 concurrent workers.\n",
      "[Parallel(n_jobs=-1)]: Done  10 tasks      | elapsed:    0.2s\n",
      "[Parallel(n_jobs=-1)]: Done 160 tasks      | elapsed:    1.3s\n",
      "[Parallel(n_jobs=-1)]: Done 410 tasks      | elapsed:    3.1s\n",
      "[Parallel(n_jobs=-1)]: Done 760 tasks      | elapsed:    5.7s\n",
      "[Parallel(n_jobs=-1)]: Done 1210 tasks      | elapsed:    9.0s\n",
      "[Parallel(n_jobs=-1)]: Done 1760 tasks      | elapsed:   13.0s\n",
      "[Parallel(n_jobs=-1)]: Done 2410 tasks      | elapsed:   17.7s\n",
      "[Parallel(n_jobs=-1)]: Done 3160 tasks      | elapsed:   23.0s\n",
      "[Parallel(n_jobs=-1)]: Done 4010 tasks      | elapsed:   29.1s\n",
      "[Parallel(n_jobs=-1)]: Done 4960 tasks      | elapsed:   36.0s\n",
      "[Parallel(n_jobs=-1)]: Done 6010 tasks      | elapsed:   43.5s\n",
      "[Parallel(n_jobs=-1)]: Done 7160 tasks      | elapsed:   51.8s\n",
      "[Parallel(n_jobs=-1)]: Done 8410 tasks      | elapsed:  1.0min\n",
      "[Parallel(n_jobs=-1)]: Done 9760 tasks      | elapsed:  1.2min\n",
      "[Parallel(n_jobs=-1)]: Done 10000 out of 10000 | elapsed:  1.2min finished\n",
      "[Parallel(n_jobs=20)]: Using backend ThreadingBackend with 20 concurrent workers.\n",
      "[Parallel(n_jobs=20)]: Done  10 tasks      | elapsed:    0.0s\n",
      "[Parallel(n_jobs=20)]: Done 160 tasks      | elapsed:    0.1s\n"
     ]
    },
    {
     "name": "stdout",
     "output_type": "stream",
     "text": [
      "done in 75.347s.\n"
     ]
    },
    {
     "name": "stderr",
     "output_type": "stream",
     "text": [
      "[Parallel(n_jobs=20)]: Done 410 tasks      | elapsed:    0.2s\n",
      "[Parallel(n_jobs=20)]: Done 760 tasks      | elapsed:    0.3s\n",
      "[Parallel(n_jobs=20)]: Done 1210 tasks      | elapsed:    0.4s\n",
      "[Parallel(n_jobs=20)]: Done 1760 tasks      | elapsed:    0.6s\n",
      "[Parallel(n_jobs=20)]: Done 2410 tasks      | elapsed:    0.8s\n",
      "[Parallel(n_jobs=20)]: Done 3160 tasks      | elapsed:    1.0s\n",
      "[Parallel(n_jobs=20)]: Done 4010 tasks      | elapsed:    1.2s\n",
      "[Parallel(n_jobs=20)]: Done 4960 tasks      | elapsed:    1.5s\n",
      "[Parallel(n_jobs=20)]: Done 6010 tasks      | elapsed:    1.8s\n",
      "[Parallel(n_jobs=20)]: Done 7160 tasks      | elapsed:    2.1s\n",
      "[Parallel(n_jobs=20)]: Done 8410 tasks      | elapsed:    2.4s\n",
      "[Parallel(n_jobs=20)]: Done 9760 tasks      | elapsed:    2.8s\n",
      "[Parallel(n_jobs=20)]: Done 10000 out of 10000 | elapsed:    2.8s finished\n"
     ]
    },
    {
     "name": "stdout",
     "output_type": "stream",
     "text": [
      "accuracy：0.57967\n",
      "precision_avg: 0.60687\n",
      "recall_avg: 0.57967\n",
      "f1_score_avg: 0.56905\n",
      "n_estimator = 10000\n",
      "max_depth = 10\n",
      "min_samples_split = 50\n",
      "min_samples_leaf = 10\n"
     ]
    },
    {
     "name": "stderr",
     "output_type": "stream",
     "text": [
      "[Parallel(n_jobs=-1)]: Using backend ThreadingBackend with 20 concurrent workers.\n",
      "[Parallel(n_jobs=-1)]: Done  10 tasks      | elapsed:    0.2s\n",
      "[Parallel(n_jobs=-1)]: Done 160 tasks      | elapsed:    1.3s\n",
      "[Parallel(n_jobs=-1)]: Done 410 tasks      | elapsed:    3.1s\n",
      "[Parallel(n_jobs=-1)]: Done 760 tasks      | elapsed:    5.7s\n",
      "[Parallel(n_jobs=-1)]: Done 1210 tasks      | elapsed:    8.9s\n",
      "[Parallel(n_jobs=-1)]: Done 1760 tasks      | elapsed:   12.8s\n",
      "[Parallel(n_jobs=-1)]: Done 2410 tasks      | elapsed:   17.4s\n",
      "[Parallel(n_jobs=-1)]: Done 3160 tasks      | elapsed:   22.8s\n",
      "[Parallel(n_jobs=-1)]: Done 4010 tasks      | elapsed:   28.8s\n",
      "[Parallel(n_jobs=-1)]: Done 4960 tasks      | elapsed:   35.6s\n",
      "[Parallel(n_jobs=-1)]: Done 6010 tasks      | elapsed:   43.1s\n",
      "[Parallel(n_jobs=-1)]: Done 7160 tasks      | elapsed:   51.3s\n",
      "[Parallel(n_jobs=-1)]: Done 8410 tasks      | elapsed:  1.0min\n",
      "[Parallel(n_jobs=-1)]: Done 9760 tasks      | elapsed:  1.2min\n",
      "[Parallel(n_jobs=-1)]: Done 10000 out of 10000 | elapsed:  1.2min finished\n",
      "[Parallel(n_jobs=20)]: Using backend ThreadingBackend with 20 concurrent workers.\n",
      "[Parallel(n_jobs=20)]: Done  10 tasks      | elapsed:    0.0s\n",
      "[Parallel(n_jobs=20)]: Done 160 tasks      | elapsed:    0.1s\n"
     ]
    },
    {
     "name": "stdout",
     "output_type": "stream",
     "text": [
      "done in 74.688s.\n"
     ]
    },
    {
     "name": "stderr",
     "output_type": "stream",
     "text": [
      "[Parallel(n_jobs=20)]: Done 410 tasks      | elapsed:    0.2s\n",
      "[Parallel(n_jobs=20)]: Done 760 tasks      | elapsed:    0.3s\n",
      "[Parallel(n_jobs=20)]: Done 1210 tasks      | elapsed:    0.4s\n",
      "[Parallel(n_jobs=20)]: Done 1760 tasks      | elapsed:    0.6s\n",
      "[Parallel(n_jobs=20)]: Done 2410 tasks      | elapsed:    0.9s\n",
      "[Parallel(n_jobs=20)]: Done 3160 tasks      | elapsed:    1.1s\n",
      "[Parallel(n_jobs=20)]: Done 4010 tasks      | elapsed:    1.4s\n",
      "[Parallel(n_jobs=20)]: Done 4960 tasks      | elapsed:    1.6s\n",
      "[Parallel(n_jobs=20)]: Done 6010 tasks      | elapsed:    1.9s\n",
      "[Parallel(n_jobs=20)]: Done 7160 tasks      | elapsed:    2.2s\n",
      "[Parallel(n_jobs=20)]: Done 8410 tasks      | elapsed:    2.6s\n",
      "[Parallel(n_jobs=20)]: Done 9760 tasks      | elapsed:    3.0s\n",
      "[Parallel(n_jobs=20)]: Done 10000 out of 10000 | elapsed:    3.0s finished\n"
     ]
    },
    {
     "name": "stdout",
     "output_type": "stream",
     "text": [
      "accuracy：0.57960\n",
      "precision_avg: 0.60828\n",
      "recall_avg: 0.57960\n",
      "f1_score_avg: 0.56928\n",
      "n_estimator = 10000\n",
      "max_depth = 10\n",
      "min_samples_split = 50\n",
      "min_samples_leaf = 20\n"
     ]
    },
    {
     "name": "stderr",
     "output_type": "stream",
     "text": [
      "[Parallel(n_jobs=-1)]: Using backend ThreadingBackend with 20 concurrent workers.\n",
      "[Parallel(n_jobs=-1)]: Done  10 tasks      | elapsed:    0.2s\n",
      "[Parallel(n_jobs=-1)]: Done 160 tasks      | elapsed:    1.2s\n",
      "[Parallel(n_jobs=-1)]: Done 410 tasks      | elapsed:    2.9s\n",
      "[Parallel(n_jobs=-1)]: Done 760 tasks      | elapsed:    5.4s\n",
      "[Parallel(n_jobs=-1)]: Done 1210 tasks      | elapsed:    8.6s\n",
      "[Parallel(n_jobs=-1)]: Done 1760 tasks      | elapsed:   12.4s\n",
      "[Parallel(n_jobs=-1)]: Done 2410 tasks      | elapsed:   16.9s\n",
      "[Parallel(n_jobs=-1)]: Done 3160 tasks      | elapsed:   22.2s\n",
      "[Parallel(n_jobs=-1)]: Done 4010 tasks      | elapsed:   28.1s\n",
      "[Parallel(n_jobs=-1)]: Done 4960 tasks      | elapsed:   34.8s\n",
      "[Parallel(n_jobs=-1)]: Done 6010 tasks      | elapsed:   42.1s\n",
      "[Parallel(n_jobs=-1)]: Done 7160 tasks      | elapsed:   50.1s\n",
      "[Parallel(n_jobs=-1)]: Done 8410 tasks      | elapsed:   58.8s\n",
      "[Parallel(n_jobs=-1)]: Done 9760 tasks      | elapsed:  1.1min\n",
      "[Parallel(n_jobs=-1)]: Done 10000 out of 10000 | elapsed:  1.2min finished\n",
      "[Parallel(n_jobs=20)]: Using backend ThreadingBackend with 20 concurrent workers.\n",
      "[Parallel(n_jobs=20)]: Done  10 tasks      | elapsed:    0.0s\n",
      "[Parallel(n_jobs=20)]: Done 160 tasks      | elapsed:    0.1s\n"
     ]
    },
    {
     "name": "stdout",
     "output_type": "stream",
     "text": [
      "done in 73.199s.\n"
     ]
    },
    {
     "name": "stderr",
     "output_type": "stream",
     "text": [
      "[Parallel(n_jobs=20)]: Done 410 tasks      | elapsed:    0.2s\n",
      "[Parallel(n_jobs=20)]: Done 760 tasks      | elapsed:    0.3s\n",
      "[Parallel(n_jobs=20)]: Done 1210 tasks      | elapsed:    0.5s\n",
      "[Parallel(n_jobs=20)]: Done 1760 tasks      | elapsed:    0.7s\n",
      "[Parallel(n_jobs=20)]: Done 2410 tasks      | elapsed:    0.9s\n",
      "[Parallel(n_jobs=20)]: Done 3160 tasks      | elapsed:    1.1s\n",
      "[Parallel(n_jobs=20)]: Done 4010 tasks      | elapsed:    1.4s\n",
      "[Parallel(n_jobs=20)]: Done 4960 tasks      | elapsed:    1.8s\n",
      "[Parallel(n_jobs=20)]: Done 6010 tasks      | elapsed:    2.1s\n",
      "[Parallel(n_jobs=20)]: Done 7160 tasks      | elapsed:    2.5s\n",
      "[Parallel(n_jobs=20)]: Done 8410 tasks      | elapsed:    2.9s\n",
      "[Parallel(n_jobs=20)]: Done 9760 tasks      | elapsed:    3.3s\n",
      "[Parallel(n_jobs=20)]: Done 10000 out of 10000 | elapsed:    3.3s finished\n"
     ]
    },
    {
     "name": "stdout",
     "output_type": "stream",
     "text": [
      "accuracy：0.57807\n",
      "precision_avg: 0.60709\n",
      "recall_avg: 0.57807\n",
      "f1_score_avg: 0.56761\n",
      "n_estimator = 10000\n",
      "max_depth = 20\n",
      "min_samples_split = 2\n",
      "min_samples_leaf = 1\n"
     ]
    },
    {
     "name": "stderr",
     "output_type": "stream",
     "text": [
      "[Parallel(n_jobs=-1)]: Using backend ThreadingBackend with 20 concurrent workers.\n",
      "[Parallel(n_jobs=-1)]: Done  10 tasks      | elapsed:    0.6s\n",
      "[Parallel(n_jobs=-1)]: Done 160 tasks      | elapsed:    4.7s\n",
      "[Parallel(n_jobs=-1)]: Done 410 tasks      | elapsed:   11.3s\n",
      "[Parallel(n_jobs=-1)]: Done 760 tasks      | elapsed:   20.5s\n",
      "[Parallel(n_jobs=-1)]: Done 1210 tasks      | elapsed:   32.5s\n",
      "[Parallel(n_jobs=-1)]: Done 1760 tasks      | elapsed:   47.0s\n",
      "[Parallel(n_jobs=-1)]: Done 2410 tasks      | elapsed:  1.1min\n",
      "[Parallel(n_jobs=-1)]: Done 3160 tasks      | elapsed:  1.4min\n",
      "[Parallel(n_jobs=-1)]: Done 4010 tasks      | elapsed:  1.8min\n",
      "[Parallel(n_jobs=-1)]: Done 4960 tasks      | elapsed:  2.2min\n",
      "[Parallel(n_jobs=-1)]: Done 6010 tasks      | elapsed:  2.7min\n",
      "[Parallel(n_jobs=-1)]: Done 7160 tasks      | elapsed:  3.2min\n",
      "[Parallel(n_jobs=-1)]: Done 8410 tasks      | elapsed:  3.7min\n",
      "[Parallel(n_jobs=-1)]: Done 9760 tasks      | elapsed:  4.3min\n",
      "[Parallel(n_jobs=-1)]: Done 10000 out of 10000 | elapsed:  4.4min finished\n",
      "[Parallel(n_jobs=20)]: Using backend ThreadingBackend with 20 concurrent workers.\n",
      "[Parallel(n_jobs=20)]: Done  10 tasks      | elapsed:    0.0s\n",
      "[Parallel(n_jobs=20)]: Done 160 tasks      | elapsed:    0.1s\n"
     ]
    },
    {
     "name": "stdout",
     "output_type": "stream",
     "text": [
      "done in 268.301s.\n"
     ]
    },
    {
     "name": "stderr",
     "output_type": "stream",
     "text": [
      "[Parallel(n_jobs=20)]: Done 410 tasks      | elapsed:    0.2s\n",
      "[Parallel(n_jobs=20)]: Done 760 tasks      | elapsed:    0.3s\n",
      "[Parallel(n_jobs=20)]: Done 1210 tasks      | elapsed:    0.5s\n",
      "[Parallel(n_jobs=20)]: Done 1760 tasks      | elapsed:    0.7s\n",
      "[Parallel(n_jobs=20)]: Done 2410 tasks      | elapsed:    0.9s\n",
      "[Parallel(n_jobs=20)]: Done 3160 tasks      | elapsed:    1.2s\n",
      "[Parallel(n_jobs=20)]: Done 4010 tasks      | elapsed:    1.5s\n",
      "[Parallel(n_jobs=20)]: Done 4960 tasks      | elapsed:    1.8s\n",
      "[Parallel(n_jobs=20)]: Done 6010 tasks      | elapsed:    2.2s\n",
      "[Parallel(n_jobs=20)]: Done 7160 tasks      | elapsed:    2.6s\n",
      "[Parallel(n_jobs=20)]: Done 8410 tasks      | elapsed:    3.0s\n",
      "[Parallel(n_jobs=20)]: Done 9760 tasks      | elapsed:    3.4s\n",
      "[Parallel(n_jobs=20)]: Done 10000 out of 10000 | elapsed:    3.5s finished\n"
     ]
    },
    {
     "name": "stdout",
     "output_type": "stream",
     "text": [
      "accuracy：0.60740\n",
      "precision_avg: 0.60987\n",
      "recall_avg: 0.60740\n",
      "f1_score_avg: 0.59602\n",
      "n_estimator = 10000\n",
      "max_depth = 20\n",
      "min_samples_split = 10\n",
      "min_samples_leaf = 1\n"
     ]
    },
    {
     "name": "stderr",
     "output_type": "stream",
     "text": [
      "[Parallel(n_jobs=-1)]: Using backend ThreadingBackend with 20 concurrent workers.\n",
      "[Parallel(n_jobs=-1)]: Done  10 tasks      | elapsed:    0.5s\n",
      "[Parallel(n_jobs=-1)]: Done 160 tasks      | elapsed:    4.2s\n",
      "[Parallel(n_jobs=-1)]: Done 410 tasks      | elapsed:   10.3s\n",
      "[Parallel(n_jobs=-1)]: Done 760 tasks      | elapsed:   18.6s\n",
      "[Parallel(n_jobs=-1)]: Done 1210 tasks      | elapsed:   29.5s\n",
      "[Parallel(n_jobs=-1)]: Done 1760 tasks      | elapsed:   42.5s\n",
      "[Parallel(n_jobs=-1)]: Done 2410 tasks      | elapsed:   57.8s\n",
      "[Parallel(n_jobs=-1)]: Done 3160 tasks      | elapsed:  1.3min\n",
      "[Parallel(n_jobs=-1)]: Done 4010 tasks      | elapsed:  1.6min\n",
      "[Parallel(n_jobs=-1)]: Done 4960 tasks      | elapsed:  2.0min\n",
      "[Parallel(n_jobs=-1)]: Done 6010 tasks      | elapsed:  2.4min\n",
      "[Parallel(n_jobs=-1)]: Done 7160 tasks      | elapsed:  2.9min\n",
      "[Parallel(n_jobs=-1)]: Done 8410 tasks      | elapsed:  3.4min\n",
      "[Parallel(n_jobs=-1)]: Done 9760 tasks      | elapsed:  3.9min\n",
      "[Parallel(n_jobs=-1)]: Done 10000 out of 10000 | elapsed:  4.0min finished\n",
      "[Parallel(n_jobs=20)]: Using backend ThreadingBackend with 20 concurrent workers.\n",
      "[Parallel(n_jobs=20)]: Done  10 tasks      | elapsed:    0.0s\n",
      "[Parallel(n_jobs=20)]: Done 160 tasks      | elapsed:    0.1s\n",
      "[Parallel(n_jobs=20)]: Done 410 tasks      | elapsed:    0.2s\n"
     ]
    },
    {
     "name": "stdout",
     "output_type": "stream",
     "text": [
      "done in 242.178s.\n"
     ]
    },
    {
     "name": "stderr",
     "output_type": "stream",
     "text": [
      "[Parallel(n_jobs=20)]: Done 760 tasks      | elapsed:    0.3s\n",
      "[Parallel(n_jobs=20)]: Done 1210 tasks      | elapsed:    0.5s\n",
      "[Parallel(n_jobs=20)]: Done 1760 tasks      | elapsed:    0.7s\n",
      "[Parallel(n_jobs=20)]: Done 2410 tasks      | elapsed:    0.9s\n",
      "[Parallel(n_jobs=20)]: Done 3160 tasks      | elapsed:    1.2s\n",
      "[Parallel(n_jobs=20)]: Done 4010 tasks      | elapsed:    1.5s\n",
      "[Parallel(n_jobs=20)]: Done 4960 tasks      | elapsed:    1.8s\n",
      "[Parallel(n_jobs=20)]: Done 6010 tasks      | elapsed:    2.2s\n",
      "[Parallel(n_jobs=20)]: Done 7160 tasks      | elapsed:    2.5s\n",
      "[Parallel(n_jobs=20)]: Done 8410 tasks      | elapsed:    2.9s\n",
      "[Parallel(n_jobs=20)]: Done 9760 tasks      | elapsed:    3.3s\n",
      "[Parallel(n_jobs=20)]: Done 10000 out of 10000 | elapsed:    3.4s finished\n"
     ]
    },
    {
     "name": "stdout",
     "output_type": "stream",
     "text": [
      "accuracy：0.60667\n",
      "precision_avg: 0.61404\n",
      "recall_avg: 0.60667\n",
      "f1_score_avg: 0.59696\n",
      "n_estimator = 10000\n",
      "max_depth = 20\n",
      "min_samples_split = 10\n",
      "min_samples_leaf = 5\n"
     ]
    },
    {
     "name": "stderr",
     "output_type": "stream",
     "text": [
      "[Parallel(n_jobs=-1)]: Using backend ThreadingBackend with 20 concurrent workers.\n",
      "[Parallel(n_jobs=-1)]: Done  10 tasks      | elapsed:    0.5s\n",
      "[Parallel(n_jobs=-1)]: Done 160 tasks      | elapsed:    3.9s\n",
      "[Parallel(n_jobs=-1)]: Done 410 tasks      | elapsed:    9.4s\n",
      "[Parallel(n_jobs=-1)]: Done 760 tasks      | elapsed:   17.1s\n",
      "[Parallel(n_jobs=-1)]: Done 1210 tasks      | elapsed:   27.0s\n",
      "[Parallel(n_jobs=-1)]: Done 1760 tasks      | elapsed:   38.8s\n",
      "[Parallel(n_jobs=-1)]: Done 2410 tasks      | elapsed:   52.7s\n",
      "[Parallel(n_jobs=-1)]: Done 3160 tasks      | elapsed:  1.1min\n",
      "[Parallel(n_jobs=-1)]: Done 4010 tasks      | elapsed:  1.5min\n",
      "[Parallel(n_jobs=-1)]: Done 4960 tasks      | elapsed:  1.8min\n",
      "[Parallel(n_jobs=-1)]: Done 6010 tasks      | elapsed:  2.2min\n",
      "[Parallel(n_jobs=-1)]: Done 7160 tasks      | elapsed:  2.6min\n",
      "[Parallel(n_jobs=-1)]: Done 8410 tasks      | elapsed:  3.0min\n",
      "[Parallel(n_jobs=-1)]: Done 9760 tasks      | elapsed:  3.5min\n",
      "[Parallel(n_jobs=-1)]: Done 10000 out of 10000 | elapsed:  3.6min finished\n",
      "[Parallel(n_jobs=20)]: Using backend ThreadingBackend with 20 concurrent workers.\n",
      "[Parallel(n_jobs=20)]: Done  10 tasks      | elapsed:    0.0s\n",
      "[Parallel(n_jobs=20)]: Done 160 tasks      | elapsed:    0.1s\n"
     ]
    },
    {
     "name": "stdout",
     "output_type": "stream",
     "text": [
      "done in 218.060s.\n"
     ]
    },
    {
     "name": "stderr",
     "output_type": "stream",
     "text": [
      "[Parallel(n_jobs=20)]: Done 410 tasks      | elapsed:    0.2s\n",
      "[Parallel(n_jobs=20)]: Done 760 tasks      | elapsed:    0.3s\n",
      "[Parallel(n_jobs=20)]: Done 1210 tasks      | elapsed:    0.5s\n",
      "[Parallel(n_jobs=20)]: Done 1760 tasks      | elapsed:    0.7s\n",
      "[Parallel(n_jobs=20)]: Done 2410 tasks      | elapsed:    0.9s\n",
      "[Parallel(n_jobs=20)]: Done 3160 tasks      | elapsed:    1.1s\n",
      "[Parallel(n_jobs=20)]: Done 4010 tasks      | elapsed:    1.4s\n",
      "[Parallel(n_jobs=20)]: Done 4960 tasks      | elapsed:    1.8s\n",
      "[Parallel(n_jobs=20)]: Done 6010 tasks      | elapsed:    2.2s\n",
      "[Parallel(n_jobs=20)]: Done 7160 tasks      | elapsed:    2.5s\n",
      "[Parallel(n_jobs=20)]: Done 8410 tasks      | elapsed:    2.9s\n",
      "[Parallel(n_jobs=20)]: Done 9760 tasks      | elapsed:    3.4s\n",
      "[Parallel(n_jobs=20)]: Done 10000 out of 10000 | elapsed:    3.5s finished\n"
     ]
    },
    {
     "name": "stdout",
     "output_type": "stream",
     "text": [
      "accuracy：0.60227\n",
      "precision_avg: 0.61701\n",
      "recall_avg: 0.60227\n",
      "f1_score_avg: 0.59428\n",
      "n_estimator = 10000\n",
      "max_depth = 20\n",
      "min_samples_split = 50\n",
      "min_samples_leaf = 1\n"
     ]
    },
    {
     "name": "stderr",
     "output_type": "stream",
     "text": [
      "[Parallel(n_jobs=-1)]: Using backend ThreadingBackend with 20 concurrent workers.\n",
      "[Parallel(n_jobs=-1)]: Done  10 tasks      | elapsed:    0.4s\n",
      "[Parallel(n_jobs=-1)]: Done 160 tasks      | elapsed:    3.4s\n",
      "[Parallel(n_jobs=-1)]: Done 410 tasks      | elapsed:    8.3s\n",
      "[Parallel(n_jobs=-1)]: Done 760 tasks      | elapsed:   15.2s\n",
      "[Parallel(n_jobs=-1)]: Done 1210 tasks      | elapsed:   24.1s\n",
      "[Parallel(n_jobs=-1)]: Done 1760 tasks      | elapsed:   34.8s\n",
      "[Parallel(n_jobs=-1)]: Done 2410 tasks      | elapsed:   47.6s\n",
      "[Parallel(n_jobs=-1)]: Done 3160 tasks      | elapsed:  1.0min\n",
      "[Parallel(n_jobs=-1)]: Done 4010 tasks      | elapsed:  1.3min\n",
      "[Parallel(n_jobs=-1)]: Done 4960 tasks      | elapsed:  1.6min\n",
      "[Parallel(n_jobs=-1)]: Done 6010 tasks      | elapsed:  2.0min\n",
      "[Parallel(n_jobs=-1)]: Done 7160 tasks      | elapsed:  2.4min\n",
      "[Parallel(n_jobs=-1)]: Done 8410 tasks      | elapsed:  2.8min\n",
      "[Parallel(n_jobs=-1)]: Done 9760 tasks      | elapsed:  3.2min\n",
      "[Parallel(n_jobs=-1)]: Done 10000 out of 10000 | elapsed:  3.3min finished\n",
      "[Parallel(n_jobs=20)]: Using backend ThreadingBackend with 20 concurrent workers.\n",
      "[Parallel(n_jobs=20)]: Done  10 tasks      | elapsed:    0.0s\n",
      "[Parallel(n_jobs=20)]: Done 160 tasks      | elapsed:    0.1s\n"
     ]
    },
    {
     "name": "stdout",
     "output_type": "stream",
     "text": [
      "done in 201.587s.\n"
     ]
    },
    {
     "name": "stderr",
     "output_type": "stream",
     "text": [
      "[Parallel(n_jobs=20)]: Done 410 tasks      | elapsed:    0.2s\n",
      "[Parallel(n_jobs=20)]: Done 760 tasks      | elapsed:    0.3s\n",
      "[Parallel(n_jobs=20)]: Done 1210 tasks      | elapsed:    0.4s\n",
      "[Parallel(n_jobs=20)]: Done 1760 tasks      | elapsed:    0.6s\n",
      "[Parallel(n_jobs=20)]: Done 2410 tasks      | elapsed:    0.9s\n",
      "[Parallel(n_jobs=20)]: Done 3160 tasks      | elapsed:    1.1s\n",
      "[Parallel(n_jobs=20)]: Done 4010 tasks      | elapsed:    1.4s\n",
      "[Parallel(n_jobs=20)]: Done 4960 tasks      | elapsed:    1.7s\n",
      "[Parallel(n_jobs=20)]: Done 6010 tasks      | elapsed:    2.0s\n",
      "[Parallel(n_jobs=20)]: Done 7160 tasks      | elapsed:    2.4s\n",
      "[Parallel(n_jobs=20)]: Done 8410 tasks      | elapsed:    2.8s\n",
      "[Parallel(n_jobs=20)]: Done 9760 tasks      | elapsed:    3.2s\n",
      "[Parallel(n_jobs=20)]: Done 10000 out of 10000 | elapsed:    3.3s finished\n"
     ]
    },
    {
     "name": "stdout",
     "output_type": "stream",
     "text": [
      "accuracy：0.60273\n",
      "precision_avg: 0.61643\n",
      "recall_avg: 0.60273\n",
      "f1_score_avg: 0.59452\n",
      "n_estimator = 10000\n",
      "max_depth = 20\n",
      "min_samples_split = 50\n",
      "min_samples_leaf = 5\n"
     ]
    },
    {
     "name": "stderr",
     "output_type": "stream",
     "text": [
      "[Parallel(n_jobs=-1)]: Using backend ThreadingBackend with 20 concurrent workers.\n",
      "[Parallel(n_jobs=-1)]: Done  10 tasks      | elapsed:    0.4s\n",
      "[Parallel(n_jobs=-1)]: Done 160 tasks      | elapsed:    3.3s\n",
      "[Parallel(n_jobs=-1)]: Done 410 tasks      | elapsed:    7.9s\n",
      "[Parallel(n_jobs=-1)]: Done 760 tasks      | elapsed:   14.5s\n",
      "[Parallel(n_jobs=-1)]: Done 1210 tasks      | elapsed:   23.4s\n",
      "[Parallel(n_jobs=-1)]: Done 1760 tasks      | elapsed:   33.7s\n",
      "[Parallel(n_jobs=-1)]: Done 2410 tasks      | elapsed:   45.9s\n",
      "[Parallel(n_jobs=-1)]: Done 3160 tasks      | elapsed:   59.7s\n",
      "[Parallel(n_jobs=-1)]: Done 4010 tasks      | elapsed:  1.3min\n",
      "[Parallel(n_jobs=-1)]: Done 4960 tasks      | elapsed:  1.6min\n",
      "[Parallel(n_jobs=-1)]: Done 6010 tasks      | elapsed:  1.9min\n",
      "[Parallel(n_jobs=-1)]: Done 7160 tasks      | elapsed:  2.3min\n",
      "[Parallel(n_jobs=-1)]: Done 8410 tasks      | elapsed:  2.7min\n",
      "[Parallel(n_jobs=-1)]: Done 9760 tasks      | elapsed:  3.1min\n",
      "[Parallel(n_jobs=-1)]: Done 10000 out of 10000 | elapsed:  3.2min finished\n",
      "[Parallel(n_jobs=20)]: Using backend ThreadingBackend with 20 concurrent workers.\n",
      "[Parallel(n_jobs=20)]: Done  10 tasks      | elapsed:    0.0s\n",
      "[Parallel(n_jobs=20)]: Done 160 tasks      | elapsed:    0.1s\n",
      "[Parallel(n_jobs=20)]: Done 410 tasks      | elapsed:    0.2s\n"
     ]
    },
    {
     "name": "stdout",
     "output_type": "stream",
     "text": [
      "done in 192.318s.\n"
     ]
    },
    {
     "name": "stderr",
     "output_type": "stream",
     "text": [
      "[Parallel(n_jobs=20)]: Done 760 tasks      | elapsed:    0.3s\n",
      "[Parallel(n_jobs=20)]: Done 1210 tasks      | elapsed:    0.4s\n",
      "[Parallel(n_jobs=20)]: Done 1760 tasks      | elapsed:    0.6s\n",
      "[Parallel(n_jobs=20)]: Done 2410 tasks      | elapsed:    0.8s\n",
      "[Parallel(n_jobs=20)]: Done 3160 tasks      | elapsed:    1.1s\n",
      "[Parallel(n_jobs=20)]: Done 4010 tasks      | elapsed:    1.3s\n",
      "[Parallel(n_jobs=20)]: Done 4960 tasks      | elapsed:    1.7s\n",
      "[Parallel(n_jobs=20)]: Done 6010 tasks      | elapsed:    2.0s\n",
      "[Parallel(n_jobs=20)]: Done 7160 tasks      | elapsed:    2.4s\n",
      "[Parallel(n_jobs=20)]: Done 8410 tasks      | elapsed:    2.8s\n",
      "[Parallel(n_jobs=20)]: Done 9760 tasks      | elapsed:    3.2s\n",
      "[Parallel(n_jobs=20)]: Done 10000 out of 10000 | elapsed:    3.2s finished\n"
     ]
    },
    {
     "name": "stdout",
     "output_type": "stream",
     "text": [
      "accuracy：0.60087\n",
      "precision_avg: 0.61735\n",
      "recall_avg: 0.60087\n",
      "f1_score_avg: 0.59339\n",
      "n_estimator = 10000\n",
      "max_depth = 20\n",
      "min_samples_split = 50\n",
      "min_samples_leaf = 10\n"
     ]
    },
    {
     "name": "stderr",
     "output_type": "stream",
     "text": [
      "[Parallel(n_jobs=-1)]: Using backend ThreadingBackend with 20 concurrent workers.\n",
      "[Parallel(n_jobs=-1)]: Done  10 tasks      | elapsed:    0.4s\n",
      "[Parallel(n_jobs=-1)]: Done 160 tasks      | elapsed:    3.1s\n",
      "[Parallel(n_jobs=-1)]: Done 410 tasks      | elapsed:    7.6s\n",
      "[Parallel(n_jobs=-1)]: Done 760 tasks      | elapsed:   14.0s\n",
      "[Parallel(n_jobs=-1)]: Done 1210 tasks      | elapsed:   22.1s\n",
      "[Parallel(n_jobs=-1)]: Done 1760 tasks      | elapsed:   31.6s\n",
      "[Parallel(n_jobs=-1)]: Done 2410 tasks      | elapsed:   43.1s\n",
      "[Parallel(n_jobs=-1)]: Done 3160 tasks      | elapsed:   56.2s\n",
      "[Parallel(n_jobs=-1)]: Done 4010 tasks      | elapsed:  1.2min\n",
      "[Parallel(n_jobs=-1)]: Done 4960 tasks      | elapsed:  1.5min\n",
      "[Parallel(n_jobs=-1)]: Done 6010 tasks      | elapsed:  1.8min\n",
      "[Parallel(n_jobs=-1)]: Done 7160 tasks      | elapsed:  2.1min\n",
      "[Parallel(n_jobs=-1)]: Done 8410 tasks      | elapsed:  2.5min\n",
      "[Parallel(n_jobs=-1)]: Done 9760 tasks      | elapsed:  2.9min\n",
      "[Parallel(n_jobs=-1)]: Done 10000 out of 10000 | elapsed:  3.0min finished\n",
      "[Parallel(n_jobs=20)]: Using backend ThreadingBackend with 20 concurrent workers.\n",
      "[Parallel(n_jobs=20)]: Done  10 tasks      | elapsed:    0.0s\n",
      "[Parallel(n_jobs=20)]: Done 160 tasks      | elapsed:    0.1s\n"
     ]
    },
    {
     "name": "stdout",
     "output_type": "stream",
     "text": [
      "done in 180.486s.\n"
     ]
    },
    {
     "name": "stderr",
     "output_type": "stream",
     "text": [
      "[Parallel(n_jobs=20)]: Done 410 tasks      | elapsed:    0.2s\n",
      "[Parallel(n_jobs=20)]: Done 760 tasks      | elapsed:    0.3s\n",
      "[Parallel(n_jobs=20)]: Done 1210 tasks      | elapsed:    0.5s\n",
      "[Parallel(n_jobs=20)]: Done 1760 tasks      | elapsed:    0.7s\n",
      "[Parallel(n_jobs=20)]: Done 2410 tasks      | elapsed:    0.9s\n",
      "[Parallel(n_jobs=20)]: Done 3160 tasks      | elapsed:    1.1s\n",
      "[Parallel(n_jobs=20)]: Done 4010 tasks      | elapsed:    1.4s\n",
      "[Parallel(n_jobs=20)]: Done 4960 tasks      | elapsed:    1.7s\n",
      "[Parallel(n_jobs=20)]: Done 6010 tasks      | elapsed:    2.0s\n",
      "[Parallel(n_jobs=20)]: Done 7160 tasks      | elapsed:    2.3s\n",
      "[Parallel(n_jobs=20)]: Done 8410 tasks      | elapsed:    2.7s\n",
      "[Parallel(n_jobs=20)]: Done 9760 tasks      | elapsed:    3.2s\n",
      "[Parallel(n_jobs=20)]: Done 10000 out of 10000 | elapsed:    3.2s finished\n"
     ]
    },
    {
     "name": "stdout",
     "output_type": "stream",
     "text": [
      "accuracy：0.59820\n",
      "precision_avg: 0.61811\n",
      "recall_avg: 0.59820\n",
      "f1_score_avg: 0.59136\n",
      "n_estimator = 10000\n",
      "max_depth = 20\n",
      "min_samples_split = 50\n",
      "min_samples_leaf = 20\n"
     ]
    },
    {
     "name": "stderr",
     "output_type": "stream",
     "text": [
      "[Parallel(n_jobs=-1)]: Using backend ThreadingBackend with 20 concurrent workers.\n",
      "[Parallel(n_jobs=-1)]: Done  10 tasks      | elapsed:    0.4s\n",
      "[Parallel(n_jobs=-1)]: Done 160 tasks      | elapsed:    2.9s\n",
      "[Parallel(n_jobs=-1)]: Done 410 tasks      | elapsed:    7.0s\n",
      "[Parallel(n_jobs=-1)]: Done 760 tasks      | elapsed:   12.7s\n",
      "[Parallel(n_jobs=-1)]: Done 1210 tasks      | elapsed:   20.0s\n",
      "[Parallel(n_jobs=-1)]: Done 1760 tasks      | elapsed:   29.0s\n",
      "[Parallel(n_jobs=-1)]: Done 2410 tasks      | elapsed:   39.5s\n",
      "[Parallel(n_jobs=-1)]: Done 3160 tasks      | elapsed:   51.8s\n",
      "[Parallel(n_jobs=-1)]: Done 4010 tasks      | elapsed:  1.1min\n",
      "[Parallel(n_jobs=-1)]: Done 4960 tasks      | elapsed:  1.4min\n",
      "[Parallel(n_jobs=-1)]: Done 6010 tasks      | elapsed:  1.6min\n",
      "[Parallel(n_jobs=-1)]: Done 7160 tasks      | elapsed:  2.0min\n",
      "[Parallel(n_jobs=-1)]: Done 8410 tasks      | elapsed:  2.3min\n",
      "[Parallel(n_jobs=-1)]: Done 9760 tasks      | elapsed:  2.7min\n",
      "[Parallel(n_jobs=-1)]: Done 10000 out of 10000 | elapsed:  2.7min finished\n",
      "[Parallel(n_jobs=20)]: Using backend ThreadingBackend with 20 concurrent workers.\n",
      "[Parallel(n_jobs=20)]: Done  10 tasks      | elapsed:    0.0s\n",
      "[Parallel(n_jobs=20)]: Done 160 tasks      | elapsed:    0.1s\n",
      "[Parallel(n_jobs=20)]: Done 410 tasks      | elapsed:    0.2s\n"
     ]
    },
    {
     "name": "stdout",
     "output_type": "stream",
     "text": [
      "done in 166.893s.\n"
     ]
    },
    {
     "name": "stderr",
     "output_type": "stream",
     "text": [
      "[Parallel(n_jobs=20)]: Done 760 tasks      | elapsed:    0.3s\n",
      "[Parallel(n_jobs=20)]: Done 1210 tasks      | elapsed:    0.5s\n",
      "[Parallel(n_jobs=20)]: Done 1760 tasks      | elapsed:    0.7s\n",
      "[Parallel(n_jobs=20)]: Done 2410 tasks      | elapsed:    0.9s\n",
      "[Parallel(n_jobs=20)]: Done 3160 tasks      | elapsed:    1.1s\n",
      "[Parallel(n_jobs=20)]: Done 4010 tasks      | elapsed:    1.4s\n",
      "[Parallel(n_jobs=20)]: Done 4960 tasks      | elapsed:    1.7s\n",
      "[Parallel(n_jobs=20)]: Done 6010 tasks      | elapsed:    2.1s\n",
      "[Parallel(n_jobs=20)]: Done 7160 tasks      | elapsed:    2.4s\n",
      "[Parallel(n_jobs=20)]: Done 8410 tasks      | elapsed:    2.8s\n",
      "[Parallel(n_jobs=20)]: Done 9760 tasks      | elapsed:    3.2s\n",
      "[Parallel(n_jobs=20)]: Done 10000 out of 10000 | elapsed:    3.2s finished\n"
     ]
    },
    {
     "name": "stdout",
     "output_type": "stream",
     "text": [
      "accuracy：0.59547\n",
      "precision_avg: 0.61835\n",
      "recall_avg: 0.59547\n",
      "f1_score_avg: 0.58921\n",
      "n_estimator = 10000\n",
      "max_depth = 50\n",
      "min_samples_split = 2\n",
      "min_samples_leaf = 1\n"
     ]
    },
    {
     "name": "stderr",
     "output_type": "stream",
     "text": [
      "[Parallel(n_jobs=-1)]: Using backend ThreadingBackend with 20 concurrent workers.\n",
      "[Parallel(n_jobs=-1)]: Done  10 tasks      | elapsed:    2.9s\n",
      "[Parallel(n_jobs=-1)]: Done 160 tasks      | elapsed:   23.5s\n",
      "[Parallel(n_jobs=-1)]: Done 410 tasks      | elapsed:   57.9s\n",
      "[Parallel(n_jobs=-1)]: Done 760 tasks      | elapsed:  1.8min\n",
      "[Parallel(n_jobs=-1)]: Done 1210 tasks      | elapsed:  2.8min\n",
      "[Parallel(n_jobs=-1)]: Done 1760 tasks      | elapsed:  4.1min\n",
      "[Parallel(n_jobs=-1)]: Done 2410 tasks      | elapsed:  5.6min\n",
      "[Parallel(n_jobs=-1)]: Done 3160 tasks      | elapsed:  7.3min\n",
      "[Parallel(n_jobs=-1)]: Done 4010 tasks      | elapsed:  9.3min\n",
      "[Parallel(n_jobs=-1)]: Done 4960 tasks      | elapsed: 11.4min\n",
      "[Parallel(n_jobs=-1)]: Done 6010 tasks      | elapsed: 13.9min\n",
      "[Parallel(n_jobs=-1)]: Done 7160 tasks      | elapsed: 16.5min\n",
      "[Parallel(n_jobs=-1)]: Done 8410 tasks      | elapsed: 19.3min\n",
      "[Parallel(n_jobs=-1)]: Done 9760 tasks      | elapsed: 22.4min\n",
      "[Parallel(n_jobs=-1)]: Done 10000 out of 10000 | elapsed: 23.0min finished\n",
      "[Parallel(n_jobs=20)]: Using backend ThreadingBackend with 20 concurrent workers.\n",
      "[Parallel(n_jobs=20)]: Done  10 tasks      | elapsed:    0.0s\n",
      "[Parallel(n_jobs=20)]: Done 160 tasks      | elapsed:    0.1s\n"
     ]
    },
    {
     "name": "stdout",
     "output_type": "stream",
     "text": [
      "done in 1381.318s.\n"
     ]
    },
    {
     "name": "stderr",
     "output_type": "stream",
     "text": [
      "[Parallel(n_jobs=20)]: Done 410 tasks      | elapsed:    0.2s\n",
      "[Parallel(n_jobs=20)]: Done 760 tasks      | elapsed:    0.3s\n",
      "[Parallel(n_jobs=20)]: Done 1210 tasks      | elapsed:    0.6s\n",
      "[Parallel(n_jobs=20)]: Done 1760 tasks      | elapsed:    0.8s\n",
      "[Parallel(n_jobs=20)]: Done 2410 tasks      | elapsed:    1.2s\n",
      "[Parallel(n_jobs=20)]: Done 3160 tasks      | elapsed:    1.6s\n",
      "[Parallel(n_jobs=20)]: Done 4010 tasks      | elapsed:    2.1s\n",
      "[Parallel(n_jobs=20)]: Done 4960 tasks      | elapsed:    2.6s\n",
      "[Parallel(n_jobs=20)]: Done 6010 tasks      | elapsed:    3.1s\n",
      "[Parallel(n_jobs=20)]: Done 7160 tasks      | elapsed:    3.8s\n",
      "[Parallel(n_jobs=20)]: Done 8410 tasks      | elapsed:    4.4s\n",
      "[Parallel(n_jobs=20)]: Done 9760 tasks      | elapsed:    5.2s\n",
      "[Parallel(n_jobs=20)]: Done 10000 out of 10000 | elapsed:    5.3s finished\n"
     ]
    },
    {
     "name": "stdout",
     "output_type": "stream",
     "text": [
      "accuracy：0.64700\n",
      "precision_avg: 0.60609\n",
      "recall_avg: 0.64700\n",
      "f1_score_avg: 0.61277\n",
      "n_estimator = 10000\n",
      "max_depth = 50\n",
      "min_samples_split = 10\n",
      "min_samples_leaf = 1\n"
     ]
    },
    {
     "name": "stderr",
     "output_type": "stream",
     "text": [
      "[Parallel(n_jobs=-1)]: Using backend ThreadingBackend with 20 concurrent workers.\n",
      "[Parallel(n_jobs=-1)]: Done  10 tasks      | elapsed:    2.5s\n",
      "[Parallel(n_jobs=-1)]: Done 160 tasks      | elapsed:   20.5s\n",
      "[Parallel(n_jobs=-1)]: Done 410 tasks      | elapsed:   50.6s\n",
      "[Parallel(n_jobs=-1)]: Done 760 tasks      | elapsed:  1.6min\n",
      "[Parallel(n_jobs=-1)]: Done 1210 tasks      | elapsed:  2.5min\n",
      "[Parallel(n_jobs=-1)]: Done 1760 tasks      | elapsed:  3.6min\n",
      "[Parallel(n_jobs=-1)]: Done 2410 tasks      | elapsed:  4.9min\n",
      "[Parallel(n_jobs=-1)]: Done 3160 tasks      | elapsed:  6.4min\n",
      "[Parallel(n_jobs=-1)]: Done 4010 tasks      | elapsed:  8.1min\n",
      "[Parallel(n_jobs=-1)]: Done 4960 tasks      | elapsed: 10.0min\n",
      "[Parallel(n_jobs=-1)]: Done 6010 tasks      | elapsed: 12.1min\n",
      "[Parallel(n_jobs=-1)]: Done 7160 tasks      | elapsed: 14.4min\n",
      "[Parallel(n_jobs=-1)]: Done 8410 tasks      | elapsed: 16.8min\n",
      "[Parallel(n_jobs=-1)]: Done 9760 tasks      | elapsed: 19.5min\n",
      "[Parallel(n_jobs=-1)]: Done 10000 out of 10000 | elapsed: 20.0min finished\n",
      "[Parallel(n_jobs=20)]: Using backend ThreadingBackend with 20 concurrent workers.\n",
      "[Parallel(n_jobs=20)]: Done  10 tasks      | elapsed:    0.0s\n",
      "[Parallel(n_jobs=20)]: Done 160 tasks      | elapsed:    0.1s\n",
      "[Parallel(n_jobs=20)]: Done 410 tasks      | elapsed:    0.2s\n"
     ]
    },
    {
     "name": "stdout",
     "output_type": "stream",
     "text": [
      "done in 1203.301s.\n"
     ]
    },
    {
     "name": "stderr",
     "output_type": "stream",
     "text": [
      "[Parallel(n_jobs=20)]: Done 760 tasks      | elapsed:    0.3s\n",
      "[Parallel(n_jobs=20)]: Done 1210 tasks      | elapsed:    0.5s\n",
      "[Parallel(n_jobs=20)]: Done 1760 tasks      | elapsed:    0.8s\n",
      "[Parallel(n_jobs=20)]: Done 2410 tasks      | elapsed:    1.0s\n",
      "[Parallel(n_jobs=20)]: Done 3160 tasks      | elapsed:    1.3s\n",
      "[Parallel(n_jobs=20)]: Done 4010 tasks      | elapsed:    1.6s\n",
      "[Parallel(n_jobs=20)]: Done 4960 tasks      | elapsed:    2.0s\n",
      "[Parallel(n_jobs=20)]: Done 6010 tasks      | elapsed:    2.4s\n",
      "[Parallel(n_jobs=20)]: Done 7160 tasks      | elapsed:    2.8s\n",
      "[Parallel(n_jobs=20)]: Done 8410 tasks      | elapsed:    3.2s\n",
      "[Parallel(n_jobs=20)]: Done 9760 tasks      | elapsed:    3.7s\n",
      "[Parallel(n_jobs=20)]: Done 10000 out of 10000 | elapsed:    3.8s finished\n"
     ]
    },
    {
     "name": "stdout",
     "output_type": "stream",
     "text": [
      "accuracy：0.64567\n",
      "precision_avg: 0.61353\n",
      "recall_avg: 0.64567\n",
      "f1_score_avg: 0.62101\n",
      "n_estimator = 10000\n",
      "max_depth = 50\n",
      "min_samples_split = 10\n",
      "min_samples_leaf = 5\n"
     ]
    },
    {
     "name": "stderr",
     "output_type": "stream",
     "text": [
      "[Parallel(n_jobs=-1)]: Using backend ThreadingBackend with 20 concurrent workers.\n",
      "[Parallel(n_jobs=-1)]: Done  10 tasks      | elapsed:    1.8s\n",
      "[Parallel(n_jobs=-1)]: Done 160 tasks      | elapsed:   14.7s\n",
      "[Parallel(n_jobs=-1)]: Done 410 tasks      | elapsed:   36.7s\n",
      "[Parallel(n_jobs=-1)]: Done 760 tasks      | elapsed:  1.1min\n",
      "[Parallel(n_jobs=-1)]: Done 1210 tasks      | elapsed:  1.8min\n",
      "[Parallel(n_jobs=-1)]: Done 1760 tasks      | elapsed:  2.6min\n",
      "[Parallel(n_jobs=-1)]: Done 2410 tasks      | elapsed:  3.5min\n",
      "[Parallel(n_jobs=-1)]: Done 3160 tasks      | elapsed:  4.6min\n",
      "[Parallel(n_jobs=-1)]: Done 4010 tasks      | elapsed:  5.8min\n",
      "[Parallel(n_jobs=-1)]: Done 4960 tasks      | elapsed:  7.2min\n",
      "[Parallel(n_jobs=-1)]: Done 6010 tasks      | elapsed:  8.7min\n",
      "[Parallel(n_jobs=-1)]: Done 7160 tasks      | elapsed: 10.4min\n",
      "[Parallel(n_jobs=-1)]: Done 8410 tasks      | elapsed: 12.2min\n",
      "[Parallel(n_jobs=-1)]: Done 9760 tasks      | elapsed: 14.1min\n",
      "[Parallel(n_jobs=-1)]: Done 10000 out of 10000 | elapsed: 14.5min finished\n",
      "[Parallel(n_jobs=20)]: Using backend ThreadingBackend with 20 concurrent workers.\n",
      "[Parallel(n_jobs=20)]: Done  10 tasks      | elapsed:    0.0s\n",
      "[Parallel(n_jobs=20)]: Done 160 tasks      | elapsed:    0.1s\n"
     ]
    },
    {
     "name": "stdout",
     "output_type": "stream",
     "text": [
      "done in 871.272s.\n"
     ]
    },
    {
     "name": "stderr",
     "output_type": "stream",
     "text": [
      "[Parallel(n_jobs=20)]: Done 410 tasks      | elapsed:    0.2s\n",
      "[Parallel(n_jobs=20)]: Done 760 tasks      | elapsed:    0.4s\n",
      "[Parallel(n_jobs=20)]: Done 1210 tasks      | elapsed:    0.5s\n",
      "[Parallel(n_jobs=20)]: Done 1760 tasks      | elapsed:    0.7s\n",
      "[Parallel(n_jobs=20)]: Done 2410 tasks      | elapsed:    1.0s\n",
      "[Parallel(n_jobs=20)]: Done 3160 tasks      | elapsed:    1.2s\n",
      "[Parallel(n_jobs=20)]: Done 4010 tasks      | elapsed:    1.6s\n",
      "[Parallel(n_jobs=20)]: Done 4960 tasks      | elapsed:    1.9s\n",
      "[Parallel(n_jobs=20)]: Done 6010 tasks      | elapsed:    2.3s\n",
      "[Parallel(n_jobs=20)]: Done 7160 tasks      | elapsed:    2.7s\n",
      "[Parallel(n_jobs=20)]: Done 8410 tasks      | elapsed:    3.1s\n",
      "[Parallel(n_jobs=20)]: Done 9760 tasks      | elapsed:    3.6s\n",
      "[Parallel(n_jobs=20)]: Done 10000 out of 10000 | elapsed:    3.6s finished\n"
     ]
    },
    {
     "name": "stdout",
     "output_type": "stream",
     "text": [
      "accuracy：0.63000\n",
      "precision_avg: 0.62209\n",
      "recall_avg: 0.63000\n",
      "f1_score_avg: 0.62011\n",
      "n_estimator = 10000\n",
      "max_depth = 50\n",
      "min_samples_split = 50\n",
      "min_samples_leaf = 1\n"
     ]
    },
    {
     "name": "stderr",
     "output_type": "stream",
     "text": [
      "[Parallel(n_jobs=-1)]: Using backend ThreadingBackend with 20 concurrent workers.\n",
      "[Parallel(n_jobs=-1)]: Done  10 tasks      | elapsed:    1.9s\n",
      "[Parallel(n_jobs=-1)]: Done 160 tasks      | elapsed:   15.0s\n",
      "[Parallel(n_jobs=-1)]: Done 410 tasks      | elapsed:   37.3s\n",
      "[Parallel(n_jobs=-1)]: Done 760 tasks      | elapsed:  1.1min\n",
      "[Parallel(n_jobs=-1)]: Done 1210 tasks      | elapsed:  1.8min\n",
      "[Parallel(n_jobs=-1)]: Done 1760 tasks      | elapsed:  2.6min\n",
      "[Parallel(n_jobs=-1)]: Done 2410 tasks      | elapsed:  3.6min\n",
      "[Parallel(n_jobs=-1)]: Done 3160 tasks      | elapsed:  4.7min\n",
      "[Parallel(n_jobs=-1)]: Done 4010 tasks      | elapsed:  6.0min\n",
      "[Parallel(n_jobs=-1)]: Done 4960 tasks      | elapsed:  7.4min\n",
      "[Parallel(n_jobs=-1)]: Done 6010 tasks      | elapsed:  8.9min\n",
      "[Parallel(n_jobs=-1)]: Done 7160 tasks      | elapsed: 10.6min\n",
      "[Parallel(n_jobs=-1)]: Done 8410 tasks      | elapsed: 12.5min\n",
      "[Parallel(n_jobs=-1)]: Done 9760 tasks      | elapsed: 14.4min\n",
      "[Parallel(n_jobs=-1)]: Done 10000 out of 10000 | elapsed: 14.8min finished\n"
     ]
    },
    {
     "name": "stdout",
     "output_type": "stream",
     "text": [
      "done in 891.927s.\n"
     ]
    },
    {
     "name": "stderr",
     "output_type": "stream",
     "text": [
      "[Parallel(n_jobs=20)]: Using backend ThreadingBackend with 20 concurrent workers.\n",
      "[Parallel(n_jobs=20)]: Done  10 tasks      | elapsed:    0.0s\n",
      "[Parallel(n_jobs=20)]: Done 160 tasks      | elapsed:    0.1s\n",
      "[Parallel(n_jobs=20)]: Done 410 tasks      | elapsed:    0.2s\n",
      "[Parallel(n_jobs=20)]: Done 760 tasks      | elapsed:    0.3s\n",
      "[Parallel(n_jobs=20)]: Done 1210 tasks      | elapsed:    0.5s\n",
      "[Parallel(n_jobs=20)]: Done 1760 tasks      | elapsed:    0.6s\n",
      "[Parallel(n_jobs=20)]: Done 2410 tasks      | elapsed:    0.8s\n",
      "[Parallel(n_jobs=20)]: Done 3160 tasks      | elapsed:    1.1s\n",
      "[Parallel(n_jobs=20)]: Done 4010 tasks      | elapsed:    1.4s\n",
      "[Parallel(n_jobs=20)]: Done 4960 tasks      | elapsed:    1.7s\n",
      "[Parallel(n_jobs=20)]: Done 6010 tasks      | elapsed:    2.0s\n",
      "[Parallel(n_jobs=20)]: Done 7160 tasks      | elapsed:    2.4s\n",
      "[Parallel(n_jobs=20)]: Done 8410 tasks      | elapsed:    2.7s\n",
      "[Parallel(n_jobs=20)]: Done 9760 tasks      | elapsed:    3.1s\n",
      "[Parallel(n_jobs=20)]: Done 10000 out of 10000 | elapsed:    3.2s finished\n"
     ]
    },
    {
     "name": "stdout",
     "output_type": "stream",
     "text": [
      "accuracy：0.63593\n",
      "precision_avg: 0.62120\n",
      "recall_avg: 0.63593\n",
      "f1_score_avg: 0.62302\n",
      "n_estimator = 10000\n",
      "max_depth = 50\n",
      "min_samples_split = 50\n",
      "min_samples_leaf = 5\n"
     ]
    },
    {
     "name": "stderr",
     "output_type": "stream",
     "text": [
      "[Parallel(n_jobs=-1)]: Using backend ThreadingBackend with 20 concurrent workers.\n",
      "[Parallel(n_jobs=-1)]: Done  10 tasks      | elapsed:    1.5s\n",
      "[Parallel(n_jobs=-1)]: Done 160 tasks      | elapsed:   12.2s\n",
      "[Parallel(n_jobs=-1)]: Done 410 tasks      | elapsed:   30.6s\n",
      "[Parallel(n_jobs=-1)]: Done 760 tasks      | elapsed:   56.0s\n",
      "[Parallel(n_jobs=-1)]: Done 1210 tasks      | elapsed:  1.5min\n",
      "[Parallel(n_jobs=-1)]: Done 1760 tasks      | elapsed:  2.1min\n",
      "[Parallel(n_jobs=-1)]: Done 2410 tasks      | elapsed:  2.9min\n",
      "[Parallel(n_jobs=-1)]: Done 3160 tasks      | elapsed:  3.8min\n",
      "[Parallel(n_jobs=-1)]: Done 4010 tasks      | elapsed:  4.9min\n",
      "[Parallel(n_jobs=-1)]: Done 4960 tasks      | elapsed:  6.0min\n",
      "[Parallel(n_jobs=-1)]: Done 6010 tasks      | elapsed:  7.3min\n",
      "[Parallel(n_jobs=-1)]: Done 7160 tasks      | elapsed:  8.7min\n",
      "[Parallel(n_jobs=-1)]: Done 8410 tasks      | elapsed: 10.2min\n",
      "[Parallel(n_jobs=-1)]: Done 9760 tasks      | elapsed: 11.8min\n",
      "[Parallel(n_jobs=-1)]: Done 10000 out of 10000 | elapsed: 12.1min finished\n",
      "[Parallel(n_jobs=20)]: Using backend ThreadingBackend with 20 concurrent workers.\n",
      "[Parallel(n_jobs=20)]: Done  10 tasks      | elapsed:    0.0s\n",
      "[Parallel(n_jobs=20)]: Done 160 tasks      | elapsed:    0.1s\n"
     ]
    },
    {
     "name": "stdout",
     "output_type": "stream",
     "text": [
      "done in 729.019s.\n"
     ]
    },
    {
     "name": "stderr",
     "output_type": "stream",
     "text": [
      "[Parallel(n_jobs=20)]: Done 410 tasks      | elapsed:    0.2s\n",
      "[Parallel(n_jobs=20)]: Done 760 tasks      | elapsed:    0.3s\n",
      "[Parallel(n_jobs=20)]: Done 1210 tasks      | elapsed:    0.5s\n",
      "[Parallel(n_jobs=20)]: Done 1760 tasks      | elapsed:    0.7s\n",
      "[Parallel(n_jobs=20)]: Done 2410 tasks      | elapsed:    0.9s\n",
      "[Parallel(n_jobs=20)]: Done 3160 tasks      | elapsed:    1.2s\n",
      "[Parallel(n_jobs=20)]: Done 4010 tasks      | elapsed:    1.5s\n",
      "[Parallel(n_jobs=20)]: Done 4960 tasks      | elapsed:    1.8s\n",
      "[Parallel(n_jobs=20)]: Done 6010 tasks      | elapsed:    2.2s\n",
      "[Parallel(n_jobs=20)]: Done 7160 tasks      | elapsed:    2.5s\n",
      "[Parallel(n_jobs=20)]: Done 8410 tasks      | elapsed:    2.9s\n",
      "[Parallel(n_jobs=20)]: Done 9760 tasks      | elapsed:    3.4s\n",
      "[Parallel(n_jobs=20)]: Done 10000 out of 10000 | elapsed:    3.4s finished\n"
     ]
    },
    {
     "name": "stdout",
     "output_type": "stream",
     "text": [
      "accuracy：0.62700\n",
      "precision_avg: 0.62247\n",
      "recall_avg: 0.62700\n",
      "f1_score_avg: 0.61844\n",
      "n_estimator = 10000\n",
      "max_depth = 50\n",
      "min_samples_split = 50\n",
      "min_samples_leaf = 10\n"
     ]
    },
    {
     "name": "stderr",
     "output_type": "stream",
     "text": [
      "[Parallel(n_jobs=-1)]: Using backend ThreadingBackend with 20 concurrent workers.\n",
      "[Parallel(n_jobs=-1)]: Done  10 tasks      | elapsed:    1.2s\n",
      "[Parallel(n_jobs=-1)]: Done 160 tasks      | elapsed:    9.6s\n",
      "[Parallel(n_jobs=-1)]: Done 410 tasks      | elapsed:   24.3s\n",
      "[Parallel(n_jobs=-1)]: Done 760 tasks      | elapsed:   44.1s\n",
      "[Parallel(n_jobs=-1)]: Done 1210 tasks      | elapsed:  1.2min\n",
      "[Parallel(n_jobs=-1)]: Done 1760 tasks      | elapsed:  1.7min\n",
      "[Parallel(n_jobs=-1)]: Done 2410 tasks      | elapsed:  2.3min\n",
      "[Parallel(n_jobs=-1)]: Done 3160 tasks      | elapsed:  3.0min\n",
      "[Parallel(n_jobs=-1)]: Done 4010 tasks      | elapsed:  3.8min\n",
      "[Parallel(n_jobs=-1)]: Done 4960 tasks      | elapsed:  4.7min\n",
      "[Parallel(n_jobs=-1)]: Done 6010 tasks      | elapsed:  5.7min\n",
      "[Parallel(n_jobs=-1)]: Done 7160 tasks      | elapsed:  6.8min\n",
      "[Parallel(n_jobs=-1)]: Done 8410 tasks      | elapsed:  8.0min\n",
      "[Parallel(n_jobs=-1)]: Done 9760 tasks      | elapsed:  9.3min\n",
      "[Parallel(n_jobs=-1)]: Done 10000 out of 10000 | elapsed:  9.5min finished\n",
      "[Parallel(n_jobs=20)]: Using backend ThreadingBackend with 20 concurrent workers.\n",
      "[Parallel(n_jobs=20)]: Done  10 tasks      | elapsed:    0.0s\n",
      "[Parallel(n_jobs=20)]: Done 160 tasks      | elapsed:    0.1s\n",
      "[Parallel(n_jobs=20)]: Done 410 tasks      | elapsed:    0.2s\n"
     ]
    },
    {
     "name": "stdout",
     "output_type": "stream",
     "text": [
      "done in 574.881s.\n"
     ]
    },
    {
     "name": "stderr",
     "output_type": "stream",
     "text": [
      "[Parallel(n_jobs=20)]: Done 760 tasks      | elapsed:    0.3s\n",
      "[Parallel(n_jobs=20)]: Done 1210 tasks      | elapsed:    0.5s\n",
      "[Parallel(n_jobs=20)]: Done 1760 tasks      | elapsed:    0.7s\n",
      "[Parallel(n_jobs=20)]: Done 2410 tasks      | elapsed:    0.9s\n",
      "[Parallel(n_jobs=20)]: Done 3160 tasks      | elapsed:    1.2s\n",
      "[Parallel(n_jobs=20)]: Done 4010 tasks      | elapsed:    1.4s\n",
      "[Parallel(n_jobs=20)]: Done 4960 tasks      | elapsed:    1.8s\n",
      "[Parallel(n_jobs=20)]: Done 6010 tasks      | elapsed:    2.1s\n",
      "[Parallel(n_jobs=20)]: Done 7160 tasks      | elapsed:    2.5s\n",
      "[Parallel(n_jobs=20)]: Done 8410 tasks      | elapsed:    3.0s\n",
      "[Parallel(n_jobs=20)]: Done 9760 tasks      | elapsed:    3.5s\n",
      "[Parallel(n_jobs=20)]: Done 10000 out of 10000 | elapsed:    3.6s finished\n"
     ]
    },
    {
     "name": "stdout",
     "output_type": "stream",
     "text": [
      "accuracy：0.61927\n",
      "precision_avg: 0.62592\n",
      "recall_avg: 0.61927\n",
      "f1_score_avg: 0.61447\n",
      "n_estimator = 10000\n",
      "max_depth = 50\n",
      "min_samples_split = 50\n",
      "min_samples_leaf = 20\n"
     ]
    },
    {
     "name": "stderr",
     "output_type": "stream",
     "text": [
      "[Parallel(n_jobs=-1)]: Using backend ThreadingBackend with 20 concurrent workers.\n",
      "[Parallel(n_jobs=-1)]: Done  10 tasks      | elapsed:    0.9s\n",
      "[Parallel(n_jobs=-1)]: Done 160 tasks      | elapsed:    7.1s\n",
      "[Parallel(n_jobs=-1)]: Done 410 tasks      | elapsed:   17.7s\n",
      "[Parallel(n_jobs=-1)]: Done 760 tasks      | elapsed:   32.1s\n",
      "[Parallel(n_jobs=-1)]: Done 1210 tasks      | elapsed:   51.0s\n",
      "[Parallel(n_jobs=-1)]: Done 1760 tasks      | elapsed:  1.2min\n",
      "[Parallel(n_jobs=-1)]: Done 2410 tasks      | elapsed:  1.7min\n",
      "[Parallel(n_jobs=-1)]: Done 3160 tasks      | elapsed:  2.2min\n",
      "[Parallel(n_jobs=-1)]: Done 4010 tasks      | elapsed:  2.8min\n",
      "[Parallel(n_jobs=-1)]: Done 4960 tasks      | elapsed:  3.4min\n",
      "[Parallel(n_jobs=-1)]: Done 6010 tasks      | elapsed:  4.2min\n",
      "[Parallel(n_jobs=-1)]: Done 7160 tasks      | elapsed:  5.0min\n",
      "[Parallel(n_jobs=-1)]: Done 8410 tasks      | elapsed:  5.8min\n",
      "[Parallel(n_jobs=-1)]: Done 9760 tasks      | elapsed:  6.8min\n",
      "[Parallel(n_jobs=-1)]: Done 10000 out of 10000 | elapsed:  6.9min finished\n",
      "[Parallel(n_jobs=20)]: Using backend ThreadingBackend with 20 concurrent workers.\n",
      "[Parallel(n_jobs=20)]: Done  10 tasks      | elapsed:    0.0s\n",
      "[Parallel(n_jobs=20)]: Done 160 tasks      | elapsed:    0.1s\n"
     ]
    },
    {
     "name": "stdout",
     "output_type": "stream",
     "text": [
      "done in 419.938s.\n"
     ]
    },
    {
     "name": "stderr",
     "output_type": "stream",
     "text": [
      "[Parallel(n_jobs=20)]: Done 410 tasks      | elapsed:    0.2s\n",
      "[Parallel(n_jobs=20)]: Done 760 tasks      | elapsed:    0.3s\n",
      "[Parallel(n_jobs=20)]: Done 1210 tasks      | elapsed:    0.5s\n",
      "[Parallel(n_jobs=20)]: Done 1760 tasks      | elapsed:    0.7s\n",
      "[Parallel(n_jobs=20)]: Done 2410 tasks      | elapsed:    0.9s\n",
      "[Parallel(n_jobs=20)]: Done 3160 tasks      | elapsed:    1.1s\n",
      "[Parallel(n_jobs=20)]: Done 4010 tasks      | elapsed:    1.4s\n",
      "[Parallel(n_jobs=20)]: Done 4960 tasks      | elapsed:    1.7s\n",
      "[Parallel(n_jobs=20)]: Done 6010 tasks      | elapsed:    2.0s\n",
      "[Parallel(n_jobs=20)]: Done 7160 tasks      | elapsed:    2.3s\n",
      "[Parallel(n_jobs=20)]: Done 8410 tasks      | elapsed:    2.7s\n"
     ]
    },
    {
     "name": "stdout",
     "output_type": "stream",
     "text": [
      "accuracy：0.61140\n",
      "precision_avg: 0.62779\n",
      "recall_avg: 0.61140\n",
      "f1_score_avg: 0.60897\n"
     ]
    },
    {
     "name": "stderr",
     "output_type": "stream",
     "text": [
      "[Parallel(n_jobs=20)]: Done 9760 tasks      | elapsed:    3.1s\n",
      "[Parallel(n_jobs=20)]: Done 10000 out of 10000 | elapsed:    3.1s finished\n"
     ]
    }
   ],
   "source": [
    "n_estimators_range = [1000, 5000, 10000]\n",
    "max_depth_range = [10,20,50]\n",
    "min_samples_split_range = [2, 10, 50]\n",
    "min_samples_leaf_range = [1, 5, 10, 20, 50]\n",
    "\n",
    "\n",
    "for n_estimator in n_estimators_range:\n",
    "    for max_depth in max_depth_range:\n",
    "        for min_samples_split in min_samples_split_range:\n",
    "            for min_samples_leaf in min_samples_leaf_range:\n",
    "                # 设置这个条件才合理\n",
    "                if min_samples_split > min_samples_leaf:\n",
    "                        print('n_estimator = %d' % n_estimator)\n",
    "                        print('max_depth = %d' % max_depth)\n",
    "                        print('min_samples_split = %d' % min_samples_split)\n",
    "                        print('min_samples_leaf = %d' % min_samples_leaf)\n",
    "                        clf = RandomForestClassifier(\n",
    "                                                        n_estimators= n_estimator,\n",
    "                                                        criterion='gini',\n",
    "                                                        max_depth= max_depth,\n",
    "                                                        min_samples_split = min_samples_split,\n",
    "                                                        min_samples_leaf = min_samples_leaf,\n",
    "                                                        max_features= 'sqrt',\n",
    "                                                        bootstrap=True,\n",
    "                                                        random_state= 2020,\n",
    "                                                        verbose= 1,\n",
    "                                                        class_weight= 'balanced',\n",
    "                                                        n_jobs = -1\n",
    "                                                    )\n",
    "                        t0 = time()\n",
    "                        clf.fit(train_x, train_y)\n",
    "                        print(\"done in %0.3fs.\" % (time() - t0))\n",
    "                        predict_y = clf.predict(valid_x)\n",
    "                        # predict_prob_y = clf.predict_proba(valid_x)\n",
    "                        # 评价指标值\n",
    "                        accuracy, precision_avg, recall_avg, f1_score_avg = eval_p_r_f1(valid_y, predict_y)\n",
    "                        print('accuracy：%0.5f' % accuracy)\n",
    "                        print('precision_avg: %0.5f' % precision_avg)\n",
    "                        print('recall_avg: %0.5f' % recall_avg)\n",
    "                        print('f1_score_avg: %0.5f' % f1_score_avg)\n",
    "                \n",
    "                "
   ]
  },
  {
   "cell_type": "raw",
   "metadata": {},
   "source": [
    "price 调参"
   ]
  },
  {
   "cell_type": "code",
   "execution_count": 10,
   "metadata": {
    "collapsed": true,
    "jupyter": {
     "outputs_hidden": true,
     "source_hidden": true
    }
   },
   "outputs": [
    {
     "name": "stdout",
     "output_type": "stream",
     "text": [
      "n_estimator = 1000\n",
      "max_depth = 10\n",
      "min_samples_split = 2\n",
      "min_samples_leaf = 1\n"
     ]
    },
    {
     "name": "stderr",
     "output_type": "stream",
     "text": [
      "[Parallel(n_jobs=-1)]: Using backend ThreadingBackend with 20 concurrent workers.\n",
      "[Parallel(n_jobs=-1)]: Done  10 tasks      | elapsed:    0.2s\n",
      "[Parallel(n_jobs=-1)]: Done 160 tasks      | elapsed:    1.3s\n",
      "[Parallel(n_jobs=-1)]: Done 410 tasks      | elapsed:    3.1s\n",
      "[Parallel(n_jobs=-1)]: Done 760 tasks      | elapsed:    5.6s\n",
      "[Parallel(n_jobs=-1)]: Done 1000 out of 1000 | elapsed:    7.3s finished\n",
      "[Parallel(n_jobs=20)]: Using backend ThreadingBackend with 20 concurrent workers.\n",
      "[Parallel(n_jobs=20)]: Done  10 tasks      | elapsed:    0.0s\n",
      "[Parallel(n_jobs=20)]: Done 160 tasks      | elapsed:    0.1s\n"
     ]
    },
    {
     "name": "stdout",
     "output_type": "stream",
     "text": [
      "done in 7.732s.\n"
     ]
    },
    {
     "name": "stderr",
     "output_type": "stream",
     "text": [
      "[Parallel(n_jobs=20)]: Done 410 tasks      | elapsed:    0.2s\n",
      "[Parallel(n_jobs=20)]: Done 760 tasks      | elapsed:    0.3s\n",
      "[Parallel(n_jobs=20)]: Done 1000 out of 1000 | elapsed:    0.4s finished\n"
     ]
    },
    {
     "name": "stdout",
     "output_type": "stream",
     "text": [
      "accuracy：0.57320\n",
      "precision_avg: 0.59827\n",
      "recall_avg: 0.57320\n",
      "f1_score_avg: 0.55731\n",
      "n_estimator = 1000\n",
      "max_depth = 10\n",
      "min_samples_split = 10\n",
      "min_samples_leaf = 1\n"
     ]
    },
    {
     "name": "stderr",
     "output_type": "stream",
     "text": [
      "[Parallel(n_jobs=-1)]: Using backend ThreadingBackend with 20 concurrent workers.\n",
      "[Parallel(n_jobs=-1)]: Done  10 tasks      | elapsed:    0.2s\n",
      "[Parallel(n_jobs=-1)]: Done 160 tasks      | elapsed:    1.3s\n",
      "[Parallel(n_jobs=-1)]: Done 410 tasks      | elapsed:    3.1s\n",
      "[Parallel(n_jobs=-1)]: Done 760 tasks      | elapsed:    5.5s\n",
      "[Parallel(n_jobs=-1)]: Done 1000 out of 1000 | elapsed:    7.2s finished\n",
      "[Parallel(n_jobs=20)]: Using backend ThreadingBackend with 20 concurrent workers.\n",
      "[Parallel(n_jobs=20)]: Done  10 tasks      | elapsed:    0.0s\n",
      "[Parallel(n_jobs=20)]: Done 160 tasks      | elapsed:    0.1s\n"
     ]
    },
    {
     "name": "stdout",
     "output_type": "stream",
     "text": [
      "done in 7.623s.\n"
     ]
    },
    {
     "name": "stderr",
     "output_type": "stream",
     "text": [
      "[Parallel(n_jobs=20)]: Done 410 tasks      | elapsed:    0.2s\n",
      "[Parallel(n_jobs=20)]: Done 760 tasks      | elapsed:    0.3s\n",
      "[Parallel(n_jobs=20)]: Done 1000 out of 1000 | elapsed:    0.4s finished\n"
     ]
    },
    {
     "name": "stdout",
     "output_type": "stream",
     "text": [
      "accuracy：0.57400\n",
      "precision_avg: 0.59938\n",
      "recall_avg: 0.57400\n",
      "f1_score_avg: 0.55818\n",
      "n_estimator = 1000\n",
      "max_depth = 10\n",
      "min_samples_split = 10\n",
      "min_samples_leaf = 5\n"
     ]
    },
    {
     "name": "stderr",
     "output_type": "stream",
     "text": [
      "[Parallel(n_jobs=-1)]: Using backend ThreadingBackend with 20 concurrent workers.\n",
      "[Parallel(n_jobs=-1)]: Done  10 tasks      | elapsed:    0.2s\n",
      "[Parallel(n_jobs=-1)]: Done 160 tasks      | elapsed:    1.3s\n",
      "[Parallel(n_jobs=-1)]: Done 410 tasks      | elapsed:    3.0s\n",
      "[Parallel(n_jobs=-1)]: Done 760 tasks      | elapsed:    5.4s\n",
      "[Parallel(n_jobs=-1)]: Done 1000 out of 1000 | elapsed:    7.0s finished\n",
      "[Parallel(n_jobs=20)]: Using backend ThreadingBackend with 20 concurrent workers.\n",
      "[Parallel(n_jobs=20)]: Done  10 tasks      | elapsed:    0.0s\n",
      "[Parallel(n_jobs=20)]: Done 160 tasks      | elapsed:    0.1s\n"
     ]
    },
    {
     "name": "stdout",
     "output_type": "stream",
     "text": [
      "done in 7.526s.\n"
     ]
    },
    {
     "name": "stderr",
     "output_type": "stream",
     "text": [
      "[Parallel(n_jobs=20)]: Done 410 tasks      | elapsed:    0.2s\n",
      "[Parallel(n_jobs=20)]: Done 760 tasks      | elapsed:    0.3s\n",
      "[Parallel(n_jobs=20)]: Done 1000 out of 1000 | elapsed:    0.4s finished\n"
     ]
    },
    {
     "name": "stdout",
     "output_type": "stream",
     "text": [
      "accuracy：0.57380\n",
      "precision_avg: 0.60072\n",
      "recall_avg: 0.57380\n",
      "f1_score_avg: 0.55831\n",
      "n_estimator = 1000\n",
      "max_depth = 10\n",
      "min_samples_split = 50\n",
      "min_samples_leaf = 1\n"
     ]
    },
    {
     "name": "stderr",
     "output_type": "stream",
     "text": [
      "[Parallel(n_jobs=-1)]: Using backend ThreadingBackend with 20 concurrent workers.\n",
      "[Parallel(n_jobs=-1)]: Done  10 tasks      | elapsed:    0.2s\n",
      "[Parallel(n_jobs=-1)]: Done 160 tasks      | elapsed:    1.2s\n",
      "[Parallel(n_jobs=-1)]: Done 410 tasks      | elapsed:    2.8s\n",
      "[Parallel(n_jobs=-1)]: Done 760 tasks      | elapsed:    5.1s\n",
      "[Parallel(n_jobs=-1)]: Done 1000 out of 1000 | elapsed:    6.7s finished\n",
      "[Parallel(n_jobs=20)]: Using backend ThreadingBackend with 20 concurrent workers.\n",
      "[Parallel(n_jobs=20)]: Done  10 tasks      | elapsed:    0.0s\n",
      "[Parallel(n_jobs=20)]: Done 160 tasks      | elapsed:    0.1s\n",
      "[Parallel(n_jobs=20)]: Done 410 tasks      | elapsed:    0.1s\n"
     ]
    },
    {
     "name": "stdout",
     "output_type": "stream",
     "text": [
      "done in 7.109s.\n"
     ]
    },
    {
     "name": "stderr",
     "output_type": "stream",
     "text": [
      "[Parallel(n_jobs=20)]: Done 760 tasks      | elapsed:    0.2s\n",
      "[Parallel(n_jobs=20)]: Done 1000 out of 1000 | elapsed:    0.3s finished\n"
     ]
    },
    {
     "name": "stdout",
     "output_type": "stream",
     "text": [
      "accuracy：0.57300\n",
      "precision_avg: 0.59875\n",
      "recall_avg: 0.57300\n",
      "f1_score_avg: 0.55744\n",
      "n_estimator = 1000\n",
      "max_depth = 10\n",
      "min_samples_split = 50\n",
      "min_samples_leaf = 5\n"
     ]
    },
    {
     "name": "stderr",
     "output_type": "stream",
     "text": [
      "[Parallel(n_jobs=-1)]: Using backend ThreadingBackend with 20 concurrent workers.\n",
      "[Parallel(n_jobs=-1)]: Done  10 tasks      | elapsed:    0.2s\n",
      "[Parallel(n_jobs=-1)]: Done 160 tasks      | elapsed:    1.2s\n",
      "[Parallel(n_jobs=-1)]: Done 410 tasks      | elapsed:    2.9s\n",
      "[Parallel(n_jobs=-1)]: Done 760 tasks      | elapsed:    5.1s\n",
      "[Parallel(n_jobs=-1)]: Done 1000 out of 1000 | elapsed:    6.7s finished\n",
      "[Parallel(n_jobs=20)]: Using backend ThreadingBackend with 20 concurrent workers.\n",
      "[Parallel(n_jobs=20)]: Done  10 tasks      | elapsed:    0.0s\n",
      "[Parallel(n_jobs=20)]: Done 160 tasks      | elapsed:    0.1s\n",
      "[Parallel(n_jobs=20)]: Done 410 tasks      | elapsed:    0.1s\n"
     ]
    },
    {
     "name": "stdout",
     "output_type": "stream",
     "text": [
      "done in 7.139s.\n"
     ]
    },
    {
     "name": "stderr",
     "output_type": "stream",
     "text": [
      "[Parallel(n_jobs=20)]: Done 760 tasks      | elapsed:    0.3s\n",
      "[Parallel(n_jobs=20)]: Done 1000 out of 1000 | elapsed:    0.3s finished\n"
     ]
    },
    {
     "name": "stdout",
     "output_type": "stream",
     "text": [
      "accuracy：0.57280\n",
      "precision_avg: 0.59912\n",
      "recall_avg: 0.57280\n",
      "f1_score_avg: 0.55733\n",
      "n_estimator = 1000\n",
      "max_depth = 10\n",
      "min_samples_split = 50\n",
      "min_samples_leaf = 10\n"
     ]
    },
    {
     "name": "stderr",
     "output_type": "stream",
     "text": [
      "[Parallel(n_jobs=-1)]: Using backend ThreadingBackend with 20 concurrent workers.\n",
      "[Parallel(n_jobs=-1)]: Done  10 tasks      | elapsed:    0.2s\n",
      "[Parallel(n_jobs=-1)]: Done 160 tasks      | elapsed:    1.2s\n",
      "[Parallel(n_jobs=-1)]: Done 410 tasks      | elapsed:    2.8s\n",
      "[Parallel(n_jobs=-1)]: Done 760 tasks      | elapsed:    5.1s\n",
      "[Parallel(n_jobs=-1)]: Done 1000 out of 1000 | elapsed:    6.7s finished\n",
      "[Parallel(n_jobs=20)]: Using backend ThreadingBackend with 20 concurrent workers.\n",
      "[Parallel(n_jobs=20)]: Done  10 tasks      | elapsed:    0.0s\n",
      "[Parallel(n_jobs=20)]: Done 160 tasks      | elapsed:    0.1s\n"
     ]
    },
    {
     "name": "stdout",
     "output_type": "stream",
     "text": [
      "done in 7.137s.\n"
     ]
    },
    {
     "name": "stderr",
     "output_type": "stream",
     "text": [
      "[Parallel(n_jobs=20)]: Done 410 tasks      | elapsed:    0.2s\n",
      "[Parallel(n_jobs=20)]: Done 760 tasks      | elapsed:    0.3s\n",
      "[Parallel(n_jobs=20)]: Done 1000 out of 1000 | elapsed:    0.4s finished\n"
     ]
    },
    {
     "name": "stdout",
     "output_type": "stream",
     "text": [
      "accuracy：0.57253\n",
      "precision_avg: 0.59960\n",
      "recall_avg: 0.57253\n",
      "f1_score_avg: 0.55687\n",
      "n_estimator = 1000\n",
      "max_depth = 10\n",
      "min_samples_split = 50\n",
      "min_samples_leaf = 20\n"
     ]
    },
    {
     "name": "stderr",
     "output_type": "stream",
     "text": [
      "[Parallel(n_jobs=-1)]: Using backend ThreadingBackend with 20 concurrent workers.\n",
      "[Parallel(n_jobs=-1)]: Done  10 tasks      | elapsed:    0.2s\n",
      "[Parallel(n_jobs=-1)]: Done 160 tasks      | elapsed:    1.2s\n",
      "[Parallel(n_jobs=-1)]: Done 410 tasks      | elapsed:    2.8s\n",
      "[Parallel(n_jobs=-1)]: Done 760 tasks      | elapsed:    5.0s\n",
      "[Parallel(n_jobs=-1)]: Done 1000 out of 1000 | elapsed:    6.5s finished\n",
      "[Parallel(n_jobs=20)]: Using backend ThreadingBackend with 20 concurrent workers.\n",
      "[Parallel(n_jobs=20)]: Done  10 tasks      | elapsed:    0.0s\n",
      "[Parallel(n_jobs=20)]: Done 160 tasks      | elapsed:    0.1s\n"
     ]
    },
    {
     "name": "stdout",
     "output_type": "stream",
     "text": [
      "done in 7.016s.\n"
     ]
    },
    {
     "name": "stderr",
     "output_type": "stream",
     "text": [
      "[Parallel(n_jobs=20)]: Done 410 tasks      | elapsed:    0.2s\n",
      "[Parallel(n_jobs=20)]: Done 760 tasks      | elapsed:    0.3s\n",
      "[Parallel(n_jobs=20)]: Done 1000 out of 1000 | elapsed:    0.3s finished\n"
     ]
    },
    {
     "name": "stdout",
     "output_type": "stream",
     "text": [
      "accuracy：0.57213\n",
      "precision_avg: 0.60047\n",
      "recall_avg: 0.57213\n",
      "f1_score_avg: 0.55645\n",
      "n_estimator = 1000\n",
      "max_depth = 20\n",
      "min_samples_split = 2\n",
      "min_samples_leaf = 1\n"
     ]
    },
    {
     "name": "stderr",
     "output_type": "stream",
     "text": [
      "[Parallel(n_jobs=-1)]: Using backend ThreadingBackend with 20 concurrent workers.\n",
      "[Parallel(n_jobs=-1)]: Done  10 tasks      | elapsed:    0.5s\n",
      "[Parallel(n_jobs=-1)]: Done 160 tasks      | elapsed:    3.9s\n",
      "[Parallel(n_jobs=-1)]: Done 410 tasks      | elapsed:    9.7s\n",
      "[Parallel(n_jobs=-1)]: Done 760 tasks      | elapsed:   17.6s\n",
      "[Parallel(n_jobs=-1)]: Done 1000 out of 1000 | elapsed:   23.0s finished\n",
      "[Parallel(n_jobs=20)]: Using backend ThreadingBackend with 20 concurrent workers.\n",
      "[Parallel(n_jobs=20)]: Done  10 tasks      | elapsed:    0.0s\n",
      "[Parallel(n_jobs=20)]: Done 160 tasks      | elapsed:    0.1s\n"
     ]
    },
    {
     "name": "stdout",
     "output_type": "stream",
     "text": [
      "done in 23.454s.\n"
     ]
    },
    {
     "name": "stderr",
     "output_type": "stream",
     "text": [
      "[Parallel(n_jobs=20)]: Done 410 tasks      | elapsed:    0.2s\n",
      "[Parallel(n_jobs=20)]: Done 760 tasks      | elapsed:    0.3s\n",
      "[Parallel(n_jobs=20)]: Done 1000 out of 1000 | elapsed:    0.4s finished\n"
     ]
    },
    {
     "name": "stdout",
     "output_type": "stream",
     "text": [
      "accuracy：0.59280\n",
      "precision_avg: 0.60187\n",
      "recall_avg: 0.59280\n",
      "f1_score_avg: 0.57973\n",
      "n_estimator = 1000\n",
      "max_depth = 20\n",
      "min_samples_split = 10\n",
      "min_samples_leaf = 1\n"
     ]
    },
    {
     "name": "stderr",
     "output_type": "stream",
     "text": [
      "[Parallel(n_jobs=-1)]: Using backend ThreadingBackend with 20 concurrent workers.\n",
      "[Parallel(n_jobs=-1)]: Done  10 tasks      | elapsed:    0.4s\n",
      "[Parallel(n_jobs=-1)]: Done 160 tasks      | elapsed:    3.5s\n",
      "[Parallel(n_jobs=-1)]: Done 410 tasks      | elapsed:    8.7s\n",
      "[Parallel(n_jobs=-1)]: Done 760 tasks      | elapsed:   15.9s\n",
      "[Parallel(n_jobs=-1)]: Done 1000 out of 1000 | elapsed:   20.8s finished\n",
      "[Parallel(n_jobs=20)]: Using backend ThreadingBackend with 20 concurrent workers.\n",
      "[Parallel(n_jobs=20)]: Done  10 tasks      | elapsed:    0.0s\n",
      "[Parallel(n_jobs=20)]: Done 160 tasks      | elapsed:    0.1s\n",
      "[Parallel(n_jobs=20)]: Done 410 tasks      | elapsed:    0.2s\n"
     ]
    },
    {
     "name": "stdout",
     "output_type": "stream",
     "text": [
      "done in 21.260s.\n"
     ]
    },
    {
     "name": "stderr",
     "output_type": "stream",
     "text": [
      "[Parallel(n_jobs=20)]: Done 760 tasks      | elapsed:    0.3s\n",
      "[Parallel(n_jobs=20)]: Done 1000 out of 1000 | elapsed:    0.4s finished\n"
     ]
    },
    {
     "name": "stdout",
     "output_type": "stream",
     "text": [
      "accuracy：0.59053\n",
      "precision_avg: 0.60062\n",
      "recall_avg: 0.59053\n",
      "f1_score_avg: 0.57765\n",
      "n_estimator = 1000\n",
      "max_depth = 20\n",
      "min_samples_split = 10\n",
      "min_samples_leaf = 5\n"
     ]
    },
    {
     "name": "stderr",
     "output_type": "stream",
     "text": [
      "[Parallel(n_jobs=-1)]: Using backend ThreadingBackend with 20 concurrent workers.\n",
      "[Parallel(n_jobs=-1)]: Done  10 tasks      | elapsed:    0.4s\n",
      "[Parallel(n_jobs=-1)]: Done 160 tasks      | elapsed:    3.3s\n",
      "[Parallel(n_jobs=-1)]: Done 410 tasks      | elapsed:    8.0s\n",
      "[Parallel(n_jobs=-1)]: Done 760 tasks      | elapsed:   14.6s\n",
      "[Parallel(n_jobs=-1)]: Done 1000 out of 1000 | elapsed:   19.1s finished\n",
      "[Parallel(n_jobs=20)]: Using backend ThreadingBackend with 20 concurrent workers.\n",
      "[Parallel(n_jobs=20)]: Done  10 tasks      | elapsed:    0.0s\n",
      "[Parallel(n_jobs=20)]: Done 160 tasks      | elapsed:    0.1s\n"
     ]
    },
    {
     "name": "stdout",
     "output_type": "stream",
     "text": [
      "done in 19.569s.\n"
     ]
    },
    {
     "name": "stderr",
     "output_type": "stream",
     "text": [
      "[Parallel(n_jobs=20)]: Done 410 tasks      | elapsed:    0.2s\n",
      "[Parallel(n_jobs=20)]: Done 760 tasks      | elapsed:    0.3s\n",
      "[Parallel(n_jobs=20)]: Done 1000 out of 1000 | elapsed:    0.4s finished\n"
     ]
    },
    {
     "name": "stdout",
     "output_type": "stream",
     "text": [
      "accuracy：0.58813\n",
      "precision_avg: 0.60316\n",
      "recall_avg: 0.58813\n",
      "f1_score_avg: 0.57584\n",
      "n_estimator = 1000\n",
      "max_depth = 20\n",
      "min_samples_split = 50\n",
      "min_samples_leaf = 1\n"
     ]
    },
    {
     "name": "stderr",
     "output_type": "stream",
     "text": [
      "[Parallel(n_jobs=-1)]: Using backend ThreadingBackend with 20 concurrent workers.\n",
      "[Parallel(n_jobs=-1)]: Done  10 tasks      | elapsed:    0.4s\n",
      "[Parallel(n_jobs=-1)]: Done 160 tasks      | elapsed:    3.0s\n",
      "[Parallel(n_jobs=-1)]: Done 410 tasks      | elapsed:    7.4s\n",
      "[Parallel(n_jobs=-1)]: Done 760 tasks      | elapsed:   13.5s\n",
      "[Parallel(n_jobs=-1)]: Done 1000 out of 1000 | elapsed:   17.7s finished\n",
      "[Parallel(n_jobs=20)]: Using backend ThreadingBackend with 20 concurrent workers.\n",
      "[Parallel(n_jobs=20)]: Done  10 tasks      | elapsed:    0.0s\n",
      "[Parallel(n_jobs=20)]: Done 160 tasks      | elapsed:    0.1s\n"
     ]
    },
    {
     "name": "stdout",
     "output_type": "stream",
     "text": [
      "done in 18.159s.\n"
     ]
    },
    {
     "name": "stderr",
     "output_type": "stream",
     "text": [
      "[Parallel(n_jobs=20)]: Done 410 tasks      | elapsed:    0.1s\n",
      "[Parallel(n_jobs=20)]: Done 760 tasks      | elapsed:    0.3s\n",
      "[Parallel(n_jobs=20)]: Done 1000 out of 1000 | elapsed:    0.3s finished\n"
     ]
    },
    {
     "name": "stdout",
     "output_type": "stream",
     "text": [
      "accuracy：0.58847\n",
      "precision_avg: 0.60204\n",
      "recall_avg: 0.58847\n",
      "f1_score_avg: 0.57635\n",
      "n_estimator = 1000\n",
      "max_depth = 20\n",
      "min_samples_split = 50\n",
      "min_samples_leaf = 5\n"
     ]
    },
    {
     "name": "stderr",
     "output_type": "stream",
     "text": [
      "[Parallel(n_jobs=-1)]: Using backend ThreadingBackend with 20 concurrent workers.\n",
      "[Parallel(n_jobs=-1)]: Done  10 tasks      | elapsed:    0.4s\n",
      "[Parallel(n_jobs=-1)]: Done 160 tasks      | elapsed:    2.9s\n",
      "[Parallel(n_jobs=-1)]: Done 410 tasks      | elapsed:    7.1s\n",
      "[Parallel(n_jobs=-1)]: Done 760 tasks      | elapsed:   13.0s\n",
      "[Parallel(n_jobs=-1)]: Done 1000 out of 1000 | elapsed:   17.0s finished\n",
      "[Parallel(n_jobs=20)]: Using backend ThreadingBackend with 20 concurrent workers.\n",
      "[Parallel(n_jobs=20)]: Done  10 tasks      | elapsed:    0.0s\n",
      "[Parallel(n_jobs=20)]: Done 160 tasks      | elapsed:    0.1s\n"
     ]
    },
    {
     "name": "stdout",
     "output_type": "stream",
     "text": [
      "done in 17.439s.\n"
     ]
    },
    {
     "name": "stderr",
     "output_type": "stream",
     "text": [
      "[Parallel(n_jobs=20)]: Done 410 tasks      | elapsed:    0.2s\n",
      "[Parallel(n_jobs=20)]: Done 760 tasks      | elapsed:    0.3s\n",
      "[Parallel(n_jobs=20)]: Done 1000 out of 1000 | elapsed:    0.4s finished\n"
     ]
    },
    {
     "name": "stdout",
     "output_type": "stream",
     "text": [
      "accuracy：0.58847\n",
      "precision_avg: 0.60355\n",
      "recall_avg: 0.58847\n",
      "f1_score_avg: 0.57626\n",
      "n_estimator = 1000\n",
      "max_depth = 20\n",
      "min_samples_split = 50\n",
      "min_samples_leaf = 10\n"
     ]
    },
    {
     "name": "stderr",
     "output_type": "stream",
     "text": [
      "[Parallel(n_jobs=-1)]: Using backend ThreadingBackend with 20 concurrent workers.\n",
      "[Parallel(n_jobs=-1)]: Done  10 tasks      | elapsed:    0.4s\n",
      "[Parallel(n_jobs=-1)]: Done 160 tasks      | elapsed:    2.8s\n",
      "[Parallel(n_jobs=-1)]: Done 410 tasks      | elapsed:    6.8s\n",
      "[Parallel(n_jobs=-1)]: Done 760 tasks      | elapsed:   12.3s\n",
      "[Parallel(n_jobs=-1)]: Done 1000 out of 1000 | elapsed:   16.1s finished\n",
      "[Parallel(n_jobs=20)]: Using backend ThreadingBackend with 20 concurrent workers.\n",
      "[Parallel(n_jobs=20)]: Done  10 tasks      | elapsed:    0.0s\n",
      "[Parallel(n_jobs=20)]: Done 160 tasks      | elapsed:    0.1s\n"
     ]
    },
    {
     "name": "stdout",
     "output_type": "stream",
     "text": [
      "done in 16.550s.\n"
     ]
    },
    {
     "name": "stderr",
     "output_type": "stream",
     "text": [
      "[Parallel(n_jobs=20)]: Done 410 tasks      | elapsed:    0.2s\n",
      "[Parallel(n_jobs=20)]: Done 760 tasks      | elapsed:    0.3s\n",
      "[Parallel(n_jobs=20)]: Done 1000 out of 1000 | elapsed:    0.4s finished\n"
     ]
    },
    {
     "name": "stdout",
     "output_type": "stream",
     "text": [
      "accuracy：0.58593\n",
      "precision_avg: 0.60329\n",
      "recall_avg: 0.58593\n",
      "f1_score_avg: 0.57386\n",
      "n_estimator = 1000\n",
      "max_depth = 20\n",
      "min_samples_split = 50\n",
      "min_samples_leaf = 20\n"
     ]
    },
    {
     "name": "stderr",
     "output_type": "stream",
     "text": [
      "[Parallel(n_jobs=-1)]: Using backend ThreadingBackend with 20 concurrent workers.\n",
      "[Parallel(n_jobs=-1)]: Done  10 tasks      | elapsed:    0.3s\n",
      "[Parallel(n_jobs=-1)]: Done 160 tasks      | elapsed:    2.6s\n",
      "[Parallel(n_jobs=-1)]: Done 410 tasks      | elapsed:    6.3s\n",
      "[Parallel(n_jobs=-1)]: Done 760 tasks      | elapsed:   11.5s\n",
      "[Parallel(n_jobs=-1)]: Done 1000 out of 1000 | elapsed:   15.0s finished\n",
      "[Parallel(n_jobs=20)]: Using backend ThreadingBackend with 20 concurrent workers.\n",
      "[Parallel(n_jobs=20)]: Done  10 tasks      | elapsed:    0.0s\n",
      "[Parallel(n_jobs=20)]: Done 160 tasks      | elapsed:    0.1s\n"
     ]
    },
    {
     "name": "stdout",
     "output_type": "stream",
     "text": [
      "done in 15.561s.\n"
     ]
    },
    {
     "name": "stderr",
     "output_type": "stream",
     "text": [
      "[Parallel(n_jobs=20)]: Done 410 tasks      | elapsed:    0.2s\n",
      "[Parallel(n_jobs=20)]: Done 760 tasks      | elapsed:    0.3s\n",
      "[Parallel(n_jobs=20)]: Done 1000 out of 1000 | elapsed:    0.3s finished\n"
     ]
    },
    {
     "name": "stdout",
     "output_type": "stream",
     "text": [
      "accuracy：0.58600\n",
      "precision_avg: 0.60497\n",
      "recall_avg: 0.58600\n",
      "f1_score_avg: 0.57370\n",
      "n_estimator = 1000\n",
      "max_depth = 50\n",
      "min_samples_split = 2\n",
      "min_samples_leaf = 1\n"
     ]
    },
    {
     "name": "stderr",
     "output_type": "stream",
     "text": [
      "[Parallel(n_jobs=-1)]: Using backend ThreadingBackend with 20 concurrent workers.\n",
      "[Parallel(n_jobs=-1)]: Done  10 tasks      | elapsed:    2.5s\n",
      "[Parallel(n_jobs=-1)]: Done 160 tasks      | elapsed:   19.7s\n",
      "[Parallel(n_jobs=-1)]: Done 410 tasks      | elapsed:   49.8s\n",
      "[Parallel(n_jobs=-1)]: Done 760 tasks      | elapsed:  1.5min\n",
      "[Parallel(n_jobs=-1)]: Done 1000 out of 1000 | elapsed:  2.0min finished\n",
      "[Parallel(n_jobs=20)]: Using backend ThreadingBackend with 20 concurrent workers.\n",
      "[Parallel(n_jobs=20)]: Done  10 tasks      | elapsed:    0.0s\n",
      "[Parallel(n_jobs=20)]: Done 160 tasks      | elapsed:    0.1s\n"
     ]
    },
    {
     "name": "stdout",
     "output_type": "stream",
     "text": [
      "done in 121.194s.\n"
     ]
    },
    {
     "name": "stderr",
     "output_type": "stream",
     "text": [
      "[Parallel(n_jobs=20)]: Done 410 tasks      | elapsed:    0.2s\n",
      "[Parallel(n_jobs=20)]: Done 760 tasks      | elapsed:    0.5s\n",
      "[Parallel(n_jobs=20)]: Done 1000 out of 1000 | elapsed:    0.6s finished\n"
     ]
    },
    {
     "name": "stdout",
     "output_type": "stream",
     "text": [
      "accuracy：0.61113\n",
      "precision_avg: 0.59543\n",
      "recall_avg: 0.61113\n",
      "f1_score_avg: 0.59354\n",
      "n_estimator = 1000\n",
      "max_depth = 50\n",
      "min_samples_split = 10\n",
      "min_samples_leaf = 1\n"
     ]
    },
    {
     "name": "stderr",
     "output_type": "stream",
     "text": [
      "[Parallel(n_jobs=-1)]: Using backend ThreadingBackend with 20 concurrent workers.\n",
      "[Parallel(n_jobs=-1)]: Done  10 tasks      | elapsed:    2.2s\n",
      "[Parallel(n_jobs=-1)]: Done 160 tasks      | elapsed:   18.0s\n",
      "[Parallel(n_jobs=-1)]: Done 410 tasks      | elapsed:   44.7s\n",
      "[Parallel(n_jobs=-1)]: Done 760 tasks      | elapsed:  1.4min\n",
      "[Parallel(n_jobs=-1)]: Done 1000 out of 1000 | elapsed:  1.8min finished\n",
      "[Parallel(n_jobs=20)]: Using backend ThreadingBackend with 20 concurrent workers.\n",
      "[Parallel(n_jobs=20)]: Done  10 tasks      | elapsed:    0.0s\n",
      "[Parallel(n_jobs=20)]: Done 160 tasks      | elapsed:    0.1s\n"
     ]
    },
    {
     "name": "stdout",
     "output_type": "stream",
     "text": [
      "done in 108.093s.\n"
     ]
    },
    {
     "name": "stderr",
     "output_type": "stream",
     "text": [
      "[Parallel(n_jobs=20)]: Done 410 tasks      | elapsed:    0.2s\n",
      "[Parallel(n_jobs=20)]: Done 760 tasks      | elapsed:    0.3s\n",
      "[Parallel(n_jobs=20)]: Done 1000 out of 1000 | elapsed:    0.4s finished\n"
     ]
    },
    {
     "name": "stdout",
     "output_type": "stream",
     "text": [
      "accuracy：0.60873\n",
      "precision_avg: 0.59631\n",
      "recall_avg: 0.60873\n",
      "f1_score_avg: 0.59357\n",
      "n_estimator = 1000\n",
      "max_depth = 50\n",
      "min_samples_split = 10\n",
      "min_samples_leaf = 5\n"
     ]
    },
    {
     "name": "stderr",
     "output_type": "stream",
     "text": [
      "[Parallel(n_jobs=-1)]: Using backend ThreadingBackend with 20 concurrent workers.\n",
      "[Parallel(n_jobs=-1)]: Done  10 tasks      | elapsed:    1.6s\n",
      "[Parallel(n_jobs=-1)]: Done 160 tasks      | elapsed:   13.1s\n",
      "[Parallel(n_jobs=-1)]: Done 410 tasks      | elapsed:   33.3s\n",
      "[Parallel(n_jobs=-1)]: Done 760 tasks      | elapsed:  1.0min\n",
      "[Parallel(n_jobs=-1)]: Done 1000 out of 1000 | elapsed:  1.3min finished\n",
      "[Parallel(n_jobs=20)]: Using backend ThreadingBackend with 20 concurrent workers.\n",
      "[Parallel(n_jobs=20)]: Done  10 tasks      | elapsed:    0.0s\n",
      "[Parallel(n_jobs=20)]: Done 160 tasks      | elapsed:    0.1s\n"
     ]
    },
    {
     "name": "stdout",
     "output_type": "stream",
     "text": [
      "done in 79.612s.\n"
     ]
    },
    {
     "name": "stderr",
     "output_type": "stream",
     "text": [
      "[Parallel(n_jobs=20)]: Done 410 tasks      | elapsed:    0.2s\n",
      "[Parallel(n_jobs=20)]: Done 760 tasks      | elapsed:    0.3s\n",
      "[Parallel(n_jobs=20)]: Done 1000 out of 1000 | elapsed:    0.4s finished\n"
     ]
    },
    {
     "name": "stdout",
     "output_type": "stream",
     "text": [
      "accuracy：0.60600\n",
      "precision_avg: 0.60594\n",
      "recall_avg: 0.60600\n",
      "f1_score_avg: 0.59582\n",
      "n_estimator = 1000\n",
      "max_depth = 50\n",
      "min_samples_split = 50\n",
      "min_samples_leaf = 1\n"
     ]
    },
    {
     "name": "stderr",
     "output_type": "stream",
     "text": [
      "[Parallel(n_jobs=-1)]: Using backend ThreadingBackend with 20 concurrent workers.\n",
      "[Parallel(n_jobs=-1)]: Done  10 tasks      | elapsed:    1.6s\n",
      "[Parallel(n_jobs=-1)]: Done 160 tasks      | elapsed:   13.0s\n",
      "[Parallel(n_jobs=-1)]: Done 410 tasks      | elapsed:   32.6s\n",
      "[Parallel(n_jobs=-1)]: Done 760 tasks      | elapsed:   59.8s\n",
      "[Parallel(n_jobs=-1)]: Done 1000 out of 1000 | elapsed:  1.3min finished\n",
      "[Parallel(n_jobs=20)]: Using backend ThreadingBackend with 20 concurrent workers.\n",
      "[Parallel(n_jobs=20)]: Done  10 tasks      | elapsed:    0.0s\n",
      "[Parallel(n_jobs=20)]: Done 160 tasks      | elapsed:    0.1s\n",
      "[Parallel(n_jobs=20)]: Done 410 tasks      | elapsed:    0.2s\n"
     ]
    },
    {
     "name": "stdout",
     "output_type": "stream",
     "text": [
      "done in 78.703s.\n"
     ]
    },
    {
     "name": "stderr",
     "output_type": "stream",
     "text": [
      "[Parallel(n_jobs=20)]: Done 760 tasks      | elapsed:    0.3s\n",
      "[Parallel(n_jobs=20)]: Done 1000 out of 1000 | elapsed:    0.4s finished\n"
     ]
    },
    {
     "name": "stdout",
     "output_type": "stream",
     "text": [
      "accuracy：0.60900\n",
      "precision_avg: 0.60510\n",
      "recall_avg: 0.60900\n",
      "f1_score_avg: 0.59794\n",
      "n_estimator = 1000\n",
      "max_depth = 50\n",
      "min_samples_split = 50\n",
      "min_samples_leaf = 5\n"
     ]
    },
    {
     "name": "stderr",
     "output_type": "stream",
     "text": [
      "[Parallel(n_jobs=-1)]: Using backend ThreadingBackend with 20 concurrent workers.\n",
      "[Parallel(n_jobs=-1)]: Done  10 tasks      | elapsed:    1.4s\n",
      "[Parallel(n_jobs=-1)]: Done 160 tasks      | elapsed:   10.9s\n",
      "[Parallel(n_jobs=-1)]: Done 410 tasks      | elapsed:   27.4s\n",
      "[Parallel(n_jobs=-1)]: Done 760 tasks      | elapsed:   50.2s\n",
      "[Parallel(n_jobs=-1)]: Done 1000 out of 1000 | elapsed:  1.1min finished\n",
      "[Parallel(n_jobs=20)]: Using backend ThreadingBackend with 20 concurrent workers.\n",
      "[Parallel(n_jobs=20)]: Done  10 tasks      | elapsed:    0.0s\n",
      "[Parallel(n_jobs=20)]: Done 160 tasks      | elapsed:    0.1s\n"
     ]
    },
    {
     "name": "stdout",
     "output_type": "stream",
     "text": [
      "done in 66.264s.\n"
     ]
    },
    {
     "name": "stderr",
     "output_type": "stream",
     "text": [
      "[Parallel(n_jobs=20)]: Done 410 tasks      | elapsed:    0.2s\n",
      "[Parallel(n_jobs=20)]: Done 760 tasks      | elapsed:    0.3s\n",
      "[Parallel(n_jobs=20)]: Done 1000 out of 1000 | elapsed:    0.4s finished\n"
     ]
    },
    {
     "name": "stdout",
     "output_type": "stream",
     "text": [
      "accuracy：0.60540\n",
      "precision_avg: 0.60670\n",
      "recall_avg: 0.60540\n",
      "f1_score_avg: 0.59560\n",
      "n_estimator = 1000\n",
      "max_depth = 50\n",
      "min_samples_split = 50\n",
      "min_samples_leaf = 10\n"
     ]
    },
    {
     "name": "stderr",
     "output_type": "stream",
     "text": [
      "[Parallel(n_jobs=-1)]: Using backend ThreadingBackend with 20 concurrent workers.\n",
      "[Parallel(n_jobs=-1)]: Done  10 tasks      | elapsed:    1.1s\n",
      "[Parallel(n_jobs=-1)]: Done 160 tasks      | elapsed:    8.8s\n",
      "[Parallel(n_jobs=-1)]: Done 410 tasks      | elapsed:   22.2s\n",
      "[Parallel(n_jobs=-1)]: Done 760 tasks      | elapsed:   40.6s\n",
      "[Parallel(n_jobs=-1)]: Done 1000 out of 1000 | elapsed:   53.2s finished\n",
      "[Parallel(n_jobs=20)]: Using backend ThreadingBackend with 20 concurrent workers.\n",
      "[Parallel(n_jobs=20)]: Done  10 tasks      | elapsed:    0.0s\n",
      "[Parallel(n_jobs=20)]: Done 160 tasks      | elapsed:    0.1s\n"
     ]
    },
    {
     "name": "stdout",
     "output_type": "stream",
     "text": [
      "done in 53.748s.\n"
     ]
    },
    {
     "name": "stderr",
     "output_type": "stream",
     "text": [
      "[Parallel(n_jobs=20)]: Done 410 tasks      | elapsed:    0.2s\n",
      "[Parallel(n_jobs=20)]: Done 760 tasks      | elapsed:    0.3s\n",
      "[Parallel(n_jobs=20)]: Done 1000 out of 1000 | elapsed:    0.4s finished\n"
     ]
    },
    {
     "name": "stdout",
     "output_type": "stream",
     "text": [
      "accuracy：0.60093\n",
      "precision_avg: 0.60684\n",
      "recall_avg: 0.60093\n",
      "f1_score_avg: 0.59210\n",
      "n_estimator = 1000\n",
      "max_depth = 50\n",
      "min_samples_split = 50\n",
      "min_samples_leaf = 20\n"
     ]
    },
    {
     "name": "stderr",
     "output_type": "stream",
     "text": [
      "[Parallel(n_jobs=-1)]: Using backend ThreadingBackend with 20 concurrent workers.\n",
      "[Parallel(n_jobs=-1)]: Done  10 tasks      | elapsed:    0.8s\n",
      "[Parallel(n_jobs=-1)]: Done 160 tasks      | elapsed:    6.6s\n",
      "[Parallel(n_jobs=-1)]: Done 410 tasks      | elapsed:   16.8s\n",
      "[Parallel(n_jobs=-1)]: Done 760 tasks      | elapsed:   30.7s\n",
      "[Parallel(n_jobs=-1)]: Done 1000 out of 1000 | elapsed:   40.3s finished\n",
      "[Parallel(n_jobs=20)]: Using backend ThreadingBackend with 20 concurrent workers.\n",
      "[Parallel(n_jobs=20)]: Done  10 tasks      | elapsed:    0.0s\n",
      "[Parallel(n_jobs=20)]: Done 160 tasks      | elapsed:    0.1s\n"
     ]
    },
    {
     "name": "stdout",
     "output_type": "stream",
     "text": [
      "done in 40.841s.\n"
     ]
    },
    {
     "name": "stderr",
     "output_type": "stream",
     "text": [
      "[Parallel(n_jobs=20)]: Done 410 tasks      | elapsed:    0.1s\n",
      "[Parallel(n_jobs=20)]: Done 760 tasks      | elapsed:    0.3s\n",
      "[Parallel(n_jobs=20)]: Done 1000 out of 1000 | elapsed:    0.3s finished\n"
     ]
    },
    {
     "name": "stdout",
     "output_type": "stream",
     "text": [
      "accuracy：0.59800\n",
      "precision_avg: 0.60883\n",
      "recall_avg: 0.59800\n",
      "f1_score_avg: 0.58991\n",
      "n_estimator = 5000\n",
      "max_depth = 10\n",
      "min_samples_split = 2\n",
      "min_samples_leaf = 1\n"
     ]
    },
    {
     "name": "stderr",
     "output_type": "stream",
     "text": [
      "[Parallel(n_jobs=-1)]: Using backend ThreadingBackend with 20 concurrent workers.\n",
      "[Parallel(n_jobs=-1)]: Done  10 tasks      | elapsed:    0.2s\n",
      "[Parallel(n_jobs=-1)]: Done 160 tasks      | elapsed:    1.3s\n",
      "[Parallel(n_jobs=-1)]: Done 410 tasks      | elapsed:    3.1s\n",
      "[Parallel(n_jobs=-1)]: Done 760 tasks      | elapsed:    5.6s\n",
      "[Parallel(n_jobs=-1)]: Done 1210 tasks      | elapsed:    8.8s\n",
      "[Parallel(n_jobs=-1)]: Done 1760 tasks      | elapsed:   12.7s\n",
      "[Parallel(n_jobs=-1)]: Done 2410 tasks      | elapsed:   17.3s\n",
      "[Parallel(n_jobs=-1)]: Done 3160 tasks      | elapsed:   22.7s\n",
      "[Parallel(n_jobs=-1)]: Done 4010 tasks      | elapsed:   28.9s\n",
      "[Parallel(n_jobs=-1)]: Done 4960 tasks      | elapsed:   35.7s\n",
      "[Parallel(n_jobs=-1)]: Done 5000 out of 5000 | elapsed:   36.0s finished\n",
      "[Parallel(n_jobs=20)]: Using backend ThreadingBackend with 20 concurrent workers.\n",
      "[Parallel(n_jobs=20)]: Done  10 tasks      | elapsed:    0.0s\n",
      "[Parallel(n_jobs=20)]: Done 160 tasks      | elapsed:    0.1s\n",
      "[Parallel(n_jobs=20)]: Done 410 tasks      | elapsed:    0.1s\n"
     ]
    },
    {
     "name": "stdout",
     "output_type": "stream",
     "text": [
      "done in 37.668s.\n"
     ]
    },
    {
     "name": "stderr",
     "output_type": "stream",
     "text": [
      "[Parallel(n_jobs=20)]: Done 760 tasks      | elapsed:    0.3s\n",
      "[Parallel(n_jobs=20)]: Done 1210 tasks      | elapsed:    0.4s\n",
      "[Parallel(n_jobs=20)]: Done 1760 tasks      | elapsed:    0.6s\n",
      "[Parallel(n_jobs=20)]: Done 2410 tasks      | elapsed:    0.8s\n",
      "[Parallel(n_jobs=20)]: Done 3160 tasks      | elapsed:    1.1s\n",
      "[Parallel(n_jobs=20)]: Done 4010 tasks      | elapsed:    1.4s\n",
      "[Parallel(n_jobs=20)]: Done 4960 tasks      | elapsed:    1.7s\n",
      "[Parallel(n_jobs=20)]: Done 5000 out of 5000 | elapsed:    1.7s finished\n"
     ]
    },
    {
     "name": "stdout",
     "output_type": "stream",
     "text": [
      "accuracy：0.57407\n",
      "precision_avg: 0.59896\n",
      "recall_avg: 0.57407\n",
      "f1_score_avg: 0.55858\n",
      "n_estimator = 5000\n",
      "max_depth = 10\n",
      "min_samples_split = 10\n",
      "min_samples_leaf = 1\n"
     ]
    },
    {
     "name": "stderr",
     "output_type": "stream",
     "text": [
      "[Parallel(n_jobs=-1)]: Using backend ThreadingBackend with 20 concurrent workers.\n",
      "[Parallel(n_jobs=-1)]: Done  10 tasks      | elapsed:    0.2s\n",
      "[Parallel(n_jobs=-1)]: Done 160 tasks      | elapsed:    1.3s\n",
      "[Parallel(n_jobs=-1)]: Done 410 tasks      | elapsed:    3.1s\n",
      "[Parallel(n_jobs=-1)]: Done 760 tasks      | elapsed:    5.5s\n",
      "[Parallel(n_jobs=-1)]: Done 1210 tasks      | elapsed:    8.7s\n",
      "[Parallel(n_jobs=-1)]: Done 1760 tasks      | elapsed:   12.5s\n",
      "[Parallel(n_jobs=-1)]: Done 2410 tasks      | elapsed:   17.0s\n",
      "[Parallel(n_jobs=-1)]: Done 3160 tasks      | elapsed:   22.2s\n",
      "[Parallel(n_jobs=-1)]: Done 4010 tasks      | elapsed:   28.0s\n",
      "[Parallel(n_jobs=-1)]: Done 4960 tasks      | elapsed:   34.6s\n",
      "[Parallel(n_jobs=-1)]: Done 5000 out of 5000 | elapsed:   34.9s finished\n",
      "[Parallel(n_jobs=20)]: Using backend ThreadingBackend with 20 concurrent workers.\n",
      "[Parallel(n_jobs=20)]: Done  10 tasks      | elapsed:    0.0s\n",
      "[Parallel(n_jobs=20)]: Done 160 tasks      | elapsed:    0.1s\n"
     ]
    },
    {
     "name": "stdout",
     "output_type": "stream",
     "text": [
      "done in 36.573s.\n"
     ]
    },
    {
     "name": "stderr",
     "output_type": "stream",
     "text": [
      "[Parallel(n_jobs=20)]: Done 410 tasks      | elapsed:    0.2s\n",
      "[Parallel(n_jobs=20)]: Done 760 tasks      | elapsed:    0.3s\n",
      "[Parallel(n_jobs=20)]: Done 1210 tasks      | elapsed:    0.4s\n",
      "[Parallel(n_jobs=20)]: Done 1760 tasks      | elapsed:    0.6s\n",
      "[Parallel(n_jobs=20)]: Done 2410 tasks      | elapsed:    0.8s\n",
      "[Parallel(n_jobs=20)]: Done 3160 tasks      | elapsed:    1.1s\n",
      "[Parallel(n_jobs=20)]: Done 4010 tasks      | elapsed:    1.4s\n",
      "[Parallel(n_jobs=20)]: Done 4960 tasks      | elapsed:    1.7s\n",
      "[Parallel(n_jobs=20)]: Done 5000 out of 5000 | elapsed:    1.7s finished\n"
     ]
    },
    {
     "name": "stdout",
     "output_type": "stream",
     "text": [
      "accuracy：0.57293\n",
      "precision_avg: 0.59787\n",
      "recall_avg: 0.57293\n",
      "f1_score_avg: 0.55731\n",
      "n_estimator = 5000\n",
      "max_depth = 10\n",
      "min_samples_split = 10\n",
      "min_samples_leaf = 5\n"
     ]
    },
    {
     "name": "stderr",
     "output_type": "stream",
     "text": [
      "[Parallel(n_jobs=-1)]: Using backend ThreadingBackend with 20 concurrent workers.\n",
      "[Parallel(n_jobs=-1)]: Done  10 tasks      | elapsed:    0.2s\n",
      "[Parallel(n_jobs=-1)]: Done 160 tasks      | elapsed:    1.3s\n",
      "[Parallel(n_jobs=-1)]: Done 410 tasks      | elapsed:    3.0s\n",
      "[Parallel(n_jobs=-1)]: Done 760 tasks      | elapsed:    5.4s\n",
      "[Parallel(n_jobs=-1)]: Done 1210 tasks      | elapsed:    8.5s\n",
      "[Parallel(n_jobs=-1)]: Done 1760 tasks      | elapsed:   12.4s\n",
      "[Parallel(n_jobs=-1)]: Done 2410 tasks      | elapsed:   16.9s\n",
      "[Parallel(n_jobs=-1)]: Done 3160 tasks      | elapsed:   22.0s\n",
      "[Parallel(n_jobs=-1)]: Done 4010 tasks      | elapsed:   28.0s\n",
      "[Parallel(n_jobs=-1)]: Done 4960 tasks      | elapsed:   34.6s\n",
      "[Parallel(n_jobs=-1)]: Done 5000 out of 5000 | elapsed:   34.9s finished\n",
      "[Parallel(n_jobs=20)]: Using backend ThreadingBackend with 20 concurrent workers.\n",
      "[Parallel(n_jobs=20)]: Done  10 tasks      | elapsed:    0.0s\n",
      "[Parallel(n_jobs=20)]: Done 160 tasks      | elapsed:    0.1s\n"
     ]
    },
    {
     "name": "stdout",
     "output_type": "stream",
     "text": [
      "done in 36.557s.\n"
     ]
    },
    {
     "name": "stderr",
     "output_type": "stream",
     "text": [
      "[Parallel(n_jobs=20)]: Done 410 tasks      | elapsed:    0.2s\n",
      "[Parallel(n_jobs=20)]: Done 760 tasks      | elapsed:    0.3s\n",
      "[Parallel(n_jobs=20)]: Done 1210 tasks      | elapsed:    0.4s\n",
      "[Parallel(n_jobs=20)]: Done 1760 tasks      | elapsed:    0.6s\n",
      "[Parallel(n_jobs=20)]: Done 2410 tasks      | elapsed:    0.8s\n",
      "[Parallel(n_jobs=20)]: Done 3160 tasks      | elapsed:    1.1s\n",
      "[Parallel(n_jobs=20)]: Done 4010 tasks      | elapsed:    1.4s\n",
      "[Parallel(n_jobs=20)]: Done 4960 tasks      | elapsed:    1.7s\n",
      "[Parallel(n_jobs=20)]: Done 5000 out of 5000 | elapsed:    1.7s finished\n"
     ]
    },
    {
     "name": "stdout",
     "output_type": "stream",
     "text": [
      "accuracy：0.57320\n",
      "precision_avg: 0.59921\n",
      "recall_avg: 0.57320\n",
      "f1_score_avg: 0.55790\n",
      "n_estimator = 5000\n",
      "max_depth = 10\n",
      "min_samples_split = 50\n",
      "min_samples_leaf = 1\n"
     ]
    },
    {
     "name": "stderr",
     "output_type": "stream",
     "text": [
      "[Parallel(n_jobs=-1)]: Using backend ThreadingBackend with 20 concurrent workers.\n",
      "[Parallel(n_jobs=-1)]: Done  10 tasks      | elapsed:    0.2s\n",
      "[Parallel(n_jobs=-1)]: Done 160 tasks      | elapsed:    1.2s\n",
      "[Parallel(n_jobs=-1)]: Done 410 tasks      | elapsed:    2.8s\n",
      "[Parallel(n_jobs=-1)]: Done 760 tasks      | elapsed:    5.1s\n",
      "[Parallel(n_jobs=-1)]: Done 1210 tasks      | elapsed:    8.2s\n",
      "[Parallel(n_jobs=-1)]: Done 1760 tasks      | elapsed:   11.8s\n",
      "[Parallel(n_jobs=-1)]: Done 2410 tasks      | elapsed:   16.1s\n",
      "[Parallel(n_jobs=-1)]: Done 3160 tasks      | elapsed:   21.0s\n",
      "[Parallel(n_jobs=-1)]: Done 4010 tasks      | elapsed:   26.6s\n",
      "[Parallel(n_jobs=-1)]: Done 4960 tasks      | elapsed:   32.8s\n",
      "[Parallel(n_jobs=-1)]: Done 5000 out of 5000 | elapsed:   33.0s finished\n",
      "[Parallel(n_jobs=20)]: Using backend ThreadingBackend with 20 concurrent workers.\n",
      "[Parallel(n_jobs=20)]: Done  10 tasks      | elapsed:    0.0s\n",
      "[Parallel(n_jobs=20)]: Done 160 tasks      | elapsed:    0.1s\n"
     ]
    },
    {
     "name": "stdout",
     "output_type": "stream",
     "text": [
      "done in 34.758s.\n"
     ]
    },
    {
     "name": "stderr",
     "output_type": "stream",
     "text": [
      "[Parallel(n_jobs=20)]: Done 410 tasks      | elapsed:    0.2s\n",
      "[Parallel(n_jobs=20)]: Done 760 tasks      | elapsed:    0.3s\n",
      "[Parallel(n_jobs=20)]: Done 1210 tasks      | elapsed:    0.4s\n",
      "[Parallel(n_jobs=20)]: Done 1760 tasks      | elapsed:    0.6s\n",
      "[Parallel(n_jobs=20)]: Done 2410 tasks      | elapsed:    0.8s\n",
      "[Parallel(n_jobs=20)]: Done 3160 tasks      | elapsed:    1.1s\n",
      "[Parallel(n_jobs=20)]: Done 4010 tasks      | elapsed:    1.4s\n",
      "[Parallel(n_jobs=20)]: Done 4960 tasks      | elapsed:    1.7s\n",
      "[Parallel(n_jobs=20)]: Done 5000 out of 5000 | elapsed:    1.7s finished\n"
     ]
    },
    {
     "name": "stdout",
     "output_type": "stream",
     "text": [
      "accuracy：0.57300\n",
      "precision_avg: 0.59864\n",
      "recall_avg: 0.57300\n",
      "f1_score_avg: 0.55756\n",
      "n_estimator = 5000\n",
      "max_depth = 10\n",
      "min_samples_split = 50\n",
      "min_samples_leaf = 5\n"
     ]
    },
    {
     "name": "stderr",
     "output_type": "stream",
     "text": [
      "[Parallel(n_jobs=-1)]: Using backend ThreadingBackend with 20 concurrent workers.\n",
      "[Parallel(n_jobs=-1)]: Done  10 tasks      | elapsed:    0.2s\n",
      "[Parallel(n_jobs=-1)]: Done 160 tasks      | elapsed:    1.3s\n",
      "[Parallel(n_jobs=-1)]: Done 410 tasks      | elapsed:    2.9s\n",
      "[Parallel(n_jobs=-1)]: Done 760 tasks      | elapsed:    5.2s\n",
      "[Parallel(n_jobs=-1)]: Done 1210 tasks      | elapsed:    8.2s\n",
      "[Parallel(n_jobs=-1)]: Done 1760 tasks      | elapsed:   11.8s\n",
      "[Parallel(n_jobs=-1)]: Done 2410 tasks      | elapsed:   16.2s\n",
      "[Parallel(n_jobs=-1)]: Done 3160 tasks      | elapsed:   21.1s\n",
      "[Parallel(n_jobs=-1)]: Done 4010 tasks      | elapsed:   26.6s\n",
      "[Parallel(n_jobs=-1)]: Done 4960 tasks      | elapsed:   32.9s\n",
      "[Parallel(n_jobs=-1)]: Done 5000 out of 5000 | elapsed:   33.1s finished\n",
      "[Parallel(n_jobs=20)]: Using backend ThreadingBackend with 20 concurrent workers.\n",
      "[Parallel(n_jobs=20)]: Done  10 tasks      | elapsed:    0.0s\n",
      "[Parallel(n_jobs=20)]: Done 160 tasks      | elapsed:    0.1s\n"
     ]
    },
    {
     "name": "stdout",
     "output_type": "stream",
     "text": [
      "done in 34.951s.\n"
     ]
    },
    {
     "name": "stderr",
     "output_type": "stream",
     "text": [
      "[Parallel(n_jobs=20)]: Done 410 tasks      | elapsed:    0.1s\n",
      "[Parallel(n_jobs=20)]: Done 760 tasks      | elapsed:    0.3s\n",
      "[Parallel(n_jobs=20)]: Done 1210 tasks      | elapsed:    0.4s\n",
      "[Parallel(n_jobs=20)]: Done 1760 tasks      | elapsed:    0.6s\n",
      "[Parallel(n_jobs=20)]: Done 2410 tasks      | elapsed:    0.8s\n",
      "[Parallel(n_jobs=20)]: Done 3160 tasks      | elapsed:    1.1s\n",
      "[Parallel(n_jobs=20)]: Done 4010 tasks      | elapsed:    1.4s\n",
      "[Parallel(n_jobs=20)]: Done 4960 tasks      | elapsed:    1.7s\n",
      "[Parallel(n_jobs=20)]: Done 5000 out of 5000 | elapsed:    1.7s finished\n"
     ]
    },
    {
     "name": "stdout",
     "output_type": "stream",
     "text": [
      "accuracy：0.57153\n",
      "precision_avg: 0.59734\n",
      "recall_avg: 0.57153\n",
      "f1_score_avg: 0.55590\n",
      "n_estimator = 5000\n",
      "max_depth = 10\n",
      "min_samples_split = 50\n",
      "min_samples_leaf = 10\n"
     ]
    },
    {
     "name": "stderr",
     "output_type": "stream",
     "text": [
      "[Parallel(n_jobs=-1)]: Using backend ThreadingBackend with 20 concurrent workers.\n",
      "[Parallel(n_jobs=-1)]: Done  10 tasks      | elapsed:    0.2s\n",
      "[Parallel(n_jobs=-1)]: Done 160 tasks      | elapsed:    1.2s\n",
      "[Parallel(n_jobs=-1)]: Done 410 tasks      | elapsed:    2.9s\n",
      "[Parallel(n_jobs=-1)]: Done 760 tasks      | elapsed:    5.2s\n",
      "[Parallel(n_jobs=-1)]: Done 1210 tasks      | elapsed:    8.3s\n",
      "[Parallel(n_jobs=-1)]: Done 1760 tasks      | elapsed:   11.9s\n",
      "[Parallel(n_jobs=-1)]: Done 2410 tasks      | elapsed:   16.2s\n",
      "[Parallel(n_jobs=-1)]: Done 3160 tasks      | elapsed:   21.1s\n",
      "[Parallel(n_jobs=-1)]: Done 4010 tasks      | elapsed:   26.6s\n",
      "[Parallel(n_jobs=-1)]: Done 4960 tasks      | elapsed:   32.8s\n",
      "[Parallel(n_jobs=-1)]: Done 5000 out of 5000 | elapsed:   33.0s finished\n",
      "[Parallel(n_jobs=20)]: Using backend ThreadingBackend with 20 concurrent workers.\n",
      "[Parallel(n_jobs=20)]: Done  10 tasks      | elapsed:    0.0s\n"
     ]
    },
    {
     "name": "stdout",
     "output_type": "stream",
     "text": [
      "done in 34.641s.\n"
     ]
    },
    {
     "name": "stderr",
     "output_type": "stream",
     "text": [
      "[Parallel(n_jobs=20)]: Done 160 tasks      | elapsed:    0.2s\n",
      "[Parallel(n_jobs=20)]: Done 410 tasks      | elapsed:    0.3s\n",
      "[Parallel(n_jobs=20)]: Done 760 tasks      | elapsed:    0.4s\n",
      "[Parallel(n_jobs=20)]: Done 1210 tasks      | elapsed:    0.5s\n",
      "[Parallel(n_jobs=20)]: Done 1760 tasks      | elapsed:    0.7s\n",
      "[Parallel(n_jobs=20)]: Done 2410 tasks      | elapsed:    0.9s\n",
      "[Parallel(n_jobs=20)]: Done 3160 tasks      | elapsed:    1.2s\n",
      "[Parallel(n_jobs=20)]: Done 4010 tasks      | elapsed:    1.4s\n",
      "[Parallel(n_jobs=20)]: Done 4960 tasks      | elapsed:    1.7s\n",
      "[Parallel(n_jobs=20)]: Done 5000 out of 5000 | elapsed:    1.8s finished\n"
     ]
    },
    {
     "name": "stdout",
     "output_type": "stream",
     "text": [
      "accuracy：0.57173\n",
      "precision_avg: 0.59822\n",
      "recall_avg: 0.57173\n",
      "f1_score_avg: 0.55630\n",
      "n_estimator = 5000\n",
      "max_depth = 10\n",
      "min_samples_split = 50\n",
      "min_samples_leaf = 20\n"
     ]
    },
    {
     "name": "stderr",
     "output_type": "stream",
     "text": [
      "[Parallel(n_jobs=-1)]: Using backend ThreadingBackend with 20 concurrent workers.\n",
      "[Parallel(n_jobs=-1)]: Done  10 tasks      | elapsed:    0.2s\n",
      "[Parallel(n_jobs=-1)]: Done 160 tasks      | elapsed:    1.2s\n",
      "[Parallel(n_jobs=-1)]: Done 410 tasks      | elapsed:    2.9s\n",
      "[Parallel(n_jobs=-1)]: Done 760 tasks      | elapsed:    5.1s\n",
      "[Parallel(n_jobs=-1)]: Done 1210 tasks      | elapsed:    8.0s\n",
      "[Parallel(n_jobs=-1)]: Done 1760 tasks      | elapsed:   11.5s\n",
      "[Parallel(n_jobs=-1)]: Done 2410 tasks      | elapsed:   15.6s\n",
      "[Parallel(n_jobs=-1)]: Done 3160 tasks      | elapsed:   20.4s\n",
      "[Parallel(n_jobs=-1)]: Done 4010 tasks      | elapsed:   25.7s\n",
      "[Parallel(n_jobs=-1)]: Done 4960 tasks      | elapsed:   31.8s\n",
      "[Parallel(n_jobs=-1)]: Done 5000 out of 5000 | elapsed:   32.0s finished\n",
      "[Parallel(n_jobs=20)]: Using backend ThreadingBackend with 20 concurrent workers.\n",
      "[Parallel(n_jobs=20)]: Done  10 tasks      | elapsed:    0.0s\n",
      "[Parallel(n_jobs=20)]: Done 160 tasks      | elapsed:    0.1s\n"
     ]
    },
    {
     "name": "stdout",
     "output_type": "stream",
     "text": [
      "done in 33.808s.\n"
     ]
    },
    {
     "name": "stderr",
     "output_type": "stream",
     "text": [
      "[Parallel(n_jobs=20)]: Done 410 tasks      | elapsed:    0.1s\n",
      "[Parallel(n_jobs=20)]: Done 760 tasks      | elapsed:    0.3s\n",
      "[Parallel(n_jobs=20)]: Done 1210 tasks      | elapsed:    0.4s\n",
      "[Parallel(n_jobs=20)]: Done 1760 tasks      | elapsed:    0.6s\n",
      "[Parallel(n_jobs=20)]: Done 2410 tasks      | elapsed:    0.8s\n",
      "[Parallel(n_jobs=20)]: Done 3160 tasks      | elapsed:    1.1s\n",
      "[Parallel(n_jobs=20)]: Done 4010 tasks      | elapsed:    1.4s\n",
      "[Parallel(n_jobs=20)]: Done 4960 tasks      | elapsed:    1.7s\n",
      "[Parallel(n_jobs=20)]: Done 5000 out of 5000 | elapsed:    1.7s finished\n"
     ]
    },
    {
     "name": "stdout",
     "output_type": "stream",
     "text": [
      "accuracy：0.57107\n",
      "precision_avg: 0.59854\n",
      "recall_avg: 0.57107\n",
      "f1_score_avg: 0.55545\n",
      "n_estimator = 5000\n",
      "max_depth = 20\n",
      "min_samples_split = 2\n",
      "min_samples_leaf = 1\n"
     ]
    },
    {
     "name": "stderr",
     "output_type": "stream",
     "text": [
      "[Parallel(n_jobs=-1)]: Using backend ThreadingBackend with 20 concurrent workers.\n",
      "[Parallel(n_jobs=-1)]: Done  10 tasks      | elapsed:    0.5s\n",
      "[Parallel(n_jobs=-1)]: Done 160 tasks      | elapsed:    3.9s\n",
      "[Parallel(n_jobs=-1)]: Done 410 tasks      | elapsed:    9.6s\n",
      "[Parallel(n_jobs=-1)]: Done 760 tasks      | elapsed:   17.5s\n",
      "[Parallel(n_jobs=-1)]: Done 1210 tasks      | elapsed:   27.8s\n",
      "[Parallel(n_jobs=-1)]: Done 1760 tasks      | elapsed:   40.2s\n",
      "[Parallel(n_jobs=-1)]: Done 2410 tasks      | elapsed:   54.9s\n",
      "[Parallel(n_jobs=-1)]: Done 3160 tasks      | elapsed:  1.2min\n",
      "[Parallel(n_jobs=-1)]: Done 4010 tasks      | elapsed:  1.5min\n",
      "[Parallel(n_jobs=-1)]: Done 4960 tasks      | elapsed:  1.9min\n",
      "[Parallel(n_jobs=-1)]: Done 5000 out of 5000 | elapsed:  1.9min finished\n",
      "[Parallel(n_jobs=20)]: Using backend ThreadingBackend with 20 concurrent workers.\n",
      "[Parallel(n_jobs=20)]: Done  10 tasks      | elapsed:    0.0s\n",
      "[Parallel(n_jobs=20)]: Done 160 tasks      | elapsed:    0.1s\n"
     ]
    },
    {
     "name": "stdout",
     "output_type": "stream",
     "text": [
      "done in 115.238s.\n"
     ]
    },
    {
     "name": "stderr",
     "output_type": "stream",
     "text": [
      "[Parallel(n_jobs=20)]: Done 410 tasks      | elapsed:    0.2s\n",
      "[Parallel(n_jobs=20)]: Done 760 tasks      | elapsed:    0.3s\n",
      "[Parallel(n_jobs=20)]: Done 1210 tasks      | elapsed:    0.4s\n",
      "[Parallel(n_jobs=20)]: Done 1760 tasks      | elapsed:    0.6s\n",
      "[Parallel(n_jobs=20)]: Done 2410 tasks      | elapsed:    0.9s\n",
      "[Parallel(n_jobs=20)]: Done 3160 tasks      | elapsed:    1.2s\n",
      "[Parallel(n_jobs=20)]: Done 4010 tasks      | elapsed:    1.5s\n",
      "[Parallel(n_jobs=20)]: Done 4960 tasks      | elapsed:    1.8s\n",
      "[Parallel(n_jobs=20)]: Done 5000 out of 5000 | elapsed:    1.8s finished\n"
     ]
    },
    {
     "name": "stdout",
     "output_type": "stream",
     "text": [
      "accuracy：0.59200\n",
      "precision_avg: 0.60150\n",
      "recall_avg: 0.59200\n",
      "f1_score_avg: 0.57925\n",
      "n_estimator = 5000\n",
      "max_depth = 20\n",
      "min_samples_split = 10\n",
      "min_samples_leaf = 1\n"
     ]
    },
    {
     "name": "stderr",
     "output_type": "stream",
     "text": [
      "[Parallel(n_jobs=-1)]: Using backend ThreadingBackend with 20 concurrent workers.\n",
      "[Parallel(n_jobs=-1)]: Done  10 tasks      | elapsed:    0.5s\n",
      "[Parallel(n_jobs=-1)]: Done 160 tasks      | elapsed:    3.8s\n",
      "[Parallel(n_jobs=-1)]: Done 410 tasks      | elapsed:    8.9s\n",
      "[Parallel(n_jobs=-1)]: Done 760 tasks      | elapsed:   16.2s\n",
      "[Parallel(n_jobs=-1)]: Done 1210 tasks      | elapsed:   25.6s\n",
      "[Parallel(n_jobs=-1)]: Done 1760 tasks      | elapsed:   37.0s\n",
      "[Parallel(n_jobs=-1)]: Done 2410 tasks      | elapsed:   50.8s\n",
      "[Parallel(n_jobs=-1)]: Done 3160 tasks      | elapsed:  1.1min\n",
      "[Parallel(n_jobs=-1)]: Done 4010 tasks      | elapsed:  1.4min\n",
      "[Parallel(n_jobs=-1)]: Done 4960 tasks      | elapsed:  1.7min\n",
      "[Parallel(n_jobs=-1)]: Done 5000 out of 5000 | elapsed:  1.7min finished\n",
      "[Parallel(n_jobs=20)]: Using backend ThreadingBackend with 20 concurrent workers.\n",
      "[Parallel(n_jobs=20)]: Done  10 tasks      | elapsed:    0.0s\n",
      "[Parallel(n_jobs=20)]: Done 160 tasks      | elapsed:    0.1s\n",
      "[Parallel(n_jobs=20)]: Done 410 tasks      | elapsed:    0.1s\n"
     ]
    },
    {
     "name": "stdout",
     "output_type": "stream",
     "text": [
      "done in 105.784s.\n"
     ]
    },
    {
     "name": "stderr",
     "output_type": "stream",
     "text": [
      "[Parallel(n_jobs=20)]: Done 760 tasks      | elapsed:    0.3s\n",
      "[Parallel(n_jobs=20)]: Done 1210 tasks      | elapsed:    0.4s\n",
      "[Parallel(n_jobs=20)]: Done 1760 tasks      | elapsed:    0.6s\n",
      "[Parallel(n_jobs=20)]: Done 2410 tasks      | elapsed:    0.8s\n",
      "[Parallel(n_jobs=20)]: Done 3160 tasks      | elapsed:    1.1s\n",
      "[Parallel(n_jobs=20)]: Done 4010 tasks      | elapsed:    1.4s\n",
      "[Parallel(n_jobs=20)]: Done 4960 tasks      | elapsed:    1.8s\n",
      "[Parallel(n_jobs=20)]: Done 5000 out of 5000 | elapsed:    1.8s finished\n"
     ]
    },
    {
     "name": "stdout",
     "output_type": "stream",
     "text": [
      "accuracy：0.59100\n",
      "precision_avg: 0.60135\n",
      "recall_avg: 0.59100\n",
      "f1_score_avg: 0.57854\n",
      "n_estimator = 5000\n",
      "max_depth = 20\n",
      "min_samples_split = 10\n",
      "min_samples_leaf = 5\n"
     ]
    },
    {
     "name": "stderr",
     "output_type": "stream",
     "text": [
      "[Parallel(n_jobs=-1)]: Using backend ThreadingBackend with 20 concurrent workers.\n",
      "[Parallel(n_jobs=-1)]: Done  10 tasks      | elapsed:    0.4s\n",
      "[Parallel(n_jobs=-1)]: Done 160 tasks      | elapsed:    3.4s\n",
      "[Parallel(n_jobs=-1)]: Done 410 tasks      | elapsed:    8.0s\n",
      "[Parallel(n_jobs=-1)]: Done 760 tasks      | elapsed:   14.5s\n",
      "[Parallel(n_jobs=-1)]: Done 1210 tasks      | elapsed:   23.0s\n",
      "[Parallel(n_jobs=-1)]: Done 1760 tasks      | elapsed:   33.5s\n",
      "[Parallel(n_jobs=-1)]: Done 2410 tasks      | elapsed:   45.7s\n",
      "[Parallel(n_jobs=-1)]: Done 3160 tasks      | elapsed:   59.9s\n",
      "[Parallel(n_jobs=-1)]: Done 4010 tasks      | elapsed:  1.3min\n",
      "[Parallel(n_jobs=-1)]: Done 4960 tasks      | elapsed:  1.6min\n",
      "[Parallel(n_jobs=-1)]: Done 5000 out of 5000 | elapsed:  1.6min finished\n",
      "[Parallel(n_jobs=20)]: Using backend ThreadingBackend with 20 concurrent workers.\n",
      "[Parallel(n_jobs=20)]: Done  10 tasks      | elapsed:    0.0s\n",
      "[Parallel(n_jobs=20)]: Done 160 tasks      | elapsed:    0.1s\n"
     ]
    },
    {
     "name": "stdout",
     "output_type": "stream",
     "text": [
      "done in 96.393s.\n"
     ]
    },
    {
     "name": "stderr",
     "output_type": "stream",
     "text": [
      "[Parallel(n_jobs=20)]: Done 410 tasks      | elapsed:    0.2s\n",
      "[Parallel(n_jobs=20)]: Done 760 tasks      | elapsed:    0.3s\n",
      "[Parallel(n_jobs=20)]: Done 1210 tasks      | elapsed:    0.4s\n",
      "[Parallel(n_jobs=20)]: Done 1760 tasks      | elapsed:    0.6s\n",
      "[Parallel(n_jobs=20)]: Done 2410 tasks      | elapsed:    0.9s\n",
      "[Parallel(n_jobs=20)]: Done 3160 tasks      | elapsed:    1.1s\n",
      "[Parallel(n_jobs=20)]: Done 4010 tasks      | elapsed:    1.4s\n",
      "[Parallel(n_jobs=20)]: Done 4960 tasks      | elapsed:    1.8s\n",
      "[Parallel(n_jobs=20)]: Done 5000 out of 5000 | elapsed:    1.8s finished\n"
     ]
    },
    {
     "name": "stdout",
     "output_type": "stream",
     "text": [
      "accuracy：0.58907\n",
      "precision_avg: 0.60416\n",
      "recall_avg: 0.58907\n",
      "f1_score_avg: 0.57722\n",
      "n_estimator = 5000\n",
      "max_depth = 20\n",
      "min_samples_split = 50\n",
      "min_samples_leaf = 1\n"
     ]
    },
    {
     "name": "stderr",
     "output_type": "stream",
     "text": [
      "[Parallel(n_jobs=-1)]: Using backend ThreadingBackend with 20 concurrent workers.\n",
      "[Parallel(n_jobs=-1)]: Done  10 tasks      | elapsed:    0.4s\n",
      "[Parallel(n_jobs=-1)]: Done 160 tasks      | elapsed:    3.1s\n",
      "[Parallel(n_jobs=-1)]: Done 410 tasks      | elapsed:    7.5s\n",
      "[Parallel(n_jobs=-1)]: Done 760 tasks      | elapsed:   13.7s\n",
      "[Parallel(n_jobs=-1)]: Done 1210 tasks      | elapsed:   21.6s\n",
      "[Parallel(n_jobs=-1)]: Done 1760 tasks      | elapsed:   31.3s\n",
      "[Parallel(n_jobs=-1)]: Done 2410 tasks      | elapsed:   42.7s\n",
      "[Parallel(n_jobs=-1)]: Done 3160 tasks      | elapsed:   55.8s\n",
      "[Parallel(n_jobs=-1)]: Done 4010 tasks      | elapsed:  1.2min\n",
      "[Parallel(n_jobs=-1)]: Done 4960 tasks      | elapsed:  1.5min\n",
      "[Parallel(n_jobs=-1)]: Done 5000 out of 5000 | elapsed:  1.5min finished\n",
      "[Parallel(n_jobs=20)]: Using backend ThreadingBackend with 20 concurrent workers.\n",
      "[Parallel(n_jobs=20)]: Done  10 tasks      | elapsed:    0.0s\n",
      "[Parallel(n_jobs=20)]: Done 160 tasks      | elapsed:    0.1s\n",
      "[Parallel(n_jobs=20)]: Done 410 tasks      | elapsed:    0.1s\n"
     ]
    },
    {
     "name": "stdout",
     "output_type": "stream",
     "text": [
      "done in 89.828s.\n"
     ]
    },
    {
     "name": "stderr",
     "output_type": "stream",
     "text": [
      "[Parallel(n_jobs=20)]: Done 760 tasks      | elapsed:    0.3s\n",
      "[Parallel(n_jobs=20)]: Done 1210 tasks      | elapsed:    0.4s\n",
      "[Parallel(n_jobs=20)]: Done 1760 tasks      | elapsed:    0.6s\n",
      "[Parallel(n_jobs=20)]: Done 2410 tasks      | elapsed:    0.8s\n",
      "[Parallel(n_jobs=20)]: Done 3160 tasks      | elapsed:    1.1s\n",
      "[Parallel(n_jobs=20)]: Done 4010 tasks      | elapsed:    1.4s\n",
      "[Parallel(n_jobs=20)]: Done 4960 tasks      | elapsed:    1.7s\n",
      "[Parallel(n_jobs=20)]: Done 5000 out of 5000 | elapsed:    1.7s finished\n"
     ]
    },
    {
     "name": "stdout",
     "output_type": "stream",
     "text": [
      "accuracy：0.58960\n",
      "precision_avg: 0.60362\n",
      "recall_avg: 0.58960\n",
      "f1_score_avg: 0.57769\n",
      "n_estimator = 5000\n",
      "max_depth = 20\n",
      "min_samples_split = 50\n",
      "min_samples_leaf = 5\n"
     ]
    },
    {
     "name": "stderr",
     "output_type": "stream",
     "text": [
      "[Parallel(n_jobs=-1)]: Using backend ThreadingBackend with 20 concurrent workers.\n",
      "[Parallel(n_jobs=-1)]: Done  10 tasks      | elapsed:    0.4s\n",
      "[Parallel(n_jobs=-1)]: Done 160 tasks      | elapsed:    3.1s\n",
      "[Parallel(n_jobs=-1)]: Done 410 tasks      | elapsed:    7.3s\n",
      "[Parallel(n_jobs=-1)]: Done 760 tasks      | elapsed:   13.3s\n",
      "[Parallel(n_jobs=-1)]: Done 1210 tasks      | elapsed:   21.0s\n",
      "[Parallel(n_jobs=-1)]: Done 1760 tasks      | elapsed:   30.2s\n",
      "[Parallel(n_jobs=-1)]: Done 2410 tasks      | elapsed:   41.2s\n",
      "[Parallel(n_jobs=-1)]: Done 3160 tasks      | elapsed:   53.9s\n",
      "[Parallel(n_jobs=-1)]: Done 4010 tasks      | elapsed:  1.1min\n",
      "[Parallel(n_jobs=-1)]: Done 4960 tasks      | elapsed:  1.4min\n",
      "[Parallel(n_jobs=-1)]: Done 5000 out of 5000 | elapsed:  1.4min finished\n",
      "[Parallel(n_jobs=20)]: Using backend ThreadingBackend with 20 concurrent workers.\n",
      "[Parallel(n_jobs=20)]: Done  10 tasks      | elapsed:    0.0s\n",
      "[Parallel(n_jobs=20)]: Done 160 tasks      | elapsed:    0.1s\n"
     ]
    },
    {
     "name": "stdout",
     "output_type": "stream",
     "text": [
      "done in 86.720s.\n"
     ]
    },
    {
     "name": "stderr",
     "output_type": "stream",
     "text": [
      "[Parallel(n_jobs=20)]: Done 410 tasks      | elapsed:    0.2s\n",
      "[Parallel(n_jobs=20)]: Done 760 tasks      | elapsed:    0.3s\n",
      "[Parallel(n_jobs=20)]: Done 1210 tasks      | elapsed:    0.4s\n",
      "[Parallel(n_jobs=20)]: Done 1760 tasks      | elapsed:    0.6s\n",
      "[Parallel(n_jobs=20)]: Done 2410 tasks      | elapsed:    0.9s\n",
      "[Parallel(n_jobs=20)]: Done 3160 tasks      | elapsed:    1.2s\n",
      "[Parallel(n_jobs=20)]: Done 4010 tasks      | elapsed:    1.4s\n",
      "[Parallel(n_jobs=20)]: Done 4960 tasks      | elapsed:    1.8s\n",
      "[Parallel(n_jobs=20)]: Done 5000 out of 5000 | elapsed:    1.8s finished\n"
     ]
    },
    {
     "name": "stdout",
     "output_type": "stream",
     "text": [
      "accuracy：0.58853\n",
      "precision_avg: 0.60410\n",
      "recall_avg: 0.58853\n",
      "f1_score_avg: 0.57665\n",
      "n_estimator = 5000\n",
      "max_depth = 20\n",
      "min_samples_split = 50\n",
      "min_samples_leaf = 10\n"
     ]
    },
    {
     "name": "stderr",
     "output_type": "stream",
     "text": [
      "[Parallel(n_jobs=-1)]: Using backend ThreadingBackend with 20 concurrent workers.\n",
      "[Parallel(n_jobs=-1)]: Done  10 tasks      | elapsed:    0.4s\n",
      "[Parallel(n_jobs=-1)]: Done 160 tasks      | elapsed:    2.9s\n",
      "[Parallel(n_jobs=-1)]: Done 410 tasks      | elapsed:    6.9s\n",
      "[Parallel(n_jobs=-1)]: Done 760 tasks      | elapsed:   12.6s\n",
      "[Parallel(n_jobs=-1)]: Done 1210 tasks      | elapsed:   19.8s\n",
      "[Parallel(n_jobs=-1)]: Done 1760 tasks      | elapsed:   28.5s\n",
      "[Parallel(n_jobs=-1)]: Done 2410 tasks      | elapsed:   38.9s\n",
      "[Parallel(n_jobs=-1)]: Done 3160 tasks      | elapsed:   50.9s\n",
      "[Parallel(n_jobs=-1)]: Done 4010 tasks      | elapsed:  1.1min\n",
      "[Parallel(n_jobs=-1)]: Done 4960 tasks      | elapsed:  1.3min\n",
      "[Parallel(n_jobs=-1)]: Done 5000 out of 5000 | elapsed:  1.3min finished\n",
      "[Parallel(n_jobs=20)]: Using backend ThreadingBackend with 20 concurrent workers.\n",
      "[Parallel(n_jobs=20)]: Done  10 tasks      | elapsed:    0.0s\n",
      "[Parallel(n_jobs=20)]: Done 160 tasks      | elapsed:    0.1s\n"
     ]
    },
    {
     "name": "stdout",
     "output_type": "stream",
     "text": [
      "done in 82.125s.\n"
     ]
    },
    {
     "name": "stderr",
     "output_type": "stream",
     "text": [
      "[Parallel(n_jobs=20)]: Done 410 tasks      | elapsed:    0.2s\n",
      "[Parallel(n_jobs=20)]: Done 760 tasks      | elapsed:    0.3s\n",
      "[Parallel(n_jobs=20)]: Done 1210 tasks      | elapsed:    0.6s\n",
      "[Parallel(n_jobs=20)]: Done 1760 tasks      | elapsed:    0.8s\n",
      "[Parallel(n_jobs=20)]: Done 2410 tasks      | elapsed:    1.0s\n",
      "[Parallel(n_jobs=20)]: Done 3160 tasks      | elapsed:    1.3s\n",
      "[Parallel(n_jobs=20)]: Done 4010 tasks      | elapsed:    1.5s\n",
      "[Parallel(n_jobs=20)]: Done 4960 tasks      | elapsed:    1.9s\n",
      "[Parallel(n_jobs=20)]: Done 5000 out of 5000 | elapsed:    1.9s finished\n"
     ]
    },
    {
     "name": "stdout",
     "output_type": "stream",
     "text": [
      "accuracy：0.58680\n",
      "precision_avg: 0.60458\n",
      "recall_avg: 0.58680\n",
      "f1_score_avg: 0.57495\n",
      "n_estimator = 5000\n",
      "max_depth = 20\n",
      "min_samples_split = 50\n",
      "min_samples_leaf = 20\n"
     ]
    },
    {
     "name": "stderr",
     "output_type": "stream",
     "text": [
      "[Parallel(n_jobs=-1)]: Using backend ThreadingBackend with 20 concurrent workers.\n",
      "[Parallel(n_jobs=-1)]: Done  10 tasks      | elapsed:    0.3s\n",
      "[Parallel(n_jobs=-1)]: Done 160 tasks      | elapsed:    2.6s\n",
      "[Parallel(n_jobs=-1)]: Done 410 tasks      | elapsed:    6.4s\n",
      "[Parallel(n_jobs=-1)]: Done 760 tasks      | elapsed:   11.6s\n",
      "[Parallel(n_jobs=-1)]: Done 1210 tasks      | elapsed:   18.4s\n",
      "[Parallel(n_jobs=-1)]: Done 1760 tasks      | elapsed:   26.5s\n",
      "[Parallel(n_jobs=-1)]: Done 2410 tasks      | elapsed:   36.2s\n",
      "[Parallel(n_jobs=-1)]: Done 3160 tasks      | elapsed:   47.3s\n",
      "[Parallel(n_jobs=-1)]: Done 4010 tasks      | elapsed:   59.9s\n",
      "[Parallel(n_jobs=-1)]: Done 4960 tasks      | elapsed:  1.2min\n",
      "[Parallel(n_jobs=-1)]: Done 5000 out of 5000 | elapsed:  1.2min finished\n",
      "[Parallel(n_jobs=20)]: Using backend ThreadingBackend with 20 concurrent workers.\n",
      "[Parallel(n_jobs=20)]: Done  10 tasks      | elapsed:    0.0s\n",
      "[Parallel(n_jobs=20)]: Done 160 tasks      | elapsed:    0.1s\n",
      "[Parallel(n_jobs=20)]: Done 410 tasks      | elapsed:    0.2s\n"
     ]
    },
    {
     "name": "stdout",
     "output_type": "stream",
     "text": [
      "done in 76.372s.\n"
     ]
    },
    {
     "name": "stderr",
     "output_type": "stream",
     "text": [
      "[Parallel(n_jobs=20)]: Done 760 tasks      | elapsed:    0.3s\n",
      "[Parallel(n_jobs=20)]: Done 1210 tasks      | elapsed:    0.4s\n",
      "[Parallel(n_jobs=20)]: Done 1760 tasks      | elapsed:    0.6s\n",
      "[Parallel(n_jobs=20)]: Done 2410 tasks      | elapsed:    0.8s\n",
      "[Parallel(n_jobs=20)]: Done 3160 tasks      | elapsed:    1.1s\n",
      "[Parallel(n_jobs=20)]: Done 4010 tasks      | elapsed:    1.4s\n",
      "[Parallel(n_jobs=20)]: Done 4960 tasks      | elapsed:    1.7s\n",
      "[Parallel(n_jobs=20)]: Done 5000 out of 5000 | elapsed:    1.7s finished\n"
     ]
    },
    {
     "name": "stdout",
     "output_type": "stream",
     "text": [
      "accuracy：0.58533\n",
      "precision_avg: 0.60478\n",
      "recall_avg: 0.58533\n",
      "f1_score_avg: 0.57335\n",
      "n_estimator = 5000\n",
      "max_depth = 50\n",
      "min_samples_split = 2\n",
      "min_samples_leaf = 1\n"
     ]
    },
    {
     "name": "stderr",
     "output_type": "stream",
     "text": [
      "[Parallel(n_jobs=-1)]: Using backend ThreadingBackend with 20 concurrent workers.\n",
      "[Parallel(n_jobs=-1)]: Done  10 tasks      | elapsed:    2.5s\n",
      "[Parallel(n_jobs=-1)]: Done 160 tasks      | elapsed:   20.1s\n",
      "[Parallel(n_jobs=-1)]: Done 410 tasks      | elapsed:   50.4s\n",
      "[Parallel(n_jobs=-1)]: Done 760 tasks      | elapsed:  1.6min\n",
      "[Parallel(n_jobs=-1)]: Done 1210 tasks      | elapsed:  2.5min\n",
      "[Parallel(n_jobs=-1)]: Done 1760 tasks      | elapsed:  3.5min\n",
      "[Parallel(n_jobs=-1)]: Done 2410 tasks      | elapsed:  4.8min\n",
      "[Parallel(n_jobs=-1)]: Done 3160 tasks      | elapsed:  6.3min\n",
      "[Parallel(n_jobs=-1)]: Done 4010 tasks      | elapsed:  8.1min\n",
      "[Parallel(n_jobs=-1)]: Done 4960 tasks      | elapsed: 10.0min\n",
      "[Parallel(n_jobs=-1)]: Done 5000 out of 5000 | elapsed: 10.0min finished\n",
      "[Parallel(n_jobs=20)]: Using backend ThreadingBackend with 20 concurrent workers.\n",
      "[Parallel(n_jobs=20)]: Done  10 tasks      | elapsed:    0.0s\n",
      "[Parallel(n_jobs=20)]: Done 160 tasks      | elapsed:    0.1s\n"
     ]
    },
    {
     "name": "stdout",
     "output_type": "stream",
     "text": [
      "done in 603.637s.\n"
     ]
    },
    {
     "name": "stderr",
     "output_type": "stream",
     "text": [
      "[Parallel(n_jobs=20)]: Done 410 tasks      | elapsed:    0.2s\n",
      "[Parallel(n_jobs=20)]: Done 760 tasks      | elapsed:    0.4s\n",
      "[Parallel(n_jobs=20)]: Done 1210 tasks      | elapsed:    0.7s\n",
      "[Parallel(n_jobs=20)]: Done 1760 tasks      | elapsed:    0.9s\n",
      "[Parallel(n_jobs=20)]: Done 2410 tasks      | elapsed:    1.3s\n",
      "[Parallel(n_jobs=20)]: Done 3160 tasks      | elapsed:    1.8s\n",
      "[Parallel(n_jobs=20)]: Done 4010 tasks      | elapsed:    2.4s\n",
      "[Parallel(n_jobs=20)]: Done 4960 tasks      | elapsed:    3.1s\n",
      "[Parallel(n_jobs=20)]: Done 5000 out of 5000 | elapsed:    3.1s finished\n"
     ]
    },
    {
     "name": "stdout",
     "output_type": "stream",
     "text": [
      "accuracy：0.60947\n",
      "precision_avg: 0.59333\n",
      "recall_avg: 0.60947\n",
      "f1_score_avg: 0.59171\n",
      "n_estimator = 5000\n",
      "max_depth = 50\n",
      "min_samples_split = 10\n",
      "min_samples_leaf = 1\n"
     ]
    },
    {
     "name": "stderr",
     "output_type": "stream",
     "text": [
      "[Parallel(n_jobs=-1)]: Using backend ThreadingBackend with 20 concurrent workers.\n",
      "[Parallel(n_jobs=-1)]: Done  10 tasks      | elapsed:    2.3s\n",
      "[Parallel(n_jobs=-1)]: Done 160 tasks      | elapsed:   18.1s\n",
      "[Parallel(n_jobs=-1)]: Done 410 tasks      | elapsed:   44.8s\n",
      "[Parallel(n_jobs=-1)]: Done 760 tasks      | elapsed:  1.4min\n",
      "[Parallel(n_jobs=-1)]: Done 1210 tasks      | elapsed:  2.1min\n",
      "[Parallel(n_jobs=-1)]: Done 1760 tasks      | elapsed:  3.1min\n",
      "[Parallel(n_jobs=-1)]: Done 2410 tasks      | elapsed:  4.3min\n",
      "[Parallel(n_jobs=-1)]: Done 3160 tasks      | elapsed:  5.6min\n",
      "[Parallel(n_jobs=-1)]: Done 4010 tasks      | elapsed:  7.1min\n",
      "[Parallel(n_jobs=-1)]: Done 4960 tasks      | elapsed:  8.7min\n",
      "[Parallel(n_jobs=-1)]: Done 5000 out of 5000 | elapsed:  8.8min finished\n",
      "[Parallel(n_jobs=20)]: Using backend ThreadingBackend with 20 concurrent workers.\n",
      "[Parallel(n_jobs=20)]: Done  10 tasks      | elapsed:    0.0s\n",
      "[Parallel(n_jobs=20)]: Done 160 tasks      | elapsed:    0.1s\n",
      "[Parallel(n_jobs=20)]: Done 410 tasks      | elapsed:    0.2s\n"
     ]
    },
    {
     "name": "stdout",
     "output_type": "stream",
     "text": [
      "done in 530.259s.\n"
     ]
    },
    {
     "name": "stderr",
     "output_type": "stream",
     "text": [
      "[Parallel(n_jobs=20)]: Done 760 tasks      | elapsed:    0.3s\n",
      "[Parallel(n_jobs=20)]: Done 1210 tasks      | elapsed:    0.5s\n",
      "[Parallel(n_jobs=20)]: Done 1760 tasks      | elapsed:    0.7s\n",
      "[Parallel(n_jobs=20)]: Done 2410 tasks      | elapsed:    0.9s\n",
      "[Parallel(n_jobs=20)]: Done 3160 tasks      | elapsed:    1.3s\n",
      "[Parallel(n_jobs=20)]: Done 4010 tasks      | elapsed:    1.7s\n",
      "[Parallel(n_jobs=20)]: Done 4960 tasks      | elapsed:    2.1s\n",
      "[Parallel(n_jobs=20)]: Done 5000 out of 5000 | elapsed:    2.1s finished\n"
     ]
    },
    {
     "name": "stdout",
     "output_type": "stream",
     "text": [
      "accuracy：0.60793\n",
      "precision_avg: 0.59541\n",
      "recall_avg: 0.60793\n",
      "f1_score_avg: 0.59280\n",
      "n_estimator = 5000\n",
      "max_depth = 50\n",
      "min_samples_split = 10\n",
      "min_samples_leaf = 5\n"
     ]
    },
    {
     "name": "stderr",
     "output_type": "stream",
     "text": [
      "[Parallel(n_jobs=-1)]: Using backend ThreadingBackend with 20 concurrent workers.\n",
      "[Parallel(n_jobs=-1)]: Done  10 tasks      | elapsed:    1.6s\n",
      "[Parallel(n_jobs=-1)]: Done 160 tasks      | elapsed:   12.9s\n",
      "[Parallel(n_jobs=-1)]: Done 410 tasks      | elapsed:   32.7s\n",
      "[Parallel(n_jobs=-1)]: Done 760 tasks      | elapsed:   59.8s\n",
      "[Parallel(n_jobs=-1)]: Done 1210 tasks      | elapsed:  1.6min\n",
      "[Parallel(n_jobs=-1)]: Done 1760 tasks      | elapsed:  2.3min\n",
      "[Parallel(n_jobs=-1)]: Done 2410 tasks      | elapsed:  3.1min\n",
      "[Parallel(n_jobs=-1)]: Done 3160 tasks      | elapsed:  4.1min\n",
      "[Parallel(n_jobs=-1)]: Done 4010 tasks      | elapsed:  5.2min\n",
      "[Parallel(n_jobs=-1)]: Done 4960 tasks      | elapsed:  6.4min\n",
      "[Parallel(n_jobs=-1)]: Done 5000 out of 5000 | elapsed:  6.5min finished\n",
      "[Parallel(n_jobs=20)]: Using backend ThreadingBackend with 20 concurrent workers.\n",
      "[Parallel(n_jobs=20)]: Done  10 tasks      | elapsed:    0.0s\n",
      "[Parallel(n_jobs=20)]: Done 160 tasks      | elapsed:    0.1s\n"
     ]
    },
    {
     "name": "stdout",
     "output_type": "stream",
     "text": [
      "done in 389.779s.\n"
     ]
    },
    {
     "name": "stderr",
     "output_type": "stream",
     "text": [
      "[Parallel(n_jobs=20)]: Done 410 tasks      | elapsed:    0.2s\n",
      "[Parallel(n_jobs=20)]: Done 760 tasks      | elapsed:    0.3s\n",
      "[Parallel(n_jobs=20)]: Done 1210 tasks      | elapsed:    0.4s\n",
      "[Parallel(n_jobs=20)]: Done 1760 tasks      | elapsed:    0.6s\n",
      "[Parallel(n_jobs=20)]: Done 2410 tasks      | elapsed:    0.8s\n",
      "[Parallel(n_jobs=20)]: Done 3160 tasks      | elapsed:    1.1s\n",
      "[Parallel(n_jobs=20)]: Done 4010 tasks      | elapsed:    1.4s\n",
      "[Parallel(n_jobs=20)]: Done 4960 tasks      | elapsed:    1.8s\n",
      "[Parallel(n_jobs=20)]: Done 5000 out of 5000 | elapsed:    1.8s finished\n"
     ]
    },
    {
     "name": "stdout",
     "output_type": "stream",
     "text": [
      "accuracy：0.60653\n",
      "precision_avg: 0.60657\n",
      "recall_avg: 0.60653\n",
      "f1_score_avg: 0.59638\n",
      "n_estimator = 5000\n",
      "max_depth = 50\n",
      "min_samples_split = 50\n",
      "min_samples_leaf = 1\n"
     ]
    },
    {
     "name": "stderr",
     "output_type": "stream",
     "text": [
      "[Parallel(n_jobs=-1)]: Using backend ThreadingBackend with 20 concurrent workers.\n",
      "[Parallel(n_jobs=-1)]: Done  10 tasks      | elapsed:    1.7s\n",
      "[Parallel(n_jobs=-1)]: Done 160 tasks      | elapsed:   13.2s\n",
      "[Parallel(n_jobs=-1)]: Done 410 tasks      | elapsed:   33.1s\n",
      "[Parallel(n_jobs=-1)]: Done 760 tasks      | elapsed:  1.0min\n",
      "[Parallel(n_jobs=-1)]: Done 1210 tasks      | elapsed:  1.6min\n",
      "[Parallel(n_jobs=-1)]: Done 1760 tasks      | elapsed:  2.3min\n",
      "[Parallel(n_jobs=-1)]: Done 2410 tasks      | elapsed:  3.1min\n",
      "[Parallel(n_jobs=-1)]: Done 3160 tasks      | elapsed:  4.1min\n",
      "[Parallel(n_jobs=-1)]: Done 4010 tasks      | elapsed:  5.2min\n",
      "[Parallel(n_jobs=-1)]: Done 4960 tasks      | elapsed:  6.5min\n",
      "[Parallel(n_jobs=-1)]: Done 5000 out of 5000 | elapsed:  6.5min finished\n",
      "[Parallel(n_jobs=20)]: Using backend ThreadingBackend with 20 concurrent workers.\n",
      "[Parallel(n_jobs=20)]: Done  10 tasks      | elapsed:    0.0s\n",
      "[Parallel(n_jobs=20)]: Done 160 tasks      | elapsed:    0.1s\n",
      "[Parallel(n_jobs=20)]: Done 410 tasks      | elapsed:    0.2s\n"
     ]
    },
    {
     "name": "stdout",
     "output_type": "stream",
     "text": [
      "done in 392.360s.\n"
     ]
    },
    {
     "name": "stderr",
     "output_type": "stream",
     "text": [
      "[Parallel(n_jobs=20)]: Done 760 tasks      | elapsed:    0.3s\n",
      "[Parallel(n_jobs=20)]: Done 1210 tasks      | elapsed:    0.5s\n",
      "[Parallel(n_jobs=20)]: Done 1760 tasks      | elapsed:    0.7s\n",
      "[Parallel(n_jobs=20)]: Done 2410 tasks      | elapsed:    0.9s\n",
      "[Parallel(n_jobs=20)]: Done 3160 tasks      | elapsed:    1.2s\n",
      "[Parallel(n_jobs=20)]: Done 4010 tasks      | elapsed:    1.5s\n",
      "[Parallel(n_jobs=20)]: Done 4960 tasks      | elapsed:    1.8s\n",
      "[Parallel(n_jobs=20)]: Done 5000 out of 5000 | elapsed:    1.8s finished\n"
     ]
    },
    {
     "name": "stdout",
     "output_type": "stream",
     "text": [
      "accuracy：0.60747\n",
      "precision_avg: 0.60396\n",
      "recall_avg: 0.60747\n",
      "f1_score_avg: 0.59642\n",
      "n_estimator = 5000\n",
      "max_depth = 50\n",
      "min_samples_split = 50\n",
      "min_samples_leaf = 5\n"
     ]
    },
    {
     "name": "stderr",
     "output_type": "stream",
     "text": [
      "[Parallel(n_jobs=-1)]: Using backend ThreadingBackend with 20 concurrent workers.\n",
      "[Parallel(n_jobs=-1)]: Done  10 tasks      | elapsed:    1.4s\n",
      "[Parallel(n_jobs=-1)]: Done 160 tasks      | elapsed:   10.9s\n",
      "[Parallel(n_jobs=-1)]: Done 410 tasks      | elapsed:   27.6s\n",
      "[Parallel(n_jobs=-1)]: Done 760 tasks      | elapsed:   50.8s\n",
      "[Parallel(n_jobs=-1)]: Done 1210 tasks      | elapsed:  1.3min\n",
      "[Parallel(n_jobs=-1)]: Done 1760 tasks      | elapsed:  1.9min\n",
      "[Parallel(n_jobs=-1)]: Done 2410 tasks      | elapsed:  2.6min\n",
      "[Parallel(n_jobs=-1)]: Done 3160 tasks      | elapsed:  3.5min\n",
      "[Parallel(n_jobs=-1)]: Done 4010 tasks      | elapsed:  4.4min\n",
      "[Parallel(n_jobs=-1)]: Done 4960 tasks      | elapsed:  5.4min\n",
      "[Parallel(n_jobs=-1)]: Done 5000 out of 5000 | elapsed:  5.5min finished\n",
      "[Parallel(n_jobs=20)]: Using backend ThreadingBackend with 20 concurrent workers.\n",
      "[Parallel(n_jobs=20)]: Done  10 tasks      | elapsed:    0.0s\n",
      "[Parallel(n_jobs=20)]: Done 160 tasks      | elapsed:    0.1s\n",
      "[Parallel(n_jobs=20)]: Done 410 tasks      | elapsed:    0.2s\n"
     ]
    },
    {
     "name": "stdout",
     "output_type": "stream",
     "text": [
      "done in 329.597s.\n"
     ]
    },
    {
     "name": "stderr",
     "output_type": "stream",
     "text": [
      "[Parallel(n_jobs=20)]: Done 760 tasks      | elapsed:    0.3s\n",
      "[Parallel(n_jobs=20)]: Done 1210 tasks      | elapsed:    0.5s\n",
      "[Parallel(n_jobs=20)]: Done 1760 tasks      | elapsed:    0.7s\n",
      "[Parallel(n_jobs=20)]: Done 2410 tasks      | elapsed:    0.9s\n",
      "[Parallel(n_jobs=20)]: Done 3160 tasks      | elapsed:    1.2s\n",
      "[Parallel(n_jobs=20)]: Done 4010 tasks      | elapsed:    1.5s\n",
      "[Parallel(n_jobs=20)]: Done 4960 tasks      | elapsed:    1.9s\n",
      "[Parallel(n_jobs=20)]: Done 5000 out of 5000 | elapsed:    1.9s finished\n"
     ]
    },
    {
     "name": "stdout",
     "output_type": "stream",
     "text": [
      "accuracy：0.60547\n",
      "precision_avg: 0.60700\n",
      "recall_avg: 0.60547\n",
      "f1_score_avg: 0.59577\n",
      "n_estimator = 5000\n",
      "max_depth = 50\n",
      "min_samples_split = 50\n",
      "min_samples_leaf = 10\n"
     ]
    },
    {
     "name": "stderr",
     "output_type": "stream",
     "text": [
      "[Parallel(n_jobs=-1)]: Using backend ThreadingBackend with 20 concurrent workers.\n",
      "[Parallel(n_jobs=-1)]: Done  10 tasks      | elapsed:    1.1s\n",
      "[Parallel(n_jobs=-1)]: Done 160 tasks      | elapsed:    8.9s\n",
      "[Parallel(n_jobs=-1)]: Done 410 tasks      | elapsed:   22.3s\n",
      "[Parallel(n_jobs=-1)]: Done 760 tasks      | elapsed:   40.9s\n",
      "[Parallel(n_jobs=-1)]: Done 1210 tasks      | elapsed:  1.1min\n",
      "[Parallel(n_jobs=-1)]: Done 1760 tasks      | elapsed:  1.6min\n",
      "[Parallel(n_jobs=-1)]: Done 2410 tasks      | elapsed:  2.1min\n",
      "[Parallel(n_jobs=-1)]: Done 3160 tasks      | elapsed:  2.8min\n",
      "[Parallel(n_jobs=-1)]: Done 4010 tasks      | elapsed:  3.5min\n",
      "[Parallel(n_jobs=-1)]: Done 4960 tasks      | elapsed:  4.4min\n",
      "[Parallel(n_jobs=-1)]: Done 5000 out of 5000 | elapsed:  4.4min finished\n",
      "[Parallel(n_jobs=20)]: Using backend ThreadingBackend with 20 concurrent workers.\n"
     ]
    },
    {
     "name": "stdout",
     "output_type": "stream",
     "text": [
      "done in 265.718s.\n"
     ]
    },
    {
     "name": "stderr",
     "output_type": "stream",
     "text": [
      "[Parallel(n_jobs=20)]: Done  10 tasks      | elapsed:    0.2s\n",
      "[Parallel(n_jobs=20)]: Done 160 tasks      | elapsed:    0.4s\n",
      "[Parallel(n_jobs=20)]: Done 410 tasks      | elapsed:    0.5s\n",
      "[Parallel(n_jobs=20)]: Done 760 tasks      | elapsed:    0.6s\n",
      "[Parallel(n_jobs=20)]: Done 1210 tasks      | elapsed:    0.8s\n",
      "[Parallel(n_jobs=20)]: Done 1760 tasks      | elapsed:    1.0s\n",
      "[Parallel(n_jobs=20)]: Done 2410 tasks      | elapsed:    1.2s\n",
      "[Parallel(n_jobs=20)]: Done 3160 tasks      | elapsed:    1.4s\n",
      "[Parallel(n_jobs=20)]: Done 4010 tasks      | elapsed:    1.7s\n",
      "[Parallel(n_jobs=20)]: Done 4960 tasks      | elapsed:    2.0s\n",
      "[Parallel(n_jobs=20)]: Done 5000 out of 5000 | elapsed:    2.1s finished\n"
     ]
    },
    {
     "name": "stdout",
     "output_type": "stream",
     "text": [
      "accuracy：0.60080\n",
      "precision_avg: 0.60688\n",
      "recall_avg: 0.60080\n",
      "f1_score_avg: 0.59201\n",
      "n_estimator = 5000\n",
      "max_depth = 50\n",
      "min_samples_split = 50\n",
      "min_samples_leaf = 20\n"
     ]
    },
    {
     "name": "stderr",
     "output_type": "stream",
     "text": [
      "[Parallel(n_jobs=-1)]: Using backend ThreadingBackend with 20 concurrent workers.\n",
      "[Parallel(n_jobs=-1)]: Done  10 tasks      | elapsed:    0.9s\n",
      "[Parallel(n_jobs=-1)]: Done 160 tasks      | elapsed:    6.7s\n",
      "[Parallel(n_jobs=-1)]: Done 410 tasks      | elapsed:   16.8s\n",
      "[Parallel(n_jobs=-1)]: Done 760 tasks      | elapsed:   30.6s\n",
      "[Parallel(n_jobs=-1)]: Done 1210 tasks      | elapsed:   48.1s\n",
      "[Parallel(n_jobs=-1)]: Done 1760 tasks      | elapsed:  1.2min\n",
      "[Parallel(n_jobs=-1)]: Done 2410 tasks      | elapsed:  1.6min\n",
      "[Parallel(n_jobs=-1)]: Done 3160 tasks      | elapsed:  2.1min\n",
      "[Parallel(n_jobs=-1)]: Done 4010 tasks      | elapsed:  2.7min\n",
      "[Parallel(n_jobs=-1)]: Done 4960 tasks      | elapsed:  3.3min\n",
      "[Parallel(n_jobs=-1)]: Done 5000 out of 5000 | elapsed:  3.3min finished\n",
      "[Parallel(n_jobs=20)]: Using backend ThreadingBackend with 20 concurrent workers.\n",
      "[Parallel(n_jobs=20)]: Done  10 tasks      | elapsed:    0.0s\n",
      "[Parallel(n_jobs=20)]: Done 160 tasks      | elapsed:    0.1s\n",
      "[Parallel(n_jobs=20)]: Done 410 tasks      | elapsed:    0.2s\n"
     ]
    },
    {
     "name": "stdout",
     "output_type": "stream",
     "text": [
      "done in 200.056s.\n"
     ]
    },
    {
     "name": "stderr",
     "output_type": "stream",
     "text": [
      "[Parallel(n_jobs=20)]: Done 760 tasks      | elapsed:    0.3s\n",
      "[Parallel(n_jobs=20)]: Done 1210 tasks      | elapsed:    0.4s\n",
      "[Parallel(n_jobs=20)]: Done 1760 tasks      | elapsed:    0.6s\n",
      "[Parallel(n_jobs=20)]: Done 2410 tasks      | elapsed:    0.8s\n",
      "[Parallel(n_jobs=20)]: Done 3160 tasks      | elapsed:    1.1s\n",
      "[Parallel(n_jobs=20)]: Done 4010 tasks      | elapsed:    1.4s\n",
      "[Parallel(n_jobs=20)]: Done 4960 tasks      | elapsed:    1.8s\n",
      "[Parallel(n_jobs=20)]: Done 5000 out of 5000 | elapsed:    1.8s finished\n"
     ]
    },
    {
     "name": "stdout",
     "output_type": "stream",
     "text": [
      "accuracy：0.59807\n",
      "precision_avg: 0.60906\n",
      "recall_avg: 0.59807\n",
      "f1_score_avg: 0.58996\n",
      "n_estimator = 10000\n",
      "max_depth = 10\n",
      "min_samples_split = 2\n",
      "min_samples_leaf = 1\n"
     ]
    },
    {
     "name": "stderr",
     "output_type": "stream",
     "text": [
      "[Parallel(n_jobs=-1)]: Using backend ThreadingBackend with 20 concurrent workers.\n",
      "[Parallel(n_jobs=-1)]: Done  10 tasks      | elapsed:    0.2s\n",
      "[Parallel(n_jobs=-1)]: Done 160 tasks      | elapsed:    1.3s\n",
      "[Parallel(n_jobs=-1)]: Done 410 tasks      | elapsed:    3.1s\n",
      "[Parallel(n_jobs=-1)]: Done 760 tasks      | elapsed:    5.6s\n",
      "[Parallel(n_jobs=-1)]: Done 1210 tasks      | elapsed:    8.8s\n",
      "[Parallel(n_jobs=-1)]: Done 1760 tasks      | elapsed:   12.7s\n",
      "[Parallel(n_jobs=-1)]: Done 2410 tasks      | elapsed:   17.4s\n",
      "[Parallel(n_jobs=-1)]: Done 3160 tasks      | elapsed:   22.8s\n",
      "[Parallel(n_jobs=-1)]: Done 4010 tasks      | elapsed:   28.8s\n",
      "[Parallel(n_jobs=-1)]: Done 4960 tasks      | elapsed:   35.5s\n",
      "[Parallel(n_jobs=-1)]: Done 6010 tasks      | elapsed:   43.0s\n",
      "[Parallel(n_jobs=-1)]: Done 7160 tasks      | elapsed:   51.1s\n",
      "[Parallel(n_jobs=-1)]: Done 8410 tasks      | elapsed:   60.0s\n",
      "[Parallel(n_jobs=-1)]: Done 9760 tasks      | elapsed:  1.2min\n",
      "[Parallel(n_jobs=-1)]: Done 10000 out of 10000 | elapsed:  1.2min finished\n",
      "[Parallel(n_jobs=20)]: Using backend ThreadingBackend with 20 concurrent workers.\n",
      "[Parallel(n_jobs=20)]: Done  10 tasks      | elapsed:    0.0s\n",
      "[Parallel(n_jobs=20)]: Done 160 tasks      | elapsed:    0.1s\n",
      "[Parallel(n_jobs=20)]: Done 410 tasks      | elapsed:    0.1s\n"
     ]
    },
    {
     "name": "stdout",
     "output_type": "stream",
     "text": [
      "done in 74.487s.\n"
     ]
    },
    {
     "name": "stderr",
     "output_type": "stream",
     "text": [
      "[Parallel(n_jobs=20)]: Done 760 tasks      | elapsed:    0.3s\n",
      "[Parallel(n_jobs=20)]: Done 1210 tasks      | elapsed:    0.4s\n",
      "[Parallel(n_jobs=20)]: Done 1760 tasks      | elapsed:    0.6s\n",
      "[Parallel(n_jobs=20)]: Done 2410 tasks      | elapsed:    0.8s\n",
      "[Parallel(n_jobs=20)]: Done 3160 tasks      | elapsed:    1.1s\n",
      "[Parallel(n_jobs=20)]: Done 4010 tasks      | elapsed:    1.4s\n",
      "[Parallel(n_jobs=20)]: Done 4960 tasks      | elapsed:    1.7s\n",
      "[Parallel(n_jobs=20)]: Done 6010 tasks      | elapsed:    2.1s\n",
      "[Parallel(n_jobs=20)]: Done 7160 tasks      | elapsed:    2.5s\n",
      "[Parallel(n_jobs=20)]: Done 8410 tasks      | elapsed:    3.0s\n",
      "[Parallel(n_jobs=20)]: Done 9760 tasks      | elapsed:    3.4s\n",
      "[Parallel(n_jobs=20)]: Done 10000 out of 10000 | elapsed:    3.5s finished\n"
     ]
    },
    {
     "name": "stdout",
     "output_type": "stream",
     "text": [
      "accuracy：0.57293\n",
      "precision_avg: 0.59763\n",
      "recall_avg: 0.57293\n",
      "f1_score_avg: 0.55729\n",
      "n_estimator = 10000\n",
      "max_depth = 10\n",
      "min_samples_split = 10\n",
      "min_samples_leaf = 1\n"
     ]
    },
    {
     "name": "stderr",
     "output_type": "stream",
     "text": [
      "[Parallel(n_jobs=-1)]: Using backend ThreadingBackend with 20 concurrent workers.\n",
      "[Parallel(n_jobs=-1)]: Done  10 tasks      | elapsed:    0.2s\n",
      "[Parallel(n_jobs=-1)]: Done 160 tasks      | elapsed:    1.2s\n",
      "[Parallel(n_jobs=-1)]: Done 410 tasks      | elapsed:    3.0s\n",
      "[Parallel(n_jobs=-1)]: Done 760 tasks      | elapsed:    5.5s\n",
      "[Parallel(n_jobs=-1)]: Done 1210 tasks      | elapsed:    8.6s\n",
      "[Parallel(n_jobs=-1)]: Done 1760 tasks      | elapsed:   12.4s\n",
      "[Parallel(n_jobs=-1)]: Done 2410 tasks      | elapsed:   17.0s\n",
      "[Parallel(n_jobs=-1)]: Done 3160 tasks      | elapsed:   22.1s\n",
      "[Parallel(n_jobs=-1)]: Done 4010 tasks      | elapsed:   28.1s\n",
      "[Parallel(n_jobs=-1)]: Done 4960 tasks      | elapsed:   34.7s\n",
      "[Parallel(n_jobs=-1)]: Done 6010 tasks      | elapsed:   42.0s\n",
      "[Parallel(n_jobs=-1)]: Done 7160 tasks      | elapsed:   50.0s\n",
      "[Parallel(n_jobs=-1)]: Done 8410 tasks      | elapsed:   58.6s\n",
      "[Parallel(n_jobs=-1)]: Done 9760 tasks      | elapsed:  1.1min\n",
      "[Parallel(n_jobs=-1)]: Done 10000 out of 10000 | elapsed:  1.2min finished\n",
      "[Parallel(n_jobs=20)]: Using backend ThreadingBackend with 20 concurrent workers.\n",
      "[Parallel(n_jobs=20)]: Done  10 tasks      | elapsed:    0.0s\n",
      "[Parallel(n_jobs=20)]: Done 160 tasks      | elapsed:    0.1s\n"
     ]
    },
    {
     "name": "stdout",
     "output_type": "stream",
     "text": [
      "done in 72.850s.\n"
     ]
    },
    {
     "name": "stderr",
     "output_type": "stream",
     "text": [
      "[Parallel(n_jobs=20)]: Done 410 tasks      | elapsed:    0.2s\n",
      "[Parallel(n_jobs=20)]: Done 760 tasks      | elapsed:    0.3s\n",
      "[Parallel(n_jobs=20)]: Done 1210 tasks      | elapsed:    0.4s\n",
      "[Parallel(n_jobs=20)]: Done 1760 tasks      | elapsed:    0.6s\n",
      "[Parallel(n_jobs=20)]: Done 2410 tasks      | elapsed:    0.8s\n",
      "[Parallel(n_jobs=20)]: Done 3160 tasks      | elapsed:    1.1s\n",
      "[Parallel(n_jobs=20)]: Done 4010 tasks      | elapsed:    1.4s\n",
      "[Parallel(n_jobs=20)]: Done 4960 tasks      | elapsed:    1.7s\n",
      "[Parallel(n_jobs=20)]: Done 6010 tasks      | elapsed:    2.1s\n",
      "[Parallel(n_jobs=20)]: Done 7160 tasks      | elapsed:    2.5s\n",
      "[Parallel(n_jobs=20)]: Done 8410 tasks      | elapsed:    2.9s\n",
      "[Parallel(n_jobs=20)]: Done 9760 tasks      | elapsed:    3.3s\n",
      "[Parallel(n_jobs=20)]: Done 10000 out of 10000 | elapsed:    3.3s finished\n"
     ]
    },
    {
     "name": "stdout",
     "output_type": "stream",
     "text": [
      "accuracy：0.57253\n",
      "precision_avg: 0.59712\n",
      "recall_avg: 0.57253\n",
      "f1_score_avg: 0.55681\n",
      "n_estimator = 10000\n",
      "max_depth = 10\n",
      "min_samples_split = 10\n",
      "min_samples_leaf = 5\n"
     ]
    },
    {
     "name": "stderr",
     "output_type": "stream",
     "text": [
      "[Parallel(n_jobs=-1)]: Using backend ThreadingBackend with 20 concurrent workers.\n",
      "[Parallel(n_jobs=-1)]: Done  10 tasks      | elapsed:    0.2s\n",
      "[Parallel(n_jobs=-1)]: Done 160 tasks      | elapsed:    1.3s\n",
      "[Parallel(n_jobs=-1)]: Done 410 tasks      | elapsed:    3.0s\n",
      "[Parallel(n_jobs=-1)]: Done 760 tasks      | elapsed:    5.4s\n",
      "[Parallel(n_jobs=-1)]: Done 1210 tasks      | elapsed:    8.5s\n",
      "[Parallel(n_jobs=-1)]: Done 1760 tasks      | elapsed:   12.3s\n",
      "[Parallel(n_jobs=-1)]: Done 2410 tasks      | elapsed:   16.8s\n",
      "[Parallel(n_jobs=-1)]: Done 3160 tasks      | elapsed:   21.9s\n",
      "[Parallel(n_jobs=-1)]: Done 4010 tasks      | elapsed:   27.7s\n",
      "[Parallel(n_jobs=-1)]: Done 4960 tasks      | elapsed:   34.2s\n",
      "[Parallel(n_jobs=-1)]: Done 6010 tasks      | elapsed:   41.3s\n",
      "[Parallel(n_jobs=-1)]: Done 7160 tasks      | elapsed:   49.0s\n",
      "[Parallel(n_jobs=-1)]: Done 8410 tasks      | elapsed:   57.7s\n",
      "[Parallel(n_jobs=-1)]: Done 9760 tasks      | elapsed:  1.1min\n",
      "[Parallel(n_jobs=-1)]: Done 10000 out of 10000 | elapsed:  1.1min finished\n",
      "[Parallel(n_jobs=20)]: Using backend ThreadingBackend with 20 concurrent workers.\n",
      "[Parallel(n_jobs=20)]: Done  10 tasks      | elapsed:    0.0s\n",
      "[Parallel(n_jobs=20)]: Done 160 tasks      | elapsed:    0.1s\n",
      "[Parallel(n_jobs=20)]: Done 410 tasks      | elapsed:    0.2s\n"
     ]
    },
    {
     "name": "stdout",
     "output_type": "stream",
     "text": [
      "done in 71.812s.\n"
     ]
    },
    {
     "name": "stderr",
     "output_type": "stream",
     "text": [
      "[Parallel(n_jobs=20)]: Done 760 tasks      | elapsed:    0.3s\n",
      "[Parallel(n_jobs=20)]: Done 1210 tasks      | elapsed:    0.4s\n",
      "[Parallel(n_jobs=20)]: Done 1760 tasks      | elapsed:    0.6s\n",
      "[Parallel(n_jobs=20)]: Done 2410 tasks      | elapsed:    0.9s\n",
      "[Parallel(n_jobs=20)]: Done 3160 tasks      | elapsed:    1.1s\n",
      "[Parallel(n_jobs=20)]: Done 4010 tasks      | elapsed:    1.4s\n",
      "[Parallel(n_jobs=20)]: Done 4960 tasks      | elapsed:    1.8s\n",
      "[Parallel(n_jobs=20)]: Done 6010 tasks      | elapsed:    2.2s\n",
      "[Parallel(n_jobs=20)]: Done 7160 tasks      | elapsed:    2.6s\n",
      "[Parallel(n_jobs=20)]: Done 8410 tasks      | elapsed:    3.0s\n",
      "[Parallel(n_jobs=20)]: Done 9760 tasks      | elapsed:    3.5s\n",
      "[Parallel(n_jobs=20)]: Done 10000 out of 10000 | elapsed:    3.6s finished\n"
     ]
    },
    {
     "name": "stdout",
     "output_type": "stream",
     "text": [
      "accuracy：0.57180\n",
      "precision_avg: 0.59743\n",
      "recall_avg: 0.57180\n",
      "f1_score_avg: 0.55626\n",
      "n_estimator = 10000\n",
      "max_depth = 10\n",
      "min_samples_split = 50\n",
      "min_samples_leaf = 1\n"
     ]
    },
    {
     "name": "stderr",
     "output_type": "stream",
     "text": [
      "[Parallel(n_jobs=-1)]: Using backend ThreadingBackend with 20 concurrent workers.\n",
      "[Parallel(n_jobs=-1)]: Done  10 tasks      | elapsed:    0.2s\n",
      "[Parallel(n_jobs=-1)]: Done 160 tasks      | elapsed:    1.3s\n",
      "[Parallel(n_jobs=-1)]: Done 410 tasks      | elapsed:    3.1s\n",
      "[Parallel(n_jobs=-1)]: Done 760 tasks      | elapsed:    5.4s\n",
      "[Parallel(n_jobs=-1)]: Done 1210 tasks      | elapsed:    8.4s\n",
      "[Parallel(n_jobs=-1)]: Done 1760 tasks      | elapsed:   12.0s\n",
      "[Parallel(n_jobs=-1)]: Done 2410 tasks      | elapsed:   16.3s\n",
      "[Parallel(n_jobs=-1)]: Done 3160 tasks      | elapsed:   21.2s\n",
      "[Parallel(n_jobs=-1)]: Done 4010 tasks      | elapsed:   26.8s\n",
      "[Parallel(n_jobs=-1)]: Done 4960 tasks      | elapsed:   33.0s\n",
      "[Parallel(n_jobs=-1)]: Done 6010 tasks      | elapsed:   39.8s\n",
      "[Parallel(n_jobs=-1)]: Done 7160 tasks      | elapsed:   47.3s\n",
      "[Parallel(n_jobs=-1)]: Done 8410 tasks      | elapsed:   55.5s\n",
      "[Parallel(n_jobs=-1)]: Done 9760 tasks      | elapsed:  1.1min\n",
      "[Parallel(n_jobs=-1)]: Done 10000 out of 10000 | elapsed:  1.1min finished\n",
      "[Parallel(n_jobs=20)]: Using backend ThreadingBackend with 20 concurrent workers.\n",
      "[Parallel(n_jobs=20)]: Done  10 tasks      | elapsed:    0.0s\n",
      "[Parallel(n_jobs=20)]: Done 160 tasks      | elapsed:    0.1s\n"
     ]
    },
    {
     "name": "stdout",
     "output_type": "stream",
     "text": [
      "done in 69.407s.\n"
     ]
    },
    {
     "name": "stderr",
     "output_type": "stream",
     "text": [
      "[Parallel(n_jobs=20)]: Done 410 tasks      | elapsed:    0.2s\n",
      "[Parallel(n_jobs=20)]: Done 760 tasks      | elapsed:    0.3s\n",
      "[Parallel(n_jobs=20)]: Done 1210 tasks      | elapsed:    0.4s\n",
      "[Parallel(n_jobs=20)]: Done 1760 tasks      | elapsed:    0.6s\n",
      "[Parallel(n_jobs=20)]: Done 2410 tasks      | elapsed:    0.8s\n",
      "[Parallel(n_jobs=20)]: Done 3160 tasks      | elapsed:    1.1s\n",
      "[Parallel(n_jobs=20)]: Done 4010 tasks      | elapsed:    1.4s\n",
      "[Parallel(n_jobs=20)]: Done 4960 tasks      | elapsed:    1.7s\n",
      "[Parallel(n_jobs=20)]: Done 6010 tasks      | elapsed:    2.1s\n",
      "[Parallel(n_jobs=20)]: Done 7160 tasks      | elapsed:    2.5s\n",
      "[Parallel(n_jobs=20)]: Done 8410 tasks      | elapsed:    2.9s\n",
      "[Parallel(n_jobs=20)]: Done 9760 tasks      | elapsed:    3.4s\n",
      "[Parallel(n_jobs=20)]: Done 10000 out of 10000 | elapsed:    3.4s finished\n"
     ]
    },
    {
     "name": "stdout",
     "output_type": "stream",
     "text": [
      "accuracy：0.57193\n",
      "precision_avg: 0.59734\n",
      "recall_avg: 0.57193\n",
      "f1_score_avg: 0.55647\n",
      "n_estimator = 10000\n",
      "max_depth = 10\n",
      "min_samples_split = 50\n",
      "min_samples_leaf = 5\n"
     ]
    },
    {
     "name": "stderr",
     "output_type": "stream",
     "text": [
      "[Parallel(n_jobs=-1)]: Using backend ThreadingBackend with 20 concurrent workers.\n",
      "[Parallel(n_jobs=-1)]: Done  10 tasks      | elapsed:    0.2s\n",
      "[Parallel(n_jobs=-1)]: Done 160 tasks      | elapsed:    1.3s\n",
      "[Parallel(n_jobs=-1)]: Done 410 tasks      | elapsed:    3.0s\n",
      "[Parallel(n_jobs=-1)]: Done 760 tasks      | elapsed:    5.3s\n",
      "[Parallel(n_jobs=-1)]: Done 1210 tasks      | elapsed:    8.3s\n",
      "[Parallel(n_jobs=-1)]: Done 1760 tasks      | elapsed:   11.9s\n",
      "[Parallel(n_jobs=-1)]: Done 2410 tasks      | elapsed:   16.1s\n",
      "[Parallel(n_jobs=-1)]: Done 3160 tasks      | elapsed:   21.0s\n",
      "[Parallel(n_jobs=-1)]: Done 4010 tasks      | elapsed:   26.5s\n",
      "[Parallel(n_jobs=-1)]: Done 4960 tasks      | elapsed:   32.7s\n",
      "[Parallel(n_jobs=-1)]: Done 6010 tasks      | elapsed:   39.5s\n",
      "[Parallel(n_jobs=-1)]: Done 7160 tasks      | elapsed:   46.9s\n",
      "[Parallel(n_jobs=-1)]: Done 8410 tasks      | elapsed:   55.1s\n",
      "[Parallel(n_jobs=-1)]: Done 9760 tasks      | elapsed:  1.1min\n",
      "[Parallel(n_jobs=-1)]: Done 10000 out of 10000 | elapsed:  1.1min finished\n",
      "[Parallel(n_jobs=20)]: Using backend ThreadingBackend with 20 concurrent workers.\n",
      "[Parallel(n_jobs=20)]: Done  10 tasks      | elapsed:    0.0s\n",
      "[Parallel(n_jobs=20)]: Done 160 tasks      | elapsed:    0.1s\n",
      "[Parallel(n_jobs=20)]: Done 410 tasks      | elapsed:    0.1s\n"
     ]
    },
    {
     "name": "stdout",
     "output_type": "stream",
     "text": [
      "done in 68.609s.\n"
     ]
    },
    {
     "name": "stderr",
     "output_type": "stream",
     "text": [
      "[Parallel(n_jobs=20)]: Done 760 tasks      | elapsed:    0.3s\n",
      "[Parallel(n_jobs=20)]: Done 1210 tasks      | elapsed:    0.4s\n",
      "[Parallel(n_jobs=20)]: Done 1760 tasks      | elapsed:    0.6s\n",
      "[Parallel(n_jobs=20)]: Done 2410 tasks      | elapsed:    0.8s\n",
      "[Parallel(n_jobs=20)]: Done 3160 tasks      | elapsed:    1.1s\n",
      "[Parallel(n_jobs=20)]: Done 4010 tasks      | elapsed:    1.4s\n",
      "[Parallel(n_jobs=20)]: Done 4960 tasks      | elapsed:    1.7s\n",
      "[Parallel(n_jobs=20)]: Done 6010 tasks      | elapsed:    2.1s\n",
      "[Parallel(n_jobs=20)]: Done 7160 tasks      | elapsed:    2.4s\n",
      "[Parallel(n_jobs=20)]: Done 8410 tasks      | elapsed:    2.8s\n",
      "[Parallel(n_jobs=20)]: Done 9760 tasks      | elapsed:    3.3s\n",
      "[Parallel(n_jobs=20)]: Done 10000 out of 10000 | elapsed:    3.3s finished\n"
     ]
    },
    {
     "name": "stdout",
     "output_type": "stream",
     "text": [
      "accuracy：0.57147\n",
      "precision_avg: 0.59743\n",
      "recall_avg: 0.57147\n",
      "f1_score_avg: 0.55588\n",
      "n_estimator = 10000\n",
      "max_depth = 10\n",
      "min_samples_split = 50\n",
      "min_samples_leaf = 10\n"
     ]
    },
    {
     "name": "stderr",
     "output_type": "stream",
     "text": [
      "[Parallel(n_jobs=-1)]: Using backend ThreadingBackend with 20 concurrent workers.\n",
      "[Parallel(n_jobs=-1)]: Done  10 tasks      | elapsed:    0.2s\n",
      "[Parallel(n_jobs=-1)]: Done 160 tasks      | elapsed:    1.2s\n",
      "[Parallel(n_jobs=-1)]: Done 410 tasks      | elapsed:    2.8s\n",
      "[Parallel(n_jobs=-1)]: Done 760 tasks      | elapsed:    5.1s\n",
      "[Parallel(n_jobs=-1)]: Done 1210 tasks      | elapsed:    8.1s\n",
      "[Parallel(n_jobs=-1)]: Done 1760 tasks      | elapsed:   11.6s\n",
      "[Parallel(n_jobs=-1)]: Done 2410 tasks      | elapsed:   15.8s\n",
      "[Parallel(n_jobs=-1)]: Done 3160 tasks      | elapsed:   20.6s\n",
      "[Parallel(n_jobs=-1)]: Done 4010 tasks      | elapsed:   26.2s\n",
      "[Parallel(n_jobs=-1)]: Done 4960 tasks      | elapsed:   32.5s\n",
      "[Parallel(n_jobs=-1)]: Done 6010 tasks      | elapsed:   39.3s\n",
      "[Parallel(n_jobs=-1)]: Done 7160 tasks      | elapsed:   46.7s\n",
      "[Parallel(n_jobs=-1)]: Done 8410 tasks      | elapsed:   54.8s\n",
      "[Parallel(n_jobs=-1)]: Done 9760 tasks      | elapsed:  1.1min\n",
      "[Parallel(n_jobs=-1)]: Done 10000 out of 10000 | elapsed:  1.1min finished\n",
      "[Parallel(n_jobs=20)]: Using backend ThreadingBackend with 20 concurrent workers.\n",
      "[Parallel(n_jobs=20)]: Done  10 tasks      | elapsed:    0.0s\n",
      "[Parallel(n_jobs=20)]: Done 160 tasks      | elapsed:    0.1s\n",
      "[Parallel(n_jobs=20)]: Done 410 tasks      | elapsed:    0.1s\n"
     ]
    },
    {
     "name": "stdout",
     "output_type": "stream",
     "text": [
      "done in 68.344s.\n"
     ]
    },
    {
     "name": "stderr",
     "output_type": "stream",
     "text": [
      "[Parallel(n_jobs=20)]: Done 760 tasks      | elapsed:    0.3s\n",
      "[Parallel(n_jobs=20)]: Done 1210 tasks      | elapsed:    0.4s\n",
      "[Parallel(n_jobs=20)]: Done 1760 tasks      | elapsed:    0.6s\n",
      "[Parallel(n_jobs=20)]: Done 2410 tasks      | elapsed:    0.8s\n",
      "[Parallel(n_jobs=20)]: Done 3160 tasks      | elapsed:    1.1s\n",
      "[Parallel(n_jobs=20)]: Done 4010 tasks      | elapsed:    1.4s\n",
      "[Parallel(n_jobs=20)]: Done 4960 tasks      | elapsed:    1.7s\n",
      "[Parallel(n_jobs=20)]: Done 6010 tasks      | elapsed:    2.0s\n",
      "[Parallel(n_jobs=20)]: Done 7160 tasks      | elapsed:    2.4s\n",
      "[Parallel(n_jobs=20)]: Done 8410 tasks      | elapsed:    2.9s\n",
      "[Parallel(n_jobs=20)]: Done 9760 tasks      | elapsed:    3.3s\n",
      "[Parallel(n_jobs=20)]: Done 10000 out of 10000 | elapsed:    3.4s finished\n"
     ]
    },
    {
     "name": "stdout",
     "output_type": "stream",
     "text": [
      "accuracy：0.57080\n",
      "precision_avg: 0.59710\n",
      "recall_avg: 0.57080\n",
      "f1_score_avg: 0.55522\n",
      "n_estimator = 10000\n",
      "max_depth = 10\n",
      "min_samples_split = 50\n",
      "min_samples_leaf = 20\n"
     ]
    },
    {
     "name": "stderr",
     "output_type": "stream",
     "text": [
      "[Parallel(n_jobs=-1)]: Using backend ThreadingBackend with 20 concurrent workers.\n",
      "[Parallel(n_jobs=-1)]: Done  10 tasks      | elapsed:    0.2s\n",
      "[Parallel(n_jobs=-1)]: Done 160 tasks      | elapsed:    1.2s\n",
      "[Parallel(n_jobs=-1)]: Done 410 tasks      | elapsed:    2.8s\n",
      "[Parallel(n_jobs=-1)]: Done 760 tasks      | elapsed:    5.1s\n",
      "[Parallel(n_jobs=-1)]: Done 1210 tasks      | elapsed:    8.0s\n",
      "[Parallel(n_jobs=-1)]: Done 1760 tasks      | elapsed:   11.5s\n",
      "[Parallel(n_jobs=-1)]: Done 2410 tasks      | elapsed:   15.7s\n",
      "[Parallel(n_jobs=-1)]: Done 3160 tasks      | elapsed:   20.4s\n",
      "[Parallel(n_jobs=-1)]: Done 4010 tasks      | elapsed:   25.9s\n",
      "[Parallel(n_jobs=-1)]: Done 4960 tasks      | elapsed:   32.0s\n",
      "[Parallel(n_jobs=-1)]: Done 6010 tasks      | elapsed:   39.0s\n",
      "[Parallel(n_jobs=-1)]: Done 7160 tasks      | elapsed:   46.3s\n",
      "[Parallel(n_jobs=-1)]: Done 8410 tasks      | elapsed:   54.3s\n",
      "[Parallel(n_jobs=-1)]: Done 9760 tasks      | elapsed:  1.0min\n",
      "[Parallel(n_jobs=-1)]: Done 10000 out of 10000 | elapsed:  1.1min finished\n",
      "[Parallel(n_jobs=20)]: Using backend ThreadingBackend with 20 concurrent workers.\n",
      "[Parallel(n_jobs=20)]: Done  10 tasks      | elapsed:    0.0s\n",
      "[Parallel(n_jobs=20)]: Done 160 tasks      | elapsed:    0.1s\n"
     ]
    },
    {
     "name": "stdout",
     "output_type": "stream",
     "text": [
      "done in 67.600s.\n"
     ]
    },
    {
     "name": "stderr",
     "output_type": "stream",
     "text": [
      "[Parallel(n_jobs=20)]: Done 410 tasks      | elapsed:    0.1s\n",
      "[Parallel(n_jobs=20)]: Done 760 tasks      | elapsed:    0.3s\n",
      "[Parallel(n_jobs=20)]: Done 1210 tasks      | elapsed:    0.4s\n",
      "[Parallel(n_jobs=20)]: Done 1760 tasks      | elapsed:    0.6s\n",
      "[Parallel(n_jobs=20)]: Done 2410 tasks      | elapsed:    0.8s\n",
      "[Parallel(n_jobs=20)]: Done 3160 tasks      | elapsed:    1.1s\n",
      "[Parallel(n_jobs=20)]: Done 4010 tasks      | elapsed:    1.4s\n",
      "[Parallel(n_jobs=20)]: Done 4960 tasks      | elapsed:    1.7s\n",
      "[Parallel(n_jobs=20)]: Done 6010 tasks      | elapsed:    2.1s\n",
      "[Parallel(n_jobs=20)]: Done 7160 tasks      | elapsed:    2.5s\n",
      "[Parallel(n_jobs=20)]: Done 8410 tasks      | elapsed:    2.9s\n",
      "[Parallel(n_jobs=20)]: Done 9760 tasks      | elapsed:    3.4s\n",
      "[Parallel(n_jobs=20)]: Done 10000 out of 10000 | elapsed:    3.4s finished\n"
     ]
    },
    {
     "name": "stdout",
     "output_type": "stream",
     "text": [
      "accuracy：0.57013\n",
      "precision_avg: 0.59744\n",
      "recall_avg: 0.57013\n",
      "f1_score_avg: 0.55432\n",
      "n_estimator = 10000\n",
      "max_depth = 20\n",
      "min_samples_split = 2\n",
      "min_samples_leaf = 1\n"
     ]
    },
    {
     "name": "stderr",
     "output_type": "stream",
     "text": [
      "[Parallel(n_jobs=-1)]: Using backend ThreadingBackend with 20 concurrent workers.\n",
      "[Parallel(n_jobs=-1)]: Done  10 tasks      | elapsed:    0.5s\n",
      "[Parallel(n_jobs=-1)]: Done 160 tasks      | elapsed:    4.0s\n",
      "[Parallel(n_jobs=-1)]: Done 410 tasks      | elapsed:    9.6s\n",
      "[Parallel(n_jobs=-1)]: Done 760 tasks      | elapsed:   17.4s\n",
      "[Parallel(n_jobs=-1)]: Done 1210 tasks      | elapsed:   27.6s\n",
      "[Parallel(n_jobs=-1)]: Done 1760 tasks      | elapsed:   40.1s\n",
      "[Parallel(n_jobs=-1)]: Done 2410 tasks      | elapsed:   54.9s\n",
      "[Parallel(n_jobs=-1)]: Done 3160 tasks      | elapsed:  1.2min\n",
      "[Parallel(n_jobs=-1)]: Done 4010 tasks      | elapsed:  1.5min\n",
      "[Parallel(n_jobs=-1)]: Done 4960 tasks      | elapsed:  1.9min\n",
      "[Parallel(n_jobs=-1)]: Done 6010 tasks      | elapsed:  2.3min\n",
      "[Parallel(n_jobs=-1)]: Done 7160 tasks      | elapsed:  2.7min\n",
      "[Parallel(n_jobs=-1)]: Done 8410 tasks      | elapsed:  3.2min\n",
      "[Parallel(n_jobs=-1)]: Done 9760 tasks      | elapsed:  3.7min\n",
      "[Parallel(n_jobs=-1)]: Done 10000 out of 10000 | elapsed:  3.8min finished\n",
      "[Parallel(n_jobs=20)]: Using backend ThreadingBackend with 20 concurrent workers.\n",
      "[Parallel(n_jobs=20)]: Done  10 tasks      | elapsed:    0.0s\n",
      "[Parallel(n_jobs=20)]: Done 160 tasks      | elapsed:    0.1s\n"
     ]
    },
    {
     "name": "stdout",
     "output_type": "stream",
     "text": [
      "done in 229.482s.\n"
     ]
    },
    {
     "name": "stderr",
     "output_type": "stream",
     "text": [
      "[Parallel(n_jobs=20)]: Done 410 tasks      | elapsed:    0.2s\n",
      "[Parallel(n_jobs=20)]: Done 760 tasks      | elapsed:    0.3s\n",
      "[Parallel(n_jobs=20)]: Done 1210 tasks      | elapsed:    0.4s\n",
      "[Parallel(n_jobs=20)]: Done 1760 tasks      | elapsed:    0.6s\n",
      "[Parallel(n_jobs=20)]: Done 2410 tasks      | elapsed:    0.8s\n",
      "[Parallel(n_jobs=20)]: Done 3160 tasks      | elapsed:    1.1s\n",
      "[Parallel(n_jobs=20)]: Done 4010 tasks      | elapsed:    1.4s\n",
      "[Parallel(n_jobs=20)]: Done 4960 tasks      | elapsed:    1.8s\n",
      "[Parallel(n_jobs=20)]: Done 6010 tasks      | elapsed:    2.2s\n",
      "[Parallel(n_jobs=20)]: Done 7160 tasks      | elapsed:    2.6s\n",
      "[Parallel(n_jobs=20)]: Done 8410 tasks      | elapsed:    3.1s\n",
      "[Parallel(n_jobs=20)]: Done 9760 tasks      | elapsed:    3.6s\n",
      "[Parallel(n_jobs=20)]: Done 10000 out of 10000 | elapsed:    3.7s finished\n"
     ]
    },
    {
     "name": "stdout",
     "output_type": "stream",
     "text": [
      "accuracy：0.59240\n",
      "precision_avg: 0.60177\n",
      "recall_avg: 0.59240\n",
      "f1_score_avg: 0.57954\n",
      "n_estimator = 10000\n",
      "max_depth = 20\n",
      "min_samples_split = 10\n",
      "min_samples_leaf = 1\n"
     ]
    },
    {
     "name": "stderr",
     "output_type": "stream",
     "text": [
      "[Parallel(n_jobs=-1)]: Using backend ThreadingBackend with 20 concurrent workers.\n",
      "[Parallel(n_jobs=-1)]: Done  10 tasks      | elapsed:    0.5s\n",
      "[Parallel(n_jobs=-1)]: Done 160 tasks      | elapsed:    3.6s\n",
      "[Parallel(n_jobs=-1)]: Done 410 tasks      | elapsed:    8.8s\n",
      "[Parallel(n_jobs=-1)]: Done 760 tasks      | elapsed:   16.1s\n",
      "[Parallel(n_jobs=-1)]: Done 1210 tasks      | elapsed:   25.5s\n",
      "[Parallel(n_jobs=-1)]: Done 1760 tasks      | elapsed:   36.8s\n",
      "[Parallel(n_jobs=-1)]: Done 2410 tasks      | elapsed:   50.3s\n",
      "[Parallel(n_jobs=-1)]: Done 3160 tasks      | elapsed:  1.1min\n",
      "[Parallel(n_jobs=-1)]: Done 4010 tasks      | elapsed:  1.4min\n",
      "[Parallel(n_jobs=-1)]: Done 4960 tasks      | elapsed:  1.7min\n",
      "[Parallel(n_jobs=-1)]: Done 6010 tasks      | elapsed:  2.1min\n",
      "[Parallel(n_jobs=-1)]: Done 7160 tasks      | elapsed:  2.5min\n",
      "[Parallel(n_jobs=-1)]: Done 8410 tasks      | elapsed:  2.9min\n",
      "[Parallel(n_jobs=-1)]: Done 9760 tasks      | elapsed:  3.4min\n",
      "[Parallel(n_jobs=-1)]: Done 10000 out of 10000 | elapsed:  3.4min finished\n",
      "[Parallel(n_jobs=20)]: Using backend ThreadingBackend with 20 concurrent workers.\n",
      "[Parallel(n_jobs=20)]: Done  10 tasks      | elapsed:    0.0s\n",
      "[Parallel(n_jobs=20)]: Done 160 tasks      | elapsed:    0.1s\n"
     ]
    },
    {
     "name": "stdout",
     "output_type": "stream",
     "text": [
      "done in 209.915s.\n"
     ]
    },
    {
     "name": "stderr",
     "output_type": "stream",
     "text": [
      "[Parallel(n_jobs=20)]: Done 410 tasks      | elapsed:    0.2s\n",
      "[Parallel(n_jobs=20)]: Done 760 tasks      | elapsed:    0.3s\n",
      "[Parallel(n_jobs=20)]: Done 1210 tasks      | elapsed:    0.4s\n",
      "[Parallel(n_jobs=20)]: Done 1760 tasks      | elapsed:    0.6s\n",
      "[Parallel(n_jobs=20)]: Done 2410 tasks      | elapsed:    0.8s\n",
      "[Parallel(n_jobs=20)]: Done 3160 tasks      | elapsed:    1.1s\n",
      "[Parallel(n_jobs=20)]: Done 4010 tasks      | elapsed:    1.4s\n",
      "[Parallel(n_jobs=20)]: Done 4960 tasks      | elapsed:    1.7s\n",
      "[Parallel(n_jobs=20)]: Done 6010 tasks      | elapsed:    2.1s\n",
      "[Parallel(n_jobs=20)]: Done 7160 tasks      | elapsed:    2.4s\n",
      "[Parallel(n_jobs=20)]: Done 8410 tasks      | elapsed:    2.9s\n",
      "[Parallel(n_jobs=20)]: Done 9760 tasks      | elapsed:    3.3s\n",
      "[Parallel(n_jobs=20)]: Done 10000 out of 10000 | elapsed:    3.3s finished\n"
     ]
    },
    {
     "name": "stdout",
     "output_type": "stream",
     "text": [
      "accuracy：0.59173\n",
      "precision_avg: 0.60172\n",
      "recall_avg: 0.59173\n",
      "f1_score_avg: 0.57913\n",
      "n_estimator = 10000\n",
      "max_depth = 20\n",
      "min_samples_split = 10\n",
      "min_samples_leaf = 5\n"
     ]
    },
    {
     "name": "stderr",
     "output_type": "stream",
     "text": [
      "[Parallel(n_jobs=-1)]: Using backend ThreadingBackend with 20 concurrent workers.\n",
      "[Parallel(n_jobs=-1)]: Done  10 tasks      | elapsed:    0.4s\n",
      "[Parallel(n_jobs=-1)]: Done 160 tasks      | elapsed:    3.3s\n",
      "[Parallel(n_jobs=-1)]: Done 410 tasks      | elapsed:    8.1s\n",
      "[Parallel(n_jobs=-1)]: Done 760 tasks      | elapsed:   14.7s\n",
      "[Parallel(n_jobs=-1)]: Done 1210 tasks      | elapsed:   23.3s\n",
      "[Parallel(n_jobs=-1)]: Done 1760 tasks      | elapsed:   33.7s\n",
      "[Parallel(n_jobs=-1)]: Done 2410 tasks      | elapsed:   46.0s\n",
      "[Parallel(n_jobs=-1)]: Done 3160 tasks      | elapsed:   59.9s\n",
      "[Parallel(n_jobs=-1)]: Done 4010 tasks      | elapsed:  1.3min\n",
      "[Parallel(n_jobs=-1)]: Done 4960 tasks      | elapsed:  1.6min\n",
      "[Parallel(n_jobs=-1)]: Done 6010 tasks      | elapsed:  1.9min\n",
      "[Parallel(n_jobs=-1)]: Done 7160 tasks      | elapsed:  2.3min\n",
      "[Parallel(n_jobs=-1)]: Done 8410 tasks      | elapsed:  2.6min\n",
      "[Parallel(n_jobs=-1)]: Done 9760 tasks      | elapsed:  3.1min\n",
      "[Parallel(n_jobs=-1)]: Done 10000 out of 10000 | elapsed:  3.1min finished\n",
      "[Parallel(n_jobs=20)]: Using backend ThreadingBackend with 20 concurrent workers.\n",
      "[Parallel(n_jobs=20)]: Done  10 tasks      | elapsed:    0.0s\n",
      "[Parallel(n_jobs=20)]: Done 160 tasks      | elapsed:    0.1s\n",
      "[Parallel(n_jobs=20)]: Done 410 tasks      | elapsed:    0.2s\n"
     ]
    },
    {
     "name": "stdout",
     "output_type": "stream",
     "text": [
      "done in 192.119s.\n"
     ]
    },
    {
     "name": "stderr",
     "output_type": "stream",
     "text": [
      "[Parallel(n_jobs=20)]: Done 760 tasks      | elapsed:    0.3s\n",
      "[Parallel(n_jobs=20)]: Done 1210 tasks      | elapsed:    0.4s\n",
      "[Parallel(n_jobs=20)]: Done 1760 tasks      | elapsed:    0.6s\n",
      "[Parallel(n_jobs=20)]: Done 2410 tasks      | elapsed:    0.8s\n",
      "[Parallel(n_jobs=20)]: Done 3160 tasks      | elapsed:    1.1s\n",
      "[Parallel(n_jobs=20)]: Done 4010 tasks      | elapsed:    1.4s\n",
      "[Parallel(n_jobs=20)]: Done 4960 tasks      | elapsed:    1.7s\n",
      "[Parallel(n_jobs=20)]: Done 6010 tasks      | elapsed:    2.1s\n",
      "[Parallel(n_jobs=20)]: Done 7160 tasks      | elapsed:    2.5s\n",
      "[Parallel(n_jobs=20)]: Done 8410 tasks      | elapsed:    2.9s\n",
      "[Parallel(n_jobs=20)]: Done 9760 tasks      | elapsed:    3.4s\n",
      "[Parallel(n_jobs=20)]: Done 10000 out of 10000 | elapsed:    3.4s finished\n"
     ]
    },
    {
     "name": "stdout",
     "output_type": "stream",
     "text": [
      "accuracy：0.58940\n",
      "precision_avg: 0.60406\n",
      "recall_avg: 0.58940\n",
      "f1_score_avg: 0.57747\n",
      "n_estimator = 10000\n",
      "max_depth = 20\n",
      "min_samples_split = 50\n",
      "min_samples_leaf = 1\n"
     ]
    },
    {
     "name": "stderr",
     "output_type": "stream",
     "text": [
      "[Parallel(n_jobs=-1)]: Using backend ThreadingBackend with 20 concurrent workers.\n",
      "[Parallel(n_jobs=-1)]: Done  10 tasks      | elapsed:    0.4s\n",
      "[Parallel(n_jobs=-1)]: Done 160 tasks      | elapsed:    3.1s\n",
      "[Parallel(n_jobs=-1)]: Done 410 tasks      | elapsed:    7.5s\n",
      "[Parallel(n_jobs=-1)]: Done 760 tasks      | elapsed:   13.6s\n",
      "[Parallel(n_jobs=-1)]: Done 1210 tasks      | elapsed:   21.5s\n",
      "[Parallel(n_jobs=-1)]: Done 1760 tasks      | elapsed:   31.2s\n",
      "[Parallel(n_jobs=-1)]: Done 2410 tasks      | elapsed:   42.6s\n",
      "[Parallel(n_jobs=-1)]: Done 3160 tasks      | elapsed:   55.7s\n",
      "[Parallel(n_jobs=-1)]: Done 4010 tasks      | elapsed:  1.2min\n",
      "[Parallel(n_jobs=-1)]: Done 4960 tasks      | elapsed:  1.5min\n",
      "[Parallel(n_jobs=-1)]: Done 6010 tasks      | elapsed:  1.8min\n",
      "[Parallel(n_jobs=-1)]: Done 7160 tasks      | elapsed:  2.1min\n",
      "[Parallel(n_jobs=-1)]: Done 8410 tasks      | elapsed:  2.5min\n",
      "[Parallel(n_jobs=-1)]: Done 9760 tasks      | elapsed:  2.9min\n",
      "[Parallel(n_jobs=-1)]: Done 10000 out of 10000 | elapsed:  2.9min finished\n",
      "[Parallel(n_jobs=20)]: Using backend ThreadingBackend with 20 concurrent workers.\n",
      "[Parallel(n_jobs=20)]: Done  10 tasks      | elapsed:    0.0s\n",
      "[Parallel(n_jobs=20)]: Done 160 tasks      | elapsed:    0.1s\n"
     ]
    },
    {
     "name": "stdout",
     "output_type": "stream",
     "text": [
      "done in 179.032s.\n"
     ]
    },
    {
     "name": "stderr",
     "output_type": "stream",
     "text": [
      "[Parallel(n_jobs=20)]: Done 410 tasks      | elapsed:    0.2s\n",
      "[Parallel(n_jobs=20)]: Done 760 tasks      | elapsed:    0.3s\n",
      "[Parallel(n_jobs=20)]: Done 1210 tasks      | elapsed:    0.4s\n",
      "[Parallel(n_jobs=20)]: Done 1760 tasks      | elapsed:    0.6s\n",
      "[Parallel(n_jobs=20)]: Done 2410 tasks      | elapsed:    0.8s\n",
      "[Parallel(n_jobs=20)]: Done 3160 tasks      | elapsed:    1.1s\n",
      "[Parallel(n_jobs=20)]: Done 4010 tasks      | elapsed:    1.4s\n",
      "[Parallel(n_jobs=20)]: Done 4960 tasks      | elapsed:    1.7s\n",
      "[Parallel(n_jobs=20)]: Done 6010 tasks      | elapsed:    2.1s\n",
      "[Parallel(n_jobs=20)]: Done 7160 tasks      | elapsed:    2.5s\n",
      "[Parallel(n_jobs=20)]: Done 8410 tasks      | elapsed:    2.9s\n",
      "[Parallel(n_jobs=20)]: Done 9760 tasks      | elapsed:    3.3s\n",
      "[Parallel(n_jobs=20)]: Done 10000 out of 10000 | elapsed:    3.4s finished\n"
     ]
    },
    {
     "name": "stdout",
     "output_type": "stream",
     "text": [
      "accuracy：0.59047\n",
      "precision_avg: 0.60413\n",
      "recall_avg: 0.59047\n",
      "f1_score_avg: 0.57856\n",
      "n_estimator = 10000\n",
      "max_depth = 20\n",
      "min_samples_split = 50\n",
      "min_samples_leaf = 5\n"
     ]
    },
    {
     "name": "stderr",
     "output_type": "stream",
     "text": [
      "[Parallel(n_jobs=-1)]: Using backend ThreadingBackend with 20 concurrent workers.\n",
      "[Parallel(n_jobs=-1)]: Done  10 tasks      | elapsed:    0.4s\n",
      "[Parallel(n_jobs=-1)]: Done 160 tasks      | elapsed:    2.9s\n",
      "[Parallel(n_jobs=-1)]: Done 410 tasks      | elapsed:    7.2s\n",
      "[Parallel(n_jobs=-1)]: Done 760 tasks      | elapsed:   13.1s\n",
      "[Parallel(n_jobs=-1)]: Done 1210 tasks      | elapsed:   20.7s\n",
      "[Parallel(n_jobs=-1)]: Done 1760 tasks      | elapsed:   30.0s\n",
      "[Parallel(n_jobs=-1)]: Done 2410 tasks      | elapsed:   40.9s\n",
      "[Parallel(n_jobs=-1)]: Done 3160 tasks      | elapsed:   53.7s\n",
      "[Parallel(n_jobs=-1)]: Done 4010 tasks      | elapsed:  1.1min\n",
      "[Parallel(n_jobs=-1)]: Done 4960 tasks      | elapsed:  1.4min\n",
      "[Parallel(n_jobs=-1)]: Done 6010 tasks      | elapsed:  1.7min\n",
      "[Parallel(n_jobs=-1)]: Done 7160 tasks      | elapsed:  2.0min\n",
      "[Parallel(n_jobs=-1)]: Done 8410 tasks      | elapsed:  2.4min\n",
      "[Parallel(n_jobs=-1)]: Done 9760 tasks      | elapsed:  2.8min\n",
      "[Parallel(n_jobs=-1)]: Done 10000 out of 10000 | elapsed:  2.8min finished\n",
      "[Parallel(n_jobs=20)]: Using backend ThreadingBackend with 20 concurrent workers.\n",
      "[Parallel(n_jobs=20)]: Done  10 tasks      | elapsed:    0.0s\n",
      "[Parallel(n_jobs=20)]: Done 160 tasks      | elapsed:    0.1s\n",
      "[Parallel(n_jobs=20)]: Done 410 tasks      | elapsed:    0.2s\n"
     ]
    },
    {
     "name": "stdout",
     "output_type": "stream",
     "text": [
      "done in 172.656s.\n"
     ]
    },
    {
     "name": "stderr",
     "output_type": "stream",
     "text": [
      "[Parallel(n_jobs=20)]: Done 760 tasks      | elapsed:    0.3s\n",
      "[Parallel(n_jobs=20)]: Done 1210 tasks      | elapsed:    0.4s\n",
      "[Parallel(n_jobs=20)]: Done 1760 tasks      | elapsed:    0.6s\n",
      "[Parallel(n_jobs=20)]: Done 2410 tasks      | elapsed:    0.9s\n",
      "[Parallel(n_jobs=20)]: Done 3160 tasks      | elapsed:    1.1s\n",
      "[Parallel(n_jobs=20)]: Done 4010 tasks      | elapsed:    1.4s\n",
      "[Parallel(n_jobs=20)]: Done 4960 tasks      | elapsed:    1.8s\n",
      "[Parallel(n_jobs=20)]: Done 6010 tasks      | elapsed:    2.2s\n",
      "[Parallel(n_jobs=20)]: Done 7160 tasks      | elapsed:    2.5s\n",
      "[Parallel(n_jobs=20)]: Done 8410 tasks      | elapsed:    3.0s\n",
      "[Parallel(n_jobs=20)]: Done 9760 tasks      | elapsed:    3.5s\n",
      "[Parallel(n_jobs=20)]: Done 10000 out of 10000 | elapsed:    3.5s finished\n"
     ]
    },
    {
     "name": "stdout",
     "output_type": "stream",
     "text": [
      "accuracy：0.58860\n",
      "precision_avg: 0.60438\n",
      "recall_avg: 0.58860\n",
      "f1_score_avg: 0.57680\n",
      "n_estimator = 10000\n",
      "max_depth = 20\n",
      "min_samples_split = 50\n",
      "min_samples_leaf = 10\n"
     ]
    },
    {
     "name": "stderr",
     "output_type": "stream",
     "text": [
      "[Parallel(n_jobs=-1)]: Using backend ThreadingBackend with 20 concurrent workers.\n",
      "[Parallel(n_jobs=-1)]: Done  10 tasks      | elapsed:    0.4s\n",
      "[Parallel(n_jobs=-1)]: Done 160 tasks      | elapsed:    2.9s\n",
      "[Parallel(n_jobs=-1)]: Done 410 tasks      | elapsed:    7.0s\n",
      "[Parallel(n_jobs=-1)]: Done 760 tasks      | elapsed:   12.7s\n",
      "[Parallel(n_jobs=-1)]: Done 1210 tasks      | elapsed:   20.0s\n",
      "[Parallel(n_jobs=-1)]: Done 1760 tasks      | elapsed:   28.9s\n",
      "[Parallel(n_jobs=-1)]: Done 2410 tasks      | elapsed:   39.2s\n",
      "[Parallel(n_jobs=-1)]: Done 3160 tasks      | elapsed:   51.2s\n",
      "[Parallel(n_jobs=-1)]: Done 4010 tasks      | elapsed:  1.1min\n",
      "[Parallel(n_jobs=-1)]: Done 4960 tasks      | elapsed:  1.3min\n",
      "[Parallel(n_jobs=-1)]: Done 6010 tasks      | elapsed:  1.6min\n",
      "[Parallel(n_jobs=-1)]: Done 7160 tasks      | elapsed:  1.9min\n",
      "[Parallel(n_jobs=-1)]: Done 8410 tasks      | elapsed:  2.3min\n",
      "[Parallel(n_jobs=-1)]: Done 9760 tasks      | elapsed:  2.6min\n",
      "[Parallel(n_jobs=-1)]: Done 10000 out of 10000 | elapsed:  2.7min finished\n",
      "[Parallel(n_jobs=20)]: Using backend ThreadingBackend with 20 concurrent workers.\n",
      "[Parallel(n_jobs=20)]: Done  10 tasks      | elapsed:    0.0s\n",
      "[Parallel(n_jobs=20)]: Done 160 tasks      | elapsed:    0.1s\n"
     ]
    },
    {
     "name": "stdout",
     "output_type": "stream",
     "text": [
      "done in 164.428s.\n"
     ]
    },
    {
     "name": "stderr",
     "output_type": "stream",
     "text": [
      "[Parallel(n_jobs=20)]: Done 410 tasks      | elapsed:    0.2s\n",
      "[Parallel(n_jobs=20)]: Done 760 tasks      | elapsed:    0.3s\n",
      "[Parallel(n_jobs=20)]: Done 1210 tasks      | elapsed:    0.5s\n",
      "[Parallel(n_jobs=20)]: Done 1760 tasks      | elapsed:    0.7s\n",
      "[Parallel(n_jobs=20)]: Done 2410 tasks      | elapsed:    0.9s\n",
      "[Parallel(n_jobs=20)]: Done 3160 tasks      | elapsed:    1.2s\n",
      "[Parallel(n_jobs=20)]: Done 4010 tasks      | elapsed:    1.5s\n",
      "[Parallel(n_jobs=20)]: Done 4960 tasks      | elapsed:    1.8s\n",
      "[Parallel(n_jobs=20)]: Done 6010 tasks      | elapsed:    2.2s\n",
      "[Parallel(n_jobs=20)]: Done 7160 tasks      | elapsed:    2.6s\n",
      "[Parallel(n_jobs=20)]: Done 8410 tasks      | elapsed:    3.0s\n",
      "[Parallel(n_jobs=20)]: Done 9760 tasks      | elapsed:    3.5s\n",
      "[Parallel(n_jobs=20)]: Done 10000 out of 10000 | elapsed:    3.6s finished\n"
     ]
    },
    {
     "name": "stdout",
     "output_type": "stream",
     "text": [
      "accuracy：0.58720\n",
      "precision_avg: 0.60484\n",
      "recall_avg: 0.58720\n",
      "f1_score_avg: 0.57535\n",
      "n_estimator = 10000\n",
      "max_depth = 20\n",
      "min_samples_split = 50\n",
      "min_samples_leaf = 20\n"
     ]
    },
    {
     "name": "stderr",
     "output_type": "stream",
     "text": [
      "[Parallel(n_jobs=-1)]: Using backend ThreadingBackend with 20 concurrent workers.\n",
      "[Parallel(n_jobs=-1)]: Done  10 tasks      | elapsed:    0.4s\n",
      "[Parallel(n_jobs=-1)]: Done 160 tasks      | elapsed:    2.6s\n",
      "[Parallel(n_jobs=-1)]: Done 410 tasks      | elapsed:    6.4s\n",
      "[Parallel(n_jobs=-1)]: Done 760 tasks      | elapsed:   11.6s\n",
      "[Parallel(n_jobs=-1)]: Done 1210 tasks      | elapsed:   18.2s\n",
      "[Parallel(n_jobs=-1)]: Done 1760 tasks      | elapsed:   26.5s\n",
      "[Parallel(n_jobs=-1)]: Done 2410 tasks      | elapsed:   36.1s\n",
      "[Parallel(n_jobs=-1)]: Done 3160 tasks      | elapsed:   47.2s\n",
      "[Parallel(n_jobs=-1)]: Done 4010 tasks      | elapsed:   59.7s\n",
      "[Parallel(n_jobs=-1)]: Done 4960 tasks      | elapsed:  1.2min\n",
      "[Parallel(n_jobs=-1)]: Done 6010 tasks      | elapsed:  1.5min\n",
      "[Parallel(n_jobs=-1)]: Done 7160 tasks      | elapsed:  1.8min\n",
      "[Parallel(n_jobs=-1)]: Done 8410 tasks      | elapsed:  2.1min\n",
      "[Parallel(n_jobs=-1)]: Done 9760 tasks      | elapsed:  2.4min\n",
      "[Parallel(n_jobs=-1)]: Done 10000 out of 10000 | elapsed:  2.5min finished\n",
      "[Parallel(n_jobs=20)]: Using backend ThreadingBackend with 20 concurrent workers.\n",
      "[Parallel(n_jobs=20)]: Done  10 tasks      | elapsed:    0.0s\n",
      "[Parallel(n_jobs=20)]: Done 160 tasks      | elapsed:    0.1s\n",
      "[Parallel(n_jobs=20)]: Done 410 tasks      | elapsed:    0.2s\n"
     ]
    },
    {
     "name": "stdout",
     "output_type": "stream",
     "text": [
      "done in 151.598s.\n"
     ]
    },
    {
     "name": "stderr",
     "output_type": "stream",
     "text": [
      "[Parallel(n_jobs=20)]: Done 760 tasks      | elapsed:    0.3s\n",
      "[Parallel(n_jobs=20)]: Done 1210 tasks      | elapsed:    0.4s\n",
      "[Parallel(n_jobs=20)]: Done 1760 tasks      | elapsed:    0.6s\n",
      "[Parallel(n_jobs=20)]: Done 2410 tasks      | elapsed:    0.9s\n",
      "[Parallel(n_jobs=20)]: Done 3160 tasks      | elapsed:    1.2s\n",
      "[Parallel(n_jobs=20)]: Done 4010 tasks      | elapsed:    1.5s\n",
      "[Parallel(n_jobs=20)]: Done 4960 tasks      | elapsed:    1.8s\n",
      "[Parallel(n_jobs=20)]: Done 6010 tasks      | elapsed:    2.2s\n",
      "[Parallel(n_jobs=20)]: Done 7160 tasks      | elapsed:    2.6s\n",
      "[Parallel(n_jobs=20)]: Done 8410 tasks      | elapsed:    3.0s\n",
      "[Parallel(n_jobs=20)]: Done 9760 tasks      | elapsed:    3.5s\n",
      "[Parallel(n_jobs=20)]: Done 10000 out of 10000 | elapsed:    3.6s finished\n"
     ]
    },
    {
     "name": "stdout",
     "output_type": "stream",
     "text": [
      "accuracy：0.58533\n",
      "precision_avg: 0.60463\n",
      "recall_avg: 0.58533\n",
      "f1_score_avg: 0.57335\n",
      "n_estimator = 10000\n",
      "max_depth = 50\n",
      "min_samples_split = 2\n",
      "min_samples_leaf = 1\n"
     ]
    },
    {
     "name": "stderr",
     "output_type": "stream",
     "text": [
      "[Parallel(n_jobs=-1)]: Using backend ThreadingBackend with 20 concurrent workers.\n",
      "[Parallel(n_jobs=-1)]: Done  10 tasks      | elapsed:    2.5s\n",
      "[Parallel(n_jobs=-1)]: Done 160 tasks      | elapsed:   20.2s\n",
      "[Parallel(n_jobs=-1)]: Done 410 tasks      | elapsed:   50.6s\n",
      "[Parallel(n_jobs=-1)]: Done 760 tasks      | elapsed:  1.5min\n",
      "[Parallel(n_jobs=-1)]: Done 1210 tasks      | elapsed:  2.4min\n",
      "[Parallel(n_jobs=-1)]: Done 1760 tasks      | elapsed:  3.5min\n",
      "[Parallel(n_jobs=-1)]: Done 2410 tasks      | elapsed:  4.8min\n",
      "[Parallel(n_jobs=-1)]: Done 3160 tasks      | elapsed:  6.3min\n",
      "[Parallel(n_jobs=-1)]: Done 4010 tasks      | elapsed:  8.0min\n",
      "[Parallel(n_jobs=-1)]: Done 4960 tasks      | elapsed: 10.0min\n",
      "[Parallel(n_jobs=-1)]: Done 6010 tasks      | elapsed: 12.1min\n",
      "[Parallel(n_jobs=-1)]: Done 7160 tasks      | elapsed: 14.4min\n",
      "[Parallel(n_jobs=-1)]: Done 8410 tasks      | elapsed: 16.8min\n",
      "[Parallel(n_jobs=-1)]: Done 9760 tasks      | elapsed: 19.5min\n",
      "[Parallel(n_jobs=-1)]: Done 10000 out of 10000 | elapsed: 20.0min finished\n",
      "[Parallel(n_jobs=20)]: Using backend ThreadingBackend with 20 concurrent workers.\n",
      "[Parallel(n_jobs=20)]: Done  10 tasks      | elapsed:    0.0s\n",
      "[Parallel(n_jobs=20)]: Done 160 tasks      | elapsed:    0.1s\n"
     ]
    },
    {
     "name": "stdout",
     "output_type": "stream",
     "text": [
      "done in 1202.722s.\n"
     ]
    },
    {
     "name": "stderr",
     "output_type": "stream",
     "text": [
      "[Parallel(n_jobs=20)]: Done 410 tasks      | elapsed:    0.2s\n",
      "[Parallel(n_jobs=20)]: Done 760 tasks      | elapsed:    0.4s\n",
      "[Parallel(n_jobs=20)]: Done 1210 tasks      | elapsed:    0.7s\n",
      "[Parallel(n_jobs=20)]: Done 1760 tasks      | elapsed:    1.0s\n",
      "[Parallel(n_jobs=20)]: Done 2410 tasks      | elapsed:    1.4s\n",
      "[Parallel(n_jobs=20)]: Done 3160 tasks      | elapsed:    1.8s\n",
      "[Parallel(n_jobs=20)]: Done 4010 tasks      | elapsed:    2.3s\n",
      "[Parallel(n_jobs=20)]: Done 4960 tasks      | elapsed:    2.8s\n",
      "[Parallel(n_jobs=20)]: Done 6010 tasks      | elapsed:    3.2s\n",
      "[Parallel(n_jobs=20)]: Done 7160 tasks      | elapsed:    3.8s\n",
      "[Parallel(n_jobs=20)]: Done 8410 tasks      | elapsed:    4.4s\n",
      "[Parallel(n_jobs=20)]: Done 9760 tasks      | elapsed:    5.1s\n",
      "[Parallel(n_jobs=20)]: Done 10000 out of 10000 | elapsed:    5.2s finished\n"
     ]
    },
    {
     "name": "stdout",
     "output_type": "stream",
     "text": [
      "accuracy：0.61020\n",
      "precision_avg: 0.59406\n",
      "recall_avg: 0.61020\n",
      "f1_score_avg: 0.59236\n",
      "n_estimator = 10000\n",
      "max_depth = 50\n",
      "min_samples_split = 10\n",
      "min_samples_leaf = 1\n"
     ]
    },
    {
     "name": "stderr",
     "output_type": "stream",
     "text": [
      "[Parallel(n_jobs=-1)]: Using backend ThreadingBackend with 20 concurrent workers.\n",
      "[Parallel(n_jobs=-1)]: Done  10 tasks      | elapsed:    2.2s\n",
      "[Parallel(n_jobs=-1)]: Done 160 tasks      | elapsed:   18.0s\n",
      "[Parallel(n_jobs=-1)]: Done 410 tasks      | elapsed:   44.5s\n",
      "[Parallel(n_jobs=-1)]: Done 760 tasks      | elapsed:  1.4min\n",
      "[Parallel(n_jobs=-1)]: Done 1210 tasks      | elapsed:  2.1min\n",
      "[Parallel(n_jobs=-1)]: Done 1760 tasks      | elapsed:  3.1min\n",
      "[Parallel(n_jobs=-1)]: Done 2410 tasks      | elapsed:  4.3min\n",
      "[Parallel(n_jobs=-1)]: Done 3160 tasks      | elapsed:  5.6min\n",
      "[Parallel(n_jobs=-1)]: Done 4010 tasks      | elapsed:  7.1min\n",
      "[Parallel(n_jobs=-1)]: Done 4960 tasks      | elapsed:  8.7min\n",
      "[Parallel(n_jobs=-1)]: Done 6010 tasks      | elapsed: 10.6min\n",
      "[Parallel(n_jobs=-1)]: Done 7160 tasks      | elapsed: 12.6min\n",
      "[Parallel(n_jobs=-1)]: Done 8410 tasks      | elapsed: 14.8min\n",
      "[Parallel(n_jobs=-1)]: Done 9760 tasks      | elapsed: 17.1min\n",
      "[Parallel(n_jobs=-1)]: Done 10000 out of 10000 | elapsed: 17.6min finished\n",
      "[Parallel(n_jobs=20)]: Using backend ThreadingBackend with 20 concurrent workers.\n",
      "[Parallel(n_jobs=20)]: Done  10 tasks      | elapsed:    0.0s\n",
      "[Parallel(n_jobs=20)]: Done 160 tasks      | elapsed:    0.1s\n"
     ]
    },
    {
     "name": "stdout",
     "output_type": "stream",
     "text": [
      "done in 1056.963s.\n"
     ]
    },
    {
     "name": "stderr",
     "output_type": "stream",
     "text": [
      "[Parallel(n_jobs=20)]: Done 410 tasks      | elapsed:    0.2s\n",
      "[Parallel(n_jobs=20)]: Done 760 tasks      | elapsed:    0.3s\n",
      "[Parallel(n_jobs=20)]: Done 1210 tasks      | elapsed:    0.5s\n",
      "[Parallel(n_jobs=20)]: Done 1760 tasks      | elapsed:    0.7s\n",
      "[Parallel(n_jobs=20)]: Done 2410 tasks      | elapsed:    1.0s\n",
      "[Parallel(n_jobs=20)]: Done 3160 tasks      | elapsed:    1.4s\n",
      "[Parallel(n_jobs=20)]: Done 4010 tasks      | elapsed:    1.8s\n",
      "[Parallel(n_jobs=20)]: Done 4960 tasks      | elapsed:    2.2s\n",
      "[Parallel(n_jobs=20)]: Done 6010 tasks      | elapsed:    2.7s\n",
      "[Parallel(n_jobs=20)]: Done 7160 tasks      | elapsed:    3.3s\n",
      "[Parallel(n_jobs=20)]: Done 8410 tasks      | elapsed:    4.0s\n",
      "[Parallel(n_jobs=20)]: Done 9760 tasks      | elapsed:    4.7s\n",
      "[Parallel(n_jobs=20)]: Done 10000 out of 10000 | elapsed:    4.8s finished\n"
     ]
    },
    {
     "name": "stdout",
     "output_type": "stream",
     "text": [
      "accuracy：0.60840\n",
      "precision_avg: 0.59595\n",
      "recall_avg: 0.60840\n",
      "f1_score_avg: 0.59327\n",
      "n_estimator = 10000\n",
      "max_depth = 50\n",
      "min_samples_split = 10\n",
      "min_samples_leaf = 5\n"
     ]
    },
    {
     "name": "stderr",
     "output_type": "stream",
     "text": [
      "[Parallel(n_jobs=-1)]: Using backend ThreadingBackend with 20 concurrent workers.\n",
      "[Parallel(n_jobs=-1)]: Done  10 tasks      | elapsed:    1.6s\n",
      "[Parallel(n_jobs=-1)]: Done 160 tasks      | elapsed:   13.1s\n",
      "[Parallel(n_jobs=-1)]: Done 410 tasks      | elapsed:   32.8s\n",
      "[Parallel(n_jobs=-1)]: Done 760 tasks      | elapsed:   60.0s\n",
      "[Parallel(n_jobs=-1)]: Done 1210 tasks      | elapsed:  1.6min\n",
      "[Parallel(n_jobs=-1)]: Done 1760 tasks      | elapsed:  2.3min\n",
      "[Parallel(n_jobs=-1)]: Done 2410 tasks      | elapsed:  3.1min\n",
      "[Parallel(n_jobs=-1)]: Done 3160 tasks      | elapsed:  4.1min\n",
      "[Parallel(n_jobs=-1)]: Done 4010 tasks      | elapsed:  5.2min\n",
      "[Parallel(n_jobs=-1)]: Done 4960 tasks      | elapsed:  6.4min\n",
      "[Parallel(n_jobs=-1)]: Done 6010 tasks      | elapsed:  7.8min\n",
      "[Parallel(n_jobs=-1)]: Done 7160 tasks      | elapsed:  9.2min\n",
      "[Parallel(n_jobs=-1)]: Done 8410 tasks      | elapsed: 10.9min\n",
      "[Parallel(n_jobs=-1)]: Done 9760 tasks      | elapsed: 12.6min\n",
      "[Parallel(n_jobs=-1)]: Done 10000 out of 10000 | elapsed: 12.9min finished\n",
      "[Parallel(n_jobs=20)]: Using backend ThreadingBackend with 20 concurrent workers.\n",
      "[Parallel(n_jobs=20)]: Done  10 tasks      | elapsed:    0.0s\n",
      "[Parallel(n_jobs=20)]: Done 160 tasks      | elapsed:    0.1s\n"
     ]
    },
    {
     "name": "stdout",
     "output_type": "stream",
     "text": [
      "done in 778.177s.\n"
     ]
    },
    {
     "name": "stderr",
     "output_type": "stream",
     "text": [
      "[Parallel(n_jobs=20)]: Done 410 tasks      | elapsed:    0.2s\n",
      "[Parallel(n_jobs=20)]: Done 760 tasks      | elapsed:    0.3s\n",
      "[Parallel(n_jobs=20)]: Done 1210 tasks      | elapsed:    0.5s\n",
      "[Parallel(n_jobs=20)]: Done 1760 tasks      | elapsed:    0.7s\n",
      "[Parallel(n_jobs=20)]: Done 2410 tasks      | elapsed:    0.9s\n",
      "[Parallel(n_jobs=20)]: Done 3160 tasks      | elapsed:    1.2s\n",
      "[Parallel(n_jobs=20)]: Done 4010 tasks      | elapsed:    1.6s\n",
      "[Parallel(n_jobs=20)]: Done 4960 tasks      | elapsed:    1.9s\n",
      "[Parallel(n_jobs=20)]: Done 6010 tasks      | elapsed:    2.3s\n",
      "[Parallel(n_jobs=20)]: Done 7160 tasks      | elapsed:    2.8s\n",
      "[Parallel(n_jobs=20)]: Done 8410 tasks      | elapsed:    3.3s\n",
      "[Parallel(n_jobs=20)]: Done 9760 tasks      | elapsed:    3.8s\n",
      "[Parallel(n_jobs=20)]: Done 10000 out of 10000 | elapsed:    3.9s finished\n"
     ]
    },
    {
     "name": "stdout",
     "output_type": "stream",
     "text": [
      "accuracy：0.60647\n",
      "precision_avg: 0.60640\n",
      "recall_avg: 0.60647\n",
      "f1_score_avg: 0.59624\n",
      "n_estimator = 10000\n",
      "max_depth = 50\n",
      "min_samples_split = 50\n",
      "min_samples_leaf = 1\n"
     ]
    },
    {
     "name": "stderr",
     "output_type": "stream",
     "text": [
      "[Parallel(n_jobs=-1)]: Using backend ThreadingBackend with 20 concurrent workers.\n",
      "[Parallel(n_jobs=-1)]: Done  10 tasks      | elapsed:    1.6s\n",
      "[Parallel(n_jobs=-1)]: Done 160 tasks      | elapsed:   13.1s\n",
      "[Parallel(n_jobs=-1)]: Done 410 tasks      | elapsed:   32.8s\n",
      "[Parallel(n_jobs=-1)]: Done 760 tasks      | elapsed:   59.9s\n",
      "[Parallel(n_jobs=-1)]: Done 1210 tasks      | elapsed:  1.6min\n",
      "[Parallel(n_jobs=-1)]: Done 1760 tasks      | elapsed:  2.3min\n",
      "[Parallel(n_jobs=-1)]: Done 2410 tasks      | elapsed:  3.1min\n",
      "[Parallel(n_jobs=-1)]: Done 3160 tasks      | elapsed:  4.1min\n",
      "[Parallel(n_jobs=-1)]: Done 4010 tasks      | elapsed:  5.2min\n",
      "[Parallel(n_jobs=-1)]: Done 4960 tasks      | elapsed:  6.4min\n",
      "[Parallel(n_jobs=-1)]: Done 6010 tasks      | elapsed:  7.8min\n",
      "[Parallel(n_jobs=-1)]: Done 7160 tasks      | elapsed:  9.3min\n",
      "[Parallel(n_jobs=-1)]: Done 8410 tasks      | elapsed: 10.9min\n",
      "[Parallel(n_jobs=-1)]: Done 9760 tasks      | elapsed: 12.6min\n",
      "[Parallel(n_jobs=-1)]: Done 10000 out of 10000 | elapsed: 12.9min finished\n",
      "[Parallel(n_jobs=20)]: Using backend ThreadingBackend with 20 concurrent workers.\n",
      "[Parallel(n_jobs=20)]: Done  10 tasks      | elapsed:    0.0s\n",
      "[Parallel(n_jobs=20)]: Done 160 tasks      | elapsed:    0.1s\n"
     ]
    },
    {
     "name": "stdout",
     "output_type": "stream",
     "text": [
      "done in 778.690s.\n"
     ]
    },
    {
     "name": "stderr",
     "output_type": "stream",
     "text": [
      "[Parallel(n_jobs=20)]: Done 410 tasks      | elapsed:    0.2s\n",
      "[Parallel(n_jobs=20)]: Done 760 tasks      | elapsed:    0.3s\n",
      "[Parallel(n_jobs=20)]: Done 1210 tasks      | elapsed:    0.5s\n",
      "[Parallel(n_jobs=20)]: Done 1760 tasks      | elapsed:    0.7s\n",
      "[Parallel(n_jobs=20)]: Done 2410 tasks      | elapsed:    0.9s\n",
      "[Parallel(n_jobs=20)]: Done 3160 tasks      | elapsed:    1.2s\n",
      "[Parallel(n_jobs=20)]: Done 4010 tasks      | elapsed:    1.6s\n",
      "[Parallel(n_jobs=20)]: Done 4960 tasks      | elapsed:    1.9s\n",
      "[Parallel(n_jobs=20)]: Done 6010 tasks      | elapsed:    2.3s\n",
      "[Parallel(n_jobs=20)]: Done 7160 tasks      | elapsed:    2.8s\n",
      "[Parallel(n_jobs=20)]: Done 8410 tasks      | elapsed:    3.3s\n",
      "[Parallel(n_jobs=20)]: Done 9760 tasks      | elapsed:    3.8s\n",
      "[Parallel(n_jobs=20)]: Done 10000 out of 10000 | elapsed:    3.9s finished\n"
     ]
    },
    {
     "name": "stdout",
     "output_type": "stream",
     "text": [
      "accuracy：0.60800\n",
      "precision_avg: 0.60443\n",
      "recall_avg: 0.60800\n",
      "f1_score_avg: 0.59700\n",
      "n_estimator = 10000\n",
      "max_depth = 50\n",
      "min_samples_split = 50\n",
      "min_samples_leaf = 5\n"
     ]
    },
    {
     "name": "stderr",
     "output_type": "stream",
     "text": [
      "[Parallel(n_jobs=-1)]: Using backend ThreadingBackend with 20 concurrent workers.\n",
      "[Parallel(n_jobs=-1)]: Done  10 tasks      | elapsed:    1.4s\n",
      "[Parallel(n_jobs=-1)]: Done 160 tasks      | elapsed:   11.0s\n",
      "[Parallel(n_jobs=-1)]: Done 410 tasks      | elapsed:   27.5s\n",
      "[Parallel(n_jobs=-1)]: Done 760 tasks      | elapsed:   50.2s\n",
      "[Parallel(n_jobs=-1)]: Done 1210 tasks      | elapsed:  1.3min\n",
      "[Parallel(n_jobs=-1)]: Done 1760 tasks      | elapsed:  1.9min\n",
      "[Parallel(n_jobs=-1)]: Done 2410 tasks      | elapsed:  2.6min\n",
      "[Parallel(n_jobs=-1)]: Done 3160 tasks      | elapsed:  3.4min\n",
      "[Parallel(n_jobs=-1)]: Done 4010 tasks      | elapsed:  4.3min\n",
      "[Parallel(n_jobs=-1)]: Done 4960 tasks      | elapsed:  5.4min\n",
      "[Parallel(n_jobs=-1)]: Done 6010 tasks      | elapsed:  6.5min\n",
      "[Parallel(n_jobs=-1)]: Done 7160 tasks      | elapsed:  7.8min\n",
      "[Parallel(n_jobs=-1)]: Done 8410 tasks      | elapsed:  9.1min\n",
      "[Parallel(n_jobs=-1)]: Done 9760 tasks      | elapsed: 10.6min\n",
      "[Parallel(n_jobs=-1)]: Done 10000 out of 10000 | elapsed: 10.9min finished\n",
      "[Parallel(n_jobs=20)]: Using backend ThreadingBackend with 20 concurrent workers.\n",
      "[Parallel(n_jobs=20)]: Done  10 tasks      | elapsed:    0.0s\n",
      "[Parallel(n_jobs=20)]: Done 160 tasks      | elapsed:    0.1s\n",
      "[Parallel(n_jobs=20)]: Done 410 tasks      | elapsed:    0.2s\n"
     ]
    },
    {
     "name": "stdout",
     "output_type": "stream",
     "text": [
      "done in 654.821s.\n"
     ]
    },
    {
     "name": "stderr",
     "output_type": "stream",
     "text": [
      "[Parallel(n_jobs=20)]: Done 760 tasks      | elapsed:    0.3s\n",
      "[Parallel(n_jobs=20)]: Done 1210 tasks      | elapsed:    0.4s\n",
      "[Parallel(n_jobs=20)]: Done 1760 tasks      | elapsed:    0.6s\n",
      "[Parallel(n_jobs=20)]: Done 2410 tasks      | elapsed:    0.9s\n",
      "[Parallel(n_jobs=20)]: Done 3160 tasks      | elapsed:    1.1s\n",
      "[Parallel(n_jobs=20)]: Done 4010 tasks      | elapsed:    1.4s\n",
      "[Parallel(n_jobs=20)]: Done 4960 tasks      | elapsed:    1.8s\n",
      "[Parallel(n_jobs=20)]: Done 6010 tasks      | elapsed:    2.1s\n",
      "[Parallel(n_jobs=20)]: Done 7160 tasks      | elapsed:    2.5s\n",
      "[Parallel(n_jobs=20)]: Done 8410 tasks      | elapsed:    2.9s\n",
      "[Parallel(n_jobs=20)]: Done 9760 tasks      | elapsed:    3.4s\n",
      "[Parallel(n_jobs=20)]: Done 10000 out of 10000 | elapsed:    3.5s finished\n"
     ]
    },
    {
     "name": "stdout",
     "output_type": "stream",
     "text": [
      "accuracy：0.60507\n",
      "precision_avg: 0.60623\n",
      "recall_avg: 0.60507\n",
      "f1_score_avg: 0.59522\n",
      "n_estimator = 10000\n",
      "max_depth = 50\n",
      "min_samples_split = 50\n",
      "min_samples_leaf = 10\n"
     ]
    },
    {
     "name": "stderr",
     "output_type": "stream",
     "text": [
      "[Parallel(n_jobs=-1)]: Using backend ThreadingBackend with 20 concurrent workers.\n",
      "[Parallel(n_jobs=-1)]: Done  10 tasks      | elapsed:    1.2s\n",
      "[Parallel(n_jobs=-1)]: Done 160 tasks      | elapsed:    9.0s\n",
      "[Parallel(n_jobs=-1)]: Done 410 tasks      | elapsed:   22.6s\n",
      "[Parallel(n_jobs=-1)]: Done 760 tasks      | elapsed:   41.0s\n",
      "[Parallel(n_jobs=-1)]: Done 1210 tasks      | elapsed:  1.1min\n",
      "[Parallel(n_jobs=-1)]: Done 1760 tasks      | elapsed:  1.6min\n",
      "[Parallel(n_jobs=-1)]: Done 2410 tasks      | elapsed:  2.1min\n",
      "[Parallel(n_jobs=-1)]: Done 3160 tasks      | elapsed:  2.8min\n",
      "[Parallel(n_jobs=-1)]: Done 4010 tasks      | elapsed:  3.5min\n",
      "[Parallel(n_jobs=-1)]: Done 4960 tasks      | elapsed:  4.4min\n",
      "[Parallel(n_jobs=-1)]: Done 6010 tasks      | elapsed:  5.3min\n",
      "[Parallel(n_jobs=-1)]: Done 7160 tasks      | elapsed:  6.3min\n",
      "[Parallel(n_jobs=-1)]: Done 8410 tasks      | elapsed:  7.4min\n",
      "[Parallel(n_jobs=-1)]: Done 9760 tasks      | elapsed:  8.6min\n",
      "[Parallel(n_jobs=-1)]: Done 10000 out of 10000 | elapsed:  8.8min finished\n",
      "[Parallel(n_jobs=20)]: Using backend ThreadingBackend with 20 concurrent workers.\n",
      "[Parallel(n_jobs=20)]: Done  10 tasks      | elapsed:    0.0s\n",
      "[Parallel(n_jobs=20)]: Done 160 tasks      | elapsed:    0.1s\n",
      "[Parallel(n_jobs=20)]: Done 410 tasks      | elapsed:    0.2s\n"
     ]
    },
    {
     "name": "stdout",
     "output_type": "stream",
     "text": [
      "done in 531.702s.\n"
     ]
    },
    {
     "name": "stderr",
     "output_type": "stream",
     "text": [
      "[Parallel(n_jobs=20)]: Done 760 tasks      | elapsed:    0.3s\n",
      "[Parallel(n_jobs=20)]: Done 1210 tasks      | elapsed:    0.4s\n",
      "[Parallel(n_jobs=20)]: Done 1760 tasks      | elapsed:    0.6s\n",
      "[Parallel(n_jobs=20)]: Done 2410 tasks      | elapsed:    0.8s\n",
      "[Parallel(n_jobs=20)]: Done 3160 tasks      | elapsed:    1.1s\n",
      "[Parallel(n_jobs=20)]: Done 4010 tasks      | elapsed:    1.4s\n",
      "[Parallel(n_jobs=20)]: Done 4960 tasks      | elapsed:    1.7s\n",
      "[Parallel(n_jobs=20)]: Done 6010 tasks      | elapsed:    2.1s\n",
      "[Parallel(n_jobs=20)]: Done 7160 tasks      | elapsed:    2.5s\n",
      "[Parallel(n_jobs=20)]: Done 8410 tasks      | elapsed:    3.0s\n",
      "[Parallel(n_jobs=20)]: Done 9760 tasks      | elapsed:    3.5s\n",
      "[Parallel(n_jobs=20)]: Done 10000 out of 10000 | elapsed:    3.5s finished\n"
     ]
    },
    {
     "name": "stdout",
     "output_type": "stream",
     "text": [
      "accuracy：0.60180\n",
      "precision_avg: 0.60797\n",
      "recall_avg: 0.60180\n",
      "f1_score_avg: 0.59307\n",
      "n_estimator = 10000\n",
      "max_depth = 50\n",
      "min_samples_split = 50\n",
      "min_samples_leaf = 20\n"
     ]
    },
    {
     "name": "stderr",
     "output_type": "stream",
     "text": [
      "[Parallel(n_jobs=-1)]: Using backend ThreadingBackend with 20 concurrent workers.\n",
      "[Parallel(n_jobs=-1)]: Done  10 tasks      | elapsed:    0.9s\n",
      "[Parallel(n_jobs=-1)]: Done 160 tasks      | elapsed:    6.9s\n",
      "[Parallel(n_jobs=-1)]: Done 410 tasks      | elapsed:   17.1s\n",
      "[Parallel(n_jobs=-1)]: Done 760 tasks      | elapsed:   31.0s\n",
      "[Parallel(n_jobs=-1)]: Done 1210 tasks      | elapsed:   48.7s\n",
      "[Parallel(n_jobs=-1)]: Done 1760 tasks      | elapsed:  1.2min\n",
      "[Parallel(n_jobs=-1)]: Done 2410 tasks      | elapsed:  1.6min\n",
      "[Parallel(n_jobs=-1)]: Done 3160 tasks      | elapsed:  2.1min\n",
      "[Parallel(n_jobs=-1)]: Done 4010 tasks      | elapsed:  2.7min\n",
      "[Parallel(n_jobs=-1)]: Done 4960 tasks      | elapsed:  3.3min\n",
      "[Parallel(n_jobs=-1)]: Done 6010 tasks      | elapsed:  4.0min\n",
      "[Parallel(n_jobs=-1)]: Done 7160 tasks      | elapsed:  4.8min\n",
      "[Parallel(n_jobs=-1)]: Done 8410 tasks      | elapsed:  5.6min\n",
      "[Parallel(n_jobs=-1)]: Done 9760 tasks      | elapsed:  6.5min\n",
      "[Parallel(n_jobs=-1)]: Done 10000 out of 10000 | elapsed:  6.6min finished\n",
      "[Parallel(n_jobs=20)]: Using backend ThreadingBackend with 20 concurrent workers.\n",
      "[Parallel(n_jobs=20)]: Done  10 tasks      | elapsed:    0.0s\n",
      "[Parallel(n_jobs=20)]: Done 160 tasks      | elapsed:    0.1s\n"
     ]
    },
    {
     "name": "stdout",
     "output_type": "stream",
     "text": [
      "done in 401.104s.\n"
     ]
    },
    {
     "name": "stderr",
     "output_type": "stream",
     "text": [
      "[Parallel(n_jobs=20)]: Done 410 tasks      | elapsed:    0.2s\n",
      "[Parallel(n_jobs=20)]: Done 760 tasks      | elapsed:    0.3s\n",
      "[Parallel(n_jobs=20)]: Done 1210 tasks      | elapsed:    0.5s\n",
      "[Parallel(n_jobs=20)]: Done 1760 tasks      | elapsed:    0.7s\n",
      "[Parallel(n_jobs=20)]: Done 2410 tasks      | elapsed:    0.9s\n",
      "[Parallel(n_jobs=20)]: Done 3160 tasks      | elapsed:    1.2s\n",
      "[Parallel(n_jobs=20)]: Done 4010 tasks      | elapsed:    1.5s\n",
      "[Parallel(n_jobs=20)]: Done 4960 tasks      | elapsed:    1.8s\n",
      "[Parallel(n_jobs=20)]: Done 6010 tasks      | elapsed:    2.2s\n",
      "[Parallel(n_jobs=20)]: Done 7160 tasks      | elapsed:    2.6s\n",
      "[Parallel(n_jobs=20)]: Done 8410 tasks      | elapsed:    3.1s\n",
      "[Parallel(n_jobs=20)]: Done 9760 tasks      | elapsed:    3.5s\n",
      "[Parallel(n_jobs=20)]: Done 10000 out of 10000 | elapsed:    3.6s finished\n"
     ]
    },
    {
     "name": "stdout",
     "output_type": "stream",
     "text": [
      "accuracy：0.59867\n",
      "precision_avg: 0.60944\n",
      "recall_avg: 0.59867\n",
      "f1_score_avg: 0.59054\n"
     ]
    }
   ],
   "source": [
    "n_estimators_range = [1000, 5000, 10000]\n",
    "max_depth_range = [10,20,50]\n",
    "min_samples_split_range = [2, 10, 50]\n",
    "min_samples_leaf_range = [1, 5, 10, 20, 50]\n",
    "\n",
    "\n",
    "for n_estimator in n_estimators_range:\n",
    "    for max_depth in max_depth_range:\n",
    "        for min_samples_split in min_samples_split_range:\n",
    "            for min_samples_leaf in min_samples_leaf_range:\n",
    "                # 设置这个条件才合理\n",
    "                if min_samples_split > min_samples_leaf:\n",
    "                        print('n_estimator = %d' % n_estimator)\n",
    "                        print('max_depth = %d' % max_depth)\n",
    "                        print('min_samples_split = %d' % min_samples_split)\n",
    "                        print('min_samples_leaf = %d' % min_samples_leaf)\n",
    "                        clf = RandomForestClassifier(\n",
    "                                                        n_estimators= n_estimator,\n",
    "                                                        criterion='gini',\n",
    "                                                        max_depth= max_depth,\n",
    "                                                        min_samples_split = min_samples_split,\n",
    "                                                        min_samples_leaf = min_samples_leaf,\n",
    "                                                        max_features= 'sqrt',\n",
    "                                                        bootstrap=True,\n",
    "                                                        random_state= 2020,\n",
    "                                                        verbose= 1,\n",
    "                                                        class_weight= 'balanced',\n",
    "                                                        n_jobs = -1\n",
    "                                                    )\n",
    "                        t0 = time()\n",
    "                        clf.fit(train_x, train_y)\n",
    "                        print(\"done in %0.3fs.\" % (time() - t0))\n",
    "                        predict_y = clf.predict(valid_x)\n",
    "                        # predict_prob_y = clf.predict_proba(valid_x)\n",
    "                        # 评价指标值\n",
    "                        accuracy, precision_avg, recall_avg, f1_score_avg = eval_p_r_f1(valid_y, predict_y)\n",
    "                        print('accuracy：%0.5f' % accuracy)\n",
    "                        print('precision_avg: %0.5f' % precision_avg)\n",
    "                        print('recall_avg: %0.5f' % recall_avg)\n",
    "                        print('f1_score_avg: %0.5f' % f1_score_avg)\n",
    "                \n",
    "                "
   ]
  },
  {
   "cell_type": "raw",
   "metadata": {},
   "source": [
    "env 调参"
   ]
  },
  {
   "cell_type": "code",
   "execution_count": 10,
   "metadata": {
    "collapsed": true,
    "jupyter": {
     "outputs_hidden": true,
     "source_hidden": true
    }
   },
   "outputs": [
    {
     "name": "stdout",
     "output_type": "stream",
     "text": [
      "n_estimator = 1000\n",
      "max_depth = 10\n",
      "min_samples_split = 2\n",
      "min_samples_leaf = 1\n"
     ]
    },
    {
     "name": "stderr",
     "output_type": "stream",
     "text": [
      "[Parallel(n_jobs=-1)]: Using backend ThreadingBackend with 20 concurrent workers.\n",
      "[Parallel(n_jobs=-1)]: Done  10 tasks      | elapsed:    0.2s\n",
      "[Parallel(n_jobs=-1)]: Done 160 tasks      | elapsed:    1.3s\n",
      "[Parallel(n_jobs=-1)]: Done 410 tasks      | elapsed:    3.1s\n",
      "[Parallel(n_jobs=-1)]: Done 760 tasks      | elapsed:    5.6s\n",
      "[Parallel(n_jobs=-1)]: Done 1000 out of 1000 | elapsed:    7.3s finished\n",
      "[Parallel(n_jobs=20)]: Using backend ThreadingBackend with 20 concurrent workers.\n",
      "[Parallel(n_jobs=20)]: Done  10 tasks      | elapsed:    0.0s\n",
      "[Parallel(n_jobs=20)]: Done 160 tasks      | elapsed:    0.1s\n"
     ]
    },
    {
     "name": "stdout",
     "output_type": "stream",
     "text": [
      "done in 7.720s.\n"
     ]
    },
    {
     "name": "stderr",
     "output_type": "stream",
     "text": [
      "[Parallel(n_jobs=20)]: Done 410 tasks      | elapsed:    0.2s\n",
      "[Parallel(n_jobs=20)]: Done 760 tasks      | elapsed:    0.3s\n",
      "[Parallel(n_jobs=20)]: Done 1000 out of 1000 | elapsed:    0.4s finished\n"
     ]
    },
    {
     "name": "stdout",
     "output_type": "stream",
     "text": [
      "accuracy：0.62940\n",
      "precision_avg: 0.66037\n",
      "recall_avg: 0.62940\n",
      "f1_score_avg: 0.62863\n",
      "n_estimator = 1000\n",
      "max_depth = 10\n",
      "min_samples_split = 10\n",
      "min_samples_leaf = 1\n"
     ]
    },
    {
     "name": "stderr",
     "output_type": "stream",
     "text": [
      "[Parallel(n_jobs=-1)]: Using backend ThreadingBackend with 20 concurrent workers.\n",
      "[Parallel(n_jobs=-1)]: Done  10 tasks      | elapsed:    0.2s\n",
      "[Parallel(n_jobs=-1)]: Done 160 tasks      | elapsed:    1.3s\n",
      "[Parallel(n_jobs=-1)]: Done 410 tasks      | elapsed:    3.1s\n",
      "[Parallel(n_jobs=-1)]: Done 760 tasks      | elapsed:    5.6s\n",
      "[Parallel(n_jobs=-1)]: Done 1000 out of 1000 | elapsed:    7.2s finished\n",
      "[Parallel(n_jobs=20)]: Using backend ThreadingBackend with 20 concurrent workers.\n",
      "[Parallel(n_jobs=20)]: Done  10 tasks      | elapsed:    0.0s\n",
      "[Parallel(n_jobs=20)]: Done 160 tasks      | elapsed:    0.1s\n",
      "[Parallel(n_jobs=20)]: Done 410 tasks      | elapsed:    0.2s\n"
     ]
    },
    {
     "name": "stdout",
     "output_type": "stream",
     "text": [
      "done in 7.620s.\n"
     ]
    },
    {
     "name": "stderr",
     "output_type": "stream",
     "text": [
      "[Parallel(n_jobs=20)]: Done 760 tasks      | elapsed:    0.3s\n",
      "[Parallel(n_jobs=20)]: Done 1000 out of 1000 | elapsed:    0.3s finished\n"
     ]
    },
    {
     "name": "stdout",
     "output_type": "stream",
     "text": [
      "accuracy：0.62820\n",
      "precision_avg: 0.66163\n",
      "recall_avg: 0.62820\n",
      "f1_score_avg: 0.62819\n",
      "n_estimator = 1000\n",
      "max_depth = 10\n",
      "min_samples_split = 10\n",
      "min_samples_leaf = 5\n"
     ]
    },
    {
     "name": "stderr",
     "output_type": "stream",
     "text": [
      "[Parallel(n_jobs=-1)]: Using backend ThreadingBackend with 20 concurrent workers.\n",
      "[Parallel(n_jobs=-1)]: Done  10 tasks      | elapsed:    0.2s\n",
      "[Parallel(n_jobs=-1)]: Done 160 tasks      | elapsed:    1.2s\n",
      "[Parallel(n_jobs=-1)]: Done 410 tasks      | elapsed:    2.9s\n",
      "[Parallel(n_jobs=-1)]: Done 760 tasks      | elapsed:    5.4s\n",
      "[Parallel(n_jobs=-1)]: Done 1000 out of 1000 | elapsed:    7.0s finished\n",
      "[Parallel(n_jobs=20)]: Using backend ThreadingBackend with 20 concurrent workers.\n",
      "[Parallel(n_jobs=20)]: Done  10 tasks      | elapsed:    0.0s\n",
      "[Parallel(n_jobs=20)]: Done 160 tasks      | elapsed:    0.1s\n",
      "[Parallel(n_jobs=20)]: Done 410 tasks      | elapsed:    0.1s\n"
     ]
    },
    {
     "name": "stdout",
     "output_type": "stream",
     "text": [
      "done in 7.409s.\n"
     ]
    },
    {
     "name": "stderr",
     "output_type": "stream",
     "text": [
      "[Parallel(n_jobs=20)]: Done 760 tasks      | elapsed:    0.3s\n",
      "[Parallel(n_jobs=20)]: Done 1000 out of 1000 | elapsed:    0.3s finished\n"
     ]
    },
    {
     "name": "stdout",
     "output_type": "stream",
     "text": [
      "accuracy：0.62733\n",
      "precision_avg: 0.66415\n",
      "recall_avg: 0.62733\n",
      "f1_score_avg: 0.62791\n",
      "n_estimator = 1000\n",
      "max_depth = 10\n",
      "min_samples_split = 50\n",
      "min_samples_leaf = 1\n"
     ]
    },
    {
     "name": "stderr",
     "output_type": "stream",
     "text": [
      "[Parallel(n_jobs=-1)]: Using backend ThreadingBackend with 20 concurrent workers.\n",
      "[Parallel(n_jobs=-1)]: Done  10 tasks      | elapsed:    0.2s\n",
      "[Parallel(n_jobs=-1)]: Done 160 tasks      | elapsed:    1.2s\n",
      "[Parallel(n_jobs=-1)]: Done 410 tasks      | elapsed:    2.8s\n",
      "[Parallel(n_jobs=-1)]: Done 760 tasks      | elapsed:    5.2s\n",
      "[Parallel(n_jobs=-1)]: Done 1000 out of 1000 | elapsed:    6.7s finished\n",
      "[Parallel(n_jobs=20)]: Using backend ThreadingBackend with 20 concurrent workers.\n",
      "[Parallel(n_jobs=20)]: Done  10 tasks      | elapsed:    0.0s\n",
      "[Parallel(n_jobs=20)]: Done 160 tasks      | elapsed:    0.1s\n"
     ]
    },
    {
     "name": "stdout",
     "output_type": "stream",
     "text": [
      "done in 7.214s.\n"
     ]
    },
    {
     "name": "stderr",
     "output_type": "stream",
     "text": [
      "[Parallel(n_jobs=20)]: Done 410 tasks      | elapsed:    0.1s\n",
      "[Parallel(n_jobs=20)]: Done 760 tasks      | elapsed:    0.3s\n",
      "[Parallel(n_jobs=20)]: Done 1000 out of 1000 | elapsed:    0.3s finished\n"
     ]
    },
    {
     "name": "stdout",
     "output_type": "stream",
     "text": [
      "accuracy：0.62600\n",
      "precision_avg: 0.66256\n",
      "recall_avg: 0.62600\n",
      "f1_score_avg: 0.62654\n",
      "n_estimator = 1000\n",
      "max_depth = 10\n",
      "min_samples_split = 50\n",
      "min_samples_leaf = 5\n"
     ]
    },
    {
     "name": "stderr",
     "output_type": "stream",
     "text": [
      "[Parallel(n_jobs=-1)]: Using backend ThreadingBackend with 20 concurrent workers.\n",
      "[Parallel(n_jobs=-1)]: Done  10 tasks      | elapsed:    0.2s\n",
      "[Parallel(n_jobs=-1)]: Done 160 tasks      | elapsed:    1.2s\n",
      "[Parallel(n_jobs=-1)]: Done 410 tasks      | elapsed:    3.0s\n",
      "[Parallel(n_jobs=-1)]: Done 760 tasks      | elapsed:    5.3s\n",
      "[Parallel(n_jobs=-1)]: Done 1000 out of 1000 | elapsed:    6.9s finished\n",
      "[Parallel(n_jobs=20)]: Using backend ThreadingBackend with 20 concurrent workers.\n",
      "[Parallel(n_jobs=20)]: Done  10 tasks      | elapsed:    0.0s\n",
      "[Parallel(n_jobs=20)]: Done 160 tasks      | elapsed:    0.1s\n",
      "[Parallel(n_jobs=20)]: Done 410 tasks      | elapsed:    0.1s\n"
     ]
    },
    {
     "name": "stdout",
     "output_type": "stream",
     "text": [
      "done in 7.320s.\n"
     ]
    },
    {
     "name": "stderr",
     "output_type": "stream",
     "text": [
      "[Parallel(n_jobs=20)]: Done 760 tasks      | elapsed:    0.3s\n",
      "[Parallel(n_jobs=20)]: Done 1000 out of 1000 | elapsed:    0.3s finished\n"
     ]
    },
    {
     "name": "stdout",
     "output_type": "stream",
     "text": [
      "accuracy：0.62580\n",
      "precision_avg: 0.66387\n",
      "recall_avg: 0.62580\n",
      "f1_score_avg: 0.62681\n",
      "n_estimator = 1000\n",
      "max_depth = 10\n",
      "min_samples_split = 50\n",
      "min_samples_leaf = 10\n"
     ]
    },
    {
     "name": "stderr",
     "output_type": "stream",
     "text": [
      "[Parallel(n_jobs=-1)]: Using backend ThreadingBackend with 20 concurrent workers.\n",
      "[Parallel(n_jobs=-1)]: Done  10 tasks      | elapsed:    0.2s\n",
      "[Parallel(n_jobs=-1)]: Done 160 tasks      | elapsed:    1.2s\n",
      "[Parallel(n_jobs=-1)]: Done 410 tasks      | elapsed:    2.8s\n",
      "[Parallel(n_jobs=-1)]: Done 760 tasks      | elapsed:    5.1s\n",
      "[Parallel(n_jobs=-1)]: Done 1000 out of 1000 | elapsed:    6.7s finished\n",
      "[Parallel(n_jobs=20)]: Using backend ThreadingBackend with 20 concurrent workers.\n",
      "[Parallel(n_jobs=20)]: Done  10 tasks      | elapsed:    0.0s\n",
      "[Parallel(n_jobs=20)]: Done 160 tasks      | elapsed:    0.1s\n",
      "[Parallel(n_jobs=20)]: Done 410 tasks      | elapsed:    0.1s\n"
     ]
    },
    {
     "name": "stdout",
     "output_type": "stream",
     "text": [
      "done in 7.126s.\n"
     ]
    },
    {
     "name": "stderr",
     "output_type": "stream",
     "text": [
      "[Parallel(n_jobs=20)]: Done 760 tasks      | elapsed:    0.3s\n",
      "[Parallel(n_jobs=20)]: Done 1000 out of 1000 | elapsed:    0.3s finished\n"
     ]
    },
    {
     "name": "stdout",
     "output_type": "stream",
     "text": [
      "accuracy：0.62573\n",
      "precision_avg: 0.66404\n",
      "recall_avg: 0.62573\n",
      "f1_score_avg: 0.62668\n",
      "n_estimator = 1000\n",
      "max_depth = 10\n",
      "min_samples_split = 50\n",
      "min_samples_leaf = 20\n"
     ]
    },
    {
     "name": "stderr",
     "output_type": "stream",
     "text": [
      "[Parallel(n_jobs=-1)]: Using backend ThreadingBackend with 20 concurrent workers.\n",
      "[Parallel(n_jobs=-1)]: Done  10 tasks      | elapsed:    0.2s\n",
      "[Parallel(n_jobs=-1)]: Done 160 tasks      | elapsed:    1.2s\n",
      "[Parallel(n_jobs=-1)]: Done 410 tasks      | elapsed:    2.8s\n",
      "[Parallel(n_jobs=-1)]: Done 760 tasks      | elapsed:    5.1s\n",
      "[Parallel(n_jobs=-1)]: Done 1000 out of 1000 | elapsed:    6.7s finished\n",
      "[Parallel(n_jobs=20)]: Using backend ThreadingBackend with 20 concurrent workers.\n",
      "[Parallel(n_jobs=20)]: Done  10 tasks      | elapsed:    0.0s\n",
      "[Parallel(n_jobs=20)]: Done 160 tasks      | elapsed:    0.1s\n"
     ]
    },
    {
     "name": "stdout",
     "output_type": "stream",
     "text": [
      "done in 7.110s.\n"
     ]
    },
    {
     "name": "stderr",
     "output_type": "stream",
     "text": [
      "[Parallel(n_jobs=20)]: Done 410 tasks      | elapsed:    0.2s\n",
      "[Parallel(n_jobs=20)]: Done 760 tasks      | elapsed:    0.3s\n",
      "[Parallel(n_jobs=20)]: Done 1000 out of 1000 | elapsed:    0.4s finished\n"
     ]
    },
    {
     "name": "stdout",
     "output_type": "stream",
     "text": [
      "accuracy：0.62333\n",
      "precision_avg: 0.66401\n",
      "recall_avg: 0.62333\n",
      "f1_score_avg: 0.62513\n",
      "n_estimator = 1000\n",
      "max_depth = 20\n",
      "min_samples_split = 2\n",
      "min_samples_leaf = 1\n"
     ]
    },
    {
     "name": "stderr",
     "output_type": "stream",
     "text": [
      "[Parallel(n_jobs=-1)]: Using backend ThreadingBackend with 20 concurrent workers.\n",
      "[Parallel(n_jobs=-1)]: Done  10 tasks      | elapsed:    0.5s\n",
      "[Parallel(n_jobs=-1)]: Done 160 tasks      | elapsed:    4.2s\n",
      "[Parallel(n_jobs=-1)]: Done 410 tasks      | elapsed:   10.3s\n",
      "[Parallel(n_jobs=-1)]: Done 760 tasks      | elapsed:   18.8s\n",
      "[Parallel(n_jobs=-1)]: Done 1000 out of 1000 | elapsed:   24.5s finished\n",
      "[Parallel(n_jobs=20)]: Using backend ThreadingBackend with 20 concurrent workers.\n",
      "[Parallel(n_jobs=20)]: Done  10 tasks      | elapsed:    0.0s\n",
      "[Parallel(n_jobs=20)]: Done 160 tasks      | elapsed:    0.1s\n"
     ]
    },
    {
     "name": "stdout",
     "output_type": "stream",
     "text": [
      "done in 24.971s.\n"
     ]
    },
    {
     "name": "stderr",
     "output_type": "stream",
     "text": [
      "[Parallel(n_jobs=20)]: Done 410 tasks      | elapsed:    0.1s\n",
      "[Parallel(n_jobs=20)]: Done 760 tasks      | elapsed:    0.3s\n",
      "[Parallel(n_jobs=20)]: Done 1000 out of 1000 | elapsed:    0.3s finished\n"
     ]
    },
    {
     "name": "stdout",
     "output_type": "stream",
     "text": [
      "accuracy：0.66487\n",
      "precision_avg: 0.65749\n",
      "recall_avg: 0.66487\n",
      "f1_score_avg: 0.65243\n",
      "n_estimator = 1000\n",
      "max_depth = 20\n",
      "min_samples_split = 10\n",
      "min_samples_leaf = 1\n"
     ]
    },
    {
     "name": "stderr",
     "output_type": "stream",
     "text": [
      "[Parallel(n_jobs=-1)]: Using backend ThreadingBackend with 20 concurrent workers.\n",
      "[Parallel(n_jobs=-1)]: Done  10 tasks      | elapsed:    0.5s\n",
      "[Parallel(n_jobs=-1)]: Done 160 tasks      | elapsed:    3.8s\n",
      "[Parallel(n_jobs=-1)]: Done 410 tasks      | elapsed:    9.3s\n",
      "[Parallel(n_jobs=-1)]: Done 760 tasks      | elapsed:   17.0s\n",
      "[Parallel(n_jobs=-1)]: Done 1000 out of 1000 | elapsed:   22.1s finished\n",
      "[Parallel(n_jobs=20)]: Using backend ThreadingBackend with 20 concurrent workers.\n",
      "[Parallel(n_jobs=20)]: Done  10 tasks      | elapsed:    0.0s\n",
      "[Parallel(n_jobs=20)]: Done 160 tasks      | elapsed:    0.1s\n"
     ]
    },
    {
     "name": "stdout",
     "output_type": "stream",
     "text": [
      "done in 22.545s.\n"
     ]
    },
    {
     "name": "stderr",
     "output_type": "stream",
     "text": [
      "[Parallel(n_jobs=20)]: Done 410 tasks      | elapsed:    0.2s\n",
      "[Parallel(n_jobs=20)]: Done 760 tasks      | elapsed:    0.3s\n",
      "[Parallel(n_jobs=20)]: Done 1000 out of 1000 | elapsed:    0.4s finished\n"
     ]
    },
    {
     "name": "stdout",
     "output_type": "stream",
     "text": [
      "accuracy：0.66073\n",
      "precision_avg: 0.65951\n",
      "recall_avg: 0.66073\n",
      "f1_score_avg: 0.65111\n",
      "n_estimator = 1000\n",
      "max_depth = 20\n",
      "min_samples_split = 10\n",
      "min_samples_leaf = 5\n"
     ]
    },
    {
     "name": "stderr",
     "output_type": "stream",
     "text": [
      "[Parallel(n_jobs=-1)]: Using backend ThreadingBackend with 20 concurrent workers.\n",
      "[Parallel(n_jobs=-1)]: Done  10 tasks      | elapsed:    0.5s\n",
      "[Parallel(n_jobs=-1)]: Done 160 tasks      | elapsed:    3.5s\n",
      "[Parallel(n_jobs=-1)]: Done 410 tasks      | elapsed:    8.5s\n",
      "[Parallel(n_jobs=-1)]: Done 760 tasks      | elapsed:   15.5s\n",
      "[Parallel(n_jobs=-1)]: Done 1000 out of 1000 | elapsed:   20.2s finished\n",
      "[Parallel(n_jobs=20)]: Using backend ThreadingBackend with 20 concurrent workers.\n",
      "[Parallel(n_jobs=20)]: Done  10 tasks      | elapsed:    0.0s\n",
      "[Parallel(n_jobs=20)]: Done 160 tasks      | elapsed:    0.1s\n",
      "[Parallel(n_jobs=20)]: Done 410 tasks      | elapsed:    0.2s\n"
     ]
    },
    {
     "name": "stdout",
     "output_type": "stream",
     "text": [
      "done in 20.643s.\n"
     ]
    },
    {
     "name": "stderr",
     "output_type": "stream",
     "text": [
      "[Parallel(n_jobs=20)]: Done 760 tasks      | elapsed:    0.3s\n",
      "[Parallel(n_jobs=20)]: Done 1000 out of 1000 | elapsed:    0.4s finished\n"
     ]
    },
    {
     "name": "stdout",
     "output_type": "stream",
     "text": [
      "accuracy：0.65060\n",
      "precision_avg: 0.66135\n",
      "recall_avg: 0.65060\n",
      "f1_score_avg: 0.64593\n",
      "n_estimator = 1000\n",
      "max_depth = 20\n",
      "min_samples_split = 50\n",
      "min_samples_leaf = 1\n"
     ]
    },
    {
     "name": "stderr",
     "output_type": "stream",
     "text": [
      "[Parallel(n_jobs=-1)]: Using backend ThreadingBackend with 20 concurrent workers.\n",
      "[Parallel(n_jobs=-1)]: Done  10 tasks      | elapsed:    0.4s\n",
      "[Parallel(n_jobs=-1)]: Done 160 tasks      | elapsed:    3.2s\n",
      "[Parallel(n_jobs=-1)]: Done 410 tasks      | elapsed:    7.8s\n",
      "[Parallel(n_jobs=-1)]: Done 760 tasks      | elapsed:   14.3s\n",
      "[Parallel(n_jobs=-1)]: Done 1000 out of 1000 | elapsed:   18.7s finished\n",
      "[Parallel(n_jobs=20)]: Using backend ThreadingBackend with 20 concurrent workers.\n",
      "[Parallel(n_jobs=20)]: Done  10 tasks      | elapsed:    0.0s\n",
      "[Parallel(n_jobs=20)]: Done 160 tasks      | elapsed:    0.1s\n",
      "[Parallel(n_jobs=20)]: Done 410 tasks      | elapsed:    0.2s\n"
     ]
    },
    {
     "name": "stdout",
     "output_type": "stream",
     "text": [
      "done in 19.054s.\n"
     ]
    },
    {
     "name": "stderr",
     "output_type": "stream",
     "text": [
      "[Parallel(n_jobs=20)]: Done 760 tasks      | elapsed:    0.3s\n",
      "[Parallel(n_jobs=20)]: Done 1000 out of 1000 | elapsed:    0.3s finished\n"
     ]
    },
    {
     "name": "stdout",
     "output_type": "stream",
     "text": [
      "accuracy：0.65127\n",
      "precision_avg: 0.66152\n",
      "recall_avg: 0.65127\n",
      "f1_score_avg: 0.64631\n",
      "n_estimator = 1000\n",
      "max_depth = 20\n",
      "min_samples_split = 50\n",
      "min_samples_leaf = 5\n"
     ]
    },
    {
     "name": "stderr",
     "output_type": "stream",
     "text": [
      "[Parallel(n_jobs=-1)]: Using backend ThreadingBackend with 20 concurrent workers.\n",
      "[Parallel(n_jobs=-1)]: Done  10 tasks      | elapsed:    0.4s\n",
      "[Parallel(n_jobs=-1)]: Done 160 tasks      | elapsed:    3.1s\n",
      "[Parallel(n_jobs=-1)]: Done 410 tasks      | elapsed:    7.6s\n",
      "[Parallel(n_jobs=-1)]: Done 760 tasks      | elapsed:   13.8s\n",
      "[Parallel(n_jobs=-1)]: Done 1000 out of 1000 | elapsed:   18.0s finished\n",
      "[Parallel(n_jobs=20)]: Using backend ThreadingBackend with 20 concurrent workers.\n",
      "[Parallel(n_jobs=20)]: Done  10 tasks      | elapsed:    0.0s\n",
      "[Parallel(n_jobs=20)]: Done 160 tasks      | elapsed:    0.1s\n",
      "[Parallel(n_jobs=20)]: Done 410 tasks      | elapsed:    0.1s\n"
     ]
    },
    {
     "name": "stdout",
     "output_type": "stream",
     "text": [
      "done in 18.443s.\n"
     ]
    },
    {
     "name": "stderr",
     "output_type": "stream",
     "text": [
      "[Parallel(n_jobs=20)]: Done 760 tasks      | elapsed:    0.3s\n",
      "[Parallel(n_jobs=20)]: Done 1000 out of 1000 | elapsed:    0.3s finished\n"
     ]
    },
    {
     "name": "stdout",
     "output_type": "stream",
     "text": [
      "accuracy：0.64693\n",
      "precision_avg: 0.66186\n",
      "recall_avg: 0.64693\n",
      "f1_score_avg: 0.64373\n",
      "n_estimator = 1000\n",
      "max_depth = 20\n",
      "min_samples_split = 50\n",
      "min_samples_leaf = 10\n"
     ]
    },
    {
     "name": "stderr",
     "output_type": "stream",
     "text": [
      "[Parallel(n_jobs=-1)]: Using backend ThreadingBackend with 20 concurrent workers.\n",
      "[Parallel(n_jobs=-1)]: Done  10 tasks      | elapsed:    0.4s\n",
      "[Parallel(n_jobs=-1)]: Done 160 tasks      | elapsed:    3.0s\n",
      "[Parallel(n_jobs=-1)]: Done 410 tasks      | elapsed:    7.3s\n",
      "[Parallel(n_jobs=-1)]: Done 760 tasks      | elapsed:   13.3s\n",
      "[Parallel(n_jobs=-1)]: Done 1000 out of 1000 | elapsed:   17.3s finished\n",
      "[Parallel(n_jobs=20)]: Using backend ThreadingBackend with 20 concurrent workers.\n",
      "[Parallel(n_jobs=20)]: Done  10 tasks      | elapsed:    0.0s\n",
      "[Parallel(n_jobs=20)]: Done 160 tasks      | elapsed:    0.1s\n"
     ]
    },
    {
     "name": "stdout",
     "output_type": "stream",
     "text": [
      "done in 17.766s.\n"
     ]
    },
    {
     "name": "stderr",
     "output_type": "stream",
     "text": [
      "[Parallel(n_jobs=20)]: Done 410 tasks      | elapsed:    0.2s\n",
      "[Parallel(n_jobs=20)]: Done 760 tasks      | elapsed:    0.3s\n",
      "[Parallel(n_jobs=20)]: Done 1000 out of 1000 | elapsed:    0.4s finished\n"
     ]
    },
    {
     "name": "stdout",
     "output_type": "stream",
     "text": [
      "accuracy：0.64113\n",
      "precision_avg: 0.66254\n",
      "recall_avg: 0.64113\n",
      "f1_score_avg: 0.64009\n",
      "n_estimator = 1000\n",
      "max_depth = 20\n",
      "min_samples_split = 50\n",
      "min_samples_leaf = 20\n"
     ]
    },
    {
     "name": "stderr",
     "output_type": "stream",
     "text": [
      "[Parallel(n_jobs=-1)]: Using backend ThreadingBackend with 20 concurrent workers.\n",
      "[Parallel(n_jobs=-1)]: Done  10 tasks      | elapsed:    0.4s\n",
      "[Parallel(n_jobs=-1)]: Done 160 tasks      | elapsed:    2.8s\n",
      "[Parallel(n_jobs=-1)]: Done 410 tasks      | elapsed:    6.7s\n",
      "[Parallel(n_jobs=-1)]: Done 760 tasks      | elapsed:   12.2s\n",
      "[Parallel(n_jobs=-1)]: Done 1000 out of 1000 | elapsed:   15.9s finished\n",
      "[Parallel(n_jobs=20)]: Using backend ThreadingBackend with 20 concurrent workers.\n",
      "[Parallel(n_jobs=20)]: Done  10 tasks      | elapsed:    0.0s\n",
      "[Parallel(n_jobs=20)]: Done 160 tasks      | elapsed:    0.1s\n"
     ]
    },
    {
     "name": "stdout",
     "output_type": "stream",
     "text": [
      "done in 16.336s.\n"
     ]
    },
    {
     "name": "stderr",
     "output_type": "stream",
     "text": [
      "[Parallel(n_jobs=20)]: Done 410 tasks      | elapsed:    0.2s\n",
      "[Parallel(n_jobs=20)]: Done 760 tasks      | elapsed:    0.3s\n",
      "[Parallel(n_jobs=20)]: Done 1000 out of 1000 | elapsed:    0.3s finished\n"
     ]
    },
    {
     "name": "stdout",
     "output_type": "stream",
     "text": [
      "accuracy：0.63587\n",
      "precision_avg: 0.66475\n",
      "recall_avg: 0.63587\n",
      "f1_score_avg: 0.63739\n",
      "n_estimator = 1000\n",
      "max_depth = 50\n",
      "min_samples_split = 2\n",
      "min_samples_leaf = 1\n"
     ]
    },
    {
     "name": "stderr",
     "output_type": "stream",
     "text": [
      "[Parallel(n_jobs=-1)]: Using backend ThreadingBackend with 20 concurrent workers.\n",
      "[Parallel(n_jobs=-1)]: Done  10 tasks      | elapsed:    2.7s\n",
      "[Parallel(n_jobs=-1)]: Done 160 tasks      | elapsed:   22.1s\n",
      "[Parallel(n_jobs=-1)]: Done 410 tasks      | elapsed:   55.3s\n",
      "[Parallel(n_jobs=-1)]: Done 760 tasks      | elapsed:  1.7min\n",
      "[Parallel(n_jobs=-1)]: Done 1000 out of 1000 | elapsed:  2.2min finished\n",
      "[Parallel(n_jobs=20)]: Using backend ThreadingBackend with 20 concurrent workers.\n",
      "[Parallel(n_jobs=20)]: Done  10 tasks      | elapsed:    0.0s\n"
     ]
    },
    {
     "name": "stdout",
     "output_type": "stream",
     "text": [
      "done in 133.235s.\n"
     ]
    },
    {
     "name": "stderr",
     "output_type": "stream",
     "text": [
      "[Parallel(n_jobs=20)]: Done 160 tasks      | elapsed:    0.3s\n",
      "[Parallel(n_jobs=20)]: Done 410 tasks      | elapsed:    0.4s\n",
      "[Parallel(n_jobs=20)]: Done 760 tasks      | elapsed:    0.6s\n",
      "[Parallel(n_jobs=20)]: Done 1000 out of 1000 | elapsed:    0.7s finished\n"
     ]
    },
    {
     "name": "stdout",
     "output_type": "stream",
     "text": [
      "accuracy：0.69387\n",
      "precision_avg: 0.65918\n",
      "recall_avg: 0.69387\n",
      "f1_score_avg: 0.64434\n",
      "n_estimator = 1000\n",
      "max_depth = 50\n",
      "min_samples_split = 10\n",
      "min_samples_leaf = 1\n"
     ]
    },
    {
     "name": "stderr",
     "output_type": "stream",
     "text": [
      "[Parallel(n_jobs=-1)]: Using backend ThreadingBackend with 20 concurrent workers.\n",
      "[Parallel(n_jobs=-1)]: Done  10 tasks      | elapsed:    2.4s\n",
      "[Parallel(n_jobs=-1)]: Done 160 tasks      | elapsed:   19.1s\n",
      "[Parallel(n_jobs=-1)]: Done 410 tasks      | elapsed:   48.2s\n",
      "[Parallel(n_jobs=-1)]: Done 760 tasks      | elapsed:  1.5min\n",
      "[Parallel(n_jobs=-1)]: Done 1000 out of 1000 | elapsed:  1.9min finished\n",
      "[Parallel(n_jobs=20)]: Using backend ThreadingBackend with 20 concurrent workers.\n",
      "[Parallel(n_jobs=20)]: Done  10 tasks      | elapsed:    0.0s\n",
      "[Parallel(n_jobs=20)]: Done 160 tasks      | elapsed:    0.1s\n",
      "[Parallel(n_jobs=20)]: Done 410 tasks      | elapsed:    0.2s\n"
     ]
    },
    {
     "name": "stdout",
     "output_type": "stream",
     "text": [
      "done in 116.001s.\n"
     ]
    },
    {
     "name": "stderr",
     "output_type": "stream",
     "text": [
      "[Parallel(n_jobs=20)]: Done 760 tasks      | elapsed:    0.3s\n",
      "[Parallel(n_jobs=20)]: Done 1000 out of 1000 | elapsed:    0.4s finished\n"
     ]
    },
    {
     "name": "stdout",
     "output_type": "stream",
     "text": [
      "accuracy：0.69273\n",
      "precision_avg: 0.65653\n",
      "recall_avg: 0.69273\n",
      "f1_score_avg: 0.64941\n",
      "n_estimator = 1000\n",
      "max_depth = 50\n",
      "min_samples_split = 10\n",
      "min_samples_leaf = 5\n"
     ]
    },
    {
     "name": "stderr",
     "output_type": "stream",
     "text": [
      "[Parallel(n_jobs=-1)]: Using backend ThreadingBackend with 20 concurrent workers.\n",
      "[Parallel(n_jobs=-1)]: Done  10 tasks      | elapsed:    1.8s\n",
      "[Parallel(n_jobs=-1)]: Done 160 tasks      | elapsed:   13.9s\n",
      "[Parallel(n_jobs=-1)]: Done 410 tasks      | elapsed:   34.9s\n",
      "[Parallel(n_jobs=-1)]: Done 760 tasks      | elapsed:  1.1min\n",
      "[Parallel(n_jobs=-1)]: Done 1000 out of 1000 | elapsed:  1.4min finished\n",
      "[Parallel(n_jobs=20)]: Using backend ThreadingBackend with 20 concurrent workers.\n",
      "[Parallel(n_jobs=20)]: Done  10 tasks      | elapsed:    0.0s\n",
      "[Parallel(n_jobs=20)]: Done 160 tasks      | elapsed:    0.1s\n",
      "[Parallel(n_jobs=20)]: Done 410 tasks      | elapsed:    0.2s\n"
     ]
    },
    {
     "name": "stdout",
     "output_type": "stream",
     "text": [
      "done in 84.814s.\n"
     ]
    },
    {
     "name": "stderr",
     "output_type": "stream",
     "text": [
      "[Parallel(n_jobs=20)]: Done 760 tasks      | elapsed:    0.3s\n",
      "[Parallel(n_jobs=20)]: Done 1000 out of 1000 | elapsed:    0.4s finished\n"
     ]
    },
    {
     "name": "stdout",
     "output_type": "stream",
     "text": [
      "accuracy：0.68033\n",
      "precision_avg: 0.65473\n",
      "recall_avg: 0.68033\n",
      "f1_score_avg: 0.65770\n",
      "n_estimator = 1000\n",
      "max_depth = 50\n",
      "min_samples_split = 50\n",
      "min_samples_leaf = 1\n"
     ]
    },
    {
     "name": "stderr",
     "output_type": "stream",
     "text": [
      "[Parallel(n_jobs=-1)]: Using backend ThreadingBackend with 20 concurrent workers.\n",
      "[Parallel(n_jobs=-1)]: Done  10 tasks      | elapsed:    1.8s\n",
      "[Parallel(n_jobs=-1)]: Done 160 tasks      | elapsed:   14.1s\n",
      "[Parallel(n_jobs=-1)]: Done 410 tasks      | elapsed:   35.5s\n",
      "[Parallel(n_jobs=-1)]: Done 760 tasks      | elapsed:  1.1min\n",
      "[Parallel(n_jobs=-1)]: Done 1000 out of 1000 | elapsed:  1.4min finished\n",
      "[Parallel(n_jobs=20)]: Using backend ThreadingBackend with 20 concurrent workers.\n",
      "[Parallel(n_jobs=20)]: Done  10 tasks      | elapsed:    0.0s\n",
      "[Parallel(n_jobs=20)]: Done 160 tasks      | elapsed:    0.1s\n"
     ]
    },
    {
     "name": "stdout",
     "output_type": "stream",
     "text": [
      "done in 85.697s.\n"
     ]
    },
    {
     "name": "stderr",
     "output_type": "stream",
     "text": [
      "[Parallel(n_jobs=20)]: Done 410 tasks      | elapsed:    0.2s\n",
      "[Parallel(n_jobs=20)]: Done 760 tasks      | elapsed:    0.3s\n",
      "[Parallel(n_jobs=20)]: Done 1000 out of 1000 | elapsed:    0.4s finished\n"
     ]
    },
    {
     "name": "stdout",
     "output_type": "stream",
     "text": [
      "accuracy：0.68507\n",
      "precision_avg: 0.65425\n",
      "recall_avg: 0.68507\n",
      "f1_score_avg: 0.65710\n",
      "n_estimator = 1000\n",
      "max_depth = 50\n",
      "min_samples_split = 50\n",
      "min_samples_leaf = 5\n"
     ]
    },
    {
     "name": "stderr",
     "output_type": "stream",
     "text": [
      "[Parallel(n_jobs=-1)]: Using backend ThreadingBackend with 20 concurrent workers.\n",
      "[Parallel(n_jobs=-1)]: Done  10 tasks      | elapsed:    1.5s\n",
      "[Parallel(n_jobs=-1)]: Done 160 tasks      | elapsed:   11.7s\n",
      "[Parallel(n_jobs=-1)]: Done 410 tasks      | elapsed:   29.7s\n",
      "[Parallel(n_jobs=-1)]: Done 760 tasks      | elapsed:   54.3s\n",
      "[Parallel(n_jobs=-1)]: Done 1000 out of 1000 | elapsed:  1.2min finished\n",
      "[Parallel(n_jobs=20)]: Using backend ThreadingBackend with 20 concurrent workers.\n",
      "[Parallel(n_jobs=20)]: Done  10 tasks      | elapsed:    0.0s\n",
      "[Parallel(n_jobs=20)]: Done 160 tasks      | elapsed:    0.1s\n"
     ]
    },
    {
     "name": "stdout",
     "output_type": "stream",
     "text": [
      "done in 71.768s.\n"
     ]
    },
    {
     "name": "stderr",
     "output_type": "stream",
     "text": [
      "[Parallel(n_jobs=20)]: Done 410 tasks      | elapsed:    0.2s\n",
      "[Parallel(n_jobs=20)]: Done 760 tasks      | elapsed:    0.3s\n",
      "[Parallel(n_jobs=20)]: Done 1000 out of 1000 | elapsed:    0.4s finished\n"
     ]
    },
    {
     "name": "stdout",
     "output_type": "stream",
     "text": [
      "accuracy：0.67680\n",
      "precision_avg: 0.65537\n",
      "recall_avg: 0.67680\n",
      "f1_score_avg: 0.65753\n",
      "n_estimator = 1000\n",
      "max_depth = 50\n",
      "min_samples_split = 50\n",
      "min_samples_leaf = 10\n"
     ]
    },
    {
     "name": "stderr",
     "output_type": "stream",
     "text": [
      "[Parallel(n_jobs=-1)]: Using backend ThreadingBackend with 20 concurrent workers.\n",
      "[Parallel(n_jobs=-1)]: Done  10 tasks      | elapsed:    1.2s\n",
      "[Parallel(n_jobs=-1)]: Done 160 tasks      | elapsed:    9.3s\n",
      "[Parallel(n_jobs=-1)]: Done 410 tasks      | elapsed:   23.7s\n",
      "[Parallel(n_jobs=-1)]: Done 760 tasks      | elapsed:   43.3s\n",
      "[Parallel(n_jobs=-1)]: Done 1000 out of 1000 | elapsed:   56.7s finished\n",
      "[Parallel(n_jobs=20)]: Using backend ThreadingBackend with 20 concurrent workers.\n",
      "[Parallel(n_jobs=20)]: Done  10 tasks      | elapsed:    0.0s\n",
      "[Parallel(n_jobs=20)]: Done 160 tasks      | elapsed:    0.1s\n"
     ]
    },
    {
     "name": "stdout",
     "output_type": "stream",
     "text": [
      "done in 57.124s.\n"
     ]
    },
    {
     "name": "stderr",
     "output_type": "stream",
     "text": [
      "[Parallel(n_jobs=20)]: Done 410 tasks      | elapsed:    0.2s\n",
      "[Parallel(n_jobs=20)]: Done 760 tasks      | elapsed:    0.3s\n",
      "[Parallel(n_jobs=20)]: Done 1000 out of 1000 | elapsed:    0.4s finished\n"
     ]
    },
    {
     "name": "stdout",
     "output_type": "stream",
     "text": [
      "accuracy：0.66287\n",
      "precision_avg: 0.65631\n",
      "recall_avg: 0.66287\n",
      "f1_score_avg: 0.65235\n",
      "n_estimator = 1000\n",
      "max_depth = 50\n",
      "min_samples_split = 50\n",
      "min_samples_leaf = 20\n"
     ]
    },
    {
     "name": "stderr",
     "output_type": "stream",
     "text": [
      "[Parallel(n_jobs=-1)]: Using backend ThreadingBackend with 20 concurrent workers.\n",
      "[Parallel(n_jobs=-1)]: Done  10 tasks      | elapsed:    0.9s\n",
      "[Parallel(n_jobs=-1)]: Done 160 tasks      | elapsed:    7.1s\n",
      "[Parallel(n_jobs=-1)]: Done 410 tasks      | elapsed:   17.9s\n",
      "[Parallel(n_jobs=-1)]: Done 760 tasks      | elapsed:   32.5s\n",
      "[Parallel(n_jobs=-1)]: Done 1000 out of 1000 | elapsed:   42.5s finished\n",
      "[Parallel(n_jobs=20)]: Using backend ThreadingBackend with 20 concurrent workers.\n",
      "[Parallel(n_jobs=20)]: Done  10 tasks      | elapsed:    0.0s\n",
      "[Parallel(n_jobs=20)]: Done 160 tasks      | elapsed:    0.1s\n",
      "[Parallel(n_jobs=20)]: Done 410 tasks      | elapsed:    0.2s\n"
     ]
    },
    {
     "name": "stdout",
     "output_type": "stream",
     "text": [
      "done in 42.894s.\n"
     ]
    },
    {
     "name": "stderr",
     "output_type": "stream",
     "text": [
      "[Parallel(n_jobs=20)]: Done 760 tasks      | elapsed:    0.3s\n",
      "[Parallel(n_jobs=20)]: Done 1000 out of 1000 | elapsed:    0.4s finished\n"
     ]
    },
    {
     "name": "stdout",
     "output_type": "stream",
     "text": [
      "accuracy：0.65207\n",
      "precision_avg: 0.66410\n",
      "recall_avg: 0.65207\n",
      "f1_score_avg: 0.65005\n",
      "n_estimator = 5000\n",
      "max_depth = 10\n",
      "min_samples_split = 2\n",
      "min_samples_leaf = 1\n"
     ]
    },
    {
     "name": "stderr",
     "output_type": "stream",
     "text": [
      "[Parallel(n_jobs=-1)]: Using backend ThreadingBackend with 20 concurrent workers.\n",
      "[Parallel(n_jobs=-1)]: Done  10 tasks      | elapsed:    0.2s\n",
      "[Parallel(n_jobs=-1)]: Done 160 tasks      | elapsed:    1.4s\n",
      "[Parallel(n_jobs=-1)]: Done 410 tasks      | elapsed:    3.4s\n",
      "[Parallel(n_jobs=-1)]: Done 760 tasks      | elapsed:    5.9s\n",
      "[Parallel(n_jobs=-1)]: Done 1210 tasks      | elapsed:    9.2s\n",
      "[Parallel(n_jobs=-1)]: Done 1760 tasks      | elapsed:   13.1s\n",
      "[Parallel(n_jobs=-1)]: Done 2410 tasks      | elapsed:   17.9s\n",
      "[Parallel(n_jobs=-1)]: Done 3160 tasks      | elapsed:   23.3s\n",
      "[Parallel(n_jobs=-1)]: Done 4010 tasks      | elapsed:   29.6s\n",
      "[Parallel(n_jobs=-1)]: Done 4960 tasks      | elapsed:   36.5s\n",
      "[Parallel(n_jobs=-1)]: Done 5000 out of 5000 | elapsed:   36.7s finished\n",
      "[Parallel(n_jobs=20)]: Using backend ThreadingBackend with 20 concurrent workers.\n",
      "[Parallel(n_jobs=20)]: Done  10 tasks      | elapsed:    0.0s\n",
      "[Parallel(n_jobs=20)]: Done 160 tasks      | elapsed:    0.1s\n"
     ]
    },
    {
     "name": "stdout",
     "output_type": "stream",
     "text": [
      "done in 38.402s.\n"
     ]
    },
    {
     "name": "stderr",
     "output_type": "stream",
     "text": [
      "[Parallel(n_jobs=20)]: Done 410 tasks      | elapsed:    0.2s\n",
      "[Parallel(n_jobs=20)]: Done 760 tasks      | elapsed:    0.3s\n",
      "[Parallel(n_jobs=20)]: Done 1210 tasks      | elapsed:    0.5s\n",
      "[Parallel(n_jobs=20)]: Done 1760 tasks      | elapsed:    0.6s\n",
      "[Parallel(n_jobs=20)]: Done 2410 tasks      | elapsed:    0.8s\n",
      "[Parallel(n_jobs=20)]: Done 3160 tasks      | elapsed:    1.1s\n",
      "[Parallel(n_jobs=20)]: Done 4010 tasks      | elapsed:    1.4s\n",
      "[Parallel(n_jobs=20)]: Done 4960 tasks      | elapsed:    1.6s\n",
      "[Parallel(n_jobs=20)]: Done 5000 out of 5000 | elapsed:    1.7s finished\n"
     ]
    },
    {
     "name": "stdout",
     "output_type": "stream",
     "text": [
      "accuracy：0.63060\n",
      "precision_avg: 0.66017\n",
      "recall_avg: 0.63060\n",
      "f1_score_avg: 0.62910\n",
      "n_estimator = 5000\n",
      "max_depth = 10\n",
      "min_samples_split = 10\n",
      "min_samples_leaf = 1\n"
     ]
    },
    {
     "name": "stderr",
     "output_type": "stream",
     "text": [
      "[Parallel(n_jobs=-1)]: Using backend ThreadingBackend with 20 concurrent workers.\n",
      "[Parallel(n_jobs=-1)]: Done  10 tasks      | elapsed:    0.2s\n",
      "[Parallel(n_jobs=-1)]: Done 160 tasks      | elapsed:    1.3s\n",
      "[Parallel(n_jobs=-1)]: Done 410 tasks      | elapsed:    3.1s\n",
      "[Parallel(n_jobs=-1)]: Done 760 tasks      | elapsed:    5.5s\n",
      "[Parallel(n_jobs=-1)]: Done 1210 tasks      | elapsed:    8.8s\n",
      "[Parallel(n_jobs=-1)]: Done 1760 tasks      | elapsed:   12.6s\n",
      "[Parallel(n_jobs=-1)]: Done 2410 tasks      | elapsed:   17.2s\n",
      "[Parallel(n_jobs=-1)]: Done 3160 tasks      | elapsed:   22.5s\n",
      "[Parallel(n_jobs=-1)]: Done 4010 tasks      | elapsed:   28.4s\n",
      "[Parallel(n_jobs=-1)]: Done 4960 tasks      | elapsed:   35.1s\n",
      "[Parallel(n_jobs=-1)]: Done 5000 out of 5000 | elapsed:   35.4s finished\n",
      "[Parallel(n_jobs=20)]: Using backend ThreadingBackend with 20 concurrent workers.\n",
      "[Parallel(n_jobs=20)]: Done  10 tasks      | elapsed:    0.0s\n",
      "[Parallel(n_jobs=20)]: Done 160 tasks      | elapsed:    0.1s\n",
      "[Parallel(n_jobs=20)]: Done 410 tasks      | elapsed:    0.2s\n"
     ]
    },
    {
     "name": "stdout",
     "output_type": "stream",
     "text": [
      "done in 37.007s.\n"
     ]
    },
    {
     "name": "stderr",
     "output_type": "stream",
     "text": [
      "[Parallel(n_jobs=20)]: Done 760 tasks      | elapsed:    0.3s\n",
      "[Parallel(n_jobs=20)]: Done 1210 tasks      | elapsed:    0.4s\n",
      "[Parallel(n_jobs=20)]: Done 1760 tasks      | elapsed:    0.6s\n",
      "[Parallel(n_jobs=20)]: Done 2410 tasks      | elapsed:    0.9s\n",
      "[Parallel(n_jobs=20)]: Done 3160 tasks      | elapsed:    1.1s\n",
      "[Parallel(n_jobs=20)]: Done 4010 tasks      | elapsed:    1.4s\n",
      "[Parallel(n_jobs=20)]: Done 4960 tasks      | elapsed:    1.7s\n",
      "[Parallel(n_jobs=20)]: Done 5000 out of 5000 | elapsed:    1.7s finished\n"
     ]
    },
    {
     "name": "stdout",
     "output_type": "stream",
     "text": [
      "accuracy：0.62940\n",
      "precision_avg: 0.66142\n",
      "recall_avg: 0.62940\n",
      "f1_score_avg: 0.62865\n",
      "n_estimator = 5000\n",
      "max_depth = 10\n",
      "min_samples_split = 10\n",
      "min_samples_leaf = 5\n"
     ]
    },
    {
     "name": "stderr",
     "output_type": "stream",
     "text": [
      "[Parallel(n_jobs=-1)]: Using backend ThreadingBackend with 20 concurrent workers.\n",
      "[Parallel(n_jobs=-1)]: Done  10 tasks      | elapsed:    0.2s\n",
      "[Parallel(n_jobs=-1)]: Done 160 tasks      | elapsed:    1.3s\n",
      "[Parallel(n_jobs=-1)]: Done 410 tasks      | elapsed:    3.1s\n",
      "[Parallel(n_jobs=-1)]: Done 760 tasks      | elapsed:    5.5s\n",
      "[Parallel(n_jobs=-1)]: Done 1210 tasks      | elapsed:    8.6s\n",
      "[Parallel(n_jobs=-1)]: Done 1760 tasks      | elapsed:   12.4s\n",
      "[Parallel(n_jobs=-1)]: Done 2410 tasks      | elapsed:   17.0s\n",
      "[Parallel(n_jobs=-1)]: Done 3160 tasks      | elapsed:   22.1s\n",
      "[Parallel(n_jobs=-1)]: Done 4010 tasks      | elapsed:   28.1s\n",
      "[Parallel(n_jobs=-1)]: Done 4960 tasks      | elapsed:   34.7s\n",
      "[Parallel(n_jobs=-1)]: Done 5000 out of 5000 | elapsed:   35.0s finished\n",
      "[Parallel(n_jobs=20)]: Using backend ThreadingBackend with 20 concurrent workers.\n",
      "[Parallel(n_jobs=20)]: Done  10 tasks      | elapsed:    0.0s\n",
      "[Parallel(n_jobs=20)]: Done 160 tasks      | elapsed:    0.1s\n",
      "[Parallel(n_jobs=20)]: Done 410 tasks      | elapsed:    0.2s\n"
     ]
    },
    {
     "name": "stdout",
     "output_type": "stream",
     "text": [
      "done in 36.731s.\n"
     ]
    },
    {
     "name": "stderr",
     "output_type": "stream",
     "text": [
      "[Parallel(n_jobs=20)]: Done 760 tasks      | elapsed:    0.3s\n",
      "[Parallel(n_jobs=20)]: Done 1210 tasks      | elapsed:    0.4s\n",
      "[Parallel(n_jobs=20)]: Done 1760 tasks      | elapsed:    0.6s\n",
      "[Parallel(n_jobs=20)]: Done 2410 tasks      | elapsed:    0.9s\n",
      "[Parallel(n_jobs=20)]: Done 3160 tasks      | elapsed:    1.1s\n",
      "[Parallel(n_jobs=20)]: Done 4010 tasks      | elapsed:    1.4s\n",
      "[Parallel(n_jobs=20)]: Done 4960 tasks      | elapsed:    1.7s\n",
      "[Parallel(n_jobs=20)]: Done 5000 out of 5000 | elapsed:    1.7s finished\n"
     ]
    },
    {
     "name": "stdout",
     "output_type": "stream",
     "text": [
      "accuracy：0.62800\n",
      "precision_avg: 0.66301\n",
      "recall_avg: 0.62800\n",
      "f1_score_avg: 0.62798\n",
      "n_estimator = 5000\n",
      "max_depth = 10\n",
      "min_samples_split = 50\n",
      "min_samples_leaf = 1\n"
     ]
    },
    {
     "name": "stderr",
     "output_type": "stream",
     "text": [
      "[Parallel(n_jobs=-1)]: Using backend ThreadingBackend with 20 concurrent workers.\n",
      "[Parallel(n_jobs=-1)]: Done  10 tasks      | elapsed:    0.2s\n",
      "[Parallel(n_jobs=-1)]: Done 160 tasks      | elapsed:    1.3s\n",
      "[Parallel(n_jobs=-1)]: Done 410 tasks      | elapsed:    3.0s\n",
      "[Parallel(n_jobs=-1)]: Done 760 tasks      | elapsed:    5.4s\n",
      "[Parallel(n_jobs=-1)]: Done 1210 tasks      | elapsed:    8.5s\n",
      "[Parallel(n_jobs=-1)]: Done 1760 tasks      | elapsed:   12.2s\n",
      "[Parallel(n_jobs=-1)]: Done 2410 tasks      | elapsed:   16.7s\n",
      "[Parallel(n_jobs=-1)]: Done 3160 tasks      | elapsed:   21.8s\n",
      "[Parallel(n_jobs=-1)]: Done 4010 tasks      | elapsed:   27.6s\n",
      "[Parallel(n_jobs=-1)]: Done 4960 tasks      | elapsed:   33.9s\n",
      "[Parallel(n_jobs=-1)]: Done 5000 out of 5000 | elapsed:   34.2s finished\n",
      "[Parallel(n_jobs=20)]: Using backend ThreadingBackend with 20 concurrent workers.\n",
      "[Parallel(n_jobs=20)]: Done  10 tasks      | elapsed:    0.0s\n",
      "[Parallel(n_jobs=20)]: Done 160 tasks      | elapsed:    0.1s\n",
      "[Parallel(n_jobs=20)]: Done 410 tasks      | elapsed:    0.1s\n"
     ]
    },
    {
     "name": "stdout",
     "output_type": "stream",
     "text": [
      "done in 35.816s.\n"
     ]
    },
    {
     "name": "stderr",
     "output_type": "stream",
     "text": [
      "[Parallel(n_jobs=20)]: Done 760 tasks      | elapsed:    0.2s\n",
      "[Parallel(n_jobs=20)]: Done 1210 tasks      | elapsed:    0.4s\n",
      "[Parallel(n_jobs=20)]: Done 1760 tasks      | elapsed:    0.5s\n",
      "[Parallel(n_jobs=20)]: Done 2410 tasks      | elapsed:    0.7s\n",
      "[Parallel(n_jobs=20)]: Done 3160 tasks      | elapsed:    0.9s\n",
      "[Parallel(n_jobs=20)]: Done 4010 tasks      | elapsed:    1.2s\n",
      "[Parallel(n_jobs=20)]: Done 4960 tasks      | elapsed:    1.4s\n",
      "[Parallel(n_jobs=20)]: Done 5000 out of 5000 | elapsed:    1.4s finished\n"
     ]
    },
    {
     "name": "stdout",
     "output_type": "stream",
     "text": [
      "accuracy：0.62813\n",
      "precision_avg: 0.66317\n",
      "recall_avg: 0.62813\n",
      "f1_score_avg: 0.62823\n",
      "n_estimator = 5000\n",
      "max_depth = 10\n",
      "min_samples_split = 50\n",
      "min_samples_leaf = 5\n"
     ]
    },
    {
     "name": "stderr",
     "output_type": "stream",
     "text": [
      "[Parallel(n_jobs=-1)]: Using backend ThreadingBackend with 20 concurrent workers.\n",
      "[Parallel(n_jobs=-1)]: Done  10 tasks      | elapsed:    0.2s\n",
      "[Parallel(n_jobs=-1)]: Done 160 tasks      | elapsed:    1.2s\n",
      "[Parallel(n_jobs=-1)]: Done 410 tasks      | elapsed:    2.9s\n",
      "[Parallel(n_jobs=-1)]: Done 760 tasks      | elapsed:    5.3s\n",
      "[Parallel(n_jobs=-1)]: Done 1210 tasks      | elapsed:    8.3s\n",
      "[Parallel(n_jobs=-1)]: Done 1760 tasks      | elapsed:   11.9s\n",
      "[Parallel(n_jobs=-1)]: Done 2410 tasks      | elapsed:   16.3s\n",
      "[Parallel(n_jobs=-1)]: Done 3160 tasks      | elapsed:   21.3s\n",
      "[Parallel(n_jobs=-1)]: Done 4010 tasks      | elapsed:   27.0s\n",
      "[Parallel(n_jobs=-1)]: Done 4960 tasks      | elapsed:   33.4s\n",
      "[Parallel(n_jobs=-1)]: Done 5000 out of 5000 | elapsed:   33.7s finished\n",
      "[Parallel(n_jobs=20)]: Using backend ThreadingBackend with 20 concurrent workers.\n",
      "[Parallel(n_jobs=20)]: Done  10 tasks      | elapsed:    0.0s\n",
      "[Parallel(n_jobs=20)]: Done 160 tasks      | elapsed:    0.1s\n",
      "[Parallel(n_jobs=20)]: Done 410 tasks      | elapsed:    0.2s\n"
     ]
    },
    {
     "name": "stdout",
     "output_type": "stream",
     "text": [
      "done in 35.318s.\n"
     ]
    },
    {
     "name": "stderr",
     "output_type": "stream",
     "text": [
      "[Parallel(n_jobs=20)]: Done 760 tasks      | elapsed:    0.3s\n",
      "[Parallel(n_jobs=20)]: Done 1210 tasks      | elapsed:    0.4s\n",
      "[Parallel(n_jobs=20)]: Done 1760 tasks      | elapsed:    0.6s\n",
      "[Parallel(n_jobs=20)]: Done 2410 tasks      | elapsed:    0.8s\n",
      "[Parallel(n_jobs=20)]: Done 3160 tasks      | elapsed:    1.1s\n",
      "[Parallel(n_jobs=20)]: Done 4010 tasks      | elapsed:    1.4s\n",
      "[Parallel(n_jobs=20)]: Done 4960 tasks      | elapsed:    1.7s\n",
      "[Parallel(n_jobs=20)]: Done 5000 out of 5000 | elapsed:    1.7s finished\n"
     ]
    },
    {
     "name": "stdout",
     "output_type": "stream",
     "text": [
      "accuracy：0.62753\n",
      "precision_avg: 0.66324\n",
      "recall_avg: 0.62753\n",
      "f1_score_avg: 0.62773\n",
      "n_estimator = 5000\n",
      "max_depth = 10\n",
      "min_samples_split = 50\n",
      "min_samples_leaf = 10\n"
     ]
    },
    {
     "name": "stderr",
     "output_type": "stream",
     "text": [
      "[Parallel(n_jobs=-1)]: Using backend ThreadingBackend with 20 concurrent workers.\n",
      "[Parallel(n_jobs=-1)]: Done  10 tasks      | elapsed:    0.2s\n",
      "[Parallel(n_jobs=-1)]: Done 160 tasks      | elapsed:    1.3s\n",
      "[Parallel(n_jobs=-1)]: Done 410 tasks      | elapsed:    2.9s\n",
      "[Parallel(n_jobs=-1)]: Done 760 tasks      | elapsed:    5.3s\n",
      "[Parallel(n_jobs=-1)]: Done 1210 tasks      | elapsed:    8.2s\n",
      "[Parallel(n_jobs=-1)]: Done 1760 tasks      | elapsed:   11.9s\n",
      "[Parallel(n_jobs=-1)]: Done 2410 tasks      | elapsed:   16.3s\n",
      "[Parallel(n_jobs=-1)]: Done 3160 tasks      | elapsed:   21.3s\n",
      "[Parallel(n_jobs=-1)]: Done 4010 tasks      | elapsed:   26.9s\n",
      "[Parallel(n_jobs=-1)]: Done 4960 tasks      | elapsed:   33.2s\n",
      "[Parallel(n_jobs=-1)]: Done 5000 out of 5000 | elapsed:   33.4s finished\n",
      "[Parallel(n_jobs=20)]: Using backend ThreadingBackend with 20 concurrent workers.\n",
      "[Parallel(n_jobs=20)]: Done  10 tasks      | elapsed:    0.0s\n",
      "[Parallel(n_jobs=20)]: Done 160 tasks      | elapsed:    0.1s\n"
     ]
    },
    {
     "name": "stdout",
     "output_type": "stream",
     "text": [
      "done in 35.277s.\n"
     ]
    },
    {
     "name": "stderr",
     "output_type": "stream",
     "text": [
      "[Parallel(n_jobs=20)]: Done 410 tasks      | elapsed:    0.2s\n",
      "[Parallel(n_jobs=20)]: Done 760 tasks      | elapsed:    0.3s\n",
      "[Parallel(n_jobs=20)]: Done 1210 tasks      | elapsed:    0.4s\n",
      "[Parallel(n_jobs=20)]: Done 1760 tasks      | elapsed:    0.6s\n",
      "[Parallel(n_jobs=20)]: Done 2410 tasks      | elapsed:    0.8s\n",
      "[Parallel(n_jobs=20)]: Done 3160 tasks      | elapsed:    1.1s\n",
      "[Parallel(n_jobs=20)]: Done 4010 tasks      | elapsed:    1.3s\n",
      "[Parallel(n_jobs=20)]: Done 4960 tasks      | elapsed:    1.6s\n",
      "[Parallel(n_jobs=20)]: Done 5000 out of 5000 | elapsed:    1.6s finished\n"
     ]
    },
    {
     "name": "stdout",
     "output_type": "stream",
     "text": [
      "accuracy：0.62607\n",
      "precision_avg: 0.66336\n",
      "recall_avg: 0.62607\n",
      "f1_score_avg: 0.62671\n",
      "n_estimator = 5000\n",
      "max_depth = 10\n",
      "min_samples_split = 50\n",
      "min_samples_leaf = 20\n"
     ]
    },
    {
     "name": "stderr",
     "output_type": "stream",
     "text": [
      "[Parallel(n_jobs=-1)]: Using backend ThreadingBackend with 20 concurrent workers.\n",
      "[Parallel(n_jobs=-1)]: Done  10 tasks      | elapsed:    0.2s\n",
      "[Parallel(n_jobs=-1)]: Done 160 tasks      | elapsed:    1.2s\n",
      "[Parallel(n_jobs=-1)]: Done 410 tasks      | elapsed:    2.9s\n",
      "[Parallel(n_jobs=-1)]: Done 760 tasks      | elapsed:    5.3s\n",
      "[Parallel(n_jobs=-1)]: Done 1210 tasks      | elapsed:    8.5s\n",
      "[Parallel(n_jobs=-1)]: Done 1760 tasks      | elapsed:   12.2s\n",
      "[Parallel(n_jobs=-1)]: Done 2410 tasks      | elapsed:   16.5s\n",
      "[Parallel(n_jobs=-1)]: Done 3160 tasks      | elapsed:   21.4s\n",
      "[Parallel(n_jobs=-1)]: Done 4010 tasks      | elapsed:   26.9s\n",
      "[Parallel(n_jobs=-1)]: Done 4960 tasks      | elapsed:   33.2s\n",
      "[Parallel(n_jobs=-1)]: Done 5000 out of 5000 | elapsed:   33.4s finished\n",
      "[Parallel(n_jobs=20)]: Using backend ThreadingBackend with 20 concurrent workers.\n",
      "[Parallel(n_jobs=20)]: Done  10 tasks      | elapsed:    0.0s\n",
      "[Parallel(n_jobs=20)]: Done 160 tasks      | elapsed:    0.1s\n"
     ]
    },
    {
     "name": "stdout",
     "output_type": "stream",
     "text": [
      "done in 35.092s.\n"
     ]
    },
    {
     "name": "stderr",
     "output_type": "stream",
     "text": [
      "[Parallel(n_jobs=20)]: Done 410 tasks      | elapsed:    0.2s\n",
      "[Parallel(n_jobs=20)]: Done 760 tasks      | elapsed:    0.3s\n",
      "[Parallel(n_jobs=20)]: Done 1210 tasks      | elapsed:    0.4s\n",
      "[Parallel(n_jobs=20)]: Done 1760 tasks      | elapsed:    0.6s\n",
      "[Parallel(n_jobs=20)]: Done 2410 tasks      | elapsed:    0.8s\n",
      "[Parallel(n_jobs=20)]: Done 3160 tasks      | elapsed:    1.1s\n",
      "[Parallel(n_jobs=20)]: Done 4010 tasks      | elapsed:    1.3s\n",
      "[Parallel(n_jobs=20)]: Done 4960 tasks      | elapsed:    1.6s\n",
      "[Parallel(n_jobs=20)]: Done 5000 out of 5000 | elapsed:    1.6s finished\n"
     ]
    },
    {
     "name": "stdout",
     "output_type": "stream",
     "text": [
      "accuracy：0.62340\n",
      "precision_avg: 0.66256\n",
      "recall_avg: 0.62340\n",
      "f1_score_avg: 0.62449\n",
      "n_estimator = 5000\n",
      "max_depth = 20\n",
      "min_samples_split = 2\n",
      "min_samples_leaf = 1\n"
     ]
    },
    {
     "name": "stderr",
     "output_type": "stream",
     "text": [
      "[Parallel(n_jobs=-1)]: Using backend ThreadingBackend with 20 concurrent workers.\n",
      "[Parallel(n_jobs=-1)]: Done  10 tasks      | elapsed:    0.5s\n",
      "[Parallel(n_jobs=-1)]: Done 160 tasks      | elapsed:    4.2s\n",
      "[Parallel(n_jobs=-1)]: Done 410 tasks      | elapsed:   10.3s\n",
      "[Parallel(n_jobs=-1)]: Done 760 tasks      | elapsed:   18.9s\n",
      "[Parallel(n_jobs=-1)]: Done 1210 tasks      | elapsed:   29.9s\n",
      "[Parallel(n_jobs=-1)]: Done 1760 tasks      | elapsed:   43.1s\n",
      "[Parallel(n_jobs=-1)]: Done 2410 tasks      | elapsed:   58.9s\n",
      "[Parallel(n_jobs=-1)]: Done 3160 tasks      | elapsed:  1.3min\n",
      "[Parallel(n_jobs=-1)]: Done 4010 tasks      | elapsed:  1.6min\n",
      "[Parallel(n_jobs=-1)]: Done 4960 tasks      | elapsed:  2.0min\n",
      "[Parallel(n_jobs=-1)]: Done 5000 out of 5000 | elapsed:  2.0min finished\n",
      "[Parallel(n_jobs=20)]: Using backend ThreadingBackend with 20 concurrent workers.\n",
      "[Parallel(n_jobs=20)]: Done  10 tasks      | elapsed:    0.0s\n",
      "[Parallel(n_jobs=20)]: Done 160 tasks      | elapsed:    0.1s\n"
     ]
    },
    {
     "name": "stdout",
     "output_type": "stream",
     "text": [
      "done in 123.007s.\n"
     ]
    },
    {
     "name": "stderr",
     "output_type": "stream",
     "text": [
      "[Parallel(n_jobs=20)]: Done 410 tasks      | elapsed:    0.2s\n",
      "[Parallel(n_jobs=20)]: Done 760 tasks      | elapsed:    0.3s\n",
      "[Parallel(n_jobs=20)]: Done 1210 tasks      | elapsed:    0.4s\n",
      "[Parallel(n_jobs=20)]: Done 1760 tasks      | elapsed:    0.6s\n",
      "[Parallel(n_jobs=20)]: Done 2410 tasks      | elapsed:    0.8s\n",
      "[Parallel(n_jobs=20)]: Done 3160 tasks      | elapsed:    1.1s\n",
      "[Parallel(n_jobs=20)]: Done 4010 tasks      | elapsed:    1.4s\n",
      "[Parallel(n_jobs=20)]: Done 4960 tasks      | elapsed:    1.7s\n",
      "[Parallel(n_jobs=20)]: Done 5000 out of 5000 | elapsed:    1.7s finished\n"
     ]
    },
    {
     "name": "stdout",
     "output_type": "stream",
     "text": [
      "accuracy：0.66580\n",
      "precision_avg: 0.65734\n",
      "recall_avg: 0.66580\n",
      "f1_score_avg: 0.65244\n",
      "n_estimator = 5000\n",
      "max_depth = 20\n",
      "min_samples_split = 10\n",
      "min_samples_leaf = 1\n"
     ]
    },
    {
     "name": "stderr",
     "output_type": "stream",
     "text": [
      "[Parallel(n_jobs=-1)]: Using backend ThreadingBackend with 20 concurrent workers.\n",
      "[Parallel(n_jobs=-1)]: Done  10 tasks      | elapsed:    0.5s\n",
      "[Parallel(n_jobs=-1)]: Done 160 tasks      | elapsed:    3.8s\n",
      "[Parallel(n_jobs=-1)]: Done 410 tasks      | elapsed:    9.4s\n",
      "[Parallel(n_jobs=-1)]: Done 760 tasks      | elapsed:   17.2s\n",
      "[Parallel(n_jobs=-1)]: Done 1210 tasks      | elapsed:   27.2s\n",
      "[Parallel(n_jobs=-1)]: Done 1760 tasks      | elapsed:   39.3s\n",
      "[Parallel(n_jobs=-1)]: Done 2410 tasks      | elapsed:   53.5s\n",
      "[Parallel(n_jobs=-1)]: Done 3160 tasks      | elapsed:  1.2min\n",
      "[Parallel(n_jobs=-1)]: Done 4010 tasks      | elapsed:  1.5min\n",
      "[Parallel(n_jobs=-1)]: Done 4960 tasks      | elapsed:  1.8min\n",
      "[Parallel(n_jobs=-1)]: Done 5000 out of 5000 | elapsed:  1.8min finished\n",
      "[Parallel(n_jobs=20)]: Using backend ThreadingBackend with 20 concurrent workers.\n",
      "[Parallel(n_jobs=20)]: Done  10 tasks      | elapsed:    0.0s\n",
      "[Parallel(n_jobs=20)]: Done 160 tasks      | elapsed:    0.1s\n"
     ]
    },
    {
     "name": "stdout",
     "output_type": "stream",
     "text": [
      "done in 111.998s.\n"
     ]
    },
    {
     "name": "stderr",
     "output_type": "stream",
     "text": [
      "[Parallel(n_jobs=20)]: Done 410 tasks      | elapsed:    0.2s\n",
      "[Parallel(n_jobs=20)]: Done 760 tasks      | elapsed:    0.3s\n",
      "[Parallel(n_jobs=20)]: Done 1210 tasks      | elapsed:    0.5s\n",
      "[Parallel(n_jobs=20)]: Done 1760 tasks      | elapsed:    0.7s\n",
      "[Parallel(n_jobs=20)]: Done 2410 tasks      | elapsed:    0.9s\n",
      "[Parallel(n_jobs=20)]: Done 3160 tasks      | elapsed:    1.2s\n",
      "[Parallel(n_jobs=20)]: Done 4010 tasks      | elapsed:    1.4s\n",
      "[Parallel(n_jobs=20)]: Done 4960 tasks      | elapsed:    1.8s\n",
      "[Parallel(n_jobs=20)]: Done 5000 out of 5000 | elapsed:    1.8s finished\n"
     ]
    },
    {
     "name": "stdout",
     "output_type": "stream",
     "text": [
      "accuracy：0.66140\n",
      "precision_avg: 0.65890\n",
      "recall_avg: 0.66140\n",
      "f1_score_avg: 0.65097\n",
      "n_estimator = 5000\n",
      "max_depth = 20\n",
      "min_samples_split = 10\n",
      "min_samples_leaf = 5\n"
     ]
    },
    {
     "name": "stderr",
     "output_type": "stream",
     "text": [
      "[Parallel(n_jobs=-1)]: Using backend ThreadingBackend with 20 concurrent workers.\n",
      "[Parallel(n_jobs=-1)]: Done  10 tasks      | elapsed:    0.5s\n",
      "[Parallel(n_jobs=-1)]: Done 160 tasks      | elapsed:    3.5s\n",
      "[Parallel(n_jobs=-1)]: Done 410 tasks      | elapsed:    8.5s\n",
      "[Parallel(n_jobs=-1)]: Done 760 tasks      | elapsed:   15.6s\n",
      "[Parallel(n_jobs=-1)]: Done 1210 tasks      | elapsed:   24.5s\n",
      "[Parallel(n_jobs=-1)]: Done 1760 tasks      | elapsed:   35.4s\n",
      "[Parallel(n_jobs=-1)]: Done 2410 tasks      | elapsed:   48.3s\n",
      "[Parallel(n_jobs=-1)]: Done 3160 tasks      | elapsed:  1.1min\n",
      "[Parallel(n_jobs=-1)]: Done 4010 tasks      | elapsed:  1.3min\n",
      "[Parallel(n_jobs=-1)]: Done 4960 tasks      | elapsed:  1.7min\n",
      "[Parallel(n_jobs=-1)]: Done 5000 out of 5000 | elapsed:  1.7min finished\n",
      "[Parallel(n_jobs=20)]: Using backend ThreadingBackend with 20 concurrent workers.\n",
      "[Parallel(n_jobs=20)]: Done  10 tasks      | elapsed:    0.0s\n",
      "[Parallel(n_jobs=20)]: Done 160 tasks      | elapsed:    0.1s\n",
      "[Parallel(n_jobs=20)]: Done 410 tasks      | elapsed:    0.2s\n"
     ]
    },
    {
     "name": "stdout",
     "output_type": "stream",
     "text": [
      "done in 101.752s.\n"
     ]
    },
    {
     "name": "stderr",
     "output_type": "stream",
     "text": [
      "[Parallel(n_jobs=20)]: Done 760 tasks      | elapsed:    0.3s\n",
      "[Parallel(n_jobs=20)]: Done 1210 tasks      | elapsed:    0.4s\n",
      "[Parallel(n_jobs=20)]: Done 1760 tasks      | elapsed:    0.6s\n",
      "[Parallel(n_jobs=20)]: Done 2410 tasks      | elapsed:    0.9s\n",
      "[Parallel(n_jobs=20)]: Done 3160 tasks      | elapsed:    1.1s\n",
      "[Parallel(n_jobs=20)]: Done 4010 tasks      | elapsed:    1.4s\n",
      "[Parallel(n_jobs=20)]: Done 4960 tasks      | elapsed:    1.7s\n",
      "[Parallel(n_jobs=20)]: Done 5000 out of 5000 | elapsed:    1.7s finished\n"
     ]
    },
    {
     "name": "stdout",
     "output_type": "stream",
     "text": [
      "accuracy：0.65073\n",
      "precision_avg: 0.66027\n",
      "recall_avg: 0.65073\n",
      "f1_score_avg: 0.64531\n",
      "n_estimator = 5000\n",
      "max_depth = 20\n",
      "min_samples_split = 50\n",
      "min_samples_leaf = 1\n"
     ]
    },
    {
     "name": "stderr",
     "output_type": "stream",
     "text": [
      "[Parallel(n_jobs=-1)]: Using backend ThreadingBackend with 20 concurrent workers.\n",
      "[Parallel(n_jobs=-1)]: Done  10 tasks      | elapsed:    0.4s\n",
      "[Parallel(n_jobs=-1)]: Done 160 tasks      | elapsed:    3.3s\n",
      "[Parallel(n_jobs=-1)]: Done 410 tasks      | elapsed:    7.9s\n",
      "[Parallel(n_jobs=-1)]: Done 760 tasks      | elapsed:   14.5s\n",
      "[Parallel(n_jobs=-1)]: Done 1210 tasks      | elapsed:   22.8s\n",
      "[Parallel(n_jobs=-1)]: Done 1760 tasks      | elapsed:   33.0s\n",
      "[Parallel(n_jobs=-1)]: Done 2410 tasks      | elapsed:   45.0s\n",
      "[Parallel(n_jobs=-1)]: Done 3160 tasks      | elapsed:   59.1s\n",
      "[Parallel(n_jobs=-1)]: Done 4010 tasks      | elapsed:  1.2min\n",
      "[Parallel(n_jobs=-1)]: Done 4960 tasks      | elapsed:  1.5min\n",
      "[Parallel(n_jobs=-1)]: Done 5000 out of 5000 | elapsed:  1.6min finished\n",
      "[Parallel(n_jobs=20)]: Using backend ThreadingBackend with 20 concurrent workers.\n",
      "[Parallel(n_jobs=20)]: Done  10 tasks      | elapsed:    0.0s\n",
      "[Parallel(n_jobs=20)]: Done 160 tasks      | elapsed:    0.1s\n",
      "[Parallel(n_jobs=20)]: Done 410 tasks      | elapsed:    0.2s\n"
     ]
    },
    {
     "name": "stdout",
     "output_type": "stream",
     "text": [
      "done in 94.666s.\n"
     ]
    },
    {
     "name": "stderr",
     "output_type": "stream",
     "text": [
      "[Parallel(n_jobs=20)]: Done 760 tasks      | elapsed:    0.3s\n",
      "[Parallel(n_jobs=20)]: Done 1210 tasks      | elapsed:    0.5s\n",
      "[Parallel(n_jobs=20)]: Done 1760 tasks      | elapsed:    0.7s\n",
      "[Parallel(n_jobs=20)]: Done 2410 tasks      | elapsed:    0.9s\n",
      "[Parallel(n_jobs=20)]: Done 3160 tasks      | elapsed:    1.1s\n",
      "[Parallel(n_jobs=20)]: Done 4010 tasks      | elapsed:    1.4s\n",
      "[Parallel(n_jobs=20)]: Done 4960 tasks      | elapsed:    1.8s\n",
      "[Parallel(n_jobs=20)]: Done 5000 out of 5000 | elapsed:    1.8s finished\n"
     ]
    },
    {
     "name": "stdout",
     "output_type": "stream",
     "text": [
      "accuracy：0.65153\n",
      "precision_avg: 0.66072\n",
      "recall_avg: 0.65153\n",
      "f1_score_avg: 0.64593\n",
      "n_estimator = 5000\n",
      "max_depth = 20\n",
      "min_samples_split = 50\n",
      "min_samples_leaf = 5\n"
     ]
    },
    {
     "name": "stderr",
     "output_type": "stream",
     "text": [
      "[Parallel(n_jobs=-1)]: Using backend ThreadingBackend with 20 concurrent workers.\n",
      "[Parallel(n_jobs=-1)]: Done  10 tasks      | elapsed:    0.4s\n",
      "[Parallel(n_jobs=-1)]: Done 160 tasks      | elapsed:    3.2s\n",
      "[Parallel(n_jobs=-1)]: Done 410 tasks      | elapsed:    7.7s\n",
      "[Parallel(n_jobs=-1)]: Done 760 tasks      | elapsed:   14.1s\n",
      "[Parallel(n_jobs=-1)]: Done 1210 tasks      | elapsed:   22.1s\n",
      "[Parallel(n_jobs=-1)]: Done 1760 tasks      | elapsed:   32.0s\n",
      "[Parallel(n_jobs=-1)]: Done 2410 tasks      | elapsed:   43.9s\n",
      "[Parallel(n_jobs=-1)]: Done 3160 tasks      | elapsed:   57.3s\n",
      "[Parallel(n_jobs=-1)]: Done 4010 tasks      | elapsed:  1.2min\n",
      "[Parallel(n_jobs=-1)]: Done 4960 tasks      | elapsed:  1.5min\n",
      "[Parallel(n_jobs=-1)]: Done 5000 out of 5000 | elapsed:  1.5min finished\n",
      "[Parallel(n_jobs=20)]: Using backend ThreadingBackend with 20 concurrent workers.\n",
      "[Parallel(n_jobs=20)]: Done  10 tasks      | elapsed:    0.0s\n",
      "[Parallel(n_jobs=20)]: Done 160 tasks      | elapsed:    0.1s\n"
     ]
    },
    {
     "name": "stdout",
     "output_type": "stream",
     "text": [
      "done in 91.700s.\n"
     ]
    },
    {
     "name": "stderr",
     "output_type": "stream",
     "text": [
      "[Parallel(n_jobs=20)]: Done 410 tasks      | elapsed:    0.2s\n",
      "[Parallel(n_jobs=20)]: Done 760 tasks      | elapsed:    0.3s\n",
      "[Parallel(n_jobs=20)]: Done 1210 tasks      | elapsed:    0.4s\n",
      "[Parallel(n_jobs=20)]: Done 1760 tasks      | elapsed:    0.6s\n",
      "[Parallel(n_jobs=20)]: Done 2410 tasks      | elapsed:    0.8s\n",
      "[Parallel(n_jobs=20)]: Done 3160 tasks      | elapsed:    1.1s\n",
      "[Parallel(n_jobs=20)]: Done 4010 tasks      | elapsed:    1.3s\n",
      "[Parallel(n_jobs=20)]: Done 4960 tasks      | elapsed:    1.6s\n",
      "[Parallel(n_jobs=20)]: Done 5000 out of 5000 | elapsed:    1.6s finished\n"
     ]
    },
    {
     "name": "stdout",
     "output_type": "stream",
     "text": [
      "accuracy：0.64727\n",
      "precision_avg: 0.66113\n",
      "recall_avg: 0.64727\n",
      "f1_score_avg: 0.64339\n",
      "n_estimator = 5000\n",
      "max_depth = 20\n",
      "min_samples_split = 50\n",
      "min_samples_leaf = 10\n"
     ]
    },
    {
     "name": "stderr",
     "output_type": "stream",
     "text": [
      "[Parallel(n_jobs=-1)]: Using backend ThreadingBackend with 20 concurrent workers.\n",
      "[Parallel(n_jobs=-1)]: Done  10 tasks      | elapsed:    0.4s\n",
      "[Parallel(n_jobs=-1)]: Done 160 tasks      | elapsed:    3.0s\n",
      "[Parallel(n_jobs=-1)]: Done 410 tasks      | elapsed:    7.3s\n",
      "[Parallel(n_jobs=-1)]: Done 760 tasks      | elapsed:   13.4s\n",
      "[Parallel(n_jobs=-1)]: Done 1210 tasks      | elapsed:   20.9s\n",
      "[Parallel(n_jobs=-1)]: Done 1760 tasks      | elapsed:   30.3s\n",
      "[Parallel(n_jobs=-1)]: Done 2410 tasks      | elapsed:   41.4s\n",
      "[Parallel(n_jobs=-1)]: Done 3160 tasks      | elapsed:   54.2s\n",
      "[Parallel(n_jobs=-1)]: Done 4010 tasks      | elapsed:  1.1min\n",
      "[Parallel(n_jobs=-1)]: Done 4960 tasks      | elapsed:  1.4min\n",
      "[Parallel(n_jobs=-1)]: Done 5000 out of 5000 | elapsed:  1.4min finished\n",
      "[Parallel(n_jobs=20)]: Using backend ThreadingBackend with 20 concurrent workers.\n",
      "[Parallel(n_jobs=20)]: Done  10 tasks      | elapsed:    0.0s\n",
      "[Parallel(n_jobs=20)]: Done 160 tasks      | elapsed:    0.1s\n"
     ]
    },
    {
     "name": "stdout",
     "output_type": "stream",
     "text": [
      "done in 87.153s.\n"
     ]
    },
    {
     "name": "stderr",
     "output_type": "stream",
     "text": [
      "[Parallel(n_jobs=20)]: Done 410 tasks      | elapsed:    0.2s\n",
      "[Parallel(n_jobs=20)]: Done 760 tasks      | elapsed:    0.3s\n",
      "[Parallel(n_jobs=20)]: Done 1210 tasks      | elapsed:    0.4s\n",
      "[Parallel(n_jobs=20)]: Done 1760 tasks      | elapsed:    0.6s\n",
      "[Parallel(n_jobs=20)]: Done 2410 tasks      | elapsed:    0.9s\n",
      "[Parallel(n_jobs=20)]: Done 3160 tasks      | elapsed:    1.1s\n",
      "[Parallel(n_jobs=20)]: Done 4010 tasks      | elapsed:    1.4s\n",
      "[Parallel(n_jobs=20)]: Done 4960 tasks      | elapsed:    1.8s\n",
      "[Parallel(n_jobs=20)]: Done 5000 out of 5000 | elapsed:    1.8s finished\n"
     ]
    },
    {
     "name": "stdout",
     "output_type": "stream",
     "text": [
      "accuracy：0.64213\n",
      "precision_avg: 0.66212\n",
      "recall_avg: 0.64213\n",
      "f1_score_avg: 0.64042\n",
      "n_estimator = 5000\n",
      "max_depth = 20\n",
      "min_samples_split = 50\n",
      "min_samples_leaf = 20\n"
     ]
    },
    {
     "name": "stderr",
     "output_type": "stream",
     "text": [
      "[Parallel(n_jobs=-1)]: Using backend ThreadingBackend with 20 concurrent workers.\n",
      "[Parallel(n_jobs=-1)]: Done  10 tasks      | elapsed:    0.4s\n",
      "[Parallel(n_jobs=-1)]: Done 160 tasks      | elapsed:    2.7s\n",
      "[Parallel(n_jobs=-1)]: Done 410 tasks      | elapsed:    6.7s\n",
      "[Parallel(n_jobs=-1)]: Done 760 tasks      | elapsed:   12.2s\n",
      "[Parallel(n_jobs=-1)]: Done 1210 tasks      | elapsed:   19.1s\n",
      "[Parallel(n_jobs=-1)]: Done 1760 tasks      | elapsed:   27.8s\n",
      "[Parallel(n_jobs=-1)]: Done 2410 tasks      | elapsed:   37.9s\n",
      "[Parallel(n_jobs=-1)]: Done 3160 tasks      | elapsed:   49.5s\n",
      "[Parallel(n_jobs=-1)]: Done 4010 tasks      | elapsed:  1.0min\n",
      "[Parallel(n_jobs=-1)]: Done 4960 tasks      | elapsed:  1.3min\n",
      "[Parallel(n_jobs=-1)]: Done 5000 out of 5000 | elapsed:  1.3min finished\n",
      "[Parallel(n_jobs=20)]: Using backend ThreadingBackend with 20 concurrent workers.\n",
      "[Parallel(n_jobs=20)]: Done  10 tasks      | elapsed:    0.0s\n",
      "[Parallel(n_jobs=20)]: Done 160 tasks      | elapsed:    0.1s\n",
      "[Parallel(n_jobs=20)]: Done 410 tasks      | elapsed:    0.2s\n"
     ]
    },
    {
     "name": "stdout",
     "output_type": "stream",
     "text": [
      "done in 79.722s.\n"
     ]
    },
    {
     "name": "stderr",
     "output_type": "stream",
     "text": [
      "[Parallel(n_jobs=20)]: Done 760 tasks      | elapsed:    0.3s\n",
      "[Parallel(n_jobs=20)]: Done 1210 tasks      | elapsed:    0.4s\n",
      "[Parallel(n_jobs=20)]: Done 1760 tasks      | elapsed:    0.6s\n",
      "[Parallel(n_jobs=20)]: Done 2410 tasks      | elapsed:    0.9s\n",
      "[Parallel(n_jobs=20)]: Done 3160 tasks      | elapsed:    1.1s\n",
      "[Parallel(n_jobs=20)]: Done 4010 tasks      | elapsed:    1.4s\n",
      "[Parallel(n_jobs=20)]: Done 4960 tasks      | elapsed:    1.7s\n",
      "[Parallel(n_jobs=20)]: Done 5000 out of 5000 | elapsed:    1.7s finished\n"
     ]
    },
    {
     "name": "stdout",
     "output_type": "stream",
     "text": [
      "accuracy：0.63687\n",
      "precision_avg: 0.66454\n",
      "recall_avg: 0.63687\n",
      "f1_score_avg: 0.63759\n",
      "n_estimator = 5000\n",
      "max_depth = 50\n",
      "min_samples_split = 2\n",
      "min_samples_leaf = 1\n"
     ]
    },
    {
     "name": "stderr",
     "output_type": "stream",
     "text": [
      "[Parallel(n_jobs=-1)]: Using backend ThreadingBackend with 20 concurrent workers.\n",
      "[Parallel(n_jobs=-1)]: Done  10 tasks      | elapsed:    2.7s\n",
      "[Parallel(n_jobs=-1)]: Done 160 tasks      | elapsed:   22.1s\n",
      "[Parallel(n_jobs=-1)]: Done 410 tasks      | elapsed:   55.5s\n",
      "[Parallel(n_jobs=-1)]: Done 760 tasks      | elapsed:  1.7min\n",
      "[Parallel(n_jobs=-1)]: Done 1210 tasks      | elapsed:  2.7min\n",
      "[Parallel(n_jobs=-1)]: Done 1760 tasks      | elapsed:  3.9min\n",
      "[Parallel(n_jobs=-1)]: Done 2410 tasks      | elapsed:  5.3min\n",
      "[Parallel(n_jobs=-1)]: Done 3160 tasks      | elapsed:  7.0min\n",
      "[Parallel(n_jobs=-1)]: Done 4010 tasks      | elapsed:  8.9min\n",
      "[Parallel(n_jobs=-1)]: Done 4960 tasks      | elapsed: 11.0min\n",
      "[Parallel(n_jobs=-1)]: Done 5000 out of 5000 | elapsed: 11.1min finished\n",
      "[Parallel(n_jobs=20)]: Using backend ThreadingBackend with 20 concurrent workers.\n",
      "[Parallel(n_jobs=20)]: Done  10 tasks      | elapsed:    0.0s\n",
      "[Parallel(n_jobs=20)]: Done 160 tasks      | elapsed:    0.1s\n"
     ]
    },
    {
     "name": "stdout",
     "output_type": "stream",
     "text": [
      "done in 667.674s.\n"
     ]
    },
    {
     "name": "stderr",
     "output_type": "stream",
     "text": [
      "[Parallel(n_jobs=20)]: Done 410 tasks      | elapsed:    0.2s\n",
      "[Parallel(n_jobs=20)]: Done 760 tasks      | elapsed:    0.5s\n",
      "[Parallel(n_jobs=20)]: Done 1210 tasks      | elapsed:    0.8s\n",
      "[Parallel(n_jobs=20)]: Done 1760 tasks      | elapsed:    1.2s\n",
      "[Parallel(n_jobs=20)]: Done 2410 tasks      | elapsed:    1.6s\n",
      "[Parallel(n_jobs=20)]: Done 3160 tasks      | elapsed:    1.9s\n",
      "[Parallel(n_jobs=20)]: Done 4010 tasks      | elapsed:    2.4s\n",
      "[Parallel(n_jobs=20)]: Done 4960 tasks      | elapsed:    2.9s\n",
      "[Parallel(n_jobs=20)]: Done 5000 out of 5000 | elapsed:    2.9s finished\n"
     ]
    },
    {
     "name": "stdout",
     "output_type": "stream",
     "text": [
      "accuracy：0.69413\n",
      "precision_avg: 0.66472\n",
      "recall_avg: 0.69413\n",
      "f1_score_avg: 0.64457\n",
      "n_estimator = 5000\n",
      "max_depth = 50\n",
      "min_samples_split = 10\n",
      "min_samples_leaf = 1\n"
     ]
    },
    {
     "name": "stderr",
     "output_type": "stream",
     "text": [
      "[Parallel(n_jobs=-1)]: Using backend ThreadingBackend with 20 concurrent workers.\n",
      "[Parallel(n_jobs=-1)]: Done  10 tasks      | elapsed:    2.5s\n",
      "[Parallel(n_jobs=-1)]: Done 160 tasks      | elapsed:   19.1s\n",
      "[Parallel(n_jobs=-1)]: Done 410 tasks      | elapsed:   48.3s\n",
      "[Parallel(n_jobs=-1)]: Done 760 tasks      | elapsed:  1.5min\n",
      "[Parallel(n_jobs=-1)]: Done 1210 tasks      | elapsed:  2.3min\n",
      "[Parallel(n_jobs=-1)]: Done 1760 tasks      | elapsed:  3.4min\n",
      "[Parallel(n_jobs=-1)]: Done 2410 tasks      | elapsed:  4.6min\n",
      "[Parallel(n_jobs=-1)]: Done 3160 tasks      | elapsed:  6.1min\n",
      "[Parallel(n_jobs=-1)]: Done 4010 tasks      | elapsed:  7.7min\n",
      "[Parallel(n_jobs=-1)]: Done 4960 tasks      | elapsed:  9.5min\n",
      "[Parallel(n_jobs=-1)]: Done 5000 out of 5000 | elapsed:  9.6min finished\n",
      "[Parallel(n_jobs=20)]: Using backend ThreadingBackend with 20 concurrent workers.\n",
      "[Parallel(n_jobs=20)]: Done  10 tasks      | elapsed:    0.0s\n",
      "[Parallel(n_jobs=20)]: Done 160 tasks      | elapsed:    0.1s\n",
      "[Parallel(n_jobs=20)]: Done 410 tasks      | elapsed:    0.2s\n"
     ]
    },
    {
     "name": "stdout",
     "output_type": "stream",
     "text": [
      "done in 575.161s.\n"
     ]
    },
    {
     "name": "stderr",
     "output_type": "stream",
     "text": [
      "[Parallel(n_jobs=20)]: Done 760 tasks      | elapsed:    0.3s\n",
      "[Parallel(n_jobs=20)]: Done 1210 tasks      | elapsed:    0.5s\n",
      "[Parallel(n_jobs=20)]: Done 1760 tasks      | elapsed:    0.7s\n",
      "[Parallel(n_jobs=20)]: Done 2410 tasks      | elapsed:    1.0s\n",
      "[Parallel(n_jobs=20)]: Done 3160 tasks      | elapsed:    1.3s\n",
      "[Parallel(n_jobs=20)]: Done 4010 tasks      | elapsed:    1.6s\n",
      "[Parallel(n_jobs=20)]: Done 4960 tasks      | elapsed:    2.0s\n",
      "[Parallel(n_jobs=20)]: Done 5000 out of 5000 | elapsed:    2.0s finished\n"
     ]
    },
    {
     "name": "stdout",
     "output_type": "stream",
     "text": [
      "accuracy：0.69307\n",
      "precision_avg: 0.65864\n",
      "recall_avg: 0.69307\n",
      "f1_score_avg: 0.64982\n",
      "n_estimator = 5000\n",
      "max_depth = 50\n",
      "min_samples_split = 10\n",
      "min_samples_leaf = 5\n"
     ]
    },
    {
     "name": "stderr",
     "output_type": "stream",
     "text": [
      "[Parallel(n_jobs=-1)]: Using backend ThreadingBackend with 20 concurrent workers.\n",
      "[Parallel(n_jobs=-1)]: Done  10 tasks      | elapsed:    1.8s\n",
      "[Parallel(n_jobs=-1)]: Done 160 tasks      | elapsed:   14.2s\n",
      "[Parallel(n_jobs=-1)]: Done 410 tasks      | elapsed:   35.3s\n",
      "[Parallel(n_jobs=-1)]: Done 760 tasks      | elapsed:  1.1min\n",
      "[Parallel(n_jobs=-1)]: Done 1210 tasks      | elapsed:  1.7min\n",
      "[Parallel(n_jobs=-1)]: Done 1760 tasks      | elapsed:  2.5min\n",
      "[Parallel(n_jobs=-1)]: Done 2410 tasks      | elapsed:  3.4min\n",
      "[Parallel(n_jobs=-1)]: Done 3160 tasks      | elapsed:  4.4min\n",
      "[Parallel(n_jobs=-1)]: Done 4010 tasks      | elapsed:  5.6min\n",
      "[Parallel(n_jobs=-1)]: Done 4960 tasks      | elapsed:  6.9min\n",
      "[Parallel(n_jobs=-1)]: Done 5000 out of 5000 | elapsed:  7.0min finished\n",
      "[Parallel(n_jobs=20)]: Using backend ThreadingBackend with 20 concurrent workers.\n",
      "[Parallel(n_jobs=20)]: Done  10 tasks      | elapsed:    0.0s\n",
      "[Parallel(n_jobs=20)]: Done 160 tasks      | elapsed:    0.1s\n"
     ]
    },
    {
     "name": "stdout",
     "output_type": "stream",
     "text": [
      "done in 418.992s.\n"
     ]
    },
    {
     "name": "stderr",
     "output_type": "stream",
     "text": [
      "[Parallel(n_jobs=20)]: Done 410 tasks      | elapsed:    0.2s\n",
      "[Parallel(n_jobs=20)]: Done 760 tasks      | elapsed:    0.3s\n",
      "[Parallel(n_jobs=20)]: Done 1210 tasks      | elapsed:    0.5s\n",
      "[Parallel(n_jobs=20)]: Done 1760 tasks      | elapsed:    0.7s\n",
      "[Parallel(n_jobs=20)]: Done 2410 tasks      | elapsed:    0.9s\n",
      "[Parallel(n_jobs=20)]: Done 3160 tasks      | elapsed:    1.1s\n",
      "[Parallel(n_jobs=20)]: Done 4010 tasks      | elapsed:    1.4s\n",
      "[Parallel(n_jobs=20)]: Done 4960 tasks      | elapsed:    1.8s\n",
      "[Parallel(n_jobs=20)]: Done 5000 out of 5000 | elapsed:    1.8s finished\n"
     ]
    },
    {
     "name": "stdout",
     "output_type": "stream",
     "text": [
      "accuracy：0.68000\n",
      "precision_avg: 0.65384\n",
      "recall_avg: 0.68000\n",
      "f1_score_avg: 0.65683\n",
      "n_estimator = 5000\n",
      "max_depth = 50\n",
      "min_samples_split = 50\n",
      "min_samples_leaf = 1\n"
     ]
    },
    {
     "name": "stderr",
     "output_type": "stream",
     "text": [
      "[Parallel(n_jobs=-1)]: Using backend ThreadingBackend with 20 concurrent workers.\n",
      "[Parallel(n_jobs=-1)]: Done  10 tasks      | elapsed:    1.8s\n",
      "[Parallel(n_jobs=-1)]: Done 160 tasks      | elapsed:   14.2s\n",
      "[Parallel(n_jobs=-1)]: Done 410 tasks      | elapsed:   35.6s\n",
      "[Parallel(n_jobs=-1)]: Done 760 tasks      | elapsed:  1.1min\n",
      "[Parallel(n_jobs=-1)]: Done 1210 tasks      | elapsed:  1.7min\n",
      "[Parallel(n_jobs=-1)]: Done 1760 tasks      | elapsed:  2.5min\n",
      "[Parallel(n_jobs=-1)]: Done 2410 tasks      | elapsed:  3.4min\n",
      "[Parallel(n_jobs=-1)]: Done 3160 tasks      | elapsed:  4.5min\n",
      "[Parallel(n_jobs=-1)]: Done 4010 tasks      | elapsed:  5.6min\n",
      "[Parallel(n_jobs=-1)]: Done 4960 tasks      | elapsed:  7.0min\n",
      "[Parallel(n_jobs=-1)]: Done 5000 out of 5000 | elapsed:  7.0min finished\n",
      "[Parallel(n_jobs=20)]: Using backend ThreadingBackend with 20 concurrent workers.\n",
      "[Parallel(n_jobs=20)]: Done  10 tasks      | elapsed:    0.0s\n",
      "[Parallel(n_jobs=20)]: Done 160 tasks      | elapsed:    0.1s\n"
     ]
    },
    {
     "name": "stdout",
     "output_type": "stream",
     "text": [
      "done in 422.478s.\n"
     ]
    },
    {
     "name": "stderr",
     "output_type": "stream",
     "text": [
      "[Parallel(n_jobs=20)]: Done 410 tasks      | elapsed:    0.2s\n",
      "[Parallel(n_jobs=20)]: Done 760 tasks      | elapsed:    0.3s\n",
      "[Parallel(n_jobs=20)]: Done 1210 tasks      | elapsed:    0.4s\n",
      "[Parallel(n_jobs=20)]: Done 1760 tasks      | elapsed:    0.6s\n",
      "[Parallel(n_jobs=20)]: Done 2410 tasks      | elapsed:    0.8s\n",
      "[Parallel(n_jobs=20)]: Done 3160 tasks      | elapsed:    1.1s\n",
      "[Parallel(n_jobs=20)]: Done 4010 tasks      | elapsed:    1.4s\n",
      "[Parallel(n_jobs=20)]: Done 4960 tasks      | elapsed:    1.8s\n",
      "[Parallel(n_jobs=20)]: Done 5000 out of 5000 | elapsed:    1.8s finished\n"
     ]
    },
    {
     "name": "stdout",
     "output_type": "stream",
     "text": [
      "accuracy：0.68453\n",
      "precision_avg: 0.65330\n",
      "recall_avg: 0.68453\n",
      "f1_score_avg: 0.65628\n",
      "n_estimator = 5000\n",
      "max_depth = 50\n",
      "min_samples_split = 50\n",
      "min_samples_leaf = 5\n"
     ]
    },
    {
     "name": "stderr",
     "output_type": "stream",
     "text": [
      "[Parallel(n_jobs=-1)]: Using backend ThreadingBackend with 20 concurrent workers.\n",
      "[Parallel(n_jobs=-1)]: Done  10 tasks      | elapsed:    1.5s\n",
      "[Parallel(n_jobs=-1)]: Done 160 tasks      | elapsed:   11.8s\n",
      "[Parallel(n_jobs=-1)]: Done 410 tasks      | elapsed:   29.6s\n",
      "[Parallel(n_jobs=-1)]: Done 760 tasks      | elapsed:   54.0s\n",
      "[Parallel(n_jobs=-1)]: Done 1210 tasks      | elapsed:  1.4min\n",
      "[Parallel(n_jobs=-1)]: Done 1760 tasks      | elapsed:  2.1min\n",
      "[Parallel(n_jobs=-1)]: Done 2410 tasks      | elapsed:  2.8min\n",
      "[Parallel(n_jobs=-1)]: Done 3160 tasks      | elapsed:  3.7min\n",
      "[Parallel(n_jobs=-1)]: Done 4010 tasks      | elapsed:  4.7min\n",
      "[Parallel(n_jobs=-1)]: Done 4960 tasks      | elapsed:  5.8min\n",
      "[Parallel(n_jobs=-1)]: Done 5000 out of 5000 | elapsed:  5.8min finished\n",
      "[Parallel(n_jobs=20)]: Using backend ThreadingBackend with 20 concurrent workers.\n",
      "[Parallel(n_jobs=20)]: Done  10 tasks      | elapsed:    0.0s\n",
      "[Parallel(n_jobs=20)]: Done 160 tasks      | elapsed:    0.1s\n"
     ]
    },
    {
     "name": "stdout",
     "output_type": "stream",
     "text": [
      "done in 349.976s.\n"
     ]
    },
    {
     "name": "stderr",
     "output_type": "stream",
     "text": [
      "[Parallel(n_jobs=20)]: Done 410 tasks      | elapsed:    0.2s\n",
      "[Parallel(n_jobs=20)]: Done 760 tasks      | elapsed:    0.3s\n",
      "[Parallel(n_jobs=20)]: Done 1210 tasks      | elapsed:    0.5s\n",
      "[Parallel(n_jobs=20)]: Done 1760 tasks      | elapsed:    0.6s\n",
      "[Parallel(n_jobs=20)]: Done 2410 tasks      | elapsed:    0.9s\n",
      "[Parallel(n_jobs=20)]: Done 3160 tasks      | elapsed:    1.1s\n",
      "[Parallel(n_jobs=20)]: Done 4010 tasks      | elapsed:    1.4s\n",
      "[Parallel(n_jobs=20)]: Done 4960 tasks      | elapsed:    1.7s\n",
      "[Parallel(n_jobs=20)]: Done 5000 out of 5000 | elapsed:    1.7s finished\n"
     ]
    },
    {
     "name": "stdout",
     "output_type": "stream",
     "text": [
      "accuracy：0.67600\n",
      "precision_avg: 0.65411\n",
      "recall_avg: 0.67600\n",
      "f1_score_avg: 0.65638\n",
      "n_estimator = 5000\n",
      "max_depth = 50\n",
      "min_samples_split = 50\n",
      "min_samples_leaf = 10\n"
     ]
    },
    {
     "name": "stderr",
     "output_type": "stream",
     "text": [
      "[Parallel(n_jobs=-1)]: Using backend ThreadingBackend with 20 concurrent workers.\n",
      "[Parallel(n_jobs=-1)]: Done  10 tasks      | elapsed:    1.2s\n",
      "[Parallel(n_jobs=-1)]: Done 160 tasks      | elapsed:    9.3s\n",
      "[Parallel(n_jobs=-1)]: Done 410 tasks      | elapsed:   23.6s\n",
      "[Parallel(n_jobs=-1)]: Done 760 tasks      | elapsed:   43.1s\n",
      "[Parallel(n_jobs=-1)]: Done 1210 tasks      | elapsed:  1.1min\n",
      "[Parallel(n_jobs=-1)]: Done 1760 tasks      | elapsed:  1.6min\n",
      "[Parallel(n_jobs=-1)]: Done 2410 tasks      | elapsed:  2.2min\n",
      "[Parallel(n_jobs=-1)]: Done 3160 tasks      | elapsed:  2.9min\n",
      "[Parallel(n_jobs=-1)]: Done 4010 tasks      | elapsed:  3.7min\n",
      "[Parallel(n_jobs=-1)]: Done 4960 tasks      | elapsed:  4.6min\n",
      "[Parallel(n_jobs=-1)]: Done 5000 out of 5000 | elapsed:  4.6min finished\n",
      "[Parallel(n_jobs=20)]: Using backend ThreadingBackend with 20 concurrent workers.\n",
      "[Parallel(n_jobs=20)]: Done  10 tasks      | elapsed:    0.0s\n",
      "[Parallel(n_jobs=20)]: Done 160 tasks      | elapsed:    0.1s\n"
     ]
    },
    {
     "name": "stdout",
     "output_type": "stream",
     "text": [
      "done in 279.783s.\n"
     ]
    },
    {
     "name": "stderr",
     "output_type": "stream",
     "text": [
      "[Parallel(n_jobs=20)]: Done 410 tasks      | elapsed:    0.2s\n",
      "[Parallel(n_jobs=20)]: Done 760 tasks      | elapsed:    0.3s\n",
      "[Parallel(n_jobs=20)]: Done 1210 tasks      | elapsed:    0.5s\n",
      "[Parallel(n_jobs=20)]: Done 1760 tasks      | elapsed:    0.6s\n",
      "[Parallel(n_jobs=20)]: Done 2410 tasks      | elapsed:    0.9s\n",
      "[Parallel(n_jobs=20)]: Done 3160 tasks      | elapsed:    1.1s\n",
      "[Parallel(n_jobs=20)]: Done 4010 tasks      | elapsed:    1.4s\n",
      "[Parallel(n_jobs=20)]: Done 4960 tasks      | elapsed:    1.6s\n",
      "[Parallel(n_jobs=20)]: Done 5000 out of 5000 | elapsed:    1.6s finished\n"
     ]
    },
    {
     "name": "stdout",
     "output_type": "stream",
     "text": [
      "accuracy：0.66367\n",
      "precision_avg: 0.65735\n",
      "recall_avg: 0.66367\n",
      "f1_score_avg: 0.65316\n",
      "n_estimator = 5000\n",
      "max_depth = 50\n",
      "min_samples_split = 50\n",
      "min_samples_leaf = 20\n"
     ]
    },
    {
     "name": "stderr",
     "output_type": "stream",
     "text": [
      "[Parallel(n_jobs=-1)]: Using backend ThreadingBackend with 20 concurrent workers.\n",
      "[Parallel(n_jobs=-1)]: Done  10 tasks      | elapsed:    1.0s\n",
      "[Parallel(n_jobs=-1)]: Done 160 tasks      | elapsed:    7.1s\n",
      "[Parallel(n_jobs=-1)]: Done 410 tasks      | elapsed:   17.7s\n",
      "[Parallel(n_jobs=-1)]: Done 760 tasks      | elapsed:   32.3s\n",
      "[Parallel(n_jobs=-1)]: Done 1210 tasks      | elapsed:   50.8s\n",
      "[Parallel(n_jobs=-1)]: Done 1760 tasks      | elapsed:  1.2min\n",
      "[Parallel(n_jobs=-1)]: Done 2410 tasks      | elapsed:  1.7min\n",
      "[Parallel(n_jobs=-1)]: Done 3160 tasks      | elapsed:  2.2min\n",
      "[Parallel(n_jobs=-1)]: Done 4010 tasks      | elapsed:  2.8min\n",
      "[Parallel(n_jobs=-1)]: Done 4960 tasks      | elapsed:  3.4min\n",
      "[Parallel(n_jobs=-1)]: Done 5000 out of 5000 | elapsed:  3.5min finished\n",
      "[Parallel(n_jobs=20)]: Using backend ThreadingBackend with 20 concurrent workers.\n",
      "[Parallel(n_jobs=20)]: Done  10 tasks      | elapsed:    0.0s\n",
      "[Parallel(n_jobs=20)]: Done 160 tasks      | elapsed:    0.1s\n"
     ]
    },
    {
     "name": "stdout",
     "output_type": "stream",
     "text": [
      "done in 209.008s.\n"
     ]
    },
    {
     "name": "stderr",
     "output_type": "stream",
     "text": [
      "[Parallel(n_jobs=20)]: Done 410 tasks      | elapsed:    0.2s\n",
      "[Parallel(n_jobs=20)]: Done 760 tasks      | elapsed:    0.3s\n",
      "[Parallel(n_jobs=20)]: Done 1210 tasks      | elapsed:    0.5s\n",
      "[Parallel(n_jobs=20)]: Done 1760 tasks      | elapsed:    0.6s\n",
      "[Parallel(n_jobs=20)]: Done 2410 tasks      | elapsed:    0.9s\n",
      "[Parallel(n_jobs=20)]: Done 3160 tasks      | elapsed:    1.1s\n",
      "[Parallel(n_jobs=20)]: Done 4010 tasks      | elapsed:    1.5s\n",
      "[Parallel(n_jobs=20)]: Done 4960 tasks      | elapsed:    1.8s\n",
      "[Parallel(n_jobs=20)]: Done 5000 out of 5000 | elapsed:    1.8s finished\n"
     ]
    },
    {
     "name": "stdout",
     "output_type": "stream",
     "text": [
      "accuracy：0.65280\n",
      "precision_avg: 0.66387\n",
      "recall_avg: 0.65280\n",
      "f1_score_avg: 0.65033\n",
      "n_estimator = 10000\n",
      "max_depth = 10\n",
      "min_samples_split = 2\n",
      "min_samples_leaf = 1\n"
     ]
    },
    {
     "name": "stderr",
     "output_type": "stream",
     "text": [
      "[Parallel(n_jobs=-1)]: Using backend ThreadingBackend with 20 concurrent workers.\n",
      "[Parallel(n_jobs=-1)]: Done  10 tasks      | elapsed:    0.2s\n",
      "[Parallel(n_jobs=-1)]: Done 160 tasks      | elapsed:    1.3s\n",
      "[Parallel(n_jobs=-1)]: Done 410 tasks      | elapsed:    3.2s\n",
      "[Parallel(n_jobs=-1)]: Done 760 tasks      | elapsed:    5.8s\n",
      "[Parallel(n_jobs=-1)]: Done 1210 tasks      | elapsed:    9.1s\n",
      "[Parallel(n_jobs=-1)]: Done 1760 tasks      | elapsed:   13.1s\n",
      "[Parallel(n_jobs=-1)]: Done 2410 tasks      | elapsed:   17.9s\n",
      "[Parallel(n_jobs=-1)]: Done 3160 tasks      | elapsed:   23.3s\n",
      "[Parallel(n_jobs=-1)]: Done 4010 tasks      | elapsed:   29.5s\n",
      "[Parallel(n_jobs=-1)]: Done 4960 tasks      | elapsed:   36.5s\n",
      "[Parallel(n_jobs=-1)]: Done 6010 tasks      | elapsed:   44.6s\n",
      "[Parallel(n_jobs=-1)]: Done 7160 tasks      | elapsed:   53.0s\n",
      "[Parallel(n_jobs=-1)]: Done 8410 tasks      | elapsed:  1.0min\n",
      "[Parallel(n_jobs=-1)]: Done 9760 tasks      | elapsed:  1.2min\n",
      "[Parallel(n_jobs=-1)]: Done 10000 out of 10000 | elapsed:  1.2min finished\n",
      "[Parallel(n_jobs=20)]: Using backend ThreadingBackend with 20 concurrent workers.\n",
      "[Parallel(n_jobs=20)]: Done  10 tasks      | elapsed:    0.0s\n",
      "[Parallel(n_jobs=20)]: Done 160 tasks      | elapsed:    0.1s\n"
     ]
    },
    {
     "name": "stdout",
     "output_type": "stream",
     "text": [
      "done in 76.819s.\n"
     ]
    },
    {
     "name": "stderr",
     "output_type": "stream",
     "text": [
      "[Parallel(n_jobs=20)]: Done 410 tasks      | elapsed:    0.2s\n",
      "[Parallel(n_jobs=20)]: Done 760 tasks      | elapsed:    0.3s\n",
      "[Parallel(n_jobs=20)]: Done 1210 tasks      | elapsed:    0.5s\n",
      "[Parallel(n_jobs=20)]: Done 1760 tasks      | elapsed:    0.6s\n",
      "[Parallel(n_jobs=20)]: Done 2410 tasks      | elapsed:    0.9s\n",
      "[Parallel(n_jobs=20)]: Done 3160 tasks      | elapsed:    1.1s\n",
      "[Parallel(n_jobs=20)]: Done 4010 tasks      | elapsed:    1.4s\n",
      "[Parallel(n_jobs=20)]: Done 4960 tasks      | elapsed:    1.6s\n",
      "[Parallel(n_jobs=20)]: Done 6010 tasks      | elapsed:    2.0s\n",
      "[Parallel(n_jobs=20)]: Done 7160 tasks      | elapsed:    2.3s\n",
      "[Parallel(n_jobs=20)]: Done 8410 tasks      | elapsed:    2.7s\n",
      "[Parallel(n_jobs=20)]: Done 9760 tasks      | elapsed:    3.2s\n",
      "[Parallel(n_jobs=20)]: Done 10000 out of 10000 | elapsed:    3.2s finished\n"
     ]
    },
    {
     "name": "stdout",
     "output_type": "stream",
     "text": [
      "accuracy：0.63047\n",
      "precision_avg: 0.66087\n",
      "recall_avg: 0.63047\n",
      "f1_score_avg: 0.62916\n",
      "n_estimator = 10000\n",
      "max_depth = 10\n",
      "min_samples_split = 10\n",
      "min_samples_leaf = 1\n"
     ]
    },
    {
     "name": "stderr",
     "output_type": "stream",
     "text": [
      "[Parallel(n_jobs=-1)]: Using backend ThreadingBackend with 20 concurrent workers.\n",
      "[Parallel(n_jobs=-1)]: Done  10 tasks      | elapsed:    0.2s\n",
      "[Parallel(n_jobs=-1)]: Done 160 tasks      | elapsed:    1.3s\n",
      "[Parallel(n_jobs=-1)]: Done 410 tasks      | elapsed:    3.1s\n",
      "[Parallel(n_jobs=-1)]: Done 760 tasks      | elapsed:    5.5s\n",
      "[Parallel(n_jobs=-1)]: Done 1210 tasks      | elapsed:    8.7s\n",
      "[Parallel(n_jobs=-1)]: Done 1760 tasks      | elapsed:   12.5s\n",
      "[Parallel(n_jobs=-1)]: Done 2410 tasks      | elapsed:   17.0s\n",
      "[Parallel(n_jobs=-1)]: Done 3160 tasks      | elapsed:   22.3s\n",
      "[Parallel(n_jobs=-1)]: Done 4010 tasks      | elapsed:   28.3s\n",
      "[Parallel(n_jobs=-1)]: Done 4960 tasks      | elapsed:   35.1s\n",
      "[Parallel(n_jobs=-1)]: Done 6010 tasks      | elapsed:   42.4s\n",
      "[Parallel(n_jobs=-1)]: Done 7160 tasks      | elapsed:   50.4s\n",
      "[Parallel(n_jobs=-1)]: Done 8410 tasks      | elapsed:   59.3s\n",
      "[Parallel(n_jobs=-1)]: Done 9760 tasks      | elapsed:  1.1min\n",
      "[Parallel(n_jobs=-1)]: Done 10000 out of 10000 | elapsed:  1.2min finished\n",
      "[Parallel(n_jobs=20)]: Using backend ThreadingBackend with 20 concurrent workers.\n",
      "[Parallel(n_jobs=20)]: Done  10 tasks      | elapsed:    0.0s\n",
      "[Parallel(n_jobs=20)]: Done 160 tasks      | elapsed:    0.1s\n"
     ]
    },
    {
     "name": "stdout",
     "output_type": "stream",
     "text": [
      "done in 74.067s.\n"
     ]
    },
    {
     "name": "stderr",
     "output_type": "stream",
     "text": [
      "[Parallel(n_jobs=20)]: Done 410 tasks      | elapsed:    0.2s\n",
      "[Parallel(n_jobs=20)]: Done 760 tasks      | elapsed:    0.3s\n",
      "[Parallel(n_jobs=20)]: Done 1210 tasks      | elapsed:    0.4s\n",
      "[Parallel(n_jobs=20)]: Done 1760 tasks      | elapsed:    0.6s\n",
      "[Parallel(n_jobs=20)]: Done 2410 tasks      | elapsed:    0.8s\n",
      "[Parallel(n_jobs=20)]: Done 3160 tasks      | elapsed:    1.0s\n",
      "[Parallel(n_jobs=20)]: Done 4010 tasks      | elapsed:    1.3s\n",
      "[Parallel(n_jobs=20)]: Done 4960 tasks      | elapsed:    1.6s\n",
      "[Parallel(n_jobs=20)]: Done 6010 tasks      | elapsed:    1.9s\n",
      "[Parallel(n_jobs=20)]: Done 7160 tasks      | elapsed:    2.2s\n",
      "[Parallel(n_jobs=20)]: Done 8410 tasks      | elapsed:    2.6s\n",
      "[Parallel(n_jobs=20)]: Done 9760 tasks      | elapsed:    3.0s\n",
      "[Parallel(n_jobs=20)]: Done 10000 out of 10000 | elapsed:    3.0s finished\n"
     ]
    },
    {
     "name": "stdout",
     "output_type": "stream",
     "text": [
      "accuracy：0.63040\n",
      "precision_avg: 0.66218\n",
      "recall_avg: 0.63040\n",
      "f1_score_avg: 0.62972\n",
      "n_estimator = 10000\n",
      "max_depth = 10\n",
      "min_samples_split = 10\n",
      "min_samples_leaf = 5\n"
     ]
    },
    {
     "name": "stderr",
     "output_type": "stream",
     "text": [
      "[Parallel(n_jobs=-1)]: Using backend ThreadingBackend with 20 concurrent workers.\n",
      "[Parallel(n_jobs=-1)]: Done  10 tasks      | elapsed:    0.3s\n",
      "[Parallel(n_jobs=-1)]: Done 160 tasks      | elapsed:    1.4s\n",
      "[Parallel(n_jobs=-1)]: Done 410 tasks      | elapsed:    3.2s\n",
      "[Parallel(n_jobs=-1)]: Done 760 tasks      | elapsed:    5.6s\n",
      "[Parallel(n_jobs=-1)]: Done 1210 tasks      | elapsed:    8.8s\n",
      "[Parallel(n_jobs=-1)]: Done 1760 tasks      | elapsed:   12.6s\n",
      "[Parallel(n_jobs=-1)]: Done 2410 tasks      | elapsed:   17.1s\n",
      "[Parallel(n_jobs=-1)]: Done 3160 tasks      | elapsed:   22.3s\n",
      "[Parallel(n_jobs=-1)]: Done 4010 tasks      | elapsed:   28.2s\n",
      "[Parallel(n_jobs=-1)]: Done 4960 tasks      | elapsed:   34.8s\n",
      "[Parallel(n_jobs=-1)]: Done 6010 tasks      | elapsed:   42.1s\n",
      "[Parallel(n_jobs=-1)]: Done 7160 tasks      | elapsed:   50.0s\n",
      "[Parallel(n_jobs=-1)]: Done 8410 tasks      | elapsed:   58.6s\n",
      "[Parallel(n_jobs=-1)]: Done 9760 tasks      | elapsed:  1.1min\n",
      "[Parallel(n_jobs=-1)]: Done 10000 out of 10000 | elapsed:  1.2min finished\n",
      "[Parallel(n_jobs=20)]: Using backend ThreadingBackend with 20 concurrent workers.\n",
      "[Parallel(n_jobs=20)]: Done  10 tasks      | elapsed:    0.0s\n",
      "[Parallel(n_jobs=20)]: Done 160 tasks      | elapsed:    0.1s\n",
      "[Parallel(n_jobs=20)]: Done 410 tasks      | elapsed:    0.2s\n"
     ]
    },
    {
     "name": "stdout",
     "output_type": "stream",
     "text": [
      "done in 72.890s.\n"
     ]
    },
    {
     "name": "stderr",
     "output_type": "stream",
     "text": [
      "[Parallel(n_jobs=20)]: Done 760 tasks      | elapsed:    0.3s\n",
      "[Parallel(n_jobs=20)]: Done 1210 tasks      | elapsed:    0.4s\n",
      "[Parallel(n_jobs=20)]: Done 1760 tasks      | elapsed:    0.6s\n",
      "[Parallel(n_jobs=20)]: Done 2410 tasks      | elapsed:    0.9s\n",
      "[Parallel(n_jobs=20)]: Done 3160 tasks      | elapsed:    1.1s\n",
      "[Parallel(n_jobs=20)]: Done 4010 tasks      | elapsed:    1.4s\n",
      "[Parallel(n_jobs=20)]: Done 4960 tasks      | elapsed:    1.7s\n",
      "[Parallel(n_jobs=20)]: Done 6010 tasks      | elapsed:    2.0s\n",
      "[Parallel(n_jobs=20)]: Done 7160 tasks      | elapsed:    2.3s\n",
      "[Parallel(n_jobs=20)]: Done 8410 tasks      | elapsed:    2.7s\n",
      "[Parallel(n_jobs=20)]: Done 9760 tasks      | elapsed:    3.1s\n",
      "[Parallel(n_jobs=20)]: Done 10000 out of 10000 | elapsed:    3.2s finished\n"
     ]
    },
    {
     "name": "stdout",
     "output_type": "stream",
     "text": [
      "accuracy：0.62687\n",
      "precision_avg: 0.66197\n",
      "recall_avg: 0.62687\n",
      "f1_score_avg: 0.62690\n",
      "n_estimator = 10000\n",
      "max_depth = 10\n",
      "min_samples_split = 50\n",
      "min_samples_leaf = 1\n"
     ]
    },
    {
     "name": "stderr",
     "output_type": "stream",
     "text": [
      "[Parallel(n_jobs=-1)]: Using backend ThreadingBackend with 20 concurrent workers.\n",
      "[Parallel(n_jobs=-1)]: Done  10 tasks      | elapsed:    0.2s\n",
      "[Parallel(n_jobs=-1)]: Done 160 tasks      | elapsed:    1.2s\n",
      "[Parallel(n_jobs=-1)]: Done 410 tasks      | elapsed:    2.9s\n",
      "[Parallel(n_jobs=-1)]: Done 760 tasks      | elapsed:    5.3s\n",
      "[Parallel(n_jobs=-1)]: Done 1210 tasks      | elapsed:    8.3s\n",
      "[Parallel(n_jobs=-1)]: Done 1760 tasks      | elapsed:   12.0s\n",
      "[Parallel(n_jobs=-1)]: Done 2410 tasks      | elapsed:   16.4s\n",
      "[Parallel(n_jobs=-1)]: Done 3160 tasks      | elapsed:   21.4s\n",
      "[Parallel(n_jobs=-1)]: Done 4010 tasks      | elapsed:   27.0s\n",
      "[Parallel(n_jobs=-1)]: Done 4960 tasks      | elapsed:   33.5s\n",
      "[Parallel(n_jobs=-1)]: Done 6010 tasks      | elapsed:   40.5s\n",
      "[Parallel(n_jobs=-1)]: Done 7160 tasks      | elapsed:   48.1s\n",
      "[Parallel(n_jobs=-1)]: Done 8410 tasks      | elapsed:   56.5s\n",
      "[Parallel(n_jobs=-1)]: Done 9760 tasks      | elapsed:  1.1min\n",
      "[Parallel(n_jobs=-1)]: Done 10000 out of 10000 | elapsed:  1.1min finished\n",
      "[Parallel(n_jobs=20)]: Using backend ThreadingBackend with 20 concurrent workers.\n",
      "[Parallel(n_jobs=20)]: Done  10 tasks      | elapsed:    0.0s\n",
      "[Parallel(n_jobs=20)]: Done 160 tasks      | elapsed:    0.1s\n",
      "[Parallel(n_jobs=20)]: Done 410 tasks      | elapsed:    0.2s\n"
     ]
    },
    {
     "name": "stdout",
     "output_type": "stream",
     "text": [
      "done in 70.318s.\n"
     ]
    },
    {
     "name": "stderr",
     "output_type": "stream",
     "text": [
      "[Parallel(n_jobs=20)]: Done 760 tasks      | elapsed:    0.3s\n",
      "[Parallel(n_jobs=20)]: Done 1210 tasks      | elapsed:    0.4s\n",
      "[Parallel(n_jobs=20)]: Done 1760 tasks      | elapsed:    0.6s\n",
      "[Parallel(n_jobs=20)]: Done 2410 tasks      | elapsed:    0.8s\n",
      "[Parallel(n_jobs=20)]: Done 3160 tasks      | elapsed:    1.1s\n",
      "[Parallel(n_jobs=20)]: Done 4010 tasks      | elapsed:    1.4s\n",
      "[Parallel(n_jobs=20)]: Done 4960 tasks      | elapsed:    1.8s\n",
      "[Parallel(n_jobs=20)]: Done 6010 tasks      | elapsed:    2.1s\n",
      "[Parallel(n_jobs=20)]: Done 7160 tasks      | elapsed:    2.5s\n",
      "[Parallel(n_jobs=20)]: Done 8410 tasks      | elapsed:    2.9s\n",
      "[Parallel(n_jobs=20)]: Done 9760 tasks      | elapsed:    3.3s\n",
      "[Parallel(n_jobs=20)]: Done 10000 out of 10000 | elapsed:    3.4s finished\n"
     ]
    },
    {
     "name": "stdout",
     "output_type": "stream",
     "text": [
      "accuracy：0.62767\n",
      "precision_avg: 0.66310\n",
      "recall_avg: 0.62767\n",
      "f1_score_avg: 0.62786\n",
      "n_estimator = 10000\n",
      "max_depth = 10\n",
      "min_samples_split = 50\n",
      "min_samples_leaf = 5\n"
     ]
    },
    {
     "name": "stderr",
     "output_type": "stream",
     "text": [
      "[Parallel(n_jobs=-1)]: Using backend ThreadingBackend with 20 concurrent workers.\n",
      "[Parallel(n_jobs=-1)]: Done  10 tasks      | elapsed:    0.2s\n",
      "[Parallel(n_jobs=-1)]: Done 160 tasks      | elapsed:    1.3s\n",
      "[Parallel(n_jobs=-1)]: Done 410 tasks      | elapsed:    3.0s\n",
      "[Parallel(n_jobs=-1)]: Done 760 tasks      | elapsed:    5.4s\n",
      "[Parallel(n_jobs=-1)]: Done 1210 tasks      | elapsed:    8.4s\n",
      "[Parallel(n_jobs=-1)]: Done 1760 tasks      | elapsed:   12.1s\n",
      "[Parallel(n_jobs=-1)]: Done 2410 tasks      | elapsed:   16.5s\n",
      "[Parallel(n_jobs=-1)]: Done 3160 tasks      | elapsed:   21.4s\n",
      "[Parallel(n_jobs=-1)]: Done 4010 tasks      | elapsed:   27.1s\n",
      "[Parallel(n_jobs=-1)]: Done 4960 tasks      | elapsed:   33.3s\n",
      "[Parallel(n_jobs=-1)]: Done 6010 tasks      | elapsed:   40.6s\n",
      "[Parallel(n_jobs=-1)]: Done 7160 tasks      | elapsed:   48.3s\n",
      "[Parallel(n_jobs=-1)]: Done 8410 tasks      | elapsed:   56.7s\n",
      "[Parallel(n_jobs=-1)]: Done 9760 tasks      | elapsed:  1.1min\n",
      "[Parallel(n_jobs=-1)]: Done 10000 out of 10000 | elapsed:  1.1min finished\n",
      "[Parallel(n_jobs=20)]: Using backend ThreadingBackend with 20 concurrent workers.\n",
      "[Parallel(n_jobs=20)]: Done  10 tasks      | elapsed:    0.0s\n",
      "[Parallel(n_jobs=20)]: Done 160 tasks      | elapsed:    0.1s\n",
      "[Parallel(n_jobs=20)]: Done 410 tasks      | elapsed:    0.2s\n"
     ]
    },
    {
     "name": "stdout",
     "output_type": "stream",
     "text": [
      "done in 70.425s.\n"
     ]
    },
    {
     "name": "stderr",
     "output_type": "stream",
     "text": [
      "[Parallel(n_jobs=20)]: Done 760 tasks      | elapsed:    0.3s\n",
      "[Parallel(n_jobs=20)]: Done 1210 tasks      | elapsed:    0.4s\n",
      "[Parallel(n_jobs=20)]: Done 1760 tasks      | elapsed:    0.6s\n",
      "[Parallel(n_jobs=20)]: Done 2410 tasks      | elapsed:    0.8s\n",
      "[Parallel(n_jobs=20)]: Done 3160 tasks      | elapsed:    1.1s\n",
      "[Parallel(n_jobs=20)]: Done 4010 tasks      | elapsed:    1.4s\n",
      "[Parallel(n_jobs=20)]: Done 4960 tasks      | elapsed:    1.7s\n",
      "[Parallel(n_jobs=20)]: Done 6010 tasks      | elapsed:    2.0s\n",
      "[Parallel(n_jobs=20)]: Done 7160 tasks      | elapsed:    2.4s\n",
      "[Parallel(n_jobs=20)]: Done 8410 tasks      | elapsed:    2.7s\n",
      "[Parallel(n_jobs=20)]: Done 9760 tasks      | elapsed:    3.1s\n",
      "[Parallel(n_jobs=20)]: Done 10000 out of 10000 | elapsed:    3.2s finished\n"
     ]
    },
    {
     "name": "stdout",
     "output_type": "stream",
     "text": [
      "accuracy：0.62720\n",
      "precision_avg: 0.66329\n",
      "recall_avg: 0.62720\n",
      "f1_score_avg: 0.62754\n",
      "n_estimator = 10000\n",
      "max_depth = 10\n",
      "min_samples_split = 50\n",
      "min_samples_leaf = 10\n"
     ]
    },
    {
     "name": "stderr",
     "output_type": "stream",
     "text": [
      "[Parallel(n_jobs=-1)]: Using backend ThreadingBackend with 20 concurrent workers.\n",
      "[Parallel(n_jobs=-1)]: Done  10 tasks      | elapsed:    0.2s\n",
      "[Parallel(n_jobs=-1)]: Done 160 tasks      | elapsed:    1.3s\n",
      "[Parallel(n_jobs=-1)]: Done 410 tasks      | elapsed:    3.0s\n",
      "[Parallel(n_jobs=-1)]: Done 760 tasks      | elapsed:    5.3s\n",
      "[Parallel(n_jobs=-1)]: Done 1210 tasks      | elapsed:    8.3s\n",
      "[Parallel(n_jobs=-1)]: Done 1760 tasks      | elapsed:   11.9s\n",
      "[Parallel(n_jobs=-1)]: Done 2410 tasks      | elapsed:   16.2s\n",
      "[Parallel(n_jobs=-1)]: Done 3160 tasks      | elapsed:   21.2s\n",
      "[Parallel(n_jobs=-1)]: Done 4010 tasks      | elapsed:   26.8s\n",
      "[Parallel(n_jobs=-1)]: Done 4960 tasks      | elapsed:   33.1s\n",
      "[Parallel(n_jobs=-1)]: Done 6010 tasks      | elapsed:   40.0s\n",
      "[Parallel(n_jobs=-1)]: Done 7160 tasks      | elapsed:   48.0s\n",
      "[Parallel(n_jobs=-1)]: Done 8410 tasks      | elapsed:   56.5s\n",
      "[Parallel(n_jobs=-1)]: Done 9760 tasks      | elapsed:  1.1min\n",
      "[Parallel(n_jobs=-1)]: Done 10000 out of 10000 | elapsed:  1.1min finished\n",
      "[Parallel(n_jobs=20)]: Using backend ThreadingBackend with 20 concurrent workers.\n",
      "[Parallel(n_jobs=20)]: Done  10 tasks      | elapsed:    0.0s\n",
      "[Parallel(n_jobs=20)]: Done 160 tasks      | elapsed:    0.1s\n",
      "[Parallel(n_jobs=20)]: Done 410 tasks      | elapsed:    0.2s\n"
     ]
    },
    {
     "name": "stdout",
     "output_type": "stream",
     "text": [
      "done in 70.355s.\n"
     ]
    },
    {
     "name": "stderr",
     "output_type": "stream",
     "text": [
      "[Parallel(n_jobs=20)]: Done 760 tasks      | elapsed:    0.3s\n",
      "[Parallel(n_jobs=20)]: Done 1210 tasks      | elapsed:    0.5s\n",
      "[Parallel(n_jobs=20)]: Done 1760 tasks      | elapsed:    0.6s\n",
      "[Parallel(n_jobs=20)]: Done 2410 tasks      | elapsed:    0.9s\n",
      "[Parallel(n_jobs=20)]: Done 3160 tasks      | elapsed:    1.1s\n",
      "[Parallel(n_jobs=20)]: Done 4010 tasks      | elapsed:    1.4s\n",
      "[Parallel(n_jobs=20)]: Done 4960 tasks      | elapsed:    1.7s\n",
      "[Parallel(n_jobs=20)]: Done 6010 tasks      | elapsed:    2.0s\n",
      "[Parallel(n_jobs=20)]: Done 7160 tasks      | elapsed:    2.4s\n",
      "[Parallel(n_jobs=20)]: Done 8410 tasks      | elapsed:    2.7s\n",
      "[Parallel(n_jobs=20)]: Done 9760 tasks      | elapsed:    3.1s\n",
      "[Parallel(n_jobs=20)]: Done 10000 out of 10000 | elapsed:    3.2s finished\n"
     ]
    },
    {
     "name": "stdout",
     "output_type": "stream",
     "text": [
      "accuracy：0.62613\n",
      "precision_avg: 0.66364\n",
      "recall_avg: 0.62613\n",
      "f1_score_avg: 0.62683\n",
      "n_estimator = 10000\n",
      "max_depth = 10\n",
      "min_samples_split = 50\n",
      "min_samples_leaf = 20\n"
     ]
    },
    {
     "name": "stderr",
     "output_type": "stream",
     "text": [
      "[Parallel(n_jobs=-1)]: Using backend ThreadingBackend with 20 concurrent workers.\n",
      "[Parallel(n_jobs=-1)]: Done  10 tasks      | elapsed:    0.2s\n",
      "[Parallel(n_jobs=-1)]: Done 160 tasks      | elapsed:    1.2s\n",
      "[Parallel(n_jobs=-1)]: Done 410 tasks      | elapsed:    2.9s\n",
      "[Parallel(n_jobs=-1)]: Done 760 tasks      | elapsed:    5.2s\n",
      "[Parallel(n_jobs=-1)]: Done 1210 tasks      | elapsed:    8.1s\n",
      "[Parallel(n_jobs=-1)]: Done 1760 tasks      | elapsed:   11.8s\n",
      "[Parallel(n_jobs=-1)]: Done 2410 tasks      | elapsed:   16.3s\n",
      "[Parallel(n_jobs=-1)]: Done 3160 tasks      | elapsed:   21.2s\n",
      "[Parallel(n_jobs=-1)]: Done 4010 tasks      | elapsed:   26.8s\n",
      "[Parallel(n_jobs=-1)]: Done 4960 tasks      | elapsed:   32.9s\n",
      "[Parallel(n_jobs=-1)]: Done 6010 tasks      | elapsed:   39.7s\n",
      "[Parallel(n_jobs=-1)]: Done 7160 tasks      | elapsed:   47.2s\n",
      "[Parallel(n_jobs=-1)]: Done 8410 tasks      | elapsed:   55.4s\n",
      "[Parallel(n_jobs=-1)]: Done 9760 tasks      | elapsed:  1.1min\n",
      "[Parallel(n_jobs=-1)]: Done 10000 out of 10000 | elapsed:  1.1min finished\n",
      "[Parallel(n_jobs=20)]: Using backend ThreadingBackend with 20 concurrent workers.\n",
      "[Parallel(n_jobs=20)]: Done  10 tasks      | elapsed:    0.0s\n",
      "[Parallel(n_jobs=20)]: Done 160 tasks      | elapsed:    0.1s\n"
     ]
    },
    {
     "name": "stdout",
     "output_type": "stream",
     "text": [
      "done in 69.184s.\n"
     ]
    },
    {
     "name": "stderr",
     "output_type": "stream",
     "text": [
      "[Parallel(n_jobs=20)]: Done 410 tasks      | elapsed:    0.2s\n",
      "[Parallel(n_jobs=20)]: Done 760 tasks      | elapsed:    0.3s\n",
      "[Parallel(n_jobs=20)]: Done 1210 tasks      | elapsed:    0.4s\n",
      "[Parallel(n_jobs=20)]: Done 1760 tasks      | elapsed:    0.6s\n",
      "[Parallel(n_jobs=20)]: Done 2410 tasks      | elapsed:    0.8s\n",
      "[Parallel(n_jobs=20)]: Done 3160 tasks      | elapsed:    1.1s\n",
      "[Parallel(n_jobs=20)]: Done 4010 tasks      | elapsed:    1.3s\n",
      "[Parallel(n_jobs=20)]: Done 4960 tasks      | elapsed:    1.6s\n",
      "[Parallel(n_jobs=20)]: Done 6010 tasks      | elapsed:    1.9s\n",
      "[Parallel(n_jobs=20)]: Done 7160 tasks      | elapsed:    2.3s\n",
      "[Parallel(n_jobs=20)]: Done 8410 tasks      | elapsed:    2.7s\n",
      "[Parallel(n_jobs=20)]: Done 9760 tasks      | elapsed:    3.1s\n",
      "[Parallel(n_jobs=20)]: Done 10000 out of 10000 | elapsed:    3.1s finished\n"
     ]
    },
    {
     "name": "stdout",
     "output_type": "stream",
     "text": [
      "accuracy：0.62380\n",
      "precision_avg: 0.66365\n",
      "recall_avg: 0.62380\n",
      "f1_score_avg: 0.62513\n",
      "n_estimator = 10000\n",
      "max_depth = 20\n",
      "min_samples_split = 2\n",
      "min_samples_leaf = 1\n"
     ]
    },
    {
     "name": "stderr",
     "output_type": "stream",
     "text": [
      "[Parallel(n_jobs=-1)]: Using backend ThreadingBackend with 20 concurrent workers.\n",
      "[Parallel(n_jobs=-1)]: Done  10 tasks      | elapsed:    0.5s\n",
      "[Parallel(n_jobs=-1)]: Done 160 tasks      | elapsed:    4.3s\n",
      "[Parallel(n_jobs=-1)]: Done 410 tasks      | elapsed:   10.4s\n",
      "[Parallel(n_jobs=-1)]: Done 760 tasks      | elapsed:   19.0s\n",
      "[Parallel(n_jobs=-1)]: Done 1210 tasks      | elapsed:   29.8s\n",
      "[Parallel(n_jobs=-1)]: Done 1760 tasks      | elapsed:   42.9s\n",
      "[Parallel(n_jobs=-1)]: Done 2410 tasks      | elapsed:   58.7s\n",
      "[Parallel(n_jobs=-1)]: Done 3160 tasks      | elapsed:  1.3min\n",
      "[Parallel(n_jobs=-1)]: Done 4010 tasks      | elapsed:  1.6min\n",
      "[Parallel(n_jobs=-1)]: Done 4960 tasks      | elapsed:  2.0min\n",
      "[Parallel(n_jobs=-1)]: Done 6010 tasks      | elapsed:  2.4min\n",
      "[Parallel(n_jobs=-1)]: Done 7160 tasks      | elapsed:  2.9min\n",
      "[Parallel(n_jobs=-1)]: Done 8410 tasks      | elapsed:  3.4min\n",
      "[Parallel(n_jobs=-1)]: Done 9760 tasks      | elapsed:  3.9min\n",
      "[Parallel(n_jobs=-1)]: Done 10000 out of 10000 | elapsed:  4.0min finished\n",
      "[Parallel(n_jobs=20)]: Using backend ThreadingBackend with 20 concurrent workers.\n",
      "[Parallel(n_jobs=20)]: Done  10 tasks      | elapsed:    0.0s\n",
      "[Parallel(n_jobs=20)]: Done 160 tasks      | elapsed:    0.1s\n"
     ]
    },
    {
     "name": "stdout",
     "output_type": "stream",
     "text": [
      "done in 245.042s.\n"
     ]
    },
    {
     "name": "stderr",
     "output_type": "stream",
     "text": [
      "[Parallel(n_jobs=20)]: Done 410 tasks      | elapsed:    0.2s\n",
      "[Parallel(n_jobs=20)]: Done 760 tasks      | elapsed:    0.3s\n",
      "[Parallel(n_jobs=20)]: Done 1210 tasks      | elapsed:    0.4s\n",
      "[Parallel(n_jobs=20)]: Done 1760 tasks      | elapsed:    0.6s\n",
      "[Parallel(n_jobs=20)]: Done 2410 tasks      | elapsed:    0.9s\n",
      "[Parallel(n_jobs=20)]: Done 3160 tasks      | elapsed:    1.1s\n",
      "[Parallel(n_jobs=20)]: Done 4010 tasks      | elapsed:    1.4s\n",
      "[Parallel(n_jobs=20)]: Done 4960 tasks      | elapsed:    1.8s\n",
      "[Parallel(n_jobs=20)]: Done 6010 tasks      | elapsed:    2.1s\n",
      "[Parallel(n_jobs=20)]: Done 7160 tasks      | elapsed:    2.5s\n",
      "[Parallel(n_jobs=20)]: Done 8410 tasks      | elapsed:    2.9s\n",
      "[Parallel(n_jobs=20)]: Done 9760 tasks      | elapsed:    3.3s\n",
      "[Parallel(n_jobs=20)]: Done 10000 out of 10000 | elapsed:    3.4s finished\n"
     ]
    },
    {
     "name": "stdout",
     "output_type": "stream",
     "text": [
      "accuracy：0.66580\n",
      "precision_avg: 0.65733\n",
      "recall_avg: 0.66580\n",
      "f1_score_avg: 0.65260\n",
      "n_estimator = 10000\n",
      "max_depth = 20\n",
      "min_samples_split = 10\n",
      "min_samples_leaf = 1\n"
     ]
    },
    {
     "name": "stderr",
     "output_type": "stream",
     "text": [
      "[Parallel(n_jobs=-1)]: Using backend ThreadingBackend with 20 concurrent workers.\n",
      "[Parallel(n_jobs=-1)]: Done  10 tasks      | elapsed:    0.5s\n",
      "[Parallel(n_jobs=-1)]: Done 160 tasks      | elapsed:    3.8s\n",
      "[Parallel(n_jobs=-1)]: Done 410 tasks      | elapsed:    9.3s\n",
      "[Parallel(n_jobs=-1)]: Done 760 tasks      | elapsed:   17.0s\n",
      "[Parallel(n_jobs=-1)]: Done 1210 tasks      | elapsed:   26.8s\n",
      "[Parallel(n_jobs=-1)]: Done 1760 tasks      | elapsed:   38.6s\n",
      "[Parallel(n_jobs=-1)]: Done 2410 tasks      | elapsed:   52.8s\n",
      "[Parallel(n_jobs=-1)]: Done 3160 tasks      | elapsed:  1.2min\n",
      "[Parallel(n_jobs=-1)]: Done 4010 tasks      | elapsed:  1.5min\n",
      "[Parallel(n_jobs=-1)]: Done 4960 tasks      | elapsed:  1.8min\n",
      "[Parallel(n_jobs=-1)]: Done 6010 tasks      | elapsed:  2.2min\n",
      "[Parallel(n_jobs=-1)]: Done 7160 tasks      | elapsed:  2.6min\n",
      "[Parallel(n_jobs=-1)]: Done 8410 tasks      | elapsed:  3.1min\n",
      "[Parallel(n_jobs=-1)]: Done 9760 tasks      | elapsed:  3.5min\n",
      "[Parallel(n_jobs=-1)]: Done 10000 out of 10000 | elapsed:  3.6min finished\n",
      "[Parallel(n_jobs=20)]: Using backend ThreadingBackend with 20 concurrent workers.\n",
      "[Parallel(n_jobs=20)]: Done  10 tasks      | elapsed:    0.0s\n",
      "[Parallel(n_jobs=20)]: Done 160 tasks      | elapsed:    0.1s\n"
     ]
    },
    {
     "name": "stdout",
     "output_type": "stream",
     "text": [
      "done in 220.637s.\n"
     ]
    },
    {
     "name": "stderr",
     "output_type": "stream",
     "text": [
      "[Parallel(n_jobs=20)]: Done 410 tasks      | elapsed:    0.2s\n",
      "[Parallel(n_jobs=20)]: Done 760 tasks      | elapsed:    0.3s\n",
      "[Parallel(n_jobs=20)]: Done 1210 tasks      | elapsed:    0.5s\n",
      "[Parallel(n_jobs=20)]: Done 1760 tasks      | elapsed:    0.6s\n",
      "[Parallel(n_jobs=20)]: Done 2410 tasks      | elapsed:    0.9s\n",
      "[Parallel(n_jobs=20)]: Done 3160 tasks      | elapsed:    1.1s\n",
      "[Parallel(n_jobs=20)]: Done 4010 tasks      | elapsed:    1.4s\n",
      "[Parallel(n_jobs=20)]: Done 4960 tasks      | elapsed:    1.7s\n",
      "[Parallel(n_jobs=20)]: Done 6010 tasks      | elapsed:    2.0s\n",
      "[Parallel(n_jobs=20)]: Done 7160 tasks      | elapsed:    2.4s\n",
      "[Parallel(n_jobs=20)]: Done 8410 tasks      | elapsed:    2.8s\n",
      "[Parallel(n_jobs=20)]: Done 9760 tasks      | elapsed:    3.2s\n",
      "[Parallel(n_jobs=20)]: Done 10000 out of 10000 | elapsed:    3.3s finished\n"
     ]
    },
    {
     "name": "stdout",
     "output_type": "stream",
     "text": [
      "accuracy：0.66213\n",
      "precision_avg: 0.65980\n",
      "recall_avg: 0.66213\n",
      "f1_score_avg: 0.65185\n",
      "n_estimator = 10000\n",
      "max_depth = 20\n",
      "min_samples_split = 10\n",
      "min_samples_leaf = 5\n"
     ]
    },
    {
     "name": "stderr",
     "output_type": "stream",
     "text": [
      "[Parallel(n_jobs=-1)]: Using backend ThreadingBackend with 20 concurrent workers.\n",
      "[Parallel(n_jobs=-1)]: Done  10 tasks      | elapsed:    0.5s\n",
      "[Parallel(n_jobs=-1)]: Done 160 tasks      | elapsed:    3.5s\n",
      "[Parallel(n_jobs=-1)]: Done 410 tasks      | elapsed:    8.5s\n",
      "[Parallel(n_jobs=-1)]: Done 760 tasks      | elapsed:   15.6s\n",
      "[Parallel(n_jobs=-1)]: Done 1210 tasks      | elapsed:   24.5s\n",
      "[Parallel(n_jobs=-1)]: Done 1760 tasks      | elapsed:   35.4s\n",
      "[Parallel(n_jobs=-1)]: Done 2410 tasks      | elapsed:   48.3s\n",
      "[Parallel(n_jobs=-1)]: Done 3160 tasks      | elapsed:  1.1min\n",
      "[Parallel(n_jobs=-1)]: Done 4010 tasks      | elapsed:  1.3min\n",
      "[Parallel(n_jobs=-1)]: Done 4960 tasks      | elapsed:  1.7min\n",
      "[Parallel(n_jobs=-1)]: Done 6010 tasks      | elapsed:  2.0min\n",
      "[Parallel(n_jobs=-1)]: Done 7160 tasks      | elapsed:  2.4min\n",
      "[Parallel(n_jobs=-1)]: Done 8410 tasks      | elapsed:  2.8min\n",
      "[Parallel(n_jobs=-1)]: Done 9760 tasks      | elapsed:  3.3min\n",
      "[Parallel(n_jobs=-1)]: Done 10000 out of 10000 | elapsed:  3.3min finished\n",
      "[Parallel(n_jobs=20)]: Using backend ThreadingBackend with 20 concurrent workers.\n",
      "[Parallel(n_jobs=20)]: Done  10 tasks      | elapsed:    0.0s\n",
      "[Parallel(n_jobs=20)]: Done 160 tasks      | elapsed:    0.1s\n"
     ]
    },
    {
     "name": "stdout",
     "output_type": "stream",
     "text": [
      "done in 203.832s.\n"
     ]
    },
    {
     "name": "stderr",
     "output_type": "stream",
     "text": [
      "[Parallel(n_jobs=20)]: Done 410 tasks      | elapsed:    0.2s\n",
      "[Parallel(n_jobs=20)]: Done 760 tasks      | elapsed:    0.3s\n",
      "[Parallel(n_jobs=20)]: Done 1210 tasks      | elapsed:    0.5s\n",
      "[Parallel(n_jobs=20)]: Done 1760 tasks      | elapsed:    0.7s\n",
      "[Parallel(n_jobs=20)]: Done 2410 tasks      | elapsed:    0.9s\n",
      "[Parallel(n_jobs=20)]: Done 3160 tasks      | elapsed:    1.1s\n",
      "[Parallel(n_jobs=20)]: Done 4010 tasks      | elapsed:    1.4s\n",
      "[Parallel(n_jobs=20)]: Done 4960 tasks      | elapsed:    1.7s\n",
      "[Parallel(n_jobs=20)]: Done 6010 tasks      | elapsed:    2.1s\n",
      "[Parallel(n_jobs=20)]: Done 7160 tasks      | elapsed:    2.5s\n",
      "[Parallel(n_jobs=20)]: Done 8410 tasks      | elapsed:    2.9s\n",
      "[Parallel(n_jobs=20)]: Done 9760 tasks      | elapsed:    3.3s\n",
      "[Parallel(n_jobs=20)]: Done 10000 out of 10000 | elapsed:    3.4s finished\n"
     ]
    },
    {
     "name": "stdout",
     "output_type": "stream",
     "text": [
      "accuracy：0.65047\n",
      "precision_avg: 0.66020\n",
      "recall_avg: 0.65047\n",
      "f1_score_avg: 0.64517\n",
      "n_estimator = 10000\n",
      "max_depth = 20\n",
      "min_samples_split = 50\n",
      "min_samples_leaf = 1\n"
     ]
    },
    {
     "name": "stderr",
     "output_type": "stream",
     "text": [
      "[Parallel(n_jobs=-1)]: Using backend ThreadingBackend with 20 concurrent workers.\n",
      "[Parallel(n_jobs=-1)]: Done  10 tasks      | elapsed:    0.4s\n",
      "[Parallel(n_jobs=-1)]: Done 160 tasks      | elapsed:    3.2s\n",
      "[Parallel(n_jobs=-1)]: Done 410 tasks      | elapsed:    7.9s\n",
      "[Parallel(n_jobs=-1)]: Done 760 tasks      | elapsed:   14.4s\n",
      "[Parallel(n_jobs=-1)]: Done 1210 tasks      | elapsed:   22.8s\n",
      "[Parallel(n_jobs=-1)]: Done 1760 tasks      | elapsed:   32.9s\n",
      "[Parallel(n_jobs=-1)]: Done 2410 tasks      | elapsed:   44.9s\n",
      "[Parallel(n_jobs=-1)]: Done 3160 tasks      | elapsed:   58.8s\n",
      "[Parallel(n_jobs=-1)]: Done 4010 tasks      | elapsed:  1.2min\n",
      "[Parallel(n_jobs=-1)]: Done 4960 tasks      | elapsed:  1.5min\n",
      "[Parallel(n_jobs=-1)]: Done 6010 tasks      | elapsed:  1.9min\n",
      "[Parallel(n_jobs=-1)]: Done 7160 tasks      | elapsed:  2.2min\n",
      "[Parallel(n_jobs=-1)]: Done 8410 tasks      | elapsed:  2.6min\n",
      "[Parallel(n_jobs=-1)]: Done 9760 tasks      | elapsed:  3.0min\n",
      "[Parallel(n_jobs=-1)]: Done 10000 out of 10000 | elapsed:  3.1min finished\n",
      "[Parallel(n_jobs=20)]: Using backend ThreadingBackend with 20 concurrent workers.\n",
      "[Parallel(n_jobs=20)]: Done  10 tasks      | elapsed:    0.0s\n",
      "[Parallel(n_jobs=20)]: Done 160 tasks      | elapsed:    0.1s\n"
     ]
    },
    {
     "name": "stdout",
     "output_type": "stream",
     "text": [
      "done in 188.386s.\n"
     ]
    },
    {
     "name": "stderr",
     "output_type": "stream",
     "text": [
      "[Parallel(n_jobs=20)]: Done 410 tasks      | elapsed:    0.2s\n",
      "[Parallel(n_jobs=20)]: Done 760 tasks      | elapsed:    0.3s\n",
      "[Parallel(n_jobs=20)]: Done 1210 tasks      | elapsed:    0.4s\n",
      "[Parallel(n_jobs=20)]: Done 1760 tasks      | elapsed:    0.6s\n",
      "[Parallel(n_jobs=20)]: Done 2410 tasks      | elapsed:    0.8s\n",
      "[Parallel(n_jobs=20)]: Done 3160 tasks      | elapsed:    1.1s\n",
      "[Parallel(n_jobs=20)]: Done 4010 tasks      | elapsed:    1.4s\n",
      "[Parallel(n_jobs=20)]: Done 4960 tasks      | elapsed:    1.7s\n",
      "[Parallel(n_jobs=20)]: Done 6010 tasks      | elapsed:    2.0s\n",
      "[Parallel(n_jobs=20)]: Done 7160 tasks      | elapsed:    2.4s\n",
      "[Parallel(n_jobs=20)]: Done 8410 tasks      | elapsed:    2.8s\n",
      "[Parallel(n_jobs=20)]: Done 9760 tasks      | elapsed:    3.2s\n",
      "[Parallel(n_jobs=20)]: Done 10000 out of 10000 | elapsed:    3.3s finished\n"
     ]
    },
    {
     "name": "stdout",
     "output_type": "stream",
     "text": [
      "accuracy：0.65093\n",
      "precision_avg: 0.66041\n",
      "recall_avg: 0.65093\n",
      "f1_score_avg: 0.64556\n",
      "n_estimator = 10000\n",
      "max_depth = 20\n",
      "min_samples_split = 50\n",
      "min_samples_leaf = 5\n"
     ]
    },
    {
     "name": "stderr",
     "output_type": "stream",
     "text": [
      "[Parallel(n_jobs=-1)]: Using backend ThreadingBackend with 20 concurrent workers.\n",
      "[Parallel(n_jobs=-1)]: Done  10 tasks      | elapsed:    0.4s\n",
      "[Parallel(n_jobs=-1)]: Done 160 tasks      | elapsed:    3.2s\n",
      "[Parallel(n_jobs=-1)]: Done 410 tasks      | elapsed:    7.7s\n",
      "[Parallel(n_jobs=-1)]: Done 760 tasks      | elapsed:   14.0s\n",
      "[Parallel(n_jobs=-1)]: Done 1210 tasks      | elapsed:   22.0s\n",
      "[Parallel(n_jobs=-1)]: Done 1760 tasks      | elapsed:   31.9s\n",
      "[Parallel(n_jobs=-1)]: Done 2410 tasks      | elapsed:   43.4s\n",
      "[Parallel(n_jobs=-1)]: Done 3160 tasks      | elapsed:   56.9s\n",
      "[Parallel(n_jobs=-1)]: Done 4010 tasks      | elapsed:  1.2min\n",
      "[Parallel(n_jobs=-1)]: Done 4960 tasks      | elapsed:  1.5min\n",
      "[Parallel(n_jobs=-1)]: Done 6010 tasks      | elapsed:  1.8min\n",
      "[Parallel(n_jobs=-1)]: Done 7160 tasks      | elapsed:  2.1min\n",
      "[Parallel(n_jobs=-1)]: Done 8410 tasks      | elapsed:  2.5min\n",
      "[Parallel(n_jobs=-1)]: Done 9760 tasks      | elapsed:  2.9min\n",
      "[Parallel(n_jobs=-1)]: Done 10000 out of 10000 | elapsed:  3.0min finished\n",
      "[Parallel(n_jobs=20)]: Using backend ThreadingBackend with 20 concurrent workers.\n",
      "[Parallel(n_jobs=20)]: Done  10 tasks      | elapsed:    0.0s\n",
      "[Parallel(n_jobs=20)]: Done 160 tasks      | elapsed:    0.1s\n",
      "[Parallel(n_jobs=20)]: Done 410 tasks      | elapsed:    0.2s\n"
     ]
    },
    {
     "name": "stdout",
     "output_type": "stream",
     "text": [
      "done in 181.773s.\n"
     ]
    },
    {
     "name": "stderr",
     "output_type": "stream",
     "text": [
      "[Parallel(n_jobs=20)]: Done 760 tasks      | elapsed:    0.3s\n",
      "[Parallel(n_jobs=20)]: Done 1210 tasks      | elapsed:    0.4s\n",
      "[Parallel(n_jobs=20)]: Done 1760 tasks      | elapsed:    0.6s\n",
      "[Parallel(n_jobs=20)]: Done 2410 tasks      | elapsed:    0.8s\n",
      "[Parallel(n_jobs=20)]: Done 3160 tasks      | elapsed:    1.1s\n",
      "[Parallel(n_jobs=20)]: Done 4010 tasks      | elapsed:    1.3s\n",
      "[Parallel(n_jobs=20)]: Done 4960 tasks      | elapsed:    1.7s\n",
      "[Parallel(n_jobs=20)]: Done 6010 tasks      | elapsed:    2.0s\n",
      "[Parallel(n_jobs=20)]: Done 7160 tasks      | elapsed:    2.4s\n",
      "[Parallel(n_jobs=20)]: Done 8410 tasks      | elapsed:    2.9s\n",
      "[Parallel(n_jobs=20)]: Done 9760 tasks      | elapsed:    3.3s\n",
      "[Parallel(n_jobs=20)]: Done 10000 out of 10000 | elapsed:    3.4s finished\n"
     ]
    },
    {
     "name": "stdout",
     "output_type": "stream",
     "text": [
      "accuracy：0.64740\n",
      "precision_avg: 0.66112\n",
      "recall_avg: 0.64740\n",
      "f1_score_avg: 0.64355\n",
      "n_estimator = 10000\n",
      "max_depth = 20\n",
      "min_samples_split = 50\n",
      "min_samples_leaf = 10\n"
     ]
    },
    {
     "name": "stderr",
     "output_type": "stream",
     "text": [
      "[Parallel(n_jobs=-1)]: Using backend ThreadingBackend with 20 concurrent workers.\n",
      "[Parallel(n_jobs=-1)]: Done  10 tasks      | elapsed:    0.4s\n",
      "[Parallel(n_jobs=-1)]: Done 160 tasks      | elapsed:    3.0s\n",
      "[Parallel(n_jobs=-1)]: Done 410 tasks      | elapsed:    7.2s\n",
      "[Parallel(n_jobs=-1)]: Done 760 tasks      | elapsed:   13.2s\n",
      "[Parallel(n_jobs=-1)]: Done 1210 tasks      | elapsed:   20.7s\n",
      "[Parallel(n_jobs=-1)]: Done 1760 tasks      | elapsed:   30.0s\n",
      "[Parallel(n_jobs=-1)]: Done 2410 tasks      | elapsed:   41.0s\n",
      "[Parallel(n_jobs=-1)]: Done 3160 tasks      | elapsed:   53.6s\n",
      "[Parallel(n_jobs=-1)]: Done 4010 tasks      | elapsed:  1.1min\n",
      "[Parallel(n_jobs=-1)]: Done 4960 tasks      | elapsed:  1.4min\n",
      "[Parallel(n_jobs=-1)]: Done 6010 tasks      | elapsed:  1.7min\n",
      "[Parallel(n_jobs=-1)]: Done 7160 tasks      | elapsed:  2.0min\n",
      "[Parallel(n_jobs=-1)]: Done 8410 tasks      | elapsed:  2.4min\n",
      "[Parallel(n_jobs=-1)]: Done 9760 tasks      | elapsed:  2.8min\n",
      "[Parallel(n_jobs=-1)]: Done 10000 out of 10000 | elapsed:  2.8min finished\n",
      "[Parallel(n_jobs=20)]: Using backend ThreadingBackend with 20 concurrent workers.\n",
      "[Parallel(n_jobs=20)]: Done  10 tasks      | elapsed:    0.0s\n",
      "[Parallel(n_jobs=20)]: Done 160 tasks      | elapsed:    0.1s\n"
     ]
    },
    {
     "name": "stdout",
     "output_type": "stream",
     "text": [
      "done in 172.505s.\n"
     ]
    },
    {
     "name": "stderr",
     "output_type": "stream",
     "text": [
      "[Parallel(n_jobs=20)]: Done 410 tasks      | elapsed:    0.1s\n",
      "[Parallel(n_jobs=20)]: Done 760 tasks      | elapsed:    0.3s\n",
      "[Parallel(n_jobs=20)]: Done 1210 tasks      | elapsed:    0.4s\n",
      "[Parallel(n_jobs=20)]: Done 1760 tasks      | elapsed:    0.5s\n",
      "[Parallel(n_jobs=20)]: Done 2410 tasks      | elapsed:    0.8s\n",
      "[Parallel(n_jobs=20)]: Done 3160 tasks      | elapsed:    1.0s\n",
      "[Parallel(n_jobs=20)]: Done 4010 tasks      | elapsed:    1.3s\n",
      "[Parallel(n_jobs=20)]: Done 4960 tasks      | elapsed:    1.6s\n",
      "[Parallel(n_jobs=20)]: Done 6010 tasks      | elapsed:    1.9s\n",
      "[Parallel(n_jobs=20)]: Done 7160 tasks      | elapsed:    2.3s\n",
      "[Parallel(n_jobs=20)]: Done 8410 tasks      | elapsed:    2.6s\n",
      "[Parallel(n_jobs=20)]: Done 9760 tasks      | elapsed:    3.1s\n",
      "[Parallel(n_jobs=20)]: Done 10000 out of 10000 | elapsed:    3.1s finished\n"
     ]
    },
    {
     "name": "stdout",
     "output_type": "stream",
     "text": [
      "accuracy：0.64213\n",
      "precision_avg: 0.66190\n",
      "recall_avg: 0.64213\n",
      "f1_score_avg: 0.64031\n",
      "n_estimator = 10000\n",
      "max_depth = 20\n",
      "min_samples_split = 50\n",
      "min_samples_leaf = 20\n"
     ]
    },
    {
     "name": "stderr",
     "output_type": "stream",
     "text": [
      "[Parallel(n_jobs=-1)]: Using backend ThreadingBackend with 20 concurrent workers.\n",
      "[Parallel(n_jobs=-1)]: Done  10 tasks      | elapsed:    0.4s\n",
      "[Parallel(n_jobs=-1)]: Done 160 tasks      | elapsed:    2.9s\n",
      "[Parallel(n_jobs=-1)]: Done 410 tasks      | elapsed:    6.9s\n",
      "[Parallel(n_jobs=-1)]: Done 760 tasks      | elapsed:   12.4s\n",
      "[Parallel(n_jobs=-1)]: Done 1210 tasks      | elapsed:   19.3s\n",
      "[Parallel(n_jobs=-1)]: Done 1760 tasks      | elapsed:   27.8s\n",
      "[Parallel(n_jobs=-1)]: Done 2410 tasks      | elapsed:   37.9s\n",
      "[Parallel(n_jobs=-1)]: Done 3160 tasks      | elapsed:   49.4s\n",
      "[Parallel(n_jobs=-1)]: Done 4010 tasks      | elapsed:  1.0min\n",
      "[Parallel(n_jobs=-1)]: Done 4960 tasks      | elapsed:  1.3min\n",
      "[Parallel(n_jobs=-1)]: Done 6010 tasks      | elapsed:  1.6min\n",
      "[Parallel(n_jobs=-1)]: Done 7160 tasks      | elapsed:  1.9min\n",
      "[Parallel(n_jobs=-1)]: Done 8410 tasks      | elapsed:  2.2min\n",
      "[Parallel(n_jobs=-1)]: Done 9760 tasks      | elapsed:  2.5min\n",
      "[Parallel(n_jobs=-1)]: Done 10000 out of 10000 | elapsed:  2.6min finished\n",
      "[Parallel(n_jobs=20)]: Using backend ThreadingBackend with 20 concurrent workers.\n",
      "[Parallel(n_jobs=20)]: Done  10 tasks      | elapsed:    0.0s\n",
      "[Parallel(n_jobs=20)]: Done 160 tasks      | elapsed:    0.1s\n",
      "[Parallel(n_jobs=20)]: Done 410 tasks      | elapsed:    0.1s\n"
     ]
    },
    {
     "name": "stdout",
     "output_type": "stream",
     "text": [
      "done in 159.186s.\n"
     ]
    },
    {
     "name": "stderr",
     "output_type": "stream",
     "text": [
      "[Parallel(n_jobs=20)]: Done 760 tasks      | elapsed:    0.3s\n",
      "[Parallel(n_jobs=20)]: Done 1210 tasks      | elapsed:    0.4s\n",
      "[Parallel(n_jobs=20)]: Done 1760 tasks      | elapsed:    0.5s\n",
      "[Parallel(n_jobs=20)]: Done 2410 tasks      | elapsed:    0.7s\n",
      "[Parallel(n_jobs=20)]: Done 3160 tasks      | elapsed:    0.9s\n",
      "[Parallel(n_jobs=20)]: Done 4010 tasks      | elapsed:    1.2s\n",
      "[Parallel(n_jobs=20)]: Done 4960 tasks      | elapsed:    1.4s\n",
      "[Parallel(n_jobs=20)]: Done 6010 tasks      | elapsed:    1.7s\n",
      "[Parallel(n_jobs=20)]: Done 7160 tasks      | elapsed:    2.1s\n",
      "[Parallel(n_jobs=20)]: Done 8410 tasks      | elapsed:    2.4s\n",
      "[Parallel(n_jobs=20)]: Done 9760 tasks      | elapsed:    2.8s\n",
      "[Parallel(n_jobs=20)]: Done 10000 out of 10000 | elapsed:    2.9s finished\n"
     ]
    },
    {
     "name": "stdout",
     "output_type": "stream",
     "text": [
      "accuracy：0.63713\n",
      "precision_avg: 0.66494\n",
      "recall_avg: 0.63713\n",
      "f1_score_avg: 0.63782\n",
      "n_estimator = 10000\n",
      "max_depth = 50\n",
      "min_samples_split = 2\n",
      "min_samples_leaf = 1\n"
     ]
    },
    {
     "name": "stderr",
     "output_type": "stream",
     "text": [
      "[Parallel(n_jobs=-1)]: Using backend ThreadingBackend with 20 concurrent workers.\n",
      "[Parallel(n_jobs=-1)]: Done  10 tasks      | elapsed:    2.8s\n",
      "[Parallel(n_jobs=-1)]: Done 160 tasks      | elapsed:   21.9s\n",
      "[Parallel(n_jobs=-1)]: Done 410 tasks      | elapsed:   54.9s\n",
      "[Parallel(n_jobs=-1)]: Done 760 tasks      | elapsed:  1.7min\n",
      "[Parallel(n_jobs=-1)]: Done 1210 tasks      | elapsed:  2.7min\n",
      "[Parallel(n_jobs=-1)]: Done 1760 tasks      | elapsed:  3.8min\n",
      "[Parallel(n_jobs=-1)]: Done 2410 tasks      | elapsed:  5.3min\n",
      "[Parallel(n_jobs=-1)]: Done 3160 tasks      | elapsed:  6.9min\n",
      "[Parallel(n_jobs=-1)]: Done 4010 tasks      | elapsed:  8.7min\n",
      "[Parallel(n_jobs=-1)]: Done 4960 tasks      | elapsed: 10.7min\n",
      "[Parallel(n_jobs=-1)]: Done 6010 tasks      | elapsed: 13.0min\n",
      "[Parallel(n_jobs=-1)]: Done 7160 tasks      | elapsed: 15.4min\n",
      "[Parallel(n_jobs=-1)]: Done 8410 tasks      | elapsed: 18.1min\n",
      "[Parallel(n_jobs=-1)]: Done 9760 tasks      | elapsed: 21.0min\n",
      "[Parallel(n_jobs=-1)]: Done 10000 out of 10000 | elapsed: 21.5min finished\n",
      "[Parallel(n_jobs=20)]: Using backend ThreadingBackend with 20 concurrent workers.\n",
      "[Parallel(n_jobs=20)]: Done  10 tasks      | elapsed:    0.0s\n",
      "[Parallel(n_jobs=20)]: Done 160 tasks      | elapsed:    0.1s\n"
     ]
    },
    {
     "name": "stdout",
     "output_type": "stream",
     "text": [
      "done in 1295.059s.\n"
     ]
    },
    {
     "name": "stderr",
     "output_type": "stream",
     "text": [
      "[Parallel(n_jobs=20)]: Done 410 tasks      | elapsed:    0.2s\n",
      "[Parallel(n_jobs=20)]: Done 760 tasks      | elapsed:    0.4s\n",
      "[Parallel(n_jobs=20)]: Done 1210 tasks      | elapsed:    0.6s\n",
      "[Parallel(n_jobs=20)]: Done 1760 tasks      | elapsed:    0.8s\n",
      "[Parallel(n_jobs=20)]: Done 2410 tasks      | elapsed:    1.0s\n",
      "[Parallel(n_jobs=20)]: Done 3160 tasks      | elapsed:    1.3s\n",
      "[Parallel(n_jobs=20)]: Done 4010 tasks      | elapsed:    1.5s\n",
      "[Parallel(n_jobs=20)]: Done 4960 tasks      | elapsed:    1.8s\n",
      "[Parallel(n_jobs=20)]: Done 6010 tasks      | elapsed:    2.1s\n",
      "[Parallel(n_jobs=20)]: Done 7160 tasks      | elapsed:    2.5s\n",
      "[Parallel(n_jobs=20)]: Done 8410 tasks      | elapsed:    2.8s\n",
      "[Parallel(n_jobs=20)]: Done 9760 tasks      | elapsed:    3.2s\n",
      "[Parallel(n_jobs=20)]: Done 10000 out of 10000 | elapsed:    3.3s finished\n"
     ]
    },
    {
     "name": "stdout",
     "output_type": "stream",
     "text": [
      "accuracy：0.69393\n",
      "precision_avg: 0.66265\n",
      "recall_avg: 0.69393\n",
      "f1_score_avg: 0.64453\n",
      "n_estimator = 10000\n",
      "max_depth = 50\n",
      "min_samples_split = 10\n",
      "min_samples_leaf = 1\n"
     ]
    },
    {
     "name": "stderr",
     "output_type": "stream",
     "text": [
      "[Parallel(n_jobs=-1)]: Using backend ThreadingBackend with 20 concurrent workers.\n",
      "[Parallel(n_jobs=-1)]: Done  10 tasks      | elapsed:    2.3s\n",
      "[Parallel(n_jobs=-1)]: Done 160 tasks      | elapsed:   18.8s\n",
      "[Parallel(n_jobs=-1)]: Done 410 tasks      | elapsed:   47.3s\n",
      "[Parallel(n_jobs=-1)]: Done 760 tasks      | elapsed:  1.4min\n",
      "[Parallel(n_jobs=-1)]: Done 1210 tasks      | elapsed:  2.3min\n",
      "[Parallel(n_jobs=-1)]: Done 1760 tasks      | elapsed:  3.3min\n",
      "[Parallel(n_jobs=-1)]: Done 2410 tasks      | elapsed:  4.5min\n",
      "[Parallel(n_jobs=-1)]: Done 3160 tasks      | elapsed:  5.9min\n",
      "[Parallel(n_jobs=-1)]: Done 4010 tasks      | elapsed:  7.5min\n",
      "[Parallel(n_jobs=-1)]: Done 4960 tasks      | elapsed:  9.3min\n",
      "[Parallel(n_jobs=-1)]: Done 6010 tasks      | elapsed: 11.2min\n",
      "[Parallel(n_jobs=-1)]: Done 7160 tasks      | elapsed: 13.4min\n",
      "[Parallel(n_jobs=-1)]: Done 8410 tasks      | elapsed: 15.7min\n",
      "[Parallel(n_jobs=-1)]: Done 9760 tasks      | elapsed: 18.2min\n",
      "[Parallel(n_jobs=-1)]: Done 10000 out of 10000 | elapsed: 18.7min finished\n",
      "[Parallel(n_jobs=20)]: Using backend ThreadingBackend with 20 concurrent workers.\n",
      "[Parallel(n_jobs=20)]: Done  10 tasks      | elapsed:    0.0s\n",
      "[Parallel(n_jobs=20)]: Done 160 tasks      | elapsed:    0.1s\n"
     ]
    },
    {
     "name": "stdout",
     "output_type": "stream",
     "text": [
      "done in 1123.626s.\n"
     ]
    },
    {
     "name": "stderr",
     "output_type": "stream",
     "text": [
      "[Parallel(n_jobs=20)]: Done 410 tasks      | elapsed:    0.2s\n",
      "[Parallel(n_jobs=20)]: Done 760 tasks      | elapsed:    0.3s\n",
      "[Parallel(n_jobs=20)]: Done 1210 tasks      | elapsed:    0.4s\n",
      "[Parallel(n_jobs=20)]: Done 1760 tasks      | elapsed:    0.6s\n",
      "[Parallel(n_jobs=20)]: Done 2410 tasks      | elapsed:    0.8s\n",
      "[Parallel(n_jobs=20)]: Done 3160 tasks      | elapsed:    1.0s\n",
      "[Parallel(n_jobs=20)]: Done 4010 tasks      | elapsed:    1.2s\n",
      "[Parallel(n_jobs=20)]: Done 4960 tasks      | elapsed:    1.5s\n",
      "[Parallel(n_jobs=20)]: Done 6010 tasks      | elapsed:    1.8s\n",
      "[Parallel(n_jobs=20)]: Done 7160 tasks      | elapsed:    2.1s\n",
      "[Parallel(n_jobs=20)]: Done 8410 tasks      | elapsed:    2.5s\n",
      "[Parallel(n_jobs=20)]: Done 9760 tasks      | elapsed:    2.9s\n",
      "[Parallel(n_jobs=20)]: Done 10000 out of 10000 | elapsed:    2.9s finished\n"
     ]
    },
    {
     "name": "stdout",
     "output_type": "stream",
     "text": [
      "accuracy：0.69307\n",
      "precision_avg: 0.65857\n",
      "recall_avg: 0.69307\n",
      "f1_score_avg: 0.64980\n",
      "n_estimator = 10000\n",
      "max_depth = 50\n",
      "min_samples_split = 10\n",
      "min_samples_leaf = 5\n"
     ]
    },
    {
     "name": "stderr",
     "output_type": "stream",
     "text": [
      "[Parallel(n_jobs=-1)]: Using backend ThreadingBackend with 20 concurrent workers.\n",
      "[Parallel(n_jobs=-1)]: Done  10 tasks      | elapsed:    1.7s\n",
      "[Parallel(n_jobs=-1)]: Done 160 tasks      | elapsed:   13.8s\n",
      "[Parallel(n_jobs=-1)]: Done 410 tasks      | elapsed:   34.7s\n",
      "[Parallel(n_jobs=-1)]: Done 760 tasks      | elapsed:  1.1min\n",
      "[Parallel(n_jobs=-1)]: Done 1210 tasks      | elapsed:  1.7min\n",
      "[Parallel(n_jobs=-1)]: Done 1760 tasks      | elapsed:  2.4min\n",
      "[Parallel(n_jobs=-1)]: Done 2410 tasks      | elapsed:  3.3min\n",
      "[Parallel(n_jobs=-1)]: Done 3160 tasks      | elapsed:  4.3min\n",
      "[Parallel(n_jobs=-1)]: Done 4010 tasks      | elapsed:  5.5min\n",
      "[Parallel(n_jobs=-1)]: Done 4960 tasks      | elapsed:  6.8min\n",
      "[Parallel(n_jobs=-1)]: Done 6010 tasks      | elapsed:  8.2min\n",
      "[Parallel(n_jobs=-1)]: Done 7160 tasks      | elapsed:  9.8min\n",
      "[Parallel(n_jobs=-1)]: Done 8410 tasks      | elapsed: 11.5min\n",
      "[Parallel(n_jobs=-1)]: Done 9760 tasks      | elapsed: 13.3min\n",
      "[Parallel(n_jobs=-1)]: Done 10000 out of 10000 | elapsed: 13.7min finished\n",
      "[Parallel(n_jobs=20)]: Using backend ThreadingBackend with 20 concurrent workers.\n",
      "[Parallel(n_jobs=20)]: Done  10 tasks      | elapsed:    0.0s\n",
      "[Parallel(n_jobs=20)]: Done 160 tasks      | elapsed:    0.1s\n",
      "[Parallel(n_jobs=20)]: Done 410 tasks      | elapsed:    0.1s\n"
     ]
    },
    {
     "name": "stdout",
     "output_type": "stream",
     "text": [
      "done in 822.803s.\n"
     ]
    },
    {
     "name": "stderr",
     "output_type": "stream",
     "text": [
      "[Parallel(n_jobs=20)]: Done 760 tasks      | elapsed:    0.2s\n",
      "[Parallel(n_jobs=20)]: Done 1210 tasks      | elapsed:    0.4s\n",
      "[Parallel(n_jobs=20)]: Done 1760 tasks      | elapsed:    0.5s\n",
      "[Parallel(n_jobs=20)]: Done 2410 tasks      | elapsed:    0.7s\n",
      "[Parallel(n_jobs=20)]: Done 3160 tasks      | elapsed:    0.9s\n",
      "[Parallel(n_jobs=20)]: Done 4010 tasks      | elapsed:    1.1s\n",
      "[Parallel(n_jobs=20)]: Done 4960 tasks      | elapsed:    1.3s\n",
      "[Parallel(n_jobs=20)]: Done 6010 tasks      | elapsed:    1.6s\n",
      "[Parallel(n_jobs=20)]: Done 7160 tasks      | elapsed:    1.9s\n",
      "[Parallel(n_jobs=20)]: Done 8410 tasks      | elapsed:    2.2s\n",
      "[Parallel(n_jobs=20)]: Done 9760 tasks      | elapsed:    2.6s\n",
      "[Parallel(n_jobs=20)]: Done 10000 out of 10000 | elapsed:    2.7s finished\n"
     ]
    },
    {
     "name": "stdout",
     "output_type": "stream",
     "text": [
      "accuracy：0.67973\n",
      "precision_avg: 0.65351\n",
      "recall_avg: 0.67973\n",
      "f1_score_avg: 0.65668\n",
      "n_estimator = 10000\n",
      "max_depth = 50\n",
      "min_samples_split = 50\n",
      "min_samples_leaf = 1\n"
     ]
    },
    {
     "name": "stderr",
     "output_type": "stream",
     "text": [
      "[Parallel(n_jobs=-1)]: Using backend ThreadingBackend with 20 concurrent workers.\n",
      "[Parallel(n_jobs=-1)]: Done  10 tasks      | elapsed:    1.7s\n",
      "[Parallel(n_jobs=-1)]: Done 160 tasks      | elapsed:   13.7s\n",
      "[Parallel(n_jobs=-1)]: Done 410 tasks      | elapsed:   34.7s\n",
      "[Parallel(n_jobs=-1)]: Done 760 tasks      | elapsed:  1.1min\n",
      "[Parallel(n_jobs=-1)]: Done 1210 tasks      | elapsed:  1.7min\n",
      "[Parallel(n_jobs=-1)]: Done 1760 tasks      | elapsed:  2.4min\n",
      "[Parallel(n_jobs=-1)]: Done 2410 tasks      | elapsed:  3.3min\n",
      "[Parallel(n_jobs=-1)]: Done 3160 tasks      | elapsed:  4.3min\n",
      "[Parallel(n_jobs=-1)]: Done 4010 tasks      | elapsed:  5.5min\n",
      "[Parallel(n_jobs=-1)]: Done 4960 tasks      | elapsed:  6.8min\n",
      "[Parallel(n_jobs=-1)]: Done 6010 tasks      | elapsed:  8.2min\n",
      "[Parallel(n_jobs=-1)]: Done 7160 tasks      | elapsed:  9.8min\n",
      "[Parallel(n_jobs=-1)]: Done 8410 tasks      | elapsed: 11.5min\n",
      "[Parallel(n_jobs=-1)]: Done 9760 tasks      | elapsed: 13.3min\n",
      "[Parallel(n_jobs=-1)]: Done 10000 out of 10000 | elapsed: 13.7min finished\n",
      "[Parallel(n_jobs=20)]: Using backend ThreadingBackend with 20 concurrent workers.\n",
      "[Parallel(n_jobs=20)]: Done  10 tasks      | elapsed:    0.0s\n",
      "[Parallel(n_jobs=20)]: Done 160 tasks      | elapsed:    0.1s\n",
      "[Parallel(n_jobs=20)]: Done 410 tasks      | elapsed:    0.1s\n"
     ]
    },
    {
     "name": "stdout",
     "output_type": "stream",
     "text": [
      "done in 823.670s.\n"
     ]
    },
    {
     "name": "stderr",
     "output_type": "stream",
     "text": [
      "[Parallel(n_jobs=20)]: Done 760 tasks      | elapsed:    0.2s\n",
      "[Parallel(n_jobs=20)]: Done 1210 tasks      | elapsed:    0.4s\n",
      "[Parallel(n_jobs=20)]: Done 1760 tasks      | elapsed:    0.5s\n",
      "[Parallel(n_jobs=20)]: Done 2410 tasks      | elapsed:    0.7s\n",
      "[Parallel(n_jobs=20)]: Done 3160 tasks      | elapsed:    0.9s\n",
      "[Parallel(n_jobs=20)]: Done 4010 tasks      | elapsed:    1.1s\n",
      "[Parallel(n_jobs=20)]: Done 4960 tasks      | elapsed:    1.4s\n",
      "[Parallel(n_jobs=20)]: Done 6010 tasks      | elapsed:    1.7s\n",
      "[Parallel(n_jobs=20)]: Done 7160 tasks      | elapsed:    2.0s\n",
      "[Parallel(n_jobs=20)]: Done 8410 tasks      | elapsed:    2.3s\n",
      "[Parallel(n_jobs=20)]: Done 9760 tasks      | elapsed:    2.7s\n",
      "[Parallel(n_jobs=20)]: Done 10000 out of 10000 | elapsed:    2.7s finished\n"
     ]
    },
    {
     "name": "stdout",
     "output_type": "stream",
     "text": [
      "accuracy：0.68467\n",
      "precision_avg: 0.65312\n",
      "recall_avg: 0.68467\n",
      "f1_score_avg: 0.65622\n",
      "n_estimator = 10000\n",
      "max_depth = 50\n",
      "min_samples_split = 50\n",
      "min_samples_leaf = 5\n"
     ]
    },
    {
     "name": "stderr",
     "output_type": "stream",
     "text": [
      "[Parallel(n_jobs=-1)]: Using backend ThreadingBackend with 20 concurrent workers.\n",
      "[Parallel(n_jobs=-1)]: Done  10 tasks      | elapsed:    1.4s\n",
      "[Parallel(n_jobs=-1)]: Done 160 tasks      | elapsed:   11.5s\n",
      "[Parallel(n_jobs=-1)]: Done 410 tasks      | elapsed:   28.9s\n",
      "[Parallel(n_jobs=-1)]: Done 760 tasks      | elapsed:   53.2s\n",
      "[Parallel(n_jobs=-1)]: Done 1210 tasks      | elapsed:  1.4min\n",
      "[Parallel(n_jobs=-1)]: Done 1760 tasks      | elapsed:  2.0min\n",
      "[Parallel(n_jobs=-1)]: Done 2410 tasks      | elapsed:  2.8min\n",
      "[Parallel(n_jobs=-1)]: Done 3160 tasks      | elapsed:  3.7min\n",
      "[Parallel(n_jobs=-1)]: Done 4010 tasks      | elapsed:  4.6min\n",
      "[Parallel(n_jobs=-1)]: Done 4960 tasks      | elapsed:  5.7min\n",
      "[Parallel(n_jobs=-1)]: Done 6010 tasks      | elapsed:  6.9min\n",
      "[Parallel(n_jobs=-1)]: Done 7160 tasks      | elapsed:  8.2min\n",
      "[Parallel(n_jobs=-1)]: Done 8410 tasks      | elapsed:  9.7min\n",
      "[Parallel(n_jobs=-1)]: Done 9760 tasks      | elapsed: 11.2min\n",
      "[Parallel(n_jobs=-1)]: Done 10000 out of 10000 | elapsed: 11.5min finished\n",
      "[Parallel(n_jobs=20)]: Using backend ThreadingBackend with 20 concurrent workers.\n",
      "[Parallel(n_jobs=20)]: Done  10 tasks      | elapsed:    0.0s\n",
      "[Parallel(n_jobs=20)]: Done 160 tasks      | elapsed:    0.1s\n",
      "[Parallel(n_jobs=20)]: Done 410 tasks      | elapsed:    0.1s\n"
     ]
    },
    {
     "name": "stdout",
     "output_type": "stream",
     "text": [
      "done in 693.575s.\n"
     ]
    },
    {
     "name": "stderr",
     "output_type": "stream",
     "text": [
      "[Parallel(n_jobs=20)]: Done 760 tasks      | elapsed:    0.2s\n",
      "[Parallel(n_jobs=20)]: Done 1210 tasks      | elapsed:    0.4s\n",
      "[Parallel(n_jobs=20)]: Done 1760 tasks      | elapsed:    0.5s\n",
      "[Parallel(n_jobs=20)]: Done 2410 tasks      | elapsed:    0.7s\n",
      "[Parallel(n_jobs=20)]: Done 3160 tasks      | elapsed:    0.9s\n",
      "[Parallel(n_jobs=20)]: Done 4010 tasks      | elapsed:    1.1s\n",
      "[Parallel(n_jobs=20)]: Done 4960 tasks      | elapsed:    1.4s\n",
      "[Parallel(n_jobs=20)]: Done 6010 tasks      | elapsed:    1.7s\n",
      "[Parallel(n_jobs=20)]: Done 7160 tasks      | elapsed:    2.0s\n",
      "[Parallel(n_jobs=20)]: Done 8410 tasks      | elapsed:    2.3s\n",
      "[Parallel(n_jobs=20)]: Done 9760 tasks      | elapsed:    2.7s\n",
      "[Parallel(n_jobs=20)]: Done 10000 out of 10000 | elapsed:    2.8s finished\n"
     ]
    },
    {
     "name": "stdout",
     "output_type": "stream",
     "text": [
      "accuracy：0.67520\n",
      "precision_avg: 0.65372\n",
      "recall_avg: 0.67520\n",
      "f1_score_avg: 0.65568\n",
      "n_estimator = 10000\n",
      "max_depth = 50\n",
      "min_samples_split = 50\n",
      "min_samples_leaf = 10\n"
     ]
    },
    {
     "name": "stderr",
     "output_type": "stream",
     "text": [
      "[Parallel(n_jobs=-1)]: Using backend ThreadingBackend with 20 concurrent workers.\n",
      "[Parallel(n_jobs=-1)]: Done  10 tasks      | elapsed:    1.2s\n",
      "[Parallel(n_jobs=-1)]: Done 160 tasks      | elapsed:    9.4s\n",
      "[Parallel(n_jobs=-1)]: Done 410 tasks      | elapsed:   23.3s\n",
      "[Parallel(n_jobs=-1)]: Done 760 tasks      | elapsed:   42.6s\n",
      "[Parallel(n_jobs=-1)]: Done 1210 tasks      | elapsed:  1.1min\n",
      "[Parallel(n_jobs=-1)]: Done 1760 tasks      | elapsed:  1.6min\n",
      "[Parallel(n_jobs=-1)]: Done 2410 tasks      | elapsed:  2.2min\n",
      "[Parallel(n_jobs=-1)]: Done 3160 tasks      | elapsed:  2.9min\n",
      "[Parallel(n_jobs=-1)]: Done 4010 tasks      | elapsed:  3.7min\n",
      "[Parallel(n_jobs=-1)]: Done 4960 tasks      | elapsed:  4.5min\n",
      "[Parallel(n_jobs=-1)]: Done 6010 tasks      | elapsed:  5.5min\n",
      "[Parallel(n_jobs=-1)]: Done 7160 tasks      | elapsed:  6.5min\n",
      "[Parallel(n_jobs=-1)]: Done 8410 tasks      | elapsed:  7.7min\n",
      "[Parallel(n_jobs=-1)]: Done 9760 tasks      | elapsed:  8.9min\n",
      "[Parallel(n_jobs=-1)]: Done 10000 out of 10000 | elapsed:  9.1min finished\n",
      "[Parallel(n_jobs=20)]: Using backend ThreadingBackend with 20 concurrent workers.\n",
      "[Parallel(n_jobs=20)]: Done  10 tasks      | elapsed:    0.0s\n",
      "[Parallel(n_jobs=20)]: Done 160 tasks      | elapsed:    0.1s\n"
     ]
    },
    {
     "name": "stdout",
     "output_type": "stream",
     "text": [
      "done in 552.047s.\n"
     ]
    },
    {
     "name": "stderr",
     "output_type": "stream",
     "text": [
      "[Parallel(n_jobs=20)]: Done 410 tasks      | elapsed:    0.1s\n",
      "[Parallel(n_jobs=20)]: Done 760 tasks      | elapsed:    0.2s\n",
      "[Parallel(n_jobs=20)]: Done 1210 tasks      | elapsed:    0.4s\n",
      "[Parallel(n_jobs=20)]: Done 1760 tasks      | elapsed:    0.5s\n",
      "[Parallel(n_jobs=20)]: Done 2410 tasks      | elapsed:    0.7s\n",
      "[Parallel(n_jobs=20)]: Done 3160 tasks      | elapsed:    0.9s\n",
      "[Parallel(n_jobs=20)]: Done 4010 tasks      | elapsed:    1.1s\n",
      "[Parallel(n_jobs=20)]: Done 4960 tasks      | elapsed:    1.4s\n",
      "[Parallel(n_jobs=20)]: Done 6010 tasks      | elapsed:    1.7s\n",
      "[Parallel(n_jobs=20)]: Done 7160 tasks      | elapsed:    2.0s\n",
      "[Parallel(n_jobs=20)]: Done 8410 tasks      | elapsed:    2.3s\n",
      "[Parallel(n_jobs=20)]: Done 9760 tasks      | elapsed:    2.7s\n",
      "[Parallel(n_jobs=20)]: Done 10000 out of 10000 | elapsed:    2.7s finished\n"
     ]
    },
    {
     "name": "stdout",
     "output_type": "stream",
     "text": [
      "accuracy：0.66373\n",
      "precision_avg: 0.65708\n",
      "recall_avg: 0.66373\n",
      "f1_score_avg: 0.65310\n",
      "n_estimator = 10000\n",
      "max_depth = 50\n",
      "min_samples_split = 50\n",
      "min_samples_leaf = 20\n"
     ]
    },
    {
     "name": "stderr",
     "output_type": "stream",
     "text": [
      "[Parallel(n_jobs=-1)]: Using backend ThreadingBackend with 20 concurrent workers.\n",
      "[Parallel(n_jobs=-1)]: Done  10 tasks      | elapsed:    0.9s\n",
      "[Parallel(n_jobs=-1)]: Done 160 tasks      | elapsed:    6.8s\n",
      "[Parallel(n_jobs=-1)]: Done 410 tasks      | elapsed:   17.5s\n",
      "[Parallel(n_jobs=-1)]: Done 760 tasks      | elapsed:   31.9s\n",
      "[Parallel(n_jobs=-1)]: Done 1210 tasks      | elapsed:   50.4s\n",
      "[Parallel(n_jobs=-1)]: Done 1760 tasks      | elapsed:  1.2min\n",
      "[Parallel(n_jobs=-1)]: Done 2410 tasks      | elapsed:  1.7min\n",
      "[Parallel(n_jobs=-1)]: Done 3160 tasks      | elapsed:  2.2min\n",
      "[Parallel(n_jobs=-1)]: Done 4010 tasks      | elapsed:  2.8min\n",
      "[Parallel(n_jobs=-1)]: Done 4960 tasks      | elapsed:  3.4min\n",
      "[Parallel(n_jobs=-1)]: Done 6010 tasks      | elapsed:  4.1min\n",
      "[Parallel(n_jobs=-1)]: Done 7160 tasks      | elapsed:  4.9min\n",
      "[Parallel(n_jobs=-1)]: Done 8410 tasks      | elapsed:  5.8min\n",
      "[Parallel(n_jobs=-1)]: Done 9760 tasks      | elapsed:  6.7min\n",
      "[Parallel(n_jobs=-1)]: Done 10000 out of 10000 | elapsed:  6.9min finished\n",
      "[Parallel(n_jobs=20)]: Using backend ThreadingBackend with 20 concurrent workers.\n",
      "[Parallel(n_jobs=20)]: Done  10 tasks      | elapsed:    0.0s\n",
      "[Parallel(n_jobs=20)]: Done 160 tasks      | elapsed:    0.1s\n",
      "[Parallel(n_jobs=20)]: Done 410 tasks      | elapsed:    0.1s\n"
     ]
    },
    {
     "name": "stdout",
     "output_type": "stream",
     "text": [
      "done in 415.377s.\n"
     ]
    },
    {
     "name": "stderr",
     "output_type": "stream",
     "text": [
      "[Parallel(n_jobs=20)]: Done 760 tasks      | elapsed:    0.2s\n",
      "[Parallel(n_jobs=20)]: Done 1210 tasks      | elapsed:    0.3s\n",
      "[Parallel(n_jobs=20)]: Done 1760 tasks      | elapsed:    0.5s\n",
      "[Parallel(n_jobs=20)]: Done 2410 tasks      | elapsed:    0.7s\n",
      "[Parallel(n_jobs=20)]: Done 3160 tasks      | elapsed:    0.9s\n",
      "[Parallel(n_jobs=20)]: Done 4010 tasks      | elapsed:    1.1s\n",
      "[Parallel(n_jobs=20)]: Done 4960 tasks      | elapsed:    1.3s\n",
      "[Parallel(n_jobs=20)]: Done 6010 tasks      | elapsed:    1.6s\n",
      "[Parallel(n_jobs=20)]: Done 7160 tasks      | elapsed:    1.9s\n",
      "[Parallel(n_jobs=20)]: Done 8410 tasks      | elapsed:    2.2s\n"
     ]
    },
    {
     "name": "stdout",
     "output_type": "stream",
     "text": [
      "accuracy：0.65340\n",
      "precision_avg: 0.66487\n",
      "recall_avg: 0.65340\n",
      "f1_score_avg: 0.65109\n"
     ]
    },
    {
     "name": "stderr",
     "output_type": "stream",
     "text": [
      "[Parallel(n_jobs=20)]: Done 9760 tasks      | elapsed:    2.6s\n",
      "[Parallel(n_jobs=20)]: Done 10000 out of 10000 | elapsed:    2.7s finished\n"
     ]
    }
   ],
   "source": [
    "n_estimators_range = [1000, 5000, 10000]\n",
    "max_depth_range = [10,20,50]\n",
    "min_samples_split_range = [2, 10, 50]\n",
    "min_samples_leaf_range = [1, 5, 10, 20, 50]\n",
    "\n",
    "\n",
    "for n_estimator in n_estimators_range:\n",
    "    for max_depth in max_depth_range:\n",
    "        for min_samples_split in min_samples_split_range:\n",
    "            for min_samples_leaf in min_samples_leaf_range:\n",
    "                # 设置这个条件才合理\n",
    "                if min_samples_split > min_samples_leaf:\n",
    "                        print('n_estimator = %d' % n_estimator)\n",
    "                        print('max_depth = %d' % max_depth)\n",
    "                        print('min_samples_split = %d' % min_samples_split)\n",
    "                        print('min_samples_leaf = %d' % min_samples_leaf)\n",
    "                        clf = RandomForestClassifier(\n",
    "                                                        n_estimators= n_estimator,\n",
    "                                                        criterion='gini',\n",
    "                                                        max_depth= max_depth,\n",
    "                                                        min_samples_split = min_samples_split,\n",
    "                                                        min_samples_leaf = min_samples_leaf,\n",
    "                                                        max_features= 'sqrt',\n",
    "                                                        bootstrap=True,\n",
    "                                                        random_state= 2020,\n",
    "                                                        verbose= 1,\n",
    "                                                        class_weight= 'balanced',\n",
    "                                                        n_jobs = -1\n",
    "                                                    )\n",
    "                        t0 = time()\n",
    "                        clf.fit(train_x, train_y)\n",
    "                        print(\"done in %0.3fs.\" % (time() - t0))\n",
    "                        predict_y = clf.predict(valid_x)\n",
    "                        # predict_prob_y = clf.predict_proba(valid_x)\n",
    "                        # 评价指标值\n",
    "                        accuracy, precision_avg, recall_avg, f1_score_avg = eval_p_r_f1(valid_y, predict_y)\n",
    "                        print('accuracy：%0.5f' % accuracy)\n",
    "                        print('precision_avg: %0.5f' % precision_avg)\n",
    "                        print('recall_avg: %0.5f' % recall_avg)\n",
    "                        print('f1_score_avg: %0.5f' % f1_score_avg)\n",
    "                \n",
    "                "
   ]
  },
  {
   "cell_type": "raw",
   "metadata": {},
   "source": [
    "dish 调参"
   ]
  },
  {
   "cell_type": "code",
   "execution_count": 10,
   "metadata": {
    "collapsed": true,
    "jupyter": {
     "outputs_hidden": true
    }
   },
   "outputs": [
    {
     "name": "stdout",
     "output_type": "stream",
     "text": [
      "n_estimator = 1000\n",
      "max_depth = 10\n",
      "min_samples_split = 2\n",
      "min_samples_leaf = 1\n"
     ]
    },
    {
     "name": "stderr",
     "output_type": "stream",
     "text": [
      "[Parallel(n_jobs=-1)]: Using backend ThreadingBackend with 20 concurrent workers.\n",
      "[Parallel(n_jobs=-1)]: Done  10 tasks      | elapsed:    0.2s\n",
      "[Parallel(n_jobs=-1)]: Done 160 tasks      | elapsed:    1.4s\n",
      "[Parallel(n_jobs=-1)]: Done 410 tasks      | elapsed:    3.3s\n",
      "[Parallel(n_jobs=-1)]: Done 760 tasks      | elapsed:    6.0s\n",
      "[Parallel(n_jobs=-1)]: Done 1000 out of 1000 | elapsed:    7.7s finished\n",
      "[Parallel(n_jobs=20)]: Using backend ThreadingBackend with 20 concurrent workers.\n",
      "[Parallel(n_jobs=20)]: Done  10 tasks      | elapsed:    0.0s\n",
      "[Parallel(n_jobs=20)]: Done 160 tasks      | elapsed:    0.1s\n"
     ]
    },
    {
     "name": "stdout",
     "output_type": "stream",
     "text": [
      "done in 8.224s.\n"
     ]
    },
    {
     "name": "stderr",
     "output_type": "stream",
     "text": [
      "[Parallel(n_jobs=20)]: Done 410 tasks      | elapsed:    0.2s\n",
      "[Parallel(n_jobs=20)]: Done 760 tasks      | elapsed:    0.3s\n",
      "[Parallel(n_jobs=20)]: Done 1000 out of 1000 | elapsed:    0.3s finished\n"
     ]
    },
    {
     "name": "stdout",
     "output_type": "stream",
     "text": [
      "accuracy：0.50973\n",
      "precision_avg: 0.64611\n",
      "recall_avg: 0.50973\n",
      "f1_score_avg: 0.55530\n",
      "n_estimator = 1000\n",
      "max_depth = 10\n",
      "min_samples_split = 10\n",
      "min_samples_leaf = 1\n"
     ]
    },
    {
     "name": "stderr",
     "output_type": "stream",
     "text": [
      "[Parallel(n_jobs=-1)]: Using backend ThreadingBackend with 20 concurrent workers.\n",
      "[Parallel(n_jobs=-1)]: Done  10 tasks      | elapsed:    0.2s\n",
      "[Parallel(n_jobs=-1)]: Done 160 tasks      | elapsed:    1.3s\n",
      "[Parallel(n_jobs=-1)]: Done 410 tasks      | elapsed:    3.1s\n",
      "[Parallel(n_jobs=-1)]: Done 760 tasks      | elapsed:    5.7s\n",
      "[Parallel(n_jobs=-1)]: Done 1000 out of 1000 | elapsed:    7.4s finished\n",
      "[Parallel(n_jobs=20)]: Using backend ThreadingBackend with 20 concurrent workers.\n",
      "[Parallel(n_jobs=20)]: Done  10 tasks      | elapsed:    0.0s\n",
      "[Parallel(n_jobs=20)]: Done 160 tasks      | elapsed:    0.1s\n",
      "[Parallel(n_jobs=20)]: Done 410 tasks      | elapsed:    0.1s\n"
     ]
    },
    {
     "name": "stdout",
     "output_type": "stream",
     "text": [
      "done in 7.874s.\n"
     ]
    },
    {
     "name": "stderr",
     "output_type": "stream",
     "text": [
      "[Parallel(n_jobs=20)]: Done 760 tasks      | elapsed:    0.2s\n",
      "[Parallel(n_jobs=20)]: Done 1000 out of 1000 | elapsed:    0.3s finished\n"
     ]
    },
    {
     "name": "stdout",
     "output_type": "stream",
     "text": [
      "accuracy：0.50800\n",
      "precision_avg: 0.64704\n",
      "recall_avg: 0.50800\n",
      "f1_score_avg: 0.55422\n",
      "n_estimator = 1000\n",
      "max_depth = 10\n",
      "min_samples_split = 10\n",
      "min_samples_leaf = 5\n"
     ]
    },
    {
     "name": "stderr",
     "output_type": "stream",
     "text": [
      "[Parallel(n_jobs=-1)]: Using backend ThreadingBackend with 20 concurrent workers.\n",
      "[Parallel(n_jobs=-1)]: Done  10 tasks      | elapsed:    0.2s\n",
      "[Parallel(n_jobs=-1)]: Done 160 tasks      | elapsed:    1.3s\n",
      "[Parallel(n_jobs=-1)]: Done 410 tasks      | elapsed:    3.1s\n",
      "[Parallel(n_jobs=-1)]: Done 760 tasks      | elapsed:    5.6s\n",
      "[Parallel(n_jobs=-1)]: Done 1000 out of 1000 | elapsed:    7.3s finished\n",
      "[Parallel(n_jobs=20)]: Using backend ThreadingBackend with 20 concurrent workers.\n",
      "[Parallel(n_jobs=20)]: Done  10 tasks      | elapsed:    0.0s\n",
      "[Parallel(n_jobs=20)]: Done 160 tasks      | elapsed:    0.1s\n",
      "[Parallel(n_jobs=20)]: Done 410 tasks      | elapsed:    0.1s\n"
     ]
    },
    {
     "name": "stdout",
     "output_type": "stream",
     "text": [
      "done in 7.744s.\n"
     ]
    },
    {
     "name": "stderr",
     "output_type": "stream",
     "text": [
      "[Parallel(n_jobs=20)]: Done 760 tasks      | elapsed:    0.3s\n",
      "[Parallel(n_jobs=20)]: Done 1000 out of 1000 | elapsed:    0.3s finished\n"
     ]
    },
    {
     "name": "stdout",
     "output_type": "stream",
     "text": [
      "accuracy：0.50693\n",
      "precision_avg: 0.64726\n",
      "recall_avg: 0.50693\n",
      "f1_score_avg: 0.55350\n",
      "n_estimator = 1000\n",
      "max_depth = 10\n",
      "min_samples_split = 50\n",
      "min_samples_leaf = 1\n"
     ]
    },
    {
     "name": "stderr",
     "output_type": "stream",
     "text": [
      "[Parallel(n_jobs=-1)]: Using backend ThreadingBackend with 20 concurrent workers.\n",
      "[Parallel(n_jobs=-1)]: Done  10 tasks      | elapsed:    0.2s\n",
      "[Parallel(n_jobs=-1)]: Done 160 tasks      | elapsed:    1.2s\n",
      "[Parallel(n_jobs=-1)]: Done 410 tasks      | elapsed:    3.0s\n",
      "[Parallel(n_jobs=-1)]: Done 760 tasks      | elapsed:    5.4s\n",
      "[Parallel(n_jobs=-1)]: Done 1000 out of 1000 | elapsed:    7.1s finished\n",
      "[Parallel(n_jobs=20)]: Using backend ThreadingBackend with 20 concurrent workers.\n",
      "[Parallel(n_jobs=20)]: Done  10 tasks      | elapsed:    0.0s\n",
      "[Parallel(n_jobs=20)]: Done 160 tasks      | elapsed:    0.1s\n"
     ]
    },
    {
     "name": "stdout",
     "output_type": "stream",
     "text": [
      "done in 7.545s.\n"
     ]
    },
    {
     "name": "stderr",
     "output_type": "stream",
     "text": [
      "[Parallel(n_jobs=20)]: Done 410 tasks      | elapsed:    0.1s\n",
      "[Parallel(n_jobs=20)]: Done 760 tasks      | elapsed:    0.2s\n",
      "[Parallel(n_jobs=20)]: Done 1000 out of 1000 | elapsed:    0.3s finished\n"
     ]
    },
    {
     "name": "stdout",
     "output_type": "stream",
     "text": [
      "accuracy：0.50673\n",
      "precision_avg: 0.64695\n",
      "recall_avg: 0.50673\n",
      "f1_score_avg: 0.55326\n",
      "n_estimator = 1000\n",
      "max_depth = 10\n",
      "min_samples_split = 50\n",
      "min_samples_leaf = 5\n"
     ]
    },
    {
     "name": "stderr",
     "output_type": "stream",
     "text": [
      "[Parallel(n_jobs=-1)]: Using backend ThreadingBackend with 20 concurrent workers.\n",
      "[Parallel(n_jobs=-1)]: Done  10 tasks      | elapsed:    0.2s\n",
      "[Parallel(n_jobs=-1)]: Done 160 tasks      | elapsed:    1.3s\n",
      "[Parallel(n_jobs=-1)]: Done 410 tasks      | elapsed:    3.0s\n",
      "[Parallel(n_jobs=-1)]: Done 760 tasks      | elapsed:    5.4s\n",
      "[Parallel(n_jobs=-1)]: Done 1000 out of 1000 | elapsed:    7.0s finished\n",
      "[Parallel(n_jobs=20)]: Using backend ThreadingBackend with 20 concurrent workers.\n",
      "[Parallel(n_jobs=20)]: Done  10 tasks      | elapsed:    0.0s\n",
      "[Parallel(n_jobs=20)]: Done 160 tasks      | elapsed:    0.1s\n",
      "[Parallel(n_jobs=20)]: Done 410 tasks      | elapsed:    0.1s\n"
     ]
    },
    {
     "name": "stdout",
     "output_type": "stream",
     "text": [
      "done in 7.432s.\n"
     ]
    },
    {
     "name": "stderr",
     "output_type": "stream",
     "text": [
      "[Parallel(n_jobs=20)]: Done 760 tasks      | elapsed:    0.3s\n",
      "[Parallel(n_jobs=20)]: Done 1000 out of 1000 | elapsed:    0.3s finished\n"
     ]
    },
    {
     "name": "stdout",
     "output_type": "stream",
     "text": [
      "accuracy：0.50647\n",
      "precision_avg: 0.64737\n",
      "recall_avg: 0.50647\n",
      "f1_score_avg: 0.55318\n",
      "n_estimator = 1000\n",
      "max_depth = 10\n",
      "min_samples_split = 50\n",
      "min_samples_leaf = 10\n"
     ]
    },
    {
     "name": "stderr",
     "output_type": "stream",
     "text": [
      "[Parallel(n_jobs=-1)]: Using backend ThreadingBackend with 20 concurrent workers.\n",
      "[Parallel(n_jobs=-1)]: Done  10 tasks      | elapsed:    0.2s\n",
      "[Parallel(n_jobs=-1)]: Done 160 tasks      | elapsed:    1.2s\n",
      "[Parallel(n_jobs=-1)]: Done 410 tasks      | elapsed:    2.9s\n",
      "[Parallel(n_jobs=-1)]: Done 760 tasks      | elapsed:    5.3s\n",
      "[Parallel(n_jobs=-1)]: Done 1000 out of 1000 | elapsed:    6.9s finished\n",
      "[Parallel(n_jobs=20)]: Using backend ThreadingBackend with 20 concurrent workers.\n",
      "[Parallel(n_jobs=20)]: Done  10 tasks      | elapsed:    0.0s\n",
      "[Parallel(n_jobs=20)]: Done 160 tasks      | elapsed:    0.1s\n",
      "[Parallel(n_jobs=20)]: Done 410 tasks      | elapsed:    0.1s\n"
     ]
    },
    {
     "name": "stdout",
     "output_type": "stream",
     "text": [
      "done in 7.353s.\n"
     ]
    },
    {
     "name": "stderr",
     "output_type": "stream",
     "text": [
      "[Parallel(n_jobs=20)]: Done 760 tasks      | elapsed:    0.3s\n",
      "[Parallel(n_jobs=20)]: Done 1000 out of 1000 | elapsed:    0.3s finished\n"
     ]
    },
    {
     "name": "stdout",
     "output_type": "stream",
     "text": [
      "accuracy：0.50493\n",
      "precision_avg: 0.64844\n",
      "recall_avg: 0.50493\n",
      "f1_score_avg: 0.55244\n",
      "n_estimator = 1000\n",
      "max_depth = 10\n",
      "min_samples_split = 50\n",
      "min_samples_leaf = 20\n"
     ]
    },
    {
     "name": "stderr",
     "output_type": "stream",
     "text": [
      "[Parallel(n_jobs=-1)]: Using backend ThreadingBackend with 20 concurrent workers.\n",
      "[Parallel(n_jobs=-1)]: Done  10 tasks      | elapsed:    0.2s\n",
      "[Parallel(n_jobs=-1)]: Done 160 tasks      | elapsed:    1.2s\n",
      "[Parallel(n_jobs=-1)]: Done 410 tasks      | elapsed:    2.8s\n",
      "[Parallel(n_jobs=-1)]: Done 760 tasks      | elapsed:    5.2s\n",
      "[Parallel(n_jobs=-1)]: Done 1000 out of 1000 | elapsed:    6.7s finished\n",
      "[Parallel(n_jobs=20)]: Using backend ThreadingBackend with 20 concurrent workers.\n",
      "[Parallel(n_jobs=20)]: Done  10 tasks      | elapsed:    0.0s\n",
      "[Parallel(n_jobs=20)]: Done 160 tasks      | elapsed:    0.1s\n"
     ]
    },
    {
     "name": "stdout",
     "output_type": "stream",
     "text": [
      "done in 7.225s.\n"
     ]
    },
    {
     "name": "stderr",
     "output_type": "stream",
     "text": [
      "[Parallel(n_jobs=20)]: Done 410 tasks      | elapsed:    0.2s\n",
      "[Parallel(n_jobs=20)]: Done 760 tasks      | elapsed:    0.3s\n",
      "[Parallel(n_jobs=20)]: Done 1000 out of 1000 | elapsed:    0.3s finished\n"
     ]
    },
    {
     "name": "stdout",
     "output_type": "stream",
     "text": [
      "accuracy：0.50127\n",
      "precision_avg: 0.64703\n",
      "recall_avg: 0.50127\n",
      "f1_score_avg: 0.54918\n",
      "n_estimator = 1000\n",
      "max_depth = 20\n",
      "min_samples_split = 2\n",
      "min_samples_leaf = 1\n"
     ]
    },
    {
     "name": "stderr",
     "output_type": "stream",
     "text": [
      "[Parallel(n_jobs=-1)]: Using backend ThreadingBackend with 20 concurrent workers.\n",
      "[Parallel(n_jobs=-1)]: Done  10 tasks      | elapsed:    0.6s\n",
      "[Parallel(n_jobs=-1)]: Done 160 tasks      | elapsed:    4.6s\n",
      "[Parallel(n_jobs=-1)]: Done 410 tasks      | elapsed:   11.4s\n",
      "[Parallel(n_jobs=-1)]: Done 760 tasks      | elapsed:   20.7s\n",
      "[Parallel(n_jobs=-1)]: Done 1000 out of 1000 | elapsed:   27.1s finished\n",
      "[Parallel(n_jobs=20)]: Using backend ThreadingBackend with 20 concurrent workers.\n",
      "[Parallel(n_jobs=20)]: Done  10 tasks      | elapsed:    0.0s\n",
      "[Parallel(n_jobs=20)]: Done 160 tasks      | elapsed:    0.1s\n",
      "[Parallel(n_jobs=20)]: Done 410 tasks      | elapsed:    0.2s\n"
     ]
    },
    {
     "name": "stdout",
     "output_type": "stream",
     "text": [
      "done in 27.486s.\n"
     ]
    },
    {
     "name": "stderr",
     "output_type": "stream",
     "text": [
      "[Parallel(n_jobs=20)]: Done 760 tasks      | elapsed:    0.3s\n",
      "[Parallel(n_jobs=20)]: Done 1000 out of 1000 | elapsed:    0.3s finished\n"
     ]
    },
    {
     "name": "stdout",
     "output_type": "stream",
     "text": [
      "accuracy：0.58187\n",
      "precision_avg: 0.64775\n",
      "recall_avg: 0.58187\n",
      "f1_score_avg: 0.60487\n",
      "n_estimator = 1000\n",
      "max_depth = 20\n",
      "min_samples_split = 10\n",
      "min_samples_leaf = 1\n"
     ]
    },
    {
     "name": "stderr",
     "output_type": "stream",
     "text": [
      "[Parallel(n_jobs=-1)]: Using backend ThreadingBackend with 20 concurrent workers.\n",
      "[Parallel(n_jobs=-1)]: Done  10 tasks      | elapsed:    0.5s\n",
      "[Parallel(n_jobs=-1)]: Done 160 tasks      | elapsed:    4.2s\n",
      "[Parallel(n_jobs=-1)]: Done 410 tasks      | elapsed:   10.2s\n",
      "[Parallel(n_jobs=-1)]: Done 760 tasks      | elapsed:   18.6s\n",
      "[Parallel(n_jobs=-1)]: Done 1000 out of 1000 | elapsed:   24.3s finished\n",
      "[Parallel(n_jobs=20)]: Using backend ThreadingBackend with 20 concurrent workers.\n",
      "[Parallel(n_jobs=20)]: Done  10 tasks      | elapsed:    0.0s\n",
      "[Parallel(n_jobs=20)]: Done 160 tasks      | elapsed:    0.1s\n",
      "[Parallel(n_jobs=20)]: Done 410 tasks      | elapsed:    0.2s\n"
     ]
    },
    {
     "name": "stdout",
     "output_type": "stream",
     "text": [
      "done in 24.788s.\n"
     ]
    },
    {
     "name": "stderr",
     "output_type": "stream",
     "text": [
      "[Parallel(n_jobs=20)]: Done 760 tasks      | elapsed:    0.3s\n",
      "[Parallel(n_jobs=20)]: Done 1000 out of 1000 | elapsed:    0.3s finished\n"
     ]
    },
    {
     "name": "stdout",
     "output_type": "stream",
     "text": [
      "accuracy：0.57153\n",
      "precision_avg: 0.64891\n",
      "recall_avg: 0.57153\n",
      "f1_score_avg: 0.59891\n",
      "n_estimator = 1000\n",
      "max_depth = 20\n",
      "min_samples_split = 10\n",
      "min_samples_leaf = 5\n"
     ]
    },
    {
     "name": "stderr",
     "output_type": "stream",
     "text": [
      "[Parallel(n_jobs=-1)]: Using backend ThreadingBackend with 20 concurrent workers.\n",
      "[Parallel(n_jobs=-1)]: Done  10 tasks      | elapsed:    0.5s\n",
      "[Parallel(n_jobs=-1)]: Done 160 tasks      | elapsed:    3.9s\n",
      "[Parallel(n_jobs=-1)]: Done 410 tasks      | elapsed:    9.4s\n",
      "[Parallel(n_jobs=-1)]: Done 760 tasks      | elapsed:   17.0s\n",
      "[Parallel(n_jobs=-1)]: Done 1000 out of 1000 | elapsed:   22.2s finished\n",
      "[Parallel(n_jobs=20)]: Using backend ThreadingBackend with 20 concurrent workers.\n",
      "[Parallel(n_jobs=20)]: Done  10 tasks      | elapsed:    0.0s\n",
      "[Parallel(n_jobs=20)]: Done 160 tasks      | elapsed:    0.1s\n"
     ]
    },
    {
     "name": "stdout",
     "output_type": "stream",
     "text": [
      "done in 22.676s.\n"
     ]
    },
    {
     "name": "stderr",
     "output_type": "stream",
     "text": [
      "[Parallel(n_jobs=20)]: Done 410 tasks      | elapsed:    0.2s\n",
      "[Parallel(n_jobs=20)]: Done 760 tasks      | elapsed:    0.3s\n",
      "[Parallel(n_jobs=20)]: Done 1000 out of 1000 | elapsed:    0.3s finished\n"
     ]
    },
    {
     "name": "stdout",
     "output_type": "stream",
     "text": [
      "accuracy：0.55500\n",
      "precision_avg: 0.64962\n",
      "recall_avg: 0.55500\n",
      "f1_score_avg: 0.58801\n",
      "n_estimator = 1000\n",
      "max_depth = 20\n",
      "min_samples_split = 50\n",
      "min_samples_leaf = 1\n"
     ]
    },
    {
     "name": "stderr",
     "output_type": "stream",
     "text": [
      "[Parallel(n_jobs=-1)]: Using backend ThreadingBackend with 20 concurrent workers.\n",
      "[Parallel(n_jobs=-1)]: Done  10 tasks      | elapsed:    0.4s\n",
      "[Parallel(n_jobs=-1)]: Done 160 tasks      | elapsed:    3.5s\n",
      "[Parallel(n_jobs=-1)]: Done 410 tasks      | elapsed:    8.7s\n",
      "[Parallel(n_jobs=-1)]: Done 760 tasks      | elapsed:   15.8s\n",
      "[Parallel(n_jobs=-1)]: Done 1000 out of 1000 | elapsed:   20.7s finished\n",
      "[Parallel(n_jobs=20)]: Using backend ThreadingBackend with 20 concurrent workers.\n",
      "[Parallel(n_jobs=20)]: Done  10 tasks      | elapsed:    0.0s\n",
      "[Parallel(n_jobs=20)]: Done 160 tasks      | elapsed:    0.1s\n"
     ]
    },
    {
     "name": "stdout",
     "output_type": "stream",
     "text": [
      "done in 21.147s.\n"
     ]
    },
    {
     "name": "stderr",
     "output_type": "stream",
     "text": [
      "[Parallel(n_jobs=20)]: Done 410 tasks      | elapsed:    0.1s\n",
      "[Parallel(n_jobs=20)]: Done 760 tasks      | elapsed:    0.3s\n",
      "[Parallel(n_jobs=20)]: Done 1000 out of 1000 | elapsed:    0.3s finished\n"
     ]
    },
    {
     "name": "stdout",
     "output_type": "stream",
     "text": [
      "accuracy：0.55607\n",
      "precision_avg: 0.64967\n",
      "recall_avg: 0.55607\n",
      "f1_score_avg: 0.58872\n",
      "n_estimator = 1000\n",
      "max_depth = 20\n",
      "min_samples_split = 50\n",
      "min_samples_leaf = 5\n"
     ]
    },
    {
     "name": "stderr",
     "output_type": "stream",
     "text": [
      "[Parallel(n_jobs=-1)]: Using backend ThreadingBackend with 20 concurrent workers.\n",
      "[Parallel(n_jobs=-1)]: Done  10 tasks      | elapsed:    0.5s\n",
      "[Parallel(n_jobs=-1)]: Done 160 tasks      | elapsed:    3.6s\n",
      "[Parallel(n_jobs=-1)]: Done 410 tasks      | elapsed:    8.5s\n",
      "[Parallel(n_jobs=-1)]: Done 760 tasks      | elapsed:   15.4s\n",
      "[Parallel(n_jobs=-1)]: Done 1000 out of 1000 | elapsed:   20.1s finished\n",
      "[Parallel(n_jobs=20)]: Using backend ThreadingBackend with 20 concurrent workers.\n",
      "[Parallel(n_jobs=20)]: Done  10 tasks      | elapsed:    0.0s\n",
      "[Parallel(n_jobs=20)]: Done 160 tasks      | elapsed:    0.1s\n"
     ]
    },
    {
     "name": "stdout",
     "output_type": "stream",
     "text": [
      "done in 20.557s.\n"
     ]
    },
    {
     "name": "stderr",
     "output_type": "stream",
     "text": [
      "[Parallel(n_jobs=20)]: Done 410 tasks      | elapsed:    0.2s\n",
      "[Parallel(n_jobs=20)]: Done 760 tasks      | elapsed:    0.3s\n",
      "[Parallel(n_jobs=20)]: Done 1000 out of 1000 | elapsed:    0.4s finished\n"
     ]
    },
    {
     "name": "stdout",
     "output_type": "stream",
     "text": [
      "accuracy：0.55273\n",
      "precision_avg: 0.65046\n",
      "recall_avg: 0.55273\n",
      "f1_score_avg: 0.58670\n",
      "n_estimator = 1000\n",
      "max_depth = 20\n",
      "min_samples_split = 50\n",
      "min_samples_leaf = 10\n"
     ]
    },
    {
     "name": "stderr",
     "output_type": "stream",
     "text": [
      "[Parallel(n_jobs=-1)]: Using backend ThreadingBackend with 20 concurrent workers.\n",
      "[Parallel(n_jobs=-1)]: Done  10 tasks      | elapsed:    0.4s\n",
      "[Parallel(n_jobs=-1)]: Done 160 tasks      | elapsed:    3.2s\n",
      "[Parallel(n_jobs=-1)]: Done 410 tasks      | elapsed:    7.9s\n",
      "[Parallel(n_jobs=-1)]: Done 760 tasks      | elapsed:   14.3s\n",
      "[Parallel(n_jobs=-1)]: Done 1000 out of 1000 | elapsed:   18.8s finished\n",
      "[Parallel(n_jobs=20)]: Using backend ThreadingBackend with 20 concurrent workers.\n",
      "[Parallel(n_jobs=20)]: Done  10 tasks      | elapsed:    0.0s\n",
      "[Parallel(n_jobs=20)]: Done 160 tasks      | elapsed:    0.1s\n"
     ]
    },
    {
     "name": "stdout",
     "output_type": "stream",
     "text": [
      "done in 19.252s.\n"
     ]
    },
    {
     "name": "stderr",
     "output_type": "stream",
     "text": [
      "[Parallel(n_jobs=20)]: Done 410 tasks      | elapsed:    0.2s\n",
      "[Parallel(n_jobs=20)]: Done 760 tasks      | elapsed:    0.3s\n",
      "[Parallel(n_jobs=20)]: Done 1000 out of 1000 | elapsed:    0.4s finished\n"
     ]
    },
    {
     "name": "stdout",
     "output_type": "stream",
     "text": [
      "accuracy：0.54760\n",
      "precision_avg: 0.65069\n",
      "recall_avg: 0.54760\n",
      "f1_score_avg: 0.58303\n",
      "n_estimator = 1000\n",
      "max_depth = 20\n",
      "min_samples_split = 50\n",
      "min_samples_leaf = 20\n"
     ]
    },
    {
     "name": "stderr",
     "output_type": "stream",
     "text": [
      "[Parallel(n_jobs=-1)]: Using backend ThreadingBackend with 20 concurrent workers.\n",
      "[Parallel(n_jobs=-1)]: Done  10 tasks      | elapsed:    0.4s\n",
      "[Parallel(n_jobs=-1)]: Done 160 tasks      | elapsed:    3.1s\n",
      "[Parallel(n_jobs=-1)]: Done 410 tasks      | elapsed:    7.4s\n",
      "[Parallel(n_jobs=-1)]: Done 760 tasks      | elapsed:   13.4s\n",
      "[Parallel(n_jobs=-1)]: Done 1000 out of 1000 | elapsed:   17.5s finished\n",
      "[Parallel(n_jobs=20)]: Using backend ThreadingBackend with 20 concurrent workers.\n",
      "[Parallel(n_jobs=20)]: Done  10 tasks      | elapsed:    0.0s\n",
      "[Parallel(n_jobs=20)]: Done 160 tasks      | elapsed:    0.1s\n"
     ]
    },
    {
     "name": "stdout",
     "output_type": "stream",
     "text": [
      "done in 17.953s.\n"
     ]
    },
    {
     "name": "stderr",
     "output_type": "stream",
     "text": [
      "[Parallel(n_jobs=20)]: Done 410 tasks      | elapsed:    0.2s\n",
      "[Parallel(n_jobs=20)]: Done 760 tasks      | elapsed:    0.3s\n",
      "[Parallel(n_jobs=20)]: Done 1000 out of 1000 | elapsed:    0.3s finished\n"
     ]
    },
    {
     "name": "stdout",
     "output_type": "stream",
     "text": [
      "accuracy：0.54080\n",
      "precision_avg: 0.65068\n",
      "recall_avg: 0.54080\n",
      "f1_score_avg: 0.57807\n",
      "n_estimator = 1000\n",
      "max_depth = 50\n",
      "min_samples_split = 2\n",
      "min_samples_leaf = 1\n"
     ]
    },
    {
     "name": "stderr",
     "output_type": "stream",
     "text": [
      "[Parallel(n_jobs=-1)]: Using backend ThreadingBackend with 20 concurrent workers.\n",
      "[Parallel(n_jobs=-1)]: Done  10 tasks      | elapsed:    3.0s\n",
      "[Parallel(n_jobs=-1)]: Done 160 tasks      | elapsed:   24.4s\n",
      "[Parallel(n_jobs=-1)]: Done 410 tasks      | elapsed:  1.0min\n",
      "[Parallel(n_jobs=-1)]: Done 760 tasks      | elapsed:  1.9min\n",
      "[Parallel(n_jobs=-1)]: Done 1000 out of 1000 | elapsed:  2.4min finished\n",
      "[Parallel(n_jobs=20)]: Using backend ThreadingBackend with 20 concurrent workers.\n",
      "[Parallel(n_jobs=20)]: Done  10 tasks      | elapsed:    0.0s\n",
      "[Parallel(n_jobs=20)]: Done 160 tasks      | elapsed:    0.1s\n"
     ]
    },
    {
     "name": "stdout",
     "output_type": "stream",
     "text": [
      "done in 146.295s.\n"
     ]
    },
    {
     "name": "stderr",
     "output_type": "stream",
     "text": [
      "[Parallel(n_jobs=20)]: Done 410 tasks      | elapsed:    0.3s\n",
      "[Parallel(n_jobs=20)]: Done 760 tasks      | elapsed:    0.5s\n",
      "[Parallel(n_jobs=20)]: Done 1000 out of 1000 | elapsed:    0.6s finished\n"
     ]
    },
    {
     "name": "stdout",
     "output_type": "stream",
     "text": [
      "accuracy：0.67167\n",
      "precision_avg: 0.63163\n",
      "recall_avg: 0.67167\n",
      "f1_score_avg: 0.61357\n",
      "n_estimator = 1000\n",
      "max_depth = 50\n",
      "min_samples_split = 10\n",
      "min_samples_leaf = 1\n"
     ]
    },
    {
     "name": "stderr",
     "output_type": "stream",
     "text": [
      "[Parallel(n_jobs=-1)]: Using backend ThreadingBackend with 20 concurrent workers.\n",
      "[Parallel(n_jobs=-1)]: Done  10 tasks      | elapsed:    2.7s\n",
      "[Parallel(n_jobs=-1)]: Done 160 tasks      | elapsed:   21.8s\n",
      "[Parallel(n_jobs=-1)]: Done 410 tasks      | elapsed:   54.2s\n",
      "[Parallel(n_jobs=-1)]: Done 760 tasks      | elapsed:  1.7min\n",
      "[Parallel(n_jobs=-1)]: Done 1000 out of 1000 | elapsed:  2.2min finished\n",
      "[Parallel(n_jobs=20)]: Using backend ThreadingBackend with 20 concurrent workers.\n",
      "[Parallel(n_jobs=20)]: Done  10 tasks      | elapsed:    0.0s\n",
      "[Parallel(n_jobs=20)]: Done 160 tasks      | elapsed:    0.1s\n"
     ]
    },
    {
     "name": "stdout",
     "output_type": "stream",
     "text": [
      "done in 130.310s.\n"
     ]
    },
    {
     "name": "stderr",
     "output_type": "stream",
     "text": [
      "[Parallel(n_jobs=20)]: Done 410 tasks      | elapsed:    0.2s\n",
      "[Parallel(n_jobs=20)]: Done 760 tasks      | elapsed:    0.3s\n",
      "[Parallel(n_jobs=20)]: Done 1000 out of 1000 | elapsed:    0.5s finished\n"
     ]
    },
    {
     "name": "stdout",
     "output_type": "stream",
     "text": [
      "accuracy：0.67120\n",
      "precision_avg: 0.64299\n",
      "recall_avg: 0.67120\n",
      "f1_score_avg: 0.63944\n",
      "n_estimator = 1000\n",
      "max_depth = 50\n",
      "min_samples_split = 10\n",
      "min_samples_leaf = 5\n"
     ]
    },
    {
     "name": "stderr",
     "output_type": "stream",
     "text": [
      "[Parallel(n_jobs=-1)]: Using backend ThreadingBackend with 20 concurrent workers.\n",
      "[Parallel(n_jobs=-1)]: Done  10 tasks      | elapsed:    2.0s\n",
      "[Parallel(n_jobs=-1)]: Done 160 tasks      | elapsed:   15.9s\n",
      "[Parallel(n_jobs=-1)]: Done 410 tasks      | elapsed:   39.7s\n",
      "[Parallel(n_jobs=-1)]: Done 760 tasks      | elapsed:  1.2min\n",
      "[Parallel(n_jobs=-1)]: Done 1000 out of 1000 | elapsed:  1.6min finished\n",
      "[Parallel(n_jobs=20)]: Using backend ThreadingBackend with 20 concurrent workers.\n",
      "[Parallel(n_jobs=20)]: Done  10 tasks      | elapsed:    0.0s\n",
      "[Parallel(n_jobs=20)]: Done 160 tasks      | elapsed:    0.1s\n",
      "[Parallel(n_jobs=20)]: Done 410 tasks      | elapsed:    0.2s\n"
     ]
    },
    {
     "name": "stdout",
     "output_type": "stream",
     "text": [
      "done in 95.349s.\n"
     ]
    },
    {
     "name": "stderr",
     "output_type": "stream",
     "text": [
      "[Parallel(n_jobs=20)]: Done 760 tasks      | elapsed:    0.3s\n",
      "[Parallel(n_jobs=20)]: Done 1000 out of 1000 | elapsed:    0.4s finished\n"
     ]
    },
    {
     "name": "stdout",
     "output_type": "stream",
     "text": [
      "accuracy：0.64080\n",
      "precision_avg: 0.65157\n",
      "recall_avg: 0.64080\n",
      "f1_score_avg: 0.64210\n",
      "n_estimator = 1000\n",
      "max_depth = 50\n",
      "min_samples_split = 50\n",
      "min_samples_leaf = 1\n"
     ]
    },
    {
     "name": "stderr",
     "output_type": "stream",
     "text": [
      "[Parallel(n_jobs=-1)]: Using backend ThreadingBackend with 20 concurrent workers.\n",
      "[Parallel(n_jobs=-1)]: Done  10 tasks      | elapsed:    2.0s\n",
      "[Parallel(n_jobs=-1)]: Done 160 tasks      | elapsed:   16.0s\n",
      "[Parallel(n_jobs=-1)]: Done 410 tasks      | elapsed:   40.2s\n",
      "[Parallel(n_jobs=-1)]: Done 760 tasks      | elapsed:  1.2min\n",
      "[Parallel(n_jobs=-1)]: Done 1000 out of 1000 | elapsed:  1.6min finished\n",
      "[Parallel(n_jobs=20)]: Using backend ThreadingBackend with 20 concurrent workers.\n",
      "[Parallel(n_jobs=20)]: Done  10 tasks      | elapsed:    0.0s\n",
      "[Parallel(n_jobs=20)]: Done 160 tasks      | elapsed:    0.1s\n",
      "[Parallel(n_jobs=20)]: Done 410 tasks      | elapsed:    0.1s\n"
     ]
    },
    {
     "name": "stdout",
     "output_type": "stream",
     "text": [
      "done in 97.154s.\n"
     ]
    },
    {
     "name": "stderr",
     "output_type": "stream",
     "text": [
      "[Parallel(n_jobs=20)]: Done 760 tasks      | elapsed:    0.3s\n",
      "[Parallel(n_jobs=20)]: Done 1000 out of 1000 | elapsed:    0.3s finished\n"
     ]
    },
    {
     "name": "stdout",
     "output_type": "stream",
     "text": [
      "accuracy：0.65193\n",
      "precision_avg: 0.65126\n",
      "recall_avg: 0.65193\n",
      "f1_score_avg: 0.64701\n",
      "n_estimator = 1000\n",
      "max_depth = 50\n",
      "min_samples_split = 50\n",
      "min_samples_leaf = 5\n"
     ]
    },
    {
     "name": "stderr",
     "output_type": "stream",
     "text": [
      "[Parallel(n_jobs=-1)]: Using backend ThreadingBackend with 20 concurrent workers.\n",
      "[Parallel(n_jobs=-1)]: Done  10 tasks      | elapsed:    1.7s\n",
      "[Parallel(n_jobs=-1)]: Done 160 tasks      | elapsed:   13.4s\n",
      "[Parallel(n_jobs=-1)]: Done 410 tasks      | elapsed:   33.8s\n",
      "[Parallel(n_jobs=-1)]: Done 760 tasks      | elapsed:  1.0min\n",
      "[Parallel(n_jobs=-1)]: Done 1000 out of 1000 | elapsed:  1.3min finished\n",
      "[Parallel(n_jobs=20)]: Using backend ThreadingBackend with 20 concurrent workers.\n",
      "[Parallel(n_jobs=20)]: Done  10 tasks      | elapsed:    0.0s\n",
      "[Parallel(n_jobs=20)]: Done 160 tasks      | elapsed:    0.1s\n"
     ]
    },
    {
     "name": "stdout",
     "output_type": "stream",
     "text": [
      "done in 81.398s.\n"
     ]
    },
    {
     "name": "stderr",
     "output_type": "stream",
     "text": [
      "[Parallel(n_jobs=20)]: Done 410 tasks      | elapsed:    0.2s\n",
      "[Parallel(n_jobs=20)]: Done 760 tasks      | elapsed:    0.3s\n",
      "[Parallel(n_jobs=20)]: Done 1000 out of 1000 | elapsed:    0.4s finished\n"
     ]
    },
    {
     "name": "stdout",
     "output_type": "stream",
     "text": [
      "accuracy：0.63473\n",
      "precision_avg: 0.65203\n",
      "recall_avg: 0.63473\n",
      "f1_score_avg: 0.63943\n",
      "n_estimator = 1000\n",
      "max_depth = 50\n",
      "min_samples_split = 50\n",
      "min_samples_leaf = 10\n"
     ]
    },
    {
     "name": "stderr",
     "output_type": "stream",
     "text": [
      "[Parallel(n_jobs=-1)]: Using backend ThreadingBackend with 20 concurrent workers.\n",
      "[Parallel(n_jobs=-1)]: Done  10 tasks      | elapsed:    1.3s\n",
      "[Parallel(n_jobs=-1)]: Done 160 tasks      | elapsed:   10.4s\n",
      "[Parallel(n_jobs=-1)]: Done 410 tasks      | elapsed:   26.5s\n",
      "[Parallel(n_jobs=-1)]: Done 760 tasks      | elapsed:   48.2s\n",
      "[Parallel(n_jobs=-1)]: Done 1000 out of 1000 | elapsed:  1.1min finished\n",
      "[Parallel(n_jobs=20)]: Using backend ThreadingBackend with 20 concurrent workers.\n",
      "[Parallel(n_jobs=20)]: Done  10 tasks      | elapsed:    0.0s\n",
      "[Parallel(n_jobs=20)]: Done 160 tasks      | elapsed:    0.1s\n"
     ]
    },
    {
     "name": "stdout",
     "output_type": "stream",
     "text": [
      "done in 63.676s.\n"
     ]
    },
    {
     "name": "stderr",
     "output_type": "stream",
     "text": [
      "[Parallel(n_jobs=20)]: Done 410 tasks      | elapsed:    0.2s\n",
      "[Parallel(n_jobs=20)]: Done 760 tasks      | elapsed:    0.3s\n",
      "[Parallel(n_jobs=20)]: Done 1000 out of 1000 | elapsed:    0.4s finished\n"
     ]
    },
    {
     "name": "stdout",
     "output_type": "stream",
     "text": [
      "accuracy：0.61500\n",
      "precision_avg: 0.65245\n",
      "recall_avg: 0.61500\n",
      "f1_score_avg: 0.62821\n",
      "n_estimator = 1000\n",
      "max_depth = 50\n",
      "min_samples_split = 50\n",
      "min_samples_leaf = 20\n"
     ]
    },
    {
     "name": "stderr",
     "output_type": "stream",
     "text": [
      "[Parallel(n_jobs=-1)]: Using backend ThreadingBackend with 20 concurrent workers.\n",
      "[Parallel(n_jobs=-1)]: Done  10 tasks      | elapsed:    1.0s\n",
      "[Parallel(n_jobs=-1)]: Done 160 tasks      | elapsed:    7.5s\n",
      "[Parallel(n_jobs=-1)]: Done 410 tasks      | elapsed:   19.0s\n",
      "[Parallel(n_jobs=-1)]: Done 760 tasks      | elapsed:   34.4s\n",
      "[Parallel(n_jobs=-1)]: Done 1000 out of 1000 | elapsed:   45.1s finished\n",
      "[Parallel(n_jobs=20)]: Using backend ThreadingBackend with 20 concurrent workers.\n",
      "[Parallel(n_jobs=20)]: Done  10 tasks      | elapsed:    0.0s\n",
      "[Parallel(n_jobs=20)]: Done 160 tasks      | elapsed:    0.1s\n"
     ]
    },
    {
     "name": "stdout",
     "output_type": "stream",
     "text": [
      "done in 45.522s.\n"
     ]
    },
    {
     "name": "stderr",
     "output_type": "stream",
     "text": [
      "[Parallel(n_jobs=20)]: Done 410 tasks      | elapsed:    0.1s\n",
      "[Parallel(n_jobs=20)]: Done 760 tasks      | elapsed:    0.3s\n",
      "[Parallel(n_jobs=20)]: Done 1000 out of 1000 | elapsed:    0.3s finished\n"
     ]
    },
    {
     "name": "stdout",
     "output_type": "stream",
     "text": [
      "accuracy：0.59633\n",
      "precision_avg: 0.65461\n",
      "recall_avg: 0.59633\n",
      "f1_score_avg: 0.61668\n",
      "n_estimator = 5000\n",
      "max_depth = 10\n",
      "min_samples_split = 2\n",
      "min_samples_leaf = 1\n"
     ]
    },
    {
     "name": "stderr",
     "output_type": "stream",
     "text": [
      "[Parallel(n_jobs=-1)]: Using backend ThreadingBackend with 20 concurrent workers.\n",
      "[Parallel(n_jobs=-1)]: Done  10 tasks      | elapsed:    0.2s\n",
      "[Parallel(n_jobs=-1)]: Done 160 tasks      | elapsed:    1.4s\n",
      "[Parallel(n_jobs=-1)]: Done 410 tasks      | elapsed:    3.3s\n",
      "[Parallel(n_jobs=-1)]: Done 760 tasks      | elapsed:    6.0s\n",
      "[Parallel(n_jobs=-1)]: Done 1210 tasks      | elapsed:    9.5s\n",
      "[Parallel(n_jobs=-1)]: Done 1760 tasks      | elapsed:   13.6s\n",
      "[Parallel(n_jobs=-1)]: Done 2410 tasks      | elapsed:   18.5s\n",
      "[Parallel(n_jobs=-1)]: Done 3160 tasks      | elapsed:   24.2s\n",
      "[Parallel(n_jobs=-1)]: Done 4010 tasks      | elapsed:   30.6s\n",
      "[Parallel(n_jobs=-1)]: Done 4960 tasks      | elapsed:   37.8s\n",
      "[Parallel(n_jobs=-1)]: Done 5000 out of 5000 | elapsed:   38.1s finished\n",
      "[Parallel(n_jobs=20)]: Using backend ThreadingBackend with 20 concurrent workers.\n",
      "[Parallel(n_jobs=20)]: Done  10 tasks      | elapsed:    0.0s\n",
      "[Parallel(n_jobs=20)]: Done 160 tasks      | elapsed:    0.1s\n",
      "[Parallel(n_jobs=20)]: Done 410 tasks      | elapsed:    0.2s\n"
     ]
    },
    {
     "name": "stdout",
     "output_type": "stream",
     "text": [
      "done in 39.808s.\n"
     ]
    },
    {
     "name": "stderr",
     "output_type": "stream",
     "text": [
      "[Parallel(n_jobs=20)]: Done 760 tasks      | elapsed:    0.3s\n",
      "[Parallel(n_jobs=20)]: Done 1210 tasks      | elapsed:    0.4s\n",
      "[Parallel(n_jobs=20)]: Done 1760 tasks      | elapsed:    0.6s\n",
      "[Parallel(n_jobs=20)]: Done 2410 tasks      | elapsed:    0.8s\n",
      "[Parallel(n_jobs=20)]: Done 3160 tasks      | elapsed:    1.1s\n",
      "[Parallel(n_jobs=20)]: Done 4010 tasks      | elapsed:    1.4s\n",
      "[Parallel(n_jobs=20)]: Done 4960 tasks      | elapsed:    1.7s\n",
      "[Parallel(n_jobs=20)]: Done 5000 out of 5000 | elapsed:    1.7s finished\n"
     ]
    },
    {
     "name": "stdout",
     "output_type": "stream",
     "text": [
      "accuracy：0.51207\n",
      "precision_avg: 0.64561\n",
      "recall_avg: 0.51207\n",
      "f1_score_avg: 0.55687\n",
      "n_estimator = 5000\n",
      "max_depth = 10\n",
      "min_samples_split = 10\n",
      "min_samples_leaf = 1\n"
     ]
    },
    {
     "name": "stderr",
     "output_type": "stream",
     "text": [
      "[Parallel(n_jobs=-1)]: Using backend ThreadingBackend with 20 concurrent workers.\n",
      "[Parallel(n_jobs=-1)]: Done  10 tasks      | elapsed:    0.2s\n",
      "[Parallel(n_jobs=-1)]: Done 160 tasks      | elapsed:    1.4s\n",
      "[Parallel(n_jobs=-1)]: Done 410 tasks      | elapsed:    3.2s\n",
      "[Parallel(n_jobs=-1)]: Done 760 tasks      | elapsed:    5.8s\n",
      "[Parallel(n_jobs=-1)]: Done 1210 tasks      | elapsed:    9.1s\n",
      "[Parallel(n_jobs=-1)]: Done 1760 tasks      | elapsed:   13.1s\n",
      "[Parallel(n_jobs=-1)]: Done 2410 tasks      | elapsed:   17.8s\n",
      "[Parallel(n_jobs=-1)]: Done 3160 tasks      | elapsed:   23.3s\n",
      "[Parallel(n_jobs=-1)]: Done 4010 tasks      | elapsed:   29.4s\n",
      "[Parallel(n_jobs=-1)]: Done 4960 tasks      | elapsed:   36.3s\n",
      "[Parallel(n_jobs=-1)]: Done 5000 out of 5000 | elapsed:   36.6s finished\n",
      "[Parallel(n_jobs=20)]: Using backend ThreadingBackend with 20 concurrent workers.\n",
      "[Parallel(n_jobs=20)]: Done  10 tasks      | elapsed:    0.0s\n",
      "[Parallel(n_jobs=20)]: Done 160 tasks      | elapsed:    0.1s\n",
      "[Parallel(n_jobs=20)]: Done 410 tasks      | elapsed:    0.1s\n"
     ]
    },
    {
     "name": "stdout",
     "output_type": "stream",
     "text": [
      "done in 38.270s.\n"
     ]
    },
    {
     "name": "stderr",
     "output_type": "stream",
     "text": [
      "[Parallel(n_jobs=20)]: Done 760 tasks      | elapsed:    0.3s\n",
      "[Parallel(n_jobs=20)]: Done 1210 tasks      | elapsed:    0.4s\n",
      "[Parallel(n_jobs=20)]: Done 1760 tasks      | elapsed:    0.6s\n",
      "[Parallel(n_jobs=20)]: Done 2410 tasks      | elapsed:    0.8s\n",
      "[Parallel(n_jobs=20)]: Done 3160 tasks      | elapsed:    1.1s\n",
      "[Parallel(n_jobs=20)]: Done 4010 tasks      | elapsed:    1.4s\n",
      "[Parallel(n_jobs=20)]: Done 4960 tasks      | elapsed:    1.7s\n",
      "[Parallel(n_jobs=20)]: Done 5000 out of 5000 | elapsed:    1.7s finished\n"
     ]
    },
    {
     "name": "stdout",
     "output_type": "stream",
     "text": [
      "accuracy：0.51093\n",
      "precision_avg: 0.64677\n",
      "recall_avg: 0.51093\n",
      "f1_score_avg: 0.55627\n",
      "n_estimator = 5000\n",
      "max_depth = 10\n",
      "min_samples_split = 10\n",
      "min_samples_leaf = 5\n"
     ]
    },
    {
     "name": "stderr",
     "output_type": "stream",
     "text": [
      "[Parallel(n_jobs=-1)]: Using backend ThreadingBackend with 20 concurrent workers.\n",
      "[Parallel(n_jobs=-1)]: Done  10 tasks      | elapsed:    0.2s\n",
      "[Parallel(n_jobs=-1)]: Done 160 tasks      | elapsed:    1.4s\n",
      "[Parallel(n_jobs=-1)]: Done 410 tasks      | elapsed:    3.2s\n",
      "[Parallel(n_jobs=-1)]: Done 760 tasks      | elapsed:    5.6s\n",
      "[Parallel(n_jobs=-1)]: Done 1210 tasks      | elapsed:    8.8s\n",
      "[Parallel(n_jobs=-1)]: Done 1760 tasks      | elapsed:   12.8s\n",
      "[Parallel(n_jobs=-1)]: Done 2410 tasks      | elapsed:   17.3s\n",
      "[Parallel(n_jobs=-1)]: Done 3160 tasks      | elapsed:   22.6s\n",
      "[Parallel(n_jobs=-1)]: Done 4010 tasks      | elapsed:   28.7s\n",
      "[Parallel(n_jobs=-1)]: Done 4960 tasks      | elapsed:   35.4s\n",
      "[Parallel(n_jobs=-1)]: Done 5000 out of 5000 | elapsed:   35.7s finished\n",
      "[Parallel(n_jobs=20)]: Using backend ThreadingBackend with 20 concurrent workers.\n",
      "[Parallel(n_jobs=20)]: Done  10 tasks      | elapsed:    0.0s\n",
      "[Parallel(n_jobs=20)]: Done 160 tasks      | elapsed:    0.1s\n",
      "[Parallel(n_jobs=20)]: Done 410 tasks      | elapsed:    0.1s\n"
     ]
    },
    {
     "name": "stdout",
     "output_type": "stream",
     "text": [
      "done in 37.348s.\n"
     ]
    },
    {
     "name": "stderr",
     "output_type": "stream",
     "text": [
      "[Parallel(n_jobs=20)]: Done 760 tasks      | elapsed:    0.3s\n",
      "[Parallel(n_jobs=20)]: Done 1210 tasks      | elapsed:    0.4s\n",
      "[Parallel(n_jobs=20)]: Done 1760 tasks      | elapsed:    0.6s\n",
      "[Parallel(n_jobs=20)]: Done 2410 tasks      | elapsed:    0.8s\n",
      "[Parallel(n_jobs=20)]: Done 3160 tasks      | elapsed:    1.1s\n",
      "[Parallel(n_jobs=20)]: Done 4010 tasks      | elapsed:    1.3s\n",
      "[Parallel(n_jobs=20)]: Done 4960 tasks      | elapsed:    1.7s\n",
      "[Parallel(n_jobs=20)]: Done 5000 out of 5000 | elapsed:    1.7s finished\n"
     ]
    },
    {
     "name": "stdout",
     "output_type": "stream",
     "text": [
      "accuracy：0.50773\n",
      "precision_avg: 0.64671\n",
      "recall_avg: 0.50773\n",
      "f1_score_avg: 0.55385\n",
      "n_estimator = 5000\n",
      "max_depth = 10\n",
      "min_samples_split = 50\n",
      "min_samples_leaf = 1\n"
     ]
    },
    {
     "name": "stderr",
     "output_type": "stream",
     "text": [
      "[Parallel(n_jobs=-1)]: Using backend ThreadingBackend with 20 concurrent workers.\n",
      "[Parallel(n_jobs=-1)]: Done  10 tasks      | elapsed:    0.2s\n",
      "[Parallel(n_jobs=-1)]: Done 160 tasks      | elapsed:    1.4s\n",
      "[Parallel(n_jobs=-1)]: Done 410 tasks      | elapsed:    3.1s\n",
      "[Parallel(n_jobs=-1)]: Done 760 tasks      | elapsed:    5.6s\n",
      "[Parallel(n_jobs=-1)]: Done 1210 tasks      | elapsed:    8.7s\n",
      "[Parallel(n_jobs=-1)]: Done 1760 tasks      | elapsed:   12.5s\n",
      "[Parallel(n_jobs=-1)]: Done 2410 tasks      | elapsed:   17.0s\n",
      "[Parallel(n_jobs=-1)]: Done 3160 tasks      | elapsed:   22.1s\n",
      "[Parallel(n_jobs=-1)]: Done 4010 tasks      | elapsed:   28.0s\n",
      "[Parallel(n_jobs=-1)]: Done 4960 tasks      | elapsed:   34.5s\n",
      "[Parallel(n_jobs=-1)]: Done 5000 out of 5000 | elapsed:   34.8s finished\n",
      "[Parallel(n_jobs=20)]: Using backend ThreadingBackend with 20 concurrent workers.\n",
      "[Parallel(n_jobs=20)]: Done  10 tasks      | elapsed:    0.0s\n",
      "[Parallel(n_jobs=20)]: Done 160 tasks      | elapsed:    0.1s\n",
      "[Parallel(n_jobs=20)]: Done 410 tasks      | elapsed:    0.1s\n"
     ]
    },
    {
     "name": "stdout",
     "output_type": "stream",
     "text": [
      "done in 36.416s.\n"
     ]
    },
    {
     "name": "stderr",
     "output_type": "stream",
     "text": [
      "[Parallel(n_jobs=20)]: Done 760 tasks      | elapsed:    0.2s\n",
      "[Parallel(n_jobs=20)]: Done 1210 tasks      | elapsed:    0.4s\n",
      "[Parallel(n_jobs=20)]: Done 1760 tasks      | elapsed:    0.6s\n",
      "[Parallel(n_jobs=20)]: Done 2410 tasks      | elapsed:    0.8s\n",
      "[Parallel(n_jobs=20)]: Done 3160 tasks      | elapsed:    1.0s\n",
      "[Parallel(n_jobs=20)]: Done 4010 tasks      | elapsed:    1.3s\n",
      "[Parallel(n_jobs=20)]: Done 4960 tasks      | elapsed:    1.6s\n",
      "[Parallel(n_jobs=20)]: Done 5000 out of 5000 | elapsed:    1.6s finished\n"
     ]
    },
    {
     "name": "stdout",
     "output_type": "stream",
     "text": [
      "accuracy：0.50833\n",
      "precision_avg: 0.64732\n",
      "recall_avg: 0.50833\n",
      "f1_score_avg: 0.55450\n",
      "n_estimator = 5000\n",
      "max_depth = 10\n",
      "min_samples_split = 50\n",
      "min_samples_leaf = 5\n"
     ]
    },
    {
     "name": "stderr",
     "output_type": "stream",
     "text": [
      "[Parallel(n_jobs=-1)]: Using backend ThreadingBackend with 20 concurrent workers.\n",
      "[Parallel(n_jobs=-1)]: Done  10 tasks      | elapsed:    0.3s\n",
      "[Parallel(n_jobs=-1)]: Done 160 tasks      | elapsed:    1.5s\n",
      "[Parallel(n_jobs=-1)]: Done 410 tasks      | elapsed:    3.2s\n",
      "[Parallel(n_jobs=-1)]: Done 760 tasks      | elapsed:    5.6s\n",
      "[Parallel(n_jobs=-1)]: Done 1210 tasks      | elapsed:    8.6s\n",
      "[Parallel(n_jobs=-1)]: Done 1760 tasks      | elapsed:   12.4s\n",
      "[Parallel(n_jobs=-1)]: Done 2410 tasks      | elapsed:   16.7s\n",
      "[Parallel(n_jobs=-1)]: Done 3160 tasks      | elapsed:   21.8s\n",
      "[Parallel(n_jobs=-1)]: Done 4010 tasks      | elapsed:   27.6s\n",
      "[Parallel(n_jobs=-1)]: Done 4960 tasks      | elapsed:   34.0s\n",
      "[Parallel(n_jobs=-1)]: Done 5000 out of 5000 | elapsed:   34.3s finished\n",
      "[Parallel(n_jobs=20)]: Using backend ThreadingBackend with 20 concurrent workers.\n",
      "[Parallel(n_jobs=20)]: Done  10 tasks      | elapsed:    0.0s\n",
      "[Parallel(n_jobs=20)]: Done 160 tasks      | elapsed:    0.1s\n",
      "[Parallel(n_jobs=20)]: Done 410 tasks      | elapsed:    0.2s\n"
     ]
    },
    {
     "name": "stdout",
     "output_type": "stream",
     "text": [
      "done in 35.898s.\n"
     ]
    },
    {
     "name": "stderr",
     "output_type": "stream",
     "text": [
      "[Parallel(n_jobs=20)]: Done 760 tasks      | elapsed:    0.3s\n",
      "[Parallel(n_jobs=20)]: Done 1210 tasks      | elapsed:    0.4s\n",
      "[Parallel(n_jobs=20)]: Done 1760 tasks      | elapsed:    0.6s\n",
      "[Parallel(n_jobs=20)]: Done 2410 tasks      | elapsed:    0.8s\n",
      "[Parallel(n_jobs=20)]: Done 3160 tasks      | elapsed:    1.1s\n",
      "[Parallel(n_jobs=20)]: Done 4010 tasks      | elapsed:    1.4s\n",
      "[Parallel(n_jobs=20)]: Done 4960 tasks      | elapsed:    1.7s\n",
      "[Parallel(n_jobs=20)]: Done 5000 out of 5000 | elapsed:    1.7s finished\n"
     ]
    },
    {
     "name": "stdout",
     "output_type": "stream",
     "text": [
      "accuracy：0.50633\n",
      "precision_avg: 0.64658\n",
      "recall_avg: 0.50633\n",
      "f1_score_avg: 0.55279\n",
      "n_estimator = 5000\n",
      "max_depth = 10\n",
      "min_samples_split = 50\n",
      "min_samples_leaf = 10\n"
     ]
    },
    {
     "name": "stderr",
     "output_type": "stream",
     "text": [
      "[Parallel(n_jobs=-1)]: Using backend ThreadingBackend with 20 concurrent workers.\n",
      "[Parallel(n_jobs=-1)]: Done  10 tasks      | elapsed:    0.2s\n",
      "[Parallel(n_jobs=-1)]: Done 160 tasks      | elapsed:    1.2s\n",
      "[Parallel(n_jobs=-1)]: Done 410 tasks      | elapsed:    2.9s\n",
      "[Parallel(n_jobs=-1)]: Done 760 tasks      | elapsed:    5.3s\n",
      "[Parallel(n_jobs=-1)]: Done 1210 tasks      | elapsed:    8.3s\n",
      "[Parallel(n_jobs=-1)]: Done 1760 tasks      | elapsed:   12.0s\n",
      "[Parallel(n_jobs=-1)]: Done 2410 tasks      | elapsed:   16.3s\n",
      "[Parallel(n_jobs=-1)]: Done 3160 tasks      | elapsed:   21.3s\n",
      "[Parallel(n_jobs=-1)]: Done 4010 tasks      | elapsed:   27.0s\n",
      "[Parallel(n_jobs=-1)]: Done 4960 tasks      | elapsed:   33.4s\n",
      "[Parallel(n_jobs=-1)]: Done 5000 out of 5000 | elapsed:   33.6s finished\n",
      "[Parallel(n_jobs=20)]: Using backend ThreadingBackend with 20 concurrent workers.\n",
      "[Parallel(n_jobs=20)]: Done  10 tasks      | elapsed:    0.0s\n",
      "[Parallel(n_jobs=20)]: Done 160 tasks      | elapsed:    0.1s\n",
      "[Parallel(n_jobs=20)]: Done 410 tasks      | elapsed:    0.2s\n"
     ]
    },
    {
     "name": "stdout",
     "output_type": "stream",
     "text": [
      "done in 35.216s.\n"
     ]
    },
    {
     "name": "stderr",
     "output_type": "stream",
     "text": [
      "[Parallel(n_jobs=20)]: Done 760 tasks      | elapsed:    0.3s\n",
      "[Parallel(n_jobs=20)]: Done 1210 tasks      | elapsed:    0.4s\n",
      "[Parallel(n_jobs=20)]: Done 1760 tasks      | elapsed:    0.6s\n",
      "[Parallel(n_jobs=20)]: Done 2410 tasks      | elapsed:    0.8s\n",
      "[Parallel(n_jobs=20)]: Done 3160 tasks      | elapsed:    1.1s\n",
      "[Parallel(n_jobs=20)]: Done 4010 tasks      | elapsed:    1.4s\n",
      "[Parallel(n_jobs=20)]: Done 4960 tasks      | elapsed:    1.7s\n",
      "[Parallel(n_jobs=20)]: Done 5000 out of 5000 | elapsed:    1.7s finished\n"
     ]
    },
    {
     "name": "stdout",
     "output_type": "stream",
     "text": [
      "accuracy：0.50513\n",
      "precision_avg: 0.64674\n",
      "recall_avg: 0.50513\n",
      "f1_score_avg: 0.55197\n",
      "n_estimator = 5000\n",
      "max_depth = 10\n",
      "min_samples_split = 50\n",
      "min_samples_leaf = 20\n"
     ]
    },
    {
     "name": "stderr",
     "output_type": "stream",
     "text": [
      "[Parallel(n_jobs=-1)]: Using backend ThreadingBackend with 20 concurrent workers.\n",
      "[Parallel(n_jobs=-1)]: Done  10 tasks      | elapsed:    0.2s\n",
      "[Parallel(n_jobs=-1)]: Done 160 tasks      | elapsed:    1.3s\n",
      "[Parallel(n_jobs=-1)]: Done 410 tasks      | elapsed:    2.9s\n",
      "[Parallel(n_jobs=-1)]: Done 760 tasks      | elapsed:    5.3s\n",
      "[Parallel(n_jobs=-1)]: Done 1210 tasks      | elapsed:    8.3s\n",
      "[Parallel(n_jobs=-1)]: Done 1760 tasks      | elapsed:   11.9s\n",
      "[Parallel(n_jobs=-1)]: Done 2410 tasks      | elapsed:   16.1s\n",
      "[Parallel(n_jobs=-1)]: Done 3160 tasks      | elapsed:   21.1s\n",
      "[Parallel(n_jobs=-1)]: Done 4010 tasks      | elapsed:   26.7s\n",
      "[Parallel(n_jobs=-1)]: Done 4960 tasks      | elapsed:   33.1s\n",
      "[Parallel(n_jobs=-1)]: Done 5000 out of 5000 | elapsed:   33.4s finished\n",
      "[Parallel(n_jobs=20)]: Using backend ThreadingBackend with 20 concurrent workers.\n",
      "[Parallel(n_jobs=20)]: Done  10 tasks      | elapsed:    0.0s\n",
      "[Parallel(n_jobs=20)]: Done 160 tasks      | elapsed:    0.1s\n"
     ]
    },
    {
     "name": "stdout",
     "output_type": "stream",
     "text": [
      "done in 35.204s.\n"
     ]
    },
    {
     "name": "stderr",
     "output_type": "stream",
     "text": [
      "[Parallel(n_jobs=20)]: Done 410 tasks      | elapsed:    0.1s\n",
      "[Parallel(n_jobs=20)]: Done 760 tasks      | elapsed:    0.3s\n",
      "[Parallel(n_jobs=20)]: Done 1210 tasks      | elapsed:    0.4s\n",
      "[Parallel(n_jobs=20)]: Done 1760 tasks      | elapsed:    0.6s\n",
      "[Parallel(n_jobs=20)]: Done 2410 tasks      | elapsed:    0.8s\n",
      "[Parallel(n_jobs=20)]: Done 3160 tasks      | elapsed:    1.0s\n",
      "[Parallel(n_jobs=20)]: Done 4010 tasks      | elapsed:    1.3s\n",
      "[Parallel(n_jobs=20)]: Done 4960 tasks      | elapsed:    1.6s\n",
      "[Parallel(n_jobs=20)]: Done 5000 out of 5000 | elapsed:    1.6s finished\n"
     ]
    },
    {
     "name": "stdout",
     "output_type": "stream",
     "text": [
      "accuracy：0.50327\n",
      "precision_avg: 0.64756\n",
      "recall_avg: 0.50327\n",
      "f1_score_avg: 0.55074\n",
      "n_estimator = 5000\n",
      "max_depth = 20\n",
      "min_samples_split = 2\n",
      "min_samples_leaf = 1\n"
     ]
    },
    {
     "name": "stderr",
     "output_type": "stream",
     "text": [
      "[Parallel(n_jobs=-1)]: Using backend ThreadingBackend with 20 concurrent workers.\n",
      "[Parallel(n_jobs=-1)]: Done  10 tasks      | elapsed:    0.6s\n",
      "[Parallel(n_jobs=-1)]: Done 160 tasks      | elapsed:    4.6s\n",
      "[Parallel(n_jobs=-1)]: Done 410 tasks      | elapsed:   11.3s\n",
      "[Parallel(n_jobs=-1)]: Done 760 tasks      | elapsed:   20.8s\n",
      "[Parallel(n_jobs=-1)]: Done 1210 tasks      | elapsed:   33.0s\n",
      "[Parallel(n_jobs=-1)]: Done 1760 tasks      | elapsed:   47.7s\n",
      "[Parallel(n_jobs=-1)]: Done 2410 tasks      | elapsed:  1.1min\n",
      "[Parallel(n_jobs=-1)]: Done 3160 tasks      | elapsed:  1.4min\n",
      "[Parallel(n_jobs=-1)]: Done 4010 tasks      | elapsed:  1.8min\n",
      "[Parallel(n_jobs=-1)]: Done 4960 tasks      | elapsed:  2.2min\n",
      "[Parallel(n_jobs=-1)]: Done 5000 out of 5000 | elapsed:  2.2min finished\n",
      "[Parallel(n_jobs=20)]: Using backend ThreadingBackend with 20 concurrent workers.\n",
      "[Parallel(n_jobs=20)]: Done  10 tasks      | elapsed:    0.0s\n",
      "[Parallel(n_jobs=20)]: Done 160 tasks      | elapsed:    0.1s\n"
     ]
    },
    {
     "name": "stdout",
     "output_type": "stream",
     "text": [
      "done in 135.529s.\n"
     ]
    },
    {
     "name": "stderr",
     "output_type": "stream",
     "text": [
      "[Parallel(n_jobs=20)]: Done 410 tasks      | elapsed:    0.2s\n",
      "[Parallel(n_jobs=20)]: Done 760 tasks      | elapsed:    0.3s\n",
      "[Parallel(n_jobs=20)]: Done 1210 tasks      | elapsed:    0.4s\n",
      "[Parallel(n_jobs=20)]: Done 1760 tasks      | elapsed:    0.6s\n",
      "[Parallel(n_jobs=20)]: Done 2410 tasks      | elapsed:    0.9s\n",
      "[Parallel(n_jobs=20)]: Done 3160 tasks      | elapsed:    1.2s\n",
      "[Parallel(n_jobs=20)]: Done 4010 tasks      | elapsed:    1.5s\n",
      "[Parallel(n_jobs=20)]: Done 4960 tasks      | elapsed:    1.8s\n",
      "[Parallel(n_jobs=20)]: Done 5000 out of 5000 | elapsed:    1.9s finished\n"
     ]
    },
    {
     "name": "stdout",
     "output_type": "stream",
     "text": [
      "accuracy：0.58327\n",
      "precision_avg: 0.64719\n",
      "recall_avg: 0.58327\n",
      "f1_score_avg: 0.60543\n",
      "n_estimator = 5000\n",
      "max_depth = 20\n",
      "min_samples_split = 10\n",
      "min_samples_leaf = 1\n"
     ]
    },
    {
     "name": "stderr",
     "output_type": "stream",
     "text": [
      "[Parallel(n_jobs=-1)]: Using backend ThreadingBackend with 20 concurrent workers.\n",
      "[Parallel(n_jobs=-1)]: Done  10 tasks      | elapsed:    0.6s\n",
      "[Parallel(n_jobs=-1)]: Done 160 tasks      | elapsed:    4.3s\n",
      "[Parallel(n_jobs=-1)]: Done 410 tasks      | elapsed:   10.4s\n",
      "[Parallel(n_jobs=-1)]: Done 760 tasks      | elapsed:   19.0s\n",
      "[Parallel(n_jobs=-1)]: Done 1210 tasks      | elapsed:   30.2s\n",
      "[Parallel(n_jobs=-1)]: Done 1760 tasks      | elapsed:   43.7s\n",
      "[Parallel(n_jobs=-1)]: Done 2410 tasks      | elapsed:   59.5s\n",
      "[Parallel(n_jobs=-1)]: Done 3160 tasks      | elapsed:  1.3min\n",
      "[Parallel(n_jobs=-1)]: Done 4010 tasks      | elapsed:  1.6min\n",
      "[Parallel(n_jobs=-1)]: Done 4960 tasks      | elapsed:  2.0min\n",
      "[Parallel(n_jobs=-1)]: Done 5000 out of 5000 | elapsed:  2.0min finished\n",
      "[Parallel(n_jobs=20)]: Using backend ThreadingBackend with 20 concurrent workers.\n",
      "[Parallel(n_jobs=20)]: Done  10 tasks      | elapsed:    0.0s\n",
      "[Parallel(n_jobs=20)]: Done 160 tasks      | elapsed:    0.1s\n"
     ]
    },
    {
     "name": "stdout",
     "output_type": "stream",
     "text": [
      "done in 124.685s.\n"
     ]
    },
    {
     "name": "stderr",
     "output_type": "stream",
     "text": [
      "[Parallel(n_jobs=20)]: Done 410 tasks      | elapsed:    0.2s\n",
      "[Parallel(n_jobs=20)]: Done 760 tasks      | elapsed:    0.3s\n",
      "[Parallel(n_jobs=20)]: Done 1210 tasks      | elapsed:    0.4s\n",
      "[Parallel(n_jobs=20)]: Done 1760 tasks      | elapsed:    0.6s\n",
      "[Parallel(n_jobs=20)]: Done 2410 tasks      | elapsed:    0.9s\n",
      "[Parallel(n_jobs=20)]: Done 3160 tasks      | elapsed:    1.1s\n",
      "[Parallel(n_jobs=20)]: Done 4010 tasks      | elapsed:    1.4s\n",
      "[Parallel(n_jobs=20)]: Done 4960 tasks      | elapsed:    1.7s\n",
      "[Parallel(n_jobs=20)]: Done 5000 out of 5000 | elapsed:    1.7s finished\n"
     ]
    },
    {
     "name": "stdout",
     "output_type": "stream",
     "text": [
      "accuracy：0.57353\n",
      "precision_avg: 0.65063\n",
      "recall_avg: 0.57353\n",
      "f1_score_avg: 0.60079\n",
      "n_estimator = 5000\n",
      "max_depth = 20\n",
      "min_samples_split = 10\n",
      "min_samples_leaf = 5\n"
     ]
    },
    {
     "name": "stderr",
     "output_type": "stream",
     "text": [
      "[Parallel(n_jobs=-1)]: Using backend ThreadingBackend with 20 concurrent workers.\n",
      "[Parallel(n_jobs=-1)]: Done  10 tasks      | elapsed:    0.5s\n",
      "[Parallel(n_jobs=-1)]: Done 160 tasks      | elapsed:    3.9s\n",
      "[Parallel(n_jobs=-1)]: Done 410 tasks      | elapsed:    9.5s\n",
      "[Parallel(n_jobs=-1)]: Done 760 tasks      | elapsed:   17.1s\n",
      "[Parallel(n_jobs=-1)]: Done 1210 tasks      | elapsed:   27.1s\n",
      "[Parallel(n_jobs=-1)]: Done 1760 tasks      | elapsed:   39.2s\n",
      "[Parallel(n_jobs=-1)]: Done 2410 tasks      | elapsed:   53.4s\n",
      "[Parallel(n_jobs=-1)]: Done 3160 tasks      | elapsed:  1.2min\n",
      "[Parallel(n_jobs=-1)]: Done 4010 tasks      | elapsed:  1.5min\n",
      "[Parallel(n_jobs=-1)]: Done 4960 tasks      | elapsed:  1.8min\n",
      "[Parallel(n_jobs=-1)]: Done 5000 out of 5000 | elapsed:  1.8min finished\n",
      "[Parallel(n_jobs=20)]: Using backend ThreadingBackend with 20 concurrent workers.\n",
      "[Parallel(n_jobs=20)]: Done  10 tasks      | elapsed:    0.0s\n",
      "[Parallel(n_jobs=20)]: Done 160 tasks      | elapsed:    0.1s\n"
     ]
    },
    {
     "name": "stdout",
     "output_type": "stream",
     "text": [
      "done in 112.242s.\n"
     ]
    },
    {
     "name": "stderr",
     "output_type": "stream",
     "text": [
      "[Parallel(n_jobs=20)]: Done 410 tasks      | elapsed:    0.2s\n",
      "[Parallel(n_jobs=20)]: Done 760 tasks      | elapsed:    0.3s\n",
      "[Parallel(n_jobs=20)]: Done 1210 tasks      | elapsed:    0.4s\n",
      "[Parallel(n_jobs=20)]: Done 1760 tasks      | elapsed:    0.6s\n",
      "[Parallel(n_jobs=20)]: Done 2410 tasks      | elapsed:    0.8s\n",
      "[Parallel(n_jobs=20)]: Done 3160 tasks      | elapsed:    1.1s\n",
      "[Parallel(n_jobs=20)]: Done 4010 tasks      | elapsed:    1.4s\n",
      "[Parallel(n_jobs=20)]: Done 4960 tasks      | elapsed:    1.7s\n",
      "[Parallel(n_jobs=20)]: Done 5000 out of 5000 | elapsed:    1.7s finished\n"
     ]
    },
    {
     "name": "stdout",
     "output_type": "stream",
     "text": [
      "accuracy：0.55907\n",
      "precision_avg: 0.65342\n",
      "recall_avg: 0.55907\n",
      "f1_score_avg: 0.59204\n",
      "n_estimator = 5000\n",
      "max_depth = 20\n",
      "min_samples_split = 50\n",
      "min_samples_leaf = 1\n"
     ]
    },
    {
     "name": "stderr",
     "output_type": "stream",
     "text": [
      "[Parallel(n_jobs=-1)]: Using backend ThreadingBackend with 20 concurrent workers.\n",
      "[Parallel(n_jobs=-1)]: Done  10 tasks      | elapsed:    0.5s\n",
      "[Parallel(n_jobs=-1)]: Done 160 tasks      | elapsed:    3.6s\n",
      "[Parallel(n_jobs=-1)]: Done 410 tasks      | elapsed:    8.8s\n",
      "[Parallel(n_jobs=-1)]: Done 760 tasks      | elapsed:   16.1s\n",
      "[Parallel(n_jobs=-1)]: Done 1210 tasks      | elapsed:   25.4s\n",
      "[Parallel(n_jobs=-1)]: Done 1760 tasks      | elapsed:   36.7s\n",
      "[Parallel(n_jobs=-1)]: Done 2410 tasks      | elapsed:   50.1s\n",
      "[Parallel(n_jobs=-1)]: Done 3160 tasks      | elapsed:  1.1min\n",
      "[Parallel(n_jobs=-1)]: Done 4010 tasks      | elapsed:  1.4min\n",
      "[Parallel(n_jobs=-1)]: Done 4960 tasks      | elapsed:  1.7min\n",
      "[Parallel(n_jobs=-1)]: Done 5000 out of 5000 | elapsed:  1.7min finished\n",
      "[Parallel(n_jobs=20)]: Using backend ThreadingBackend with 20 concurrent workers.\n",
      "[Parallel(n_jobs=20)]: Done  10 tasks      | elapsed:    0.0s\n",
      "[Parallel(n_jobs=20)]: Done 160 tasks      | elapsed:    0.1s\n",
      "[Parallel(n_jobs=20)]: Done 410 tasks      | elapsed:    0.1s\n"
     ]
    },
    {
     "name": "stdout",
     "output_type": "stream",
     "text": [
      "done in 105.029s.\n"
     ]
    },
    {
     "name": "stderr",
     "output_type": "stream",
     "text": [
      "[Parallel(n_jobs=20)]: Done 760 tasks      | elapsed:    0.3s\n",
      "[Parallel(n_jobs=20)]: Done 1210 tasks      | elapsed:    0.4s\n",
      "[Parallel(n_jobs=20)]: Done 1760 tasks      | elapsed:    0.6s\n",
      "[Parallel(n_jobs=20)]: Done 2410 tasks      | elapsed:    0.8s\n",
      "[Parallel(n_jobs=20)]: Done 3160 tasks      | elapsed:    1.0s\n",
      "[Parallel(n_jobs=20)]: Done 4010 tasks      | elapsed:    1.3s\n",
      "[Parallel(n_jobs=20)]: Done 4960 tasks      | elapsed:    1.6s\n",
      "[Parallel(n_jobs=20)]: Done 5000 out of 5000 | elapsed:    1.7s finished\n"
     ]
    },
    {
     "name": "stdout",
     "output_type": "stream",
     "text": [
      "accuracy：0.56080\n",
      "precision_avg: 0.65309\n",
      "recall_avg: 0.56080\n",
      "f1_score_avg: 0.59307\n",
      "n_estimator = 5000\n",
      "max_depth = 20\n",
      "min_samples_split = 50\n",
      "min_samples_leaf = 5\n"
     ]
    },
    {
     "name": "stderr",
     "output_type": "stream",
     "text": [
      "[Parallel(n_jobs=-1)]: Using backend ThreadingBackend with 20 concurrent workers.\n",
      "[Parallel(n_jobs=-1)]: Done  10 tasks      | elapsed:    0.5s\n",
      "[Parallel(n_jobs=-1)]: Done 160 tasks      | elapsed:    3.6s\n",
      "[Parallel(n_jobs=-1)]: Done 410 tasks      | elapsed:    8.5s\n",
      "[Parallel(n_jobs=-1)]: Done 760 tasks      | elapsed:   15.4s\n",
      "[Parallel(n_jobs=-1)]: Done 1210 tasks      | elapsed:   24.4s\n",
      "[Parallel(n_jobs=-1)]: Done 1760 tasks      | elapsed:   35.3s\n",
      "[Parallel(n_jobs=-1)]: Done 2410 tasks      | elapsed:   48.0s\n",
      "[Parallel(n_jobs=-1)]: Done 3160 tasks      | elapsed:  1.0min\n",
      "[Parallel(n_jobs=-1)]: Done 4010 tasks      | elapsed:  1.3min\n",
      "[Parallel(n_jobs=-1)]: Done 4960 tasks      | elapsed:  1.6min\n",
      "[Parallel(n_jobs=-1)]: Done 5000 out of 5000 | elapsed:  1.6min finished\n",
      "[Parallel(n_jobs=20)]: Using backend ThreadingBackend with 20 concurrent workers.\n",
      "[Parallel(n_jobs=20)]: Done  10 tasks      | elapsed:    0.0s\n",
      "[Parallel(n_jobs=20)]: Done 160 tasks      | elapsed:    0.1s\n"
     ]
    },
    {
     "name": "stdout",
     "output_type": "stream",
     "text": [
      "done in 100.762s.\n"
     ]
    },
    {
     "name": "stderr",
     "output_type": "stream",
     "text": [
      "[Parallel(n_jobs=20)]: Done 410 tasks      | elapsed:    0.2s\n",
      "[Parallel(n_jobs=20)]: Done 760 tasks      | elapsed:    0.3s\n",
      "[Parallel(n_jobs=20)]: Done 1210 tasks      | elapsed:    0.4s\n",
      "[Parallel(n_jobs=20)]: Done 1760 tasks      | elapsed:    0.6s\n",
      "[Parallel(n_jobs=20)]: Done 2410 tasks      | elapsed:    0.9s\n",
      "[Parallel(n_jobs=20)]: Done 3160 tasks      | elapsed:    1.1s\n",
      "[Parallel(n_jobs=20)]: Done 4010 tasks      | elapsed:    1.4s\n",
      "[Parallel(n_jobs=20)]: Done 4960 tasks      | elapsed:    1.8s\n",
      "[Parallel(n_jobs=20)]: Done 5000 out of 5000 | elapsed:    1.8s finished\n"
     ]
    },
    {
     "name": "stdout",
     "output_type": "stream",
     "text": [
      "accuracy：0.55593\n",
      "precision_avg: 0.65322\n",
      "recall_avg: 0.55593\n",
      "f1_score_avg: 0.58980\n",
      "n_estimator = 5000\n",
      "max_depth = 20\n",
      "min_samples_split = 50\n",
      "min_samples_leaf = 10\n"
     ]
    },
    {
     "name": "stderr",
     "output_type": "stream",
     "text": [
      "[Parallel(n_jobs=-1)]: Using backend ThreadingBackend with 20 concurrent workers.\n",
      "[Parallel(n_jobs=-1)]: Done  10 tasks      | elapsed:    0.4s\n",
      "[Parallel(n_jobs=-1)]: Done 160 tasks      | elapsed:    3.3s\n",
      "[Parallel(n_jobs=-1)]: Done 410 tasks      | elapsed:    8.1s\n",
      "[Parallel(n_jobs=-1)]: Done 760 tasks      | elapsed:   14.6s\n",
      "[Parallel(n_jobs=-1)]: Done 1210 tasks      | elapsed:   23.1s\n",
      "[Parallel(n_jobs=-1)]: Done 1760 tasks      | elapsed:   33.4s\n",
      "[Parallel(n_jobs=-1)]: Done 2410 tasks      | elapsed:   45.5s\n",
      "[Parallel(n_jobs=-1)]: Done 3160 tasks      | elapsed:   59.5s\n",
      "[Parallel(n_jobs=-1)]: Done 4010 tasks      | elapsed:  1.3min\n",
      "[Parallel(n_jobs=-1)]: Done 4960 tasks      | elapsed:  1.6min\n",
      "[Parallel(n_jobs=-1)]: Done 5000 out of 5000 | elapsed:  1.6min finished\n",
      "[Parallel(n_jobs=20)]: Using backend ThreadingBackend with 20 concurrent workers.\n",
      "[Parallel(n_jobs=20)]: Done  10 tasks      | elapsed:    0.0s\n",
      "[Parallel(n_jobs=20)]: Done 160 tasks      | elapsed:    0.1s\n"
     ]
    },
    {
     "name": "stdout",
     "output_type": "stream",
     "text": [
      "done in 95.698s.\n"
     ]
    },
    {
     "name": "stderr",
     "output_type": "stream",
     "text": [
      "[Parallel(n_jobs=20)]: Done 410 tasks      | elapsed:    0.2s\n",
      "[Parallel(n_jobs=20)]: Done 760 tasks      | elapsed:    0.3s\n",
      "[Parallel(n_jobs=20)]: Done 1210 tasks      | elapsed:    0.4s\n",
      "[Parallel(n_jobs=20)]: Done 1760 tasks      | elapsed:    0.6s\n",
      "[Parallel(n_jobs=20)]: Done 2410 tasks      | elapsed:    0.9s\n",
      "[Parallel(n_jobs=20)]: Done 3160 tasks      | elapsed:    1.1s\n",
      "[Parallel(n_jobs=20)]: Done 4010 tasks      | elapsed:    1.4s\n",
      "[Parallel(n_jobs=20)]: Done 4960 tasks      | elapsed:    1.7s\n",
      "[Parallel(n_jobs=20)]: Done 5000 out of 5000 | elapsed:    1.7s finished\n"
     ]
    },
    {
     "name": "stdout",
     "output_type": "stream",
     "text": [
      "accuracy：0.54940\n",
      "precision_avg: 0.65323\n",
      "recall_avg: 0.54940\n",
      "f1_score_avg: 0.58510\n",
      "n_estimator = 5000\n",
      "max_depth = 20\n",
      "min_samples_split = 50\n",
      "min_samples_leaf = 20\n"
     ]
    },
    {
     "name": "stderr",
     "output_type": "stream",
     "text": [
      "[Parallel(n_jobs=-1)]: Using backend ThreadingBackend with 20 concurrent workers.\n",
      "[Parallel(n_jobs=-1)]: Done  10 tasks      | elapsed:    0.4s\n",
      "[Parallel(n_jobs=-1)]: Done 160 tasks      | elapsed:    3.0s\n",
      "[Parallel(n_jobs=-1)]: Done 410 tasks      | elapsed:    7.3s\n",
      "[Parallel(n_jobs=-1)]: Done 760 tasks      | elapsed:   13.3s\n",
      "[Parallel(n_jobs=-1)]: Done 1210 tasks      | elapsed:   21.0s\n",
      "[Parallel(n_jobs=-1)]: Done 1760 tasks      | elapsed:   30.3s\n",
      "[Parallel(n_jobs=-1)]: Done 2410 tasks      | elapsed:   41.5s\n",
      "[Parallel(n_jobs=-1)]: Done 3160 tasks      | elapsed:   54.4s\n",
      "[Parallel(n_jobs=-1)]: Done 4010 tasks      | elapsed:  1.1min\n",
      "[Parallel(n_jobs=-1)]: Done 4960 tasks      | elapsed:  1.4min\n",
      "[Parallel(n_jobs=-1)]: Done 5000 out of 5000 | elapsed:  1.4min finished\n",
      "[Parallel(n_jobs=20)]: Using backend ThreadingBackend with 20 concurrent workers.\n",
      "[Parallel(n_jobs=20)]: Done  10 tasks      | elapsed:    0.0s\n",
      "[Parallel(n_jobs=20)]: Done 160 tasks      | elapsed:    0.1s\n",
      "[Parallel(n_jobs=20)]: Done 410 tasks      | elapsed:    0.2s\n"
     ]
    },
    {
     "name": "stdout",
     "output_type": "stream",
     "text": [
      "done in 87.467s.\n"
     ]
    },
    {
     "name": "stderr",
     "output_type": "stream",
     "text": [
      "[Parallel(n_jobs=20)]: Done 760 tasks      | elapsed:    0.3s\n",
      "[Parallel(n_jobs=20)]: Done 1210 tasks      | elapsed:    0.4s\n",
      "[Parallel(n_jobs=20)]: Done 1760 tasks      | elapsed:    0.6s\n",
      "[Parallel(n_jobs=20)]: Done 2410 tasks      | elapsed:    0.9s\n",
      "[Parallel(n_jobs=20)]: Done 3160 tasks      | elapsed:    1.1s\n",
      "[Parallel(n_jobs=20)]: Done 4010 tasks      | elapsed:    1.4s\n",
      "[Parallel(n_jobs=20)]: Done 4960 tasks      | elapsed:    1.7s\n",
      "[Parallel(n_jobs=20)]: Done 5000 out of 5000 | elapsed:    1.8s finished\n"
     ]
    },
    {
     "name": "stdout",
     "output_type": "stream",
     "text": [
      "accuracy：0.54220\n",
      "precision_avg: 0.65262\n",
      "recall_avg: 0.54220\n",
      "f1_score_avg: 0.57970\n",
      "n_estimator = 5000\n",
      "max_depth = 50\n",
      "min_samples_split = 2\n",
      "min_samples_leaf = 1\n"
     ]
    },
    {
     "name": "stderr",
     "output_type": "stream",
     "text": [
      "[Parallel(n_jobs=-1)]: Using backend ThreadingBackend with 20 concurrent workers.\n",
      "[Parallel(n_jobs=-1)]: Done  10 tasks      | elapsed:    3.0s\n",
      "[Parallel(n_jobs=-1)]: Done 160 tasks      | elapsed:   24.4s\n",
      "[Parallel(n_jobs=-1)]: Done 410 tasks      | elapsed:  1.0min\n",
      "[Parallel(n_jobs=-1)]: Done 760 tasks      | elapsed:  1.9min\n",
      "[Parallel(n_jobs=-1)]: Done 1210 tasks      | elapsed:  2.9min\n",
      "[Parallel(n_jobs=-1)]: Done 1760 tasks      | elapsed:  4.3min\n",
      "[Parallel(n_jobs=-1)]: Done 2410 tasks      | elapsed:  5.8min\n",
      "[Parallel(n_jobs=-1)]: Done 3160 tasks      | elapsed:  7.7min\n",
      "[Parallel(n_jobs=-1)]: Done 4010 tasks      | elapsed:  9.7min\n",
      "[Parallel(n_jobs=-1)]: Done 4960 tasks      | elapsed: 12.0min\n",
      "[Parallel(n_jobs=-1)]: Done 5000 out of 5000 | elapsed: 12.1min finished\n",
      "[Parallel(n_jobs=20)]: Using backend ThreadingBackend with 20 concurrent workers.\n",
      "[Parallel(n_jobs=20)]: Done  10 tasks      | elapsed:    0.0s\n",
      "[Parallel(n_jobs=20)]: Done 160 tasks      | elapsed:    0.1s\n"
     ]
    },
    {
     "name": "stdout",
     "output_type": "stream",
     "text": [
      "done in 725.251s.\n"
     ]
    },
    {
     "name": "stderr",
     "output_type": "stream",
     "text": [
      "[Parallel(n_jobs=20)]: Done 410 tasks      | elapsed:    0.2s\n",
      "[Parallel(n_jobs=20)]: Done 760 tasks      | elapsed:    0.5s\n",
      "[Parallel(n_jobs=20)]: Done 1210 tasks      | elapsed:    0.8s\n",
      "[Parallel(n_jobs=20)]: Done 1760 tasks      | elapsed:    1.2s\n",
      "[Parallel(n_jobs=20)]: Done 2410 tasks      | elapsed:    1.6s\n",
      "[Parallel(n_jobs=20)]: Done 3160 tasks      | elapsed:    2.1s\n",
      "[Parallel(n_jobs=20)]: Done 4010 tasks      | elapsed:    2.6s\n",
      "[Parallel(n_jobs=20)]: Done 4960 tasks      | elapsed:    3.2s\n",
      "[Parallel(n_jobs=20)]: Done 5000 out of 5000 | elapsed:    3.2s finished\n"
     ]
    },
    {
     "name": "stdout",
     "output_type": "stream",
     "text": [
      "accuracy：0.67373\n",
      "precision_avg: 0.63657\n",
      "recall_avg: 0.67373\n",
      "f1_score_avg: 0.61485\n",
      "n_estimator = 5000\n",
      "max_depth = 50\n",
      "min_samples_split = 10\n",
      "min_samples_leaf = 1\n"
     ]
    },
    {
     "name": "stderr",
     "output_type": "stream",
     "text": [
      "[Parallel(n_jobs=-1)]: Using backend ThreadingBackend with 20 concurrent workers.\n",
      "[Parallel(n_jobs=-1)]: Done  10 tasks      | elapsed:    2.7s\n",
      "[Parallel(n_jobs=-1)]: Done 160 tasks      | elapsed:   21.6s\n",
      "[Parallel(n_jobs=-1)]: Done 410 tasks      | elapsed:   54.1s\n",
      "[Parallel(n_jobs=-1)]: Done 760 tasks      | elapsed:  1.7min\n",
      "[Parallel(n_jobs=-1)]: Done 1210 tasks      | elapsed:  2.6min\n",
      "[Parallel(n_jobs=-1)]: Done 1760 tasks      | elapsed:  3.8min\n",
      "[Parallel(n_jobs=-1)]: Done 2410 tasks      | elapsed:  5.2min\n",
      "[Parallel(n_jobs=-1)]: Done 3160 tasks      | elapsed:  6.8min\n",
      "[Parallel(n_jobs=-1)]: Done 4010 tasks      | elapsed:  8.6min\n",
      "[Parallel(n_jobs=-1)]: Done 4960 tasks      | elapsed: 10.6min\n",
      "[Parallel(n_jobs=-1)]: Done 5000 out of 5000 | elapsed: 10.7min finished\n",
      "[Parallel(n_jobs=20)]: Using backend ThreadingBackend with 20 concurrent workers.\n",
      "[Parallel(n_jobs=20)]: Done  10 tasks      | elapsed:    0.0s\n",
      "[Parallel(n_jobs=20)]: Done 160 tasks      | elapsed:    0.1s\n"
     ]
    },
    {
     "name": "stdout",
     "output_type": "stream",
     "text": [
      "done in 643.308s.\n"
     ]
    },
    {
     "name": "stderr",
     "output_type": "stream",
     "text": [
      "[Parallel(n_jobs=20)]: Done 410 tasks      | elapsed:    0.2s\n",
      "[Parallel(n_jobs=20)]: Done 760 tasks      | elapsed:    0.3s\n",
      "[Parallel(n_jobs=20)]: Done 1210 tasks      | elapsed:    0.5s\n",
      "[Parallel(n_jobs=20)]: Done 1760 tasks      | elapsed:    0.7s\n",
      "[Parallel(n_jobs=20)]: Done 2410 tasks      | elapsed:    1.0s\n",
      "[Parallel(n_jobs=20)]: Done 3160 tasks      | elapsed:    1.3s\n",
      "[Parallel(n_jobs=20)]: Done 4010 tasks      | elapsed:    1.6s\n",
      "[Parallel(n_jobs=20)]: Done 4960 tasks      | elapsed:    2.0s\n",
      "[Parallel(n_jobs=20)]: Done 5000 out of 5000 | elapsed:    2.0s finished\n"
     ]
    },
    {
     "name": "stdout",
     "output_type": "stream",
     "text": [
      "accuracy：0.67180\n",
      "precision_avg: 0.64281\n",
      "recall_avg: 0.67180\n",
      "f1_score_avg: 0.63896\n",
      "n_estimator = 5000\n",
      "max_depth = 50\n",
      "min_samples_split = 10\n",
      "min_samples_leaf = 5\n"
     ]
    },
    {
     "name": "stderr",
     "output_type": "stream",
     "text": [
      "[Parallel(n_jobs=-1)]: Using backend ThreadingBackend with 20 concurrent workers.\n",
      "[Parallel(n_jobs=-1)]: Done  10 tasks      | elapsed:    2.0s\n",
      "[Parallel(n_jobs=-1)]: Done 160 tasks      | elapsed:   15.9s\n",
      "[Parallel(n_jobs=-1)]: Done 410 tasks      | elapsed:   40.0s\n",
      "[Parallel(n_jobs=-1)]: Done 760 tasks      | elapsed:  1.2min\n",
      "[Parallel(n_jobs=-1)]: Done 1210 tasks      | elapsed:  1.9min\n",
      "[Parallel(n_jobs=-1)]: Done 1760 tasks      | elapsed:  2.8min\n",
      "[Parallel(n_jobs=-1)]: Done 2410 tasks      | elapsed:  3.8min\n",
      "[Parallel(n_jobs=-1)]: Done 3160 tasks      | elapsed:  5.0min\n",
      "[Parallel(n_jobs=-1)]: Done 4010 tasks      | elapsed:  6.4min\n",
      "[Parallel(n_jobs=-1)]: Done 4960 tasks      | elapsed:  7.9min\n",
      "[Parallel(n_jobs=-1)]: Done 5000 out of 5000 | elapsed:  7.9min finished\n",
      "[Parallel(n_jobs=20)]: Using backend ThreadingBackend with 20 concurrent workers.\n",
      "[Parallel(n_jobs=20)]: Done  10 tasks      | elapsed:    0.0s\n",
      "[Parallel(n_jobs=20)]: Done 160 tasks      | elapsed:    0.1s\n"
     ]
    },
    {
     "name": "stdout",
     "output_type": "stream",
     "text": [
      "done in 476.798s.\n"
     ]
    },
    {
     "name": "stderr",
     "output_type": "stream",
     "text": [
      "[Parallel(n_jobs=20)]: Done 410 tasks      | elapsed:    0.2s\n",
      "[Parallel(n_jobs=20)]: Done 760 tasks      | elapsed:    0.3s\n",
      "[Parallel(n_jobs=20)]: Done 1210 tasks      | elapsed:    0.4s\n",
      "[Parallel(n_jobs=20)]: Done 1760 tasks      | elapsed:    0.6s\n",
      "[Parallel(n_jobs=20)]: Done 2410 tasks      | elapsed:    0.8s\n",
      "[Parallel(n_jobs=20)]: Done 3160 tasks      | elapsed:    1.1s\n",
      "[Parallel(n_jobs=20)]: Done 4010 tasks      | elapsed:    1.4s\n",
      "[Parallel(n_jobs=20)]: Done 4960 tasks      | elapsed:    1.8s\n",
      "[Parallel(n_jobs=20)]: Done 5000 out of 5000 | elapsed:    1.8s finished\n"
     ]
    },
    {
     "name": "stdout",
     "output_type": "stream",
     "text": [
      "accuracy：0.64047\n",
      "precision_avg: 0.65151\n",
      "recall_avg: 0.64047\n",
      "f1_score_avg: 0.64193\n",
      "n_estimator = 5000\n",
      "max_depth = 50\n",
      "min_samples_split = 50\n",
      "min_samples_leaf = 1\n"
     ]
    },
    {
     "name": "stderr",
     "output_type": "stream",
     "text": [
      "[Parallel(n_jobs=-1)]: Using backend ThreadingBackend with 20 concurrent workers.\n",
      "[Parallel(n_jobs=-1)]: Done  10 tasks      | elapsed:    2.0s\n",
      "[Parallel(n_jobs=-1)]: Done 160 tasks      | elapsed:   16.1s\n",
      "[Parallel(n_jobs=-1)]: Done 410 tasks      | elapsed:   40.4s\n",
      "[Parallel(n_jobs=-1)]: Done 760 tasks      | elapsed:  1.2min\n",
      "[Parallel(n_jobs=-1)]: Done 1210 tasks      | elapsed:  2.0min\n",
      "[Parallel(n_jobs=-1)]: Done 1760 tasks      | elapsed:  2.9min\n",
      "[Parallel(n_jobs=-1)]: Done 2410 tasks      | elapsed:  3.9min\n",
      "[Parallel(n_jobs=-1)]: Done 3160 tasks      | elapsed:  5.1min\n",
      "[Parallel(n_jobs=-1)]: Done 4010 tasks      | elapsed:  6.5min\n",
      "[Parallel(n_jobs=-1)]: Done 4960 tasks      | elapsed:  8.0min\n",
      "[Parallel(n_jobs=-1)]: Done 5000 out of 5000 | elapsed:  8.1min finished\n",
      "[Parallel(n_jobs=20)]: Using backend ThreadingBackend with 20 concurrent workers.\n",
      "[Parallel(n_jobs=20)]: Done  10 tasks      | elapsed:    0.0s\n",
      "[Parallel(n_jobs=20)]: Done 160 tasks      | elapsed:    0.1s\n"
     ]
    },
    {
     "name": "stdout",
     "output_type": "stream",
     "text": [
      "done in 484.847s.\n"
     ]
    },
    {
     "name": "stderr",
     "output_type": "stream",
     "text": [
      "[Parallel(n_jobs=20)]: Done 410 tasks      | elapsed:    0.2s\n",
      "[Parallel(n_jobs=20)]: Done 760 tasks      | elapsed:    0.3s\n",
      "[Parallel(n_jobs=20)]: Done 1210 tasks      | elapsed:    0.4s\n",
      "[Parallel(n_jobs=20)]: Done 1760 tasks      | elapsed:    0.6s\n",
      "[Parallel(n_jobs=20)]: Done 2410 tasks      | elapsed:    0.8s\n",
      "[Parallel(n_jobs=20)]: Done 3160 tasks      | elapsed:    1.1s\n",
      "[Parallel(n_jobs=20)]: Done 4010 tasks      | elapsed:    1.4s\n",
      "[Parallel(n_jobs=20)]: Done 4960 tasks      | elapsed:    1.7s\n",
      "[Parallel(n_jobs=20)]: Done 5000 out of 5000 | elapsed:    1.7s finished\n"
     ]
    },
    {
     "name": "stdout",
     "output_type": "stream",
     "text": [
      "accuracy：0.65360\n",
      "precision_avg: 0.65305\n",
      "recall_avg: 0.65360\n",
      "f1_score_avg: 0.64858\n",
      "n_estimator = 5000\n",
      "max_depth = 50\n",
      "min_samples_split = 50\n",
      "min_samples_leaf = 5\n"
     ]
    },
    {
     "name": "stderr",
     "output_type": "stream",
     "text": [
      "[Parallel(n_jobs=-1)]: Using backend ThreadingBackend with 20 concurrent workers.\n",
      "[Parallel(n_jobs=-1)]: Done  10 tasks      | elapsed:    1.7s\n",
      "[Parallel(n_jobs=-1)]: Done 160 tasks      | elapsed:   13.6s\n",
      "[Parallel(n_jobs=-1)]: Done 410 tasks      | elapsed:   34.0s\n",
      "[Parallel(n_jobs=-1)]: Done 760 tasks      | elapsed:  1.0min\n",
      "[Parallel(n_jobs=-1)]: Done 1210 tasks      | elapsed:  1.6min\n",
      "[Parallel(n_jobs=-1)]: Done 1760 tasks      | elapsed:  2.4min\n",
      "[Parallel(n_jobs=-1)]: Done 2410 tasks      | elapsed:  3.3min\n",
      "[Parallel(n_jobs=-1)]: Done 3160 tasks      | elapsed:  4.3min\n",
      "[Parallel(n_jobs=-1)]: Done 4010 tasks      | elapsed:  5.4min\n",
      "[Parallel(n_jobs=-1)]: Done 4960 tasks      | elapsed:  6.7min\n",
      "[Parallel(n_jobs=-1)]: Done 5000 out of 5000 | elapsed:  6.7min finished\n",
      "[Parallel(n_jobs=20)]: Using backend ThreadingBackend with 20 concurrent workers.\n",
      "[Parallel(n_jobs=20)]: Done  10 tasks      | elapsed:    0.0s\n",
      "[Parallel(n_jobs=20)]: Done 160 tasks      | elapsed:    0.1s\n",
      "[Parallel(n_jobs=20)]: Done 410 tasks      | elapsed:    0.2s\n"
     ]
    },
    {
     "name": "stdout",
     "output_type": "stream",
     "text": [
      "done in 404.895s.\n"
     ]
    },
    {
     "name": "stderr",
     "output_type": "stream",
     "text": [
      "[Parallel(n_jobs=20)]: Done 760 tasks      | elapsed:    0.3s\n",
      "[Parallel(n_jobs=20)]: Done 1210 tasks      | elapsed:    0.4s\n",
      "[Parallel(n_jobs=20)]: Done 1760 tasks      | elapsed:    0.6s\n",
      "[Parallel(n_jobs=20)]: Done 2410 tasks      | elapsed:    0.8s\n",
      "[Parallel(n_jobs=20)]: Done 3160 tasks      | elapsed:    1.1s\n",
      "[Parallel(n_jobs=20)]: Done 4010 tasks      | elapsed:    1.4s\n",
      "[Parallel(n_jobs=20)]: Done 4960 tasks      | elapsed:    1.7s\n",
      "[Parallel(n_jobs=20)]: Done 5000 out of 5000 | elapsed:    1.7s finished\n"
     ]
    },
    {
     "name": "stdout",
     "output_type": "stream",
     "text": [
      "accuracy：0.63527\n",
      "precision_avg: 0.65237\n",
      "recall_avg: 0.63527\n",
      "f1_score_avg: 0.63992\n",
      "n_estimator = 5000\n",
      "max_depth = 50\n",
      "min_samples_split = 50\n",
      "min_samples_leaf = 10\n"
     ]
    },
    {
     "name": "stderr",
     "output_type": "stream",
     "text": [
      "[Parallel(n_jobs=-1)]: Using backend ThreadingBackend with 20 concurrent workers.\n",
      "[Parallel(n_jobs=-1)]: Done  10 tasks      | elapsed:    1.3s\n",
      "[Parallel(n_jobs=-1)]: Done 160 tasks      | elapsed:   10.3s\n",
      "[Parallel(n_jobs=-1)]: Done 410 tasks      | elapsed:   26.4s\n",
      "[Parallel(n_jobs=-1)]: Done 760 tasks      | elapsed:   48.3s\n",
      "[Parallel(n_jobs=-1)]: Done 1210 tasks      | elapsed:  1.3min\n",
      "[Parallel(n_jobs=-1)]: Done 1760 tasks      | elapsed:  1.8min\n",
      "[Parallel(n_jobs=-1)]: Done 2410 tasks      | elapsed:  2.5min\n",
      "[Parallel(n_jobs=-1)]: Done 3160 tasks      | elapsed:  3.3min\n",
      "[Parallel(n_jobs=-1)]: Done 4010 tasks      | elapsed:  4.2min\n",
      "[Parallel(n_jobs=-1)]: Done 4960 tasks      | elapsed:  5.2min\n",
      "[Parallel(n_jobs=-1)]: Done 5000 out of 5000 | elapsed:  5.2min finished\n",
      "[Parallel(n_jobs=20)]: Using backend ThreadingBackend with 20 concurrent workers.\n",
      "[Parallel(n_jobs=20)]: Done  10 tasks      | elapsed:    0.0s\n",
      "[Parallel(n_jobs=20)]: Done 160 tasks      | elapsed:    0.1s\n"
     ]
    },
    {
     "name": "stdout",
     "output_type": "stream",
     "text": [
      "done in 313.630s.\n"
     ]
    },
    {
     "name": "stderr",
     "output_type": "stream",
     "text": [
      "[Parallel(n_jobs=20)]: Done 410 tasks      | elapsed:    0.2s\n",
      "[Parallel(n_jobs=20)]: Done 760 tasks      | elapsed:    0.3s\n",
      "[Parallel(n_jobs=20)]: Done 1210 tasks      | elapsed:    0.4s\n",
      "[Parallel(n_jobs=20)]: Done 1760 tasks      | elapsed:    0.6s\n",
      "[Parallel(n_jobs=20)]: Done 2410 tasks      | elapsed:    0.9s\n",
      "[Parallel(n_jobs=20)]: Done 3160 tasks      | elapsed:    1.1s\n",
      "[Parallel(n_jobs=20)]: Done 4010 tasks      | elapsed:    1.4s\n",
      "[Parallel(n_jobs=20)]: Done 4960 tasks      | elapsed:    1.7s\n",
      "[Parallel(n_jobs=20)]: Done 5000 out of 5000 | elapsed:    1.7s finished\n"
     ]
    },
    {
     "name": "stdout",
     "output_type": "stream",
     "text": [
      "accuracy：0.61593\n",
      "precision_avg: 0.65255\n",
      "recall_avg: 0.61593\n",
      "f1_score_avg: 0.62888\n",
      "n_estimator = 5000\n",
      "max_depth = 50\n",
      "min_samples_split = 50\n",
      "min_samples_leaf = 20\n"
     ]
    },
    {
     "name": "stderr",
     "output_type": "stream",
     "text": [
      "[Parallel(n_jobs=-1)]: Using backend ThreadingBackend with 20 concurrent workers.\n",
      "[Parallel(n_jobs=-1)]: Done  10 tasks      | elapsed:    1.0s\n",
      "[Parallel(n_jobs=-1)]: Done 160 tasks      | elapsed:    7.5s\n",
      "[Parallel(n_jobs=-1)]: Done 410 tasks      | elapsed:   18.9s\n",
      "[Parallel(n_jobs=-1)]: Done 760 tasks      | elapsed:   34.5s\n",
      "[Parallel(n_jobs=-1)]: Done 1210 tasks      | elapsed:   54.6s\n",
      "[Parallel(n_jobs=-1)]: Done 1760 tasks      | elapsed:  1.3min\n",
      "[Parallel(n_jobs=-1)]: Done 2410 tasks      | elapsed:  1.8min\n",
      "[Parallel(n_jobs=-1)]: Done 3160 tasks      | elapsed:  2.4min\n",
      "[Parallel(n_jobs=-1)]: Done 4010 tasks      | elapsed:  3.0min\n",
      "[Parallel(n_jobs=-1)]: Done 4960 tasks      | elapsed:  3.7min\n",
      "[Parallel(n_jobs=-1)]: Done 5000 out of 5000 | elapsed:  3.7min finished\n",
      "[Parallel(n_jobs=20)]: Using backend ThreadingBackend with 20 concurrent workers.\n",
      "[Parallel(n_jobs=20)]: Done  10 tasks      | elapsed:    0.0s\n",
      "[Parallel(n_jobs=20)]: Done 160 tasks      | elapsed:    0.1s\n"
     ]
    },
    {
     "name": "stdout",
     "output_type": "stream",
     "text": [
      "done in 225.137s.\n"
     ]
    },
    {
     "name": "stderr",
     "output_type": "stream",
     "text": [
      "[Parallel(n_jobs=20)]: Done 410 tasks      | elapsed:    0.2s\n",
      "[Parallel(n_jobs=20)]: Done 760 tasks      | elapsed:    0.3s\n",
      "[Parallel(n_jobs=20)]: Done 1210 tasks      | elapsed:    0.4s\n",
      "[Parallel(n_jobs=20)]: Done 1760 tasks      | elapsed:    0.6s\n",
      "[Parallel(n_jobs=20)]: Done 2410 tasks      | elapsed:    0.9s\n",
      "[Parallel(n_jobs=20)]: Done 3160 tasks      | elapsed:    1.1s\n",
      "[Parallel(n_jobs=20)]: Done 4010 tasks      | elapsed:    1.4s\n",
      "[Parallel(n_jobs=20)]: Done 4960 tasks      | elapsed:    1.8s\n",
      "[Parallel(n_jobs=20)]: Done 5000 out of 5000 | elapsed:    1.8s finished\n"
     ]
    },
    {
     "name": "stdout",
     "output_type": "stream",
     "text": [
      "accuracy：0.59907\n",
      "precision_avg: 0.65616\n",
      "recall_avg: 0.59907\n",
      "f1_score_avg: 0.61912\n",
      "n_estimator = 10000\n",
      "max_depth = 10\n",
      "min_samples_split = 2\n",
      "min_samples_leaf = 1\n"
     ]
    },
    {
     "name": "stderr",
     "output_type": "stream",
     "text": [
      "[Parallel(n_jobs=-1)]: Using backend ThreadingBackend with 20 concurrent workers.\n",
      "[Parallel(n_jobs=-1)]: Done  10 tasks      | elapsed:    0.2s\n",
      "[Parallel(n_jobs=-1)]: Done 160 tasks      | elapsed:    1.5s\n",
      "[Parallel(n_jobs=-1)]: Done 410 tasks      | elapsed:    3.4s\n",
      "[Parallel(n_jobs=-1)]: Done 760 tasks      | elapsed:    6.1s\n",
      "[Parallel(n_jobs=-1)]: Done 1210 tasks      | elapsed:    9.5s\n",
      "[Parallel(n_jobs=-1)]: Done 1760 tasks      | elapsed:   13.6s\n",
      "[Parallel(n_jobs=-1)]: Done 2410 tasks      | elapsed:   18.4s\n",
      "[Parallel(n_jobs=-1)]: Done 3160 tasks      | elapsed:   24.0s\n",
      "[Parallel(n_jobs=-1)]: Done 4010 tasks      | elapsed:   30.3s\n",
      "[Parallel(n_jobs=-1)]: Done 4960 tasks      | elapsed:   37.4s\n",
      "[Parallel(n_jobs=-1)]: Done 6010 tasks      | elapsed:   45.2s\n",
      "[Parallel(n_jobs=-1)]: Done 7160 tasks      | elapsed:   53.9s\n",
      "[Parallel(n_jobs=-1)]: Done 8410 tasks      | elapsed:  1.1min\n",
      "[Parallel(n_jobs=-1)]: Done 9760 tasks      | elapsed:  1.2min\n",
      "[Parallel(n_jobs=-1)]: Done 10000 out of 10000 | elapsed:  1.3min finished\n",
      "[Parallel(n_jobs=20)]: Using backend ThreadingBackend with 20 concurrent workers.\n",
      "[Parallel(n_jobs=20)]: Done  10 tasks      | elapsed:    0.0s\n",
      "[Parallel(n_jobs=20)]: Done 160 tasks      | elapsed:    0.1s\n",
      "[Parallel(n_jobs=20)]: Done 410 tasks      | elapsed:    0.2s\n"
     ]
    },
    {
     "name": "stdout",
     "output_type": "stream",
     "text": [
      "done in 78.225s.\n"
     ]
    },
    {
     "name": "stderr",
     "output_type": "stream",
     "text": [
      "[Parallel(n_jobs=20)]: Done 760 tasks      | elapsed:    0.3s\n",
      "[Parallel(n_jobs=20)]: Done 1210 tasks      | elapsed:    0.4s\n",
      "[Parallel(n_jobs=20)]: Done 1760 tasks      | elapsed:    0.6s\n",
      "[Parallel(n_jobs=20)]: Done 2410 tasks      | elapsed:    0.9s\n",
      "[Parallel(n_jobs=20)]: Done 3160 tasks      | elapsed:    1.1s\n",
      "[Parallel(n_jobs=20)]: Done 4010 tasks      | elapsed:    1.4s\n",
      "[Parallel(n_jobs=20)]: Done 4960 tasks      | elapsed:    1.7s\n",
      "[Parallel(n_jobs=20)]: Done 6010 tasks      | elapsed:    2.1s\n",
      "[Parallel(n_jobs=20)]: Done 7160 tasks      | elapsed:    2.4s\n",
      "[Parallel(n_jobs=20)]: Done 8410 tasks      | elapsed:    2.8s\n",
      "[Parallel(n_jobs=20)]: Done 9760 tasks      | elapsed:    3.3s\n",
      "[Parallel(n_jobs=20)]: Done 10000 out of 10000 | elapsed:    3.3s finished\n"
     ]
    },
    {
     "name": "stdout",
     "output_type": "stream",
     "text": [
      "accuracy：0.51333\n",
      "precision_avg: 0.64654\n",
      "recall_avg: 0.51333\n",
      "f1_score_avg: 0.55799\n",
      "n_estimator = 10000\n",
      "max_depth = 10\n",
      "min_samples_split = 10\n",
      "min_samples_leaf = 1\n"
     ]
    },
    {
     "name": "stderr",
     "output_type": "stream",
     "text": [
      "[Parallel(n_jobs=-1)]: Using backend ThreadingBackend with 20 concurrent workers.\n",
      "[Parallel(n_jobs=-1)]: Done  10 tasks      | elapsed:    0.2s\n",
      "[Parallel(n_jobs=-1)]: Done 160 tasks      | elapsed:    1.3s\n",
      "[Parallel(n_jobs=-1)]: Done 410 tasks      | elapsed:    3.2s\n",
      "[Parallel(n_jobs=-1)]: Done 760 tasks      | elapsed:    5.7s\n",
      "[Parallel(n_jobs=-1)]: Done 1210 tasks      | elapsed:    9.0s\n",
      "[Parallel(n_jobs=-1)]: Done 1760 tasks      | elapsed:   12.9s\n",
      "[Parallel(n_jobs=-1)]: Done 2410 tasks      | elapsed:   17.6s\n",
      "[Parallel(n_jobs=-1)]: Done 3160 tasks      | elapsed:   23.0s\n",
      "[Parallel(n_jobs=-1)]: Done 4010 tasks      | elapsed:   29.0s\n",
      "[Parallel(n_jobs=-1)]: Done 4960 tasks      | elapsed:   35.8s\n",
      "[Parallel(n_jobs=-1)]: Done 6010 tasks      | elapsed:   43.3s\n",
      "[Parallel(n_jobs=-1)]: Done 7160 tasks      | elapsed:   51.5s\n",
      "[Parallel(n_jobs=-1)]: Done 8410 tasks      | elapsed:  1.0min\n",
      "[Parallel(n_jobs=-1)]: Done 9760 tasks      | elapsed:  1.2min\n",
      "[Parallel(n_jobs=-1)]: Done 10000 out of 10000 | elapsed:  1.2min finished\n",
      "[Parallel(n_jobs=20)]: Using backend ThreadingBackend with 20 concurrent workers.\n",
      "[Parallel(n_jobs=20)]: Done  10 tasks      | elapsed:    0.0s\n",
      "[Parallel(n_jobs=20)]: Done 160 tasks      | elapsed:    0.1s\n",
      "[Parallel(n_jobs=20)]: Done 410 tasks      | elapsed:    0.2s\n"
     ]
    },
    {
     "name": "stdout",
     "output_type": "stream",
     "text": [
      "done in 75.110s.\n"
     ]
    },
    {
     "name": "stderr",
     "output_type": "stream",
     "text": [
      "[Parallel(n_jobs=20)]: Done 760 tasks      | elapsed:    0.3s\n",
      "[Parallel(n_jobs=20)]: Done 1210 tasks      | elapsed:    0.4s\n",
      "[Parallel(n_jobs=20)]: Done 1760 tasks      | elapsed:    0.6s\n",
      "[Parallel(n_jobs=20)]: Done 2410 tasks      | elapsed:    0.9s\n",
      "[Parallel(n_jobs=20)]: Done 3160 tasks      | elapsed:    1.1s\n",
      "[Parallel(n_jobs=20)]: Done 4010 tasks      | elapsed:    1.4s\n",
      "[Parallel(n_jobs=20)]: Done 4960 tasks      | elapsed:    1.7s\n",
      "[Parallel(n_jobs=20)]: Done 6010 tasks      | elapsed:    2.1s\n",
      "[Parallel(n_jobs=20)]: Done 7160 tasks      | elapsed:    2.4s\n",
      "[Parallel(n_jobs=20)]: Done 8410 tasks      | elapsed:    2.8s\n",
      "[Parallel(n_jobs=20)]: Done 9760 tasks      | elapsed:    3.2s\n",
      "[Parallel(n_jobs=20)]: Done 10000 out of 10000 | elapsed:    3.3s finished\n"
     ]
    },
    {
     "name": "stdout",
     "output_type": "stream",
     "text": [
      "accuracy：0.51140\n",
      "precision_avg: 0.64645\n",
      "recall_avg: 0.51140\n",
      "f1_score_avg: 0.55654\n",
      "n_estimator = 10000\n",
      "max_depth = 10\n",
      "min_samples_split = 10\n",
      "min_samples_leaf = 5\n"
     ]
    },
    {
     "name": "stderr",
     "output_type": "stream",
     "text": [
      "[Parallel(n_jobs=-1)]: Using backend ThreadingBackend with 20 concurrent workers.\n",
      "[Parallel(n_jobs=-1)]: Done  10 tasks      | elapsed:    0.2s\n",
      "[Parallel(n_jobs=-1)]: Done 160 tasks      | elapsed:    1.3s\n",
      "[Parallel(n_jobs=-1)]: Done 410 tasks      | elapsed:    3.0s\n",
      "[Parallel(n_jobs=-1)]: Done 760 tasks      | elapsed:    5.5s\n",
      "[Parallel(n_jobs=-1)]: Done 1210 tasks      | elapsed:    8.7s\n",
      "[Parallel(n_jobs=-1)]: Done 1760 tasks      | elapsed:   12.6s\n",
      "[Parallel(n_jobs=-1)]: Done 2410 tasks      | elapsed:   17.2s\n",
      "[Parallel(n_jobs=-1)]: Done 3160 tasks      | elapsed:   22.5s\n",
      "[Parallel(n_jobs=-1)]: Done 4010 tasks      | elapsed:   28.5s\n",
      "[Parallel(n_jobs=-1)]: Done 4960 tasks      | elapsed:   35.1s\n",
      "[Parallel(n_jobs=-1)]: Done 6010 tasks      | elapsed:   42.4s\n",
      "[Parallel(n_jobs=-1)]: Done 7160 tasks      | elapsed:   50.5s\n",
      "[Parallel(n_jobs=-1)]: Done 8410 tasks      | elapsed:   59.2s\n",
      "[Parallel(n_jobs=-1)]: Done 9760 tasks      | elapsed:  1.1min\n",
      "[Parallel(n_jobs=-1)]: Done 10000 out of 10000 | elapsed:  1.2min finished\n",
      "[Parallel(n_jobs=20)]: Using backend ThreadingBackend with 20 concurrent workers.\n",
      "[Parallel(n_jobs=20)]: Done  10 tasks      | elapsed:    0.0s\n",
      "[Parallel(n_jobs=20)]: Done 160 tasks      | elapsed:    0.1s\n",
      "[Parallel(n_jobs=20)]: Done 410 tasks      | elapsed:    0.1s\n"
     ]
    },
    {
     "name": "stdout",
     "output_type": "stream",
     "text": [
      "done in 73.716s.\n"
     ]
    },
    {
     "name": "stderr",
     "output_type": "stream",
     "text": [
      "[Parallel(n_jobs=20)]: Done 760 tasks      | elapsed:    0.3s\n",
      "[Parallel(n_jobs=20)]: Done 1210 tasks      | elapsed:    0.4s\n",
      "[Parallel(n_jobs=20)]: Done 1760 tasks      | elapsed:    0.6s\n",
      "[Parallel(n_jobs=20)]: Done 2410 tasks      | elapsed:    0.8s\n",
      "[Parallel(n_jobs=20)]: Done 3160 tasks      | elapsed:    1.0s\n",
      "[Parallel(n_jobs=20)]: Done 4010 tasks      | elapsed:    1.3s\n",
      "[Parallel(n_jobs=20)]: Done 4960 tasks      | elapsed:    1.6s\n",
      "[Parallel(n_jobs=20)]: Done 6010 tasks      | elapsed:    1.9s\n",
      "[Parallel(n_jobs=20)]: Done 7160 tasks      | elapsed:    2.3s\n",
      "[Parallel(n_jobs=20)]: Done 8410 tasks      | elapsed:    2.7s\n",
      "[Parallel(n_jobs=20)]: Done 9760 tasks      | elapsed:    3.1s\n",
      "[Parallel(n_jobs=20)]: Done 10000 out of 10000 | elapsed:    3.2s finished\n"
     ]
    },
    {
     "name": "stdout",
     "output_type": "stream",
     "text": [
      "accuracy：0.50820\n",
      "precision_avg: 0.64682\n",
      "recall_avg: 0.50820\n",
      "f1_score_avg: 0.55420\n",
      "n_estimator = 10000\n",
      "max_depth = 10\n",
      "min_samples_split = 50\n",
      "min_samples_leaf = 1\n"
     ]
    },
    {
     "name": "stderr",
     "output_type": "stream",
     "text": [
      "[Parallel(n_jobs=-1)]: Using backend ThreadingBackend with 20 concurrent workers.\n",
      "[Parallel(n_jobs=-1)]: Done  10 tasks      | elapsed:    0.2s\n",
      "[Parallel(n_jobs=-1)]: Done 160 tasks      | elapsed:    1.2s\n",
      "[Parallel(n_jobs=-1)]: Done 410 tasks      | elapsed:    3.0s\n",
      "[Parallel(n_jobs=-1)]: Done 760 tasks      | elapsed:    5.4s\n",
      "[Parallel(n_jobs=-1)]: Done 1210 tasks      | elapsed:    8.5s\n",
      "[Parallel(n_jobs=-1)]: Done 1760 tasks      | elapsed:   12.3s\n",
      "[Parallel(n_jobs=-1)]: Done 2410 tasks      | elapsed:   16.8s\n",
      "[Parallel(n_jobs=-1)]: Done 3160 tasks      | elapsed:   21.9s\n",
      "[Parallel(n_jobs=-1)]: Done 4010 tasks      | elapsed:   27.7s\n",
      "[Parallel(n_jobs=-1)]: Done 4960 tasks      | elapsed:   34.3s\n",
      "[Parallel(n_jobs=-1)]: Done 6010 tasks      | elapsed:   41.6s\n",
      "[Parallel(n_jobs=-1)]: Done 7160 tasks      | elapsed:   49.7s\n",
      "[Parallel(n_jobs=-1)]: Done 8410 tasks      | elapsed:   58.2s\n",
      "[Parallel(n_jobs=-1)]: Done 9760 tasks      | elapsed:  1.1min\n",
      "[Parallel(n_jobs=-1)]: Done 10000 out of 10000 | elapsed:  1.2min finished\n",
      "[Parallel(n_jobs=20)]: Using backend ThreadingBackend with 20 concurrent workers.\n",
      "[Parallel(n_jobs=20)]: Done  10 tasks      | elapsed:    0.0s\n",
      "[Parallel(n_jobs=20)]: Done 160 tasks      | elapsed:    0.1s\n",
      "[Parallel(n_jobs=20)]: Done 410 tasks      | elapsed:    0.2s\n"
     ]
    },
    {
     "name": "stdout",
     "output_type": "stream",
     "text": [
      "done in 72.348s.\n"
     ]
    },
    {
     "name": "stderr",
     "output_type": "stream",
     "text": [
      "[Parallel(n_jobs=20)]: Done 760 tasks      | elapsed:    0.3s\n",
      "[Parallel(n_jobs=20)]: Done 1210 tasks      | elapsed:    0.4s\n",
      "[Parallel(n_jobs=20)]: Done 1760 tasks      | elapsed:    0.6s\n",
      "[Parallel(n_jobs=20)]: Done 2410 tasks      | elapsed:    0.8s\n",
      "[Parallel(n_jobs=20)]: Done 3160 tasks      | elapsed:    1.1s\n",
      "[Parallel(n_jobs=20)]: Done 4010 tasks      | elapsed:    1.4s\n",
      "[Parallel(n_jobs=20)]: Done 4960 tasks      | elapsed:    1.7s\n",
      "[Parallel(n_jobs=20)]: Done 6010 tasks      | elapsed:    2.1s\n",
      "[Parallel(n_jobs=20)]: Done 7160 tasks      | elapsed:    2.4s\n",
      "[Parallel(n_jobs=20)]: Done 8410 tasks      | elapsed:    2.9s\n",
      "[Parallel(n_jobs=20)]: Done 9760 tasks      | elapsed:    3.3s\n",
      "[Parallel(n_jobs=20)]: Done 10000 out of 10000 | elapsed:    3.4s finished\n"
     ]
    },
    {
     "name": "stdout",
     "output_type": "stream",
     "text": [
      "accuracy：0.50907\n",
      "precision_avg: 0.64746\n",
      "recall_avg: 0.50907\n",
      "f1_score_avg: 0.55500\n",
      "n_estimator = 10000\n",
      "max_depth = 10\n",
      "min_samples_split = 50\n",
      "min_samples_leaf = 5\n"
     ]
    },
    {
     "name": "stderr",
     "output_type": "stream",
     "text": [
      "[Parallel(n_jobs=-1)]: Using backend ThreadingBackend with 20 concurrent workers.\n",
      "[Parallel(n_jobs=-1)]: Done  10 tasks      | elapsed:    0.2s\n",
      "[Parallel(n_jobs=-1)]: Done 160 tasks      | elapsed:    1.3s\n",
      "[Parallel(n_jobs=-1)]: Done 410 tasks      | elapsed:    3.0s\n",
      "[Parallel(n_jobs=-1)]: Done 760 tasks      | elapsed:    5.3s\n",
      "[Parallel(n_jobs=-1)]: Done 1210 tasks      | elapsed:    8.4s\n",
      "[Parallel(n_jobs=-1)]: Done 1760 tasks      | elapsed:   12.2s\n",
      "[Parallel(n_jobs=-1)]: Done 2410 tasks      | elapsed:   16.5s\n",
      "[Parallel(n_jobs=-1)]: Done 3160 tasks      | elapsed:   21.6s\n",
      "[Parallel(n_jobs=-1)]: Done 4010 tasks      | elapsed:   27.3s\n",
      "[Parallel(n_jobs=-1)]: Done 4960 tasks      | elapsed:   34.0s\n",
      "[Parallel(n_jobs=-1)]: Done 6010 tasks      | elapsed:   41.1s\n",
      "[Parallel(n_jobs=-1)]: Done 7160 tasks      | elapsed:   48.9s\n",
      "[Parallel(n_jobs=-1)]: Done 8410 tasks      | elapsed:   57.4s\n",
      "[Parallel(n_jobs=-1)]: Done 9760 tasks      | elapsed:  1.1min\n",
      "[Parallel(n_jobs=-1)]: Done 10000 out of 10000 | elapsed:  1.1min finished\n",
      "[Parallel(n_jobs=20)]: Using backend ThreadingBackend with 20 concurrent workers.\n",
      "[Parallel(n_jobs=20)]: Done  10 tasks      | elapsed:    0.0s\n",
      "[Parallel(n_jobs=20)]: Done 160 tasks      | elapsed:    0.1s\n"
     ]
    },
    {
     "name": "stdout",
     "output_type": "stream",
     "text": [
      "done in 71.433s.\n"
     ]
    },
    {
     "name": "stderr",
     "output_type": "stream",
     "text": [
      "[Parallel(n_jobs=20)]: Done 410 tasks      | elapsed:    0.2s\n",
      "[Parallel(n_jobs=20)]: Done 760 tasks      | elapsed:    0.3s\n",
      "[Parallel(n_jobs=20)]: Done 1210 tasks      | elapsed:    0.4s\n",
      "[Parallel(n_jobs=20)]: Done 1760 tasks      | elapsed:    0.6s\n",
      "[Parallel(n_jobs=20)]: Done 2410 tasks      | elapsed:    0.8s\n",
      "[Parallel(n_jobs=20)]: Done 3160 tasks      | elapsed:    1.1s\n",
      "[Parallel(n_jobs=20)]: Done 4010 tasks      | elapsed:    1.3s\n",
      "[Parallel(n_jobs=20)]: Done 4960 tasks      | elapsed:    1.7s\n",
      "[Parallel(n_jobs=20)]: Done 6010 tasks      | elapsed:    2.0s\n",
      "[Parallel(n_jobs=20)]: Done 7160 tasks      | elapsed:    2.4s\n",
      "[Parallel(n_jobs=20)]: Done 8410 tasks      | elapsed:    2.8s\n",
      "[Parallel(n_jobs=20)]: Done 9760 tasks      | elapsed:    3.3s\n",
      "[Parallel(n_jobs=20)]: Done 10000 out of 10000 | elapsed:    3.4s finished\n"
     ]
    },
    {
     "name": "stdout",
     "output_type": "stream",
     "text": [
      "accuracy：0.50740\n",
      "precision_avg: 0.64668\n",
      "recall_avg: 0.50740\n",
      "f1_score_avg: 0.55354\n",
      "n_estimator = 10000\n",
      "max_depth = 10\n",
      "min_samples_split = 50\n",
      "min_samples_leaf = 10\n"
     ]
    },
    {
     "name": "stderr",
     "output_type": "stream",
     "text": [
      "[Parallel(n_jobs=-1)]: Using backend ThreadingBackend with 20 concurrent workers.\n",
      "[Parallel(n_jobs=-1)]: Done  10 tasks      | elapsed:    0.2s\n",
      "[Parallel(n_jobs=-1)]: Done 160 tasks      | elapsed:    1.2s\n",
      "[Parallel(n_jobs=-1)]: Done 410 tasks      | elapsed:    2.9s\n",
      "[Parallel(n_jobs=-1)]: Done 760 tasks      | elapsed:    5.2s\n",
      "[Parallel(n_jobs=-1)]: Done 1210 tasks      | elapsed:    8.3s\n",
      "[Parallel(n_jobs=-1)]: Done 1760 tasks      | elapsed:   12.0s\n",
      "[Parallel(n_jobs=-1)]: Done 2410 tasks      | elapsed:   16.4s\n",
      "[Parallel(n_jobs=-1)]: Done 3160 tasks      | elapsed:   21.4s\n",
      "[Parallel(n_jobs=-1)]: Done 4010 tasks      | elapsed:   27.1s\n",
      "[Parallel(n_jobs=-1)]: Done 4960 tasks      | elapsed:   33.5s\n",
      "[Parallel(n_jobs=-1)]: Done 6010 tasks      | elapsed:   40.4s\n",
      "[Parallel(n_jobs=-1)]: Done 7160 tasks      | elapsed:   48.1s\n",
      "[Parallel(n_jobs=-1)]: Done 8410 tasks      | elapsed:   56.4s\n",
      "[Parallel(n_jobs=-1)]: Done 9760 tasks      | elapsed:  1.1min\n",
      "[Parallel(n_jobs=-1)]: Done 10000 out of 10000 | elapsed:  1.1min finished\n",
      "[Parallel(n_jobs=20)]: Using backend ThreadingBackend with 20 concurrent workers.\n",
      "[Parallel(n_jobs=20)]: Done  10 tasks      | elapsed:    0.0s\n",
      "[Parallel(n_jobs=20)]: Done 160 tasks      | elapsed:    0.1s\n"
     ]
    },
    {
     "name": "stdout",
     "output_type": "stream",
     "text": [
      "done in 70.246s.\n"
     ]
    },
    {
     "name": "stderr",
     "output_type": "stream",
     "text": [
      "[Parallel(n_jobs=20)]: Done 410 tasks      | elapsed:    0.2s\n",
      "[Parallel(n_jobs=20)]: Done 760 tasks      | elapsed:    0.3s\n",
      "[Parallel(n_jobs=20)]: Done 1210 tasks      | elapsed:    0.4s\n",
      "[Parallel(n_jobs=20)]: Done 1760 tasks      | elapsed:    0.6s\n",
      "[Parallel(n_jobs=20)]: Done 2410 tasks      | elapsed:    0.8s\n",
      "[Parallel(n_jobs=20)]: Done 3160 tasks      | elapsed:    1.1s\n",
      "[Parallel(n_jobs=20)]: Done 4010 tasks      | elapsed:    1.4s\n",
      "[Parallel(n_jobs=20)]: Done 4960 tasks      | elapsed:    1.7s\n",
      "[Parallel(n_jobs=20)]: Done 6010 tasks      | elapsed:    2.1s\n",
      "[Parallel(n_jobs=20)]: Done 7160 tasks      | elapsed:    2.5s\n",
      "[Parallel(n_jobs=20)]: Done 8410 tasks      | elapsed:    2.9s\n",
      "[Parallel(n_jobs=20)]: Done 9760 tasks      | elapsed:    3.4s\n",
      "[Parallel(n_jobs=20)]: Done 10000 out of 10000 | elapsed:    3.4s finished\n"
     ]
    },
    {
     "name": "stdout",
     "output_type": "stream",
     "text": [
      "accuracy：0.50547\n",
      "precision_avg: 0.64713\n",
      "recall_avg: 0.50547\n",
      "f1_score_avg: 0.55231\n",
      "n_estimator = 10000\n",
      "max_depth = 10\n",
      "min_samples_split = 50\n",
      "min_samples_leaf = 20\n"
     ]
    },
    {
     "name": "stderr",
     "output_type": "stream",
     "text": [
      "[Parallel(n_jobs=-1)]: Using backend ThreadingBackend with 20 concurrent workers.\n",
      "[Parallel(n_jobs=-1)]: Done  10 tasks      | elapsed:    0.2s\n",
      "[Parallel(n_jobs=-1)]: Done 160 tasks      | elapsed:    1.2s\n",
      "[Parallel(n_jobs=-1)]: Done 410 tasks      | elapsed:    2.9s\n",
      "[Parallel(n_jobs=-1)]: Done 760 tasks      | elapsed:    5.2s\n",
      "[Parallel(n_jobs=-1)]: Done 1210 tasks      | elapsed:    8.3s\n",
      "[Parallel(n_jobs=-1)]: Done 1760 tasks      | elapsed:   11.9s\n",
      "[Parallel(n_jobs=-1)]: Done 2410 tasks      | elapsed:   16.3s\n",
      "[Parallel(n_jobs=-1)]: Done 3160 tasks      | elapsed:   21.2s\n",
      "[Parallel(n_jobs=-1)]: Done 4010 tasks      | elapsed:   26.8s\n",
      "[Parallel(n_jobs=-1)]: Done 4960 tasks      | elapsed:   33.1s\n",
      "[Parallel(n_jobs=-1)]: Done 6010 tasks      | elapsed:   40.0s\n",
      "[Parallel(n_jobs=-1)]: Done 7160 tasks      | elapsed:   47.7s\n",
      "[Parallel(n_jobs=-1)]: Done 8410 tasks      | elapsed:   56.0s\n",
      "[Parallel(n_jobs=-1)]: Done 9760 tasks      | elapsed:  1.1min\n",
      "[Parallel(n_jobs=-1)]: Done 10000 out of 10000 | elapsed:  1.1min finished\n",
      "[Parallel(n_jobs=20)]: Using backend ThreadingBackend with 20 concurrent workers.\n",
      "[Parallel(n_jobs=20)]: Done  10 tasks      | elapsed:    0.0s\n",
      "[Parallel(n_jobs=20)]: Done 160 tasks      | elapsed:    0.1s\n"
     ]
    },
    {
     "name": "stdout",
     "output_type": "stream",
     "text": [
      "done in 70.199s.\n"
     ]
    },
    {
     "name": "stderr",
     "output_type": "stream",
     "text": [
      "[Parallel(n_jobs=20)]: Done 410 tasks      | elapsed:    0.2s\n",
      "[Parallel(n_jobs=20)]: Done 760 tasks      | elapsed:    0.3s\n",
      "[Parallel(n_jobs=20)]: Done 1210 tasks      | elapsed:    0.4s\n",
      "[Parallel(n_jobs=20)]: Done 1760 tasks      | elapsed:    0.6s\n",
      "[Parallel(n_jobs=20)]: Done 2410 tasks      | elapsed:    0.8s\n",
      "[Parallel(n_jobs=20)]: Done 3160 tasks      | elapsed:    1.1s\n",
      "[Parallel(n_jobs=20)]: Done 4010 tasks      | elapsed:    1.3s\n",
      "[Parallel(n_jobs=20)]: Done 4960 tasks      | elapsed:    1.7s\n",
      "[Parallel(n_jobs=20)]: Done 6010 tasks      | elapsed:    2.0s\n",
      "[Parallel(n_jobs=20)]: Done 7160 tasks      | elapsed:    2.4s\n",
      "[Parallel(n_jobs=20)]: Done 8410 tasks      | elapsed:    2.8s\n",
      "[Parallel(n_jobs=20)]: Done 9760 tasks      | elapsed:    3.3s\n",
      "[Parallel(n_jobs=20)]: Done 10000 out of 10000 | elapsed:    3.4s finished\n"
     ]
    },
    {
     "name": "stdout",
     "output_type": "stream",
     "text": [
      "accuracy：0.50320\n",
      "precision_avg: 0.64769\n",
      "recall_avg: 0.50320\n",
      "f1_score_avg: 0.55075\n",
      "n_estimator = 10000\n",
      "max_depth = 20\n",
      "min_samples_split = 2\n",
      "min_samples_leaf = 1\n"
     ]
    },
    {
     "name": "stderr",
     "output_type": "stream",
     "text": [
      "[Parallel(n_jobs=-1)]: Using backend ThreadingBackend with 20 concurrent workers.\n",
      "[Parallel(n_jobs=-1)]: Done  10 tasks      | elapsed:    0.6s\n",
      "[Parallel(n_jobs=-1)]: Done 160 tasks      | elapsed:    4.7s\n",
      "[Parallel(n_jobs=-1)]: Done 410 tasks      | elapsed:   11.5s\n",
      "[Parallel(n_jobs=-1)]: Done 760 tasks      | elapsed:   20.8s\n",
      "[Parallel(n_jobs=-1)]: Done 1210 tasks      | elapsed:   33.0s\n",
      "[Parallel(n_jobs=-1)]: Done 1760 tasks      | elapsed:   47.7s\n",
      "[Parallel(n_jobs=-1)]: Done 2410 tasks      | elapsed:  1.1min\n",
      "[Parallel(n_jobs=-1)]: Done 3160 tasks      | elapsed:  1.4min\n",
      "[Parallel(n_jobs=-1)]: Done 4010 tasks      | elapsed:  1.8min\n",
      "[Parallel(n_jobs=-1)]: Done 4960 tasks      | elapsed:  2.2min\n",
      "[Parallel(n_jobs=-1)]: Done 6010 tasks      | elapsed:  2.7min\n",
      "[Parallel(n_jobs=-1)]: Done 7160 tasks      | elapsed:  3.2min\n",
      "[Parallel(n_jobs=-1)]: Done 8410 tasks      | elapsed:  3.7min\n",
      "[Parallel(n_jobs=-1)]: Done 9760 tasks      | elapsed:  4.3min\n",
      "[Parallel(n_jobs=-1)]: Done 10000 out of 10000 | elapsed:  4.5min finished\n",
      "[Parallel(n_jobs=20)]: Using backend ThreadingBackend with 20 concurrent workers.\n",
      "[Parallel(n_jobs=20)]: Done  10 tasks      | elapsed:    0.0s\n",
      "[Parallel(n_jobs=20)]: Done 160 tasks      | elapsed:    0.1s\n"
     ]
    },
    {
     "name": "stdout",
     "output_type": "stream",
     "text": [
      "done in 270.494s.\n"
     ]
    },
    {
     "name": "stderr",
     "output_type": "stream",
     "text": [
      "[Parallel(n_jobs=20)]: Done 410 tasks      | elapsed:    0.2s\n",
      "[Parallel(n_jobs=20)]: Done 760 tasks      | elapsed:    0.3s\n",
      "[Parallel(n_jobs=20)]: Done 1210 tasks      | elapsed:    0.4s\n",
      "[Parallel(n_jobs=20)]: Done 1760 tasks      | elapsed:    0.6s\n",
      "[Parallel(n_jobs=20)]: Done 2410 tasks      | elapsed:    0.8s\n",
      "[Parallel(n_jobs=20)]: Done 3160 tasks      | elapsed:    1.1s\n",
      "[Parallel(n_jobs=20)]: Done 4010 tasks      | elapsed:    1.4s\n",
      "[Parallel(n_jobs=20)]: Done 4960 tasks      | elapsed:    1.8s\n",
      "[Parallel(n_jobs=20)]: Done 6010 tasks      | elapsed:    2.2s\n",
      "[Parallel(n_jobs=20)]: Done 7160 tasks      | elapsed:    2.6s\n",
      "[Parallel(n_jobs=20)]: Done 8410 tasks      | elapsed:    3.1s\n",
      "[Parallel(n_jobs=20)]: Done 9760 tasks      | elapsed:    3.5s\n",
      "[Parallel(n_jobs=20)]: Done 10000 out of 10000 | elapsed:    3.6s finished\n"
     ]
    },
    {
     "name": "stdout",
     "output_type": "stream",
     "text": [
      "accuracy：0.58273\n",
      "precision_avg: 0.64717\n",
      "recall_avg: 0.58273\n",
      "f1_score_avg: 0.60506\n",
      "n_estimator = 10000\n",
      "max_depth = 20\n",
      "min_samples_split = 10\n",
      "min_samples_leaf = 1\n"
     ]
    },
    {
     "name": "stderr",
     "output_type": "stream",
     "text": [
      "[Parallel(n_jobs=-1)]: Using backend ThreadingBackend with 20 concurrent workers.\n",
      "[Parallel(n_jobs=-1)]: Done  10 tasks      | elapsed:    0.6s\n",
      "[Parallel(n_jobs=-1)]: Done 160 tasks      | elapsed:    4.3s\n",
      "[Parallel(n_jobs=-1)]: Done 410 tasks      | elapsed:   10.4s\n",
      "[Parallel(n_jobs=-1)]: Done 760 tasks      | elapsed:   18.9s\n",
      "[Parallel(n_jobs=-1)]: Done 1210 tasks      | elapsed:   29.9s\n",
      "[Parallel(n_jobs=-1)]: Done 1760 tasks      | elapsed:   43.1s\n",
      "[Parallel(n_jobs=-1)]: Done 2410 tasks      | elapsed:   58.8s\n",
      "[Parallel(n_jobs=-1)]: Done 3160 tasks      | elapsed:  1.3min\n",
      "[Parallel(n_jobs=-1)]: Done 4010 tasks      | elapsed:  1.6min\n",
      "[Parallel(n_jobs=-1)]: Done 4960 tasks      | elapsed:  2.0min\n",
      "[Parallel(n_jobs=-1)]: Done 6010 tasks      | elapsed:  2.4min\n",
      "[Parallel(n_jobs=-1)]: Done 7160 tasks      | elapsed:  2.9min\n",
      "[Parallel(n_jobs=-1)]: Done 8410 tasks      | elapsed:  3.4min\n",
      "[Parallel(n_jobs=-1)]: Done 9760 tasks      | elapsed:  3.9min\n",
      "[Parallel(n_jobs=-1)]: Done 10000 out of 10000 | elapsed:  4.0min finished\n",
      "[Parallel(n_jobs=20)]: Using backend ThreadingBackend with 20 concurrent workers.\n",
      "[Parallel(n_jobs=20)]: Done  10 tasks      | elapsed:    0.0s\n",
      "[Parallel(n_jobs=20)]: Done 160 tasks      | elapsed:    0.1s\n"
     ]
    },
    {
     "name": "stdout",
     "output_type": "stream",
     "text": [
      "done in 245.332s.\n"
     ]
    },
    {
     "name": "stderr",
     "output_type": "stream",
     "text": [
      "[Parallel(n_jobs=20)]: Done 410 tasks      | elapsed:    0.2s\n",
      "[Parallel(n_jobs=20)]: Done 760 tasks      | elapsed:    0.3s\n",
      "[Parallel(n_jobs=20)]: Done 1210 tasks      | elapsed:    0.4s\n",
      "[Parallel(n_jobs=20)]: Done 1760 tasks      | elapsed:    0.6s\n",
      "[Parallel(n_jobs=20)]: Done 2410 tasks      | elapsed:    0.8s\n",
      "[Parallel(n_jobs=20)]: Done 3160 tasks      | elapsed:    1.1s\n",
      "[Parallel(n_jobs=20)]: Done 4010 tasks      | elapsed:    1.4s\n",
      "[Parallel(n_jobs=20)]: Done 4960 tasks      | elapsed:    1.7s\n",
      "[Parallel(n_jobs=20)]: Done 6010 tasks      | elapsed:    2.1s\n",
      "[Parallel(n_jobs=20)]: Done 7160 tasks      | elapsed:    2.5s\n",
      "[Parallel(n_jobs=20)]: Done 8410 tasks      | elapsed:    2.9s\n",
      "[Parallel(n_jobs=20)]: Done 9760 tasks      | elapsed:    3.4s\n",
      "[Parallel(n_jobs=20)]: Done 10000 out of 10000 | elapsed:    3.5s finished\n"
     ]
    },
    {
     "name": "stdout",
     "output_type": "stream",
     "text": [
      "accuracy：0.57233\n",
      "precision_avg: 0.64953\n",
      "recall_avg: 0.57233\n",
      "f1_score_avg: 0.59961\n",
      "n_estimator = 10000\n",
      "max_depth = 20\n",
      "min_samples_split = 10\n",
      "min_samples_leaf = 5\n"
     ]
    },
    {
     "name": "stderr",
     "output_type": "stream",
     "text": [
      "[Parallel(n_jobs=-1)]: Using backend ThreadingBackend with 20 concurrent workers.\n",
      "[Parallel(n_jobs=-1)]: Done  10 tasks      | elapsed:    0.5s\n",
      "[Parallel(n_jobs=-1)]: Done 160 tasks      | elapsed:    3.8s\n",
      "[Parallel(n_jobs=-1)]: Done 410 tasks      | elapsed:    9.4s\n",
      "[Parallel(n_jobs=-1)]: Done 760 tasks      | elapsed:   17.1s\n",
      "[Parallel(n_jobs=-1)]: Done 1210 tasks      | elapsed:   27.1s\n",
      "[Parallel(n_jobs=-1)]: Done 1760 tasks      | elapsed:   39.2s\n",
      "[Parallel(n_jobs=-1)]: Done 2410 tasks      | elapsed:   53.5s\n",
      "[Parallel(n_jobs=-1)]: Done 3160 tasks      | elapsed:  1.2min\n",
      "[Parallel(n_jobs=-1)]: Done 4010 tasks      | elapsed:  1.5min\n",
      "[Parallel(n_jobs=-1)]: Done 4960 tasks      | elapsed:  1.8min\n",
      "[Parallel(n_jobs=-1)]: Done 6010 tasks      | elapsed:  2.2min\n",
      "[Parallel(n_jobs=-1)]: Done 7160 tasks      | elapsed:  2.6min\n",
      "[Parallel(n_jobs=-1)]: Done 8410 tasks      | elapsed:  3.1min\n",
      "[Parallel(n_jobs=-1)]: Done 9760 tasks      | elapsed:  3.6min\n",
      "[Parallel(n_jobs=-1)]: Done 10000 out of 10000 | elapsed:  3.7min finished\n",
      "[Parallel(n_jobs=20)]: Using backend ThreadingBackend with 20 concurrent workers.\n",
      "[Parallel(n_jobs=20)]: Done  10 tasks      | elapsed:    0.0s\n",
      "[Parallel(n_jobs=20)]: Done 160 tasks      | elapsed:    0.1s\n",
      "[Parallel(n_jobs=20)]: Done 410 tasks      | elapsed:    0.2s\n"
     ]
    },
    {
     "name": "stdout",
     "output_type": "stream",
     "text": [
      "done in 223.167s.\n"
     ]
    },
    {
     "name": "stderr",
     "output_type": "stream",
     "text": [
      "[Parallel(n_jobs=20)]: Done 760 tasks      | elapsed:    0.3s\n",
      "[Parallel(n_jobs=20)]: Done 1210 tasks      | elapsed:    0.4s\n",
      "[Parallel(n_jobs=20)]: Done 1760 tasks      | elapsed:    0.6s\n",
      "[Parallel(n_jobs=20)]: Done 2410 tasks      | elapsed:    0.9s\n",
      "[Parallel(n_jobs=20)]: Done 3160 tasks      | elapsed:    1.1s\n",
      "[Parallel(n_jobs=20)]: Done 4010 tasks      | elapsed:    1.4s\n",
      "[Parallel(n_jobs=20)]: Done 4960 tasks      | elapsed:    1.7s\n",
      "[Parallel(n_jobs=20)]: Done 6010 tasks      | elapsed:    2.0s\n",
      "[Parallel(n_jobs=20)]: Done 7160 tasks      | elapsed:    2.4s\n",
      "[Parallel(n_jobs=20)]: Done 8410 tasks      | elapsed:    2.8s\n",
      "[Parallel(n_jobs=20)]: Done 9760 tasks      | elapsed:    3.2s\n",
      "[Parallel(n_jobs=20)]: Done 10000 out of 10000 | elapsed:    3.3s finished\n"
     ]
    },
    {
     "name": "stdout",
     "output_type": "stream",
     "text": [
      "accuracy：0.55920\n",
      "precision_avg: 0.65370\n",
      "recall_avg: 0.55920\n",
      "f1_score_avg: 0.59227\n",
      "n_estimator = 10000\n",
      "max_depth = 20\n",
      "min_samples_split = 50\n",
      "min_samples_leaf = 1\n"
     ]
    },
    {
     "name": "stderr",
     "output_type": "stream",
     "text": [
      "[Parallel(n_jobs=-1)]: Using backend ThreadingBackend with 20 concurrent workers.\n",
      "[Parallel(n_jobs=-1)]: Done  10 tasks      | elapsed:    0.5s\n",
      "[Parallel(n_jobs=-1)]: Done 160 tasks      | elapsed:    3.5s\n",
      "[Parallel(n_jobs=-1)]: Done 410 tasks      | elapsed:    8.8s\n",
      "[Parallel(n_jobs=-1)]: Done 760 tasks      | elapsed:   16.0s\n",
      "[Parallel(n_jobs=-1)]: Done 1210 tasks      | elapsed:   25.3s\n",
      "[Parallel(n_jobs=-1)]: Done 1760 tasks      | elapsed:   36.5s\n",
      "[Parallel(n_jobs=-1)]: Done 2410 tasks      | elapsed:   49.8s\n",
      "[Parallel(n_jobs=-1)]: Done 3160 tasks      | elapsed:  1.1min\n",
      "[Parallel(n_jobs=-1)]: Done 4010 tasks      | elapsed:  1.4min\n",
      "[Parallel(n_jobs=-1)]: Done 4960 tasks      | elapsed:  1.7min\n",
      "[Parallel(n_jobs=-1)]: Done 6010 tasks      | elapsed:  2.1min\n",
      "[Parallel(n_jobs=-1)]: Done 7160 tasks      | elapsed:  2.4min\n",
      "[Parallel(n_jobs=-1)]: Done 8410 tasks      | elapsed:  2.9min\n",
      "[Parallel(n_jobs=-1)]: Done 9760 tasks      | elapsed:  3.3min\n",
      "[Parallel(n_jobs=-1)]: Done 10000 out of 10000 | elapsed:  3.4min finished\n",
      "[Parallel(n_jobs=20)]: Using backend ThreadingBackend with 20 concurrent workers.\n",
      "[Parallel(n_jobs=20)]: Done  10 tasks      | elapsed:    0.0s\n",
      "[Parallel(n_jobs=20)]: Done 160 tasks      | elapsed:    0.1s\n",
      "[Parallel(n_jobs=20)]: Done 410 tasks      | elapsed:    0.2s\n"
     ]
    },
    {
     "name": "stdout",
     "output_type": "stream",
     "text": [
      "done in 208.218s.\n"
     ]
    },
    {
     "name": "stderr",
     "output_type": "stream",
     "text": [
      "[Parallel(n_jobs=20)]: Done 760 tasks      | elapsed:    0.3s\n",
      "[Parallel(n_jobs=20)]: Done 1210 tasks      | elapsed:    0.5s\n",
      "[Parallel(n_jobs=20)]: Done 1760 tasks      | elapsed:    0.6s\n",
      "[Parallel(n_jobs=20)]: Done 2410 tasks      | elapsed:    0.9s\n",
      "[Parallel(n_jobs=20)]: Done 3160 tasks      | elapsed:    1.1s\n",
      "[Parallel(n_jobs=20)]: Done 4010 tasks      | elapsed:    1.4s\n",
      "[Parallel(n_jobs=20)]: Done 4960 tasks      | elapsed:    1.8s\n",
      "[Parallel(n_jobs=20)]: Done 6010 tasks      | elapsed:    2.1s\n",
      "[Parallel(n_jobs=20)]: Done 7160 tasks      | elapsed:    2.5s\n",
      "[Parallel(n_jobs=20)]: Done 8410 tasks      | elapsed:    3.0s\n",
      "[Parallel(n_jobs=20)]: Done 9760 tasks      | elapsed:    3.4s\n",
      "[Parallel(n_jobs=20)]: Done 10000 out of 10000 | elapsed:    3.5s finished\n"
     ]
    },
    {
     "name": "stdout",
     "output_type": "stream",
     "text": [
      "accuracy：0.56133\n",
      "precision_avg: 0.65309\n",
      "recall_avg: 0.56133\n",
      "f1_score_avg: 0.59346\n",
      "n_estimator = 10000\n",
      "max_depth = 20\n",
      "min_samples_split = 50\n",
      "min_samples_leaf = 5\n"
     ]
    },
    {
     "name": "stderr",
     "output_type": "stream",
     "text": [
      "[Parallel(n_jobs=-1)]: Using backend ThreadingBackend with 20 concurrent workers.\n",
      "[Parallel(n_jobs=-1)]: Done  10 tasks      | elapsed:    0.5s\n",
      "[Parallel(n_jobs=-1)]: Done 160 tasks      | elapsed:    3.5s\n",
      "[Parallel(n_jobs=-1)]: Done 410 tasks      | elapsed:    8.5s\n",
      "[Parallel(n_jobs=-1)]: Done 760 tasks      | elapsed:   15.4s\n",
      "[Parallel(n_jobs=-1)]: Done 1210 tasks      | elapsed:   24.4s\n",
      "[Parallel(n_jobs=-1)]: Done 1760 tasks      | elapsed:   35.3s\n",
      "[Parallel(n_jobs=-1)]: Done 2410 tasks      | elapsed:   48.1s\n",
      "[Parallel(n_jobs=-1)]: Done 3160 tasks      | elapsed:  1.0min\n",
      "[Parallel(n_jobs=-1)]: Done 4010 tasks      | elapsed:  1.3min\n",
      "[Parallel(n_jobs=-1)]: Done 4960 tasks      | elapsed:  1.6min\n",
      "[Parallel(n_jobs=-1)]: Done 6010 tasks      | elapsed:  2.0min\n",
      "[Parallel(n_jobs=-1)]: Done 7160 tasks      | elapsed:  2.3min\n",
      "[Parallel(n_jobs=-1)]: Done 8410 tasks      | elapsed:  2.8min\n",
      "[Parallel(n_jobs=-1)]: Done 9760 tasks      | elapsed:  3.2min\n",
      "[Parallel(n_jobs=-1)]: Done 10000 out of 10000 | elapsed:  3.3min finished\n",
      "[Parallel(n_jobs=20)]: Using backend ThreadingBackend with 20 concurrent workers.\n",
      "[Parallel(n_jobs=20)]: Done  10 tasks      | elapsed:    0.0s\n",
      "[Parallel(n_jobs=20)]: Done 160 tasks      | elapsed:    0.1s\n",
      "[Parallel(n_jobs=20)]: Done 410 tasks      | elapsed:    0.2s\n"
     ]
    },
    {
     "name": "stdout",
     "output_type": "stream",
     "text": [
      "done in 199.536s.\n"
     ]
    },
    {
     "name": "stderr",
     "output_type": "stream",
     "text": [
      "[Parallel(n_jobs=20)]: Done 760 tasks      | elapsed:    0.3s\n",
      "[Parallel(n_jobs=20)]: Done 1210 tasks      | elapsed:    0.4s\n",
      "[Parallel(n_jobs=20)]: Done 1760 tasks      | elapsed:    0.6s\n",
      "[Parallel(n_jobs=20)]: Done 2410 tasks      | elapsed:    0.8s\n",
      "[Parallel(n_jobs=20)]: Done 3160 tasks      | elapsed:    1.1s\n",
      "[Parallel(n_jobs=20)]: Done 4010 tasks      | elapsed:    1.4s\n",
      "[Parallel(n_jobs=20)]: Done 4960 tasks      | elapsed:    1.7s\n",
      "[Parallel(n_jobs=20)]: Done 6010 tasks      | elapsed:    2.1s\n",
      "[Parallel(n_jobs=20)]: Done 7160 tasks      | elapsed:    2.5s\n",
      "[Parallel(n_jobs=20)]: Done 8410 tasks      | elapsed:    2.9s\n",
      "[Parallel(n_jobs=20)]: Done 9760 tasks      | elapsed:    3.3s\n",
      "[Parallel(n_jobs=20)]: Done 10000 out of 10000 | elapsed:    3.4s finished\n"
     ]
    },
    {
     "name": "stdout",
     "output_type": "stream",
     "text": [
      "accuracy：0.55593\n",
      "precision_avg: 0.65310\n",
      "recall_avg: 0.55593\n",
      "f1_score_avg: 0.58981\n",
      "n_estimator = 10000\n",
      "max_depth = 20\n",
      "min_samples_split = 50\n",
      "min_samples_leaf = 10\n"
     ]
    },
    {
     "name": "stderr",
     "output_type": "stream",
     "text": [
      "[Parallel(n_jobs=-1)]: Using backend ThreadingBackend with 20 concurrent workers.\n",
      "[Parallel(n_jobs=-1)]: Done  10 tasks      | elapsed:    0.4s\n",
      "[Parallel(n_jobs=-1)]: Done 160 tasks      | elapsed:    3.4s\n",
      "[Parallel(n_jobs=-1)]: Done 410 tasks      | elapsed:    8.1s\n",
      "[Parallel(n_jobs=-1)]: Done 760 tasks      | elapsed:   14.7s\n",
      "[Parallel(n_jobs=-1)]: Done 1210 tasks      | elapsed:   23.2s\n",
      "[Parallel(n_jobs=-1)]: Done 1760 tasks      | elapsed:   33.5s\n",
      "[Parallel(n_jobs=-1)]: Done 2410 tasks      | elapsed:   45.5s\n",
      "[Parallel(n_jobs=-1)]: Done 3160 tasks      | elapsed:   59.5s\n",
      "[Parallel(n_jobs=-1)]: Done 4010 tasks      | elapsed:  1.3min\n",
      "[Parallel(n_jobs=-1)]: Done 4960 tasks      | elapsed:  1.5min\n",
      "[Parallel(n_jobs=-1)]: Done 6010 tasks      | elapsed:  1.9min\n",
      "[Parallel(n_jobs=-1)]: Done 7160 tasks      | elapsed:  2.2min\n",
      "[Parallel(n_jobs=-1)]: Done 8410 tasks      | elapsed:  2.6min\n",
      "[Parallel(n_jobs=-1)]: Done 9760 tasks      | elapsed:  3.0min\n",
      "[Parallel(n_jobs=-1)]: Done 10000 out of 10000 | elapsed:  3.1min finished\n",
      "[Parallel(n_jobs=20)]: Using backend ThreadingBackend with 20 concurrent workers.\n",
      "[Parallel(n_jobs=20)]: Done  10 tasks      | elapsed:    0.0s\n",
      "[Parallel(n_jobs=20)]: Done 160 tasks      | elapsed:    0.1s\n"
     ]
    },
    {
     "name": "stdout",
     "output_type": "stream",
     "text": [
      "done in 189.723s.\n"
     ]
    },
    {
     "name": "stderr",
     "output_type": "stream",
     "text": [
      "[Parallel(n_jobs=20)]: Done 410 tasks      | elapsed:    0.2s\n",
      "[Parallel(n_jobs=20)]: Done 760 tasks      | elapsed:    0.3s\n",
      "[Parallel(n_jobs=20)]: Done 1210 tasks      | elapsed:    0.5s\n",
      "[Parallel(n_jobs=20)]: Done 1760 tasks      | elapsed:    0.7s\n",
      "[Parallel(n_jobs=20)]: Done 2410 tasks      | elapsed:    0.9s\n",
      "[Parallel(n_jobs=20)]: Done 3160 tasks      | elapsed:    1.1s\n",
      "[Parallel(n_jobs=20)]: Done 4010 tasks      | elapsed:    1.4s\n",
      "[Parallel(n_jobs=20)]: Done 4960 tasks      | elapsed:    1.8s\n",
      "[Parallel(n_jobs=20)]: Done 6010 tasks      | elapsed:    2.1s\n",
      "[Parallel(n_jobs=20)]: Done 7160 tasks      | elapsed:    2.5s\n",
      "[Parallel(n_jobs=20)]: Done 8410 tasks      | elapsed:    2.9s\n",
      "[Parallel(n_jobs=20)]: Done 9760 tasks      | elapsed:    3.4s\n",
      "[Parallel(n_jobs=20)]: Done 10000 out of 10000 | elapsed:    3.4s finished\n"
     ]
    },
    {
     "name": "stdout",
     "output_type": "stream",
     "text": [
      "accuracy：0.54980\n",
      "precision_avg: 0.65320\n",
      "recall_avg: 0.54980\n",
      "f1_score_avg: 0.58541\n",
      "n_estimator = 10000\n",
      "max_depth = 20\n",
      "min_samples_split = 50\n",
      "min_samples_leaf = 20\n"
     ]
    },
    {
     "name": "stderr",
     "output_type": "stream",
     "text": [
      "[Parallel(n_jobs=-1)]: Using backend ThreadingBackend with 20 concurrent workers.\n",
      "[Parallel(n_jobs=-1)]: Done  10 tasks      | elapsed:    0.4s\n",
      "[Parallel(n_jobs=-1)]: Done 160 tasks      | elapsed:    3.0s\n",
      "[Parallel(n_jobs=-1)]: Done 410 tasks      | elapsed:    7.3s\n",
      "[Parallel(n_jobs=-1)]: Done 760 tasks      | elapsed:   13.3s\n",
      "[Parallel(n_jobs=-1)]: Done 1210 tasks      | elapsed:   21.1s\n",
      "[Parallel(n_jobs=-1)]: Done 1760 tasks      | elapsed:   30.6s\n",
      "[Parallel(n_jobs=-1)]: Done 2410 tasks      | elapsed:   41.7s\n",
      "[Parallel(n_jobs=-1)]: Done 3160 tasks      | elapsed:   54.3s\n",
      "[Parallel(n_jobs=-1)]: Done 4010 tasks      | elapsed:  1.1min\n",
      "[Parallel(n_jobs=-1)]: Done 4960 tasks      | elapsed:  1.4min\n",
      "[Parallel(n_jobs=-1)]: Done 6010 tasks      | elapsed:  1.7min\n",
      "[Parallel(n_jobs=-1)]: Done 7160 tasks      | elapsed:  2.0min\n",
      "[Parallel(n_jobs=-1)]: Done 8410 tasks      | elapsed:  2.4min\n",
      "[Parallel(n_jobs=-1)]: Done 9760 tasks      | elapsed:  2.8min\n",
      "[Parallel(n_jobs=-1)]: Done 10000 out of 10000 | elapsed:  2.9min finished\n",
      "[Parallel(n_jobs=20)]: Using backend ThreadingBackend with 20 concurrent workers.\n",
      "[Parallel(n_jobs=20)]: Done  10 tasks      | elapsed:    0.0s\n",
      "[Parallel(n_jobs=20)]: Done 160 tasks      | elapsed:    0.1s\n"
     ]
    },
    {
     "name": "stdout",
     "output_type": "stream",
     "text": [
      "done in 174.347s.\n"
     ]
    },
    {
     "name": "stderr",
     "output_type": "stream",
     "text": [
      "[Parallel(n_jobs=20)]: Done 410 tasks      | elapsed:    0.2s\n",
      "[Parallel(n_jobs=20)]: Done 760 tasks      | elapsed:    0.3s\n",
      "[Parallel(n_jobs=20)]: Done 1210 tasks      | elapsed:    0.4s\n",
      "[Parallel(n_jobs=20)]: Done 1760 tasks      | elapsed:    0.6s\n",
      "[Parallel(n_jobs=20)]: Done 2410 tasks      | elapsed:    0.9s\n",
      "[Parallel(n_jobs=20)]: Done 3160 tasks      | elapsed:    1.1s\n",
      "[Parallel(n_jobs=20)]: Done 4010 tasks      | elapsed:    1.4s\n",
      "[Parallel(n_jobs=20)]: Done 4960 tasks      | elapsed:    1.7s\n",
      "[Parallel(n_jobs=20)]: Done 6010 tasks      | elapsed:    2.1s\n",
      "[Parallel(n_jobs=20)]: Done 7160 tasks      | elapsed:    2.5s\n",
      "[Parallel(n_jobs=20)]: Done 8410 tasks      | elapsed:    3.0s\n",
      "[Parallel(n_jobs=20)]: Done 9760 tasks      | elapsed:    3.4s\n",
      "[Parallel(n_jobs=20)]: Done 10000 out of 10000 | elapsed:    3.5s finished\n"
     ]
    },
    {
     "name": "stdout",
     "output_type": "stream",
     "text": [
      "accuracy：0.54247\n",
      "precision_avg: 0.65223\n",
      "recall_avg: 0.54247\n",
      "f1_score_avg: 0.57975\n",
      "n_estimator = 10000\n",
      "max_depth = 50\n",
      "min_samples_split = 2\n",
      "min_samples_leaf = 1\n"
     ]
    },
    {
     "name": "stderr",
     "output_type": "stream",
     "text": [
      "[Parallel(n_jobs=-1)]: Using backend ThreadingBackend with 20 concurrent workers.\n",
      "[Parallel(n_jobs=-1)]: Done  10 tasks      | elapsed:    3.0s\n",
      "[Parallel(n_jobs=-1)]: Done 160 tasks      | elapsed:   24.6s\n",
      "[Parallel(n_jobs=-1)]: Done 410 tasks      | elapsed:  1.0min\n",
      "[Parallel(n_jobs=-1)]: Done 760 tasks      | elapsed:  1.9min\n",
      "[Parallel(n_jobs=-1)]: Done 1210 tasks      | elapsed:  3.0min\n",
      "[Parallel(n_jobs=-1)]: Done 1760 tasks      | elapsed:  4.3min\n",
      "[Parallel(n_jobs=-1)]: Done 2410 tasks      | elapsed:  5.8min\n",
      "[Parallel(n_jobs=-1)]: Done 3160 tasks      | elapsed:  7.6min\n",
      "[Parallel(n_jobs=-1)]: Done 4010 tasks      | elapsed:  9.7min\n",
      "[Parallel(n_jobs=-1)]: Done 4960 tasks      | elapsed: 11.9min\n",
      "[Parallel(n_jobs=-1)]: Done 6010 tasks      | elapsed: 14.4min\n",
      "[Parallel(n_jobs=-1)]: Done 7160 tasks      | elapsed: 17.2min\n",
      "[Parallel(n_jobs=-1)]: Done 8410 tasks      | elapsed: 20.1min\n",
      "[Parallel(n_jobs=-1)]: Done 9760 tasks      | elapsed: 23.4min\n",
      "[Parallel(n_jobs=-1)]: Done 10000 out of 10000 | elapsed: 23.9min finished\n",
      "[Parallel(n_jobs=20)]: Using backend ThreadingBackend with 20 concurrent workers.\n",
      "[Parallel(n_jobs=20)]: Done  10 tasks      | elapsed:    0.0s\n",
      "[Parallel(n_jobs=20)]: Done 160 tasks      | elapsed:    0.1s\n"
     ]
    },
    {
     "name": "stdout",
     "output_type": "stream",
     "text": [
      "done in 1439.019s.\n"
     ]
    },
    {
     "name": "stderr",
     "output_type": "stream",
     "text": [
      "[Parallel(n_jobs=20)]: Done 410 tasks      | elapsed:    0.2s\n",
      "[Parallel(n_jobs=20)]: Done 760 tasks      | elapsed:    0.4s\n",
      "[Parallel(n_jobs=20)]: Done 1210 tasks      | elapsed:    0.7s\n",
      "[Parallel(n_jobs=20)]: Done 1760 tasks      | elapsed:    1.0s\n",
      "[Parallel(n_jobs=20)]: Done 2410 tasks      | elapsed:    1.5s\n",
      "[Parallel(n_jobs=20)]: Done 3160 tasks      | elapsed:    1.9s\n",
      "[Parallel(n_jobs=20)]: Done 4010 tasks      | elapsed:    2.5s\n",
      "[Parallel(n_jobs=20)]: Done 4960 tasks      | elapsed:    3.2s\n",
      "[Parallel(n_jobs=20)]: Done 6010 tasks      | elapsed:    3.8s\n",
      "[Parallel(n_jobs=20)]: Done 7160 tasks      | elapsed:    4.7s\n",
      "[Parallel(n_jobs=20)]: Done 8410 tasks      | elapsed:    5.5s\n",
      "[Parallel(n_jobs=20)]: Done 9760 tasks      | elapsed:    6.3s\n",
      "[Parallel(n_jobs=20)]: Done 10000 out of 10000 | elapsed:    6.5s finished\n"
     ]
    },
    {
     "name": "stdout",
     "output_type": "stream",
     "text": [
      "accuracy：0.67347\n",
      "precision_avg: 0.63559\n",
      "recall_avg: 0.67347\n",
      "f1_score_avg: 0.61427\n",
      "n_estimator = 10000\n",
      "max_depth = 50\n",
      "min_samples_split = 10\n",
      "min_samples_leaf = 1\n"
     ]
    },
    {
     "name": "stderr",
     "output_type": "stream",
     "text": [
      "[Parallel(n_jobs=-1)]: Using backend ThreadingBackend with 20 concurrent workers.\n",
      "[Parallel(n_jobs=-1)]: Done  10 tasks      | elapsed:    2.7s\n",
      "[Parallel(n_jobs=-1)]: Done 160 tasks      | elapsed:   21.9s\n",
      "[Parallel(n_jobs=-1)]: Done 410 tasks      | elapsed:   54.7s\n",
      "[Parallel(n_jobs=-1)]: Done 760 tasks      | elapsed:  1.7min\n",
      "[Parallel(n_jobs=-1)]: Done 1210 tasks      | elapsed:  2.6min\n",
      "[Parallel(n_jobs=-1)]: Done 1760 tasks      | elapsed:  3.8min\n",
      "[Parallel(n_jobs=-1)]: Done 2410 tasks      | elapsed:  5.2min\n",
      "[Parallel(n_jobs=-1)]: Done 3160 tasks      | elapsed:  6.8min\n",
      "[Parallel(n_jobs=-1)]: Done 4010 tasks      | elapsed:  8.6min\n",
      "[Parallel(n_jobs=-1)]: Done 4960 tasks      | elapsed: 10.7min\n",
      "[Parallel(n_jobs=-1)]: Done 6010 tasks      | elapsed: 12.9min\n",
      "[Parallel(n_jobs=-1)]: Done 7160 tasks      | elapsed: 15.4min\n",
      "[Parallel(n_jobs=-1)]: Done 8410 tasks      | elapsed: 18.0min\n",
      "[Parallel(n_jobs=-1)]: Done 9760 tasks      | elapsed: 20.9min\n",
      "[Parallel(n_jobs=-1)]: Done 10000 out of 10000 | elapsed: 21.4min finished\n",
      "[Parallel(n_jobs=20)]: Using backend ThreadingBackend with 20 concurrent workers.\n",
      "[Parallel(n_jobs=20)]: Done  10 tasks      | elapsed:    0.0s\n",
      "[Parallel(n_jobs=20)]: Done 160 tasks      | elapsed:    0.1s\n"
     ]
    },
    {
     "name": "stdout",
     "output_type": "stream",
     "text": [
      "done in 1289.215s.\n"
     ]
    },
    {
     "name": "stderr",
     "output_type": "stream",
     "text": [
      "[Parallel(n_jobs=20)]: Done 410 tasks      | elapsed:    0.2s\n",
      "[Parallel(n_jobs=20)]: Done 760 tasks      | elapsed:    0.3s\n",
      "[Parallel(n_jobs=20)]: Done 1210 tasks      | elapsed:    0.6s\n",
      "[Parallel(n_jobs=20)]: Done 1760 tasks      | elapsed:    0.8s\n",
      "[Parallel(n_jobs=20)]: Done 2410 tasks      | elapsed:    1.2s\n",
      "[Parallel(n_jobs=20)]: Done 3160 tasks      | elapsed:    1.5s\n",
      "[Parallel(n_jobs=20)]: Done 4010 tasks      | elapsed:    1.9s\n",
      "[Parallel(n_jobs=20)]: Done 4960 tasks      | elapsed:    2.3s\n",
      "[Parallel(n_jobs=20)]: Done 6010 tasks      | elapsed:    2.8s\n",
      "[Parallel(n_jobs=20)]: Done 7160 tasks      | elapsed:    3.2s\n",
      "[Parallel(n_jobs=20)]: Done 8410 tasks      | elapsed:    3.7s\n",
      "[Parallel(n_jobs=20)]: Done 9760 tasks      | elapsed:    4.2s\n",
      "[Parallel(n_jobs=20)]: Done 10000 out of 10000 | elapsed:    4.3s finished\n"
     ]
    },
    {
     "name": "stdout",
     "output_type": "stream",
     "text": [
      "accuracy：0.67220\n",
      "precision_avg: 0.64359\n",
      "recall_avg: 0.67220\n",
      "f1_score_avg: 0.63957\n",
      "n_estimator = 10000\n",
      "max_depth = 50\n",
      "min_samples_split = 10\n",
      "min_samples_leaf = 5\n"
     ]
    },
    {
     "name": "stderr",
     "output_type": "stream",
     "text": [
      "[Parallel(n_jobs=-1)]: Using backend ThreadingBackend with 20 concurrent workers.\n",
      "[Parallel(n_jobs=-1)]: Done  10 tasks      | elapsed:    2.0s\n",
      "[Parallel(n_jobs=-1)]: Done 160 tasks      | elapsed:   16.0s\n",
      "[Parallel(n_jobs=-1)]: Done 410 tasks      | elapsed:   40.3s\n",
      "[Parallel(n_jobs=-1)]: Done 760 tasks      | elapsed:  1.2min\n",
      "[Parallel(n_jobs=-1)]: Done 1210 tasks      | elapsed:  1.9min\n",
      "[Parallel(n_jobs=-1)]: Done 1760 tasks      | elapsed:  2.8min\n",
      "[Parallel(n_jobs=-1)]: Done 2410 tasks      | elapsed:  3.8min\n",
      "[Parallel(n_jobs=-1)]: Done 3160 tasks      | elapsed:  5.0min\n",
      "[Parallel(n_jobs=-1)]: Done 4010 tasks      | elapsed:  6.4min\n",
      "[Parallel(n_jobs=-1)]: Done 4960 tasks      | elapsed:  7.9min\n",
      "[Parallel(n_jobs=-1)]: Done 6010 tasks      | elapsed:  9.5min\n",
      "[Parallel(n_jobs=-1)]: Done 7160 tasks      | elapsed: 11.3min\n",
      "[Parallel(n_jobs=-1)]: Done 8410 tasks      | elapsed: 13.3min\n",
      "[Parallel(n_jobs=-1)]: Done 9760 tasks      | elapsed: 15.4min\n",
      "[Parallel(n_jobs=-1)]: Done 10000 out of 10000 | elapsed: 15.8min finished\n",
      "[Parallel(n_jobs=20)]: Using backend ThreadingBackend with 20 concurrent workers.\n",
      "[Parallel(n_jobs=20)]: Done  10 tasks      | elapsed:    0.0s\n",
      "[Parallel(n_jobs=20)]: Done 160 tasks      | elapsed:    0.1s\n"
     ]
    },
    {
     "name": "stdout",
     "output_type": "stream",
     "text": [
      "done in 952.247s.\n"
     ]
    },
    {
     "name": "stderr",
     "output_type": "stream",
     "text": [
      "[Parallel(n_jobs=20)]: Done 410 tasks      | elapsed:    0.2s\n",
      "[Parallel(n_jobs=20)]: Done 760 tasks      | elapsed:    0.3s\n",
      "[Parallel(n_jobs=20)]: Done 1210 tasks      | elapsed:    0.4s\n",
      "[Parallel(n_jobs=20)]: Done 1760 tasks      | elapsed:    0.6s\n",
      "[Parallel(n_jobs=20)]: Done 2410 tasks      | elapsed:    0.9s\n",
      "[Parallel(n_jobs=20)]: Done 3160 tasks      | elapsed:    1.1s\n",
      "[Parallel(n_jobs=20)]: Done 4010 tasks      | elapsed:    1.5s\n",
      "[Parallel(n_jobs=20)]: Done 4960 tasks      | elapsed:    1.8s\n",
      "[Parallel(n_jobs=20)]: Done 6010 tasks      | elapsed:    2.2s\n",
      "[Parallel(n_jobs=20)]: Done 7160 tasks      | elapsed:    2.6s\n",
      "[Parallel(n_jobs=20)]: Done 8410 tasks      | elapsed:    3.1s\n",
      "[Parallel(n_jobs=20)]: Done 9760 tasks      | elapsed:    3.6s\n",
      "[Parallel(n_jobs=20)]: Done 10000 out of 10000 | elapsed:    3.7s finished\n"
     ]
    },
    {
     "name": "stdout",
     "output_type": "stream",
     "text": [
      "accuracy：0.63960\n",
      "precision_avg: 0.65096\n",
      "recall_avg: 0.63960\n",
      "f1_score_avg: 0.64124\n",
      "n_estimator = 10000\n",
      "max_depth = 50\n",
      "min_samples_split = 50\n",
      "min_samples_leaf = 1\n"
     ]
    },
    {
     "name": "stderr",
     "output_type": "stream",
     "text": [
      "[Parallel(n_jobs=-1)]: Using backend ThreadingBackend with 20 concurrent workers.\n",
      "[Parallel(n_jobs=-1)]: Done  10 tasks      | elapsed:    2.0s\n",
      "[Parallel(n_jobs=-1)]: Done 160 tasks      | elapsed:   16.1s\n",
      "[Parallel(n_jobs=-1)]: Done 410 tasks      | elapsed:   40.6s\n",
      "[Parallel(n_jobs=-1)]: Done 760 tasks      | elapsed:  1.2min\n",
      "[Parallel(n_jobs=-1)]: Done 1210 tasks      | elapsed:  2.0min\n",
      "[Parallel(n_jobs=-1)]: Done 1760 tasks      | elapsed:  2.8min\n",
      "[Parallel(n_jobs=-1)]: Done 2410 tasks      | elapsed:  3.9min\n",
      "[Parallel(n_jobs=-1)]: Done 3160 tasks      | elapsed:  5.1min\n",
      "[Parallel(n_jobs=-1)]: Done 4010 tasks      | elapsed:  6.5min\n",
      "[Parallel(n_jobs=-1)]: Done 4960 tasks      | elapsed:  8.0min\n",
      "[Parallel(n_jobs=-1)]: Done 6010 tasks      | elapsed:  9.7min\n",
      "[Parallel(n_jobs=-1)]: Done 7160 tasks      | elapsed: 11.5min\n",
      "[Parallel(n_jobs=-1)]: Done 8410 tasks      | elapsed: 13.5min\n",
      "[Parallel(n_jobs=-1)]: Done 9760 tasks      | elapsed: 15.7min\n",
      "[Parallel(n_jobs=-1)]: Done 10000 out of 10000 | elapsed: 16.1min finished\n",
      "[Parallel(n_jobs=20)]: Using backend ThreadingBackend with 20 concurrent workers.\n",
      "[Parallel(n_jobs=20)]: Done  10 tasks      | elapsed:    0.0s\n",
      "[Parallel(n_jobs=20)]: Done 160 tasks      | elapsed:    0.1s\n",
      "[Parallel(n_jobs=20)]: Done 410 tasks      | elapsed:    0.2s\n"
     ]
    },
    {
     "name": "stdout",
     "output_type": "stream",
     "text": [
      "done in 967.020s.\n"
     ]
    },
    {
     "name": "stderr",
     "output_type": "stream",
     "text": [
      "[Parallel(n_jobs=20)]: Done 760 tasks      | elapsed:    0.3s\n",
      "[Parallel(n_jobs=20)]: Done 1210 tasks      | elapsed:    0.4s\n",
      "[Parallel(n_jobs=20)]: Done 1760 tasks      | elapsed:    0.6s\n",
      "[Parallel(n_jobs=20)]: Done 2410 tasks      | elapsed:    0.9s\n",
      "[Parallel(n_jobs=20)]: Done 3160 tasks      | elapsed:    1.1s\n",
      "[Parallel(n_jobs=20)]: Done 4010 tasks      | elapsed:    1.5s\n",
      "[Parallel(n_jobs=20)]: Done 4960 tasks      | elapsed:    1.8s\n",
      "[Parallel(n_jobs=20)]: Done 6010 tasks      | elapsed:    2.1s\n",
      "[Parallel(n_jobs=20)]: Done 7160 tasks      | elapsed:    2.6s\n",
      "[Parallel(n_jobs=20)]: Done 8410 tasks      | elapsed:    3.0s\n",
      "[Parallel(n_jobs=20)]: Done 9760 tasks      | elapsed:    3.6s\n",
      "[Parallel(n_jobs=20)]: Done 10000 out of 10000 | elapsed:    3.6s finished\n"
     ]
    },
    {
     "name": "stdout",
     "output_type": "stream",
     "text": [
      "accuracy：0.65293\n",
      "precision_avg: 0.65227\n",
      "recall_avg: 0.65293\n",
      "f1_score_avg: 0.64776\n",
      "n_estimator = 10000\n",
      "max_depth = 50\n",
      "min_samples_split = 50\n",
      "min_samples_leaf = 5\n"
     ]
    },
    {
     "name": "stderr",
     "output_type": "stream",
     "text": [
      "[Parallel(n_jobs=-1)]: Using backend ThreadingBackend with 20 concurrent workers.\n",
      "[Parallel(n_jobs=-1)]: Done  10 tasks      | elapsed:    1.7s\n",
      "[Parallel(n_jobs=-1)]: Done 160 tasks      | elapsed:   13.6s\n",
      "[Parallel(n_jobs=-1)]: Done 410 tasks      | elapsed:   34.1s\n",
      "[Parallel(n_jobs=-1)]: Done 760 tasks      | elapsed:  1.0min\n",
      "[Parallel(n_jobs=-1)]: Done 1210 tasks      | elapsed:  1.6min\n",
      "[Parallel(n_jobs=-1)]: Done 1760 tasks      | elapsed:  2.4min\n",
      "[Parallel(n_jobs=-1)]: Done 2410 tasks      | elapsed:  3.2min\n",
      "[Parallel(n_jobs=-1)]: Done 3160 tasks      | elapsed:  4.2min\n",
      "[Parallel(n_jobs=-1)]: Done 4010 tasks      | elapsed:  5.4min\n",
      "[Parallel(n_jobs=-1)]: Done 4960 tasks      | elapsed:  6.7min\n",
      "[Parallel(n_jobs=-1)]: Done 6010 tasks      | elapsed:  8.1min\n",
      "[Parallel(n_jobs=-1)]: Done 7160 tasks      | elapsed:  9.6min\n",
      "[Parallel(n_jobs=-1)]: Done 8410 tasks      | elapsed: 11.3min\n",
      "[Parallel(n_jobs=-1)]: Done 9760 tasks      | elapsed: 13.1min\n",
      "[Parallel(n_jobs=-1)]: Done 10000 out of 10000 | elapsed: 13.4min finished\n",
      "[Parallel(n_jobs=20)]: Using backend ThreadingBackend with 20 concurrent workers.\n",
      "[Parallel(n_jobs=20)]: Done  10 tasks      | elapsed:    0.0s\n",
      "[Parallel(n_jobs=20)]: Done 160 tasks      | elapsed:    0.1s\n"
     ]
    },
    {
     "name": "stdout",
     "output_type": "stream",
     "text": [
      "done in 808.688s.\n"
     ]
    },
    {
     "name": "stderr",
     "output_type": "stream",
     "text": [
      "[Parallel(n_jobs=20)]: Done 410 tasks      | elapsed:    0.2s\n",
      "[Parallel(n_jobs=20)]: Done 760 tasks      | elapsed:    0.3s\n",
      "[Parallel(n_jobs=20)]: Done 1210 tasks      | elapsed:    0.4s\n",
      "[Parallel(n_jobs=20)]: Done 1760 tasks      | elapsed:    0.6s\n",
      "[Parallel(n_jobs=20)]: Done 2410 tasks      | elapsed:    0.8s\n",
      "[Parallel(n_jobs=20)]: Done 3160 tasks      | elapsed:    1.1s\n",
      "[Parallel(n_jobs=20)]: Done 4010 tasks      | elapsed:    1.4s\n",
      "[Parallel(n_jobs=20)]: Done 4960 tasks      | elapsed:    1.8s\n",
      "[Parallel(n_jobs=20)]: Done 6010 tasks      | elapsed:    2.1s\n",
      "[Parallel(n_jobs=20)]: Done 7160 tasks      | elapsed:    2.5s\n",
      "[Parallel(n_jobs=20)]: Done 8410 tasks      | elapsed:    3.0s\n",
      "[Parallel(n_jobs=20)]: Done 9760 tasks      | elapsed:    3.5s\n",
      "[Parallel(n_jobs=20)]: Done 10000 out of 10000 | elapsed:    3.6s finished\n"
     ]
    },
    {
     "name": "stdout",
     "output_type": "stream",
     "text": [
      "accuracy：0.63607\n",
      "precision_avg: 0.65246\n",
      "recall_avg: 0.63607\n",
      "f1_score_avg: 0.64036\n",
      "n_estimator = 10000\n",
      "max_depth = 50\n",
      "min_samples_split = 50\n",
      "min_samples_leaf = 10\n"
     ]
    },
    {
     "name": "stderr",
     "output_type": "stream",
     "text": [
      "[Parallel(n_jobs=-1)]: Using backend ThreadingBackend with 20 concurrent workers.\n",
      "[Parallel(n_jobs=-1)]: Done  10 tasks      | elapsed:    1.3s\n",
      "[Parallel(n_jobs=-1)]: Done 160 tasks      | elapsed:   10.5s\n",
      "[Parallel(n_jobs=-1)]: Done 410 tasks      | elapsed:   26.6s\n",
      "[Parallel(n_jobs=-1)]: Done 760 tasks      | elapsed:   48.6s\n",
      "[Parallel(n_jobs=-1)]: Done 1210 tasks      | elapsed:  1.3min\n",
      "[Parallel(n_jobs=-1)]: Done 1760 tasks      | elapsed:  1.9min\n",
      "[Parallel(n_jobs=-1)]: Done 2410 tasks      | elapsed:  2.5min\n",
      "[Parallel(n_jobs=-1)]: Done 3160 tasks      | elapsed:  3.3min\n",
      "[Parallel(n_jobs=-1)]: Done 4010 tasks      | elapsed:  4.2min\n",
      "[Parallel(n_jobs=-1)]: Done 4960 tasks      | elapsed:  5.2min\n",
      "[Parallel(n_jobs=-1)]: Done 6010 tasks      | elapsed:  6.3min\n",
      "[Parallel(n_jobs=-1)]: Done 7160 tasks      | elapsed:  7.5min\n",
      "[Parallel(n_jobs=-1)]: Done 8410 tasks      | elapsed:  8.8min\n",
      "[Parallel(n_jobs=-1)]: Done 9760 tasks      | elapsed: 10.2min\n",
      "[Parallel(n_jobs=-1)]: Done 10000 out of 10000 | elapsed: 10.5min finished\n",
      "[Parallel(n_jobs=20)]: Using backend ThreadingBackend with 20 concurrent workers.\n",
      "[Parallel(n_jobs=20)]: Done  10 tasks      | elapsed:    0.0s\n",
      "[Parallel(n_jobs=20)]: Done 160 tasks      | elapsed:    0.1s\n"
     ]
    },
    {
     "name": "stdout",
     "output_type": "stream",
     "text": [
      "done in 632.576s.\n"
     ]
    },
    {
     "name": "stderr",
     "output_type": "stream",
     "text": [
      "[Parallel(n_jobs=20)]: Done 410 tasks      | elapsed:    0.2s\n",
      "[Parallel(n_jobs=20)]: Done 760 tasks      | elapsed:    0.3s\n",
      "[Parallel(n_jobs=20)]: Done 1210 tasks      | elapsed:    0.4s\n",
      "[Parallel(n_jobs=20)]: Done 1760 tasks      | elapsed:    0.6s\n",
      "[Parallel(n_jobs=20)]: Done 2410 tasks      | elapsed:    0.8s\n",
      "[Parallel(n_jobs=20)]: Done 3160 tasks      | elapsed:    1.0s\n",
      "[Parallel(n_jobs=20)]: Done 4010 tasks      | elapsed:    1.4s\n",
      "[Parallel(n_jobs=20)]: Done 4960 tasks      | elapsed:    1.7s\n",
      "[Parallel(n_jobs=20)]: Done 6010 tasks      | elapsed:    2.1s\n",
      "[Parallel(n_jobs=20)]: Done 7160 tasks      | elapsed:    2.5s\n",
      "[Parallel(n_jobs=20)]: Done 8410 tasks      | elapsed:    2.9s\n",
      "[Parallel(n_jobs=20)]: Done 9760 tasks      | elapsed:    3.4s\n",
      "[Parallel(n_jobs=20)]: Done 10000 out of 10000 | elapsed:    3.5s finished\n"
     ]
    },
    {
     "name": "stdout",
     "output_type": "stream",
     "text": [
      "accuracy：0.61680\n",
      "precision_avg: 0.65313\n",
      "recall_avg: 0.61680\n",
      "f1_score_avg: 0.62958\n",
      "n_estimator = 10000\n",
      "max_depth = 50\n",
      "min_samples_split = 50\n",
      "min_samples_leaf = 20\n"
     ]
    },
    {
     "name": "stderr",
     "output_type": "stream",
     "text": [
      "[Parallel(n_jobs=-1)]: Using backend ThreadingBackend with 20 concurrent workers.\n",
      "[Parallel(n_jobs=-1)]: Done  10 tasks      | elapsed:    1.0s\n",
      "[Parallel(n_jobs=-1)]: Done 160 tasks      | elapsed:    7.6s\n",
      "[Parallel(n_jobs=-1)]: Done 410 tasks      | elapsed:   19.0s\n",
      "[Parallel(n_jobs=-1)]: Done 760 tasks      | elapsed:   34.5s\n",
      "[Parallel(n_jobs=-1)]: Done 1210 tasks      | elapsed:   54.7s\n",
      "[Parallel(n_jobs=-1)]: Done 1760 tasks      | elapsed:  1.3min\n",
      "[Parallel(n_jobs=-1)]: Done 2410 tasks      | elapsed:  1.8min\n",
      "[Parallel(n_jobs=-1)]: Done 3160 tasks      | elapsed:  2.4min\n",
      "[Parallel(n_jobs=-1)]: Done 4010 tasks      | elapsed:  3.0min\n",
      "[Parallel(n_jobs=-1)]: Done 4960 tasks      | elapsed:  3.7min\n",
      "[Parallel(n_jobs=-1)]: Done 6010 tasks      | elapsed:  4.5min\n",
      "[Parallel(n_jobs=-1)]: Done 7160 tasks      | elapsed:  5.3min\n",
      "[Parallel(n_jobs=-1)]: Done 8410 tasks      | elapsed:  6.3min\n",
      "[Parallel(n_jobs=-1)]: Done 9760 tasks      | elapsed:  7.3min\n",
      "[Parallel(n_jobs=-1)]: Done 10000 out of 10000 | elapsed:  7.5min finished\n",
      "[Parallel(n_jobs=20)]: Using backend ThreadingBackend with 20 concurrent workers.\n",
      "[Parallel(n_jobs=20)]: Done  10 tasks      | elapsed:    0.0s\n",
      "[Parallel(n_jobs=20)]: Done 160 tasks      | elapsed:    0.1s\n"
     ]
    },
    {
     "name": "stdout",
     "output_type": "stream",
     "text": [
      "done in 451.081s.\n"
     ]
    },
    {
     "name": "stderr",
     "output_type": "stream",
     "text": [
      "[Parallel(n_jobs=20)]: Done 410 tasks      | elapsed:    0.2s\n",
      "[Parallel(n_jobs=20)]: Done 760 tasks      | elapsed:    0.3s\n",
      "[Parallel(n_jobs=20)]: Done 1210 tasks      | elapsed:    0.4s\n",
      "[Parallel(n_jobs=20)]: Done 1760 tasks      | elapsed:    0.6s\n",
      "[Parallel(n_jobs=20)]: Done 2410 tasks      | elapsed:    0.8s\n",
      "[Parallel(n_jobs=20)]: Done 3160 tasks      | elapsed:    1.1s\n",
      "[Parallel(n_jobs=20)]: Done 4010 tasks      | elapsed:    1.4s\n",
      "[Parallel(n_jobs=20)]: Done 4960 tasks      | elapsed:    1.8s\n",
      "[Parallel(n_jobs=20)]: Done 6010 tasks      | elapsed:    2.1s\n",
      "[Parallel(n_jobs=20)]: Done 7160 tasks      | elapsed:    2.5s\n",
      "[Parallel(n_jobs=20)]: Done 8410 tasks      | elapsed:    2.9s\n"
     ]
    },
    {
     "name": "stdout",
     "output_type": "stream",
     "text": [
      "accuracy：0.59887\n",
      "precision_avg: 0.65616\n",
      "recall_avg: 0.59887\n",
      "f1_score_avg: 0.61894\n"
     ]
    },
    {
     "name": "stderr",
     "output_type": "stream",
     "text": [
      "[Parallel(n_jobs=20)]: Done 9760 tasks      | elapsed:    3.3s\n",
      "[Parallel(n_jobs=20)]: Done 10000 out of 10000 | elapsed:    3.4s finished\n"
     ]
    }
   ],
   "source": [
    "n_estimators_range = [1000, 5000, 10000]\n",
    "max_depth_range = [10,20,50]\n",
    "min_samples_split_range = [2, 10, 50]\n",
    "min_samples_leaf_range = [1, 5, 10, 20, 50]\n",
    "\n",
    "\n",
    "for n_estimator in n_estimators_range:\n",
    "    for max_depth in max_depth_range:\n",
    "        for min_samples_split in min_samples_split_range:\n",
    "            for min_samples_leaf in min_samples_leaf_range:\n",
    "                # 设置这个条件才合理\n",
    "                if min_samples_split > min_samples_leaf:\n",
    "                        print('n_estimator = %d' % n_estimator)\n",
    "                        print('max_depth = %d' % max_depth)\n",
    "                        print('min_samples_split = %d' % min_samples_split)\n",
    "                        print('min_samples_leaf = %d' % min_samples_leaf)\n",
    "                        clf = RandomForestClassifier(\n",
    "                                                        n_estimators= n_estimator,\n",
    "                                                        criterion='gini',\n",
    "                                                        max_depth= max_depth,\n",
    "                                                        min_samples_split = min_samples_split,\n",
    "                                                        min_samples_leaf = min_samples_leaf,\n",
    "                                                        max_features= 'sqrt',\n",
    "                                                        bootstrap=True,\n",
    "                                                        random_state= 2020,\n",
    "                                                        verbose= 1,\n",
    "                                                        class_weight= 'balanced',\n",
    "                                                        n_jobs = -1\n",
    "                                                    )\n",
    "                        t0 = time()\n",
    "                        clf.fit(train_x, train_y)\n",
    "                        print(\"done in %0.3fs.\" % (time() - t0))\n",
    "                        predict_y = clf.predict(valid_x)\n",
    "                        # predict_prob_y = clf.predict_proba(valid_x)\n",
    "                        # 评价指标值\n",
    "                        accuracy, precision_avg, recall_avg, f1_score_avg = eval_p_r_f1(valid_y, predict_y)\n",
    "                        print('accuracy：%0.5f' % accuracy)\n",
    "                        print('precision_avg: %0.5f' % precision_avg)\n",
    "                        print('recall_avg: %0.5f' % recall_avg)\n",
    "                        print('f1_score_avg: %0.5f' % f1_score_avg)\n",
    "                \n",
    "                "
   ]
  },
  {
   "cell_type": "code",
   "execution_count": null,
   "metadata": {},
   "outputs": [],
   "source": []
  },
  {
   "cell_type": "code",
   "execution_count": null,
   "metadata": {},
   "outputs": [],
   "source": []
  }
 ],
 "metadata": {
  "kernelspec": {
   "display_name": "python3",
   "language": "python",
   "name": "python3"
  },
  "language_info": {
   "codemirror_mode": {
    "name": "ipython",
    "version": 3
   },
   "file_extension": ".py",
   "mimetype": "text/x-python",
   "name": "python",
   "nbconvert_exporter": "python",
   "pygments_lexer": "ipython3",
   "version": "3.6.4"
  }
 },
 "nbformat": 4,
 "nbformat_minor": 4
}
