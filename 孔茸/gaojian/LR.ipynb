{
 "cells": [
  {
   "cell_type": "code",
   "execution_count": 1,
   "metadata": {},
   "outputs": [],
   "source": [
    "# python 3.6\n",
    "# tensorflow 2.3.1 cpu\n",
    "# sklearn.__version__ == 0.23.2\n",
    "\n",
    "import pandas as pd\n",
    "import numpy as np\n",
    "import pickle \n",
    "from time import time\n",
    "\n",
    "from sklearn.utils import shuffle # shuffle打乱样本的顺序，它只会打乱样本的顺序，每个样本的数据维持不变。\n",
    "from sklearn.metrics import f1_score, precision_score, recall_score, accuracy_score\n",
    "from sklearn.svm import SVC\n",
    "from sklearn.ensemble import RandomForestClassifier\n",
    "from sklearn.linear_model import LogisticRegression\n",
    "\n",
    "from sklearn.preprocessing import StandardScaler\n",
    "from sklearn.model_selection import StratifiedShuffleSplit\n",
    "from sklearn.model_selection import GridSearchCV\n",
    "\n",
    "from sklearn.feature_extraction.text import TfidfVectorizer, CountVectorizer\n",
    "\n",
    "\n",
    "def save_obj(obj, file):\n",
    "    with open(file, 'wb') as f:\n",
    "        pickle.dump(obj, f, pickle.HIGHEST_PROTOCOL)\n",
    "\n",
    "def load_obj(file ):\n",
    "    with open(file, 'rb') as f:\n",
    "        return pickle.load(f)"
   ]
  },
  {
   "cell_type": "code",
   "execution_count": 2,
   "metadata": {},
   "outputs": [],
   "source": [
    "# 评价指标函数\n",
    "def f1_score_get(precision, recall):\n",
    "    # tf.keras.backend.epsilon() 的值为 1e-07\n",
    "    # 1.0e-7 == tf.keras.backend.epsilon() 得到 True\n",
    "    f1 = 2 * precision * recall/( precision + recall + 1.0e-7 )\n",
    "    return f1\n",
    "\n",
    "# valid_y:真实标签\n",
    "# predict_y:预测标签\n",
    "def eval_p_r_f1(valid_y, predict_y):\n",
    "    # precision 0 1 2 3\n",
    "    # setting labels=[pos_label] and average != 'binary' will report scores for that label only.\n",
    "    accuracy = accuracy_score(\n",
    "                    y_true = valid_y,\n",
    "                    y_pred = predict_y\n",
    "                              )\n",
    "    \n",
    "    precision_0 = precision_score(\n",
    "                    y_true = valid_y,\n",
    "                    y_pred = predict_y,\n",
    "                    labels = [0],\n",
    "                    pos_label = 0,\n",
    "                    average = 'micro'\n",
    "                    )\n",
    "\n",
    "    precision_1 = precision_score(\n",
    "                    y_true = valid_y,\n",
    "                    y_pred = predict_y,\n",
    "                    labels = [1],\n",
    "                    pos_label = 1,\n",
    "                    average = 'micro'\n",
    "                    )\n",
    "\n",
    "    precision_2 = precision_score(\n",
    "                    y_true = valid_y,\n",
    "                    y_pred = predict_y,\n",
    "                    labels = [2],\n",
    "                    pos_label = 2,\n",
    "                    average = 'micro'\n",
    "                    )\n",
    "\n",
    "    precision_3 = precision_score(\n",
    "                    y_true = valid_y,\n",
    "                    y_pred = predict_y,\n",
    "                    labels = [3],\n",
    "                    pos_label = 3,\n",
    "                    average = 'micro'\n",
    "                    )\n",
    "    # recall 0 1 2 3\n",
    "    recall_0 = recall_score(\n",
    "                    y_true = valid_y,\n",
    "                    y_pred = predict_y,\n",
    "                    labels = [0],\n",
    "                    pos_label = 0,\n",
    "                    average = 'micro'\n",
    "                    )\n",
    "\n",
    "    recall_1 = recall_score(\n",
    "                    y_true = valid_y,\n",
    "                    y_pred = predict_y,\n",
    "                    labels = [1],\n",
    "                    pos_label = 1,\n",
    "                    average = 'micro'\n",
    "                    )\n",
    "\n",
    "    recall_2 = recall_score(\n",
    "                    y_true = valid_y,\n",
    "                    y_pred = predict_y,\n",
    "                    labels = [2],\n",
    "                    pos_label = 2,\n",
    "                    average = 'micro'\n",
    "                    )\n",
    "\n",
    "    recall_3 = recall_score(\n",
    "                    y_true = valid_y,\n",
    "                    y_pred = predict_y,\n",
    "                    labels = [3],\n",
    "                    pos_label = 3,\n",
    "                    average = 'micro'\n",
    "                    )\n",
    "    \n",
    "    # f1_score 0 1 2 3\n",
    "    f1_score_0 = f1_score_get( precision_0, recall_0 )\n",
    "    f1_score_1 = f1_score_get( precision_1, recall_1 )\n",
    "    f1_score_2 = f1_score_get( precision_2, recall_2 )\n",
    "    f1_score_3 = f1_score_get( precision_3, recall_3 )\n",
    "    \n",
    "    #由y_true 计算各标签权重\n",
    "    num_0 = np.sum( valid_y==0 )\n",
    "    num_1 = np.sum( valid_y==1 )\n",
    "    num_2 = np.sum( valid_y==2 )\n",
    "    num_3 = np.sum( valid_y==3 )\n",
    "    total = num_0 + num_1 + num_2 + num_3\n",
    "    print( 'num_0: %d' %num_0)\n",
    "    print( 'num_1: %d' %num_1)\n",
    "    print( 'num_2: %d' %num_2)\n",
    "    print( 'num_3: %d' %num_3)\n",
    "    print( 'total: %d' %total)\n",
    "    \n",
    "    p_0 = num_0/total\n",
    "    p_1 = num_1/total\n",
    "    p_2 = num_2/total\n",
    "    p_3 = num_3/total\n",
    "    \n",
    "    precision_avg = p_0 * precision_0 + p_1 * precision_1 + p_2 * precision_2 + p_3 * precision_3\n",
    "    recall_avg = p_0 * recall_0 + p_1 * recall_1 + p_2 * recall_2 + p_3 * recall_3\n",
    "    f1_score_avg = p_0 * f1_score_0 + p_1 * f1_score_1 + p_2 * f1_score_2 + p_3 * f1_score_3\n",
    "    \n",
    "    return accuracy, precision_avg, recall_avg, f1_score_avg"
   ]
  },
  {
   "cell_type": "raw",
   "metadata": {},
   "source": [
    "1 读取训练集，验证集"
   ]
  },
  {
   "cell_type": "code",
   "execution_count": 3,
   "metadata": {},
   "outputs": [
    {
     "name": "stdout",
     "output_type": "stream",
     "text": [
      "(105000, 2)\n",
      "(15000, 2)\n"
     ]
    }
   ],
   "source": [
    "# train = pd.read_csv('./data/train_location.csv', usecols=['content', 'label'])\n",
    "# valid = pd.read_csv('./data/valid_location.csv', usecols=['content', 'label'])\n",
    "\n",
    "# train = pd.read_csv('./data/train_service.csv', usecols=['content', 'label'])\n",
    "# valid = pd.read_csv('./data/valid_service.csv', usecols=['content', 'label'])\n",
    "\n",
    "# train = pd.read_csv('./data/train_price.csv', usecols=['content', 'label'])\n",
    "# valid = pd.read_csv('./data/valid_price.csv', usecols=['content', 'label'])\n",
    "\n",
    "# train = pd.read_csv('./data/train_environment.csv', usecols=['content', 'label'])\n",
    "# valid = pd.read_csv('./data/valid_environment.csv', usecols=['content', 'label'])\n",
    "\n",
    "train = pd.read_csv( './data/train_dish.csv', usecols=['content', 'label'])\n",
    "valid = pd.read_csv( './data/valid_dish.csv', usecols=['content', 'label'])\n",
    "\n",
    "train = shuffle( train, random_state = 2020)\n",
    "valid = shuffle( valid, random_state = 2020)\n",
    "\n",
    "train = shuffle(train, random_state = 42)\n",
    "valid = shuffle(valid, random_state = 42)\n",
    "\n",
    "print(train.shape)\n",
    "print(valid.shape)"
   ]
  },
  {
   "cell_type": "code",
   "execution_count": 4,
   "metadata": {
    "collapsed": true
   },
   "outputs": [
    {
     "name": "stdout",
     "output_type": "stream",
     "text": [
      "[' 大众点评 十月份 VIP 会员 聚餐 十几个 兴趣相投 吃货们 点评 聚在 周日 晚上 万家 一炉 划分 音乐餐厅 自助餐厅 两个 区域 装修 看图片 点评 菜品 十七个 菜 只说 我爱吃 先赞 农家 扒茄条 口感鲜香 入口微甜 老少咸宜 必点 菜品 鲍汁 一品豆腐 入味 不油腻 美味 金丝虾球 也很 不错 土豆丝 炸的 酥脆 小朋友 肯定 喜欢 我还 喜欢 七彩鱼 皮 越往 吃芥末 越冲 过瘾 米粉肉 甜而不腻 美味 田七 爽口凉菜 酸汤肥牛 … 量少 … 吃了 忘记 味道 … 说 的是 音乐餐厅 八点 点歌 爱唱歌 的你 千万不要错过 媲美 专业音响 … ', ' 第一次 抽中 同城 试吃活动 很开心 ✌ ️ 听说 小伙伴 都是 老会员 参加 活动 好有爱 ❤ ️ 这家店 位置 不是很好 找 到了 饭店 没什么 顾客 地理位置 劣势 原因 服务员态度 搞错 家的 菜名 尴尬 招牌菜 金椒脆鱼 锅 每个人 习惯 鱼 口感 可以接受 还有一个 猪脚 虾 很好吃 猪脚 炖 入味 凉拌 蕨根粉 入味 酸辣粉 味道 店里 凉拌菜 觉 居多 凉拌菜 各类 肉品 锅 火锅 会吃 过多 拒绝 店家 提议 火锅 榴莲飞饼 味道 很好 榴莲肉 多点 更好 说 点的 口水鸡 味道 也很 鸡肉 上夹 肥 油太多 腻味 桂花糖莲藕 江浙菜馆 做的好 凉拌菜 川菜馆 特别 感受 果汁 兑水 兑多 没什么味道 店家 可以增加 炒菜 顾客 多点 选择 ^ _ ^ ', ' 同事 阅兵 小长假 美好 广场 吃的 说是 好吃 下班 直奔 旗舰店 想着 肯定 好吃 点菜 妹纸 讲 不出 道道 问 好吃 说 没吃过 上个 点评 评价点 上菜 搞不清 桌球 错了 想着 价位 比某 底捞 便宜 算了 人也 不容易 锅底 开吃 刚涮 根干 吧吧 鸭肠 妹纸 加汤 可乐 来瓶 茶杯 喝了 上了 三 玻璃杯 华丽丽 的囧 饮料杯 干嘛 早上 服务 无力吐槽 菜品 鸭肠 挂 架子 上的 看着 甩 洋气 表面 干 一夹 长条 缠 架子 自己动手 放 盘子 里 夹 琥珀 肉 口感 还能 吃到 筋 原谅我 牙口 不好 鲜毛肚 也是醉了 黑黑白白 都有 安慰 极品毛肚 求 新鲜 就好 天下 宽粉 味道还行 QQ 弹弹 极品 五花肉 真的很 极品 白白的 肥肉 无从 下口 首相 丸子 姜 喜欢 吃姜 这是 不愉快 拔草 之旅 全程 一只苍蝇 飞啊飞 ~ ']\n"
     ]
    }
   ],
   "source": [
    "# 读取 X\n",
    "# 不同aspect，文本数据一样，不同体现在标签上\n",
    "\n",
    "train_x = train.content.values.tolist()\n",
    "valid_x = valid.content.values.tolist()\n",
    "\n",
    "print( train_x[0:3])"
   ]
  },
  {
   "cell_type": "code",
   "execution_count": 5,
   "metadata": {},
   "outputs": [],
   "source": [
    "# 读取 Y\n",
    "# 标签\n",
    "train_y = train.label.values+2\n",
    "valid_y = valid.label.values+2"
   ]
  },
  {
   "cell_type": "raw",
   "metadata": {},
   "source": [
    "tf-idf"
   ]
  },
  {
   "cell_type": "code",
   "execution_count": 6,
   "metadata": {},
   "outputs": [
    {
     "name": "stdout",
     "output_type": "stream",
     "text": [
      "120000\n"
     ]
    }
   ],
   "source": [
    "n_features = 1000\n",
    "\n",
    "tfidf_vectorizer = TfidfVectorizer(\n",
    "                                        max_df=0.95, \n",
    "                                        min_df=2,\n",
    "                                        max_features=n_features,\n",
    "                                   )\n",
    "corpus = train_x + valid_x\n",
    "print(len(corpus))\n",
    "\n",
    "t0 = time()\n",
    "tfidf = tfidf_vectorizer.fit(corpus)"
   ]
  },
  {
   "cell_type": "code",
   "execution_count": 7,
   "metadata": {
    "scrolled": true
   },
   "outputs": [
    {
     "name": "stdout",
     "output_type": "stream",
     "text": [
      "done in 8.366s.\n"
     ]
    }
   ],
   "source": [
    "print(\"done in %0.3fs.\" % (time() - t0))\n",
    "train_x = tfidf.transform(train_x)\n",
    "valid_x = tfidf.transform(valid_x)"
   ]
  },
  {
   "cell_type": "code",
   "execution_count": 8,
   "metadata": {
    "scrolled": false
   },
   "outputs": [
    {
     "name": "stdout",
     "output_type": "stream",
     "text": [
      "(105000, 1000)\n",
      "(15000, 1000)\n"
     ]
    }
   ],
   "source": [
    "print(train_x.shape)\n",
    "print(valid_x.shape)"
   ]
  },
  {
   "cell_type": "raw",
   "metadata": {},
   "source": [
    "LR"
   ]
  },
  {
   "cell_type": "code",
   "execution_count": 9,
   "metadata": {},
   "outputs": [],
   "source": [
    "# 标准化\n",
    "scaler = StandardScaler(with_mean=False)\n",
    "train_x = scaler.fit_transform(train_x)\n",
    "valid_x = scaler.fit_transform(valid_x)"
   ]
  },
  {
   "cell_type": "raw",
   "metadata": {},
   "source": [
    "# 参数\n",
    "# tol = 0.0001, 0.001, 0.01, 0.1\n",
    "# C = 0.1, 1, 10, 50.0/105000\n",
    "# max_iter= 100, 1000,5000, 10000 只调这个参数，因为我的深度学习模型也没有调参，评价指标用验证集上的p_avg, r_avg. f1_avg， 不用accuracy\n",
    "# l1_ratio= 0, 0.5, 1\n",
    "\n",
    "其关键作用的应该是C 和 tol, 在其他参数确定的时候，这两个参数对拟合程度 影响最大，这两个参数有必要CV\n",
    "当C增大，模型拟合力增大\n",
    "当tol减小，模型拟合力度增大\n",
    "C = [0.1*50.0/105000, 50.0/105000, 10*50.0/105000] # 拟合力度越来越大\n",
    "tol = [0.1, 0.01, 0.001] # 拟合力度越来越大"
   ]
  },
  {
   "cell_type": "raw",
   "metadata": {},
   "source": [
    "控制变量"
   ]
  },
  {
   "cell_type": "raw",
   "metadata": {},
   "source": [
    "LR调节参数 C "
   ]
  },
  {
   "cell_type": "code",
   "execution_count": 12,
   "metadata": {
    "collapsed": true,
    "jupyter": {
     "outputs_hidden": true,
     "source_hidden": true
    }
   },
   "outputs": [
    {
     "name": "stderr",
     "output_type": "stream",
     "text": [
      "[Parallel(n_jobs=-1)]: Using backend ThreadingBackend with 30 concurrent workers.\n"
     ]
    },
    {
     "name": "stdout",
     "output_type": "stream",
     "text": [
      "convergence after 6 epochs took 1 seconds\n",
      "done in 1.128s.\n"
     ]
    },
    {
     "name": "stderr",
     "output_type": "stream",
     "text": [
      "[Parallel(n_jobs=-1)]: Done   1 out of   1 | elapsed:    1.1s finished\n"
     ]
    }
   ],
   "source": [
    "# C =  50.0/105000 约等于 0.0005\n",
    "clf = LogisticRegression(\n",
    "                            penalty = 'elasticnet',\n",
    "                            tol = 0.1,\n",
    "                            C = 50.0/105000,\n",
    "                            class_weight = 'balanced',\n",
    "                            random_state = 2020,\n",
    "                            solver = 'saga',\n",
    "                            max_iter=100,\n",
    "                            multi_class = 'multinomial',\n",
    "                            verbose = 1,\n",
    "                            n_jobs = -1,\n",
    "                            l1_ratio = 0.5  \n",
    "                        )\n",
    "\n",
    "t0 = time()\n",
    "clf.fit(train_x, train_y)\n",
    "\n",
    "print(\"done in %0.3fs.\" % (time() - t0))\n",
    "#convergence after 6 epochs took 1 seconds"
   ]
  },
  {
   "cell_type": "code",
   "execution_count": 13,
   "metadata": {
    "collapsed": true,
    "jupyter": {
     "outputs_hidden": true,
     "source_hidden": true
    }
   },
   "outputs": [
    {
     "name": "stdout",
     "output_type": "stream",
     "text": [
      "accuracy：0.69727\n",
      "precision_avg：0.81552\n",
      "recall_avg：0.69727\n",
      "f1_score_avg：0.73461\n"
     ]
    },
    {
     "name": "stderr",
     "output_type": "stream",
     "text": [
      "/usr/local/lib/python3.6/dist-packages/sklearn/metrics/_classification.py:1270: UserWarning: Note that pos_label (set to 0) is ignored when average != 'binary' (got 'micro'). You may use labels=[pos_label] to specify a single positive class.\n",
      "  % (pos_label, average), UserWarning)\n",
      "/usr/local/lib/python3.6/dist-packages/sklearn/metrics/_classification.py:1270: UserWarning: Note that pos_label (set to 2) is ignored when average != 'binary' (got 'micro'). You may use labels=[pos_label] to specify a single positive class.\n",
      "  % (pos_label, average), UserWarning)\n",
      "/usr/local/lib/python3.6/dist-packages/sklearn/metrics/_classification.py:1270: UserWarning: Note that pos_label (set to 3) is ignored when average != 'binary' (got 'micro'). You may use labels=[pos_label] to specify a single positive class.\n",
      "  % (pos_label, average), UserWarning)\n"
     ]
    }
   ],
   "source": [
    "predict_y = clf.predict(valid_x)\n",
    "predict_prob_y = clf.predict_proba(valid_x)\n",
    "\n",
    "# 评价指标值\n",
    "accuracy, precision_avg, recall_avg, f1_score_avg = eval_p_r_f1(valid_y, predict_y)\n",
    "\n",
    "print('accuracy：%0.5f' % accuracy)\n",
    "print('precision_avg：%0.5f' % precision_avg)\n",
    "print('recall_avg：%0.5f' % recall_avg)\n",
    "print('f1_score_avg：%0.5f' % f1_score_avg)"
   ]
  },
  {
   "cell_type": "code",
   "execution_count": 18,
   "metadata": {
    "collapsed": true,
    "jupyter": {
     "outputs_hidden": true,
     "source_hidden": true
    }
   },
   "outputs": [
    {
     "name": "stderr",
     "output_type": "stream",
     "text": [
      "[Parallel(n_jobs=-1)]: Using backend ThreadingBackend with 30 concurrent workers.\n"
     ]
    },
    {
     "name": "stdout",
     "output_type": "stream",
     "text": [
      "convergence after 4960 epochs took 1817 seconds\n",
      "done in 1816.978s.\n"
     ]
    },
    {
     "name": "stderr",
     "output_type": "stream",
     "text": [
      "[Parallel(n_jobs=-1)]: Done   1 out of   1 | elapsed: 30.3min finished\n"
     ]
    }
   ],
   "source": [
    "# C =  5.0* 50.0/105000\n",
    "clf = LogisticRegression(\n",
    "                            penalty = 'elasticnet',\n",
    "                            tol = 0.1,\n",
    "                            C = 5.0* 50.0/105000,\n",
    "                            class_weight = 'balanced',\n",
    "                            random_state = 2020,\n",
    "                            solver = 'saga',\n",
    "                            # max_iter=100, # C =  10.0* 50.0/105000, max_iter reached after 41 seconds\n",
    "                            # max_iter= 1000, # C =  10.0* 50.0/105000, max_iter reached after 404 seconds\n",
    "                            max_iter= 10000, \n",
    "                            multi_class = 'multinomial',\n",
    "                            verbose = 1,\n",
    "                            n_jobs = -1,\n",
    "                            l1_ratio = 0.5  \n",
    "                        )\n",
    "\n",
    "t0 = time()\n",
    "clf.fit(train_x, train_y)\n",
    "\n",
    "print(\"done in %0.3fs.\" % (time() - t0))\n",
    "\n",
    "# convergence after 4960 epochs took 1817 seconds"
   ]
  },
  {
   "cell_type": "code",
   "execution_count": 19,
   "metadata": {
    "collapsed": true,
    "jupyter": {
     "outputs_hidden": true,
     "source_hidden": true
    }
   },
   "outputs": [
    {
     "name": "stdout",
     "output_type": "stream",
     "text": [
      "accuracy：0.66113\n",
      "precision_avg：0.81871\n",
      "recall_avg：0.66113\n",
      "f1_score_avg：0.71695\n"
     ]
    }
   ],
   "source": [
    "predict_y = clf.predict(valid_x)\n",
    "predict_prob_y = clf.predict_proba(valid_x)\n",
    "\n",
    "# 评价指标值\n",
    "accuracy, precision_avg, recall_avg, f1_score_avg = eval_p_r_f1(valid_y, predict_y)\n",
    "\n",
    "print('accuracy：%0.5f' % accuracy)\n",
    "print('precision_avg：%0.5f' % precision_avg)\n",
    "print('recall_avg：%0.5f' % recall_avg)\n",
    "print('f1_score_avg：%0.5f' % f1_score_avg)\n",
    "\n",
    "# 结果：过拟合了"
   ]
  },
  {
   "cell_type": "code",
   "execution_count": 21,
   "metadata": {
    "collapsed": true,
    "jupyter": {
     "outputs_hidden": true,
     "source_hidden": true
    }
   },
   "outputs": [
    {
     "name": "stderr",
     "output_type": "stream",
     "text": [
      "[Parallel(n_jobs=-1)]: Using backend ThreadingBackend with 30 concurrent workers.\n"
     ]
    },
    {
     "name": "stdout",
     "output_type": "stream",
     "text": [
      "convergence after 10 epochs took 3 seconds\n",
      "done in 2.628s.\n"
     ]
    },
    {
     "name": "stderr",
     "output_type": "stream",
     "text": [
      "[Parallel(n_jobs=-1)]: Done   1 out of   1 | elapsed:    2.6s finished\n"
     ]
    }
   ],
   "source": [
    "# C =  2.0* 50.0/105000\n",
    "\n",
    "clf = LogisticRegression(\n",
    "                            penalty = 'elasticnet',\n",
    "                            tol = 0.1,\n",
    "                            C = 2.0* 50.0/105000,\n",
    "                            class_weight = 'balanced',\n",
    "                            random_state = 2020,\n",
    "                            solver = 'saga',\n",
    "                            # max_iter=100, # C =  10.0* 50.0/105000, max_iter reached after 41 seconds\n",
    "                            # max_iter= 1000, # C =  10.0* 50.0/105000, max_iter reached after 404 seconds\n",
    "                            max_iter= 10000, \n",
    "                            multi_class = 'multinomial',\n",
    "                            verbose = 1,\n",
    "                            n_jobs = -1,\n",
    "                            l1_ratio = 0.5  \n",
    "                        )\n",
    "\n",
    "t0 = time()\n",
    "clf.fit(train_x, train_y)\n",
    "\n",
    "print(\"done in %0.3fs.\" % (time() - t0))\n"
   ]
  },
  {
   "cell_type": "code",
   "execution_count": 22,
   "metadata": {
    "collapsed": true,
    "jupyter": {
     "outputs_hidden": true,
     "source_hidden": true
    }
   },
   "outputs": [
    {
     "name": "stdout",
     "output_type": "stream",
     "text": [
      "accuracy：0.69293\n",
      "precision_avg：0.81835\n",
      "recall_avg：0.69293\n",
      "f1_score_avg：0.73554\n"
     ]
    }
   ],
   "source": [
    "predict_y = clf.predict(valid_x)\n",
    "predict_prob_y = clf.predict_proba(valid_x)\n",
    "\n",
    "# 评价指标值\n",
    "accuracy, precision_avg, recall_avg, f1_score_avg = eval_p_r_f1(valid_y, predict_y)\n",
    "\n",
    "print('accuracy：%0.5f' % accuracy)\n",
    "print('precision_avg：%0.5f' % precision_avg)\n",
    "print('recall_avg：%0.5f' % recall_avg)\n",
    "print('f1_score_avg：%0.5f' % f1_score_avg)\n"
   ]
  },
  {
   "cell_type": "code",
   "execution_count": 23,
   "metadata": {
    "collapsed": true,
    "jupyter": {
     "outputs_hidden": true,
     "source_hidden": true
    }
   },
   "outputs": [
    {
     "name": "stderr",
     "output_type": "stream",
     "text": [
      "[Parallel(n_jobs=-1)]: Using backend ThreadingBackend with 30 concurrent workers.\n"
     ]
    },
    {
     "name": "stdout",
     "output_type": "stream",
     "text": [
      "convergence after 6 epochs took 1 seconds\n",
      "done in 1.018s.\n"
     ]
    },
    {
     "name": "stderr",
     "output_type": "stream",
     "text": [
      "[Parallel(n_jobs=-1)]: Done   1 out of   1 | elapsed:    1.0s finished\n"
     ]
    }
   ],
   "source": [
    "# C =  0.5* 50.0/105000\n",
    "\n",
    "clf = LogisticRegression(\n",
    "                            penalty = 'elasticnet',\n",
    "                            tol = 0.1,\n",
    "                            C = 0.5* 50.0/105000,\n",
    "                            class_weight = 'balanced',\n",
    "                            random_state = 2020,\n",
    "                            solver = 'saga',\n",
    "                            # max_iter=100, # C =  10.0* 50.0/105000, max_iter reached after 41 seconds\n",
    "                            # max_iter= 1000, # C =  10.0* 50.0/105000, max_iter reached after 404 seconds\n",
    "                            max_iter= 10000, \n",
    "                            multi_class = 'multinomial',\n",
    "                            verbose = 1,\n",
    "                            n_jobs = -1,\n",
    "                            l1_ratio = 0.5  \n",
    "                        )\n",
    "\n",
    "t0 = time()\n",
    "clf.fit(train_x, train_y)\n",
    "\n",
    "print(\"done in %0.3fs.\" % (time() - t0))\n"
   ]
  },
  {
   "cell_type": "code",
   "execution_count": 24,
   "metadata": {
    "collapsed": true,
    "jupyter": {
     "outputs_hidden": true,
     "source_hidden": true
    }
   },
   "outputs": [
    {
     "name": "stdout",
     "output_type": "stream",
     "text": [
      "accuracy：0.69367\n",
      "precision_avg：0.81274\n",
      "recall_avg：0.69367\n",
      "f1_score_avg：0.72626\n"
     ]
    }
   ],
   "source": [
    "predict_y = clf.predict(valid_x)\n",
    "predict_prob_y = clf.predict_proba(valid_x)\n",
    "\n",
    "# 评价指标值\n",
    "accuracy, precision_avg, recall_avg, f1_score_avg = eval_p_r_f1(valid_y, predict_y)\n",
    "\n",
    "print('accuracy：%0.5f' % accuracy)\n",
    "print('precision_avg：%0.5f' % precision_avg)\n",
    "print('recall_avg：%0.5f' % recall_avg)\n",
    "print('f1_score_avg：%0.5f' % f1_score_avg)\n"
   ]
  },
  {
   "cell_type": "code",
   "execution_count": 25,
   "metadata": {
    "collapsed": true,
    "jupyter": {
     "outputs_hidden": true,
     "source_hidden": true
    }
   },
   "outputs": [
    {
     "name": "stderr",
     "output_type": "stream",
     "text": [
      "[Parallel(n_jobs=-1)]: Using backend ThreadingBackend with 30 concurrent workers.\n"
     ]
    },
    {
     "name": "stdout",
     "output_type": "stream",
     "text": [
      "max_iter reached after 4056 seconds\n",
      "done in 4055.830s.\n"
     ]
    },
    {
     "name": "stderr",
     "output_type": "stream",
     "text": [
      "[Parallel(n_jobs=-1)]: Done   1 out of   1 | elapsed: 67.6min finished\n"
     ]
    }
   ],
   "source": [
    "# C =  10* 50.0/105000\n",
    "\n",
    "clf = LogisticRegression(\n",
    "                            penalty = 'elasticnet',\n",
    "                            tol = 0.1,\n",
    "                            C = 10 * 50.0/105000,\n",
    "                            class_weight = 'balanced',\n",
    "                            random_state = 2020,\n",
    "                            solver = 'saga',\n",
    "                            # max_iter=100, # C =  10.0* 50.0/105000, max_iter reached after 41 seconds\n",
    "                            # max_iter= 1000, # C =  10.0* 50.0/105000, max_iter reached after 404 seconds\n",
    "                            max_iter= 10000, # max_iter reached after 4056 seconds\n",
    "                            multi_class = 'multinomial',\n",
    "                            verbose = 1,\n",
    "                            n_jobs = -1,\n",
    "                            l1_ratio = 0.5  \n",
    "                        )\n",
    "\n",
    "t0 = time()\n",
    "clf.fit(train_x, train_y)\n",
    "\n",
    "print(\"done in %0.3fs.\" % (time() - t0))\n"
   ]
  },
  {
   "cell_type": "code",
   "execution_count": 26,
   "metadata": {
    "collapsed": true,
    "jupyter": {
     "outputs_hidden": true,
     "source_hidden": true
    }
   },
   "outputs": [
    {
     "name": "stdout",
     "output_type": "stream",
     "text": [
      "accuracy：0.60940\n",
      "precision_avg：0.77741\n",
      "recall_avg：0.60940\n",
      "f1_score_avg：0.67423\n"
     ]
    }
   ],
   "source": [
    "predict_y = clf.predict(valid_x)\n",
    "predict_prob_y = clf.predict_proba(valid_x)\n",
    "\n",
    "# 评价指标值\n",
    "accuracy, precision_avg, recall_avg, f1_score_avg = eval_p_r_f1(valid_y, predict_y)\n",
    "\n",
    "print('accuracy：%0.5f' % accuracy)\n",
    "print('precision_avg：%0.5f' % precision_avg)\n",
    "print('recall_avg：%0.5f' % recall_avg)\n",
    "print('f1_score_avg：%0.5f' % f1_score_avg)\n",
    "\n",
    "#过拟合"
   ]
  },
  {
   "cell_type": "raw",
   "metadata": {
    "jupyter": {
     "source_hidden": true
    }
   },
   "source": [
    "# 参数\n",
    "# tol = 0.0001, 0.001, 0.01, 0.1\n",
    "# C = 0.1, 1, 10, 50.0/105000\n",
    "# max_iter= 100, 1000,5000, 10000 只调这个参数，因为我的深度学习模型也没有调参，评价指标用验证集上的p_avg, r_avg. f1_avg， 不用accuracy\n",
    "# l1_ratio= 0, 0.5, 1\n",
    "\n",
    "其关键作用的应该是C 和 tol, 在其他参数确定的时候，这两个参数对拟合程度 影响最大，这两个参数有必要CV\n",
    "当C增大，模型拟合力增大\n",
    "当tol减小，模型拟合力度增大\n",
    "C = [0.1*50.0/105000, 50.0/105000, 10*50.0/105000] # 拟合力度越来越大\n",
    "tol = [0.1, 0.01, 0.001] # 拟合力度越来越大"
   ]
  },
  {
   "cell_type": "raw",
   "metadata": {},
   "source": [
    "location 训练、验证 调参"
   ]
  },
  {
   "cell_type": "code",
   "execution_count": 27,
   "metadata": {
    "jupyter": {
     "source_hidden": true
    }
   },
   "outputs": [],
   "source": [
    "C_range = [0.1*50.0/105000, 50.0/105000, 10*50.0/105000] \n",
    "\n",
    "tol_range = [0.1, 0.01, 0.001]"
   ]
  },
  {
   "cell_type": "code",
   "execution_count": 28,
   "metadata": {
    "collapsed": true,
    "jupyter": {
     "outputs_hidden": true,
     "source_hidden": true
    }
   },
   "outputs": [
    {
     "name": "stdout",
     "output_type": "stream",
     "text": [
      "C = 0.000048\n",
      "tol = 0.100000\n"
     ]
    },
    {
     "name": "stderr",
     "output_type": "stream",
     "text": [
      "[Parallel(n_jobs=-1)]: Using backend ThreadingBackend with 30 concurrent workers.\n"
     ]
    },
    {
     "name": "stdout",
     "output_type": "stream",
     "text": [
      "convergence after 8 epochs took 2 seconds\n",
      "done in 1.220s.\n",
      "accuracy：0.61440\n",
      "precision_avg: 0.73977\n",
      "recall_avg: 0.61440\n",
      "f1_score_avg: 0.58454\n",
      ">>>>>>>>>>>>>>>>>>>>>>>>>>>>>>>>>>>>>>>>>>>>>>\n",
      "C = 0.000048\n",
      "tol = 0.010000\n"
     ]
    },
    {
     "name": "stderr",
     "output_type": "stream",
     "text": [
      "[Parallel(n_jobs=-1)]: Done   1 out of   1 | elapsed:    1.2s finished\n",
      "[Parallel(n_jobs=-1)]: Using backend ThreadingBackend with 30 concurrent workers.\n"
     ]
    },
    {
     "name": "stdout",
     "output_type": "stream",
     "text": [
      "convergence after 10 epochs took 1 seconds\n",
      "done in 1.521s.\n",
      "accuracy：0.61447\n",
      "precision_avg: 0.73985\n",
      "recall_avg: 0.61447\n",
      "f1_score_avg: 0.58461\n",
      ">>>>>>>>>>>>>>>>>>>>>>>>>>>>>>>>>>>>>>>>>>>>>>\n",
      "C = 0.000048\n",
      "tol = 0.001000\n"
     ]
    },
    {
     "name": "stderr",
     "output_type": "stream",
     "text": [
      "[Parallel(n_jobs=-1)]: Done   1 out of   1 | elapsed:    1.4s finished\n",
      "[Parallel(n_jobs=-1)]: Using backend ThreadingBackend with 30 concurrent workers.\n"
     ]
    },
    {
     "name": "stdout",
     "output_type": "stream",
     "text": [
      "convergence after 13 epochs took 2 seconds\n",
      "done in 1.822s.\n",
      "accuracy：0.61447\n",
      "precision_avg: 0.73985\n",
      "recall_avg: 0.61447\n",
      "f1_score_avg: 0.58461\n",
      ">>>>>>>>>>>>>>>>>>>>>>>>>>>>>>>>>>>>>>>>>>>>>>\n",
      "C = 0.000476\n",
      "tol = 0.100000\n"
     ]
    },
    {
     "name": "stderr",
     "output_type": "stream",
     "text": [
      "[Parallel(n_jobs=-1)]: Done   1 out of   1 | elapsed:    1.8s finished\n",
      "[Parallel(n_jobs=-1)]: Using backend ThreadingBackend with 30 concurrent workers.\n"
     ]
    },
    {
     "name": "stdout",
     "output_type": "stream",
     "text": [
      "convergence after 6 epochs took 1 seconds\n",
      "done in 1.119s.\n",
      "accuracy：0.69727\n",
      "precision_avg: 0.81552\n",
      "recall_avg: 0.69727\n",
      "f1_score_avg: 0.73461\n",
      ">>>>>>>>>>>>>>>>>>>>>>>>>>>>>>>>>>>>>>>>>>>>>>\n",
      "C = 0.000476\n",
      "tol = 0.010000\n"
     ]
    },
    {
     "name": "stderr",
     "output_type": "stream",
     "text": [
      "[Parallel(n_jobs=-1)]: Done   1 out of   1 | elapsed:    1.1s finished\n",
      "[Parallel(n_jobs=-1)]: Using backend ThreadingBackend with 30 concurrent workers.\n"
     ]
    },
    {
     "name": "stdout",
     "output_type": "stream",
     "text": [
      "convergence after 13 epochs took 3 seconds\n",
      "done in 2.835s.\n",
      "accuracy：0.69473\n",
      "precision_avg: 0.81923\n",
      "recall_avg: 0.69473\n",
      "f1_score_avg: 0.73298\n",
      ">>>>>>>>>>>>>>>>>>>>>>>>>>>>>>>>>>>>>>>>>>>>>>\n",
      "C = 0.000476\n",
      "tol = 0.001000\n"
     ]
    },
    {
     "name": "stderr",
     "output_type": "stream",
     "text": [
      "[Parallel(n_jobs=-1)]: Done   1 out of   1 | elapsed:    2.8s finished\n",
      "[Parallel(n_jobs=-1)]: Using backend ThreadingBackend with 30 concurrent workers.\n"
     ]
    },
    {
     "name": "stdout",
     "output_type": "stream",
     "text": [
      "convergence after 18 epochs took 4 seconds\n",
      "done in 3.934s.\n",
      "accuracy：0.69487\n",
      "precision_avg: 0.81936\n",
      "recall_avg: 0.69487\n",
      "f1_score_avg: 0.73302\n",
      ">>>>>>>>>>>>>>>>>>>>>>>>>>>>>>>>>>>>>>>>>>>>>>\n",
      "C = 0.004762\n",
      "tol = 0.100000\n"
     ]
    },
    {
     "name": "stderr",
     "output_type": "stream",
     "text": [
      "[Parallel(n_jobs=-1)]: Done   1 out of   1 | elapsed:    3.9s finished\n",
      "[Parallel(n_jobs=-1)]: Using backend ThreadingBackend with 30 concurrent workers.\n"
     ]
    },
    {
     "name": "stdout",
     "output_type": "stream",
     "text": [
      "max_iter reached after 4076 seconds\n",
      "done in 4076.234s.\n",
      "accuracy：0.60940\n",
      "precision_avg: 0.77741\n",
      "recall_avg: 0.60940\n",
      "f1_score_avg: 0.67423\n",
      ">>>>>>>>>>>>>>>>>>>>>>>>>>>>>>>>>>>>>>>>>>>>>>\n",
      "C = 0.004762\n",
      "tol = 0.010000\n"
     ]
    },
    {
     "name": "stderr",
     "output_type": "stream",
     "text": [
      "[Parallel(n_jobs=-1)]: Done   1 out of   1 | elapsed: 67.9min finished\n",
      "[Parallel(n_jobs=-1)]: Using backend ThreadingBackend with 30 concurrent workers.\n"
     ]
    },
    {
     "name": "stdout",
     "output_type": "stream",
     "text": [
      "max_iter reached after 4096 seconds\n",
      "done in 4095.264s.\n",
      "accuracy：0.60940\n",
      "precision_avg: 0.77741\n",
      "recall_avg: 0.60940\n",
      "f1_score_avg: 0.67423\n",
      ">>>>>>>>>>>>>>>>>>>>>>>>>>>>>>>>>>>>>>>>>>>>>>\n",
      "C = 0.004762\n",
      "tol = 0.001000\n"
     ]
    },
    {
     "name": "stderr",
     "output_type": "stream",
     "text": [
      "[Parallel(n_jobs=-1)]: Done   1 out of   1 | elapsed: 68.3min finished\n",
      "[Parallel(n_jobs=-1)]: Using backend ThreadingBackend with 30 concurrent workers.\n"
     ]
    },
    {
     "name": "stdout",
     "output_type": "stream",
     "text": [
      "max_iter reached after 4052 seconds\n",
      "done in 4052.821s.\n",
      "accuracy：0.60940\n",
      "precision_avg: 0.77741\n",
      "recall_avg: 0.60940\n",
      "f1_score_avg: 0.67423\n",
      ">>>>>>>>>>>>>>>>>>>>>>>>>>>>>>>>>>>>>>>>>>>>>>\n"
     ]
    },
    {
     "name": "stderr",
     "output_type": "stream",
     "text": [
      "[Parallel(n_jobs=-1)]: Done   1 out of   1 | elapsed: 67.5min finished\n"
     ]
    }
   ],
   "source": [
    "for C in C_range:\n",
    "    for tol in tol_range:\n",
    "        print('C = %f' % C)\n",
    "        print('tol = %f' % tol)\n",
    "        clf = LogisticRegression(\n",
    "                                    penalty = 'elasticnet',\n",
    "                                    tol = tol,\n",
    "                                    C = C,\n",
    "                                    class_weight = 'balanced',\n",
    "                                    random_state = 2020,\n",
    "                                    solver = 'saga',\n",
    "                                    # max_iter=100, # C =  10.0* 50.0/105000, max_iter reached after 41 seconds\n",
    "                                    # max_iter= 1000, # C =  10.0* 50.0/105000, max_iter reached after 404 seconds\n",
    "                                    max_iter= 10000,\n",
    "                                    multi_class = 'multinomial',\n",
    "                                    verbose = 1,\n",
    "                                    n_jobs = -1,\n",
    "                                    l1_ratio = 0.5  \n",
    "                                )\n",
    "        t0 = time()\n",
    "        clf.fit(train_x, train_y)\n",
    "        print(\"done in %0.3fs.\" % (time() - t0))\n",
    "        predict_y = clf.predict(valid_x)\n",
    "        # predict_prob_y = clf.predict_proba(valid_x)\n",
    "        # 评价指标值\n",
    "        accuracy, precision_avg, recall_avg, f1_score_avg = eval_p_r_f1(valid_y, predict_y)\n",
    "        print('accuracy：%0.5f' % accuracy)\n",
    "        print('precision_avg: %0.5f' % precision_avg)\n",
    "        print('recall_avg: %0.5f' % recall_avg)\n",
    "        print('f1_score_avg: %0.5f' % f1_score_avg)\n",
    "        print('>>>>>>>>>>>>>>>>>>>>>>>>>>>>>>>>>>>>>>>>>>>>>>')"
   ]
  },
  {
   "cell_type": "raw",
   "metadata": {},
   "source": [
    "service 训练、验证"
   ]
  },
  {
   "cell_type": "code",
   "execution_count": 10,
   "metadata": {
    "collapsed": true,
    "jupyter": {
     "outputs_hidden": true,
     "source_hidden": true
    }
   },
   "outputs": [
    {
     "name": "stderr",
     "output_type": "stream",
     "text": [
      "[Parallel(n_jobs=-1)]: Using backend ThreadingBackend with 10 concurrent workers.\n"
     ]
    },
    {
     "name": "stdout",
     "output_type": "stream",
     "text": [
      "convergence after 2 epochs took 1 seconds\n",
      "done in 0.419s.\n",
      "num_0: 4482\n",
      "num_1: 1790\n",
      "num_2: 2178\n",
      "num_3: 6550\n",
      "total: 15000\n",
      "accuracy：0.59033\n",
      "precision_avg: 0.61867\n",
      "recall_avg: 0.59033\n",
      "f1_score_avg: 0.58655\n",
      ">>>>>>>>>>>>>>>>>>>>>>>>>>>>>>>>>>>>>>>>>>>>>>\n"
     ]
    },
    {
     "name": "stderr",
     "output_type": "stream",
     "text": [
      "[Parallel(n_jobs=-1)]: Done   1 out of   1 | elapsed:    0.4s finished\n"
     ]
    }
   ],
   "source": [
    "clf = LogisticRegression(\n",
    "                            penalty = 'elasticnet',\n",
    "                            tol = 0.1, #location上确定的最优参数\n",
    "                            C = 50.0/105000, #location上确定的最优参数\n",
    "                            class_weight = 'balanced',\n",
    "                            random_state = 2020,\n",
    "                            solver = 'saga',\n",
    "                            # max_iter=100, # C =  10.0* 50.0/105000, max_iter reached after 41 seconds\n",
    "                            # max_iter= 1000, # C =  10.0* 50.0/105000, max_iter reached after 404 seconds\n",
    "                            max_iter= 10000,\n",
    "                            multi_class = 'multinomial',\n",
    "                            verbose = 1,\n",
    "                            n_jobs = -1,\n",
    "                            l1_ratio = 0.5  \n",
    "                        )\n",
    "t0 = time()\n",
    "clf.fit(train_x, train_y)\n",
    "print(\"done in %0.3fs.\" % (time() - t0))\n",
    "predict_y = clf.predict(valid_x)\n",
    "# predict_prob_y = clf.predict_proba(valid_x)\n",
    "# 评价指标值\n",
    "accuracy, precision_avg, recall_avg, f1_score_avg = eval_p_r_f1(valid_y, predict_y)\n",
    "print('accuracy：%0.5f' % accuracy)\n",
    "print('precision_avg: %0.5f' % precision_avg)\n",
    "print('recall_avg: %0.5f' % recall_avg)\n",
    "print('f1_score_avg: %0.5f' % f1_score_avg)\n",
    "print('>>>>>>>>>>>>>>>>>>>>>>>>>>>>>>>>>>>>>>>>>>>>>>')"
   ]
  },
  {
   "cell_type": "raw",
   "metadata": {},
   "source": [
    "price 训练、验证"
   ]
  },
  {
   "cell_type": "code",
   "execution_count": 18,
   "metadata": {
    "collapsed": true,
    "jupyter": {
     "outputs_hidden": true,
     "source_hidden": true
    }
   },
   "outputs": [
    {
     "name": "stderr",
     "output_type": "stream",
     "text": [
      "[Parallel(n_jobs=-1)]: Using backend ThreadingBackend with 10 concurrent workers.\n"
     ]
    },
    {
     "name": "stdout",
     "output_type": "stream",
     "text": [
      "convergence after 3 epochs took 0 seconds\n",
      "done in 0.615s.\n",
      "num_0: 4431\n",
      "num_1: 1739\n",
      "num_2: 3417\n",
      "num_3: 5413\n",
      "total: 15000\n",
      "accuracy：0.57213\n",
      "precision_avg: 0.59960\n",
      "recall_avg: 0.57213\n",
      "f1_score_avg: 0.56123\n",
      ">>>>>>>>>>>>>>>>>>>>>>>>>>>>>>>>>>>>>>>>>>>>>>\n"
     ]
    },
    {
     "name": "stderr",
     "output_type": "stream",
     "text": [
      "[Parallel(n_jobs=-1)]: Done   1 out of   1 | elapsed:    0.5s finished\n"
     ]
    }
   ],
   "source": [
    "clf = LogisticRegression(\n",
    "                            penalty = 'elasticnet',\n",
    "                            tol = 0.1, #location上确定的最优参数\n",
    "                            C = 50.0/105000, #location上确定的最优参数\n",
    "                            class_weight = 'balanced',\n",
    "                            random_state = 2020,\n",
    "                            solver = 'saga',\n",
    "                            # max_iter=100, # C =  10.0* 50.0/105000, max_iter reached after 41 seconds\n",
    "                            # max_iter= 1000, # C =  10.0* 50.0/105000, max_iter reached after 404 seconds\n",
    "                            max_iter= 10000,\n",
    "                            multi_class = 'multinomial',\n",
    "                            verbose = 1,\n",
    "                            n_jobs = -1,\n",
    "                            l1_ratio = 0.5  \n",
    "                        )\n",
    "t0 = time()\n",
    "clf.fit(train_x, train_y)\n",
    "print(\"done in %0.3fs.\" % (time() - t0))\n",
    "predict_y = clf.predict(valid_x)\n",
    "# predict_prob_y = clf.predict_proba(valid_x)\n",
    "# 评价指标值\n",
    "accuracy, precision_avg, recall_avg, f1_score_avg = eval_p_r_f1(valid_y, predict_y)\n",
    "print('accuracy：%0.5f' % accuracy)\n",
    "print('precision_avg: %0.5f' % precision_avg)\n",
    "print('recall_avg: %0.5f' % recall_avg)\n",
    "print('f1_score_avg: %0.5f' % f1_score_avg)\n",
    "print('>>>>>>>>>>>>>>>>>>>>>>>>>>>>>>>>>>>>>>>>>>>>>>')"
   ]
  },
  {
   "cell_type": "raw",
   "metadata": {},
   "source": [
    "env 训练、验证"
   ]
  },
  {
   "cell_type": "code",
   "execution_count": 26,
   "metadata": {
    "collapsed": true,
    "jupyter": {
     "outputs_hidden": true,
     "source_hidden": true
    }
   },
   "outputs": [
    {
     "name": "stderr",
     "output_type": "stream",
     "text": [
      "[Parallel(n_jobs=-1)]: Using backend ThreadingBackend with 10 concurrent workers.\n"
     ]
    },
    {
     "name": "stdout",
     "output_type": "stream",
     "text": [
      "convergence after 2 epochs took 1 seconds\n",
      "done in 0.414s.\n",
      "num_0: 5400\n",
      "num_1: 1214\n",
      "num_2: 1419\n",
      "num_3: 6967\n",
      "total: 15000\n",
      "accuracy：0.61880\n",
      "precision_avg: 0.66712\n",
      "recall_avg: 0.61880\n",
      "f1_score_avg: 0.62599\n",
      ">>>>>>>>>>>>>>>>>>>>>>>>>>>>>>>>>>>>>>>>>>>>>>\n"
     ]
    },
    {
     "name": "stderr",
     "output_type": "stream",
     "text": [
      "[Parallel(n_jobs=-1)]: Done   1 out of   1 | elapsed:    0.4s finished\n"
     ]
    }
   ],
   "source": [
    "clf = LogisticRegression(\n",
    "                            penalty = 'elasticnet',\n",
    "                            tol = 0.1, #location上确定的最优参数\n",
    "                            C = 50.0/105000, #location上确定的最优参数\n",
    "                            class_weight = 'balanced',\n",
    "                            random_state = 2020,\n",
    "                            solver = 'saga',\n",
    "                            # max_iter=100, # C =  10.0* 50.0/105000, max_iter reached after 41 seconds\n",
    "                            # max_iter= 1000, # C =  10.0* 50.0/105000, max_iter reached after 404 seconds\n",
    "                            max_iter= 10000,\n",
    "                            multi_class = 'multinomial',\n",
    "                            verbose = 1,\n",
    "                            n_jobs = -1,\n",
    "                            l1_ratio = 0.5  \n",
    "                        )\n",
    "t0 = time()\n",
    "clf.fit(train_x, train_y)\n",
    "print(\"done in %0.3fs.\" % (time() - t0))\n",
    "predict_y = clf.predict(valid_x)\n",
    "# predict_prob_y = clf.predict_proba(valid_x)\n",
    "# 评价指标值\n",
    "accuracy, precision_avg, recall_avg, f1_score_avg = eval_p_r_f1(valid_y, predict_y)\n",
    "print('accuracy：%0.5f' % accuracy)\n",
    "print('precision_avg: %0.5f' % precision_avg)\n",
    "print('recall_avg: %0.5f' % recall_avg)\n",
    "print('f1_score_avg: %0.5f' % f1_score_avg)\n",
    "print('>>>>>>>>>>>>>>>>>>>>>>>>>>>>>>>>>>>>>>>>>>>>>>')"
   ]
  },
  {
   "cell_type": "raw",
   "metadata": {},
   "source": [
    "dish 训练、验证"
   ]
  },
  {
   "cell_type": "code",
   "execution_count": 34,
   "metadata": {
    "collapsed": true,
    "jupyter": {
     "outputs_hidden": true,
     "source_hidden": true
    }
   },
   "outputs": [
    {
     "name": "stderr",
     "output_type": "stream",
     "text": [
      "[Parallel(n_jobs=-1)]: Using backend ThreadingBackend with 10 concurrent workers.\n"
     ]
    },
    {
     "name": "stdout",
     "output_type": "stream",
     "text": [
      "convergence after 4 epochs took 1 seconds\n",
      "done in 0.816s.\n",
      "num_0: 475\n",
      "num_1: 1516\n",
      "num_2: 3251\n",
      "num_3: 9758\n",
      "total: 15000\n",
      "accuracy：0.54213\n",
      "precision_avg: 0.66600\n",
      "recall_avg: 0.54213\n",
      "f1_score_avg: 0.58105\n",
      ">>>>>>>>>>>>>>>>>>>>>>>>>>>>>>>>>>>>>>>>>>>>>>\n"
     ]
    },
    {
     "name": "stderr",
     "output_type": "stream",
     "text": [
      "[Parallel(n_jobs=-1)]: Done   1 out of   1 | elapsed:    0.8s finished\n"
     ]
    }
   ],
   "source": [
    "clf = LogisticRegression(\n",
    "                            penalty = 'elasticnet',\n",
    "                            tol = 0.1, #location上确定的最优参数\n",
    "                            C = 50.0/105000, #location上确定的最优参数\n",
    "                            class_weight = 'balanced',\n",
    "                            random_state = 2020,\n",
    "                            solver = 'saga',\n",
    "                            # max_iter=100, # C =  10.0* 50.0/105000, max_iter reached after 41 seconds\n",
    "                            # max_iter= 1000, # C =  10.0* 50.0/105000, max_iter reached after 404 seconds\n",
    "                            max_iter= 10000,\n",
    "                            multi_class = 'multinomial',\n",
    "                            verbose = 1,\n",
    "                            n_jobs = -1,\n",
    "                            l1_ratio = 0.5  \n",
    "                        )\n",
    "t0 = time()\n",
    "clf.fit(train_x, train_y)\n",
    "print(\"done in %0.3fs.\" % (time() - t0))\n",
    "predict_y = clf.predict(valid_x)\n",
    "# predict_prob_y = clf.predict_proba(valid_x)\n",
    "# 评价指标值\n",
    "accuracy, precision_avg, recall_avg, f1_score_avg = eval_p_r_f1(valid_y, predict_y)\n",
    "print('accuracy：%0.5f' % accuracy)\n",
    "print('precision_avg: %0.5f' % precision_avg)\n",
    "print('recall_avg: %0.5f' % recall_avg)\n",
    "print('f1_score_avg: %0.5f' % f1_score_avg)\n",
    "print('>>>>>>>>>>>>>>>>>>>>>>>>>>>>>>>>>>>>>>>>>>>>>>')"
   ]
  },
  {
   "cell_type": "raw",
   "metadata": {},
   "source": [
    "service 调参"
   ]
  },
  {
   "cell_type": "code",
   "execution_count": 10,
   "metadata": {
    "collapsed": true,
    "jupyter": {
     "outputs_hidden": true,
     "source_hidden": true
    }
   },
   "outputs": [
    {
     "name": "stdout",
     "output_type": "stream",
     "text": [
      "C = 0.000048\n",
      "tol = 0.100000\n"
     ]
    },
    {
     "name": "stderr",
     "output_type": "stream",
     "text": [
      "[Parallel(n_jobs=-1)]: Using backend ThreadingBackend with 20 concurrent workers.\n"
     ]
    },
    {
     "name": "stdout",
     "output_type": "stream",
     "text": [
      "convergence after 5 epochs took 1 seconds\n",
      "done in 0.823s.\n",
      "num_0: 4482\n",
      "num_1: 1790\n",
      "num_2: 2178\n",
      "num_3: 6550\n",
      "total: 15000\n",
      "accuracy：0.42520\n",
      "precision_avg: 0.45900\n",
      "recall_avg: 0.42520\n",
      "f1_score_avg: 0.36104\n",
      ">>>>>>>>>>>>>>>>>>>>>>>>>>>>>>>>>>>>>>>>>>>>>>\n",
      "C = 0.000048\n",
      "tol = 0.010000\n"
     ]
    },
    {
     "name": "stderr",
     "output_type": "stream",
     "text": [
      "[Parallel(n_jobs=-1)]: Done   1 out of   1 | elapsed:    0.8s finished\n",
      "[Parallel(n_jobs=-1)]: Using backend ThreadingBackend with 20 concurrent workers.\n"
     ]
    },
    {
     "name": "stdout",
     "output_type": "stream",
     "text": [
      "convergence after 8 epochs took 1 seconds\n",
      "done in 1.220s.\n",
      "num_0: 4482\n",
      "num_1: 1790\n",
      "num_2: 2178\n",
      "num_3: 6550\n",
      "total: 15000\n",
      "accuracy：0.35740\n",
      "precision_avg: 0.19123\n",
      "recall_avg: 0.35740\n",
      "f1_score_avg: 0.24418\n",
      ">>>>>>>>>>>>>>>>>>>>>>>>>>>>>>>>>>>>>>>>>>>>>>\n",
      "C = 0.000048\n",
      "tol = 0.001000\n"
     ]
    },
    {
     "name": "stderr",
     "output_type": "stream",
     "text": [
      "[Parallel(n_jobs=-1)]: Done   1 out of   1 | elapsed:    1.1s finished\n",
      "[Parallel(n_jobs=-1)]: Using backend ThreadingBackend with 20 concurrent workers.\n"
     ]
    },
    {
     "name": "stdout",
     "output_type": "stream",
     "text": [
      "convergence after 13 epochs took 2 seconds\n",
      "done in 1.922s.\n",
      "num_0: 4482\n",
      "num_1: 1790\n",
      "num_2: 2178\n",
      "num_3: 6550\n",
      "total: 15000\n",
      "accuracy：0.41387\n",
      "precision_avg: 0.46189\n",
      "recall_avg: 0.41387\n",
      "f1_score_avg: 0.34336\n",
      ">>>>>>>>>>>>>>>>>>>>>>>>>>>>>>>>>>>>>>>>>>>>>>\n",
      "C = 0.000476\n",
      "tol = 0.100000\n"
     ]
    },
    {
     "name": "stderr",
     "output_type": "stream",
     "text": [
      "[Parallel(n_jobs=-1)]: Done   1 out of   1 | elapsed:    1.9s finished\n",
      "[Parallel(n_jobs=-1)]: Using backend ThreadingBackend with 20 concurrent workers.\n"
     ]
    },
    {
     "name": "stdout",
     "output_type": "stream",
     "text": [
      "convergence after 2 epochs took 1 seconds\n",
      "done in 0.418s.\n",
      "num_0: 4482\n",
      "num_1: 1790\n",
      "num_2: 2178\n",
      "num_3: 6550\n",
      "total: 15000\n",
      "accuracy：0.59033\n",
      "precision_avg: 0.61867\n",
      "recall_avg: 0.59033\n",
      "f1_score_avg: 0.58655\n",
      ">>>>>>>>>>>>>>>>>>>>>>>>>>>>>>>>>>>>>>>>>>>>>>\n",
      "C = 0.000476\n",
      "tol = 0.010000\n"
     ]
    },
    {
     "name": "stderr",
     "output_type": "stream",
     "text": [
      "[Parallel(n_jobs=-1)]: Done   1 out of   1 | elapsed:    0.4s finished\n",
      "[Parallel(n_jobs=-1)]: Using backend ThreadingBackend with 20 concurrent workers.\n"
     ]
    },
    {
     "name": "stdout",
     "output_type": "stream",
     "text": [
      "convergence after 7 epochs took 1 seconds\n",
      "done in 1.421s.\n",
      "num_0: 4482\n",
      "num_1: 1790\n",
      "num_2: 2178\n",
      "num_3: 6550\n",
      "total: 15000\n",
      "accuracy：0.57027\n",
      "precision_avg: 0.62168\n",
      "recall_avg: 0.57027\n",
      "f1_score_avg: 0.56943\n",
      ">>>>>>>>>>>>>>>>>>>>>>>>>>>>>>>>>>>>>>>>>>>>>>\n",
      "C = 0.000476\n",
      "tol = 0.001000\n"
     ]
    },
    {
     "name": "stderr",
     "output_type": "stream",
     "text": [
      "[Parallel(n_jobs=-1)]: Done   1 out of   1 | elapsed:    1.3s finished\n",
      "[Parallel(n_jobs=-1)]: Using backend ThreadingBackend with 20 concurrent workers.\n"
     ]
    },
    {
     "name": "stdout",
     "output_type": "stream",
     "text": [
      "convergence after 10 epochs took 2 seconds\n",
      "done in 2.126s.\n",
      "num_0: 4482\n",
      "num_1: 1790\n",
      "num_2: 2178\n",
      "num_3: 6550\n",
      "total: 15000\n",
      "accuracy：0.57000\n",
      "precision_avg: 0.62177\n",
      "recall_avg: 0.57000\n",
      "f1_score_avg: 0.56923\n",
      ">>>>>>>>>>>>>>>>>>>>>>>>>>>>>>>>>>>>>>>>>>>>>>\n",
      "C = 0.004762\n",
      "tol = 0.100000\n"
     ]
    },
    {
     "name": "stderr",
     "output_type": "stream",
     "text": [
      "[Parallel(n_jobs=-1)]: Done   1 out of   1 | elapsed:    2.1s finished\n",
      "[Parallel(n_jobs=-1)]: Using backend ThreadingBackend with 20 concurrent workers.\n"
     ]
    },
    {
     "name": "stdout",
     "output_type": "stream",
     "text": [
      "convergence after 2 epochs took 1 seconds\n",
      "done in 1.121s.\n",
      "num_0: 4482\n",
      "num_1: 1790\n",
      "num_2: 2178\n",
      "num_3: 6550\n",
      "total: 15000\n",
      "accuracy：0.59953\n",
      "precision_avg: 0.62679\n",
      "recall_avg: 0.59953\n",
      "f1_score_avg: 0.60276\n",
      ">>>>>>>>>>>>>>>>>>>>>>>>>>>>>>>>>>>>>>>>>>>>>>\n",
      "C = 0.004762\n",
      "tol = 0.010000\n"
     ]
    },
    {
     "name": "stderr",
     "output_type": "stream",
     "text": [
      "[Parallel(n_jobs=-1)]: Done   1 out of   1 | elapsed:    1.0s finished\n",
      "[Parallel(n_jobs=-1)]: Using backend ThreadingBackend with 20 concurrent workers.\n"
     ]
    },
    {
     "name": "stdout",
     "output_type": "stream",
     "text": [
      "convergence after 13 epochs took 11 seconds\n",
      "done in 10.158s.\n",
      "num_0: 4482\n",
      "num_1: 1790\n",
      "num_2: 2178\n",
      "num_3: 6550\n",
      "total: 15000\n",
      "accuracy：0.61033\n",
      "precision_avg: 0.64328\n",
      "recall_avg: 0.61033\n",
      "f1_score_avg: 0.61217\n",
      ">>>>>>>>>>>>>>>>>>>>>>>>>>>>>>>>>>>>>>>>>>>>>>\n",
      "C = 0.004762\n",
      "tol = 0.001000\n"
     ]
    },
    {
     "name": "stderr",
     "output_type": "stream",
     "text": [
      "[Parallel(n_jobs=-1)]: Done   1 out of   1 | elapsed:   10.1s finished\n",
      "[Parallel(n_jobs=-1)]: Using backend ThreadingBackend with 20 concurrent workers.\n"
     ]
    },
    {
     "name": "stdout",
     "output_type": "stream",
     "text": [
      "convergence after 17 epochs took 16 seconds\n",
      "done in 16.391s.\n",
      "num_0: 4482\n",
      "num_1: 1790\n",
      "num_2: 2178\n",
      "num_3: 6550\n",
      "total: 15000\n",
      "accuracy：0.61013\n",
      "precision_avg: 0.64313\n",
      "recall_avg: 0.61013\n",
      "f1_score_avg: 0.61198\n",
      ">>>>>>>>>>>>>>>>>>>>>>>>>>>>>>>>>>>>>>>>>>>>>>\n"
     ]
    },
    {
     "name": "stderr",
     "output_type": "stream",
     "text": [
      "[Parallel(n_jobs=-1)]: Done   1 out of   1 | elapsed:   16.4s finished\n"
     ]
    }
   ],
   "source": [
    "C_range = [0.1*50.0/105000, 50.0/105000, 10*50.0/105000] \n",
    "tol_range = [0.1, 0.01, 0.001]\n",
    "\n",
    "for C in C_range:\n",
    "    for tol in tol_range:\n",
    "        print('C = %f' % C)\n",
    "        print('tol = %f' % tol)\n",
    "        clf = LogisticRegression(\n",
    "                                    penalty = 'elasticnet',\n",
    "                                    tol = tol,\n",
    "                                    C = C,\n",
    "                                    class_weight = 'balanced',\n",
    "                                    random_state = 2020,\n",
    "                                    solver = 'saga',\n",
    "                                    # max_iter=100, # C =  10.0* 50.0/105000, max_iter reached after 41 seconds\n",
    "                                    # max_iter= 1000, # C =  10.0* 50.0/105000, max_iter reached after 404 seconds\n",
    "                                    max_iter= 10000,\n",
    "                                    multi_class = 'multinomial',\n",
    "                                    verbose = 1,\n",
    "                                    n_jobs = -1,\n",
    "                                    l1_ratio = 0.5  \n",
    "                                )\n",
    "        t0 = time()\n",
    "        clf.fit(train_x, train_y)\n",
    "        print(\"done in %0.3fs.\" % (time() - t0))\n",
    "        predict_y = clf.predict(valid_x)\n",
    "        # predict_prob_y = clf.predict_proba(valid_x)\n",
    "        # 评价指标值\n",
    "        accuracy, precision_avg, recall_avg, f1_score_avg = eval_p_r_f1(valid_y, predict_y)\n",
    "        print('accuracy：%0.5f' % accuracy)\n",
    "        print('precision_avg: %0.5f' % precision_avg)\n",
    "        print('recall_avg: %0.5f' % recall_avg)\n",
    "        print('f1_score_avg: %0.5f' % f1_score_avg)\n",
    "        print('>>>>>>>>>>>>>>>>>>>>>>>>>>>>>>>>>>>>>>>>>>>>>>')"
   ]
  },
  {
   "cell_type": "code",
   "execution_count": 11,
   "metadata": {
    "collapsed": true,
    "jupyter": {
     "outputs_hidden": true,
     "source_hidden": true
    }
   },
   "outputs": [
    {
     "name": "stdout",
     "output_type": "stream",
     "text": [
      "C = 0.047619\n",
      "tol = 0.100000\n"
     ]
    },
    {
     "name": "stderr",
     "output_type": "stream",
     "text": [
      "[Parallel(n_jobs=-1)]: Using backend ThreadingBackend with 20 concurrent workers.\n"
     ]
    },
    {
     "name": "stdout",
     "output_type": "stream",
     "text": [
      "convergence after 3 epochs took 5 seconds\n",
      "done in 5.341s.\n",
      "num_0: 4482\n",
      "num_1: 1790\n",
      "num_2: 2178\n",
      "num_3: 6550\n",
      "total: 15000\n",
      "accuracy：0.58907\n",
      "precision_avg: 0.63539\n",
      "recall_avg: 0.58907\n",
      "f1_score_avg: 0.59345\n",
      ">>>>>>>>>>>>>>>>>>>>>>>>>>>>>>>>>>>>>>>>>>>>>>\n",
      "C = 0.047619\n",
      "tol = 0.010000\n"
     ]
    },
    {
     "name": "stderr",
     "output_type": "stream",
     "text": [
      "[Parallel(n_jobs=-1)]: Done   1 out of   1 | elapsed:    5.3s finished\n",
      "[Parallel(n_jobs=-1)]: Using backend ThreadingBackend with 20 concurrent workers.\n"
     ]
    },
    {
     "name": "stdout",
     "output_type": "stream",
     "text": [
      "convergence after 10 epochs took 12 seconds\n",
      "done in 11.866s.\n",
      "num_0: 4482\n",
      "num_1: 1790\n",
      "num_2: 2178\n",
      "num_3: 6550\n",
      "total: 15000\n",
      "accuracy：0.61000\n",
      "precision_avg: 0.64311\n",
      "recall_avg: 0.61000\n",
      "f1_score_avg: 0.61302\n",
      ">>>>>>>>>>>>>>>>>>>>>>>>>>>>>>>>>>>>>>>>>>>>>>\n",
      "C = 0.047619\n",
      "tol = 0.001000\n"
     ]
    },
    {
     "name": "stderr",
     "output_type": "stream",
     "text": [
      "[Parallel(n_jobs=-1)]: Done   1 out of   1 | elapsed:   11.8s finished\n",
      "[Parallel(n_jobs=-1)]: Using backend ThreadingBackend with 20 concurrent workers.\n"
     ]
    },
    {
     "name": "stdout",
     "output_type": "stream",
     "text": [
      "convergence after 110 epochs took 234 seconds\n",
      "done in 234.410s.\n",
      "num_0: 4482\n",
      "num_1: 1790\n",
      "num_2: 2178\n",
      "num_3: 6550\n",
      "total: 15000\n",
      "accuracy：0.61007\n",
      "precision_avg: 0.64294\n",
      "recall_avg: 0.61007\n",
      "f1_score_avg: 0.61298\n",
      ">>>>>>>>>>>>>>>>>>>>>>>>>>>>>>>>>>>>>>>>>>>>>>\n"
     ]
    },
    {
     "name": "stderr",
     "output_type": "stream",
     "text": [
      "[Parallel(n_jobs=-1)]: Done   1 out of   1 | elapsed:  3.9min finished\n"
     ]
    }
   ],
   "source": [
    "# 上面的最优参数取在边界，所以需要进一步确定\n",
    "C_range = [100*50.0/105000] \n",
    "tol_range = [0.1, 0.01, 0.001]\n",
    "\n",
    "for C in C_range:\n",
    "    for tol in tol_range:\n",
    "        print('C = %f' % C)\n",
    "        print('tol = %f' % tol)\n",
    "        clf = LogisticRegression(\n",
    "                                    penalty = 'elasticnet',\n",
    "                                    tol = tol,\n",
    "                                    C = C,\n",
    "                                    class_weight = 'balanced',\n",
    "                                    random_state = 2020,\n",
    "                                    solver = 'saga',\n",
    "                                    # max_iter=100, # C =  10.0* 50.0/105000, max_iter reached after 41 seconds\n",
    "                                    # max_iter= 1000, # C =  10.0* 50.0/105000, max_iter reached after 404 seconds\n",
    "                                    max_iter= 10000,\n",
    "                                    multi_class = 'multinomial',\n",
    "                                    verbose = 1,\n",
    "                                    n_jobs = -1,\n",
    "                                    l1_ratio = 0.5  \n",
    "                                )\n",
    "        t0 = time()\n",
    "        clf.fit(train_x, train_y)\n",
    "        print(\"done in %0.3fs.\" % (time() - t0))\n",
    "        predict_y = clf.predict(valid_x)\n",
    "        # predict_prob_y = clf.predict_proba(valid_x)\n",
    "        # 评价指标值\n",
    "        accuracy, precision_avg, recall_avg, f1_score_avg = eval_p_r_f1(valid_y, predict_y)\n",
    "        print('accuracy：%0.5f' % accuracy)\n",
    "        print('precision_avg: %0.5f' % precision_avg)\n",
    "        print('recall_avg: %0.5f' % recall_avg)\n",
    "        print('f1_score_avg: %0.5f' % f1_score_avg)\n",
    "        print('>>>>>>>>>>>>>>>>>>>>>>>>>>>>>>>>>>>>>>>>>>>>>>')"
   ]
  },
  {
   "cell_type": "code",
   "execution_count": 12,
   "metadata": {
    "collapsed": true,
    "jupyter": {
     "outputs_hidden": true,
     "source_hidden": true
    }
   },
   "outputs": [
    {
     "name": "stdout",
     "output_type": "stream",
     "text": [
      "C = 0.476190\n",
      "tol = 0.100000\n"
     ]
    },
    {
     "name": "stderr",
     "output_type": "stream",
     "text": [
      "[Parallel(n_jobs=-1)]: Using backend ThreadingBackend with 20 concurrent workers.\n"
     ]
    },
    {
     "name": "stdout",
     "output_type": "stream",
     "text": [
      "convergence after 3 epochs took 8 seconds\n",
      "done in 7.761s.\n",
      "num_0: 4482\n",
      "num_1: 1790\n",
      "num_2: 2178\n",
      "num_3: 6550\n",
      "total: 15000\n",
      "accuracy：0.58673\n",
      "precision_avg: 0.63434\n",
      "recall_avg: 0.58673\n",
      "f1_score_avg: 0.59162\n",
      ">>>>>>>>>>>>>>>>>>>>>>>>>>>>>>>>>>>>>>>>>>>>>>\n",
      "C = 0.476190\n",
      "tol = 0.010000\n"
     ]
    },
    {
     "name": "stderr",
     "output_type": "stream",
     "text": [
      "[Parallel(n_jobs=-1)]: Done   1 out of   1 | elapsed:    7.7s finished\n",
      "[Parallel(n_jobs=-1)]: Using backend ThreadingBackend with 20 concurrent workers.\n"
     ]
    },
    {
     "name": "stdout",
     "output_type": "stream",
     "text": [
      "convergence after 10 epochs took 21 seconds\n",
      "done in 21.007s.\n",
      "num_0: 4482\n",
      "num_1: 1790\n",
      "num_2: 2178\n",
      "num_3: 6550\n",
      "total: 15000\n",
      "accuracy：0.60953\n",
      "precision_avg: 0.64224\n",
      "recall_avg: 0.60953\n",
      "f1_score_avg: 0.61255\n",
      ">>>>>>>>>>>>>>>>>>>>>>>>>>>>>>>>>>>>>>>>>>>>>>\n",
      "C = 0.476190\n",
      "tol = 0.001000\n"
     ]
    },
    {
     "name": "stderr",
     "output_type": "stream",
     "text": [
      "[Parallel(n_jobs=-1)]: Done   1 out of   1 | elapsed:   21.0s finished\n",
      "[Parallel(n_jobs=-1)]: Using backend ThreadingBackend with 20 concurrent workers.\n"
     ]
    },
    {
     "name": "stdout",
     "output_type": "stream",
     "text": [
      "convergence after 17 epochs took 30 seconds\n",
      "done in 30.740s.\n",
      "num_0: 4482\n",
      "num_1: 1790\n",
      "num_2: 2178\n",
      "num_3: 6550\n",
      "total: 15000\n",
      "accuracy：0.61000\n",
      "precision_avg: 0.64276\n",
      "recall_avg: 0.61000\n",
      "f1_score_avg: 0.61307\n",
      ">>>>>>>>>>>>>>>>>>>>>>>>>>>>>>>>>>>>>>>>>>>>>>\n"
     ]
    },
    {
     "name": "stderr",
     "output_type": "stream",
     "text": [
      "[Parallel(n_jobs=-1)]: Done   1 out of   1 | elapsed:   30.7s finished\n"
     ]
    }
   ],
   "source": [
    "# 上面的最优参数取在边界，所以需要进一步确定\n",
    "C_range = [1000*50.0/105000] \n",
    "tol_range = [0.1, 0.01, 0.001]\n",
    "\n",
    "for C in C_range:\n",
    "    for tol in tol_range:\n",
    "        print('C = %f' % C)\n",
    "        print('tol = %f' % tol)\n",
    "        clf = LogisticRegression(\n",
    "                                    penalty = 'elasticnet',\n",
    "                                    tol = tol,\n",
    "                                    C = C,\n",
    "                                    class_weight = 'balanced',\n",
    "                                    random_state = 2020,\n",
    "                                    solver = 'saga',\n",
    "                                    # max_iter=100, # C =  10.0* 50.0/105000, max_iter reached after 41 seconds\n",
    "                                    # max_iter= 1000, # C =  10.0* 50.0/105000, max_iter reached after 404 seconds\n",
    "                                    max_iter= 10000,\n",
    "                                    multi_class = 'multinomial',\n",
    "                                    verbose = 1,\n",
    "                                    n_jobs = -1,\n",
    "                                    l1_ratio = 0.5  \n",
    "                                )\n",
    "        t0 = time()\n",
    "        clf.fit(train_x, train_y)\n",
    "        print(\"done in %0.3fs.\" % (time() - t0))\n",
    "        predict_y = clf.predict(valid_x)\n",
    "        # predict_prob_y = clf.predict_proba(valid_x)\n",
    "        # 评价指标值\n",
    "        accuracy, precision_avg, recall_avg, f1_score_avg = eval_p_r_f1(valid_y, predict_y)\n",
    "        print('accuracy：%0.5f' % accuracy)\n",
    "        print('precision_avg: %0.5f' % precision_avg)\n",
    "        print('recall_avg: %0.5f' % recall_avg)\n",
    "        print('f1_score_avg: %0.5f' % f1_score_avg)\n",
    "        print('>>>>>>>>>>>>>>>>>>>>>>>>>>>>>>>>>>>>>>>>>>>>>>')"
   ]
  },
  {
   "cell_type": "code",
   "execution_count": 13,
   "metadata": {
    "collapsed": true,
    "jupyter": {
     "outputs_hidden": true,
     "source_hidden": true
    }
   },
   "outputs": [
    {
     "name": "stdout",
     "output_type": "stream",
     "text": [
      "C = 0.476190\n",
      "tol = 0.000100\n"
     ]
    },
    {
     "name": "stderr",
     "output_type": "stream",
     "text": [
      "[Parallel(n_jobs=-1)]: Using backend ThreadingBackend with 20 concurrent workers.\n"
     ]
    },
    {
     "name": "stdout",
     "output_type": "stream",
     "text": [
      "convergence after 1069 epochs took 2432 seconds\n",
      "done in 2432.358s.\n",
      "num_0: 4482\n",
      "num_1: 1790\n",
      "num_2: 2178\n",
      "num_3: 6550\n",
      "total: 15000\n",
      "accuracy：0.60980\n",
      "precision_avg: 0.64332\n",
      "recall_avg: 0.60980\n",
      "f1_score_avg: 0.61283\n",
      ">>>>>>>>>>>>>>>>>>>>>>>>>>>>>>>>>>>>>>>>>>>>>>\n",
      "C = 0.476190\n",
      "tol = 0.000010\n"
     ]
    },
    {
     "name": "stderr",
     "output_type": "stream",
     "text": [
      "[Parallel(n_jobs=-1)]: Done   1 out of   1 | elapsed: 40.5min finished\n",
      "[Parallel(n_jobs=-1)]: Using backend ThreadingBackend with 20 concurrent workers.\n"
     ]
    },
    {
     "name": "stdout",
     "output_type": "stream",
     "text": [
      "convergence after 1628 epochs took 3784 seconds\n",
      "done in 3783.575s.\n",
      "num_0: 4482\n",
      "num_1: 1790\n",
      "num_2: 2178\n",
      "num_3: 6550\n",
      "total: 15000\n",
      "accuracy：0.60993\n",
      "precision_avg: 0.64339\n",
      "recall_avg: 0.60993\n",
      "f1_score_avg: 0.61293\n",
      ">>>>>>>>>>>>>>>>>>>>>>>>>>>>>>>>>>>>>>>>>>>>>>\n"
     ]
    },
    {
     "name": "stderr",
     "output_type": "stream",
     "text": [
      "[Parallel(n_jobs=-1)]: Done   1 out of   1 | elapsed: 63.1min finished\n"
     ]
    }
   ],
   "source": [
    "# 上面的最优参数取在边界，所以需要进一步确定\n",
    "\n",
    "C_range = [1000*50.0/105000] \n",
    "\n",
    "tol_range = [0.0001, 0.00001]\n",
    "\n",
    "for C in C_range:\n",
    "    for tol in tol_range:\n",
    "        print('C = %f' % C)\n",
    "        print('tol = %f' % tol)\n",
    "        clf = LogisticRegression(\n",
    "                                    penalty = 'elasticnet',\n",
    "                                    tol = tol,\n",
    "                                    C = C,\n",
    "                                    class_weight = 'balanced',\n",
    "                                    random_state = 2020,\n",
    "                                    solver = 'saga',\n",
    "                                    # max_iter=100, # C =  10.0* 50.0/105000, max_iter reached after 41 seconds\n",
    "                                    # max_iter= 1000, # C =  10.0* 50.0/105000, max_iter reached after 404 seconds\n",
    "                                    max_iter= 10000,\n",
    "                                    multi_class = 'multinomial',\n",
    "                                    verbose = 1,\n",
    "                                    n_jobs = -1,\n",
    "                                    l1_ratio = 0.5  \n",
    "                                )\n",
    "        t0 = time()\n",
    "        clf.fit(train_x, train_y)\n",
    "        print(\"done in %0.3fs.\" % (time() - t0))\n",
    "        predict_y = clf.predict(valid_x)\n",
    "        # predict_prob_y = clf.predict_proba(valid_x)\n",
    "        # 评价指标值\n",
    "        accuracy, precision_avg, recall_avg, f1_score_avg = eval_p_r_f1(valid_y, predict_y)\n",
    "        print('accuracy：%0.5f' % accuracy)\n",
    "        print('precision_avg: %0.5f' % precision_avg)\n",
    "        print('recall_avg: %0.5f' % recall_avg)\n",
    "        print('f1_score_avg: %0.5f' % f1_score_avg)\n",
    "        print('>>>>>>>>>>>>>>>>>>>>>>>>>>>>>>>>>>>>>>>>>>>>>>')"
   ]
  },
  {
   "cell_type": "code",
   "execution_count": 14,
   "metadata": {
    "collapsed": true,
    "jupyter": {
     "outputs_hidden": true,
     "source_hidden": true
    }
   },
   "outputs": [
    {
     "name": "stdout",
     "output_type": "stream",
     "text": [
      "C = 4.761905\n",
      "tol = 0.100000\n"
     ]
    },
    {
     "name": "stderr",
     "output_type": "stream",
     "text": [
      "[Parallel(n_jobs=-1)]: Using backend ThreadingBackend with 20 concurrent workers.\n"
     ]
    },
    {
     "name": "stdout",
     "output_type": "stream",
     "text": [
      "convergence after 3 epochs took 8 seconds\n",
      "done in 7.954s.\n",
      "num_0: 4482\n",
      "num_1: 1790\n",
      "num_2: 2178\n",
      "num_3: 6550\n",
      "total: 15000\n",
      "accuracy：0.58667\n",
      "precision_avg: 0.63444\n",
      "recall_avg: 0.58667\n",
      "f1_score_avg: 0.59159\n",
      ">>>>>>>>>>>>>>>>>>>>>>>>>>>>>>>>>>>>>>>>>>>>>>\n",
      "C = 4.761905\n",
      "tol = 0.010000\n"
     ]
    },
    {
     "name": "stderr",
     "output_type": "stream",
     "text": [
      "[Parallel(n_jobs=-1)]: Done   1 out of   1 | elapsed:    7.9s finished\n",
      "[Parallel(n_jobs=-1)]: Using backend ThreadingBackend with 20 concurrent workers.\n"
     ]
    },
    {
     "name": "stdout",
     "output_type": "stream",
     "text": [
      "convergence after 10 epochs took 26 seconds\n",
      "done in 25.935s.\n",
      "num_0: 4482\n",
      "num_1: 1790\n",
      "num_2: 2178\n",
      "num_3: 6550\n",
      "total: 15000\n",
      "accuracy：0.60987\n",
      "precision_avg: 0.64246\n",
      "recall_avg: 0.60987\n",
      "f1_score_avg: 0.61291\n",
      ">>>>>>>>>>>>>>>>>>>>>>>>>>>>>>>>>>>>>>>>>>>>>>\n",
      "C = 4.761905\n",
      "tol = 0.001000\n"
     ]
    },
    {
     "name": "stderr",
     "output_type": "stream",
     "text": [
      "[Parallel(n_jobs=-1)]: Done   1 out of   1 | elapsed:   25.8s finished\n",
      "[Parallel(n_jobs=-1)]: Using backend ThreadingBackend with 20 concurrent workers.\n"
     ]
    },
    {
     "name": "stdout",
     "output_type": "stream",
     "text": [
      "convergence after 17 epochs took 39 seconds\n",
      "done in 39.567s.\n",
      "num_0: 4482\n",
      "num_1: 1790\n",
      "num_2: 2178\n",
      "num_3: 6550\n",
      "total: 15000\n",
      "accuracy：0.60980\n",
      "precision_avg: 0.64253\n",
      "recall_avg: 0.60980\n",
      "f1_score_avg: 0.61290\n",
      ">>>>>>>>>>>>>>>>>>>>>>>>>>>>>>>>>>>>>>>>>>>>>>\n",
      "C = 4.761905\n",
      "tol = 0.000100\n"
     ]
    },
    {
     "name": "stderr",
     "output_type": "stream",
     "text": [
      "[Parallel(n_jobs=-1)]: Done   1 out of   1 | elapsed:   39.5s finished\n",
      "[Parallel(n_jobs=-1)]: Using backend ThreadingBackend with 20 concurrent workers.\n"
     ]
    },
    {
     "name": "stdout",
     "output_type": "stream",
     "text": [
      "convergence after 39 epochs took 68 seconds\n",
      "done in 68.783s.\n",
      "num_0: 4482\n",
      "num_1: 1790\n",
      "num_2: 2178\n",
      "num_3: 6550\n",
      "total: 15000\n",
      "accuracy：0.60980\n",
      "precision_avg: 0.64254\n",
      "recall_avg: 0.60980\n",
      "f1_score_avg: 0.61288\n",
      ">>>>>>>>>>>>>>>>>>>>>>>>>>>>>>>>>>>>>>>>>>>>>>\n",
      "C = 4.761905\n",
      "tol = 0.000010\n"
     ]
    },
    {
     "name": "stderr",
     "output_type": "stream",
     "text": [
      "[Parallel(n_jobs=-1)]: Done   1 out of   1 | elapsed:  1.1min finished\n",
      "[Parallel(n_jobs=-1)]: Using backend ThreadingBackend with 20 concurrent workers.\n"
     ]
    },
    {
     "name": "stdout",
     "output_type": "stream",
     "text": [
      "max_iter reached after 23810 seconds\n",
      "done in 23809.849s.\n",
      "num_0: 4482\n",
      "num_1: 1790\n",
      "num_2: 2178\n",
      "num_3: 6550\n",
      "total: 15000\n",
      "accuracy：0.60987\n",
      "precision_avg: 0.64340\n",
      "recall_avg: 0.60987\n",
      "f1_score_avg: 0.61291\n",
      ">>>>>>>>>>>>>>>>>>>>>>>>>>>>>>>>>>>>>>>>>>>>>>\n"
     ]
    },
    {
     "name": "stderr",
     "output_type": "stream",
     "text": [
      "[Parallel(n_jobs=-1)]: Done   1 out of   1 | elapsed: 396.8min finished\n"
     ]
    }
   ],
   "source": [
    "# 上面的最优参数取在边界，所以需要进一步确定\n",
    "C_range = [10000*50.0/105000] \n",
    "tol_range = [0.1, 0.01, 0.001, 0.0001, 0.00001]\n",
    "\n",
    "for C in C_range:\n",
    "    for tol in tol_range:\n",
    "        print('C = %f' % C)\n",
    "        print('tol = %f' % tol)\n",
    "        clf = LogisticRegression(\n",
    "                                    penalty = 'elasticnet',\n",
    "                                    tol = tol,\n",
    "                                    C = C,\n",
    "                                    class_weight = 'balanced',\n",
    "                                    random_state = 2020,\n",
    "                                    solver = 'saga',\n",
    "                                    # max_iter=100, # C =  10.0* 50.0/105000, max_iter reached after 41 seconds\n",
    "                                    # max_iter= 1000, # C =  10.0* 50.0/105000, max_iter reached after 404 seconds\n",
    "                                    max_iter= 10000,\n",
    "                                    multi_class = 'multinomial',\n",
    "                                    verbose = 1,\n",
    "                                    n_jobs = -1,\n",
    "                                    l1_ratio = 0.5  \n",
    "                                )\n",
    "        t0 = time()\n",
    "        clf.fit(train_x, train_y)\n",
    "        print(\"done in %0.3fs.\" % (time() - t0))\n",
    "        predict_y = clf.predict(valid_x)\n",
    "        # predict_prob_y = clf.predict_proba(valid_x)\n",
    "        # 评价指标值\n",
    "        accuracy, precision_avg, recall_avg, f1_score_avg = eval_p_r_f1(valid_y, predict_y)\n",
    "        print('accuracy：%0.5f' % accuracy)\n",
    "        print('precision_avg: %0.5f' % precision_avg)\n",
    "        print('recall_avg: %0.5f' % recall_avg)\n",
    "        print('f1_score_avg: %0.5f' % f1_score_avg)\n",
    "        print('>>>>>>>>>>>>>>>>>>>>>>>>>>>>>>>>>>>>>>>>>>>>>>')"
   ]
  },
  {
   "cell_type": "raw",
   "metadata": {},
   "source": [
    "price 调参"
   ]
  },
  {
   "cell_type": "code",
   "execution_count": 10,
   "metadata": {
    "collapsed": true,
    "jupyter": {
     "outputs_hidden": true,
     "source_hidden": true
    }
   },
   "outputs": [
    {
     "name": "stdout",
     "output_type": "stream",
     "text": [
      "C = 0.000048\n",
      "tol = 0.100000\n"
     ]
    },
    {
     "name": "stderr",
     "output_type": "stream",
     "text": [
      "[Parallel(n_jobs=-1)]: Using backend ThreadingBackend with 20 concurrent workers.\n"
     ]
    },
    {
     "name": "stdout",
     "output_type": "stream",
     "text": [
      "convergence after 8 epochs took 1 seconds\n",
      "done in 1.324s.\n",
      "num_0: 4431\n",
      "num_1: 1739\n",
      "num_2: 3417\n",
      "num_3: 5413\n",
      "total: 15000\n",
      "accuracy：0.37840\n",
      "precision_avg: 0.46562\n",
      "recall_avg: 0.37840\n",
      "f1_score_avg: 0.27778\n",
      ">>>>>>>>>>>>>>>>>>>>>>>>>>>>>>>>>>>>>>>>>>>>>>\n",
      "C = 0.000048\n",
      "tol = 0.010000\n"
     ]
    },
    {
     "name": "stderr",
     "output_type": "stream",
     "text": [
      "[Parallel(n_jobs=-1)]: Done   1 out of   1 | elapsed:    1.2s finished\n",
      "[Parallel(n_jobs=-1)]: Using backend ThreadingBackend with 20 concurrent workers.\n"
     ]
    },
    {
     "name": "stdout",
     "output_type": "stream",
     "text": [
      "convergence after 9 epochs took 1 seconds\n",
      "done in 1.321s.\n",
      "num_0: 4431\n",
      "num_1: 1739\n",
      "num_2: 3417\n",
      "num_3: 5413\n",
      "total: 15000\n",
      "accuracy：0.37847\n",
      "precision_avg: 0.46606\n",
      "recall_avg: 0.37847\n",
      "f1_score_avg: 0.27784\n",
      ">>>>>>>>>>>>>>>>>>>>>>>>>>>>>>>>>>>>>>>>>>>>>>\n",
      "C = 0.000048\n",
      "tol = 0.001000\n"
     ]
    },
    {
     "name": "stderr",
     "output_type": "stream",
     "text": [
      "[Parallel(n_jobs=-1)]: Done   1 out of   1 | elapsed:    1.2s finished\n",
      "[Parallel(n_jobs=-1)]: Using backend ThreadingBackend with 20 concurrent workers.\n"
     ]
    },
    {
     "name": "stdout",
     "output_type": "stream",
     "text": [
      "convergence after 14 epochs took 2 seconds\n",
      "done in 1.924s.\n",
      "num_0: 4431\n",
      "num_1: 1739\n",
      "num_2: 3417\n",
      "num_3: 5413\n",
      "total: 15000\n",
      "accuracy：0.37880\n",
      "precision_avg: 0.46556\n",
      "recall_avg: 0.37880\n",
      "f1_score_avg: 0.27843\n",
      ">>>>>>>>>>>>>>>>>>>>>>>>>>>>>>>>>>>>>>>>>>>>>>\n",
      "C = 0.000048\n",
      "tol = 0.000100\n"
     ]
    },
    {
     "name": "stderr",
     "output_type": "stream",
     "text": [
      "[Parallel(n_jobs=-1)]: Done   1 out of   1 | elapsed:    1.9s finished\n",
      "[Parallel(n_jobs=-1)]: Using backend ThreadingBackend with 20 concurrent workers.\n"
     ]
    },
    {
     "name": "stdout",
     "output_type": "stream",
     "text": [
      "convergence after 16 epochs took 2 seconds\n",
      "done in 2.225s.\n",
      "num_0: 4431\n",
      "num_1: 1739\n",
      "num_2: 3417\n",
      "num_3: 5413\n",
      "total: 15000\n",
      "accuracy：0.37880\n",
      "precision_avg: 0.46556\n",
      "recall_avg: 0.37880\n",
      "f1_score_avg: 0.27843\n",
      ">>>>>>>>>>>>>>>>>>>>>>>>>>>>>>>>>>>>>>>>>>>>>>\n",
      "C = 0.000048\n",
      "tol = 0.000010\n"
     ]
    },
    {
     "name": "stderr",
     "output_type": "stream",
     "text": [
      "[Parallel(n_jobs=-1)]: Done   1 out of   1 | elapsed:    2.1s finished\n",
      "[Parallel(n_jobs=-1)]: Using backend ThreadingBackend with 20 concurrent workers.\n"
     ]
    },
    {
     "name": "stdout",
     "output_type": "stream",
     "text": [
      "convergence after 105 epochs took 14 seconds\n",
      "done in 14.081s.\n",
      "num_0: 4431\n",
      "num_1: 1739\n",
      "num_2: 3417\n",
      "num_3: 5413\n",
      "total: 15000\n",
      "accuracy：0.37880\n",
      "precision_avg: 0.46518\n",
      "recall_avg: 0.37880\n",
      "f1_score_avg: 0.27843\n",
      ">>>>>>>>>>>>>>>>>>>>>>>>>>>>>>>>>>>>>>>>>>>>>>\n",
      "C = 0.000476\n",
      "tol = 0.100000\n"
     ]
    },
    {
     "name": "stderr",
     "output_type": "stream",
     "text": [
      "[Parallel(n_jobs=-1)]: Done   1 out of   1 | elapsed:   14.0s finished\n",
      "[Parallel(n_jobs=-1)]: Using backend ThreadingBackend with 20 concurrent workers.\n"
     ]
    },
    {
     "name": "stdout",
     "output_type": "stream",
     "text": [
      "convergence after 3 epochs took 0 seconds\n",
      "done in 0.518s.\n",
      "num_0: 4431\n",
      "num_1: 1739\n",
      "num_2: 3417\n",
      "num_3: 5413\n",
      "total: 15000\n",
      "accuracy：0.57213\n",
      "precision_avg: 0.59960\n",
      "recall_avg: 0.57213\n",
      "f1_score_avg: 0.56123\n",
      ">>>>>>>>>>>>>>>>>>>>>>>>>>>>>>>>>>>>>>>>>>>>>>\n",
      "C = 0.000476\n",
      "tol = 0.010000\n"
     ]
    },
    {
     "name": "stderr",
     "output_type": "stream",
     "text": [
      "[Parallel(n_jobs=-1)]: Done   1 out of   1 | elapsed:    0.5s finished\n",
      "[Parallel(n_jobs=-1)]: Using backend ThreadingBackend with 20 concurrent workers.\n"
     ]
    },
    {
     "name": "stdout",
     "output_type": "stream",
     "text": [
      "convergence after 8 epochs took 1 seconds\n",
      "done in 1.421s.\n",
      "num_0: 4431\n",
      "num_1: 1739\n",
      "num_2: 3417\n",
      "num_3: 5413\n",
      "total: 15000\n",
      "accuracy：0.57147\n",
      "precision_avg: 0.60305\n",
      "recall_avg: 0.57147\n",
      "f1_score_avg: 0.56159\n",
      ">>>>>>>>>>>>>>>>>>>>>>>>>>>>>>>>>>>>>>>>>>>>>>\n",
      "C = 0.000476\n",
      "tol = 0.001000\n"
     ]
    },
    {
     "name": "stderr",
     "output_type": "stream",
     "text": [
      "[Parallel(n_jobs=-1)]: Done   1 out of   1 | elapsed:    1.4s finished\n",
      "[Parallel(n_jobs=-1)]: Using backend ThreadingBackend with 20 concurrent workers.\n"
     ]
    },
    {
     "name": "stdout",
     "output_type": "stream",
     "text": [
      "convergence after 12 epochs took 2 seconds\n",
      "done in 2.425s.\n",
      "num_0: 4431\n",
      "num_1: 1739\n",
      "num_2: 3417\n",
      "num_3: 5413\n",
      "total: 15000\n",
      "accuracy：0.57093\n",
      "precision_avg: 0.60261\n",
      "recall_avg: 0.57093\n",
      "f1_score_avg: 0.56103\n",
      ">>>>>>>>>>>>>>>>>>>>>>>>>>>>>>>>>>>>>>>>>>>>>>\n",
      "C = 0.000476\n",
      "tol = 0.000100\n"
     ]
    },
    {
     "name": "stderr",
     "output_type": "stream",
     "text": [
      "[Parallel(n_jobs=-1)]: Done   1 out of   1 | elapsed:    2.3s finished\n",
      "[Parallel(n_jobs=-1)]: Using backend ThreadingBackend with 20 concurrent workers.\n"
     ]
    },
    {
     "name": "stdout",
     "output_type": "stream",
     "text": [
      "convergence after 141 epochs took 32 seconds\n",
      "done in 32.160s.\n",
      "num_0: 4431\n",
      "num_1: 1739\n",
      "num_2: 3417\n",
      "num_3: 5413\n",
      "total: 15000\n",
      "accuracy：0.56867\n",
      "precision_avg: 0.60073\n",
      "recall_avg: 0.56867\n",
      "f1_score_avg: 0.55839\n",
      ">>>>>>>>>>>>>>>>>>>>>>>>>>>>>>>>>>>>>>>>>>>>>>\n",
      "C = 0.000476\n",
      "tol = 0.000010\n"
     ]
    },
    {
     "name": "stderr",
     "output_type": "stream",
     "text": [
      "[Parallel(n_jobs=-1)]: Done   1 out of   1 | elapsed:   32.1s finished\n",
      "[Parallel(n_jobs=-1)]: Using backend ThreadingBackend with 20 concurrent workers.\n"
     ]
    },
    {
     "name": "stdout",
     "output_type": "stream",
     "text": [
      "convergence after 419 epochs took 98 seconds\n",
      "done in 97.922s.\n",
      "num_0: 4431\n",
      "num_1: 1739\n",
      "num_2: 3417\n",
      "num_3: 5413\n",
      "total: 15000\n",
      "accuracy：0.56820\n",
      "precision_avg: 0.60059\n",
      "recall_avg: 0.56820\n",
      "f1_score_avg: 0.55789\n",
      ">>>>>>>>>>>>>>>>>>>>>>>>>>>>>>>>>>>>>>>>>>>>>>\n",
      "C = 0.004762\n",
      "tol = 0.100000\n"
     ]
    },
    {
     "name": "stderr",
     "output_type": "stream",
     "text": [
      "[Parallel(n_jobs=-1)]: Done   1 out of   1 | elapsed:  1.6min finished\n",
      "[Parallel(n_jobs=-1)]: Using backend ThreadingBackend with 20 concurrent workers.\n"
     ]
    },
    {
     "name": "stdout",
     "output_type": "stream",
     "text": [
      "convergence after 3 epochs took 1 seconds\n",
      "done in 1.120s.\n",
      "num_0: 4431\n",
      "num_1: 1739\n",
      "num_2: 3417\n",
      "num_3: 5413\n",
      "total: 15000\n",
      "accuracy：0.57707\n",
      "precision_avg: 0.60135\n",
      "recall_avg: 0.57707\n",
      "f1_score_avg: 0.57303\n",
      ">>>>>>>>>>>>>>>>>>>>>>>>>>>>>>>>>>>>>>>>>>>>>>\n",
      "C = 0.004762\n",
      "tol = 0.010000\n"
     ]
    },
    {
     "name": "stderr",
     "output_type": "stream",
     "text": [
      "[Parallel(n_jobs=-1)]: Done   1 out of   1 | elapsed:    1.1s finished\n",
      "[Parallel(n_jobs=-1)]: Using backend ThreadingBackend with 20 concurrent workers.\n"
     ]
    },
    {
     "name": "stdout",
     "output_type": "stream",
     "text": [
      "convergence after 8 epochs took 4 seconds\n",
      "done in 3.629s.\n",
      "num_0: 4431\n",
      "num_1: 1739\n",
      "num_2: 3417\n",
      "num_3: 5413\n",
      "total: 15000\n",
      "accuracy：0.58667\n",
      "precision_avg: 0.60875\n",
      "recall_avg: 0.58667\n",
      "f1_score_avg: 0.58266\n",
      ">>>>>>>>>>>>>>>>>>>>>>>>>>>>>>>>>>>>>>>>>>>>>>\n",
      "C = 0.004762\n",
      "tol = 0.001000\n"
     ]
    },
    {
     "name": "stderr",
     "output_type": "stream",
     "text": [
      "[Parallel(n_jobs=-1)]: Done   1 out of   1 | elapsed:    3.5s finished\n",
      "[Parallel(n_jobs=-1)]: Using backend ThreadingBackend with 20 concurrent workers.\n"
     ]
    },
    {
     "name": "stdout",
     "output_type": "stream",
     "text": [
      "convergence after 15 epochs took 13 seconds\n",
      "done in 12.568s.\n",
      "num_0: 4431\n",
      "num_1: 1739\n",
      "num_2: 3417\n",
      "num_3: 5413\n",
      "total: 15000\n",
      "accuracy：0.58807\n",
      "precision_avg: 0.60957\n",
      "recall_avg: 0.58807\n",
      "f1_score_avg: 0.58396\n",
      ">>>>>>>>>>>>>>>>>>>>>>>>>>>>>>>>>>>>>>>>>>>>>>\n",
      "C = 0.004762\n",
      "tol = 0.000100\n"
     ]
    },
    {
     "name": "stderr",
     "output_type": "stream",
     "text": [
      "[Parallel(n_jobs=-1)]: Done   1 out of   1 | elapsed:   12.5s finished\n",
      "[Parallel(n_jobs=-1)]: Using backend ThreadingBackend with 20 concurrent workers.\n"
     ]
    },
    {
     "name": "stdout",
     "output_type": "stream",
     "text": [
      "convergence after 66 epochs took 90 seconds\n",
      "done in 90.577s.\n",
      "num_0: 4431\n",
      "num_1: 1739\n",
      "num_2: 3417\n",
      "num_3: 5413\n",
      "total: 15000\n",
      "accuracy：0.58793\n",
      "precision_avg: 0.60947\n",
      "recall_avg: 0.58793\n",
      "f1_score_avg: 0.58377\n",
      ">>>>>>>>>>>>>>>>>>>>>>>>>>>>>>>>>>>>>>>>>>>>>>\n",
      "C = 0.004762\n",
      "tol = 0.000010\n"
     ]
    },
    {
     "name": "stderr",
     "output_type": "stream",
     "text": [
      "[Parallel(n_jobs=-1)]: Done   1 out of   1 | elapsed:  1.5min finished\n",
      "[Parallel(n_jobs=-1)]: Using backend ThreadingBackend with 20 concurrent workers.\n"
     ]
    },
    {
     "name": "stdout",
     "output_type": "stream",
     "text": [
      "convergence after 613 epochs took 922 seconds\n",
      "done in 922.088s.\n",
      "num_0: 4431\n",
      "num_1: 1739\n",
      "num_2: 3417\n",
      "num_3: 5413\n",
      "total: 15000\n",
      "accuracy：0.58813\n",
      "precision_avg: 0.60966\n",
      "recall_avg: 0.58813\n",
      "f1_score_avg: 0.58400\n",
      ">>>>>>>>>>>>>>>>>>>>>>>>>>>>>>>>>>>>>>>>>>>>>>\n",
      "C = 0.047619\n",
      "tol = 0.100000\n"
     ]
    },
    {
     "name": "stderr",
     "output_type": "stream",
     "text": [
      "[Parallel(n_jobs=-1)]: Done   1 out of   1 | elapsed: 15.4min finished\n",
      "[Parallel(n_jobs=-1)]: Using backend ThreadingBackend with 20 concurrent workers.\n"
     ]
    },
    {
     "name": "stdout",
     "output_type": "stream",
     "text": [
      "convergence after 3 epochs took 5 seconds\n",
      "done in 5.036s.\n",
      "num_0: 4431\n",
      "num_1: 1739\n",
      "num_2: 3417\n",
      "num_3: 5413\n",
      "total: 15000\n",
      "accuracy：0.56820\n",
      "precision_avg: 0.59316\n",
      "recall_avg: 0.56820\n",
      "f1_score_avg: 0.56649\n",
      ">>>>>>>>>>>>>>>>>>>>>>>>>>>>>>>>>>>>>>>>>>>>>>\n",
      "C = 0.047619\n",
      "tol = 0.010000\n"
     ]
    },
    {
     "name": "stderr",
     "output_type": "stream",
     "text": [
      "[Parallel(n_jobs=-1)]: Done   1 out of   1 | elapsed:    5.0s finished\n",
      "[Parallel(n_jobs=-1)]: Using backend ThreadingBackend with 20 concurrent workers.\n"
     ]
    },
    {
     "name": "stdout",
     "output_type": "stream",
     "text": [
      "convergence after 10 epochs took 12 seconds\n",
      "done in 11.360s.\n",
      "num_0: 4431\n",
      "num_1: 1739\n",
      "num_2: 3417\n",
      "num_3: 5413\n",
      "total: 15000\n",
      "accuracy：0.58420\n",
      "precision_avg: 0.60419\n",
      "recall_avg: 0.58420\n",
      "f1_score_avg: 0.58145\n",
      ">>>>>>>>>>>>>>>>>>>>>>>>>>>>>>>>>>>>>>>>>>>>>>\n",
      "C = 0.047619\n",
      "tol = 0.001000\n"
     ]
    },
    {
     "name": "stderr",
     "output_type": "stream",
     "text": [
      "[Parallel(n_jobs=-1)]: Done   1 out of   1 | elapsed:   11.3s finished\n",
      "[Parallel(n_jobs=-1)]: Using backend ThreadingBackend with 20 concurrent workers.\n"
     ]
    },
    {
     "name": "stdout",
     "output_type": "stream",
     "text": [
      "convergence after 35 epochs took 63 seconds\n",
      "done in 63.646s.\n",
      "num_0: 4431\n",
      "num_1: 1739\n",
      "num_2: 3417\n",
      "num_3: 5413\n",
      "total: 15000\n",
      "accuracy：0.58480\n",
      "precision_avg: 0.60520\n",
      "recall_avg: 0.58480\n",
      "f1_score_avg: 0.58223\n",
      ">>>>>>>>>>>>>>>>>>>>>>>>>>>>>>>>>>>>>>>>>>>>>>\n",
      "C = 0.047619\n",
      "tol = 0.000100\n"
     ]
    },
    {
     "name": "stderr",
     "output_type": "stream",
     "text": [
      "[Parallel(n_jobs=-1)]: Done   1 out of   1 | elapsed:  1.1min finished\n",
      "[Parallel(n_jobs=-1)]: Using backend ThreadingBackend with 20 concurrent workers.\n"
     ]
    },
    {
     "name": "stdout",
     "output_type": "stream",
     "text": [
      "convergence after 62 epochs took 124 seconds\n",
      "done in 124.642s.\n",
      "num_0: 4431\n",
      "num_1: 1739\n",
      "num_2: 3417\n",
      "num_3: 5413\n",
      "total: 15000\n",
      "accuracy：0.58493\n",
      "precision_avg: 0.60538\n",
      "recall_avg: 0.58493\n",
      "f1_score_avg: 0.58233\n",
      ">>>>>>>>>>>>>>>>>>>>>>>>>>>>>>>>>>>>>>>>>>>>>>\n",
      "C = 0.047619\n",
      "tol = 0.000010\n"
     ]
    },
    {
     "name": "stderr",
     "output_type": "stream",
     "text": [
      "[Parallel(n_jobs=-1)]: Done   1 out of   1 | elapsed:  2.1min finished\n",
      "[Parallel(n_jobs=-1)]: Using backend ThreadingBackend with 20 concurrent workers.\n"
     ]
    },
    {
     "name": "stdout",
     "output_type": "stream",
     "text": [
      "convergence after 757 epochs took 1728 seconds\n",
      "done in 1728.425s.\n",
      "num_0: 4431\n",
      "num_1: 1739\n",
      "num_2: 3417\n",
      "num_3: 5413\n",
      "total: 15000\n",
      "accuracy：0.58587\n",
      "precision_avg: 0.60555\n",
      "recall_avg: 0.58587\n",
      "f1_score_avg: 0.58339\n",
      ">>>>>>>>>>>>>>>>>>>>>>>>>>>>>>>>>>>>>>>>>>>>>>\n",
      "C = 0.476190\n",
      "tol = 0.100000\n"
     ]
    },
    {
     "name": "stderr",
     "output_type": "stream",
     "text": [
      "[Parallel(n_jobs=-1)]: Done   1 out of   1 | elapsed: 28.8min finished\n",
      "[Parallel(n_jobs=-1)]: Using backend ThreadingBackend with 20 concurrent workers.\n"
     ]
    },
    {
     "name": "stdout",
     "output_type": "stream",
     "text": [
      "convergence after 3 epochs took 8 seconds\n",
      "done in 7.950s.\n",
      "num_0: 4431\n",
      "num_1: 1739\n",
      "num_2: 3417\n",
      "num_3: 5413\n",
      "total: 15000\n",
      "accuracy：0.56660\n",
      "precision_avg: 0.59159\n",
      "recall_avg: 0.56660\n",
      "f1_score_avg: 0.56507\n",
      ">>>>>>>>>>>>>>>>>>>>>>>>>>>>>>>>>>>>>>>>>>>>>>\n",
      "C = 0.476190\n",
      "tol = 0.010000\n"
     ]
    },
    {
     "name": "stderr",
     "output_type": "stream",
     "text": [
      "[Parallel(n_jobs=-1)]: Done   1 out of   1 | elapsed:    7.9s finished\n",
      "[Parallel(n_jobs=-1)]: Using backend ThreadingBackend with 20 concurrent workers.\n"
     ]
    },
    {
     "name": "stdout",
     "output_type": "stream",
     "text": [
      "convergence after 10 epochs took 20 seconds\n",
      "done in 20.607s.\n",
      "num_0: 4431\n",
      "num_1: 1739\n",
      "num_2: 3417\n",
      "num_3: 5413\n",
      "total: 15000\n",
      "accuracy：0.58347\n",
      "precision_avg: 0.60335\n",
      "recall_avg: 0.58347\n",
      "f1_score_avg: 0.58088\n",
      ">>>>>>>>>>>>>>>>>>>>>>>>>>>>>>>>>>>>>>>>>>>>>>\n",
      "C = 0.476190\n",
      "tol = 0.001000\n"
     ]
    },
    {
     "name": "stderr",
     "output_type": "stream",
     "text": [
      "[Parallel(n_jobs=-1)]: Done   1 out of   1 | elapsed:   20.5s finished\n",
      "[Parallel(n_jobs=-1)]: Using backend ThreadingBackend with 20 concurrent workers.\n"
     ]
    },
    {
     "name": "stdout",
     "output_type": "stream",
     "text": [
      "convergence after 17 epochs took 32 seconds\n",
      "done in 31.340s.\n",
      "num_0: 4431\n",
      "num_1: 1739\n",
      "num_2: 3417\n",
      "num_3: 5413\n",
      "total: 15000\n",
      "accuracy：0.58380\n",
      "precision_avg: 0.60426\n",
      "recall_avg: 0.58380\n",
      "f1_score_avg: 0.58151\n",
      ">>>>>>>>>>>>>>>>>>>>>>>>>>>>>>>>>>>>>>>>>>>>>>\n",
      "C = 0.476190\n",
      "tol = 0.000100\n"
     ]
    },
    {
     "name": "stderr",
     "output_type": "stream",
     "text": [
      "[Parallel(n_jobs=-1)]: Done   1 out of   1 | elapsed:   31.3s finished\n",
      "[Parallel(n_jobs=-1)]: Using backend ThreadingBackend with 20 concurrent workers.\n"
     ]
    },
    {
     "name": "stdout",
     "output_type": "stream",
     "text": [
      "convergence after 339 epochs took 705 seconds\n",
      "done in 705.285s.\n",
      "num_0: 4431\n",
      "num_1: 1739\n",
      "num_2: 3417\n",
      "num_3: 5413\n",
      "total: 15000\n",
      "accuracy：0.58553\n",
      "precision_avg: 0.60530\n",
      "recall_avg: 0.58553\n",
      "f1_score_avg: 0.58303\n",
      ">>>>>>>>>>>>>>>>>>>>>>>>>>>>>>>>>>>>>>>>>>>>>>\n",
      "C = 0.476190\n",
      "tol = 0.000010\n"
     ]
    },
    {
     "name": "stderr",
     "output_type": "stream",
     "text": [
      "[Parallel(n_jobs=-1)]: Done   1 out of   1 | elapsed: 11.8min finished\n",
      "[Parallel(n_jobs=-1)]: Using backend ThreadingBackend with 20 concurrent workers.\n"
     ]
    },
    {
     "name": "stdout",
     "output_type": "stream",
     "text": [
      "convergence after 712 epochs took 1566 seconds\n",
      "done in 1565.960s.\n",
      "num_0: 4431\n",
      "num_1: 1739\n",
      "num_2: 3417\n",
      "num_3: 5413\n",
      "total: 15000\n",
      "accuracy：0.58580\n",
      "precision_avg: 0.60527\n",
      "recall_avg: 0.58580\n",
      "f1_score_avg: 0.58339\n",
      ">>>>>>>>>>>>>>>>>>>>>>>>>>>>>>>>>>>>>>>>>>>>>>\n",
      "C = 4.761905\n",
      "tol = 0.100000\n"
     ]
    },
    {
     "name": "stderr",
     "output_type": "stream",
     "text": [
      "[Parallel(n_jobs=-1)]: Done   1 out of   1 | elapsed: 26.1min finished\n",
      "[Parallel(n_jobs=-1)]: Using backend ThreadingBackend with 20 concurrent workers.\n"
     ]
    },
    {
     "name": "stdout",
     "output_type": "stream",
     "text": [
      "convergence after 3 epochs took 8 seconds\n",
      "done in 8.057s.\n",
      "num_0: 4431\n",
      "num_1: 1739\n",
      "num_2: 3417\n",
      "num_3: 5413\n",
      "total: 15000\n",
      "accuracy：0.56660\n",
      "precision_avg: 0.59144\n",
      "recall_avg: 0.56660\n",
      "f1_score_avg: 0.56503\n",
      ">>>>>>>>>>>>>>>>>>>>>>>>>>>>>>>>>>>>>>>>>>>>>>\n",
      "C = 4.761905\n",
      "tol = 0.010000\n"
     ]
    },
    {
     "name": "stderr",
     "output_type": "stream",
     "text": [
      "[Parallel(n_jobs=-1)]: Done   1 out of   1 | elapsed:    8.0s finished\n",
      "[Parallel(n_jobs=-1)]: Using backend ThreadingBackend with 20 concurrent workers.\n"
     ]
    },
    {
     "name": "stdout",
     "output_type": "stream",
     "text": [
      "convergence after 10 epochs took 26 seconds\n",
      "done in 25.931s.\n",
      "num_0: 4431\n",
      "num_1: 1739\n",
      "num_2: 3417\n",
      "num_3: 5413\n",
      "total: 15000\n",
      "accuracy：0.58333\n",
      "precision_avg: 0.60317\n",
      "recall_avg: 0.58333\n",
      "f1_score_avg: 0.58079\n",
      ">>>>>>>>>>>>>>>>>>>>>>>>>>>>>>>>>>>>>>>>>>>>>>\n",
      "C = 4.761905\n",
      "tol = 0.001000\n"
     ]
    },
    {
     "name": "stderr",
     "output_type": "stream",
     "text": [
      "[Parallel(n_jobs=-1)]: Done   1 out of   1 | elapsed:   25.9s finished\n",
      "[Parallel(n_jobs=-1)]: Using backend ThreadingBackend with 20 concurrent workers.\n"
     ]
    },
    {
     "name": "stdout",
     "output_type": "stream",
     "text": [
      "convergence after 17 epochs took 37 seconds\n",
      "done in 37.359s.\n",
      "num_0: 4431\n",
      "num_1: 1739\n",
      "num_2: 3417\n",
      "num_3: 5413\n",
      "total: 15000\n",
      "accuracy：0.58347\n",
      "precision_avg: 0.60415\n",
      "recall_avg: 0.58347\n",
      "f1_score_avg: 0.58129\n",
      ">>>>>>>>>>>>>>>>>>>>>>>>>>>>>>>>>>>>>>>>>>>>>>\n",
      "C = 4.761905\n",
      "tol = 0.000100\n"
     ]
    },
    {
     "name": "stderr",
     "output_type": "stream",
     "text": [
      "[Parallel(n_jobs=-1)]: Done   1 out of   1 | elapsed:   37.3s finished\n",
      "[Parallel(n_jobs=-1)]: Using backend ThreadingBackend with 20 concurrent workers.\n"
     ]
    },
    {
     "name": "stdout",
     "output_type": "stream",
     "text": [
      "convergence after 126 epochs took 198 seconds\n",
      "done in 197.549s.\n",
      "num_0: 4431\n",
      "num_1: 1739\n",
      "num_2: 3417\n",
      "num_3: 5413\n",
      "total: 15000\n",
      "accuracy：0.58433\n",
      "precision_avg: 0.60421\n",
      "recall_avg: 0.58433\n",
      "f1_score_avg: 0.58183\n",
      ">>>>>>>>>>>>>>>>>>>>>>>>>>>>>>>>>>>>>>>>>>>>>>\n",
      "C = 4.761905\n",
      "tol = 0.000010\n"
     ]
    },
    {
     "name": "stderr",
     "output_type": "stream",
     "text": [
      "[Parallel(n_jobs=-1)]: Done   1 out of   1 | elapsed:  3.3min finished\n",
      "[Parallel(n_jobs=-1)]: Using backend ThreadingBackend with 20 concurrent workers.\n"
     ]
    },
    {
     "name": "stdout",
     "output_type": "stream",
     "text": [
      "convergence after 3439 epochs took 7789 seconds\n",
      "done in 7789.094s.\n",
      "num_0: 4431\n",
      "num_1: 1739\n",
      "num_2: 3417\n",
      "num_3: 5413\n",
      "total: 15000\n",
      "accuracy：0.58553\n",
      "precision_avg: 0.60537\n",
      "recall_avg: 0.58553\n",
      "f1_score_avg: 0.58336\n",
      ">>>>>>>>>>>>>>>>>>>>>>>>>>>>>>>>>>>>>>>>>>>>>>\n"
     ]
    },
    {
     "name": "stderr",
     "output_type": "stream",
     "text": [
      "[Parallel(n_jobs=-1)]: Done   1 out of   1 | elapsed: 129.8min finished\n"
     ]
    }
   ],
   "source": [
    "C_range = [0.1*50.0/105000, 50.0/105000, 10*50.0/105000, 100*50.0/105000, 1000*50.0/105000, 10000*50.0/105000] \n",
    "\n",
    "tol_range = [0.1, 0.01, 0.001, 0.0001, 0.00001]\n",
    "\n",
    "for C in C_range:\n",
    "    for tol in tol_range:\n",
    "        print('C = %f' % C)\n",
    "        print('tol = %f' % tol)\n",
    "        clf = LogisticRegression(\n",
    "                                    penalty = 'elasticnet',\n",
    "                                    tol = tol,\n",
    "                                    C = C,\n",
    "                                    class_weight = 'balanced',\n",
    "                                    random_state = 2020,\n",
    "                                    solver = 'saga',\n",
    "                                    # max_iter=100, # C =  10.0* 50.0/105000, max_iter reached after 41 seconds\n",
    "                                    # max_iter= 1000, # C =  10.0* 50.0/105000, max_iter reached after 404 seconds\n",
    "                                    max_iter= 10000,\n",
    "                                    multi_class = 'multinomial',\n",
    "                                    verbose = 1,\n",
    "                                    n_jobs = -1,\n",
    "                                    l1_ratio = 0.5  \n",
    "                                )\n",
    "        t0 = time()\n",
    "        clf.fit(train_x, train_y)\n",
    "        print(\"done in %0.3fs.\" % (time() - t0))\n",
    "        predict_y = clf.predict(valid_x)\n",
    "        # predict_prob_y = clf.predict_proba(valid_x)\n",
    "        # 评价指标值\n",
    "        accuracy, precision_avg, recall_avg, f1_score_avg = eval_p_r_f1(valid_y, predict_y)\n",
    "        print('accuracy：%0.5f' % accuracy)\n",
    "        print('precision_avg: %0.5f' % precision_avg)\n",
    "        print('recall_avg: %0.5f' % recall_avg)\n",
    "        print('f1_score_avg: %0.5f' % f1_score_avg)\n",
    "        print('>>>>>>>>>>>>>>>>>>>>>>>>>>>>>>>>>>>>>>>>>>>>>>')"
   ]
  },
  {
   "cell_type": "code",
   "execution_count": 11,
   "metadata": {
    "collapsed": true,
    "jupyter": {
     "outputs_hidden": true,
     "source_hidden": true
    }
   },
   "outputs": [
    {
     "name": "stdout",
     "output_type": "stream",
     "text": [
      "C = 0.004762\n",
      "tol = 0.000001\n"
     ]
    },
    {
     "name": "stderr",
     "output_type": "stream",
     "text": [
      "[Parallel(n_jobs=-1)]: Using backend ThreadingBackend with 20 concurrent workers.\n"
     ]
    },
    {
     "name": "stdout",
     "output_type": "stream",
     "text": [
      "convergence after 1151 epochs took 1739 seconds\n",
      "done in 1738.441s.\n",
      "num_0: 4431\n",
      "num_1: 1739\n",
      "num_2: 3417\n",
      "num_3: 5413\n",
      "total: 15000\n",
      "accuracy：0.58787\n",
      "precision_avg: 0.60932\n",
      "recall_avg: 0.58787\n",
      "f1_score_avg: 0.58376\n",
      ">>>>>>>>>>>>>>>>>>>>>>>>>>>>>>>>>>>>>>>>>>>>>>\n",
      "C = 0.004762\n",
      "tol = 0.000000\n"
     ]
    },
    {
     "name": "stderr",
     "output_type": "stream",
     "text": [
      "[Parallel(n_jobs=-1)]: Done   1 out of   1 | elapsed: 29.0min finished\n",
      "[Parallel(n_jobs=-1)]: Using backend ThreadingBackend with 20 concurrent workers.\n"
     ]
    },
    {
     "name": "stdout",
     "output_type": "stream",
     "text": [
      "convergence after 1698 epochs took 2577 seconds\n",
      "done in 2577.215s.\n",
      "num_0: 4431\n",
      "num_1: 1739\n",
      "num_2: 3417\n",
      "num_3: 5413\n",
      "total: 15000\n",
      "accuracy：0.58800\n",
      "precision_avg: 0.60941\n",
      "recall_avg: 0.58800\n",
      "f1_score_avg: 0.58387\n",
      ">>>>>>>>>>>>>>>>>>>>>>>>>>>>>>>>>>>>>>>>>>>>>>\n"
     ]
    },
    {
     "name": "stderr",
     "output_type": "stream",
     "text": [
      "[Parallel(n_jobs=-1)]: Done   1 out of   1 | elapsed: 43.0min finished\n"
     ]
    }
   ],
   "source": [
    "# 最优值取在边界，需进一步确定\n",
    "C_range = [10*50.0/105000] \n",
    "tol_range = [0.000001, 0.0000001]\n",
    "\n",
    "for C in C_range:\n",
    "    for tol in tol_range:\n",
    "        print('C = %f' % C)\n",
    "        print('tol = %f' % tol)\n",
    "        clf = LogisticRegression(\n",
    "                                    penalty = 'elasticnet',\n",
    "                                    tol = tol,\n",
    "                                    C = C,\n",
    "                                    class_weight = 'balanced',\n",
    "                                    random_state = 2020,\n",
    "                                    solver = 'saga',\n",
    "                                    # max_iter=100, # C =  10.0* 50.0/105000, max_iter reached after 41 seconds\n",
    "                                    # max_iter= 1000, # C =  10.0* 50.0/105000, max_iter reached after 404 seconds\n",
    "                                    max_iter= 10000,\n",
    "                                    multi_class = 'multinomial',\n",
    "                                    verbose = 1,\n",
    "                                    n_jobs = -1,\n",
    "                                    l1_ratio = 0.5  \n",
    "                                )\n",
    "        t0 = time( )\n",
    "        clf.fit(train_x, train_y)\n",
    "        print(\"done in %0.3fs.\" % (time() - t0))\n",
    "        predict_y = clf.predict( valid_x)\n",
    "        # predict_prob_y = clf.predict_proba(valid_x)\n",
    "        # 评价指标值\n",
    "        accuracy, precision_avg, recall_avg, f1_score_avg = eval_p_r_f1( valid_y, predict_y )\n",
    "        print('accuracy：%0.5f' % accuracy)\n",
    "        print('precision_avg: %0.5f' % precision_avg)\n",
    "        print('recall_avg: %0.5f' % recall_avg)\n",
    "        print('f1_score_avg: %0.5f' % f1_score_avg)\n",
    "        print('>>>>>>>>>>>>>>>>>>>>>>>>>>>>>>>>>>>>>>>>>>>>>>')"
   ]
  },
  {
   "cell_type": "raw",
   "metadata": {},
   "source": [
    "env 调参"
   ]
  },
  {
   "cell_type": "code",
   "execution_count": 10,
   "metadata": {
    "collapsed": true,
    "jupyter": {
     "outputs_hidden": true,
     "source_hidden": true
    }
   },
   "outputs": [
    {
     "name": "stdout",
     "output_type": "stream",
     "text": [
      "C = 0.000048\n",
      "tol = 0.100000\n"
     ]
    },
    {
     "name": "stderr",
     "output_type": "stream",
     "text": [
      "[Parallel(n_jobs=-1)]: Using backend ThreadingBackend with 20 concurrent workers.\n"
     ]
    },
    {
     "name": "stdout",
     "output_type": "stream",
     "text": [
      "convergence after 5 epochs took 1 seconds\n",
      "done in 0.825s.\n",
      "num_0: 5400\n",
      "num_1: 1214\n",
      "num_2: 1419\n",
      "num_3: 6967\n",
      "total: 15000\n",
      "accuracy：0.52853\n",
      "precision_avg: 0.51055\n",
      "recall_avg: 0.52853\n",
      "f1_score_avg: 0.46027\n",
      ">>>>>>>>>>>>>>>>>>>>>>>>>>>>>>>>>>>>>>>>>>>>>>\n",
      "C = 0.000048\n",
      "tol = 0.010000\n"
     ]
    },
    {
     "name": "stderr",
     "output_type": "stream",
     "text": [
      "[Parallel(n_jobs=-1)]: Done   1 out of   1 | elapsed:    0.8s finished\n",
      "[Parallel(n_jobs=-1)]: Using backend ThreadingBackend with 20 concurrent workers.\n"
     ]
    },
    {
     "name": "stdout",
     "output_type": "stream",
     "text": [
      "convergence after 8 epochs took 1 seconds\n",
      "done in 1.220s.\n",
      "num_0: 5400\n",
      "num_1: 1214\n",
      "num_2: 1419\n",
      "num_3: 6967\n",
      "total: 15000\n",
      "accuracy：0.53240\n",
      "precision_avg: 0.50349\n",
      "recall_avg: 0.53240\n",
      "f1_score_avg: 0.46330\n",
      ">>>>>>>>>>>>>>>>>>>>>>>>>>>>>>>>>>>>>>>>>>>>>>\n",
      "C = 0.000048\n",
      "tol = 0.001000\n"
     ]
    },
    {
     "name": "stderr",
     "output_type": "stream",
     "text": [
      "[Parallel(n_jobs=-1)]: Done   1 out of   1 | elapsed:    1.1s finished\n",
      "[Parallel(n_jobs=-1)]: Using backend ThreadingBackend with 20 concurrent workers.\n"
     ]
    },
    {
     "name": "stdout",
     "output_type": "stream",
     "text": [
      "convergence after 9 epochs took 1 seconds\n",
      "done in 1.320s.\n",
      "num_0: 5400\n",
      "num_1: 1214\n",
      "num_2: 1419\n",
      "num_3: 6967\n",
      "total: 15000\n",
      "accuracy：0.53240\n",
      "precision_avg: 0.50349\n",
      "recall_avg: 0.53240\n",
      "f1_score_avg: 0.46330\n",
      ">>>>>>>>>>>>>>>>>>>>>>>>>>>>>>>>>>>>>>>>>>>>>>\n",
      "C = 0.000048\n",
      "tol = 0.000100\n"
     ]
    },
    {
     "name": "stderr",
     "output_type": "stream",
     "text": [
      "[Parallel(n_jobs=-1)]: Done   1 out of   1 | elapsed:    1.3s finished\n",
      "[Parallel(n_jobs=-1)]: Using backend ThreadingBackend with 20 concurrent workers.\n"
     ]
    },
    {
     "name": "stdout",
     "output_type": "stream",
     "text": [
      "convergence after 9 epochs took 1 seconds\n",
      "done in 1.319s.\n",
      "num_0: 5400\n",
      "num_1: 1214\n",
      "num_2: 1419\n",
      "num_3: 6967\n",
      "total: 15000\n",
      "accuracy：0.53240\n",
      "precision_avg: 0.50349\n",
      "recall_avg: 0.53240\n",
      "f1_score_avg: 0.46330\n",
      ">>>>>>>>>>>>>>>>>>>>>>>>>>>>>>>>>>>>>>>>>>>>>>\n",
      "C = 0.000048\n",
      "tol = 0.000010\n"
     ]
    },
    {
     "name": "stderr",
     "output_type": "stream",
     "text": [
      "[Parallel(n_jobs=-1)]: Done   1 out of   1 | elapsed:    1.3s finished\n",
      "[Parallel(n_jobs=-1)]: Using backend ThreadingBackend with 20 concurrent workers.\n"
     ]
    },
    {
     "name": "stdout",
     "output_type": "stream",
     "text": [
      "convergence after 9 epochs took 1 seconds\n",
      "done in 1.219s.\n",
      "num_0: 5400\n",
      "num_1: 1214\n",
      "num_2: 1419\n",
      "num_3: 6967\n",
      "total: 15000\n",
      "accuracy：0.53240\n",
      "precision_avg: 0.50349\n",
      "recall_avg: 0.53240\n",
      "f1_score_avg: 0.46330\n",
      ">>>>>>>>>>>>>>>>>>>>>>>>>>>>>>>>>>>>>>>>>>>>>>\n",
      "C = 0.000476\n",
      "tol = 0.100000\n"
     ]
    },
    {
     "name": "stderr",
     "output_type": "stream",
     "text": [
      "[Parallel(n_jobs=-1)]: Done   1 out of   1 | elapsed:    1.2s finished\n",
      "[Parallel(n_jobs=-1)]: Using backend ThreadingBackend with 20 concurrent workers.\n"
     ]
    },
    {
     "name": "stdout",
     "output_type": "stream",
     "text": [
      "convergence after 2 epochs took 0 seconds\n",
      "done in 0.414s.\n",
      "num_0: 5400\n",
      "num_1: 1214\n",
      "num_2: 1419\n",
      "num_3: 6967\n",
      "total: 15000\n",
      "accuracy：0.61880\n",
      "precision_avg: 0.66712\n",
      "recall_avg: 0.61880\n",
      "f1_score_avg: 0.62599\n",
      ">>>>>>>>>>>>>>>>>>>>>>>>>>>>>>>>>>>>>>>>>>>>>>\n",
      "C = 0.000476\n",
      "tol = 0.010000\n"
     ]
    },
    {
     "name": "stderr",
     "output_type": "stream",
     "text": [
      "[Parallel(n_jobs=-1)]: Done   1 out of   1 | elapsed:    0.4s finished\n",
      "[Parallel(n_jobs=-1)]: Using backend ThreadingBackend with 20 concurrent workers.\n"
     ]
    },
    {
     "name": "stdout",
     "output_type": "stream",
     "text": [
      "convergence after 8 epochs took 1 seconds\n",
      "done in 1.619s.\n",
      "num_0: 5400\n",
      "num_1: 1214\n",
      "num_2: 1419\n",
      "num_3: 6967\n",
      "total: 15000\n",
      "accuracy：0.60007\n",
      "precision_avg: 0.67287\n",
      "recall_avg: 0.60007\n",
      "f1_score_avg: 0.60869\n",
      ">>>>>>>>>>>>>>>>>>>>>>>>>>>>>>>>>>>>>>>>>>>>>>\n",
      "C = 0.000476\n",
      "tol = 0.001000\n"
     ]
    },
    {
     "name": "stderr",
     "output_type": "stream",
     "text": [
      "[Parallel(n_jobs=-1)]: Done   1 out of   1 | elapsed:    1.5s finished\n",
      "[Parallel(n_jobs=-1)]: Using backend ThreadingBackend with 20 concurrent workers.\n"
     ]
    },
    {
     "name": "stdout",
     "output_type": "stream",
     "text": [
      "convergence after 12 epochs took 3 seconds\n",
      "done in 2.823s.\n",
      "num_0: 5400\n",
      "num_1: 1214\n",
      "num_2: 1419\n",
      "num_3: 6967\n",
      "total: 15000\n",
      "accuracy：0.60020\n",
      "precision_avg: 0.67301\n",
      "recall_avg: 0.60020\n",
      "f1_score_avg: 0.60880\n",
      ">>>>>>>>>>>>>>>>>>>>>>>>>>>>>>>>>>>>>>>>>>>>>>\n",
      "C = 0.000476\n",
      "tol = 0.000100\n"
     ]
    },
    {
     "name": "stderr",
     "output_type": "stream",
     "text": [
      "[Parallel(n_jobs=-1)]: Done   1 out of   1 | elapsed:    2.7s finished\n",
      "[Parallel(n_jobs=-1)]: Using backend ThreadingBackend with 20 concurrent workers.\n"
     ]
    },
    {
     "name": "stdout",
     "output_type": "stream",
     "text": [
      "convergence after 111 epochs took 32 seconds\n",
      "done in 32.242s.\n",
      "num_0: 5400\n",
      "num_1: 1214\n",
      "num_2: 1419\n",
      "num_3: 6967\n",
      "total: 15000\n",
      "accuracy：0.59953\n",
      "precision_avg: 0.67247\n",
      "recall_avg: 0.59953\n",
      "f1_score_avg: 0.60721\n",
      ">>>>>>>>>>>>>>>>>>>>>>>>>>>>>>>>>>>>>>>>>>>>>>\n",
      "C = 0.000476\n",
      "tol = 0.000010\n"
     ]
    },
    {
     "name": "stderr",
     "output_type": "stream",
     "text": [
      "[Parallel(n_jobs=-1)]: Done   1 out of   1 | elapsed:   32.2s finished\n",
      "[Parallel(n_jobs=-1)]: Using backend ThreadingBackend with 20 concurrent workers.\n"
     ]
    },
    {
     "name": "stdout",
     "output_type": "stream",
     "text": [
      "convergence after 388 epochs took 115 seconds\n",
      "done in 114.694s.\n",
      "num_0: 5400\n",
      "num_1: 1214\n",
      "num_2: 1419\n",
      "num_3: 6967\n",
      "total: 15000\n",
      "accuracy：0.59787\n",
      "precision_avg: 0.67270\n",
      "recall_avg: 0.59787\n",
      "f1_score_avg: 0.60545\n",
      ">>>>>>>>>>>>>>>>>>>>>>>>>>>>>>>>>>>>>>>>>>>>>>\n",
      "C = 0.004762\n",
      "tol = 0.100000\n"
     ]
    },
    {
     "name": "stderr",
     "output_type": "stream",
     "text": [
      "[Parallel(n_jobs=-1)]: Done   1 out of   1 | elapsed:  1.9min finished\n",
      "[Parallel(n_jobs=-1)]: Using backend ThreadingBackend with 20 concurrent workers.\n"
     ]
    },
    {
     "name": "stdout",
     "output_type": "stream",
     "text": [
      "convergence after 3 epochs took 1 seconds\n",
      "done in 1.422s.\n",
      "num_0: 5400\n",
      "num_1: 1214\n",
      "num_2: 1419\n",
      "num_3: 6967\n",
      "total: 15000\n",
      "accuracy：0.59367\n",
      "precision_avg: 0.68083\n",
      "recall_avg: 0.59367\n",
      "f1_score_avg: 0.62069\n",
      ">>>>>>>>>>>>>>>>>>>>>>>>>>>>>>>>>>>>>>>>>>>>>>\n",
      "C = 0.004762\n",
      "tol = 0.010000\n"
     ]
    },
    {
     "name": "stderr",
     "output_type": "stream",
     "text": [
      "[Parallel(n_jobs=-1)]: Done   1 out of   1 | elapsed:    1.3s finished\n",
      "[Parallel(n_jobs=-1)]: Using backend ThreadingBackend with 20 concurrent workers.\n"
     ]
    },
    {
     "name": "stdout",
     "output_type": "stream",
     "text": [
      "convergence after 12 epochs took 8 seconds\n",
      "done in 8.039s.\n",
      "num_0: 5400\n",
      "num_1: 1214\n",
      "num_2: 1419\n",
      "num_3: 6967\n",
      "total: 15000\n",
      "accuracy：0.60840\n",
      "precision_avg: 0.68430\n",
      "recall_avg: 0.60840\n",
      "f1_score_avg: 0.62863\n",
      ">>>>>>>>>>>>>>>>>>>>>>>>>>>>>>>>>>>>>>>>>>>>>>\n",
      "C = 0.004762\n",
      "tol = 0.001000\n"
     ]
    },
    {
     "name": "stderr",
     "output_type": "stream",
     "text": [
      "[Parallel(n_jobs=-1)]: Done   1 out of   1 | elapsed:    8.0s finished\n",
      "[Parallel(n_jobs=-1)]: Using backend ThreadingBackend with 20 concurrent workers.\n"
     ]
    },
    {
     "name": "stdout",
     "output_type": "stream",
     "text": [
      "convergence after 15 epochs took 12 seconds\n",
      "done in 12.567s.\n",
      "num_0: 5400\n",
      "num_1: 1214\n",
      "num_2: 1419\n",
      "num_3: 6967\n",
      "total: 15000\n",
      "accuracy：0.60767\n",
      "precision_avg: 0.68381\n",
      "recall_avg: 0.60767\n",
      "f1_score_avg: 0.62797\n",
      ">>>>>>>>>>>>>>>>>>>>>>>>>>>>>>>>>>>>>>>>>>>>>>\n",
      "C = 0.004762\n",
      "tol = 0.000100\n"
     ]
    },
    {
     "name": "stderr",
     "output_type": "stream",
     "text": [
      "[Parallel(n_jobs=-1)]: Done   1 out of   1 | elapsed:   12.5s finished\n",
      "[Parallel(n_jobs=-1)]: Using backend ThreadingBackend with 20 concurrent workers.\n"
     ]
    },
    {
     "name": "stdout",
     "output_type": "stream",
     "text": [
      "convergence after 38 epochs took 50 seconds\n",
      "done in 49.983s.\n",
      "num_0: 5400\n",
      "num_1: 1214\n",
      "num_2: 1419\n",
      "num_3: 6967\n",
      "total: 15000\n",
      "accuracy：0.60793\n",
      "precision_avg: 0.68404\n",
      "recall_avg: 0.60793\n",
      "f1_score_avg: 0.62805\n",
      ">>>>>>>>>>>>>>>>>>>>>>>>>>>>>>>>>>>>>>>>>>>>>>\n",
      "C = 0.004762\n",
      "tol = 0.000010\n"
     ]
    },
    {
     "name": "stderr",
     "output_type": "stream",
     "text": [
      "[Parallel(n_jobs=-1)]: Done   1 out of   1 | elapsed:   49.9s finished\n",
      "[Parallel(n_jobs=-1)]: Using backend ThreadingBackend with 20 concurrent workers.\n"
     ]
    },
    {
     "name": "stdout",
     "output_type": "stream",
     "text": [
      "convergence after 576 epochs took 908 seconds\n",
      "done in 907.693s.\n",
      "num_0: 5400\n",
      "num_1: 1214\n",
      "num_2: 1419\n",
      "num_3: 6967\n",
      "total: 15000\n",
      "accuracy：0.60767\n",
      "precision_avg: 0.68469\n",
      "recall_avg: 0.60767\n",
      "f1_score_avg: 0.62757\n",
      ">>>>>>>>>>>>>>>>>>>>>>>>>>>>>>>>>>>>>>>>>>>>>>\n",
      "C = 0.047619\n",
      "tol = 0.100000\n"
     ]
    },
    {
     "name": "stderr",
     "output_type": "stream",
     "text": [
      "[Parallel(n_jobs=-1)]: Done   1 out of   1 | elapsed: 15.1min finished\n",
      "[Parallel(n_jobs=-1)]: Using backend ThreadingBackend with 20 concurrent workers.\n"
     ]
    },
    {
     "name": "stdout",
     "output_type": "stream",
     "text": [
      "convergence after 3 epochs took 6 seconds\n",
      "done in 6.040s.\n",
      "num_0: 5400\n",
      "num_1: 1214\n",
      "num_2: 1419\n",
      "num_3: 6967\n",
      "total: 15000\n",
      "accuracy：0.56807\n",
      "precision_avg: 0.66871\n",
      "recall_avg: 0.56807\n",
      "f1_score_avg: 0.60115\n",
      ">>>>>>>>>>>>>>>>>>>>>>>>>>>>>>>>>>>>>>>>>>>>>>\n",
      "C = 0.047619\n",
      "tol = 0.010000\n"
     ]
    },
    {
     "name": "stderr",
     "output_type": "stream",
     "text": [
      "[Parallel(n_jobs=-1)]: Done   1 out of   1 | elapsed:    5.9s finished\n",
      "[Parallel(n_jobs=-1)]: Using backend ThreadingBackend with 20 concurrent workers.\n"
     ]
    },
    {
     "name": "stdout",
     "output_type": "stream",
     "text": [
      "convergence after 12 epochs took 15 seconds\n",
      "done in 14.683s.\n",
      "num_0: 5400\n",
      "num_1: 1214\n",
      "num_2: 1419\n",
      "num_3: 6967\n",
      "total: 15000\n",
      "accuracy：0.60507\n",
      "precision_avg: 0.68322\n",
      "recall_avg: 0.60507\n",
      "f1_score_avg: 0.62768\n",
      ">>>>>>>>>>>>>>>>>>>>>>>>>>>>>>>>>>>>>>>>>>>>>>\n",
      "C = 0.047619\n",
      "tol = 0.001000\n"
     ]
    },
    {
     "name": "stderr",
     "output_type": "stream",
     "text": [
      "[Parallel(n_jobs=-1)]: Done   1 out of   1 | elapsed:   14.7s finished\n",
      "[Parallel(n_jobs=-1)]: Using backend ThreadingBackend with 20 concurrent workers.\n"
     ]
    },
    {
     "name": "stdout",
     "output_type": "stream",
     "text": [
      "convergence after 102 epochs took 212 seconds\n",
      "done in 212.561s.\n",
      "num_0: 5400\n",
      "num_1: 1214\n",
      "num_2: 1419\n",
      "num_3: 6967\n",
      "total: 15000\n",
      "accuracy：0.60553\n",
      "precision_avg: 0.68424\n",
      "recall_avg: 0.60553\n",
      "f1_score_avg: 0.62794\n",
      ">>>>>>>>>>>>>>>>>>>>>>>>>>>>>>>>>>>>>>>>>>>>>>\n",
      "C = 0.047619\n",
      "tol = 0.000100\n"
     ]
    },
    {
     "name": "stderr",
     "output_type": "stream",
     "text": [
      "[Parallel(n_jobs=-1)]: Done   1 out of   1 | elapsed:  3.5min finished\n",
      "[Parallel(n_jobs=-1)]: Using backend ThreadingBackend with 20 concurrent workers.\n"
     ]
    },
    {
     "name": "stdout",
     "output_type": "stream",
     "text": [
      "convergence after 104 epochs took 218 seconds\n",
      "done in 217.780s.\n",
      "num_0: 5400\n",
      "num_1: 1214\n",
      "num_2: 1419\n",
      "num_3: 6967\n",
      "total: 15000\n",
      "accuracy：0.60553\n",
      "precision_avg: 0.68423\n",
      "recall_avg: 0.60553\n",
      "f1_score_avg: 0.62794\n",
      ">>>>>>>>>>>>>>>>>>>>>>>>>>>>>>>>>>>>>>>>>>>>>>\n",
      "C = 0.047619\n",
      "tol = 0.000010\n"
     ]
    },
    {
     "name": "stderr",
     "output_type": "stream",
     "text": [
      "[Parallel(n_jobs=-1)]: Done   1 out of   1 | elapsed:  3.6min finished\n",
      "[Parallel(n_jobs=-1)]: Using backend ThreadingBackend with 20 concurrent workers.\n"
     ]
    },
    {
     "name": "stdout",
     "output_type": "stream",
     "text": [
      "convergence after 620 epochs took 1412 seconds\n",
      "done in 1411.707s.\n",
      "num_0: 5400\n",
      "num_1: 1214\n",
      "num_2: 1419\n",
      "num_3: 6967\n",
      "total: 15000\n",
      "accuracy：0.60420\n",
      "precision_avg: 0.68336\n",
      "recall_avg: 0.60420\n",
      "f1_score_avg: 0.62682\n",
      ">>>>>>>>>>>>>>>>>>>>>>>>>>>>>>>>>>>>>>>>>>>>>>\n",
      "C = 0.476190\n",
      "tol = 0.100000\n"
     ]
    },
    {
     "name": "stderr",
     "output_type": "stream",
     "text": [
      "[Parallel(n_jobs=-1)]: Done   1 out of   1 | elapsed: 23.5min finished\n",
      "[Parallel(n_jobs=-1)]: Using backend ThreadingBackend with 20 concurrent workers.\n"
     ]
    },
    {
     "name": "stdout",
     "output_type": "stream",
     "text": [
      "convergence after 3 epochs took 8 seconds\n",
      "done in 8.044s.\n",
      "num_0: 5400\n",
      "num_1: 1214\n",
      "num_2: 1419\n",
      "num_3: 6967\n",
      "total: 15000\n",
      "accuracy：0.56467\n",
      "precision_avg: 0.66808\n",
      "recall_avg: 0.56467\n",
      "f1_score_avg: 0.59889\n",
      ">>>>>>>>>>>>>>>>>>>>>>>>>>>>>>>>>>>>>>>>>>>>>>\n",
      "C = 0.476190\n",
      "tol = 0.010000\n"
     ]
    },
    {
     "name": "stderr",
     "output_type": "stream",
     "text": [
      "[Parallel(n_jobs=-1)]: Done   1 out of   1 | elapsed:    8.0s finished\n",
      "[Parallel(n_jobs=-1)]: Using backend ThreadingBackend with 20 concurrent workers.\n"
     ]
    },
    {
     "name": "stdout",
     "output_type": "stream",
     "text": [
      "convergence after 13 epochs took 28 seconds\n",
      "done in 28.420s.\n",
      "num_0: 5400\n",
      "num_1: 1214\n",
      "num_2: 1419\n",
      "num_3: 6967\n",
      "total: 15000\n",
      "accuracy：0.60327\n",
      "precision_avg: 0.68458\n",
      "recall_avg: 0.60327\n",
      "f1_score_avg: 0.62668\n",
      ">>>>>>>>>>>>>>>>>>>>>>>>>>>>>>>>>>>>>>>>>>>>>>\n",
      "C = 0.476190\n",
      "tol = 0.001000\n"
     ]
    },
    {
     "name": "stderr",
     "output_type": "stream",
     "text": [
      "[Parallel(n_jobs=-1)]: Done   1 out of   1 | elapsed:   28.4s finished\n",
      "[Parallel(n_jobs=-1)]: Using backend ThreadingBackend with 20 concurrent workers.\n"
     ]
    },
    {
     "name": "stdout",
     "output_type": "stream",
     "text": [
      "convergence after 25 epochs took 45 seconds\n",
      "done in 45.689s.\n",
      "num_0: 5400\n",
      "num_1: 1214\n",
      "num_2: 1419\n",
      "num_3: 6967\n",
      "total: 15000\n",
      "accuracy：0.60440\n",
      "precision_avg: 0.68397\n",
      "recall_avg: 0.60440\n",
      "f1_score_avg: 0.62738\n",
      ">>>>>>>>>>>>>>>>>>>>>>>>>>>>>>>>>>>>>>>>>>>>>>\n",
      "C = 0.476190\n",
      "tol = 0.000100\n"
     ]
    },
    {
     "name": "stderr",
     "output_type": "stream",
     "text": [
      "[Parallel(n_jobs=-1)]: Done   1 out of   1 | elapsed:   45.6s finished\n",
      "[Parallel(n_jobs=-1)]: Using backend ThreadingBackend with 20 concurrent workers.\n"
     ]
    },
    {
     "name": "stdout",
     "output_type": "stream",
     "text": [
      "convergence after 958 epochs took 2170 seconds\n",
      "done in 2169.847s.\n",
      "num_0: 5400\n",
      "num_1: 1214\n",
      "num_2: 1419\n",
      "num_3: 6967\n",
      "total: 15000\n",
      "accuracy：0.60260\n",
      "precision_avg: 0.68230\n",
      "recall_avg: 0.60260\n",
      "f1_score_avg: 0.62556\n",
      ">>>>>>>>>>>>>>>>>>>>>>>>>>>>>>>>>>>>>>>>>>>>>>\n",
      "C = 0.476190\n",
      "tol = 0.000010\n"
     ]
    },
    {
     "name": "stderr",
     "output_type": "stream",
     "text": [
      "[Parallel(n_jobs=-1)]: Done   1 out of   1 | elapsed: 36.2min finished\n",
      "[Parallel(n_jobs=-1)]: Using backend ThreadingBackend with 20 concurrent workers.\n"
     ]
    },
    {
     "name": "stdout",
     "output_type": "stream",
     "text": [
      "convergence after 959 epochs took 2177 seconds\n",
      "done in 2177.085s.\n",
      "num_0: 5400\n",
      "num_1: 1214\n",
      "num_2: 1419\n",
      "num_3: 6967\n",
      "total: 15000\n",
      "accuracy：0.60260\n",
      "precision_avg: 0.68230\n",
      "recall_avg: 0.60260\n",
      "f1_score_avg: 0.62556\n",
      ">>>>>>>>>>>>>>>>>>>>>>>>>>>>>>>>>>>>>>>>>>>>>>\n",
      "C = 4.761905\n",
      "tol = 0.100000\n"
     ]
    },
    {
     "name": "stderr",
     "output_type": "stream",
     "text": [
      "[Parallel(n_jobs=-1)]: Done   1 out of   1 | elapsed: 36.3min finished\n",
      "[Parallel(n_jobs=-1)]: Using backend ThreadingBackend with 20 concurrent workers.\n"
     ]
    },
    {
     "name": "stdout",
     "output_type": "stream",
     "text": [
      "convergence after 3 epochs took 8 seconds\n",
      "done in 8.251s.\n",
      "num_0: 5400\n",
      "num_1: 1214\n",
      "num_2: 1419\n",
      "num_3: 6967\n",
      "total: 15000\n",
      "accuracy：0.56440\n",
      "precision_avg: 0.66778\n",
      "recall_avg: 0.56440\n",
      "f1_score_avg: 0.59867\n",
      ">>>>>>>>>>>>>>>>>>>>>>>>>>>>>>>>>>>>>>>>>>>>>>\n",
      "C = 4.761905\n",
      "tol = 0.010000\n"
     ]
    },
    {
     "name": "stderr",
     "output_type": "stream",
     "text": [
      "[Parallel(n_jobs=-1)]: Done   1 out of   1 | elapsed:    8.2s finished\n",
      "[Parallel(n_jobs=-1)]: Using backend ThreadingBackend with 20 concurrent workers.\n"
     ]
    },
    {
     "name": "stdout",
     "output_type": "stream",
     "text": [
      "convergence after 13 epochs took 34 seconds\n",
      "done in 34.457s.\n",
      "num_0: 5400\n",
      "num_1: 1214\n",
      "num_2: 1419\n",
      "num_3: 6967\n",
      "total: 15000\n",
      "accuracy：0.60320\n",
      "precision_avg: 0.68459\n",
      "recall_avg: 0.60320\n",
      "f1_score_avg: 0.62666\n",
      ">>>>>>>>>>>>>>>>>>>>>>>>>>>>>>>>>>>>>>>>>>>>>>\n",
      "C = 4.761905\n",
      "tol = 0.001000\n"
     ]
    },
    {
     "name": "stderr",
     "output_type": "stream",
     "text": [
      "[Parallel(n_jobs=-1)]: Done   1 out of   1 | elapsed:   34.4s finished\n",
      "[Parallel(n_jobs=-1)]: Using backend ThreadingBackend with 20 concurrent workers.\n"
     ]
    },
    {
     "name": "stdout",
     "output_type": "stream",
     "text": [
      "convergence after 24 epochs took 57 seconds\n",
      "done in 56.959s.\n",
      "num_0: 5400\n",
      "num_1: 1214\n",
      "num_2: 1419\n",
      "num_3: 6967\n",
      "total: 15000\n",
      "accuracy：0.60453\n",
      "precision_avg: 0.68419\n",
      "recall_avg: 0.60453\n",
      "f1_score_avg: 0.62754\n",
      ">>>>>>>>>>>>>>>>>>>>>>>>>>>>>>>>>>>>>>>>>>>>>>\n",
      "C = 4.761905\n",
      "tol = 0.000100\n"
     ]
    },
    {
     "name": "stderr",
     "output_type": "stream",
     "text": [
      "[Parallel(n_jobs=-1)]: Done   1 out of   1 | elapsed:   56.9s finished\n",
      "[Parallel(n_jobs=-1)]: Using backend ThreadingBackend with 20 concurrent workers.\n"
     ]
    },
    {
     "name": "stdout",
     "output_type": "stream",
     "text": [
      "convergence after 76 epochs took 131 seconds\n",
      "done in 130.969s.\n",
      "num_0: 5400\n",
      "num_1: 1214\n",
      "num_2: 1419\n",
      "num_3: 6967\n",
      "total: 15000\n",
      "accuracy：0.60393\n",
      "precision_avg: 0.68337\n",
      "recall_avg: 0.60393\n",
      "f1_score_avg: 0.62685\n",
      ">>>>>>>>>>>>>>>>>>>>>>>>>>>>>>>>>>>>>>>>>>>>>>\n",
      "C = 4.761905\n",
      "tol = 0.000010\n"
     ]
    },
    {
     "name": "stderr",
     "output_type": "stream",
     "text": [
      "[Parallel(n_jobs=-1)]: Done   1 out of   1 | elapsed:  2.2min finished\n",
      "[Parallel(n_jobs=-1)]: Using backend ThreadingBackend with 20 concurrent workers.\n"
     ]
    },
    {
     "name": "stdout",
     "output_type": "stream",
     "text": [
      "convergence after 9530 epochs took 22740 seconds\n",
      "done in 22740.453s.\n",
      "num_0: 5400\n",
      "num_1: 1214\n",
      "num_2: 1419\n",
      "num_3: 6967\n",
      "total: 15000\n",
      "accuracy：0.60213\n",
      "precision_avg: 0.68186\n",
      "recall_avg: 0.60213\n",
      "f1_score_avg: 0.62515\n",
      ">>>>>>>>>>>>>>>>>>>>>>>>>>>>>>>>>>>>>>>>>>>>>>\n"
     ]
    },
    {
     "name": "stderr",
     "output_type": "stream",
     "text": [
      "[Parallel(n_jobs=-1)]: Done   1 out of   1 | elapsed: 379.0min finished\n"
     ]
    }
   ],
   "source": [
    "C_range = [0.1*50.0/105000, 50.0/105000, 10*50.0/105000, 100*50.0/105000, 1000*50.0/105000, 10000*50.0/105000] \n",
    "\n",
    "tol_range = [0.1, 0.01, 0.001, 0.0001, 0.00001]\n",
    "\n",
    "for C in C_range:\n",
    "    for tol in tol_range:\n",
    "        print('C = %f' % C)\n",
    "        print('tol = %f' % tol)\n",
    "        clf = LogisticRegression(\n",
    "                                    penalty = 'elasticnet',\n",
    "                                    tol = tol,\n",
    "                                    C = C,\n",
    "                                    class_weight = 'balanced',\n",
    "                                    random_state = 2020,\n",
    "                                    solver = 'saga',\n",
    "                                    # max_iter=100, # C =  10.0* 50.0/105000, max_iter reached after 41 seconds\n",
    "                                    # max_iter= 1000, # C =  10.0* 50.0/105000, max_iter reached after 404 seconds\n",
    "                                    max_iter= 10000,\n",
    "                                    multi_class = 'multinomial',\n",
    "                                    verbose = 1,\n",
    "                                    n_jobs = -1,\n",
    "                                    l1_ratio = 0.5  \n",
    "                                )\n",
    "        t0 = time()\n",
    "        clf.fit(train_x, train_y)\n",
    "        print(\"done in %0.3fs.\" % (time() - t0))\n",
    "        predict_y = clf.predict(valid_x)\n",
    "        # predict_prob_y = clf.predict_proba(valid_x)\n",
    "        # 评价指标值\n",
    "        accuracy, precision_avg, recall_avg, f1_score_avg = eval_p_r_f1(valid_y, predict_y)\n",
    "        print('accuracy：%0.5f' % accuracy)\n",
    "        print('precision_avg: %0.5f' % precision_avg)\n",
    "        print('recall_avg: %0.5f' % recall_avg)\n",
    "        print('f1_score_avg: %0.5f' % f1_score_avg)\n",
    "        print('>>>>>>>>>>>>>>>>>>>>>>>>>>>>>>>>>>>>>>>>>>>>>>')"
   ]
  },
  {
   "cell_type": "raw",
   "metadata": {},
   "source": [
    "dish 调参"
   ]
  },
  {
   "cell_type": "code",
   "execution_count": null,
   "metadata": {
    "collapsed": true,
    "jupyter": {
     "outputs_hidden": true,
     "source_hidden": true
    }
   },
   "outputs": [
    {
     "name": "stdout",
     "output_type": "stream",
     "text": [
      "C = 0.000048\n",
      "tol = 0.100000\n"
     ]
    },
    {
     "name": "stderr",
     "output_type": "stream",
     "text": [
      "[Parallel(n_jobs=-1)]: Using backend ThreadingBackend with 20 concurrent workers.\n"
     ]
    },
    {
     "name": "stdout",
     "output_type": "stream",
     "text": [
      "convergence after 4 epochs took 1 seconds\n",
      "done in 0.725s.\n",
      "num_0: 475\n",
      "num_1: 1516\n",
      "num_2: 3251\n",
      "num_3: 9758\n",
      "total: 15000\n",
      "accuracy：0.22573\n",
      "precision_avg: 0.51817\n",
      "recall_avg: 0.22573\n",
      "f1_score_avg: 0.26535\n",
      ">>>>>>>>>>>>>>>>>>>>>>>>>>>>>>>>>>>>>>>>>>>>>>\n",
      "C = 0.000048\n",
      "tol = 0.010000\n"
     ]
    },
    {
     "name": "stderr",
     "output_type": "stream",
     "text": [
      "[Parallel(n_jobs=-1)]: Done   1 out of   1 | elapsed:    0.6s finished\n",
      "[Parallel(n_jobs=-1)]: Using backend ThreadingBackend with 20 concurrent workers.\n"
     ]
    },
    {
     "name": "stdout",
     "output_type": "stream",
     "text": [
      "convergence after 8 epochs took 1 seconds\n",
      "done in 1.220s.\n",
      "num_0: 475\n",
      "num_1: 1516\n",
      "num_2: 3251\n",
      "num_3: 9758\n",
      "total: 15000\n",
      "accuracy：0.34533\n",
      "precision_avg: 0.47903\n",
      "recall_avg: 0.34533\n",
      "f1_score_avg: 0.37995\n",
      ">>>>>>>>>>>>>>>>>>>>>>>>>>>>>>>>>>>>>>>>>>>>>>\n",
      "C = 0.000048\n",
      "tol = 0.001000\n"
     ]
    },
    {
     "name": "stderr",
     "output_type": "stream",
     "text": [
      "[Parallel(n_jobs=-1)]: Done   1 out of   1 | elapsed:    1.2s finished\n",
      "[Parallel(n_jobs=-1)]: Using backend ThreadingBackend with 20 concurrent workers.\n"
     ]
    },
    {
     "name": "stdout",
     "output_type": "stream",
     "text": [
      "convergence after 12 epochs took 2 seconds\n",
      "done in 1.821s.\n",
      "num_0: 475\n",
      "num_1: 1516\n",
      "num_2: 3251\n",
      "num_3: 9758\n",
      "total: 15000\n",
      "accuracy：0.34513\n",
      "precision_avg: 0.47900\n",
      "recall_avg: 0.34513\n",
      "f1_score_avg: 0.37980\n",
      ">>>>>>>>>>>>>>>>>>>>>>>>>>>>>>>>>>>>>>>>>>>>>>\n",
      "C = 0.000048\n",
      "tol = 0.000100\n"
     ]
    },
    {
     "name": "stderr",
     "output_type": "stream",
     "text": [
      "[Parallel(n_jobs=-1)]: Done   1 out of   1 | elapsed:    1.7s finished\n",
      "[Parallel(n_jobs=-1)]: Using backend ThreadingBackend with 20 concurrent workers.\n"
     ]
    },
    {
     "name": "stdout",
     "output_type": "stream",
     "text": [
      "convergence after 15 epochs took 2 seconds\n",
      "done in 2.124s.\n",
      "num_0: 475\n",
      "num_1: 1516\n",
      "num_2: 3251\n",
      "num_3: 9758\n",
      "total: 15000\n",
      "accuracy：0.34513\n",
      "precision_avg: 0.47916\n",
      "recall_avg: 0.34513\n",
      "f1_score_avg: 0.37982\n",
      ">>>>>>>>>>>>>>>>>>>>>>>>>>>>>>>>>>>>>>>>>>>>>>\n",
      "C = 0.000048\n",
      "tol = 0.000010\n"
     ]
    },
    {
     "name": "stderr",
     "output_type": "stream",
     "text": [
      "[Parallel(n_jobs=-1)]: Done   1 out of   1 | elapsed:    2.1s finished\n",
      "[Parallel(n_jobs=-1)]: Using backend ThreadingBackend with 20 concurrent workers.\n"
     ]
    },
    {
     "name": "stdout",
     "output_type": "stream",
     "text": [
      "convergence after 283 epochs took 38 seconds\n",
      "done in 38.063s.\n",
      "num_0: 475\n",
      "num_1: 1516\n",
      "num_2: 3251\n",
      "num_3: 9758\n",
      "total: 15000\n",
      "accuracy：0.34353\n",
      "precision_avg: 0.47925\n",
      "recall_avg: 0.34353\n",
      "f1_score_avg: 0.37870\n",
      ">>>>>>>>>>>>>>>>>>>>>>>>>>>>>>>>>>>>>>>>>>>>>>\n",
      "C = 0.000476\n",
      "tol = 0.100000\n"
     ]
    },
    {
     "name": "stderr",
     "output_type": "stream",
     "text": [
      "[Parallel(n_jobs=-1)]: Done   1 out of   1 | elapsed:   38.0s finished\n",
      "[Parallel(n_jobs=-1)]: Using backend ThreadingBackend with 20 concurrent workers.\n"
     ]
    },
    {
     "name": "stdout",
     "output_type": "stream",
     "text": [
      "convergence after 4 epochs took 0 seconds\n",
      "done in 0.716s.\n",
      "num_0: 475\n",
      "num_1: 1516\n",
      "num_2: 3251\n",
      "num_3: 9758\n",
      "total: 15000\n",
      "accuracy：0.54213\n",
      "precision_avg: 0.66600\n",
      "recall_avg: 0.54213\n",
      "f1_score_avg: 0.58105\n",
      ">>>>>>>>>>>>>>>>>>>>>>>>>>>>>>>>>>>>>>>>>>>>>>\n",
      "C = 0.000476\n",
      "tol = 0.010000\n"
     ]
    },
    {
     "name": "stderr",
     "output_type": "stream",
     "text": [
      "[Parallel(n_jobs=-1)]: Done   1 out of   1 | elapsed:    0.7s finished\n",
      "[Parallel(n_jobs=-1)]: Using backend ThreadingBackend with 20 concurrent workers.\n"
     ]
    },
    {
     "name": "stdout",
     "output_type": "stream",
     "text": [
      "convergence after 10 epochs took 3 seconds\n",
      "done in 2.725s.\n",
      "num_0: 475\n",
      "num_1: 1516\n",
      "num_2: 3251\n",
      "num_3: 9758\n",
      "total: 15000\n",
      "accuracy：0.53720\n",
      "precision_avg: 0.66685\n",
      "recall_avg: 0.53720\n",
      "f1_score_avg: 0.57783\n",
      ">>>>>>>>>>>>>>>>>>>>>>>>>>>>>>>>>>>>>>>>>>>>>>\n",
      "C = 0.000476\n",
      "tol = 0.001000\n"
     ]
    },
    {
     "name": "stderr",
     "output_type": "stream",
     "text": [
      "[Parallel(n_jobs=-1)]: Done   1 out of   1 | elapsed:    2.6s finished\n",
      "[Parallel(n_jobs=-1)]: Using backend ThreadingBackend with 20 concurrent workers.\n"
     ]
    },
    {
     "name": "stdout",
     "output_type": "stream",
     "text": [
      "convergence after 14 epochs took 4 seconds\n",
      "done in 4.334s.\n",
      "num_0: 475\n",
      "num_1: 1516\n",
      "num_2: 3251\n",
      "num_3: 9758\n",
      "total: 15000\n",
      "accuracy：0.53667\n",
      "precision_avg: 0.66718\n",
      "recall_avg: 0.53667\n",
      "f1_score_avg: 0.57749\n",
      ">>>>>>>>>>>>>>>>>>>>>>>>>>>>>>>>>>>>>>>>>>>>>>\n",
      "C = 0.000476\n",
      "tol = 0.000100\n"
     ]
    },
    {
     "name": "stderr",
     "output_type": "stream",
     "text": [
      "[Parallel(n_jobs=-1)]: Done   1 out of   1 | elapsed:    4.2s finished\n",
      "[Parallel(n_jobs=-1)]: Using backend ThreadingBackend with 20 concurrent workers.\n"
     ]
    },
    {
     "name": "stdout",
     "output_type": "stream",
     "text": [
      "convergence after 159 epochs took 64 seconds\n",
      "done in 63.847s.\n",
      "num_0: 475\n",
      "num_1: 1516\n",
      "num_2: 3251\n",
      "num_3: 9758\n",
      "total: 15000\n",
      "accuracy：0.53200\n",
      "precision_avg: 0.66705\n",
      "recall_avg: 0.53200\n",
      "f1_score_avg: 0.57422\n",
      ">>>>>>>>>>>>>>>>>>>>>>>>>>>>>>>>>>>>>>>>>>>>>>\n",
      "C = 0.000476\n",
      "tol = 0.000010\n"
     ]
    },
    {
     "name": "stderr",
     "output_type": "stream",
     "text": [
      "[Parallel(n_jobs=-1)]: Done   1 out of   1 | elapsed:  1.1min finished\n",
      "[Parallel(n_jobs=-1)]: Using backend ThreadingBackend with 20 concurrent workers.\n"
     ]
    },
    {
     "name": "stdout",
     "output_type": "stream",
     "text": [
      "convergence after 515 epochs took 210 seconds\n",
      "done in 209.378s.\n",
      "num_0: 475\n",
      "num_1: 1516\n",
      "num_2: 3251\n",
      "num_3: 9758\n",
      "total: 15000\n",
      "accuracy：0.53013\n",
      "precision_avg: 0.66810\n",
      "recall_avg: 0.53013\n",
      "f1_score_avg: 0.57318\n",
      ">>>>>>>>>>>>>>>>>>>>>>>>>>>>>>>>>>>>>>>>>>>>>>\n",
      "C = 0.004762\n",
      "tol = 0.100000\n"
     ]
    },
    {
     "name": "stderr",
     "output_type": "stream",
     "text": [
      "[Parallel(n_jobs=-1)]: Done   1 out of   1 | elapsed:  3.5min finished\n",
      "[Parallel(n_jobs=-1)]: Using backend ThreadingBackend with 20 concurrent workers.\n"
     ]
    },
    {
     "name": "stdout",
     "output_type": "stream",
     "text": [
      "convergence after 2554 epochs took 1448 seconds\n",
      "done in 1448.637s.\n",
      "num_0: 475\n",
      "num_1: 1516\n",
      "num_2: 3251\n",
      "num_3: 9758\n",
      "total: 15000\n",
      "accuracy：0.56560\n",
      "precision_avg: 0.68516\n",
      "recall_avg: 0.56560\n",
      "f1_score_avg: 0.60143\n",
      ">>>>>>>>>>>>>>>>>>>>>>>>>>>>>>>>>>>>>>>>>>>>>>\n",
      "C = 0.004762\n",
      "tol = 0.010000\n"
     ]
    },
    {
     "name": "stderr",
     "output_type": "stream",
     "text": [
      "[Parallel(n_jobs=-1)]: Done   1 out of   1 | elapsed: 24.1min finished\n",
      "[Parallel(n_jobs=-1)]: Using backend ThreadingBackend with 20 concurrent workers.\n"
     ]
    },
    {
     "name": "stdout",
     "output_type": "stream",
     "text": [
      "max_iter reached after 5701 seconds\n",
      "done in 5700.652s.\n",
      "num_0: 475\n",
      "num_1: 1516\n",
      "num_2: 3251\n",
      "num_3: 9758\n",
      "total: 15000\n",
      "accuracy：0.58533\n",
      "precision_avg: 0.68151\n",
      "recall_avg: 0.58533\n",
      "f1_score_avg: 0.61591\n",
      ">>>>>>>>>>>>>>>>>>>>>>>>>>>>>>>>>>>>>>>>>>>>>>\n",
      "C = 0.004762\n",
      "tol = 0.001000\n"
     ]
    },
    {
     "name": "stderr",
     "output_type": "stream",
     "text": [
      "[Parallel(n_jobs=-1)]: Done   1 out of   1 | elapsed: 95.0min finished\n",
      "[Parallel(n_jobs=-1)]: Using backend ThreadingBackend with 20 concurrent workers.\n"
     ]
    },
    {
     "name": "stdout",
     "output_type": "stream",
     "text": [
      "max_iter reached after 5729 seconds\n",
      "done in 5729.456s.\n",
      "num_0: 475\n",
      "num_1: 1516\n",
      "num_2: 3251\n",
      "num_3: 9758\n",
      "total: 15000\n",
      "accuracy：0.58533\n",
      "precision_avg: 0.68151\n",
      "recall_avg: 0.58533\n",
      "f1_score_avg: 0.61591\n",
      ">>>>>>>>>>>>>>>>>>>>>>>>>>>>>>>>>>>>>>>>>>>>>>\n",
      "C = 0.004762\n",
      "tol = 0.000100\n"
     ]
    },
    {
     "name": "stderr",
     "output_type": "stream",
     "text": [
      "[Parallel(n_jobs=-1)]: Done   1 out of   1 | elapsed: 95.5min finished\n",
      "[Parallel(n_jobs=-1)]: Using backend ThreadingBackend with 20 concurrent workers.\n"
     ]
    },
    {
     "name": "stdout",
     "output_type": "stream",
     "text": [
      "max_iter reached after 5720 seconds\n",
      "done in 5719.995s.\n",
      "num_0: 475\n",
      "num_1: 1516\n",
      "num_2: 3251\n",
      "num_3: 9758\n",
      "total: 15000\n",
      "accuracy：0.58533\n",
      "precision_avg: 0.68151\n",
      "recall_avg: 0.58533\n",
      "f1_score_avg: 0.61591\n",
      ">>>>>>>>>>>>>>>>>>>>>>>>>>>>>>>>>>>>>>>>>>>>>>\n",
      "C = 0.004762\n",
      "tol = 0.000010\n"
     ]
    },
    {
     "name": "stderr",
     "output_type": "stream",
     "text": [
      "[Parallel(n_jobs=-1)]: Done   1 out of   1 | elapsed: 95.3min finished\n",
      "[Parallel(n_jobs=-1)]: Using backend ThreadingBackend with 20 concurrent workers.\n"
     ]
    },
    {
     "name": "stdout",
     "output_type": "stream",
     "text": [
      "max_iter reached after 5620 seconds\n",
      "done in 5620.695s.\n",
      "num_0: 475\n",
      "num_1: 1516\n",
      "num_2: 3251\n",
      "num_3: 9758\n",
      "total: 15000\n",
      "accuracy：0.58533\n",
      "precision_avg: 0.68151\n",
      "recall_avg: 0.58533\n",
      "f1_score_avg: 0.61591\n",
      ">>>>>>>>>>>>>>>>>>>>>>>>>>>>>>>>>>>>>>>>>>>>>>\n",
      "C = 0.047619\n",
      "tol = 0.100000\n"
     ]
    },
    {
     "name": "stderr",
     "output_type": "stream",
     "text": [
      "[Parallel(n_jobs=-1)]: Done   1 out of   1 | elapsed: 93.7min finished\n",
      "[Parallel(n_jobs=-1)]: Using backend ThreadingBackend with 20 concurrent workers.\n"
     ]
    },
    {
     "name": "stdout",
     "output_type": "stream",
     "text": [
      "max_iter reached after 19137 seconds\n",
      "done in 19136.864s.\n",
      "num_0: 475\n",
      "num_1: 1516\n",
      "num_2: 3251\n",
      "num_3: 9758\n",
      "total: 15000\n",
      "accuracy：0.54240\n",
      "precision_avg: 0.67081\n",
      "recall_avg: 0.54240\n",
      "f1_score_avg: 0.57871\n",
      ">>>>>>>>>>>>>>>>>>>>>>>>>>>>>>>>>>>>>>>>>>>>>>\n",
      "C = 0.047619\n",
      "tol = 0.010000\n"
     ]
    },
    {
     "name": "stderr",
     "output_type": "stream",
     "text": [
      "[Parallel(n_jobs=-1)]: Done   1 out of   1 | elapsed: 318.9min finished\n",
      "[Parallel(n_jobs=-1)]: Using backend ThreadingBackend with 20 concurrent workers.\n"
     ]
    },
    {
     "name": "stdout",
     "output_type": "stream",
     "text": [
      "max_iter reached after 19136 seconds\n",
      "done in 19136.253s.\n",
      "num_0: 475\n",
      "num_1: 1516\n",
      "num_2: 3251\n",
      "num_3: 9758\n",
      "total: 15000\n",
      "accuracy：0.54240\n",
      "precision_avg: 0.67081\n",
      "recall_avg: 0.54240\n",
      "f1_score_avg: 0.57871\n",
      ">>>>>>>>>>>>>>>>>>>>>>>>>>>>>>>>>>>>>>>>>>>>>>\n",
      "C = 0.047619\n",
      "tol = 0.001000\n"
     ]
    },
    {
     "name": "stderr",
     "output_type": "stream",
     "text": [
      "[Parallel(n_jobs=-1)]: Done   1 out of   1 | elapsed: 318.9min finished\n",
      "[Parallel(n_jobs=-1)]: Using backend ThreadingBackend with 20 concurrent workers.\n"
     ]
    },
    {
     "name": "stdout",
     "output_type": "stream",
     "text": [
      "max_iter reached after 19152 seconds\n",
      "done in 19152.993s.\n",
      "num_0: 475\n",
      "num_1: 1516\n",
      "num_2: 3251\n",
      "num_3: 9758\n",
      "total: 15000\n",
      "accuracy：0.54240\n",
      "precision_avg: 0.67081\n",
      "recall_avg: 0.54240\n",
      "f1_score_avg: 0.57871\n",
      ">>>>>>>>>>>>>>>>>>>>>>>>>>>>>>>>>>>>>>>>>>>>>>\n",
      "C = 0.047619\n",
      "tol = 0.000100\n"
     ]
    },
    {
     "name": "stderr",
     "output_type": "stream",
     "text": [
      "[Parallel(n_jobs=-1)]: Done   1 out of   1 | elapsed: 319.2min finished\n",
      "[Parallel(n_jobs=-1)]: Using backend ThreadingBackend with 20 concurrent workers.\n"
     ]
    },
    {
     "name": "stdout",
     "output_type": "stream",
     "text": [
      "max_iter reached after 19217 seconds\n",
      "done in 19217.210s.\n",
      "num_0: 475\n",
      "num_1: 1516\n",
      "num_2: 3251\n",
      "num_3: 9758\n",
      "total: 15000\n",
      "accuracy：0.54240\n",
      "precision_avg: 0.67081\n",
      "recall_avg: 0.54240\n",
      "f1_score_avg: 0.57871\n",
      ">>>>>>>>>>>>>>>>>>>>>>>>>>>>>>>>>>>>>>>>>>>>>>\n",
      "C = 0.047619\n",
      "tol = 0.000010\n"
     ]
    },
    {
     "name": "stderr",
     "output_type": "stream",
     "text": [
      "[Parallel(n_jobs=-1)]: Done   1 out of   1 | elapsed: 320.3min finished\n",
      "[Parallel(n_jobs=-1)]: Using backend ThreadingBackend with 20 concurrent workers.\n"
     ]
    }
   ],
   "source": [
    "C_range = [0.1*50.0/105000, 50.0/105000, 10*50.0/105000, 100*50.0/105000, 1000*50.0/105000, 10000*50.0/105000] \n",
    "\n",
    "tol_range = [0.1, 0.01, 0.001, 0.0001, 0.00001]\n",
    "\n",
    "for C in C_range:\n",
    "    for tol in tol_range:\n",
    "        print('C = %f' % C)\n",
    "        print('tol = %f' % tol)\n",
    "        clf = LogisticRegression(\n",
    "                                    penalty = 'elasticnet',\n",
    "                                    tol = tol,\n",
    "                                    C = C,\n",
    "                                    class_weight = 'balanced',\n",
    "                                    random_state = 2020,\n",
    "                                    solver = 'saga',\n",
    "                                    # max_iter=100, # C =  10.0* 50.0/105000, max_iter reached after 41 seconds\n",
    "                                    # max_iter= 1000, # C =  10.0* 50.0/105000, max_iter reached after 404 seconds\n",
    "                                    max_iter= 10000,\n",
    "                                    multi_class = 'multinomial',\n",
    "                                    verbose = 1,\n",
    "                                    n_jobs = -1,\n",
    "                                    l1_ratio = 0.5  \n",
    "                                )\n",
    "        t0 = time()\n",
    "        clf.fit(train_x, train_y)\n",
    "        print(\"done in %0.3fs.\" % (time() - t0))\n",
    "        predict_y = clf.predict(valid_x)\n",
    "        # predict_prob_y = clf.predict_proba(valid_x)\n",
    "        # 评价指标值\n",
    "        accuracy, precision_avg, recall_avg, f1_score_avg = eval_p_r_f1(valid_y, predict_y)\n",
    "        print('accuracy：%0.5f' % accuracy)\n",
    "        print('precision_avg: %0.5f' % precision_avg)\n",
    "        print('recall_avg: %0.5f' % recall_avg)\n",
    "        print('f1_score_avg: %0.5f' % f1_score_avg)\n",
    "        print('>>>>>>>>>>>>>>>>>>>>>>>>>>>>>>>>>>>>>>>>>>>>>>')"
   ]
  },
  {
   "cell_type": "code",
   "execution_count": 10,
   "metadata": {
    "collapsed": true
   },
   "outputs": [
    {
     "name": "stdout",
     "output_type": "stream",
     "text": [
      "C = 0.047619\n",
      "tol = 0.100000\n"
     ]
    },
    {
     "name": "stderr",
     "output_type": "stream",
     "text": [
      "[Parallel(n_jobs=-1)]: Using backend ThreadingBackend with 10 concurrent workers.\n"
     ]
    },
    {
     "name": "stdout",
     "output_type": "stream",
     "text": [
      "max_iter reached after 21861 seconds\n",
      "done in 21861.367s.\n",
      "num_0: 475\n",
      "num_1: 1516\n",
      "num_2: 3251\n",
      "num_3: 9758\n",
      "total: 15000\n",
      "accuracy：0.54240\n",
      "precision_avg: 0.67081\n",
      "recall_avg: 0.54240\n",
      "f1_score_avg: 0.57871\n",
      ">>>>>>>>>>>>>>>>>>>>>>>>>>>>>>>>>>>>>>>>>>>>>>\n",
      "C = 0.047619\n",
      "tol = 0.010000\n"
     ]
    },
    {
     "name": "stderr",
     "output_type": "stream",
     "text": [
      "[Parallel(n_jobs=-1)]: Done   1 out of   1 | elapsed: 364.4min finished\n",
      "[Parallel(n_jobs=-1)]: Using backend ThreadingBackend with 10 concurrent workers.\n"
     ]
    },
    {
     "name": "stdout",
     "output_type": "stream",
     "text": [
      "max_iter reached after 21835 seconds\n",
      "done in 21835.335s.\n",
      "num_0: 475\n",
      "num_1: 1516\n",
      "num_2: 3251\n",
      "num_3: 9758\n",
      "total: 15000\n",
      "accuracy：0.54240\n",
      "precision_avg: 0.67081\n",
      "recall_avg: 0.54240\n",
      "f1_score_avg: 0.57871\n",
      ">>>>>>>>>>>>>>>>>>>>>>>>>>>>>>>>>>>>>>>>>>>>>>\n",
      "C = 0.047619\n",
      "tol = 0.001000\n"
     ]
    },
    {
     "name": "stderr",
     "output_type": "stream",
     "text": [
      "[Parallel(n_jobs=-1)]: Done   1 out of   1 | elapsed: 363.9min finished\n",
      "[Parallel(n_jobs=-1)]: Using backend ThreadingBackend with 10 concurrent workers.\n"
     ]
    },
    {
     "name": "stdout",
     "output_type": "stream",
     "text": [
      "max_iter reached after 21830 seconds\n",
      "done in 21830.636s.\n",
      "num_0: 475\n",
      "num_1: 1516\n",
      "num_2: 3251\n",
      "num_3: 9758\n",
      "total: 15000\n",
      "accuracy：0.54240\n",
      "precision_avg: 0.67081\n",
      "recall_avg: 0.54240\n",
      "f1_score_avg: 0.57871\n",
      ">>>>>>>>>>>>>>>>>>>>>>>>>>>>>>>>>>>>>>>>>>>>>>\n",
      "C = 0.047619\n",
      "tol = 0.000100\n"
     ]
    },
    {
     "name": "stderr",
     "output_type": "stream",
     "text": [
      "[Parallel(n_jobs=-1)]: Done   1 out of   1 | elapsed: 363.8min finished\n",
      "[Parallel(n_jobs=-1)]: Using backend ThreadingBackend with 10 concurrent workers.\n"
     ]
    },
    {
     "name": "stdout",
     "output_type": "stream",
     "text": [
      "max_iter reached after 21821 seconds\n",
      "done in 21820.354s.\n",
      "num_0: 475\n",
      "num_1: 1516\n",
      "num_2: 3251\n",
      "num_3: 9758\n",
      "total: 15000\n",
      "accuracy：0.54240\n",
      "precision_avg: 0.67081\n",
      "recall_avg: 0.54240\n",
      "f1_score_avg: 0.57871\n",
      ">>>>>>>>>>>>>>>>>>>>>>>>>>>>>>>>>>>>>>>>>>>>>>\n",
      "C = 0.047619\n",
      "tol = 0.000010\n"
     ]
    },
    {
     "name": "stderr",
     "output_type": "stream",
     "text": [
      "[Parallel(n_jobs=-1)]: Done   1 out of   1 | elapsed: 363.7min finished\n",
      "[Parallel(n_jobs=-1)]: Using backend ThreadingBackend with 10 concurrent workers.\n"
     ]
    },
    {
     "name": "stdout",
     "output_type": "stream",
     "text": [
      "max_iter reached after 21819 seconds\n",
      "done in 21819.508s.\n",
      "num_0: 475\n",
      "num_1: 1516\n",
      "num_2: 3251\n",
      "num_3: 9758\n",
      "total: 15000\n",
      "accuracy：0.54240\n",
      "precision_avg: 0.67081\n",
      "recall_avg: 0.54240\n",
      "f1_score_avg: 0.57871\n",
      ">>>>>>>>>>>>>>>>>>>>>>>>>>>>>>>>>>>>>>>>>>>>>>\n",
      "C = 0.476190\n",
      "tol = 0.100000\n"
     ]
    },
    {
     "name": "stderr",
     "output_type": "stream",
     "text": [
      "[Parallel(n_jobs=-1)]: Done   1 out of   1 | elapsed: 363.7min finished\n",
      "[Parallel(n_jobs=-1)]: Using backend ThreadingBackend with 10 concurrent workers.\n"
     ]
    },
    {
     "name": "stdout",
     "output_type": "stream",
     "text": [
      "max_iter reached after 29574 seconds\n",
      "done in 29574.228s.\n",
      "num_0: 475\n",
      "num_1: 1516\n",
      "num_2: 3251\n",
      "num_3: 9758\n",
      "total: 15000\n",
      "accuracy：0.51813\n",
      "precision_avg: 0.65924\n",
      "recall_avg: 0.51813\n",
      "f1_score_avg: 0.55698\n",
      ">>>>>>>>>>>>>>>>>>>>>>>>>>>>>>>>>>>>>>>>>>>>>>\n",
      "C = 0.476190\n",
      "tol = 0.010000\n"
     ]
    },
    {
     "name": "stderr",
     "output_type": "stream",
     "text": [
      "[Parallel(n_jobs=-1)]: Done   1 out of   1 | elapsed: 492.9min finished\n",
      "[Parallel(n_jobs=-1)]: Using backend ThreadingBackend with 10 concurrent workers.\n"
     ]
    },
    {
     "name": "stdout",
     "output_type": "stream",
     "text": [
      "max_iter reached after 29590 seconds\n",
      "done in 29589.787s.\n",
      "num_0: 475\n",
      "num_1: 1516\n",
      "num_2: 3251\n",
      "num_3: 9758\n",
      "total: 15000\n",
      "accuracy：0.51813\n",
      "precision_avg: 0.65924\n",
      "recall_avg: 0.51813\n",
      "f1_score_avg: 0.55698\n",
      ">>>>>>>>>>>>>>>>>>>>>>>>>>>>>>>>>>>>>>>>>>>>>>\n",
      "C = 0.476190\n",
      "tol = 0.001000\n"
     ]
    },
    {
     "name": "stderr",
     "output_type": "stream",
     "text": [
      "[Parallel(n_jobs=-1)]: Done   1 out of   1 | elapsed: 493.2min finished\n",
      "[Parallel(n_jobs=-1)]: Using backend ThreadingBackend with 10 concurrent workers.\n"
     ]
    },
    {
     "name": "stdout",
     "output_type": "stream",
     "text": [
      "max_iter reached after 29613 seconds\n",
      "done in 29612.414s.\n",
      "num_0: 475\n",
      "num_1: 1516\n",
      "num_2: 3251\n",
      "num_3: 9758\n",
      "total: 15000\n",
      "accuracy：0.51813\n",
      "precision_avg: 0.65924\n",
      "recall_avg: 0.51813\n",
      "f1_score_avg: 0.55698\n",
      ">>>>>>>>>>>>>>>>>>>>>>>>>>>>>>>>>>>>>>>>>>>>>>\n",
      "C = 0.476190\n",
      "tol = 0.000100\n"
     ]
    },
    {
     "name": "stderr",
     "output_type": "stream",
     "text": [
      "[Parallel(n_jobs=-1)]: Done   1 out of   1 | elapsed: 493.5min finished\n",
      "[Parallel(n_jobs=-1)]: Using backend ThreadingBackend with 10 concurrent workers.\n"
     ]
    },
    {
     "name": "stdout",
     "output_type": "stream",
     "text": [
      "max_iter reached after 29616 seconds\n",
      "done in 29615.912s.\n",
      "num_0: 475\n",
      "num_1: 1516\n",
      "num_2: 3251\n",
      "num_3: 9758\n",
      "total: 15000\n",
      "accuracy：0.51813\n",
      "precision_avg: 0.65924\n",
      "recall_avg: 0.51813\n",
      "f1_score_avg: 0.55698\n",
      ">>>>>>>>>>>>>>>>>>>>>>>>>>>>>>>>>>>>>>>>>>>>>>\n",
      "C = 0.476190\n",
      "tol = 0.000010\n"
     ]
    },
    {
     "name": "stderr",
     "output_type": "stream",
     "text": [
      "[Parallel(n_jobs=-1)]: Done   1 out of   1 | elapsed: 493.6min finished\n",
      "[Parallel(n_jobs=-1)]: Using backend ThreadingBackend with 10 concurrent workers.\n"
     ]
    },
    {
     "name": "stdout",
     "output_type": "stream",
     "text": [
      "max_iter reached after 29569 seconds\n",
      "done in 29569.819s.\n",
      "num_0: 475\n",
      "num_1: 1516\n",
      "num_2: 3251\n",
      "num_3: 9758\n",
      "total: 15000\n",
      "accuracy：0.51813\n",
      "precision_avg: 0.65924\n",
      "recall_avg: 0.51813\n",
      "f1_score_avg: 0.55698\n",
      ">>>>>>>>>>>>>>>>>>>>>>>>>>>>>>>>>>>>>>>>>>>>>>\n",
      "C = 4.761905\n",
      "tol = 0.100000\n"
     ]
    },
    {
     "name": "stderr",
     "output_type": "stream",
     "text": [
      "[Parallel(n_jobs=-1)]: Done   1 out of   1 | elapsed: 492.8min finished\n",
      "[Parallel(n_jobs=-1)]: Using backend ThreadingBackend with 10 concurrent workers.\n"
     ]
    },
    {
     "name": "stdout",
     "output_type": "stream",
     "text": [
      "max_iter reached after 30367 seconds\n",
      "done in 30367.371s.\n",
      "num_0: 475\n",
      "num_1: 1516\n",
      "num_2: 3251\n",
      "num_3: 9758\n",
      "total: 15000\n",
      "accuracy：0.55113\n",
      "precision_avg: 0.66010\n",
      "recall_avg: 0.55113\n",
      "f1_score_avg: 0.58416\n",
      ">>>>>>>>>>>>>>>>>>>>>>>>>>>>>>>>>>>>>>>>>>>>>>\n",
      "C = 4.761905\n",
      "tol = 0.010000\n"
     ]
    },
    {
     "name": "stderr",
     "output_type": "stream",
     "text": [
      "[Parallel(n_jobs=-1)]: Done   1 out of   1 | elapsed: 506.1min finished\n",
      "[Parallel(n_jobs=-1)]: Using backend ThreadingBackend with 10 concurrent workers.\n"
     ]
    },
    {
     "name": "stdout",
     "output_type": "stream",
     "text": [
      "max_iter reached after 30415 seconds\n",
      "done in 30415.569s.\n",
      "num_0: 475\n",
      "num_1: 1516\n",
      "num_2: 3251\n",
      "num_3: 9758\n",
      "total: 15000\n",
      "accuracy：0.55113\n",
      "precision_avg: 0.66010\n",
      "recall_avg: 0.55113\n",
      "f1_score_avg: 0.58416\n",
      ">>>>>>>>>>>>>>>>>>>>>>>>>>>>>>>>>>>>>>>>>>>>>>\n",
      "C = 4.761905\n",
      "tol = 0.001000\n"
     ]
    },
    {
     "name": "stderr",
     "output_type": "stream",
     "text": [
      "[Parallel(n_jobs=-1)]: Done   1 out of   1 | elapsed: 506.9min finished\n",
      "[Parallel(n_jobs=-1)]: Using backend ThreadingBackend with 10 concurrent workers.\n"
     ]
    },
    {
     "name": "stdout",
     "output_type": "stream",
     "text": [
      "max_iter reached after 30394 seconds\n",
      "done in 30394.194s.\n",
      "num_0: 475\n",
      "num_1: 1516\n",
      "num_2: 3251\n",
      "num_3: 9758\n",
      "total: 15000\n",
      "accuracy：0.55113\n",
      "precision_avg: 0.66010\n",
      "recall_avg: 0.55113\n",
      "f1_score_avg: 0.58416\n",
      ">>>>>>>>>>>>>>>>>>>>>>>>>>>>>>>>>>>>>>>>>>>>>>\n",
      "C = 4.761905\n",
      "tol = 0.000100\n"
     ]
    },
    {
     "name": "stderr",
     "output_type": "stream",
     "text": [
      "[Parallel(n_jobs=-1)]: Done   1 out of   1 | elapsed: 506.6min finished\n",
      "[Parallel(n_jobs=-1)]: Using backend ThreadingBackend with 10 concurrent workers.\n"
     ]
    },
    {
     "name": "stdout",
     "output_type": "stream",
     "text": [
      "max_iter reached after 30383 seconds\n",
      "done in 30383.028s.\n",
      "num_0: 475\n",
      "num_1: 1516\n",
      "num_2: 3251\n",
      "num_3: 9758\n",
      "total: 15000\n",
      "accuracy：0.55113\n",
      "precision_avg: 0.66010\n",
      "recall_avg: 0.55113\n",
      "f1_score_avg: 0.58416\n",
      ">>>>>>>>>>>>>>>>>>>>>>>>>>>>>>>>>>>>>>>>>>>>>>\n",
      "C = 4.761905\n",
      "tol = 0.000010\n"
     ]
    },
    {
     "name": "stderr",
     "output_type": "stream",
     "text": [
      "[Parallel(n_jobs=-1)]: Done   1 out of   1 | elapsed: 506.4min finished\n",
      "[Parallel(n_jobs=-1)]: Using backend ThreadingBackend with 10 concurrent workers.\n"
     ]
    },
    {
     "name": "stdout",
     "output_type": "stream",
     "text": [
      "max_iter reached after 30443 seconds\n",
      "done in 30443.070s.\n",
      "num_0: 475\n",
      "num_1: 1516\n",
      "num_2: 3251\n",
      "num_3: 9758\n",
      "total: 15000\n",
      "accuracy：0.55113\n",
      "precision_avg: 0.66010\n",
      "recall_avg: 0.55113\n",
      "f1_score_avg: 0.58416\n",
      ">>>>>>>>>>>>>>>>>>>>>>>>>>>>>>>>>>>>>>>>>>>>>>\n"
     ]
    },
    {
     "name": "stderr",
     "output_type": "stream",
     "text": [
      "[Parallel(n_jobs=-1)]: Done   1 out of   1 | elapsed: 507.4min finished\n"
     ]
    }
   ],
   "source": [
    "C_range = [100*50.0/105000, 1000*50.0/105000, 10000*50.0/105000] \n",
    "\n",
    "tol_range = [0.1, 0.01, 0.001, 0.0001, 0.00001]\n",
    "\n",
    "for C in C_range:\n",
    "    for tol in tol_range:\n",
    "        print('C = %f' % C)\n",
    "        print('tol = %f' % tol)\n",
    "        clf = LogisticRegression(\n",
    "                                    penalty = 'elasticnet',\n",
    "                                    tol = tol,\n",
    "                                    C = C,\n",
    "                                    class_weight = 'balanced',\n",
    "                                    random_state = 2020,\n",
    "                                    solver = 'saga',\n",
    "                                    # max_iter=100, # C =  10.0* 50.0/105000, max_iter reached after 41 seconds\n",
    "                                    # max_iter= 1000, # C =  10.0* 50.0/105000, max_iter reached after 404 seconds\n",
    "                                    max_iter= 10000,\n",
    "                                    multi_class = 'multinomial',\n",
    "                                    verbose = 1,\n",
    "                                    n_jobs = -1,\n",
    "                                    l1_ratio = 0.5  \n",
    "                                )\n",
    "        t0 = time()\n",
    "        clf.fit(train_x, train_y)\n",
    "        print(\"done in %0.3fs.\" % (time() - t0))\n",
    "        predict_y = clf.predict(valid_x)\n",
    "        # predict_prob_y = clf.predict_proba(valid_x)\n",
    "        # 评价指标值\n",
    "        accuracy, precision_avg, recall_avg, f1_score_avg = eval_p_r_f1(valid_y, predict_y)\n",
    "        print('accuracy：%0.5f' % accuracy)\n",
    "        print('precision_avg: %0.5f' % precision_avg)\n",
    "        print('recall_avg: %0.5f' % recall_avg)\n",
    "        print('f1_score_avg: %0.5f' % f1_score_avg)\n",
    "        print('>>>>>>>>>>>>>>>>>>>>>>>>>>>>>>>>>>>>>>>>>>>>>>')"
   ]
  },
  {
   "cell_type": "code",
   "execution_count": null,
   "metadata": {},
   "outputs": [],
   "source": []
  }
 ],
 "metadata": {
  "kernelspec": {
   "display_name": "python3",
   "language": "python",
   "name": "python3"
  },
  "language_info": {
   "codemirror_mode": {
    "name": "ipython",
    "version": 3
   },
   "file_extension": ".py",
   "mimetype": "text/x-python",
   "name": "python",
   "nbconvert_exporter": "python",
   "pygments_lexer": "ipython3",
   "version": "3.6.4"
  }
 },
 "nbformat": 4,
 "nbformat_minor": 4
}
