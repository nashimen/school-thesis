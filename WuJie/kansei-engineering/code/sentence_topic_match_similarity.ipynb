{
 "cells": [
  {
   "cell_type": "code",
   "execution_count": 1,
   "outputs": [],
   "source": [
    "import gensim.models\n",
    "import pandas as pd\n",
    "\n",
    "# 读词向量CBOW200\n",
    "model = gensim.models.Word2Vec.load('../model/gensim-model-43gruuh9-CBOW200-mincount100')\n",
    "word_vector = model.wv\n",
    "\n",
    "# 读未匹配文本\n",
    "data = pd.read_csv('../data/sentence_match_result_without_match_2.csv', sep='\\t')\n",
    "\n",
    "# 读取停用词\n",
    "with open('../data/baidu_stopwords.txt', 'r', encoding='utf-8') as f:\n",
    "    stop_list = f.read()\n",
    "    # 返回list类型数据\n",
    "    stop_list = stop_list.split('\\n')\n",
    "\n",
    "# 读取主题词\n",
    "topic = pd.read_excel('../data/4_clusters_cbow200_kmeans-words_fixed-Wu.xlsx')\n",
    "topic['Phrases'] = topic['Phrases'].apply(lambda x: x.split('，'))\n",
    "all_word = topic['Phrases'].tolist()"
   ],
   "metadata": {
    "collapsed": false
   }
  },
  {
   "cell_type": "code",
   "execution_count": 2,
   "outputs": [],
   "source": [
    "# 构造词典：{word->topic}\n",
    "word_dict = {}\n",
    "for i, topic_words in enumerate(all_word):\n",
    "    for topic_word in topic_words:\n",
    "        word_dict[topic_word] = i\n",
    "\n",
    "topic_word_df = pd.DataFrame()\n",
    "topic_word_df['word'] = word_dict.keys()\n",
    "topic_word_df['topic'] = word_dict.values()"
   ],
   "metadata": {
    "collapsed": false
   }
  },
  {
   "cell_type": "code",
   "execution_count": 3,
   "outputs": [],
   "source": [
    "from LAC import LAC\n",
    "\n",
    "# 初始化分词模型\n",
    "lac = LAC(mode='seg')\n",
    "\n",
    "\n",
    "# 处理文本：分词，去停用词\n",
    "def text_process(text):\n",
    "    word_list = lac.run(text)\n",
    "    word_list = list(filter(lambda x: x not in stop_list, word_list))\n",
    "    word_list = list(filter(lambda x: x in word_vector, word_list))\n",
    "    return word_list\n",
    "\n",
    "\n",
    "# 生成句向量：对句中词向量取平均\n",
    "def sentence_vector(words):\n",
    "    word_num = len(words)\n",
    "    vector_sum = 0\n",
    "    for word in words:\n",
    "        vector_sum += word_vector[word]\n",
    "    return vector_sum / word_num"
   ],
   "metadata": {
    "collapsed": false
   }
  },
  {
   "cell_type": "code",
   "execution_count": 1,
   "outputs": [
    {
     "traceback": [
      "\u001b[1;31m---------------------------------------------------------------------------\u001b[0m",
      "\u001b[1;31mNameError\u001b[0m                                 Traceback (most recent call last)",
      "\u001b[1;32m~\\AppData\\Local\\Temp\\ipykernel_28336\\3834467012.py\u001b[0m in \u001b[0;36m<module>\u001b[1;34m\u001b[0m\n\u001b[0;32m      2\u001b[0m \u001b[1;33m\u001b[0m\u001b[0m\n\u001b[0;32m      3\u001b[0m \u001b[0mtqdm\u001b[0m\u001b[1;33m.\u001b[0m\u001b[0mpandas\u001b[0m\u001b[1;33m(\u001b[0m\u001b[1;33m)\u001b[0m\u001b[1;33m\u001b[0m\u001b[0m\n\u001b[1;32m----> 4\u001b[1;33m \u001b[0mdata\u001b[0m\u001b[1;33m[\u001b[0m\u001b[1;34m'word'\u001b[0m\u001b[1;33m]\u001b[0m \u001b[1;33m=\u001b[0m \u001b[0mdata\u001b[0m\u001b[1;33m[\u001b[0m\u001b[1;34m'sentence'\u001b[0m\u001b[1;33m]\u001b[0m\u001b[1;33m.\u001b[0m\u001b[0mprogress_apply\u001b[0m\u001b[1;33m(\u001b[0m\u001b[0mtext_process\u001b[0m\u001b[1;33m)\u001b[0m\u001b[1;33m\u001b[0m\u001b[0m\n\u001b[0m\u001b[0;32m      5\u001b[0m \u001b[0mdata\u001b[0m\u001b[1;33m.\u001b[0m\u001b[0mshape\u001b[0m\u001b[1;33m\u001b[0m\u001b[0m\n",
      "\u001b[1;31mNameError\u001b[0m: name 'data' is not defined"
     ],
     "ename": "NameError",
     "evalue": "name 'data' is not defined",
     "output_type": "error"
    }
   ],
   "source": [
    "from tqdm import tqdm\n",
    "\n",
    "tqdm.pandas()\n",
    "data['word'] = data['sentence'].progress_apply(text_process)\n",
    "data.shape"
   ],
   "metadata": {
    "collapsed": false,
    "pycharm": {
     "is_executing": false
    }
   }
  },
  {
   "cell_type": "code",
   "execution_count": 5,
   "outputs": [
    {
     "name": "stderr",
     "output_type": "stream",
     "text": [
      "100%|██████████| 505659/505659 [00:00<00:00, 1162439.10it/s]\n"
     ]
    },
    {
     "data": {
      "text/plain": "(403280, 5)"
     },
     "execution_count": 5,
     "metadata": {},
     "output_type": "execute_result"
    }
   ],
   "source": [
    "data = data[data['word'].progress_apply(lambda x: len(x) != 0)]\n",
    "data.shape"
   ],
   "metadata": {
    "collapsed": false
   }
  },
  {
   "cell_type": "code",
   "execution_count": 6,
   "outputs": [
    {
     "name": "stderr",
     "output_type": "stream",
     "text": [
      "100%|██████████| 403280/403280 [00:03<00:00, 120514.98it/s]\n"
     ]
    },
    {
     "data": {
      "text/plain": "            sentence  sentiment    dict  topic          word  \\\n0                很不错   1.000000  kansei     -1         [很不错]   \n1                很方便   0.913670  kansei     -1         [很方便]   \n2             我算老上海了  -0.719586  kansei     -1          [上海]   \n3           关键出行也贼方便   1.827339  kansei     -1      [关键, 出行]   \n4       还有很多小细节都做得很好  -0.807582  kansei     -1  [很多, 细节, 很好]   \n...              ...        ...     ...    ...           ...   \n505653           非常好   0.480848   boson     -1         [非常好]   \n505654            很好   0.408395   boson     -1          [很好]   \n505655        出行方便快捷   0.121133   boson     -1      [出行, 快捷]   \n505656           太陈旧   0.002331   boson     -1          [陈旧]   \n505657        该装修升级了   0.006169   boson     -1      [装修, 升级]   \n\n                                                embedding  \n0       [-0.42502537, 0.21800643, 0.2715213, -0.591509...  \n1       [1.0027162, -1.0461148, -0.5516127, -0.9708352...  \n2       [-1.4588678, -0.10144578, 0.45522714, -0.73831...  \n3       [-0.09616853, -0.43707547, -0.47020012, -0.682...  \n4       [0.47228357, 0.025031894, 0.09922173, -1.32219...  \n...                                                   ...  \n505653  [0.44406316, 0.34589562, 0.08528422, -0.475078...  \n505654  [0.39576432, -0.29499507, -0.06025856, -1.3982...  \n505655  [0.265513, -0.21143275, -1.2105337, -1.317834,...  \n505656  [0.2498115, -1.3509833, -0.22059618, -1.754505...  \n505657  [0.9499168, -0.2965461, -0.4050656, 0.504988, ...  \n\n[403280 rows x 6 columns]",
      "text/html": "<div>\n<style scoped>\n    .dataframe tbody tr th:only-of-type {\n        vertical-align: middle;\n    }\n\n    .dataframe tbody tr th {\n        vertical-align: top;\n    }\n\n    .dataframe thead th {\n        text-align: right;\n    }\n</style>\n<table border=\"1\" class=\"dataframe\">\n  <thead>\n    <tr style=\"text-align: right;\">\n      <th></th>\n      <th>sentence</th>\n      <th>sentiment</th>\n      <th>dict</th>\n      <th>topic</th>\n      <th>word</th>\n      <th>embedding</th>\n    </tr>\n  </thead>\n  <tbody>\n    <tr>\n      <th>0</th>\n      <td>很不错</td>\n      <td>1.000000</td>\n      <td>kansei</td>\n      <td>-1</td>\n      <td>[很不错]</td>\n      <td>[-0.42502537, 0.21800643, 0.2715213, -0.591509...</td>\n    </tr>\n    <tr>\n      <th>1</th>\n      <td>很方便</td>\n      <td>0.913670</td>\n      <td>kansei</td>\n      <td>-1</td>\n      <td>[很方便]</td>\n      <td>[1.0027162, -1.0461148, -0.5516127, -0.9708352...</td>\n    </tr>\n    <tr>\n      <th>2</th>\n      <td>我算老上海了</td>\n      <td>-0.719586</td>\n      <td>kansei</td>\n      <td>-1</td>\n      <td>[上海]</td>\n      <td>[-1.4588678, -0.10144578, 0.45522714, -0.73831...</td>\n    </tr>\n    <tr>\n      <th>3</th>\n      <td>关键出行也贼方便</td>\n      <td>1.827339</td>\n      <td>kansei</td>\n      <td>-1</td>\n      <td>[关键, 出行]</td>\n      <td>[-0.09616853, -0.43707547, -0.47020012, -0.682...</td>\n    </tr>\n    <tr>\n      <th>4</th>\n      <td>还有很多小细节都做得很好</td>\n      <td>-0.807582</td>\n      <td>kansei</td>\n      <td>-1</td>\n      <td>[很多, 细节, 很好]</td>\n      <td>[0.47228357, 0.025031894, 0.09922173, -1.32219...</td>\n    </tr>\n    <tr>\n      <th>...</th>\n      <td>...</td>\n      <td>...</td>\n      <td>...</td>\n      <td>...</td>\n      <td>...</td>\n      <td>...</td>\n    </tr>\n    <tr>\n      <th>505653</th>\n      <td>非常好</td>\n      <td>0.480848</td>\n      <td>boson</td>\n      <td>-1</td>\n      <td>[非常好]</td>\n      <td>[0.44406316, 0.34589562, 0.08528422, -0.475078...</td>\n    </tr>\n    <tr>\n      <th>505654</th>\n      <td>很好</td>\n      <td>0.408395</td>\n      <td>boson</td>\n      <td>-1</td>\n      <td>[很好]</td>\n      <td>[0.39576432, -0.29499507, -0.06025856, -1.3982...</td>\n    </tr>\n    <tr>\n      <th>505655</th>\n      <td>出行方便快捷</td>\n      <td>0.121133</td>\n      <td>boson</td>\n      <td>-1</td>\n      <td>[出行, 快捷]</td>\n      <td>[0.265513, -0.21143275, -1.2105337, -1.317834,...</td>\n    </tr>\n    <tr>\n      <th>505656</th>\n      <td>太陈旧</td>\n      <td>0.002331</td>\n      <td>boson</td>\n      <td>-1</td>\n      <td>[陈旧]</td>\n      <td>[0.2498115, -1.3509833, -0.22059618, -1.754505...</td>\n    </tr>\n    <tr>\n      <th>505657</th>\n      <td>该装修升级了</td>\n      <td>0.006169</td>\n      <td>boson</td>\n      <td>-1</td>\n      <td>[装修, 升级]</td>\n      <td>[0.9499168, -0.2965461, -0.4050656, 0.504988, ...</td>\n    </tr>\n  </tbody>\n</table>\n<p>403280 rows × 6 columns</p>\n</div>"
     },
     "execution_count": 6,
     "metadata": {},
     "output_type": "execute_result"
    }
   ],
   "source": [
    "data['embedding'] = data['word'].progress_apply(sentence_vector)\n",
    "data"
   ],
   "metadata": {
    "collapsed": false
   }
  },
  {
   "cell_type": "code",
   "execution_count": 7,
   "outputs": [
    {
     "data": {
      "text/plain": "    word  topic                                          embedding\n0     区域      0  [-0.113039896, -0.69703484, -0.43348184, -1.02...\n1    健身房      0  [-1.2018826, -1.0320314, 0.90112823, 0.1673300...\n2     恒温      0  [-0.3240394, -0.14965014, 0.4669027, -0.099842...\n3     水温      0  [-0.54796183, -0.1557606, 0.21056634, 0.584171...\n4     温水      0  [-0.05494703, 0.036484633, 0.26244885, 0.39779...\n..   ...    ...                                                ...\n911   网红     12  [-0.4832348, -0.45731708, -0.13322963, -0.4840...\n912  全聚德     12  [-0.19603707, -0.40513152, 0.019082287, -0.468...\n913  海底捞     12  [0.09379745, 0.0010569062, 0.054458287, -0.174...\n914  老字号     12  [-0.11433694, -0.37319803, -0.025594242, -0.27...\n915   烤鸭     12  [-0.46920088, -0.47759402, 0.21193807, -0.3239...\n\n[916 rows x 3 columns]",
      "text/html": "<div>\n<style scoped>\n    .dataframe tbody tr th:only-of-type {\n        vertical-align: middle;\n    }\n\n    .dataframe tbody tr th {\n        vertical-align: top;\n    }\n\n    .dataframe thead th {\n        text-align: right;\n    }\n</style>\n<table border=\"1\" class=\"dataframe\">\n  <thead>\n    <tr style=\"text-align: right;\">\n      <th></th>\n      <th>word</th>\n      <th>topic</th>\n      <th>embedding</th>\n    </tr>\n  </thead>\n  <tbody>\n    <tr>\n      <th>0</th>\n      <td>区域</td>\n      <td>0</td>\n      <td>[-0.113039896, -0.69703484, -0.43348184, -1.02...</td>\n    </tr>\n    <tr>\n      <th>1</th>\n      <td>健身房</td>\n      <td>0</td>\n      <td>[-1.2018826, -1.0320314, 0.90112823, 0.1673300...</td>\n    </tr>\n    <tr>\n      <th>2</th>\n      <td>恒温</td>\n      <td>0</td>\n      <td>[-0.3240394, -0.14965014, 0.4669027, -0.099842...</td>\n    </tr>\n    <tr>\n      <th>3</th>\n      <td>水温</td>\n      <td>0</td>\n      <td>[-0.54796183, -0.1557606, 0.21056634, 0.584171...</td>\n    </tr>\n    <tr>\n      <th>4</th>\n      <td>温水</td>\n      <td>0</td>\n      <td>[-0.05494703, 0.036484633, 0.26244885, 0.39779...</td>\n    </tr>\n    <tr>\n      <th>...</th>\n      <td>...</td>\n      <td>...</td>\n      <td>...</td>\n    </tr>\n    <tr>\n      <th>911</th>\n      <td>网红</td>\n      <td>12</td>\n      <td>[-0.4832348, -0.45731708, -0.13322963, -0.4840...</td>\n    </tr>\n    <tr>\n      <th>912</th>\n      <td>全聚德</td>\n      <td>12</td>\n      <td>[-0.19603707, -0.40513152, 0.019082287, -0.468...</td>\n    </tr>\n    <tr>\n      <th>913</th>\n      <td>海底捞</td>\n      <td>12</td>\n      <td>[0.09379745, 0.0010569062, 0.054458287, -0.174...</td>\n    </tr>\n    <tr>\n      <th>914</th>\n      <td>老字号</td>\n      <td>12</td>\n      <td>[-0.11433694, -0.37319803, -0.025594242, -0.27...</td>\n    </tr>\n    <tr>\n      <th>915</th>\n      <td>烤鸭</td>\n      <td>12</td>\n      <td>[-0.46920088, -0.47759402, 0.21193807, -0.3239...</td>\n    </tr>\n  </tbody>\n</table>\n<p>916 rows × 3 columns</p>\n</div>"
     },
     "execution_count": 7,
     "metadata": {},
     "output_type": "execute_result"
    }
   ],
   "source": [
    "topic_word_df['embedding'] = topic_word_df['word'].apply(lambda x: word_vector[x])\n",
    "topic_word_df"
   ],
   "metadata": {
    "collapsed": false
   }
  },
  {
   "cell_type": "code",
   "execution_count": 8,
   "outputs": [],
   "source": [
    "from sklearn.metrics.pairwise import cosine_similarity\n",
    "import numpy as np\n",
    "\n",
    "topic_word_embedding = topic_word_df['embedding'].tolist()\n",
    "\n",
    "\n",
    "def match(embedding):\n",
    "    embedding = embedding.reshape(1, -1)\n",
    "    cos_sim = cosine_similarity(embedding, topic_word_embedding)\n",
    "    max_index = np.argmax(cos_sim)\n",
    "    result = topic_word_df.iloc[max_index]['topic']\n",
    "    return result"
   ],
   "metadata": {
    "collapsed": false
   }
  },
  {
   "cell_type": "code",
   "execution_count": 9,
   "outputs": [
    {
     "name": "stderr",
     "output_type": "stream",
     "text": [
      "100%|██████████| 403280/403280 [11:45<00:00, 571.51it/s]\n"
     ]
    },
    {
     "data": {
      "text/plain": "            sentence  sentiment    dict  topic          word  \\\n0                很不错   1.000000  kansei     11         [很不错]   \n1                很方便   0.913670  kansei      9         [很方便]   \n2             我算老上海了  -0.719586  kansei      5          [上海]   \n3           关键出行也贼方便   1.827339  kansei      9      [关键, 出行]   \n4       还有很多小细节都做得很好  -0.807582  kansei     12  [很多, 细节, 很好]   \n...              ...        ...     ...    ...           ...   \n505653           非常好   0.480848   boson      2         [非常好]   \n505654            很好   0.408395   boson      2          [很好]   \n505655        出行方便快捷   0.121133   boson      9      [出行, 快捷]   \n505656           太陈旧   0.002331   boson      5          [陈旧]   \n505657        该装修升级了   0.006169   boson     11      [装修, 升级]   \n\n                                                embedding  \n0       [-0.42502537, 0.21800643, 0.2715213, -0.591509...  \n1       [1.0027162, -1.0461148, -0.5516127, -0.9708352...  \n2       [-1.4588678, -0.10144578, 0.45522714, -0.73831...  \n3       [-0.09616853, -0.43707547, -0.47020012, -0.682...  \n4       [0.47228357, 0.025031894, 0.09922173, -1.32219...  \n...                                                   ...  \n505653  [0.44406316, 0.34589562, 0.08528422, -0.475078...  \n505654  [0.39576432, -0.29499507, -0.06025856, -1.3982...  \n505655  [0.265513, -0.21143275, -1.2105337, -1.317834,...  \n505656  [0.2498115, -1.3509833, -0.22059618, -1.754505...  \n505657  [0.9499168, -0.2965461, -0.4050656, 0.504988, ...  \n\n[403280 rows x 6 columns]",
      "text/html": "<div>\n<style scoped>\n    .dataframe tbody tr th:only-of-type {\n        vertical-align: middle;\n    }\n\n    .dataframe tbody tr th {\n        vertical-align: top;\n    }\n\n    .dataframe thead th {\n        text-align: right;\n    }\n</style>\n<table border=\"1\" class=\"dataframe\">\n  <thead>\n    <tr style=\"text-align: right;\">\n      <th></th>\n      <th>sentence</th>\n      <th>sentiment</th>\n      <th>dict</th>\n      <th>topic</th>\n      <th>word</th>\n      <th>embedding</th>\n    </tr>\n  </thead>\n  <tbody>\n    <tr>\n      <th>0</th>\n      <td>很不错</td>\n      <td>1.000000</td>\n      <td>kansei</td>\n      <td>11</td>\n      <td>[很不错]</td>\n      <td>[-0.42502537, 0.21800643, 0.2715213, -0.591509...</td>\n    </tr>\n    <tr>\n      <th>1</th>\n      <td>很方便</td>\n      <td>0.913670</td>\n      <td>kansei</td>\n      <td>9</td>\n      <td>[很方便]</td>\n      <td>[1.0027162, -1.0461148, -0.5516127, -0.9708352...</td>\n    </tr>\n    <tr>\n      <th>2</th>\n      <td>我算老上海了</td>\n      <td>-0.719586</td>\n      <td>kansei</td>\n      <td>5</td>\n      <td>[上海]</td>\n      <td>[-1.4588678, -0.10144578, 0.45522714, -0.73831...</td>\n    </tr>\n    <tr>\n      <th>3</th>\n      <td>关键出行也贼方便</td>\n      <td>1.827339</td>\n      <td>kansei</td>\n      <td>9</td>\n      <td>[关键, 出行]</td>\n      <td>[-0.09616853, -0.43707547, -0.47020012, -0.682...</td>\n    </tr>\n    <tr>\n      <th>4</th>\n      <td>还有很多小细节都做得很好</td>\n      <td>-0.807582</td>\n      <td>kansei</td>\n      <td>12</td>\n      <td>[很多, 细节, 很好]</td>\n      <td>[0.47228357, 0.025031894, 0.09922173, -1.32219...</td>\n    </tr>\n    <tr>\n      <th>...</th>\n      <td>...</td>\n      <td>...</td>\n      <td>...</td>\n      <td>...</td>\n      <td>...</td>\n      <td>...</td>\n    </tr>\n    <tr>\n      <th>505653</th>\n      <td>非常好</td>\n      <td>0.480848</td>\n      <td>boson</td>\n      <td>2</td>\n      <td>[非常好]</td>\n      <td>[0.44406316, 0.34589562, 0.08528422, -0.475078...</td>\n    </tr>\n    <tr>\n      <th>505654</th>\n      <td>很好</td>\n      <td>0.408395</td>\n      <td>boson</td>\n      <td>2</td>\n      <td>[很好]</td>\n      <td>[0.39576432, -0.29499507, -0.06025856, -1.3982...</td>\n    </tr>\n    <tr>\n      <th>505655</th>\n      <td>出行方便快捷</td>\n      <td>0.121133</td>\n      <td>boson</td>\n      <td>9</td>\n      <td>[出行, 快捷]</td>\n      <td>[0.265513, -0.21143275, -1.2105337, -1.317834,...</td>\n    </tr>\n    <tr>\n      <th>505656</th>\n      <td>太陈旧</td>\n      <td>0.002331</td>\n      <td>boson</td>\n      <td>5</td>\n      <td>[陈旧]</td>\n      <td>[0.2498115, -1.3509833, -0.22059618, -1.754505...</td>\n    </tr>\n    <tr>\n      <th>505657</th>\n      <td>该装修升级了</td>\n      <td>0.006169</td>\n      <td>boson</td>\n      <td>11</td>\n      <td>[装修, 升级]</td>\n      <td>[0.9499168, -0.2965461, -0.4050656, 0.504988, ...</td>\n    </tr>\n  </tbody>\n</table>\n<p>403280 rows × 6 columns</p>\n</div>"
     },
     "execution_count": 9,
     "metadata": {},
     "output_type": "execute_result"
    }
   ],
   "source": [
    "data['topic'] = data['embedding'].progress_apply(match)\n",
    "data"
   ],
   "metadata": {
    "collapsed": false
   }
  },
  {
   "cell_type": "code",
   "execution_count": 10,
   "outputs": [],
   "source": [
    "data = data.drop(labels=['word', 'embedding'], axis=1)\n",
    "data.to_csv('../data/sentence_match_result_similarity_2.csv', sep='\\t', index=False)"
   ],
   "metadata": {
    "collapsed": false
   }
  },
  {
   "cell_type": "code",
   "execution_count": 11,
   "outputs": [
    {
     "data": {
      "text/plain": "      sentence  sentiment    dict  topic\n0        交通很方便   1.598922  kansei      9\n1        房间很干净   1.750000  kansei      4\n2  虽然房间面积普遍都不大  -0.818779  kansei      4\n3        卫浴也很棒   0.902337  kansei      8\n4      小混沌口味一流  -1.677650  kansei     12",
      "text/html": "<div>\n<style scoped>\n    .dataframe tbody tr th:only-of-type {\n        vertical-align: middle;\n    }\n\n    .dataframe tbody tr th {\n        vertical-align: top;\n    }\n\n    .dataframe thead th {\n        text-align: right;\n    }\n</style>\n<table border=\"1\" class=\"dataframe\">\n  <thead>\n    <tr style=\"text-align: right;\">\n      <th></th>\n      <th>sentence</th>\n      <th>sentiment</th>\n      <th>dict</th>\n      <th>topic</th>\n    </tr>\n  </thead>\n  <tbody>\n    <tr>\n      <th>0</th>\n      <td>交通很方便</td>\n      <td>1.598922</td>\n      <td>kansei</td>\n      <td>9</td>\n    </tr>\n    <tr>\n      <th>1</th>\n      <td>房间很干净</td>\n      <td>1.750000</td>\n      <td>kansei</td>\n      <td>4</td>\n    </tr>\n    <tr>\n      <th>2</th>\n      <td>虽然房间面积普遍都不大</td>\n      <td>-0.818779</td>\n      <td>kansei</td>\n      <td>4</td>\n    </tr>\n    <tr>\n      <th>3</th>\n      <td>卫浴也很棒</td>\n      <td>0.902337</td>\n      <td>kansei</td>\n      <td>8</td>\n    </tr>\n    <tr>\n      <th>4</th>\n      <td>小混沌口味一流</td>\n      <td>-1.677650</td>\n      <td>kansei</td>\n      <td>12</td>\n    </tr>\n  </tbody>\n</table>\n</div>"
     },
     "execution_count": 11,
     "metadata": {},
     "output_type": "execute_result"
    }
   ],
   "source": [
    "match_dict = pd.read_csv('../data/sentence_match_result_dict_2.csv', sep='\\t')\n",
    "match_dict.head()"
   ],
   "metadata": {
    "collapsed": false
   }
  },
  {
   "cell_type": "code",
   "execution_count": 12,
   "outputs": [
    {
     "data": {
      "text/plain": "(1262969, 5)"
     },
     "execution_count": 12,
     "metadata": {},
     "output_type": "execute_result"
    }
   ],
   "source": [
    "match_dict['match'] = 'dict'\n",
    "data['match'] = 'similarity'\n",
    "data_all = pd.concat([match_dict, data])\n",
    "data_all.shape"
   ],
   "metadata": {
    "collapsed": false
   }
  },
  {
   "cell_type": "code",
   "execution_count": 13,
   "outputs": [],
   "source": [
    "data_all.to_csv('../data/sentence_match_result_2.csv', sep='\\t', index=False)"
   ],
   "metadata": {
    "collapsed": false
   }
  },
  {
   "cell_type": "code",
   "execution_count": 14,
   "outputs": [],
   "source": [
    "# 计算performance\n",
    "senti = data_all[['sentiment', 'topic']]\n",
    "groups = senti.groupby(by='topic')"
   ],
   "metadata": {
    "collapsed": false
   }
  },
  {
   "cell_type": "code",
   "execution_count": 21,
   "outputs": [
    {
     "data": {
      "text/plain": "       performance  performance_std\ntopic                              \n0         0.239140         0.175247\n1         0.137382         0.000000\n2         0.364824         0.391698\n3         0.390179         0.435366\n4         0.463353         0.561386\n5         0.514556         0.649566\n6         0.156873         0.033568\n7         0.237658         0.172695\n8         0.160605         0.039995\n9         0.512576         0.646156\n10        0.178819         0.071362\n11        0.718037         1.000000\n12        0.414511         0.477270",
      "text/html": "<div>\n<style scoped>\n    .dataframe tbody tr th:only-of-type {\n        vertical-align: middle;\n    }\n\n    .dataframe tbody tr th {\n        vertical-align: top;\n    }\n\n    .dataframe thead th {\n        text-align: right;\n    }\n</style>\n<table border=\"1\" class=\"dataframe\">\n  <thead>\n    <tr style=\"text-align: right;\">\n      <th></th>\n      <th>performance</th>\n      <th>performance_std</th>\n    </tr>\n    <tr>\n      <th>topic</th>\n      <th></th>\n      <th></th>\n    </tr>\n  </thead>\n  <tbody>\n    <tr>\n      <th>0</th>\n      <td>0.239140</td>\n      <td>0.175247</td>\n    </tr>\n    <tr>\n      <th>1</th>\n      <td>0.137382</td>\n      <td>0.000000</td>\n    </tr>\n    <tr>\n      <th>2</th>\n      <td>0.364824</td>\n      <td>0.391698</td>\n    </tr>\n    <tr>\n      <th>3</th>\n      <td>0.390179</td>\n      <td>0.435366</td>\n    </tr>\n    <tr>\n      <th>4</th>\n      <td>0.463353</td>\n      <td>0.561386</td>\n    </tr>\n    <tr>\n      <th>5</th>\n      <td>0.514556</td>\n      <td>0.649566</td>\n    </tr>\n    <tr>\n      <th>6</th>\n      <td>0.156873</td>\n      <td>0.033568</td>\n    </tr>\n    <tr>\n      <th>7</th>\n      <td>0.237658</td>\n      <td>0.172695</td>\n    </tr>\n    <tr>\n      <th>8</th>\n      <td>0.160605</td>\n      <td>0.039995</td>\n    </tr>\n    <tr>\n      <th>9</th>\n      <td>0.512576</td>\n      <td>0.646156</td>\n    </tr>\n    <tr>\n      <th>10</th>\n      <td>0.178819</td>\n      <td>0.071362</td>\n    </tr>\n    <tr>\n      <th>11</th>\n      <td>0.718037</td>\n      <td>1.000000</td>\n    </tr>\n    <tr>\n      <th>12</th>\n      <td>0.414511</td>\n      <td>0.477270</td>\n    </tr>\n  </tbody>\n</table>\n</div>"
     },
     "execution_count": 21,
     "metadata": {},
     "output_type": "execute_result"
    }
   ],
   "source": [
    "mean = groups.mean()\n",
    "mean.columns = ['performance']\n",
    "mean['performance_std'] = (mean['performance'] - mean['performance'].min()) / (\n",
    "            mean['performance'].max() - mean['performance'].min())\n",
    "mean"
   ],
   "metadata": {
    "collapsed": false
   }
  },
  {
   "cell_type": "code",
   "execution_count": 22,
   "outputs": [],
   "source": [
    "mean.to_csv('../data/performance.csv', sep='\\t')"
   ],
   "metadata": {
    "collapsed": false
   }
  }
 ],
 "metadata": {
  "kernelspec": {
   "display_name": "Python 3",
   "language": "python",
   "name": "python3"
  },
  "language_info": {
   "codemirror_mode": {
    "name": "ipython",
    "version": 2
   },
   "file_extension": ".py",
   "mimetype": "text/x-python",
   "name": "python",
   "nbconvert_exporter": "python",
   "pygments_lexer": "ipython2",
   "version": "2.7.6"
  }
 },
 "nbformat": 4,
 "nbformat_minor": 0
}