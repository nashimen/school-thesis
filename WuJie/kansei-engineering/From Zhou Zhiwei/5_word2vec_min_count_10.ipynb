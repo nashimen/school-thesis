{
 "cells": [
  {
   "cell_type": "code",
   "execution_count": 1,
   "metadata": {
    "collapsed": true
   },
   "outputs": [],
   "source": [
    "\"\"\"\n",
    "生成word2vec词向量，min_count=10\n",
    "\"\"\"\n",
    "import logging\n",
    "\n",
    "logging.basicConfig(format='%(asctime)s : %(levelname)s : %(message)s', level=logging.INFO)"
   ]
  },
  {
   "cell_type": "code",
   "execution_count": 2,
   "outputs": [],
   "source": [
    "from gensim import utils\n",
    "\n",
    "\n",
    "class MyCorpus:\n",
    "    def __iter__(self):\n",
    "        corpus_path = '../data/word2vec_corpus_with_stoped_punctuation.txt'\n",
    "        for line in open(corpus_path, encoding='utf-8'):\n",
    "            yield utils.simple_preprocess(line)"
   ],
   "metadata": {
    "collapsed": false
   }
  },
  {
   "cell_type": "code",
   "execution_count": 3,
   "outputs": [
    {
     "name": "stderr",
     "output_type": "stream",
     "text": [
      "2022-08-23 15:59:51,752 : INFO : collecting all words and their counts\n",
      "2022-08-23 15:59:51,773 : INFO : PROGRESS: at sentence #0, processed 0 words, keeping 0 word types\n",
      "2022-08-23 15:59:51,982 : INFO : PROGRESS: at sentence #10000, processed 116734 words, keeping 9693 word types\n",
      "2022-08-23 15:59:52,172 : INFO : PROGRESS: at sentence #20000, processed 232533 words, keeping 14815 word types\n",
      "2022-08-23 15:59:52,328 : INFO : PROGRESS: at sentence #30000, processed 323830 words, keeping 17625 word types\n",
      "2022-08-23 15:59:52,515 : INFO : PROGRESS: at sentence #40000, processed 430437 words, keeping 20890 word types\n",
      "2022-08-23 15:59:52,858 : INFO : PROGRESS: at sentence #50000, processed 645721 words, keeping 25445 word types\n",
      "2022-08-23 15:59:53,065 : INFO : PROGRESS: at sentence #60000, processed 766681 words, keeping 29457 word types\n",
      "2022-08-23 15:59:53,306 : INFO : PROGRESS: at sentence #70000, processed 913534 words, keeping 33864 word types\n",
      "2022-08-23 15:59:53,537 : INFO : PROGRESS: at sentence #80000, processed 1052967 words, keeping 37811 word types\n",
      "2022-08-23 15:59:53,753 : INFO : PROGRESS: at sentence #90000, processed 1188138 words, keeping 40991 word types\n",
      "2022-08-23 15:59:53,968 : INFO : PROGRESS: at sentence #100000, processed 1306187 words, keeping 43415 word types\n",
      "2022-08-23 15:59:54,154 : INFO : PROGRESS: at sentence #110000, processed 1416226 words, keeping 45552 word types\n",
      "2022-08-23 15:59:54,354 : INFO : PROGRESS: at sentence #120000, processed 1537330 words, keeping 47421 word types\n",
      "2022-08-23 15:59:54,554 : INFO : PROGRESS: at sentence #130000, processed 1648222 words, keeping 49615 word types\n",
      "2022-08-23 15:59:54,750 : INFO : PROGRESS: at sentence #140000, processed 1764326 words, keeping 51719 word types\n",
      "2022-08-23 15:59:54,939 : INFO : PROGRESS: at sentence #150000, processed 1862714 words, keeping 53403 word types\n",
      "2022-08-23 15:59:55,110 : INFO : PROGRESS: at sentence #160000, processed 1965695 words, keeping 55494 word types\n",
      "2022-08-23 15:59:55,348 : INFO : PROGRESS: at sentence #170000, processed 2063439 words, keeping 57219 word types\n",
      "2022-08-23 15:59:55,518 : INFO : PROGRESS: at sentence #180000, processed 2163553 words, keeping 58856 word types\n",
      "2022-08-23 15:59:55,699 : INFO : PROGRESS: at sentence #190000, processed 2267156 words, keeping 60704 word types\n",
      "2022-08-23 15:59:55,872 : INFO : PROGRESS: at sentence #200000, processed 2368385 words, keeping 62540 word types\n",
      "2022-08-23 15:59:56,063 : INFO : PROGRESS: at sentence #210000, processed 2478304 words, keeping 64177 word types\n",
      "2022-08-23 15:59:56,244 : INFO : PROGRESS: at sentence #220000, processed 2584787 words, keeping 65807 word types\n",
      "2022-08-23 15:59:56,469 : INFO : PROGRESS: at sentence #230000, processed 2705497 words, keeping 68013 word types\n",
      "2022-08-23 15:59:56,669 : INFO : PROGRESS: at sentence #240000, processed 2820810 words, keeping 70211 word types\n",
      "2022-08-23 15:59:56,835 : INFO : PROGRESS: at sentence #250000, processed 2919640 words, keeping 71577 word types\n",
      "2022-08-23 15:59:57,085 : INFO : PROGRESS: at sentence #260000, processed 3059245 words, keeping 73704 word types\n",
      "2022-08-23 15:59:57,283 : INFO : PROGRESS: at sentence #270000, processed 3170562 words, keeping 75077 word types\n",
      "2022-08-23 15:59:57,458 : INFO : PROGRESS: at sentence #280000, processed 3271041 words, keeping 76469 word types\n",
      "2022-08-23 15:59:57,663 : INFO : PROGRESS: at sentence #290000, processed 3385159 words, keeping 78320 word types\n",
      "2022-08-23 15:59:58,007 : INFO : PROGRESS: at sentence #300000, processed 3592209 words, keeping 81866 word types\n",
      "2022-08-23 15:59:58,215 : INFO : PROGRESS: at sentence #310000, processed 3706740 words, keeping 83917 word types\n",
      "2022-08-23 15:59:58,384 : INFO : collected 85482 word types from a corpus of 3802827 raw words and 317418 sentences\n",
      "2022-08-23 15:59:58,385 : INFO : Creating a fresh vocabulary\n",
      "2022-08-23 15:59:58,448 : INFO : Word2Vec lifecycle event {'msg': 'effective_min_count=10 retains 12274 unique words (14.36% of original 85482, drops 73208)', 'datetime': '2022-08-23T15:59:58.448423', 'gensim': '4.2.0', 'python': '3.9.12 (main, Apr  4 2022, 05:22:27) [MSC v.1916 64 bit (AMD64)]', 'platform': 'Windows-10-10.0.19044-SP0', 'event': 'prepare_vocab'}\n",
      "2022-08-23 15:59:58,449 : INFO : Word2Vec lifecycle event {'msg': 'effective_min_count=10 leaves 3664101 word corpus (96.35% of original 3802827, drops 138726)', 'datetime': '2022-08-23T15:59:58.449424', 'gensim': '4.2.0', 'python': '3.9.12 (main, Apr  4 2022, 05:22:27) [MSC v.1916 64 bit (AMD64)]', 'platform': 'Windows-10-10.0.19044-SP0', 'event': 'prepare_vocab'}\n",
      "2022-08-23 15:59:58,509 : INFO : deleting the raw counts dictionary of 85482 items\n",
      "2022-08-23 15:59:58,512 : INFO : sample=0.001 downsamples 56 most-common words\n",
      "2022-08-23 15:59:58,513 : INFO : Word2Vec lifecycle event {'msg': 'downsampling leaves estimated 2891905.8791751848 word corpus (78.9%% of prior 3664101)', 'datetime': '2022-08-23T15:59:58.513422', 'gensim': '4.2.0', 'python': '3.9.12 (main, Apr  4 2022, 05:22:27) [MSC v.1916 64 bit (AMD64)]', 'platform': 'Windows-10-10.0.19044-SP0', 'event': 'prepare_vocab'}\n",
      "2022-08-23 15:59:58,607 : INFO : estimated required memory for 12274 words and 200 dimensions: 25775400 bytes\n",
      "2022-08-23 15:59:58,608 : INFO : resetting layer weights\n",
      "2022-08-23 15:59:58,620 : INFO : Word2Vec lifecycle event {'update': False, 'trim_rule': 'None', 'datetime': '2022-08-23T15:59:58.620433', 'gensim': '4.2.0', 'python': '3.9.12 (main, Apr  4 2022, 05:22:27) [MSC v.1916 64 bit (AMD64)]', 'platform': 'Windows-10-10.0.19044-SP0', 'event': 'build_vocab'}\n",
      "2022-08-23 15:59:58,621 : INFO : Word2Vec lifecycle event {'msg': 'training model with 3 workers on 12274 vocabulary and 200 features, using sg=0 hs=0 sample=0.001 negative=5 window=5 shrink_windows=True', 'datetime': '2022-08-23T15:59:58.621421', 'gensim': '4.2.0', 'python': '3.9.12 (main, Apr  4 2022, 05:22:27) [MSC v.1916 64 bit (AMD64)]', 'platform': 'Windows-10-10.0.19044-SP0', 'event': 'train'}\n",
      "2022-08-23 15:59:59,632 : INFO : EPOCH 0 - PROGRESS: at 13.22% examples, 384054 words/s, in_qsize 0, out_qsize 0\n",
      "2022-08-23 16:00:00,636 : INFO : EPOCH 0 - PROGRESS: at 24.45% examples, 387438 words/s, in_qsize 0, out_qsize 0\n",
      "2022-08-23 16:00:01,707 : INFO : EPOCH 0 - PROGRESS: at 36.12% examples, 366265 words/s, in_qsize 0, out_qsize 0\n",
      "2022-08-23 16:00:02,730 : INFO : EPOCH 0 - PROGRESS: at 50.74% examples, 366496 words/s, in_qsize 0, out_qsize 0\n",
      "2022-08-23 16:00:03,762 : INFO : EPOCH 0 - PROGRESS: at 66.79% examples, 368755 words/s, in_qsize 0, out_qsize 0\n",
      "2022-08-23 16:00:04,762 : INFO : EPOCH 0 - PROGRESS: at 80.47% examples, 369234 words/s, in_qsize 0, out_qsize 0\n",
      "2022-08-23 16:00:05,776 : INFO : EPOCH 0 - PROGRESS: at 93.44% examples, 371930 words/s, in_qsize 0, out_qsize 0\n",
      "2022-08-23 16:00:06,351 : INFO : EPOCH 0: training on 3802827 raw words (2891380 effective words) took 7.7s, 374253 effective words/s\n",
      "2022-08-23 16:00:07,365 : INFO : EPOCH 1 - PROGRESS: at 12.88% examples, 343026 words/s, in_qsize 0, out_qsize 0\n",
      "2022-08-23 16:00:08,375 : INFO : EPOCH 1 - PROGRESS: at 23.16% examples, 362441 words/s, in_qsize 0, out_qsize 0\n",
      "2022-08-23 16:00:09,384 : INFO : EPOCH 1 - PROGRESS: at 35.44% examples, 364802 words/s, in_qsize 0, out_qsize 0\n",
      "2022-08-23 16:00:10,402 : INFO : EPOCH 1 - PROGRESS: at 50.45% examples, 369778 words/s, in_qsize 0, out_qsize 0\n",
      "2022-08-23 16:00:11,422 : INFO : EPOCH 1 - PROGRESS: at 64.12% examples, 360558 words/s, in_qsize 0, out_qsize 0\n",
      "2022-08-23 16:00:12,431 : INFO : EPOCH 1 - PROGRESS: at 76.85% examples, 356811 words/s, in_qsize 0, out_qsize 0\n",
      "2022-08-23 16:00:13,449 : INFO : EPOCH 1 - PROGRESS: at 90.19% examples, 357680 words/s, in_qsize 0, out_qsize 0\n",
      "2022-08-23 16:00:14,316 : INFO : EPOCH 1: training on 3802827 raw words (2892338 effective words) took 8.0s, 363280 effective words/s\n",
      "2022-08-23 16:00:15,333 : INFO : EPOCH 2 - PROGRESS: at 13.37% examples, 397055 words/s, in_qsize 0, out_qsize 0\n",
      "2022-08-23 16:00:16,342 : INFO : EPOCH 2 - PROGRESS: at 25.11% examples, 396761 words/s, in_qsize 0, out_qsize 0\n",
      "2022-08-23 16:00:17,352 : INFO : EPOCH 2 - PROGRESS: at 38.04% examples, 389428 words/s, in_qsize 0, out_qsize 0\n",
      "2022-08-23 16:00:18,368 : INFO : EPOCH 2 - PROGRESS: at 53.63% examples, 388083 words/s, in_qsize 1, out_qsize 0\n",
      "2022-08-23 16:00:19,401 : INFO : EPOCH 2 - PROGRESS: at 69.31% examples, 386248 words/s, in_qsize 1, out_qsize 0\n",
      "2022-08-23 16:00:20,412 : INFO : EPOCH 2 - PROGRESS: at 83.35% examples, 388143 words/s, in_qsize 0, out_qsize 0\n",
      "2022-08-23 16:00:21,431 : INFO : EPOCH 2 - PROGRESS: at 95.71% examples, 388329 words/s, in_qsize 1, out_qsize 0\n",
      "2022-08-23 16:00:21,756 : INFO : EPOCH 2: training on 3802827 raw words (2891403 effective words) took 7.4s, 388757 effective words/s\n",
      "2022-08-23 16:00:22,760 : INFO : EPOCH 3 - PROGRESS: at 13.15% examples, 378037 words/s, in_qsize 0, out_qsize 1\n",
      "2022-08-23 16:00:23,774 : INFO : EPOCH 3 - PROGRESS: at 25.11% examples, 398000 words/s, in_qsize 0, out_qsize 0\n",
      "2022-08-23 16:00:24,786 : INFO : EPOCH 3 - PROGRESS: at 39.44% examples, 399993 words/s, in_qsize 0, out_qsize 0\n",
      "2022-08-23 16:00:25,794 : INFO : EPOCH 3 - PROGRESS: at 53.85% examples, 391314 words/s, in_qsize 0, out_qsize 0\n",
      "2022-08-23 16:00:26,803 : INFO : EPOCH 3 - PROGRESS: at 69.59% examples, 390535 words/s, in_qsize 0, out_qsize 0\n",
      "2022-08-23 16:00:27,849 : INFO : EPOCH 3 - PROGRESS: at 83.50% examples, 389608 words/s, in_qsize 0, out_qsize 1\n",
      "2022-08-23 16:00:28,858 : INFO : EPOCH 3 - PROGRESS: at 96.26% examples, 392326 words/s, in_qsize 0, out_qsize 0\n",
      "2022-08-23 16:00:29,115 : INFO : EPOCH 3: training on 3802827 raw words (2891013 effective words) took 7.4s, 392998 effective words/s\n",
      "2022-08-23 16:00:30,123 : INFO : EPOCH 4 - PROGRESS: at 13.22% examples, 384954 words/s, in_qsize 1, out_qsize 0\n",
      "2022-08-23 16:00:31,153 : INFO : EPOCH 4 - PROGRESS: at 25.71% examples, 401712 words/s, in_qsize 0, out_qsize 0\n",
      "2022-08-23 16:00:32,156 : INFO : EPOCH 4 - PROGRESS: at 39.95% examples, 403623 words/s, in_qsize 0, out_qsize 0\n",
      "2022-08-23 16:00:33,174 : INFO : EPOCH 4 - PROGRESS: at 55.06% examples, 394660 words/s, in_qsize 0, out_qsize 0\n",
      "2022-08-23 16:00:34,177 : INFO : EPOCH 4 - PROGRESS: at 70.64% examples, 393913 words/s, in_qsize 0, out_qsize 0\n",
      "2022-08-23 16:00:35,203 : INFO : EPOCH 4 - PROGRESS: at 83.77% examples, 391290 words/s, in_qsize 3, out_qsize 0\n",
      "2022-08-23 16:00:36,235 : INFO : EPOCH 4 - PROGRESS: at 96.05% examples, 390321 words/s, in_qsize 6, out_qsize 0\n",
      "2022-08-23 16:00:36,382 : INFO : EPOCH 4: training on 3802827 raw words (2891636 effective words) took 7.3s, 398044 effective words/s\n",
      "2022-08-23 16:00:36,382 : INFO : Word2Vec lifecycle event {'msg': 'training on 19014135 raw words (14457770 effective words) took 37.8s, 382872 effective words/s', 'datetime': '2022-08-23T16:00:36.382919', 'gensim': '4.2.0', 'python': '3.9.12 (main, Apr  4 2022, 05:22:27) [MSC v.1916 64 bit (AMD64)]', 'platform': 'Windows-10-10.0.19044-SP0', 'event': 'train'}\n",
      "2022-08-23 16:00:36,383 : INFO : Word2Vec lifecycle event {'params': 'Word2Vec<vocab=12274, vector_size=200, alpha=0.025>', 'datetime': '2022-08-23T16:00:36.383919', 'gensim': '4.2.0', 'python': '3.9.12 (main, Apr  4 2022, 05:22:27) [MSC v.1916 64 bit (AMD64)]', 'platform': 'Windows-10-10.0.19044-SP0', 'event': 'created'}\n"
     ]
    }
   ],
   "source": [
    "import gensim.models\n",
    "\n",
    "sentences = MyCorpus()\n",
    "# CBOW 200\n",
    "cbow200 = gensim.models.Word2Vec(sentences=sentences, vector_size=200, min_count=10)"
   ],
   "metadata": {
    "collapsed": false
   }
  },
  {
   "cell_type": "code",
   "execution_count": 4,
   "outputs": [
    {
     "name": "stderr",
     "output_type": "stream",
     "text": [
      "2022-08-23 16:00:36,402 : INFO : Word2Vec lifecycle event {'fname_or_handle': 'C:\\\\Users\\\\62774\\\\AppData\\\\Local\\\\Temp\\\\gensim-model-jseunwev', 'separately': 'None', 'sep_limit': 10485760, 'ignore': frozenset(), 'datetime': '2022-08-23T16:00:36.402409', 'gensim': '4.2.0', 'python': '3.9.12 (main, Apr  4 2022, 05:22:27) [MSC v.1916 64 bit (AMD64)]', 'platform': 'Windows-10-10.0.19044-SP0', 'event': 'saving'}\n",
      "2022-08-23 16:00:36,403 : INFO : not storing attribute cum_table\n",
      "2022-08-23 16:00:36,429 : INFO : saved C:\\Users\\62774\\AppData\\Local\\Temp\\gensim-model-jseunwev\n"
     ]
    }
   ],
   "source": [
    "import tempfile\n",
    "\n",
    "with tempfile.NamedTemporaryFile(prefix='gensim-model-', delete=False) as tmp:\n",
    "    temporary_filepath = tmp.name\n",
    "    cbow200.save(temporary_filepath)"
   ],
   "metadata": {
    "collapsed": false
   }
  },
  {
   "cell_type": "code",
   "execution_count": 5,
   "outputs": [
    {
     "name": "stderr",
     "output_type": "stream",
     "text": [
      "2022-08-23 16:00:36,446 : INFO : collecting all words and their counts\n",
      "2022-08-23 16:00:36,447 : INFO : PROGRESS: at sentence #0, processed 0 words, keeping 0 word types\n",
      "2022-08-23 16:00:36,637 : INFO : PROGRESS: at sentence #10000, processed 116734 words, keeping 9693 word types\n",
      "2022-08-23 16:00:36,821 : INFO : PROGRESS: at sentence #20000, processed 232533 words, keeping 14815 word types\n",
      "2022-08-23 16:00:36,972 : INFO : PROGRESS: at sentence #30000, processed 323830 words, keeping 17625 word types\n",
      "2022-08-23 16:00:37,147 : INFO : PROGRESS: at sentence #40000, processed 430437 words, keeping 20890 word types\n",
      "2022-08-23 16:00:37,478 : INFO : PROGRESS: at sentence #50000, processed 645721 words, keeping 25445 word types\n",
      "2022-08-23 16:00:37,681 : INFO : PROGRESS: at sentence #60000, processed 766681 words, keeping 29457 word types\n",
      "2022-08-23 16:00:37,916 : INFO : PROGRESS: at sentence #70000, processed 913534 words, keeping 33864 word types\n",
      "2022-08-23 16:00:38,142 : INFO : PROGRESS: at sentence #80000, processed 1052967 words, keeping 37811 word types\n",
      "2022-08-23 16:00:38,359 : INFO : PROGRESS: at sentence #90000, processed 1188138 words, keeping 40991 word types\n",
      "2022-08-23 16:00:38,555 : INFO : PROGRESS: at sentence #100000, processed 1306187 words, keeping 43415 word types\n",
      "2022-08-23 16:00:38,730 : INFO : PROGRESS: at sentence #110000, processed 1416226 words, keeping 45552 word types\n",
      "2022-08-23 16:00:38,922 : INFO : PROGRESS: at sentence #120000, processed 1537330 words, keeping 47421 word types\n",
      "2022-08-23 16:00:39,105 : INFO : PROGRESS: at sentence #130000, processed 1648222 words, keeping 49615 word types\n",
      "2022-08-23 16:00:39,298 : INFO : PROGRESS: at sentence #140000, processed 1764326 words, keeping 51719 word types\n",
      "2022-08-23 16:00:39,468 : INFO : PROGRESS: at sentence #150000, processed 1862714 words, keeping 53403 word types\n",
      "2022-08-23 16:00:39,638 : INFO : PROGRESS: at sentence #160000, processed 1965695 words, keeping 55494 word types\n",
      "2022-08-23 16:00:39,804 : INFO : PROGRESS: at sentence #170000, processed 2063439 words, keeping 57219 word types\n",
      "2022-08-23 16:00:39,964 : INFO : PROGRESS: at sentence #180000, processed 2163553 words, keeping 58856 word types\n",
      "2022-08-23 16:00:40,134 : INFO : PROGRESS: at sentence #190000, processed 2267156 words, keeping 60704 word types\n",
      "2022-08-23 16:00:40,301 : INFO : PROGRESS: at sentence #200000, processed 2368385 words, keeping 62540 word types\n",
      "2022-08-23 16:00:40,479 : INFO : PROGRESS: at sentence #210000, processed 2478304 words, keeping 64177 word types\n",
      "2022-08-23 16:00:40,654 : INFO : PROGRESS: at sentence #220000, processed 2584787 words, keeping 65807 word types\n",
      "2022-08-23 16:00:40,855 : INFO : PROGRESS: at sentence #230000, processed 2705497 words, keeping 68013 word types\n",
      "2022-08-23 16:00:41,053 : INFO : PROGRESS: at sentence #240000, processed 2820810 words, keeping 70211 word types\n",
      "2022-08-23 16:00:41,229 : INFO : PROGRESS: at sentence #250000, processed 2919640 words, keeping 71577 word types\n",
      "2022-08-23 16:00:41,473 : INFO : PROGRESS: at sentence #260000, processed 3059245 words, keeping 73704 word types\n",
      "2022-08-23 16:00:41,661 : INFO : PROGRESS: at sentence #270000, processed 3170562 words, keeping 75077 word types\n",
      "2022-08-23 16:00:41,830 : INFO : PROGRESS: at sentence #280000, processed 3271041 words, keeping 76469 word types\n",
      "2022-08-23 16:00:42,025 : INFO : PROGRESS: at sentence #290000, processed 3385159 words, keeping 78320 word types\n",
      "2022-08-23 16:00:42,368 : INFO : PROGRESS: at sentence #300000, processed 3592209 words, keeping 81866 word types\n",
      "2022-08-23 16:00:42,575 : INFO : PROGRESS: at sentence #310000, processed 3706740 words, keeping 83917 word types\n",
      "2022-08-23 16:00:42,757 : INFO : collected 85482 word types from a corpus of 3802827 raw words and 317418 sentences\n",
      "2022-08-23 16:00:42,758 : INFO : Creating a fresh vocabulary\n",
      "2022-08-23 16:00:42,819 : INFO : Word2Vec lifecycle event {'msg': 'effective_min_count=10 retains 12274 unique words (14.36% of original 85482, drops 73208)', 'datetime': '2022-08-23T16:00:42.819107', 'gensim': '4.2.0', 'python': '3.9.12 (main, Apr  4 2022, 05:22:27) [MSC v.1916 64 bit (AMD64)]', 'platform': 'Windows-10-10.0.19044-SP0', 'event': 'prepare_vocab'}\n",
      "2022-08-23 16:00:42,819 : INFO : Word2Vec lifecycle event {'msg': 'effective_min_count=10 leaves 3664101 word corpus (96.35% of original 3802827, drops 138726)', 'datetime': '2022-08-23T16:00:42.819107', 'gensim': '4.2.0', 'python': '3.9.12 (main, Apr  4 2022, 05:22:27) [MSC v.1916 64 bit (AMD64)]', 'platform': 'Windows-10-10.0.19044-SP0', 'event': 'prepare_vocab'}\n",
      "2022-08-23 16:00:42,876 : INFO : deleting the raw counts dictionary of 85482 items\n",
      "2022-08-23 16:00:42,879 : INFO : sample=0.001 downsamples 56 most-common words\n",
      "2022-08-23 16:00:42,880 : INFO : Word2Vec lifecycle event {'msg': 'downsampling leaves estimated 2891905.8791751848 word corpus (78.9%% of prior 3664101)', 'datetime': '2022-08-23T16:00:42.880120', 'gensim': '4.2.0', 'python': '3.9.12 (main, Apr  4 2022, 05:22:27) [MSC v.1916 64 bit (AMD64)]', 'platform': 'Windows-10-10.0.19044-SP0', 'event': 'prepare_vocab'}\n",
      "2022-08-23 16:00:42,976 : INFO : estimated required memory for 12274 words and 300 dimensions: 35594600 bytes\n",
      "2022-08-23 16:00:42,977 : INFO : resetting layer weights\n",
      "2022-08-23 16:00:42,993 : INFO : Word2Vec lifecycle event {'update': False, 'trim_rule': 'None', 'datetime': '2022-08-23T16:00:42.993118', 'gensim': '4.2.0', 'python': '3.9.12 (main, Apr  4 2022, 05:22:27) [MSC v.1916 64 bit (AMD64)]', 'platform': 'Windows-10-10.0.19044-SP0', 'event': 'build_vocab'}\n",
      "2022-08-23 16:00:42,994 : INFO : Word2Vec lifecycle event {'msg': 'training model with 3 workers on 12274 vocabulary and 300 features, using sg=0 hs=0 sample=0.001 negative=5 window=5 shrink_windows=True', 'datetime': '2022-08-23T16:00:42.994123', 'gensim': '4.2.0', 'python': '3.9.12 (main, Apr  4 2022, 05:22:27) [MSC v.1916 64 bit (AMD64)]', 'platform': 'Windows-10-10.0.19044-SP0', 'event': 'train'}\n",
      "2022-08-23 16:00:44,018 : INFO : EPOCH 0 - PROGRESS: at 13.02% examples, 354752 words/s, in_qsize 2, out_qsize 0\n",
      "2022-08-23 16:00:45,025 : INFO : EPOCH 0 - PROGRESS: at 23.85% examples, 368418 words/s, in_qsize 5, out_qsize 0\n",
      "2022-08-23 16:00:46,049 : INFO : EPOCH 0 - PROGRESS: at 37.18% examples, 379740 words/s, in_qsize 3, out_qsize 0\n",
      "2022-08-23 16:00:47,064 : INFO : EPOCH 0 - PROGRESS: at 53.85% examples, 388344 words/s, in_qsize 0, out_qsize 0\n",
      "2022-08-23 16:00:48,069 : INFO : EPOCH 0 - PROGRESS: at 68.35% examples, 382589 words/s, in_qsize 1, out_qsize 1\n",
      "2022-08-23 16:00:49,077 : INFO : EPOCH 0 - PROGRESS: at 82.34% examples, 384063 words/s, in_qsize 0, out_qsize 0\n",
      "2022-08-23 16:00:50,098 : INFO : EPOCH 0 - PROGRESS: at 94.92% examples, 386975 words/s, in_qsize 1, out_qsize 1\n",
      "2022-08-23 16:00:50,422 : INFO : EPOCH 0: training on 3802827 raw words (2892225 effective words) took 7.4s, 389435 effective words/s\n",
      "2022-08-23 16:00:51,429 : INFO : EPOCH 1 - PROGRESS: at 13.22% examples, 385136 words/s, in_qsize 0, out_qsize 0\n",
      "2022-08-23 16:00:52,438 : INFO : EPOCH 1 - PROGRESS: at 24.98% examples, 394918 words/s, in_qsize 0, out_qsize 0\n",
      "2022-08-23 16:00:53,440 : INFO : EPOCH 1 - PROGRESS: at 37.38% examples, 386994 words/s, in_qsize 0, out_qsize 0\n",
      "2022-08-23 16:00:54,452 : INFO : EPOCH 1 - PROGRESS: at 53.63% examples, 390253 words/s, in_qsize 1, out_qsize 0\n",
      "2022-08-23 16:00:55,466 : INFO : EPOCH 1 - PROGRESS: at 69.31% examples, 389416 words/s, in_qsize 0, out_qsize 0\n",
      "2022-08-23 16:00:56,470 : INFO : EPOCH 1 - PROGRESS: at 82.97% examples, 388751 words/s, in_qsize 0, out_qsize 0\n",
      "2022-08-23 16:00:57,486 : INFO : EPOCH 1 - PROGRESS: at 94.68% examples, 388117 words/s, in_qsize 0, out_qsize 0\n",
      "2022-08-23 16:00:57,860 : INFO : EPOCH 1: training on 3802827 raw words (2891808 effective words) took 7.4s, 388948 effective words/s\n",
      "2022-08-23 16:00:58,879 : INFO : EPOCH 2 - PROGRESS: at 13.08% examples, 365352 words/s, in_qsize 1, out_qsize 0\n",
      "2022-08-23 16:00:59,882 : INFO : EPOCH 2 - PROGRESS: at 24.45% examples, 386161 words/s, in_qsize 0, out_qsize 0\n",
      "2022-08-23 16:01:00,890 : INFO : EPOCH 2 - PROGRESS: at 37.38% examples, 385562 words/s, in_qsize 0, out_qsize 0\n",
      "2022-08-23 16:01:01,916 : INFO : EPOCH 2 - PROGRESS: at 52.32% examples, 380572 words/s, in_qsize 0, out_qsize 0\n",
      "2022-08-23 16:01:02,923 : INFO : EPOCH 2 - PROGRESS: at 67.59% examples, 380535 words/s, in_qsize 0, out_qsize 0\n",
      "2022-08-23 16:01:03,925 : INFO : EPOCH 2 - PROGRESS: at 81.66% examples, 381435 words/s, in_qsize 0, out_qsize 0\n",
      "2022-08-23 16:01:04,931 : INFO : EPOCH 2 - PROGRESS: at 93.58% examples, 378699 words/s, in_qsize 0, out_qsize 0\n",
      "2022-08-23 16:01:05,423 : INFO : EPOCH 2: training on 3802827 raw words (2891555 effective words) took 7.6s, 382535 effective words/s\n",
      "2022-08-23 16:01:06,430 : INFO : EPOCH 3 - PROGRESS: at 13.08% examples, 369590 words/s, in_qsize 0, out_qsize 0\n",
      "2022-08-23 16:01:07,453 : INFO : EPOCH 3 - PROGRESS: at 24.22% examples, 380624 words/s, in_qsize 0, out_qsize 0\n",
      "2022-08-23 16:01:08,462 : INFO : EPOCH 3 - PROGRESS: at 37.18% examples, 381880 words/s, in_qsize 0, out_qsize 0\n",
      "2022-08-23 16:01:09,478 : INFO : EPOCH 3 - PROGRESS: at 51.96% examples, 378771 words/s, in_qsize 0, out_qsize 0\n",
      "2022-08-23 16:01:10,479 : INFO : EPOCH 3 - PROGRESS: at 67.26% examples, 378030 words/s, in_qsize 0, out_qsize 0\n",
      "2022-08-23 16:01:11,484 : INFO : EPOCH 3 - PROGRESS: at 80.66% examples, 375291 words/s, in_qsize 0, out_qsize 0\n",
      "2022-08-23 16:01:12,497 : INFO : EPOCH 3 - PROGRESS: at 93.38% examples, 375028 words/s, in_qsize 1, out_qsize 0\n",
      "2022-08-23 16:01:13,067 : INFO : EPOCH 3: training on 3802827 raw words (2892491 effective words) took 7.6s, 378511 effective words/s\n",
      "2022-08-23 16:01:14,076 : INFO : EPOCH 4 - PROGRESS: at 13.15% examples, 377011 words/s, in_qsize 0, out_qsize 0\n",
      "2022-08-23 16:01:15,089 : INFO : EPOCH 4 - PROGRESS: at 25.11% examples, 397789 words/s, in_qsize 0, out_qsize 0\n",
      "2022-08-23 16:01:16,105 : INFO : EPOCH 4 - PROGRESS: at 38.86% examples, 396989 words/s, in_qsize 0, out_qsize 0\n",
      "2022-08-23 16:01:17,115 : INFO : EPOCH 4 - PROGRESS: at 53.85% examples, 390543 words/s, in_qsize 0, out_qsize 0\n",
      "2022-08-23 16:01:18,124 : INFO : EPOCH 4 - PROGRESS: at 69.31% examples, 388515 words/s, in_qsize 0, out_qsize 0\n",
      "2022-08-23 16:01:19,125 : INFO : EPOCH 4 - PROGRESS: at 82.97% examples, 388210 words/s, in_qsize 0, out_qsize 0\n",
      "2022-08-23 16:01:20,142 : INFO : EPOCH 4 - PROGRESS: at 95.18% examples, 389697 words/s, in_qsize 1, out_qsize 0\n",
      "2022-08-23 16:01:20,468 : INFO : EPOCH 4: training on 3802827 raw words (2892291 effective words) took 7.4s, 390947 effective words/s\n",
      "2022-08-23 16:01:20,470 : INFO : Word2Vec lifecycle event {'msg': 'training on 19014135 raw words (14460370 effective words) took 37.5s, 385855 effective words/s', 'datetime': '2022-08-23T16:01:20.470749', 'gensim': '4.2.0', 'python': '3.9.12 (main, Apr  4 2022, 05:22:27) [MSC v.1916 64 bit (AMD64)]', 'platform': 'Windows-10-10.0.19044-SP0', 'event': 'train'}\n",
      "2022-08-23 16:01:20,471 : INFO : Word2Vec lifecycle event {'params': 'Word2Vec<vocab=12274, vector_size=300, alpha=0.025>', 'datetime': '2022-08-23T16:01:20.471754', 'gensim': '4.2.0', 'python': '3.9.12 (main, Apr  4 2022, 05:22:27) [MSC v.1916 64 bit (AMD64)]', 'platform': 'Windows-10-10.0.19044-SP0', 'event': 'created'}\n"
     ]
    }
   ],
   "source": [
    "# CBOW 300\n",
    "cbow300 = gensim.models.Word2Vec(sentences=sentences, vector_size=300, min_count=10)"
   ],
   "metadata": {
    "collapsed": false
   }
  },
  {
   "cell_type": "code",
   "execution_count": 6,
   "outputs": [
    {
     "name": "stderr",
     "output_type": "stream",
     "text": [
      "2022-08-23 16:01:20,492 : INFO : Word2Vec lifecycle event {'fname_or_handle': 'C:\\\\Users\\\\62774\\\\AppData\\\\Local\\\\Temp\\\\gensim-model-p_n6lmih', 'separately': 'None', 'sep_limit': 10485760, 'ignore': frozenset(), 'datetime': '2022-08-23T16:01:20.492745', 'gensim': '4.2.0', 'python': '3.9.12 (main, Apr  4 2022, 05:22:27) [MSC v.1916 64 bit (AMD64)]', 'platform': 'Windows-10-10.0.19044-SP0', 'event': 'saving'}\n",
      "2022-08-23 16:01:20,492 : INFO : not storing attribute cum_table\n",
      "2022-08-23 16:01:20,518 : INFO : saved C:\\Users\\62774\\AppData\\Local\\Temp\\gensim-model-p_n6lmih\n"
     ]
    }
   ],
   "source": [
    "with tempfile.NamedTemporaryFile(prefix='gensim-model-', delete=False) as tmp:\n",
    "    temporary_filepath = tmp.name\n",
    "    cbow300.save(temporary_filepath)"
   ],
   "metadata": {
    "collapsed": false
   }
  },
  {
   "cell_type": "code",
   "execution_count": 7,
   "outputs": [
    {
     "name": "stderr",
     "output_type": "stream",
     "text": [
      "2022-08-23 16:01:20,539 : INFO : collecting all words and their counts\n",
      "2022-08-23 16:01:20,540 : INFO : PROGRESS: at sentence #0, processed 0 words, keeping 0 word types\n",
      "2022-08-23 16:01:20,727 : INFO : PROGRESS: at sentence #10000, processed 116734 words, keeping 9693 word types\n",
      "2022-08-23 16:01:20,914 : INFO : PROGRESS: at sentence #20000, processed 232533 words, keeping 14815 word types\n",
      "2022-08-23 16:01:21,065 : INFO : PROGRESS: at sentence #30000, processed 323830 words, keeping 17625 word types\n",
      "2022-08-23 16:01:21,240 : INFO : PROGRESS: at sentence #40000, processed 430437 words, keeping 20890 word types\n",
      "2022-08-23 16:01:21,581 : INFO : PROGRESS: at sentence #50000, processed 645721 words, keeping 25445 word types\n",
      "2022-08-23 16:01:21,781 : INFO : PROGRESS: at sentence #60000, processed 766681 words, keeping 29457 word types\n",
      "2022-08-23 16:01:22,020 : INFO : PROGRESS: at sentence #70000, processed 913534 words, keeping 33864 word types\n",
      "2022-08-23 16:01:22,243 : INFO : PROGRESS: at sentence #80000, processed 1052967 words, keeping 37811 word types\n",
      "2022-08-23 16:01:22,461 : INFO : PROGRESS: at sentence #90000, processed 1188138 words, keeping 40991 word types\n",
      "2022-08-23 16:01:22,656 : INFO : PROGRESS: at sentence #100000, processed 1306187 words, keeping 43415 word types\n",
      "2022-08-23 16:01:22,836 : INFO : PROGRESS: at sentence #110000, processed 1416226 words, keeping 45552 word types\n",
      "2022-08-23 16:01:23,036 : INFO : PROGRESS: at sentence #120000, processed 1537330 words, keeping 47421 word types\n",
      "2022-08-23 16:01:23,219 : INFO : PROGRESS: at sentence #130000, processed 1648222 words, keeping 49615 word types\n",
      "2022-08-23 16:01:23,412 : INFO : PROGRESS: at sentence #140000, processed 1764326 words, keeping 51719 word types\n",
      "2022-08-23 16:01:23,577 : INFO : PROGRESS: at sentence #150000, processed 1862714 words, keeping 53403 word types\n",
      "2022-08-23 16:01:23,745 : INFO : PROGRESS: at sentence #160000, processed 1965695 words, keeping 55494 word types\n",
      "2022-08-23 16:01:23,906 : INFO : PROGRESS: at sentence #170000, processed 2063439 words, keeping 57219 word types\n",
      "2022-08-23 16:01:24,069 : INFO : PROGRESS: at sentence #180000, processed 2163553 words, keeping 58856 word types\n",
      "2022-08-23 16:01:24,240 : INFO : PROGRESS: at sentence #190000, processed 2267156 words, keeping 60704 word types\n",
      "2022-08-23 16:01:24,407 : INFO : PROGRESS: at sentence #200000, processed 2368385 words, keeping 62540 word types\n",
      "2022-08-23 16:01:24,582 : INFO : PROGRESS: at sentence #210000, processed 2478304 words, keeping 64177 word types\n",
      "2022-08-23 16:01:24,759 : INFO : PROGRESS: at sentence #220000, processed 2584787 words, keeping 65807 word types\n",
      "2022-08-23 16:01:24,956 : INFO : PROGRESS: at sentence #230000, processed 2705497 words, keeping 68013 word types\n",
      "2022-08-23 16:01:25,142 : INFO : PROGRESS: at sentence #240000, processed 2820810 words, keeping 70211 word types\n",
      "2022-08-23 16:01:25,303 : INFO : PROGRESS: at sentence #250000, processed 2919640 words, keeping 71577 word types\n",
      "2022-08-23 16:01:25,542 : INFO : PROGRESS: at sentence #260000, processed 3059245 words, keeping 73704 word types\n",
      "2022-08-23 16:01:25,744 : INFO : PROGRESS: at sentence #270000, processed 3170562 words, keeping 75077 word types\n",
      "2022-08-23 16:01:25,915 : INFO : PROGRESS: at sentence #280000, processed 3271041 words, keeping 76469 word types\n",
      "2022-08-23 16:01:26,111 : INFO : PROGRESS: at sentence #290000, processed 3385159 words, keeping 78320 word types\n",
      "2022-08-23 16:01:26,452 : INFO : PROGRESS: at sentence #300000, processed 3592209 words, keeping 81866 word types\n",
      "2022-08-23 16:01:26,649 : INFO : PROGRESS: at sentence #310000, processed 3706740 words, keeping 83917 word types\n",
      "2022-08-23 16:01:26,813 : INFO : collected 85482 word types from a corpus of 3802827 raw words and 317418 sentences\n",
      "2022-08-23 16:01:26,814 : INFO : Creating a fresh vocabulary\n",
      "2022-08-23 16:01:26,874 : INFO : Word2Vec lifecycle event {'msg': 'effective_min_count=10 retains 12274 unique words (14.36% of original 85482, drops 73208)', 'datetime': '2022-08-23T16:01:26.874904', 'gensim': '4.2.0', 'python': '3.9.12 (main, Apr  4 2022, 05:22:27) [MSC v.1916 64 bit (AMD64)]', 'platform': 'Windows-10-10.0.19044-SP0', 'event': 'prepare_vocab'}\n",
      "2022-08-23 16:01:26,875 : INFO : Word2Vec lifecycle event {'msg': 'effective_min_count=10 leaves 3664101 word corpus (96.35% of original 3802827, drops 138726)', 'datetime': '2022-08-23T16:01:26.875886', 'gensim': '4.2.0', 'python': '3.9.12 (main, Apr  4 2022, 05:22:27) [MSC v.1916 64 bit (AMD64)]', 'platform': 'Windows-10-10.0.19044-SP0', 'event': 'prepare_vocab'}\n",
      "2022-08-23 16:01:26,934 : INFO : deleting the raw counts dictionary of 85482 items\n",
      "2022-08-23 16:01:26,938 : INFO : sample=0.001 downsamples 56 most-common words\n",
      "2022-08-23 16:01:26,939 : INFO : Word2Vec lifecycle event {'msg': 'downsampling leaves estimated 2891905.8791751848 word corpus (78.9%% of prior 3664101)', 'datetime': '2022-08-23T16:01:26.939879', 'gensim': '4.2.0', 'python': '3.9.12 (main, Apr  4 2022, 05:22:27) [MSC v.1916 64 bit (AMD64)]', 'platform': 'Windows-10-10.0.19044-SP0', 'event': 'prepare_vocab'}\n",
      "2022-08-23 16:01:27,031 : INFO : estimated required memory for 12274 words and 200 dimensions: 25775400 bytes\n",
      "2022-08-23 16:01:27,032 : INFO : resetting layer weights\n",
      "2022-08-23 16:01:27,043 : INFO : Word2Vec lifecycle event {'update': False, 'trim_rule': 'None', 'datetime': '2022-08-23T16:01:27.043284', 'gensim': '4.2.0', 'python': '3.9.12 (main, Apr  4 2022, 05:22:27) [MSC v.1916 64 bit (AMD64)]', 'platform': 'Windows-10-10.0.19044-SP0', 'event': 'build_vocab'}\n",
      "2022-08-23 16:01:27,043 : INFO : Word2Vec lifecycle event {'msg': 'training model with 3 workers on 12274 vocabulary and 200 features, using sg=1 hs=0 sample=0.001 negative=5 window=5 shrink_windows=True', 'datetime': '2022-08-23T16:01:27.043284', 'gensim': '4.2.0', 'python': '3.9.12 (main, Apr  4 2022, 05:22:27) [MSC v.1916 64 bit (AMD64)]', 'platform': 'Windows-10-10.0.19044-SP0', 'event': 'train'}\n",
      "2022-08-23 16:01:28,048 : INFO : EPOCH 0 - PROGRESS: at 12.26% examples, 314491 words/s, in_qsize 0, out_qsize 0\n",
      "2022-08-23 16:01:29,058 : INFO : EPOCH 0 - PROGRESS: at 21.55% examples, 341706 words/s, in_qsize 0, out_qsize 0\n",
      "2022-08-23 16:01:30,060 : INFO : EPOCH 0 - PROGRESS: at 33.46% examples, 349193 words/s, in_qsize 0, out_qsize 0\n",
      "2022-08-23 16:01:31,084 : INFO : EPOCH 0 - PROGRESS: at 48.06% examples, 355796 words/s, in_qsize 0, out_qsize 0\n",
      "2022-08-23 16:01:32,092 : INFO : EPOCH 0 - PROGRESS: at 62.26% examples, 353082 words/s, in_qsize 0, out_qsize 0\n",
      "2022-08-23 16:01:33,105 : INFO : EPOCH 0 - PROGRESS: at 76.69% examples, 356537 words/s, in_qsize 0, out_qsize 0\n",
      "2022-08-23 16:01:34,108 : INFO : EPOCH 0 - PROGRESS: at 89.70% examples, 358295 words/s, in_qsize 0, out_qsize 0\n",
      "2022-08-23 16:01:35,055 : INFO : EPOCH 0: training on 3802827 raw words (2891912 effective words) took 8.0s, 361078 effective words/s\n",
      "2022-08-23 16:01:36,075 : INFO : EPOCH 1 - PROGRESS: at 12.82% examples, 332679 words/s, in_qsize 0, out_qsize 0\n",
      "2022-08-23 16:01:37,099 : INFO : EPOCH 1 - PROGRESS: at 22.53% examples, 347730 words/s, in_qsize 0, out_qsize 0\n",
      "2022-08-23 16:01:38,111 : INFO : EPOCH 1 - PROGRESS: at 34.68% examples, 354501 words/s, in_qsize 0, out_qsize 0\n",
      "2022-08-23 16:01:39,123 : INFO : EPOCH 1 - PROGRESS: at 48.70% examples, 356849 words/s, in_qsize 0, out_qsize 0\n",
      "2022-08-23 16:01:40,125 : INFO : EPOCH 1 - PROGRESS: at 63.50% examples, 357619 words/s, in_qsize 0, out_qsize 0\n",
      "2022-08-23 16:01:41,144 : INFO : EPOCH 1 - PROGRESS: at 76.69% examples, 354994 words/s, in_qsize 0, out_qsize 0\n",
      "2022-08-23 16:01:42,155 : INFO : EPOCH 1 - PROGRESS: at 85.68% examples, 341717 words/s, in_qsize 0, out_qsize 0\n",
      "2022-08-23 16:01:43,172 : INFO : EPOCH 1 - PROGRESS: at 94.09% examples, 334738 words/s, in_qsize 1, out_qsize 0\n",
      "2022-08-23 16:01:43,648 : INFO : EPOCH 1: training on 3802827 raw words (2891753 effective words) took 8.6s, 336592 effective words/s\n",
      "2022-08-23 16:01:44,652 : INFO : EPOCH 2 - PROGRESS: at 12.26% examples, 315017 words/s, in_qsize 0, out_qsize 0\n",
      "2022-08-23 16:01:45,671 : INFO : EPOCH 2 - PROGRESS: at 21.26% examples, 336901 words/s, in_qsize 0, out_qsize 0\n",
      "2022-08-23 16:01:46,680 : INFO : EPOCH 2 - PROGRESS: at 31.54% examples, 330631 words/s, in_qsize 0, out_qsize 0\n",
      "2022-08-23 16:01:47,682 : INFO : EPOCH 2 - PROGRESS: at 43.71% examples, 330761 words/s, in_qsize 0, out_qsize 0\n",
      "2022-08-23 16:01:48,705 : INFO : EPOCH 2 - PROGRESS: at 57.72% examples, 330375 words/s, in_qsize 0, out_qsize 0\n",
      "2022-08-23 16:01:49,733 : INFO : EPOCH 2 - PROGRESS: at 72.19% examples, 336755 words/s, in_qsize 0, out_qsize 0\n",
      "2022-08-23 16:01:50,741 : INFO : EPOCH 2 - PROGRESS: at 85.16% examples, 340107 words/s, in_qsize 0, out_qsize 0\n",
      "2022-08-23 16:01:51,745 : INFO : EPOCH 2 - PROGRESS: at 95.94% examples, 342376 words/s, in_qsize 0, out_qsize 0\n",
      "2022-08-23 16:01:52,056 : INFO : EPOCH 2: training on 3802827 raw words (2892413 effective words) took 8.4s, 344180 effective words/s\n",
      "2022-08-23 16:01:53,071 : INFO : EPOCH 3 - PROGRESS: at 12.82% examples, 334535 words/s, in_qsize 0, out_qsize 0\n",
      "2022-08-23 16:01:54,073 : INFO : EPOCH 3 - PROGRESS: at 22.67% examples, 356385 words/s, in_qsize 0, out_qsize 0\n",
      "2022-08-23 16:01:55,089 : INFO : EPOCH 3 - PROGRESS: at 34.68% examples, 357374 words/s, in_qsize 0, out_qsize 0\n",
      "2022-08-23 16:01:56,096 : INFO : EPOCH 3 - PROGRESS: at 47.36% examples, 352056 words/s, in_qsize 0, out_qsize 0\n",
      "2022-08-23 16:01:57,120 : INFO : EPOCH 3 - PROGRESS: at 62.11% examples, 350332 words/s, in_qsize 0, out_qsize 0\n",
      "2022-08-23 16:01:58,132 : INFO : EPOCH 3 - PROGRESS: at 75.39% examples, 351956 words/s, in_qsize 0, out_qsize 0\n",
      "2022-08-23 16:01:59,156 : INFO : EPOCH 3 - PROGRESS: at 89.34% examples, 354282 words/s, in_qsize 0, out_qsize 0\n",
      "2022-08-23 16:02:00,141 : INFO : EPOCH 3: training on 3802827 raw words (2890964 effective words) took 8.1s, 357698 effective words/s\n",
      "2022-08-23 16:02:01,150 : INFO : EPOCH 4 - PROGRESS: at 12.95% examples, 352444 words/s, in_qsize 1, out_qsize 0\n",
      "2022-08-23 16:02:02,160 : INFO : EPOCH 4 - PROGRESS: at 23.71% examples, 371217 words/s, in_qsize 0, out_qsize 0\n",
      "2022-08-23 16:02:03,161 : INFO : EPOCH 4 - PROGRESS: at 36.28% examples, 376619 words/s, in_qsize 0, out_qsize 0\n",
      "2022-08-23 16:02:04,164 : INFO : EPOCH 4 - PROGRESS: at 49.94% examples, 370564 words/s, in_qsize 0, out_qsize 0\n",
      "2022-08-23 16:02:05,171 : INFO : EPOCH 4 - PROGRESS: at 65.19% examples, 367956 words/s, in_qsize 0, out_qsize 0\n",
      "2022-08-23 16:02:06,193 : INFO : EPOCH 4 - PROGRESS: at 78.65% examples, 365833 words/s, in_qsize 0, out_qsize 1\n",
      "2022-08-23 16:02:07,200 : INFO : EPOCH 4 - PROGRESS: at 91.91% examples, 366097 words/s, in_qsize 0, out_qsize 0\n",
      "2022-08-23 16:02:07,977 : INFO : EPOCH 4: training on 3802827 raw words (2891936 effective words) took 7.8s, 369189 effective words/s\n",
      "2022-08-23 16:02:07,978 : INFO : Word2Vec lifecycle event {'msg': 'training on 19014135 raw words (14458978 effective words) took 40.9s, 353226 effective words/s', 'datetime': '2022-08-23T16:02:07.978343', 'gensim': '4.2.0', 'python': '3.9.12 (main, Apr  4 2022, 05:22:27) [MSC v.1916 64 bit (AMD64)]', 'platform': 'Windows-10-10.0.19044-SP0', 'event': 'train'}\n",
      "2022-08-23 16:02:07,978 : INFO : Word2Vec lifecycle event {'params': 'Word2Vec<vocab=12274, vector_size=200, alpha=0.025>', 'datetime': '2022-08-23T16:02:07.978343', 'gensim': '4.2.0', 'python': '3.9.12 (main, Apr  4 2022, 05:22:27) [MSC v.1916 64 bit (AMD64)]', 'platform': 'Windows-10-10.0.19044-SP0', 'event': 'created'}\n"
     ]
    }
   ],
   "source": [
    "# SG 200\n",
    "sg200 = gensim.models.Word2Vec(sentences=sentences, vector_size=200, sg=1, min_count=10)"
   ],
   "metadata": {
    "collapsed": false
   }
  },
  {
   "cell_type": "code",
   "execution_count": 8,
   "outputs": [
    {
     "name": "stderr",
     "output_type": "stream",
     "text": [
      "2022-08-23 16:02:07,993 : INFO : Word2Vec lifecycle event {'fname_or_handle': 'C:\\\\Users\\\\62774\\\\AppData\\\\Local\\\\Temp\\\\gensim-model-5_w25kby', 'separately': 'None', 'sep_limit': 10485760, 'ignore': frozenset(), 'datetime': '2022-08-23T16:02:07.993343', 'gensim': '4.2.0', 'python': '3.9.12 (main, Apr  4 2022, 05:22:27) [MSC v.1916 64 bit (AMD64)]', 'platform': 'Windows-10-10.0.19044-SP0', 'event': 'saving'}\n",
      "2022-08-23 16:02:07,994 : INFO : not storing attribute cum_table\n",
      "2022-08-23 16:02:08,013 : INFO : saved C:\\Users\\62774\\AppData\\Local\\Temp\\gensim-model-5_w25kby\n"
     ]
    }
   ],
   "source": [
    "with tempfile.NamedTemporaryFile(prefix='gensim-model-', delete=False) as tmp:\n",
    "    temporary_filepath = tmp.name\n",
    "    sg200.save(temporary_filepath)"
   ],
   "metadata": {
    "collapsed": false
   }
  },
  {
   "cell_type": "code",
   "execution_count": 9,
   "outputs": [
    {
     "name": "stderr",
     "output_type": "stream",
     "text": [
      "2022-08-23 16:02:08,024 : INFO : collecting all words and their counts\n",
      "2022-08-23 16:02:08,026 : INFO : PROGRESS: at sentence #0, processed 0 words, keeping 0 word types\n",
      "2022-08-23 16:02:08,216 : INFO : PROGRESS: at sentence #10000, processed 116734 words, keeping 9693 word types\n",
      "2022-08-23 16:02:08,402 : INFO : PROGRESS: at sentence #20000, processed 232533 words, keeping 14815 word types\n",
      "2022-08-23 16:02:08,555 : INFO : PROGRESS: at sentence #30000, processed 323830 words, keeping 17625 word types\n",
      "2022-08-23 16:02:08,740 : INFO : PROGRESS: at sentence #40000, processed 430437 words, keeping 20890 word types\n",
      "2022-08-23 16:02:09,073 : INFO : PROGRESS: at sentence #50000, processed 645721 words, keeping 25445 word types\n",
      "2022-08-23 16:02:09,270 : INFO : PROGRESS: at sentence #60000, processed 766681 words, keeping 29457 word types\n",
      "2022-08-23 16:02:09,508 : INFO : PROGRESS: at sentence #70000, processed 913534 words, keeping 33864 word types\n",
      "2022-08-23 16:02:09,742 : INFO : PROGRESS: at sentence #80000, processed 1052967 words, keeping 37811 word types\n",
      "2022-08-23 16:02:09,963 : INFO : PROGRESS: at sentence #90000, processed 1188138 words, keeping 40991 word types\n",
      "2022-08-23 16:02:10,163 : INFO : PROGRESS: at sentence #100000, processed 1306187 words, keeping 43415 word types\n",
      "2022-08-23 16:02:10,347 : INFO : PROGRESS: at sentence #110000, processed 1416226 words, keeping 45552 word types\n",
      "2022-08-23 16:02:10,546 : INFO : PROGRESS: at sentence #120000, processed 1537330 words, keeping 47421 word types\n",
      "2022-08-23 16:02:10,735 : INFO : PROGRESS: at sentence #130000, processed 1648222 words, keeping 49615 word types\n",
      "2022-08-23 16:02:10,930 : INFO : PROGRESS: at sentence #140000, processed 1764326 words, keeping 51719 word types\n",
      "2022-08-23 16:02:11,092 : INFO : PROGRESS: at sentence #150000, processed 1862714 words, keeping 53403 word types\n",
      "2022-08-23 16:02:11,264 : INFO : PROGRESS: at sentence #160000, processed 1965695 words, keeping 55494 word types\n",
      "2022-08-23 16:02:11,434 : INFO : PROGRESS: at sentence #170000, processed 2063439 words, keeping 57219 word types\n",
      "2022-08-23 16:02:11,610 : INFO : PROGRESS: at sentence #180000, processed 2163553 words, keeping 58856 word types\n",
      "2022-08-23 16:02:11,778 : INFO : PROGRESS: at sentence #190000, processed 2267156 words, keeping 60704 word types\n",
      "2022-08-23 16:02:11,951 : INFO : PROGRESS: at sentence #200000, processed 2368385 words, keeping 62540 word types\n",
      "2022-08-23 16:02:12,128 : INFO : PROGRESS: at sentence #210000, processed 2478304 words, keeping 64177 word types\n",
      "2022-08-23 16:02:12,306 : INFO : PROGRESS: at sentence #220000, processed 2584787 words, keeping 65807 word types\n",
      "2022-08-23 16:02:12,523 : INFO : PROGRESS: at sentence #230000, processed 2705497 words, keeping 68013 word types\n",
      "2022-08-23 16:02:12,726 : INFO : PROGRESS: at sentence #240000, processed 2820810 words, keeping 70211 word types\n",
      "2022-08-23 16:02:12,892 : INFO : PROGRESS: at sentence #250000, processed 2919640 words, keeping 71577 word types\n",
      "2022-08-23 16:02:13,128 : INFO : PROGRESS: at sentence #260000, processed 3059245 words, keeping 73704 word types\n",
      "2022-08-23 16:02:13,321 : INFO : PROGRESS: at sentence #270000, processed 3170562 words, keeping 75077 word types\n",
      "2022-08-23 16:02:13,496 : INFO : PROGRESS: at sentence #280000, processed 3271041 words, keeping 76469 word types\n",
      "2022-08-23 16:02:13,698 : INFO : PROGRESS: at sentence #290000, processed 3385159 words, keeping 78320 word types\n",
      "2022-08-23 16:02:14,041 : INFO : PROGRESS: at sentence #300000, processed 3592209 words, keeping 81866 word types\n",
      "2022-08-23 16:02:14,235 : INFO : PROGRESS: at sentence #310000, processed 3706740 words, keeping 83917 word types\n",
      "2022-08-23 16:02:14,394 : INFO : collected 85482 word types from a corpus of 3802827 raw words and 317418 sentences\n",
      "2022-08-23 16:02:14,395 : INFO : Creating a fresh vocabulary\n",
      "2022-08-23 16:02:14,463 : INFO : Word2Vec lifecycle event {'msg': 'effective_min_count=10 retains 12274 unique words (14.36% of original 85482, drops 73208)', 'datetime': '2022-08-23T16:02:14.463913', 'gensim': '4.2.0', 'python': '3.9.12 (main, Apr  4 2022, 05:22:27) [MSC v.1916 64 bit (AMD64)]', 'platform': 'Windows-10-10.0.19044-SP0', 'event': 'prepare_vocab'}\n",
      "2022-08-23 16:02:14,464 : INFO : Word2Vec lifecycle event {'msg': 'effective_min_count=10 leaves 3664101 word corpus (96.35% of original 3802827, drops 138726)', 'datetime': '2022-08-23T16:02:14.464924', 'gensim': '4.2.0', 'python': '3.9.12 (main, Apr  4 2022, 05:22:27) [MSC v.1916 64 bit (AMD64)]', 'platform': 'Windows-10-10.0.19044-SP0', 'event': 'prepare_vocab'}\n",
      "2022-08-23 16:02:14,526 : INFO : deleting the raw counts dictionary of 85482 items\n",
      "2022-08-23 16:02:14,530 : INFO : sample=0.001 downsamples 56 most-common words\n",
      "2022-08-23 16:02:14,531 : INFO : Word2Vec lifecycle event {'msg': 'downsampling leaves estimated 2891905.8791751848 word corpus (78.9%% of prior 3664101)', 'datetime': '2022-08-23T16:02:14.531919', 'gensim': '4.2.0', 'python': '3.9.12 (main, Apr  4 2022, 05:22:27) [MSC v.1916 64 bit (AMD64)]', 'platform': 'Windows-10-10.0.19044-SP0', 'event': 'prepare_vocab'}\n",
      "2022-08-23 16:02:14,622 : INFO : estimated required memory for 12274 words and 300 dimensions: 35594600 bytes\n",
      "2022-08-23 16:02:14,622 : INFO : resetting layer weights\n",
      "2022-08-23 16:02:14,637 : INFO : Word2Vec lifecycle event {'update': False, 'trim_rule': 'None', 'datetime': '2022-08-23T16:02:14.637958', 'gensim': '4.2.0', 'python': '3.9.12 (main, Apr  4 2022, 05:22:27) [MSC v.1916 64 bit (AMD64)]', 'platform': 'Windows-10-10.0.19044-SP0', 'event': 'build_vocab'}\n",
      "2022-08-23 16:02:14,638 : INFO : Word2Vec lifecycle event {'msg': 'training model with 3 workers on 12274 vocabulary and 300 features, using sg=1 hs=0 sample=0.001 negative=5 window=5 shrink_windows=True', 'datetime': '2022-08-23T16:02:14.638918', 'gensim': '4.2.0', 'python': '3.9.12 (main, Apr  4 2022, 05:22:27) [MSC v.1916 64 bit (AMD64)]', 'platform': 'Windows-10-10.0.19044-SP0', 'event': 'train'}\n",
      "2022-08-23 16:02:15,666 : INFO : EPOCH 0 - PROGRESS: at 12.26% examples, 307301 words/s, in_qsize 0, out_qsize 0\n",
      "2022-08-23 16:02:16,672 : INFO : EPOCH 0 - PROGRESS: at 20.60% examples, 319487 words/s, in_qsize 4, out_qsize 0\n",
      "2022-08-23 16:02:17,691 : INFO : EPOCH 0 - PROGRESS: at 31.54% examples, 328190 words/s, in_qsize 4, out_qsize 0\n",
      "2022-08-23 16:02:18,696 : INFO : EPOCH 0 - PROGRESS: at 43.94% examples, 330722 words/s, in_qsize 4, out_qsize 1\n",
      "2022-08-23 16:02:19,698 : INFO : EPOCH 0 - PROGRESS: at 59.59% examples, 339206 words/s, in_qsize 0, out_qsize 0\n",
      "2022-08-23 16:02:20,704 : INFO : EPOCH 0 - PROGRESS: at 72.80% examples, 340429 words/s, in_qsize 0, out_qsize 0\n",
      "2022-08-23 16:02:21,733 : INFO : EPOCH 0 - PROGRESS: at 85.24% examples, 340031 words/s, in_qsize 3, out_qsize 0\n",
      "2022-08-23 16:02:22,737 : INFO : EPOCH 0 - PROGRESS: at 94.53% examples, 337641 words/s, in_qsize 5, out_qsize 0\n",
      "2022-08-23 16:02:23,176 : INFO : EPOCH 0: training on 3802827 raw words (2893151 effective words) took 8.5s, 338937 effective words/s\n",
      "2022-08-23 16:02:24,202 : INFO : EPOCH 1 - PROGRESS: at 12.51% examples, 316275 words/s, in_qsize 0, out_qsize 0\n",
      "2022-08-23 16:02:25,252 : INFO : EPOCH 1 - PROGRESS: at 20.69% examples, 317273 words/s, in_qsize 6, out_qsize 0\n",
      "2022-08-23 16:02:26,252 : INFO : EPOCH 1 - PROGRESS: at 31.54% examples, 325884 words/s, in_qsize 4, out_qsize 0\n",
      "2022-08-23 16:02:27,258 : INFO : EPOCH 1 - PROGRESS: at 44.20% examples, 330608 words/s, in_qsize 2, out_qsize 0\n",
      "2022-08-23 16:02:28,259 : INFO : EPOCH 1 - PROGRESS: at 59.14% examples, 336263 words/s, in_qsize 0, out_qsize 0\n",
      "2022-08-23 16:02:29,285 : INFO : EPOCH 1 - PROGRESS: at 72.80% examples, 337972 words/s, in_qsize 1, out_qsize 0\n",
      "2022-08-23 16:02:30,301 : INFO : EPOCH 1 - PROGRESS: at 85.68% examples, 340735 words/s, in_qsize 1, out_qsize 0\n",
      "2022-08-23 16:02:31,319 : INFO : EPOCH 1 - PROGRESS: at 95.71% examples, 339575 words/s, in_qsize 5, out_qsize 0\n",
      "2022-08-23 16:02:31,709 : INFO : EPOCH 1: training on 3802827 raw words (2892836 effective words) took 8.5s, 339211 effective words/s\n",
      "2022-08-23 16:02:32,724 : INFO : EPOCH 2 - PROGRESS: at 12.51% examples, 318765 words/s, in_qsize 0, out_qsize 0\n",
      "2022-08-23 16:02:33,774 : INFO : EPOCH 2 - PROGRESS: at 20.69% examples, 318383 words/s, in_qsize 5, out_qsize 0\n",
      "2022-08-23 16:02:34,848 : INFO : EPOCH 2 - PROGRESS: at 31.87% examples, 321335 words/s, in_qsize 3, out_qsize 2\n",
      "2022-08-23 16:02:35,850 : INFO : EPOCH 2 - PROGRESS: at 45.01% examples, 329069 words/s, in_qsize 3, out_qsize 0\n",
      "2022-08-23 16:02:36,866 : INFO : EPOCH 2 - PROGRESS: at 59.89% examples, 333962 words/s, in_qsize 0, out_qsize 1\n",
      "2022-08-23 16:02:37,873 : INFO : EPOCH 2 - PROGRESS: at 73.44% examples, 338413 words/s, in_qsize 0, out_qsize 0\n",
      "2022-08-23 16:02:38,883 : INFO : EPOCH 2 - PROGRESS: at 85.68% examples, 338211 words/s, in_qsize 2, out_qsize 0\n",
      "2022-08-23 16:02:39,889 : INFO : EPOCH 2 - PROGRESS: at 96.16% examples, 339750 words/s, in_qsize 5, out_qsize 0\n",
      "2022-08-23 16:02:40,184 : INFO : EPOCH 2: training on 3802827 raw words (2892051 effective words) took 8.5s, 341343 effective words/s\n",
      "2022-08-23 16:02:41,192 : INFO : EPOCH 3 - PROGRESS: at 12.75% examples, 328905 words/s, in_qsize 1, out_qsize 0\n",
      "2022-08-23 16:02:42,227 : INFO : EPOCH 3 - PROGRESS: at 20.81% examples, 321830 words/s, in_qsize 5, out_qsize 0\n",
      "2022-08-23 16:02:43,230 : INFO : EPOCH 3 - PROGRESS: at 30.73% examples, 321567 words/s, in_qsize 5, out_qsize 0\n",
      "2022-08-23 16:02:44,248 : INFO : EPOCH 3 - PROGRESS: at 43.71% examples, 328251 words/s, in_qsize 3, out_qsize 0\n",
      "2022-08-23 16:02:45,249 : INFO : EPOCH 3 - PROGRESS: at 58.89% examples, 335849 words/s, in_qsize 0, out_qsize 0\n",
      "2022-08-23 16:02:46,265 : INFO : EPOCH 3 - PROGRESS: at 72.19% examples, 336887 words/s, in_qsize 0, out_qsize 0\n",
      "2022-08-23 16:02:47,278 : INFO : EPOCH 3 - PROGRESS: at 84.25% examples, 337942 words/s, in_qsize 0, out_qsize 0\n",
      "2022-08-23 16:02:48,281 : INFO : EPOCH 3 - PROGRESS: at 94.53% examples, 337642 words/s, in_qsize 5, out_qsize 0\n",
      "2022-08-23 16:02:48,700 : INFO : EPOCH 3: training on 3802827 raw words (2892055 effective words) took 8.5s, 339737 effective words/s\n",
      "2022-08-23 16:02:49,705 : INFO : EPOCH 4 - PROGRESS: at 12.75% examples, 330140 words/s, in_qsize 0, out_qsize 0\n",
      "2022-08-23 16:02:50,711 : INFO : EPOCH 4 - PROGRESS: at 20.89% examples, 331165 words/s, in_qsize 6, out_qsize 0\n",
      "2022-08-23 16:02:51,722 : INFO : EPOCH 4 - PROGRESS: at 30.94% examples, 326676 words/s, in_qsize 5, out_qsize 0\n",
      "2022-08-23 16:02:52,751 : INFO : EPOCH 4 - PROGRESS: at 43.71% examples, 329259 words/s, in_qsize 5, out_qsize 0\n",
      "2022-08-23 16:02:53,758 : INFO : EPOCH 4 - PROGRESS: at 58.55% examples, 334805 words/s, in_qsize 2, out_qsize 0\n",
      "2022-08-23 16:02:54,761 : INFO : EPOCH 4 - PROGRESS: at 72.19% examples, 338069 words/s, in_qsize 1, out_qsize 0\n",
      "2022-08-23 16:02:55,776 : INFO : EPOCH 4 - PROGRESS: at 83.77% examples, 336722 words/s, in_qsize 2, out_qsize 0\n",
      "2022-08-23 16:02:56,817 : INFO : EPOCH 4 - PROGRESS: at 94.53% examples, 336900 words/s, in_qsize 5, out_qsize 0\n",
      "2022-08-23 16:02:57,230 : INFO : EPOCH 4: training on 3802827 raw words (2893163 effective words) took 8.5s, 339263 effective words/s\n",
      "2022-08-23 16:02:57,231 : INFO : Word2Vec lifecycle event {'msg': 'training on 19014135 raw words (14463256 effective words) took 42.6s, 339577 effective words/s', 'datetime': '2022-08-23T16:02:57.231694', 'gensim': '4.2.0', 'python': '3.9.12 (main, Apr  4 2022, 05:22:27) [MSC v.1916 64 bit (AMD64)]', 'platform': 'Windows-10-10.0.19044-SP0', 'event': 'train'}\n",
      "2022-08-23 16:02:57,231 : INFO : Word2Vec lifecycle event {'params': 'Word2Vec<vocab=12274, vector_size=300, alpha=0.025>', 'datetime': '2022-08-23T16:02:57.231694', 'gensim': '4.2.0', 'python': '3.9.12 (main, Apr  4 2022, 05:22:27) [MSC v.1916 64 bit (AMD64)]', 'platform': 'Windows-10-10.0.19044-SP0', 'event': 'created'}\n"
     ]
    }
   ],
   "source": [
    "# SG 300\n",
    "sg300 = gensim.models.Word2Vec(sentences=sentences, vector_size=300, sg=1, min_count=10)"
   ],
   "metadata": {
    "collapsed": false
   }
  },
  {
   "cell_type": "code",
   "execution_count": 10,
   "outputs": [
    {
     "name": "stderr",
     "output_type": "stream",
     "text": [
      "2022-08-23 16:02:57,242 : INFO : Word2Vec lifecycle event {'fname_or_handle': 'C:\\\\Users\\\\62774\\\\AppData\\\\Local\\\\Temp\\\\gensim-model-zee8wpd0', 'separately': 'None', 'sep_limit': 10485760, 'ignore': frozenset(), 'datetime': '2022-08-23T16:02:57.242679', 'gensim': '4.2.0', 'python': '3.9.12 (main, Apr  4 2022, 05:22:27) [MSC v.1916 64 bit (AMD64)]', 'platform': 'Windows-10-10.0.19044-SP0', 'event': 'saving'}\n",
      "2022-08-23 16:02:57,243 : INFO : not storing attribute cum_table\n",
      "2022-08-23 16:02:57,268 : INFO : saved C:\\Users\\62774\\AppData\\Local\\Temp\\gensim-model-zee8wpd0\n"
     ]
    }
   ],
   "source": [
    "with tempfile.NamedTemporaryFile(prefix='gensim-model-', delete=False) as tmp:\n",
    "    temporary_filepath = tmp.name\n",
    "    sg300.save(temporary_filepath)"
   ],
   "metadata": {
    "collapsed": false
   }
  },
  {
   "cell_type": "code",
   "execution_count": 11,
   "outputs": [
    {
     "data": {
      "text/plain": "                                               Unnamed: 0\n0                                                     NaN\n1                                 交通 房间 房间 面积 布局 感觉 卫浴 花洒\n2                               酒店 服装 餐饮 好评 早餐 宵夜 关键 贼 建议\n3       好评 酒店 外观 装饰 绝绝子 房间 异味 酒店 房间 耳塞 行李 时候 小牌牌 夜宵 口味...\n4                 酒店 位置 地铁站 大悦城 酒店 前台 小姐姐 阿姨 行李 时 时 个人 酒店\n...                                                   ...\n317412                                                 孩子\n317413                                              房间 热水\n317414                                                  板\n317415                                                 位置\n317416                                                 商务\n\n[317417 rows x 1 columns]",
      "text/html": "<div>\n<style scoped>\n    .dataframe tbody tr th:only-of-type {\n        vertical-align: middle;\n    }\n\n    .dataframe tbody tr th {\n        vertical-align: top;\n    }\n\n    .dataframe thead th {\n        text-align: right;\n    }\n</style>\n<table border=\"1\" class=\"dataframe\">\n  <thead>\n    <tr style=\"text-align: right;\">\n      <th></th>\n      <th>Unnamed: 0</th>\n    </tr>\n  </thead>\n  <tbody>\n    <tr>\n      <th>0</th>\n      <td>NaN</td>\n    </tr>\n    <tr>\n      <th>1</th>\n      <td>交通 房间 房间 面积 布局 感觉 卫浴 花洒</td>\n    </tr>\n    <tr>\n      <th>2</th>\n      <td>酒店 服装 餐饮 好评 早餐 宵夜 关键 贼 建议</td>\n    </tr>\n    <tr>\n      <th>3</th>\n      <td>好评 酒店 外观 装饰 绝绝子 房间 异味 酒店 房间 耳塞 行李 时候 小牌牌 夜宵 口味...</td>\n    </tr>\n    <tr>\n      <th>4</th>\n      <td>酒店 位置 地铁站 大悦城 酒店 前台 小姐姐 阿姨 行李 时 时 个人 酒店</td>\n    </tr>\n    <tr>\n      <th>...</th>\n      <td>...</td>\n    </tr>\n    <tr>\n      <th>317412</th>\n      <td>孩子</td>\n    </tr>\n    <tr>\n      <th>317413</th>\n      <td>房间 热水</td>\n    </tr>\n    <tr>\n      <th>317414</th>\n      <td>板</td>\n    </tr>\n    <tr>\n      <th>317415</th>\n      <td>位置</td>\n    </tr>\n    <tr>\n      <th>317416</th>\n      <td>商务</td>\n    </tr>\n  </tbody>\n</table>\n<p>317417 rows × 1 columns</p>\n</div>"
     },
     "execution_count": 11,
     "metadata": {},
     "output_type": "execute_result"
    }
   ],
   "source": [
    "# 计算不同模型的名词词向量：CBOW200, CBOW300 SG200 SG300\n",
    "import pandas as pd\n",
    "\n",
    "nouns = pd.read_csv('../data/nouns.txt')\n",
    "nouns"
   ],
   "metadata": {
    "collapsed": false
   }
  },
  {
   "cell_type": "code",
   "execution_count": 12,
   "outputs": [
    {
     "data": {
      "text/plain": "                                                    nouns\n0                                                     NaN\n1                                 交通 房间 房间 面积 布局 感觉 卫浴 花洒\n2                               酒店 服装 餐饮 好评 早餐 宵夜 关键 贼 建议\n3       好评 酒店 外观 装饰 绝绝子 房间 异味 酒店 房间 耳塞 行李 时候 小牌牌 夜宵 口味...\n4                 酒店 位置 地铁站 大悦城 酒店 前台 小姐姐 阿姨 行李 时 时 个人 酒店\n...                                                   ...\n317412                                                 孩子\n317413                                              房间 热水\n317414                                                  板\n317415                                                 位置\n317416                                                 商务\n\n[317417 rows x 1 columns]",
      "text/html": "<div>\n<style scoped>\n    .dataframe tbody tr th:only-of-type {\n        vertical-align: middle;\n    }\n\n    .dataframe tbody tr th {\n        vertical-align: top;\n    }\n\n    .dataframe thead th {\n        text-align: right;\n    }\n</style>\n<table border=\"1\" class=\"dataframe\">\n  <thead>\n    <tr style=\"text-align: right;\">\n      <th></th>\n      <th>nouns</th>\n    </tr>\n  </thead>\n  <tbody>\n    <tr>\n      <th>0</th>\n      <td>NaN</td>\n    </tr>\n    <tr>\n      <th>1</th>\n      <td>交通 房间 房间 面积 布局 感觉 卫浴 花洒</td>\n    </tr>\n    <tr>\n      <th>2</th>\n      <td>酒店 服装 餐饮 好评 早餐 宵夜 关键 贼 建议</td>\n    </tr>\n    <tr>\n      <th>3</th>\n      <td>好评 酒店 外观 装饰 绝绝子 房间 异味 酒店 房间 耳塞 行李 时候 小牌牌 夜宵 口味...</td>\n    </tr>\n    <tr>\n      <th>4</th>\n      <td>酒店 位置 地铁站 大悦城 酒店 前台 小姐姐 阿姨 行李 时 时 个人 酒店</td>\n    </tr>\n    <tr>\n      <th>...</th>\n      <td>...</td>\n    </tr>\n    <tr>\n      <th>317412</th>\n      <td>孩子</td>\n    </tr>\n    <tr>\n      <th>317413</th>\n      <td>房间 热水</td>\n    </tr>\n    <tr>\n      <th>317414</th>\n      <td>板</td>\n    </tr>\n    <tr>\n      <th>317415</th>\n      <td>位置</td>\n    </tr>\n    <tr>\n      <th>317416</th>\n      <td>商务</td>\n    </tr>\n  </tbody>\n</table>\n<p>317417 rows × 1 columns</p>\n</div>"
     },
     "execution_count": 12,
     "metadata": {},
     "output_type": "execute_result"
    }
   ],
   "source": [
    "nouns.columns = ['nouns']\n",
    "nouns"
   ],
   "metadata": {
    "collapsed": false
   }
  },
  {
   "cell_type": "code",
   "execution_count": 13,
   "outputs": [
    {
     "data": {
      "text/plain": "                                                    nouns\n1                                 交通 房间 房间 面积 布局 感觉 卫浴 花洒\n2                               酒店 服装 餐饮 好评 早餐 宵夜 关键 贼 建议\n3       好评 酒店 外观 装饰 绝绝子 房间 异味 酒店 房间 耳塞 行李 时候 小牌牌 夜宵 口味...\n4                 酒店 位置 地铁站 大悦城 酒店 前台 小姐姐 阿姨 行李 时 时 个人 酒店\n5                房间 窗户 头 酒店 水 味道 阿姨 房间 老实说 价格 位置 地铁口 特点 图\n...                                                   ...\n317412                                                 孩子\n317413                                              房间 热水\n317414                                                  板\n317415                                                 位置\n317416                                                 商务\n\n[269156 rows x 1 columns]",
      "text/html": "<div>\n<style scoped>\n    .dataframe tbody tr th:only-of-type {\n        vertical-align: middle;\n    }\n\n    .dataframe tbody tr th {\n        vertical-align: top;\n    }\n\n    .dataframe thead th {\n        text-align: right;\n    }\n</style>\n<table border=\"1\" class=\"dataframe\">\n  <thead>\n    <tr style=\"text-align: right;\">\n      <th></th>\n      <th>nouns</th>\n    </tr>\n  </thead>\n  <tbody>\n    <tr>\n      <th>1</th>\n      <td>交通 房间 房间 面积 布局 感觉 卫浴 花洒</td>\n    </tr>\n    <tr>\n      <th>2</th>\n      <td>酒店 服装 餐饮 好评 早餐 宵夜 关键 贼 建议</td>\n    </tr>\n    <tr>\n      <th>3</th>\n      <td>好评 酒店 外观 装饰 绝绝子 房间 异味 酒店 房间 耳塞 行李 时候 小牌牌 夜宵 口味...</td>\n    </tr>\n    <tr>\n      <th>4</th>\n      <td>酒店 位置 地铁站 大悦城 酒店 前台 小姐姐 阿姨 行李 时 时 个人 酒店</td>\n    </tr>\n    <tr>\n      <th>5</th>\n      <td>房间 窗户 头 酒店 水 味道 阿姨 房间 老实说 价格 位置 地铁口 特点 图</td>\n    </tr>\n    <tr>\n      <th>...</th>\n      <td>...</td>\n    </tr>\n    <tr>\n      <th>317412</th>\n      <td>孩子</td>\n    </tr>\n    <tr>\n      <th>317413</th>\n      <td>房间 热水</td>\n    </tr>\n    <tr>\n      <th>317414</th>\n      <td>板</td>\n    </tr>\n    <tr>\n      <th>317415</th>\n      <td>位置</td>\n    </tr>\n    <tr>\n      <th>317416</th>\n      <td>商务</td>\n    </tr>\n  </tbody>\n</table>\n<p>269156 rows × 1 columns</p>\n</div>"
     },
     "execution_count": 13,
     "metadata": {},
     "output_type": "execute_result"
    }
   ],
   "source": [
    "nouns = nouns[~ nouns['nouns'].isna()]\n",
    "nouns"
   ],
   "metadata": {
    "collapsed": false
   }
  },
  {
   "cell_type": "code",
   "execution_count": 14,
   "outputs": [],
   "source": [
    "# 拆分函数\n",
    "import numpy as np\n",
    "\n",
    "\n",
    "def split_row(data, column):\n",
    "    \"\"\"拆分成行\n",
    "\n",
    "    :param data: 原始数据\n",
    "    :param column: 拆分的列名\n",
    "    :type data: pandas.core.frame.DataFrame\n",
    "    :type column: str\n",
    "    \"\"\"\n",
    "    row_len = list(map(len, data[column].values))\n",
    "    rows = []\n",
    "    for i in data.columns:\n",
    "        if i == column:\n",
    "            row = np.concatenate(data[i].values)\n",
    "        else:\n",
    "            row = np.repeat(data[i].values, row_len)\n",
    "        rows.append(row)\n",
    "    return pd.DataFrame(np.dstack(tuple(rows))[0], columns=data.columns)"
   ],
   "metadata": {
    "collapsed": false
   }
  },
  {
   "cell_type": "code",
   "execution_count": 15,
   "outputs": [
    {
     "name": "stderr",
     "output_type": "stream",
     "text": [
      "C:\\Users\\62774\\AppData\\Local\\Temp\\ipykernel_46232\\468032882.py:1: SettingWithCopyWarning: \n",
      "A value is trying to be set on a copy of a slice from a DataFrame.\n",
      "Try using .loc[row_indexer,col_indexer] = value instead\n",
      "\n",
      "See the caveats in the documentation: https://pandas.pydata.org/pandas-docs/stable/user_guide/indexing.html#returning-a-view-versus-a-copy\n",
      "  nouns['temp'] = '1'\n"
     ]
    },
    {
     "data": {
      "text/plain": "                                                    nouns temp\n1                                 交通 房间 房间 面积 布局 感觉 卫浴 花洒    1\n2                               酒店 服装 餐饮 好评 早餐 宵夜 关键 贼 建议    1\n3       好评 酒店 外观 装饰 绝绝子 房间 异味 酒店 房间 耳塞 行李 时候 小牌牌 夜宵 口味...    1\n4                 酒店 位置 地铁站 大悦城 酒店 前台 小姐姐 阿姨 行李 时 时 个人 酒店    1\n5                房间 窗户 头 酒店 水 味道 阿姨 房间 老实说 价格 位置 地铁口 特点 图    1\n...                                                   ...  ...\n317412                                                 孩子    1\n317413                                              房间 热水    1\n317414                                                  板    1\n317415                                                 位置    1\n317416                                                 商务    1\n\n[269156 rows x 2 columns]",
      "text/html": "<div>\n<style scoped>\n    .dataframe tbody tr th:only-of-type {\n        vertical-align: middle;\n    }\n\n    .dataframe tbody tr th {\n        vertical-align: top;\n    }\n\n    .dataframe thead th {\n        text-align: right;\n    }\n</style>\n<table border=\"1\" class=\"dataframe\">\n  <thead>\n    <tr style=\"text-align: right;\">\n      <th></th>\n      <th>nouns</th>\n      <th>temp</th>\n    </tr>\n  </thead>\n  <tbody>\n    <tr>\n      <th>1</th>\n      <td>交通 房间 房间 面积 布局 感觉 卫浴 花洒</td>\n      <td>1</td>\n    </tr>\n    <tr>\n      <th>2</th>\n      <td>酒店 服装 餐饮 好评 早餐 宵夜 关键 贼 建议</td>\n      <td>1</td>\n    </tr>\n    <tr>\n      <th>3</th>\n      <td>好评 酒店 外观 装饰 绝绝子 房间 异味 酒店 房间 耳塞 行李 时候 小牌牌 夜宵 口味...</td>\n      <td>1</td>\n    </tr>\n    <tr>\n      <th>4</th>\n      <td>酒店 位置 地铁站 大悦城 酒店 前台 小姐姐 阿姨 行李 时 时 个人 酒店</td>\n      <td>1</td>\n    </tr>\n    <tr>\n      <th>5</th>\n      <td>房间 窗户 头 酒店 水 味道 阿姨 房间 老实说 价格 位置 地铁口 特点 图</td>\n      <td>1</td>\n    </tr>\n    <tr>\n      <th>...</th>\n      <td>...</td>\n      <td>...</td>\n    </tr>\n    <tr>\n      <th>317412</th>\n      <td>孩子</td>\n      <td>1</td>\n    </tr>\n    <tr>\n      <th>317413</th>\n      <td>房间 热水</td>\n      <td>1</td>\n    </tr>\n    <tr>\n      <th>317414</th>\n      <td>板</td>\n      <td>1</td>\n    </tr>\n    <tr>\n      <th>317415</th>\n      <td>位置</td>\n      <td>1</td>\n    </tr>\n    <tr>\n      <th>317416</th>\n      <td>商务</td>\n      <td>1</td>\n    </tr>\n  </tbody>\n</table>\n<p>269156 rows × 2 columns</p>\n</div>"
     },
     "execution_count": 15,
     "metadata": {},
     "output_type": "execute_result"
    }
   ],
   "source": [
    "nouns['temp'] = '1'\n",
    "nouns"
   ],
   "metadata": {
    "collapsed": false
   }
  },
  {
   "cell_type": "code",
   "execution_count": 16,
   "outputs": [
    {
     "data": {
      "text/plain": "       temp noun\n1         1   交通\n1         1   房间\n1         1   房间\n1         1   面积\n1         1   布局\n...     ...  ...\n317413    1   房间\n317413    1   热水\n317414    1    板\n317415    1   位置\n317416    1   商务\n\n[1365335 rows x 2 columns]",
      "text/html": "<div>\n<style scoped>\n    .dataframe tbody tr th:only-of-type {\n        vertical-align: middle;\n    }\n\n    .dataframe tbody tr th {\n        vertical-align: top;\n    }\n\n    .dataframe thead th {\n        text-align: right;\n    }\n</style>\n<table border=\"1\" class=\"dataframe\">\n  <thead>\n    <tr style=\"text-align: right;\">\n      <th></th>\n      <th>temp</th>\n      <th>noun</th>\n    </tr>\n  </thead>\n  <tbody>\n    <tr>\n      <th>1</th>\n      <td>1</td>\n      <td>交通</td>\n    </tr>\n    <tr>\n      <th>1</th>\n      <td>1</td>\n      <td>房间</td>\n    </tr>\n    <tr>\n      <th>1</th>\n      <td>1</td>\n      <td>房间</td>\n    </tr>\n    <tr>\n      <th>1</th>\n      <td>1</td>\n      <td>面积</td>\n    </tr>\n    <tr>\n      <th>1</th>\n      <td>1</td>\n      <td>布局</td>\n    </tr>\n    <tr>\n      <th>...</th>\n      <td>...</td>\n      <td>...</td>\n    </tr>\n    <tr>\n      <th>317413</th>\n      <td>1</td>\n      <td>房间</td>\n    </tr>\n    <tr>\n      <th>317413</th>\n      <td>1</td>\n      <td>热水</td>\n    </tr>\n    <tr>\n      <th>317414</th>\n      <td>1</td>\n      <td>板</td>\n    </tr>\n    <tr>\n      <th>317415</th>\n      <td>1</td>\n      <td>位置</td>\n    </tr>\n    <tr>\n      <th>317416</th>\n      <td>1</td>\n      <td>商务</td>\n    </tr>\n  </tbody>\n</table>\n<p>1365335 rows × 2 columns</p>\n</div>"
     },
     "execution_count": 16,
     "metadata": {},
     "output_type": "execute_result"
    }
   ],
   "source": [
    "nouns_split = nouns.drop(\"nouns\", axis=1).join(\n",
    "    nouns[\"nouns\"].str.split(\" \", expand=True).stack().reset_index(level=1, drop=True).rename(\"noun\"))\n",
    "nouns_split"
   ],
   "metadata": {
    "collapsed": false
   }
  },
  {
   "cell_type": "code",
   "execution_count": 17,
   "outputs": [
    {
     "data": {
      "text/plain": "       noun\n1        交通\n1        房间\n1        房间\n1        面积\n1        布局\n...     ...\n317413   房间\n317413   热水\n317414    板\n317415   位置\n317416   商务\n\n[1365335 rows x 1 columns]",
      "text/html": "<div>\n<style scoped>\n    .dataframe tbody tr th:only-of-type {\n        vertical-align: middle;\n    }\n\n    .dataframe tbody tr th {\n        vertical-align: top;\n    }\n\n    .dataframe thead th {\n        text-align: right;\n    }\n</style>\n<table border=\"1\" class=\"dataframe\">\n  <thead>\n    <tr style=\"text-align: right;\">\n      <th></th>\n      <th>noun</th>\n    </tr>\n  </thead>\n  <tbody>\n    <tr>\n      <th>1</th>\n      <td>交通</td>\n    </tr>\n    <tr>\n      <th>1</th>\n      <td>房间</td>\n    </tr>\n    <tr>\n      <th>1</th>\n      <td>房间</td>\n    </tr>\n    <tr>\n      <th>1</th>\n      <td>面积</td>\n    </tr>\n    <tr>\n      <th>1</th>\n      <td>布局</td>\n    </tr>\n    <tr>\n      <th>...</th>\n      <td>...</td>\n    </tr>\n    <tr>\n      <th>317413</th>\n      <td>房间</td>\n    </tr>\n    <tr>\n      <th>317413</th>\n      <td>热水</td>\n    </tr>\n    <tr>\n      <th>317414</th>\n      <td>板</td>\n    </tr>\n    <tr>\n      <th>317415</th>\n      <td>位置</td>\n    </tr>\n    <tr>\n      <th>317416</th>\n      <td>商务</td>\n    </tr>\n  </tbody>\n</table>\n<p>1365335 rows × 1 columns</p>\n</div>"
     },
     "execution_count": 17,
     "metadata": {},
     "output_type": "execute_result"
    }
   ],
   "source": [
    "nouns_split = nouns_split.drop('temp', axis=1)\n",
    "nouns_split"
   ],
   "metadata": {
    "collapsed": false
   }
  },
  {
   "cell_type": "code",
   "execution_count": 18,
   "outputs": [
    {
     "data": {
      "text/plain": "             noun\n1              交通\n1              房间\n1              面积\n1              布局\n1              感觉\n...           ...\n317315        大方面\n317318  DorisFeng\n317322        热水浴\n317327        布草篓\n317327         草篓\n\n[35468 rows x 1 columns]",
      "text/html": "<div>\n<style scoped>\n    .dataframe tbody tr th:only-of-type {\n        vertical-align: middle;\n    }\n\n    .dataframe tbody tr th {\n        vertical-align: top;\n    }\n\n    .dataframe thead th {\n        text-align: right;\n    }\n</style>\n<table border=\"1\" class=\"dataframe\">\n  <thead>\n    <tr style=\"text-align: right;\">\n      <th></th>\n      <th>noun</th>\n    </tr>\n  </thead>\n  <tbody>\n    <tr>\n      <th>1</th>\n      <td>交通</td>\n    </tr>\n    <tr>\n      <th>1</th>\n      <td>房间</td>\n    </tr>\n    <tr>\n      <th>1</th>\n      <td>面积</td>\n    </tr>\n    <tr>\n      <th>1</th>\n      <td>布局</td>\n    </tr>\n    <tr>\n      <th>1</th>\n      <td>感觉</td>\n    </tr>\n    <tr>\n      <th>...</th>\n      <td>...</td>\n    </tr>\n    <tr>\n      <th>317315</th>\n      <td>大方面</td>\n    </tr>\n    <tr>\n      <th>317318</th>\n      <td>DorisFeng</td>\n    </tr>\n    <tr>\n      <th>317322</th>\n      <td>热水浴</td>\n    </tr>\n    <tr>\n      <th>317327</th>\n      <td>布草篓</td>\n    </tr>\n    <tr>\n      <th>317327</th>\n      <td>草篓</td>\n    </tr>\n  </tbody>\n</table>\n<p>35468 rows × 1 columns</p>\n</div>"
     },
     "execution_count": 18,
     "metadata": {},
     "output_type": "execute_result"
    }
   ],
   "source": [
    "nouns_split = nouns_split.drop_duplicates(subset='noun')\n",
    "nouns_split"
   ],
   "metadata": {
    "collapsed": false
   }
  },
  {
   "cell_type": "code",
   "execution_count": 19,
   "outputs": [
    {
     "data": {
      "text/plain": "         noun\n1          交通\n1          房间\n1          面积\n1          布局\n1          感觉\n...       ...\n315038  youmi\n315076     自助\n315101    超级美\n315179  jimmy\n316645     不错\n\n[5391 rows x 1 columns]",
      "text/html": "<div>\n<style scoped>\n    .dataframe tbody tr th:only-of-type {\n        vertical-align: middle;\n    }\n\n    .dataframe tbody tr th {\n        vertical-align: top;\n    }\n\n    .dataframe thead th {\n        text-align: right;\n    }\n</style>\n<table border=\"1\" class=\"dataframe\">\n  <thead>\n    <tr style=\"text-align: right;\">\n      <th></th>\n      <th>noun</th>\n    </tr>\n  </thead>\n  <tbody>\n    <tr>\n      <th>1</th>\n      <td>交通</td>\n    </tr>\n    <tr>\n      <th>1</th>\n      <td>房间</td>\n    </tr>\n    <tr>\n      <th>1</th>\n      <td>面积</td>\n    </tr>\n    <tr>\n      <th>1</th>\n      <td>布局</td>\n    </tr>\n    <tr>\n      <th>1</th>\n      <td>感觉</td>\n    </tr>\n    <tr>\n      <th>...</th>\n      <td>...</td>\n    </tr>\n    <tr>\n      <th>315038</th>\n      <td>youmi</td>\n    </tr>\n    <tr>\n      <th>315076</th>\n      <td>自助</td>\n    </tr>\n    <tr>\n      <th>315101</th>\n      <td>超级美</td>\n    </tr>\n    <tr>\n      <th>315179</th>\n      <td>jimmy</td>\n    </tr>\n    <tr>\n      <th>316645</th>\n      <td>不错</td>\n    </tr>\n  </tbody>\n</table>\n<p>5391 rows × 1 columns</p>\n</div>"
     },
     "execution_count": 19,
     "metadata": {},
     "output_type": "execute_result"
    }
   ],
   "source": [
    "nouns_split = nouns_split[nouns_split['noun'].apply(lambda x: x in cbow200.wv.index_to_key)]\n",
    "nouns_split"
   ],
   "metadata": {
    "collapsed": false
   }
  },
  {
   "cell_type": "code",
   "execution_count": 20,
   "outputs": [
    {
     "name": "stderr",
     "output_type": "stream",
     "text": [
      "C:\\Users\\62774\\AppData\\Local\\Temp\\ipykernel_46232\\3093000328.py:1: SettingWithCopyWarning: \n",
      "A value is trying to be set on a copy of a slice from a DataFrame.\n",
      "Try using .loc[row_indexer,col_indexer] = value instead\n",
      "\n",
      "See the caveats in the documentation: https://pandas.pydata.org/pandas-docs/stable/user_guide/indexing.html#returning-a-view-versus-a-copy\n",
      "  nouns_split['CBOW200'], nouns_split['CBOW300'], nouns_split['SG200'], nouns_split['SG300'] = nouns_split['noun'].apply(\n",
      "C:\\Users\\62774\\AppData\\Local\\Temp\\ipykernel_46232\\3093000328.py:1: SettingWithCopyWarning: \n",
      "A value is trying to be set on a copy of a slice from a DataFrame.\n",
      "Try using .loc[row_indexer,col_indexer] = value instead\n",
      "\n",
      "See the caveats in the documentation: https://pandas.pydata.org/pandas-docs/stable/user_guide/indexing.html#returning-a-view-versus-a-copy\n",
      "  nouns_split['CBOW200'], nouns_split['CBOW300'], nouns_split['SG200'], nouns_split['SG300'] = nouns_split['noun'].apply(\n",
      "C:\\Users\\62774\\AppData\\Local\\Temp\\ipykernel_46232\\3093000328.py:1: SettingWithCopyWarning: \n",
      "A value is trying to be set on a copy of a slice from a DataFrame.\n",
      "Try using .loc[row_indexer,col_indexer] = value instead\n",
      "\n",
      "See the caveats in the documentation: https://pandas.pydata.org/pandas-docs/stable/user_guide/indexing.html#returning-a-view-versus-a-copy\n",
      "  nouns_split['CBOW200'], nouns_split['CBOW300'], nouns_split['SG200'], nouns_split['SG300'] = nouns_split['noun'].apply(\n",
      "C:\\Users\\62774\\AppData\\Local\\Temp\\ipykernel_46232\\3093000328.py:1: SettingWithCopyWarning: \n",
      "A value is trying to be set on a copy of a slice from a DataFrame.\n",
      "Try using .loc[row_indexer,col_indexer] = value instead\n",
      "\n",
      "See the caveats in the documentation: https://pandas.pydata.org/pandas-docs/stable/user_guide/indexing.html#returning-a-view-versus-a-copy\n",
      "  nouns_split['CBOW200'], nouns_split['CBOW300'], nouns_split['SG200'], nouns_split['SG300'] = nouns_split['noun'].apply(\n"
     ]
    },
    {
     "data": {
      "text/plain": "         noun                                            CBOW200  \\\n1          交通  [-0.050561626, -0.9759418, -1.5483745, -1.8407...   \n1          房间  [-0.031909164, 0.3899913, 1.0132126, -1.425750...   \n1          面积  [0.7174339, -0.9428221, 0.22624001, -1.3619328...   \n1          布局  [0.2713456, -1.182365, -1.7167703, 0.26170385,...   \n1          感觉  [0.2457533, 1.0932683, -1.6956131, 0.4388076, ...   \n...       ...                                                ...   \n315038  youmi  [0.04187683, 0.06646834, -0.1084002, 0.2328204...   \n315076     自助  [0.3470667, 1.4210833, 0.5270905, -0.5990147, ...   \n315101    超级美  [-0.0143113, -0.07414198, -0.038704585, 0.1047...   \n315179  jimmy  [0.22444893, 0.010310387, -0.07107692, 0.04620...   \n316645     不错  [-0.1646055, -0.2776423, 0.9253284, -1.3088748...   \n\n                                                  CBOW300  \\\n1       [0.097022146, 0.42395657, 0.26199296, -2.06501...   \n1       [-0.25134522, 0.36970958, 0.6368208, 0.9375543...   \n1       [0.5278448, -0.3152687, 0.16640957, 0.6674489,...   \n1       [-1.1609473, 0.29655832, 0.19355722, -0.021184...   \n1       [0.27685952, 0.7043077, -0.5696909, -0.4400635...   \n...                                                   ...   \n315038  [-0.03475233, 0.019075966, -0.0027406274, 0.08...   \n315076  [-0.47253254, 0.8877535, -0.5667068, 0.6591098...   \n315101  [-0.04066906, 0.039291482, -0.004491118, 0.052...   \n315179  [-0.06403658, 0.07064998, -0.053200148, 0.1360...   \n316645  [-0.4713384, -0.33410466, 0.38664937, 0.032802...   \n\n                                                    SG200  \\\n1       [-0.018583031, -0.3609154, -0.2835309, -0.1042...   \n1       [-0.03873842, 0.026899215, -0.1594038, 0.00547...   \n1       [0.06821936, -0.080846444, 0.23748124, 0.01198...   \n1       [0.31142768, -0.012403099, -0.5514365, 0.34631...   \n1       [-0.01747271, -0.039710086, -0.43408865, 0.366...   \n...                                                   ...   \n315038  [0.26951817, -0.0507759, -0.017128738, 0.26512...   \n315076  [0.07618035, 0.28317118, 0.07042633, 0.1730002...   \n315101  [0.008505954, -0.17144787, -0.16605254, 0.1409...   \n315179  [0.28242016, 0.035134543, -0.021079518, 0.2242...   \n316645  [-0.26148164, -0.42798555, -0.16138226, 0.0080...   \n\n                                                    SG300  \n1       [0.21993797, 0.046500497, -0.055135075, -0.070...  \n1       [0.06371556, 0.04728781, -0.05053616, 0.003713...  \n1       [0.20972791, -0.042010482, -0.0478752, -0.1011...  \n1       [0.13234223, 0.22913116, -0.072635025, -0.2444...  \n1       [0.121465825, 0.3238141, -0.04392792, -0.10625...  \n...                                                   ...  \n315038  [-0.027706262, 0.19023928, 0.04426704, 0.11324...  \n315076  [0.0019652115, 0.44238743, -0.1374434, 0.39298...  \n315101  [0.026885116, 0.09179039, -0.055739995, 0.1621...  \n315179  [-0.049971294, 0.13208622, -0.04111094, 0.0915...  \n316645  [0.07611687, -0.0074877026, -0.22098504, 0.009...  \n\n[5391 rows x 5 columns]",
      "text/html": "<div>\n<style scoped>\n    .dataframe tbody tr th:only-of-type {\n        vertical-align: middle;\n    }\n\n    .dataframe tbody tr th {\n        vertical-align: top;\n    }\n\n    .dataframe thead th {\n        text-align: right;\n    }\n</style>\n<table border=\"1\" class=\"dataframe\">\n  <thead>\n    <tr style=\"text-align: right;\">\n      <th></th>\n      <th>noun</th>\n      <th>CBOW200</th>\n      <th>CBOW300</th>\n      <th>SG200</th>\n      <th>SG300</th>\n    </tr>\n  </thead>\n  <tbody>\n    <tr>\n      <th>1</th>\n      <td>交通</td>\n      <td>[-0.050561626, -0.9759418, -1.5483745, -1.8407...</td>\n      <td>[0.097022146, 0.42395657, 0.26199296, -2.06501...</td>\n      <td>[-0.018583031, -0.3609154, -0.2835309, -0.1042...</td>\n      <td>[0.21993797, 0.046500497, -0.055135075, -0.070...</td>\n    </tr>\n    <tr>\n      <th>1</th>\n      <td>房间</td>\n      <td>[-0.031909164, 0.3899913, 1.0132126, -1.425750...</td>\n      <td>[-0.25134522, 0.36970958, 0.6368208, 0.9375543...</td>\n      <td>[-0.03873842, 0.026899215, -0.1594038, 0.00547...</td>\n      <td>[0.06371556, 0.04728781, -0.05053616, 0.003713...</td>\n    </tr>\n    <tr>\n      <th>1</th>\n      <td>面积</td>\n      <td>[0.7174339, -0.9428221, 0.22624001, -1.3619328...</td>\n      <td>[0.5278448, -0.3152687, 0.16640957, 0.6674489,...</td>\n      <td>[0.06821936, -0.080846444, 0.23748124, 0.01198...</td>\n      <td>[0.20972791, -0.042010482, -0.0478752, -0.1011...</td>\n    </tr>\n    <tr>\n      <th>1</th>\n      <td>布局</td>\n      <td>[0.2713456, -1.182365, -1.7167703, 0.26170385,...</td>\n      <td>[-1.1609473, 0.29655832, 0.19355722, -0.021184...</td>\n      <td>[0.31142768, -0.012403099, -0.5514365, 0.34631...</td>\n      <td>[0.13234223, 0.22913116, -0.072635025, -0.2444...</td>\n    </tr>\n    <tr>\n      <th>1</th>\n      <td>感觉</td>\n      <td>[0.2457533, 1.0932683, -1.6956131, 0.4388076, ...</td>\n      <td>[0.27685952, 0.7043077, -0.5696909, -0.4400635...</td>\n      <td>[-0.01747271, -0.039710086, -0.43408865, 0.366...</td>\n      <td>[0.121465825, 0.3238141, -0.04392792, -0.10625...</td>\n    </tr>\n    <tr>\n      <th>...</th>\n      <td>...</td>\n      <td>...</td>\n      <td>...</td>\n      <td>...</td>\n      <td>...</td>\n    </tr>\n    <tr>\n      <th>315038</th>\n      <td>youmi</td>\n      <td>[0.04187683, 0.06646834, -0.1084002, 0.2328204...</td>\n      <td>[-0.03475233, 0.019075966, -0.0027406274, 0.08...</td>\n      <td>[0.26951817, -0.0507759, -0.017128738, 0.26512...</td>\n      <td>[-0.027706262, 0.19023928, 0.04426704, 0.11324...</td>\n    </tr>\n    <tr>\n      <th>315076</th>\n      <td>自助</td>\n      <td>[0.3470667, 1.4210833, 0.5270905, -0.5990147, ...</td>\n      <td>[-0.47253254, 0.8877535, -0.5667068, 0.6591098...</td>\n      <td>[0.07618035, 0.28317118, 0.07042633, 0.1730002...</td>\n      <td>[0.0019652115, 0.44238743, -0.1374434, 0.39298...</td>\n    </tr>\n    <tr>\n      <th>315101</th>\n      <td>超级美</td>\n      <td>[-0.0143113, -0.07414198, -0.038704585, 0.1047...</td>\n      <td>[-0.04066906, 0.039291482, -0.004491118, 0.052...</td>\n      <td>[0.008505954, -0.17144787, -0.16605254, 0.1409...</td>\n      <td>[0.026885116, 0.09179039, -0.055739995, 0.1621...</td>\n    </tr>\n    <tr>\n      <th>315179</th>\n      <td>jimmy</td>\n      <td>[0.22444893, 0.010310387, -0.07107692, 0.04620...</td>\n      <td>[-0.06403658, 0.07064998, -0.053200148, 0.1360...</td>\n      <td>[0.28242016, 0.035134543, -0.021079518, 0.2242...</td>\n      <td>[-0.049971294, 0.13208622, -0.04111094, 0.0915...</td>\n    </tr>\n    <tr>\n      <th>316645</th>\n      <td>不错</td>\n      <td>[-0.1646055, -0.2776423, 0.9253284, -1.3088748...</td>\n      <td>[-0.4713384, -0.33410466, 0.38664937, 0.032802...</td>\n      <td>[-0.26148164, -0.42798555, -0.16138226, 0.0080...</td>\n      <td>[0.07611687, -0.0074877026, -0.22098504, 0.009...</td>\n    </tr>\n  </tbody>\n</table>\n<p>5391 rows × 5 columns</p>\n</div>"
     },
     "execution_count": 20,
     "metadata": {},
     "output_type": "execute_result"
    }
   ],
   "source": [
    "nouns_split['CBOW200'], nouns_split['CBOW300'], nouns_split['SG200'], nouns_split['SG300'] = nouns_split['noun'].apply(\n",
    "    lambda x: cbow200.wv[x]), nouns_split['noun'].apply(lambda x: cbow300.wv[x]), nouns_split['noun'].apply(\n",
    "    lambda x: sg200.wv[x]), nouns_split['noun'].apply(lambda x: sg300.wv[x])\n",
    "nouns_split"
   ],
   "metadata": {
    "collapsed": false
   }
  },
  {
   "cell_type": "code",
   "execution_count": 21,
   "outputs": [
    {
     "name": "stderr",
     "output_type": "stream",
     "text": [
      "C:\\Users\\62774\\AppData\\Local\\Temp\\ipykernel_46232\\939353274.py:1: SettingWithCopyWarning: \n",
      "A value is trying to be set on a copy of a slice from a DataFrame.\n",
      "Try using .loc[row_indexer,col_indexer] = value instead\n",
      "\n",
      "See the caveats in the documentation: https://pandas.pydata.org/pandas-docs/stable/user_guide/indexing.html#returning-a-view-versus-a-copy\n",
      "  nouns_split['CBOW200'], nouns_split['CBOW300'], nouns_split['SG200'], nouns_split['SG300'] = nouns_split[\n"
     ]
    },
    {
     "data": {
      "text/plain": "         noun                                            CBOW200  \\\n1          交通  -0.050561626 -0.9759418 -1.5483745 -1.8407534 ...   \n1          房间  -0.031909164 0.3899913 1.0132126 -1.4257503 -0...   \n1          面积  0.7174339 -0.9428221 0.22624001 -1.3619328 -1....   \n1          布局  0.2713456 -1.182365 -1.7167703 0.26170385 0.13...   \n1          感觉  0.2457533 1.0932683 -1.6956131 0.4388076 -0.94...   \n...       ...                                                ...   \n315038  youmi  0.04187683 0.06646834 -0.1084002 0.23282048 0....   \n315076     自助  0.3470667 1.4210833 0.5270905 -0.5990147 -0.45...   \n315101    超级美  -0.0143113 -0.07414198 -0.038704585 0.10474193...   \n315179  jimmy  0.22444893 0.010310387 -0.07107692 0.046203893...   \n316645     不错  -0.1646055 -0.2776423 0.9253284 -1.3088748 0.2...   \n\n                                                  CBOW300  \\\n1       0.097022146 0.42395657 0.26199296 -2.065011 1....   \n1       -0.25134522 0.36970958 0.6368208 0.93755436 0....   \n1       0.5278448 -0.3152687 0.16640957 0.6674489 -0.0...   \n1       -1.1609473 0.29655832 0.19355722 -0.021184197 ...   \n1       0.27685952 0.7043077 -0.5696909 -0.44006354 -0...   \n...                                                   ...   \n315038  -0.03475233 0.019075966 -0.0027406274 0.088761...   \n315076  -0.47253254 0.8877535 -0.5667068 0.65910983 0....   \n315101  -0.04066906 0.039291482 -0.004491118 0.0528335...   \n315179  -0.06403658 0.07064998 -0.053200148 0.13607761...   \n316645  -0.4713384 -0.33410466 0.38664937 0.032802075 ...   \n\n                                                    SG200  \\\n1       -0.018583031 -0.3609154 -0.2835309 -0.10423219...   \n1       -0.03873842 0.026899215 -0.1594038 0.005476634...   \n1       0.06821936 -0.080846444 0.23748124 0.011981971...   \n1       0.31142768 -0.012403099 -0.5514365 0.3463126 -...   \n1       -0.01747271 -0.039710086 -0.43408865 0.3661741...   \n...                                                   ...   \n315038  0.26951817 -0.0507759 -0.017128738 0.26512998 ...   \n315076  0.07618035 0.28317118 0.07042633 0.17300023 0....   \n315101  0.008505954 -0.17144787 -0.16605254 0.1409288 ...   \n315179  0.28242016 0.035134543 -0.021079518 0.22427133...   \n316645  -0.26148164 -0.42798555 -0.16138226 0.00805316...   \n\n                                                    SG300  \n1       0.21993797 0.046500497 -0.055135075 -0.0701537...  \n1       0.06371556 0.04728781 -0.05053616 0.0037139873...  \n1       0.20972791 -0.042010482 -0.0478752 -0.10115605...  \n1       0.13234223 0.22913116 -0.072635025 -0.2444595 ...  \n1       0.121465825 0.3238141 -0.04392792 -0.10625921 ...  \n...                                                   ...  \n315038  -0.027706262 0.19023928 0.04426704 0.11324805 ...  \n315076  0.0019652115 0.44238743 -0.1374434 0.39298704 ...  \n315101  0.026885116 0.09179039 -0.055739995 0.16217597...  \n315179  -0.049971294 0.13208622 -0.04111094 0.09154458...  \n316645  0.07611687 -0.0074877026 -0.22098504 0.0095999...  \n\n[5391 rows x 5 columns]",
      "text/html": "<div>\n<style scoped>\n    .dataframe tbody tr th:only-of-type {\n        vertical-align: middle;\n    }\n\n    .dataframe tbody tr th {\n        vertical-align: top;\n    }\n\n    .dataframe thead th {\n        text-align: right;\n    }\n</style>\n<table border=\"1\" class=\"dataframe\">\n  <thead>\n    <tr style=\"text-align: right;\">\n      <th></th>\n      <th>noun</th>\n      <th>CBOW200</th>\n      <th>CBOW300</th>\n      <th>SG200</th>\n      <th>SG300</th>\n    </tr>\n  </thead>\n  <tbody>\n    <tr>\n      <th>1</th>\n      <td>交通</td>\n      <td>-0.050561626 -0.9759418 -1.5483745 -1.8407534 ...</td>\n      <td>0.097022146 0.42395657 0.26199296 -2.065011 1....</td>\n      <td>-0.018583031 -0.3609154 -0.2835309 -0.10423219...</td>\n      <td>0.21993797 0.046500497 -0.055135075 -0.0701537...</td>\n    </tr>\n    <tr>\n      <th>1</th>\n      <td>房间</td>\n      <td>-0.031909164 0.3899913 1.0132126 -1.4257503 -0...</td>\n      <td>-0.25134522 0.36970958 0.6368208 0.93755436 0....</td>\n      <td>-0.03873842 0.026899215 -0.1594038 0.005476634...</td>\n      <td>0.06371556 0.04728781 -0.05053616 0.0037139873...</td>\n    </tr>\n    <tr>\n      <th>1</th>\n      <td>面积</td>\n      <td>0.7174339 -0.9428221 0.22624001 -1.3619328 -1....</td>\n      <td>0.5278448 -0.3152687 0.16640957 0.6674489 -0.0...</td>\n      <td>0.06821936 -0.080846444 0.23748124 0.011981971...</td>\n      <td>0.20972791 -0.042010482 -0.0478752 -0.10115605...</td>\n    </tr>\n    <tr>\n      <th>1</th>\n      <td>布局</td>\n      <td>0.2713456 -1.182365 -1.7167703 0.26170385 0.13...</td>\n      <td>-1.1609473 0.29655832 0.19355722 -0.021184197 ...</td>\n      <td>0.31142768 -0.012403099 -0.5514365 0.3463126 -...</td>\n      <td>0.13234223 0.22913116 -0.072635025 -0.2444595 ...</td>\n    </tr>\n    <tr>\n      <th>1</th>\n      <td>感觉</td>\n      <td>0.2457533 1.0932683 -1.6956131 0.4388076 -0.94...</td>\n      <td>0.27685952 0.7043077 -0.5696909 -0.44006354 -0...</td>\n      <td>-0.01747271 -0.039710086 -0.43408865 0.3661741...</td>\n      <td>0.121465825 0.3238141 -0.04392792 -0.10625921 ...</td>\n    </tr>\n    <tr>\n      <th>...</th>\n      <td>...</td>\n      <td>...</td>\n      <td>...</td>\n      <td>...</td>\n      <td>...</td>\n    </tr>\n    <tr>\n      <th>315038</th>\n      <td>youmi</td>\n      <td>0.04187683 0.06646834 -0.1084002 0.23282048 0....</td>\n      <td>-0.03475233 0.019075966 -0.0027406274 0.088761...</td>\n      <td>0.26951817 -0.0507759 -0.017128738 0.26512998 ...</td>\n      <td>-0.027706262 0.19023928 0.04426704 0.11324805 ...</td>\n    </tr>\n    <tr>\n      <th>315076</th>\n      <td>自助</td>\n      <td>0.3470667 1.4210833 0.5270905 -0.5990147 -0.45...</td>\n      <td>-0.47253254 0.8877535 -0.5667068 0.65910983 0....</td>\n      <td>0.07618035 0.28317118 0.07042633 0.17300023 0....</td>\n      <td>0.0019652115 0.44238743 -0.1374434 0.39298704 ...</td>\n    </tr>\n    <tr>\n      <th>315101</th>\n      <td>超级美</td>\n      <td>-0.0143113 -0.07414198 -0.038704585 0.10474193...</td>\n      <td>-0.04066906 0.039291482 -0.004491118 0.0528335...</td>\n      <td>0.008505954 -0.17144787 -0.16605254 0.1409288 ...</td>\n      <td>0.026885116 0.09179039 -0.055739995 0.16217597...</td>\n    </tr>\n    <tr>\n      <th>315179</th>\n      <td>jimmy</td>\n      <td>0.22444893 0.010310387 -0.07107692 0.046203893...</td>\n      <td>-0.06403658 0.07064998 -0.053200148 0.13607761...</td>\n      <td>0.28242016 0.035134543 -0.021079518 0.22427133...</td>\n      <td>-0.049971294 0.13208622 -0.04111094 0.09154458...</td>\n    </tr>\n    <tr>\n      <th>316645</th>\n      <td>不错</td>\n      <td>-0.1646055 -0.2776423 0.9253284 -1.3088748 0.2...</td>\n      <td>-0.4713384 -0.33410466 0.38664937 0.032802075 ...</td>\n      <td>-0.26148164 -0.42798555 -0.16138226 0.00805316...</td>\n      <td>0.07611687 -0.0074877026 -0.22098504 0.0095999...</td>\n    </tr>\n  </tbody>\n</table>\n<p>5391 rows × 5 columns</p>\n</div>"
     },
     "execution_count": 21,
     "metadata": {},
     "output_type": "execute_result"
    }
   ],
   "source": [
    "nouns_split['CBOW200'], nouns_split['CBOW300'], nouns_split['SG200'], nouns_split['SG300'] = nouns_split[\n",
    "                                                                                                 'CBOW200'].apply(\n",
    "    lambda x: ' '.join([str(number) for number in x])), nouns_split['CBOW300'].apply(\n",
    "    lambda x: ' '.join([str(number) for number in x])), nouns_split['SG200'].apply(\n",
    "    lambda x: ' '.join([str(number) for number in x])), nouns_split['SG300'].apply(\n",
    "    lambda x: ' '.join([str(number) for number in x]))\n",
    "nouns_split"
   ],
   "metadata": {
    "collapsed": false
   }
  },
  {
   "cell_type": "code",
   "execution_count": 22,
   "outputs": [],
   "source": [
    "nouns_split.to_excel('../data/word2vec_min_count_10.xlsx', index=False)"
   ],
   "metadata": {
    "collapsed": false
   }
  },
  {
   "cell_type": "code",
   "execution_count": 23,
   "outputs": [
    {
     "data": {
      "text/plain": "12274"
     },
     "execution_count": 23,
     "metadata": {},
     "output_type": "execute_result"
    }
   ],
   "source": [
    "len(cbow200.wv.index_to_key)"
   ],
   "metadata": {
    "collapsed": false
   }
  },
  {
   "cell_type": "code",
   "execution_count": 23,
   "outputs": [],
   "source": [],
   "metadata": {
    "collapsed": false
   }
  }
 ],
 "metadata": {
  "kernelspec": {
   "display_name": "Python 3",
   "language": "python",
   "name": "python3"
  },
  "language_info": {
   "codemirror_mode": {
    "name": "ipython",
    "version": 2
   },
   "file_extension": ".py",
   "mimetype": "text/x-python",
   "name": "python",
   "nbconvert_exporter": "python",
   "pygments_lexer": "ipython2",
   "version": "2.7.6"
  }
 },
 "nbformat": 4,
 "nbformat_minor": 0
}
