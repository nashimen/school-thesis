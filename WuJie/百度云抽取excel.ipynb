{
 "cells": [
  {
   "cell_type": "code",
   "execution_count": 1,
   "metadata": {},
   "outputs": [],
   "source": [
    "import pandas as pd\n",
    "from aip import AipNlp"
   ]
  },
  {
   "cell_type": "code",
   "execution_count": 2,
   "metadata": {},
   "outputs": [],
   "source": [
    "\"\"\" 你的 APPID AK SK \"\"\"\n",
    "APP_ID = '23894254'\n",
    "API_KEY = 'cGjPl9Y96drYmhlM1aDgdtgV'\n",
    "SECRET_KEY = 'i2UgIgvnyKvo2PEoT9dv89I3dh8QDuSS'\n",
    "client = AipNlp(APP_ID, API_KEY, SECRET_KEY)"
   ]
  },
  {
   "cell_type": "code",
   "execution_count": 3,
   "metadata": {},
   "outputs": [],
   "source": [
    "options = {}\n",
    "options[\"type\"] = 4"
   ]
  },
  {
   "cell_type": "code",
   "execution_count": 4,
   "metadata": {},
   "outputs": [],
   "source": [
    "filepath='predict_restaurant_chunla.xlsx'"
   ]
  },
  {
   "cell_type": "code",
   "execution_count": 6,
   "metadata": {},
   "outputs": [],
   "source": [
    "data=pd.read_excel(filepath)"
   ]
  },
  {
   "cell_type": "code",
   "execution_count": 7,
   "metadata": {},
   "outputs": [
    {
     "data": {
      "text/html": [
       "<div>\n",
       "<style scoped>\n",
       "    .dataframe tbody tr th:only-of-type {\n",
       "        vertical-align: middle;\n",
       "    }\n",
       "\n",
       "    .dataframe tbody tr th {\n",
       "        vertical-align: top;\n",
       "    }\n",
       "\n",
       "    .dataframe thead th {\n",
       "        text-align: right;\n",
       "    }\n",
       "</style>\n",
       "<table border=\"1\" class=\"dataframe\">\n",
       "  <thead>\n",
       "    <tr style=\"text-align: right;\">\n",
       "      <th></th>\n",
       "      <th>ID</th>\n",
       "      <th>Reviews</th>\n",
       "      <th>location</th>\n",
       "      <th>service</th>\n",
       "      <th>price</th>\n",
       "      <th>environment</th>\n",
       "      <th>dish</th>\n",
       "    </tr>\n",
       "  </thead>\n",
       "  <tbody>\n",
       "    <tr>\n",
       "      <td>0</td>\n",
       "      <td>3</td>\n",
       "      <td>一方国际新开的火锅店，位置挺好找的，店内装修也可以！整体菜价稍微有点儿高，菜品种类很多，整体...</td>\n",
       "      <td>Positive</td>\n",
       "      <td>Positive</td>\n",
       "      <td>Negative</td>\n",
       "      <td>Positive</td>\n",
       "      <td>Positive</td>\n",
       "    </tr>\n",
       "    <tr>\n",
       "      <td>1</td>\n",
       "      <td>5</td>\n",
       "      <td>性价比较低，自助小料价格较高，整体感觉偏贵</td>\n",
       "      <td>Not Mentioned</td>\n",
       "      <td>Not Mentioned</td>\n",
       "      <td>Negative</td>\n",
       "      <td>Not Mentioned</td>\n",
       "      <td>Not Mentioned</td>\n",
       "    </tr>\n",
       "    <tr>\n",
       "      <td>2</td>\n",
       "      <td>6</td>\n",
       "      <td>服务水平极其不敢恭维，服务员问啥啥不知道，外面两台街机不错</td>\n",
       "      <td>Not Mentioned</td>\n",
       "      <td>Negative</td>\n",
       "      <td>Not Mentioned</td>\n",
       "      <td>Not Mentioned</td>\n",
       "      <td>Not Mentioned</td>\n",
       "    </tr>\n",
       "    <tr>\n",
       "      <td>3</td>\n",
       "      <td>7</td>\n",
       "      <td>总体不怎么样吧.消费高.肉很一般.</td>\n",
       "      <td>Not Mentioned</td>\n",
       "      <td>Not Mentioned</td>\n",
       "      <td>Negative</td>\n",
       "      <td>Not Mentioned</td>\n",
       "      <td>Neutral</td>\n",
       "    </tr>\n",
       "    <tr>\n",
       "      <td>4</td>\n",
       "      <td>11</td>\n",
       "      <td>还可以吧。量有点少。小贵。味道可以。</td>\n",
       "      <td>Not Mentioned</td>\n",
       "      <td>Not Mentioned</td>\n",
       "      <td>Negative</td>\n",
       "      <td>Not Mentioned</td>\n",
       "      <td>Negative</td>\n",
       "    </tr>\n",
       "  </tbody>\n",
       "</table>\n",
       "</div>"
      ],
      "text/plain": [
       "   ID                                            Reviews       location  \\\n",
       "0   3  一方国际新开的火锅店，位置挺好找的，店内装修也可以！整体菜价稍微有点儿高，菜品种类很多，整体...       Positive   \n",
       "1   5                              性价比较低，自助小料价格较高，整体感觉偏贵  Not Mentioned   \n",
       "2   6                      服务水平极其不敢恭维，服务员问啥啥不知道，外面两台街机不错  Not Mentioned   \n",
       "3   7                                  总体不怎么样吧.消费高.肉很一般.  Not Mentioned   \n",
       "4  11                                 还可以吧。量有点少。小贵。味道可以。  Not Mentioned   \n",
       "\n",
       "         service          price    environment           dish  \n",
       "0       Positive       Negative       Positive       Positive  \n",
       "1  Not Mentioned       Negative  Not Mentioned  Not Mentioned  \n",
       "2       Negative  Not Mentioned  Not Mentioned  Not Mentioned  \n",
       "3  Not Mentioned       Negative  Not Mentioned        Neutral  \n",
       "4  Not Mentioned       Negative  Not Mentioned       Negative  "
      ]
     },
     "execution_count": 7,
     "metadata": {},
     "output_type": "execute_result"
    }
   ],
   "source": [
    "data.head()"
   ]
  },
  {
   "cell_type": "code",
   "execution_count": 35,
   "metadata": {},
   "outputs": [],
   "source": [
    "text=data['Reviews']"
   ]
  },
  {
   "cell_type": "code",
   "execution_count": 37,
   "metadata": {},
   "outputs": [
    {
     "data": {
      "text/plain": [
       "0    一方国际新开的火锅店，位置挺好找的，店内装修也可以！整体菜价稍微有点儿高，菜品种类很多，整体...\n",
       "1                                性价比较低，自助小料价格较高，整体感觉偏贵\n",
       "2                        服务水平极其不敢恭维，服务员问啥啥不知道，外面两台街机不错\n",
       "3                                    总体不怎么样吧.消费高.肉很一般.\n",
       "4                                   还可以吧。量有点少。小贵。味道可以。\n",
       "Name: Reviews, dtype: object"
      ]
     },
     "execution_count": 37,
     "metadata": {},
     "output_type": "execute_result"
    }
   ],
   "source": [
    "text.head(5)"
   ]
  },
  {
   "cell_type": "code",
   "execution_count": 38,
   "metadata": {},
   "outputs": [
    {
     "data": {
      "text/plain": [
       "'还可以吧。量有点少。小贵。味道可以。'"
      ]
     },
     "execution_count": 38,
     "metadata": {},
     "output_type": "execute_result"
    }
   ],
   "source": [
    "text[4]"
   ]
  },
  {
   "cell_type": "code",
   "execution_count": 39,
   "metadata": {},
   "outputs": [
    {
     "data": {
      "text/plain": [
       "{'log_id': 4860765872801174942, 'items': []}"
      ]
     },
     "execution_count": 39,
     "metadata": {},
     "output_type": "execute_result"
    }
   ],
   "source": [
    "client.commentTag(text[12],options)"
   ]
  },
  {
   "cell_type": "code",
   "execution_count": 41,
   "metadata": {},
   "outputs": [
    {
     "data": {
      "text/plain": [
       "[]"
      ]
     },
     "execution_count": 41,
     "metadata": {},
     "output_type": "execute_result"
    }
   ],
   "source": [
    "res=[]\n",
    "for ch in client.commentTag(text[12],options)['items']:\n",
    "    res.append(str(ch['prop'])+':'+str(ch['adj']))\n",
    "res"
   ]
  },
  {
   "cell_type": "code",
   "execution_count": 42,
   "metadata": {},
   "outputs": [
    {
     "data": {
      "text/plain": [
       "['体验:差']"
      ]
     },
     "execution_count": 42,
     "metadata": {},
     "output_type": "execute_result"
    }
   ],
   "source": [
    "res=[]\n",
    "for ch in client.commentTag(text[14],options)['items']:\n",
    "    res.append(str(ch['prop'])+':'+str(ch['adj']))\n",
    "res"
   ]
  },
  {
   "cell_type": "code",
   "execution_count": 44,
   "metadata": {},
   "outputs": [
    {
     "name": "stdout",
     "output_type": "stream",
     "text": [
      "KeyError:'items'\n",
      "4\n",
      "KeyError:'items'\n",
      "9\n",
      "KeyError:'items'\n",
      "12\n",
      "KeyError:'items'\n",
      "20\n",
      "KeyError:'items'\n",
      "25\n",
      "KeyError:'items'\n",
      "30\n",
      "KeyError:'items'\n",
      "33\n",
      "KeyError:'items'\n",
      "36\n",
      "KeyError:'items'\n",
      "46\n",
      "KeyError:'items'\n",
      "49\n",
      "KeyError:'items'\n",
      "52\n",
      "KeyError:'items'\n",
      "57\n",
      "KeyError:'items'\n",
      "60\n",
      "KeyError:'items'\n",
      "65\n",
      "KeyError:'items'\n",
      "68\n",
      "KeyError:'items'\n",
      "73\n",
      "KeyError:'items'\n",
      "78\n",
      "KeyError:'items'\n",
      "82\n"
     ]
    }
   ],
   "source": [
    "ans=[]\n",
    "for i in range(83):\n",
    "    try:\n",
    "        res=[]\n",
    "        for ch in client.commentTag(text[i],options)['items']:\n",
    "            res.append(str(ch['prop'])+':'+str(ch['adj']))\n",
    "        ans.append(res)\n",
    "    except KeyError as e:\n",
    "        print('KeyError:'+str(e))\n",
    "        print(i)\n",
    "        pass"
   ]
  },
  {
   "cell_type": "code",
   "execution_count": 46,
   "metadata": {},
   "outputs": [
    {
     "data": {
      "text/plain": [
       "['态度:不好', '态度:强硬', '服务态度:差', '态度:差']"
      ]
     },
     "execution_count": 46,
     "metadata": {},
     "output_type": "execute_result"
    }
   ],
   "source": [
    "res=[]\n",
    "for ch in client.commentTag(text[82],options)['items']:\n",
    "    res.append(str(ch['prop'])+':'+str(ch['adj']))\n",
    "res"
   ]
  },
  {
   "cell_type": "code",
   "execution_count": 45,
   "metadata": {},
   "outputs": [
    {
     "data": {
      "text/plain": [
       "[['位置:挺好', '价格:贵', '态度:好', '感觉:合适'],\n",
       " ['性价比:低', '价格:贵'],\n",
       " ['服务态度:服务态度一般'],\n",
       " ['收费:贵'],\n",
       " ['服务态度:好', '细节:差劲'],\n",
       " ['火锅:好吃', '服务态度:好'],\n",
       " ['服务人员:服务人员一般'],\n",
       " ['酥肉:不好吃', '味道:咸'],\n",
       " ['酥肉:不好吃', '牛肉:好'],\n",
       " ['服务人员:服务人员一般', '感觉:好'],\n",
       " ['服务态度:差', '菜品:不错', '菜品:还不错'],\n",
       " ['体验:差'],\n",
       " ['管理一般:'],\n",
       " ['东西:好吃'],\n",
       " ['味道:好', '味道:确实', '收银员一般:', '感觉:开心', '收银员一般:'],\n",
       " ['羊肉不错:', '环境:好', '环境:还不错', '总体:还可以'],\n",
       " ['环境:好', '服务不错:', '火锅:好吃'],\n",
       " ['味道:味道不错'],\n",
       " ['收费:贵', '菜量:一般'],\n",
       " ['味道:好', '红糖糍粑:好吃', '糍粑:好吃'],\n",
       " ['味道:一般', '价格:贵', '价格:小'],\n",
       " [],\n",
       " ['味道:还好'],\n",
       " ['菜品:新鲜', '环境:挺好', '服务态度:好'],\n",
       " ['西瓜不错:', '酸梅汤不错:'],\n",
       " ['环境:好', '环境:还不错', '服务态度:服务态度不错', '味道:味道一般', '价格:贵'],\n",
       " ['东西:赞', '水果:好', '份量:份量足'],\n",
       " ['菜品:不错', '服务人员:服务人员一般'],\n",
       " [],\n",
       " ['口感:好', '特色菜:好吃', '菜品一般:', '感觉:好'],\n",
       " [],\n",
       " ['女生:多', '价格:贵', '质量:好'],\n",
       " ['态度:差'],\n",
       " ['味道:好', '价格:贵'],\n",
       " ['价格:贵'],\n",
       " ['味道:味道不错'],\n",
       " ['感觉:好'],\n",
       " ['菜品:贵'],\n",
       " ['同事:聚会', '东西:好吃', '东西:好吃'],\n",
       " ['感觉:好'],\n",
       " ['环境:好', '量:不多', '价格:实惠', '味道:好', '味道:还不错'],\n",
       " ['牛肉:咸'],\n",
       " ['东西:好吃'],\n",
       " ['鸭血:好', '黄喉:一般'],\n",
       " ['味道:一般', '价格:贵'],\n",
       " ['肚子:一般'],\n",
       " ['价格:贵', '价格:小'],\n",
       " ['味道:挺好'],\n",
       " ['感觉:好', '粉:不错'],\n",
       " ['服务态度:服务态度一般'],\n",
       " ['东西:好吃', '价位:不低'],\n",
       " ['环境:好', '口味不错:'],\n",
       " ['鸭肠一般:', '糍粑不错:', '收费:贵', '味道:味道一般', '火锅一般:'],\n",
       " ['服务态度:差', '味道:还行'],\n",
       " ['东西:好吃'],\n",
       " [],\n",
       " ['味道:好', '环境:好', '价格:贵'],\n",
       " [],\n",
       " ['味道:一般', '价格:价格昂贵'],\n",
       " ['服务态度:差', '服务人员:服务人员一般'],\n",
       " ['东西:好吃', '价格:贵'],\n",
       " ['我喜欢:辣', '东西:赞', '圈:给力', '东西:赞', '东西:赞', '态度一般:'],\n",
       " ['两个人:多'],\n",
       " ['感觉:贵', '味道:还好', '客流量:大', '量:大', '店面:不行'],\n",
       " ['椅子:不舒服', '味道:好']]"
      ]
     },
     "execution_count": 45,
     "metadata": {},
     "output_type": "execute_result"
    }
   ],
   "source": [
    "ans"
   ]
  },
  {
   "cell_type": "code",
   "execution_count": null,
   "metadata": {},
   "outputs": [],
   "source": []
  }
 ],
 "metadata": {
  "kernelspec": {
   "display_name": "Python 3",
   "language": "python",
   "name": "python3"
  },
  "language_info": {
   "codemirror_mode": {
    "name": "ipython",
    "version": 3
   },
   "file_extension": ".py",
   "mimetype": "text/x-python",
   "name": "python",
   "nbconvert_exporter": "python",
   "pygments_lexer": "ipython3",
   "version": "3.7.4"
  }
 },
 "nbformat": 4,
 "nbformat_minor": 2
}
