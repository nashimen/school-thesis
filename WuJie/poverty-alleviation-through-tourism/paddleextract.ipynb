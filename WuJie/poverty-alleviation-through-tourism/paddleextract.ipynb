{
 "cells": [
  {
   "cell_type": "code",
   "execution_count": null,
   "metadata": {},
   "outputs": [],
   "source": [
    "from pprint import pprint\n",
    "from paddlenlp import Taskflow"
   ]
  },
  {
   "cell_type": "code",
   "execution_count": null,
   "metadata": {},
   "outputs": [
    {
     "name": "stderr",
     "output_type": "stream",
     "text": [
      "[2022-09-07 16:15:14,058] [    INFO] - Downloading model_state.pdparams from https://bj.bcebos.com/paddlenlp/taskflow/information_extraction/uie_base_v1.0/model_state.pdparams\n",
      "100%|██████████| 450M/450M [00:16<00:00, 29.1MB/s] \n",
      "[2022-09-07 16:15:31,481] [    INFO] - Downloading model_config.json from https://bj.bcebos.com/paddlenlp/taskflow/information_extraction/uie_base/model_config.json\n",
      "100%|██████████| 377/377 [00:00<00:00, 253kB/s]\n",
      "[2022-09-07 16:15:31,558] [    INFO] - Downloading vocab.txt from https://bj.bcebos.com/paddlenlp/taskflow/information_extraction/uie_base/vocab.txt\n",
      "100%|██████████| 182k/182k [00:00<00:00, 2.30MB/s]\n",
      "[2022-09-07 16:15:31,746] [    INFO] - Downloading special_tokens_map.json from https://bj.bcebos.com/paddlenlp/taskflow/information_extraction/uie_base/special_tokens_map.json\n",
      "100%|██████████| 112/112 [00:00<00:00, 106kB/s]\n",
      "[2022-09-07 16:15:31,828] [    INFO] - Downloading tokenizer_config.json from https://bj.bcebos.com/paddlenlp/taskflow/information_extraction/uie_base/tokenizer_config.json\n",
      "100%|██████████| 172/172 [00:00<00:00, 191kB/s]\n",
      "[2022-09-07 16:15:31,906] [    INFO] - We are using <class 'paddlenlp.transformers.ernie.tokenizer.ErnieTokenizer'> to load '/home/aistudio/.paddlenlp/taskflow/information_extraction/uie-base'.\n",
      "W0907 16:15:31.936683  4888 gpu_resources.cc:61] Please NOTE: device: 0, GPU Compute Capability: 7.0, Driver API Version: 11.2, Runtime API Version: 11.2\n",
      "W0907 16:15:31.940369  4888 gpu_resources.cc:91] device: 0, cuDNN Version: 8.2.\n",
      "[2022-09-07 16:15:34,484] [    INFO] - Converting to the inference model cost a little time.\n",
      "[2022-09-07 16:15:44,860] [    INFO] - The inference model save in the path:/home/aistudio/.paddlenlp/taskflow/information_extraction/uie-base/static/inference\n"
     ]
    }
   ],
   "source": [
    "schema = {'评价维度': ['观点词', '情感倾向[正向，负向]']}\n",
    "ie = Taskflow('information_extraction', schema=schema)\n"
   ]
  },
  {
   "cell_type": "code",
   "execution_count": null,
   "metadata": {},
   "outputs": [],
   "source": [
    "ie.set_schema(schema) "
   ]
  },
  {
   "cell_type": "code",
   "execution_count": null,
   "metadata": {
    "pycharm": {
     "name": "#%%\n"
    }
   },
   "outputs": [
    {
     "name": "stdout",
     "output_type": "stream",
     "text": [
      "[{'评价维度': [{'end': 20,\n",
      "            'probability': 0.9817040258681473,\n",
      "            'relations': {'情感倾向[正向，负向]': [{'probability': 0.9966142505350533,\n",
      "                                           'text': '正向'}],\n",
      "                          '观点词': [{'end': 22,\n",
      "                                   'probability': 0.957396472711558,\n",
      "                                   'start': 21,\n",
      "                                   'text': '高'}]},\n",
      "            'start': 17,\n",
      "            'text': '性价比'},\n",
      "           {'end': 2,\n",
      "            'probability': 0.9696849569741168,\n",
      "            'relations': {'情感倾向[正向，负向]': [{'probability': 0.9982153274927796,\n",
      "                                           'text': '正向'}],\n",
      "                          '观点词': [{'end': 4,\n",
      "                                   'probability': 0.9945318044652538,\n",
      "                                   'start': 2,\n",
      "                                   'text': '干净'}]},\n",
      "            'start': 0,\n",
      "            'text': '店面'}]}]\n"
     ]
    }
   ],
   "source": [
    "print(ie(\"店面干净，很清静，服务员服务热情，性价比很高，发现收银台有排队\"))"
   ]
  },
  {
   "cell_type": "code",
   "execution_count": null,
   "metadata": {},
   "outputs": [],
   "source": [
    "a=ie(\"店面干净，很清静，服务员服务热情，性价比很高，发现收银台有排队\")"
   ]
  },
  {
   "cell_type": "code",
   "execution_count": null,
   "metadata": {},
   "outputs": [
    {
     "data": {
      "text/plain": [
       "{'评价维度': [{'text': '性价比',\n",
       "   'start': 17,\n",
       "   'end': 20,\n",
       "   'probability': 0.9817040258681473,\n",
       "   'relations': {'观点词': [{'text': '高',\n",
       "      'start': 21,\n",
       "      'end': 22,\n",
       "      'probability': 0.957396472711558}],\n",
       "    '情感倾向[正向，负向]': [{'text': '正向', 'probability': 0.9966142505350533}]}},\n",
       "  {'text': '店面',\n",
       "   'start': 0,\n",
       "   'end': 2,\n",
       "   'probability': 0.9696849569741168,\n",
       "   'relations': {'观点词': [{'text': '干净',\n",
       "      'start': 2,\n",
       "      'end': 4,\n",
       "      'probability': 0.9945318044652538}],\n",
       "    '情感倾向[正向，负向]': [{'text': '正向', 'probability': 0.9982153274927796}]}}]}"
      ]
     },
     "execution_count": null,
     "metadata": {},
     "output_type": "execute_result"
    }
   ],
   "source": [
    "a[0]"
   ]
  },
  {
   "cell_type": "code",
   "execution_count": null,
   "metadata": {},
   "outputs": [
    {
     "name": "stdout",
     "output_type": "stream",
     "text": [
      "{'text': '性价比', 'start': 17, 'end': 20, 'probability': 0.9817040258681473, 'relations': {'观点词': [{'text': '高', 'start': 21, 'end': 22, 'probability': 0.957396472711558}], '情感倾向[正向，负向]': [{'text': '正向', 'probability': 0.9966142505350533}]}}\n",
      "{'text': '店面', 'start': 0, 'end': 2, 'probability': 0.9696849569741168, 'relations': {'观点词': [{'text': '干净', 'start': 2, 'end': 4, 'probability': 0.9945318044652538}], '情感倾向[正向，负向]': [{'text': '正向', 'probability': 0.9982153274927796}]}}\n"
     ]
    }
   ],
   "source": [
    "for ele in a[0]['评价维度']:\n",
    "    print(ele)"
   ]
  },
  {
   "cell_type": "code",
   "execution_count": null,
   "metadata": {},
   "outputs": [
    {
     "name": "stdout",
     "output_type": "stream",
     "text": [
      "性价比高\n",
      "店面干净\n"
     ]
    }
   ],
   "source": [
    "for ele in  a[0]['评价维度']:\n",
    "        print(str(ele['text'])+str(ele['relations']['观点词'][0]['text']))"
   ]
  },
  {
   "cell_type": "code",
   "execution_count": null,
   "metadata": {},
   "outputs": [],
   "source": [
    "import pandas as pd\n"
   ]
  },
  {
   "cell_type": "code",
   "execution_count": null,
   "metadata": {},
   "outputs": [],
   "source": [
    "data=pd.read_excel('restaurant_reviews.xlsx',header=None)"
   ]
  },
  {
   "cell_type": "code",
   "execution_count": 126,
   "metadata": {},
   "outputs": [],
   "source": [
    "list=[]\n",
    "for content in data[3]:\n",
    "    str2=''\n",
    "    a=ie(content)\n",
    "    #print(len(a[0]['评价维度']))\n",
    "    if not a[0]:\n",
    "        list.append([])\n",
    "        continue\n",
    "\n",
    "    for ele in a[0]['评价维度']:\n",
    "        if len(ele)==5:\n",
    "            if len(ele['relations'])==2:\n",
    "\n",
    "                str2+=str(ele['text'])+str(ele['relations']['观点词'][0]['text'])+' '\n",
    "            else:\n",
    "                str2+=str(ele['text'])+' '\n",
    "        elif len(ele)==4:\n",
    "            \n",
    "\n",
    "            str2+=str(ele['text'])+' '\n",
    "    list.append(str2)\n",
    "    #break\n",
    "    \n",
    "\n"
   ]
  },
  {
   "cell_type": "code",
   "execution_count": 127,
   "metadata": {},
   "outputs": [
    {
     "data": {
      "text/plain": [
       "19133"
      ]
     },
     "execution_count": 127,
     "metadata": {},
     "output_type": "execute_result"
    }
   ],
   "source": [
    "len(list)"
   ]
  },
  {
   "cell_type": "code",
   "execution_count": 128,
   "metadata": {},
   "outputs": [],
   "source": [
    "data2=pd.DataFrame(list)"
   ]
  },
  {
   "cell_type": "code",
   "execution_count": 129,
   "metadata": {},
   "outputs": [
    {
     "data": {
      "text/html": [
       "<div>\n",
       "<style scoped>\n",
       "    .dataframe tbody tr th:only-of-type {\n",
       "        vertical-align: middle;\n",
       "    }\n",
       "\n",
       "    .dataframe tbody tr th {\n",
       "        vertical-align: top;\n",
       "    }\n",
       "\n",
       "    .dataframe thead th {\n",
       "        text-align: right;\n",
       "    }\n",
       "</style>\n",
       "<table border=\"1\" class=\"dataframe\">\n",
       "  <thead>\n",
       "    <tr style=\"text-align: right;\">\n",
       "      <th></th>\n",
       "      <th>0</th>\n",
       "    </tr>\n",
       "  </thead>\n",
       "  <tbody>\n",
       "    <tr>\n",
       "      <th>0</th>\n",
       "      <td>味道好 服务周到 环境明亮</td>\n",
       "    </tr>\n",
       "    <tr>\n",
       "      <th>1</th>\n",
       "      <td>配料足 口味 牛蛙新鲜</td>\n",
       "    </tr>\n",
       "    <tr>\n",
       "      <th>2</th>\n",
       "      <td>口味正宗 服务热情 面积不大 品种不多</td>\n",
       "    </tr>\n",
       "    <tr>\n",
       "      <th>3</th>\n",
       "      <td>面料足 小店不大</td>\n",
       "    </tr>\n",
       "    <tr>\n",
       "      <th>4</th>\n",
       "      <td>味道可以</td>\n",
       "    </tr>\n",
       "    <tr>\n",
       "      <th>...</th>\n",
       "      <td>...</td>\n",
       "    </tr>\n",
       "    <tr>\n",
       "      <th>19128</th>\n",
       "      <td>烤鸭中规中矩 水平中下 装修凑合</td>\n",
       "    </tr>\n",
       "    <tr>\n",
       "      <th>19129</th>\n",
       "      <td>口味一般</td>\n",
       "    </tr>\n",
       "    <tr>\n",
       "      <th>19130</th>\n",
       "      <td>太太好吃</td>\n",
       "    </tr>\n",
       "    <tr>\n",
       "      <th>19131</th>\n",
       "      <td>位置远 服务好 烤鸭不太好吃</td>\n",
       "    </tr>\n",
       "    <tr>\n",
       "      <th>19132</th>\n",
       "      <td>服务不错 环境还不错 菜码全 味道一般</td>\n",
       "    </tr>\n",
       "  </tbody>\n",
       "</table>\n",
       "<p>19133 rows × 1 columns</p>\n",
       "</div>"
      ],
      "text/plain": [
       "                          0\n",
       "0            味道好 服务周到 环境明亮 \n",
       "1              配料足 口味 牛蛙新鲜 \n",
       "2      口味正宗 服务热情 面积不大 品种不多 \n",
       "3                 面料足 小店不大 \n",
       "4                     味道可以 \n",
       "...                     ...\n",
       "19128     烤鸭中规中矩 水平中下 装修凑合 \n",
       "19129                 口味一般 \n",
       "19130                 太太好吃 \n",
       "19131       位置远 服务好 烤鸭不太好吃 \n",
       "19132  服务不错 环境还不错 菜码全 味道一般 \n",
       "\n",
       "[19133 rows x 1 columns]"
      ]
     },
     "execution_count": 129,
     "metadata": {},
     "output_type": "execute_result"
    }
   ],
   "source": [
    "data2"
   ]
  },
  {
   "cell_type": "code",
   "execution_count": null,
   "metadata": {},
   "outputs": [],
   "source": [
    "data2.to_excel('extract.xlsx')"
   ]
  },
  {
   "cell_type": "code",
   "execution_count": null,
   "metadata": {},
   "outputs": [],
   "source": []
  }
 ],
 "metadata": {
  "kernelspec": {
   "display_name": "Python 3 (ipykernel)",
   "language": "python",
   "name": "python3"
  },
  "language_info": {
   "codemirror_mode": {
    "name": "ipython",
    "version": 3
   },
   "file_extension": ".py",
   "mimetype": "text/x-python",
   "name": "python",
   "nbconvert_exporter": "python",
   "pygments_lexer": "ipython3",
   "version": "3.7.11"
  },
  "pycharm": {
   "stem_cell": {
    "cell_type": "raw",
    "source": [],
    "metadata": {
     "collapsed": false
    }
   }
  }
 },
 "nbformat": 4,
 "nbformat_minor": 1
}