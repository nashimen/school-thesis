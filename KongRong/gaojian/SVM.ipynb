{
 "cells": [
  {
   "cell_type": "code",
   "execution_count": 1,
   "metadata": {},
   "outputs": [],
   "source": [
    "# python 3.6\n",
    "# tensorflow 2.3.1 cpu\n",
    "# sklearn.__version__ == 0.23.2\n",
    "\n",
    "import pandas as pd\n",
    "import numpy as np\n",
    "import pickle \n",
    "from time import time\n",
    "\n",
    "from sklearn.utils import shuffle # shuffle打乱样本的顺序，它只会打乱样本的顺序，每个样本的数据维持不变。\n",
    "from sklearn.metrics import f1_score, precision_score, recall_score, accuracy_score\n",
    "from sklearn.svm import SVC\n",
    "from sklearn.ensemble import RandomForestClassifier\n",
    "from sklearn.linear_model import LogisticRegression\n",
    "\n",
    "from sklearn.preprocessing import StandardScaler\n",
    "from sklearn.model_selection import StratifiedShuffleSplit\n",
    "from sklearn.model_selection import GridSearchCV\n",
    "\n",
    "from sklearn.feature_extraction.text import TfidfVectorizer, CountVectorizer\n",
    "\n",
    "def save_obj(obj, file):\n",
    "    with open(file, 'wb') as f:\n",
    "        pickle.dump(obj, f, pickle.HIGHEST_PROTOCOL)\n",
    "\n",
    "def load_obj(file ):\n",
    "    with open(file, 'rb') as f:\n",
    "        return pickle.load(f)\n",
    "  "
   ]
  },
  {
   "cell_type": "code",
   "execution_count": 2,
   "metadata": {},
   "outputs": [],
   "source": [
    "# 评价指标函数\n",
    "def f1_score_get(precision, recall):\n",
    "    # tf.keras.backend.epsilon() 的值为 1e-07\n",
    "    # 1.0e-7 == tf.keras.backend.epsilon() 得到 True\n",
    "    f1 = 2 * precision * recall/( precision + recall + 1.0e-7 )\n",
    "    return f1\n",
    "\n",
    "\n",
    "# valid_y:真实标签\n",
    "# predict_y:预测标签\n",
    "def eval_p_r_f1(valid_y, predict_y):\n",
    "    # precision 0 1 2 3\n",
    "    # setting labels=[pos_label] and average != 'binary' will report scores for that label only.\n",
    "    accuracy = accuracy_score(\n",
    "                    y_true = valid_y,\n",
    "                    y_pred = predict_y\n",
    "                              )\n",
    "    \n",
    "    precision_0 = precision_score(\n",
    "                    y_true = valid_y,\n",
    "                    y_pred = predict_y,\n",
    "                    labels = [0],\n",
    "                    pos_label = 0,\n",
    "                    average = 'micro'\n",
    "                    )\n",
    "\n",
    "    precision_1 = precision_score(\n",
    "                    y_true = valid_y,\n",
    "                    y_pred = predict_y,\n",
    "                    labels = [1],\n",
    "                    pos_label = 1,\n",
    "                    average = 'micro'\n",
    "                    )\n",
    "\n",
    "    precision_2 = precision_score(\n",
    "                    y_true = valid_y,\n",
    "                    y_pred = predict_y,\n",
    "                    labels = [2],\n",
    "                    pos_label = 2,\n",
    "                    average = 'micro'\n",
    "                    )\n",
    "\n",
    "    precision_3 = precision_score(\n",
    "                    y_true = valid_y,\n",
    "                    y_pred = predict_y,\n",
    "                    labels = [3],\n",
    "                    pos_label = 3,\n",
    "                    average = 'micro'\n",
    "                    )\n",
    "    # recall 0 1 2 3\n",
    "    recall_0 = recall_score(\n",
    "                    y_true = valid_y,\n",
    "                    y_pred = predict_y,\n",
    "                    labels = [0],\n",
    "                    pos_label = 0,\n",
    "                    average = 'micro'\n",
    "                    )\n",
    "\n",
    "    recall_1 = recall_score(\n",
    "                    y_true = valid_y,\n",
    "                    y_pred = predict_y,\n",
    "                    labels = [1],\n",
    "                    pos_label = 1,\n",
    "                    average = 'micro'\n",
    "                    )\n",
    "\n",
    "    recall_2 = recall_score(\n",
    "                    y_true = valid_y,\n",
    "                    y_pred = predict_y,\n",
    "                    labels = [2],\n",
    "                    pos_label = 2,\n",
    "                    average = 'micro'\n",
    "                    )\n",
    "\n",
    "    recall_3 = recall_score(\n",
    "                    y_true = valid_y,\n",
    "                    y_pred = predict_y,\n",
    "                    labels = [3],\n",
    "                    pos_label = 3,\n",
    "                    average = 'micro'\n",
    "                    )\n",
    "    \n",
    "    # f1_score 0 1 2 3\n",
    "    f1_score_0 = f1_score_get( precision_0, recall_0 )\n",
    "    f1_score_1 = f1_score_get( precision_1, recall_1 )\n",
    "    f1_score_2 = f1_score_get( precision_2, recall_2 )\n",
    "    f1_score_3 = f1_score_get( precision_3, recall_3 )\n",
    "    \n",
    "    #由y_true 计算各标签权重\n",
    "    num_0 = np.sum( valid_y == 0 )\n",
    "    num_1 = np.sum( valid_y == 1 )\n",
    "    num_2 = np.sum( valid_y == 2 )\n",
    "    num_3 = np.sum( valid_y == 3 )\n",
    "    \n",
    "    total = num_0 + num_1 + num_2 + num_3\n",
    "    p_0 = num_0/total\n",
    "    p_1 = num_1/total\n",
    "    p_2 = num_2/total\n",
    "    p_3 = num_3/total\n",
    "    \n",
    "    precision_avg = p_0 * precision_0 + p_1 * precision_1 + p_2 * precision_2 + p_3 * precision_3\n",
    "    recall_avg = p_0 * recall_0 + p_1 * recall_1 + p_2 * recall_2 + p_3 * recall_3\n",
    "    f1_score_avg = p_0 * f1_score_0 + p_1 * f1_score_1 + p_2 * f1_score_2 + p_3 * f1_score_3\n",
    "    \n",
    "    return accuracy, precision_avg, recall_avg, f1_score_avg"
   ]
  },
  {
   "cell_type": "raw",
   "metadata": {},
   "source": [
    "1 读取训练集，验证集"
   ]
  },
  {
   "cell_type": "code",
   "execution_count": 3,
   "metadata": {},
   "outputs": [
    {
     "name": "stdout",
     "output_type": "stream",
     "text": [
      "(105000, 2)\n",
      "(15000, 2)\n"
     ]
    }
   ],
   "source": [
    "# train = pd.read_csv('./data/train_location.csv', usecols=['content', 'label'])\n",
    "# valid = pd.read_csv('./data/valid_location.csv', usecols=['content', 'label'])\n",
    "\n",
    "# train = pd.read_csv('./data/train_service.csv', usecols=['content', 'label'])\n",
    "# valid = pd.read_csv('./data/valid_service.csv', usecols=['content', 'label'])\n",
    "\n",
    "# train = pd.read_csv('./data/train_price.csv', usecols=['content', 'label'])\n",
    "# valid = pd.read_csv('./data/valid_price.csv', usecols=['content', 'label'])\n",
    "\n",
    "# train = pd.read_csv('./data/train_environment.csv', usecols=['content', 'label'])\n",
    "# valid = pd.read_csv('./data/valid_environment.csv', usecols=['content', 'label'])\n",
    "\n",
    "train = pd.read_csv( './data/train_dish.csv', usecols = ['content', 'label'] )\n",
    "valid = pd.read_csv( './data/valid_dish.csv', usecols = ['content', 'label'] )\n",
    "\n",
    "train = shuffle(train, random_state = 2020)\n",
    "valid = shuffle(valid, random_state = 2020)\n",
    "\n",
    "train = shuffle(train, random_state = 42)\n",
    "valid = shuffle(valid, random_state = 42)\n",
    "\n",
    "print(train.shape)\n",
    "print(valid.shape)\n"
   ]
  },
  {
   "cell_type": "code",
   "execution_count": 4,
   "metadata": {
    "collapsed": true
   },
   "outputs": [
    {
     "name": "stdout",
     "output_type": "stream",
     "text": [
      "[' 大众点评 十月份 VIP 会员 聚餐 十几个 兴趣相投 吃货们 点评 聚在 周日 晚上 万家 一炉 划分 音乐餐厅 自助餐厅 两个 区域 装修 看图片 点评 菜品 十七个 菜 只说 我爱吃 先赞 农家 扒茄条 口感鲜香 入口微甜 老少咸宜 必点 菜品 鲍汁 一品豆腐 入味 不油腻 美味 金丝虾球 也很 不错 土豆丝 炸的 酥脆 小朋友 肯定 喜欢 我还 喜欢 七彩鱼 皮 越往 吃芥末 越冲 过瘾 米粉肉 甜而不腻 美味 田七 爽口凉菜 酸汤肥牛 … 量少 … 吃了 忘记 味道 … 说 的是 音乐餐厅 八点 点歌 爱唱歌 的你 千万不要错过 媲美 专业音响 … ', ' 第一次 抽中 同城 试吃活动 很开心 ✌ ️ 听说 小伙伴 都是 老会员 参加 活动 好有爱 ❤ ️ 这家店 位置 不是很好 找 到了 饭店 没什么 顾客 地理位置 劣势 原因 服务员态度 搞错 家的 菜名 尴尬 招牌菜 金椒脆鱼 锅 每个人 习惯 鱼 口感 可以接受 还有一个 猪脚 虾 很好吃 猪脚 炖 入味 凉拌 蕨根粉 入味 酸辣粉 味道 店里 凉拌菜 觉 居多 凉拌菜 各类 肉品 锅 火锅 会吃 过多 拒绝 店家 提议 火锅 榴莲飞饼 味道 很好 榴莲肉 多点 更好 说 点的 口水鸡 味道 也很 鸡肉 上夹 肥 油太多 腻味 桂花糖莲藕 江浙菜馆 做的好 凉拌菜 川菜馆 特别 感受 果汁 兑水 兑多 没什么味道 店家 可以增加 炒菜 顾客 多点 选择 ^ _ ^ ', ' 同事 阅兵 小长假 美好 广场 吃的 说是 好吃 下班 直奔 旗舰店 想着 肯定 好吃 点菜 妹纸 讲 不出 道道 问 好吃 说 没吃过 上个 点评 评价点 上菜 搞不清 桌球 错了 想着 价位 比某 底捞 便宜 算了 人也 不容易 锅底 开吃 刚涮 根干 吧吧 鸭肠 妹纸 加汤 可乐 来瓶 茶杯 喝了 上了 三 玻璃杯 华丽丽 的囧 饮料杯 干嘛 早上 服务 无力吐槽 菜品 鸭肠 挂 架子 上的 看着 甩 洋气 表面 干 一夹 长条 缠 架子 自己动手 放 盘子 里 夹 琥珀 肉 口感 还能 吃到 筋 原谅我 牙口 不好 鲜毛肚 也是醉了 黑黑白白 都有 安慰 极品毛肚 求 新鲜 就好 天下 宽粉 味道还行 QQ 弹弹 极品 五花肉 真的很 极品 白白的 肥肉 无从 下口 首相 丸子 姜 喜欢 吃姜 这是 不愉快 拔草 之旅 全程 一只苍蝇 飞啊飞 ~ ']\n"
     ]
    }
   ],
   "source": [
    "# 读取 X\n",
    "# 不同aspect，文本数据一样，不同体现在标签上\n",
    "\n",
    "train_x = train.content.values.tolist()\n",
    "valid_x = valid.content.values.tolist()\n",
    "\n",
    "print(train_x[0:3])"
   ]
  },
  {
   "cell_type": "code",
   "execution_count": 5,
   "metadata": {},
   "outputs": [],
   "source": [
    "# 读取 Y\n",
    "# 标签\n",
    "train_y = train.label.values+2\n",
    "valid_y = valid.label.values+2"
   ]
  },
  {
   "cell_type": "raw",
   "metadata": {},
   "source": [
    "tf-idf"
   ]
  },
  {
   "cell_type": "code",
   "execution_count": 6,
   "metadata": {},
   "outputs": [
    {
     "name": "stdout",
     "output_type": "stream",
     "text": [
      "120000\n"
     ]
    }
   ],
   "source": [
    "n_features = 1000\n",
    "\n",
    "tfidf_vectorizer = TfidfVectorizer(\n",
    "                                        max_df=0.95, \n",
    "                                        min_df=2,\n",
    "                                        max_features=n_features,\n",
    "                                   )\n",
    "corpus = train_x + valid_x\n",
    "print(len(corpus))\n",
    "\n",
    "t0 = time()\n",
    "tfidf = tfidf_vectorizer.fit(corpus)"
   ]
  },
  {
   "cell_type": "code",
   "execution_count": 7,
   "metadata": {},
   "outputs": [
    {
     "name": "stdout",
     "output_type": "stream",
     "text": [
      "done in 8.390s.\n"
     ]
    }
   ],
   "source": [
    "print(\"done in %0.3fs.\" % (time() - t0))\n",
    "train_x = tfidf.transform(train_x)\n",
    "valid_x = tfidf.transform(valid_x)"
   ]
  },
  {
   "cell_type": "code",
   "execution_count": 8,
   "metadata": {},
   "outputs": [
    {
     "name": "stdout",
     "output_type": "stream",
     "text": [
      "(105000, 1000)\n",
      "(15000, 1000)\n"
     ]
    }
   ],
   "source": [
    "print(train_x.shape)\n",
    "print(valid_x.shape)"
   ]
  },
  {
   "cell_type": "raw",
   "metadata": {},
   "source": [
    "SVM"
   ]
  },
  {
   "cell_type": "code",
   "execution_count": 9,
   "metadata": {},
   "outputs": [],
   "source": [
    "# 标准化\n",
    "scaler = StandardScaler(with_mean=False)\n",
    "train_x = scaler.fit_transform(train_x)\n",
    "valid_x = scaler.fit_transform(valid_x)"
   ]
  },
  {
   "cell_type": "code",
   "execution_count": null,
   "metadata": {
    "jupyter": {
     "source_hidden": true
    }
   },
   "outputs": [],
   "source": [
    "# The fit time scales at least quadratically with the number of samples and may be impractical beyond tens of thousands of samples.\n",
    "# 拟合时间至少与样本数量成二次关系，如果样本数量超过数万个，拟合时间可能不现实\n",
    "# Parameters of the RBF Kernel:\n",
    "#     C: A low C makes the decision surface smooth, while a high C aims at classifying all training examples correctly.\n",
    "#     gamma: gamma defines how much influence a single training example has. \n",
    "#            The larger gamma is, the closer other examples must be to be affected.\n",
    "#            gamma定义了单个训练示例的影响程度。gamma越大，其他例子受到的影响就越小。\n",
    "# One is advised to use sklearn.model_selection.GridSearchCV with C and gamma spaced exponentially指数地 far apart to choose good values.\n",
    "# RBF SVM parameters example：https://scikit-learn.org/stable/auto_examples/svm/plot_rbf_parameters.html#sphx-glr-auto-examples-svm-plot-rbf-parameters-py\n",
    "\n",
    "'''\n",
    "clf_svm = SVC(\n",
    "                C=1.0, # Regularization parameter.\n",
    "                       # The strength of the regularization is inversely proportional to C. \n",
    "                       # Must be strictly positive. The penalty is a squared l2 penalty.\n",
    "                    \n",
    "                kernel='rbf', \n",
    "                degree=3, \n",
    "                gamma='scale', # Changed in version 0.22: The default value of gamma changed from ‘auto’ to ‘scale’.\n",
    "                coef0=0.0, \n",
    "                shrinking=True, \n",
    "                probability=False, \n",
    "                tol=0.001, \n",
    "                cache_size=200, \n",
    "                class_weight=None, \n",
    "                verbose=False, \n",
    "                max_iter=-1, \n",
    "                decision_function_shape='ovr', \n",
    "                break_ties=False, \n",
    "                random_state=None\n",
    "            )\n",
    "\n",
    "'''"
   ]
  },
  {
   "cell_type": "code",
   "execution_count": 10,
   "metadata": {},
   "outputs": [],
   "source": [
    "C_range = [0.01, 0.1, 1.0, 10.0] # C越小，正则化程度越大，拟合程度越小\n",
    "\n",
    "# 默认值 1.0"
   ]
  },
  {
   "cell_type": "raw",
   "metadata": {},
   "source": [
    "location 调参 训练、验证"
   ]
  },
  {
   "cell_type": "code",
   "execution_count": null,
   "metadata": {
    "collapsed": true,
    "jupyter": {
     "source_hidden": true
    }
   },
   "outputs": [
    {
     "name": "stdout",
     "output_type": "stream",
     "text": [
      "C = 0.010000\n",
      "[LibSVM]done in 68998.195s.\n",
      "accuracy：0.60273\n",
      "precision_avg: 0.71359\n",
      "recall_avg: 0.60273\n",
      "f1_score_avg: 0.50388\n",
      ">>>>>>>>>>>>>>>>>>>>>>>>>>>>>>>>>>>>>>>>>>>>>>\n",
      "C = 0.100000\n",
      "[LibSVM]done in 60378.139s.\n",
      "accuracy：0.70640\n",
      "precision_avg: 0.79372\n",
      "recall_avg: 0.70640\n",
      "f1_score_avg: 0.73060\n",
      ">>>>>>>>>>>>>>>>>>>>>>>>>>>>>>>>>>>>>>>>>>>>>>\n",
      "C = 1.000000\n",
      "[LibSVM]"
     ]
    }
   ],
   "source": [
    "for C in C_range:\n",
    "    print('C = %f' % C)\n",
    "    clf = SVC(\n",
    "                C = C,\n",
    "                kernel= 'rbf',\n",
    "                gamma= 'scale', # Changed in version 0.22: The default value of gamma changed from ‘auto’ to ‘scale’.\n",
    "                probability= True,\n",
    "                class_weight= 'balanced',\n",
    "                verbose= True,\n",
    "                decision_function_shape= 'ovr',\n",
    "                random_state = 2020\n",
    "             )\n",
    "    # 训练过程\n",
    "    t0 = time()\n",
    "    clf.fit(train_x, train_y)\n",
    "    print(\"done in %0.3fs.\" % (time() - t0))\n",
    "    predict_y = clf.predict(valid_x)\n",
    "    # predict_prob_y = clf.predict_proba(valid_x)\n",
    "    # 评价指标值\n",
    "    accuracy, precision_avg, recall_avg, f1_score_avg = eval_p_r_f1(valid_y, predict_y)\n",
    "    print('accuracy：%0.5f' % accuracy)\n",
    "    print('precision_avg: %0.5f' % precision_avg)\n",
    "    print('recall_avg: %0.5f' % recall_avg)\n",
    "    print('f1_score_avg: %0.5f' % f1_score_avg)\n",
    "    print('>>>>>>>>>>>>>>>>>>>>>>>>>>>>>>>>>>>>>>>>>>>>>>')\n",
    "            "
   ]
  },
  {
   "cell_type": "raw",
   "metadata": {},
   "source": [
    "service 训练、验证"
   ]
  },
  {
   "cell_type": "code",
   "execution_count": 10,
   "metadata": {
    "collapsed": true,
    "jupyter": {
     "source_hidden": true
    }
   },
   "outputs": [
    {
     "name": "stdout",
     "output_type": "stream",
     "text": [
      "[LibSVM]done in 60629.044s.\n",
      "accuracy：0.62547\n",
      "precision_avg: 0.63636\n",
      "recall_avg: 0.62547\n",
      "f1_score_avg: 0.61923\n",
      ">>>>>>>>>>>>>>>>>>>>>>>>>>>>>>>>>>>>>>>>>>>>>>\n"
     ]
    }
   ],
   "source": [
    "clf = SVC(\n",
    "            C = 1.0,\n",
    "            kernel= 'rbf',\n",
    "            gamma= 'scale', # Changed in version 0.22: The default value of gamma changed from ‘auto’ to ‘scale’.\n",
    "            probability= True,\n",
    "            class_weight= 'balanced',\n",
    "            verbose= True,\n",
    "            decision_function_shape= 'ovr',\n",
    "            random_state = 2020\n",
    "         )\n",
    "# 训练过程\n",
    "t0 = time()\n",
    "clf.fit(train_x, train_y)\n",
    "print(\"done in %0.3fs.\" % (time() - t0))\n",
    "predict_y = clf.predict(valid_x)\n",
    "# predict_prob_y = clf.predict_proba(valid_x)\n",
    "# 评价指标值\n",
    "accuracy, precision_avg, recall_avg, f1_score_avg = eval_p_r_f1(valid_y, predict_y)\n",
    "print('accuracy：%0.5f' % accuracy)\n",
    "print('precision_avg: %0.5f' % precision_avg)\n",
    "print('recall_avg: %0.5f' % recall_avg)\n",
    "print('f1_score_avg: %0.5f' % f1_score_avg)\n",
    "print('>>>>>>>>>>>>>>>>>>>>>>>>>>>>>>>>>>>>>>>>>>>>>>')\n"
   ]
  },
  {
   "cell_type": "raw",
   "metadata": {},
   "source": [
    "price 训练、验证"
   ]
  },
  {
   "cell_type": "code",
   "execution_count": 18,
   "metadata": {
    "collapsed": true,
    "jupyter": {
     "source_hidden": true
    }
   },
   "outputs": [
    {
     "name": "stdout",
     "output_type": "stream",
     "text": [
      "[LibSVM]done in 64033.915s.\n",
      "accuracy：0.59480\n",
      "precision_avg: 0.60604\n",
      "recall_avg: 0.59480\n",
      "f1_score_avg: 0.58688\n",
      ">>>>>>>>>>>>>>>>>>>>>>>>>>>>>>>>>>>>>>>>>>>>>>\n"
     ]
    }
   ],
   "source": [
    "clf = SVC(\n",
    "            C = 1.0,\n",
    "            kernel= 'rbf',\n",
    "            gamma= 'scale', # Changed in version 0.22: The default value of gamma changed from ‘auto’ to ‘scale’.\n",
    "            probability= True,\n",
    "            class_weight= 'balanced',\n",
    "            verbose= True,\n",
    "            decision_function_shape= 'ovr',\n",
    "            random_state = 2020\n",
    "         )\n",
    "# 训练过程\n",
    "t0 = time()\n",
    "clf.fit(train_x, train_y)\n",
    "print(\"done in %0.3fs.\" % (time() - t0))\n",
    "predict_y = clf.predict(valid_x)\n",
    "# predict_prob_y = clf.predict_proba(valid_x)\n",
    "# 评价指标值\n",
    "accuracy, precision_avg, recall_avg, f1_score_avg = eval_p_r_f1(valid_y, predict_y)\n",
    "print('accuracy：%0.5f' % accuracy)\n",
    "print('precision_avg: %0.5f' % precision_avg)\n",
    "print('recall_avg: %0.5f' % recall_avg)\n",
    "print('f1_score_avg: %0.5f' % f1_score_avg)\n",
    "print('>>>>>>>>>>>>>>>>>>>>>>>>>>>>>>>>>>>>>>>>>>>>>>')\n"
   ]
  },
  {
   "cell_type": "raw",
   "metadata": {},
   "source": [
    "env 训练、验证"
   ]
  },
  {
   "cell_type": "code",
   "execution_count": 26,
   "metadata": {
    "collapsed": true,
    "jupyter": {
     "source_hidden": true
    }
   },
   "outputs": [
    {
     "name": "stdout",
     "output_type": "stream",
     "text": [
      "[LibSVM]done in 53816.905s.\n",
      "accuracy：0.66827\n",
      "precision_avg: 0.67005\n",
      "recall_avg: 0.66827\n",
      "f1_score_avg: 0.66068\n",
      ">>>>>>>>>>>>>>>>>>>>>>>>>>>>>>>>>>>>>>>>>>>>>>\n"
     ]
    }
   ],
   "source": [
    "clf = SVC(\n",
    "            C = 1.0,\n",
    "            kernel= 'rbf',\n",
    "            gamma= 'scale', # Changed in version 0.22: The default value of gamma changed from ‘auto’ to ‘scale’.\n",
    "            probability= True,\n",
    "            class_weight= 'balanced',\n",
    "            verbose= True,\n",
    "            decision_function_shape= 'ovr',\n",
    "            random_state = 2020\n",
    "         )\n",
    "# 训练过程\n",
    "t0 = time()\n",
    "clf.fit(train_x, train_y)\n",
    "print(\"done in %0.3fs.\" % (time() - t0))\n",
    "predict_y = clf.predict(valid_x)\n",
    "# predict_prob_y = clf.predict_proba(valid_x)\n",
    "# 评价指标值\n",
    "accuracy, precision_avg, recall_avg, f1_score_avg = eval_p_r_f1(valid_y, predict_y)\n",
    "print('accuracy：%0.5f' % accuracy)\n",
    "print('precision_avg: %0.5f' % precision_avg)\n",
    "print('recall_avg: %0.5f' % recall_avg)\n",
    "print('f1_score_avg: %0.5f' % f1_score_avg)\n",
    "print('>>>>>>>>>>>>>>>>>>>>>>>>>>>>>>>>>>>>>>>>>>>>>>')\n"
   ]
  },
  {
   "cell_type": "raw",
   "metadata": {},
   "source": [
    "dish 训练、验证"
   ]
  },
  {
   "cell_type": "code",
   "execution_count": 12,
   "metadata": {
    "collapsed": true,
    "jupyter": {
     "source_hidden": true
    }
   },
   "outputs": [
    {
     "name": "stdout",
     "output_type": "stream",
     "text": [
      "[LibSVM]done in 45912.060s.\n",
      "accuracy：0.65340\n",
      "precision_avg: 0.68567\n",
      "recall_avg: 0.65340\n",
      "f1_score_avg: 0.66606\n",
      ">>>>>>>>>>>>>>>>>>>>>>>>>>>>>>>>>>>>>>>>>>>>>>\n"
     ]
    }
   ],
   "source": [
    "clf = SVC(\n",
    "            C = 1.0,\n",
    "            kernel= 'rbf',\n",
    "            gamma= 'scale', # Changed in version 0.22: The default value of gamma changed from ‘auto’ to ‘scale’.\n",
    "            probability= True,\n",
    "            class_weight= 'balanced',\n",
    "            verbose= True,\n",
    "            decision_function_shape= 'ovr',\n",
    "            random_state = 2020\n",
    "         )\n",
    "# 训练过程\n",
    "t0 = time()\n",
    "clf.fit(train_x, train_y)\n",
    "print(\"done in %0.3fs.\" % (time() - t0))\n",
    "predict_y = clf.predict(valid_x)\n",
    "# predict_prob_y = clf.predict_proba(valid_x)\n",
    "# 评价指标值\n",
    "accuracy, precision_avg, recall_avg, f1_score_avg = eval_p_r_f1(valid_y, predict_y)\n",
    "print('accuracy：%0.5f' % accuracy)\n",
    "print('precision_avg: %0.5f' % precision_avg)\n",
    "print('recall_avg: %0.5f' % recall_avg)\n",
    "print('f1_score_avg: %0.5f' % f1_score_avg)\n",
    "print('>>>>>>>>>>>>>>>>>>>>>>>>>>>>>>>>>>>>>>>>>>>>>>')\n"
   ]
  },
  {
   "cell_type": "raw",
   "metadata": {},
   "source": [
    "service 调参"
   ]
  },
  {
   "cell_type": "code",
   "execution_count": 11,
   "metadata": {
    "collapsed": true,
    "jupyter": {
     "outputs_hidden": true,
     "source_hidden": true
    }
   },
   "outputs": [
    {
     "name": "stdout",
     "output_type": "stream",
     "text": [
      "C = 0.010000\n",
      "[LibSVM]done in 50869.633s.\n",
      "accuracy：0.36240\n",
      "precision_avg: 0.62643\n",
      "recall_avg: 0.36240\n",
      "f1_score_avg: 0.25639\n",
      ">>>>>>>>>>>>>>>>>>>>>>>>>>>>>>>>>>>>>>>>>>>>>>\n",
      "C = 0.100000\n",
      "[LibSVM]done in 46093.488s.\n",
      "accuracy：0.57033\n",
      "precision_avg: 0.62008\n",
      "recall_avg: 0.57033\n",
      "f1_score_avg: 0.56691\n",
      ">>>>>>>>>>>>>>>>>>>>>>>>>>>>>>>>>>>>>>>>>>>>>>\n",
      "C = 1.000000\n",
      "[LibSVM]done in 56561.114s.\n",
      "accuracy：0.62547\n",
      "precision_avg: 0.63636\n",
      "recall_avg: 0.62547\n",
      "f1_score_avg: 0.61923\n",
      ">>>>>>>>>>>>>>>>>>>>>>>>>>>>>>>>>>>>>>>>>>>>>>\n",
      "C = 10.000000\n",
      "[LibSVM]done in 107227.098s.\n",
      "accuracy：0.65173\n",
      "precision_avg: 0.61704\n",
      "recall_avg: 0.65173\n",
      "f1_score_avg: 0.61642\n",
      ">>>>>>>>>>>>>>>>>>>>>>>>>>>>>>>>>>>>>>>>>>>>>>\n"
     ]
    }
   ],
   "source": [
    "for C in C_range:\n",
    "    print('C = %f' % C)\n",
    "    clf = SVC(\n",
    "                C = C,\n",
    "                kernel= 'rbf',\n",
    "                gamma= 'scale', # Changed in version 0.22: The default value of gamma changed from ‘auto’ to ‘scale’.\n",
    "                probability= True,\n",
    "                class_weight= 'balanced',\n",
    "                verbose= True,\n",
    "                decision_function_shape= 'ovr',\n",
    "                random_state = 2020\n",
    "             )\n",
    "    # 训练过程\n",
    "    t0 = time()\n",
    "    clf.fit(train_x, train_y)\n",
    "    print(\"done in %0.3fs.\" % (time() - t0))\n",
    "    predict_y = clf.predict(valid_x)\n",
    "    # predict_prob_y = clf.predict_proba(valid_x)\n",
    "    # 评价指标值\n",
    "    accuracy, precision_avg, recall_avg, f1_score_avg = eval_p_r_f1(valid_y, predict_y)\n",
    "    print('accuracy：%0.5f' % accuracy)\n",
    "    print('precision_avg: %0.5f' % precision_avg)\n",
    "    print('recall_avg: %0.5f' % recall_avg)\n",
    "    print('f1_score_avg: %0.5f' % f1_score_avg)\n",
    "    print('>>>>>>>>>>>>>>>>>>>>>>>>>>>>>>>>>>>>>>>>>>>>>>')\n",
    "            "
   ]
  },
  {
   "cell_type": "raw",
   "metadata": {},
   "source": [
    "price 调参"
   ]
  },
  {
   "cell_type": "code",
   "execution_count": 11,
   "metadata": {
    "collapsed": true,
    "jupyter": {
     "outputs_hidden": true,
     "source_hidden": true
    }
   },
   "outputs": [
    {
     "name": "stdout",
     "output_type": "stream",
     "text": [
      "C = 0.010000\n",
      "[LibSVM]done in 46237.830s.\n",
      "accuracy：0.34527\n",
      "precision_avg: 0.55059\n",
      "recall_avg: 0.34527\n",
      "f1_score_avg: 0.27572\n",
      ">>>>>>>>>>>>>>>>>>>>>>>>>>>>>>>>>>>>>>>>>>>>>>\n",
      "C = 0.100000\n",
      "[LibSVM]done in 42361.197s.\n",
      "accuracy：0.53460\n",
      "precision_avg: 0.58560\n",
      "recall_avg: 0.53460\n",
      "f1_score_avg: 0.52511\n",
      ">>>>>>>>>>>>>>>>>>>>>>>>>>>>>>>>>>>>>>>>>>>>>>\n",
      "C = 1.000000\n",
      "[LibSVM]done in 58379.965s.\n",
      "accuracy：0.59480\n",
      "precision_avg: 0.60604\n",
      "recall_avg: 0.59480\n",
      "f1_score_avg: 0.58688\n",
      ">>>>>>>>>>>>>>>>>>>>>>>>>>>>>>>>>>>>>>>>>>>>>>\n",
      "C = 10.000000\n",
      "[LibSVM]done in 123987.400s.\n",
      "accuracy：0.59600\n",
      "precision_avg: 0.57326\n",
      "recall_avg: 0.59600\n",
      "f1_score_avg: 0.57177\n",
      ">>>>>>>>>>>>>>>>>>>>>>>>>>>>>>>>>>>>>>>>>>>>>>\n"
     ]
    }
   ],
   "source": [
    "for C in C_range:\n",
    "    print('C = %f' % C)\n",
    "    clf = SVC(\n",
    "                C = C,\n",
    "                kernel= 'rbf',\n",
    "                gamma= 'scale', # Changed in version 0.22: The default value of gamma changed from ‘auto’ to ‘scale’.\n",
    "                probability= True,\n",
    "                class_weight= 'balanced',\n",
    "                verbose= True,\n",
    "                decision_function_shape= 'ovr',\n",
    "                random_state = 2020\n",
    "             )\n",
    "    # 训练过程\n",
    "    t0 = time()\n",
    "    clf.fit(train_x, train_y)\n",
    "    print(\"done in %0.3fs.\" % (time() - t0))\n",
    "    predict_y = clf.predict(valid_x)\n",
    "    # predict_prob_y = clf.predict_proba(valid_x)\n",
    "    # 评价指标值\n",
    "    accuracy, precision_avg, recall_avg, f1_score_avg = eval_p_r_f1(valid_y, predict_y)\n",
    "    print('accuracy：%0.5f' % accuracy)\n",
    "    print('precision_avg: %0.5f' % precision_avg)\n",
    "    print('recall_avg: %0.5f' % recall_avg)\n",
    "    print('f1_score_avg: %0.5f' % f1_score_avg)\n",
    "    print('>>>>>>>>>>>>>>>>>>>>>>>>>>>>>>>>>>>>>>>>>>>>>>')\n",
    "            "
   ]
  },
  {
   "cell_type": "raw",
   "metadata": {},
   "source": [
    "env 调参"
   ]
  },
  {
   "cell_type": "code",
   "execution_count": null,
   "metadata": {
    "collapsed": true,
    "jupyter": {
     "outputs_hidden": true,
     "source_hidden": true
    }
   },
   "outputs": [
    {
     "name": "stdout",
     "output_type": "stream",
     "text": [
      "C = 0.010000\n",
      "[LibSVM]done in 50577.191s.\n",
      "accuracy：0.41400\n",
      "precision_avg: 0.60619\n",
      "recall_avg: 0.41400\n",
      "f1_score_avg: 0.31356\n",
      ">>>>>>>>>>>>>>>>>>>>>>>>>>>>>>>>>>>>>>>>>>>>>>\n",
      "C = 0.100000\n",
      "[LibSVM]done in 46436.640s.\n",
      "accuracy：0.58100\n",
      "precision_avg: 0.65747\n",
      "recall_avg: 0.58100\n",
      "f1_score_avg: 0.59587\n",
      ">>>>>>>>>>>>>>>>>>>>>>>>>>>>>>>>>>>>>>>>>>>>>>\n",
      "C = 1.000000\n",
      "[LibSVM]done in 59374.150s.\n",
      "accuracy：0.66827\n",
      "precision_avg: 0.67005\n",
      "recall_avg: 0.66827\n",
      "f1_score_avg: 0.66068\n",
      ">>>>>>>>>>>>>>>>>>>>>>>>>>>>>>>>>>>>>>>>>>>>>>\n",
      "C = 10.000000\n",
      "[LibSVM]"
     ]
    }
   ],
   "source": [
    "for C in C_range:\n",
    "    print('C = %f' % C)\n",
    "    clf = SVC(\n",
    "                C = C,\n",
    "                kernel= 'rbf',\n",
    "                gamma= 'scale', # Changed in version 0.22: The default value of gamma changed from ‘auto’ to ‘scale’.\n",
    "                probability= True,\n",
    "                class_weight= 'balanced',\n",
    "                verbose= True,\n",
    "                decision_function_shape= 'ovr',\n",
    "                random_state = 2020\n",
    "             )\n",
    "    # 训练过程\n",
    "    t0 = time()\n",
    "    clf.fit(train_x, train_y)\n",
    "    print(\"done in %0.3fs.\" % (time() - t0))\n",
    "    predict_y = clf.predict(valid_x)\n",
    "    # predict_prob_y = clf.predict_proba(valid_x)\n",
    "    # 评价指标值\n",
    "    accuracy, precision_avg, recall_avg, f1_score_avg = eval_p_r_f1(valid_y, predict_y)\n",
    "    print('accuracy：%0.5f' % accuracy)\n",
    "    print('precision_avg: %0.5f' % precision_avg)\n",
    "    print('recall_avg: %0.5f' % recall_avg)\n",
    "    print('f1_score_avg: %0.5f' % f1_score_avg)\n",
    "    print('>>>>>>>>>>>>>>>>>>>>>>>>>>>>>>>>>>>>>>>>>>>>>>')\n",
    "            "
   ]
  },
  {
   "cell_type": "raw",
   "metadata": {},
   "source": [
    "dish 调参"
   ]
  },
  {
   "cell_type": "code",
   "execution_count": 11,
   "metadata": {
    "collapsed": true
   },
   "outputs": [
    {
     "name": "stdout",
     "output_type": "stream",
     "text": [
      "C = 0.010000\n",
      "[LibSVM]done in 57460.372s.\n",
      "accuracy：0.64420\n",
      "precision_avg: 0.64453\n",
      "recall_avg: 0.64420\n",
      "f1_score_avg: 0.62997\n",
      ">>>>>>>>>>>>>>>>>>>>>>>>>>>>>>>>>>>>>>>>>>>>>>\n",
      "C = 0.100000\n",
      "[LibSVM]done in 48125.855s.\n",
      "accuracy：0.58147\n",
      "precision_avg: 0.68456\n",
      "recall_avg: 0.58147\n",
      "f1_score_avg: 0.61393\n",
      ">>>>>>>>>>>>>>>>>>>>>>>>>>>>>>>>>>>>>>>>>>>>>>\n",
      "C = 1.000000\n",
      "[LibSVM]done in 49224.899s.\n",
      "accuracy：0.65340\n",
      "precision_avg: 0.68567\n",
      "recall_avg: 0.65340\n",
      "f1_score_avg: 0.66606\n",
      ">>>>>>>>>>>>>>>>>>>>>>>>>>>>>>>>>>>>>>>>>>>>>>\n",
      "C = 10.000000\n",
      "[LibSVM]done in 109481.897s.\n",
      "accuracy：0.69447\n",
      "precision_avg: 0.65396\n",
      "recall_avg: 0.69447\n",
      "f1_score_avg: 0.65616\n",
      ">>>>>>>>>>>>>>>>>>>>>>>>>>>>>>>>>>>>>>>>>>>>>>\n"
     ]
    }
   ],
   "source": [
    "for C in C_range:\n",
    "    print('C = %f' % C)\n",
    "    clf = SVC(\n",
    "                C = C,\n",
    "                kernel= 'rbf',\n",
    "                gamma= 'scale', # Changed in version 0.22: The default value of gamma changed from ‘auto’ to ‘scale’.\n",
    "                probability= True,\n",
    "                class_weight= 'balanced',\n",
    "                verbose= True,\n",
    "                decision_function_shape= 'ovr',\n",
    "                random_state = 2020\n",
    "             )\n",
    "    # 训练过程\n",
    "    t0 = time()\n",
    "    clf.fit(train_x, train_y)\n",
    "    print(\"done in %0.3fs.\" % (time() - t0))\n",
    "    predict_y = clf.predict(valid_x)\n",
    "    # predict_prob_y = clf.predict_proba(valid_x)\n",
    "    # 评价指标值\n",
    "    accuracy, precision_avg, recall_avg, f1_score_avg = eval_p_r_f1(valid_y, predict_y)\n",
    "    print('accuracy：%0.5f' % accuracy)\n",
    "    print('precision_avg: %0.5f' % precision_avg)\n",
    "    print('recall_avg: %0.5f' % recall_avg)\n",
    "    print('f1_score_avg: %0.5f' % f1_score_avg)\n",
    "    print('>>>>>>>>>>>>>>>>>>>>>>>>>>>>>>>>>>>>>>>>>>>>>>')\n",
    "            "
   ]
  },
  {
   "cell_type": "code",
   "execution_count": null,
   "metadata": {},
   "outputs": [],
   "source": []
  },
  {
   "cell_type": "code",
   "execution_count": null,
   "metadata": {},
   "outputs": [],
   "source": []
  }
 ],
 "metadata": {
  "kernelspec": {
   "display_name": "python3",
   "language": "python",
   "name": "python3"
  },
  "language_info": {
   "codemirror_mode": {
    "name": "ipython",
    "version": 3
   },
   "file_extension": ".py",
   "mimetype": "text/x-python",
   "name": "python",
   "nbconvert_exporter": "python",
   "pygments_lexer": "ipython3",
   "version": "3.6.4"
  }
 },
 "nbformat": 4,
 "nbformat_minor": 4
}
